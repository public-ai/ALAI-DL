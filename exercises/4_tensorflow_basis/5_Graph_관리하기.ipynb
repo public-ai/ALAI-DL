{
 "cells": [
  {
   "cell_type": "markdown",
   "metadata": {
    "colab_type": "text",
    "id": "JwXVP87OO6RW"
   },
   "source": [
    "## Graph 관리하기 "
   ]
  },
  {
   "cell_type": "code",
   "execution_count": 3,
   "metadata": {},
   "outputs": [],
   "source": [
    "%matplotlib inline\n",
    "import tensorflow as tf \n",
    "from skimage import data\n",
    "import numpy as np\n",
    "\n",
    "import matplotlib.pyplot as plt"
   ]
  },
  {
   "cell_type": "markdown",
   "metadata": {
    "colab_type": "text",
    "id": "M1nhRjsbO6Rl"
   },
   "source": [
    "##  문제 1. collections 만들기 및 추가하기 \n",
    "\n",
    "skimage library 에는 영상처리에서 자주 사용되는 여러 사진들이 저장 되어 있습니다.<br>\n",
    "이 이미지들을 constant 텐서로 만들어서 Collection에 담아주세요.<br>\n",
    "* 흑백 이미지는 gray 란 이름의 collection 으로 넣어주세요.\n",
    "* 컬러 이미지는 color 란 이름의 collection 으로 넣어주세요."
   ]
  },
  {
   "cell_type": "code",
   "execution_count": 5,
   "metadata": {
    "colab": {},
    "colab_type": "code",
    "id": "RXbTCBg-b1LM",
    "outputId": "c7d5404e-a353-4666-ba0e-09570ab25eea"
   },
   "outputs": [],
   "source": [
    "# 우선 실행해 주세요.\n",
    "tf.reset_default_graph()\n",
    "\n",
    "# gray Image\n",
    "gray_0 = tf.constant(data.camera() ,name='camera')\n",
    "gray_1 = tf.constant(data.binary_blobs(), name='binary_blobs')\n",
    "gray_2 = tf.constant(data.checkerboard(), name='checkerboard')\n",
    "gray_3 = tf.constant(data.coins(), name='coins')\n",
    "gray_4 = tf.constant(data.horse(), name='horse')\n",
    "\n",
    "# color Image\n",
    "color_0 = tf.constant(data.chelsea() ,name='chelsea')\n",
    "color_1 = tf.constant(data.astronaut(), name='astronaut')\n",
    "color_2 = tf.constant(data.hubble_deep_field(), name='hubble_deep_field')"
   ]
  },
  {
   "cell_type": "markdown",
   "metadata": {},
   "source": [
    "#### 답안지 입력란\n",
    "* 아래에 답을 서술하여 주세요"
   ]
  },
  {
   "cell_type": "code",
   "execution_count": 6,
   "metadata": {},
   "outputs": [],
   "source": []
  },
  {
   "cell_type": "markdown",
   "metadata": {},
   "source": [
    "#### 정답 확인\n",
    "* 정답이 아래와 같이 나타나면 됩니다."
   ]
  },
  {
   "cell_type": "code",
   "execution_count": 7,
   "metadata": {},
   "outputs": [
    {
     "name": "stdout",
     "output_type": "stream",
     "text": [
      "[<tf.Tensor 'camera:0' shape=(512, 512) dtype=uint8>, <tf.Tensor 'binary_blobs:0' shape=(512, 512) dtype=bool>, <tf.Tensor 'checkerboard:0' shape=(200, 200) dtype=uint8>, <tf.Tensor 'coins:0' shape=(303, 384) dtype=uint8>, <tf.Tensor 'horse:0' shape=(328, 400) dtype=bool>]\n",
      "[<tf.Tensor 'chelsea:0' shape=(300, 451, 3) dtype=uint8>, <tf.Tensor 'astronaut:0' shape=(512, 512, 3) dtype=uint8>, <tf.Tensor 'hubble_deep_field:0' shape=(872, 1000, 3) dtype=uint8>]\n"
     ]
    }
   ],
   "source": [
    "print(tf.get_collection('gray'))\n",
    "print(tf.get_collection('color'))"
   ]
  },
  {
   "cell_type": "markdown",
   "metadata": {},
   "source": [
    "#### 정답 화면\n",
    "````python\n",
    ">>> tf.get_collection('gray') \n",
    "[<tf.Tensor 'camera:0' shape=(512, 512) dtype=uint8>,\n",
    "<tf.Tensor 'binary_blobs:0' shape=(512, 512) dtype=bool>,\n",
    "<tf.Tensor 'checkerboard:0' shape=(200, 200) dtype=uint8>,\n",
    "<tf.Tensor 'coins:0' shape=(303, 384) dtype=uint8>,\n",
    "<tf.Tensor 'horse:0' shape=(328, 400) dtype=bool>]\n",
    "  \n",
    ">>> tf.get_collection('color') \n",
    "[<tf.Tensor 'chelsea:0' shape=(300, 451, 3) dtype=uint8>,\n",
    "<tf.Tensor 'astronaut:0' shape=(512, 512, 3) dtype=uint8>,\n",
    "<tf.Tensor 'hubble_deep_field:0' shape=(872, 1000, 3) dtype=uint8>]\n",
    "````"
   ]
  },
  {
   "cell_type": "markdown",
   "metadata": {
    "colab_type": "text",
    "id": "WuxKIhVQyl2f"
   },
   "source": [
    "##  문제 2 특정 collection 에만 추가하기 \n",
    "\n",
    "+ 3개의 변수를 만들어주세요. 변수이름은 각각 'var0 , var1, var2' 로 만들어 주세요 \n",
    "+ 그리고 아래 조건에 따라 해당 변수들을 알맞은 collection 에 추가해 주세요.\n",
    "+ 변수 1 → 'variables' , 'var1' collection 에 추가 \n",
    "+ 변수 2 → 'var2', 'trainable_variables' 에추가 \n",
    "+ 변수 3 → 'var3' collection 에**만** 추가 "
   ]
  },
  {
   "cell_type": "code",
   "execution_count": 19,
   "metadata": {
    "colab": {},
    "colab_type": "code",
    "id": "PiB0384Zyl2g"
   },
   "outputs": [],
   "source": [
    "# 우선 실행해 주세요\n",
    "tf.reset_default_graph()"
   ]
  },
  {
   "cell_type": "markdown",
   "metadata": {},
   "source": [
    "#### 답안지 입력란\n",
    "* 아래에 답을 서술하여 주세요"
   ]
  },
  {
   "cell_type": "code",
   "execution_count": 20,
   "metadata": {},
   "outputs": [],
   "source": []
  },
  {
   "cell_type": "markdown",
   "metadata": {},
   "source": [
    "#### 정답 확인\n",
    "* 정답이 아래와 같이 나타나면 됩니다."
   ]
  },
  {
   "cell_type": "code",
   "execution_count": 21,
   "metadata": {},
   "outputs": [
    {
     "data": {
      "text/plain": [
       "['var1', 'variables', 'trainable_variables', 'var2', 'var3']"
      ]
     },
     "execution_count": 21,
     "metadata": {},
     "output_type": "execute_result"
    }
   ],
   "source": [
    "graph = tf.get_default_graph()\n",
    "graph.get_all_collection_keys()\n",
    "# 아래와 같이 나오면 정답입니다.\n",
    "# ['var1', 'variables', 'trainable_variables', 'var2', 'var3']"
   ]
  },
  {
   "cell_type": "code",
   "execution_count": 22,
   "metadata": {},
   "outputs": [
    {
     "data": {
      "text/plain": [
       "[<tf.Variable 'var1:0' shape=() dtype=int32_ref>,\n",
       " <tf.Variable 'var2:0' shape=() dtype=int32_ref>]"
      ]
     },
     "execution_count": 22,
     "metadata": {},
     "output_type": "execute_result"
    }
   ],
   "source": [
    "graph.get_collection('trainable_variables')\n",
    "# 아래와 같이 나오면 정답입니다.\n",
    "# [<tf.Variable 'var1:0' shape=() dtype=int32_ref>,\n",
    "# <tf.Variable 'var2:0' shape=() dtype=int32_ref>]"
   ]
  },
  {
   "cell_type": "code",
   "execution_count": 24,
   "metadata": {},
   "outputs": [
    {
     "data": {
      "text/plain": [
       "[<tf.Variable 'var1:0' shape=() dtype=int32_ref>]"
      ]
     },
     "execution_count": 24,
     "metadata": {},
     "output_type": "execute_result"
    }
   ],
   "source": [
    "graph.get_collection('variables')\n",
    "# 아래와 같이 나오면 정답입니다.\n",
    "# [<tf.Variable 'var1:0' shape=() dtype=int32_ref>]"
   ]
  },
  {
   "cell_type": "code",
   "execution_count": 26,
   "metadata": {},
   "outputs": [
    {
     "data": {
      "text/plain": [
       "[<tf.Variable 'var1:0' shape=() dtype=int32_ref>]"
      ]
     },
     "execution_count": 26,
     "metadata": {},
     "output_type": "execute_result"
    }
   ],
   "source": [
    "graph.get_collection('var1')\n",
    "# 아래와 같이 나오면 정답입니다.\n",
    "# [<tf.Variable 'var1:0' shape=() dtype=int32_ref>]"
   ]
  },
  {
   "cell_type": "code",
   "execution_count": 28,
   "metadata": {},
   "outputs": [
    {
     "data": {
      "text/plain": [
       "[<tf.Variable 'var2:0' shape=() dtype=int32_ref>]"
      ]
     },
     "execution_count": 28,
     "metadata": {},
     "output_type": "execute_result"
    }
   ],
   "source": [
    "graph.get_collection('var2')\n",
    "# 아래와 같이 나오면 정답입니다.\n",
    "# [<tf.Variable 'var2:0' shape=() dtype=int32_ref>]"
   ]
  },
  {
   "cell_type": "code",
   "execution_count": 29,
   "metadata": {},
   "outputs": [
    {
     "data": {
      "text/plain": [
       "[<tf.Variable 'var3:0' shape=() dtype=int32_ref>]"
      ]
     },
     "execution_count": 29,
     "metadata": {},
     "output_type": "execute_result"
    }
   ],
   "source": [
    "graph.get_collection('var3')\n",
    "# 아래와 같이 나오면 정답입니다.\n",
    "# [<tf.Variable 'var3:0' shape=() dtype=int32_ref>]"
   ]
  },
  {
   "cell_type": "markdown",
   "metadata": {
    "colab_type": "text",
    "id": "Ls82TZY3i4qg"
   },
   "source": [
    "##  문제 3. 피보나치 수열 \n",
    "\n",
    "--- \n",
    "텐서 플로우를 이용해 피보나치 수열을 생성합니다 <br>\n",
    "10번째 피보나치 수열의 값을 구하는 코드를 작성하세요 <br>\n",
    "\n",
    "**example** <br>\n",
    "1번째 1, 1 = 2 → 1번째 피보나치 수열의 값 <br>\n",
    "2번쩨 1, 2 = 3 → 2번째 피보나치 수열의 값 <br>\n",
    "3번째 2, 3 = 5 → 3번째 피보나치 수열의 값 <br>\n",
    "4번째 5, 3 = 8 → 4번째 피보나치 수열의 값 <br><br>\n",
    "...<br><br>\n",
    "10번째 정답은 144 입니다. <br>\n",
    "해당 값이 나올수 있도록 tensorflow 코드를 작성해 주세요<br>\n",
    "<br>"
   ]
  },
  {
   "cell_type": "code",
   "execution_count": 72,
   "metadata": {
    "colab": {},
    "colab_type": "code",
    "id": "AHeNcG4yiaV-"
   },
   "outputs": [],
   "source": [
    "# 우선 실행해 주세요.\n",
    "tf.reset_default_graph()\n",
    "prev = tf.Variable(1.)\n",
    "now = tf.Variable(1.)\n",
    "tmp = tf.Variable(0.)"
   ]
  },
  {
   "cell_type": "markdown",
   "metadata": {},
   "source": [
    "#### 답안지 입력란\n",
    "* 아래에 답을 서술하여 주세요\n",
    "* `update_ops`를 실행하면 값이 갱신되도록 해주세요."
   ]
  },
  {
   "cell_type": "code",
   "execution_count": 88,
   "metadata": {},
   "outputs": [],
   "source": []
  },
  {
   "cell_type": "markdown",
   "metadata": {},
   "source": [
    "#### 정답 확인\n",
    "* 정답이 아래와 같이 나타나면 됩니다."
   ]
  },
  {
   "cell_type": "code",
   "execution_count": 94,
   "metadata": {
    "colab": {},
    "colab_type": "code",
    "id": "vSTQ35Beyl2k",
    "outputId": "c984de97-c0d5-4fc2-9ebf-4489521e38b6"
   },
   "outputs": [
    {
     "name": "stdout",
     "output_type": "stream",
     "text": [
      "89.0 144.0\n"
     ]
    }
   ],
   "source": [
    "sess = tf.Session()\n",
    "sess.run(tf.global_variables_initializer())\n",
    "for i in range(10):\n",
    "    _ , prev_value, curr_value = sess.run([update_ops, prev, now])\n",
    "print(prev_value, curr_value)\n",
    "\n",
    "# 아래와 같이 나오면 정답입니다.\n",
    "# 89.0 144.0"
   ]
  },
  {
   "cell_type": "markdown",
   "metadata": {},
   "source": [
    "#  \n",
    "\n",
    "<hr>\n",
    "<div style = \"background-image: url('https://algorithmai.io/static/media/logo.665798c4.png');background-repeat: no-repeat; background-position: right; background-size: 220px 40px; padding : 5px 10px 5px 5px;\">\n",
    "    Copyright(c) 2019 by Public AI. All rights reserved.<br>\n",
    "    Writen by PAI, SangJae Kang ( rocketgrowthsj@publicai.co.kr )  last updated on 2019/04/17\n",
    "</div>\n",
    "<hr>"
   ]
  }
 ],
 "metadata": {
  "colab": {
   "collapsed_sections": [],
   "name": "최종_5_Graph_관리하기.ipynb",
   "provenance": [],
   "toc_visible": true,
   "version": "0.3.2"
  },
  "kernelspec": {
   "display_name": "Python 3",
   "language": "python",
   "name": "python3"
  },
  "language_info": {
   "codemirror_mode": {
    "name": "ipython",
    "version": 3
   },
   "file_extension": ".py",
   "mimetype": "text/x-python",
   "name": "python",
   "nbconvert_exporter": "python",
   "pygments_lexer": "ipython3",
   "version": "3.6.5"
  }
 },
 "nbformat": 4,
 "nbformat_minor": 1
}
