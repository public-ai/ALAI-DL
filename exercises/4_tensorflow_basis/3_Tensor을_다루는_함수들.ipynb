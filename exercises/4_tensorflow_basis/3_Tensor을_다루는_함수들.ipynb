{
 "cells": [
  {
   "cell_type": "markdown",
   "metadata": {
    "colab_type": "text",
    "id": "eg-FXzMUL4R2"
   },
   "source": [
    "## Tensor을 다루는 함수들"
   ]
  },
  {
   "cell_type": "code",
   "execution_count": 1,
   "metadata": {
    "colab": {},
    "colab_type": "code",
    "id": "TL3R2x-FL4R3"
   },
   "outputs": [],
   "source": [
    "%matplotlib inline\n",
    "import numpy as np\n",
    "import tensorflow as tf \n",
    "import matplotlib.pyplot as plt\n",
    "import pandas as pd\n",
    "\n",
    "tf.enable_eager_execution()\n",
    "np.set_printoptions(formatter={\n",
    "    'float_kind': lambda x: \"{0:0.3f}\".format(x)})"
   ]
  },
  {
   "cell_type": "markdown",
   "metadata": {
    "colab_type": "text",
    "id": "zIjgHJPxL4SB"
   },
   "source": [
    "## 예제 데이터 )  califonia housing price\n",
    "\n",
    "MedInc : 행정 구역 내 소득의 중앙값<br>\n",
    "HouseAge : 행정 구역 내 주택 연식의 중앙값<br>\n",
    "AveRooms : 평균 방 갯수<br>\n",
    "AveBedrms : 평균 침실 갯수<br>\n",
    "Population : 행정 구역 내 인구 수<br>\n",
    "AveOccup : 평균 자가 비율<br>\n",
    "Latitude : 해당 행정 구역의 위도<br>\n",
    "Longitude : 해당 행정 구역의 경도<br>"
   ]
  },
  {
   "cell_type": "code",
   "execution_count": 2,
   "metadata": {},
   "outputs": [
    {
     "data": {
      "text/html": [
       "<div>\n",
       "<style scoped>\n",
       "    .dataframe tbody tr th:only-of-type {\n",
       "        vertical-align: middle;\n",
       "    }\n",
       "\n",
       "    .dataframe tbody tr th {\n",
       "        vertical-align: top;\n",
       "    }\n",
       "\n",
       "    .dataframe thead th {\n",
       "        text-align: right;\n",
       "    }\n",
       "</style>\n",
       "<table border=\"1\" class=\"dataframe\">\n",
       "  <thead>\n",
       "    <tr style=\"text-align: right;\">\n",
       "      <th></th>\n",
       "      <th>MedInc</th>\n",
       "      <th>HouseAge</th>\n",
       "      <th>AveRooms</th>\n",
       "      <th>AveBedrms</th>\n",
       "      <th>Population</th>\n",
       "      <th>AveOccup</th>\n",
       "      <th>Latitude</th>\n",
       "      <th>Longitude</th>\n",
       "    </tr>\n",
       "  </thead>\n",
       "  <tbody>\n",
       "    <tr>\n",
       "      <th>0</th>\n",
       "      <td>8.3252</td>\n",
       "      <td>41.0</td>\n",
       "      <td>6.984127</td>\n",
       "      <td>1.023810</td>\n",
       "      <td>322.0</td>\n",
       "      <td>2.555556</td>\n",
       "      <td>37.88</td>\n",
       "      <td>-122.23</td>\n",
       "    </tr>\n",
       "    <tr>\n",
       "      <th>1</th>\n",
       "      <td>8.3014</td>\n",
       "      <td>21.0</td>\n",
       "      <td>6.238137</td>\n",
       "      <td>0.971880</td>\n",
       "      <td>2401.0</td>\n",
       "      <td>2.109842</td>\n",
       "      <td>37.86</td>\n",
       "      <td>-122.22</td>\n",
       "    </tr>\n",
       "    <tr>\n",
       "      <th>2</th>\n",
       "      <td>7.2574</td>\n",
       "      <td>52.0</td>\n",
       "      <td>8.288136</td>\n",
       "      <td>1.073446</td>\n",
       "      <td>496.0</td>\n",
       "      <td>2.802260</td>\n",
       "      <td>37.85</td>\n",
       "      <td>-122.24</td>\n",
       "    </tr>\n",
       "    <tr>\n",
       "      <th>3</th>\n",
       "      <td>5.6431</td>\n",
       "      <td>52.0</td>\n",
       "      <td>5.817352</td>\n",
       "      <td>1.073059</td>\n",
       "      <td>558.0</td>\n",
       "      <td>2.547945</td>\n",
       "      <td>37.85</td>\n",
       "      <td>-122.25</td>\n",
       "    </tr>\n",
       "    <tr>\n",
       "      <th>4</th>\n",
       "      <td>3.8462</td>\n",
       "      <td>52.0</td>\n",
       "      <td>6.281853</td>\n",
       "      <td>1.081081</td>\n",
       "      <td>565.0</td>\n",
       "      <td>2.181467</td>\n",
       "      <td>37.85</td>\n",
       "      <td>-122.25</td>\n",
       "    </tr>\n",
       "  </tbody>\n",
       "</table>\n",
       "</div>"
      ],
      "text/plain": [
       "   MedInc  HouseAge  AveRooms  AveBedrms  Population  AveOccup  Latitude  \\\n",
       "0  8.3252      41.0  6.984127   1.023810       322.0  2.555556     37.88   \n",
       "1  8.3014      21.0  6.238137   0.971880      2401.0  2.109842     37.86   \n",
       "2  7.2574      52.0  8.288136   1.073446       496.0  2.802260     37.85   \n",
       "3  5.6431      52.0  5.817352   1.073059       558.0  2.547945     37.85   \n",
       "4  3.8462      52.0  6.281853   1.081081       565.0  2.181467     37.85   \n",
       "\n",
       "   Longitude  \n",
       "0    -122.23  \n",
       "1    -122.22  \n",
       "2    -122.24  \n",
       "3    -122.25  \n",
       "4    -122.25  "
      ]
     },
     "execution_count": 2,
     "metadata": {},
     "output_type": "execute_result"
    }
   ],
   "source": [
    "from sklearn.datasets import fetch_california_housing\n",
    "california = fetch_california_housing()\n",
    "\n",
    "clf_data = california.data\n",
    "\n",
    "df = pd.DataFrame(california.data,columns=california.feature_names)\n",
    "df.head()"
   ]
  },
  {
   "cell_type": "markdown",
   "metadata": {
    "colab_type": "text",
    "id": "yD9-o--XU0og"
   },
   "source": [
    "## 문제 1. 평균 보다 큰 값의 갯수 세기\n",
    "\n",
    "+ 각 열의 평균보다 큰 값의 갯수를 출력해 보세요. <br>"
   ]
  },
  {
   "cell_type": "code",
   "execution_count": 3,
   "metadata": {},
   "outputs": [
    {
     "data": {
      "text/plain": [
       "<tf.Tensor: id=0, shape=(20640, 8), dtype=float64, numpy=\n",
       "array([[8.325, 41.000, 6.984, ..., 2.556, 37.880, -122.230],\n",
       "       [8.301, 21.000, 6.238, ..., 2.110, 37.860, -122.220],\n",
       "       [7.257, 52.000, 8.288, ..., 2.802, 37.850, -122.240],\n",
       "       ...,\n",
       "       [1.700, 17.000, 5.206, ..., 2.326, 39.430, -121.220],\n",
       "       [1.867, 18.000, 5.330, ..., 2.123, 39.430, -121.320],\n",
       "       [2.389, 16.000, 5.255, ..., 2.617, 39.370, -121.240]])>"
      ]
     },
     "execution_count": 3,
     "metadata": {},
     "output_type": "execute_result"
    }
   ],
   "source": [
    "# 우선 실행해주세요\n",
    "tf_data = tf.constant(df.values)\n",
    "tf_data"
   ]
  },
  {
   "cell_type": "markdown",
   "metadata": {},
   "source": [
    "#### 답안지 입력란\n",
    "* 아래에 답을 서술하여 주세요\n",
    "* 결과는 `answer1`에 담아주세요"
   ]
  },
  {
   "cell_type": "code",
   "execution_count": 4,
   "metadata": {
    "colab": {},
    "colab_type": "code",
    "id": "Cri3jkneT7Oj"
   },
   "outputs": [],
   "source": []
  },
  {
   "cell_type": "markdown",
   "metadata": {},
   "source": [
    "#### 정답 확인\n",
    "* 정답을 입력한 후, 아래를 실행시키면 정답인지 확인합니다."
   ]
  },
  {
   "cell_type": "code",
   "execution_count": 13,
   "metadata": {},
   "outputs": [
    {
     "name": "stdout",
     "output_type": "stream",
     "text": [
      "정답입니다!!!\n"
     ]
    }
   ],
   "source": [
    "from numpy.testing import assert_array_equal\n",
    "\n",
    "assert 'answer1' in globals(), \"결과를 answer1 변수에 담아주세요!, answer1 값을 보고 평가합니다.\"\n",
    "\n",
    "A = df[df>df.mean()].count().values\n",
    "\n",
    "if \"numpy\" in dir(answer1):\n",
    "    answer1 = answer1.numpy()\n",
    "\n",
    "assert_array_equal(A, answer1,\"\\n\\n정답은 \\n{}\\n입니다. 다시 확인해 주세요\".format(A))\n",
    "print(\"정답입니다!!!\")"
   ]
  },
  {
   "cell_type": "markdown",
   "metadata": {
    "colab_type": "text",
    "id": "1bGSRH7EWUIl"
   },
   "source": [
    "## 문제 2. HouseAge가 20년 이상의 데이터 가져오기\n",
    "\n",
    "* HouseAge(2번째 열)가 20보다 크거나 같은 데이터들을 가져와 주세요"
   ]
  },
  {
   "cell_type": "code",
   "execution_count": 6,
   "metadata": {
    "colab": {
     "base_uri": "https://localhost:8080/",
     "height": 153
    },
    "colab_type": "code",
    "id": "TIYWOVOBWUIl",
    "outputId": "ababc446-ab79-481f-f702-9f8678ad3759"
   },
   "outputs": [
    {
     "data": {
      "text/plain": [
       "<tf.Tensor: id=9, shape=(20640, 8), dtype=float64, numpy=\n",
       "array([[8.325, 41.000, 6.984, ..., 2.556, 37.880, -122.230],\n",
       "       [8.301, 21.000, 6.238, ..., 2.110, 37.860, -122.220],\n",
       "       [7.257, 52.000, 8.288, ..., 2.802, 37.850, -122.240],\n",
       "       ...,\n",
       "       [1.700, 17.000, 5.206, ..., 2.326, 39.430, -121.220],\n",
       "       [1.867, 18.000, 5.330, ..., 2.123, 39.430, -121.320],\n",
       "       [2.389, 16.000, 5.255, ..., 2.617, 39.370, -121.240]])>"
      ]
     },
     "execution_count": 6,
     "metadata": {},
     "output_type": "execute_result"
    }
   ],
   "source": [
    "# 우선 실행해주세요\n",
    "tf_data = tf.constant(df.values)\n",
    "tf_data"
   ]
  },
  {
   "cell_type": "markdown",
   "metadata": {},
   "source": [
    "#### 답안지 입력란\n",
    "* 아래에 답을 서술하여 주세요\n",
    "* 결과는 `answer2`에 담아주세요"
   ]
  },
  {
   "cell_type": "code",
   "execution_count": 7,
   "metadata": {},
   "outputs": [],
   "source": []
  },
  {
   "cell_type": "markdown",
   "metadata": {},
   "source": [
    "#### 정답 확인\n",
    "* 정답을 입력한 후, 아래를 실행시키면 정답인지 확인합니다."
   ]
  },
  {
   "cell_type": "code",
   "execution_count": 8,
   "metadata": {},
   "outputs": [
    {
     "name": "stdout",
     "output_type": "stream",
     "text": [
      "정답입니다!!!\n"
     ]
    }
   ],
   "source": [
    "from numpy.testing import assert_array_equal\n",
    "\n",
    "assert 'answer2' in globals(), \"결과를 answer2 변수에 담아주세요!\"\n",
    "\n",
    "A = df[df.HouseAge>=20].values\n",
    "\n",
    "if \"numpy\" in dir(answer2):\n",
    "    answer2 = answer2.numpy()\n",
    "\n",
    "assert_array_equal(A, answer2,\n",
    "                   \"\\n\\n정답은 \\n{}\\n입니다. 다시 확인해 주세요\".format(A))\n",
    "print(\"정답입니다!!!\")"
   ]
  },
  {
   "cell_type": "markdown",
   "metadata": {},
   "source": [
    "## 문제 3. HouseAge가 50년 이상의 행 인덱스 가져오기\n",
    "* HouseAge(2번째 열)가 50보다 크거나 같은 데이터의 인덱스를 가져와 주세요"
   ]
  },
  {
   "cell_type": "code",
   "execution_count": 9,
   "metadata": {},
   "outputs": [
    {
     "data": {
      "text/plain": [
       "<tf.Tensor: id=45, shape=(20640, 8), dtype=float64, numpy=\n",
       "array([[8.325, 41.000, 6.984, ..., 2.556, 37.880, -122.230],\n",
       "       [8.301, 21.000, 6.238, ..., 2.110, 37.860, -122.220],\n",
       "       [7.257, 52.000, 8.288, ..., 2.802, 37.850, -122.240],\n",
       "       ...,\n",
       "       [1.700, 17.000, 5.206, ..., 2.326, 39.430, -121.220],\n",
       "       [1.867, 18.000, 5.330, ..., 2.123, 39.430, -121.320],\n",
       "       [2.389, 16.000, 5.255, ..., 2.617, 39.370, -121.240]])>"
      ]
     },
     "execution_count": 9,
     "metadata": {},
     "output_type": "execute_result"
    }
   ],
   "source": [
    "# 우선 실행해주세요\n",
    "tf_data = tf.constant(df.values)\n",
    "tf_data"
   ]
  },
  {
   "cell_type": "markdown",
   "metadata": {},
   "source": [
    "#### 답안지 입력란\n",
    "* 아래에 답을 서술하여 주세요\n",
    "* 결과는 `answer3`에 담아주세요"
   ]
  },
  {
   "cell_type": "code",
   "execution_count": 10,
   "metadata": {},
   "outputs": [],
   "source": []
  },
  {
   "cell_type": "markdown",
   "metadata": {},
   "source": [
    "#### 정답 확인\n",
    "* 정답을 입력한 후, 아래를 실행시키면 정답인지 확인합니다."
   ]
  },
  {
   "cell_type": "code",
   "execution_count": 11,
   "metadata": {},
   "outputs": [
    {
     "name": "stdout",
     "output_type": "stream",
     "text": [
      "정답입니다!!!\n"
     ]
    }
   ],
   "source": [
    "from numpy.testing import assert_array_equal\n",
    "\n",
    "assert 'answer3' in globals(), \"결과를 answer3 변수에 담아주세요!\"\n",
    "\n",
    "A = np.where(df.HouseAge>=50)[0]\n",
    "\n",
    "if \"numpy\" in dir(answer3):\n",
    "    answer3 = answer3.numpy()\n",
    "\n",
    "assert_array_equal(A, answer3.ravel(),\n",
    "                   \"\\n\\n정답은 \\n{}\\n입니다. 다시 확인해 주세요\".format(A))\n",
    "print(\"정답입니다!!!\")"
   ]
  },
  {
   "cell_type": "markdown",
   "metadata": {
    "colab": {},
    "colab_type": "code",
    "id": "_ePqM8cZ-D9_"
   },
   "source": [
    "#  \n",
    "\n",
    "<hr>\n",
    "<div style = \"background-image: url('https://algorithmai.io/static/media/logo.665798c4.png');background-repeat: no-repeat; background-position: right; background-size: 220px 40px; padding : 5px 10px 5px 5px;\">\n",
    "    Copyright(c) 2019 by Public AI. All rights reserved.<br>\n",
    "    Writen by PAI, SangJae Kang ( rocketgrowthsj@publicai.co.kr )  last updated on 2019/02/21\n",
    "</div>\n",
    "<hr>"
   ]
  }
 ],
 "metadata": {
  "colab": {
   "collapsed_sections": [],
   "name": "3_excercise_Tensor을 다루는 함수들.ipynb",
   "provenance": [],
   "toc_visible": true,
   "version": "0.3.2"
  },
  "kernelspec": {
   "display_name": "Python 3",
   "language": "python",
   "name": "python3"
  },
  "language_info": {
   "codemirror_mode": {
    "name": "ipython",
    "version": 3
   },
   "file_extension": ".py",
   "mimetype": "text/x-python",
   "name": "python",
   "nbconvert_exporter": "python",
   "pygments_lexer": "ipython3",
   "version": "3.6.5"
  }
 },
 "nbformat": 4,
 "nbformat_minor": 1
}
