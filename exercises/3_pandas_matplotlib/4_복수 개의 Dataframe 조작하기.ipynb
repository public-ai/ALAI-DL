{
 "cells": [
  {
   "cell_type": "markdown",
   "metadata": {},
   "source": [
    "## 복수 개의 Dataframe 조작하기"
   ]
  },
  {
   "cell_type": "code",
   "execution_count": 1,
   "metadata": {},
   "outputs": [],
   "source": [
    "# 우선 실행해 주세요\n",
    "import pandas as pd\n",
    "import numpy as np"
   ]
  },
  {
   "cell_type": "markdown",
   "metadata": {},
   "source": [
    "## 예제 데이터 ) 책에 대한 데이터 베이스\n",
    "\n",
    "\n",
    "독자와 저자에 대한 책 정보들을 DataFrame으로 저장한 후, 다양하게 합쳐보겠습니다.<br>\n",
    "\n",
    "#### 저자와 책에 대한 데이터셋\n",
    "\n",
    "| 저자 | 책 |\n",
    "|---|---|\n",
    "|김훈|자전거여행|\n",
    "|김훈|칼의노래|\n",
    "|김훈|바다의기별|\n",
    "|보통|불안|\n",
    "|보통|철학의위안|\n",
    "|보통|우리는사랑일까|\n",
    "|보통|동물원에가기|"
   ]
  },
  {
   "cell_type": "code",
   "execution_count": 32,
   "metadata": {},
   "outputs": [],
   "source": [
    "authors = [[\"김훈\",\"자전거여행\"],\n",
    "[\"김훈\",\"칼의노래\"],\n",
    "[\"김훈\",\"바다의기별\"],\n",
    "[\"보통\",\"불안\"],\n",
    "[\"보통\",\"철학의위안\"],\n",
    "[\"보통\",\"우리는사랑일까\"],\n",
    "[\"보통\",\"동물원에가기\"]]\n",
    "author_df = pd.DataFrame(authors,columns=[\"저자\",'책'])"
   ]
  },
  {
   "cell_type": "markdown",
   "metadata": {},
   "source": [
    "#### 독자와 책에 대한 데이터셋\n",
    "|독자|책|\n",
    "|----|----|\n",
    "|은욱|자전거여행|\n",
    "|은욱|불안|\n",
    "|은욱|우리는사랑일까|\n",
    "|지수|현의노래|\n",
    "|우진|현의노래|\n",
    "|지원|불안|\n",
    "|지원|칼의노래|\n",
    "|민진|철학의위안|\n",
    "|상무|불안|\n",
    "|상무|우리는사랑일까|\n",
    "|무진|자전거여행|\n",
    "|우진|현의노래|\n",
    "|희혜|사피엔스|"
   ]
  },
  {
   "cell_type": "code",
   "execution_count": 33,
   "metadata": {},
   "outputs": [],
   "source": [
    "readers = [[\"은욱\",\"자전거여행\"],\n",
    "[\"은욱\",\"불안\"],\n",
    "[\"은욱\",\"우리는사랑일까\"],\n",
    "[\"지수\",\"현의노래\"],\n",
    "[\"우진\",\"현의노래\"],\n",
    "[\"지원\",\"불안\"],\n",
    "[\"지원\",\"칼의노래\"],\n",
    "[\"민진\",\"철학의위안\"],\n",
    "[\"상무\",\"불안\"],\n",
    "[\"상무\",\"우리는사랑일까\"],\n",
    "[\"무진\",\"자전거여행\"],\n",
    "[\"우진\",\"현의노래\"],\n",
    " [\"희혜\",\"사피엔스\"]]\n",
    "\n",
    "reader_df = pd.DataFrame(readers,columns=[\"독자\",'책'])"
   ]
  },
  {
   "cell_type": "markdown",
   "metadata": {},
   "source": [
    "## 문제 1. Merge\n",
    "\n",
    "* 작가 보통이 쓴 책을 읽은 독자들의 이름을 `numpy.array`로 가져와 주세요"
   ]
  },
  {
   "cell_type": "code",
   "execution_count": 34,
   "metadata": {},
   "outputs": [],
   "source": [
    "# 우선 실행해 주세요\n",
    "author_df = pd.DataFrame(authors,columns=[\"저자\",'책'])\n",
    "reader_df = pd.DataFrame(readers,columns=[\"독자\",'책'])"
   ]
  },
  {
   "cell_type": "markdown",
   "metadata": {},
   "source": [
    "#### 답안지 입력란\n",
    "* 아래에 답을 서술하여 주세요\n",
    "* 결과는 `answer1`에 담아주세요"
   ]
  },
  {
   "cell_type": "code",
   "execution_count": 35,
   "metadata": {},
   "outputs": [],
   "source": []
  },
  {
   "cell_type": "markdown",
   "metadata": {},
   "source": [
    "#### 정답 확인\n",
    "* 정답을 입력한 후, 아래를 실행시키면 정답인지 확인합니다."
   ]
  },
  {
   "cell_type": "code",
   "execution_count": 36,
   "metadata": {},
   "outputs": [
    {
     "name": "stdout",
     "output_type": "stream",
     "text": [
      "정답입니다!!!\n"
     ]
    }
   ],
   "source": [
    "from numpy.testing import assert_array_equal\n",
    "\n",
    "assert 'answer1' in globals(), \"결과를 answer1 변수에 담아주세요!, answer1 값을 보고 평가합니다.\"\n",
    "\n",
    "A = np.array(['은욱', '지원', '상무', '민진'], dtype=object)\n",
    "A.sort()\n",
    "answer1.sort()\n",
    "\n",
    "assert_array_equal(A,answer1,\n",
    "               err_msg=\"\\n정답은 \\n{}\\n입니다. 다시 확인해 주세요\\n\".format(A))\n",
    "\n",
    "print(\"정답입니다!!!\")"
   ]
  },
  {
   "cell_type": "markdown",
   "metadata": {},
   "source": [
    "## 문제 2. Concat\n",
    "\n",
    "* 새로운 작가 더글러스가 쓴 책을 `author_df` 아래에 추가해 주세요.\n",
    "\n",
    "#### 저자와 책에 대한 데이터셋\n",
    "\n",
    "| 저자 | 책 |\n",
    "|---|---|\n",
    "|김훈|자전거여행|\n",
    "|김훈|칼의노래|\n",
    "|김훈|바다의기별|\n",
    "|보통|불안|\n",
    "|보통|철학의위안|\n",
    "|보통|우리는사랑일까|\n",
    "|보통|동물원에가기|\n",
    "|더글러스|빅픽처|\n",
    "|더글러스|템테이션|\n",
    "|더글러스|모멘트|"
   ]
  },
  {
   "cell_type": "code",
   "execution_count": 37,
   "metadata": {},
   "outputs": [],
   "source": [
    "# 우선 실행해 주세요\n",
    "author_df = pd.DataFrame(authors,columns=[\"저자\",'책'])\n",
    "\n",
    "douglas = [\n",
    "[\"더글러스\",\"빅픽처\"],\n",
    "[\"더글러스\",\"템테이션\"],\n",
    "[\"더글러스\",\"모멘트\"]]\n",
    "douglas_df = pd.DataFrame(douglas,columns=['저자','책'])"
   ]
  },
  {
   "cell_type": "markdown",
   "metadata": {},
   "source": [
    "#### 답안지 입력란\n",
    "* 아래에 답을 서술하여 주세요\n",
    "* 결과는 `answer2`에 담아주세요"
   ]
  },
  {
   "cell_type": "code",
   "execution_count": 38,
   "metadata": {},
   "outputs": [],
   "source": []
  },
  {
   "cell_type": "markdown",
   "metadata": {},
   "source": [
    "#### 정답 확인\n",
    "* 정답을 입력한 후, 아래를 실행시키면 정답인지 확인합니다."
   ]
  },
  {
   "cell_type": "code",
   "execution_count": 43,
   "metadata": {},
   "outputs": [
    {
     "name": "stdout",
     "output_type": "stream",
     "text": [
      "정답입니다!!!\n"
     ]
    }
   ],
   "source": [
    "from numpy.testing import assert_array_equal\n",
    "\n",
    "assert 'answer2' in globals(), \"결과를 answer2 변수에 담아주세요!, answer2 값을 보고 평가합니다.\"\n",
    "\n",
    "A = np.array([\n",
    "[\"더글러스\",\"빅픽처\"],\n",
    "[\"더글러스\",\"템테이션\"],\n",
    "[\"더글러스\",\"모멘트\"]], dtype=object)\n",
    "\n",
    "assert_array_equal(A,answer2.iloc[-3:].values,\n",
    "               err_msg=\"\\n정답은 \\n{}\\n입니다. 다시 확인해 주세요\\n\".format(A))\n",
    "\n",
    "print(\"정답입니다!!!\")"
   ]
  },
  {
   "cell_type": "markdown",
   "metadata": {},
   "source": [
    "## 문제 3. groupby\n",
    "\n",
    "* 반별로 영어 성적의 최고 성적을 `pd.Series`로 구해주세요.\n",
    "\n",
    "####  중간고사, 학생들의 국영수사과 성적표\n",
    "\n",
    "|반   | 학생 이름 | 국어 | 영어 | 수학 | 사회 | 과학 |\n",
    "|----|  ----   | --- |---| --- | --- | --- |\n",
    "|1반 |승기 |80 |92 |70 | 65 | 92 |\n",
    "|1반 |호동 |91 |75 |90 | 68 | 85 | \n",
    "|2반 |윤호 |86 |76 |42 | 72 | 88 |\n",
    "|2반 |성진 |77 |92 |52 | 60 | 80 |\n",
    "|3반 |서형 |75 |85 |85 | 92 | 95 |\n",
    "|3반 |대근 |96 |90 |95 | 81 | 72 |\n",
    "|4반 |준호 |91 |81 |92 | 81 | 73 |"
   ]
  },
  {
   "cell_type": "code",
   "execution_count": 45,
   "metadata": {},
   "outputs": [
    {
     "data": {
      "text/html": [
       "<div>\n",
       "<style scoped>\n",
       "    .dataframe tbody tr th:only-of-type {\n",
       "        vertical-align: middle;\n",
       "    }\n",
       "\n",
       "    .dataframe tbody tr th {\n",
       "        vertical-align: top;\n",
       "    }\n",
       "\n",
       "    .dataframe thead th {\n",
       "        text-align: right;\n",
       "    }\n",
       "</style>\n",
       "<table border=\"1\" class=\"dataframe\">\n",
       "  <thead>\n",
       "    <tr style=\"text-align: right;\">\n",
       "      <th></th>\n",
       "      <th>반</th>\n",
       "      <th>이름</th>\n",
       "      <th>국어</th>\n",
       "      <th>영어</th>\n",
       "      <th>수학</th>\n",
       "      <th>사회</th>\n",
       "      <th>과학</th>\n",
       "    </tr>\n",
       "  </thead>\n",
       "  <tbody>\n",
       "    <tr>\n",
       "      <th>0</th>\n",
       "      <td>1반</td>\n",
       "      <td>승기</td>\n",
       "      <td>80</td>\n",
       "      <td>92</td>\n",
       "      <td>70</td>\n",
       "      <td>65</td>\n",
       "      <td>92</td>\n",
       "    </tr>\n",
       "    <tr>\n",
       "      <th>1</th>\n",
       "      <td>1반</td>\n",
       "      <td>호동</td>\n",
       "      <td>91</td>\n",
       "      <td>75</td>\n",
       "      <td>90</td>\n",
       "      <td>68</td>\n",
       "      <td>85</td>\n",
       "    </tr>\n",
       "    <tr>\n",
       "      <th>2</th>\n",
       "      <td>2반</td>\n",
       "      <td>윤호</td>\n",
       "      <td>86</td>\n",
       "      <td>76</td>\n",
       "      <td>42</td>\n",
       "      <td>72</td>\n",
       "      <td>88</td>\n",
       "    </tr>\n",
       "    <tr>\n",
       "      <th>3</th>\n",
       "      <td>2반</td>\n",
       "      <td>성진</td>\n",
       "      <td>77</td>\n",
       "      <td>92</td>\n",
       "      <td>52</td>\n",
       "      <td>60</td>\n",
       "      <td>80</td>\n",
       "    </tr>\n",
       "    <tr>\n",
       "      <th>4</th>\n",
       "      <td>3반</td>\n",
       "      <td>서형</td>\n",
       "      <td>75</td>\n",
       "      <td>85</td>\n",
       "      <td>85</td>\n",
       "      <td>92</td>\n",
       "      <td>95</td>\n",
       "    </tr>\n",
       "    <tr>\n",
       "      <th>5</th>\n",
       "      <td>3반</td>\n",
       "      <td>대근</td>\n",
       "      <td>96</td>\n",
       "      <td>90</td>\n",
       "      <td>95</td>\n",
       "      <td>81</td>\n",
       "      <td>72</td>\n",
       "    </tr>\n",
       "    <tr>\n",
       "      <th>6</th>\n",
       "      <td>4반</td>\n",
       "      <td>준호</td>\n",
       "      <td>91</td>\n",
       "      <td>81</td>\n",
       "      <td>92</td>\n",
       "      <td>81</td>\n",
       "      <td>73</td>\n",
       "    </tr>\n",
       "  </tbody>\n",
       "</table>\n",
       "</div>"
      ],
      "text/plain": [
       "    반  이름  국어  영어  수학  사회  과학\n",
       "0  1반  승기  80  92  70  65  92\n",
       "1  1반  호동  91  75  90  68  85\n",
       "2  2반  윤호  86  76  42  72  88\n",
       "3  2반  성진  77  92  52  60  80\n",
       "4  3반  서형  75  85  85  92  95\n",
       "5  3반  대근  96  90  95  81  72\n",
       "6  4반  준호  91  81  92  81  73"
      ]
     },
     "execution_count": 45,
     "metadata": {},
     "output_type": "execute_result"
    }
   ],
   "source": [
    "#우선 실행해주세요\n",
    "columns = [\"반\",\"이름\",\"국어\",\"영어\",\"수학\",\"사회\",\"과학\"]\n",
    "scores = [[\"1반\",\"승기\",80,92,70,65,92],\n",
    "         [\"1반\",\"호동\",91,75,90,68,85],\n",
    "         [\"2반\",\"윤호\",86,76,42,72,88],\n",
    "         [\"2반\",\"성진\",77,92,52,60,80],\n",
    "         [\"3반\",\"서형\",75,85,85,92,95],\n",
    "         [\"3반\",\"대근\",96,90,95,81,72],\n",
    "         [\"4반\",\"준호\",91,81,92,81,73]]\n",
    "\n",
    "df = pd.DataFrame(scores,columns=columns)\n",
    "df"
   ]
  },
  {
   "cell_type": "markdown",
   "metadata": {},
   "source": [
    "#### 답안지 입력란\n",
    "* 아래에 답을 서술하여 주세요\n",
    "* 결과는 `answer3`에 담아주세요"
   ]
  },
  {
   "cell_type": "code",
   "execution_count": 50,
   "metadata": {},
   "outputs": [],
   "source": []
  },
  {
   "cell_type": "markdown",
   "metadata": {},
   "source": [
    "#### 정답 확인\n",
    "* 정답을 입력한 후, 아래를 실행시키면 정답인지 확인합니다."
   ]
  },
  {
   "cell_type": "code",
   "execution_count": 57,
   "metadata": {},
   "outputs": [
    {
     "name": "stdout",
     "output_type": "stream",
     "text": [
      "정답입니다!!!\n"
     ]
    }
   ],
   "source": [
    "from pandas.testing import assert_series_equal\n",
    "\n",
    "assert 'answer3' in globals(), \"결과를 answer3 변수에 담아주세요!, answer3 값을 보고 평가합니다.\"\n",
    "\n",
    "A = pd.Series({\n",
    "    '1반': 75,\n",
    "    '2반': 76,\n",
    "    '3반': 85,\n",
    "    '4반': 81},name='영어')\n",
    "\n",
    "assert_series_equal(A,answer3,check_names=False)\n",
    "print(\"정답입니다!!!\")"
   ]
  },
  {
   "cell_type": "markdown",
   "metadata": {},
   "source": [
    "#  \n",
    "\n",
    "---\n",
    "\n",
    "    Copyright(c) 2019 by Public AI. All rights reserved.\n",
    "    Writen by PAI, SangJae Kang ( rocketgrowthsj@publicai.co.kr )  last updated on 2019/03/04\n",
    "\n",
    "\n",
    "---"
   ]
  }
 ],
 "metadata": {
  "kernelspec": {
   "display_name": "Python 3",
   "language": "python",
   "name": "python3"
  },
  "language_info": {
   "codemirror_mode": {
    "name": "ipython",
    "version": 3
   },
   "file_extension": ".py",
   "mimetype": "text/x-python",
   "name": "python",
   "nbconvert_exporter": "python",
   "pygments_lexer": "ipython3",
   "version": "3.6.5"
  }
 },
 "nbformat": 4,
 "nbformat_minor": 2
}
