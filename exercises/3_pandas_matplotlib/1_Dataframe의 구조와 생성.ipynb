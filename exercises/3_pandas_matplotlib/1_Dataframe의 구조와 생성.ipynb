{
 "cells": [
  {
   "cell_type": "markdown",
   "metadata": {},
   "source": [
    "## DataFrame의 구조와 생성\n"
   ]
  },
  {
   "cell_type": "code",
   "execution_count": 1,
   "metadata": {},
   "outputs": [],
   "source": [
    "# 우선 실행해 주세요\n",
    "import pandas as pd\n",
    "import numpy as np"
   ]
  },
  {
   "cell_type": "markdown",
   "metadata": {},
   "source": [
    "## 문제 1. Series 생성\n",
    "\n",
    "* 아래와 같이 영어 성적에 대한 `pd.Series`을 만들어주세요.\n",
    "\n",
    "| index | 영어 |\n",
    "| ----  | ----|\n",
    "| 승기   | 92 |\n",
    "| 호동   | 75 |\n",
    "| 윤호   | 76 |"
   ]
  },
  {
   "cell_type": "markdown",
   "metadata": {},
   "source": [
    "#### 답안지 입력란\n",
    "* 아래에 답을 서술하여 주세요\n",
    "* 결과는 `answer1`에 담아주세요"
   ]
  },
  {
   "cell_type": "code",
   "execution_count": 17,
   "metadata": {},
   "outputs": [],
   "source": [
    "# 정답을 입력해주세요"
   ]
  },
  {
   "cell_type": "markdown",
   "metadata": {},
   "source": [
    "#### 정답 확인\n",
    "* 정답을 입력한 후, 아래를 실행시키면 정답인지 확인합니다."
   ]
  },
  {
   "cell_type": "code",
   "execution_count": 23,
   "metadata": {},
   "outputs": [
    {
     "name": "stdout",
     "output_type": "stream",
     "text": [
      "정답입니다!!!\n"
     ]
    }
   ],
   "source": [
    "from numpy.testing import assert_array_equal\n",
    "from pandas.testing import assert_index_equal\n",
    "\n",
    "assert 'answer1' in globals(), \"결과를 answer1 변수에 담아주세요!, answer1 값을 보고 평가합니다.\"\n",
    "\n",
    "A_index = pd.Index([\"승기\",\"호동\",\"윤호\"])\n",
    "A_data = np.array([92,75,76])\n",
    "\n",
    "assert_index_equal(answer1.index, A_index)\n",
    "assert_array_equal(answer1.values, A_data)\n",
    "\n",
    "print(\"정답입니다!!!\")"
   ]
  },
  {
   "cell_type": "markdown",
   "metadata": {},
   "source": [
    "## 문제 2) Dataframe 생성\n",
    "\n",
    "* 아래와 같이 국영수 성적에 대한 `pd.Dataframe`을 만들어주세요.\n",
    "\n",
    "|반   | 이름 | 국어 | 영어 | 수학 |\n",
    "|----|---|---|---|---|\n",
    "|1반 |승기 |80 |92 |70 |\n",
    "|1반 |호동 |91 |75 |90 |\n",
    "|2반 |윤호 |86 |76 |42 |\n"
   ]
  },
  {
   "cell_type": "markdown",
   "metadata": {},
   "source": [
    "#### 답안지 입력란\n",
    "* 아래에 답을 서술하여 주세요\n",
    "* 결과는 `answer2`에 담아주세요"
   ]
  },
  {
   "cell_type": "code",
   "execution_count": 28,
   "metadata": {},
   "outputs": [],
   "source": [
    "# 정답을 입력해주세요"
   ]
  },
  {
   "cell_type": "markdown",
   "metadata": {},
   "source": [
    "#### 정답 확인\n",
    "* 정답을 입력한 후, 아래를 실행시키면 정답인지 확인합니다."
   ]
  },
  {
   "cell_type": "code",
   "execution_count": 33,
   "metadata": {},
   "outputs": [
    {
     "name": "stdout",
     "output_type": "stream",
     "text": [
      "정답입니다!!!\n"
     ]
    }
   ],
   "source": [
    "assert 'answer2' in globals(), \"결과를 answer2 변수에 담아주세요!, answer2 값을 보고 평가합니다.\"\n",
    "\n",
    "A_index = pd.Index([\"반\",\"이름\",\"국어\",\"영어\",\"수학\"])\n",
    "A_data = np.array([\n",
    "    [\"1반\",\"승기\",80,92,70],\n",
    "    [\"1반\",\"호동\",91,75,90],\n",
    "    [\"2반\",\"윤호\",86,76,42]],dtype='object')\n",
    "\n",
    "assert_index_equal(answer2.columns, A_index)\n",
    "assert_array_equal(answer2.values.astype(np.object), A_data)\n",
    "\n",
    "print(\"정답입니다!!!\")"
   ]
  },
  {
   "cell_type": "markdown",
   "metadata": {},
   "source": [
    "## 문제 3) Dataframe 읽기\n",
    "\n",
    "* `./student_problem.csv`을 읽어서 아래와 같은 dataframe로 만들어주세요\n",
    "\n",
    "|반   | 이름 | 국어 | 영어 | 수학 | 사회 | 과학 |\n",
    "|----|  ----   | --- |---| --- | --- | --- |\n",
    "|1반 |승기 |80 |92 |70 | 65 | 92 |\n",
    "|1반 |호동 |91 |75 |90 | 68 | 85 | \n",
    "|2반 |윤호 |86 |76 |42 | 72 | 88 |\n",
    "|2반 |성진 |77 |92 |52 | 60 | 80 |\n",
    "|3반 |서형 |75 |85 |85 | 92 | 95 |\n",
    "|3반 |대근 |96 |90 |95 | 81 | 72 |\n",
    "|4반 |준호 |91 |81 |92 | 81 | 73 |\n"
   ]
  },
  {
   "cell_type": "code",
   "execution_count": 57,
   "metadata": {},
   "outputs": [
    {
     "name": "stdout",
     "output_type": "stream",
     "text": [
      "0\t1반\t승기\t80\t92\t70\t65\t92\r\n",
      "1\t1반\t호동\t91\t75\t90\t68\t85\r\n",
      "2\t2반\t윤호\t86\t76\t42\t72\t88\r\n",
      "3\t2반\t성진\t77\t92\t52\t60\t80\r\n",
      "4\t3반\t서형\t75\t85\t85\t92\t95\r\n",
      "5\t3반\t대근\t96\t90\t95\t81\t72\r\n",
      "6\t4반\t준호\t91\t81\t92\t81\t73\r\n"
     ]
    }
   ],
   "source": [
    "# 우선 실행해 주세요\n",
    "# 데이터 다운로드\n",
    "!wget -q https://s3.ap-northeast-2.amazonaws.com/pai-datasets/alai-deeplearning/student_problem.csv\n",
    "# 다운 받은 데이터 확인하기\n",
    "!cat ./student_problem.csv"
   ]
  },
  {
   "cell_type": "markdown",
   "metadata": {},
   "source": [
    "#### 답안지 입력란\n",
    "* 아래에 답을 서술하여 주세요\n",
    "* 결과는 `answer3`에 담아주세요"
   ]
  },
  {
   "cell_type": "code",
   "execution_count": 55,
   "metadata": {},
   "outputs": [],
   "source": [
    "# 정답을 입력해주세요"
   ]
  },
  {
   "cell_type": "markdown",
   "metadata": {},
   "source": [
    "#### 정답 확인\n",
    "* 정답을 입력한 후, 아래를 실행시키면 정답인지 확인합니다."
   ]
  },
  {
   "cell_type": "code",
   "execution_count": 56,
   "metadata": {},
   "outputs": [
    {
     "name": "stdout",
     "output_type": "stream",
     "text": [
      "정답입니다!!!\n"
     ]
    }
   ],
   "source": [
    "assert 'answer3' in globals(), \"결과를 answer3 변수에 담아주세요!, answer2 값을 보고 평가합니다.\"\n",
    "\n",
    "A_index = pd.Index([\"반\",\"이름\",\"국어\",\"영어\",\"수학\",\"사회\",\"과학\"])\n",
    "A_data = np.array([[\"1반\",\"승기\",80,92,70,65,92],\n",
    "         [\"1반\",\"호동\",91,75,90,68,85],\n",
    "         [\"2반\",\"윤호\",86,76,42,72,88],\n",
    "         [\"2반\",\"성진\",77,92,52,60,80],\n",
    "         [\"3반\",\"서형\",75,85,85,92,95],\n",
    "         [\"3반\",\"대근\",96,90,95,81,72],\n",
    "         [\"4반\",\"준호\",91,81,92,81,73]],dtype=np.object)\n",
    "\n",
    "assert_index_equal(answer3.columns, A_index)\n",
    "assert_array_equal(answer3.values.astype(np.object), A_data)\n",
    "\n",
    "print(\"정답입니다!!!\")"
   ]
  },
  {
   "cell_type": "markdown",
   "metadata": {},
   "source": [
    "#  \n",
    "\n",
    "---\n",
    "\n",
    "    Copyright(c) 2019 by Public AI. All rights reserved.\n",
    "    Writen by PAI, SangJae Kang ( rocketgrowthsj@publicai.co.kr )  last updated on 2019/03/21\n",
    "\n",
    "\n",
    "---"
   ]
  }
 ],
 "metadata": {
  "kernelspec": {
   "display_name": "Python 3",
   "language": "python",
   "name": "python3"
  },
  "language_info": {
   "codemirror_mode": {
    "name": "ipython",
    "version": 3
   },
   "file_extension": ".py",
   "mimetype": "text/x-python",
   "name": "python",
   "nbconvert_exporter": "python",
   "pygments_lexer": "ipython3",
   "version": "3.6.5"
  }
 },
 "nbformat": 4,
 "nbformat_minor": 2
}
