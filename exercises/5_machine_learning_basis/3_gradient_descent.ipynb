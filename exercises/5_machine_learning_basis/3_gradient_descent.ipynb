{
 "cells": [
  {
   "cell_type": "markdown",
   "metadata": {
    "colab_type": "text",
    "id": "bXlDEnu_PzC9"
   },
   "source": [
    "##  Section 3. Gradient Descent 방법"
   ]
  },
  {
   "cell_type": "markdown",
   "metadata": {
    "colab_type": "text",
    "id": "xrGriRt_uF28"
   },
   "source": [
    "## 문제 1 Gradient Descent을 활용한 Linear Regression\n",
    "\n",
    "* **Gradient Descent**을 이용해 아래 데이터를 linear regression 해주세요. <br>\n",
    "\n",
    "###  Gradient Descent\n",
    "\n",
    "1. 우선 가중치(w)을 초기화 합니다.  (w1,  w0) <br>\n",
    "정규 분포(mean = 0.0, stddev=0.1) 을 이용합니다  \n",
    "\n",
    "2. $ \\frac{\\partial  loss }{ \\partial w0} $, $ \\frac{\\partial  loss }{ \\partial w1} $ 을 구합니다. \n",
    "\n",
    "3. Loss 을 구합니다. <br>\n",
    "$Loss = \\frac{1}{2N}* {\\sum^N_{i=1} (y_{pred} - y_{true})^2}$ <br>\n",
    "\n",
    "4. gradient Descent 을 구현합니다. \n",
    "\n",
    " $ \\hat{w} = w - \\alpha * \\frac{\\partial  loss }{ \\partial w}$<br>  수식을 이용해 $w$ 을 수정합니다. 적절한  learning rate($\\alpha$)을 설정해주세요! \n",
    " \n",
    "5. 5번 과정을 Loss 가 더 줄어들지 않을 때까지 실행합니다. "
   ]
  },
  {
   "cell_type": "code",
   "execution_count": 3,
   "metadata": {
    "colab": {
     "base_uri": "https://localhost:8080/",
     "height": 269
    },
    "colab_type": "code",
    "id": "U5K6Hs3vtmot",
    "outputId": "1c45308c-3efa-4572-dc7e-f4503e5de487"
   },
   "outputs": [
    {
     "data": {
      "image/png": "[encoded data removed]",
      "text/plain": [
       "<Figure size 432x288 with 1 Axes>"
      ]
     },
     "metadata": {
      "tags": []
     },
     "output_type": "display_data"
    }
   ],
   "source": [
    "# 아래 코드를 실행해 주세요 \n",
    "from sklearn.datasets import load_iris\n",
    "import pandas as pd \n",
    "import numpy as np\n",
    "import matplotlib.pyplot as plt\n",
    "\n",
    "num_points = 1000\n",
    "vectors_set = []\n",
    "for i in range(num_points):\n",
    "    x1= np.random.normal(0.0, 0.55)\n",
    "    y1= x1 * 0.1 + 0.3 + np.random.normal(0.0, 0.03)\n",
    "    vectors_set.append([x1, y1])\n",
    "\n",
    "xs = np.asarray([v[0] for v in vectors_set])\n",
    "ys = np.asarray([v[1] for v in vectors_set])\n",
    "\n",
    "plt.plot(xs, ys, 'ro', label='Original data')\n",
    "plt.legend()\n",
    "plt.show()"
   ]
  },
  {
   "cell_type": "markdown",
   "metadata": {},
   "source": [
    "#### 답안지 입력란\n",
    "* 아래에 답을 서술하여 주세요\n"
   ]
  },
  {
   "cell_type": "code",
   "execution_count": 4,
   "metadata": {
    "colab": {
     "base_uri": "https://localhost:8080/",
     "height": 269
    },
    "colab_type": "code",
    "id": "ZVBMHgu4WBGA",
    "outputId": "1bad6757-7788-409c-b93b-12c2b2955d8c"
   },
   "outputs": [
    {
     "data": {
      "image/png": "[encoded data removed]",
      "text/plain": [
       "<Figure size 432x288 with 1 Axes>"
      ]
     },
     "metadata": {
      "tags": []
     },
     "output_type": "display_data"
    }
   ],
   "source": [
    "W = np.random.normal(size=2)\n",
    "losses = []\n",
    "lr = 0.5\n",
    "\n",
    "for s in range(1000):        \n",
    "    pred = xs * W[0] + W[1]\n",
    "    diff = pred - y\n",
    "    loss = np.mean((diff) ** 2)\n",
    "\n",
    "    # early stopping \n",
    "    losses.append(loss)\n",
    "\n",
    "    # Gradients\n",
    "    grad_w0 = np.mean(diff * xs)\n",
    "    grad_w1 = np.mean(diff)\n",
    "\n",
    "    # Gradients Descent and Update w0, w1\n",
    "    W[0] = W[0] - grad_w0 * lr\n",
    "    W[1] = W[1] - grad_w1 * lr\n",
    "\n",
    "\n",
    "plt.plot(xs , xs*W[0]+W[1], label='$x*w_1 + w_0$', color='C0')    \n",
    "plt.scatter(xs , ys, label='data', color='C1')\n",
    "plt.show()"
   ]
  },
  {
   "cell_type": "markdown",
   "metadata": {},
   "source": [
    "#### 정답 확인\n",
    "* 아래와 같이 출력이 나오도록 해주세요\n",
    "\n",
    "![Imgur](https://i.imgur.com/zEiW7zM.png)"
   ]
  },
  {
   "cell_type": "markdown",
   "metadata": {},
   "source": [
    "#  \n",
    "\n",
    "---\n",
    "\n",
    "    Copyright(c) 2019 by Public AI. All rights reserved.<br>\n",
    "    Writen by PAI, SangJae Kang ( rocketgrowthsj@publicai.co.kr )  last updated on 2019/04/19\n",
    "\n",
    "---"
   ]
  }
 ],
 "metadata": {
  "colab": {
   "collapsed_sections": [],
   "name": "3_gradient_descent.ipynb",
   "provenance": [],
   "toc_visible": true,
   "version": "0.3.2"
  },
  "kernelspec": {
   "display_name": "Python 3",
   "language": "python",
   "name": "python3"
  },
  "language_info": {
   "codemirror_mode": {
    "name": "ipython",
    "version": 3
   },
   "file_extension": ".py",
   "mimetype": "text/x-python",
   "name": "python",
   "nbconvert_exporter": "python",
   "pygments_lexer": "ipython3",
   "version": "3.6.5"
  }
 },
 "nbformat": 4,
 "nbformat_minor": 1
}
