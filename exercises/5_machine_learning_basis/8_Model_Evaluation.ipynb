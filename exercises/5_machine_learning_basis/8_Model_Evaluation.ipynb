{
 "cells": [
  {
   "cell_type": "markdown",
   "metadata": {},
   "source": [
    "## Section 8. Model Evaluation"
   ]
  },
  {
   "cell_type": "code",
   "execution_count": 1,
   "metadata": {},
   "outputs": [],
   "source": [
    "import numpy as np\n",
    "import pandas as pd\n",
    "import matplotlib.pyplot as plt\n",
    "from sklearn.datasets import load_iris"
   ]
  },
  {
   "cell_type": "markdown",
   "metadata": {
    "colab_type": "text",
    "id": "WuyZLdHhJ4am"
   },
   "source": [
    "## 문제 1. ROC Curve 와 AUC 구하기\n",
    "\n",
    "아래 코드는 \n",
    "IRIS 데이터 셋을 이용해  Iris Versicolour 와 Iris Virginica 을 구별하는 코드 입니다. \n",
    "\n",
    "아래 코드를 수행 했을 때 나온 데이터프레임에는 각 데이터 별로 예측값과 정답값에 대한 정보가 담겨져 있습니다. 이를 이용해 **ROC Curve** 와 **AUC ** 을 구하고 시각화 합니다. \n",
    "\n",
    "참고 \n",
    "- 음성 label 은 0 , Versicolour <br>\n",
    "- 양성 label 은 1 , Virginica 입니다. "
   ]
  },
  {
   "cell_type": "code",
   "execution_count": 22,
   "metadata": {},
   "outputs": [
    {
     "name": "stdout",
     "output_type": "stream",
     "text": [
      "Final Accuracy : 95.00%\n"
     ]
    }
   ],
   "source": [
    "# 우선 실행해주세요\n",
    "np.random.seed(1) # 같은 결과를 보장하기 위함\n",
    "# load Iris dataset \n",
    "iris = load_iris()\n",
    "\n",
    "# XS, YS \n",
    "xs = iris['data']\n",
    "ys = iris['target']\n",
    "ys_name = iris['target_names']\n",
    "\n",
    "# extract Versicolour , Virginica dataset \n",
    "indices = np.where((ys == 1) | (ys == 2))\n",
    "xs = xs[indices]\n",
    "ys = ys[indices]\n",
    "ys = np.where(ys==1, 0, 1) \n",
    "\n",
    "# stop broadcasting\n",
    "ys = ys.reshape([-1, 1])\n",
    "\n",
    "# Normalization\n",
    "xs_norm = (xs - xs.min(axis=0)) / (xs.max(axis=0) - xs.min(axis=0))\n",
    "\n",
    "# Xs 와 np.ones 을 concatenate for broadcasting  \n",
    "xs_concat = np.concatenate([xs_norm, \n",
    "                            np.ones(shape=[xs_norm.shape[0], 1])], \n",
    "                           axis=1)\n",
    "\n",
    "# Weight \n",
    "weight = np.random.normal(size=[xs_concat.shape[-1], 1])\n",
    "\n",
    "# Training \n",
    "lr = 0.01\n",
    "for i in range(100):\n",
    "    pred = np.matmul(xs_concat, weight)\n",
    "    pred = 1 / (1 + np.exp(-pred))\n",
    "\n",
    "    # Gradient Descent\n",
    "    diff = pred - ys\n",
    "    gradients = np.matmul(xs_concat.T, diff)\n",
    "    weight = weight - gradients*lr\n",
    "    \n",
    "    # Accuracy \n",
    "    acc = np.mean((pred > 0.5) == ys)\n",
    "print(\"Final Accuracy : {:2.2f}%\".format(acc*100))\n",
    "df = pd.DataFrame({\n",
    "    \"Prediction\" : pred[:,0],\n",
    "    \"True Label\" : ys[:,0]\n",
    "})"
   ]
  },
  {
   "cell_type": "code",
   "execution_count": 23,
   "metadata": {
    "colab": {
     "base_uri": "https://localhost:8080/",
     "height": 35
    },
    "colab_type": "code",
    "id": "GDfzTpdT17Vb",
    "outputId": "4b90e9b5-3172-49b4-a6dc-1033ffbca8f9"
   },
   "outputs": [
    {
     "data": {
      "text/html": [
       "<div>\n",
       "<style scoped>\n",
       "    .dataframe tbody tr th:only-of-type {\n",
       "        vertical-align: middle;\n",
       "    }\n",
       "\n",
       "    .dataframe tbody tr th {\n",
       "        vertical-align: top;\n",
       "    }\n",
       "\n",
       "    .dataframe thead th {\n",
       "        text-align: right;\n",
       "    }\n",
       "</style>\n",
       "<table border=\"1\" class=\"dataframe\">\n",
       "  <thead>\n",
       "    <tr style=\"text-align: right;\">\n",
       "      <th></th>\n",
       "      <th>Prediction</th>\n",
       "      <th>True Label</th>\n",
       "    </tr>\n",
       "  </thead>\n",
       "  <tbody>\n",
       "    <tr>\n",
       "      <th>69</th>\n",
       "      <td>0.511604</td>\n",
       "      <td>1</td>\n",
       "    </tr>\n",
       "    <tr>\n",
       "      <th>46</th>\n",
       "      <td>0.168278</td>\n",
       "      <td>0</td>\n",
       "    </tr>\n",
       "    <tr>\n",
       "      <th>58</th>\n",
       "      <td>0.814259</td>\n",
       "      <td>1</td>\n",
       "    </tr>\n",
       "    <tr>\n",
       "      <th>12</th>\n",
       "      <td>0.140934</td>\n",
       "      <td>0</td>\n",
       "    </tr>\n",
       "    <tr>\n",
       "      <th>73</th>\n",
       "      <td>0.647265</td>\n",
       "      <td>1</td>\n",
       "    </tr>\n",
       "    <tr>\n",
       "      <th>98</th>\n",
       "      <td>0.835785</td>\n",
       "      <td>1</td>\n",
       "    </tr>\n",
       "    <tr>\n",
       "      <th>31</th>\n",
       "      <td>0.081775</td>\n",
       "      <td>0</td>\n",
       "    </tr>\n",
       "    <tr>\n",
       "      <th>53</th>\n",
       "      <td>0.697934</td>\n",
       "      <td>1</td>\n",
       "    </tr>\n",
       "    <tr>\n",
       "      <th>65</th>\n",
       "      <td>0.862991</td>\n",
       "      <td>1</td>\n",
       "    </tr>\n",
       "    <tr>\n",
       "      <th>96</th>\n",
       "      <td>0.744327</td>\n",
       "      <td>1</td>\n",
       "    </tr>\n",
       "  </tbody>\n",
       "</table>\n",
       "</div>"
      ],
      "text/plain": [
       "    Prediction  True Label\n",
       "69    0.511604           1\n",
       "46    0.168278           0\n",
       "58    0.814259           1\n",
       "12    0.140934           0\n",
       "73    0.647265           1\n",
       "98    0.835785           1\n",
       "31    0.081775           0\n",
       "53    0.697934           1\n",
       "65    0.862991           1\n",
       "96    0.744327           1"
      ]
     },
     "execution_count": 23,
     "metadata": {},
     "output_type": "execute_result"
    }
   ],
   "source": [
    "df.sample(10)"
   ]
  },
  {
   "cell_type": "markdown",
   "metadata": {
    "colab_type": "text",
    "id": "Ak0G2cLn5Jl1"
   },
   "source": [
    "#### 답안지 입력란\n",
    "* 아래에 답을 서술하여 주세요\n"
   ]
  },
  {
   "cell_type": "code",
   "execution_count": 16,
   "metadata": {
    "colab": {
     "base_uri": "https://localhost:8080/",
     "height": 410
    },
    "colab_type": "code",
    "id": "6sCBLLA54Qc0",
    "outputId": "cd3371f4-b992-43f7-c7ff-b4030d73b99a"
   },
   "outputs": [],
   "source": [
    "# 정답을 입력해주세요\n"
   ]
  },
  {
   "cell_type": "markdown",
   "metadata": {
    "colab_type": "text",
    "id": "_uPOnldhfimA"
   },
   "source": [
    "#### 정답 확인\n",
    "\n",
    "정답 : AUC , ROC curve 는 아래와 같은 그림이 나와야 정답입니다\n",
    "\n",
    "![Imgur](https://i.imgur.com/nOOc7Va.png)"
   ]
  },
  {
   "cell_type": "markdown",
   "metadata": {},
   "source": [
    "#  \n",
    "\n",
    "---\n",
    "\n",
    "    Copyright(c) 2019 by Public AI. All rights reserved.<br>\n",
    "    Writen by PAI, SangJae Kang ( rocketgrowthsj@publicai.co.kr )  last updated on 2019/04/19\n",
    "\n",
    "---"
   ]
  }
 ],
 "metadata": {
  "colab": {
   "collapsed_sections": [],
   "name": "8_Model_Evaluation.ipynb",
   "provenance": [],
   "toc_visible": true,
   "version": "0.3.2"
  },
  "kernelspec": {
   "display_name": "Python 3",
   "language": "python",
   "name": "python3"
  },
  "language_info": {
   "codemirror_mode": {
    "name": "ipython",
    "version": 3
   },
   "file_extension": ".py",
   "mimetype": "text/x-python",
   "name": "python",
   "nbconvert_exporter": "python",
   "pygments_lexer": "ipython3",
   "version": "3.6.5"
  }
 },
 "nbformat": 4,
 "nbformat_minor": 1
}
