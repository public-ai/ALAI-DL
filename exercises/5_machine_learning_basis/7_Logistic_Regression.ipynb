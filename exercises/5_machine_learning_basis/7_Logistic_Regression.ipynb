{
 "cells": [
  {
   "cell_type": "markdown",
   "metadata": {
    "colab_type": "text",
    "id": "elhJibfCmSEt"
   },
   "source": [
    "## Section 7. Logistic Regression\n",
    "\n",
    "\n",
    "## Objective\n",
    "1. **분류 문제를 푸는 기본적인 머신러닝인 Logistic Regression에 대해 알아봅니다. **\n",
    "2. **실제로 구현하여 그 결과를 확인합니다.**"
   ]
  },
  {
   "cell_type": "code",
   "execution_count": null,
   "metadata": {},
   "outputs": [],
   "source": [
    "%matplotlib inline\n",
    "\n",
    "import numpy as np\n",
    "import pandas as pd\n",
    "import matplotlib.pyplot as plt\n",
    "from sklearn.datasets import load_iris"
   ]
  },
  {
   "cell_type": "markdown",
   "metadata": {
    "colab_type": "text",
    "id": "dV8dDx31mSEu"
   },
   "source": [
    "## 문제 1. Iris Dataset 을 이용해 Iris 종 구별(classification)하기\n",
    "\n",
    "* Iris 데이터는 4개의 features 을 가지고 있습니다.\n",
    "    1. sepal length in cm \n",
    "    2. sepal width in cm \n",
    "    3. petal length in cm \n",
    "    4. petal width in cm \n",
    "\n",
    "* Iris 데이터는 labels 은 3가지 class로 나뉘어 집니다. \n",
    "    * Iris Setosa \n",
    "    * Iris Versicolour \n",
    "    * Iris Virginica\n",
    "![Imgur](https://i.imgur.com/EO2cI4i.png)"
   ]
  },
  {
   "cell_type": "markdown",
   "metadata": {},
   "source": [
    "### Requirements\n",
    "\n",
    "\n",
    "1. [Iris data](https://archive.ics.uci.edu/ml/datasets/iris) 을 이용해 \n",
    "**Numpy** 을 이용해 **Iris setosa Vs Iris Versicolour** 을 구별하는 **logistic regression** 모델을 생성 합니다.\n",
    "2. cost 와 Accuracy 을 측정 합니다. \n",
    "3. cost 와 Accuracy 을 시각화 합니다. \n"
   ]
  },
  {
   "cell_type": "code",
   "execution_count": 13,
   "metadata": {
    "colab": {},
    "colab_type": "code",
    "id": "RUGjWHjrvu1R"
   },
   "outputs": [
    {
     "data": {
      "text/plain": [
       "array(['setosa', 'versicolor', 'virginica'], dtype='<U10')"
      ]
     },
     "execution_count": 13,
     "metadata": {},
     "output_type": "execute_result"
    }
   ],
   "source": [
    "# 아래 코드를 실행해 주세요\n",
    "np.random.seed(1)\n",
    "iris = load_iris()\n",
    "\n",
    "xs = iris['data']\n",
    "ys = iris['target']\n",
    "ys_name = iris['target_names']\n",
    "ys_name"
   ]
  },
  {
   "cell_type": "markdown",
   "metadata": {
    "colab_type": "text",
    "id": "IraPKGMd0Lvp"
   },
   "source": [
    "#### 답안지 입력란\n",
    "* 아래에 답을 서술하여 주세요\n"
   ]
  },
  {
   "cell_type": "code",
   "execution_count": 15,
   "metadata": {
    "colab": {
     "base_uri": "https://localhost:8080/",
     "height": 1942
    },
    "colab_type": "code",
    "id": "AMtPt7Wzv6QT",
    "outputId": "3df808a9-185d-4353-c836-d9322c659d8d"
   },
   "outputs": [],
   "source": [
    "# 정답을 입력해 주세요\n"
   ]
  },
  {
   "cell_type": "markdown",
   "metadata": {
    "colab_type": "text",
    "id": "Pk9bHRvB7ydP"
   },
   "source": [
    "#### 정답 확인\n",
    "* Cost는 0.5 아래로 떨어져야 합니다.\n",
    "* Accuracy는 100%가 나올 수 있습니다. \n",
    "\n",
    "아래와 같은 그림이 나오면 성공 입니다.\n",
    "\n",
    "\n",
    "![Imgur](https://i.imgur.com/jVvhXnY.png)"
   ]
  },
  {
   "cell_type": "markdown",
   "metadata": {
    "colab": {},
    "colab_type": "code",
    "id": "wlw0Z33Z0uhj"
   },
   "source": [
    "<hr>\n",
    "\n",
    "Copyright(c) 2019 by Public AI. All rights reserved.<br>\n",
    "Writen by PAI, Sangjae Kang ( rocketgrowthsj@publicai.co.kr )  last updated on 2019/02/22\n",
    "<hr>"
   ]
  }
 ],
 "metadata": {
  "colab": {
   "collapsed_sections": [],
   "name": "7_Logistic_Regression.ipynb",
   "provenance": [],
   "version": "0.3.2"
  },
  "kernelspec": {
   "display_name": "Python 3",
   "language": "python",
   "name": "python3"
  },
  "language_info": {
   "codemirror_mode": {
    "name": "ipython",
    "version": 3
   },
   "file_extension": ".py",
   "mimetype": "text/x-python",
   "name": "python",
   "nbconvert_exporter": "python",
   "pygments_lexer": "ipython3",
   "version": "3.6.5"
  }
 },
 "nbformat": 4,
 "nbformat_minor": 1
}
