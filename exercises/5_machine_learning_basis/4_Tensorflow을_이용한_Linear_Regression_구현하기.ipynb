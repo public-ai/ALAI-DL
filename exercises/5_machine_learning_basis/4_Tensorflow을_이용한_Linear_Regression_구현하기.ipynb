{
 "cells": [
  {
   "cell_type": "markdown",
   "metadata": {
    "colab_type": "text",
    "id": "bXlDEnu_PzC9"
   },
   "source": [
    "##  Linear Regression with tensorflow \n",
    "\n",
    "## Objective\n",
    "1. ** Linear Regression 에 대해서 배웁니다. **\n",
    "2. **Tensorflow ** 을 이용해 Linear Regression 을 구현합니다. \n",
    "\n"
   ]
  },
  {
   "cell_type": "code",
   "execution_count": 1,
   "metadata": {},
   "outputs": [
    {
     "name": "stdout",
     "output_type": "stream",
     "text": [
      "Requirement already satisfied: tensorboardcolab in /Users/ksj/anaconda3/lib/python3.6/site-packages (0.0.22)\n",
      "\u001b[33mYou are using pip version 18.1, however version 19.0.3 is available.\n",
      "You should consider upgrading via the 'pip install --upgrade pip' command.\u001b[0m\n"
     ]
    },
    {
     "name": "stderr",
     "output_type": "stream",
     "text": [
      "Using TensorFlow backend.\n"
     ]
    }
   ],
   "source": [
    "%matplotlib inline\n",
    "!pip install tensorboardcolab\n",
    "import tensorboardcolab\n",
    "import numpy as np\n",
    "import matplotlib.pyplot as plt\n",
    "import tensorflow as tf "
   ]
  },
  {
   "cell_type": "markdown",
   "metadata": {
    "colab_type": "text",
    "id": "kOLZTX72noqe"
   },
   "source": [
    "## 문제 1 Tensorboard를 활용한 Linear Regression\n",
    "\n",
    "+ Tensorboard 을 이용해 step 별로 W0 , W1 의 변화량을 추적해주세요.\n",
    "\n",
    "+ Tensorboard 을 이용해 step 별로  $\\frac{\\partial loss}{\\partial w_0}$ , $\\frac{\\partial loss}{\\partial w_1}$ 의 값의 변화를 추적해 주세요 \n",
    "\n",
    "+ Tensorboard 에 그래프를 시각화 할수 있도록  추가해주세요.\n",
    "\n",
    "+ Tensorboard 에 step 별로 Loss 값을 추적해주세요.\n",
    "\n",
    "+ 아래 그림이 나오도록 코딩해 주세요\n",
    "\n",
    "![Imgur](https://i.imgur.com/zEiW7zM.png)\n",
    "\n",
    "\n",
    "![Imgur](https://i.imgur.com/L6vZfHO.png)\n"
   ]
  },
  {
   "cell_type": "code",
   "execution_count": 2,
   "metadata": {
    "colab": {
     "base_uri": "https://localhost:8080/",
     "height": 303
    },
    "colab_type": "code",
    "id": "vGvMijniojUo",
    "outputId": "587abb97-dc0a-4c5d-cc15-96e7c773ec14"
   },
   "outputs": [
    {
     "data": {
      "image/png": "[encoded data removed]",
      "text/plain": [
       "<Figure size 432x288 with 1 Axes>"
      ]
     },
     "metadata": {},
     "output_type": "display_data"
    }
   ],
   "source": [
    "# 아래 코드를 실행해 주세요 \n",
    "num_points = 1000\n",
    "vectors_set = []\n",
    "for i in range(num_points):\n",
    "    x1= np.random.normal(0.0, 0.55)\n",
    "    y1= x1 * 0.1 + 0.3 + np.random.normal(0.0, 0.03)\n",
    "    vectors_set.append([x1, y1])\n",
    "\n",
    "xs = np.asarray([v[0] for v in vectors_set])\n",
    "ys = np.asarray([v[1] for v in vectors_set])\n",
    "\n",
    "plt.plot(xs, ys, 'ro', label='Original data')\n",
    "plt.legend()\n",
    "plt.show()"
   ]
  },
  {
   "cell_type": "markdown",
   "metadata": {},
   "source": [
    "#### 답안지 입력란\n",
    "* 아래에 답을 서술하여 주세요"
   ]
  },
  {
   "cell_type": "code",
   "execution_count": 3,
   "metadata": {
    "colab": {},
    "colab_type": "code",
    "id": "xwuZO1M1oJvY"
   },
   "outputs": [],
   "source": [
    "tf.reset_default_graph()\n",
    "\n",
    "# Data를 받아오는 placeholder\n",
    "x = tf.placeholder(tf.float32, shape=(None,), name='x')\n",
    "y = tf.placeholder(tf.float32, shape=(None,), name=\"y_true\")\n",
    "learning_rate = tf.placeholder(tf.float32, name=\"learning_rate\")\n",
    "y_res = tf.reshape(y, shape=[-1,1])"
   ]
  },
  {
   "cell_type": "code",
   "execution_count": null,
   "metadata": {
    "colab": {
     "base_uri": "https://localhost:8080/",
     "height": 88
    },
    "colab_type": "code",
    "id": "dr0R3DKAoe2-",
    "outputId": "30a23b31-d96f-40d2-c836-3684832ae2b4"
   },
   "outputs": [],
   "source": [
    "# 여기에 코드를 작성해주세요.\n",
    "# Tensorboard\n",
    "#\n",
    "#"
   ]
  },
  {
   "cell_type": "markdown",
   "metadata": {
    "colab": {},
    "colab_type": "code",
    "id": "u41xsfljwbMQ"
   },
   "source": [
    "#  \n",
    "\n",
    "---\n",
    "\n",
    "    Copyright(c) 2019 by Public AI. All rights reserved.<br>\n",
    "    Writen by PAI, SangJae Kang ( rocketgrowthsj@publicai.co.kr )  last updated on 2019/04/19\n",
    "\n",
    "---"
   ]
  }
 ],
 "metadata": {
  "colab": {
   "collapsed_sections": [],
   "name": "4_Tensorflow을 이용한 Linear Regression 구현하기.ipynb",
   "provenance": [],
   "version": "0.3.2"
  },
  "kernelspec": {
   "display_name": "Python 3",
   "language": "python",
   "name": "python3"
  },
  "language_info": {
   "codemirror_mode": {
    "name": "ipython",
    "version": 3
   },
   "file_extension": ".py",
   "mimetype": "text/x-python",
   "name": "python",
   "nbconvert_exporter": "python",
   "pygments_lexer": "ipython3",
   "version": "3.6.5"
  }
 },
 "nbformat": 4,
 "nbformat_minor": 1
}
