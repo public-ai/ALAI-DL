{
 "cells": [
  {
   "cell_type": "markdown",
   "metadata": {
    "colab_type": "text",
    "id": "RJx-IIPVmat-"
   },
   "source": [
    "## Section 6. Classification Problem\n",
    "\n",
    "## Objective\n",
    "1. **Logistic, Logits, Cross Entropy 을 구하는 법을 배워 봅니다**\n"
   ]
  },
  {
   "cell_type": "code",
   "execution_count": 0,
   "metadata": {
    "colab": {},
    "colab_type": "code",
    "id": "qkLdUK27A8iq"
   },
   "outputs": [],
   "source": [
    "import tensorflow as tf\n",
    "import numpy as np \n",
    "import matplotlib.pyplot as plt"
   ]
  },
  {
   "cell_type": "markdown",
   "metadata": {
    "colab_type": "text",
    "id": "VcADZ0IkCAXm"
   },
   "source": [
    "## 문제 1. odds ratio으로 바꾸기 \n",
    "\n",
    "텐서플로우를 이용해, 확률(p)을 odds ratio의 값으로 바꾸어주세요.\n",
    "\n",
    "````\n",
    "p = 0.01\n",
    "````"
   ]
  },
  {
   "cell_type": "code",
   "execution_count": 21,
   "metadata": {},
   "outputs": [],
   "source": [
    "# 우선 실행해주세요\n",
    "p = 0.01"
   ]
  },
  {
   "cell_type": "markdown",
   "metadata": {
    "colab_type": "text",
    "id": "IraPKGMd0Lvp"
   },
   "source": [
    "#### 답안지 입력란\n",
    "* 아래에 답을 서술하여 주세요\n",
    "* `answer1`에 답을 입력해주세요 \n"
   ]
  },
  {
   "cell_type": "code",
   "execution_count": 20,
   "metadata": {
    "colab": {},
    "colab_type": "code",
    "id": "1jphZyQn62Bq"
   },
   "outputs": [],
   "source": [
    "# 정답을 입력해주세요\n"
   ]
  },
  {
   "cell_type": "markdown",
   "metadata": {
    "colab_type": "text",
    "id": "SGapkZFo41BW"
   },
   "source": [
    "#### 정답 확인\n",
    "정답 : 0.01010101 "
   ]
  },
  {
   "cell_type": "markdown",
   "metadata": {
    "colab_type": "text",
    "id": "Fu0qN2Pt446-"
   },
   "source": [
    "## 문제 2 .logits 계산하기\n",
    "\n",
    "텐서플로우를 이용해, 확률(p)을 logits으로 바꾸어주세요.\n",
    "\n",
    "````\n",
    "p = 1/3\n",
    "````"
   ]
  },
  {
   "cell_type": "code",
   "execution_count": 27,
   "metadata": {
    "colab": {
     "base_uri": "https://localhost:8080/",
     "height": 35
    },
    "colab_type": "code",
    "id": "Hk1Yzyp5BCDa",
    "outputId": "5eb5fa74-b1eb-44d4-af54-fa51c1d7fe94"
   },
   "outputs": [],
   "source": [
    "# 우선 실행해 주세요.\n",
    "p = 1/3"
   ]
  },
  {
   "cell_type": "markdown",
   "metadata": {
    "colab_type": "text",
    "id": "Ak0G2cLn5Jl1"
   },
   "source": [
    "#### 답안지 입력란\n",
    "* 아래에 답을 서술하여 주세요\n",
    "* `answer2`에 답을 입력해 주세요\n"
   ]
  },
  {
   "cell_type": "code",
   "execution_count": 0,
   "metadata": {
    "colab": {},
    "colab_type": "code",
    "id": "kvYcSTd861eB"
   },
   "outputs": [],
   "source": []
  },
  {
   "cell_type": "markdown",
   "metadata": {
    "colab_type": "text",
    "id": "GZhHDyEB5LHZ"
   },
   "source": [
    "#### 정답 확인\n",
    "정답 : -0.69314706 "
   ]
  },
  {
   "cell_type": "markdown",
   "metadata": {
    "colab_type": "text",
    "id": "hzn0oQ1KBpfZ"
   },
   "source": [
    "## 문제 3. logitstic 계산하기\n",
    "\n",
    "텐서플로우를 이용해 확률(p)을 logitstic으로 바꾸어주세요."
   ]
  },
  {
   "cell_type": "code",
   "execution_count": 28,
   "metadata": {
    "colab": {
     "base_uri": "https://localhost:8080/",
     "height": 35
    },
    "colab_type": "code",
    "id": "18qRaemMCI69",
    "outputId": "c3180f8b-8d29-4166-e311-0dc37a6ff978"
   },
   "outputs": [],
   "source": [
    "# 우선 실행해 주세요.\n",
    "p = 0.7"
   ]
  },
  {
   "cell_type": "markdown",
   "metadata": {
    "colab_type": "text",
    "id": "z-VUILlh6Oz2"
   },
   "source": [
    "#### 답안지 입력란\n",
    "* 아래에 답을 서술하여 주세요\n",
    "* `answer3`에 답을 입력해 주세요"
   ]
  },
  {
   "cell_type": "code",
   "execution_count": 0,
   "metadata": {
    "colab": {},
    "colab_type": "code",
    "id": "ajpW-c916058"
   },
   "outputs": [],
   "source": []
  },
  {
   "cell_type": "markdown",
   "metadata": {
    "colab_type": "text",
    "id": "Yaw7pxFt6Oz3"
   },
   "source": [
    "#### 정답 확인\n",
    "정답 : 0.66818774"
   ]
  },
  {
   "cell_type": "markdown",
   "metadata": {
    "colab_type": "text",
    "id": "Rv-ctFMvQ7D4"
   },
   "source": [
    "## 문제 4. Logistic gradient 계산하기 \n",
    "\n",
    "텐서플로우를 이용해 -10부터 10까지  0.1 단위로 logitstic \n",
    "함수를 미분해 시각화 해보세요\n",
    "\n"
   ]
  },
  {
   "cell_type": "code",
   "execution_count": 30,
   "metadata": {
    "colab": {
     "base_uri": "https://localhost:8080/",
     "height": 287
    },
    "colab_type": "code",
    "id": "clhYMf3bHv6X",
    "outputId": "b2bc2ae2-7102-48ea-8699-bafef453aecf"
   },
   "outputs": [],
   "source": [
    "# 우선 실행해 주세요.\n",
    "ps = np.arange(-10, 10, 0.1)"
   ]
  },
  {
   "cell_type": "markdown",
   "metadata": {
    "colab_type": "text",
    "id": "CS5Z4Y086jhj"
   },
   "source": [
    "#### 답안지 입력란\n",
    "* 아래에 답을 서술하여 주세요\n"
   ]
  },
  {
   "cell_type": "code",
   "execution_count": 0,
   "metadata": {
    "colab": {},
    "colab_type": "code",
    "id": "6t174XJw60Kp"
   },
   "outputs": [],
   "source": []
  },
  {
   "cell_type": "markdown",
   "metadata": {
    "colab_type": "text",
    "id": "xImV3P1M6ZIP"
   },
   "source": [
    "#### 정답 확인 \n",
    "\n",
    "정답 : \n",
    "\n",
    "![Imgur](https://i.imgur.com/VjBJxub.png)\n"
   ]
  },
  {
   "cell_type": "markdown",
   "metadata": {
    "colab_type": "text",
    "id": "jcsLaIm9RVwv"
   },
   "source": [
    "## 문제 5. 엔트로피 계산하기\n",
    "\n",
    "오늘 일어날 사건은 A, B, C, D 4가지 입니다. \n",
    "\n",
    "그리고 각 일어날 확률은 아래와 같습니다. \n",
    "\n",
    "\n",
    "A 사건은 일어날 확률이 0.7 입니다. <br>\n",
    "B 사건은 일어날 확률이 0.26 입니다. <br>\n",
    "C 사건은 일어날 확률이 0.02 입니다. <br>\n",
    "D 사건은 일어날 확률이 0.02 입니다. <br>\n",
    "\n",
    "오늘 일어날 사건의 엔트로피를 텐서플로우를 이용해 구해주세요."
   ]
  },
  {
   "cell_type": "code",
   "execution_count": 32,
   "metadata": {},
   "outputs": [],
   "source": [
    "# 우선 실행해 주세요.\n",
    "ps = [0.7, 0.26, 0.02, 0.02]"
   ]
  },
  {
   "cell_type": "markdown",
   "metadata": {
    "colab_type": "text",
    "id": "HoR3M9JW6tZu"
   },
   "source": [
    "#### 답안지 입력란\n",
    "* 아래에 답을 서술하여 주세요.\n",
    "* `answer5`에 답을 입력해 주세요.\n"
   ]
  },
  {
   "cell_type": "code",
   "execution_count": 0,
   "metadata": {
    "colab": {},
    "colab_type": "code",
    "id": "nF72FovW6zC8"
   },
   "outputs": [],
   "source": []
  },
  {
   "cell_type": "markdown",
   "metadata": {
    "colab_type": "text",
    "id": "liO7CzmY6tZv"
   },
   "source": [
    "#### 정답 확인 \n",
    "\n",
    "정답 :  0.7563925\n"
   ]
  },
  {
   "cell_type": "markdown",
   "metadata": {
    "colab_type": "text",
    "id": "Mbg3Rn7kfSxI"
   },
   "source": [
    "## 문제 6. Cross - Entropy 계산하기\n",
    "\n",
    "아래 경우 Cross-entropy 을 구해주세요.\n",
    "\n",
    "|정답  | 0   | 1   |\n",
    "|-----|-----|-----|\n",
    "|예측값| 0.3 | 0.7 |"
   ]
  },
  {
   "cell_type": "markdown",
   "metadata": {
    "colab_type": "text",
    "id": "R3lfO0St7A8b"
   },
   "source": [
    "#### 답안지 입력란\n",
    "* 아래에 답을 서술하여 주세요\n",
    "* `answer6`에 답을 입력해 주세요.\n"
   ]
  },
  {
   "cell_type": "code",
   "execution_count": 0,
   "metadata": {
    "colab": {},
    "colab_type": "code",
    "id": "tdcCOcqz7A8c"
   },
   "outputs": [],
   "source": []
  },
  {
   "cell_type": "markdown",
   "metadata": {
    "colab_type": "text",
    "id": "57hkKQJy7A8e"
   },
   "source": [
    "#### 정답 확인 \n",
    "\n",
    "정답 :  0.35667497\n"
   ]
  },
  {
   "cell_type": "markdown",
   "metadata": {
    "colab_type": "text",
    "id": "Oi12PRD8mSFe"
   },
   "source": [
    "<hr>\n",
    "\n",
    "Copyright(c) 2019 by Public AI. All rights reserved.<br>\n",
    "Writen by PAI, Sangjae Kang ( rocketgrowthsj@publicai.co.kr )  last updated on 2019/02/22\n",
    "<hr>"
   ]
  }
 ],
 "metadata": {
  "colab": {
   "collapsed_sections": [],
   "name": "6_Classification_Problem.ipynb",
   "provenance": [],
   "toc_visible": true,
   "version": "0.3.2"
  },
  "kernelspec": {
   "display_name": "Python 3",
   "language": "python",
   "name": "python3"
  },
  "language_info": {
   "codemirror_mode": {
    "name": "ipython",
    "version": 3
   },
   "file_extension": ".py",
   "mimetype": "text/x-python",
   "name": "python",
   "nbconvert_exporter": "python",
   "pygments_lexer": "ipython3",
   "version": "3.6.5"
  }
 },
 "nbformat": 4,
 "nbformat_minor": 1
}
