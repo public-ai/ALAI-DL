{
 "cells": [
  {
   "cell_type": "markdown",
   "metadata": {},
   "source": [
    "## Python의 변수와 연산\n",
    "\n",
    "## Objective\n",
    "1. **변수를 만들고, 저장하는 방법을 배웁니다.**\n",
    "2. **Python으로, 숫자를 계산하는 방법을 배웁니다.**"
   ]
  },
  {
   "cell_type": "markdown",
   "metadata": {},
   "source": [
    "## 문제 1. 변수에 값 담기\n",
    "\n",
    "`x`라는 변수에 `1234`라는 정수값을 담아보세요"
   ]
  },
  {
   "cell_type": "markdown",
   "metadata": {},
   "source": [
    "#### 답안지 입력란\n",
    "* 아래에 답을 서술하여 주세요"
   ]
  },
  {
   "cell_type": "code",
   "execution_count": null,
   "metadata": {},
   "outputs": [],
   "source": []
  },
  {
   "cell_type": "markdown",
   "metadata": {},
   "source": [
    "#### 정답 확인\n",
    "* 정답을 입력한 후, 아래를 실행시키면 정답인지 확인합니다."
   ]
  },
  {
   "cell_type": "code",
   "execution_count": null,
   "metadata": {},
   "outputs": [],
   "source": [
    "assert 'x' in globals(), \"x에 값을 담았는지 확인해주세요\"\n",
    "\n",
    "if x == 1234:\n",
    "    print(\"정답입니다!!!!\")\n",
    "else:\n",
    "    raise ValueError(\"x가 1234인지 확인해 주세요\")"
   ]
  },
  {
   "cell_type": "markdown",
   "metadata": {},
   "source": [
    "## 문제 2. 변수끼리 값을 바꾸기\n",
    "* 현재 `x`와 `y`에는 각각 1234, 312의 값이 들어가 있습니다. `x`에 312, `y`에는 1234가 들어가도록 값을 넣어 주세요"
   ]
  },
  {
   "cell_type": "code",
   "execution_count": null,
   "metadata": {},
   "outputs": [],
   "source": [
    "# 우선 실행해주세요\n",
    "x = 1234\n",
    "y = 312"
   ]
  },
  {
   "cell_type": "markdown",
   "metadata": {},
   "source": [
    "#### 답안지 입력란\n",
    "* 아래에 답을 서술하여 주세요"
   ]
  },
  {
   "cell_type": "code",
   "execution_count": null,
   "metadata": {},
   "outputs": [],
   "source": []
  },
  {
   "cell_type": "markdown",
   "metadata": {},
   "source": [
    "#### 정답 확인\n",
    "* 정답을 입력한 후, 아래를 실행시키면 정답인지 확인합니다."
   ]
  },
  {
   "cell_type": "code",
   "execution_count": null,
   "metadata": {},
   "outputs": [],
   "source": [
    "assert 'x' in globals(), \"x에 값이 누락되어 있는지 확인해주세요\"\n",
    "assert 'y' in globals(), \"y에 값이 누락되어 있는지 확인해주세요\"\n",
    "\n",
    "if (x == 312):\n",
    "    if (y == 1234):\n",
    "        print(\"정답입니다!!!!\")\n",
    "    else:\n",
    "        raise ValueError(\"y에는 1234가 들어가야 합니다.\")\n",
    "else:\n",
    "    if (y == 1234):\n",
    "        raise ValueError(\"x에는 312가 들어가야 합니다.\")\n",
    "    else:\n",
    "        raise ValueError(\"x에는 312, y에는 1234가 들어가야 합니다.\")"
   ]
  },
  {
   "cell_type": "markdown",
   "metadata": {},
   "source": [
    "## 문제 3. 수식 풀기(1)\n",
    "아래의 수식의 결과를 파이썬으로 풀어주세요\n",
    "\n",
    "$$\n",
    "x = 12 , y = 3 일때, \n",
    "result = \\frac{(x^2 + 2y)}{3}\n",
    "$$"
   ]
  },
  {
   "cell_type": "code",
   "execution_count": null,
   "metadata": {},
   "outputs": [],
   "source": [
    "# 우선 실행해주세요\n",
    "x = 12\n",
    "y = 3"
   ]
  },
  {
   "cell_type": "markdown",
   "metadata": {},
   "source": [
    "#### 답안지 입력란\n",
    "* 아래에 답을 서술하여 주세요\n",
    "* 결과값은 `answer3`에 담아주세요"
   ]
  },
  {
   "cell_type": "code",
   "execution_count": null,
   "metadata": {},
   "outputs": [],
   "source": []
  },
  {
   "cell_type": "markdown",
   "metadata": {},
   "source": [
    "#### 정답 확인\n",
    "* 정답을 입력한 후, 아래를 실행시키면 정답인지 확인합니다."
   ]
  },
  {
   "cell_type": "code",
   "execution_count": null,
   "metadata": {},
   "outputs": [],
   "source": [
    "assert 'answer3' in globals(), \"결과를 answer3라는 변수에 담아주세요!, result의 값을 보고 평가합니다.\"\n",
    "\n",
    "if answer3 == 50.0:\n",
    "    print(\"정답입니다!!!!!\")\n",
    "else :\n",
    "    if x!=12 or y!=3:\n",
    "        raise ValueError(\"x에는 12, y에는 3이 담겨 있어야 합니다. x=12,y=3이 있는지 확인해주세요\")\n",
    "\n",
    "    raise ValueError(\"결과는 사실 50.0이 나와야 합니다, 파이썬 수식에서 오류가 있는지 확인해주세요\")"
   ]
  },
  {
   "cell_type": "markdown",
   "metadata": {},
   "source": [
    "## 문제 4. 수식 풀기(2)\n",
    "아래의 수식의 결과를 파이썬으로 풀어주세요\n",
    "\n",
    "$$\n",
    "x = 12 , y = 3 일때, \n",
    "result = \\frac{(x^2 + 2y)^3}{5}+(5x+2y)\n",
    "$$"
   ]
  },
  {
   "cell_type": "code",
   "execution_count": null,
   "metadata": {},
   "outputs": [],
   "source": [
    "# 우선 실행해주세요\n",
    "x = 12\n",
    "y = 3"
   ]
  },
  {
   "cell_type": "markdown",
   "metadata": {},
   "source": [
    "#### 답안지 입력란\n",
    "* 아래에 답을 서술하여 주세요\n",
    "* 결과값은 `answer4`에 담아주세요"
   ]
  },
  {
   "cell_type": "code",
   "execution_count": null,
   "metadata": {},
   "outputs": [],
   "source": []
  },
  {
   "cell_type": "markdown",
   "metadata": {},
   "source": [
    "#### 정답 확인\n",
    "* 정답을 입력한 후, 아래를 실행시키면 정답인지 확인합니다."
   ]
  },
  {
   "cell_type": "code",
   "execution_count": null,
   "metadata": {},
   "outputs": [],
   "source": [
    "assert 'answer4' in globals(), \"결과를 answer4 변수에 담아주세요!, answer4 값을 보고 평가합니다.\"\n",
    "    \n",
    "if answer4 == 675066.0:\n",
    "    print(\"정답입니다!!!!!\")\n",
    "else :\n",
    "    if x!=12 or y!=3:\n",
    "        raise ValueError(\"x에는 12, y에는 3이 담겨 있어야 합니다. x=12,y=3이 있는지 확인해주세요\")\n",
    "\n",
    "    raise ValueError(\"결과는 사실 675066.0이 나와야 합니다, 파이썬 수식에서 오류가 있는지 확인해주세요\")\n"
   ]
  },
  {
   "cell_type": "markdown",
   "metadata": {},
   "source": [
    "## 문제 5. 문자열 접근하기\n",
    "\n",
    "문자열 인덱싱을 이용하여 \n",
    "\n",
    "`고달픈 삶의 길에, 당신은 선물인걸, 이 사랑이 녹슬지 않도록, 늘 닦아 비출게요`\n",
    "\n",
    "의 문자열에서 \n",
    "\n",
    "`당신은 선물인걸` \n",
    "\n",
    "부분을 담아주세요\n"
   ]
  },
  {
   "cell_type": "code",
   "execution_count": null,
   "metadata": {},
   "outputs": [],
   "source": [
    "# 우선 실행해주세요\n",
    "lyrics = \"고달픈 삶의 길에, 당신은 선물인걸, 이 사랑이 녹슬지 않도록, 늘 닦아 비출게요\""
   ]
  },
  {
   "cell_type": "markdown",
   "metadata": {},
   "source": [
    "#### 답안지 입력란\n",
    "* 아래에 답을 서술하여 주세요\n",
    "* 결과값은 `answer5`에 담아주세요"
   ]
  },
  {
   "cell_type": "code",
   "execution_count": null,
   "metadata": {},
   "outputs": [],
   "source": []
  },
  {
   "cell_type": "markdown",
   "metadata": {},
   "source": [
    "#### 정답 확인\n",
    "* 정답을 입력한 후, 아래를 실행시키면 정답인지 확인합니다."
   ]
  },
  {
   "cell_type": "code",
   "execution_count": null,
   "metadata": {},
   "outputs": [],
   "source": [
    "assert 'answer5' in globals(), \"결과를 answer5라는 변수에 담아주세요!, answer5의 값을 보고 평가합니다.\"\n",
    "    \n",
    "if answer5.strip() == \"당신은 선물인걸\":\n",
    "    print(\"정답입니다!!!!!\")\n",
    "else :\n",
    "    raise ValueError(\"'당신은 선물인걸'이 나와야 합니다, 파이썬 수식에서 오류가 있는지 확인해주세요\")\n"
   ]
  },
  {
   "cell_type": "markdown",
   "metadata": {},
   "source": [
    "## 문제 6. 문자열 쪼개기\n",
    "\n",
    "문자열 쪼개기 기능을 이용하여 \n",
    "\n",
    "`고달픈 삶의 길에, 당신은 선물인걸, 이 사랑이 녹슬지 않도록, 늘 닦아 비출게요`\n",
    "\n",
    "의 문자열에서 `,`을 기준으로 나누어 주세요."
   ]
  },
  {
   "cell_type": "code",
   "execution_count": null,
   "metadata": {},
   "outputs": [],
   "source": [
    "# 우선 실행해주세요\n",
    "lyrics = \"고달픈 삶의 길에, 당신은 선물인걸, 이 사랑이 녹슬지 않도록, 늘 닦아 비출게요\""
   ]
  },
  {
   "cell_type": "markdown",
   "metadata": {},
   "source": [
    "#### 답안지 입력란\n",
    "* 아래에 답을 서술하여 주세요\n",
    "* 결과값은 `answer6`에 담아주세요"
   ]
  },
  {
   "cell_type": "code",
   "execution_count": null,
   "metadata": {},
   "outputs": [],
   "source": []
  },
  {
   "cell_type": "markdown",
   "metadata": {},
   "source": [
    "#### 정답 확인\n",
    "* 정답을 입력한 후, 아래를 실행시키면 정답인지 확인합니다."
   ]
  },
  {
   "cell_type": "code",
   "execution_count": null,
   "metadata": {},
   "outputs": [],
   "source": [
    "assert 'answer6' in globals(),(\n",
    "    \"결과를 answer6라는 변수에 담아주세요!, answer6의 값을 보고 평가합니다.\")\n",
    "    \n",
    "A = ['고달픈 삶의 길에',\n",
    "     ' 당신은 선물인걸',\n",
    "     ' 이 사랑이 녹슬지 않도록',\n",
    "     ' 늘 닦아 비출게요']\n",
    "for idx, (_answer, _A) in enumerate(zip(answer6,A)):\n",
    "    if _answer != _A:\n",
    "        raise ValueError(\"{}번째 원소가 {}가 되어야 합니다.\".format(idx,_A))\n",
    "else:\n",
    "    print(\"정답입니다!!!!\")"
   ]
  },
  {
   "cell_type": "markdown",
   "metadata": {},
   "source": [
    "<hr>\n",
    "\n",
    "Copyright(c) 2019 by Public AI. All rights reserved.<br>\n",
    "Writen by PAI, Sangjae Kang ( rocketgrowthsj@publicai.co.kr )  last updated on 2019/02/22\n",
    "<hr>"
   ]
  }
 ],
 "metadata": {
  "kernelspec": {
   "display_name": "Python 3",
   "language": "python",
   "name": "python3"
  },
  "language_info": {
   "codemirror_mode": {
    "name": "ipython",
    "version": 3
   },
   "file_extension": ".py",
   "mimetype": "text/x-python",
   "name": "python",
   "nbconvert_exporter": "python",
   "pygments_lexer": "ipython3",
   "version": "3.6.5"
  }
 },
 "nbformat": 4,
 "nbformat_minor": 2
}
