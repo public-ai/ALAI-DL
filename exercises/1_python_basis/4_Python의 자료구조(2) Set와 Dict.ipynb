{
 "cells": [
  {
   "cell_type": "markdown",
   "metadata": {},
   "source": [
    "# Python의 자료구조(2), Set와 Dict\n",
    "\n",
    "* 파이썬에서는 기본 변수이외에도 List, Tuple, Set, Dictionary 와 같은 다양한 자료구조를 지원합니다. 이번 시간에는 그 중 순서가 따로 정해지지 않은 자료형인 Set와 Dict에 대해 다루어 보도록 하겠습니다.\n"
   ]
  },
  {
   "cell_type": "markdown",
   "metadata": {},
   "source": [
    "#### 예제) AOA 팀 멤버 분석\n",
    "\n",
    "AOA은 크게 3개의 유닛이 있고, 탈퇴한 사람들이 존재하다. 그 정보는 아래와 같다. \n",
    "\n",
    "| 유닛  | 멤버 |\n",
    "| ---- |---- |\n",
    "| 블랙  | 지민, 유나, 유경, 초아 |\n",
    "| 화이트 | 설현, 혜정, 찬미 |\n",
    "| 크림 | 유나, 혜정, 찬미 |\n",
    "| 탈퇴 | 유경, 초아 |"
   ]
  },
  {
   "cell_type": "markdown",
   "metadata": {},
   "source": [
    "## 문제 1. 셋의 크기 세기\n",
    "\n",
    "* 유닛 `화이트`의 멤버 수를 세어주세요"
   ]
  },
  {
   "cell_type": "code",
   "execution_count": 34,
   "metadata": {},
   "outputs": [],
   "source": [
    "# 우선 실행해주세요\n",
    "white = {\"설현\",\"혜정\", \"찬미\"}"
   ]
  },
  {
   "cell_type": "markdown",
   "metadata": {},
   "source": [
    "#### 답안지 입력란\n",
    "* 아래에 답을 서술하여 주세요\n",
    "* 결과값은 `answer1`에 담아주세요"
   ]
  },
  {
   "cell_type": "code",
   "execution_count": 35,
   "metadata": {},
   "outputs": [],
   "source": []
  },
  {
   "cell_type": "markdown",
   "metadata": {},
   "source": [
    "#### 정답 확인\n",
    "* 정답을 입력한 후, 아래를 실행시키면 정답인지 확인합니다."
   ]
  },
  {
   "cell_type": "code",
   "execution_count": 37,
   "metadata": {},
   "outputs": [
    {
     "name": "stdout",
     "output_type": "stream",
     "text": [
      "정답입니다!!!!\n"
     ]
    }
   ],
   "source": [
    "assert 'answer1' in globals(), \"결과를 answer1 변수에 담아주세요!, answer1 값을 보고 평가합니다.\"\n",
    "\n",
    "if (answer1 == 3):\n",
    "    print(\"정답입니다!!!!\")\n",
    "else:\n",
    "    raise ValueError(\"3이 나와야합니다. 다시 확인해주세요!\")"
   ]
  },
  {
   "cell_type": "markdown",
   "metadata": {},
   "source": [
    "## 문제 2. 두 셋의 교집합 구하기\n",
    "\n",
    "* 유닛 `화이트`와 `크림`에 같이 있는 멤버들 집합을 구해주세요"
   ]
  },
  {
   "cell_type": "code",
   "execution_count": 39,
   "metadata": {},
   "outputs": [],
   "source": [
    "# 우선 실행해주세요\n",
    "white = {\"혜정\", \"찬미\", \"설현\"}\n",
    "cream = {\"유나\", \"혜정\", \"찬미\"}"
   ]
  },
  {
   "cell_type": "markdown",
   "metadata": {},
   "source": [
    "#### 답안지 입력란\n",
    "* 아래에 답을 서술하여 주세요\n",
    "* 결과값은 `answer2`에 담아주세요"
   ]
  },
  {
   "cell_type": "code",
   "execution_count": 42,
   "metadata": {},
   "outputs": [],
   "source": []
  },
  {
   "cell_type": "markdown",
   "metadata": {},
   "source": [
    "#### 정답 확인\n",
    "* 정답을 입력한 후, 아래를 실행시키면 정답인지 확인합니다."
   ]
  },
  {
   "cell_type": "code",
   "execution_count": 45,
   "metadata": {},
   "outputs": [
    {
     "name": "stdout",
     "output_type": "stream",
     "text": [
      "정답입니다!!!!\n"
     ]
    }
   ],
   "source": [
    "assert 'answer2' in globals(), \"결과를 answer2 변수에 담아주세요!, answer2 값을 보고 평가합니다.\"\n",
    "\n",
    "A = {'찬미', '혜정'}\n",
    "if (answer2 == A):\n",
    "    print(\"정답입니다!!!!\")\n",
    "else:\n",
    "    raise ValueError(\n",
    "'''\n",
    "정답  : {}\n",
    "현재값 : {}\n",
    "입니다. 확인해주세요\n",
    "'''.format(A, answer2))\n",
    "    "
   ]
  },
  {
   "cell_type": "markdown",
   "metadata": {},
   "source": [
    "## 문제 3. 두 셋의 합집합 구하기\n",
    "\n",
    "* AOA 모든 멤버들의 집합을 구해주세요"
   ]
  },
  {
   "cell_type": "code",
   "execution_count": 55,
   "metadata": {},
   "outputs": [],
   "source": [
    "# 우선 실행해주세요\n",
    "black = {\"지민\", \"유나\", \"유경\", \"초아\"}\n",
    "white = {\"설현\",\"혜정\", \"찬미\"}\n",
    "cream = {\"유나\", \"혜정\", \"찬미\"}"
   ]
  },
  {
   "cell_type": "markdown",
   "metadata": {},
   "source": [
    "#### 답안지 입력란\n",
    "* 아래에 답을 서술하여 주세요\n",
    "* 결과값은 `answer3`에 담아주세요"
   ]
  },
  {
   "cell_type": "code",
   "execution_count": 56,
   "metadata": {},
   "outputs": [],
   "source": []
  },
  {
   "cell_type": "markdown",
   "metadata": {},
   "source": [
    "#### 정답 확인\n",
    "* 정답을 입력한 후, 아래를 실행시키면 정답인지 확인합니다."
   ]
  },
  {
   "cell_type": "code",
   "execution_count": 58,
   "metadata": {},
   "outputs": [
    {
     "name": "stdout",
     "output_type": "stream",
     "text": [
      "정답입니다!!!!\n"
     ]
    }
   ],
   "source": [
    "assert 'answer3' in globals(), \"결과를 answer3 변수에 담아주세요!, answer3 값을 보고 평가합니다.\"\n",
    "\n",
    "A = {'찬미', '설현', '지민', '유경', '초아', '유나', '혜정'}\n",
    "if (answer3 == A):\n",
    "    print(\"정답입니다!!!!\")\n",
    "else:\n",
    "    raise ValueError(\n",
    "'''\n",
    "정답  : {}\n",
    "현재값 : {}\n",
    "입니다. 확인해주세요\n",
    "'''.format(A, answer3))\n",
    "    "
   ]
  },
  {
   "cell_type": "markdown",
   "metadata": {},
   "source": [
    "## 문제 4. Dictionary 만들기\n",
    "\n",
    "* AOA 유닛의 이름이 Key, AOA 유닛의 멤버들의 리스트가 Value로 들어가는 dictionary를 만들어주세요\n",
    "\n",
    "|key | value |\n",
    "|---|---|\n",
    "| 블랙 | '지민', '유나', '유경', '초아' |\n",
    "| 화이트 | '설현', '혜정', '찬미' |\n",
    "| 크림 | '유나', '혜정', '찬미'"
   ]
  },
  {
   "cell_type": "markdown",
   "metadata": {},
   "source": [
    "#### 답안지 입력란\n",
    "* 아래에 답을 서술하여 주세요\n",
    "* 결과값은 `answer4`에 담아주세요"
   ]
  },
  {
   "cell_type": "code",
   "execution_count": 74,
   "metadata": {},
   "outputs": [],
   "source": []
  },
  {
   "cell_type": "markdown",
   "metadata": {},
   "source": [
    "#### 정답 확인\n",
    "* 정답을 입력한 후, 아래를 실행시키면 정답인지 확인합니다."
   ]
  },
  {
   "cell_type": "code",
   "execution_count": 80,
   "metadata": {},
   "outputs": [
    {
     "name": "stdout",
     "output_type": "stream",
     "text": [
      "정답입니다!!!\n"
     ]
    }
   ],
   "source": [
    "assert 'answer4' in globals(), \"결과를 answer4 변수에 담아주세요!, answer4 값을 보고 평가합니다.\"\n",
    "\n",
    "A = {\n",
    " '블랙': ['지민', '유나', '유경', '초아'],\n",
    " '화이트': ['설현', '혜정', '찬미'],\n",
    " '크림': ['유나', '혜정', '찬미']\n",
    "}\n",
    "\n",
    "assert set(answer4.keys())== set(A.keys()), '''\n",
    "제출한 키가 정답과 다릅니다.\n",
    "정답  : {}\n",
    "현재값 : {}\n",
    "확인해주세요!\n",
    "'''.format(set(A.keys()), set(answer4.keys()))\n",
    "\n",
    "\n",
    "for unit_name, members in A.items():\n",
    "    _members = answer4[unit_name]\n",
    "    if set(members) != set(_members):\n",
    "        raise ValueError(\n",
    "'''\n",
    "키 {}에 담긴 멤버들의 이름이 틀립니다.\n",
    "정답  : {}\n",
    "현재값 : {}\n",
    "입니다. 확인해주세요\n",
    "'''.format(unit_name, members, _members))\n",
    "    \n",
    "else:\n",
    "    print(\"정답입니다!!!\")\n"
   ]
  },
  {
   "cell_type": "markdown",
   "metadata": {},
   "source": [
    "## 문제 5. Dictionary 값 가져오기\n",
    "\n",
    "* AOA의 멤버정보가 들어간 dictionary에서 블랙 멤버 중 0번째, 1번째 멤버들의 이름을 가져와 주세요"
   ]
  },
  {
   "cell_type": "code",
   "execution_count": 85,
   "metadata": {},
   "outputs": [],
   "source": [
    "# 우선 실행해주세요\n",
    "aoa = {\n",
    " '블랙': ['지민', '유나', '유경', '초아'],\n",
    " '화이트': ['설현', '혜정', '찬미'],\n",
    " '크림': ['유나', '혜정', '찬미']\n",
    "}"
   ]
  },
  {
   "cell_type": "markdown",
   "metadata": {},
   "source": [
    "#### 답안지 입력란\n",
    "* 아래에 답을 서술하여 주세요\n",
    "* 결과값은 `answer5`에 담아주세요"
   ]
  },
  {
   "cell_type": "code",
   "execution_count": 86,
   "metadata": {},
   "outputs": [],
   "source": []
  },
  {
   "cell_type": "markdown",
   "metadata": {},
   "source": [
    "#### 정답 확인\n",
    "* 정답을 입력한 후, 아래를 실행시키면 정답인지 확인합니다."
   ]
  },
  {
   "cell_type": "code",
   "execution_count": 93,
   "metadata": {},
   "outputs": [
    {
     "name": "stdout",
     "output_type": "stream",
     "text": [
      "정답입니다!!!\n"
     ]
    }
   ],
   "source": [
    "assert 'answer5' in globals(), \"결과를 answer5 변수에 담아주세요!, answer5 값을 보고 평가합니다.\"\n",
    "\n",
    "A = [\"지민\", \"유나\"]\n",
    "\n",
    "assert len(A) == len(answer5), '''\n",
    "멤버 수가 다릅니다.\n",
    "정답  : {}\n",
    "현재값 : {}\n",
    "입니다. 확인해 주세요.\n",
    "'''.format(A, answer5)\n",
    "\n",
    "for member, _member in zip(A,answer5):\n",
    "    if member != _member:\n",
    "        raise ValueError(\n",
    "'''\n",
    "멤버들의 순서 혹은 이름이 다릅니다.\n",
    "정답  : {}\n",
    "현재값 : {}\n",
    "입니다. 확인해주세요\n",
    "'''.format(A,answer5)) \n",
    "else:\n",
    "    print(\"정답입니다!!!\")\n"
   ]
  },
  {
   "cell_type": "markdown",
   "metadata": {},
   "source": [
    "## 문제 6. Dictionary 값 추가하기\n",
    "\n",
    "* AOA의 멤버정보가 들어간 dictionary에 `골드`라는 유닛 이름으로, `['설현','지민']`을 추가해 주세요."
   ]
  },
  {
   "cell_type": "code",
   "execution_count": 94,
   "metadata": {},
   "outputs": [],
   "source": [
    "# 우선 실행해주세요\n",
    "aoa = {\n",
    " '블랙': ['지민', '유나', '유경', '초아'],\n",
    " '화이트': ['설현', '혜정', '찬미'],\n",
    " '크림': ['유나', '혜정', '찬미']\n",
    "}"
   ]
  },
  {
   "cell_type": "markdown",
   "metadata": {},
   "source": [
    "#### 답안지 입력란\n",
    "* 아래에 답을 서술하여 주세요\n",
    "* 결과값은 `aoa`에 담아주세요"
   ]
  },
  {
   "cell_type": "code",
   "execution_count": 106,
   "metadata": {},
   "outputs": [],
   "source": []
  },
  {
   "cell_type": "markdown",
   "metadata": {},
   "source": [
    "#### 정답 확인\n",
    "* 정답을 입력한 후, 아래를 실행시키면 정답인지 확인합니다."
   ]
  },
  {
   "cell_type": "code",
   "execution_count": 107,
   "metadata": {},
   "outputs": [
    {
     "name": "stdout",
     "output_type": "stream",
     "text": [
      "정답입니다!!!\n"
     ]
    }
   ],
   "source": [
    "assert 'aoa' in globals(), \"결과를 aoa 변수에 담아주세요!, aoa 값을 보고 평가합니다.\"\n",
    "\n",
    "A = {'블랙': ['지민', '유나', '유경', '초아'],\n",
    " '화이트': ['설현', '혜정', '찬미'],\n",
    " '크림': ['유나', '혜정', '찬미'],\n",
    " '골드': ['설현', '지민']}\n",
    "\n",
    "assert '골드' in aoa, \"aoa에 골드라는 이름으로 키값을 추가시켜 주세요\"\n",
    "\n",
    "assert set(aoa['골드']) == set(A['골드']), '''\n",
    "골드의 멤버 이름이 다릅니다.\n",
    "정답  : {},\n",
    "현재값 : {}\n",
    "다시 한번 확인해주세요\n",
    "'''.format(A['골드'], aoa[\"골드\"])\n",
    "\n",
    "print(\"정답입니다!!!\")"
   ]
  },
  {
   "cell_type": "markdown",
   "metadata": {},
   "source": [
    "#  \n",
    "\n",
    "\n",
    "<hr>\n",
    "\n",
    "Copyright(c) 2019 by Public AI. All rights reserved.<br>\n",
    "Writen by PAI, SangJae Kang ( rocketgrowthsj@publicai.co.kr )  last updated on 2019/01/24\n",
    "<hr>"
   ]
  }
 ],
 "metadata": {
  "kernelspec": {
   "display_name": "Python 3",
   "language": "python",
   "name": "python3"
  },
  "language_info": {
   "codemirror_mode": {
    "name": "ipython",
    "version": 3
   },
   "file_extension": ".py",
   "mimetype": "text/x-python",
   "name": "python",
   "nbconvert_exporter": "python",
   "pygments_lexer": "ipython3",
   "version": "3.6.5"
  }
 },
 "nbformat": 4,
 "nbformat_minor": 2
}
