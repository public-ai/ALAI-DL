{
 "cells": [
  {
   "cell_type": "markdown",
   "metadata": {},
   "source": [
    "# Python의 클래스와 상속"
   ]
  },
  {
   "cell_type": "markdown",
   "metadata": {},
   "source": [
    "## 문제 1. Vector Class 만들기\n",
    "\n",
    "* Vector는 (x,y)으로 이루어진 좌표 점입니다. Vector간의 연산 (더하기, 빼기)를 구현한 클래스를 만들어주세요.\n",
    "\n",
    "````python\n",
    "vec1 = Vector(1,2)\n",
    "vec2 = Vector(2,3)\n",
    "vec1 + vec2\n",
    ">>> <Vector : (3,5)>\n",
    "vec1 - vec2              \n",
    ">>> <Vector : (-1,-1)>\n",
    "````"
   ]
  },
  {
   "cell_type": "markdown",
   "metadata": {},
   "source": [
    "#### 답안지 입력란\n",
    "* 아래에 답을 서술하여 주세요\n",
    "* 클래스 이름은 `Vector`로 해주세요"
   ]
  },
  {
   "cell_type": "code",
   "execution_count": 1,
   "metadata": {},
   "outputs": [],
   "source": [
    "class Vector():\n",
    "    def __init__(self, x, y):\n",
    "        self.x = x\n",
    "        self.y = y\n",
    "        \n",
    "    def __repr__(self):\n",
    "        return \"<Vector : ({},{})>\".format(self.x, self.y)\n",
    "        \n",
    "    def __add__(self, other):\n",
    "        ############\n",
    "        # CODE HERE!\n",
    "        ############\n",
    "        return\n",
    "    \n",
    "    def __sub__(self, other):\n",
    "        ############\n",
    "        # CODE HERE!\n",
    "        ############        \n",
    "        return "
   ]
  },
  {
   "cell_type": "markdown",
   "metadata": {},
   "source": [
    "#### 정답 확인\n",
    "* 정답을 입력한 후, 아래를 실행시키면 정답인지 확인합니다."
   ]
  },
  {
   "cell_type": "code",
   "execution_count": 3,
   "metadata": {},
   "outputs": [
    {
     "name": "stdout",
     "output_type": "stream",
     "text": [
      "정답입니다!!\n"
     ]
    }
   ],
   "source": [
    "assert 'Vector' in globals(), \"클래스 명을 Vector로 해주세요\"\n",
    "_vec1 = Vector(10,3)\n",
    "_vec2 = Vector(2,5)\n",
    "_add = _vec1 + _vec2\n",
    "_sub = _vec1 - _vec2\n",
    "assert _add.x == 12 and _add.y == 8,(\n",
    "    \"Vector(10,3) + Vector(2,5) => Vector(12,8)이 되어야 합니다.\")\n",
    "assert _sub.x == 8  and _sub.y == -2,(\n",
    "    \"Vector(10,3) - Vector(2,5) => Vector(8,-2)이 되어야 합니다.\")\n",
    "\n",
    "print(\"정답입니다!!\")"
   ]
  },
  {
   "cell_type": "markdown",
   "metadata": {},
   "source": [
    "## 문제 2. WeightedVector Class 만들기\n",
    "\n",
    "* WeightedVector는 Vector Class와 마찬가지로, 위치 점을 가지고 있고, 그것에 더해 weight라는 인스턴스 변수를 가지고 있는 함수입니다. Vector를 상속받아, weight를 구현해 주세요\n",
    "\n",
    "````python\n",
    "vec1 = WeightedVector(1,2,0.5)\n",
    ">>> <WeightedVector : (1,2,0.5)>\n",
    "vec2 = WeightedVector(2,5,1.5)\n",
    ">>> <WeightedVector : (2,5,1.5)>\n",
    "````"
   ]
  },
  {
   "cell_type": "markdown",
   "metadata": {},
   "source": [
    "#### 답안지 입력란\n",
    "* 아래에 답을 서술하여 주세요\n",
    "* 메소드 이름은 `calculate_second`로 해주세요"
   ]
  },
  {
   "cell_type": "code",
   "execution_count": 4,
   "metadata": {},
   "outputs": [],
   "source": [
    "class WeightedVector(Vector):\n",
    "    def __init__(self, x, y, weight):\n",
    "        ############\n",
    "        # CODE HERE!\n",
    "        ############\n",
    "        pass\n",
    "        \n",
    "    def __repr__(self):\n",
    "        ############\n",
    "        # CODE HERE!\n",
    "        ############\n",
    "        return "
   ]
  },
  {
   "cell_type": "markdown",
   "metadata": {},
   "source": [
    "#### 정답 확인\n",
    "* 정답을 입력한 후, 아래를 실행시키면 정답인지 확인합니다."
   ]
  },
  {
   "cell_type": "code",
   "execution_count": 6,
   "metadata": {},
   "outputs": [
    {
     "name": "stdout",
     "output_type": "stream",
     "text": [
      "정답입니다!!\n"
     ]
    }
   ],
   "source": [
    "assert 'WeightedVector' in globals(), \"클래스 명을 WeightedVector 해주세요\"\n",
    "Vec = WeightedVector\n",
    "assert issubclass(Vec,Vector), (\n",
    "    \"WeightedVector는 Vector을 상속받아서 구현해주세요\")\n",
    "assert repr(Vec(1,2,.5))==\"<WeightedVector : (1,2,0.5)>\",(\n",
    "    \"WeightedVector(1,2,.5)의 repr은 <WeightedVector : (1,2,0.5)>와 같게 나와야 합니다.\")\n",
    "assert repr(Vec(2,5,1.5))==\"<WeightedVector : (2,5,1.5)>\",(\n",
    "    \"WeightedVector(2,5,1.5)의 repr은 <WeightedVector : (2,5,1.5)>와 같게 나와야 합니다.\")\n",
    "\n",
    "print(\"정답입니다!!\")"
   ]
  },
  {
   "cell_type": "markdown",
   "metadata": {},
   "source": [
    "## 문제 3. WeightedVector의 무게 중심 구하는 Method 구현하기\n",
    "\n",
    "* 서로 다른 무게를 가진 두 점(pt1, pt2)이 있을 때, 두 점의 무게 중심점은 아래처럼 구할 수 있습니다.\n",
    "$$\n",
    "pt_1 = (x_1,y_1,m_1), pt_2 = (x_2,y_2,m_2) \\mbox{일때}\\\\\n",
    "\\mbox{무게중심 x : }x_{center} = \\frac{m_1*x_1 + m_2*x_2}{m_1+m_2}\\\\\n",
    "\\mbox{무게중심 y : }y_{center} = \\frac{m_1*y_1 + m_2*y_2}{m_1+m_2}\\\\\n",
    "$$\n",
    "\n",
    "\n",
    "* 위의 수식을 이용해서, WeightedVector간의 무게 중심을 구하는 `center_from`을 구현해 주세요.\n",
    "\n",
    "```python\n",
    "wvec1 = WeightedVector(1.,1.,1.)\n",
    "wvec1\n",
    ">>> <WeightedVector : (1.0,1.0,1.0)>\n",
    "wvec2 = WeightedVector(5.,5.,3.)\n",
    "wvec2\n",
    ">>> <WeightedVector : (5.0,5.0,3.0)>\n",
    "wvec1.center_from(wvec2)\n",
    ">>> <Vector : (4.0,4.0)>\n",
    "```"
   ]
  },
  {
   "cell_type": "markdown",
   "metadata": {},
   "source": [
    "#### 답안지 입력란\n",
    "* 아래에 답을 서술하여 주세요\n",
    "* 클래스 이름은 `WeightedVector`로, \n",
    "  구현하는 메소드 이름은 `center_from`으로 해주세요"
   ]
  },
  {
   "cell_type": "code",
   "execution_count": 7,
   "metadata": {},
   "outputs": [],
   "source": [
    "class WeightedVector(Vector):\n",
    "    def __init__(self, x, y, weight):\n",
    "        ############\n",
    "        # CODE HERE!\n",
    "        # 위에서 작성한 Weighted Vector와 \n",
    "        # 동일하게 구현하시면 됩니다.\n",
    "        ############\n",
    "        pass\n",
    "        \n",
    "    def __repr__(self):\n",
    "        ############\n",
    "        # CODE HERE!\n",
    "        # 위에서 작성한 Weighted Vector와 \n",
    "        # 동일하게 구현하시면 됩니다.        \n",
    "        ############\n",
    "        return \n",
    "    \n",
    "    def center_from(self, other):\n",
    "        ############\n",
    "        # CODE HERE!\n",
    "        ############\n",
    "        return"
   ]
  },
  {
   "cell_type": "markdown",
   "metadata": {},
   "source": [
    "#### 정답 확인\n",
    "* 정답을 입력한 후, 아래를 실행시키면 정답인지 확인합니다."
   ]
  },
  {
   "cell_type": "code",
   "execution_count": 9,
   "metadata": {},
   "outputs": [
    {
     "name": "stdout",
     "output_type": "stream",
     "text": [
      "정답입니다!!\n"
     ]
    }
   ],
   "source": [
    "assert 'WeightedVector' in globals(), \"클래스 명을 WeightedVector 해주세요\"\n",
    "assert \"center_from\" in dir(WeightedVector), \"WeightedVector 내 메소드로 center_from을 구현해주세요\"\n",
    "\n",
    "_wvec1 = WeightedVector(1.,1.,1.)\n",
    "_wvec2 = WeightedVector(5.,5.,3.)\n",
    "\n",
    "_result = _wvec1.center_from(_wvec2)\n",
    "assert issubclass(WeightedVector, Vector), (\n",
    "    \"WeightedVector는 Vector을 상속받아서 구현해주세요\")\n",
    "assert repr(_wvec1)==\"<WeightedVector : (1.0,1.0,1.0)>\",(\n",
    "    \"WeightedVector(1.,1.,1.)의 repr은 <WeightedVector : (1.0,1.0,1.0)>와 같게 나와야 합니다.\")\n",
    "assert repr(_wvec2)==\"<WeightedVector : (5.0,5.0,3.0)>\",(\n",
    "    \"WeightedVector(5.,5.,3.)의 repr은 <WeightedVector : (5.0,5.0,3.0)>와 같게 나와야 합니다.\")\n",
    "assert isinstance(_result, Vector), (\n",
    "    \"center_from의 반환값의 Class는 Vector이어야 합니다.\")\n",
    "assert _result.x == 4. and _result.y == 4., (\n",
    "    '''\n",
    "    WeightedVector(1.,1.,1.).center_from(WeightedVector(5.,5.,3.))은\n",
    "    Vector(4.0,4.0)을 반환해야 합니다.\n",
    "    ''')\n",
    "\n",
    "print(\"정답입니다!!\")"
   ]
  },
  {
   "cell_type": "markdown",
   "metadata": {},
   "source": [
    "\n",
    "\n",
    "<hr>\n",
    "\n",
    "Copyright(c) 2019 by Public AI. All rights reserved.<br>\n",
    "Writen by PAI, SangJae Kang ( rocketgrowthsj@publicai.co.kr )  last updated on 2019/01/24\n",
    "<hr>"
   ]
  }
 ],
 "metadata": {
  "kernelspec": {
   "display_name": "Python 3",
   "language": "python",
   "name": "python3"
  },
  "language_info": {
   "codemirror_mode": {
    "name": "ipython",
    "version": 3
   },
   "file_extension": ".py",
   "mimetype": "text/x-python",
   "name": "python",
   "nbconvert_exporter": "python",
   "pygments_lexer": "ipython3",
   "version": "3.6.5"
  }
 },
 "nbformat": 4,
 "nbformat_minor": 2
}
