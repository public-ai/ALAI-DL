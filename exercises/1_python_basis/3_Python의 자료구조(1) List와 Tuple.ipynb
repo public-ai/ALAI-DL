{
 "cells": [
  {
   "cell_type": "markdown",
   "metadata": {},
   "source": [
    "# Python의 자료구조(1), List와 Tuple\n",
    "\n",
    "> 파이썬에서는 기본 변수이외에도 List, Tuple, Set, Dictionary 와 같은 다양한 자료구조를 지원합니다. 이번 시간에는 그 중 순서가 있는 자료형인 List와 Tuple에 대해 다루어 보도록 하겠습니다.\n"
   ]
  },
  {
   "cell_type": "markdown",
   "metadata": {},
   "source": [
    "#### 예제) alai 동물원에 존재하는 동물 리스트들\n",
    "\n",
    "```\n",
    "['골리앗창뿔풍뎅이', '시베리아호랑이', '개미', '고메라큰도마뱀', \n",
    " '메추라기', '아메리카새우', '뉴질랜드검은머리흰죽지', '에콰도르산왕부리', \n",
    " '알락꼬리고양이', '매가오리과', '심해어', '납지리', '솔개류', '귀상어', \n",
    " '쇠찌르레기', '스페인스라소니', '붉은따오기', '에콰도르분홍발톱타란튤라', \n",
    " '부채꼬리뇌조', '무지개아마존앵무']\n",
    "```"
   ]
  },
  {
   "cell_type": "markdown",
   "metadata": {},
   "source": [
    "## 문제 1. 리스트에서 값 가져오기(1)"
   ]
  },
  {
   "cell_type": "markdown",
   "metadata": {},
   "source": [
    "* 리스트의 인덱싱을 활용하여 동물원의 동물 리스트에서 3번째 원소값인(고메라큰도마뱀)을 가져와 주세요\n",
    "\n",
    "**주의 : 프로그래밍에서는 일반적으로 0번째부터 1번째, 2번째 순으로 인덱스를 셉니다**"
   ]
  },
  {
   "cell_type": "code",
   "execution_count": null,
   "metadata": {},
   "outputs": [],
   "source": [
    "# 우선 실행해주세요\n",
    "animals = ['골리앗창뿔풍뎅이', '시베리아호랑이', '개미', '고메라큰도마뱀', \n",
    " '메추라기', '아메리카새우', '뉴질랜드검은머리흰죽지', '에콰도르산왕부리', \n",
    " '알락꼬리고양이', '매가오리과', '심해어', '납지리', '솔개류', '귀상어', \n",
    " '쇠찌르레기', '스페인스라소니', '붉은따오기', '에콰도르분홍발톱타란튤라', \n",
    " '부채꼬리뇌조', '무지개아마존앵무']"
   ]
  },
  {
   "cell_type": "markdown",
   "metadata": {},
   "source": [
    "#### 답안지 입력란\n",
    "* 아래에 답을 서술하여 주세요\n",
    "* 결과값은 `answer1`에 담아주세요"
   ]
  },
  {
   "cell_type": "code",
   "execution_count": null,
   "metadata": {},
   "outputs": [],
   "source": []
  },
  {
   "cell_type": "markdown",
   "metadata": {},
   "source": [
    "#### 정답 확인\n",
    "* 정답을 입력한 후, 아래를 실행시키면 정답인지 확인합니다."
   ]
  },
  {
   "cell_type": "code",
   "execution_count": null,
   "metadata": {},
   "outputs": [],
   "source": [
    "assert 'answer1' in globals(), \"결과를 answer1 변수에 담아주세요!, answer1 값을 보고 평가합니다.\"\n",
    "\n",
    "if (answer1 == '고메라큰도마뱀'):\n",
    "    print(\"정답입니다!!!!\")\n",
    "else:\n",
    "    raise ValueError(\"고메라큰도마뱀이 나와야합니다. 파이썬에서의 인덱스는 0부터 시작해요 주의해주세요!\")\n",
    "    "
   ]
  },
  {
   "cell_type": "markdown",
   "metadata": {},
   "source": [
    "## 문제 2. 리스트에서 값 가져오기(2)"
   ]
  },
  {
   "cell_type": "markdown",
   "metadata": {},
   "source": [
    "* 리스트의 인덱싱을 활용하여 동물 이름 리스트에서 **5번째 부터 8번째**의 동물이름('아메리카새우', '뉴질랜드검은머리흰죽지', '에콰도르산왕부리')들을 가져와 주세요!"
   ]
  },
  {
   "cell_type": "code",
   "execution_count": null,
   "metadata": {},
   "outputs": [],
   "source": [
    "# 우선 실행해주세요\n",
    "animals = ['골리앗창뿔풍뎅이', '시베리아호랑이', '개미', '고메라큰도마뱀', \n",
    " '메추라기', '아메리카새우', '뉴질랜드검은머리흰죽지', '에콰도르산왕부리', \n",
    " '알락꼬리고양이', '매가오리과', '심해어', '납지리', '솔개류', '귀상어', \n",
    " '쇠찌르레기', '스페인스라소니', '붉은따오기', '에콰도르분홍발톱타란튤라', \n",
    " '부채꼬리뇌조', '무지개아마존앵무']"
   ]
  },
  {
   "cell_type": "markdown",
   "metadata": {},
   "source": [
    "#### 답안지 입력란\n",
    "* 아래에 답을 서술하여 주세요\n",
    "* 결과값은 `answer2`에 담아주세요"
   ]
  },
  {
   "cell_type": "code",
   "execution_count": null,
   "metadata": {},
   "outputs": [],
   "source": []
  },
  {
   "cell_type": "markdown",
   "metadata": {},
   "source": [
    "#### 정답 확인\n",
    "* 정답을 입력한 후, 아래를 실행시키면 정답인지 확인합니다."
   ]
  },
  {
   "cell_type": "code",
   "execution_count": null,
   "metadata": {},
   "outputs": [],
   "source": [
    "assert 'answer2' in globals(), \"결과를 answer2 변수에 담아주세요!, answer2 값을 보고 평가합니다.\"\n",
    "\n",
    "\n",
    "A = ['아메리카새우', '뉴질랜드검은머리흰죽지', '에콰도르산왕부리']\n",
    "\n",
    "\n",
    "try:\n",
    "    assert len(A) == len(answer2), \"갯수가 맞지 않습니다\"\n",
    "    for idx, _A in enumerate(A):\n",
    "        answer = answer2[idx]\n",
    "        assert answer == _A\n",
    "    else:\n",
    "        print(\"정답입니다!!!!\")\n",
    "except:\n",
    "    raise ValueError(\"\\n정답  : {}\\n현재값 : {}\\n입니다.다시 수정해서 제출해주세요!\".format(A,answer2))\n"
   ]
  },
  {
   "cell_type": "markdown",
   "metadata": {},
   "source": [
    "## 문제 3. 리스트에서 값 가져오기(3)"
   ]
  },
  {
   "cell_type": "markdown",
   "metadata": {},
   "source": [
    "* 리스트의 인덱싱을 활용하여 동물 이름 리스트에서 **1,3,5,7번째 인덱스**에 있는 동물 이름들을 가져와주세요!"
   ]
  },
  {
   "cell_type": "code",
   "execution_count": null,
   "metadata": {},
   "outputs": [],
   "source": [
    "# 우선 실행해주세요\n",
    "animals = ['골리앗창뿔풍뎅이', '시베리아호랑이', '개미', '고메라큰도마뱀', \n",
    " '메추라기', '아메리카새우', '뉴질랜드검은머리흰죽지', '에콰도르산왕부리', \n",
    " '알락꼬리고양이', '매가오리과', '심해어', '납지리', '솔개류', '귀상어', \n",
    " '쇠찌르레기', '스페인스라소니', '붉은따오기', '에콰도르분홍발톱타란튤라', \n",
    " '부채꼬리뇌조', '무지개아마존앵무']"
   ]
  },
  {
   "cell_type": "markdown",
   "metadata": {},
   "source": [
    "#### 답안지 입력란\n",
    "* 아래에 답을 서술하여 주세요\n",
    "* 결과값은 `answer3`에 담아주세요"
   ]
  },
  {
   "cell_type": "code",
   "execution_count": null,
   "metadata": {},
   "outputs": [],
   "source": []
  },
  {
   "cell_type": "markdown",
   "metadata": {},
   "source": [
    "#### 정답 확인\n",
    "* 정답을 입력한 후, 아래를 실행시키면 정답인지 확인합니다."
   ]
  },
  {
   "cell_type": "code",
   "execution_count": null,
   "metadata": {},
   "outputs": [],
   "source": [
    "assert 'answer3' in globals(), \"결과를 answer3 변수에 담아주세요!, answer3 값을 보고 평가합니다.\"\n",
    "\n",
    "A = ['시베리아호랑이', '고메라큰도마뱀', '아메리카새우', '에콰도르산왕부리']\n",
    "\n",
    "try:\n",
    "    assert len(A) == len(answer3), \"갯수가 맞지 않습니다\"\n",
    "    for idx, _A in enumerate(A):\n",
    "        answer = answer3[idx]\n",
    "        assert answer == _A\n",
    "    else:\n",
    "        print(\"정답입니다!!!!\")\n",
    "except:\n",
    "    raise ValueError(\"\\n정답  : {}\\n현재값 : {}\\n입니다.다시 수정해서 제출해주세요!\".format(A,answer3))\n"
   ]
  },
  {
   "cell_type": "markdown",
   "metadata": {},
   "source": [
    "## 문제 4. 리스트에서 값 추가하기"
   ]
  },
  {
   "cell_type": "markdown",
   "metadata": {},
   "source": [
    "* 리스트의 인덱싱을 활용하여, 동물 이름 리스트에서 **0번째 인덱스**에 \"강아지\"라는 동물이름을 추가해주세요!"
   ]
  },
  {
   "cell_type": "code",
   "execution_count": null,
   "metadata": {},
   "outputs": [],
   "source": [
    "# 우선 실행해주세요\n",
    "animals = ['골리앗창뿔풍뎅이', '시베리아호랑이', '개미', '고메라큰도마뱀', \n",
    " '메추라기', '아메리카새우', '뉴질랜드검은머리흰죽지', '에콰도르산왕부리', \n",
    " '알락꼬리고양이', '매가오리과', '심해어', '납지리', '솔개류', '귀상어', \n",
    " '쇠찌르레기', '스페인스라소니', '붉은따오기', '에콰도르분홍발톱타란튤라', \n",
    " '부채꼬리뇌조', '무지개아마존앵무']"
   ]
  },
  {
   "cell_type": "markdown",
   "metadata": {},
   "source": [
    "#### 답안지 입력란\n",
    "* 아래에 답을 서술하여 주세요\n",
    "* 결과 값은 `animals`에 담아주세요"
   ]
  },
  {
   "cell_type": "code",
   "execution_count": null,
   "metadata": {},
   "outputs": [],
   "source": []
  },
  {
   "cell_type": "markdown",
   "metadata": {},
   "source": [
    "#### 정답 확인\n",
    "* 정답을 입력한 후, 아래를 실행시키면 정답인지 확인합니다."
   ]
  },
  {
   "cell_type": "code",
   "execution_count": null,
   "metadata": {},
   "outputs": [],
   "source": [
    "assert 'animals' in globals(), \"insert 함수는 animals에 원소를 추가하고 반환하지 않습니다\"\n",
    "\n",
    "assert animals[0] == \"강아지\", \"animals의 0번째 원소값이 강아지가 되어야 합니다.\""
   ]
  },
  {
   "cell_type": "markdown",
   "metadata": {},
   "source": [
    "## 문제 5. 리스트에서 값 수정하기"
   ]
  },
  {
   "cell_type": "markdown",
   "metadata": {},
   "source": [
    "* 리스트의 인덱싱을 활용하여, 동물 이름 리스트에서 **솔개류**를 \"솔개\"로 바꾸어 주세요!"
   ]
  },
  {
   "cell_type": "code",
   "execution_count": null,
   "metadata": {},
   "outputs": [],
   "source": [
    "# 우선 실행해주세요\n",
    "answer5 = ['골리앗창뿔풍뎅이', '시베리아호랑이', '개미', '고메라큰도마뱀', \n",
    " '메추라기', '아메리카새우', '뉴질랜드검은머리흰죽지', '에콰도르산왕부리', \n",
    " '알락꼬리고양이', '매가오리과', '심해어', '납지리', '솔개류', '귀상어', \n",
    " '쇠찌르레기', '스페인스라소니', '붉은따오기', '에콰도르분홍발톱타란튤라', \n",
    " '부채꼬리뇌조', '무지개아마존앵무']"
   ]
  },
  {
   "cell_type": "markdown",
   "metadata": {},
   "source": [
    "#### 답안지 입력란\n",
    "* 아래에 답을 서술하여 주세요\n",
    "* 결과 값은 `answer5`에 담아주세요"
   ]
  },
  {
   "cell_type": "code",
   "execution_count": null,
   "metadata": {},
   "outputs": [],
   "source": []
  },
  {
   "cell_type": "markdown",
   "metadata": {},
   "source": [
    "#### 정답 확인\n",
    "* 정답을 입력한 후, 아래를 실행시키면 정답인지 확인합니다."
   ]
  },
  {
   "cell_type": "code",
   "execution_count": null,
   "metadata": {},
   "outputs": [],
   "source": [
    "assert 'answer5' in globals(), \"insert 함수는 answer5 원소를 추가하고 반환하지 않습니다\"\n",
    "IDX = 12\n",
    "assert answer5[IDX] == \"솔개\", \"animals의 12번째 원소값이 솔개가 되어야 합니다.\""
   ]
  },
  {
   "cell_type": "markdown",
   "metadata": {},
   "source": [
    "## 문제 6. 리스트에서 원소 갯수 구하기"
   ]
  },
  {
   "cell_type": "markdown",
   "metadata": {},
   "source": [
    "* 내장된 함수를 이용하여, 동물 이름 리스트에 몇개의 원소가 있는지 세어주세요!"
   ]
  },
  {
   "cell_type": "code",
   "execution_count": null,
   "metadata": {},
   "outputs": [],
   "source": [
    "# 우선 실행해주세요\n",
    "animals = ['골리앗창뿔풍뎅이', '시베리아호랑이', '개미', '고메라큰도마뱀', \n",
    " '메추라기', '아메리카새우', '뉴질랜드검은머리흰죽지', '에콰도르산왕부리', \n",
    " '알락꼬리고양이', '매가오리과', '심해어', '납지리', '솔개류', '귀상어', \n",
    " '쇠찌르레기', '스페인스라소니', '붉은따오기', '에콰도르분홍발톱타란튤라', \n",
    " '부채꼬리뇌조', '무지개아마존앵무']"
   ]
  },
  {
   "cell_type": "markdown",
   "metadata": {},
   "source": [
    "#### 답안지 입력란\n",
    "* 아래에 답을 서술하여 주세요\n",
    "* 결과 값은 `answer6`에 담아주세요"
   ]
  },
  {
   "cell_type": "code",
   "execution_count": null,
   "metadata": {},
   "outputs": [],
   "source": []
  },
  {
   "cell_type": "markdown",
   "metadata": {},
   "source": [
    "#### 정답 확인\n",
    "* 정답을 입력한 후, 아래를 실행시키면 정답인지 확인합니다."
   ]
  },
  {
   "cell_type": "code",
   "execution_count": null,
   "metadata": {},
   "outputs": [],
   "source": [
    "assert 'answer6' in globals(), \"결과를 answer6 변수에 담아주세요!, answer6 값을 보고 평가합니다.\"\n",
    "\n",
    "assert answer6 == 20, \"동물의 수는 20개입니다. 다시 확인해주세요!\""
   ]
  },
  {
   "cell_type": "markdown",
   "metadata": {},
   "source": [
    "## 문제 7. 리스트를 정렬하기"
   ]
  },
  {
   "cell_type": "markdown",
   "metadata": {},
   "source": [
    "* 동물 이름 리스트를 이름 순으로 오름차순으로 정렬해주세요!"
   ]
  },
  {
   "cell_type": "code",
   "execution_count": null,
   "metadata": {},
   "outputs": [],
   "source": [
    "# 우선 실행해주세요\n",
    "animals = ['골리앗창뿔풍뎅이', '시베리아호랑이', '개미', '고메라큰도마뱀', \n",
    " '메추라기', '아메리카새우', '뉴질랜드검은머리흰죽지', '에콰도르산왕부리', \n",
    " '알락꼬리고양이', '매가오리과', '심해어', '납지리', '솔개류', '귀상어', \n",
    " '쇠찌르레기', '스페인스라소니', '붉은따오기', '에콰도르분홍발톱타란튤라', \n",
    " '부채꼬리뇌조', '무지개아마존앵무']"
   ]
  },
  {
   "cell_type": "markdown",
   "metadata": {},
   "source": [
    "#### 답안지 입력란\n",
    "* 아래에 답을 서술하여 주세요\n",
    "* 결과 값은 `answer7`에 담아주세요"
   ]
  },
  {
   "cell_type": "code",
   "execution_count": null,
   "metadata": {},
   "outputs": [],
   "source": []
  },
  {
   "cell_type": "markdown",
   "metadata": {},
   "source": [
    "#### 정답 확인\n",
    "* 정답을 입력한 후, 아래를 실행시키면 정답인지 확인합니다."
   ]
  },
  {
   "cell_type": "code",
   "execution_count": null,
   "metadata": {},
   "outputs": [],
   "source": [
    "assert 'answer7' in globals(), \"결과를 answer7 변수에 담아주세요!, answer7 값을 보고 평가합니다.\"\n",
    "\n",
    "A = ['개미', '고메라큰도마뱀', '골리앗창뿔풍뎅이', \n",
    "     '귀상어', '납지리', '뉴질랜드검은머리흰죽지', \n",
    "     '매가오리과', '메추라기', '무지개아마존앵무', \n",
    "     '부채꼬리뇌조', '붉은따오기', '솔개류', '쇠찌르레기', \n",
    "     '스페인스라소니', '시베리아호랑이', '심해어', '아메리카새우', \n",
    "     '알락꼬리고양이', '에콰도르분홍발톱타란튤라', '에콰도르산왕부리']\n",
    "\n",
    "try:\n",
    "    assert len(A) == len(answer7), \"갯수가 맞지 않습니다\"\n",
    "    for idx, (_A,_answer) in enumerate(zip(A, answer7)):\n",
    "        assert _answer == _A\n",
    "    else:\n",
    "        print(\"정답입니다!!!!\")\n",
    "except:\n",
    "    raise ValueError(\"\\n정답  : \\n{}\\n현재값 : \\n{}\\n입니다.다시 수정해서 제출해주세요!\".format(A,answer7))\n"
   ]
  },
  {
   "cell_type": "markdown",
   "metadata": {},
   "source": [
    "#  \n",
    "\n",
    "\n",
    "<hr>\n",
    "\n",
    "Copyright(c) 2019 by Public AI. All rights reserved.<br>\n",
    "Writen by PAI, Sangjae Kang ( rocketgrowthsj@publicai.co.kr )  last updated on 2019/02/22\n",
    "<hr>"
   ]
  }
 ],
 "metadata": {
  "kernelspec": {
   "display_name": "Python 3",
   "language": "python",
   "name": "python3"
  },
  "language_info": {
   "codemirror_mode": {
    "name": "ipython",
    "version": 3
   },
   "file_extension": ".py",
   "mimetype": "text/x-python",
   "name": "python",
   "nbconvert_exporter": "python",
   "pygments_lexer": "ipython3",
   "version": "3.6.5"
  }
 },
 "nbformat": 4,
 "nbformat_minor": 2
}
