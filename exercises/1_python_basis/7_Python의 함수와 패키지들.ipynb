{
 "cells": [
  {
   "cell_type": "markdown",
   "metadata": {},
   "source": [
    "# Python의 함수와 패키지들"
   ]
  },
  {
   "cell_type": "markdown",
   "metadata": {},
   "source": [
    "## 문제 1. 평균값을 구하는 함수 만들기\n",
    "\n",
    "* 세 개의 수(`x1`,`x2`,`x3`)를 받았을 때, 세 수의 평균을 구하는 메소드를 작성해 주세요"
   ]
  },
  {
   "cell_type": "markdown",
   "metadata": {},
   "source": [
    "#### 답안지 입력란\n",
    "* 아래에 답을 서술하여 주세요\n",
    "* 메소드 이름은 `calculate_average`로 해주세요"
   ]
  },
  {
   "cell_type": "code",
   "execution_count": 1,
   "metadata": {},
   "outputs": [],
   "source": [
    "def calculate_average(x1,x2,x3):\n",
    "    ############\n",
    "    # CODE HERE!\n",
    "    ############\n",
    "    return "
   ]
  },
  {
   "cell_type": "markdown",
   "metadata": {},
   "source": [
    "#### 정답 확인\n",
    "* 정답을 입력한 후, 아래를 실행시키면 정답인지 확인합니다."
   ]
  },
  {
   "cell_type": "code",
   "execution_count": 3,
   "metadata": {},
   "outputs": [
    {
     "name": "stdout",
     "output_type": "stream",
     "text": [
      "정답입니다!!\n"
     ]
    }
   ],
   "source": [
    "assert 'calculate_average' in globals(), \"메소드 명을 calculate_average로 해주세요\"\n",
    "f = calculate_average\n",
    "assert f(1,1,1) == 1, \"(x1,x2,x3)==(1,1,1)일때, 평균이 1이 나와야 합니다.\"\n",
    "assert f(1,2,3) == 2, \"(x1,x2,x3)==(1,2,3)일때, 평균이 2이 나와야 합니다.\"\n",
    "assert f(3,3,6) == 4, \"(x1,x2,x3)==(3,3,6)일때, 평균이 4이 나와야 합니다.\"\n",
    "assert f(5,4,6) == 5, \"(x1,x2,x3)==(5,4,6)일때, 평균이 5이 나와야 합니다.\"\n",
    "\n",
    "print(\"정답입니다!!\")"
   ]
  },
  {
   "cell_type": "markdown",
   "metadata": {},
   "source": [
    "## 문제 2. 시간을 초로 환산하는 함수 만들기\n",
    "\n",
    "* (시간, 분, 초)를 입력 받았을 때, 총 시간을 초로 환산하여 주세요\n",
    "\n",
    "예시) \n",
    "$$1시간\\ 10분\\ 5초 = 3600 * 1 + 60 * 10 + 5 = 3665초$$"
   ]
  },
  {
   "cell_type": "markdown",
   "metadata": {},
   "source": [
    "#### 답안지 입력란\n",
    "* 아래에 답을 서술하여 주세요\n",
    "* 메소드 이름은 `calculate_second`로 해주세요"
   ]
  },
  {
   "cell_type": "code",
   "execution_count": 1,
   "metadata": {},
   "outputs": [],
   "source": [
    "def calculate_second(hour,minute,second):\n",
    "    ############\n",
    "    # CODE HERE!\n",
    "    ############\n",
    "    return"
   ]
  },
  {
   "cell_type": "markdown",
   "metadata": {},
   "source": [
    "#### 정답 확인\n",
    "* 정답을 입력한 후, 아래를 실행시키면 정답인지 확인합니다."
   ]
  },
  {
   "cell_type": "code",
   "execution_count": 5,
   "metadata": {},
   "outputs": [
    {
     "name": "stdout",
     "output_type": "stream",
     "text": [
      "정답입니다!!\n"
     ]
    }
   ],
   "source": [
    "assert 'calculate_second' in globals(), \"메소드 명을 calculate_second 해주세요\"\n",
    "f = calculate_second\n",
    "assert f(1,1,1) == 3661, \"(x1,x2,x3)==(1,1,1)일때, 평균이 3661이 나와야 합니다.\"\n",
    "assert f(5,2,3) == 18123, \"(x1,x2,x3)==(1,2,3)일때, 평균이 18123이 나와야 합니다.\"\n",
    "assert f(3,3,6) == 10986, \"(x1,x2,x3)==(3,3,6)일때, 평균이 10986이 나와야 합니다.\"\n",
    "assert f(5,4,6) == 18246, \"(x1,x2,x3)==(5,4,6)일때, 평균이 18246이 나와야 합니다.\"\n",
    "print(\"정답입니다!!\")"
   ]
  },
  {
   "cell_type": "markdown",
   "metadata": {},
   "source": [
    "## 문제 3. 별 나열하기\n",
    "\n",
    "* `n`를 입력 받았을 때, 아래와 같은 규칙으로 별(`*`)로 이루어진 문자열을 반환하여 주세요\n",
    "\n",
    "예시) \n",
    "* n = 1 일 때, 결과 = `\"*\"`\n",
    "* n = 2 일 때, 결과 = `\"* **\"`\n",
    "* n = 3 일 때, 결과 = `\"* ** ***\"`\n",
    "* n = 4 일 때, 결과 = `\"* ** *** ****\"`\n",
    "* n = 5 일 때, 결과 = `\"* ** *** **** *****\"`"
   ]
  },
  {
   "cell_type": "markdown",
   "metadata": {},
   "source": [
    "#### 답안지 입력란\n",
    "* 아래에 답을 서술하여 주세요\n",
    "* 메소드 이름은 `draw_star`로 해주세요"
   ]
  },
  {
   "cell_type": "code",
   "execution_count": 6,
   "metadata": {},
   "outputs": [],
   "source": [
    "def draw_star(n):\n",
    "    ############\n",
    "    # CODE HERE!\n",
    "    ############\n",
    "    return"
   ]
  },
  {
   "cell_type": "markdown",
   "metadata": {},
   "source": [
    "#### 정답 확인\n",
    "* 정답을 입력한 후, 아래를 실행시키면 정답인지 확인합니다."
   ]
  },
  {
   "cell_type": "code",
   "execution_count": 7,
   "metadata": {},
   "outputs": [
    {
     "name": "stdout",
     "output_type": "stream",
     "text": [
      "정답입니다!!\n"
     ]
    }
   ],
   "source": [
    "assert 'draw_star' in globals(), \"메소드 명을 draw_star 해주세요\"\n",
    "f = draw_star\n",
    "assert f(1) == '*', (\n",
    "    \"f(1)일 때, '*'을 반환해야 합니다. 앞뒤에 공백이 붙었는지 확인해주세요\"\n",
    ")\n",
    "assert f(2) == '* **', (\n",
    "    \"f(2)일 때, '* **'을 반환해야 합니다. 앞뒤에 공백이 붙었는지 확인해주세요\"\n",
    ")\n",
    "assert f(5) == '* ** *** **** *****', (\n",
    "    \"f(5)일 때, '* ** *** **** *****'을 반환해야 합니다. 앞뒤에 공백이 붙었는지 확인해주세요\"\n",
    ")\n",
    "assert f(10) == '* ** *** **** ***** ****** ******* ******** ********* **********', (\n",
    "    \"f(10)일 때, '* ** *** **** ***** ****** ******* ******** ********* **********'을 반환해야 합니다. 앞뒤에 공백이 붙었는지 확인해주세요\"\n",
    ")\n",
    "\n",
    "print(\"정답입니다!!\")"
   ]
  },
  {
   "cell_type": "markdown",
   "metadata": {},
   "source": [
    "## 문제 4. 가장 큰 값 찾기\n",
    "\n",
    "* dictionary를 입력 받았을 때, dictionary의 value 중 가장 큰 값을 찾아주세요\n",
    "\n",
    "예시) \n",
    "````python\n",
    "{\n",
    "    \"x\":1,\n",
    "    \"y\":2,\n",
    "    \"z\":5\n",
    "}\n",
    "````\n",
    "가 주어졌을 때, 가장 큰 값은 `z`의 value인 5이다."
   ]
  },
  {
   "cell_type": "markdown",
   "metadata": {},
   "source": [
    "#### 답안지 입력란\n",
    "* 아래에 답을 서술하여 주세요\n",
    "* 메소드 이름은 `find_max_value`로 해주세요"
   ]
  },
  {
   "cell_type": "code",
   "execution_count": 8,
   "metadata": {},
   "outputs": [],
   "source": [
    "def find_max_value(X):\n",
    "    ############\n",
    "    # CODE HERE!\n",
    "    ############\n",
    "    return"
   ]
  },
  {
   "cell_type": "markdown",
   "metadata": {},
   "source": [
    "#### 정답 확인\n",
    "* 정답을 입력한 후, 아래를 실행시키면 정답인지 확인합니다."
   ]
  },
  {
   "cell_type": "code",
   "execution_count": 9,
   "metadata": {},
   "outputs": [
    {
     "name": "stdout",
     "output_type": "stream",
     "text": [
      "정답입니다!!\n"
     ]
    }
   ],
   "source": [
    "assert 'find_max_value' in globals(), \"메소드 명을 find_max_value 해주세요\"\n",
    "f = find_max_value\n",
    "\n",
    "A = {}\n",
    "A[\"X\"] = 1\n",
    "assert f(A) == 1, (\n",
    "    \"{} 경우, 최대값은 {}이어야 합니다.\".format(A, 1)\n",
    ")\n",
    "A[\"y\"] = 5\n",
    "assert f(A) == 5, (\n",
    "    \"{} 경우, 최대값은 {}이어야 합니다.\".format(A, 5)\n",
    ")\n",
    "\n",
    "A[\"z\"] = -1\n",
    "assert f(A) == 5, (\n",
    "    \"{} 경우, 최대값은 {}이어야 합니다.\".format(A, 5)\n",
    ")\n",
    "\n",
    "A[\"Q\"] = 100\n",
    "assert f(A) == 100, (\n",
    "    \"{} 경우, 최대값은 {}이어야 합니다.\".format(A, 100)\n",
    ")\n",
    "\n",
    "print(\"정답입니다!!\")"
   ]
  },
  {
   "cell_type": "markdown",
   "metadata": {},
   "source": [
    "\n",
    "\n",
    "<hr>\n",
    "\n",
    "Copyright(c) 2019 by Public AI. All rights reserved.<br>\n",
    "Writen by PAI, SangJae Kang ( rocketgrowthsj@publicai.co.kr )  last updated on 2019/01/24\n",
    "<hr>"
   ]
  }
 ],
 "metadata": {
  "kernelspec": {
   "display_name": "Python 3",
   "language": "python",
   "name": "python3"
  },
  "language_info": {
   "codemirror_mode": {
    "name": "ipython",
    "version": 3
   },
   "file_extension": ".py",
   "mimetype": "text/x-python",
   "name": "python",
   "nbconvert_exporter": "python",
   "pygments_lexer": "ipython3",
   "version": "3.6.5"
  }
 },
 "nbformat": 4,
 "nbformat_minor": 2
}
