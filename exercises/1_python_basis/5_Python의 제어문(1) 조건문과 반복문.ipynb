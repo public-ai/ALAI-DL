{
 "cells": [
  {
   "cell_type": "markdown",
   "metadata": {},
   "source": [
    "# Python에서의 제어문, 조건문과 반복문\n",
    "\n",
    "* Python에서 제공하는 제어문은 크게 3가지 조건문(if) / 반복문(while) / 순회문(for)이 존재합니다. 이번 수업에서는 조건문과 반복문에 대해서 배우도록 하겠습니다.\n"
   ]
  },
  {
   "cell_type": "markdown",
   "metadata": {},
   "source": [
    "#### 예제) 시합에서의 음성 분석\n",
    "\n",
    "검도 대회에서 선수는 공격할 때 \"얍\"이라고 기합을 내고, 공격을 당할 때는 \"앗\"이라고 소리를 낸다. 아래는 시합 중 있었던 한 선수의 기합 소리를 정리해둔 리스트이다. \n",
    "\n",
    "````python\n",
    "['얍', '얍', '얍', '얍', '얍', '얍', '얍', '얍', '얍', '얍', \n",
    " '얍', '얍', '얍', '얍', '얍', '앗', '얍', '얍', '얍', '얍', \n",
    " '앗', '얍', '얍', '얍', '앗', '얍', '얍', '얍', '얍', '얍', \n",
    " '얍', '얍', '앗', '얍', '얍', '얍', '얍', '얍', '얍', '얍', \n",
    " '얍', '얍', '얍', '얍', '얍', '얍', '얍', '앗', '얍', '얍']\n",
    "````\n",
    "\n",
    "위의 정보를 해석해 보자면\n",
    "* 총 50번의 소리를 내질렀다.\n",
    "* 첫 번째로 내지른 소리는 공격할 때의 소리 \"얍\"이었고,\n",
    "* 16 번째로 처음 공격을 당하게 되면서, \"앗\"이라는 소리를 내게 된다. \n",
    "\n",
    "위의 정보로 선수의 승부를 분석해 보자."
   ]
  },
  {
   "cell_type": "markdown",
   "metadata": {},
   "source": [
    "## 문제 1. 공격횟수 `얍` 세기\n",
    "\n",
    "* `while`과 `if`를 통해, 선수의 기합 중 공격 소리인 `얍`의 횟수를 세어주세요"
   ]
  },
  {
   "cell_type": "code",
   "execution_count": 1,
   "metadata": {},
   "outputs": [],
   "source": [
    "sound = ['얍', '얍', '얍', '얍', '얍', '얍', '얍', '얍', '얍', '얍', \n",
    " '얍', '얍', '얍', '얍', '얍', '앗', '얍', '얍', '얍', '얍', \n",
    " '앗', '얍', '얍', '얍', '앗', '얍', '얍', '얍', '얍', '얍', \n",
    " '얍', '얍', '앗', '얍', '얍', '얍', '얍', '얍', '얍', '얍', \n",
    " '얍', '얍', '얍', '얍', '얍', '얍', '얍', '앗', '얍', '얍']"
   ]
  },
  {
   "cell_type": "markdown",
   "metadata": {},
   "source": [
    "#### 답안지 입력란\n",
    "* 아래에 답을 서술하여 주세요\n",
    "* 결과값은 `answer1`에 담아주세요"
   ]
  },
  {
   "cell_type": "code",
   "execution_count": 2,
   "metadata": {},
   "outputs": [],
   "source": []
  },
  {
   "cell_type": "markdown",
   "metadata": {},
   "source": [
    "#### 정답 확인\n",
    "* 정답을 입력한 후, 아래를 실행시키면 정답인지 확인합니다."
   ]
  },
  {
   "cell_type": "code",
   "execution_count": 3,
   "metadata": {},
   "outputs": [
    {
     "name": "stdout",
     "output_type": "stream",
     "text": [
      "정답입니다!!!!\n"
     ]
    }
   ],
   "source": [
    "assert 'answer1' in globals(), \"결과를 answer1 변수에 담아주세요!, answer1 값을 보고 평가합니다.\"\n",
    "\n",
    "if (answer1 == 45):\n",
    "    print(\"정답입니다!!!!\")\n",
    "else:\n",
    "    raise ValueError(\"45가 나와야합니다. 다시 확인해주세요!\")"
   ]
  },
  {
   "cell_type": "markdown",
   "metadata": {},
   "source": [
    "## 문제 2. 승점 세기\n",
    "\n",
    "* 선수가 공격을 할 때, 승점이 1점 올라가고, 선수가 공격을 당할 때, 승점이 1점 내려간다고 할 때, 우리의 선수는 몇 점을 얻었는지 계산해주세요"
   ]
  },
  {
   "cell_type": "code",
   "execution_count": 4,
   "metadata": {},
   "outputs": [],
   "source": [
    "sound = ['얍', '얍', '얍', '얍', '얍', '얍', '얍', '얍', '얍', '얍', \n",
    " '얍', '얍', '얍', '얍', '얍', '앗', '얍', '얍', '얍', '얍', \n",
    " '앗', '얍', '얍', '얍', '앗', '얍', '얍', '얍', '얍', '얍', \n",
    " '얍', '얍', '앗', '얍', '얍', '얍', '얍', '얍', '얍', '얍', \n",
    " '얍', '얍', '얍', '얍', '얍', '얍', '얍', '앗', '얍', '얍']"
   ]
  },
  {
   "cell_type": "markdown",
   "metadata": {},
   "source": [
    "#### 답안지 입력란\n",
    "* 아래에 답을 서술하여 주세요\n",
    "* 결과값은 `answer2`에 담아주세요"
   ]
  },
  {
   "cell_type": "code",
   "execution_count": 5,
   "metadata": {},
   "outputs": [],
   "source": []
  },
  {
   "cell_type": "markdown",
   "metadata": {},
   "source": [
    "#### 정답 확인\n",
    "* 정답을 입력한 후, 아래를 실행시키면 정답인지 확인합니다."
   ]
  },
  {
   "cell_type": "code",
   "execution_count": 6,
   "metadata": {},
   "outputs": [
    {
     "name": "stdout",
     "output_type": "stream",
     "text": [
      "정답입니다!!!!\n"
     ]
    }
   ],
   "source": [
    "assert 'answer2' in globals(), \"결과를 answer2 변수에 담아주세요!, answer2 값을 보고 평가합니다.\"\n",
    "\n",
    "if (answer2 == 40):\n",
    "    print(\"정답입니다!!!!\")\n",
    "else:\n",
    "    raise ValueError(\"40이 나와야합니다. 다시 확인해주세요!\")\n",
    "    "
   ]
  },
  {
   "cell_type": "markdown",
   "metadata": {},
   "source": [
    "## 문제 3. 첫 공격 횟수 세기\n",
    "\n",
    "* 선수가 첫 공격 당하기 전까지(==처음 앗 소리가 나오기 전까지) 몇 번이나 공격을 했는지 계산해주세요"
   ]
  },
  {
   "cell_type": "code",
   "execution_count": 7,
   "metadata": {},
   "outputs": [],
   "source": [
    "sound = ['얍', '얍', '얍', '얍', '얍', '얍', '얍', '얍', '얍', '얍', \n",
    " '얍', '얍', '얍', '얍', '얍', '앗', '얍', '얍', '얍', '얍', \n",
    " '앗', '얍', '얍', '얍', '앗', '얍', '얍', '얍', '얍', '얍', \n",
    " '얍', '얍', '앗', '얍', '얍', '얍', '얍', '얍', '얍', '얍', \n",
    " '얍', '얍', '얍', '얍', '얍', '얍', '얍', '앗', '얍', '얍']"
   ]
  },
  {
   "cell_type": "markdown",
   "metadata": {},
   "source": [
    "#### 답안지 입력란\n",
    "* 아래에 답을 서술하여 주세요\n",
    "* 결과값은 `answer3`에 담아주세요"
   ]
  },
  {
   "cell_type": "code",
   "execution_count": 8,
   "metadata": {},
   "outputs": [],
   "source": []
  },
  {
   "cell_type": "markdown",
   "metadata": {},
   "source": [
    "#### 정답 확인\n",
    "* 정답을 입력한 후, 아래를 실행시키면 정답인지 확인합니다."
   ]
  },
  {
   "cell_type": "code",
   "execution_count": 9,
   "metadata": {},
   "outputs": [
    {
     "name": "stdout",
     "output_type": "stream",
     "text": [
      "정답입니다!!!!\n"
     ]
    }
   ],
   "source": [
    "assert 'answer3' in globals(), \"결과를 answer3 변수에 담아주세요!, answer3 값을 보고 평가합니다.\"\n",
    "\n",
    "if (answer3 == 15):\n",
    "    print(\"정답입니다!!!!\")\n",
    "else:\n",
    "    raise ValueError(\"15가 나와야합니다. 다시 확인해주세요!\")\n",
    "    "
   ]
  },
  {
   "cell_type": "markdown",
   "metadata": {},
   "source": [
    "## 문제 4. 최대 연속 공격 횟수 세기\n",
    "\n",
    "* 선수가 가장 길게 연속으로 공격한 횟수(얍 전까지 최대 공격 횟수)가 얼마인지 계산해주세요\n",
    "\n",
    "예시) \n",
    "````python\n",
    "['얍','얍','앗','얍','얍','얍','얍','앗','얍','얍','얍']\n",
    "````\n",
    "위에서 연속 공격은 아래와 같다.\n",
    "* 첫번째 연속 공격 : ['얍','얍']\n",
    "* 두번째 연속 공격 : ['얍','얍','얍',얍']\n",
    "* 세번째 연속 공격 : ['얍','얍','얍]\n",
    "\n",
    "이 중 2번째 연속 공격의 숫자 4가 제일 크므로, 정답은 4이다."
   ]
  },
  {
   "cell_type": "code",
   "execution_count": 10,
   "metadata": {},
   "outputs": [],
   "source": [
    "sound = ['얍', '얍', '얍', '얍', '얍', '얍', '얍', '얍', '얍', '얍', \n",
    " '얍', '얍', '얍', '얍', '얍', '앗', '얍', '얍', '얍', '얍', \n",
    " '앗', '얍', '얍', '얍', '앗', '얍', '얍', '얍', '얍', '얍', \n",
    " '얍', '얍', '앗', '얍', '얍', '얍', '얍', '얍', '얍', '얍', \n",
    " '얍', '얍', '얍', '얍', '얍', '얍', '얍', '앗', '얍', '얍']"
   ]
  },
  {
   "cell_type": "markdown",
   "metadata": {},
   "source": [
    "#### 답안지 입력란\n",
    "* 아래에 답을 서술하여 주세요\n",
    "* 결과값은 `answer4`에 담아주세요"
   ]
  },
  {
   "cell_type": "code",
   "execution_count": 11,
   "metadata": {},
   "outputs": [],
   "source": []
  },
  {
   "cell_type": "markdown",
   "metadata": {},
   "source": [
    "#### 정답 확인\n",
    "* 정답을 입력한 후, 아래를 실행시키면 정답인지 확인합니다."
   ]
  },
  {
   "cell_type": "code",
   "execution_count": 12,
   "metadata": {},
   "outputs": [
    {
     "name": "stdout",
     "output_type": "stream",
     "text": [
      "정답입니다!!!!\n"
     ]
    }
   ],
   "source": [
    "assert 'answer4' in globals(), \"결과를 answer4 변수에 담아주세요!, answer4 값을 보고 평가합니다.\"\n",
    "\n",
    "if (answer4 == 15):\n",
    "    print(\"정답입니다!!!!\")\n",
    "else:\n",
    "    raise ValueError(\"15가 나와야합니다. 다시 확인해주세요!\")\n",
    "    "
   ]
  },
  {
   "cell_type": "markdown",
   "metadata": {},
   "source": [
    "#  \n",
    "\n",
    "\n",
    "<hr>\n",
    "\n",
    "Copyright(c) 2019 by Public AI. All rights reserved.<br>\n",
    "Writen by PAI, SangJae Kang ( rocketgrowthsj@publicai.co.kr )  last updated on 2019/01/24\n",
    "<hr>"
   ]
  }
 ],
 "metadata": {
  "kernelspec": {
   "display_name": "Python 3",
   "language": "python",
   "name": "python3"
  },
  "language_info": {
   "codemirror_mode": {
    "name": "ipython",
    "version": 3
   },
   "file_extension": ".py",
   "mimetype": "text/x-python",
   "name": "python",
   "nbconvert_exporter": "python",
   "pygments_lexer": "ipython3",
   "version": "3.6.5"
  }
 },
 "nbformat": 4,
 "nbformat_minor": 2
}
