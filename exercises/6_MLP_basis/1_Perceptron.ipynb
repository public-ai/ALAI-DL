{
 "cells": [
  {
   "cell_type": "markdown",
   "metadata": {
    "colab_type": "text",
    "id": "0KYV3B1s8VWk"
   },
   "source": [
    "## Perceptron\n",
    "\n",
    "### _Objective_\n",
    "1. 여러 perceptron 을 이용해 선형으로 표현할수 없는 함수를 생성 합니다 \n",
    "\n",
    "2. relu 함수에 대해 배워 봅니다"
   ]
  },
  {
   "cell_type": "code",
   "execution_count": null,
   "metadata": {},
   "outputs": [],
   "source": [
    "import numpy as np "
   ]
  },
  {
   "cell_type": "markdown",
   "metadata": {
    "colab_type": "text",
    "id": "zn8ZKT_d2Gte"
   },
   "source": [
    "## 문제 1. XNOR Gate 만들기 \n",
    "\n",
    "* XNOR gate 을 만들어 보세요.\n",
    "\n",
    "#### 진리표\n",
    "\n",
    "| x1        | x2 | F |\n",
    "|-----------|----|---|\n",
    "| 0         | 0  | 1 |\n",
    "| 1         | 0  | 0 |\n",
    "| 0         | 1  | 0 |\n",
    "| 1         | 1  | 1 |\n",
    "\n",
    "#### Hint.  XNOR Gate의 구조도\n",
    "\n",
    "* XNOR GATE는 아래의 회로도로 구성됩니다.\n",
    "![Imgur](https://i.imgur.com/234ZuKH.png)\n",
    "\n"
   ]
  },
  {
   "cell_type": "markdown",
   "metadata": {},
   "source": [
    "#### 답안지 입력란\n",
    "* 아래에 답을 서술하여 주세요.\n",
    "* 정답은 `xnor_gate`라는 이름의 함수로 넣어주세요. 아래의 Test Code를 통과할 수 있는 코드로 만들어주세요"
   ]
  },
  {
   "cell_type": "code",
   "execution_count": null,
   "metadata": {},
   "outputs": [],
   "source": [
    "# 정답을 입력해 주세요\n",
    "def xnor_gate(x1,x2):\n",
    "    # TODO \n",
    "    return "
   ]
  },
  {
   "cell_type": "markdown",
   "metadata": {
    "colab_type": "text",
    "id": "Ak973tllDq5J"
   },
   "source": [
    "#### 정답 확인 \n",
    "\n",
    "* 정답을 입력한 후, 아래를 실행시키면 정답인지 확인합니다."
   ]
  },
  {
   "cell_type": "code",
   "execution_count": null,
   "metadata": {
    "scrolled": true
   },
   "outputs": [],
   "source": [
    "assert 'xnor_gate' in globals(), \"결과를 xnor_gate 변수에 담아주세요\"\n",
    "\n",
    "assert xnor_gate(0,0) == 1, \"(0,0)은 1이 나와야 합니다.\"\n",
    "assert xnor_gate(0,1) == 0, \"(0,1)은 0이 나와야 합니다.\"\n",
    "assert xnor_gate(1,0) == 0, \"(1,0)은 0이 나와야 합니다.\"\n",
    "assert xnor_gate(1,1) == 1, \"(1,1)은 1이 나와야 합니다.\"\n",
    "\n",
    "print(\"정답입니다!!!!\")"
   ]
  },
  {
   "cell_type": "markdown",
   "metadata": {
    "colab_type": "text",
    "id": "SJOwRE2QDkLg"
   },
   "source": [
    "## 문제 2.  Relu 함수 만들기\n"
   ]
  },
  {
   "cell_type": "markdown",
   "metadata": {},
   "source": [
    "우리는 이때까지 비선형 함수로써 sigmoid함수를 이용했습니다.<br>\n",
    "현대 딥러닝에서 가장많이 쓰이는 relu는 아래와 같습니다.\n",
    "\n",
    "![Imgur](https://i.imgur.com/4CmLaQC.png)\n",
    "$\n",
    "f(x) = \\begin{cases}\n",
    "x & x\\ge0 \\\\\n",
    "0 & x<0 \n",
    "\\end{cases}\n",
    "$\n",
    "\n"
   ]
  },
  {
   "cell_type": "markdown",
   "metadata": {},
   "source": [
    "#### 답안지 입력란\n",
    "* 아래에 답을 서술하여 주세요.\n",
    "* 정답은 `relu`라는 이름의 함수로 넣어주세요. 아래의 Test Code를 통과할 수 있는 코드로 만들어주세요"
   ]
  },
  {
   "cell_type": "code",
   "execution_count": null,
   "metadata": {
    "colab": {},
    "colab_type": "code",
    "id": "qx3nFrCEvMnk"
   },
   "outputs": [],
   "source": [
    "# relu 함수를 만들어 주세요\n",
    "def relu(x):\n",
    "    # todo \n",
    "    return "
   ]
  },
  {
   "cell_type": "markdown",
   "metadata": {
    "colab_type": "text",
    "id": "ppjRcKaNzXdt"
   },
   "source": [
    "#### 정답 확인\n",
    "* 정답을 입력한 후, 아래를 실행시키면 정답인지 확인합니다."
   ]
  },
  {
   "cell_type": "code",
   "execution_count": null,
   "metadata": {},
   "outputs": [],
   "source": [
    "assert 'relu' in globals(), \"결과를 relu 변수에 담아주세요\"\n",
    "\n",
    "assert relu(3.) == 3., \"relu(3.)은 3.이 나와야 합니다.\"\n",
    "assert relu(2.) == 2., \"relu(2.)은 2.이 나와야 합니다.\"\n",
    "assert relu(0). == 0., \"relu(0.)은 0.이 나와야 합니다.\"\n",
    "assert relu(-1) == 0,  \"relu(-1.)은 1이 나와야 합니다.\"\n",
    "\n",
    "print(\"정답입니다!!!!\")"
   ]
  },
  {
   "cell_type": "markdown",
   "metadata": {
    "colab_type": "text",
    "id": "bUt5nKFzD4ax"
   },
   "source": [
    "## 문제 3.  Relu 함수의  Gradient 구하기 \n",
    "\n",
    "RELU의 기울기는 0을 기점으로 바뀝니다.<br>\n",
    "\n",
    "![Imgur](https://i.imgur.com/4CmLaQC.png)\n",
    "$\n",
    "f'(x) = \\begin{cases}\n",
    "1 & x\\ge0 \\\\\n",
    "0 & x<0 \n",
    "\\end{cases}\n",
    "$\n",
    "\n",
    "\n"
   ]
  },
  {
   "cell_type": "markdown",
   "metadata": {},
   "source": [
    "#### 답안지 입력란\n",
    "* 아래에 답을 서술하여 주세요.\n",
    "* 정답은 `gradient_relu`라는 이름의 함수로 넣어주세요. 아래의 Test Code를 통과할 수 있는 코드로 만들어주세요"
   ]
  },
  {
   "cell_type": "code",
   "execution_count": null,
   "metadata": {
    "colab": {},
    "colab_type": "code",
    "id": "6GAHRALfze2Y"
   },
   "outputs": [],
   "source": [
    "# relu 함수의 순간 기울기를 구하는 코드를 만들어 주세요.\n",
    "def gradient_relu(x):\n",
    "    # TODO \n",
    "    return "
   ]
  },
  {
   "cell_type": "markdown",
   "metadata": {
    "colab_type": "text",
    "id": "KQseGKOTzzUn"
   },
   "source": [
    "#### 정답 확인 \n",
    "* 정답을 입력한 후, 아래를 실행시키면 정답인지 확인합니다"
   ]
  },
  {
   "cell_type": "code",
   "execution_count": null,
   "metadata": {},
   "outputs": [],
   "source": [
    "assert 'relu' in globals(), \"결과를 relu 변수에 담아주세요\"\n",
    "\n",
    "assert gradient_relu(3.) == 1., \"gradient_relu(3.)은 1.이 나와야 합니다.\"\n",
    "assert gradient_relu(2.) == 1., \"gradient_relu(2.)은 1.이 나와야 합니다.\"\n",
    "assert gradient_relu(-1) == 0,  \"gradient_relu(-1.)은 0.이 나와야 합니다.\"\n",
    "\n",
    "print(\"정답입니다!!!!\")"
   ]
  },
  {
   "cell_type": "markdown",
   "metadata": {
    "colab_type": "text",
    "id": "3IzIVKHoYgiV"
   },
   "source": [
    "#  \n",
    "\n",
    "<hr>\n",
    "<div style = \"background-image: url('https://algorithmai.io/static/media/logo.665798c4.png');background-repeat: no-repeat; background-position: right; background-size: 220px 40px; padding : 5px 10px 5px 5px;\">\n",
    "    Copyright(c) 2019 by Public AI. All rights reserved.<br>\n",
    "    Writen by PAI, SangJae Kang ( rocketgrowthsj@publicai.co.kr )  last updated on 2019/04/17\n",
    "</div>\n",
    "<hr>"
   ]
  }
 ],
 "metadata": {
  "colab": {
   "collapsed_sections": [],
   "name": "정답_1_Perceptron.ipynb",
   "provenance": [],
   "version": "0.3.2"
  },
  "kernelspec": {
   "display_name": "Python 3",
   "language": "python",
   "name": "python3"
  },
  "language_info": {
   "codemirror_mode": {
    "name": "ipython",
    "version": 3
   },
   "file_extension": ".py",
   "mimetype": "text/x-python",
   "name": "python",
   "nbconvert_exporter": "python",
   "pygments_lexer": "ipython3",
   "version": "3.6.5"
  }
 },
 "nbformat": 4,
 "nbformat_minor": 1
}
