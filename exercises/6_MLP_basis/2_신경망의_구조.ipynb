{
 "cells": [
  {
   "cell_type": "markdown",
   "metadata": {
    "colab_type": "text",
    "id": "0KYV3B1s8VWk"
   },
   "source": [
    "# Section 2_신경망의 구조\n",
    "\n",
    "### _Objective_\n",
    "1. hidden 층이 3층인 Feedforward  Network 구현해 봅니다. \n"
   ]
  },
  {
   "cell_type": "code",
   "execution_count": 1,
   "metadata": {},
   "outputs": [],
   "source": [
    "import numpy as np \n",
    "import tensorflow as tf "
   ]
  },
  {
   "cell_type": "markdown",
   "metadata": {},
   "source": [
    "### Graph Visualization"
   ]
  },
  {
   "cell_type": "markdown",
   "metadata": {
    "colab_type": "text",
    "id": "LakGXkI8qi-f"
   },
   "source": [
    "## 문제 1 FeedForward Network 구현하기\n",
    "\n",
    "* 아래의 조건을 만족하는 FeedForward Network를 구성해 주세요\n",
    "\n",
    "### 조건\n",
    "\n",
    "1. 8층으로 구성되어 있고, 아래의 shape을 따릅니다.<br>\n",
    "\n",
    "| 층 |입력층|1번째 은닉층|2번째 은닉층|3번째 은닉층|4번째 은닉층|5번째 은닉층|6번째 은닉층|7번째 은닉층| 출력층|\n",
    "|---|---|---|---|---|---|---|---|---|\n",
    "|**shape**|(None,3)|(None,256)|(None,512)|(None,1024)|(None,1024)|(None,1024)|(None,1024)|(None,2048)|(None,1)|\n",
    "\n",
    "2. Weight의 초기화는 아래와 같습니다.<br>\n",
    "   * 분포 형태 : 정규분포(Normal Distribution)\n",
    "   * 평균과 표준편차 : (0, 0.1)\n",
    "\n",
    "3. Bias의 초기화는 0으로 해줍니다.<br>\n",
    "\n",
    "4. Activation Function은 모두 `sigmoid`를 이용합니다.<br>"
   ]
  },
  {
   "cell_type": "markdown",
   "metadata": {},
   "source": [
    "#### 답안지 입력란\n",
    "* 아래에 답을 서술하여 주세요.\n",
    "* 정답은 `graph`아래에 텐서플로우 코드를 구현해주세요"
   ]
  },
  {
   "cell_type": "code",
   "execution_count": 3,
   "metadata": {
    "colab": {
     "base_uri": "https://localhost:8080/",
     "height": 34
    },
    "colab_type": "code",
    "id": "zQf9jjz1efUm",
    "outputId": "1c535193-b87e-4e21-cb39-8b6fd0e89800"
   },
   "outputs": [],
   "source": [
    "# 정답을 입력해 주세요\n",
    "graph = tf.Graph()\n",
    "with graph.as_default():\n",
    "    # TODO : 여기에 코드를 작성해 주시면 됩니다.\n",
    "    pass"
   ]
  },
  {
   "cell_type": "markdown",
   "metadata": {},
   "source": [
    "#### 정답 확인 \n",
    "* 정답을 입력한 후, 아래를 실행시켜 아래와 같이 나오면 성공입니다."
   ]
  },
  {
   "cell_type": "code",
   "execution_count": 4,
   "metadata": {
    "colab": {
     "base_uri": "https://localhost:8080/",
     "height": 641
    },
    "colab_type": "code",
    "id": "YvdyCdPo9BJE",
    "outputId": "6b45d3b6-5945-480c-ee60-7a0d4c456d10"
   },
   "outputs": [
    {
     "data": {
      "text/html": [
       "\n",
       "        <iframe seamless style=\"width:1200px;height:620px;border:0\" srcdoc=\"\n",
       "        <script>\n",
       "          function load() {\n",
       "            document.getElementById(&quot;graph0.001993049102045119&quot;).pbtxt = '';\n",
       "          }\n",
       "        </script>\n",
       "        <link rel=&quot;import&quot; href=&quot;https://tensorboard.appspot.com/tf-graph-basic.build.html&quot; onload=load()>\n",
       "        <div style=&quot;height:600px&quot;>\n",
       "          <tf-graph-basic id=&quot;graph0.001993049102045119&quot;></tf-graph-basic>\n",
       "        </div>\n",
       "    \"></iframe>\n",
       "    "
      ],
      "text/plain": [
       "<IPython.core.display.HTML object>"
      ]
     },
     "metadata": {},
     "output_type": "display_data"
    }
   ],
   "source": [
    "# 아래 코드를 실행하면 Tensorboard 을 이용해 default graph 을 시각화 합니다 \n",
    "show_graph(graph)"
   ]
  },
  {
   "cell_type": "markdown",
   "metadata": {
    "colab_type": "text",
    "id": "3NffzmRRsnPo"
   },
   "source": [
    "#### 정답 확인\n",
    "* 아래와 같은 그림이 나오도록 만들어 주세요\n",
    "\n",
    "![Imgur](https://i.imgur.com/WwMmb7a.png)\n",
    "\n"
   ]
  },
  {
   "cell_type": "markdown",
   "metadata": {
    "colab_type": "text",
    "id": "3IzIVKHoYgiV"
   },
   "source": [
    "#  \n",
    "\n",
    "<hr>\n",
    "<div style = \"background-image: url('https://algorithmai.io/static/media/logo.665798c4.png');background-repeat: no-repeat; background-position: right; background-size: 220px 40px; padding : 5px 10px 5px 5px;\">\n",
    "    Copyright(c) 2019 by Public AI. All rights reserved.<br>\n",
    "    Writen by PAI, SangJae Kang ( rocketgrowthsj@publicai.co.kr )  last updated on 2019/04/17\n",
    "</div>\n",
    "<hr>"
   ]
  }
 ],
 "metadata": {
  "colab": {
   "collapsed_sections": [],
   "name": "정답_2_신경망의 구조",
   "provenance": [],
   "version": "0.3.2"
  },
  "kernelspec": {
   "display_name": "Python 3",
   "language": "python",
   "name": "python3"
  },
  "language_info": {
   "codemirror_mode": {
    "name": "ipython",
    "version": 3
   },
   "file_extension": ".py",
   "mimetype": "text/x-python",
   "name": "python",
   "nbconvert_exporter": "python",
   "pygments_lexer": "ipython3",
   "version": "3.6.5"
  }
 },
 "nbformat": 4,
 "nbformat_minor": 1
}
