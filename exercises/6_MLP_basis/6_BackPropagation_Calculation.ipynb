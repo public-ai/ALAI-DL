{
 "cells": [
  {
   "cell_type": "code",
   "execution_count": 1,
   "metadata": {},
   "outputs": [],
   "source": [
    "import numpy as np "
   ]
  },
  {
   "cell_type": "markdown",
   "metadata": {
    "colab_type": "text",
    "id": "5v7pT4hd34dN"
   },
   "source": [
    "## 연습문제  1<br>\n",
    "x = 1 , y = 2 , z =3 일 때 answer1 에 $\\frac{\\partial z}{\\partial x }$ 값을 넣어주세요<br>\n",
    "![Imgur](https://i.imgur.com/fsNYUzF.png)"
   ]
  },
  {
   "cell_type": "markdown",
   "metadata": {
    "colab_type": "text",
    "id": "ivK4bPMDDdxN"
   },
   "source": [
    "#### 답안지 입력란\n",
    "* 아래에 답을 서술하여 주세요\n",
    "* `answer1`에 정답을 담아주세요"
   ]
  },
  {
   "cell_type": "code",
   "execution_count": 2,
   "metadata": {
    "colab": {},
    "colab_type": "code",
    "id": "yqpS0pvyDdxO"
   },
   "outputs": [],
   "source": [
    "# 정답을 입력해 주세요\n"
   ]
  },
  {
   "cell_type": "markdown",
   "metadata": {
    "colab_type": "text",
    "id": "glox4LX9Dge_"
   },
   "source": [
    "#### 정답 확인\n",
    "* 정답을 입력한 후, 아래를 실행시키면 정답인지 확인합니다."
   ]
  },
  {
   "cell_type": "code",
   "execution_count": 3,
   "metadata": {
    "colab": {
     "base_uri": "https://localhost:8080/",
     "height": 34
    },
    "colab_type": "code",
    "id": "PUlvZVHDDge_",
    "outputId": "6c803828-dd1e-418c-cfed-a56ca521b5d1"
   },
   "outputs": [
    {
     "ename": "AssertionError",
     "evalue": "answer1에 값을 담았는지 확인해주세요",
     "output_type": "error",
     "traceback": [
      "\u001b[0;31m---------------------------------------------------------------------------\u001b[0m",
      "\u001b[0;31mAssertionError\u001b[0m                            Traceback (most recent call last)",
      "\u001b[0;32m<ipython-input-3-36037eca6603>\u001b[0m in \u001b[0;36m<module>\u001b[0;34m\u001b[0m\n\u001b[0;32m----> 1\u001b[0;31m \u001b[0;32massert\u001b[0m \u001b[0;34m'answer1'\u001b[0m \u001b[0;32min\u001b[0m \u001b[0mglobals\u001b[0m\u001b[0;34m(\u001b[0m\u001b[0;34m)\u001b[0m\u001b[0;34m,\u001b[0m \u001b[0;34m\"answer1에 값을 담았는지 확인해주세요\"\u001b[0m\u001b[0;34m\u001b[0m\u001b[0m\n\u001b[0m\u001b[1;32m      2\u001b[0m \u001b[0;34m\u001b[0m\u001b[0m\n\u001b[1;32m      3\u001b[0m \u001b[0;32mif\u001b[0m \u001b[0manswer1\u001b[0m \u001b[0;34m==\u001b[0m \u001b[0;36m1\u001b[0m\u001b[0;34m:\u001b[0m\u001b[0;34m\u001b[0m\u001b[0m\n\u001b[1;32m      4\u001b[0m     \u001b[0mprint\u001b[0m\u001b[0;34m(\u001b[0m\u001b[0;34m\"정답입니다!!!!\"\u001b[0m\u001b[0;34m)\u001b[0m\u001b[0;34m\u001b[0m\u001b[0m\n\u001b[1;32m      5\u001b[0m \u001b[0;32melse\u001b[0m\u001b[0;34m:\u001b[0m\u001b[0;34m\u001b[0m\u001b[0m\n",
      "\u001b[0;31mAssertionError\u001b[0m: answer1에 값을 담았는지 확인해주세요"
     ]
    }
   ],
   "source": [
    "assert 'answer1' in globals(), \"answer1에 값을 담았는지 확인해주세요\"\n",
    "\n",
    "if answer1 == 1:\n",
    "    print(\"정답입니다!!!!\")\n",
    "else:\n",
    "    raise ValueError(\"x가 1인지 확인해 주세요\")"
   ]
  },
  {
   "cell_type": "markdown",
   "metadata": {
    "colab_type": "text",
    "id": "R6db2cCysOWI"
   },
   "source": [
    "\n",
    "## 연습문제  2<br>\n",
    "x = 1 , y = 2 , z =3 일 때 answer1 에 $\\frac{\\partial z}{\\partial y }$ 값을 넣어주세요<br>\n",
    "\n",
    "![Imgur](https://i.imgur.com/q2bcePY.png)"
   ]
  },
  {
   "cell_type": "markdown",
   "metadata": {
    "colab_type": "text",
    "id": "7T7GmfEAsYNz"
   },
   "source": [
    "#### 답안지 입력란\n",
    "* 아래에 답을 서술하여 주세요\n",
    "* `answer2`에 정답을 담아주세요"
   ]
  },
  {
   "cell_type": "code",
   "execution_count": 4,
   "metadata": {
    "colab": {},
    "colab_type": "code",
    "id": "VJGxTMnEsYN0"
   },
   "outputs": [],
   "source": [
    "# 정답을 입력해 주세요\n"
   ]
  },
  {
   "cell_type": "markdown",
   "metadata": {
    "colab_type": "text",
    "id": "U3Vnw_c3sYN2"
   },
   "source": [
    "#### 정답 확인\n",
    "* 정답을 입력한 후, 아래를 실행시키면 정답인지 확인합니다."
   ]
  },
  {
   "cell_type": "code",
   "execution_count": null,
   "metadata": {
    "colab": {
     "base_uri": "https://localhost:8080/",
     "height": 34
    },
    "colab_type": "code",
    "id": "k-CZK05YsYN4",
    "outputId": "bbea243a-4f15-49cf-c757-a378e1fabbaa"
   },
   "outputs": [],
   "source": [
    "assert 'answer2' in globals(), \"answer2에 값을 담았는지 확인해주세요\"\n",
    "\n",
    "if answer2 == 1:\n",
    "    print(\"정답입니다!!!!\")\n",
    "else:\n",
    "    raise ValueError(\"x가 1234인지 확인해 주세요\")"
   ]
  },
  {
   "cell_type": "markdown",
   "metadata": {
    "colab_type": "text",
    "id": "XGDlOD-u6SFB"
   },
   "source": [
    "## 연습문제 3\n",
    "\n",
    "아래 그림은 sigmoid 표현한 graph 입니다. \n",
    "\n",
    "\n",
    "x = 3 일때 \n",
    "$\\frac{\\partial L}{\\partial x}$ 을 구해 answer3 에 넣어주세요.<br>\n",
    "\n",
    "\n",
    "![Imgur](https://i.imgur.com/MdxPuau.png)"
   ]
  },
  {
   "cell_type": "markdown",
   "metadata": {
    "colab_type": "text",
    "id": "d1VsWsZ1rQHb"
   },
   "source": [
    "#### 답안지 입력란\n",
    "* 아래에 답을 서술하여 주세요\n",
    "* `answer3`에 정답을 담아주세요"
   ]
  },
  {
   "cell_type": "code",
   "execution_count": null,
   "metadata": {
    "colab": {
     "base_uri": "https://localhost:8080/",
     "height": 34
    },
    "colab_type": "code",
    "id": "U0Z4_W0CrQHc",
    "outputId": "88784147-3f3b-4a5d-c0de-fe7282580891"
   },
   "outputs": [],
   "source": [
    "# 정답을 입력해 주세요\n"
   ]
  },
  {
   "cell_type": "markdown",
   "metadata": {
    "colab_type": "text",
    "id": "SL7B9WharQHd"
   },
   "source": [
    "#### 정답 확인\n",
    "* 정답을 입력한 후, 아래를 실행시키면 정답인지 확인합니다."
   ]
  },
  {
   "cell_type": "code",
   "execution_count": null,
   "metadata": {
    "colab": {
     "base_uri": "https://localhost:8080/",
     "height": 34
    },
    "colab_type": "code",
    "id": "hOz_jD4jrQHd",
    "outputId": "9eefc5f0-49a9-4a51-fe62-31fe18e6a942"
   },
   "outputs": [],
   "source": [
    "from numpy.testing import assert_almost_equal\n",
    "assert 'answer3' in globals(), \"answer3에 값을 담았는지 확인해주세요\"\n",
    "\n",
    "A = 0.045176659730912\n",
    "assert_almost_equal(answer3, A, decimal=5,\n",
    "                    err_msg=\"정답이 {} 인지 확인해 주세요\".format(A))\n",
    "print(\"정답입니다!!!!\")"
   ]
  },
  {
   "cell_type": "markdown",
   "metadata": {
    "colab_type": "text",
    "id": "fkIjw-kqKVWS"
   },
   "source": [
    "## 연습문제 4\n",
    "아래 그림을 이용해서 x = 3 , y=1, Loss=2.6 일때 <br> $\\frac{\\partial loss}{\\partial W^0_{00}}$  을 구해 answer4 에 넣어주세요 \n",
    "\n",
    "\n",
    "![Imgur](https://i.imgur.com/KPr1p67.png)\n",
    "\n",
    "\n",
    "\n"
   ]
  },
  {
   "cell_type": "markdown",
   "metadata": {
    "colab_type": "text",
    "id": "Acq80B1JrQg8"
   },
   "source": [
    "#### 답안지 입력란\n",
    "* 아래에 답을 서술하여 주세요\n",
    "* `answer4`에 정답을 담아주세요"
   ]
  },
  {
   "cell_type": "code",
   "execution_count": null,
   "metadata": {
    "colab": {
     "base_uri": "https://localhost:8080/",
     "height": 34
    },
    "colab_type": "code",
    "id": "GLAUKwc-rQg8",
    "outputId": "698c0330-3fb4-4a9f-dbfb-e53a48451b2b"
   },
   "outputs": [],
   "source": []
  },
  {
   "cell_type": "markdown",
   "metadata": {
    "colab_type": "text",
    "id": "8sIP7P8rrQg_"
   },
   "source": [
    "#### 정답 확인\n",
    "* 정답을 입력한 후, 아래를 실행시키면 정답인지 확인합니다."
   ]
  },
  {
   "cell_type": "code",
   "execution_count": null,
   "metadata": {
    "colab": {
     "base_uri": "https://localhost:8080/",
     "height": 34
    },
    "colab_type": "code",
    "id": "Ymilc8dVrQg_",
    "outputId": "ddbbda6c-79c8-46af-e207-f60fc0bf5d76"
   },
   "outputs": [],
   "source": [
    "from numpy.testing import assert_almost_equal\n",
    "assert 'answer4' in globals(), \"answer4에 값을 담았는지 확인해주세요\"\n",
    "\n",
    "A = -0.024893594805934935\n",
    "assert_almost_equal(answer4, A, decimal=5,\n",
    "                    err_msg=\"정답이 {} 인지 확인해 주세요\".format(A))\n",
    "print(\"정답입니다!!!!\")"
   ]
  },
  {
   "cell_type": "markdown",
   "metadata": {
    "colab_type": "text",
    "id": "_mSm38khPfUq"
   },
   "source": [
    "## 연습문제 5\n",
    "아래 그림을 이용해서 x = -3 , y=1, Loss=2.6 일때 <br> $\\frac{\\partial loss}{\\partial W^0_{00}}$  을 구해 answer4 에 넣어주세요 \n",
    "\n",
    "![Imgur](https://i.imgur.com/NxiKmSe.png)\n",
    "\n",
    "\n",
    "\n"
   ]
  },
  {
   "cell_type": "markdown",
   "metadata": {
    "colab_type": "text",
    "id": "sD8h_oA9rQ7k"
   },
   "source": [
    "#### 답안지 입력란\n",
    "* 아래에 답을 서술하여 주세요\n",
    "* `answer5`에 정답을 담아주세요"
   ]
  },
  {
   "cell_type": "code",
   "execution_count": null,
   "metadata": {
    "colab": {
     "base_uri": "https://localhost:8080/",
     "height": 34
    },
    "colab_type": "code",
    "id": "GAwswZ4MrQ7l",
    "outputId": "86d019d4-54ca-41a7-82c0-d4bfba61e156"
   },
   "outputs": [],
   "source": []
  },
  {
   "cell_type": "markdown",
   "metadata": {
    "colab_type": "text",
    "id": "1yt_Rb21rQ7n"
   },
   "source": [
    "#### 정답 확인\n",
    "* 정답을 입력한 후, 아래를 실행시키면 정답인지 확인합니다."
   ]
  },
  {
   "cell_type": "code",
   "execution_count": null,
   "metadata": {
    "colab": {
     "base_uri": "https://localhost:8080/",
     "height": 34
    },
    "colab_type": "code",
    "id": "zjZ6U9OhrQ7n",
    "outputId": "f7a836a4-eca4-4b1e-f2dc-392862ae59b6"
   },
   "outputs": [],
   "source": [
    "from numpy.testing import assert_almost_equal\n",
    "assert 'answer5' in globals(), \"answer5에 값을 담았는지 확인해주세요\"\n",
    "\n",
    "A = 0.0\n",
    "assert_almost_equal(answer5, A, decimal=5,\n",
    "                    err_msg=\"정답이 {} 인지 확인해 주세요\".format(A))\n",
    "print(\"정답입니다!!!!\")"
   ]
  },
  {
   "cell_type": "markdown",
   "metadata": {
    "colab_type": "text",
    "id": "7smDj1A4SwZz"
   },
   "source": [
    "## 연습문제 6\n",
    "\n",
    "아래 그림을 이용해서 x = 3 , y=1, Loss=2.6 일때 $\\frac{\\partial Loss}{\\partial X} $ 을 구해서 answer6 에 넣어주세요 "
   ]
  },
  {
   "cell_type": "markdown",
   "metadata": {
    "colab_type": "text",
    "id": "iqzUX2tRMz42"
   },
   "source": [
    "![Imgur](https://i.imgur.com/JQTcwcP.png)"
   ]
  },
  {
   "cell_type": "markdown",
   "metadata": {
    "colab_type": "text",
    "id": "C71uyQvqrRZT"
   },
   "source": [
    "#### 답안지 입력란\n",
    "* 아래에 답을 서술하여 주세요\n",
    "* `answer6`에 정답을 담아주세요"
   ]
  },
  {
   "cell_type": "code",
   "execution_count": null,
   "metadata": {
    "colab": {
     "base_uri": "https://localhost:8080/",
     "height": 34
    },
    "colab_type": "code",
    "id": "EdtqsPcBrRZT",
    "outputId": "a9170acd-90db-42ee-9f7f-0df357040aa6"
   },
   "outputs": [],
   "source": []
  },
  {
   "cell_type": "markdown",
   "metadata": {
    "colab_type": "text",
    "id": "utfK_UnzrRZX"
   },
   "source": [
    "#### 정답 확인\n",
    "* 정답을 입력한 후, 아래를 실행시키면 정답인지 확인합니다."
   ]
  },
  {
   "cell_type": "code",
   "execution_count": null,
   "metadata": {
    "colab": {
     "base_uri": "https://localhost:8080/",
     "height": 34
    },
    "colab_type": "code",
    "id": "A_Fi4n_JrRZX",
    "outputId": "aee3c19d-568f-47dc-d2b3-bca64f3de01d"
   },
   "outputs": [],
   "source": [
    "from numpy.testing import assert_almost_equal\n",
    "assert 'answer6' in globals(), \"answer6에 값을 담았는지 확인해주세요\"\n",
    "\n",
    "A = 0.0029309415423474532\n",
    "assert_almost_equal(answer6, A, decimal=5,\n",
    "                    err_msg=\"정답이 {} 인지 확인해 주세요\".format(A))\n",
    "print(\"정답입니다!!!!\")"
   ]
  },
  {
   "cell_type": "markdown",
   "metadata": {
    "colab_type": "text",
    "id": "sToezwuZmVj8"
   },
   "source": [
    "## 연습문제 7\n",
    "![Imgur](https://i.imgur.com/5Ap1SD4.png)"
   ]
  },
  {
   "cell_type": "code",
   "execution_count": null,
   "metadata": {},
   "outputs": [],
   "source": [
    "# 우선 실행해주세요\n",
    "X = np.array([[9., 3.],\n",
    "             [3., 7.],\n",
    "             [8., 4.],\n",
    "             [2., 3.]])\n",
    "\n",
    "Y = np.array([[1.],\n",
    "             [0.],\n",
    "             [1.],\n",
    "             [0.]])\n",
    "\n",
    "\n",
    "W1 = np.array([[0.3, -0.7],\n",
    "               [0.6, 0.4]])\n",
    "\n",
    "B1 = np.array([[0., 0.1]])\n",
    "\n",
    "\n",
    "\n",
    "W2 = np.array([[0.4] ,[0.6]])\n",
    "\n",
    "B2 = np.array([[0.7]])"
   ]
  },
  {
   "cell_type": "markdown",
   "metadata": {
    "colab_type": "text",
    "id": "Xl-9kYJMrRy0"
   },
   "source": [
    "#### 답안지 입력란\n",
    "* 아래에 답을 서술하여 주세요\n",
    "* `answer7`에 정답을 담아주세요"
   ]
  },
  {
   "cell_type": "code",
   "execution_count": null,
   "metadata": {},
   "outputs": [],
   "source": []
  },
  {
   "cell_type": "markdown",
   "metadata": {
    "colab_type": "text",
    "id": "oJS63xqdrRy2"
   },
   "source": [
    "#### 정답 확인\n",
    "* 정답을 입력한 후, 아래를 실행시키면 정답인지 확인합니다."
   ]
  },
  {
   "cell_type": "code",
   "execution_count": null,
   "metadata": {
    "colab": {
     "base_uri": "https://localhost:8080/",
     "height": 34
    },
    "colab_type": "code",
    "id": "JBUA0gePrRy3",
    "outputId": "45f23d28-b1ed-48e6-fbc4-3d1ba999c961"
   },
   "outputs": [],
   "source": [
    "from numpy.testing import assert_array_almost_equal\n",
    "assert 'answer7' in globals(), \"answer7 값을 담았는지 확인해주세요\"\n",
    "\n",
    "A = np.array([\n",
    "    [5.,5.],\n",
    "    [10.,10.]\n",
    "])\n",
    "\n",
    "assert_array_almost_equal(answer7, A, decimal=5,\n",
    "                          err_msg=\"정답이 {} 인지 확인해 주세요\".format(A))\n",
    "print(\"정답입니다!!!!\")"
   ]
  },
  {
   "cell_type": "markdown",
   "metadata": {
    "colab_type": "text",
    "id": "3IzIVKHoYgiV"
   },
   "source": [
    "#  \n",
    "\n",
    "<hr>\n",
    "<div style = \"background-image: url('https://algorithmai.io/static/media/logo.665798c4.png');background-repeat: no-repeat; background-position: right; background-size: 220px 40px; padding : 5px 10px 5px 5px;\">\n",
    "    Copyright(c) 2019 by Public AI. All rights reserved.<br>\n",
    "    Writen by PAI, SangJae Kang ( rocketgrowthsj@publicai.co.kr )  last updated on 2019/04/17\n",
    "</div>\n",
    "<hr>"
   ]
  }
 ],
 "metadata": {
  "colab": {
   "collapsed_sections": [],
   "name": "6_BackPropagation Calculation.ipynb",
   "provenance": [],
   "version": "0.3.2"
  },
  "kernelspec": {
   "display_name": "Python 3",
   "language": "python",
   "name": "python3"
  },
  "language_info": {
   "codemirror_mode": {
    "name": "ipython",
    "version": 3
   },
   "file_extension": ".py",
   "mimetype": "text/x-python",
   "name": "python",
   "nbconvert_exporter": "python",
   "pygments_lexer": "ipython3",
   "version": "3.6.5"
  }
 },
 "nbformat": 4,
 "nbformat_minor": 1
}
