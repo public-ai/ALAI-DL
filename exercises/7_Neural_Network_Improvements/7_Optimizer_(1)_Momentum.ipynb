{
 "cells": [
  {
   "cell_type": "markdown",
   "metadata": {
    "colab_type": "text",
    "id": "V5DbTV6Y8_fm"
   },
   "source": [
    "## Section 7_Optimizer (1) Momentum\n"
   ]
  },
  {
   "cell_type": "code",
   "execution_count": null,
   "metadata": {},
   "outputs": [],
   "source": [
    "%matplotlib inline\n",
    "import numpy as np\n",
    "import pandas as pd\n",
    "\n",
    "import tensorflow as tf\n",
    "import numpy as np\n",
    "import matplotlib.pyplot as plt\n",
    "from matplotlib.colors import LogNorm\n",
    "from mpl_toolkits.mplot3d import Axes3D"
   ]
  },
  {
   "cell_type": "markdown",
   "metadata": {
    "colab_type": "text",
    "id": "b0Hku8a98_fo"
   },
   "source": [
    "## 문제 1. Rosenbrock 학습시키기\n",
    "\n",
    "Gradient Descent, Momentum, Momentum Nesterov 을 이용해 rosenbrock 함수의 최소점을 찾아봅니다.\n",
    "\n",
    "fix me 주석을 지우고 알맞은 코드를 넣어주세요\n",
    "\n",
    "**Rosenbrock Function**\n",
    "${\\displaystyle f(x,y)=(1-x)^{2}+100(y-x^{2})^{2}},$\n",
    "\n",
    "![Imgur](https://i.imgur.com/lAuApse.png)"
   ]
  },
  {
   "cell_type": "code",
   "execution_count": null,
   "metadata": {
    "colab": {},
    "colab_type": "code",
    "id": "pz2ixGVCT9Q0"
   },
   "outputs": [],
   "source": [
    "# 우선 실행해 주세요\n",
    "np.random.seed(30)\n",
    "tf.random.set_random_seed(30)\n",
    "\n",
    "def rosenbrock (x, y):    \n",
    "    return (1-x) ** 2 + 100*(y - x**2) ** 2\n",
    "\n",
    "def generate_rosenbrock_plot():\n",
    "    # rosenbroc function을 plotting 합니다.\n",
    "    xmin, xmax, xstep = -4.5, 4.5, .2\n",
    "    ymin, ymax, ystep = -4.5, 4.5, .2\n",
    "\n",
    "    xs_ = np.arange(xmin, xmax, xstep)\n",
    "    ys_ = np.arange(ymin, ymax, ystep)\n",
    "\n",
    "    x, y = np.meshgrid(xs_, ys_)\n",
    "    z = rosenbrock(x,y)\n",
    "    \n",
    "    plt.figure(figsize=(8, 5))\n",
    "    ax = plt.axes(projection='3d', elev=50, azim=-50)\n",
    "    \n",
    "    # minimum point \n",
    "    min_x, min_y = (1.0, 1.0)\n",
    "    minima = np.array([min_x, min_y])\n",
    "    minima_ = minima.reshape(-1, 1)\n",
    "    z_minima = rosenbrock(*minima)\n",
    "    ax.plot(*minima_, z_minima, 'r*', markersize=10)\n",
    "\n",
    "    # init point \n",
    "    min_x, min_y = (-4.0, -4.0)\n",
    "    minima = np.array([min_x, min_y])\n",
    "    minima_ = minima.reshape(-1, 1)\n",
    "    z_minima = rosenbrock(*minima)\n",
    "    ax.plot(*minima_, z_minima, 'b*', markersize=10)\n",
    "    \n",
    "    ax.plot_surface(x, y, z, norm=LogNorm(), rstride=1, cstride=1,\n",
    "                    edgecolor='None', alpha=0.3, cmap=plt.cm.jet)\n",
    "\n",
    "    ax.view_init(60, 50)\n",
    "    ax.set_title(\"rosenbrock Function Visualization\")\n",
    "    ax.set_xlabel('$x$')\n",
    "    ax.set_ylabel('$y$')\n",
    "    ax.set_zlabel('$z$')\n",
    "\n",
    "    ax.set_xlim((xmin, xmax))\n",
    "    ax.set_ylim((ymin, ymax))\n",
    "\n",
    "    return ax"
   ]
  },
  {
   "cell_type": "markdown",
   "metadata": {},
   "source": [
    "#### 답안지 입력란\n",
    "* 아래에 답을 서술하여 주세요\n",
    "* `#FixMe` 부분을 고쳐주세요"
   ]
  },
  {
   "cell_type": "code",
   "execution_count": null,
   "metadata": {
    "colab": {},
    "colab_type": "code",
    "id": "IzAxNEAgY-w1"
   },
   "outputs": [],
   "source": [
    "def gradient_descent_graph(start_x, start_y, func, lr):\n",
    "    graph = tf.Graph()\n",
    "    with graph.as_default():\n",
    "        x = tf.Variable(initial_value=tf.constant(start_x), name='x')\n",
    "        y = tf.Variable(initial_value=tf.constant(start_y), name='y')\n",
    "\n",
    "        # Get Gradient x,y with tf_f\n",
    "        z = func(x, y)\n",
    "        z = tf.identity(z, name='z')\n",
    "        train_op = #fix me#\n",
    "    return graph"
   ]
  },
  {
   "cell_type": "code",
   "execution_count": null,
   "metadata": {
    "colab": {},
    "colab_type": "code",
    "id": "5rGF8UUceH-S"
   },
   "outputs": [],
   "source": [
    "def momentum_graph(start_x, start_y, func, lr, momentum=0.9):\n",
    "    graph = tf.Graph()\n",
    "    with graph.as_default():\n",
    "        x = tf.Variable(initial_value=tf.constant(start_x), name='x')\n",
    "        y = tf.Variable(initial_value=tf.constant(start_y), name='y')\n",
    "\n",
    "        z = func(x, y)\n",
    "        z = tf.identity(z, name='z')\n",
    "        train_op = #fix me#\n",
    "    return graph"
   ]
  },
  {
   "cell_type": "code",
   "execution_count": null,
   "metadata": {
    "colab": {},
    "colab_type": "code",
    "id": "xJuCMWbPeH-b"
   },
   "outputs": [],
   "source": [
    "def nag_momentum_graph(start_x, start_y, func, lr, momentum=0.9):\n",
    "    graph = tf.Graph()\n",
    "    with graph.as_default():\n",
    "        x = tf.Variable(initial_value=tf.constant(start_x), name='x')\n",
    "        y = tf.Variable(initial_value=tf.constant(start_y), name='y')\n",
    "        \n",
    "        z = func(x, y)\n",
    "        z = tf.identity(z, name='z')\n",
    "        train_op = #fix me#\n",
    "    return graph"
   ]
  },
  {
   "cell_type": "code",
   "execution_count": null,
   "metadata": {
    "colab": {},
    "colab_type": "code",
    "id": "9lkyHcs4c3iH"
   },
   "outputs": [],
   "source": [
    "def trace(graph, max_iter):\n",
    "    with tf.Session(graph=graph) as sess:\n",
    "        sess.run(tf.global_variables_initializer())\n",
    "\n",
    "        x = graph.get_tensor_by_name('x:0')\n",
    "        y = graph.get_tensor_by_name('y:0')\n",
    "        z = graph.get_tensor_by_name('z:0')\n",
    "        train_op = tf.get_collection(tf.GraphKeys.TRAIN_OP)[0]\n",
    "\n",
    "        xs, ys, zs = [], [], []\n",
    "        for i in range(max_iter):\n",
    "            x_, y_, z_ = sess.run([x, y, z])\n",
    "\n",
    "            xs.append(x_)\n",
    "            ys.append(y_)\n",
    "            zs.append(z_)\n",
    "\n",
    "            sess.run(train_op)\n",
    "    return xs, ys, zs"
   ]
  },
  {
   "cell_type": "code",
   "execution_count": null,
   "metadata": {
    "colab": {},
    "colab_type": "code",
    "id": "Yg8kLe3Xc6cQ"
   },
   "outputs": [],
   "source": [
    "start_x, start_y = -4., -4.\n",
    "\n",
    "# Gradient Descent \n",
    "learning_rate = #fix me#\n",
    "max_iter = #fix me#\n",
    "gd_graph = gradient_descent_graph(start_x,start_y, rosenbrock, learning_rate)\n",
    "gd_xs, gd_ys, gd_zs = trace(gd_graph, max_iter)\n",
    "\n",
    "# Momentum \n",
    "learning_rate = #fix me#\n",
    "max_iter = #fix me#\n",
    "mm_graph = momentum_graph(start_x,start_y, rosenbrock, learning_rate)\n",
    "mm_xs, mm_ys, mm_zs = trace(mm_graph, max_iter)\n",
    "\n",
    "# Momentum with nesterov\n",
    "learning_rate = #fix me#\n",
    "max_iter = #fix me#\n",
    "nag_graph = nag_momentum_graph(start_x,start_y, rosenbrock, learning_rate)\n",
    "nag_xs, nag_ys, nag_zs = trace(nag_graph, max_iter)\n",
    "\n",
    "ax = generate_rosenbrock_plot()\n",
    "ax.plot(gd_xs, gd_ys, gd_zs, label='Gradient Descent', color='b')\n",
    "ax.plot(mm_xs, mm_ys, mm_zs, label='Momentum', color='g')\n",
    "ax.plot(nag_xs, nag_ys, nag_zs, label='Momentum with Nesterov', color='y')\n",
    "ax.legend()\n",
    "plt.show()"
   ]
  },
  {
   "cell_type": "markdown",
   "metadata": {
    "colab_type": "text",
    "id": "bWPl2E0X8_fs"
   },
   "source": [
    "#### 정답 확인\n",
    "* 아래 그램과 깉이 파란별에서 시작해 빨간별로 모두다 이동하면 성공입니다.<br>\n",
    "![Imgur](https://i.imgur.com/dmxPuf2.png)"
   ]
  },
  {
   "cell_type": "markdown",
   "metadata": {
    "colab_type": "text",
    "id": "3IzIVKHoYgiV"
   },
   "source": [
    "#  \n",
    "\n",
    "<hr>\n",
    "<div style = \"background-image: url('https://algorithmai.io/static/media/logo.665798c4.png');background-repeat: no-repeat; background-position: right; background-size: 220px 40px; padding : 5px 10px 5px 5px;\">\n",
    "    Copyright(c) 2019 by Public AI. All rights reserved.<br>\n",
    "    Writen by PAI, SangJae Kang ( rocketgrowthsj@publicai.co.kr )  last updated on 2019/04/17\n",
    "</div>\n",
    "<hr>"
   ]
  }
 ],
 "metadata": {
  "colab": {
   "collapsed_sections": [],
   "name": "문제_7_Optimizer (1) Momentum.ipynb",
   "provenance": [],
   "version": "0.3.2"
  },
  "kernelspec": {
   "display_name": "Python 3",
   "language": "python",
   "name": "python3"
  },
  "language_info": {
   "codemirror_mode": {
    "name": "ipython",
    "version": 3
   },
   "file_extension": ".py",
   "mimetype": "text/x-python",
   "name": "python",
   "nbconvert_exporter": "python",
   "pygments_lexer": "ipython3",
   "version": "3.6.6"
  }
 },
 "nbformat": 4,
 "nbformat_minor": 1
}
