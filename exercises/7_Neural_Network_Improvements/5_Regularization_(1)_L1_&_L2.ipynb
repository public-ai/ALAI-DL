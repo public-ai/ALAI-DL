{
 "cells": [
  {
   "cell_type": "markdown",
   "metadata": {
    "colab_type": "text",
    "id": "V5DbTV6Y8_fm"
   },
   "source": [
    "## 5_Regularization (1) L1 & L2"
   ]
  },
  {
   "cell_type": "code",
   "execution_count": 12,
   "metadata": {},
   "outputs": [],
   "source": [
    "%matplotlib inline\n",
    "import numpy as np\n",
    "\n",
    "import tensorflow as tf\n",
    "import matplotlib.pyplot as plt\n",
    "import shutil\n",
    "import os\n",
    "import time\n",
    "import sys\n",
    "from tqdm import tqdm\n",
    "\n",
    "np.random.seed(30)\n",
    "tf.random.set_random_seed(30)\n"
   ]
  },
  {
   "cell_type": "markdown",
   "metadata": {},
   "source": [
    "## 예제 데이터 ) 기술투자 비율과 예상 수익률 데이터 셋\n",
    "\n",
    "기술 투자 비율과 예상 수익률에 대한 데이터셋입니다. <br>\n",
    "아래와 같이 랜덤으로 50개의 데이터셋을 만들고, Test 데이터셋은 노이즈를 주지 않았습니다.<br>\n",
    "데이터에 노이즈가 많고, 수가 적을 때 일반적으로 Overfitting이 발생하기 쉽습니다."
   ]
  },
  {
   "cell_type": "code",
   "execution_count": 2,
   "metadata": {},
   "outputs": [
    {
     "name": "stdout",
     "output_type": "stream",
     "text": [
      "train 데이터셋 크기 : 50\n",
      "test 데이터셋 크기 : 30\n"
     ]
    }
   ],
   "source": [
    "random_polynomial = lambda x : 3.5*x**3-4*x**2+x+0.5\n",
    "\n",
    "train_invests = np.random.uniform(0.05,0.9, 50)\n",
    "train_growths = np.array([random_polynomial(x)+np.random.normal(0,0.02) \n",
    "           for x in train_invests]) # 예상 수익률\n",
    "\n",
    "train_invests = train_invests.reshape(-1,1) \n",
    "train_growths = train_growths.reshape(-1,1) \n",
    "\n",
    "test_invests = np.linspace(0.05,0.9,30)\n",
    "test_growths = np.array([random_polynomial(x)\n",
    "                         for x in test_invests])\n",
    "\n",
    "test_invests = test_invests.reshape(-1,1)\n",
    "test_growths = test_growths.reshape(-1,1)\n",
    "\n",
    "print(\"train 데이터셋 크기 : {}\".format(len(train_invests)))\n",
    "print(\"test 데이터셋 크기 : {}\".format(len(test_invests)))"
   ]
  },
  {
   "cell_type": "code",
   "execution_count": 3,
   "metadata": {},
   "outputs": [
    {
     "data": {
      "image/png": "[encoded data removed]",
      "text/plain": [
       "<Figure size 720x576 with 1 Axes>"
      ]
     },
     "metadata": {},
     "output_type": "display_data"
    }
   ],
   "source": [
    "plt.figure(figsize=(10,8))\n",
    "plt.scatter(train_invests, train_growths, s=3,label='train')\n",
    "plt.scatter(test_invests, test_growths, s=3,label='test')\n",
    "plt.title(\"R&D Investment ROI Plot\")\n",
    "plt.xlabel(\"R&D Investment Ratio\")\n",
    "plt.ylabel(\"growth ratio\")\n",
    "plt.legend()\n",
    "plt.show()"
   ]
  },
  {
   "cell_type": "markdown",
   "metadata": {
    "colab_type": "text",
    "id": "b0Hku8a98_fo"
   },
   "source": [
    "## 문제 1. L2 Regularization의 lambda 값에 따른 변화\n",
    "\n",
    "$$\n",
    "\\mbox{손실함수 : } J(w,b) = \\frac{1}{m}\\sum^{m}_{i=1}L(\\hat y^{(i)},y^{(i)}) + \\frac{\\lambda}{2m}||w||^2\\\\\n",
    "$$\n",
    "\n",
    "이 수식에서 $\\lambda$의 변화에 따라 어떤 식으로 움직이는 지 비교해 주세요\n",
    "\n",
    "$\n",
    "\\lambda \\in \\{0.00001,0.0001,0.001,0.01,0.1\\}\n",
    "$"
   ]
  },
  {
   "cell_type": "markdown",
   "metadata": {},
   "source": [
    "#### 답안지 입력란\n",
    "* 아래에 답을 서술하여 주세요\n",
    "* 아래 그래프에서 FIX ME 부분에 수식을 추가해 주세요\n",
    "* weight decay 값인 beta는 placeholder로 추가해 주세요"
   ]
  },
  {
   "cell_type": "code",
   "execution_count": 4,
   "metadata": {
    "colab": {},
    "colab_type": "code",
    "id": "tQS4vhZj6QtB"
   },
   "outputs": [
    {
     "name": "stdout",
     "output_type": "stream",
     "text": [
      "WARNING:tensorflow:From /Users/ksj/anaconda3/lib/python3.6/site-packages/tensorflow/python/framework/op_def_library.py:263: colocate_with (from tensorflow.python.framework.ops) is deprecated and will be removed in a future version.\n",
      "Instructions for updating:\n",
      "Colocations handled automatically by placer.\n",
      "WARNING:tensorflow:From /Users/ksj/anaconda3/lib/python3.6/site-packages/tensorflow/python/ops/losses/losses_impl.py:667: to_float (from tensorflow.python.ops.math_ops) is deprecated and will be removed in a future version.\n",
      "Instructions for updating:\n",
      "Use tf.cast instead.\n"
     ]
    }
   ],
   "source": [
    "graph = tf.Graph()\n",
    "with graph.as_default():\n",
    "    X = tf.placeholder(tf.float32, shape=(None,1),name='X')\n",
    "    y = tf.placeholder(tf.float32, shape=(None,1),name='y')\n",
    "    beta = tf.placeholder(tf.float32, shape=(),name='beta')\n",
    "    \n",
    "    # Weight 초기화 함수\n",
    "    he_init = tf.initializers.he_normal()\n",
    "    xavier_init = tf.initializers.glorot_normal()\n",
    "    \n",
    "    # Graph 부분\n",
    "    hidden_1 = tf.layers.Dense(100, activation=tf.nn.relu,\n",
    "                               kernel_initializer=he_init, name=\"hidden_1\")(X)\n",
    "    hidden_2 = tf.layers.Dense(100, activation=tf.nn.relu, \n",
    "                               kernel_initializer=he_init, name='hidden_2')(hidden_1)\n",
    "    y_pred = tf.layers.Dense(1,kernel_initializer=xavier_init,\n",
    "                             name='output')(hidden_2)\n",
    "    \n",
    "    # 손실 함수\n",
    "    weights = #FIX ME\n",
    "    l2_loss = #FIX ME\n",
    "    \n",
    "    mse = #FIX ME\n",
    "    loss = #FIX ME\n",
    "    \n",
    "    # training operation\n",
    "    train_op = (tf.train\n",
    "                .AdamOptimizer(learning_rate=0.01)\n",
    "                .minimize(loss))"
   ]
  },
  {
   "cell_type": "markdown",
   "metadata": {},
   "source": [
    "#### 정답 확인\n",
    "* 아래를 실행시키면 각 weight decay 별 결과가 시각화됩니다.\n",
    "* 아래와 같은 결과가 나오면 정답입니다. \n",
    "\n",
    "![Imgur](https://i.imgur.com/rx9gjAC.png)"
   ]
  },
  {
   "cell_type": "code",
   "execution_count": 11,
   "metadata": {
    "colab": {},
    "colab_type": "code",
    "id": "0iCFmEqgHLsb",
    "scrolled": true
   },
   "outputs": [
    {
     "name": "stderr",
     "output_type": "stream",
     "text": [
      "  0%|          | 68/28000 [00:00<00:41, 679.65it/s]"
     ]
    },
    {
     "name": "stdout",
     "output_type": "stream",
     "text": [
      "weight_decay = 1e-05\n"
     ]
    },
    {
     "name": "stderr",
     "output_type": "stream",
     "text": [
      "100%|██████████| 28000/28000 [00:14<00:00, 1942.62it/s]\n",
      "  1%|          | 175/28000 [00:00<00:15, 1744.40it/s]"
     ]
    },
    {
     "name": "stdout",
     "output_type": "stream",
     "text": [
      "weight_decay = 0.0001\n"
     ]
    },
    {
     "name": "stderr",
     "output_type": "stream",
     "text": [
      "100%|██████████| 28000/28000 [00:13<00:00, 2018.93it/s]\n",
      "  1%|          | 186/28000 [00:00<00:14, 1856.09it/s]"
     ]
    },
    {
     "name": "stdout",
     "output_type": "stream",
     "text": [
      "weight_decay = 0.001\n"
     ]
    },
    {
     "name": "stderr",
     "output_type": "stream",
     "text": [
      "100%|██████████| 28000/28000 [00:13<00:00, 2005.58it/s]\n",
      "  1%|          | 175/28000 [00:00<00:15, 1743.03it/s]"
     ]
    },
    {
     "name": "stdout",
     "output_type": "stream",
     "text": [
      "weight_decay = 0.01\n"
     ]
    },
    {
     "name": "stderr",
     "output_type": "stream",
     "text": [
      "100%|██████████| 28000/28000 [00:16<00:00, 1679.21it/s]\n",
      "  1%|          | 183/28000 [00:00<00:15, 1828.03it/s]"
     ]
    },
    {
     "name": "stdout",
     "output_type": "stream",
     "text": [
      "weight_decay = 0.1\n"
     ]
    },
    {
     "name": "stderr",
     "output_type": "stream",
     "text": [
      "100%|██████████| 28000/28000 [00:14<00:00, 1927.16it/s]\n"
     ]
    }
   ],
   "source": [
    "# 모델 학습시키기\n",
    "with tf.Session(graph=graph) as sess:\n",
    "    weight_decay_result = {}\n",
    "    for weight_decay in [1e-5,1e-4,1e-3,1e-2,1e-1]:\n",
    "        print(\"weight_decay = {}\".format(weight_decay))\n",
    "        sys.stdout.flush()\n",
    "        # 가중치 초기화\n",
    "        sess.run(tf.global_variables_initializer())\n",
    "\n",
    "        for epoch in tqdm(range(28000)):\n",
    "            sess.run(train_op,feed_dict={X:train_invests,\n",
    "                                         y:train_growths,\n",
    "                                         beta:weight_decay})\n",
    "\n",
    "        # 0부터 1까지 순서대로 1000개를 출력\n",
    "        test_xs = np.linspace(0.1,0.9,1000)\n",
    "        test_xs = test_xs.reshape(-1,1)\n",
    "        pred_ys = sess.run(y_pred, feed_dict={X:test_xs})\n",
    "        # 결과 저장\n",
    "        weight_decay_result[weight_decay] = pred_ys\n",
    "        \n",
    "        \n",
    "# 결과 시각화하기\n",
    "plt.plot(test_invests, test_growths,label='test')\n",
    "for label, pred_ys in weight_decay_result.items():\n",
    "    plt.plot(test_xs,pred_ys,'--',label=label)\n",
    "\n",
    "plt.title(\"R&D Investment ROI Prediction Plot\")\n",
    "plt.xlabel(\"R&D Invesetment Ratio\")\n",
    "plt.ylabel(\"ROI\")\n",
    "plt.legend()\n",
    "plt.show()        "
   ]
  },
  {
   "cell_type": "markdown",
   "metadata": {
    "colab_type": "text",
    "id": "b0Hku8a98_fo"
   },
   "source": [
    "## 문제 2. L1 Regularization의 lambda 값에 따른 변화\n",
    "\n",
    "$$\n",
    "\\mbox{손실함수 : } J(w,b) = \\frac{1}{m}\\sum^{m}_{i=1}L(\\hat y^{(i)},y^{(i)}) + \\frac{\\lambda}{2m}||w||\\\\\n",
    "$$\n",
    "이 수식에서 $\\lambda$의 변화에 따라 어떤 식으로 움직이는 지 비교해 주세요\n",
    "\n",
    "$\n",
    "\\lambda \\in \\{0.00001,0.0001,0.001,0.01,0.1\\}\n",
    "$"
   ]
  },
  {
   "cell_type": "markdown",
   "metadata": {},
   "source": [
    "#### 답안지 입력란\n",
    "* 아래에 답을 서술하여 주세요\n",
    "* 아래 그래프에서 FIX ME 부분에 수식을 추가해 주세요\n",
    "* beta는 placeholder로 추가해 주세요"
   ]
  },
  {
   "cell_type": "code",
   "execution_count": 14,
   "metadata": {
    "colab": {},
    "colab_type": "code",
    "id": "tQS4vhZj6QtB"
   },
   "outputs": [],
   "source": [
    "graph = tf.Graph()\n",
    "with graph.as_default():\n",
    "    X = tf.placeholder(tf.float32, shape=(None,1),name='X')\n",
    "    y = tf.placeholder(tf.float32, shape=(None,1),name='y')\n",
    "    beta = tf.placeholder(tf.float32, shape=(),name='beta')\n",
    "    \n",
    "    # Weight 초기화 함수\n",
    "    he_init = tf.initializers.he_normal()\n",
    "    xavier_init = tf.initializers.glorot_normal()\n",
    "    \n",
    "    # Graph 부분\n",
    "    hidden_1 = tf.layers.Dense(100, activation=tf.nn.relu,\n",
    "                               kernel_initializer=he_init, name=\"hidden_1\")(X)\n",
    "    hidden_2 = tf.layers.Dense(100, activation=tf.nn.relu, \n",
    "                               kernel_initializer=he_init, name='hidden_2')(hidden_1)\n",
    "    y_pred = tf.layers.Dense(1,kernel_initializer=xavier_init,\n",
    "                             name='output')(hidden_2)\n",
    "    \n",
    "    # 손실 함수\n",
    "    weights = graph.get_collection(tf.GraphKeys.TRAINABLE_VARIABLES)\n",
    "    l1_loss = tf.add_n([tf.reduce_sum(tf.abs(weight))\n",
    "                        for weight in weights])\n",
    "    \n",
    "    mse = tf.losses.mean_squared_error(y, y_pred)\n",
    "    loss = mse + beta * l1_loss\n",
    "    \n",
    "    # training operation\n",
    "    train_op = (tf.train\n",
    "                .AdamOptimizer(learning_rate=0.01)\n",
    "                .minimize(loss))"
   ]
  },
  {
   "cell_type": "markdown",
   "metadata": {},
   "source": [
    "#### 정답 확인\n",
    "* 아래를 실행시키면 각 weight decay 별 결과가 시각화됩니다.\n",
    "* 아래와 같은 결과가 나오면 정답입니다. \n",
    "\n",
    "![Imgur](https://i.imgur.com/5YjaSda.png)\n"
   ]
  },
  {
   "cell_type": "code",
   "execution_count": 15,
   "metadata": {
    "colab": {},
    "colab_type": "code",
    "id": "0iCFmEqgHLsb",
    "scrolled": true
   },
   "outputs": [
    {
     "name": "stdout",
     "output_type": "stream",
     "text": [
      "weight_decay = 1e-05\n"
     ]
    },
    {
     "name": "stderr",
     "output_type": "stream",
     "text": [
      "100%|██████████| 28000/28000 [00:15<00:00, 1851.35it/s]\n"
     ]
    },
    {
     "name": "stdout",
     "output_type": "stream",
     "text": [
      "weight_decay = 0.0001\n"
     ]
    },
    {
     "name": "stderr",
     "output_type": "stream",
     "text": [
      "100%|██████████| 28000/28000 [00:15<00:00, 1814.59it/s]"
     ]
    },
    {
     "name": "stdout",
     "output_type": "stream",
     "text": [
      "weight_decay = 0.001\n"
     ]
    },
    {
     "name": "stderr",
     "output_type": "stream",
     "text": [
      "\n",
      "100%|██████████| 28000/28000 [00:14<00:00, 1895.36it/s]"
     ]
    },
    {
     "name": "stdout",
     "output_type": "stream",
     "text": [
      "weight_decay = 0.01\n"
     ]
    },
    {
     "name": "stderr",
     "output_type": "stream",
     "text": [
      "\n",
      "100%|██████████| 28000/28000 [00:13<00:00, 2065.91it/s]"
     ]
    },
    {
     "name": "stdout",
     "output_type": "stream",
     "text": [
      "weight_decay = 0.1\n"
     ]
    },
    {
     "name": "stderr",
     "output_type": "stream",
     "text": [
      "\n",
      "100%|██████████| 28000/28000 [00:15<00:00, 1864.63it/s]\n"
     ]
    },
    {
     "data": {
      "image/png": "[encoded data removed]",
      "text/plain": [
       "<Figure size 432x288 with 1 Axes>"
      ]
     },
     "metadata": {},
     "output_type": "display_data"
    }
   ],
   "source": [
    "# 모델 학습시키기\n",
    "with tf.Session(graph=graph) as sess:\n",
    "    weight_decay_result = {}\n",
    "    for weight_decay in [1e-5,1e-4,1e-3,1e-2,1e-1]:\n",
    "        print(\"lambda = {}\".format(weight_decay))\n",
    "        sys.stdout.flush()\n",
    "        # 가중치 초기화\n",
    "        sess.run(tf.global_variables_initializer())\n",
    "\n",
    "        for epoch in tqdm(range(28000)):\n",
    "            sess.run(train_op,feed_dict={X:train_invests,\n",
    "                                         y:train_growths,\n",
    "                                         beta:weight_decay})\n",
    "\n",
    "        # 0부터 1까지 순서대로 1000개를 출력\n",
    "        test_xs = np.linspace(0.1,0.9,1000)\n",
    "        test_xs = test_xs.reshape(-1,1)\n",
    "        pred_ys = sess.run(y_pred, feed_dict={X:test_xs})\n",
    "        # 결과 저장\n",
    "        weight_decay_result[weight_decay] = pred_ys\n",
    "        \n",
    "        \n",
    "# 결과 시각화하기\n",
    "plt.plot(test_invests, test_growths,label='test')\n",
    "for label, pred_ys in weight_decay_result.items():\n",
    "    plt.plot(test_xs,pred_ys,'--',label=label)\n",
    "\n",
    "plt.title(\"R&D Investment ROI Prediction Plot\")\n",
    "plt.xlabel(\"R&D Invesetment Ratio\")\n",
    "plt.ylabel(\"ROI\")\n",
    "plt.legend()\n",
    "plt.show()        "
   ]
  },
  {
   "cell_type": "markdown",
   "metadata": {
    "colab_type": "text",
    "id": "3IzIVKHoYgiV"
   },
   "source": [
    "#  \n",
    "\n",
    "<hr>\n",
    "<div style = \"background-image: url('https://algorithmai.io/static/media/logo.665798c4.png');background-repeat: no-repeat; background-position: right; background-size: 220px 40px; padding : 5px 10px 5px 5px;\">\n",
    "    Copyright(c) 2019 by Public AI. All rights reserved.<br>\n",
    "    Writen by PAI, SangJae Kang ( rocketgrowthsj@publicai.co.kr )  last updated on 2019/04/17\n",
    "</div>\n",
    "<hr>"
   ]
  }
 ],
 "metadata": {
  "accelerator": "GPU",
  "colab": {
   "collapsed_sections": [],
   "name": "정답_Regularization (1) L1 & L2",
   "provenance": [],
   "version": "0.3.2"
  },
  "kernelspec": {
   "display_name": "Python 3",
   "language": "python",
   "name": "python3"
  },
  "language_info": {
   "codemirror_mode": {
    "name": "ipython",
    "version": 3
   },
   "file_extension": ".py",
   "mimetype": "text/x-python",
   "name": "python",
   "nbconvert_exporter": "python",
   "pygments_lexer": "ipython3",
   "version": "3.6.6"
  }
 },
 "nbformat": 4,
 "nbformat_minor": 1
}
