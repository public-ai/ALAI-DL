{
 "cells": [
  {
   "cell_type": "markdown",
   "metadata": {},
   "source": [
    "## Numpy의 주요 함수들(1)\n"
   ]
  },
  {
   "cell_type": "code",
   "execution_count": 18,
   "metadata": {},
   "outputs": [],
   "source": [
    "# 우선 실행해 주세요\n",
    "import numpy as np"
   ]
  },
  {
   "cell_type": "markdown",
   "metadata": {},
   "source": [
    "#### 예제) \n",
    "\n",
    "* 중간고사, 학생들의 국영수사과 성적표\n",
    "\n",
    "| 학생 번호 | 국어 | 영어 | 수학 | 사회 | 과학 |\n",
    "|  ----   | --- |---| --- | --- | --- |\n",
    "|0 |80 |92 |70 | 65 | 92 |\n",
    "|1 |91 |75 |90 | 68 | 85 | \n",
    "|2 |86 |76 |42 | 72 | 88 |\n",
    "|3 |77 |92 |52 | 60 | 80 |\n",
    "|4 |75 |85 |85 | 92 | 95 |\n",
    "|5 |96 |90 |95 | 81 | 72 |\n",
    "\n",
    "\n",
    "* 기말고사, 학생들의 국영수사과 성적표\n",
    "\n",
    "| 학생 번호 | 국어 | 영어 | 수학 | 사회 | 과학 |\n",
    "|  ----   | --- |---| --- | --- | --- |\n",
    "|0 |85 |95 |90 | 66 | 93 |\n",
    "|1 |93 |70 |80 | 60 | 81 | \n",
    "|2 |89 |78 |55 | 75 | 80 |\n",
    "|3 |80 |94 |59 | 72 | 90 |\n",
    "|4 |70 |82 |81 | 95 | 72 |\n",
    "|5 |90 |76 |93 | 82 | 89 |"
   ]
  },
  {
   "cell_type": "code",
   "execution_count": 2,
   "metadata": {},
   "outputs": [
    {
     "data": {
      "text/plain": [
       "array([[[80, 92, 70, 65, 92],\n",
       "        [91, 75, 90, 68, 85],\n",
       "        [86, 76, 42, 72, 88],\n",
       "        [77, 92, 52, 60, 80],\n",
       "        [75, 85, 85, 92, 95],\n",
       "        [96, 90, 95, 81, 72]],\n",
       "\n",
       "       [[85, 95, 90, 66, 93],\n",
       "        [93, 70, 80, 60, 81],\n",
       "        [89, 78, 55, 75, 80],\n",
       "        [80, 94, 59, 72, 90],\n",
       "        [70, 82, 81, 95, 72],\n",
       "        [90, 76, 93, 82, 89]]])"
      ]
     },
     "execution_count": 2,
     "metadata": {},
     "output_type": "execute_result"
    }
   ],
   "source": [
    "middle_scores = np.array([\n",
    "    [80,92,70,65,92],\n",
    "    [91,75,90,68,85],\n",
    "    [86,76,42,72,88],\n",
    "    [77,92,52,60,80],\n",
    "    [75,85,85,92,95],\n",
    "    [96,90,95,81,72]\n",
    "])\n",
    "\n",
    "final_scores = np.array([\n",
    "    [85,95,90,66,93],\n",
    "    [93,70,80,60,81],\n",
    "    [89,78,55,75,80],\n",
    "    [80,94,59,72,90],\n",
    "    [70,82,81,95,72],\n",
    "    [90,76,93,82,89]\n",
    "])\n",
    "\n",
    "scores = np.stack([middle_scores, final_scores])\n",
    "scores"
   ]
  },
  {
   "cell_type": "markdown",
   "metadata": {},
   "source": [
    "현재 데이터의 shape는 (2,6,5)로, \n",
    "\n",
    "* 첫번째 축 : 중간 / 기말\n",
    "* 두번째 축 : 학생 번호 \n",
    "* 세번째 축 : 과목\n",
    "\n",
    "으로 구성되어 있다."
   ]
  },
  {
   "cell_type": "markdown",
   "metadata": {},
   "source": [
    "## 문제 1. 배열 전체에 연산 적용하기\n",
    "* 모든 점수의 범위가 0~1이 될수 있도록, 전체 점수를 100으로 나누어 주세요 "
   ]
  },
  {
   "cell_type": "code",
   "execution_count": 3,
   "metadata": {},
   "outputs": [
    {
     "data": {
      "text/plain": [
       "array([[[80, 92, 70, 65, 92],\n",
       "        [91, 75, 90, 68, 85],\n",
       "        [86, 76, 42, 72, 88],\n",
       "        [77, 92, 52, 60, 80],\n",
       "        [75, 85, 85, 92, 95],\n",
       "        [96, 90, 95, 81, 72]],\n",
       "\n",
       "       [[85, 95, 90, 66, 93],\n",
       "        [93, 70, 80, 60, 81],\n",
       "        [89, 78, 55, 75, 80],\n",
       "        [80, 94, 59, 72, 90],\n",
       "        [70, 82, 81, 95, 72],\n",
       "        [90, 76, 93, 82, 89]]])"
      ]
     },
     "execution_count": 3,
     "metadata": {},
     "output_type": "execute_result"
    }
   ],
   "source": [
    "# 우선 실행해주세요\n",
    "scores = np.stack([middle_scores, final_scores])\n",
    "scores"
   ]
  },
  {
   "cell_type": "markdown",
   "metadata": {},
   "source": [
    "#### 답안지 입력란\n",
    "* 아래에 답을 서술하여 주세요\n",
    "* 결과는 `answer1`에 담아주세요"
   ]
  },
  {
   "cell_type": "code",
   "execution_count": 4,
   "metadata": {},
   "outputs": [],
   "source": []
  },
  {
   "cell_type": "markdown",
   "metadata": {},
   "source": [
    "#### 정답 확인\n",
    "* 정답을 입력한 후, 아래를 실행시키면 정답인지 확인합니다."
   ]
  },
  {
   "cell_type": "code",
   "execution_count": 6,
   "metadata": {},
   "outputs": [
    {
     "name": "stdout",
     "output_type": "stream",
     "text": [
      "정답입니다!!!\n"
     ]
    }
   ],
   "source": [
    "from numpy.testing import assert_array_equal\n",
    "\n",
    "assert 'answer1' in globals(), \"결과를 answer1 변수에 담아주세요!, answer1 값을 보고 평가합니다.\"\n",
    "\n",
    "A = [[[0.8 , 0.92, 0.7 , 0.65, 0.92],\n",
    "        [0.91, 0.75, 0.9 , 0.68, 0.85],\n",
    "        [0.86, 0.76, 0.42, 0.72, 0.88],\n",
    "        [0.77, 0.92, 0.52, 0.6 , 0.8 ],\n",
    "        [0.75, 0.85, 0.85, 0.92, 0.95],\n",
    "        [0.96, 0.9 , 0.95, 0.81, 0.72]],\n",
    "\n",
    "       [[0.85, 0.95, 0.9 , 0.66, 0.93],\n",
    "        [0.93, 0.7 , 0.8 , 0.6 , 0.81],\n",
    "        [0.89, 0.78, 0.55, 0.75, 0.8 ],\n",
    "        [0.8 , 0.94, 0.59, 0.72, 0.9 ],\n",
    "        [0.7 , 0.82, 0.81, 0.95, 0.72],\n",
    "        [0.9 , 0.76, 0.93, 0.82, 0.89]]]\n",
    "\n",
    "assert_array_equal(A, answer1, \n",
    "               err_msg=\"\\n정답은 \\n{}\\n입니다. 다시 확인해 주세요\\n\".format(A))\n",
    "\n",
    "print(\"정답입니다!!!\")"
   ]
  },
  {
   "cell_type": "markdown",
   "metadata": {},
   "source": [
    "## 문제 2. 같은 크기의 Array 간 사칙연산\n",
    "\n",
    "* 중간고사와 기말고사의 합산 성적을 학생별/과목별로 구해주세요\n",
    "\n",
    "정답 >>> \n",
    "```\n",
    "[[165, 187, 160, 131, 185],\n",
    "[184, 145, 170, 128, 166],\n",
    "[175, 154,  97, 147, 168],\n",
    "[157, 186, 111, 132, 170],\n",
    "[145, 167, 166, 187, 167],\n",
    "[186, 166, 188, 163, 161]]\n",
    "```"
   ]
  },
  {
   "cell_type": "code",
   "execution_count": 7,
   "metadata": {},
   "outputs": [
    {
     "data": {
      "text/plain": [
       "array([[[80, 92, 70, 65, 92],\n",
       "        [91, 75, 90, 68, 85],\n",
       "        [86, 76, 42, 72, 88],\n",
       "        [77, 92, 52, 60, 80],\n",
       "        [75, 85, 85, 92, 95],\n",
       "        [96, 90, 95, 81, 72]],\n",
       "\n",
       "       [[85, 95, 90, 66, 93],\n",
       "        [93, 70, 80, 60, 81],\n",
       "        [89, 78, 55, 75, 80],\n",
       "        [80, 94, 59, 72, 90],\n",
       "        [70, 82, 81, 95, 72],\n",
       "        [90, 76, 93, 82, 89]]])"
      ]
     },
     "execution_count": 7,
     "metadata": {},
     "output_type": "execute_result"
    }
   ],
   "source": [
    "# 우선 실행해주세요\n",
    "scores = np.stack([middle_scores, final_scores])\n",
    "scores"
   ]
  },
  {
   "cell_type": "markdown",
   "metadata": {},
   "source": [
    "#### 답안지 입력란\n",
    "* 아래에 답을 서술하여 주세요\n",
    "* 결과는 `answer2`에 담아주세요"
   ]
  },
  {
   "cell_type": "code",
   "execution_count": 8,
   "metadata": {},
   "outputs": [],
   "source": []
  },
  {
   "cell_type": "markdown",
   "metadata": {},
   "source": [
    "#### 정답 확인\n",
    "* 정답을 입력한 후, 아래를 실행시키면 정답인지 확인합니다."
   ]
  },
  {
   "cell_type": "code",
   "execution_count": 9,
   "metadata": {},
   "outputs": [
    {
     "name": "stdout",
     "output_type": "stream",
     "text": [
      "정답입니다!!!\n"
     ]
    }
   ],
   "source": [
    "from numpy.testing import assert_array_equal\n",
    "\n",
    "assert 'answer2' in globals(), \"결과를 answer2 변수에 담아주세요!, answer2 값을 보고 평가합니다.\"\n",
    "\n",
    "A = [[165, 187, 160, 131, 185],\n",
    "[184, 145, 170, 128, 166],\n",
    "[175, 154,  97, 147, 168],\n",
    "[157, 186, 111, 132, 170],\n",
    "[145, 167, 166, 187, 167],\n",
    "[186, 166, 188, 163, 161]]\n",
    "\n",
    "assert_array_equal(A, answer2,\"\\n\\n정답은 \\n{}\\n입니다. 다시 확인해 주세요\".format(A))\n",
    "print(\"정답입니다!!!\")"
   ]
  },
  {
   "cell_type": "markdown",
   "metadata": {},
   "source": [
    "## 3. 다른 크기의 Array 간 사칙연산\n",
    "\n",
    "* 각 과목별로 가중치가 다르다. 가중치 행렬은 아래와 같고, 가중치를 적용한 점수를 구해봅시다.\n",
    "\n",
    "\n",
    "| 국어 | 영어 | 수학 | 사회 | 과학 |\n",
    "|---|---|---|---| ---|\n",
    "| 0.3 | 0.2 | 0.5 | 0.2 | 0.2 |"
   ]
  },
  {
   "cell_type": "code",
   "execution_count": 10,
   "metadata": {},
   "outputs": [
    {
     "data": {
      "text/plain": [
       "(array([[[80, 92, 70, 65, 92],\n",
       "         [91, 75, 90, 68, 85],\n",
       "         [86, 76, 42, 72, 88],\n",
       "         [77, 92, 52, 60, 80],\n",
       "         [75, 85, 85, 92, 95],\n",
       "         [96, 90, 95, 81, 72]],\n",
       " \n",
       "        [[85, 95, 90, 66, 93],\n",
       "         [93, 70, 80, 60, 81],\n",
       "         [89, 78, 55, 75, 80],\n",
       "         [80, 94, 59, 72, 90],\n",
       "         [70, 82, 81, 95, 72],\n",
       "         [90, 76, 93, 82, 89]]]), array([0.3, 0.2, 0.5, 0.2, 0.2]))"
      ]
     },
     "execution_count": 10,
     "metadata": {},
     "output_type": "execute_result"
    }
   ],
   "source": [
    "# 우선 실행해주세요\n",
    "scores = np.stack([middle_scores, final_scores])\n",
    "weights = np.array([0.3,0.2,0.5,0.2,0.2]) # 가중치 행렬\n",
    "scores, weights"
   ]
  },
  {
   "cell_type": "markdown",
   "metadata": {},
   "source": [
    "#### 답안지 입력란\n",
    "* 아래에 답을 서술하여 주세요\n",
    "* 결과는 `answer3`에 담아주세요"
   ]
  },
  {
   "cell_type": "code",
   "execution_count": 17,
   "metadata": {},
   "outputs": [
    {
     "data": {
      "text/plain": [
       "array([[[24. , 18.4, 35. , 13. , 18.4],\n",
       "        [27.3, 15. , 45. , 13.6, 17. ],\n",
       "        [25.8, 15.2, 21. , 14.4, 17.6],\n",
       "        [23.1, 18.4, 26. , 12. , 16. ],\n",
       "        [22.5, 17. , 42.5, 18.4, 19. ],\n",
       "        [28.8, 18. , 47.5, 16.2, 14.4]],\n",
       "\n",
       "       [[25.5, 19. , 45. , 13.2, 18.6],\n",
       "        [27.9, 14. , 40. , 12. , 16.2],\n",
       "        [26.7, 15.6, 27.5, 15. , 16. ],\n",
       "        [24. , 18.8, 29.5, 14.4, 18. ],\n",
       "        [21. , 16.4, 40.5, 19. , 14.4],\n",
       "        [27. , 15.2, 46.5, 16.4, 17.8]]])"
      ]
     },
     "execution_count": 17,
     "metadata": {},
     "output_type": "execute_result"
    }
   ],
   "source": []
  },
  {
   "cell_type": "markdown",
   "metadata": {},
   "source": [
    "#### 정답 확인\n",
    "* 정답을 입력한 후, 아래를 실행시키면 정답인지 확인합니다."
   ]
  },
  {
   "cell_type": "code",
   "execution_count": 13,
   "metadata": {},
   "outputs": [
    {
     "name": "stdout",
     "output_type": "stream",
     "text": [
      "정답입니다!!!\n"
     ]
    }
   ],
   "source": [
    "from numpy.testing import assert_almost_equal\n",
    "\n",
    "assert 'answer3' in globals(), \"결과를 answer3 변수에 담아주세요!, answer3 값을 보고 평가합니다.\"\n",
    "\n",
    "A = [[[24. , 18.4, 35. , 13. , 18.4],\n",
    "        [27.3, 15. , 45. , 13.6, 17. ],\n",
    "        [25.8, 15.2, 21. , 14.4, 17.6],\n",
    "        [23.1, 18.4, 26. , 12. , 16. ],\n",
    "        [22.5, 17. , 42.5, 18.4, 19. ],\n",
    "        [28.8, 18. , 47.5, 16.2, 14.4]],\n",
    "\n",
    "       [[25.5, 19. , 45. , 13.2, 18.6],\n",
    "        [27.9, 14. , 40. , 12. , 16.2],\n",
    "        [26.7, 15.6, 27.5, 15. , 16. ],\n",
    "        [24. , 18.8, 29.5, 14.4, 18. ],\n",
    "        [21. , 16.4, 40.5, 19. , 14.4],\n",
    "        [27. , 15.2, 46.5, 16.4, 17.8]]]\n",
    "\n",
    "assert_almost_equal(A, answer3,decimal=3,err_msg=\"\\n\\n정답은 \\n{}\\n입니다. 다시 확인해 주세요\".format(A))\n",
    "print(\"정답입니다!!!\")"
   ]
  },
  {
   "cell_type": "markdown",
   "metadata": {},
   "source": [
    "## 4. 이 외에도 다양한 연산 함수들\n",
    "\n",
    "* 좌표계에는 크게 2가지가 있는데, 하나는 우리가 흔히 쓰는 X,Y축으로 표현되는 직교 좌표계이고. 다른 하나는 각도와 거리로 표현되는 극 좌표계가 있습니다. 직교좌표계에서 극좌표계로 바꾸기 위해서는 아래와 같이 풀면 됩니다.\n",
    "\n",
    "![](https://upload.wikimedia.org/wikipedia/commons/thumb/7/78/Polar_to_cartesian.svg/460px-Polar_to_cartesian.svg.png)\n",
    "\n",
    "$$x = r*cos\\varphi \\\\ y = r*sin\\varphi$$\n",
    "\n",
    "아래와 같이 극좌표값이 주어졌을 때, 이를 직교좌표값으로 변환해주세요.\n",
    "\n",
    "| $r$ | $\\varphi$ |\n",
    "|----|----|\n",
    "| 1  | 0.1 |\n",
    "| 1  | 0.5 |\n",
    "| 2  | 0.7 |\n",
    "| 2  | 1.2 |\n",
    "| 3  | 1.5 |\n",
    "| 3  | 2.0 |\n",
    "| 4  | 2.8 |\n",
    "| 4  | 3.1 |"
   ]
  },
  {
   "cell_type": "code",
   "execution_count": 14,
   "metadata": {},
   "outputs": [],
   "source": [
    "# 우선 실행해주세요\n",
    "coords = np.array([\n",
    "    [1,0.1],\n",
    "    [1,0.5],\n",
    "    [2,0.7],\n",
    "    [2,1.2],\n",
    "    [3,1.5],\n",
    "    [3,2.0],\n",
    "    [4,2.8],\n",
    "    [4,3.1]\n",
    "])"
   ]
  },
  {
   "cell_type": "markdown",
   "metadata": {},
   "source": [
    "#### 답안지 입력란\n",
    "* 아래에 답을 서술하여 주세요\n",
    "* 결과는 `answer4`에 담아주세요"
   ]
  },
  {
   "cell_type": "code",
   "execution_count": 15,
   "metadata": {},
   "outputs": [
    {
     "data": {
      "text/plain": [
       "array([[ 0.99500417,  0.09983342],\n",
       "       [ 0.87758256,  0.47942554],\n",
       "       [ 1.52968437,  1.28843537],\n",
       "       [ 0.72471551,  1.86407817],\n",
       "       [ 0.21221161,  2.99248496],\n",
       "       [-1.24844051,  2.72789228],\n",
       "       [-3.76888936,  1.3399526 ],\n",
       "       [-3.9965406 ,  0.16632265]])"
      ]
     },
     "execution_count": 15,
     "metadata": {},
     "output_type": "execute_result"
    }
   ],
   "source": []
  },
  {
   "cell_type": "markdown",
   "metadata": {},
   "source": [
    "#### 정답 확인\n",
    "* 정답을 입력한 후, 아래를 실행시키면 정답인지 확인합니다."
   ]
  },
  {
   "cell_type": "code",
   "execution_count": 16,
   "metadata": {},
   "outputs": [
    {
     "name": "stdout",
     "output_type": "stream",
     "text": [
      "정답입니다!!!\n"
     ]
    }
   ],
   "source": [
    "from numpy.testing import assert_array_almost_equal\n",
    "\n",
    "assert 'answer4' in globals(), \"결과를 answer4 변수에 담아주세요!, answer4 값을 보고 평가합니다.\"\n",
    "\n",
    "A = [[ 0.99500417,  0.09983342],\n",
    "       [ 0.87758256,  0.47942554],\n",
    "       [ 1.52968437,  1.28843537],\n",
    "       [ 0.72471551,  1.86407817],\n",
    "       [ 0.21221161,  2.99248496],\n",
    "       [-1.24844051,  2.72789228],\n",
    "       [-3.76888936,  1.3399526 ],\n",
    "       [-3.9965406 ,  0.16632265]]\n",
    "\n",
    "assert_array_almost_equal(A,answer4,decimal=2,\n",
    "                          err_msg=\"\\n\\n정답은 \\n{}\\n입니다. 다시 확인해 주세요\".format(A))\n",
    "\n",
    "print(\"정답입니다!!!\")"
   ]
  },
  {
   "cell_type": "markdown",
   "metadata": {},
   "source": [
    "#  \n",
    "\n",
    "<hr>\n",
    "<div style = \"background-image: url('https://algorithmai.io/static/media/logo.665798c4.png');background-repeat: no-repeat; background-position: right; background-size: 220px 40px; padding : 5px 10px 5px 5px;\">\n",
    "    Copyright(c) 2019 by Public AI. All rights reserved.<br>\n",
    "    Writen by PAI, SangJae Kang ( rocketgrowthsj@publicai.co.kr )  last updated on 2019/02/21\n",
    "</div>\n",
    "<hr>"
   ]
  }
 ],
 "metadata": {
  "kernelspec": {
   "display_name": "Python 3",
   "language": "python",
   "name": "python3"
  },
  "language_info": {
   "codemirror_mode": {
    "name": "ipython",
    "version": 3
   },
   "file_extension": ".py",
   "mimetype": "text/x-python",
   "name": "python",
   "nbconvert_exporter": "python",
   "pygments_lexer": "ipython3",
   "version": "3.6.5"
  }
 },
 "nbformat": 4,
 "nbformat_minor": 2
}
