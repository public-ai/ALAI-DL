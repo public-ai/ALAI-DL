{
 "cells": [
  {
   "cell_type": "markdown",
   "metadata": {},
   "source": [
    "## Numpy의 필요성\n",
    "\n",
    "## Objective\n",
    ">  **Numpy로 배열을 다루기 전에, 우선 List로 배열을 다루는 방법을 복습합니다.**"
   ]
  },
  {
   "cell_type": "markdown",
   "metadata": {},
   "source": [
    "#### 예제) 중간고사, 학생들의 국영수 성적표\n",
    "\n",
    "\n",
    "| 학생 번호 | 국어 | 영어 | 수학 | 사회 | 과학 |\n",
    "|  ----   | --- |---| --- | --- | --- |\n",
    "|0 |80 |92 |70 | 65 | 92 |\n",
    "|1 |91 |75 |90 | 68 | 85 | \n",
    "|2 |86 |76 |42 | 72 | 88 |\n",
    "|3 |77 |92 |52 | 60 | 80 |\n",
    "|4 |75 |85 |85 | 92 | 95 |\n",
    "|5 |96 |90 |95 | 81 | 72 |"
   ]
  },
  {
   "cell_type": "markdown",
   "metadata": {},
   "source": [
    "## 문제 1. 특정 원소 가져오기\n",
    "* 학생 번호 **2번의 사회 성적**을 가져와 주세요.\n",
    "\n",
    "정답 >>> 72"
   ]
  },
  {
   "cell_type": "code",
   "execution_count": null,
   "metadata": {},
   "outputs": [],
   "source": [
    "# 우선 실행해주세요\n",
    "scores = [\n",
    "    [80,92,70,65,92],\n",
    "    [91,75,90,68,85],\n",
    "    [86,76,42,72,88],\n",
    "    [77,92,52,60,80],\n",
    "    [75,85,85,92,95],\n",
    "    [96,90,95,81,72]\n",
    "]"
   ]
  },
  {
   "cell_type": "markdown",
   "metadata": {},
   "source": [
    "#### 답안지 입력란\n",
    "* 아래에 답을 서술하여 주세요\n",
    "* 결과는 `answer1`에 담아주세요"
   ]
  },
  {
   "cell_type": "code",
   "execution_count": null,
   "metadata": {},
   "outputs": [],
   "source": []
  },
  {
   "cell_type": "markdown",
   "metadata": {},
   "source": [
    "#### 정답 확인\n",
    "* 정답을 입력한 후, 아래를 실행시키면 정답인지 확인합니다."
   ]
  },
  {
   "cell_type": "code",
   "execution_count": null,
   "metadata": {},
   "outputs": [],
   "source": [
    "assert 'answer1' in globals(), \"결과를 answer1 변수에 담아주세요!, answer1 값을 보고 평가합니다.\"\n",
    "\n",
    "if (answer1 == 72):\n",
    "    print(\"정답입니다!!!!\")\n",
    "else:\n",
    "    raise ValueError(\"정답은 72가 나와야 합니다. 다시 코드를 확인해 주세요!\")"
   ]
  },
  {
   "cell_type": "markdown",
   "metadata": {},
   "source": [
    "## 문제 2. 특정 부분 가져오기\n",
    "* 학생 번호 **2번부터 4번까지의 국영수 성적**을 가져와 주세요\n",
    "\n",
    "정답 >>> [[86, 76, 42], [77, 92, 52]]"
   ]
  },
  {
   "cell_type": "code",
   "execution_count": null,
   "metadata": {},
   "outputs": [],
   "source": [
    "# 우선 실행해주세요\n",
    "scores = [\n",
    "    [80,92,70,65,92],\n",
    "    [91,75,90,68,85],\n",
    "    [86,76,42,72,88],\n",
    "    [77,92,52,60,80],\n",
    "    [75,85,85,92,95],\n",
    "    [96,90,95,81,72]\n",
    "]"
   ]
  },
  {
   "cell_type": "markdown",
   "metadata": {},
   "source": [
    "#### 답안지 입력란\n",
    "* 아래에 답을 서술하여 주세요\n",
    "* 결과는 `answer2`에 담아주세요"
   ]
  },
  {
   "cell_type": "code",
   "execution_count": null,
   "metadata": {},
   "outputs": [],
   "source": []
  },
  {
   "cell_type": "markdown",
   "metadata": {},
   "source": [
    "#### 정답 확인\n",
    "* 정답을 입력한 후, 아래를 실행시키면 정답인지 확인합니다."
   ]
  },
  {
   "cell_type": "code",
   "execution_count": null,
   "metadata": {},
   "outputs": [],
   "source": [
    "from unittest import TestCase as tc\n",
    "\n",
    "assert 'answer2' in globals(), \"결과를 answer2 변수에 담아주세요!, answer2 값을 보고 평가합니다.\"\n",
    "\n",
    "A = [[86, 76, 42], [77, 92, 52]]\n",
    "\n",
    "tc().assertListEqual(A,answer2,\"\\n\\n정답은 \\n{}\\n입니다. 다시 확인해 주세요\".format(A))\n",
    "print(\"정답입니다!!!\")"
   ]
  },
  {
   "cell_type": "markdown",
   "metadata": {},
   "source": [
    "## 문제 3. 중간고사 과목별 평균 성적\n",
    "* 중간고사 과목 별(국영수사과)로 학생들의 평균 성적을 구해주세요\n",
    "\n",
    "정답 >>> [84.16666666666667, 85.0, 72.33333333333333, 73.0, 85.33333333333333]"
   ]
  },
  {
   "cell_type": "code",
   "execution_count": null,
   "metadata": {},
   "outputs": [],
   "source": [
    "# 우선 실행해주세요\n",
    "scores = [\n",
    "    [80,92,70,65,92],\n",
    "    [91,75,90,68,85],\n",
    "    [86,76,42,72,88],\n",
    "    [77,92,52,60,80],\n",
    "    [75,85,85,92,95],\n",
    "    [96,90,95,81,72]\n",
    "]"
   ]
  },
  {
   "cell_type": "markdown",
   "metadata": {},
   "source": [
    "#### 답안지 입력란\n",
    "* 아래에 답을 서술하여 주세요\n",
    "* 결과는 `answer3`에 담아주세요"
   ]
  },
  {
   "cell_type": "code",
   "execution_count": null,
   "metadata": {},
   "outputs": [],
   "source": []
  },
  {
   "cell_type": "markdown",
   "metadata": {},
   "source": [
    "#### 정답 확인\n",
    "* 정답을 입력한 후, 아래를 실행시키면 정답인지 확인합니다."
   ]
  },
  {
   "cell_type": "code",
   "execution_count": null,
   "metadata": {},
   "outputs": [],
   "source": [
    "from numpy.testing import assert_array_almost_equal\n",
    "\n",
    "assert 'answer3' in globals(), \"결과를 answer3 변수에 담아주세요!, answer3 값을 보고 평가합니다.\"\n",
    "\n",
    "A = [84.167, 85. , 72.333, 73. , 85.333]\n",
    "\n",
    "assert_array_almost_equal(A,answer3,decimal=2,\n",
    "                          err_msg=\"\\n\\n정답은 \\n{}\\n입니다. 다시 확인해 주세요\".format(A))\n",
    "\n",
    "print(\"정답입니다!!!\")"
   ]
  },
  {
   "cell_type": "markdown",
   "metadata": {},
   "source": [
    "## 문제 4. 중간고사 과목별 최대 성적\n",
    "* 중간고사 과목 별(국영수사과)로 학생들의 최대 성적을 구해주세요\n",
    "\n",
    "정답 >>> [96, 92, 95, 92, 95]"
   ]
  },
  {
   "cell_type": "code",
   "execution_count": null,
   "metadata": {},
   "outputs": [],
   "source": [
    "# 우선 실행해주세요\n",
    "scores = [\n",
    "    [80,92,70,65,92],\n",
    "    [91,75,90,68,85],\n",
    "    [86,76,42,72,88],\n",
    "    [77,92,52,60,80],\n",
    "    [75,85,85,92,95],\n",
    "    [96,90,95,81,72]\n",
    "]"
   ]
  },
  {
   "cell_type": "markdown",
   "metadata": {},
   "source": [
    "#### 답안지 입력란\n",
    "* 아래에 답을 서술하여 주세요\n",
    "* 결과는 `answer4`에 담아주세요"
   ]
  },
  {
   "cell_type": "code",
   "execution_count": null,
   "metadata": {},
   "outputs": [],
   "source": []
  },
  {
   "cell_type": "markdown",
   "metadata": {},
   "source": [
    "#### 정답 확인\n",
    "* 정답을 입력한 후, 아래를 실행시키면 정답인지 확인합니다."
   ]
  },
  {
   "cell_type": "code",
   "execution_count": null,
   "metadata": {},
   "outputs": [],
   "source": [
    "from numpy.testing import assert_array_almost_equal\n",
    "\n",
    "assert 'answer4' in globals(), \"결과를 answer4 변수에 담아주세요!, answer4 값을 보고 평가합니다.\"\n",
    "\n",
    "A = [96, 92, 95, 92, 95]\n",
    "\n",
    "assert_array_almost_equal(A,answer4,decimal=2,\n",
    "                          err_msg=\"\\n\\n정답은 \\n{}\\n입니다. 다시 확인해 주세요\".format(A))\n",
    "\n",
    "print(\"정답입니다!!!\")"
   ]
  },
  {
   "cell_type": "markdown",
   "metadata": {},
   "source": [
    "#  \n",
    "\n",
    "<hr>\n",
    "<div style = \"background-image: url('https://algorithmai.io/static/media/logo.665798c4.png');background-repeat: no-repeat; background-position: right; background-size: 220px 40px; padding : 5px 10px 5px 5px;\">\n",
    "    Copyright(c) 2019 by Public AI. All rights reserved.<br>\n",
    "    Writen by PAI, SangJae Kang ( rocketgrowthsj@publicai.co.kr )  last updated on 2019/02/21\n",
    "</div>\n",
    "<hr>"
   ]
  }
 ],
 "metadata": {
  "kernelspec": {
   "display_name": "Python 3",
   "language": "python",
   "name": "python3"
  },
  "language_info": {
   "codemirror_mode": {
    "name": "ipython",
    "version": 3
   },
   "file_extension": ".py",
   "mimetype": "text/x-python",
   "name": "python",
   "nbconvert_exporter": "python",
   "pygments_lexer": "ipython3",
   "version": "3.6.5"
  }
 },
 "nbformat": 4,
 "nbformat_minor": 2
}
