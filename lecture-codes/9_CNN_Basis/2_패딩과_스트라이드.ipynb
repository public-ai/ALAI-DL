{
 "cells": [
  {
   "cell_type": "markdown",
   "metadata": {
    "id": "SRRRvy4lsYmq",
    "colab_type": "text"
   },
   "source": [
    " ╔══<i><b>Alai-DeepLearning</b></i>════════════════════════════╗\n",
    "###  &nbsp;&nbsp; **✎&nbsp;&nbsp;Week 9. CNN Basis**\n",
    "# Section 2. 패딩과 스트라이드\n",
    "\n",
    "### _Objective_\n",
    "1. 합성곱 연산 전후 특징맵의 크기를 보존해주는 패딩에 대해 배워보도록 하겠습니다.<br>\n",
    "2. 합성곱 연산량을 줄여주는 스트라이드(Stride)에 대해 배워보도록 하겠습니다.\n",
    "  \n",
    "╚═════════════════════════════════════════╝"
   ]
  },
  {
   "cell_type": "code",
   "execution_count": 0,
   "metadata": {
    "id": "SAdLJ_lssYmr",
    "colab_type": "code",
    "colab": {}
   },
   "outputs": [],
   "source": [
    "%matplotlib inline\n",
    "import numpy as np\n",
    "import matplotlib.pyplot as plt"
   ]
  },
  {
   "cell_type": "markdown",
   "metadata": {
    "id": "TifrIL-fsYmu",
    "colab_type": "text"
   },
   "source": [
    "<br><br>\n",
    "\n",
    "\n",
    "\n",
    "# \\[ 1. 패딩이란 \\]\n",
    "\n",
    "----\n",
    "\n",
    "----\n",
    "\n",
    "> *합성곱 연산을 거치게 되면, 특징맵의 크기는 약간씩 줄게 됩니다.*<br>\n",
    "> *패딩은 합성곱 연산을 거치더라도, 특징맵의 크기가 줄어들지 않도록 만듭니다.*<br>\n"
   ]
  },
  {
   "cell_type": "markdown",
   "metadata": {
    "id": "QA5Gpe6msYmu",
    "colab_type": "text"
   },
   "source": [
    "<br>\n",
    "\n",
    "\n",
    "## 1. 합성곱 연산의 문제점 : 크기의 축소\n",
    "----\n",
    "\n",
    "합성곱 연산을 적용할 경우, 특징맵의 가장자리 부분은 연산에서 제외되기 때문에<br>\n",
    "약간씩 줄어들게 됩니다."
   ]
  },
  {
   "cell_type": "code",
   "execution_count": 1,
   "metadata": {
    "id": "4GXR3jjesYmv",
    "colab_type": "code",
    "outputId": "9ad70f3b-fc2a-4b07-9d36-3a4a24a099da",
    "colab": {
     "base_uri": "https://localhost:8080/",
     "height": 128.0
    }
   },
   "outputs": [
    {
     "ename": "SyntaxError",
     "evalue": "ignored",
     "traceback": [
      "\u001b[0;36m  File \u001b[0;32m\"<ipython-input-1-ecc6b5644c84>\"\u001b[0;36m, line \u001b[0;32m10\u001b[0m\n\u001b[0;31m    result = #fix me#\u001b[0m\n\u001b[0m                     ^\u001b[0m\n\u001b[0;31mSyntaxError\u001b[0m\u001b[0;31m:\u001b[0m invalid syntax\n"
     ],
     "output_type": "error"
    }
   ],
   "source": [
    "image = np.zeros((10, 10),dtype=np.uint8)\n",
    "image[:,:5] = 10\n",
    "\n",
    "print(\"Before Feature Map size :\",image.shape)\n",
    "\n",
    "# sobel Filter를 이용\n",
    "v_sobel = np.array([[1,0,-1], [2,0,-2], [1,0,-1]]) \n",
    "\n",
    "# 합성곱 연산 적용\n",
    "result = #fix me#\n",
    "for i in range(#fix me #):\n",
    "    for j in range(#fix me#):\n",
    "        patch = #fix me #\n",
    "        value = #fix me#\n",
    "        result[#fix me#] = value\n",
    "\n",
    "print(\"After Feature Map size :\",result.shape)"
   ]
  },
  {
   "cell_type": "code",
   "execution_count": 0,
   "metadata": {
    "id": "40M7QND0sYmz",
    "colab_type": "code",
    "outputId": "34571cb7-f2ef-4e82-9a02-e27b23130ac4",
    "colab": {}
   },
   "outputs": [
    {
     "data": {
      "image/png": "[encoded data removed]",
      "text/plain": [
       "<Figure size 720x720 with 2 Axes>"
      ]
     },
     "metadata": {
      "tags": []
     },
     "output_type": "display_data"
    }
   ],
   "source": [
    "fig = plt.figure(figsize=(10,10))\n",
    "ax = fig.add_subplot(1,2,1)\n",
    "ax.set_title('Before')\n",
    "ax.imshow(image, cmap='gray')\n",
    "\n",
    "ax = fig.add_subplot(1,2,2)\n",
    "ax.set_title('After')\n",
    "ax.imshow(result, cmap='gray')\n",
    "plt.show()"
   ]
  },
  {
   "cell_type": "markdown",
   "metadata": {
    "id": "pfv6Y3Y8sYm2",
    "colab_type": "text"
   },
   "source": [
    "<br>\n",
    "\n",
    "\n",
    "## 2. Zero Padding 적용하기\n",
    "---\n",
    "\n",
    "합성곱 연산을 할때마다 조금씩 이미지의 크기가 줄어듭니다.<br>\n",
    "이는 크게 2가지 문제를 유발합니다.<br>\n",
    "\n",
    "1. 깊게 쌓으면 이미지의 크기가 지나치게 작아지게 됨 <br>\n",
    "2. 가장자리의 정보가 계속 유실되게 됨 <br>\n",
    "\n",
    "이러한 문제를 해결하기 위해, 가장자리에 이미지를 덧대주는 작업을 거치게 됩니다.<br>"
   ]
  },
  {
   "cell_type": "code",
   "execution_count": 0,
   "metadata": {
    "id": "7VbLW7azsYm3",
    "colab_type": "code",
    "colab": {}
   },
   "outputs": [],
   "source": [
    "print(\"Before Feature Map size :\",image.shape)\n",
    "image_with_pad = np.pad(image,[[1,1],[1,1]],mode='constant')\n",
    "print(\"After padding size :\",image_with_pad.shape)\n",
    "\n",
    "# sobel Filter를 이용\n",
    "v_sobel = np.array([[1,0,-1], [2,0,-2], [1,0,-1]]) \n",
    "\n",
    "# 합성곱 연산 적용\n",
    "result = #fix me #\n",
    "for i in range(#fix me#):\n",
    "    for j in range(#fix me#):\n",
    "        patch = #fix me#\n",
    "        value = #fix me#\n",
    "        result[#fix me#] = value\n",
    "\n",
    "print(\"After Feature Map size :\",result.shape)"
   ]
  },
  {
   "cell_type": "code",
   "execution_count": 0,
   "metadata": {
    "id": "6sYdxLdvsYm7",
    "colab_type": "code",
    "outputId": "c40a55b8-7416-4f23-ef6c-adb6bb885a8c",
    "colab": {}
   },
   "outputs": [
    {
     "data": {
      "image/png": "[encoded data removed]",
      "text/plain": [
       "<Figure size 720x720 with 3 Axes>"
      ]
     },
     "metadata": {
      "tags": []
     },
     "output_type": "display_data"
    }
   ],
   "source": [
    "fig = plt.figure(figsize=(10,10))\n",
    "ax = fig.add_subplot(1,3,1)\n",
    "ax.set_title('Before')\n",
    "ax.imshow(image, cmap='gray')\n",
    "\n",
    "ax = fig.add_subplot(1,3,2)\n",
    "ax.set_title('After padding')\n",
    "ax.imshow(image_with_pad, cmap='gray')\n",
    "\n",
    "ax = fig.add_subplot(1,3,3)\n",
    "ax.set_title('After')\n",
    "ax.imshow(result, cmap='gray')\n",
    "plt.show()"
   ]
  },
  {
   "cell_type": "markdown",
   "metadata": {
    "id": "RxbeEvm2sYm-",
    "colab_type": "text"
   },
   "source": [
    "Input과 Output의 크기가 동일합니다.<br>\n",
    "작은 이미지에서는 패딩에 의해, 결과가 약간씩 왜곡되지만, 실제로 대부분 이미지에서<br>\n",
    "패딩으로 인한 왜곡 현상은 무시할 수 있을 만큼 작습니다."
   ]
  },
  {
   "cell_type": "markdown",
   "metadata": {
    "id": "gnr46lkUiHFT",
    "colab_type": "text"
   },
   "source": [
    "<br>\n",
    "\n",
    "## 3. 패딩의 크기 결정\n",
    "---\n",
    "Tensorflow 에서도 Convolution 에 padding 을 쉽게 적용 가능합니다. \n",
    "\n",
    "Tensorflow 에서 사용되는 padding 알고리즘은 2가지 방법이 있습니다. \n",
    "\n",
    "1. VALID :  패딩을 붙이지 않습니다. Window 에 Kernel 의 사이즈 보다 적은 데이터 셋이 있다면 Convolution 연산을 수행하지 않습니다. \n",
    "\n",
    "\n",
    "![Imgur](https://i.imgur.com/uVU6FlS.png)\n",
    "    \n",
    "2. SAME : Convoluiton 연산을 수행하기 위해 이미지에 padding 을 붙입니다.  Window 에 Kernel 의 사이즈 보다 적은 데이터 셋이 있다면 padding 을 붙여 Convolution 을 수행합니다.\n",
    "\n",
    "![Imgur](https://i.imgur.com/gBvXhZw.png)"
   ]
  },
  {
   "cell_type": "markdown",
   "metadata": {
    "id": "8Z2zz1IesYm_",
    "colab_type": "text"
   },
   "source": [
    "### (1) SAME 시 패딩의 크기를 결정하기"
   ]
  },
  {
   "cell_type": "markdown",
   "metadata": {
    "id": "OaGs0Ot4sYnA",
    "colab_type": "text"
   },
   "source": [
    "출력의 크기는 아래와 같이 결정됩니다.<br>\n",
    "$\n",
    "n_{out} = n_{in}+2p-k +1\\\\\n",
    "-------------\\\\\n",
    "n_{in} : \\mbox{number of input features}\\\\\n",
    "n_{out} : \\mbox{number of output features}\\\\\n",
    "k : \\mbox{convolution kernel size}\\\\\n",
    "p : \\mbox{convolution padding size}\\\\\n",
    "$\n",
    "\n",
    "출력의 크기와 입력의 크기가 동일하게 만들어주기 위해서는<br>\n",
    "패딩의 크기가 아래와 같아져야 합니다.<br>\n",
    "$\n",
    "p = \\frac{k-1}{2}\n",
    "$"
   ]
  },
  {
   "cell_type": "markdown",
   "metadata": {
    "id": "3zTsOUo2sYnA",
    "colab_type": "text"
   },
   "source": [
    "### (2) 필터의 크기\n",
    "\n",
    "필터의 크기는 홀수 입니다. 그 이유는 두가지로,\n",
    "1. 패딩이 비대칭이 됩니다. \n",
    "   홀수 일 때 합성곱에서 동일한 크기로 패딩을 더해줄 수 있고, 짝수면 왼쪽과 오른쪽을 다르게 패딩해야 하기 때문에 번거롭습니다.\n",
    "2. 필터의 크기가 홀수가 되어야 중심 픽셀이 잡힙니다. 이러한 개념들은<br>\n",
    "기존 컴퓨터 비전에서 필터를 설계할 때의 관습입니다."
   ]
  },
  {
   "cell_type": "markdown",
   "metadata": {
    "id": "QZ4k__Zrc1TE",
    "colab_type": "text"
   },
   "source": [
    "## 4 tf.nn.conv2d 함수에 padding 적용하기 \n",
    "\n",
    "`tf.nn.conv2d` 함수에 `SAME`, `VALID` padding 알고리즘을 적용하는 법을 배워보고 결과를 확인합니다. "
   ]
  },
  {
   "cell_type": "code",
   "execution_count": 0,
   "metadata": {
    "id": "DvKdoptna3Ti",
    "colab_type": "code",
    "outputId": "292d979d-de83-4377-d941-3824c33f89b4",
    "colab": {
     "base_uri": "https://localhost:8080/",
     "height": 34.0
    }
   },
   "outputs": [
    {
     "name": "stdout",
     "output_type": "stream",
     "text": [
      "(1, 5, 5, 1) (1, 3, 3, 1)\n"
     ]
    }
   ],
   "source": [
    "import numpy as np\n",
    "import tensorflow as tf\n",
    "\n",
    "# sample image\n",
    "sample = np.ones(shape=[5, 5], dtype=np.float32)\n",
    "# numpy to tensor\n",
    "tf_sample = #fix me #\n",
    "# tensorflow tf.nn.conv2d 에 넣을수 있도록 shape 변경 \n",
    "tf_sample = #fix me #\n",
    "\n",
    "# sample kernel \n",
    "sample_kernel = np.ones(shape=[3, 3], dtype=np.float32)\n",
    "# numpy to tensor\n",
    "tf_kernel = #fix me#\n",
    "# tensorflow tf.nn.conv2d 에 넣을수 있도록 kernel shape 변경 \n",
    "tf_kernel = #fix me #\n",
    "\n",
    "# convolution 수행 \n",
    "\n",
    "output = tf.nn.conv2d(#fix me#)\n",
    "output_1 = tf.nn.conv2d(#fix me#)\n",
    "\n",
    "# 결과 확인 \n",
    "sess = tf.Session()\n",
    "output_, output_1_ = sess.run([output, output_1])\n",
    "print(output_.shape, output_1_.shape)"
   ]
  },
  {
   "cell_type": "markdown",
   "metadata": {
    "id": "MshVlu9vsYnB",
    "colab_type": "text"
   },
   "source": [
    "<br><br>\n",
    "\n",
    "# \\[ 2. 스트라이드란 \\]\n",
    "\n",
    "----\n",
    "\n",
    "----\n",
    "\n",
    "> *stride는 필터의 이동 간격을 뜻합니다.*<br>\n",
    "> *기존의 필터는 한칸씩 이동했다면, stride가 1보다 클 경우, 그 수 만큼 필터가 이동하게 됩니다.*<br>\n"
   ]
  },
  {
   "cell_type": "markdown",
   "metadata": {
    "id": "BV5z4NW-sYnB",
    "colab_type": "text"
   },
   "source": [
    "## 1. 스트라이드 적용하기\n",
    "----"
   ]
  },
  {
   "cell_type": "code",
   "execution_count": 0,
   "metadata": {
    "id": "aZgcscFIsYnC",
    "colab_type": "code",
    "outputId": "b751db56-1ba5-437e-b54d-63438978f0ca",
    "colab": {}
   },
   "outputs": [
    {
     "data": {
      "image/png": "[encoded data removed]",
      "text/plain": [
       "<Figure size 432x288 with 1 Axes>"
      ]
     },
     "metadata": {
      "tags": []
     },
     "output_type": "display_data"
    }
   ],
   "source": [
    "image = np.zeros((10, 10),dtype=np.uint8)\n",
    "image[:,:5] = 10\n",
    "\n",
    "plt.imshow(image,cmap='gray')\n",
    "plt.show()"
   ]
  },
  {
   "cell_type": "code",
   "execution_count": 0,
   "metadata": {
    "id": "FZtO1CngsYnF",
    "colab_type": "code",
    "outputId": "969e0b9d-3dd3-44f5-ec96-b8f484b64ef6",
    "colab": {}
   },
   "outputs": [
    {
     "name": "stdout",
     "output_type": "stream",
     "text": [
      "Before Feature Map size : (10, 10)\n",
      "After Feature Map size : (5, 5)\n"
     ]
    },
    {
     "data": {
      "image/png": "[encoded data removed]",
      "text/plain": [
       "<Figure size 432x288 with 1 Axes>"
      ]
     },
     "metadata": {
      "tags": []
     },
     "output_type": "display_data"
    }
   ],
   "source": [
    "stride = 2\n",
    "\n",
    "print(\"Before Feature Map size :\",image.shape)\n",
    "image_with_pad = np.pad(image,[[1,1],[1,1]],mode='constant')\n",
    "\n",
    "# sobel Filter를 이용\n",
    "v_sobel = np.array([[1,0,-1], [2,0,-2], [1,0,-1]]) \n",
    "\n",
    "# 합성곱 연산 적용\n",
    "result = #fix me# # stride를 적용하면 크기가 반으로 줄어듦\n",
    "\n",
    "for i in range(#fix me#):\n",
    "    # stride의 간격으로 값을 가져옴\n",
    "    for j in range(#fix me#):\n",
    "        patch = #fix me#\n",
    "        value = #fix me#\n",
    "        result[#fix me#] = value\n",
    "\n",
    "print(\"After Feature Map size :\",result.shape)\n",
    "\n",
    "plt.imshow(result,cmap='gray')\n",
    "plt.show()"
   ]
  },
  {
   "cell_type": "markdown",
   "metadata": {
    "id": "E8ukkZi6sYnH",
    "colab_type": "text"
   },
   "source": [
    "크기는 줄였지만, 전체적인 형태는 (10,10)일 때와 현재와 동일합니다.<br>\n",
    "Stride를 거치면, 스트라이드의 제곱수만큼 연산 수가 줄어들게 됩니다.<br>\n",
    "\n",
    "큰 이미지의 경우 주위 값들의 차이가 큰 영향을 못미칠 경우가 많고,<br>\n",
    "어느정도 중복이 될수있어서 stride를 주더라도 성능 저하가 크게 발생하진 않습니다."
   ]
  },
  {
   "cell_type": "markdown",
   "metadata": {
    "id": "ZOmZhjiksYnI",
    "colab_type": "text"
   },
   "source": [
    "## 2. 스트라이드가 있었을 때의 출력 특징 맵의 크기\n",
    "----\n",
    "\n",
    "스트라이드를 통한 출력 특징 맵의 크기는 아래와 같이 변하게 됩니다.\n",
    "\n",
    "$\n",
    "n_{out} = \\lfloor \\frac{n_{in}+2p-k}{s}\\rfloor +1\\\\\n",
    "-------------\\\\\\\n",
    "n_{in} : \\mbox{number of input features}\\\\\n",
    "n_{out} : \\mbox{number of output features}\\\\\n",
    "k : \\mbox{convolution kernel size}\\\\\n",
    "p : \\mbox{convolution padding size}\\\\\n",
    "s : \\mbox{convolution stride size}\\\\\n",
    "$\n"
   ]
  },
  {
   "cell_type": "markdown",
   "metadata": {
    "id": "v6EW6ev5sYnI",
    "colab_type": "text"
   },
   "source": [
    "## 3. Same padding일 때의 패딩 크기 결정\n",
    "----\n",
    "\n",
    "이때 Same padding인 경우, 출력 특징 맵의 크기는 아래와 같게 됩니다.<br>\n",
    "$\n",
    "\\lfloor n_{out} \\rfloor = \\lfloor \\frac{n_{in}}{s} \\rfloor\n",
    "$<br>\n",
    "출력 특징 맵의 크기가 위의 값이 될 수 있도록, padding의 크기를 결정하게 됩니다.<br>\n",
    "$\n",
    "\\lfloor \\frac{n_{in}}{s} \\rfloor = \\lfloor \\frac{n_{in}+2p-k}{s}\\rfloor +1\\\\\n",
    "$"
   ]
  },
  {
   "cell_type": "markdown",
   "metadata": {
    "id": "NWsq2ksxJWDK",
    "colab_type": "text"
   },
   "source": [
    "## 4. tf.nn.conv2d 함수에 padding 적용하기 \n",
    "----"
   ]
  },
  {
   "cell_type": "markdown",
   "metadata": {
    "id": "uYSHUqHgJzpq",
    "colab_type": "text"
   },
   "source": [
    "`tf.nn.conv2d` 에서 strides argument 을 통해 convolution 연산에 strides 에 연산을 적용합니다 \n",
    "![Imgur](https://i.imgur.com/Av9xwed.png)\n",
    "\n",
    "strides 는  [batch size , height , width, channel ] 형태로 지정해 주어야 합니다. \n",
    "- 양쪽 batch size, channel  은 1로 고정되어 있습니다. -\n",
    "- heigth = 3 이면 height 방향으로 3칸씩 건너 뛰며 convolution 연산을\n",
    "수행합니다. \n",
    "- width = 2 이면 width 방향으로 2칸씩 건너 뛰며 convolution 연산을 수행합니다 \n"
   ]
  },
  {
   "cell_type": "code",
   "execution_count": 0,
   "metadata": {
    "id": "XWIWMJHwJxYQ",
    "colab_type": "code",
    "outputId": "66dfc30e-912d-4d66-b204-09e0f8151adf",
    "colab": {
     "base_uri": "https://localhost:8080/",
     "height": 33.0
    }
   },
   "outputs": [
    {
     "name": "stdout",
     "output_type": "stream",
     "text": [
      "(1, 4, 5, 1) (1, 3, 4, 1)\n"
     ]
    }
   ],
   "source": [
    "import numpy as np\n",
    "import tensorflow as tf\n",
    "\n",
    "# sample image \n",
    "sample = np.ones(shape=[10, 10], dtype=np.float32)\n",
    "tf_sample = #fix me #\n",
    "\n",
    "# sample kernel \n",
    "sample_kernel = np.ones(shape=[3, 3], dtype=np.float32)\n",
    "tf_kernel = #fix me#\n",
    "\n",
    "# convolution 수행 \n",
    "output = tf.nn.conv2d(#fix me #)\n",
    "\n",
    "output_1 = tf.nn.conv2d(#fix me#)\n",
    "\n",
    "# 결과 확인 \n",
    "sess = tf.Session()\n",
    "output_, output_1_ = sess.run([output, output_1])\n",
    "print(output_.shape, output_1_.shape)"
   ]
  },
  {
   "cell_type": "markdown",
   "metadata": {
    "id": "HREslkBLsYnJ",
    "colab_type": "text"
   },
   "source": [
    "#  \n",
    "\n",
    "---\n",
    "\n",
    "    Copyright(c) 2019 by Public AI. All rights reserved.<br>\n",
    "    Writen by PAI, SangJae Kang ( rocketgrowthsj@publicai.co.kr )  last updated on 2019/04/25\n",
    "\n",
    "---"
   ]
  }
 ],
 "metadata": {
  "colab": {
   "name": "2_패딩과_스트라이드.ipynb",
   "version": "0.3.2",
   "provenance": [],
   "collapsed_sections": []
  },
  "language_info": {
   "codemirror_mode": {
    "name": "ipython",
    "version": 3.0
   },
   "file_extension": ".py",
   "mimetype": "text/x-python",
   "name": "python",
   "nbconvert_exporter": "python",
   "pygments_lexer": "ipython3",
   "version": "3.6.5"
  },
  "kernelspec": {
   "display_name": "Python 3",
   "language": "python",
   "name": "python3"
  }
 },
 "nbformat": 4,
 "nbformat_minor": 0
}