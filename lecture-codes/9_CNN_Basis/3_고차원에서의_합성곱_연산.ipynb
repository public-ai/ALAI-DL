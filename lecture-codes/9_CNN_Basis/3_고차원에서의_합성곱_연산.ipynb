{
 "cells": [
  {
   "cell_type": "markdown",
   "metadata": {
    "id": "17SHpaegDPle",
    "colab_type": "text"
   },
   "source": [
    " ╔══<i><b>Alai-DeepLearning</b></i>════════════════════════════╗\n",
    "###  &nbsp;&nbsp; **✎&nbsp;&nbsp;Week 9. CNN Basis**\n",
    "# Section 3. 고차원에서의 합성곱 연산\n",
    "\n",
    "### _Objective_\n",
    "1. 대부분의 합성곱 연산은 4차원의 데이터를 다룹니다. 이를 어떻게 연산하는 지를 배워봅니다. <br>\n",
    "2. 합성곱 연산의 연산량을 줄여주는 풀링 연산에 대해 배워봅니다.<br> \n",
    "  \n",
    "╚═════════════════════════════════════════╝"
   ]
  },
  {
   "cell_type": "code",
   "execution_count": 0,
   "metadata": {
    "id": "-370KlamDPlf",
    "colab_type": "code",
    "colab": {}
   },
   "outputs": [],
   "source": [
    "%matplotlib inline\n",
    "import matplotlib.pyplot as plt\n",
    "import numpy as np"
   ]
  },
  {
   "cell_type": "markdown",
   "metadata": {
    "id": "Hl7mDM6XDPlj",
    "colab_type": "text"
   },
   "source": [
    "<br><br>\n",
    "\n",
    "# \\[ 1. 3, 4차원 데이터의 합성곱 연산 \\]\n",
    "\n",
    "----\n",
    "\n",
    "----\n",
    "\n",
    "> *이전까지는 2차원 이미지를 다루는 합성곱 연산을 살펴봤습니다.*<br>\n",
    "> *하지만 대부분의 데이터는 색상이라는 Channel 정보가 있어, 3차원 데이터로 구성됩니다.*<br>\n",
    "> *그리고 연산을 진행할 때는 대부분 배치 단위로, 복수개의 데이터를 한번에 처리하는 식으로 진행됩니다.*<br>\n"
   ]
  },
  {
   "cell_type": "markdown",
   "metadata": {
    "id": "rnZn3eddDPlk",
    "colab_type": "text"
   },
   "source": [
    "## 1. 하나의 필터로 3차원 데이터 합성곱 진행하기\n",
    "---\n",
    "\n",
    "* 채널 방향으로 입력 데이터와 필터의 합성곱 연산을 수행하고, 그 결과 데이터를 더해 하나의 출력값으로 표현합니다.\n",
    "* 아래의 3차원 데이터를 통해, 합성곱 연산이 어떤 식으로 진행되는지 살펴보도록 하겠습니다."
   ]
  },
  {
   "cell_type": "markdown",
   "metadata": {
    "id": "qwK-jsZSDPlk",
    "colab_type": "text"
   },
   "source": [
    "### (1) 3차원 데이터 구성하기\n",
    "\n",
    "아래와 같이 3차원으로 구성된 입력 행렬을 구성하였습니다.<br>"
   ]
  },
  {
   "cell_type": "code",
   "execution_count": 0,
   "metadata": {
    "id": "V5W3ldUZDPll",
    "colab_type": "code",
    "outputId": "5a905346-39bd-4a3b-8f3b-205825ce901a",
    "colab": {
     "base_uri": "https://localhost:8080/",
     "height": 34.0
    }
   },
   "outputs": [
    {
     "name": "stdout",
     "output_type": "stream",
     "text": [
      "입력값의 형태 (H, W, C) :(4,4,3)\n"
     ]
    }
   ],
   "source": [
    "in0 = np.array([\n",
    "    [1,4,2,0],\n",
    "    [2,3,1,0],\n",
    "    [3,1,2,3],\n",
    "    [4,3,2,1]\n",
    "])\n",
    "in1 = np.array([\n",
    "    [1,7,2,1],\n",
    "    [3,2,1,9],\n",
    "    [0,1,5,1],\n",
    "    [4,6,2,4]\n",
    "])\n",
    "in2 = np.array([\n",
    "    [1,5,2,1],\n",
    "    [3,2,1,9],\n",
    "    [0,1,3,1],\n",
    "    [4,6,2,7]\n",
    "])\n",
    "inputs = np.stack(#fix me#)\n",
    "print(\"입력값의 형태 (H, W, C) :({},{},{})\".format(*inputs.shape))"
   ]
  },
  {
   "cell_type": "markdown",
   "metadata": {
    "id": "S_H87HgJDPlo",
    "colab_type": "text"
   },
   "source": [
    "### (2) Filter 구성하기\n",
    "\n",
    "여기서 중요한 것은 입력값의 채널 수(C)와 필터의 채널 수(C)가 동일해야 한다는 것입니다.<br>\n",
    "입력값의 채널에 따라 채널 별 필터가 존재하고, 각 채널 별로 합성곱 연산을 진행한 후, 하나의 값으로 출력됩니다.<br>"
   ]
  },
  {
   "cell_type": "code",
   "execution_count": 0,
   "metadata": {
    "id": "Omd82NzeDPlp",
    "colab_type": "code",
    "colab": {}
   },
   "outputs": [],
   "source": [
    "f0 = np.array([\n",
    "    [2,0,1],\n",
    "    [0,1,2],\n",
    "    [1,0,2]\n",
    "])\n",
    "f1 = np.array([\n",
    "    [0,1,3],\n",
    "    [2,1,3],\n",
    "    [4,1,2]\n",
    "])\n",
    "f2 = np.array([\n",
    "    [3,2,1],\n",
    "    [2,2,3],\n",
    "    [0,0,1]\n",
    "])\n",
    "filter = np.stack(#fix me#)\n",
    "print(\"Filter의 형태 (H, W, C) : ({},{},{})\".format(*filter.shape))"
   ]
  },
  {
   "cell_type": "markdown",
   "metadata": {
    "id": "WfI3JkOCDPls",
    "colab_type": "text"
   },
   "source": [
    "### (3) 합성곱 연산 진행하기\n",
    "\n",
    "padding은 valid, stride은 1로 두고 연산하면 아래와 같습니다."
   ]
  },
  {
   "cell_type": "code",
   "execution_count": 0,
   "metadata": {
    "id": "3kuid-S2DPls",
    "colab_type": "code",
    "outputId": "a1f112ba-9820-4497-ad9b-3ec3d7325970",
    "colab": {
     "base_uri": "https://localhost:8080/",
     "height": 119.0
    }
   },
   "outputs": [
    {
     "name": "stdout",
     "output_type": "stream",
     "text": [
      "(0,0) 번째 값 : 82\n",
      "(0,1) 번째 값 : 118\n",
      "(1,0) 번째 값 : 92\n",
      "(1,1) 번째 값 : 126\n"
     ]
    },
    {
     "data": {
      "text/plain": [
       "array([[ 82., 118.],\n",
       "       [ 92., 126.]])"
      ]
     },
     "execution_count": 11,
     "metadata": {
      "tags": []
     },
     "output_type": "execute_result"
    }
   ],
   "source": [
    "outputs = # fix me # \n",
    "for i in range(#fix me#):\n",
    "    for j in range(#fix me#):\n",
    "        result = #fix me# \n",
    "        outputs[#fix me#] = result\n",
    "        print(\"({},{}) 번째 값 : {}\".format(i,j,result))\n",
    "outputs"
   ]
  },
  {
   "cell_type": "markdown",
   "metadata": {
    "id": "qPw3KXHpDPlv",
    "colab_type": "text"
   },
   "source": [
    "### (4) 블록으로 시각화하기\n",
    "\n",
    "블록으로 시각화한다면, 아래와 같이 나타낼 수 있습니다.\n",
    "\n",
    "![Imgur](https://i.imgur.com/uNUYhhx.png)\n",
    "\n",
    "* 입력 특징맵의 형태 : $(h_{in},w_{in},c_{in})$\n",
    "* 필터의 형태 : $(h_f,w_f,c_{in})$\n",
    "* 출력 특징맵의 형태 : $(h_{out},w_{out})$\n",
    "\n",
    "출력의 형태는 이전에 배운 것과 마찬가지로<br>\n",
    "필터의 크기, Stride, padding으로 결정됩니다."
   ]
  },
  {
   "cell_type": "markdown",
   "metadata": {
    "id": "E7Cq5MpODPlw",
    "colab_type": "text"
   },
   "source": [
    "## 2. 복수개의 필터로 3차원 데이터 합성곱 진행하기\n",
    "---\n",
    "\n",
    "* 하나의 Filter은 하나의 특징을 추출할 수 있습니다. <br>\n",
    "* 영상을 파악하기 위해서는 복수개의 특징을 함께 추출해, 판단해야 합니다.<br>\n",
    "* 복수개의 필터는 아래와 같이 진행됩니다."
   ]
  },
  {
   "cell_type": "markdown",
   "metadata": {
    "id": "BTO5gUmuDPlw",
    "colab_type": "text"
   },
   "source": [
    "### (1) Filter 구성하기\n",
    "\n",
    "하나의 필터는 $(h_f,w_f,c_{in})$의 형태로 구성됩니다.<br>\n",
    "이러한 필터들을 복수개로 구성해 쌓으면 아래와 같습니다."
   ]
  },
  {
   "cell_type": "code",
   "execution_count": 0,
   "metadata": {
    "id": "fBqqJbmpDPlx",
    "colab_type": "code",
    "outputId": "e36ab03b-5342-4540-b46c-a1231a058f73",
    "colab": {
     "base_uri": "https://localhost:8080/",
     "height": 34.0
    }
   },
   "outputs": [
    {
     "name": "stdout",
     "output_type": "stream",
     "text": [
      "Filter의 형태 (N, H, W, C) : (2,3,3,3)\n"
     ]
    }
   ],
   "source": [
    "filter_1 = np.array([\n",
    "    [[2,0,1],[0,1,2],[1,0,2]],\n",
    "    [[0,1,3],[2,1,3],[4,1,2]],\n",
    "    [[3,2,1],[2,2,3],[0,0,1]]])\n",
    "filter_2 = np.array([\n",
    "    [[4,0,1],[0,0,4],[0,3,2]],\n",
    "    [[6,1,2],[3,5,1],[2,3,2]],\n",
    "    [[1,4,1],[1,3,1],[2,1,0]]])\n",
    "\n",
    "# filter 의 최종 shape 는 (N, H, W, C 가 되어야 합니다.\n",
    "filters = np.stack([#fix me #],axis=0)\n",
    "print(\"Filter의 형태 (N, H, W, C) : ({},{},{},{})\".format(*filters.shape))"
   ]
  },
  {
   "cell_type": "code",
   "execution_count": 0,
   "metadata": {
    "id": "UDB2fGTtDPlz",
    "colab_type": "code",
    "outputId": "a42ad924-59f9-447d-bb10-d2185a7d51f6",
    "colab": {
     "base_uri": "https://localhost:8080/",
     "height": 102.0
    }
   },
   "outputs": [
    {
     "data": {
      "text/plain": [
       "array([[[ 81., 115.],\n",
       "        [ 64., 204.]],\n",
       "\n",
       "       [[ 89., 151.],\n",
       "        [ 76., 167.]]])"
      ]
     },
     "execution_count": 13,
     "metadata": {
      "tags": []
     },
     "output_type": "execute_result"
    }
   ],
   "source": [
    "outputs = #fix me#\n",
    "for i in range(#fix me#):\n",
    "    for j in range(#fix me#):\n",
    "        for k in range(#fix me#):\n",
    "            result = #fix me#\n",
    "            outputs[#fix me#] = result\n",
    "outputs"
   ]
  },
  {
   "cell_type": "markdown",
   "metadata": {
    "id": "DZ2KW9NmDPl2",
    "colab_type": "text"
   },
   "source": [
    "### (2) 블록으로 시각화하기\n",
    "\n",
    "블록으로 시각화한다면, 아래와 같이 나타낼 수 있습니다.\n",
    "\n",
    "\n",
    "![Imgur](https://i.imgur.com/ONua9B4.png)\n",
    "\n",
    "\n"
   ]
  },
  {
   "cell_type": "markdown",
   "metadata": {
    "id": "nja3KOfaDPl3",
    "colab_type": "text"
   },
   "source": [
    "* 입력 특징맵의 형태 : $(h_{in},w_{in},c_{in})$\n",
    "* 필터의 형태 : $(n_f,h_f,w_f,c_{in})$\n",
    "* 출력 특징맵의 형태 : $(h_{out},w_{out},n_f)$"
   ]
  },
  {
   "cell_type": "markdown",
   "metadata": {
    "id": "4cyMHcWuDPl3",
    "colab_type": "text"
   },
   "source": [
    "## 3. 복수개의 필터로 배치단위 데이터 합성곱 진행하기\n",
    "---\n",
    "\n",
    "* 신경망을 학습시킬 때에는 단일 데이터보다 보통 배치 단위로 처리합니다.<br>\n",
    "* 배치 단위로 진행될 경우 어떤 식으로 데이터의 형태가 변화하는지를 파악하는데 초점을 두도록 하겠습니다.\n",
    "\n",
    "![Imgur](https://i.imgur.com/BlvHzCu.png)"
   ]
  },
  {
   "cell_type": "markdown",
   "metadata": {
    "id": "FAcKPtbEDPl4",
    "colab_type": "text"
   },
   "source": [
    "* 입력 특징맵의 형태 : $(n_{batch}, h_{in},w_{in},c_{in})$\n",
    "* 필터의 형태 : $(n_f,h_f,w_f,c_{in})$\n",
    "* 출력 특징맵의 형태 : $(n_{batch}, h_{out},w_{out},n_f)$"
   ]
  },
  {
   "cell_type": "markdown",
   "metadata": {
    "id": "PSVMDzC0DPl4",
    "colab_type": "text"
   },
   "source": [
    "<br><br>\n",
    "\n",
    "# \\[ 2. 풀링 연산이란 \\]\n",
    "\n",
    "----\n",
    "\n",
    "----\n",
    "\n",
    "> *풀링은 세로,가로 방향의 공간을 줄이는 연산입니다.* <br>\n"
   ]
  },
  {
   "cell_type": "markdown",
   "metadata": {
    "id": "2LSfvizmDPl5",
    "colab_type": "text"
   },
   "source": [
    "## 1. 2차원 데이터로 풀링 연산 수행하기\n",
    "---\n",
    "\n",
    "* 아래의 2차원 데이터를 통해, 풀링 연산이 어떤 식으로 진행되는지 살펴보도록 하겠습니다."
   ]
  },
  {
   "cell_type": "markdown",
   "metadata": {
    "id": "-TkvmRBSDPl5",
    "colab_type": "text"
   },
   "source": [
    "### (1) 2차원 데이터 구성하기"
   ]
  },
  {
   "cell_type": "code",
   "execution_count": 0,
   "metadata": {
    "id": "ot0IsPyEDPl6",
    "colab_type": "code",
    "outputId": "f591cd82-dc4c-466f-dd36-4fbbbc7aef5e",
    "colab": {
     "base_uri": "https://localhost:8080/",
     "height": 85.0
    }
   },
   "outputs": [
    {
     "data": {
      "text/plain": [
       "array([[1, 3, 2, 1],\n",
       "       [2, 9, 1, 1],\n",
       "       [1, 3, 2, 3],\n",
       "       [2, 6, 1, 2]])"
      ]
     },
     "execution_count": 14,
     "metadata": {
      "tags": []
     },
     "output_type": "execute_result"
    }
   ],
   "source": [
    "values = np.array([\n",
    "    [1,3,2,1],\n",
    "    [2,9,1,1],\n",
    "    [1,3,2,3],\n",
    "    [2,6,1,2]\n",
    "])\n",
    "values"
   ]
  },
  {
   "cell_type": "markdown",
   "metadata": {
    "id": "6x2bE1KwDPl9",
    "colab_type": "text"
   },
   "source": [
    "### (2) 풀링 연산 수행하기\n",
    "\n",
    "아래는 2x2 Max Pooling을 stride 2로 처리하는 결과입니다.<br> \n",
    "최대 풀링은 합성곱 연산와 같이, 특정 패치 단위로 입력값을 스캔하면서<br>\n",
    "처리하게 됩니다."
   ]
  },
  {
   "cell_type": "code",
   "execution_count": 0,
   "metadata": {
    "id": "NhoOC2DjDPl9",
    "colab_type": "code",
    "outputId": "ab68b82a-5b57-4ded-d0d4-7dbc8576c60c",
    "colab": {
     "base_uri": "https://localhost:8080/",
     "height": 51.0
    }
   },
   "outputs": [
    {
     "data": {
      "text/plain": [
       "array([[9., 2.],\n",
       "       [6., 3.]])"
      ]
     },
     "execution_count": 15,
     "metadata": {
      "tags": []
     },
     "output_type": "execute_result"
    }
   ],
   "source": [
    "filters = 2\n",
    "strides = 2\n",
    "\n",
    "result = np.zeros([#fix me #]) # pooling 후 결과물의 shape 을 적어주세요 \n",
    "for i in range(#fix me #):\n",
    "    for j in range(#fix me#):\n",
    "        patch = values[#fix me#]\n",
    "        result[#fix me#] = #fix me# \n",
    "result"
   ]
  },
  {
   "cell_type": "markdown",
   "metadata": {
    "id": "qXm7W-7_DPmB",
    "colab_type": "text"
   },
   "source": [
    "Pooling Layer는 이미지에서 Sampling하는 것과 효과와 동일합니다.<br>\n",
    "이렇게 될 경우, 이미지가 약간 이동하더라도 신경망이 영향을 덜 받게 됩니다. <br>\n",
    "\n",
    "이는 위치 불변성(Location Invariance)이라는 이슈로,<br> \n",
    "모델이 견고하게 되는데에 중요한 특성 중 하나입니다."
   ]
  },
  {
   "cell_type": "markdown",
   "metadata": {
    "id": "vF8HGI8vDPmB",
    "colab_type": "text"
   },
   "source": [
    "## 2. 3차원 데이터로 풀링 연산 수행하기\n",
    "---\n",
    "\n",
    "* 합성곱 연산과 마찬가지로, 각 채널 별로 독립적으로 풀링 연산이 수행되게 됩니다.<br>"
   ]
  },
  {
   "cell_type": "markdown",
   "metadata": {
    "id": "Wh-Wb_5dDPmC",
    "colab_type": "text"
   },
   "source": [
    "### (1) 3차원 데이터 구성하기"
   ]
  },
  {
   "cell_type": "code",
   "execution_count": 0,
   "metadata": {
    "id": "7X0gGRVaDPmC",
    "colab_type": "code",
    "outputId": "ec89b356-2c88-42e7-fb56-2a1f9e29cd59",
    "colab": {}
   },
   "outputs": [
    {
     "name": "stdout",
     "output_type": "stream",
     "text": [
      "입력값의 형태 (H, W, C) :(4,4,3)\n"
     ]
    }
   ],
   "source": [
    "in0 = np.array([\n",
    "    [1,4,2,0],\n",
    "    [2,3,1,0],\n",
    "    [3,1,2,3],\n",
    "    [4,3,2,1]\n",
    "])\n",
    "in1 = np.array([\n",
    "    [1,7,2,1],\n",
    "    [3,2,1,9],\n",
    "    [0,1,5,1],\n",
    "    [4,6,2,4]\n",
    "])\n",
    "in2 = np.array([\n",
    "    [1,5,2,1],\n",
    "    [3,2,1,9],\n",
    "    [0,1,3,1],\n",
    "    [4,6,2,7]\n",
    "])\n",
    "inputs = np.stack([#fix me#],axis=-1)\n",
    "print(\"입력값의 형태 (H, W, C) :({},{},{})\".format(*inputs.shape))"
   ]
  },
  {
   "cell_type": "code",
   "execution_count": 0,
   "metadata": {
    "id": "U99U50P4DPmG",
    "colab_type": "code",
    "outputId": "c4e66502-7889-4c58-bc25-0a0328fb9d76",
    "colab": {}
   },
   "outputs": [
    {
     "name": "stdout",
     "output_type": "stream",
     "text": [
      "출력값의 형태 (H, W, C) :(2,2,3)\n"
     ]
    },
    {
     "data": {
      "text/plain": [
       "array([[[4., 7., 5.],\n",
       "        [2., 9., 9.]],\n",
       "\n",
       "       [[4., 6., 6.],\n",
       "        [3., 5., 7.]]])"
      ]
     },
     "execution_count": 39,
     "metadata": {
      "tags": []
     },
     "output_type": "execute_result"
    }
   ],
   "source": [
    "filters = 2\n",
    "strides = 2\n",
    "result = np.zeros(#fix me#)\n",
    "for i in range(#fix me #):\n",
    "    for j in range(#fix me #):\n",
    "        for k in range(#fix me#):\n",
    "            patch = inputs[#fix me#]\n",
    "            result[#fix me #] = #fix me#\n",
    "\n",
    "print(\"출력값의 형태 (H, W, C) :({},{},{})\".format(*result.shape))\n",
    "result"
   ]
  },
  {
   "cell_type": "markdown",
   "metadata": {
    "id": "Df22skZCDPmJ",
    "colab_type": "text"
   },
   "source": [
    "합성곱 신경망에서는 풀링 층을 사용해 표현의 크기를 줄임으로써 \n",
    "1. 계산 속도를 줄이고,\n",
    "2. 메모리의 사용량을 줄이며,\n",
    "3. 특징을 좀 더 안정적으로 검출할 수 있도록 합니다.<br>\n"
   ]
  },
  {
   "cell_type": "markdown",
   "metadata": {
    "id": "1yTjMPBUDPmK",
    "colab_type": "text"
   },
   "source": [
    "#  \n",
    "\n",
    "---\n",
    "\n",
    "    Copyright(c) 2019 by Public AI. All rights reserved.<br>\n",
    "    Writen by PAI, SangJae Kang ( rocketgrowthsj@publicai.co.kr )  last updated on 2019/04/25\n",
    "\n",
    "---"
   ]
  }
 ],
 "metadata": {
  "colab": {
   "name": "3_고차원에서의_합성곱_연산.ipynb",
   "version": "0.3.2",
   "provenance": [],
   "collapsed_sections": []
  },
  "language_info": {
   "codemirror_mode": {
    "name": "ipython",
    "version": 3.0
   },
   "file_extension": ".py",
   "mimetype": "text/x-python",
   "name": "python",
   "nbconvert_exporter": "python",
   "pygments_lexer": "ipython3",
   "version": "3.6.5"
  },
  "kernelspec": {
   "display_name": "Python 3",
   "language": "python",
   "name": "python3"
  }
 },
 "nbformat": 4,
 "nbformat_minor": 0
}