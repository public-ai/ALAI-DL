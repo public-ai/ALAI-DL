{
 "cells": [
  {
   "cell_type": "markdown",
   "metadata": {},
   "source": [
    " ╔══<i><b>Alai-DeepLearning</b></i>═══════════════════════════╗\n",
    "###  &nbsp;&nbsp; **✎&nbsp;&nbsp;week 4. Tensorflow basis **\n",
    "# Section 3. Tensor을 다루는 함수들\n",
    "\n",
    "### _Objective_\n",
    "1. 인덱싱에 관련된 메소드에 대해 배워봅니다. <br>\n",
    "2. 차원에 관련된 메소드에 대해 배워봅니다. <br>\n",
    "3. 텐서를 합치고 쪼개는 메소드에 대해 배워봅니다. <br>\n",
    "4. 텐서를 생성하는 메소드에 대해 배워봅니다. \n",
    "\n",
    "╚════════════════════════════════════════╝"
   ]
  },
  {
   "cell_type": "code",
   "execution_count": 1,
   "metadata": {},
   "outputs": [],
   "source": [
    "%matplotlib inline\n",
    "import numpy as np\n",
    "import tensorflow as tf \n",
    "import matplotlib.pyplot as plt"
   ]
  },
  {
   "cell_type": "markdown",
   "metadata": {},
   "source": [
    "### [Optional.  eager_execution 이용하기 ]\n",
    "\n",
    "---\n",
    "\n",
    "> _`tensorflow` 2.0 버전부터 지원하게 된 기능으로, graph와 session을 따로 만들어서 실행하지 않고, **즉시 실행**가능하도록 만든 기능입니다._<br>\n",
    "> _이번 실습시간에서는 eager execution으로 실습을 진행하겠습니다. <br>"
   ]
  },
  {
   "cell_type": "code",
   "execution_count": 2,
   "metadata": {},
   "outputs": [],
   "source": [
    "# Tensorflow\n",
    "tf.enable_eager_execution()"
   ]
  },
  {
   "cell_type": "code",
   "execution_count": 3,
   "metadata": {},
   "outputs": [
    {
     "data": {
      "text/plain": [
       "<tf.Tensor: id=2, shape=(), dtype=int32, numpy=3>"
      ]
     },
     "execution_count": 3,
     "metadata": {},
     "output_type": "execute_result"
    }
   ],
   "source": [
    "# eager execution은 아래와 같이 나옵니다.\n",
    "a = tf.constant(1)\n",
    "b = tf.constant(2)\n",
    "tf.add(a,b)"
   ]
  },
  {
   "cell_type": "code",
   "execution_count": 4,
   "metadata": {},
   "outputs": [
    {
     "data": {
      "text/plain": [
       "3"
      ]
     },
     "execution_count": 4,
     "metadata": {},
     "output_type": "execute_result"
    }
   ],
   "source": [
    "# 이런식으로 우리는 바로 출력 값을 확인할 수 있습니다.\n",
    "tf.add(a,b).numpy()"
   ]
  },
  {
   "cell_type": "markdown",
   "metadata": {},
   "source": [
    "# \\[ 1. Tensor 조작하기  \\]\n",
    "\n",
    "---\n",
    "---\n",
    "\n",
    "\n",
    "> Tensor는 수학적으로 고차원의 행렬을 의미합니다. Tensorflow에서는 Tensor을 조작하기 위해 다양한 메소드들을 제공합니다. 이번 시간에서는 텐서를 어떻게 조작하는지에 대해 배워보겠습니다."
   ]
  },
  {
   "cell_type": "markdown",
   "metadata": {},
   "source": [
    "## 예제 데이터 )  학생들의 국영수사과 성적표"
   ]
  },
  {
   "cell_type": "markdown",
   "metadata": {},
   "source": [
    "\n",
    "#### 데이터 1) 중간고사, 학생들의 국영수사과 성적표\n",
    "`middle_scores`\n",
    "\n",
    "| 학생 번호 | 국어 | 영어 | 수학 | 사회 | 과학 |\n",
    "|  ----   | --- |---| --- | --- | --- |\n",
    "|0 |80 |92 |70 | 65 | 92 |\n",
    "|1 |91 |75 |90 | 68 | 85 | \n",
    "|2 |86 |76 |42 | 72 | 88 |\n",
    "|3 |77 |92 |52 | 60 | 80 |\n",
    "|4 |75 |85 |85 | 92 | 95 |\n",
    "|5 |96 |90 |95 | 81 | 72 |\n",
    "\n",
    "#### 데이터 2) 기말고사, 학생들의 국영수사과 성적표\n",
    "`final_scores`\n",
    "\n",
    "| 학생 번호 | 국어 | 영어 | 수학 | 사회 | 과학 |\n",
    "|  ----   | --- |---| --- | --- | --- |\n",
    "|0 |85 |95 |90 | 66 | 93 |\n",
    "|1 |93 |70 |80 | 60 | 81 | \n",
    "|2 |89 |78 |55 | 75 | 80 |\n",
    "|3 |80 |94 |59 | 72 | 90 |\n",
    "|4 |70 |82 |81 | 95 | 72 |\n",
    "|5 |90 |76 |93 | 82 | 89 |"
   ]
  },
  {
   "cell_type": "code",
   "execution_count": 5,
   "metadata": {},
   "outputs": [
    {
     "data": {
      "text/plain": [
       "array([[[80, 92, 70, 65, 92],\n",
       "        [91, 75, 90, 68, 85],\n",
       "        [86, 76, 42, 72, 88],\n",
       "        [77, 92, 52, 60, 80],\n",
       "        [75, 85, 85, 92, 95],\n",
       "        [96, 90, 95, 81, 72]],\n",
       "\n",
       "       [[85, 95, 90, 66, 93],\n",
       "        [93, 70, 80, 60, 81],\n",
       "        [89, 78, 55, 75, 80],\n",
       "        [80, 94, 59, 72, 90],\n",
       "        [70, 82, 81, 95, 72],\n",
       "        [90, 76, 93, 82, 89]]])"
      ]
     },
     "execution_count": 5,
     "metadata": {},
     "output_type": "execute_result"
    }
   ],
   "source": [
    "middle_scores = np.array([\n",
    "    [80,92,70,65,92],\n",
    "    [91,75,90,68,85],\n",
    "    [86,76,42,72,88],\n",
    "    [77,92,52,60,80],\n",
    "    [75,85,85,92,95],\n",
    "    [96,90,95,81,72]\n",
    "])\n",
    "\n",
    "final_scores = np.array([\n",
    "    [85,95,90,66,93],\n",
    "    [93,70,80,60,81],\n",
    "    [89,78,55,75,80],\n",
    "    [80,94,59,72,90],\n",
    "    [70,82,81,95,72],\n",
    "    [90,76,93,82,89]\n",
    "])\n",
    "\n",
    "# Numpy array\n",
    "scores = np.stack([middle_scores,final_scores])\n",
    "\n",
    "# Tensor로 만들기\n",
    "scores_tensor = tf.constant(scores)\n",
    "\n",
    "scores_tensor.numpy()"
   ]
  },
  {
   "cell_type": "markdown",
   "metadata": {},
   "source": [
    " ## 1. 인덱싱에 관련된 메소드\n",
    "\n",
    "---\n",
    "\n",
    "+ Tensor에서 원하는 원소 혹은 배열의 값을 가져오는 여러가지 메소드에 대해 배워보겠습니다."
   ]
  },
  {
   "cell_type": "markdown",
   "metadata": {},
   "source": [
    "### (1) tf.boolean_mask  \n",
    "numpy에서의 boolean mask는 `arr[<boolean mask>]`와 같은 방식으로 이루어집니다.<br> \n",
    "하지만 텐서플로우에서는 numpy와는 조금 다른 형태로 지원합니다. \n"
   ]
  },
  {
   "cell_type": "markdown",
   "metadata": {},
   "source": [
    "#### 1) numpy로 boolean mask를 할 경우"
   ]
  },
  {
   "cell_type": "code",
   "execution_count": 6,
   "metadata": {},
   "outputs": [
    {
     "data": {
      "text/plain": [
       "array([[[False,  True, False, False,  True],\n",
       "        [ True, False,  True, False,  True],\n",
       "        [ True, False, False, False,  True],\n",
       "        [False,  True, False, False, False],\n",
       "        [False,  True,  True,  True,  True],\n",
       "        [ True,  True,  True,  True, False]],\n",
       "\n",
       "       [[ True,  True,  True, False,  True],\n",
       "        [ True, False, False, False,  True],\n",
       "        [ True, False, False, False, False],\n",
       "        [False,  True, False, False,  True],\n",
       "        [False,  True,  True,  True, False],\n",
       "        [ True, False,  True,  True,  True]]])"
      ]
     },
     "execution_count": 6,
     "metadata": {},
     "output_type": "execute_result"
    }
   ],
   "source": [
    "# 성적이 80점보다 높은지에 대한 True/False\n",
    "scores>80"
   ]
  },
  {
   "cell_type": "code",
   "execution_count": 7,
   "metadata": {},
   "outputs": [
    {
     "data": {
      "text/plain": [
       "array([92, 92, 91, 90, 85, 86, 88, 92, 85, 85, 92, 95, 96, 90, 95, 81, 85,\n",
       "       95, 90, 93, 93, 81, 89, 94, 90, 82, 81, 95, 90, 93, 82, 89])"
      ]
     },
     "execution_count": 7,
     "metadata": {},
     "output_type": "execute_result"
    }
   ],
   "source": [
    "# 80점이상의 성적만 가져오기\n",
    "scores[scores>80]"
   ]
  },
  {
   "cell_type": "markdown",
   "metadata": {},
   "source": [
    "#### 2) tensorflow로 boolean mask를 할 경우"
   ]
  },
  {
   "cell_type": "code",
   "execution_count": 8,
   "metadata": {},
   "outputs": [
    {
     "ename": "TypeError",
     "evalue": "Only integers, slices (`:`), ellipsis (`...`), tf.newaxis (`None`) and scalar tf.int32/tf.int64 tensors are valid indices, got <tf.Tensor: id=9, shape=(2, 6, 5), dtype=bool, numpy=\narray([[[False,  True, False, False,  True],\n        [ True, False,  True, False,  True],\n        [ True, False, False, False,  True],\n        [False,  True, False, False, False],\n        [False,  True,  True,  True,  True],\n        [ True,  True,  True,  True, False]],\n\n       [[ True,  True,  True, False,  True],\n        [ True, False, False, False,  True],\n        [ True, False, False, False, False],\n        [False,  True, False, False,  True],\n        [False,  True,  True,  True, False],\n        [ True, False,  True,  True,  True]]])>",
     "output_type": "error",
     "traceback": [
      "\u001b[0;31m---------------------------------------------------------------------------\u001b[0m",
      "\u001b[0;31mTypeError\u001b[0m                                 Traceback (most recent call last)",
      "\u001b[0;32m<ipython-input-8-c05e85815246>\u001b[0m in \u001b[0;36m<module>\u001b[0;34m\u001b[0m\n\u001b[1;32m      1\u001b[0m \u001b[0;31m# Numpy와 같이 적용하면 에러가 발생합니다.\u001b[0m\u001b[0;34m\u001b[0m\u001b[0;34m\u001b[0m\u001b[0m\n\u001b[0;32m----> 2\u001b[0;31m \u001b[0mscores_tensor\u001b[0m\u001b[0;34m[\u001b[0m\u001b[0mscores_tensor\u001b[0m\u001b[0;34m>\u001b[0m\u001b[0;36m80\u001b[0m\u001b[0;34m]\u001b[0m\u001b[0;34m\u001b[0m\u001b[0m\n\u001b[0m",
      "\u001b[0;32m~/anaconda3/lib/python3.6/site-packages/tensorflow/python/ops/array_ops.py\u001b[0m in \u001b[0;36m_slice_helper\u001b[0;34m(tensor, slice_spec, var)\u001b[0m\n\u001b[1;32m    616\u001b[0m       \u001b[0mnew_axis_mask\u001b[0m \u001b[0;34m|=\u001b[0m \u001b[0;34m(\u001b[0m\u001b[0;36m1\u001b[0m \u001b[0;34m<<\u001b[0m \u001b[0mindex\u001b[0m\u001b[0;34m)\u001b[0m\u001b[0;34m\u001b[0m\u001b[0m\n\u001b[1;32m    617\u001b[0m     \u001b[0;32melse\u001b[0m\u001b[0;34m:\u001b[0m\u001b[0;34m\u001b[0m\u001b[0m\n\u001b[0;32m--> 618\u001b[0;31m       \u001b[0m_check_index\u001b[0m\u001b[0;34m(\u001b[0m\u001b[0ms\u001b[0m\u001b[0;34m)\u001b[0m\u001b[0;34m\u001b[0m\u001b[0m\n\u001b[0m\u001b[1;32m    619\u001b[0m       \u001b[0mbegin\u001b[0m\u001b[0;34m.\u001b[0m\u001b[0mappend\u001b[0m\u001b[0;34m(\u001b[0m\u001b[0ms\u001b[0m\u001b[0;34m)\u001b[0m\u001b[0;34m\u001b[0m\u001b[0m\n\u001b[1;32m    620\u001b[0m       \u001b[0mend\u001b[0m\u001b[0;34m.\u001b[0m\u001b[0mappend\u001b[0m\u001b[0;34m(\u001b[0m\u001b[0ms\u001b[0m \u001b[0;34m+\u001b[0m \u001b[0;36m1\u001b[0m\u001b[0;34m)\u001b[0m\u001b[0;34m\u001b[0m\u001b[0m\n",
      "\u001b[0;32m~/anaconda3/lib/python3.6/site-packages/tensorflow/python/ops/array_ops.py\u001b[0m in \u001b[0;36m_check_index\u001b[0;34m(idx)\u001b[0m\n\u001b[1;32m    514\u001b[0m     \u001b[0;31m# TODO(slebedev): IndexError seems more appropriate here, but it\u001b[0m\u001b[0;34m\u001b[0m\u001b[0;34m\u001b[0m\u001b[0m\n\u001b[1;32m    515\u001b[0m     \u001b[0;31m# will break `_slice_helper` contract.\u001b[0m\u001b[0;34m\u001b[0m\u001b[0;34m\u001b[0m\u001b[0m\n\u001b[0;32m--> 516\u001b[0;31m     \u001b[0;32mraise\u001b[0m \u001b[0mTypeError\u001b[0m\u001b[0;34m(\u001b[0m\u001b[0m_SLICE_TYPE_ERROR\u001b[0m \u001b[0;34m+\u001b[0m \u001b[0;34m\", got {!r}\"\u001b[0m\u001b[0;34m.\u001b[0m\u001b[0mformat\u001b[0m\u001b[0;34m(\u001b[0m\u001b[0midx\u001b[0m\u001b[0;34m)\u001b[0m\u001b[0;34m)\u001b[0m\u001b[0;34m\u001b[0m\u001b[0m\n\u001b[0m\u001b[1;32m    517\u001b[0m \u001b[0;34m\u001b[0m\u001b[0m\n\u001b[1;32m    518\u001b[0m \u001b[0;34m\u001b[0m\u001b[0m\n",
      "\u001b[0;31mTypeError\u001b[0m: Only integers, slices (`:`), ellipsis (`...`), tf.newaxis (`None`) and scalar tf.int32/tf.int64 tensors are valid indices, got <tf.Tensor: id=9, shape=(2, 6, 5), dtype=bool, numpy=\narray([[[False,  True, False, False,  True],\n        [ True, False,  True, False,  True],\n        [ True, False, False, False,  True],\n        [False,  True, False, False, False],\n        [False,  True,  True,  True,  True],\n        [ True,  True,  True,  True, False]],\n\n       [[ True,  True,  True, False,  True],\n        [ True, False, False, False,  True],\n        [ True, False, False, False, False],\n        [False,  True, False, False,  True],\n        [False,  True,  True,  True, False],\n        [ True, False,  True,  True,  True]]])>"
     ]
    }
   ],
   "source": [
    "# Numpy와 같이 적용하면 에러가 발생합니다. \n",
    "scores_tensor[scores_tensor>80]"
   ]
  },
  {
   "cell_type": "code",
   "execution_count": null,
   "metadata": {},
   "outputs": [],
   "source": [
    "# tf.boolean_mask를 이용하면 가능합니다.\n",
    "tf.boolean_mask(scores_tensor,\n",
    "                scores_tensor>80).numpy()"
   ]
  },
  {
   "cell_type": "markdown",
   "metadata": {},
   "source": [
    "### (2) tf.gather_nd\n",
    "tf.gather_nd는 `scores_tensor[0]`같이 기본적인 Indexing 기능을 좀 더 일반화한 기능입니다."
   ]
  },
  {
   "cell_type": "markdown",
   "metadata": {},
   "source": [
    "#### 1)  중간고사 성적 가져오기"
   ]
  },
  {
   "cell_type": "code",
   "execution_count": null,
   "metadata": {},
   "outputs": [],
   "source": [
    "# 기본 Indexing\n",
    "scores_tensor[0].numpy()"
   ]
  },
  {
   "cell_type": "code",
   "execution_count": null,
   "metadata": {},
   "outputs": [],
   "source": [
    "# gather_nd를 통한 인덱싱\n",
    "# [0] -> [0,:,:]과 동일합니다.\n",
    "tf.gather_nd(scores_tensor,[0]).numpy()"
   ]
  },
  {
   "cell_type": "markdown",
   "metadata": {},
   "source": [
    "#### 2) 1번 학생의 중간고사 성적과 2번 학생의 기말고사 성적 가져오기\n",
    "\n",
    "tf.gather_nd는 원하는 indexing의 원소들을 한번에 가져올 수 있습니다."
   ]
  },
  {
   "cell_type": "code",
   "execution_count": null,
   "metadata": {},
   "outputs": [],
   "source": [
    "# 1번 학생의 중간고사 성적\n",
    "# [0,1] -> [0,1,:]과 동일합니다.\n",
    "tf.gather_nd(scores_tensor,[0,1]).numpy()"
   ]
  },
  {
   "cell_type": "code",
   "execution_count": null,
   "metadata": {},
   "outputs": [],
   "source": [
    "# 2번 학생의 기말고사 성적\n",
    "# [1,2] -> [1,2,:]과 동일합니다.\n",
    "tf.gather_nd(scores_tensor,[1,2]).numpy()"
   ]
  },
  {
   "cell_type": "code",
   "execution_count": null,
   "metadata": {},
   "outputs": [],
   "source": [
    "# 같이 가져오기\n",
    "tf.gather_nd(scores_tensor,[[0,1],[1,2]]).numpy()"
   ]
  },
  {
   "cell_type": "markdown",
   "metadata": {},
   "source": [
    ">numpy의 [1,:,2] 처럼 가져올 수는 없습니다.<br> \n",
    "이렇게 가져오고자 하면, 이후 `tf.transpose`와 함께 사용해야 합니다."
   ]
  },
  {
   "cell_type": "markdown",
   "metadata": {},
   "source": [
    "#### 3) 1번 학생의 중간고사 수학성적 가져오기"
   ]
  },
  {
   "cell_type": "code",
   "execution_count": null,
   "metadata": {},
   "outputs": [],
   "source": [
    "# [0,1,2]\n",
    "tf.gather_nd(scores_tensor,[0,1,2]).numpy()"
   ]
  },
  {
   "cell_type": "markdown",
   "metadata": {},
   "source": [
    "### (3) tf.where\n",
    "tf.where는 numpy.where과 동일하게 동작합니다.<br>\n",
    "1. 조건문만 있는 경우 -> 조건에 만족하는 원소들의 인덱스 위치값을 반환합니다.\n",
    "2. `x`,`y`가 있는 경우 -> 조건에 만족하는 위치에 값을 참인 경우, `x`로, 거짓인 경우 `y`로 바꾸어 줍니다.\n"
   ]
  },
  {
   "cell_type": "markdown",
   "metadata": {},
   "source": [
    "#### 1) 조건문만 있는 경우\n",
    "\n",
    "* 95점보다 높거나 같은 성적들을 가져오겠습니다."
   ]
  },
  {
   "cell_type": "code",
   "execution_count": 9,
   "metadata": {},
   "outputs": [
    {
     "data": {
      "text/plain": [
       "array([[[False, False, False, False, False],\n",
       "        [False, False, False, False, False],\n",
       "        [False, False, False, False, False],\n",
       "        [False, False, False, False, False],\n",
       "        [False, False, False, False,  True],\n",
       "        [ True, False,  True, False, False]],\n",
       "\n",
       "       [[False,  True, False, False, False],\n",
       "        [False, False, False, False, False],\n",
       "        [False, False, False, False, False],\n",
       "        [False, False, False, False, False],\n",
       "        [False, False, False,  True, False],\n",
       "        [False, False, False, False, False]]])"
      ]
     },
     "execution_count": 9,
     "metadata": {},
     "output_type": "execute_result"
    }
   ],
   "source": [
    "# 95점보다 높은 값들인지 확인\n",
    "(scores_tensor>=95).numpy()"
   ]
  },
  {
   "cell_type": "code",
   "execution_count": 10,
   "metadata": {},
   "outputs": [
    {
     "data": {
      "text/plain": [
       "array([[0, 4, 4],\n",
       "       [0, 5, 0],\n",
       "       [0, 5, 2],\n",
       "       [1, 0, 1],\n",
       "       [1, 4, 3]])"
      ]
     },
     "execution_count": 10,
     "metadata": {},
     "output_type": "execute_result"
    }
   ],
   "source": [
    "# Boolean의 값이 참인 원소의 위치를 가져옴\n",
    "indices_list = tf.where(scores_tensor>=95).numpy()\n",
    "indices_list"
   ]
  },
  {
   "cell_type": "code",
   "execution_count": 11,
   "metadata": {},
   "outputs": [
    {
     "data": {
      "text/plain": [
       "array([95, 96, 95, 95, 95])"
      ]
     },
     "execution_count": 11,
     "metadata": {},
     "output_type": "execute_result"
    }
   ],
   "source": [
    "# gather_nd를 통해 95점 이상의 값들을 가져올 수 있습니다.\n",
    "tf.gather_nd(scores_tensor, indices_list).numpy()"
   ]
  },
  {
   "cell_type": "markdown",
   "metadata": {},
   "source": [
    "#### 2) `x`,`y`가 있는 경우\n",
    "\n",
    "* 중간 고사 성적과 기말 고사 성적을 비교해서 학생이 받은 각 과목 별 최고 성적을 구해보겠습니다."
   ]
  },
  {
   "cell_type": "code",
   "execution_count": 12,
   "metadata": {},
   "outputs": [],
   "source": [
    "middle_tensor = scores_tensor[0] \n",
    "final_tensor = scores_tensor[1]"
   ]
  },
  {
   "cell_type": "code",
   "execution_count": 13,
   "metadata": {},
   "outputs": [
    {
     "data": {
      "text/plain": [
       "<tf.Tensor: id=30, shape=(6, 5), dtype=int64, numpy=\n",
       "array([[85, 95, 90, 66, 93],\n",
       "       [93, 75, 90, 68, 85],\n",
       "       [89, 78, 55, 75, 88],\n",
       "       [80, 94, 59, 72, 90],\n",
       "       [75, 85, 85, 95, 95],\n",
       "       [96, 90, 95, 82, 89]])>"
      ]
     },
     "execution_count": 13,
     "metadata": {},
     "output_type": "execute_result"
    }
   ],
   "source": [
    "tf.where(middle_tensor>final_tensor, \n",
    "         middle_tensor, # 참인 경우 중간고사 성적이 들어감\n",
    "         final_tensor   # 거짓인 경우 기말고사 성적이 들어감\n",
    "        ) "
   ]
  },
  {
   "cell_type": "markdown",
   "metadata": {},
   "source": [
    "## 2. 차원을 다루는 메소드들 \n",
    "\n",
    "---\n",
    "\n",
    "+ Tensor의 형태, 차원은 원소의 갯수가 동일하다는 가정 하에 쉽게 바꿀 수 있습니다."
   ]
  },
  {
   "cell_type": "markdown",
   "metadata": {},
   "source": [
    "### (1) tf.shape\n",
    "Tensor의 shape는 위의 메소드로 쉽게 확인할 수 있습니다."
   ]
  },
  {
   "cell_type": "code",
   "execution_count": 14,
   "metadata": {},
   "outputs": [
    {
     "data": {
      "text/plain": [
       "<tf.Tensor: id=32, shape=(3,), dtype=int32, numpy=array([2, 6, 5], dtype=int32)>"
      ]
     },
     "execution_count": 14,
     "metadata": {},
     "output_type": "execute_result"
    }
   ],
   "source": [
    "# Shape의 결과도 Tensor로 나옵니다.\n",
    "tf.shape(scores_tensor)"
   ]
  },
  {
   "cell_type": "markdown",
   "metadata": {},
   "source": [
    "> scores_tensor의 크기에 따라 같은 크기의 1로 만들어진 Tensor을 만드는 등,\n",
    "  Tensor의 크기에 따라 동적으로 바뀌어야 할 때 주로 쓰입니다."
   ]
  },
  {
   "cell_type": "code",
   "execution_count": 15,
   "metadata": {},
   "outputs": [
    {
     "data": {
      "text/plain": [
       "<tf.Tensor: id=36, shape=(2, 6, 5), dtype=float32, numpy=\n",
       "array([[[1., 1., 1., 1., 1.],\n",
       "        [1., 1., 1., 1., 1.],\n",
       "        [1., 1., 1., 1., 1.],\n",
       "        [1., 1., 1., 1., 1.],\n",
       "        [1., 1., 1., 1., 1.],\n",
       "        [1., 1., 1., 1., 1.]],\n",
       "\n",
       "       [[1., 1., 1., 1., 1.],\n",
       "        [1., 1., 1., 1., 1.],\n",
       "        [1., 1., 1., 1., 1.],\n",
       "        [1., 1., 1., 1., 1.],\n",
       "        [1., 1., 1., 1., 1.],\n",
       "        [1., 1., 1., 1., 1.]]], dtype=float32)>"
      ]
     },
     "execution_count": 15,
     "metadata": {},
     "output_type": "execute_result"
    }
   ],
   "source": [
    "# scores_tensor와 같은 크기의 행렬 만들기\n",
    "tf.ones(tf.shape(scores_tensor))"
   ]
  },
  {
   "cell_type": "markdown",
   "metadata": {},
   "source": [
    "### (2) tf.reshape\n",
    "Tensor의 shape을 바꾸어 줍니다. **원소의 순서를 바꾸지 않습니다.**"
   ]
  },
  {
   "cell_type": "code",
   "execution_count": 16,
   "metadata": {},
   "outputs": [
    {
     "data": {
      "text/plain": [
       "<tf.Tensor: id=39, shape=(12, 5), dtype=int64, numpy=\n",
       "array([[80, 92, 70, 65, 92],\n",
       "       [91, 75, 90, 68, 85],\n",
       "       [86, 76, 42, 72, 88],\n",
       "       [77, 92, 52, 60, 80],\n",
       "       [75, 85, 85, 92, 95],\n",
       "       [96, 90, 95, 81, 72],\n",
       "       [85, 95, 90, 66, 93],\n",
       "       [93, 70, 80, 60, 81],\n",
       "       [89, 78, 55, 75, 80],\n",
       "       [80, 94, 59, 72, 90],\n",
       "       [70, 82, 81, 95, 72],\n",
       "       [90, 76, 93, 82, 89]])>"
      ]
     },
     "execution_count": 16,
     "metadata": {},
     "output_type": "execute_result"
    }
   ],
   "source": [
    "tf.reshape(scores_tensor,[12,5]) # (2,6,5) -> (12,5)"
   ]
  },
  {
   "cell_type": "code",
   "execution_count": 17,
   "metadata": {},
   "outputs": [
    {
     "data": {
      "text/plain": [
       "<tf.Tensor: id=42, shape=(12, 5), dtype=int64, numpy=\n",
       "array([[80, 92, 70, 65, 92],\n",
       "       [91, 75, 90, 68, 85],\n",
       "       [86, 76, 42, 72, 88],\n",
       "       [77, 92, 52, 60, 80],\n",
       "       [75, 85, 85, 92, 95],\n",
       "       [96, 90, 95, 81, 72],\n",
       "       [85, 95, 90, 66, 93],\n",
       "       [93, 70, 80, 60, 81],\n",
       "       [89, 78, 55, 75, 80],\n",
       "       [80, 94, 59, 72, 90],\n",
       "       [70, 82, 81, 95, 72],\n",
       "       [90, 76, 93, 82, 89]])>"
      ]
     },
     "execution_count": 17,
     "metadata": {},
     "output_type": "execute_result"
    }
   ],
   "source": [
    "tf.reshape(scores_tensor,[-1,5]) # (2,6,5) -> (12,5)"
   ]
  },
  {
   "cell_type": "code",
   "execution_count": 18,
   "metadata": {},
   "outputs": [
    {
     "data": {
      "text/plain": [
       "<tf.Tensor: id=45, shape=(60,), dtype=int64, numpy=\n",
       "array([80, 92, 70, 65, 92, 91, 75, 90, 68, 85, 86, 76, 42, 72, 88, 77, 92,\n",
       "       52, 60, 80, 75, 85, 85, 92, 95, 96, 90, 95, 81, 72, 85, 95, 90, 66,\n",
       "       93, 93, 70, 80, 60, 81, 89, 78, 55, 75, 80, 80, 94, 59, 72, 90, 70,\n",
       "       82, 81, 95, 72, 90, 76, 93, 82, 89])>"
      ]
     },
     "execution_count": 18,
     "metadata": {},
     "output_type": "execute_result"
    }
   ],
   "source": [
    "tf.reshape(scores_tensor,[-1]) # 1자로 펴줍니다."
   ]
  },
  {
   "cell_type": "markdown",
   "metadata": {},
   "source": [
    "### (3) tf.transpose\n",
    "Tensor의 축의 순서를 바꾸어 줍니다. 이는 **원소의 순서를 바꾸는 행위**로, reshape와는 전혀 다른 동작입니다."
   ]
  },
  {
   "cell_type": "code",
   "execution_count": 19,
   "metadata": {},
   "outputs": [
    {
     "data": {
      "text/plain": [
       "array([[[80, 92, 70, 65, 92],\n",
       "        [85, 95, 90, 66, 93]],\n",
       "\n",
       "       [[91, 75, 90, 68, 85],\n",
       "        [93, 70, 80, 60, 81]],\n",
       "\n",
       "       [[86, 76, 42, 72, 88],\n",
       "        [89, 78, 55, 75, 80]],\n",
       "\n",
       "       [[77, 92, 52, 60, 80],\n",
       "        [80, 94, 59, 72, 90]],\n",
       "\n",
       "       [[75, 85, 85, 92, 95],\n",
       "        [70, 82, 81, 95, 72]],\n",
       "\n",
       "       [[96, 90, 95, 81, 72],\n",
       "        [90, 76, 93, 82, 89]]])"
      ]
     },
     "execution_count": 19,
     "metadata": {},
     "output_type": "execute_result"
    }
   ],
   "source": [
    "# 축 : (기간, 학생, 성적)  -> (학생, 기간, 성적)\n",
    "tf.transpose(scores_tensor,[1,0,2]).numpy()"
   ]
  },
  {
   "cell_type": "code",
   "execution_count": 20,
   "metadata": {},
   "outputs": [
    {
     "data": {
      "text/plain": [
       "array([[[80, 85],\n",
       "        [92, 95],\n",
       "        [70, 90],\n",
       "        [65, 66],\n",
       "        [92, 93]],\n",
       "\n",
       "       [[91, 93],\n",
       "        [75, 70],\n",
       "        [90, 80],\n",
       "        [68, 60],\n",
       "        [85, 81]],\n",
       "\n",
       "       [[86, 89],\n",
       "        [76, 78],\n",
       "        [42, 55],\n",
       "        [72, 75],\n",
       "        [88, 80]],\n",
       "\n",
       "       [[77, 80],\n",
       "        [92, 94],\n",
       "        [52, 59],\n",
       "        [60, 72],\n",
       "        [80, 90]],\n",
       "\n",
       "       [[75, 70],\n",
       "        [85, 82],\n",
       "        [85, 81],\n",
       "        [92, 95],\n",
       "        [95, 72]],\n",
       "\n",
       "       [[96, 90],\n",
       "        [90, 76],\n",
       "        [95, 93],\n",
       "        [81, 82],\n",
       "        [72, 89]]])"
      ]
     },
     "execution_count": 20,
     "metadata": {},
     "output_type": "execute_result"
    }
   ],
   "source": [
    "# 축 : (기간, 학생, 성적)  -> (학생, 성적, 기간)\n",
    "tf.transpose(scores_tensor,[1,2,0]).numpy()"
   ]
  },
  {
   "cell_type": "markdown",
   "metadata": {},
   "source": [
    "`transpose`는 현재 배열 내 원소들의 순서를 바꾸어줍니다. reshape의 동작과 헷갈리면, 나중에 코드를 작성할 때, 많은 오류들이 발생하게 됩니다."
   ]
  },
  {
   "cell_type": "code",
   "execution_count": 21,
   "metadata": {},
   "outputs": [
    {
     "data": {
      "text/plain": [
       "array([[[80, 92, 70, 65, 92],\n",
       "        [91, 75, 90, 68, 85],\n",
       "        [86, 76, 42, 72, 88],\n",
       "        [77, 92, 52, 60, 80],\n",
       "        [75, 85, 85, 92, 95],\n",
       "        [96, 90, 95, 81, 72]],\n",
       "\n",
       "       [[85, 95, 90, 66, 93],\n",
       "        [93, 70, 80, 60, 81],\n",
       "        [89, 78, 55, 75, 80],\n",
       "        [80, 94, 59, 72, 90],\n",
       "        [70, 82, 81, 95, 72],\n",
       "        [90, 76, 93, 82, 89]]])"
      ]
     },
     "execution_count": 21,
     "metadata": {},
     "output_type": "execute_result"
    }
   ],
   "source": [
    "# reshape는 바꾼 후 다시 돌려놓아도 동일합니다.\n",
    "reshaped_tensor = tf.reshape(scores_tensor,[-1])\n",
    "tf.reshape(reshaped_tensor,[2,6,5]).numpy()"
   ]
  },
  {
   "cell_type": "code",
   "execution_count": 22,
   "metadata": {},
   "outputs": [
    {
     "data": {
      "text/plain": [
       "array([[[80, 85, 92, 95, 70],\n",
       "        [90, 65, 66, 92, 93],\n",
       "        [91, 93, 75, 70, 90],\n",
       "        [80, 68, 60, 85, 81],\n",
       "        [86, 89, 76, 78, 42],\n",
       "        [55, 72, 75, 88, 80]],\n",
       "\n",
       "       [[77, 80, 92, 94, 52],\n",
       "        [59, 60, 72, 80, 90],\n",
       "        [75, 70, 85, 82, 85],\n",
       "        [81, 92, 95, 95, 72],\n",
       "        [96, 90, 90, 76, 95],\n",
       "        [93, 81, 82, 72, 89]]])"
      ]
     },
     "execution_count": 22,
     "metadata": {},
     "output_type": "execute_result"
    }
   ],
   "source": [
    "# transpose는 바꾼 후 reshape하면 값의 순서가 바뀌어져 있습니다.\n",
    "transposed_tensor = tf.transpose(scores_tensor,[1,2,0])\n",
    "tf.reshape(transposed_tensor,[2,6,5]).numpy()"
   ]
  },
  {
   "cell_type": "code",
   "execution_count": 23,
   "metadata": {},
   "outputs": [
    {
     "data": {
      "text/plain": [
       "array([[[80, 92, 70, 65, 92],\n",
       "        [91, 75, 90, 68, 85],\n",
       "        [86, 76, 42, 72, 88],\n",
       "        [77, 92, 52, 60, 80],\n",
       "        [75, 85, 85, 92, 95],\n",
       "        [96, 90, 95, 81, 72]],\n",
       "\n",
       "       [[85, 95, 90, 66, 93],\n",
       "        [93, 70, 80, 60, 81],\n",
       "        [89, 78, 55, 75, 80],\n",
       "        [80, 94, 59, 72, 90],\n",
       "        [70, 82, 81, 95, 72],\n",
       "        [90, 76, 93, 82, 89]]])"
      ]
     },
     "execution_count": 23,
     "metadata": {},
     "output_type": "execute_result"
    }
   ],
   "source": [
    "# 아래와 같이 해야 다시 돌아옵니다.\n",
    "transposed_tensor = tf.transpose(scores_tensor,[1,2,0])\n",
    "tf.transpose(transposed_tensor,[2,0,1]).numpy()"
   ]
  },
  {
   "cell_type": "markdown",
   "metadata": {},
   "source": [
    "#### 예제) 중간고사 때의 수학 성적과 기말고사 때의 과학 성적 가져오기\n",
    "\n",
    "tf.transpose와 tf.gather_nd를 같이 이용하면 가능합니다."
   ]
  },
  {
   "cell_type": "code",
   "execution_count": 24,
   "metadata": {},
   "outputs": [
    {
     "data": {
      "text/plain": [
       "<tf.Tensor: id=69, shape=(2, 5, 6), dtype=int64, numpy=\n",
       "array([[[80, 91, 86, 77, 75, 96],\n",
       "        [92, 75, 76, 92, 85, 90],\n",
       "        [70, 90, 42, 52, 85, 95],\n",
       "        [65, 68, 72, 60, 92, 81],\n",
       "        [92, 85, 88, 80, 95, 72]],\n",
       "\n",
       "       [[85, 93, 89, 80, 70, 90],\n",
       "        [95, 70, 78, 94, 82, 76],\n",
       "        [90, 80, 55, 59, 81, 93],\n",
       "        [66, 60, 75, 72, 95, 82],\n",
       "        [93, 81, 80, 90, 72, 89]]])>"
      ]
     },
     "execution_count": 24,
     "metadata": {},
     "output_type": "execute_result"
    }
   ],
   "source": [
    "transposed_tensor = tf.transpose(scores_tensor,[0,2,1])\n",
    "transposed_tensor"
   ]
  },
  {
   "cell_type": "code",
   "execution_count": 25,
   "metadata": {},
   "outputs": [
    {
     "data": {
      "text/plain": [
       "<tf.Tensor: id=72, shape=(2, 6), dtype=int64, numpy=\n",
       "array([[70, 90, 42, 52, 85, 95],\n",
       "       [93, 81, 80, 90, 72, 89]])>"
      ]
     },
     "execution_count": 25,
     "metadata": {},
     "output_type": "execute_result"
    }
   ],
   "source": [
    "tf.gather_nd(transposed_tensor,[[0,2],[1,4]])"
   ]
  },
  {
   "cell_type": "markdown",
   "metadata": {},
   "source": [
    "## 3. 텐서를 합치고 쪼개는 메소드들 \n",
    "\n",
    "---\n",
    "\n",
    "+ 서로 다른 두 텐서를 합치고, 쪼개는 방식에 대해 배워보겠습니다."
   ]
  },
  {
   "cell_type": "markdown",
   "metadata": {},
   "source": [
    "### (1) tf.stack\n",
    "Tensor을 특정 축의 방향에 따라 쌓기 위해서는 `tf.stack`을 이용하면 됩니다."
   ]
  },
  {
   "cell_type": "code",
   "execution_count": 26,
   "metadata": {},
   "outputs": [],
   "source": [
    "middle_tensor = scores_tensor[0]\n",
    "final_tensor = scores_tensor[1]"
   ]
  },
  {
   "cell_type": "code",
   "execution_count": 27,
   "metadata": {},
   "outputs": [
    {
     "data": {
      "text/plain": [
       "array([[[80, 92, 70, 65, 92],\n",
       "        [91, 75, 90, 68, 85],\n",
       "        [86, 76, 42, 72, 88],\n",
       "        [77, 92, 52, 60, 80],\n",
       "        [75, 85, 85, 92, 95],\n",
       "        [96, 90, 95, 81, 72]],\n",
       "\n",
       "       [[85, 95, 90, 66, 93],\n",
       "        [93, 70, 80, 60, 81],\n",
       "        [89, 78, 55, 75, 80],\n",
       "        [80, 94, 59, 72, 90],\n",
       "        [70, 82, 81, 95, 72],\n",
       "        [90, 76, 93, 82, 89]]])"
      ]
     },
     "execution_count": 27,
     "metadata": {},
     "output_type": "execute_result"
    }
   ],
   "source": [
    "# 0차원 축으로 쌓기\n",
    "tf.stack([middle_tensor,final_tensor]).numpy()"
   ]
  },
  {
   "cell_type": "code",
   "execution_count": 28,
   "metadata": {},
   "outputs": [
    {
     "data": {
      "text/plain": [
       "array([[[80, 92, 70, 65, 92],\n",
       "        [85, 95, 90, 66, 93]],\n",
       "\n",
       "       [[91, 75, 90, 68, 85],\n",
       "        [93, 70, 80, 60, 81]],\n",
       "\n",
       "       [[86, 76, 42, 72, 88],\n",
       "        [89, 78, 55, 75, 80]],\n",
       "\n",
       "       [[77, 92, 52, 60, 80],\n",
       "        [80, 94, 59, 72, 90]],\n",
       "\n",
       "       [[75, 85, 85, 92, 95],\n",
       "        [70, 82, 81, 95, 72]],\n",
       "\n",
       "       [[96, 90, 95, 81, 72],\n",
       "        [90, 76, 93, 82, 89]]])"
      ]
     },
     "execution_count": 28,
     "metadata": {},
     "output_type": "execute_result"
    }
   ],
   "source": [
    "# 1차원 축으로 쌓기\n",
    "tf.stack([middle_tensor,final_tensor],axis=1).numpy()"
   ]
  },
  {
   "cell_type": "code",
   "execution_count": 29,
   "metadata": {},
   "outputs": [
    {
     "data": {
      "text/plain": [
       "array([[[80, 85],\n",
       "        [92, 95],\n",
       "        [70, 90],\n",
       "        [65, 66],\n",
       "        [92, 93]],\n",
       "\n",
       "       [[91, 93],\n",
       "        [75, 70],\n",
       "        [90, 80],\n",
       "        [68, 60],\n",
       "        [85, 81]],\n",
       "\n",
       "       [[86, 89],\n",
       "        [76, 78],\n",
       "        [42, 55],\n",
       "        [72, 75],\n",
       "        [88, 80]],\n",
       "\n",
       "       [[77, 80],\n",
       "        [92, 94],\n",
       "        [52, 59],\n",
       "        [60, 72],\n",
       "        [80, 90]],\n",
       "\n",
       "       [[75, 70],\n",
       "        [85, 82],\n",
       "        [85, 81],\n",
       "        [92, 95],\n",
       "        [95, 72]],\n",
       "\n",
       "       [[96, 90],\n",
       "        [90, 76],\n",
       "        [95, 93],\n",
       "        [81, 82],\n",
       "        [72, 89]]])"
      ]
     },
     "execution_count": 29,
     "metadata": {},
     "output_type": "execute_result"
    }
   ],
   "source": [
    "# 2차원 축으로 쌓기\n",
    "tf.stack([middle_tensor,final_tensor],axis=2).numpy()"
   ]
  },
  {
   "cell_type": "markdown",
   "metadata": {},
   "source": [
    "### (2) tf.unstack\n",
    "Tensor을 특정 축의 방향에 따라 쪼개기 위해서는 `tf.unstack`을 이용하면 됩니다."
   ]
  },
  {
   "cell_type": "code",
   "execution_count": 30,
   "metadata": {},
   "outputs": [
    {
     "data": {
      "text/plain": [
       "[<tf.Tensor: id=88, shape=(6, 5), dtype=int64, numpy=\n",
       " array([[80, 92, 70, 65, 92],\n",
       "        [91, 75, 90, 68, 85],\n",
       "        [86, 76, 42, 72, 88],\n",
       "        [77, 92, 52, 60, 80],\n",
       "        [75, 85, 85, 92, 95],\n",
       "        [96, 90, 95, 81, 72]])>,\n",
       " <tf.Tensor: id=89, shape=(6, 5), dtype=int64, numpy=\n",
       " array([[85, 95, 90, 66, 93],\n",
       "        [93, 70, 80, 60, 81],\n",
       "        [89, 78, 55, 75, 80],\n",
       "        [80, 94, 59, 72, 90],\n",
       "        [70, 82, 81, 95, 72],\n",
       "        [90, 76, 93, 82, 89]])>]"
      ]
     },
     "execution_count": 30,
     "metadata": {},
     "output_type": "execute_result"
    }
   ],
   "source": [
    "# 중간 / 기말로 쪼개기\n",
    "tf.unstack(scores_tensor)"
   ]
  },
  {
   "cell_type": "code",
   "execution_count": 31,
   "metadata": {},
   "outputs": [
    {
     "data": {
      "text/plain": [
       "[<tf.Tensor: id=92, shape=(2, 5), dtype=int64, numpy=\n",
       " array([[80, 92, 70, 65, 92],\n",
       "        [85, 95, 90, 66, 93]])>,\n",
       " <tf.Tensor: id=93, shape=(2, 5), dtype=int64, numpy=\n",
       " array([[91, 75, 90, 68, 85],\n",
       "        [93, 70, 80, 60, 81]])>,\n",
       " <tf.Tensor: id=94, shape=(2, 5), dtype=int64, numpy=\n",
       " array([[86, 76, 42, 72, 88],\n",
       "        [89, 78, 55, 75, 80]])>,\n",
       " <tf.Tensor: id=95, shape=(2, 5), dtype=int64, numpy=\n",
       " array([[77, 92, 52, 60, 80],\n",
       "        [80, 94, 59, 72, 90]])>,\n",
       " <tf.Tensor: id=96, shape=(2, 5), dtype=int64, numpy=\n",
       " array([[75, 85, 85, 92, 95],\n",
       "        [70, 82, 81, 95, 72]])>,\n",
       " <tf.Tensor: id=97, shape=(2, 5), dtype=int64, numpy=\n",
       " array([[96, 90, 95, 81, 72],\n",
       "        [90, 76, 93, 82, 89]])>]"
      ]
     },
     "execution_count": 31,
     "metadata": {},
     "output_type": "execute_result"
    }
   ],
   "source": [
    "# 학생 별로 쪼개기\n",
    "tf.unstack(scores_tensor,axis=1)"
   ]
  },
  {
   "cell_type": "code",
   "execution_count": 32,
   "metadata": {},
   "outputs": [
    {
     "data": {
      "text/plain": [
       "[<tf.Tensor: id=104, shape=(2, 6), dtype=int64, numpy=\n",
       " array([[80, 91, 86, 77, 75, 96],\n",
       "        [85, 93, 89, 80, 70, 90]])>,\n",
       " <tf.Tensor: id=105, shape=(2, 6), dtype=int64, numpy=\n",
       " array([[92, 75, 76, 92, 85, 90],\n",
       "        [95, 70, 78, 94, 82, 76]])>,\n",
       " <tf.Tensor: id=106, shape=(2, 6), dtype=int64, numpy=\n",
       " array([[70, 90, 42, 52, 85, 95],\n",
       "        [90, 80, 55, 59, 81, 93]])>,\n",
       " <tf.Tensor: id=107, shape=(2, 6), dtype=int64, numpy=\n",
       " array([[65, 68, 72, 60, 92, 81],\n",
       "        [66, 60, 75, 72, 95, 82]])>,\n",
       " <tf.Tensor: id=108, shape=(2, 6), dtype=int64, numpy=\n",
       " array([[92, 85, 88, 80, 95, 72],\n",
       "        [93, 81, 80, 90, 72, 89]])>]"
      ]
     },
     "execution_count": 32,
     "metadata": {},
     "output_type": "execute_result"
    }
   ],
   "source": [
    "# 과목 별로 쪼개기\n",
    "tf.unstack(scores_tensor,axis=2)"
   ]
  },
  {
   "cell_type": "markdown",
   "metadata": {},
   "source": [
    "### (3) tf.concat\n",
    "Tensor을 특정 축의 방향에 따라 합치기 위해서는 `tf.concat`을 이용하면 됩니다."
   ]
  },
  {
   "cell_type": "code",
   "execution_count": 33,
   "metadata": {},
   "outputs": [
    {
     "data": {
      "text/plain": [
       "<tf.Tensor: id=123, shape=(12, 5), dtype=int64, numpy=\n",
       "array([[80, 92, 70, 65, 92],\n",
       "       [91, 75, 90, 68, 85],\n",
       "       [86, 76, 42, 72, 88],\n",
       "       [77, 92, 52, 60, 80],\n",
       "       [75, 85, 85, 92, 95],\n",
       "       [96, 90, 95, 81, 72],\n",
       "       [85, 95, 90, 66, 93],\n",
       "       [93, 70, 80, 60, 81],\n",
       "       [89, 78, 55, 75, 80],\n",
       "       [80, 94, 59, 72, 90],\n",
       "       [70, 82, 81, 95, 72],\n",
       "       [90, 76, 93, 82, 89]])>"
      ]
     },
     "execution_count": 33,
     "metadata": {},
     "output_type": "execute_result"
    }
   ],
   "source": [
    "# 0번째 축으로 쌓기\n",
    "middle_tensor = scores_tensor[0]\n",
    "final_tensor = scores_tensor[1]\n",
    "\n",
    "tf.concat([middle_tensor,final_tensor],axis=0)"
   ]
  },
  {
   "cell_type": "code",
   "execution_count": 34,
   "metadata": {},
   "outputs": [
    {
     "data": {
      "text/plain": [
       "<tf.Tensor: id=134, shape=(6, 10), dtype=int64, numpy=\n",
       "array([[80, 92, 70, 65, 92, 85, 95, 90, 66, 93],\n",
       "       [91, 75, 90, 68, 85, 93, 70, 80, 60, 81],\n",
       "       [86, 76, 42, 72, 88, 89, 78, 55, 75, 80],\n",
       "       [77, 92, 52, 60, 80, 80, 94, 59, 72, 90],\n",
       "       [75, 85, 85, 92, 95, 70, 82, 81, 95, 72],\n",
       "       [96, 90, 95, 81, 72, 90, 76, 93, 82, 89]])>"
      ]
     },
     "execution_count": 34,
     "metadata": {},
     "output_type": "execute_result"
    }
   ],
   "source": [
    "# 1번째 축으로 쌓기\n",
    "middle_tensor = scores_tensor[0]\n",
    "final_tensor = scores_tensor[1]\n",
    "\n",
    "tf.concat([middle_tensor,final_tensor],axis=1)"
   ]
  },
  {
   "cell_type": "markdown",
   "metadata": {},
   "source": [
    "## 4. 텐서를 생성하는 메소드들 \n",
    "\n",
    "---\n",
    "\n",
    "+ 원하는 형태의 텐서를 생성하는 여러가지 메소드들에 대해 배워보겠습니다."
   ]
  },
  {
   "cell_type": "markdown",
   "metadata": {},
   "source": [
    "### (1) tf.ones & tf.ones_like\n",
    "원소의 값이 1인 Tensor을 만들기 위한 메소드들입니다."
   ]
  },
  {
   "cell_type": "code",
   "execution_count": 35,
   "metadata": {},
   "outputs": [
    {
     "data": {
      "text/plain": [
       "array([[1., 1., 1.],\n",
       "       [1., 1., 1.],\n",
       "       [1., 1., 1.]], dtype=float32)"
      ]
     },
     "execution_count": 35,
     "metadata": {},
     "output_type": "execute_result"
    }
   ],
   "source": [
    "# shape을 지정\n",
    "tf.ones([3,3]).numpy()"
   ]
  },
  {
   "cell_type": "code",
   "execution_count": 36,
   "metadata": {},
   "outputs": [
    {
     "data": {
      "text/plain": [
       "array([[[1, 1, 1, 1, 1],\n",
       "        [1, 1, 1, 1, 1],\n",
       "        [1, 1, 1, 1, 1],\n",
       "        [1, 1, 1, 1, 1],\n",
       "        [1, 1, 1, 1, 1],\n",
       "        [1, 1, 1, 1, 1]],\n",
       "\n",
       "       [[1, 1, 1, 1, 1],\n",
       "        [1, 1, 1, 1, 1],\n",
       "        [1, 1, 1, 1, 1],\n",
       "        [1, 1, 1, 1, 1],\n",
       "        [1, 1, 1, 1, 1],\n",
       "        [1, 1, 1, 1, 1]]])"
      ]
     },
     "execution_count": 36,
     "metadata": {},
     "output_type": "execute_result"
    }
   ],
   "source": [
    "# 해당 텐서와 같은 크기의 ones 행렬 만들기\n",
    "tf.ones_like(scores_tensor).numpy()"
   ]
  },
  {
   "cell_type": "code",
   "execution_count": 37,
   "metadata": {},
   "outputs": [
    {
     "data": {
      "text/plain": [
       "array([[[1., 1., 1., 1., 1.],\n",
       "        [1., 1., 1., 1., 1.],\n",
       "        [1., 1., 1., 1., 1.],\n",
       "        [1., 1., 1., 1., 1.],\n",
       "        [1., 1., 1., 1., 1.],\n",
       "        [1., 1., 1., 1., 1.]],\n",
       "\n",
       "       [[1., 1., 1., 1., 1.],\n",
       "        [1., 1., 1., 1., 1.],\n",
       "        [1., 1., 1., 1., 1.],\n",
       "        [1., 1., 1., 1., 1.],\n",
       "        [1., 1., 1., 1., 1.],\n",
       "        [1., 1., 1., 1., 1.]]], dtype=float32)"
      ]
     },
     "execution_count": 37,
     "metadata": {},
     "output_type": "execute_result"
    }
   ],
   "source": [
    "# ones_like는 이것과 동일합니다.\n",
    "score_shape = tf.shape(scores_tensor)\n",
    "tf.ones(score_shape).numpy()"
   ]
  },
  {
   "cell_type": "markdown",
   "metadata": {},
   "source": [
    "### (2) tf.tile\n",
    "tensor을 각 축 방향으로 tile처럼 복사하는 메소드입니다."
   ]
  },
  {
   "cell_type": "code",
   "execution_count": 38,
   "metadata": {},
   "outputs": [
    {
     "data": {
      "text/plain": [
       "<tf.Tensor: id=148, shape=(2, 3), dtype=int32, numpy=\n",
       "array([[0, 1, 2],\n",
       "       [2, 3, 4]], dtype=int32)>"
      ]
     },
     "execution_count": 38,
     "metadata": {},
     "output_type": "execute_result"
    }
   ],
   "source": [
    "nums_tensor = tf.constant([[0,1,2],[2,3,4]])\n",
    "nums_tensor"
   ]
  },
  {
   "cell_type": "code",
   "execution_count": 39,
   "metadata": {},
   "outputs": [
    {
     "data": {
      "text/plain": [
       "<tf.Tensor: id=151, shape=(2, 3), dtype=int32, numpy=\n",
       "array([[0, 1, 2],\n",
       "       [2, 3, 4]], dtype=int32)>"
      ]
     },
     "execution_count": 39,
     "metadata": {},
     "output_type": "execute_result"
    }
   ],
   "source": [
    "tf.tile(nums_tensor,[1,1])"
   ]
  },
  {
   "cell_type": "code",
   "execution_count": 40,
   "metadata": {},
   "outputs": [
    {
     "data": {
      "text/plain": [
       "<tf.Tensor: id=154, shape=(4, 3), dtype=int32, numpy=\n",
       "array([[0, 1, 2],\n",
       "       [2, 3, 4],\n",
       "       [0, 1, 2],\n",
       "       [2, 3, 4]], dtype=int32)>"
      ]
     },
     "execution_count": 40,
     "metadata": {},
     "output_type": "execute_result"
    }
   ],
   "source": [
    "tf.tile(nums_tensor,[2,1])"
   ]
  },
  {
   "cell_type": "code",
   "execution_count": 41,
   "metadata": {},
   "outputs": [
    {
     "data": {
      "text/plain": [
       "<tf.Tensor: id=157, shape=(2, 9), dtype=int32, numpy=\n",
       "array([[0, 1, 2, 0, 1, 2, 0, 1, 2],\n",
       "       [2, 3, 4, 2, 3, 4, 2, 3, 4]], dtype=int32)>"
      ]
     },
     "execution_count": 41,
     "metadata": {},
     "output_type": "execute_result"
    }
   ],
   "source": [
    "tf.tile(nums_tensor,[1,3])"
   ]
  },
  {
   "cell_type": "code",
   "execution_count": 42,
   "metadata": {},
   "outputs": [
    {
     "data": {
      "text/plain": [
       "<tf.Tensor: id=160, shape=(4, 9), dtype=int32, numpy=\n",
       "array([[0, 1, 2, 0, 1, 2, 0, 1, 2],\n",
       "       [2, 3, 4, 2, 3, 4, 2, 3, 4],\n",
       "       [0, 1, 2, 0, 1, 2, 0, 1, 2],\n",
       "       [2, 3, 4, 2, 3, 4, 2, 3, 4]], dtype=int32)>"
      ]
     },
     "execution_count": 42,
     "metadata": {},
     "output_type": "execute_result"
    }
   ],
   "source": [
    "tf.tile(nums_tensor,[2,3])"
   ]
  },
  {
   "cell_type": "markdown",
   "metadata": {},
   "source": [
    "### (3) tf.meshgrid\n",
    "meshgrid는 직교 좌표계(cartesian coordinates)를 만들어주는 메소드입니다."
   ]
  },
  {
   "cell_type": "code",
   "execution_count": 43,
   "metadata": {},
   "outputs": [
    {
     "data": {
      "text/plain": [
       "[<tf.Tensor: id=187, shape=(3, 3), dtype=int32, numpy=\n",
       " array([[1, 2, 3],\n",
       "        [1, 2, 3],\n",
       "        [1, 2, 3]], dtype=int32)>,\n",
       " <tf.Tensor: id=188, shape=(3, 3), dtype=int32, numpy=\n",
       " array([[2, 2, 2],\n",
       "        [3, 3, 3],\n",
       "        [4, 4, 4]], dtype=int32)>]"
      ]
     },
     "execution_count": 43,
     "metadata": {},
     "output_type": "execute_result"
    }
   ],
   "source": [
    "tf.meshgrid([1,2,3],[2,3,4])"
   ]
  },
  {
   "cell_type": "code",
   "execution_count": 44,
   "metadata": {},
   "outputs": [
    {
     "data": {
      "text/plain": [
       "<tf.Tensor: id=218, shape=(3, 3, 2), dtype=int32, numpy=\n",
       "array([[[1, 2],\n",
       "        [2, 2],\n",
       "        [3, 2]],\n",
       "\n",
       "       [[1, 3],\n",
       "        [2, 3],\n",
       "        [3, 3]],\n",
       "\n",
       "       [[1, 4],\n",
       "        [2, 4],\n",
       "        [3, 4]]], dtype=int32)>"
      ]
     },
     "execution_count": 44,
     "metadata": {},
     "output_type": "execute_result"
    }
   ],
   "source": [
    "# meshgrid는 주로 stack과 같이 이용합니다. \n",
    "xs, ys = tf.meshgrid([1,2,3],[2,3,4])\n",
    "tf.stack([xs,ys],axis=-1)"
   ]
  },
  {
   "cell_type": "markdown",
   "metadata": {},
   "source": [
    "#  \n",
    "\n",
    "---\n",
    "\n",
    "    Copyright(c) 2019 by Public AI. All rights reserved.\n",
    "    Writen by PAI, SangJae Kang ( rocketgrowthsj@publicai.co.kr )  last updated on 2019/03/22\n",
    "\n",
    "\n",
    "---"
   ]
  }
 ],
 "metadata": {
  "kernelspec": {
   "display_name": "Python 3",
   "language": "python",
   "name": "python3"
  },
  "language_info": {
   "codemirror_mode": {
    "name": "ipython",
    "version": 3
   },
   "file_extension": ".py",
   "mimetype": "text/x-python",
   "name": "python",
   "nbconvert_exporter": "python",
   "pygments_lexer": "ipython3",
   "version": "3.6.5"
  }
 },
 "nbformat": 4,
 "nbformat_minor": 2
}
