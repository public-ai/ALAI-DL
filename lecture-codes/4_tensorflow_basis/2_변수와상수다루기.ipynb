{
 "cells": [
  {
   "cell_type": "markdown",
   "metadata": {
    "colab_type": "text",
    "id": "JwXVP87OO6RW"
   },
   "source": [
    " ╔══<i><b>Alai-DeepLearning</b></i>═══════════════════════════╗\n",
    "###  &nbsp;&nbsp; **✎&nbsp;&nbsp;week 4. Tensorflow basis**\n",
    "# Section 2. 변수와 상수 다루기\n",
    "\n",
    "### _Objective_\n",
    "1. 텐서플로우에서 모든 연산은 Node로 구성되어 있습니다. <br>\n",
    "2. 이번 수업에서는 텐서플로우에서 수를 다루는 Node들에 대해 배워보겠습니다. <br>\n",
    "\n",
    "╚════════════════════════════════════════╝"
   ]
  },
  {
   "cell_type": "code",
   "execution_count": 1,
   "metadata": {
    "colab": {},
    "colab_type": "code",
    "id": "k-o8zDSkO6RZ"
   },
   "outputs": [],
   "source": [
    "%matplotlib inline\n",
    "import numpy as np\n",
    "import tensorflow as tf \n",
    "import matplotlib.pyplot as plt"
   ]
  },
  {
   "cell_type": "markdown",
   "metadata": {},
   "source": [
    "### [Optional.  Tensorflow Graph Visualization ]\n",
    "\n",
    "---\n",
    "\n",
    "> _Jupyter에서 Tensorflow에서 구성되는 Graph를 시각적으로 보여주기 위한 helper 메소드입니다._<br>\n"
   ]
  },
  {
   "cell_type": "code",
   "execution_count": 2,
   "metadata": {},
   "outputs": [],
   "source": [
    "from IPython.display import clear_output, Image, display, HTML\n",
    "import numpy as np    \n",
    "\n",
    "def strip_consts(graph_def, max_const_size=32):\n",
    "    \"\"\"Strip large constant values from graph_def.\"\"\"\n",
    "    strip_def = tf.GraphDef()\n",
    "    for n0 in graph_def.node:\n",
    "        n = strip_def.node.add() \n",
    "        n.MergeFrom(n0)\n",
    "        if n.op == 'Const':\n",
    "            tensor = n.attr['value'].tensor\n",
    "            size = len(tensor.tensor_content)\n",
    "            if size > max_const_size:\n",
    "                tensor.tensor_content = \"<stripped %d bytes>\"%size\n",
    "    return strip_def\n",
    "\n",
    "def show_graph(graph_def, max_const_size=32):\n",
    "    \"\"\"Visualize TensorFlow graph.\"\"\"\n",
    "    if hasattr(graph_def, 'as_graph_def'):\n",
    "        graph_def = graph_def.as_graph_def()\n",
    "    strip_def = strip_consts(graph_def, max_const_size=max_const_size)\n",
    "    code = \"\"\"\n",
    "        <script>\n",
    "          function load() {{\n",
    "            document.getElementById(\"{id}\").pbtxt = {data};\n",
    "          }}\n",
    "        </script>\n",
    "        <link rel=\"import\" href=\"https://tensorboard.appspot.com/tf-graph-basic.build.html\" onload=load()>\n",
    "        <div style=\"height:600px\">\n",
    "          <tf-graph-basic id=\"{id}\"></tf-graph-basic>\n",
    "        </div>\n",
    "    \"\"\".format(data=repr(str(strip_def)), id='graph'+str(np.random.rand()))\n",
    "\n",
    "    iframe = \"\"\"\n",
    "        <iframe seamless style=\"width:1200px;height:620px;border:0\" srcdoc=\"{}\"></iframe>\n",
    "    \"\"\".format(code.replace('\"', '&quot;'))\n",
    "    display(HTML(iframe))"
   ]
  },
  {
   "cell_type": "markdown",
   "metadata": {
    "colab_type": "text",
    "id": "-xLXSgg4O6Rd"
   },
   "source": [
    "# \\[ 1.Constant  \\]\n",
    "\n",
    "---\n",
    "\n",
    "---\n",
    "\n",
    ">  Tensorflow 을 이용해 상수를 만드는 법을 알아봅니다. "
   ]
  },
  {
   "cell_type": "markdown",
   "metadata": {
    "colab_type": "text",
    "id": "M1nhRjsbO6Rl"
   },
   "source": [
    " ## 1. 상수 만들기 \n",
    "\n",
    "---\n",
    "\n",
    "+ 상수(Constant)는 변하지 않는 값입니다. 상수를 생성하는 Node를 만드는 법에 대해 알아봅니다."
   ]
  },
  {
   "cell_type": "markdown",
   "metadata": {
    "colab_type": "text",
    "id": "M5lg56WYjS7J"
   },
   "source": [
    "### (1) Tensorflow 로 상수를 만드는 법  \n",
    "`tf.constant` 을 이용해 상수 Tensor 을 만들 수 있습니다."
   ]
  },
  {
   "cell_type": "code",
   "execution_count": 3,
   "metadata": {
    "colab": {
     "base_uri": "https://localhost:8080/",
     "height": 50
    },
    "colab_type": "code",
    "id": "Fgh-n9RNTZ_8",
    "outputId": "f3066d88-04fa-4e43-f90c-7c1db96002fc"
   },
   "outputs": [
    {
     "data": {
      "text/plain": [
       "3"
      ]
     },
     "execution_count": 3,
     "metadata": {},
     "output_type": "execute_result"
    }
   ],
   "source": [
    "a=tf.constant(3, name='const0')\n",
    "sess = tf.Session()\n",
    "sess.run(a)"
   ]
  },
  {
   "cell_type": "markdown",
   "metadata": {
    "colab_type": "text",
    "id": "Ea-uV6sNTNtQ"
   },
   "source": [
    "### (2) python value , list 을 이용한 Constant Tensor 만들기\n",
    "list을 이용해 상수 Tensor를 만들 수 있습니다. "
   ]
  },
  {
   "cell_type": "code",
   "execution_count": 4,
   "metadata": {
    "colab": {
     "base_uri": "https://localhost:8080/",
     "height": 33
    },
    "colab_type": "code",
    "id": "WZ8FKYodTnJ7",
    "outputId": "b2d4936a-9cd5-46dc-9e7e-eb5f72b22035"
   },
   "outputs": [
    {
     "name": "stdout",
     "output_type": "stream",
     "text": [
      "3 [1 2 3 4]\n"
     ]
    }
   ],
   "source": [
    "tf.reset_default_graph()\n",
    "a = tf.constant(3, name='const_0')\n",
    "b = tf.constant([1,2,3,4], name='const_1') \n",
    "sess = tf.Session()\n",
    "a_ ,b_ = sess.run([a,b])\n",
    "print(a_, b_)"
   ]
  },
  {
   "cell_type": "code",
   "execution_count": 5,
   "metadata": {
    "colab": {
     "base_uri": "https://localhost:8080/",
     "height": 33
    },
    "colab_type": "code",
    "id": "LrNqtnpwTnMK",
    "outputId": "74cff4b7-7e9a-48d7-b4da-b1391e7c57a5"
   },
   "outputs": [
    {
     "name": "stdout",
     "output_type": "stream",
     "text": [
      "[[3 3]]\n"
     ]
    }
   ],
   "source": [
    "tf.reset_default_graph()\n",
    "a = tf.constant([3], shape=[1,2], name='const_0')\n",
    "sess = tf.Session()\n",
    "a_ = sess.run(a)\n",
    "print(a_)"
   ]
  },
  {
   "cell_type": "markdown",
   "metadata": {
    "colab_type": "text",
    "id": "L3QIZjf_kphH"
   },
   "source": [
    "### (3)  Numpy 을 이용해 Constant Tensor 만들기\n",
    "numpy.array을 이용해 상수 Tensor를 만들수 있습니다. "
   ]
  },
  {
   "cell_type": "code",
   "execution_count": 6,
   "metadata": {
    "colab": {
     "base_uri": "https://localhost:8080/",
     "height": 33
    },
    "colab_type": "code",
    "id": "X3t-r2vHlB4B",
    "outputId": "d5a8f164-4cbd-4c23-cae8-a4f4995abc1b"
   },
   "outputs": [
    {
     "name": "stdout",
     "output_type": "stream",
     "text": [
      "[1 2 3]\n"
     ]
    }
   ],
   "source": [
    "tf.reset_default_graph()\n",
    "a = np.array([1, 2, 3])\n",
    "tensor_a = tf.constant(a, name='const_0')\n",
    "sess = tf.Session()\n",
    "a_ = sess.run(tensor_a)\n",
    "print(a_)"
   ]
  },
  {
   "cell_type": "markdown",
   "metadata": {
    "colab_type": "text",
    "id": "QWXe1bZZlrXt"
   },
   "source": [
    "### 예제 1)\n",
    "numpy 을 이용해  -10 ~ 10 까지 0.01  단위로 <br>\n",
    "`t * tf.sin(t) / 3 + 2 * tf.sin(t * 5)`  을 통과시킨 후 <br>\n",
    "해당 ndarray 을 텐서로 변환해 보세요. 그리고 화면에 출력해 보세요"
   ]
  },
  {
   "cell_type": "code",
   "execution_count": 7,
   "metadata": {
    "colab": {
     "base_uri": "https://localhost:8080/",
     "height": 264
    },
    "colab_type": "code",
    "id": "Qd1GFVFplgqa",
    "outputId": "7d4f1b1c-bcea-4445-ccd9-bc4904ace145"
   },
   "outputs": [
    {
     "data": {
      "image/png": "[encoded data removed]",
      "text/plain": [
       "<Figure size 432x288 with 1 Axes>"
      ]
     },
     "metadata": {},
     "output_type": "display_data"
    }
   ],
   "source": [
    "xs = np.arange(-10,10,0.01)\n",
    "ys = xs * tf.sin(xs) / 3 + 2 * tf.sin(xs *5 )\n",
    "\n",
    "sess = tf.Session()\n",
    "ys_ = sess.run(ys)\n",
    "\n",
    "plt.scatter(xs, ys_)\n",
    "plt.show()"
   ]
  },
  {
   "cell_type": "markdown",
   "metadata": {
    "colab_type": "text",
    "id": "yD9-o--XU0og"
   },
   "source": [
    " ## 2. 무작위 상수 만들기 \n",
    "\n",
    "---\n",
    "\n",
    "+ random 으로 뽑혀지는 상수를 만들수 있습니다. "
   ]
  },
  {
   "cell_type": "markdown",
   "metadata": {
    "colab_type": "text",
    "id": "gH9b-xbaTN2P"
   },
   "source": [
    "### (1) random_normal \n",
    "보통 확률에서 normal 이란 정규 분포를 의미 합니다. <br>\n",
    "정규 분포는 mean 에 가까울수록 높은 확률로 뽑힙니다. <br>\n",
    "stddev 가 낮을수록 mean 에 가까운 숫자들이 뽑힐 확률이 높습니다. <br> \n",
    "`tf.random_normal(mean , stddev , name)` 을 이용해 만들수 있습니다 "
   ]
  },
  {
   "cell_type": "code",
   "execution_count": 8,
   "metadata": {
    "colab": {
     "base_uri": "https://localhost:8080/",
     "height": 50
    },
    "colab_type": "code",
    "id": "2l1kQpQ6VXap",
    "outputId": "e6fe725c-a2d6-4d3a-a6b0-8816856d3afd"
   },
   "outputs": [
    {
     "name": "stdout",
     "output_type": "stream",
     "text": [
      "Tensor(\"rand_const:0\", shape=(), dtype=float32)\n"
     ]
    },
    {
     "data": {
      "text/plain": [
       "1.5126401"
      ]
     },
     "execution_count": 8,
     "metadata": {},
     "output_type": "execute_result"
    }
   ],
   "source": [
    "rand_const = tf.random_normal(shape=[] , mean=0.0 , stddev=1.0 ,name='rand_const')\n",
    "print(rand_const)\n",
    "sess = tf.Session()\n",
    "sess.run(rand_const)"
   ]
  },
  {
   "cell_type": "markdown",
   "metadata": {
    "colab_type": "text",
    "id": "yI94y5SEWVnY"
   },
   "source": [
    "### 예제 1)\n",
    "tf.random_normal 을 이용해서 shape = [2,2 ] 이고 mean =0.0 stddev = 1.0 인 Tensor 을 만들어 보세요.<br> 그리고 실행시켜 보세요."
   ]
  },
  {
   "cell_type": "code",
   "execution_count": 9,
   "metadata": {
    "colab": {
     "base_uri": "https://localhost:8080/",
     "height": 50
    },
    "colab_type": "code",
    "id": "ZJsd-w-BW541",
    "outputId": "f2937134-eeb6-4d03-8b13-ce9f3fec3364"
   },
   "outputs": [
    {
     "data": {
      "text/plain": [
       "array([[-1.430562  ,  1.249702  ],\n",
       "       [-0.92942506, -0.41294512]], dtype=float32)"
      ]
     },
     "execution_count": 9,
     "metadata": {},
     "output_type": "execute_result"
    }
   ],
   "source": [
    "rand_normal = tf.random_normal(mean=0.0 , stddev=1.0 , shape=[2,2])\n",
    "sess = tf.Session()\n",
    "sess.run(rand_normal)"
   ]
  },
  {
   "cell_type": "markdown",
   "metadata": {
    "colab_type": "text",
    "id": "bxqqTTW6YB_0"
   },
   "source": [
    "### 예제 2)\n",
    "tf.random_normal 을 이용해서 <br>\n",
    "shape = [28,28 ] 이고 <br>\n",
    "mean =0.0 stddev = 0.1 , mean =0.0 stddev = 1.0, mean =0.0 stddev = 10.0<br>\n",
    "인 Tensor 을 만들어 보세요.<br> \n",
    "그리고 실행시켜 보세요.<br>\n",
    "matplotlib  을 이용해 각각의 결과를  하나의 figure 에 에 출력해 보세요\n"
   ]
  },
  {
   "cell_type": "code",
   "execution_count": 10,
   "metadata": {
    "colab": {
     "base_uri": "https://localhost:8080/",
     "height": 150
    },
    "colab_type": "code",
    "id": "QwjpKe7fYB_1",
    "outputId": "9d4efb87-7921-42cd-d3c2-103bdf6ad792"
   },
   "outputs": [
    {
     "data": {
      "image/png": "[encoded data removed]",
      "text/plain": [
       "<Figure size 432x288 with 3 Axes>"
      ]
     },
     "metadata": {},
     "output_type": "display_data"
    }
   ],
   "source": [
    "rand_normal = tf.random_normal(mean=0.0 , stddev=0.1 , shape=[28,28])\n",
    "rand_normal_1 = tf.random_normal(mean=0.0 , stddev=1.0 , shape=[28,28])\n",
    "rand_normal_2 = tf.random_normal(mean=0.0 , stddev=10.0 , shape=[28,28])\n",
    "sess = tf.Session()\n",
    "rand_noraml_, rand_normal_1_, rand_normal_2_ = sess.run([rand_normal,rand_normal_1,rand_normal_2])\n",
    "fig = plt.figure()\n",
    "ax = fig.add_subplot(1,3,1)\n",
    "ax.imshow(rand_noraml_)\n",
    "ax = fig.add_subplot(1,3,2)\n",
    "ax.imshow(rand_normal_1_)\n",
    "ax = fig.add_subplot(1,3,3)\n",
    "ax.imshow(rand_normal_2_)\n",
    "\n",
    "plt.show()"
   ]
  },
  {
   "cell_type": "markdown",
   "metadata": {
    "colab_type": "text",
    "id": "l1Uc7mCsZwzG"
   },
   "source": [
    "### 예제 3)\n",
    "tf.random_normal 을 이용해서<br>\n",
    "mean =0.0 stddev = 0.1 ,<br>\n",
    "mean =0.0 stddev = 1.0, <br>\n",
    "mean =0.0 stddev = 10.0  일때, <br> \n",
    "10000개의 값을  만들고 histogram 을 만들어 보세요<br>\n",
    "matplotlib  을 이용해 각각의 결과를  하나의 figure 에 에 출력해 보세요\n"
   ]
  },
  {
   "cell_type": "code",
   "execution_count": 11,
   "metadata": {
    "colab": {
     "base_uri": "https://localhost:8080/",
     "height": 225
    },
    "colab_type": "code",
    "id": "YJRboo-ZZwzH",
    "outputId": "13433978-05e8-4fe0-d73f-bd212422b265"
   },
   "outputs": [
    {
     "data": {
      "image/png": "[encoded data removed]",
      "text/plain": [
       "<Figure size 576x216 with 3 Axes>"
      ]
     },
     "metadata": {},
     "output_type": "display_data"
    }
   ],
   "source": [
    "rand_normal = tf.random_normal(mean=0.0 , stddev=0.1 , shape=[10000])\n",
    "rand_normal_1 = tf.random_normal(mean=0.0 , stddev=1.0 , shape=[10000])\n",
    "rand_normal_2 = tf.random_normal(mean=0.0 , stddev=10.0 , shape=[10000])\n",
    "sess = tf.Session()\n",
    "rand_noraml_, rand_normal_1_, rand_normal_2_ = sess.run([rand_normal,rand_normal_1,rand_normal_2])\n",
    "\n",
    "fig = plt.figure(figsize=(8,3))\n",
    "ax = fig.add_subplot(1,3,1)\n",
    "ax.hist(rand_noraml_, bins=np.linspace(-1,1,100))\n",
    "ax = fig.add_subplot(1,3,2)\n",
    "ax.hist(rand_normal_1_,bins=np.linspace(-10,10,100))\n",
    "ax = fig.add_subplot(1,3,3)\n",
    "ax.hist(rand_normal_2_,bins=np.linspace(-100,100,100))\n",
    "\n",
    "plt.tight_layout()\n",
    "plt.show()"
   ]
  },
  {
   "cell_type": "markdown",
   "metadata": {
    "colab_type": "text",
    "id": "V3K6MLvxTN5u"
   },
   "source": [
    "### (2) random_uniform \n",
    "보통 확률에서 uniform  이란  같은 확률이라는 뜻입니다. <br>\n",
    "uniform 은 인자로 min 값과 max 값을 지정할수 있습니다 .<br>\n",
    "tf.random_uniform(shape=, minval, maxval)  을 이용해 만들수 있습니다.<br> \n",
    "\n",
    "\n",
    "\n"
   ]
  },
  {
   "cell_type": "markdown",
   "metadata": {
    "colab_type": "text",
    "id": "o7f7rKbNdSDy"
   },
   "source": [
    "### 예제 1)\n",
    "tf.random_uniform 을 이용해서<br>\n",
    "minval =0.0 maxval = 0.1 ,<br>\n",
    "minval = -1.0 maxval = 1.0, <br>\n",
    "minval = -100.0 maxval = 100.0, <br> \n",
    "10000개의 값을  만들고 histogram 을 만들어 보세요<br>\n",
    "matplotlib  을 이용해 각각의 결과를  하나의 figure 에 에 출력해 보세요\n"
   ]
  },
  {
   "cell_type": "code",
   "execution_count": 12,
   "metadata": {
    "colab": {
     "base_uri": "https://localhost:8080/",
     "height": 224
    },
    "colab_type": "code",
    "id": "MMhY8q6YcHbs",
    "outputId": "96c0dd7b-c65f-449f-ceb2-60eb839ff01d"
   },
   "outputs": [
    {
     "data": {
      "image/png": "[encoded data removed]",
      "text/plain": [
       "<Figure size 576x216 with 3 Axes>"
      ]
     },
     "metadata": {},
     "output_type": "display_data"
    }
   ],
   "source": [
    "rand_uniform = tf.random_uniform(minval=0.0 , maxval=0.1 , shape=[10000])\n",
    "rand_uniform_1 = tf.random_uniform(minval=-1.0 , maxval=1.0 , shape=[10000])\n",
    "rand_uniform_2 = tf.random_uniform(minval=-100.0 , maxval=100.0 , shape=[10000])\n",
    "sess = tf.Session()\n",
    "rand_noraml_, rand_uniform_1_, rand_uniform_2_ = sess.run([rand_uniform,rand_uniform_1,rand_uniform_2])\n",
    "\n",
    "fig = plt.figure(figsize=(8,3))\n",
    "ax = fig.add_subplot(1,3,1)\n",
    "ax.hist(rand_noraml_, bins=np.linspace(-3,3,100))\n",
    "ax = fig.add_subplot(1,3,2)\n",
    "ax.hist(rand_uniform_1_,bins=np.linspace(-3,3,100))\n",
    "ax = fig.add_subplot(1,3,3)\n",
    "ax.hist(rand_uniform_2_,bins=np.linspace(-3,3,100))\n",
    "\n",
    "plt.tight_layout()\n",
    "plt.show()"
   ]
  },
  {
   "cell_type": "markdown",
   "metadata": {
    "colab_type": "text",
    "id": "ZT6M1UIad-ec"
   },
   "source": [
    "### (3) truncated random_normal \n",
    "turncate 라는 뜻은 자르다 라는 뜻입니다. 정규 분포가 일정 이상 값의 범위가 넘어가지 못하게 만듭니다. <br>\n",
    "`tf.random.truncated_normal(shape=,mean=0.0,stddev=1.0,) ` 을 이용합니다. "
   ]
  },
  {
   "cell_type": "code",
   "execution_count": 13,
   "metadata": {
    "colab": {
     "base_uri": "https://localhost:8080/",
     "height": 33
    },
    "colab_type": "code",
    "id": "sG5eqYVrd-Lg",
    "outputId": "63644f23-4919-4b5f-dc30-f4c6defd1d2b"
   },
   "outputs": [
    {
     "data": {
      "text/plain": [
       "0.6179632"
      ]
     },
     "execution_count": 13,
     "metadata": {},
     "output_type": "execute_result"
    }
   ],
   "source": [
    "rand_normal=tf.random.truncated_normal(shape=[],mean=0.0,stddev=1.0,)\n",
    "sess = tf.Session()\n",
    "sess.run(rand_normal)"
   ]
  },
  {
   "cell_type": "markdown",
   "metadata": {
    "colab_type": "text",
    "id": "kMmcLU_kfGE6"
   },
   "source": [
    "### 예제 1)\n",
    "histogram  을 이용해 \n",
    "tf.random_random , tf.random.truncated_normal 을 이용해\n",
    "shape = 10000 , mean = 0.0 , stddev = 1.0 인 Tensor 을 만들고 histogram 을 출력해보세요\n",
    "<br>\n",
    "matplotlib  을 이용해 각각의 결과를  하나의 figure 에 에 출력해 보세요\n"
   ]
  },
  {
   "cell_type": "code",
   "execution_count": 14,
   "metadata": {
    "colab": {
     "base_uri": "https://localhost:8080/",
     "height": 224
    },
    "colab_type": "code",
    "id": "5LV0NjB7fGE7",
    "outputId": "3f0fb1ca-18a6-4e0b-b2d8-b6b5c4b39171"
   },
   "outputs": [
    {
     "data": {
      "image/png": "[encoded data removed]",
      "text/plain": [
       "<Figure size 576x216 with 2 Axes>"
      ]
     },
     "metadata": {},
     "output_type": "display_data"
    }
   ],
   "source": [
    "rand_uniform = tf.random_normal(mean=0.0 , stddev=0.1 , shape=[10000])\n",
    "rand_uniform_1 = tf.random.truncated_normal(mean=0.0 , stddev=0.1 , shape=[10000])\n",
    "sess = tf.Session()\n",
    "rand_noraml_, rand_uniform_1_ = sess.run([rand_uniform,rand_uniform_1])\n",
    "\n",
    "fig = plt.figure(figsize=(8,3))\n",
    "ax = fig.add_subplot(1,2,1)\n",
    "ax.hist(rand_noraml_, bins=np.linspace(-0.5, 0.5,100))\n",
    "ax = fig.add_subplot(1,2,2)\n",
    "ax.hist(rand_uniform_1_,bins=np.linspace(-0.5, 0.5 ,100))\n",
    "plt.tight_layout()\n",
    "plt.show()"
   ]
  },
  {
   "cell_type": "markdown",
   "metadata": {
    "colab_type": "text",
    "id": "uII7sD4whCAb"
   },
   "source": [
    "# \\[ 2 .Variable  \\]\n",
    "\n",
    "---\n",
    "\n",
    "---\n",
    "\n",
    ">  Tensorflow 에서  변수를 만드는 법을 알아봅니다. "
   ]
  },
  {
   "cell_type": "markdown",
   "metadata": {
    "colab_type": "text",
    "id": "e-UsHh3rhV_I"
   },
   "source": [
    " ## 1. 변수  만들기 \n",
    "\n",
    "---\n",
    "\n",
    "+ Tensorflow에서의 모든 Tensor는 한번 연산하고 지워지는, **휘발성**인 정보들입니다.\n",
    "+ 유일하게 값을 저장할 수 있는 Tensor가 `Variable`입니다.\n",
    "\n"
   ]
  },
  {
   "cell_type": "markdown",
   "metadata": {
    "colab_type": "text",
    "id": "dLk5-EBGnsjg"
   },
   "source": [
    "### (1) Tensorflow 로 변수를 만드는 법  \n",
    "`tf.Variable`를 통해 변수를 생성할 수 있습니다. "
   ]
  },
  {
   "cell_type": "code",
   "execution_count": 15,
   "metadata": {
    "colab": {
     "base_uri": "https://localhost:8080/",
     "height": 33
    },
    "colab_type": "code",
    "id": "AHm2S6zxnsjh",
    "outputId": "385517bc-82c9-4535-a7c4-e1cd8afae415"
   },
   "outputs": [
    {
     "name": "stdout",
     "output_type": "stream",
     "text": [
      "WARNING:tensorflow:From /Users/ksj/anaconda3/lib/python3.6/site-packages/tensorflow/python/framework/op_def_library.py:263: colocate_with (from tensorflow.python.framework.ops) is deprecated and will be removed in a future version.\n",
      "Instructions for updating:\n",
      "Colocations handled automatically by placer.\n",
      "<tf.Variable 'var:0' shape=() dtype=int32_ref>\n"
     ]
    }
   ],
   "source": [
    "tf.reset_default_graph()\n",
    "var = tf.Variable(3, name='var')\n",
    "print(var)"
   ]
  },
  {
   "cell_type": "markdown",
   "metadata": {},
   "source": [
    "\n",
    "\n",
    "변수는 크게 4가지의 Node로 구성되어 있습니다."
   ]
  },
  {
   "cell_type": "code",
   "execution_count": 16,
   "metadata": {},
   "outputs": [
    {
     "data": {
      "text/plain": [
       "[<tf.Operation 'var/initial_value' type=Const>,\n",
       " <tf.Operation 'var' type=VariableV2>,\n",
       " <tf.Operation 'var/Assign' type=Assign>,\n",
       " <tf.Operation 'var/read' type=Identity>]"
      ]
     },
     "execution_count": 16,
     "metadata": {},
     "output_type": "execute_result"
    }
   ],
   "source": [
    "default_graph = tf.get_default_graph()\n",
    "default_graph.get_operations()"
   ]
  },
  {
   "cell_type": "code",
   "execution_count": 17,
   "metadata": {},
   "outputs": [
    {
     "data": {
      "text/html": [
       "\n",
       "        <iframe seamless style=\"width:1200px;height:620px;border:0\" srcdoc=\"\n",
       "        <script>\n",
       "          function load() {\n",
       "            document.getElementById(&quot;graph0.5692498899478816&quot;).pbtxt = 'node {\\n  name: &quot;var/initial_value&quot;\\n  op: &quot;Const&quot;\\n  attr {\\n    key: &quot;dtype&quot;\\n    value {\\n      type: DT_INT32\\n    }\\n  }\\n  attr {\\n    key: &quot;value&quot;\\n    value {\\n      tensor {\\n        dtype: DT_INT32\\n        tensor_shape {\\n        }\\n        int_val: 3\\n      }\\n    }\\n  }\\n}\\nnode {\\n  name: &quot;var&quot;\\n  op: &quot;VariableV2&quot;\\n  attr {\\n    key: &quot;container&quot;\\n    value {\\n      s: &quot;&quot;\\n    }\\n  }\\n  attr {\\n    key: &quot;dtype&quot;\\n    value {\\n      type: DT_INT32\\n    }\\n  }\\n  attr {\\n    key: &quot;shape&quot;\\n    value {\\n      shape {\\n      }\\n    }\\n  }\\n  attr {\\n    key: &quot;shared_name&quot;\\n    value {\\n      s: &quot;&quot;\\n    }\\n  }\\n}\\nnode {\\n  name: &quot;var/Assign&quot;\\n  op: &quot;Assign&quot;\\n  input: &quot;var&quot;\\n  input: &quot;var/initial_value&quot;\\n  attr {\\n    key: &quot;T&quot;\\n    value {\\n      type: DT_INT32\\n    }\\n  }\\n  attr {\\n    key: &quot;_class&quot;\\n    value {\\n      list {\\n        s: &quot;loc:@var&quot;\\n      }\\n    }\\n  }\\n  attr {\\n    key: &quot;use_locking&quot;\\n    value {\\n      b: true\\n    }\\n  }\\n  attr {\\n    key: &quot;validate_shape&quot;\\n    value {\\n      b: true\\n    }\\n  }\\n}\\nnode {\\n  name: &quot;var/read&quot;\\n  op: &quot;Identity&quot;\\n  input: &quot;var&quot;\\n  attr {\\n    key: &quot;T&quot;\\n    value {\\n      type: DT_INT32\\n    }\\n  }\\n  attr {\\n    key: &quot;_class&quot;\\n    value {\\n      list {\\n        s: &quot;loc:@var&quot;\\n      }\\n    }\\n  }\\n}\\n';\n",
       "          }\n",
       "        </script>\n",
       "        <link rel=&quot;import&quot; href=&quot;https://tensorboard.appspot.com/tf-graph-basic.build.html&quot; onload=load()>\n",
       "        <div style=&quot;height:600px&quot;>\n",
       "          <tf-graph-basic id=&quot;graph0.5692498899478816&quot;></tf-graph-basic>\n",
       "        </div>\n",
       "    \"></iframe>\n",
       "    "
      ],
      "text/plain": [
       "<IPython.core.display.HTML object>"
      ]
     },
     "metadata": {},
     "output_type": "display_data"
    }
   ],
   "source": [
    "show_graph(default_graph)"
   ]
  },
  {
   "cell_type": "markdown",
   "metadata": {},
   "source": [
    "* 어떤 값으로 초기화할 것인지를 결정하는 `initial_value`\n",
    "* 값을 저장한 부분인 `Variable`\n",
    "* 값을 갱신하는 부분인 `Assign`\n",
    "* 값을 읽어오는 부분인 `Read`"
   ]
  },
  {
   "cell_type": "markdown",
   "metadata": {},
   "source": [
    "### (2) `get_variable`\n",
    "\n",
    "변수를 만드는 함수에는 Variable 외에 `get_variable`이 있습니다. "
   ]
  },
  {
   "cell_type": "code",
   "execution_count": 18,
   "metadata": {},
   "outputs": [
    {
     "name": "stdout",
     "output_type": "stream",
     "text": [
      "<tf.Variable 'var2:0' shape=() dtype=int32_ref>\n"
     ]
    }
   ],
   "source": [
    "tf.reset_default_graph()\n",
    "var = tf.get_variable(name='var2',initializer=3)\n",
    "print(var)"
   ]
  },
  {
   "cell_type": "code",
   "execution_count": 19,
   "metadata": {},
   "outputs": [
    {
     "ename": "ValueError",
     "evalue": "Variable var2 already exists, disallowed. Did you mean to set reuse=True or reuse=tf.AUTO_REUSE in VarScope? Originally defined at:\n\n  File \"<ipython-input-18-40537a2a022d>\", line 2, in <module>\n    var = tf.get_variable(name='var2',initializer=3)\n  File \"/Users/ksj/anaconda3/lib/python3.6/site-packages/IPython/core/interactiveshell.py\", line 3267, in run_code\n    exec(code_obj, self.user_global_ns, self.user_ns)\n  File \"/Users/ksj/anaconda3/lib/python3.6/site-packages/IPython/core/interactiveshell.py\", line 3185, in run_ast_nodes\n    if (yield from self.run_code(code, result)):\n",
     "output_type": "error",
     "traceback": [
      "\u001b[0;31m---------------------------------------------------------------------------\u001b[0m",
      "\u001b[0;31mValueError\u001b[0m                                Traceback (most recent call last)",
      "\u001b[0;32m<ipython-input-19-db2a68520975>\u001b[0m in \u001b[0;36m<module>\u001b[0;34m\u001b[0m\n\u001b[0;32m----> 1\u001b[0;31m \u001b[0mvar\u001b[0m \u001b[0;34m=\u001b[0m \u001b[0mtf\u001b[0m\u001b[0;34m.\u001b[0m\u001b[0mget_variable\u001b[0m\u001b[0;34m(\u001b[0m\u001b[0mname\u001b[0m\u001b[0;34m=\u001b[0m\u001b[0;34m'var2'\u001b[0m\u001b[0;34m,\u001b[0m\u001b[0minitializer\u001b[0m\u001b[0;34m=\u001b[0m\u001b[0;36m3\u001b[0m\u001b[0;34m)\u001b[0m\u001b[0;34m\u001b[0m\u001b[0m\n\u001b[0m\u001b[1;32m      2\u001b[0m \u001b[0mprint\u001b[0m\u001b[0;34m(\u001b[0m\u001b[0mvar\u001b[0m\u001b[0;34m)\u001b[0m\u001b[0;34m\u001b[0m\u001b[0m\n",
      "\u001b[0;32m~/anaconda3/lib/python3.6/site-packages/tensorflow/python/ops/variable_scope.py\u001b[0m in \u001b[0;36mget_variable\u001b[0;34m(name, shape, dtype, initializer, regularizer, trainable, collections, caching_device, partitioner, validate_shape, use_resource, custom_getter, constraint, synchronization, aggregation)\u001b[0m\n\u001b[1;32m   1477\u001b[0m       \u001b[0mconstraint\u001b[0m\u001b[0;34m=\u001b[0m\u001b[0mconstraint\u001b[0m\u001b[0;34m,\u001b[0m\u001b[0;34m\u001b[0m\u001b[0m\n\u001b[1;32m   1478\u001b[0m       \u001b[0msynchronization\u001b[0m\u001b[0;34m=\u001b[0m\u001b[0msynchronization\u001b[0m\u001b[0;34m,\u001b[0m\u001b[0;34m\u001b[0m\u001b[0m\n\u001b[0;32m-> 1479\u001b[0;31m       aggregation=aggregation)\n\u001b[0m\u001b[1;32m   1480\u001b[0m \u001b[0;34m\u001b[0m\u001b[0m\n\u001b[1;32m   1481\u001b[0m \u001b[0;34m\u001b[0m\u001b[0m\n",
      "\u001b[0;32m~/anaconda3/lib/python3.6/site-packages/tensorflow/python/ops/variable_scope.py\u001b[0m in \u001b[0;36mget_variable\u001b[0;34m(self, var_store, name, shape, dtype, initializer, regularizer, reuse, trainable, collections, caching_device, partitioner, validate_shape, use_resource, custom_getter, constraint, synchronization, aggregation)\u001b[0m\n\u001b[1;32m   1218\u001b[0m           \u001b[0mconstraint\u001b[0m\u001b[0;34m=\u001b[0m\u001b[0mconstraint\u001b[0m\u001b[0;34m,\u001b[0m\u001b[0;34m\u001b[0m\u001b[0m\n\u001b[1;32m   1219\u001b[0m           \u001b[0msynchronization\u001b[0m\u001b[0;34m=\u001b[0m\u001b[0msynchronization\u001b[0m\u001b[0;34m,\u001b[0m\u001b[0;34m\u001b[0m\u001b[0m\n\u001b[0;32m-> 1220\u001b[0;31m           aggregation=aggregation)\n\u001b[0m\u001b[1;32m   1221\u001b[0m \u001b[0;34m\u001b[0m\u001b[0m\n\u001b[1;32m   1222\u001b[0m   def _get_partitioned_variable(self,\n",
      "\u001b[0;32m~/anaconda3/lib/python3.6/site-packages/tensorflow/python/ops/variable_scope.py\u001b[0m in \u001b[0;36mget_variable\u001b[0;34m(self, name, shape, dtype, initializer, regularizer, reuse, trainable, collections, caching_device, partitioner, validate_shape, use_resource, custom_getter, constraint, synchronization, aggregation)\u001b[0m\n\u001b[1;32m    545\u001b[0m           \u001b[0mconstraint\u001b[0m\u001b[0;34m=\u001b[0m\u001b[0mconstraint\u001b[0m\u001b[0;34m,\u001b[0m\u001b[0;34m\u001b[0m\u001b[0m\n\u001b[1;32m    546\u001b[0m           \u001b[0msynchronization\u001b[0m\u001b[0;34m=\u001b[0m\u001b[0msynchronization\u001b[0m\u001b[0;34m,\u001b[0m\u001b[0;34m\u001b[0m\u001b[0m\n\u001b[0;32m--> 547\u001b[0;31m           aggregation=aggregation)\n\u001b[0m\u001b[1;32m    548\u001b[0m \u001b[0;34m\u001b[0m\u001b[0m\n\u001b[1;32m    549\u001b[0m   def _get_partitioned_variable(self,\n",
      "\u001b[0;32m~/anaconda3/lib/python3.6/site-packages/tensorflow/python/ops/variable_scope.py\u001b[0m in \u001b[0;36m_true_getter\u001b[0;34m(name, shape, dtype, initializer, regularizer, reuse, trainable, collections, caching_device, partitioner, validate_shape, use_resource, constraint, synchronization, aggregation)\u001b[0m\n\u001b[1;32m    497\u001b[0m           \u001b[0mconstraint\u001b[0m\u001b[0;34m=\u001b[0m\u001b[0mconstraint\u001b[0m\u001b[0;34m,\u001b[0m\u001b[0;34m\u001b[0m\u001b[0m\n\u001b[1;32m    498\u001b[0m           \u001b[0msynchronization\u001b[0m\u001b[0;34m=\u001b[0m\u001b[0msynchronization\u001b[0m\u001b[0;34m,\u001b[0m\u001b[0;34m\u001b[0m\u001b[0m\n\u001b[0;32m--> 499\u001b[0;31m           aggregation=aggregation)\n\u001b[0m\u001b[1;32m    500\u001b[0m \u001b[0;34m\u001b[0m\u001b[0m\n\u001b[1;32m    501\u001b[0m     \u001b[0;31m# Set trainable value based on synchronization value.\u001b[0m\u001b[0;34m\u001b[0m\u001b[0;34m\u001b[0m\u001b[0m\n",
      "\u001b[0;32m~/anaconda3/lib/python3.6/site-packages/tensorflow/python/ops/variable_scope.py\u001b[0m in \u001b[0;36m_get_single_variable\u001b[0;34m(self, name, shape, dtype, initializer, regularizer, partition_info, reuse, trainable, collections, caching_device, validate_shape, use_resource, constraint, synchronization, aggregation)\u001b[0m\n\u001b[1;32m    846\u001b[0m         \u001b[0mtb\u001b[0m \u001b[0;34m=\u001b[0m \u001b[0;34m[\u001b[0m\u001b[0mx\u001b[0m \u001b[0;32mfor\u001b[0m \u001b[0mx\u001b[0m \u001b[0;32min\u001b[0m \u001b[0mtb\u001b[0m \u001b[0;32mif\u001b[0m \u001b[0;34m\"tensorflow/python\"\u001b[0m \u001b[0;32mnot\u001b[0m \u001b[0;32min\u001b[0m \u001b[0mx\u001b[0m\u001b[0;34m[\u001b[0m\u001b[0;36m0\u001b[0m\u001b[0;34m]\u001b[0m\u001b[0;34m]\u001b[0m\u001b[0;34m[\u001b[0m\u001b[0;34m:\u001b[0m\u001b[0;36m3\u001b[0m\u001b[0;34m]\u001b[0m\u001b[0;34m\u001b[0m\u001b[0m\n\u001b[1;32m    847\u001b[0m         raise ValueError(\"%s Originally defined at:\\n\\n%s\" % (err_msg, \"\".join(\n\u001b[0;32m--> 848\u001b[0;31m             traceback.format_list(tb))))\n\u001b[0m\u001b[1;32m    849\u001b[0m       \u001b[0mfound_var\u001b[0m \u001b[0;34m=\u001b[0m \u001b[0mself\u001b[0m\u001b[0;34m.\u001b[0m\u001b[0m_vars\u001b[0m\u001b[0;34m[\u001b[0m\u001b[0mname\u001b[0m\u001b[0;34m]\u001b[0m\u001b[0;34m\u001b[0m\u001b[0m\n\u001b[1;32m    850\u001b[0m       \u001b[0;32mif\u001b[0m \u001b[0;32mnot\u001b[0m \u001b[0mshape\u001b[0m\u001b[0;34m.\u001b[0m\u001b[0mis_compatible_with\u001b[0m\u001b[0;34m(\u001b[0m\u001b[0mfound_var\u001b[0m\u001b[0;34m.\u001b[0m\u001b[0mget_shape\u001b[0m\u001b[0;34m(\u001b[0m\u001b[0;34m)\u001b[0m\u001b[0;34m)\u001b[0m\u001b[0;34m:\u001b[0m\u001b[0;34m\u001b[0m\u001b[0m\n",
      "\u001b[0;31mValueError\u001b[0m: Variable var2 already exists, disallowed. Did you mean to set reuse=True or reuse=tf.AUTO_REUSE in VarScope? Originally defined at:\n\n  File \"<ipython-input-18-40537a2a022d>\", line 2, in <module>\n    var = tf.get_variable(name='var2',initializer=3)\n  File \"/Users/ksj/anaconda3/lib/python3.6/site-packages/IPython/core/interactiveshell.py\", line 3267, in run_code\n    exec(code_obj, self.user_global_ns, self.user_ns)\n  File \"/Users/ksj/anaconda3/lib/python3.6/site-packages/IPython/core/interactiveshell.py\", line 3185, in run_ast_nodes\n    if (yield from self.run_code(code, result)):\n"
     ]
    }
   ],
   "source": [
    "var = tf.get_variable(name='var2',initializer=3)\n",
    "print(var)"
   ]
  },
  {
   "cell_type": "markdown",
   "metadata": {
    "colab_type": "text",
    "id": "RCHdjIRSqvpy"
   },
   "source": [
    "tf.Variable 은 같은 이름을 가진 tensor 가 있으면  뒤에 숫자를 하나 증가 시킵니다. 가령 \n",
    "var  이란 이름으로 변수를 만들었는데 해당 이름이 있으면 뒤에 _1 을 붙입니다.  var -> var_1 \n",
    "\n",
    "반면에 tf.get_variable 은 엄격히 이름을 관리합니다. 만약 이름이 같으면 Tensor 을 생성하지 않고 오류를 발생 시킵니다. "
   ]
  },
  {
   "cell_type": "markdown",
   "metadata": {
    "colab_type": "text",
    "id": "gop9U8y4sK2s"
   },
   "source": [
    "## 2. 변수 초기화\n",
    "----\n",
    "* 변수를 실행하기 위해서는 반드시 해당 변수를 초기화 해야 합니다.\n",
    "* 초기화를 실행하기 위해서는 변수의 초기화 노드인 initalizer 을 수행해야 합니다. \n"
   ]
  },
  {
   "cell_type": "markdown",
   "metadata": {
    "colab_type": "text",
    "id": "BQwjLNaCu7fV"
   },
   "source": [
    "### (1) 변수를 초기화 하는 법\n",
    "변수는 생성하고 반드시 Session 에서 초기화를 진행해야 합니다. "
   ]
  },
  {
   "cell_type": "code",
   "execution_count": null,
   "metadata": {
    "colab": {
     "base_uri": "https://localhost:8080/",
     "height": 33
    },
    "colab_type": "code",
    "id": "PJ8oYdBSnsjk",
    "outputId": "f6ce78fc-b155-46be-8c46-7ec1ea9524cd"
   },
   "outputs": [],
   "source": [
    "tf.reset_default_graph()\n",
    "var_0 = tf.Variable(3, name='var_0')\n",
    "var_1 = tf.get_variable(initializer=3, name='var_1') \n",
    "\n",
    "sess = tf.Session()\n",
    "var_0_, var_1_=sess.run([var_0, var_1])\n",
    "print(var_0_, var_1_)"
   ]
  },
  {
   "cell_type": "markdown",
   "metadata": {},
   "source": [
    "초기화 하지 않으면 위처럼 에러가 발생합니다."
   ]
  },
  {
   "cell_type": "code",
   "execution_count": null,
   "metadata": {},
   "outputs": [],
   "source": [
    "sess = tf.Session()\n",
    "sess.run([var_0.initializer, var_1.initializer])\n",
    "var_0_, var_1_=sess.run([var_0, var_1])\n",
    "print(var_0_, var_1_)"
   ]
  },
  {
   "cell_type": "markdown",
   "metadata": {
    "colab_type": "text",
    "id": "1bkjd_6znsjk"
   },
   "source": [
    "### (2) list로 초기화하기\n",
    "python value나 list 을 이용해 상수 텐서를 만들수 있습니다. <br>\n",
    "tf.Variable 에 초기값을 넣어주려면 `initial_value` parameter 에다가 넣어줘야 합니다. <br>\n",
    "tf.get_variable 에 초기값을 넣어주려면 `initializer` parameter 에다가 넣어줘야 합니다. "
   ]
  },
  {
   "cell_type": "code",
   "execution_count": 20,
   "metadata": {
    "colab": {
     "base_uri": "https://localhost:8080/",
     "height": 33
    },
    "colab_type": "code",
    "id": "9fPRvGjnsRxt",
    "outputId": "bf645067-2008-4bf1-8d28-63971cf86a45"
   },
   "outputs": [
    {
     "data": {
      "text/plain": [
       "[3, array([1, 2, 3], dtype=int32)]"
      ]
     },
     "execution_count": 20,
     "metadata": {},
     "output_type": "execute_result"
    }
   ],
   "source": [
    "tf.reset_default_graph()\n",
    "var_0= tf.get_variable(name='var2',initializer=3)\n",
    "var_1 = tf.Variable(initial_value=[1, 2, 3], name='var')\n",
    "\n",
    "sess = tf.Session()\n",
    "sess.run([var_0.initializer , var_1.initializer])\n",
    "sess.run([var_0, var_1])"
   ]
  },
  {
   "cell_type": "markdown",
   "metadata": {
    "colab_type": "text",
    "id": "Z0j2Fz9Cnsjs"
   },
   "source": [
    "### (3) numpy로 초기화하기\n",
    "numpy.array 을 이용해 변수 텐서를 만들수 있습니다. "
   ]
  },
  {
   "cell_type": "code",
   "execution_count": 21,
   "metadata": {
    "colab": {
     "base_uri": "https://localhost:8080/",
     "height": 33
    },
    "colab_type": "code",
    "id": "5IFKz4yTnsjt",
    "outputId": "0cd7b12d-265e-4016-f7f1-594448de8bf2"
   },
   "outputs": [
    {
     "data": {
      "text/plain": [
       "[array([1, 2, 3]), array([1, 2, 3])]"
      ]
     },
     "execution_count": 21,
     "metadata": {},
     "output_type": "execute_result"
    }
   ],
   "source": [
    "tf.reset_default_graph()\n",
    "a = np.array([1, 2, 3])\n",
    "var_0 = tf.Variable(initial_value=a, name='const_0')\n",
    "var_1 = tf.get_variable(initializer=a, name='const_1')\n",
    "sess = tf.Session()\n",
    "sess.run([var_0.initializer , var_1.initializer])\n",
    "sess.run([var_0, var_1])"
   ]
  },
  {
   "cell_type": "markdown",
   "metadata": {
    "colab_type": "text",
    "id": "UDniD-DmuZ1l"
   },
   "source": [
    "### (4)  랜덤 함수로 초기화하기\n",
    "random 함수를 이용해서 변수 텐서를 만들수 있습니다. "
   ]
  },
  {
   "cell_type": "code",
   "execution_count": 22,
   "metadata": {
    "colab": {
     "base_uri": "https://localhost:8080/",
     "height": 33
    },
    "colab_type": "code",
    "id": "EgBw11ztuZ1m",
    "outputId": "a56bdacd-e6a2-43e9-c027-e42ca58479ea"
   },
   "outputs": [
    {
     "data": {
      "text/plain": [
       "[array([ 1.0716224 , -0.41343948, -0.35676432], dtype=float32),\n",
       " array([ 1.0716224 , -0.41343948, -0.35676432], dtype=float32)]"
      ]
     },
     "execution_count": 22,
     "metadata": {},
     "output_type": "execute_result"
    }
   ],
   "source": [
    "tf.reset_default_graph()\n",
    "random_normal = tf.random_normal((3,),name='random_init')\n",
    "var_0 = tf.Variable(initial_value=random_normal,\n",
    "                    name='const_0')\n",
    "var_1 = tf.get_variable(initializer=random_normal,\n",
    "                        name='const_1')\n",
    "sess = tf.Session()\n",
    "sess.run([var_0.initializer , var_1.initializer])\n",
    "sess.run([var_0, var_1])"
   ]
  },
  {
   "cell_type": "markdown",
   "metadata": {},
   "source": [
    "하나의 random 함수로 초기화를 하면, 의도치 않게 같은 값으로 초깃값이 고정될 수 있습니다."
   ]
  },
  {
   "cell_type": "code",
   "execution_count": 23,
   "metadata": {},
   "outputs": [
    {
     "data": {
      "text/plain": [
       "[array([-0.06081372,  0.2224334 ,  0.80264765], dtype=float32),\n",
       " array([-0.8698679 , -0.37909973, -0.15382522], dtype=float32)]"
      ]
     },
     "execution_count": 23,
     "metadata": {},
     "output_type": "execute_result"
    }
   ],
   "source": [
    "tf.reset_default_graph()\n",
    "var_0 = tf.Variable(tf.random_normal((3,)),\n",
    "                    name='const_0')\n",
    "var_1 = tf.get_variable(initializer=tf.random_normal((3,)),\n",
    "                        name='const_1')\n",
    "sess = tf.Session()\n",
    "sess.run([var_0.initializer , var_1.initializer])\n",
    "sess.run([var_0, var_1])"
   ]
  },
  {
   "cell_type": "markdown",
   "metadata": {
    "colab_type": "text",
    "id": "qenV55RzvTPi"
   },
   "source": [
    "## 3. 변수를 갱신하기 \n",
    "---\n",
    "* 변수는 변하는 값 입니다.  변수의 값을 어떻게 바꾸는 지 알아 봅니다."
   ]
  },
  {
   "cell_type": "markdown",
   "metadata": {
    "colab_type": "text",
    "id": "cC9RJTvUvuw7"
   },
   "source": [
    "### (1) 변수의 값을 바꾸는 법\n",
    "`tf.assign(ref= , value= )` <br>\n",
    "`tf.assign_add(ref= , value= )`  <br>\n",
    "`tf.assign_sub(ref= , value= )`  을 이용해 변수의 값을 바꿀수 있습니다. \n"
   ]
  },
  {
   "cell_type": "code",
   "execution_count": 24,
   "metadata": {
    "colab": {
     "base_uri": "https://localhost:8080/",
     "height": 50
    },
    "colab_type": "code",
    "id": "0Ewps8xRvuw7",
    "outputId": "187f0900-7a0c-46b3-e124-cb85cce4f374"
   },
   "outputs": [
    {
     "name": "stdout",
     "output_type": "stream",
     "text": [
      "Before\n",
      "var0 : 3 \t var1 : 4 \t var2 : 3\n",
      "After\n",
      "var0 : 7 \t var1 : 13 \t var2 : -4\n"
     ]
    }
   ],
   "source": [
    "tf.reset_default_graph()\n",
    "var_0 = tf.Variable(3, name='var_0')\n",
    "var_1 = tf.get_variable(initializer=4, name='var_1') \n",
    "var_2 = tf.Variable(3, name='var_2')\n",
    "\n",
    "assign_0 = tf.assign(ref=var_0, value=7)\n",
    "assign_1 = tf.assign_add(ref=var_1, value=9)\n",
    "assign_2 = tf.assign_sub(ref=var_2, value=7)\n",
    "sess = tf.Session()\n",
    "\n",
    "# 변수 초기화\n",
    "sess.run([var_0.initializer, var_1.initializer,var_2.initializer])\n",
    "\n",
    "# 갱신연산 전\n",
    "print(\"Before\")\n",
    "var_0_, var_1_, var_2_ = sess.run([var_0, var_1,var_2])\n",
    "print('var0 : {} \\t var1 : {} \\t var2 : {}'.format(var_0_, var_1_, var_2_))\n",
    "\n",
    "# 갱신연산\n",
    "asgn_0, asgn_1 ,asgn_2 = sess.run([assign_0, assign_1, assign_2])\n",
    "\n",
    "# 갱신연산 후 \n",
    "print(\"After\")\n",
    "var_0_, var_1_, var_2_ = sess.run([var_0, var_1,var_2])\n",
    "print('var0 : {} \\t var1 : {} \\t var2 : {}'.format(var_0_, var_1_, var_2_))"
   ]
  },
  {
   "cell_type": "markdown",
   "metadata": {
    "colab_type": "text",
    "id": "5pK3rynK8Lwo"
   },
   "source": [
    "# \\[ 3 .placeholder  \\]\n",
    "\n",
    "---\n",
    "\n",
    "---\n",
    "\n",
    ">  Tensorflow 에서  외부에서 값을 넣어주는  법을 알아봅니다. "
   ]
  },
  {
   "cell_type": "markdown",
   "metadata": {
    "colab_type": "text",
    "id": "rIS5_g768aeA"
   },
   "source": [
    "### (1) placeholder  만드는 법  \n",
    "\n",
    "`tf.placeholder` ,  함수를 통해 외부에서 값을 넣어주는 변수를 생성할 수 있습니다. "
   ]
  },
  {
   "cell_type": "code",
   "execution_count": 25,
   "metadata": {
    "colab": {},
    "colab_type": "code",
    "id": "3etIhwB28lbx"
   },
   "outputs": [],
   "source": [
    "tf.reset_default_graph()\n",
    "\n",
    "# tf.float32 이고 0차원 값을 넣어줍니다. \n",
    "a = tf.placeholder(shape=[] , dtype=tf.float32,name='a')\n",
    "\n",
    "# tf.float32 이고, 1차원 값을 넣어줍니다. 0차원 갯수는 7개가 있어야 합니다.\n",
    "b = tf.placeholder(shape=[7] , dtype=tf.float32,name='b')\n",
    "\n",
    "# tf.float32 이고, ,2차원 값을 넣어줍니다. 1차원 갯수는 2개 0차원 갯수는 3개가 있어야 합니다. \n",
    "c = tf.placeholder(shape=[2,3] , dtype=tf.float32,name='c')\n",
    "\n",
    "# tf.float32 이고, 3차원 값을 넣어줍니다. 2차원 갯수는 2개 1차원 갯수는 0차원 갯수는 4개가 있어야 합니다. \n",
    "d = tf.placeholder(shape=[2,3,4] , dtype=tf.float32,name='d')"
   ]
  },
  {
   "cell_type": "markdown",
   "metadata": {
    "colab_type": "text",
    "id": "fskB67Z69k3z"
   },
   "source": [
    "### (2) placeholder  에 값을 넣어주는 법 \n",
    "session 의 인자인 feed_dict 을 통해 tf.placeholder 에 값을 넣어줄 수 있습니다. <br>\n",
    "feed_dict 은 이름처럼 dictionary 형태로 되어야 합니다. <br>\n",
    "key 에는 tensor , node or tensor name , node name 이 들어가야 하고 <br>\n",
    "value 에는 numpy.array 혹은 list등의 파이썬 값이 들어갑니다.\n"
   ]
  },
  {
   "cell_type": "code",
   "execution_count": 26,
   "metadata": {
    "colab": {
     "base_uri": "https://localhost:8080/",
     "height": 33
    },
    "colab_type": "code",
    "id": "Bv_9fCvX9u7n",
    "outputId": "79df3c2d-8c25-40ee-f173-97e92e278f64"
   },
   "outputs": [
    {
     "data": {
      "text/plain": [
       "[array(0., dtype=float32), array([0., 1., 2., 3., 4., 5., 6.], dtype=float32)]"
      ]
     },
     "execution_count": 26,
     "metadata": {},
     "output_type": "execute_result"
    }
   ],
   "source": [
    "# tf.float32 이고 0차원 값을 넣어줍니다. \n",
    "a = tf.placeholder(shape=[] , dtype=tf.float32)\n",
    "b = tf.placeholder(shape=[7] , dtype=tf.float32)\n",
    "sess = tf.Session()\n",
    "sess.run([a,b ],feed_dict={a: 0.0, b: np.arange(0,7,1)})"
   ]
  },
  {
   "cell_type": "markdown",
   "metadata": {
    "colab_type": "text",
    "id": "ccvwa9pQ-TAq"
   },
   "source": [
    "### (3) placeholder_default  에 값을 넣어주는 법 \n",
    "tf.placeholder 에 값에 초기값을 넣어줄 수 있습니다. <br>\n",
    "feed_dict 을 통해서 값이 들어오지 않으면 초기값을 사용합니다."
   ]
  },
  {
   "cell_type": "code",
   "execution_count": 27,
   "metadata": {
    "colab": {
     "base_uri": "https://localhost:8080/",
     "height": 50
    },
    "colab_type": "code",
    "id": "61al2l3d-TAq",
    "outputId": "2fd7c6d9-7b17-4530-92fa-55cadcb4f0e3"
   },
   "outputs": [
    {
     "name": "stdout",
     "output_type": "stream",
     "text": [
      "3.0\n",
      "9.2\n"
     ]
    }
   ],
   "source": [
    "# tf.float32 이고 0차원 값을 넣어줍니다. \n",
    "a = tf.placeholder_with_default(input=3.0, shape=[])\n",
    "# tf.float32 이고, 1차원 값을 넣어줍니다. 0차원 갯수는 7개가 있어야 합니다.\n",
    "\n",
    "sess = tf.Session()\n",
    "print(sess.run(a))\n",
    "print(sess.run(a, feed_dict={a:9.2}))"
   ]
  },
  {
   "cell_type": "markdown",
   "metadata": {
    "colab": {},
    "colab_type": "code",
    "id": "1oKGvntN-TAs"
   },
   "source": [
    "#  \n",
    "\n",
    "---\n",
    "\n",
    "    Copyright(c) 2019 by Public AI. All rights reserved.<br>\n",
    "    Writen by PAI, SangJae Kang ( rocketgrowthsj@publicai.co.kr )  last updated on 2019/03/22\n",
    "\n",
    "---"
   ]
  }
 ],
 "metadata": {
  "colab": {
   "collapsed_sections": [],
   "name": "2_Tensorflow_Constant_Variable.ipynb",
   "provenance": [],
   "toc_visible": true,
   "version": "0.3.2"
  },
  "kernelspec": {
   "display_name": "Python 3",
   "language": "python",
   "name": "python3"
  },
  "language_info": {
   "codemirror_mode": {
    "name": "ipython",
    "version": 3
   },
   "file_extension": ".py",
   "mimetype": "text/x-python",
   "name": "python",
   "nbconvert_exporter": "python",
   "pygments_lexer": "ipython3",
   "version": "3.6.5"
  }
 },
 "nbformat": 4,
 "nbformat_minor": 1
}
