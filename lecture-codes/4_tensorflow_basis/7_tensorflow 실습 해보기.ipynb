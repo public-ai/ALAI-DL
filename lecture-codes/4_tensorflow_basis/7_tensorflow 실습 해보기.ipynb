{
 "cells": [
  {
   "cell_type": "markdown",
   "metadata": {
    "colab_type": "text",
    "id": "JwXVP87OO6RW"
   },
   "source": [
    " ╔══<i><b>Alai-DeepLearning</b></i>═══════════════════════════╗\n",
    "###  &nbsp;&nbsp; **✎&nbsp;&nbsp;week 4. Tensorflow basis**\n",
    "# Section 7. Tensorflow 실습 해보기 \n",
    "\n",
    "### _Objective_\n",
    "1.  Fractal 의 일종인 mandelbrot 을 생성해 봅니다. \n",
    "2. Fractal 의 일종인 julia을 생성해 봅니다. \n",
    "\n",
    "╚════════════════════════════════════════╝"
   ]
  },
  {
   "cell_type": "code",
   "execution_count": null,
   "metadata": {},
   "outputs": [],
   "source": [
    "%matplotlib inline\n",
    "!pip install tensorboardcolab\n",
    "\n",
    "import tensorboardcolab\n",
    "import tensorflow as tf\n",
    "import numpy as np\n",
    "import matplotlib.pyplot as plt"
   ]
  },
  {
   "cell_type": "markdown",
   "metadata": {
    "colab_type": "text",
    "id": "-xLXSgg4O6Rd"
   },
   "source": [
    "# \\[ 1. Mandelbrot 만들어 보기  \\]\n",
    "\n",
    "---\n",
    "\n",
    "---\n",
    "\n",
    "> fractal 은 복소수 수식을 통해 생성되며 큰 도형의 일부가 새롭게 생성된 작은 도형의 모형과 비례합니다."
   ]
  },
  {
   "cell_type": "markdown",
   "metadata": {
    "colab_type": "text",
    "id": "M1nhRjsbO6Rl"
   },
   "source": [
    "## 1.  그래프를 보고 따라 만들어보기 \n",
    "\n",
    "---\n",
    "\n",
    "+ ppt 을 보고 Graph 을 구현해보세요 .<br>\n"
   ]
  },
  {
   "cell_type": "markdown",
   "metadata": {
    "colab_type": "text",
    "id": "M5lg56WYjS7J"
   },
   "source": [
    "### (1)  mesh grid 을 이용해 coordinate 만들어 보기 \n",
    "mgrid 또는 mesh grid 을 사용하는 법을 배워 봅니다. "
   ]
  },
  {
   "cell_type": "code",
   "execution_count": null,
   "metadata": {
    "colab": {},
    "colab_type": "code",
    "id": "GozedV5Ju_wg"
   },
   "outputs": [],
   "source": [
    "Y,X = np.mgrid[-1.3: 1.3 : 0.005 , -2:1:0.005] \n",
    "init_value = X +1j*Y"
   ]
  },
  {
   "cell_type": "code",
   "execution_count": null,
   "metadata": {
    "colab": {
     "base_uri": "https://localhost:8080/",
     "height": 33.0
    },
    "colab_type": "code",
    "id": "3Of1mTFAvSAX",
    "outputId": "7b371c01-f9cb-4f23-a88b-0b1f40548a62"
   },
   "outputs": [],
   "source": [
    "xs=tf.constant(init_value,name='xs')\n",
    "print(xs)"
   ]
  },
  {
   "cell_type": "markdown",
   "metadata": {
    "colab_type": "text",
    "id": "G9X1yfYwtexD"
   },
   "source": [
    "### (2)  필요한 변수, 연산 들을 정의"
   ]
  },
  {
   "cell_type": "code",
   "execution_count": null,
   "metadata": {
    "colab": {},
    "colab_type": "code",
    "id": "T-O6TJmfvqfq"
   },
   "outputs": [],
   "source": [
    "zs = tf.Variable(xs , name='zs')\n",
    "zs_square = tf.multiply(zs,zs ,name='zs_square')\n",
    "zs_add = tf.add(zs_square , xs)\n",
    "\n",
    "zs_abs = tf.abs(zs_add , name='zs_abs')\n",
    "zs_less = tf.math.less(zs_abs, 4 , name='zs_less')\n",
    "zs_cast = tf.cast(zs_less , tf.float32)"
   ]
  },
  {
   "cell_type": "markdown",
   "metadata": {
    "colab_type": "text",
    "id": "HVcT24sftu9v"
   },
   "source": [
    "### (3)   결과값이 저장되어 이미지화 되는 변수(ns) 을 생성"
   ]
  },
  {
   "cell_type": "code",
   "execution_count": null,
   "metadata": {
    "colab": {},
    "colab_type": "code",
    "id": "xtg_iJaPw9jY"
   },
   "outputs": [],
   "source": [
    "xs_zeros = tf.zeros_like(xs , dtype=tf.float32 , name='xs_zeros')\n",
    "ns = tf.Variable(xs_zeros , name='ns')"
   ]
  },
  {
   "cell_type": "markdown",
   "metadata": {
    "colab_type": "text",
    "id": "9aS3eQXiuH8X"
   },
   "source": [
    "### (4)  tf.group 이용해서 한번에 assign 시키기"
   ]
  },
  {
   "cell_type": "code",
   "execution_count": null,
   "metadata": {
    "colab": {},
    "colab_type": "code",
    "id": "tg2v1oZ4xKqD"
   },
   "outputs": [],
   "source": [
    "step = tf.group( tf.assign(zs , zs_add) , tf.assign_add(ns , zs_cast))"
   ]
  },
  {
   "cell_type": "markdown",
   "metadata": {
    "colab_type": "text",
    "id": "IQyh9OQ5uMd_"
   },
   "source": [
    "### (5) 학습 해보기"
   ]
  },
  {
   "cell_type": "code",
   "execution_count": null,
   "metadata": {
    "colab": {},
    "colab_type": "code",
    "id": "7oOjEIFixbsb"
   },
   "outputs": [],
   "source": [
    "sess = tf.Session()\n",
    "sess.run(tf.global_variables_initializer())\n",
    "\n",
    "for i in range(200):\n",
    "    sess.run(step) # step 을 한번 실행 \n",
    "result = sess.run(ns)"
   ]
  },
  {
   "cell_type": "markdown",
   "metadata": {
    "colab_type": "text",
    "id": "CjtakpXMuSag"
   },
   "source": [
    "### (6) 시각화 해보기 "
   ]
  },
  {
   "cell_type": "code",
   "execution_count": null,
   "metadata": {
    "colab": {
     "base_uri": "https://localhost:8080/",
     "height": 351.0
    },
    "colab_type": "code",
    "id": "mfgPBMsYyBsO",
    "outputId": "95e43e7d-0c69-4983-fd7b-3f83c47856c5"
   },
   "outputs": [],
   "source": [
    "plt.imshow(result)\n",
    "plt.show()"
   ]
  },
  {
   "cell_type": "markdown",
   "metadata": {
    "colab_type": "text",
    "id": "cJeoC8bouZVT"
   },
   "source": [
    "## 2.  Madelbrot을 텐서 보드에 연결하기 \n",
    "---\n",
    "\n",
    "+ Mandelbrot 을 학습시키고 그 과정을 Tensorboard 와 연결시킵니다"
   ]
  },
  {
   "cell_type": "code",
   "execution_count": null,
   "metadata": {
    "colab": {
     "base_uri": "https://localhost:8080/",
     "height": 367.0
    },
    "colab_type": "code",
    "id": "mjXwewkt_cyP",
    "outputId": "54508ccd-4877-4839-d7c7-963ce1e775d0"
   },
   "outputs": [],
   "source": [
    "tf.reset_default_graph()\n",
    "\n",
    "# add tensorboard\n",
    "# input initial value\n",
    "Y, X = np.mgrid[-1.3:1.3:0.005, -2:1:0.005]\n",
    "init_value = X + 1j*Y\n",
    "\n",
    "with tf.name_scope('cal'):\n",
    "    xs = tf.constant(init_value )\n",
    "    zs = tf.Variable(xs)\n",
    "    zs_zeros = tf.zeros_like(xs, tf.float32)\n",
    "    ns = tf.Variable(zs_zeros,name='ns')\n",
    "\n",
    "# add tensor to tensorboard\n",
    "ns_image_tb = tf.summary.image(name='ns_image',\n",
    "                               tensor=tf.reshape(ns,shape=[1,520,600,1]))\n",
    "ns_mean_tb = tf.summary.scalar(name='ns_mean',\n",
    "                               tensor=tf.reduce_mean(ns))\n",
    "ns_hist_tb = tf.summary.histogram(name='ns_hist',\n",
    "                                 values=ns)\n",
    "\n",
    "zs_square = tf.multiply(zs,zs)\n",
    "zs_add = tf.add(zs_square , xs)\n",
    "zs_abs = tf.abs(zs_add)\n",
    "zs_less = tf.math.less(zs_abs , 4)\n",
    "zs_cast = tf.cast(zs_less , tf.float32)\n",
    "\n",
    "step = tf.group(\n",
    "  tf.assign(zs, zs_add),\n",
    "  tf.assign_add(ns, zs_cast),\n",
    "  name = 'step'\n",
    ")\n",
    "\n",
    "sess = tf.Session()\n",
    "sess.run(tf.global_variables_initializer())\n",
    "saver = tf.train.Saver()\n",
    "tbs = tf.summary.merge_all()\n",
    "\n",
    "tbc=tensorboardcolab.TensorBoardColab(graph_path='./mandelbrot')\n",
    "writer = tf.summary.FileWriter(logdir = './mandelbrot')\n",
    "writer.add_graph(tf.get_default_graph())\n",
    "\n",
    "for i in range(200):\n",
    "    _, tbs_ = sess.run([step,tbs])\n",
    "    writer.add_summary(tbs_, global_step=i)\n",
    "    \n",
    "writer.flush()\n",
    "\n",
    "saver.save(sess,\n",
    "           save_path='./model/mandelbrot')\n",
    "value = sess.run(ns)\n",
    "plt.imshow(value)\n",
    "plt.show()"
   ]
  },
  {
   "cell_type": "markdown",
   "metadata": {
    "colab_type": "text",
    "id": "M6UqB60Fuic-"
   },
   "source": [
    "## 3.  Madelbrot을 복원하기\n",
    "---\n",
    "\n",
    "+ 그래프와 저장한 Mandelbrot 변수를 불러옵니다 "
   ]
  },
  {
   "cell_type": "code",
   "execution_count": null,
   "metadata": {
    "colab": {
     "base_uri": "https://localhost:8080/",
     "height": 367.0
    },
    "colab_type": "code",
    "id": "DYZj37V1Mvvp",
    "outputId": "10600296-0f57-4ae3-d6a6-434002cdd864"
   },
   "outputs": [],
   "source": [
    "tf.reset_default_graph()\n",
    "saver = tf.train.import_meta_graph('./model/mandelbrot.meta')\n",
    "sess = tf.Session()\n",
    "saver.restore(sess, './model/mandelbrot')\n",
    "ns = tf.get_default_graph().get_tensor_by_name('cal/ns:0')\n",
    "step = tf.get_default_graph().get_operation_by_name('step')\n",
    "sess.run('step')\n",
    "ns_ = sess.run(ns)\n",
    "\n",
    "plt.imshow(ns_)\n",
    "plt.show()"
   ]
  },
  {
   "cell_type": "markdown",
   "metadata": {
    "colab_type": "text",
    "id": "Rl3Tag7zwGUz"
   },
   "source": [
    "# \\[ 2.Julia  집합 만들어 보기 \\]\n",
    "\n",
    "---\n",
    "\n",
    "---\n",
    "\n",
    "> fractal 의 다른 종류인 Julia 집합을 만들어 봅니다. \n"
   ]
  },
  {
   "cell_type": "markdown",
   "metadata": {},
   "source": [
    "### (1)  mesh grid 을 이용해 coordinate 만들어 보기 "
   ]
  },
  {
   "cell_type": "code",
   "execution_count": null,
   "metadata": {
    "colab": {},
    "colab_type": "code",
    "id": "9txQxJgfwVdD"
   },
   "outputs": [],
   "source": [
    "Y,X = np.mgrid[-2:2:0.005 , -2:2:0.005]\n",
    "init_value = X + 1j*Y"
   ]
  },
  {
   "cell_type": "markdown",
   "metadata": {},
   "source": [
    "### (2)  필요한 변수, 연산 들을 정의"
   ]
  },
  {
   "cell_type": "code",
   "execution_count": null,
   "metadata": {
    "colab": {},
    "colab_type": "code",
    "id": "I8IhJb4syo0l"
   },
   "outputs": [],
   "source": [
    "xs = tf.constant(init_value , name='xs')\n",
    "zs = tf.Variable(xs)\n",
    "zs_square = zs * zs\n",
    "zs_sub = tf.subtract(zs_square , 0+0.75j , name='zs_sub')\n",
    "\n",
    "zs_abs = tf.abs(zs_sub , name='zs_abs')\n",
    "zs_less = tf.math.less(zs_abs, 4, name='zs_less')\n",
    "zs_cast = tf.cast(zs_less , tf.float32 , name='zs_cast')"
   ]
  },
  {
   "cell_type": "markdown",
   "metadata": {
    "colab": {},
    "colab_type": "code",
    "id": "kzPNTXNCzK_m"
   },
   "source": [
    "### (3)   결과값이 저장되어 이미지화 되는 변수(ns) 을 생성"
   ]
  },
  {
   "cell_type": "code",
   "execution_count": null,
   "metadata": {
    "colab": {},
    "colab_type": "code",
    "id": "nMP3S_vOzc2u"
   },
   "outputs": [],
   "source": [
    "xs_zeros = tf.zeros_like(xs , dtype=tf.float32, name='xs_zeros')\n",
    "ns = tf.Variable(xs_zeros , name='ns')"
   ]
  },
  {
   "cell_type": "markdown",
   "metadata": {},
   "source": [
    "### (4)  tf.group 이용해서 한번에 assign 시키기"
   ]
  },
  {
   "cell_type": "code",
   "execution_count": null,
   "metadata": {
    "colab": {},
    "colab_type": "code",
    "id": "QdxWapn7z0Si"
   },
   "outputs": [],
   "source": [
    "step = tf.group(tf.assign(zs , zs_sub) , tf.assign_add(ns , zs_cast))"
   ]
  },
  {
   "cell_type": "markdown",
   "metadata": {},
   "source": [
    "### (5) 학습 해보기"
   ]
  },
  {
   "cell_type": "code",
   "execution_count": null,
   "metadata": {
    "colab": {
     "base_uri": "https://localhost:8080/",
     "height": 116.0
    },
    "colab_type": "code",
    "id": "UMdb98Ze0GRD",
    "outputId": "1c4dbb9a-0d51-4668-e2f5-590561fe404e"
   },
   "outputs": [],
   "source": [
    "# 변수 초기화 \n",
    "sess = tf.Session()\n",
    "init_op = tf.global_variables_initializer()\n",
    "sess.run(init_op)\n",
    "\n",
    "for i in range(200):\n",
    "    sess.run(step)\n",
    "result = sess.run(ns)"
   ]
  },
  {
   "cell_type": "markdown",
   "metadata": {},
   "source": [
    "### (6) 시각화 해보기"
   ]
  },
  {
   "cell_type": "code",
   "execution_count": null,
   "metadata": {
    "colab": {
     "base_uri": "https://localhost:8080/",
     "height": 351.0
    },
    "colab_type": "code",
    "id": "ELbraFa76irj",
    "outputId": "a00b7e44-0802-45cf-f48d-95f12e24eca2"
   },
   "outputs": [],
   "source": [
    "plt.imshow(result)\n",
    "plt.show()"
   ]
  },
  {
   "cell_type": "markdown",
   "metadata": {
    "colab": {},
    "colab_type": "code",
    "id": "oVwMl2oN6mkG"
   },
   "source": [
    "#  \n",
    "\n",
    "---\n",
    "\n",
    "    Copyright(c) 2019 by Public AI. All rights reserved.\n",
    "    Writen by PAI, SangJae Kang ( rocketgrowthsj@publicai.co.kr )  last updated on 2019/03/22\n",
    "\n",
    "\n",
    "---"
   ]
  }
 ],
 "metadata": {
  "colab": {
   "collapsed_sections": [],
   "name": "7_fractal.ipynb",
   "provenance": [],
   "toc_visible": true,
   "version": "0.3.2"
  },
  "kernelspec": {
   "display_name": "Python 3",
   "language": "python",
   "name": "python3"
  },
  "language_info": {
   "codemirror_mode": {
    "name": "ipython",
    "version": 3.0
   },
   "file_extension": ".py",
   "mimetype": "text/x-python",
   "name": "python",
   "nbconvert_exporter": "python",
   "pygments_lexer": "ipython3",
   "version": "3.6.5"
  }
 },
 "nbformat": 4,
 "nbformat_minor": 0
}