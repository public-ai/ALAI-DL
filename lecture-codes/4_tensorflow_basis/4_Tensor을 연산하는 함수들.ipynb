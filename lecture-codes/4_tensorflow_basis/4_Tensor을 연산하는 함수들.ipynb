{
 "cells": [
  {
   "cell_type": "markdown",
   "metadata": {},
   "source": [
    " ╔══<i><b>Alai-DeepLearning</b></i>═══════════════════════════╗\n",
    "###  &nbsp;&nbsp; **✎&nbsp;&nbsp;week 4. Tensorflow basis**\n",
    "# Section 4. Tensor을 연산하는 함수들\n",
    "\n",
    "### _Objective_\n",
    "1. 텐서를 연산하는 다양한 메소드에 대해 배워봅니다. <br>\n",
    "2. 텐서를 정렬하는 메소드에 대해 배워봅니다. <br>\n",
    "3. 이 외 필수적으로 알고 있어야 하는 다양한 메소드에 대해 배워봅니다.\n",
    "\n",
    "╚════════════════════════════════════════╝"
   ]
  },
  {
   "cell_type": "code",
   "execution_count": 3,
   "metadata": {},
   "outputs": [],
   "source": [
    "%matplotlib inline\n",
    "import numpy as np\n",
    "import tensorflow as tf \n",
    "import matplotlib.pyplot as plt"
   ]
  },
  {
   "cell_type": "markdown",
   "metadata": {},
   "source": [
    "### [Optional.  eager_execution 이용하기 ]\n",
    "\n",
    "---\n",
    "\n",
    "> _`tensorflow` 2.0 버전부터 지원하게 된 기능으로, graph와 session을 따로 만들어서 실행하지 않고, **즉시 실행**가능하도록 만든 기능입니다._<br>\n",
    "> _이번 실습시간에서는 eager execution으로 실습을 진행하겠습니다. <br>"
   ]
  },
  {
   "cell_type": "code",
   "execution_count": 4,
   "metadata": {},
   "outputs": [],
   "source": [
    "# Tensorflow\n",
    "tf.enable_eager_execution()"
   ]
  },
  {
   "cell_type": "code",
   "execution_count": 5,
   "metadata": {},
   "outputs": [
    {
     "data": {
      "text/plain": [
       "<tf.Tensor: id=4, shape=(), dtype=int32, numpy=4>"
      ]
     },
     "execution_count": 5,
     "metadata": {},
     "output_type": "execute_result"
    }
   ],
   "source": [
    "# eager execution은 아래와 같이 나옵니다.\n",
    "a = tf.constant(1)\n",
    "b = tf.constant(2)\n",
    "tf.add(a,b)\n",
    "b**2"
   ]
  },
  {
   "cell_type": "markdown",
   "metadata": {},
   "source": [
    "## 예제 데이터 )  학생들의 국영수사과 성적표"
   ]
  },
  {
   "cell_type": "markdown",
   "metadata": {},
   "source": [
    "\n",
    "#### 데이터 1) 중간고사, 학생들의 국영수사과 성적표\n",
    "`middle_scores`\n",
    "\n",
    "| 학생 번호 | 국어 | 영어 | 수학 | 사회 | 과학 |\n",
    "|  ----   | --- |---| --- | --- | --- |\n",
    "|0 |80 |92 |70 | 65 | 92 |\n",
    "|1 |91 |75 |90 | 68 | 85 | \n",
    "|2 |86 |76 |42 | 72 | 88 |\n",
    "|3 |77 |92 |52 | 60 | 80 |\n",
    "|4 |75 |85 |85 | 92 | 95 |\n",
    "|5 |96 |90 |95 | 81 | 72 |\n",
    "\n",
    "#### 데이터 2) 기말고사, 학생들의 국영수사과 성적표\n",
    "`final_scores`\n",
    "\n",
    "| 학생 번호 | 국어 | 영어 | 수학 | 사회 | 과학 |\n",
    "|  ----   | --- |---| --- | --- | --- |\n",
    "|0 |85 |95 |90 | 66 | 93 |\n",
    "|1 |93 |70 |80 | 60 | 81 | \n",
    "|2 |89 |78 |55 | 75 | 80 |\n",
    "|3 |80 |94 |59 | 72 | 90 |\n",
    "|4 |70 |82 |81 | 95 | 72 |\n",
    "|5 |90 |76 |93 | 82 | 89 |"
   ]
  },
  {
   "cell_type": "code",
   "execution_count": 6,
   "metadata": {},
   "outputs": [
    {
     "data": {
      "text/plain": [
       "array([[[80, 92, 70, 65, 92],\n",
       "        [91, 75, 90, 68, 85],\n",
       "        [86, 76, 42, 72, 88],\n",
       "        [77, 92, 52, 60, 80],\n",
       "        [75, 85, 85, 92, 95],\n",
       "        [96, 90, 95, 81, 72]],\n",
       "\n",
       "       [[85, 95, 90, 66, 93],\n",
       "        [93, 70, 80, 60, 81],\n",
       "        [89, 78, 55, 75, 80],\n",
       "        [80, 94, 59, 72, 90],\n",
       "        [70, 82, 81, 95, 72],\n",
       "        [90, 76, 93, 82, 89]]])"
      ]
     },
     "execution_count": 6,
     "metadata": {},
     "output_type": "execute_result"
    }
   ],
   "source": [
    "middle_scores = np.array([\n",
    "    [80,92,70,65,92],\n",
    "    [91,75,90,68,85],\n",
    "    [86,76,42,72,88],\n",
    "    [77,92,52,60,80],\n",
    "    [75,85,85,92,95],\n",
    "    [96,90,95,81,72]\n",
    "])\n",
    "\n",
    "final_scores = np.array([\n",
    "    [85,95,90,66,93],\n",
    "    [93,70,80,60,81],\n",
    "    [89,78,55,75,80],\n",
    "    [80,94,59,72,90],\n",
    "    [70,82,81,95,72],\n",
    "    [90,76,93,82,89]\n",
    "])\n",
    "\n",
    "# Numpy array\n",
    "scores = np.stack([middle_scores,final_scores])\n",
    "\n",
    "# Tensor로 만들기\n",
    "scores_tensor = tf.constant(scores)\n",
    "\n",
    "scores_tensor.numpy()"
   ]
  },
  {
   "cell_type": "markdown",
   "metadata": {},
   "source": [
    "# \\[1. 축 연산(axis) \\]\n",
    "\n",
    "---\n",
    "\n",
    "---\n",
    "\n",
    "> Tensorflow에서는 축을 기준으로 연산하는 메소드들을 `reduce_*`의 이름으로 존재합니다."
   ]
  },
  {
   "cell_type": "markdown",
   "metadata": {},
   "source": [
    "### (1) tf.reduce_mean  \n",
    "\n",
    "`numpy.mean`과 유사한 API를 가지고 있습니다. "
   ]
  },
  {
   "cell_type": "code",
   "execution_count": 7,
   "metadata": {},
   "outputs": [
    {
     "data": {
      "text/plain": [
       "80"
      ]
     },
     "execution_count": 7,
     "metadata": {},
     "output_type": "execute_result"
    }
   ],
   "source": [
    "# 전체 평균 구하기\n",
    "tf.math.reduce_mean(scores_tensor).numpy()"
   ]
  },
  {
   "cell_type": "code",
   "execution_count": 8,
   "metadata": {},
   "outputs": [
    {
     "data": {
      "text/plain": [
       "array([[82, 93, 80, 65, 92],\n",
       "       [92, 72, 85, 64, 83],\n",
       "       [87, 77, 48, 73, 84],\n",
       "       [78, 93, 55, 66, 85],\n",
       "       [72, 83, 83, 93, 83],\n",
       "       [93, 83, 94, 81, 80]])"
      ]
     },
     "execution_count": 8,
     "metadata": {},
     "output_type": "execute_result"
    }
   ],
   "source": [
    "# 학생 별, 과목 별 평균\n",
    "# (2,6,5)-> (6,5)\n",
    "tf.math.reduce_mean(scores_tensor,axis=[0]).numpy()"
   ]
  },
  {
   "cell_type": "code",
   "execution_count": 9,
   "metadata": {},
   "outputs": [
    {
     "data": {
      "text/plain": [
       "array([[84, 85, 72, 73, 85],\n",
       "       [84, 82, 76, 75, 84]])"
      ]
     },
     "execution_count": 9,
     "metadata": {},
     "output_type": "execute_result"
    }
   ],
   "source": [
    "# 기간 별, 과목 별 평균\n",
    "# (2,6,5)-> (2,5)\n",
    "tf.math.reduce_mean(scores_tensor,axis=[1]).numpy()"
   ]
  },
  {
   "cell_type": "code",
   "execution_count": 10,
   "metadata": {},
   "outputs": [
    {
     "data": {
      "text/plain": [
       "array([82, 79, 74, 75, 83, 86])"
      ]
     },
     "execution_count": 10,
     "metadata": {},
     "output_type": "execute_result"
    }
   ],
   "source": [
    "# 학생 별 평균\n",
    "tf.math.reduce_mean(scores_tensor,axis=[0,2]).numpy()"
   ]
  },
  {
   "cell_type": "markdown",
   "metadata": {},
   "source": [
    "_`numpy.array`는 복수개의 방향으로 연산이 일어나지 못하지만, `Tensorflow`에서는 가능합니다._"
   ]
  },
  {
   "cell_type": "markdown",
   "metadata": {},
   "source": [
    "### (2) 이 외 다른 reduce 연산들\n",
    "\n",
    "* `mean`이 외에도 `reduce_sum`,`reduce_min`,`reduce_max`,`reduce_std` 등이 존재합니다."
   ]
  },
  {
   "cell_type": "code",
   "execution_count": 11,
   "metadata": {},
   "outputs": [
    {
     "data": {
      "text/plain": [
       "array([828, 793, 741, 756, 832, 864])"
      ]
     },
     "execution_count": 11,
     "metadata": {},
     "output_type": "execute_result"
    }
   ],
   "source": [
    "# 학생 별 성적 총합\n",
    "tf.math.reduce_sum(scores_tensor,axis=[0,2]).numpy()"
   ]
  },
  {
   "cell_type": "code",
   "execution_count": 12,
   "metadata": {},
   "outputs": [
    {
     "data": {
      "text/plain": [
       "array([70, 70, 42, 60, 72])"
      ]
     },
     "execution_count": 12,
     "metadata": {},
     "output_type": "execute_result"
    }
   ],
   "source": [
    "# 과목 별 최저 점수\n",
    "tf.math.reduce_min(scores_tensor,axis=[0,1]).numpy()"
   ]
  },
  {
   "cell_type": "code",
   "execution_count": 13,
   "metadata": {},
   "outputs": [
    {
     "data": {
      "text/plain": [
       "array([96, 95, 95, 95, 95])"
      ]
     },
     "execution_count": 13,
     "metadata": {},
     "output_type": "execute_result"
    }
   ],
   "source": [
    "# 과목 별 최저 점수\n",
    "tf.math.reduce_max(scores_tensor,axis=[0,1]).numpy()"
   ]
  },
  {
   "cell_type": "markdown",
   "metadata": {},
   "source": [
    "### (3) map_fn 연산\n",
    "\n",
    "---\n",
    "\n",
    "+ map_fn이란, 0번째 축 방향으로 일괄적으로 함수를 적용하는 메소드입니다."
   ]
  },
  {
   "cell_type": "markdown",
   "metadata": {},
   "source": [
    "기간, 과목 별로 학생 최고점과 최저점의 차이를 구해봅시다."
   ]
  },
  {
   "cell_type": "code",
   "execution_count": 14,
   "metadata": {},
   "outputs": [],
   "source": [
    "def calculate_min_max(tensor):\n",
    "    max_value = tf.reduce_max(tensor,axis=1)\n",
    "    min_value = tf.reduce_min(tensor,axis=1)\n",
    "    return max_value - min_value"
   ]
  },
  {
   "cell_type": "code",
   "execution_count": 15,
   "metadata": {},
   "outputs": [
    {
     "data": {
      "text/plain": [
       "<tf.Tensor: id=73, shape=(2, 6), dtype=int64, numpy=\n",
       "array([[27, 23, 46, 40, 20, 24],\n",
       "       [29, 33, 34, 35, 25, 17]])>"
      ]
     },
     "execution_count": 15,
     "metadata": {},
     "output_type": "execute_result"
    }
   ],
   "source": [
    "tf.map_fn(calculate_min_max, scores_tensor)"
   ]
  },
  {
   "cell_type": "markdown",
   "metadata": {},
   "source": [
    "# \\[ 2. 논리 연산 \\]\n",
    "\n",
    "---\n",
    "\n",
    "---\n",
    "\n",
    "> Tensorflow에서는 python의 and,or,not과 같은 논리 연산하는 메소드들을 `logical_*`의 이름으로 존재합니다."
   ]
  },
  {
   "cell_type": "markdown",
   "metadata": {},
   "source": [
    "### (1) logical_and\n",
    "\n",
    "원소 별로 둘다 만족하는 것을 확인합니다."
   ]
  },
  {
   "cell_type": "code",
   "execution_count": 16,
   "metadata": {},
   "outputs": [],
   "source": [
    "middle_tensor = scores_tensor[0]\n",
    "final_tensor = scores_tensor[1]"
   ]
  },
  {
   "cell_type": "code",
   "execution_count": 17,
   "metadata": {},
   "outputs": [],
   "source": [
    "over_80 = tf.math.logical_and((middle_tensor>80),\n",
    "                              (final_tensor>80))"
   ]
  },
  {
   "cell_type": "code",
   "execution_count": 18,
   "metadata": {},
   "outputs": [
    {
     "data": {
      "text/plain": [
       "array([[False,  True, False, False,  True],\n",
       "       [ True, False, False, False,  True],\n",
       "       [ True, False, False, False, False],\n",
       "       [False,  True, False, False, False],\n",
       "       [False,  True,  True,  True, False],\n",
       "       [ True, False,  True,  True, False]])"
      ]
     },
     "execution_count": 18,
     "metadata": {},
     "output_type": "execute_result"
    }
   ],
   "source": [
    "over_80.numpy()"
   ]
  },
  {
   "cell_type": "markdown",
   "metadata": {},
   "source": [
    "위는 `&`연산으로 가능합니다."
   ]
  },
  {
   "cell_type": "code",
   "execution_count": 19,
   "metadata": {},
   "outputs": [
    {
     "data": {
      "text/plain": [
       "<tf.Tensor: id=93, shape=(6, 5), dtype=bool, numpy=\n",
       "array([[False,  True, False, False,  True],\n",
       "       [ True, False, False, False,  True],\n",
       "       [ True, False, False, False, False],\n",
       "       [False,  True, False, False, False],\n",
       "       [False,  True,  True,  True, False],\n",
       "       [ True, False,  True,  True, False]])>"
      ]
     },
     "execution_count": 19,
     "metadata": {},
     "output_type": "execute_result"
    }
   ],
   "source": [
    "(middle_tensor>80) & (final_tensor>80)"
   ]
  },
  {
   "cell_type": "markdown",
   "metadata": {},
   "source": [
    "### (2) logical_or\n",
    "원소 별로 둘 중 하나라도 만족하는 것을 확인합니다."
   ]
  },
  {
   "cell_type": "code",
   "execution_count": 20,
   "metadata": {},
   "outputs": [
    {
     "data": {
      "text/plain": [
       "array([[ True,  True,  True, False,  True],\n",
       "       [ True, False,  True, False,  True],\n",
       "       [ True, False, False, False,  True],\n",
       "       [False,  True, False, False,  True],\n",
       "       [False,  True,  True,  True,  True],\n",
       "       [ True,  True,  True,  True,  True]])"
      ]
     },
     "execution_count": 20,
     "metadata": {},
     "output_type": "execute_result"
    }
   ],
   "source": [
    "over_80 = tf.math.logical_or((middle_tensor>80),\n",
    "                             (final_tensor>80))\n",
    "over_80.numpy()"
   ]
  },
  {
   "cell_type": "markdown",
   "metadata": {},
   "source": [
    "위는 `|`연산으로 가능합니다."
   ]
  },
  {
   "cell_type": "code",
   "execution_count": 21,
   "metadata": {},
   "outputs": [
    {
     "data": {
      "text/plain": [
       "<tf.Tensor: id=105, shape=(6, 5), dtype=bool, numpy=\n",
       "array([[ True,  True,  True, False,  True],\n",
       "       [ True, False,  True, False,  True],\n",
       "       [ True, False, False, False,  True],\n",
       "       [False,  True, False, False,  True],\n",
       "       [False,  True,  True,  True,  True],\n",
       "       [ True,  True,  True,  True,  True]])>"
      ]
     },
     "execution_count": 21,
     "metadata": {},
     "output_type": "execute_result"
    }
   ],
   "source": [
    "(middle_tensor>80) | (final_tensor>80)"
   ]
  },
  {
   "cell_type": "markdown",
   "metadata": {},
   "source": [
    "### (3) logical_not\n",
    "elementwise로 결과를 반전시킵니다."
   ]
  },
  {
   "cell_type": "code",
   "execution_count": 22,
   "metadata": {},
   "outputs": [
    {
     "data": {
      "text/plain": [
       "<tf.Tensor: id=109, shape=(6, 5), dtype=bool, numpy=\n",
       "array([[ True, False,  True,  True, False],\n",
       "       [False,  True, False,  True, False],\n",
       "       [False,  True,  True,  True, False],\n",
       "       [ True, False,  True,  True,  True],\n",
       "       [ True, False, False, False, False],\n",
       "       [False, False, False, False,  True]])>"
      ]
     },
     "execution_count": 22,
     "metadata": {},
     "output_type": "execute_result"
    }
   ],
   "source": [
    "tf.math.logical_not(middle_tensor>80)"
   ]
  },
  {
   "cell_type": "markdown",
   "metadata": {},
   "source": [
    "위는 `~`연산으로 가능합니다."
   ]
  },
  {
   "cell_type": "code",
   "execution_count": 23,
   "metadata": {},
   "outputs": [
    {
     "data": {
      "text/plain": [
       "<tf.Tensor: id=113, shape=(6, 5), dtype=bool, numpy=\n",
       "array([[ True, False,  True,  True, False],\n",
       "       [False,  True, False,  True, False],\n",
       "       [False,  True,  True,  True, False],\n",
       "       [ True, False,  True,  True,  True],\n",
       "       [ True, False, False, False, False],\n",
       "       [False, False, False, False,  True]])>"
      ]
     },
     "execution_count": 23,
     "metadata": {},
     "output_type": "execute_result"
    }
   ],
   "source": [
    "~(middle_tensor>80)"
   ]
  },
  {
   "cell_type": "markdown",
   "metadata": {},
   "source": [
    "### (4) logical_xor\n",
    "원소 별로 xor관계인 결과를 반환합니다."
   ]
  },
  {
   "cell_type": "code",
   "execution_count": 24,
   "metadata": {},
   "outputs": [
    {
     "data": {
      "text/plain": [
       "array([[ True, False,  True, False, False],\n",
       "       [False, False,  True, False, False],\n",
       "       [False, False, False, False,  True],\n",
       "       [False, False, False, False,  True],\n",
       "       [False, False, False, False,  True],\n",
       "       [False,  True, False, False,  True]])"
      ]
     },
     "execution_count": 24,
     "metadata": {},
     "output_type": "execute_result"
    }
   ],
   "source": [
    "over_80 = tf.math.logical_xor((middle_tensor>80),\n",
    "                             (final_tensor>80))\n",
    "over_80.numpy()"
   ]
  },
  {
   "cell_type": "markdown",
   "metadata": {},
   "source": [
    "위는 `^`연산으로 가능합니다."
   ]
  },
  {
   "cell_type": "code",
   "execution_count": 25,
   "metadata": {},
   "outputs": [
    {
     "data": {
      "text/plain": [
       "<tf.Tensor: id=131, shape=(6, 5), dtype=bool, numpy=\n",
       "array([[ True, False,  True, False, False],\n",
       "       [False, False,  True, False, False],\n",
       "       [False, False, False, False,  True],\n",
       "       [False, False, False, False,  True],\n",
       "       [False, False, False, False,  True],\n",
       "       [False,  True, False, False,  True]])>"
      ]
     },
     "execution_count": 25,
     "metadata": {},
     "output_type": "execute_result"
    }
   ],
   "source": [
    "(middle_tensor>80) ^ (final_tensor>80)"
   ]
  },
  {
   "cell_type": "markdown",
   "metadata": {},
   "source": [
    "# \\[ 3. 형 변환 연산 \\]\n",
    "\n",
    "---\n",
    "\n",
    "---\n",
    "\n",
    "> 텐서플로우는 numpy와 다르게 엄격히 자료형(datatype)을 관리합니다. 이를 변환시키는 메소드로 `tf.cast`가 있습니다."
   ]
  },
  {
   "cell_type": "code",
   "execution_count": 26,
   "metadata": {},
   "outputs": [
    {
     "ename": "InvalidArgumentError",
     "evalue": "cannot compute Mul as input #0(zero-based) was expected to be a int64 tensor but is a bool tensor [Op:Mul] name: mul/",
     "output_type": "error",
     "traceback": [
      "\u001b[0;31m---------------------------------------------------------------------------\u001b[0m",
      "\u001b[0;31mInvalidArgumentError\u001b[0m                      Traceback (most recent call last)",
      "\u001b[0;32m<ipython-input-26-87b0205f3d8d>\u001b[0m in \u001b[0;36m<module>\u001b[0;34m\u001b[0m\n\u001b[1;32m      4\u001b[0m \u001b[0mmask\u001b[0m \u001b[0;34m=\u001b[0m \u001b[0mmiddle_tensor\u001b[0m \u001b[0;34m>\u001b[0m \u001b[0;36m80\u001b[0m\u001b[0;34m\u001b[0m\u001b[0m\n\u001b[1;32m      5\u001b[0m \u001b[0;34m\u001b[0m\u001b[0m\n\u001b[0;32m----> 6\u001b[0;31m \u001b[0mmask\u001b[0m \u001b[0;34m*\u001b[0m \u001b[0mmiddle_tensor\u001b[0m\u001b[0;34m\u001b[0m\u001b[0m\n\u001b[0m",
      "\u001b[0;32m~/anaconda3/lib/python3.6/site-packages/tensorflow/python/ops/math_ops.py\u001b[0m in \u001b[0;36mbinary_op_wrapper\u001b[0;34m(x, y)\u001b[0m\n\u001b[1;32m    810\u001b[0m     \u001b[0;32mwith\u001b[0m \u001b[0mops\u001b[0m\u001b[0;34m.\u001b[0m\u001b[0mname_scope\u001b[0m\u001b[0;34m(\u001b[0m\u001b[0;32mNone\u001b[0m\u001b[0;34m,\u001b[0m \u001b[0mop_name\u001b[0m\u001b[0;34m,\u001b[0m \u001b[0;34m[\u001b[0m\u001b[0mx\u001b[0m\u001b[0;34m,\u001b[0m \u001b[0my\u001b[0m\u001b[0;34m]\u001b[0m\u001b[0;34m)\u001b[0m \u001b[0;32mas\u001b[0m \u001b[0mname\u001b[0m\u001b[0;34m:\u001b[0m\u001b[0;34m\u001b[0m\u001b[0m\n\u001b[1;32m    811\u001b[0m       \u001b[0;32mif\u001b[0m \u001b[0misinstance\u001b[0m\u001b[0;34m(\u001b[0m\u001b[0mx\u001b[0m\u001b[0;34m,\u001b[0m \u001b[0mops\u001b[0m\u001b[0;34m.\u001b[0m\u001b[0mTensor\u001b[0m\u001b[0;34m)\u001b[0m \u001b[0;32mand\u001b[0m \u001b[0misinstance\u001b[0m\u001b[0;34m(\u001b[0m\u001b[0my\u001b[0m\u001b[0;34m,\u001b[0m \u001b[0mops\u001b[0m\u001b[0;34m.\u001b[0m\u001b[0mTensor\u001b[0m\u001b[0;34m)\u001b[0m\u001b[0;34m:\u001b[0m\u001b[0;34m\u001b[0m\u001b[0m\n\u001b[0;32m--> 812\u001b[0;31m         \u001b[0;32mreturn\u001b[0m \u001b[0mfunc\u001b[0m\u001b[0;34m(\u001b[0m\u001b[0mx\u001b[0m\u001b[0;34m,\u001b[0m \u001b[0my\u001b[0m\u001b[0;34m,\u001b[0m \u001b[0mname\u001b[0m\u001b[0;34m=\u001b[0m\u001b[0mname\u001b[0m\u001b[0;34m)\u001b[0m\u001b[0;34m\u001b[0m\u001b[0m\n\u001b[0m\u001b[1;32m    813\u001b[0m       \u001b[0;32melif\u001b[0m \u001b[0;32mnot\u001b[0m \u001b[0misinstance\u001b[0m\u001b[0;34m(\u001b[0m\u001b[0my\u001b[0m\u001b[0;34m,\u001b[0m \u001b[0msparse_tensor\u001b[0m\u001b[0;34m.\u001b[0m\u001b[0mSparseTensor\u001b[0m\u001b[0;34m)\u001b[0m\u001b[0;34m:\u001b[0m\u001b[0;34m\u001b[0m\u001b[0m\n\u001b[1;32m    814\u001b[0m         \u001b[0;32mtry\u001b[0m\u001b[0;34m:\u001b[0m\u001b[0;34m\u001b[0m\u001b[0m\n",
      "\u001b[0;32m~/anaconda3/lib/python3.6/site-packages/tensorflow/python/ops/math_ops.py\u001b[0m in \u001b[0;36m_mul_dispatch\u001b[0;34m(x, y, name)\u001b[0m\n\u001b[1;32m   1076\u001b[0m   \u001b[0mis_tensor_y\u001b[0m \u001b[0;34m=\u001b[0m \u001b[0misinstance\u001b[0m\u001b[0;34m(\u001b[0m\u001b[0my\u001b[0m\u001b[0;34m,\u001b[0m \u001b[0mops\u001b[0m\u001b[0;34m.\u001b[0m\u001b[0mTensor\u001b[0m\u001b[0;34m)\u001b[0m\u001b[0;34m\u001b[0m\u001b[0m\n\u001b[1;32m   1077\u001b[0m   \u001b[0;32mif\u001b[0m \u001b[0mis_tensor_y\u001b[0m\u001b[0;34m:\u001b[0m\u001b[0;34m\u001b[0m\u001b[0m\n\u001b[0;32m-> 1078\u001b[0;31m     \u001b[0;32mreturn\u001b[0m \u001b[0mgen_math_ops\u001b[0m\u001b[0;34m.\u001b[0m\u001b[0mmul\u001b[0m\u001b[0;34m(\u001b[0m\u001b[0mx\u001b[0m\u001b[0;34m,\u001b[0m \u001b[0my\u001b[0m\u001b[0;34m,\u001b[0m \u001b[0mname\u001b[0m\u001b[0;34m=\u001b[0m\u001b[0mname\u001b[0m\u001b[0;34m)\u001b[0m\u001b[0;34m\u001b[0m\u001b[0m\n\u001b[0m\u001b[1;32m   1079\u001b[0m   \u001b[0;32melse\u001b[0m\u001b[0;34m:\u001b[0m\u001b[0;34m\u001b[0m\u001b[0m\n\u001b[1;32m   1080\u001b[0m     \u001b[0;32massert\u001b[0m \u001b[0misinstance\u001b[0m\u001b[0;34m(\u001b[0m\u001b[0my\u001b[0m\u001b[0;34m,\u001b[0m \u001b[0msparse_tensor\u001b[0m\u001b[0;34m.\u001b[0m\u001b[0mSparseTensor\u001b[0m\u001b[0;34m)\u001b[0m  \u001b[0;31m# Case: Dense * Sparse.\u001b[0m\u001b[0;34m\u001b[0m\u001b[0m\n",
      "\u001b[0;32m~/anaconda3/lib/python3.6/site-packages/tensorflow/python/ops/gen_math_ops.py\u001b[0m in \u001b[0;36mmul\u001b[0;34m(x, y, name)\u001b[0m\n\u001b[1;32m   5855\u001b[0m       \u001b[0;32melse\u001b[0m\u001b[0;34m:\u001b[0m\u001b[0;34m\u001b[0m\u001b[0m\n\u001b[1;32m   5856\u001b[0m         \u001b[0mmessage\u001b[0m \u001b[0;34m=\u001b[0m \u001b[0me\u001b[0m\u001b[0;34m.\u001b[0m\u001b[0mmessage\u001b[0m\u001b[0;34m\u001b[0m\u001b[0m\n\u001b[0;32m-> 5857\u001b[0;31m       \u001b[0m_six\u001b[0m\u001b[0;34m.\u001b[0m\u001b[0mraise_from\u001b[0m\u001b[0;34m(\u001b[0m\u001b[0m_core\u001b[0m\u001b[0;34m.\u001b[0m\u001b[0m_status_to_exception\u001b[0m\u001b[0;34m(\u001b[0m\u001b[0me\u001b[0m\u001b[0;34m.\u001b[0m\u001b[0mcode\u001b[0m\u001b[0;34m,\u001b[0m \u001b[0mmessage\u001b[0m\u001b[0;34m)\u001b[0m\u001b[0;34m,\u001b[0m \u001b[0;32mNone\u001b[0m\u001b[0;34m)\u001b[0m\u001b[0;34m\u001b[0m\u001b[0m\n\u001b[0m\u001b[1;32m   5858\u001b[0m   \u001b[0;31m# Add nodes to the TensorFlow graph.\u001b[0m\u001b[0;34m\u001b[0m\u001b[0;34m\u001b[0m\u001b[0m\n\u001b[1;32m   5859\u001b[0m   _, _, _op = _op_def_lib._apply_op_helper(\n",
      "\u001b[0;32m~/anaconda3/lib/python3.6/site-packages/six.py\u001b[0m in \u001b[0;36mraise_from\u001b[0;34m(value, from_value)\u001b[0m\n",
      "\u001b[0;31mInvalidArgumentError\u001b[0m: cannot compute Mul as input #0(zero-based) was expected to be a int64 tensor but is a bool tensor [Op:Mul] name: mul/"
     ]
    }
   ],
   "source": [
    "middle_tensor = scores_tensor[0]\n",
    "\n",
    "# 80점 이상 True\n",
    "mask = middle_tensor > 80\n",
    "\n",
    "mask * middle_tensor"
   ]
  },
  {
   "cell_type": "markdown",
   "metadata": {},
   "source": [
    "아래와 같이, mask의 형을 변환시키면 가능합니다."
   ]
  },
  {
   "cell_type": "code",
   "execution_count": null,
   "metadata": {},
   "outputs": [],
   "source": [
    "int_mask = tf.cast(mask, tf.int64)\n",
    "int_mask * middle_tensor"
   ]
  },
  {
   "cell_type": "markdown",
   "metadata": {},
   "source": [
    "# \\[ 4. 조건 연산 \\]\n",
    "\n",
    "---\n",
    "\n",
    "---\n",
    "\n",
    "> 조건에 따라 서로 다른 연산을 하는 경우가 있습니다. 다음에 배울 예정인 `dropout`과 같이, Test일때와, Train 일때 서로 다른 결과를 반환해야 하는 경우가 있습니다."
   ]
  },
  {
   "cell_type": "code",
   "execution_count": 27,
   "metadata": {},
   "outputs": [],
   "source": [
    "def dropout_value(value_tensor):\n",
    "    dropout_mask = tf.cast(\n",
    "        tf.random.uniform(value_tensor.shape,0,1)>0.5,tf.float32)\n",
    "    return dropout_mask * value_tensor"
   ]
  },
  {
   "cell_type": "markdown",
   "metadata": {},
   "source": [
    "### (1) 참인 경우의 동작"
   ]
  },
  {
   "cell_type": "code",
   "execution_count": 32,
   "metadata": {},
   "outputs": [
    {
     "data": {
      "text/plain": [
       "array([1., 0., 0., 0., 0., 6., 0., 0., 9., 0.], dtype=float32)"
      ]
     },
     "execution_count": 32,
     "metadata": {},
     "output_type": "execute_result"
    }
   ],
   "source": [
    "is_training = tf.constant(True)\n",
    "\n",
    "value_tensor = tf.constant([1,2,3,4,5,6,7,8,9,10],tf.float32)\n",
    "\n",
    "tf.cond(is_training, \n",
    "        lambda : dropout_value(value_tensor), \n",
    "        lambda : value_tensor).numpy()"
   ]
  },
  {
   "cell_type": "markdown",
   "metadata": {},
   "source": [
    "### (2) 거짓인 경우의 동작"
   ]
  },
  {
   "cell_type": "code",
   "execution_count": 35,
   "metadata": {},
   "outputs": [
    {
     "data": {
      "text/plain": [
       "array([ 1.,  2.,  3.,  4.,  5.,  6.,  7.,  8.,  9., 10.], dtype=float32)"
      ]
     },
     "execution_count": 35,
     "metadata": {},
     "output_type": "execute_result"
    }
   ],
   "source": [
    "is_training = tf.constant(False)\n",
    "\n",
    "value_tensor = tf.constant([1,2,3,4,5,6,7,8,9,10],tf.float32)\n",
    "\n",
    "tf.cond(is_training, \n",
    "        lambda : dropout_value(value_tensor), \n",
    "        lambda : value_tensor).numpy()"
   ]
  },
  {
   "cell_type": "markdown",
   "metadata": {},
   "source": [
    "*이 때 중요한 것은 tf.cond에 들어가는 `true_fn`과 `false_fn`에는 인수가 없는, 호출가능한 함수가 들어가야 합니다.*"
   ]
  },
  {
   "cell_type": "markdown",
   "metadata": {},
   "source": [
    "# \\[ 5. 정렬 연산 \\]\n",
    "\n",
    "---\n",
    "\n",
    "---\n",
    "\n",
    "> Tensorflow에서는 1.13버전 이후 공식적으로 `tf.argsort`와 `tf.sort`를 지원해주기 시작했습니다. 이전까지는 텐서플로우에는 정렬에 대한 함수가 존재하지 않아, 사람들이 직접구현하거나, 복잡한 API를 통해 이용했습니다. \n"
   ]
  },
  {
   "cell_type": "markdown",
   "metadata": {},
   "source": [
    "### (1) argsort\n",
    "\n",
    "텐서를 정렬한 순서에 맞게 인덱스를 반환하는 메소드입니다."
   ]
  },
  {
   "cell_type": "code",
   "execution_count": 27,
   "metadata": {},
   "outputs": [
    {
     "data": {
      "text/plain": [
       "<tf.Tensor: id=149, shape=(6, 5), dtype=int64, numpy=\n",
       "array([[80, 92, 70, 65, 92],\n",
       "       [91, 75, 90, 68, 85],\n",
       "       [86, 76, 42, 72, 88],\n",
       "       [77, 92, 52, 60, 80],\n",
       "       [75, 85, 85, 92, 95],\n",
       "       [96, 90, 95, 81, 72]])>"
      ]
     },
     "execution_count": 27,
     "metadata": {},
     "output_type": "execute_result"
    }
   ],
   "source": [
    "middle_tensor = scores_tensor[0]\n",
    "middle_tensor"
   ]
  },
  {
   "cell_type": "code",
   "execution_count": 28,
   "metadata": {},
   "outputs": [
    {
     "data": {
      "text/plain": [
       "<tf.Tensor: id=164, shape=(6, 5), dtype=int32, numpy=\n",
       "array([[4, 1, 2, 3, 5],\n",
       "       [3, 2, 3, 0, 3],\n",
       "       [0, 4, 0, 1, 1],\n",
       "       [2, 5, 4, 2, 2],\n",
       "       [1, 0, 1, 5, 0],\n",
       "       [5, 3, 5, 4, 4]], dtype=int32)>"
      ]
     },
     "execution_count": 28,
     "metadata": {},
     "output_type": "execute_result"
    }
   ],
   "source": [
    "tf.argsort(middle_tensor,axis=0) # 오름차순 정렬"
   ]
  },
  {
   "cell_type": "code",
   "execution_count": 29,
   "metadata": {},
   "outputs": [
    {
     "data": {
      "text/plain": [
       "<tf.Tensor: id=178, shape=(6, 5), dtype=int32, numpy=\n",
       "array([[5, 0, 5, 4, 4],\n",
       "       [1, 3, 1, 5, 0],\n",
       "       [2, 5, 4, 2, 2],\n",
       "       [0, 4, 0, 1, 1],\n",
       "       [3, 2, 3, 0, 3],\n",
       "       [4, 1, 2, 3, 5]], dtype=int32)>"
      ]
     },
     "execution_count": 29,
     "metadata": {},
     "output_type": "execute_result"
    }
   ],
   "source": [
    "tf.argsort(middle_tensor,axis=0,direction='DESCENDING') # 내림차순 정렬"
   ]
  },
  {
   "cell_type": "markdown",
   "metadata": {},
   "source": [
    "### (2) sort\n",
    "\n",
    "텐서를 순서에 맞게 정렬하는 메소드입니다."
   ]
  },
  {
   "cell_type": "code",
   "execution_count": 30,
   "metadata": {},
   "outputs": [
    {
     "data": {
      "text/plain": [
       "<tf.Tensor: id=183, shape=(6, 5), dtype=int64, numpy=\n",
       "array([[80, 92, 70, 65, 92],\n",
       "       [91, 75, 90, 68, 85],\n",
       "       [86, 76, 42, 72, 88],\n",
       "       [77, 92, 52, 60, 80],\n",
       "       [75, 85, 85, 92, 95],\n",
       "       [96, 90, 95, 81, 72]])>"
      ]
     },
     "execution_count": 30,
     "metadata": {},
     "output_type": "execute_result"
    }
   ],
   "source": [
    "middle_tensor = scores_tensor[0]\n",
    "middle_tensor"
   ]
  },
  {
   "cell_type": "code",
   "execution_count": 31,
   "metadata": {},
   "outputs": [
    {
     "data": {
      "text/plain": [
       "<tf.Tensor: id=199, shape=(6, 5), dtype=int64, numpy=\n",
       "array([[75, 75, 42, 60, 72],\n",
       "       [77, 76, 52, 65, 80],\n",
       "       [80, 85, 70, 68, 85],\n",
       "       [86, 90, 85, 72, 88],\n",
       "       [91, 92, 90, 81, 92],\n",
       "       [96, 92, 95, 92, 95]])>"
      ]
     },
     "execution_count": 31,
     "metadata": {},
     "output_type": "execute_result"
    }
   ],
   "source": [
    "tf.sort(middle_tensor,axis=0) # 오름차순 정렬"
   ]
  },
  {
   "cell_type": "code",
   "execution_count": 32,
   "metadata": {},
   "outputs": [
    {
     "data": {
      "text/plain": [
       "<tf.Tensor: id=213, shape=(6, 5), dtype=int64, numpy=\n",
       "array([[96, 92, 95, 92, 95],\n",
       "       [91, 92, 90, 81, 92],\n",
       "       [86, 90, 85, 72, 88],\n",
       "       [80, 85, 70, 68, 85],\n",
       "       [77, 76, 52, 65, 80],\n",
       "       [75, 75, 42, 60, 72]])>"
      ]
     },
     "execution_count": 32,
     "metadata": {},
     "output_type": "execute_result"
    }
   ],
   "source": [
    "tf.sort(middle_tensor,axis=0,direction='DESCENDING') # 내림차순 정렬"
   ]
  },
  {
   "cell_type": "markdown",
   "metadata": {},
   "source": [
    "#  \n",
    "\n",
    "---\n",
    "\n",
    "    Copyright(c) 2019 by Public AI. All rights reserved.\n",
    "    Writen by PAI, SangJae Kang ( rocketgrowthsj@publicai.co.kr )  last updated on 2019/03/22\n",
    "\n",
    "\n",
    "---"
   ]
  }
 ],
 "metadata": {
  "kernelspec": {
   "display_name": "Python 3",
   "language": "python",
   "name": "python3"
  },
  "language_info": {
   "codemirror_mode": {
    "name": "ipython",
    "version": 3
   },
   "file_extension": ".py",
   "mimetype": "text/x-python",
   "name": "python",
   "nbconvert_exporter": "python",
   "pygments_lexer": "ipython3",
   "version": "3.6.5"
  }
 },
 "nbformat": 4,
 "nbformat_minor": 2
}
