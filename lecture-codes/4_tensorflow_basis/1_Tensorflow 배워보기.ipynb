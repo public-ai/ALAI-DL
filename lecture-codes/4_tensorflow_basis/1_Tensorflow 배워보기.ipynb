{
 "cells": [
  {
   "cell_type": "markdown",
   "metadata": {
    "colab_type": "text",
    "id": "JwXVP87OO6RW"
   },
   "source": [
    " ╔══<i><b>Alai-DeepLearning</b></i>═══════════════════════════╗\n",
    "###  &nbsp;&nbsp; **✎&nbsp;&nbsp;week 4. Tensorflow basis **\n",
    "# Section 1. Tensorflow 배워보기\n",
    "\n",
    "### _Objective_\n",
    "Tensorflow 는 무엇이고 어떻게 구성되어 있는지 배워봅니다.\n",
    "<br>\n",
    "\n",
    "\n",
    "╚════════════════════════════════════════╝"
   ]
  },
  {
   "cell_type": "code",
   "execution_count": 1,
   "metadata": {
    "colab": {},
    "colab_type": "code",
    "id": "k-o8zDSkO6RZ"
   },
   "outputs": [],
   "source": [
    "%matplotlib inline\n",
    "import numpy as np\n",
    "import tensorflow as tf\n",
    "import matplotlib.pyplot as plt"
   ]
  },
  {
   "cell_type": "markdown",
   "metadata": {},
   "source": [
    "### [Optional.  Tensorflow Graph Visualization ]\n",
    "\n",
    "---\n",
    "\n",
    "> _Jupyter에서 Tensorflow에서 구성되는 Graph를 시각적으로 보여주기 위한 helper 메소드입니다._<br>"
   ]
  },
  {
   "cell_type": "code",
   "execution_count": 2,
   "metadata": {},
   "outputs": [],
   "source": [
    "from IPython.display import clear_output, Image, display, HTML\n",
    "import numpy as np    \n",
    "\n",
    "def strip_consts(graph_def, max_const_size=32):\n",
    "    \"\"\"Strip large constant values from graph_def.\"\"\"\n",
    "    strip_def = tf.GraphDef()\n",
    "    for n0 in graph_def.node:\n",
    "        n = strip_def.node.add() \n",
    "        n.MergeFrom(n0)\n",
    "        if n.op == 'Const':\n",
    "            tensor = n.attr['value'].tensor\n",
    "            size = len(tensor.tensor_content)\n",
    "            if size > max_const_size:\n",
    "                tensor.tensor_content = \"<stripped %d bytes>\"%size\n",
    "    return strip_def\n",
    "\n",
    "def show_graph(graph_def, max_const_size=32):\n",
    "    \"\"\"Visualize TensorFlow graph.\"\"\"\n",
    "    if hasattr(graph_def, 'as_graph_def'):\n",
    "        graph_def = graph_def.as_graph_def()\n",
    "    strip_def = strip_consts(graph_def, max_const_size=max_const_size)\n",
    "    code = \"\"\"\n",
    "        <script>\n",
    "          function load() {{\n",
    "            document.getElementById(\"{id}\").pbtxt = {data};\n",
    "          }}\n",
    "        </script>\n",
    "        <link rel=\"import\" href=\"https://tensorboard.appspot.com/tf-graph-basic.build.html\" onload=load()>\n",
    "        <div style=\"height:600px\">\n",
    "          <tf-graph-basic id=\"{id}\"></tf-graph-basic>\n",
    "        </div>\n",
    "    \"\"\".format(data=repr(str(strip_def)), id='graph'+str(np.random.rand()))\n",
    "\n",
    "    iframe = \"\"\"\n",
    "        <iframe seamless style=\"width:1200px;height:620px;border:0\" srcdoc=\"{}\"></iframe>\n",
    "    \"\"\".format(code.replace('\"', '&quot;'))\n",
    "    display(HTML(iframe))"
   ]
  },
  {
   "cell_type": "markdown",
   "metadata": {
    "colab_type": "text",
    "id": "-xLXSgg4O6Rd"
   },
   "source": [
    "# \\[ 1. Deep Learning Framework  \\]\n",
    "\n",
    "---\n",
    "\n",
    "---\n",
    "\n",
    ">  Deep learning Framework 의 종류와 효용성에 대해 알아봅니다."
   ]
  },
  {
   "cell_type": "markdown",
   "metadata": {
    "colab_type": "text",
    "id": "M1nhRjsbO6Rl"
   },
   "source": [
    "## 1. Framework 정의 \n",
    "\n",
    "---\n",
    "\n",
    "+ Gof 디자인 패턴으로 유명한 랄프 존슨은 아래와 같이 프레임워크를 정의 <br>\n",
    "“프레임워크란 소프트웨어 구체적인 부분에 해당하는 \n",
    "설계와 구현을 재사용이 가능하게끔 일련의 협업화된 형태로 클래스들을 제공하는 것\""
   ]
  },
  {
   "cell_type": "markdown",
   "metadata": {
    "colab_type": "text",
    "id": "QPDc_0eantWv"
   },
   "source": [
    "## 2. Deep learning Framework 의 종류\n",
    "\n",
    "---\n",
    "\n",
    "|이름 | 언어 | OS | Company |\n",
    "|---|---|---|---|---|---|\n",
    "|Tensorlfow|Python , C++ , etc|Linux , macOS, Window, IOS, Android|Google|\n",
    "|MXNET|Python , C++, etc|Linux , macOS , Window , IOS , Android|Amazon|\n",
    "|Caffe|Python , C++|Linux, MacOS, Window|Burkely Univ.|\n",
    "|PyTorch|Python, C++ , Lua|Linux, MacOS , Window, IOS , Android|Facebook|\n",
    "|CNTK |Python , C++|Linux, Window |Microsoft|\n",
    "\n",
    "\n",
    "<br>"
   ]
  },
  {
   "cell_type": "markdown",
   "metadata": {
    "colab_type": "text",
    "id": "mbtLZrhXo00Q"
   },
   "source": [
    "## 3. Tensorflow 을 써야 하는 이유  \n",
    "\n",
    "---\n",
    "\n",
    "+ Graph 형태의 코딩 방식 , 병렬 처리 연산을 지원.<br>\n",
    "+ 신경망을 구성하는데 필요한 연산을 C++ 로 구성 , 딥러닝 연산을 효율적으로 할 수 있게 지원.<br>\n",
    "+ 훌륭한 시각화 도구인 Tensorboard을 제공.<br>\n",
    "+ 가장 큰 커뮤니티를 형성하고 있음 <br>\n",
    "+ 잘 정리된 Document<br>\n",
    "+ 개발된 모형을 Mobile 등 다양한 기기에 이식 할수 있는 장점<br>"
   ]
  },
  {
   "cell_type": "markdown",
   "metadata": {
    "colab_type": "text",
    "id": "UAVpbJNyo1cB"
   },
   "source": [
    "# [ 2. Python 과 Tensorflow 의 실행 차이 ]\n",
    "\n",
    "---\n",
    "\n",
    "---\n",
    "\n",
    "> Python 을 실행했을 때와 Tensorflow을 실행했을 때의 차이점을 \n",
    "살펴봅니다. <br>"
   ]
  },
  {
   "cell_type": "markdown",
   "metadata": {
    "colab_type": "text",
    "id": "F_ac_F0QO6Rm"
   },
   "source": [
    "## 1. 예제, 더하기 그래프 구현\n",
    "````\n",
    "Python , Tensorflow 에서 각각 \n",
    "\n",
    ">>> a = 3 \n",
    ">>> b = 9 \n",
    ">>> c = a + b \n",
    "\n",
    "을 실행해보세요\n",
    "````"
   ]
  },
  {
   "cell_type": "code",
   "execution_count": 3,
   "metadata": {
    "colab": {
     "base_uri": "https://localhost:8080/",
     "height": 33.0
    },
    "colab_type": "code",
    "id": "r_SioX5As9kt",
    "outputId": "3f7f2edb-1bd2-468c-f958-09cbf67984b9"
   },
   "outputs": [
    {
     "name": "stdout",
     "output_type": "stream",
     "text": [
      "12\n"
     ]
    }
   ],
   "source": [
    "# python 코드 \n",
    "a = 3 \n",
    "b = 9 \n",
    "print(a + b)"
   ]
  },
  {
   "cell_type": "code",
   "execution_count": 4,
   "metadata": {
    "colab": {
     "base_uri": "https://localhost:8080/",
     "height": 33.0
    },
    "colab_type": "code",
    "id": "c4bnX34HtE5K",
    "outputId": "91918872-39e8-49a0-ee1d-c1bad9de9946"
   },
   "outputs": [
    {
     "name": "stdout",
     "output_type": "stream",
     "text": [
      "Tensor(\"add:0\", shape=(), dtype=int32)\n"
     ]
    }
   ],
   "source": [
    "# Tensorflow 코드\n",
    "tf.reset_default_graph()\n",
    "\n",
    "\n",
    "a = tf.constant(3)\n",
    "b = tf.constant(9)\n",
    "c = a + b\n",
    "\n",
    "print(c)"
   ]
  },
  {
   "cell_type": "markdown",
   "metadata": {
    "colab_type": "text",
    "id": "G-n7bPqrsqDl"
   },
   "source": [
    "c 을 출력했을 때 우리가 기대했던 값은 12 이지만 12가 나오지 않고<br>\n",
    "아직 알수 없는 문자열이 출력 되었습니다. "
   ]
  },
  {
   "cell_type": "markdown",
   "metadata": {},
   "source": [
    "## 2. 텐서플로우의 구조\n",
    "---\n",
    "\n",
    "Tensorflow는 크게 2단계로 나뉘어 집니다.\n",
    "\n",
    "1. 연산을 정의하는 **Graph Build** 단계\n",
    "2. 연산을 실제로 동작시키는 **Session Run** 단계"
   ]
  },
  {
   "cell_type": "markdown",
   "metadata": {},
   "source": [
    "### (1) Graph Build 단계\n",
    "\n",
    "위에서 짠 코드들은 실제로는, 아래와 같이 Graph로서 연산이 정의됩니다."
   ]
  },
  {
   "cell_type": "code",
   "execution_count": 5,
   "metadata": {},
   "outputs": [
    {
     "data": {
      "text/html": [
       "\n",
       "        <iframe seamless style=\"width:1200px;height:620px;border:0\" srcdoc=\"\n",
       "        <script>\n",
       "          function load() {\n",
       "            document.getElementById(&quot;graph0.20594074097402937&quot;).pbtxt = 'node {\\n  name: &quot;Const&quot;\\n  op: &quot;Const&quot;\\n  attr {\\n    key: &quot;dtype&quot;\\n    value {\\n      type: DT_INT32\\n    }\\n  }\\n  attr {\\n    key: &quot;value&quot;\\n    value {\\n      tensor {\\n        dtype: DT_INT32\\n        tensor_shape {\\n        }\\n        int_val: 3\\n      }\\n    }\\n  }\\n}\\nnode {\\n  name: &quot;Const_1&quot;\\n  op: &quot;Const&quot;\\n  attr {\\n    key: &quot;dtype&quot;\\n    value {\\n      type: DT_INT32\\n    }\\n  }\\n  attr {\\n    key: &quot;value&quot;\\n    value {\\n      tensor {\\n        dtype: DT_INT32\\n        tensor_shape {\\n        }\\n        int_val: 9\\n      }\\n    }\\n  }\\n}\\nnode {\\n  name: &quot;add&quot;\\n  op: &quot;Add&quot;\\n  input: &quot;Const&quot;\\n  input: &quot;Const_1&quot;\\n  attr {\\n    key: &quot;T&quot;\\n    value {\\n      type: DT_INT32\\n    }\\n  }\\n}\\n';\n",
       "          }\n",
       "        </script>\n",
       "        <link rel=&quot;import&quot; href=&quot;https://tensorboard.appspot.com/tf-graph-basic.build.html&quot; onload=load()>\n",
       "        <div style=&quot;height:600px&quot;>\n",
       "          <tf-graph-basic id=&quot;graph0.20594074097402937&quot;></tf-graph-basic>\n",
       "        </div>\n",
       "    \"></iframe>\n",
       "    "
      ],
      "text/plain": [
       "<IPython.core.display.HTML object>"
      ]
     },
     "metadata": {},
     "output_type": "execute_result"
    }
   ],
   "source": [
    "default_graph = tf.get_default_graph()\n",
    "show_graph(default_graph)"
   ]
  },
  {
   "cell_type": "markdown",
   "metadata": {},
   "source": [
    "### (2) Session Run 단계\n",
    "\n",
    "Tensorflow 을 실행할려면 Session이라는 객체를 통해, 실행시킬 수 있습니다."
   ]
  },
  {
   "cell_type": "code",
   "execution_count": null,
   "metadata": {
    "colab": {
     "base_uri": "https://localhost:8080/",
     "height": 33.0
    },
    "colab_type": "code",
    "id": "5xp7NIWAvrsF",
    "outputId": "83b083fc-3973-4791-e912-2de635f815a5"
   },
   "outputs": [],
   "source": [
    "# default_graph를 실행시키겠다는 의미\n",
    "sess = tf.Session(graph=default_graph)\n",
    "sess.run(c)"
   ]
  },
  {
   "cell_type": "markdown",
   "metadata": {
    "colab_type": "text",
    "id": "IyQ7aSIF0dMd"
   },
   "source": [
    "### 예제 2) \n",
    "\n",
    "Python , Tensorflow 에서 각각 <br>\n",
    "a = 8  <br>\n",
    "b = 19 <br>\n",
    "c = -1 <br>\n",
    "e = a  \\*  b <br>\n",
    "f = b  \\+  c <br>\n",
    "d = e  \\\\ f \n",
    "<br>\n",
    "그리고 e, f  을 실행해 보세요."
   ]
  },
  {
   "cell_type": "code",
   "execution_count": null,
   "metadata": {
    "colab": {
     "base_uri": "https://localhost:8080/",
     "height": 33.0
    },
    "colab_type": "code",
    "id": "6gaHdSvG3H0s",
    "outputId": "e7660351-d563-4c21-fa1e-b843a0593771"
   },
   "outputs": [],
   "source": [
    "tf.reset_default_graph() # 이전 그래프를 지웁니다\n",
    "\n",
    "a = tf.constant(8)\n",
    "b = tf.constant(19)\n",
    "c = tf.constant(-1)\n",
    "\n",
    "e = tf.multiply(x=a, y=b)\n",
    "f = tf.add(x=b, y=c)\n",
    "d = tf.multiply(x=e, y=f)\n",
    "sess = tf.Session()\n",
    "e_, f_ = sess.run([e, f])\n",
    "\n",
    "print('e value : {}, f value : {}'.format(e_ ,f_))"
   ]
  },
  {
   "cell_type": "markdown",
   "metadata": {
    "colab_type": "text",
    "id": "cr1hOwrgo1mY"
   },
   "source": [
    "# [ 3. Data flow Programming ]\n",
    "\n",
    "---\n",
    "---\n",
    "> Data flow programming 에 대해 알아보고 Tesnorflow 가 어떻게 구성되어 있는지 알아봅니다."
   ]
  },
  {
   "cell_type": "markdown",
   "metadata": {
    "colab_type": "text",
    "id": "EjVzEoOh2VmU"
   },
   "source": [
    "## 1. Data flow Programming\n",
    "\n",
    "---\n",
    "\n",
    "+ 텐서플로우의 프로그래밍 방식은 Data flow Programming 방식입니다. <br>\n",
    "+ Data Flow Programming은 데이터가 어떻게 흘러가야 할지를 결정합니다.\n"
   ]
  },
  {
   "cell_type": "code",
   "execution_count": null,
   "metadata": {
    "colab": {
     "base_uri": "https://localhost:8080/",
     "height": 33.0
    },
    "colab_type": "code",
    "id": "mFJJx5VO36xj",
    "outputId": "0abe4976-0e73-4f46-9b2f-68c452336ae2"
   },
   "outputs": [],
   "source": [
    "tf.reset_default_graph()\n",
    "\n",
    "a = tf.constant(8,name='a')\n",
    "b = tf.constant(19,name='b')\n",
    "c = tf.constant(-1,name='c')\n",
    "\n",
    "e = tf.multiply(x=a, y=b,name='e')\n",
    "f = tf.add(x=b, y=c,name='f')\n",
    "d = tf.multiply(x=e, y=f,name='d')"
   ]
  },
  {
   "cell_type": "code",
   "execution_count": null,
   "metadata": {},
   "outputs": [],
   "source": [
    "default_graph = tf.get_default_graph()\n",
    "show_graph(default_graph)"
   ]
  },
  {
   "cell_type": "code",
   "execution_count": null,
   "metadata": {},
   "outputs": [],
   "source": [
    "sess = tf.Session()\n",
    "e_, f_ =sess.run([e, f])\n",
    "print('e value : {}, f value : {}'.format(e_ ,f_))"
   ]
  },
  {
   "cell_type": "markdown",
   "metadata": {
    "colab_type": "text",
    "id": "XeQyDNWN4Apc"
   },
   "source": [
    "만약 위 코드에서 f 만 수행하면 f 와 연결된 b, c 만 수행됩니다.<br>\n",
    "하지만 f  와 연결된 e_ 는 수행되지 않습니다.<br>\n",
    "또한 dependency 관계에 있는 a, b 만 수행됩니다.<br> \n",
    "이렇게 데이터 플로우 프로그래밍에서는 연결되어 있고 dependency 관계에 있는 값들을 수행합니다.<br>\n",
    "이는 데이터(Data)가 어디로 흘러 가야(flow) 할지 결정 해 줍니다. "
   ]
  },
  {
   "cell_type": "markdown",
   "metadata": {
    "colab_type": "text",
    "id": "hiDopWqZpn2H"
   },
   "source": [
    "## 2. Node 란?\n",
    "\n",
    "---\n",
    "\n",
    "* Node 란? 그래프 이론에서 꼭지점을 의미합니다. Tensorflow 에서는 Node 을 Operation 이라고 합니다.<br> \n",
    "* Operation의 역할은 각 Edge로부터 들어온 값을 받아 어떠한 **연산**을 수행하는 것을 의미합니다."
   ]
  },
  {
   "cell_type": "markdown",
   "metadata": {
    "colab_type": "text",
    "id": "jVXXkRwGpoEn"
   },
   "source": [
    "### (1) Node 의 구성요소\n",
    "<br>\n",
    "✎  Node 는 name , operation, attribute, input, output 으로 구성 되어 있습니다 "
   ]
  },
  {
   "cell_type": "code",
   "execution_count": null,
   "metadata": {
    "colab": {
     "base_uri": "https://localhost:8080/",
     "height": 533.0
    },
    "colab_type": "code",
    "id": "kE9LoIPApe3l",
    "outputId": "21a8a5a1-5cf5-42af-8a77-f6120982117c"
   },
   "outputs": [],
   "source": [
    "tf.reset_default_graph()\n",
    "a = tf.constant(1, name=\"constant_1\")\n",
    "b = tf.constant(2, name=\"constant_2\")\n",
    "c = tf.add(a,b,name=\"Add\")\n",
    "\n",
    "graph = tf.get_default_graph() \n",
    "add_op = graph.get_operation_by_name('Add')\n",
    "print(add_op)"
   ]
  },
  {
   "cell_type": "code",
   "execution_count": null,
   "metadata": {},
   "outputs": [],
   "source": [
    "default_graph = tf.get_default_graph()\n",
    "show_graph(default_graph)"
   ]
  },
  {
   "cell_type": "markdown",
   "metadata": {
    "colab_type": "text",
    "id": "YW0b9sRtpLEN"
   },
   "source": [
    "### (2) Node 을 Session 에서 실행시켰을 때\n",
    "Session 을 통해 Node 을 실행시키면 아무 값도 반환(return) 되지 않습니다.  `None` 값을 반환합니다."
   ]
  },
  {
   "cell_type": "code",
   "execution_count": null,
   "metadata": {
    "colab": {
     "base_uri": "https://localhost:8080/",
     "height": 33.0
    },
    "colab_type": "code",
    "id": "u2vH0zkGy2VA",
    "outputId": "fd108dba-a3cf-4501-bd50-6b7a8150e17e"
   },
   "outputs": [],
   "source": [
    "tf.reset_default_graph()\n",
    "a = tf.constant(1, name=\"constant_1\")\n",
    "b = tf.constant(2, name=\"constant_2\")\n",
    "c = tf.add(a,b,name=\"Add\")\n",
    "\n",
    "graph = tf.get_default_graph() \n",
    "add_op = graph.get_operation_by_name('Add')\n",
    "\n",
    "sess = tf.Session(graph=graph)\n",
    "print(sess.run(add_op))"
   ]
  },
  {
   "cell_type": "markdown",
   "metadata": {},
   "source": [
    "더하기 동작을 진행하되, 그 결과를 반환하지 않습니다. 나중에 **할당(assign)** 연산, **갱신(update)** 연산 등을 동작시킬 때 Node를 Run합니다."
   ]
  },
  {
   "cell_type": "markdown",
   "metadata": {
    "colab_type": "text",
    "id": "8RfjpAhjpW67"
   },
   "source": [
    "## 3. Edge  란?\n",
    "---\n",
    "\n",
    "<br>\n",
    "\n",
    "* 컴퓨터 Graph 이론에서 Edge는 Node와 Node 사이를 이어주는 관계 정보를 의미합니다.<br>\n",
    "* Tensorflow 에서는 Edge 을 Tensor 라고 합니다. <br>\n",
    "* Tensor 는 본래 다차원 배일이라는 뜻이며 Tensorflow 에서 Tensor는  Node와 Node을 이어주며 다차원 배열을 가지고 있습니다. "
   ]
  },
  {
   "cell_type": "code",
   "execution_count": null,
   "metadata": {
    "colab": {
     "base_uri": "https://localhost:8080/",
     "height": 33.0
    },
    "colab_type": "code",
    "id": "FFgZFG7g5DqT",
    "outputId": "717af1df-dde9-491c-8e8b-53878e76b4d5"
   },
   "outputs": [],
   "source": [
    "tf.reset_default_graph()\n",
    "a = tf.constant(1, name=\"constant_1\")\n",
    "b = tf.constant(2, name=\"constant_2\")\n",
    "c = tf.add(a,b,name=\"Add\")\n",
    "\n",
    "print(c)"
   ]
  },
  {
   "cell_type": "code",
   "execution_count": null,
   "metadata": {},
   "outputs": [],
   "source": [
    "default_graph = tf.get_default_graph()\n",
    "show_graph(default_graph)"
   ]
  },
  {
   "cell_type": "markdown",
   "metadata": {
    "colab_type": "text",
    "id": "M5lg56WYjS7J"
   },
   "source": [
    "### (1) Tensor의 차원 \n",
    "Tensor 의 구성 요소인 Shape 을 이해하기 위해 차원에 대해 배워 봅니다."
   ]
  },
  {
   "cell_type": "code",
   "execution_count": null,
   "metadata": {
    "colab": {
     "base_uri": "https://localhost:8080/",
     "height": 33.0
    },
    "colab_type": "code",
    "id": "SA1WiZVh6C6V",
    "outputId": "275ff326-e0dc-41df-ce60-fbe1bd1b603f"
   },
   "outputs": [],
   "source": [
    "# 0 차원 \n",
    "print(tf.constant(3))"
   ]
  },
  {
   "cell_type": "code",
   "execution_count": null,
   "metadata": {
    "colab": {
     "base_uri": "https://localhost:8080/",
     "height": 33.0
    },
    "colab_type": "code",
    "id": "6I-T6kVl6C-n",
    "outputId": "352f92c7-646a-4a84-c244-45f1d4d5fd94"
   },
   "outputs": [],
   "source": [
    "# 1 차원 \n",
    "print(tf.constant([3, 4, 5, 7, 11]))"
   ]
  },
  {
   "cell_type": "code",
   "execution_count": null,
   "metadata": {
    "colab": {
     "base_uri": "https://localhost:8080/",
     "height": 33.0
    },
    "colab_type": "code",
    "id": "Gt39B74M6DA2",
    "outputId": "9d5e045f-7cf5-44e3-d1b5-981da63ecab0"
   },
   "outputs": [],
   "source": [
    "# 2 차원 \n",
    "print(tf.constant([[3, 4, 5, 7],\n",
    "                   [9,11,13,15]]))"
   ]
  },
  {
   "cell_type": "code",
   "execution_count": null,
   "metadata": {
    "colab": {
     "base_uri": "https://localhost:8080/",
     "height": 33.0
    },
    "colab_type": "code",
    "id": "Et1HVlpd6DC9",
    "outputId": "01617625-064c-4153-ce99-bb0afb540e73"
   },
   "outputs": [],
   "source": [
    "# 3 차원 \n",
    "print(tf.constant([[[3, 4, 5, 7],[9,11,13,15]],\n",
    "                   [[17,19,21,23] , [25,27,29,31]]\n",
    "                  ]))"
   ]
  },
  {
   "cell_type": "markdown",
   "metadata": {
    "colab_type": "text",
    "id": "mZm2JvoVp96M"
   },
   "source": [
    "### (2) Tensor의 DataType\n",
    "Tensor 의 구성 요소인 Dtype(Data type) 에 대해 알아봅니다."
   ]
  },
  {
   "cell_type": "code",
   "execution_count": null,
   "metadata": {
    "colab": {
     "base_uri": "https://localhost:8080/",
     "height": 50.0
    },
    "colab_type": "code",
    "id": "DOHfWIyT7U3b",
    "outputId": "b692b575-b640-43a9-b2f3-061afe5e2c3c"
   },
   "outputs": [],
   "source": [
    "# int32, 64\n",
    "print(tf.constant([3, 4, 5, 7, 11] , dtype=tf.int32))\n",
    "print(tf.constant([3, 4, 5, 7, 11] , dtype=tf.int64))"
   ]
  },
  {
   "cell_type": "code",
   "execution_count": null,
   "metadata": {
    "colab": {
     "base_uri": "https://localhost:8080/",
     "height": 50.0
    },
    "colab_type": "code",
    "id": "bL9_MsmK79PR",
    "outputId": "4044dca3-b578-4538-abe1-4aee4994bc65"
   },
   "outputs": [],
   "source": [
    "# float 32, 64\n",
    "print(tf.constant([3, 4, 5, 7, 11] , dtype=tf.float32))\n",
    "print(tf.constant([3, 4, 5, 7, 11] , dtype=tf.float64))"
   ]
  },
  {
   "cell_type": "code",
   "execution_count": null,
   "metadata": {
    "colab": {
     "base_uri": "https://localhost:8080/",
     "height": 33.0
    },
    "colab_type": "code",
    "id": "6Rqs7SW27U5b",
    "outputId": "6757d6e5-151e-4acc-d339-c65f882b6689"
   },
   "outputs": [],
   "source": [
    "# string\n",
    "print(tf.constant(['3', '4', '5', '7', '11'] , dtype=tf.string))"
   ]
  },
  {
   "cell_type": "code",
   "execution_count": null,
   "metadata": {
    "colab": {
     "base_uri": "https://localhost:8080/",
     "height": 33.0
    },
    "colab_type": "code",
    "id": "LpRaW_1K7U7j",
    "outputId": "05153e9b-f243-4226-9095-f8e553318301"
   },
   "outputs": [],
   "source": [
    "# complex64\n",
    "print(tf.constant([3+1j, 4, 5, 7, 11] , dtype=tf.complex64))"
   ]
  },
  {
   "cell_type": "code",
   "execution_count": null,
   "metadata": {
    "colab": {
     "base_uri": "https://localhost:8080/",
     "height": 66.0
    },
    "colab_type": "code",
    "id": "eU4_dMJZ8mW4",
    "outputId": "1160972e-2e4e-4205-91a0-082008107fe9"
   },
   "outputs": [],
   "source": [
    "# unit 16, 32, 64\n",
    "print(tf.constant([3, 4, 5, 7, 11] , dtype=tf.uint16))\n",
    "print(tf.constant([3, 4, 5, 7, 11] , dtype=tf.uint32))\n",
    "print(tf.constant([3, 4, 5, 7, 11] , dtype=tf.uint64))"
   ]
  },
  {
   "cell_type": "markdown",
   "metadata": {
    "colab_type": "text",
    "id": "YqRn-5Pdp96N"
   },
   "source": [
    "## 3. Namescope\n",
    "----\n",
    "\n",
    "* Tensorflow 에서 Tensor , Node 의 이름은 매우 중요합니다. \n",
    "* 모든 Tensor , Node 는 고유한 이름을 가지고 있고 Tensorflow 는 고유한 이름을 통해 Session 을 수행합니다. \n",
    "\n"
   ]
  },
  {
   "cell_type": "markdown",
   "metadata": {
    "colab_type": "text",
    "id": "LdIJGjJk4E_U"
   },
   "source": [
    "### (1) 이름 지정하기 \n",
    "\n",
    "Tensor 와 Node 에는 이름을 규칙이 있습니다. <br>\n",
    "노드의 이름에 `:숫자` 을 붙이면 tensor 의 이름이 됩니다.<br>\n",
    "숫자는 해당 노드에서 나오는 tensor 의 번호 입니다. \n",
    "\n"
   ]
  },
  {
   "cell_type": "code",
   "execution_count": null,
   "metadata": {
    "colab": {
     "base_uri": "https://localhost:8080/",
     "height": 33.0
    },
    "colab_type": "code",
    "id": "lYSyb_n9p96N",
    "outputId": "5a10ef99-cc86-4c3e-e8a5-225e82115c8a"
   },
   "outputs": [],
   "source": [
    "a = tf.constant(3, shape=[1,2], dtype=tf.float32, name='const_0')\n",
    "print(a)"
   ]
  },
  {
   "cell_type": "code",
   "execution_count": null,
   "metadata": {
    "colab": {
     "base_uri": "https://localhost:8080/",
     "height": 50.0
    },
    "colab_type": "code",
    "id": "ZmLP1KWX3Jzh",
    "outputId": "a623c3cb-1f67-486a-aa43-129d244eae73"
   },
   "outputs": [],
   "source": [
    "stacked_tensor = tf.constant([3,100])\n",
    "tf.unstack(stacked_tensor)"
   ]
  },
  {
   "cell_type": "markdown",
   "metadata": {
    "colab_type": "text",
    "id": "aYc8wYrN3XnN"
   },
   "source": [
    "### (2) 상위 범위를 지정하기 \n",
    "이름을 카테고리에 넣고 싶을 때가 있습니다. <br> \n",
    "가령  과일/배 , 선박/배 처럼 다른 카테고리에 넣고 싶을 때가 있습니다. <br> \n",
    "이렇게 상위 범위를 지정하고 싶을때 사용하는 것이 바로 `name_scope, variable_scope` 입니다.  <br> \n",
    "context manager 와 같이 사용합니다. \n"
   ]
  },
  {
   "cell_type": "code",
   "execution_count": null,
   "metadata": {
    "colab": {
     "base_uri": "https://localhost:8080/",
     "height": 50.0
    },
    "colab_type": "code",
    "id": "SPhayedX4iMS",
    "outputId": "8b76747d-4d52-4f4c-9bf1-2211df314378"
   },
   "outputs": [],
   "source": [
    "tf.reset_default_graph()\n",
    "with tf.name_scope(name='algorithm_ai') as scope:\n",
    "    a = tf.Variable(3.0, name='var_0')\n",
    "    b = tf.get_variable(initializer=3.0, name='var_1')\n",
    "print(a)\n",
    "print(b)"
   ]
  },
  {
   "cell_type": "code",
   "execution_count": null,
   "metadata": {
    "colab": {
     "base_uri": "https://localhost:8080/",
     "height": 50.0
    },
    "colab_type": "code",
    "id": "x8qMgpJ15Srx",
    "outputId": "2ab6689c-4a46-4ba4-a7cd-7e0cd383dd5d"
   },
   "outputs": [],
   "source": [
    "tf.reset_default_graph()\n",
    "with tf.variable_scope('algorithm_ai') as scope:\n",
    "    a = tf.Variable(3, name='var_0')\n",
    "    b = tf.get_variable(initializer=3.0, name='var_1',dtype=tf.float32)\n",
    "print(a)\n",
    "print(b)"
   ]
  },
  {
   "cell_type": "code",
   "execution_count": null,
   "metadata": {
    "colab": {
     "base_uri": "https://localhost:8080/",
     "height": 33.0
    },
    "colab_type": "code",
    "id": "HWHii0LG6CVI",
    "outputId": "97394f58-741e-449b-9a7c-1d127d0c48b4"
   },
   "outputs": [],
   "source": [
    "with tf.variable_scope('algorithm_ai', reuse=True) as scope:\n",
    "    b = tf.get_variable(initializer=3.0, name='var_1',dtype=tf.float32)\n",
    "print(b)"
   ]
  },
  {
   "cell_type": "markdown",
   "metadata": {
    "colab_type": "text",
    "id": "LUsQHm7aBMkU"
   },
   "source": [
    "## 4. Graph\n",
    "\n",
    "\n",
    "---\n",
    "\n",
    "+ Node(Operation) 와  Edge(Tensor) 로 구성되어 있는 Graph 에 대해서 알아봅니다. \n"
   ]
  },
  {
   "cell_type": "markdown",
   "metadata": {
    "colab_type": "text",
    "id": "JGXct_LT2S_X"
   },
   "source": [
    "### (1) Default graph \n",
    "Tensorflow 는 기본적으로 default graph 에 node , tensor 을 추가합니다. "
   ]
  },
  {
   "cell_type": "code",
   "execution_count": null,
   "metadata": {
    "colab": {
     "base_uri": "https://localhost:8080/",
     "height": 33.0
    },
    "colab_type": "code",
    "id": "dWeFb-VDBlj6",
    "outputId": "7c29ba4e-1d75-4ad6-dbac-d8717c3f5fed"
   },
   "outputs": [],
   "source": [
    "tf.reset_default_graph()\n",
    "a = tf.constant(8)\n",
    "b = tf.constant(19)\n",
    "c = tf.constant(-1)\n",
    "\n",
    "e = tf.multiply(x=a, y=b)\n",
    "f = tf.add(x=b, y=c)\n",
    "d = tf.multiply(x=e, y=f)\n",
    "\n",
    "sess = tf.Session()\n",
    "e_, f_ =sess.run([e, f])\n",
    "print('e value : {}, f value : {}'.format(e_ ,f_))"
   ]
  },
  {
   "cell_type": "code",
   "execution_count": null,
   "metadata": {},
   "outputs": [],
   "source": [
    "default_graph = tf.get_default_graph() # default graph 가져오기\n",
    "default_graph.get_operations()"
   ]
  },
  {
   "cell_type": "code",
   "execution_count": null,
   "metadata": {},
   "outputs": [],
   "source": [
    "show_graph(default_graph)"
   ]
  },
  {
   "cell_type": "markdown",
   "metadata": {},
   "source": [
    "### (2) Graph 객체 생성하기\n",
    "\n",
    "명시적으로 Graph를 따로 구성하고자 한다면, 아래와 같이 할 수 있습니다.<br> 이때는 `with graph.as_default()`로 명시적으로 context manager을 호출해야 합니다."
   ]
  },
  {
   "cell_type": "code",
   "execution_count": null,
   "metadata": {
    "colab": {
     "base_uri": "https://localhost:8080/",
     "height": 33.0
    },
    "colab_type": "code",
    "id": "4N6GJ9iWBnfZ",
    "outputId": "7da976f4-0636-4ebb-9632-2469bcc35c4b"
   },
   "outputs": [],
   "source": [
    "tf.reset_default_graph()\n",
    "\n",
    "graph = tf.Graph()\n",
    "with graph.as_default():\n",
    "    a = tf.constant(8)\n",
    "    b = tf.constant(19)\n",
    "    c = tf.constant(-1)\n",
    "\n",
    "    e = tf.multiply(x=a, y=b)\n",
    "    f = tf.add(x=b, y=c)\n",
    "    d = tf.multiply(x=e, y=f)\n",
    "  \n",
    "    sess = tf.Session()\n",
    "    e_, f_ =sess.run([e, f])\n",
    "  \n",
    "    print('e value : {} f value : {}'.format(e_ ,f_))"
   ]
  },
  {
   "cell_type": "code",
   "execution_count": null,
   "metadata": {},
   "outputs": [],
   "source": [
    "# 위에 추가한 모든 operation들은 graph에 저장\n",
    "graph.get_operations()"
   ]
  },
  {
   "cell_type": "code",
   "execution_count": null,
   "metadata": {},
   "outputs": [],
   "source": [
    "# 위에 추가한 모든 operation들은 default graph에는 없습니다.\n",
    "tf.get_default_graph().get_operations()"
   ]
  },
  {
   "cell_type": "markdown",
   "metadata": {
    "colab_type": "text",
    "id": "coQWnZ2mp96P"
   },
   "source": [
    "## 5. Session \n",
    "\n",
    "---\n",
    "\n",
    "+ Session 에서 Graph 을 실행 하는 법을 배워봅니다. <br>\n"
   ]
  },
  {
   "cell_type": "markdown",
   "metadata": {
    "colab_type": "text",
    "id": "W_oqMJ-g08iX"
   },
   "source": [
    "### (1) 따로따로 실행하는 것과 동시에 실행 되는것 의 차이점 \n",
    "list 에 tensor , node 을 넣어서  실행하면 graph 가 한번 만 수행됩니다. <br>\n",
    "하지만 session 을 여러번 실행하면  graph 또한 여러번 실행 됩니다.\n"
   ]
  },
  {
   "cell_type": "code",
   "execution_count": null,
   "metadata": {
    "colab": {
     "base_uri": "https://localhost:8080/",
     "height": 50.0
    },
    "colab_type": "code",
    "id": "95tlRMyjx-OY",
    "outputId": "4fd69f92-29fa-4d27-fdca-94fb863e2311"
   },
   "outputs": [],
   "source": [
    "tf.reset_default_graph()\n",
    "a = tf.random_normal(shape=[1], dtype=tf.float32)\n",
    "b = a + 3 \n",
    "\n",
    "sess = tf.Session()\n",
    "\n",
    "a_ = sess.run(a)\n",
    "b_ = sess.run(b)\n",
    "print(a_, b_)\n",
    "\n",
    "\n",
    "a_, b_ = sess.run([a,b])\n",
    "print(a_, b_)"
   ]
  },
  {
   "cell_type": "markdown",
   "metadata": {
    "colab_type": "text",
    "id": "wwAOgFDT0b9o"
   },
   "source": [
    "### (2) 이름으로 실행하기 \n",
    "Session 이 tensor , operation 을 수행 할때는 고유한 이름을 식별자로 이용해 해당 tensor , node 을 수행합니다. "
   ]
  },
  {
   "cell_type": "code",
   "execution_count": 9,
   "metadata": {
    "colab": {
     "base_uri": "https://localhost:8080/",
     "height": 50.0
    },
    "colab_type": "code",
    "id": "GwRhW7LJ0rbB",
    "outputId": "0b78ee8b-7c1b-44c4-9591-c04525b745ab"
   },
   "outputs": [
    {
     "name": "stdout",
     "output_type": "stream",
     "text": [
      "Tensor(\"add:0\", shape=(1,), dtype=float32)\n",
      "[array([0.66117454], dtype=float32), array([3.6130447], dtype=float32)]\n"
     ]
    }
   ],
   "source": [
    "tf.reset_default_graph()\n",
    "a = tf.random_normal(shape=[1], dtype=tf.float32, name='a')\n",
    "b = a + 3 \n",
    "print(b)\n",
    "\n",
    "# Session 생성 \n",
    "sess = tf.Session()\n",
    "\n",
    "# 실행 \n",
    "a_ = sess.run('a:0')\n",
    "b_ = sess.run('add:0')\n",
    "print([a_, b_])"
   ]
  },
  {
   "cell_type": "markdown",
   "metadata": {
    "colab_type": "text",
    "id": "sqE9TAC1O6UF"
   },
   "source": [
    "#  \n",
    "\n",
    "---\n",
    "\n",
    "    Copyright(c) 2019 by Public AI. All rights reserved.<br>\n",
    "    Writen by PAI, SangJae Kang ( rocketgrowthsj@publicai.co.kr )  last updated on 2019/03/04\n",
    "\n",
    "---"
   ]
  }
 ],
 "metadata": {
  "colab": {
   "collapsed_sections": [],
   "name": "1_Tensorflow_DeeplearningFramework.ipynb",
   "provenance": [],
   "toc_visible": true,
   "version": "0.3.2"
  },
  "kernelspec": {
   "display_name": "Python 3",
   "language": "python",
   "name": "python3"
  },
  "language_info": {
   "codemirror_mode": {
    "name": "ipython",
    "version": 3.0
   },
   "file_extension": ".py",
   "mimetype": "text/x-python",
   "name": "python",
   "nbconvert_exporter": "python",
   "pygments_lexer": "ipython3",
   "version": "3.6.5"
  }
 },
 "nbformat": 4,
 "nbformat_minor": 0
}