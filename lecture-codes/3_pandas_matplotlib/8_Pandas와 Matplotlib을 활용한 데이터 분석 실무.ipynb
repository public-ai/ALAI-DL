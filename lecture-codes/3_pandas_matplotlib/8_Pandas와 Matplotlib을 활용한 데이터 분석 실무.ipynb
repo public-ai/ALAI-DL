{
 "cells": [
  {
   "cell_type": "markdown",
   "metadata": {
    "colab_type": "text",
    "id": "7vzLmLuEmK8D"
   },
   "source": [
    " ╔══<i><b>&nbsp;Alai-DeepLearning&nbsp;</b></i>══════════════════════════════════╗\n",
    "###  &nbsp;&nbsp; **✎&nbsp;&nbsp;Week 3. Pandas & Matplotlib**\n",
    "# Section 8. Pandas 와 Matplotlib을 활용한 데이터 분석 \n",
    "\n",
    "### _Objective_\n",
    "1. *앞서 배운 Pandas와 Matplotlib을 실제 데이터에서 어떻게 사용하는지 확인해봅시다.*\n",
    "1. *실제 통계청의 데이터를 활용하여, 데이터를 분석하는 실습 시간을 가져봅니다.* \n",
    "\n",
    "╚═══════════════════════════════════════════════╝"
   ]
  },
  {
   "cell_type": "code",
   "execution_count": 1,
   "metadata": {
    "colab": {},
    "colab_type": "code",
    "id": "NAABtqMMmK8E"
   },
   "outputs": [],
   "source": [
    "%matplotlib inline  \n",
    "import matplotlib.pyplot as plt  \n",
    "\n",
    "import pandas as pd\n",
    "import numpy as np"
   ]
  },
  {
   "cell_type": "markdown",
   "metadata": {
    "colab_type": "text",
    "id": "utIaPXgNmK8I"
   },
   "source": [
    "### [Optional. 시각화에서 한글 사용하기]\n",
    "\n",
    "---"
   ]
  },
  {
   "cell_type": "code",
   "execution_count": 2,
   "metadata": {
    "colab": {},
    "colab_type": "code",
    "id": "cpUtMuTTof3J"
   },
   "outputs": [
    {
     "name": "stdout",
     "output_type": "stream",
     "text": [
      "/bin/sh: apt-get: command not found\n",
      "/bin/sh: apt-get: command not found\n"
     ]
    }
   ],
   "source": [
    "# 1. 나눔 폰트를 다운받기\n",
    "!apt-get update -qq\n",
    "!apt-get install fonts-nanum* -qq"
   ]
  },
  {
   "cell_type": "code",
   "execution_count": 3,
   "metadata": {
    "colab": {},
    "colab_type": "code",
    "id": "hnmSGFbzmK8J"
   },
   "outputs": [],
   "source": [
    "import matplotlib.font_manager as fm\n",
    "# 2. 나눔 폰트의 위치 가져오기 \n",
    "system_font = fm.findSystemFonts() # 현재 시스템에 설치된 폰트\n",
    "nanum_fonts = [font for font in system_font if \"NanumBarunGothic.ttf\" in font]\n",
    "font_path = nanum_fonts[0] # 설정할 폰트의 경로\n",
    "\n",
    "# 3. 나눔 폰트로 설정하기\n",
    "font_name = fm.FontProperties(fname=font_path, size=10).get_name()\n",
    "plt.rc(\"font\",family=font_name)\n",
    "\n",
    "# 4. 폰트 재설정하기\n",
    "fm._rebuild()\n",
    "\n",
    "# 5. (optional) minus 기호 깨짐 방지\n",
    "import matplotlib as mpl\n",
    "mpl.rcParams['axes.unicode_minus'] = False"
   ]
  },
  {
   "cell_type": "markdown",
   "metadata": {
    "colab_type": "text",
    "id": "cmKqC96PmK8M"
   },
   "source": [
    "# \\[ 최근 주요 사망원인 별 사망률 데이터 분석 \\]\n",
    "---\n",
    "\n",
    "---\n",
    "\n",
    "> * 출처 : [kosis - 조사망률 정보](http://www.index.go.kr/potal/main/EachDtlPageDetail.do?idx_cd=1012) <br>\n",
    "> * _기간 : 2008 ~ 2017년_ <br>\n",
    "> * _지표 : 조사망률, (단위 : 인구 10만명 당 명)_ <br>\n",
    "> * _사망원인 : 전체, 신생물, 내분비 및 대사성질환, 순환기계통의 질환 등 20가지 카테고리로 나뉨_\n"
   ]
  },
  {
   "cell_type": "markdown",
   "metadata": {
    "colab_type": "text",
    "id": "oZJUbST8mK8N"
   },
   "source": [
    "<br>\n",
    "\n",
    "## 1. Pandas를 통해 데이터를 읽어오기\n",
    "\n",
    "---\n"
   ]
  },
  {
   "cell_type": "markdown",
   "metadata": {
    "colab_type": "text",
    "id": "CMFPipS4mK8O"
   },
   "source": [
    "### (1) pandas를 통한 데이터 읽어오기 \n",
    "\n",
    "아래와 같은 방식으로, csv 파일을 읽어올 수 있습니다."
   ]
  },
  {
   "cell_type": "code",
   "execution_count": 4,
   "metadata": {
    "colab": {
     "base_uri": "https://localhost:8080/",
     "height": 224
    },
    "colab_type": "code",
    "executionInfo": {
     "elapsed": 2861,
     "status": "ok",
     "timestamp": 1551921862495,
     "user": {
      "displayName": "최선열",
      "photoUrl": "",
      "userId": "00663027191814710813"
     },
     "user_tz": -540
    },
    "id": "95ILxgkPwEYz",
    "outputId": "23d6616d-39cf-4937-dec0-7f00cf0f80e0"
   },
   "outputs": [
    {
     "name": "stdout",
     "output_type": "stream",
     "text": [
      "--2019-03-20 23:20:18--  https://s3.ap-northeast-2.amazonaws.com/pai-datasets/5days-for-deeplearning/%E1%84%8C%E1%85%A9%E1%84%89%E1%85%A1%E1%84%86%E1%85%A1%E1%86%BC%E1%84%85%E1%85%B2%E1%86%AF.csv\n",
      "Resolving s3.ap-northeast-2.amazonaws.com (s3.ap-northeast-2.amazonaws.com)... 52.219.60.8\n",
      "Connecting to s3.ap-northeast-2.amazonaws.com (s3.ap-northeast-2.amazonaws.com)|52.219.60.8|:443... connected.\n",
      "HTTP request sent, awaiting response... 200 OK\n",
      "Length: 1424 (1.4K) [text/csv]\n",
      "Saving to: ‘조사망률.csv.1’\n",
      "\n",
      "조사망률.csv. 100%[===================>]   1.39K  --.-KB/s    in 0s      \n",
      "\n",
      "2019-03-20 23:20:19 (28.3 MB/s) - ‘조사망률.csv.1’ saved [1424/1424]\n",
      "\n"
     ]
    }
   ],
   "source": [
    "!wget https://s3.ap-northeast-2.amazonaws.com/pai-datasets/5days-for-deeplearning/%E1%84%8C%E1%85%A9%E1%84%89%E1%85%A1%E1%84%86%E1%85%A1%E1%86%BC%E1%84%85%E1%85%B2%E1%86%AF.csv"
   ]
  },
  {
   "cell_type": "code",
   "execution_count": 5,
   "metadata": {
    "colab": {},
    "colab_type": "code",
    "id": "X-3IFb0WmK8P"
   },
   "outputs": [],
   "source": [
    "df = pd.read_csv(\"./조사망률.csv\",index_col=0)"
   ]
  },
  {
   "cell_type": "markdown",
   "metadata": {
    "colab_type": "text",
    "id": "UYD_D4ApmK8T"
   },
   "source": [
    "### (2) pandas로 빠르게 데이터 살펴보기\n",
    "\n",
    "`pandas`에서는 아래와 같이 표의 형태로 데이터를 가져오게 됩니다."
   ]
  },
  {
   "cell_type": "code",
   "execution_count": 6,
   "metadata": {
    "colab": {
     "base_uri": "https://localhost:8080/",
     "height": 669
    },
    "colab_type": "code",
    "executionInfo": {
     "elapsed": 782,
     "status": "ok",
     "timestamp": 1551922010909,
     "user": {
      "displayName": "최선열",
      "photoUrl": "",
      "userId": "00663027191814710813"
     },
     "user_tz": -540
    },
    "id": "fSXiRl71mK8U",
    "outputId": "f2c61df7-896f-4720-a399-69df069eb9f3"
   },
   "outputs": [
    {
     "data": {
      "text/html": [
       "<div>\n",
       "<style scoped>\n",
       "    .dataframe tbody tr th:only-of-type {\n",
       "        vertical-align: middle;\n",
       "    }\n",
       "\n",
       "    .dataframe tbody tr th {\n",
       "        vertical-align: top;\n",
       "    }\n",
       "\n",
       "    .dataframe thead th {\n",
       "        text-align: right;\n",
       "    }\n",
       "</style>\n",
       "<table border=\"1\" class=\"dataframe\">\n",
       "  <thead>\n",
       "    <tr style=\"text-align: right;\">\n",
       "      <th></th>\n",
       "      <th>2008</th>\n",
       "      <th>2009</th>\n",
       "      <th>2010</th>\n",
       "      <th>2011</th>\n",
       "      <th>2012</th>\n",
       "      <th>2013</th>\n",
       "      <th>2014</th>\n",
       "      <th>2015</th>\n",
       "      <th>2016</th>\n",
       "      <th>2017</th>\n",
       "    </tr>\n",
       "  </thead>\n",
       "  <tbody>\n",
       "    <tr>\n",
       "      <th>전체</th>\n",
       "      <td>498.2</td>\n",
       "      <td>497.3</td>\n",
       "      <td>512.0</td>\n",
       "      <td>513.6</td>\n",
       "      <td>530.8</td>\n",
       "      <td>526.6</td>\n",
       "      <td>527.3</td>\n",
       "      <td>541.5</td>\n",
       "      <td>549.4</td>\n",
       "      <td>557.3</td>\n",
       "    </tr>\n",
       "    <tr>\n",
       "      <th>신생물</th>\n",
       "      <td>141.4</td>\n",
       "      <td>142.5</td>\n",
       "      <td>146.6</td>\n",
       "      <td>145.0</td>\n",
       "      <td>149.0</td>\n",
       "      <td>151.5</td>\n",
       "      <td>153.5</td>\n",
       "      <td>153.6</td>\n",
       "      <td>156.0</td>\n",
       "      <td>156.8</td>\n",
       "    </tr>\n",
       "    <tr>\n",
       "      <th>- 각종 암</th>\n",
       "      <td>139.5</td>\n",
       "      <td>140.5</td>\n",
       "      <td>144.4</td>\n",
       "      <td>142.8</td>\n",
       "      <td>146.5</td>\n",
       "      <td>149.0</td>\n",
       "      <td>150.9</td>\n",
       "      <td>150.8</td>\n",
       "      <td>153.0</td>\n",
       "      <td>153.9</td>\n",
       "    </tr>\n",
       "    <tr>\n",
       "      <th>* 위암</th>\n",
       "      <td>20.9</td>\n",
       "      <td>20.4</td>\n",
       "      <td>20.1</td>\n",
       "      <td>19.4</td>\n",
       "      <td>18.6</td>\n",
       "      <td>18.2</td>\n",
       "      <td>17.6</td>\n",
       "      <td>16.7</td>\n",
       "      <td>16.2</td>\n",
       "      <td>15.7</td>\n",
       "    </tr>\n",
       "    <tr>\n",
       "      <th>* 간암</th>\n",
       "      <td>22.9</td>\n",
       "      <td>22.6</td>\n",
       "      <td>22.5</td>\n",
       "      <td>21.8</td>\n",
       "      <td>22.5</td>\n",
       "      <td>22.6</td>\n",
       "      <td>22.8</td>\n",
       "      <td>22.2</td>\n",
       "      <td>21.5</td>\n",
       "      <td>20.9</td>\n",
       "    </tr>\n",
       "    <tr>\n",
       "      <th>* 폐암</th>\n",
       "      <td>29.9</td>\n",
       "      <td>30.0</td>\n",
       "      <td>31.3</td>\n",
       "      <td>31.7</td>\n",
       "      <td>33.1</td>\n",
       "      <td>34.0</td>\n",
       "      <td>34.4</td>\n",
       "      <td>34.1</td>\n",
       "      <td>35.1</td>\n",
       "      <td>35.1</td>\n",
       "    </tr>\n",
       "    <tr>\n",
       "      <th>내분비 및 대사성질환</th>\n",
       "      <td>22.4</td>\n",
       "      <td>21.3</td>\n",
       "      <td>22.3</td>\n",
       "      <td>23.4</td>\n",
       "      <td>24.9</td>\n",
       "      <td>23.4</td>\n",
       "      <td>22.9</td>\n",
       "      <td>22.9</td>\n",
       "      <td>21.6</td>\n",
       "      <td>20.6</td>\n",
       "    </tr>\n",
       "    <tr>\n",
       "      <th>- 당뇨병</th>\n",
       "      <td>20.7</td>\n",
       "      <td>19.6</td>\n",
       "      <td>20.7</td>\n",
       "      <td>21.5</td>\n",
       "      <td>23.0</td>\n",
       "      <td>21.5</td>\n",
       "      <td>20.7</td>\n",
       "      <td>20.7</td>\n",
       "      <td>19.2</td>\n",
       "      <td>17.9</td>\n",
       "    </tr>\n",
       "    <tr>\n",
       "      <th>순환기계통의 질환</th>\n",
       "      <td>112.3</td>\n",
       "      <td>109.2</td>\n",
       "      <td>112.5</td>\n",
       "      <td>113.5</td>\n",
       "      <td>117.1</td>\n",
       "      <td>113.1</td>\n",
       "      <td>113.9</td>\n",
       "      <td>116.9</td>\n",
       "      <td>118.1</td>\n",
       "      <td>119.6</td>\n",
       "    </tr>\n",
       "    <tr>\n",
       "      <th>- 고혈압성 질환</th>\n",
       "      <td>9.6</td>\n",
       "      <td>9.6</td>\n",
       "      <td>9.6</td>\n",
       "      <td>10.1</td>\n",
       "      <td>10.4</td>\n",
       "      <td>9.4</td>\n",
       "      <td>10.0</td>\n",
       "      <td>9.9</td>\n",
       "      <td>10.6</td>\n",
       "      <td>11.3</td>\n",
       "    </tr>\n",
       "    <tr>\n",
       "      <th>- 심장 질환</th>\n",
       "      <td>43.4</td>\n",
       "      <td>45.0</td>\n",
       "      <td>46.9</td>\n",
       "      <td>49.8</td>\n",
       "      <td>52.5</td>\n",
       "      <td>50.2</td>\n",
       "      <td>52.4</td>\n",
       "      <td>55.6</td>\n",
       "      <td>58.2</td>\n",
       "      <td>60.2</td>\n",
       "    </tr>\n",
       "    <tr>\n",
       "      <th>- 뇌혈관 질환</th>\n",
       "      <td>56.5</td>\n",
       "      <td>52.0</td>\n",
       "      <td>53.2</td>\n",
       "      <td>50.7</td>\n",
       "      <td>51.1</td>\n",
       "      <td>50.3</td>\n",
       "      <td>48.2</td>\n",
       "      <td>48.0</td>\n",
       "      <td>45.8</td>\n",
       "      <td>44.4</td>\n",
       "    </tr>\n",
       "    <tr>\n",
       "      <th>호흡기계통의 질환</th>\n",
       "      <td>32.4</td>\n",
       "      <td>34.3</td>\n",
       "      <td>37.1</td>\n",
       "      <td>39.8</td>\n",
       "      <td>45.2</td>\n",
       "      <td>44.5</td>\n",
       "      <td>47.6</td>\n",
       "      <td>54.6</td>\n",
       "      <td>57.5</td>\n",
       "      <td>63.7</td>\n",
       "    </tr>\n",
       "    <tr>\n",
       "      <th>- 폐렴</th>\n",
       "      <td>11.1</td>\n",
       "      <td>12.7</td>\n",
       "      <td>14.9</td>\n",
       "      <td>17.2</td>\n",
       "      <td>20.5</td>\n",
       "      <td>21.4</td>\n",
       "      <td>23.7</td>\n",
       "      <td>28.9</td>\n",
       "      <td>32.2</td>\n",
       "      <td>37.8</td>\n",
       "    </tr>\n",
       "    <tr>\n",
       "      <th>- 만성하기도 질환</th>\n",
       "      <td>14.9</td>\n",
       "      <td>13.9</td>\n",
       "      <td>14.2</td>\n",
       "      <td>13.9</td>\n",
       "      <td>15.6</td>\n",
       "      <td>14.0</td>\n",
       "      <td>14.1</td>\n",
       "      <td>14.8</td>\n",
       "      <td>13.7</td>\n",
       "      <td>13.2</td>\n",
       "    </tr>\n",
       "    <tr>\n",
       "      <th>소화기계통의 질환</th>\n",
       "      <td>21.8</td>\n",
       "      <td>21.5</td>\n",
       "      <td>22.2</td>\n",
       "      <td>22.2</td>\n",
       "      <td>22.4</td>\n",
       "      <td>22.1</td>\n",
       "      <td>22.4</td>\n",
       "      <td>23.0</td>\n",
       "      <td>23.4</td>\n",
       "      <td>23.7</td>\n",
       "    </tr>\n",
       "    <tr>\n",
       "      <th>- 간 질환</th>\n",
       "      <td>14.5</td>\n",
       "      <td>13.8</td>\n",
       "      <td>13.8</td>\n",
       "      <td>13.5</td>\n",
       "      <td>13.5</td>\n",
       "      <td>13.2</td>\n",
       "      <td>13.1</td>\n",
       "      <td>13.4</td>\n",
       "      <td>13.3</td>\n",
       "      <td>13.3</td>\n",
       "    </tr>\n",
       "    <tr>\n",
       "      <th>사망의 외부요인</th>\n",
       "      <td>61.7</td>\n",
       "      <td>65.8</td>\n",
       "      <td>65.4</td>\n",
       "      <td>64.7</td>\n",
       "      <td>61.9</td>\n",
       "      <td>61.3</td>\n",
       "      <td>57.8</td>\n",
       "      <td>56.5</td>\n",
       "      <td>55.2</td>\n",
       "      <td>53.0</td>\n",
       "    </tr>\n",
       "    <tr>\n",
       "      <th>- 운수사고</th>\n",
       "      <td>14.7</td>\n",
       "      <td>14.4</td>\n",
       "      <td>13.7</td>\n",
       "      <td>12.6</td>\n",
       "      <td>12.9</td>\n",
       "      <td>11.9</td>\n",
       "      <td>11.2</td>\n",
       "      <td>10.9</td>\n",
       "      <td>10.1</td>\n",
       "      <td>9.8</td>\n",
       "    </tr>\n",
       "    <tr>\n",
       "      <th>- 자살</th>\n",
       "      <td>26.0</td>\n",
       "      <td>31.0</td>\n",
       "      <td>31.2</td>\n",
       "      <td>31.7</td>\n",
       "      <td>28.1</td>\n",
       "      <td>28.5</td>\n",
       "      <td>27.3</td>\n",
       "      <td>26.5</td>\n",
       "      <td>25.6</td>\n",
       "      <td>24.3</td>\n",
       "    </tr>\n",
       "  </tbody>\n",
       "</table>\n",
       "</div>"
      ],
      "text/plain": [
       "              2008   2009   2010   2011   2012   2013   2014   2015   2016  \\\n",
       "전체           498.2  497.3  512.0  513.6  530.8  526.6  527.3  541.5  549.4   \n",
       "신생물          141.4  142.5  146.6  145.0  149.0  151.5  153.5  153.6  156.0   \n",
       "- 각종 암       139.5  140.5  144.4  142.8  146.5  149.0  150.9  150.8  153.0   \n",
       "* 위암          20.9   20.4   20.1   19.4   18.6   18.2   17.6   16.7   16.2   \n",
       "* 간암          22.9   22.6   22.5   21.8   22.5   22.6   22.8   22.2   21.5   \n",
       "* 폐암          29.9   30.0   31.3   31.7   33.1   34.0   34.4   34.1   35.1   \n",
       "내분비 및 대사성질환   22.4   21.3   22.3   23.4   24.9   23.4   22.9   22.9   21.6   \n",
       "- 당뇨병         20.7   19.6   20.7   21.5   23.0   21.5   20.7   20.7   19.2   \n",
       "순환기계통의 질환    112.3  109.2  112.5  113.5  117.1  113.1  113.9  116.9  118.1   \n",
       "- 고혈압성 질환      9.6    9.6    9.6   10.1   10.4    9.4   10.0    9.9   10.6   \n",
       "- 심장 질환       43.4   45.0   46.9   49.8   52.5   50.2   52.4   55.6   58.2   \n",
       "- 뇌혈관 질환      56.5   52.0   53.2   50.7   51.1   50.3   48.2   48.0   45.8   \n",
       "호흡기계통의 질환     32.4   34.3   37.1   39.8   45.2   44.5   47.6   54.6   57.5   \n",
       "- 폐렴          11.1   12.7   14.9   17.2   20.5   21.4   23.7   28.9   32.2   \n",
       "- 만성하기도 질환    14.9   13.9   14.2   13.9   15.6   14.0   14.1   14.8   13.7   \n",
       "소화기계통의 질환     21.8   21.5   22.2   22.2   22.4   22.1   22.4   23.0   23.4   \n",
       "- 간 질환        14.5   13.8   13.8   13.5   13.5   13.2   13.1   13.4   13.3   \n",
       "사망의 외부요인      61.7   65.8   65.4   64.7   61.9   61.3   57.8   56.5   55.2   \n",
       "- 운수사고        14.7   14.4   13.7   12.6   12.9   11.9   11.2   10.9   10.1   \n",
       "- 자살          26.0   31.0   31.2   31.7   28.1   28.5   27.3   26.5   25.6   \n",
       "\n",
       "              2017  \n",
       "전체           557.3  \n",
       "신생물          156.8  \n",
       "- 각종 암       153.9  \n",
       "* 위암          15.7  \n",
       "* 간암          20.9  \n",
       "* 폐암          35.1  \n",
       "내분비 및 대사성질환   20.6  \n",
       "- 당뇨병         17.9  \n",
       "순환기계통의 질환    119.6  \n",
       "- 고혈압성 질환     11.3  \n",
       "- 심장 질환       60.2  \n",
       "- 뇌혈관 질환      44.4  \n",
       "호흡기계통의 질환     63.7  \n",
       "- 폐렴          37.8  \n",
       "- 만성하기도 질환    13.2  \n",
       "소화기계통의 질환     23.7  \n",
       "- 간 질환        13.3  \n",
       "사망의 외부요인      53.0  \n",
       "- 운수사고         9.8  \n",
       "- 자살          24.3  "
      ]
     },
     "execution_count": 6,
     "metadata": {},
     "output_type": "execute_result"
    }
   ],
   "source": [
    "df"
   ]
  },
  {
   "cell_type": "code",
   "execution_count": 7,
   "metadata": {},
   "outputs": [
    {
     "data": {
      "text/html": [
       "<div>\n",
       "<style scoped>\n",
       "    .dataframe tbody tr th:only-of-type {\n",
       "        vertical-align: middle;\n",
       "    }\n",
       "\n",
       "    .dataframe tbody tr th {\n",
       "        vertical-align: top;\n",
       "    }\n",
       "\n",
       "    .dataframe thead th {\n",
       "        text-align: right;\n",
       "    }\n",
       "</style>\n",
       "<table border=\"1\" class=\"dataframe\">\n",
       "  <thead>\n",
       "    <tr style=\"text-align: right;\">\n",
       "      <th></th>\n",
       "      <th>2008</th>\n",
       "      <th>2009</th>\n",
       "      <th>2010</th>\n",
       "      <th>2011</th>\n",
       "      <th>2012</th>\n",
       "      <th>2013</th>\n",
       "      <th>2014</th>\n",
       "      <th>2015</th>\n",
       "      <th>2016</th>\n",
       "      <th>2017</th>\n",
       "    </tr>\n",
       "  </thead>\n",
       "  <tbody>\n",
       "    <tr>\n",
       "      <th>count</th>\n",
       "      <td>20.000000</td>\n",
       "      <td>20.000000</td>\n",
       "      <td>20.000000</td>\n",
       "      <td>20.000000</td>\n",
       "      <td>20.000000</td>\n",
       "      <td>20.000000</td>\n",
       "      <td>20.000000</td>\n",
       "      <td>20.000000</td>\n",
       "      <td>20.000000</td>\n",
       "      <td>20.000000</td>\n",
       "    </tr>\n",
       "    <tr>\n",
       "      <th>mean</th>\n",
       "      <td>65.740000</td>\n",
       "      <td>65.870000</td>\n",
       "      <td>67.730000</td>\n",
       "      <td>67.945000</td>\n",
       "      <td>69.980000</td>\n",
       "      <td>69.335000</td>\n",
       "      <td>69.590000</td>\n",
       "      <td>71.075000</td>\n",
       "      <td>71.785000</td>\n",
       "      <td>72.625000</td>\n",
       "    </tr>\n",
       "    <tr>\n",
       "      <th>std</th>\n",
       "      <td>109.680562</td>\n",
       "      <td>109.464943</td>\n",
       "      <td>112.683881</td>\n",
       "      <td>112.827383</td>\n",
       "      <td>116.513164</td>\n",
       "      <td>115.908377</td>\n",
       "      <td>116.199071</td>\n",
       "      <td>119.059127</td>\n",
       "      <td>120.943664</td>\n",
       "      <td>122.678256</td>\n",
       "    </tr>\n",
       "    <tr>\n",
       "      <th>min</th>\n",
       "      <td>9.600000</td>\n",
       "      <td>9.600000</td>\n",
       "      <td>9.600000</td>\n",
       "      <td>10.100000</td>\n",
       "      <td>10.400000</td>\n",
       "      <td>9.400000</td>\n",
       "      <td>10.000000</td>\n",
       "      <td>9.900000</td>\n",
       "      <td>10.100000</td>\n",
       "      <td>9.800000</td>\n",
       "    </tr>\n",
       "    <tr>\n",
       "      <th>25%</th>\n",
       "      <td>19.250000</td>\n",
       "      <td>18.300000</td>\n",
       "      <td>18.800000</td>\n",
       "      <td>18.850000</td>\n",
       "      <td>20.025000</td>\n",
       "      <td>20.600000</td>\n",
       "      <td>19.925000</td>\n",
       "      <td>19.700000</td>\n",
       "      <td>18.450000</td>\n",
       "      <td>17.350000</td>\n",
       "    </tr>\n",
       "    <tr>\n",
       "      <th>50%</th>\n",
       "      <td>24.450000</td>\n",
       "      <td>26.300000</td>\n",
       "      <td>26.850000</td>\n",
       "      <td>27.550000</td>\n",
       "      <td>26.500000</td>\n",
       "      <td>25.950000</td>\n",
       "      <td>25.500000</td>\n",
       "      <td>27.700000</td>\n",
       "      <td>28.900000</td>\n",
       "      <td>29.700000</td>\n",
       "    </tr>\n",
       "    <tr>\n",
       "      <th>75%</th>\n",
       "      <td>57.800000</td>\n",
       "      <td>55.450000</td>\n",
       "      <td>56.250000</td>\n",
       "      <td>54.200000</td>\n",
       "      <td>54.850000</td>\n",
       "      <td>53.050000</td>\n",
       "      <td>53.750000</td>\n",
       "      <td>55.825000</td>\n",
       "      <td>57.675000</td>\n",
       "      <td>61.075000</td>\n",
       "    </tr>\n",
       "    <tr>\n",
       "      <th>max</th>\n",
       "      <td>498.200000</td>\n",
       "      <td>497.300000</td>\n",
       "      <td>512.000000</td>\n",
       "      <td>513.600000</td>\n",
       "      <td>530.800000</td>\n",
       "      <td>526.600000</td>\n",
       "      <td>527.300000</td>\n",
       "      <td>541.500000</td>\n",
       "      <td>549.400000</td>\n",
       "      <td>557.300000</td>\n",
       "    </tr>\n",
       "  </tbody>\n",
       "</table>\n",
       "</div>"
      ],
      "text/plain": [
       "             2008        2009        2010        2011        2012        2013  \\\n",
       "count   20.000000   20.000000   20.000000   20.000000   20.000000   20.000000   \n",
       "mean    65.740000   65.870000   67.730000   67.945000   69.980000   69.335000   \n",
       "std    109.680562  109.464943  112.683881  112.827383  116.513164  115.908377   \n",
       "min      9.600000    9.600000    9.600000   10.100000   10.400000    9.400000   \n",
       "25%     19.250000   18.300000   18.800000   18.850000   20.025000   20.600000   \n",
       "50%     24.450000   26.300000   26.850000   27.550000   26.500000   25.950000   \n",
       "75%     57.800000   55.450000   56.250000   54.200000   54.850000   53.050000   \n",
       "max    498.200000  497.300000  512.000000  513.600000  530.800000  526.600000   \n",
       "\n",
       "             2014        2015        2016        2017  \n",
       "count   20.000000   20.000000   20.000000   20.000000  \n",
       "mean    69.590000   71.075000   71.785000   72.625000  \n",
       "std    116.199071  119.059127  120.943664  122.678256  \n",
       "min     10.000000    9.900000   10.100000    9.800000  \n",
       "25%     19.925000   19.700000   18.450000   17.350000  \n",
       "50%     25.500000   27.700000   28.900000   29.700000  \n",
       "75%     53.750000   55.825000   57.675000   61.075000  \n",
       "max    527.300000  541.500000  549.400000  557.300000  "
      ]
     },
     "execution_count": 7,
     "metadata": {},
     "output_type": "execute_result"
    }
   ],
   "source": [
    "# 열 별 요약 정보는 다음과 같습니다\n",
    "df.describe()"
   ]
  },
  {
   "cell_type": "code",
   "execution_count": 8,
   "metadata": {},
   "outputs": [
    {
     "data": {
      "text/html": [
       "<div>\n",
       "<style scoped>\n",
       "    .dataframe tbody tr th:only-of-type {\n",
       "        vertical-align: middle;\n",
       "    }\n",
       "\n",
       "    .dataframe tbody tr th {\n",
       "        vertical-align: top;\n",
       "    }\n",
       "\n",
       "    .dataframe thead th {\n",
       "        text-align: right;\n",
       "    }\n",
       "</style>\n",
       "<table border=\"1\" class=\"dataframe\">\n",
       "  <thead>\n",
       "    <tr style=\"text-align: right;\">\n",
       "      <th></th>\n",
       "      <th>전체</th>\n",
       "      <th>신생물</th>\n",
       "      <th>- 각종 암</th>\n",
       "      <th>* 위암</th>\n",
       "      <th>* 간암</th>\n",
       "      <th>* 폐암</th>\n",
       "      <th>내분비 및 대사성질환</th>\n",
       "      <th>- 당뇨병</th>\n",
       "      <th>순환기계통의 질환</th>\n",
       "      <th>- 고혈압성 질환</th>\n",
       "      <th>- 심장 질환</th>\n",
       "      <th>- 뇌혈관 질환</th>\n",
       "      <th>호흡기계통의 질환</th>\n",
       "      <th>- 폐렴</th>\n",
       "      <th>- 만성하기도 질환</th>\n",
       "      <th>소화기계통의 질환</th>\n",
       "      <th>- 간 질환</th>\n",
       "      <th>사망의 외부요인</th>\n",
       "      <th>- 운수사고</th>\n",
       "      <th>- 자살</th>\n",
       "    </tr>\n",
       "  </thead>\n",
       "  <tbody>\n",
       "    <tr>\n",
       "      <th>count</th>\n",
       "      <td>10.000000</td>\n",
       "      <td>10.000000</td>\n",
       "      <td>10.00000</td>\n",
       "      <td>10.000000</td>\n",
       "      <td>10.000000</td>\n",
       "      <td>10.000000</td>\n",
       "      <td>10.000000</td>\n",
       "      <td>10.000000</td>\n",
       "      <td>10.000000</td>\n",
       "      <td>10.000000</td>\n",
       "      <td>10.000000</td>\n",
       "      <td>10.000000</td>\n",
       "      <td>10.000000</td>\n",
       "      <td>10.000000</td>\n",
       "      <td>10.000000</td>\n",
       "      <td>10.000000</td>\n",
       "      <td>10.000000</td>\n",
       "      <td>10.00000</td>\n",
       "      <td>10.000000</td>\n",
       "      <td>10.000000</td>\n",
       "    </tr>\n",
       "    <tr>\n",
       "      <th>mean</th>\n",
       "      <td>525.400000</td>\n",
       "      <td>149.590000</td>\n",
       "      <td>147.13000</td>\n",
       "      <td>18.380000</td>\n",
       "      <td>22.230000</td>\n",
       "      <td>32.870000</td>\n",
       "      <td>22.570000</td>\n",
       "      <td>20.550000</td>\n",
       "      <td>114.620000</td>\n",
       "      <td>10.050000</td>\n",
       "      <td>51.420000</td>\n",
       "      <td>50.020000</td>\n",
       "      <td>45.670000</td>\n",
       "      <td>22.040000</td>\n",
       "      <td>14.230000</td>\n",
       "      <td>22.470000</td>\n",
       "      <td>13.540000</td>\n",
       "      <td>60.33000</td>\n",
       "      <td>12.220000</td>\n",
       "      <td>28.020000</td>\n",
       "    </tr>\n",
       "    <tr>\n",
       "      <th>std</th>\n",
       "      <td>20.372312</td>\n",
       "      <td>5.535632</td>\n",
       "      <td>5.16657</td>\n",
       "      <td>1.821965</td>\n",
       "      <td>0.639531</td>\n",
       "      <td>2.000583</td>\n",
       "      <td>1.227509</td>\n",
       "      <td>1.400198</td>\n",
       "      <td>3.190193</td>\n",
       "      <td>0.581664</td>\n",
       "      <td>5.504907</td>\n",
       "      <td>3.567072</td>\n",
       "      <td>10.346019</td>\n",
       "      <td>8.727504</td>\n",
       "      <td>0.689686</td>\n",
       "      <td>0.694502</td>\n",
       "      <td>0.408792</td>\n",
       "      <td>4.48604</td>\n",
       "      <td>1.729997</td>\n",
       "      <td>2.568527</td>\n",
       "    </tr>\n",
       "    <tr>\n",
       "      <th>min</th>\n",
       "      <td>497.300000</td>\n",
       "      <td>141.400000</td>\n",
       "      <td>139.50000</td>\n",
       "      <td>15.700000</td>\n",
       "      <td>20.900000</td>\n",
       "      <td>29.900000</td>\n",
       "      <td>20.600000</td>\n",
       "      <td>17.900000</td>\n",
       "      <td>109.200000</td>\n",
       "      <td>9.400000</td>\n",
       "      <td>43.400000</td>\n",
       "      <td>44.400000</td>\n",
       "      <td>32.400000</td>\n",
       "      <td>11.100000</td>\n",
       "      <td>13.200000</td>\n",
       "      <td>21.500000</td>\n",
       "      <td>13.100000</td>\n",
       "      <td>53.00000</td>\n",
       "      <td>9.800000</td>\n",
       "      <td>24.300000</td>\n",
       "    </tr>\n",
       "    <tr>\n",
       "      <th>25%</th>\n",
       "      <td>512.400000</td>\n",
       "      <td>145.400000</td>\n",
       "      <td>143.20000</td>\n",
       "      <td>16.925000</td>\n",
       "      <td>21.900000</td>\n",
       "      <td>31.400000</td>\n",
       "      <td>21.775000</td>\n",
       "      <td>19.875000</td>\n",
       "      <td>112.650000</td>\n",
       "      <td>9.600000</td>\n",
       "      <td>47.625000</td>\n",
       "      <td>48.050000</td>\n",
       "      <td>37.775000</td>\n",
       "      <td>15.475000</td>\n",
       "      <td>13.900000</td>\n",
       "      <td>22.125000</td>\n",
       "      <td>13.300000</td>\n",
       "      <td>56.82500</td>\n",
       "      <td>10.975000</td>\n",
       "      <td>26.125000</td>\n",
       "    </tr>\n",
       "    <tr>\n",
       "      <th>50%</th>\n",
       "      <td>526.950000</td>\n",
       "      <td>150.250000</td>\n",
       "      <td>147.75000</td>\n",
       "      <td>18.400000</td>\n",
       "      <td>22.500000</td>\n",
       "      <td>33.550000</td>\n",
       "      <td>22.650000</td>\n",
       "      <td>20.700000</td>\n",
       "      <td>113.700000</td>\n",
       "      <td>9.950000</td>\n",
       "      <td>51.300000</td>\n",
       "      <td>50.500000</td>\n",
       "      <td>44.850000</td>\n",
       "      <td>20.950000</td>\n",
       "      <td>14.050000</td>\n",
       "      <td>22.300000</td>\n",
       "      <td>13.450000</td>\n",
       "      <td>61.50000</td>\n",
       "      <td>12.250000</td>\n",
       "      <td>27.700000</td>\n",
       "    </tr>\n",
       "    <tr>\n",
       "      <th>75%</th>\n",
       "      <td>538.825000</td>\n",
       "      <td>153.575000</td>\n",
       "      <td>150.87500</td>\n",
       "      <td>19.925000</td>\n",
       "      <td>22.600000</td>\n",
       "      <td>34.325000</td>\n",
       "      <td>23.275000</td>\n",
       "      <td>21.300000</td>\n",
       "      <td>117.050000</td>\n",
       "      <td>10.325000</td>\n",
       "      <td>54.825000</td>\n",
       "      <td>51.775000</td>\n",
       "      <td>52.850000</td>\n",
       "      <td>27.600000</td>\n",
       "      <td>14.650000</td>\n",
       "      <td>22.850000</td>\n",
       "      <td>13.725000</td>\n",
       "      <td>64.00000</td>\n",
       "      <td>13.500000</td>\n",
       "      <td>30.375000</td>\n",
       "    </tr>\n",
       "    <tr>\n",
       "      <th>max</th>\n",
       "      <td>557.300000</td>\n",
       "      <td>156.800000</td>\n",
       "      <td>153.90000</td>\n",
       "      <td>20.900000</td>\n",
       "      <td>22.900000</td>\n",
       "      <td>35.100000</td>\n",
       "      <td>24.900000</td>\n",
       "      <td>23.000000</td>\n",
       "      <td>119.600000</td>\n",
       "      <td>11.300000</td>\n",
       "      <td>60.200000</td>\n",
       "      <td>56.500000</td>\n",
       "      <td>63.700000</td>\n",
       "      <td>37.800000</td>\n",
       "      <td>15.600000</td>\n",
       "      <td>23.700000</td>\n",
       "      <td>14.500000</td>\n",
       "      <td>65.80000</td>\n",
       "      <td>14.700000</td>\n",
       "      <td>31.700000</td>\n",
       "    </tr>\n",
       "  </tbody>\n",
       "</table>\n",
       "</div>"
      ],
      "text/plain": [
       "               전체         신생물     - 각종 암       * 위암       * 간암       * 폐암  \\\n",
       "count   10.000000   10.000000   10.00000  10.000000  10.000000  10.000000   \n",
       "mean   525.400000  149.590000  147.13000  18.380000  22.230000  32.870000   \n",
       "std     20.372312    5.535632    5.16657   1.821965   0.639531   2.000583   \n",
       "min    497.300000  141.400000  139.50000  15.700000  20.900000  29.900000   \n",
       "25%    512.400000  145.400000  143.20000  16.925000  21.900000  31.400000   \n",
       "50%    526.950000  150.250000  147.75000  18.400000  22.500000  33.550000   \n",
       "75%    538.825000  153.575000  150.87500  19.925000  22.600000  34.325000   \n",
       "max    557.300000  156.800000  153.90000  20.900000  22.900000  35.100000   \n",
       "\n",
       "       내분비 및 대사성질환      - 당뇨병   순환기계통의 질환  - 고혈압성 질환    - 심장 질환   - 뇌혈관 질환  \\\n",
       "count    10.000000  10.000000   10.000000  10.000000  10.000000  10.000000   \n",
       "mean     22.570000  20.550000  114.620000  10.050000  51.420000  50.020000   \n",
       "std       1.227509   1.400198    3.190193   0.581664   5.504907   3.567072   \n",
       "min      20.600000  17.900000  109.200000   9.400000  43.400000  44.400000   \n",
       "25%      21.775000  19.875000  112.650000   9.600000  47.625000  48.050000   \n",
       "50%      22.650000  20.700000  113.700000   9.950000  51.300000  50.500000   \n",
       "75%      23.275000  21.300000  117.050000  10.325000  54.825000  51.775000   \n",
       "max      24.900000  23.000000  119.600000  11.300000  60.200000  56.500000   \n",
       "\n",
       "       호흡기계통의 질환       - 폐렴  - 만성하기도 질환  소화기계통의 질환     - 간 질환  사망의 외부요인  \\\n",
       "count  10.000000  10.000000   10.000000  10.000000  10.000000  10.00000   \n",
       "mean   45.670000  22.040000   14.230000  22.470000  13.540000  60.33000   \n",
       "std    10.346019   8.727504    0.689686   0.694502   0.408792   4.48604   \n",
       "min    32.400000  11.100000   13.200000  21.500000  13.100000  53.00000   \n",
       "25%    37.775000  15.475000   13.900000  22.125000  13.300000  56.82500   \n",
       "50%    44.850000  20.950000   14.050000  22.300000  13.450000  61.50000   \n",
       "75%    52.850000  27.600000   14.650000  22.850000  13.725000  64.00000   \n",
       "max    63.700000  37.800000   15.600000  23.700000  14.500000  65.80000   \n",
       "\n",
       "          - 운수사고       - 자살  \n",
       "count  10.000000  10.000000  \n",
       "mean   12.220000  28.020000  \n",
       "std     1.729997   2.568527  \n",
       "min     9.800000  24.300000  \n",
       "25%    10.975000  26.125000  \n",
       "50%    12.250000  27.700000  \n",
       "75%    13.500000  30.375000  \n",
       "max    14.700000  31.700000  "
      ]
     },
     "execution_count": 8,
     "metadata": {},
     "output_type": "execute_result"
    }
   ],
   "source": [
    "# 행 별 요약 정보는 아래와 같이 확인할 수 있습니다.\n",
    "df.T.describe()"
   ]
  },
  {
   "cell_type": "markdown",
   "metadata": {
    "colab_type": "text",
    "id": "YEPRmrhmmK8m"
   },
   "source": [
    "## 2. 데이터 탐색하기(EDA)\n",
    "\n",
    "---\n",
    "\n",
    "+ `pandas`로 읽어온 데이터를 `numpy`와 `matplotlib`을 활용하여 시각화하고 분석해 보도록 하겠습니다.<br>\n",
    "+ 탐색적 데이터 분석(EDA ;  Exploratory Data Analysis)이라고 불리는 이 과정을 통해 데이터를 이해하고, 분석 인사이트를 발굴할 수 있습니다."
   ]
  },
  {
   "cell_type": "markdown",
   "metadata": {
    "colab_type": "text",
    "id": "0mc6FFazmK8m"
   },
   "source": [
    "### 예제 1) 10년간 전체 조사망률 추세\n",
    "\n",
    "위의 데이터를 통한 전체 조사망률 표는 아래와 같습니다.\n",
    "\n",
    "| 연도 | 2008 | 2009 | 2010 | 2011 | 2012 | 2013 | 2014 | 2015 | 2016 | 2017 |\n",
    "| --- | --- | --- | --- | --- | --- | --- | --- | --- | --- | --- |\n",
    "|조사망률| 498.2|497.3|512.|513.6|530.8|526.6|527.3|541.5|549.4|557.3|\n",
    "\n",
    "<br>\n",
    "> 시점에 따른 추세를 확인하는 데에는 꺽은선 그래프 시각화(plot)가 유용합니다. "
   ]
  },
  {
   "cell_type": "code",
   "execution_count": 9,
   "metadata": {
    "colab": {
     "base_uri": "https://localhost:8080/",
     "height": 335
    },
    "colab_type": "code",
    "executionInfo": {
     "elapsed": 943,
     "status": "ok",
     "timestamp": 1551922018156,
     "user": {
      "displayName": "최선열",
      "photoUrl": "",
      "userId": "00663027191814710813"
     },
     "user_tz": -540
    },
    "id": "AzWW8FP9mK8n",
    "outputId": "1935af72-a187-48ab-8acc-d854a9d55954"
   },
   "outputs": [
    {
     "data": {
      "image/png": "[encoded data removed]",
      "text/plain": [
       "<Figure size 1080x360 with 1 Axes>"
      ]
     },
     "metadata": {},
     "output_type": "display_data"
    }
   ],
   "source": [
    "df.T.plot(y=\"전체\",\n",
    "          title=\"연간 조사망률 추세(단위 : 인구 10만명 당 명)\",\n",
    "          xticks=np.arange(len(df.columns)),\n",
    "          figsize=(15,5))\n",
    "plt.show()"
   ]
  },
  {
   "cell_type": "markdown",
   "metadata": {
    "colab_type": "text",
    "id": "E9OUu7xjmK8q"
   },
   "source": [
    "국내 조사망자률은 꾸준히 증가하고 있습니다. 주요 원인들을 파악하여 나누어 볼 필요가 있습니다."
   ]
  },
  {
   "cell_type": "markdown",
   "metadata": {
    "colab_type": "text",
    "id": "Dx4SiW0gmK8r"
   },
   "source": [
    "### 예제 2) 2017년 순환기계통 질환의 비율\n",
    "위 데이터를 통한 순환기계통에 대한 조사망률 표는 다음과 같습니다. \n",
    "\n",
    "<br>\n",
    "\n",
    "+ 순환기 계통의 사망 원인 중 제일 큰 비중을 차지하는 3가지는 아래와 같이, 고혈압성 질환, 심장 질환, 뇌혈관 질환이 있습니다.\n",
    "\n",
    "<br>\n",
    "\n",
    "|   |2008 | 2009 | 2010 | 2011 | 2012 | 2013 | 2014 | 2015 | 2016 | 2017 |\n",
    "|---|---|---|---|---|---|---|---|---|---|---|\n",
    "|순환기계통의 질환| 112.3| 109.2| 112.5| 113.5| 117.1| 113.1| 113.9| 116.9| 118.1| 119.6|\n",
    "|- 고혈압성 질환| 9.6| 9.6| 9.6| 10.1| 10.4| 9.4| 10.0| 9.9| 10.6| 11.3|\n",
    "|- 심장 질환| 43.4| 45.0| 46.9| 49.8| 52.5| 50.2| 52.4| 55.6| 58.2| 60.2|\n",
    "|- 뇌혈관 질환| 56.5| 52.0| 53.2| 50.7| 51.1| 50.3| 48.2| 48.0| 45.8| 44.4|"
   ]
  },
  {
   "cell_type": "markdown",
   "metadata": {
    "colab_type": "text",
    "id": "tLDtu-d3vtcT"
   },
   "source": [
    "+ 순환기계통의 질환 중 각 질환이 차지하는 사망률의 비중을 확인하기 위해서는 <br>\n",
    "   순환기계통의 질환에 속한 각 질환들의 사망률 합이 전체 순환기계통의 질환 사망률과 같아야 합니다.\n",
    "+ 전체 순환기계통 질환 사망률에서 (고혈압성 질환, 심장 질환, 뇌혈관 질환)의 사망률을 빼주면 \"기타 순환기계통 질환 사망률\"을 알 수 있습니다."
   ]
  },
  {
   "cell_type": "code",
   "execution_count": 10,
   "metadata": {
    "colab": {
     "base_uri": "https://localhost:8080/",
     "height": 34
    },
    "colab_type": "code",
    "executionInfo": {
     "elapsed": 861,
     "status": "ok",
     "timestamp": 1551922589002,
     "user": {
      "displayName": "최선열",
      "photoUrl": "",
      "userId": "00663027191814710813"
     },
     "user_tz": -540
    },
    "id": "P9azFPXOmK8s",
    "outputId": "7ebcc819-b5cf-410d-8807-f9f2897c94f6"
   },
   "outputs": [
    {
     "data": {
      "text/html": [
       "<div>\n",
       "<style scoped>\n",
       "    .dataframe tbody tr th:only-of-type {\n",
       "        vertical-align: middle;\n",
       "    }\n",
       "\n",
       "    .dataframe tbody tr th {\n",
       "        vertical-align: top;\n",
       "    }\n",
       "\n",
       "    .dataframe thead th {\n",
       "        text-align: right;\n",
       "    }\n",
       "</style>\n",
       "<table border=\"1\" class=\"dataframe\">\n",
       "  <thead>\n",
       "    <tr style=\"text-align: right;\">\n",
       "      <th></th>\n",
       "      <th>2008</th>\n",
       "      <th>2009</th>\n",
       "      <th>2010</th>\n",
       "      <th>2011</th>\n",
       "      <th>2012</th>\n",
       "      <th>2013</th>\n",
       "      <th>2014</th>\n",
       "      <th>2015</th>\n",
       "      <th>2016</th>\n",
       "      <th>2017</th>\n",
       "    </tr>\n",
       "  </thead>\n",
       "  <tbody>\n",
       "    <tr>\n",
       "      <th>순환기계통의 질환</th>\n",
       "      <td>112.3</td>\n",
       "      <td>109.2</td>\n",
       "      <td>112.5</td>\n",
       "      <td>113.5</td>\n",
       "      <td>117.1</td>\n",
       "      <td>113.1</td>\n",
       "      <td>113.9</td>\n",
       "      <td>116.9</td>\n",
       "      <td>118.1</td>\n",
       "      <td>119.6</td>\n",
       "    </tr>\n",
       "    <tr>\n",
       "      <th>- 고혈압성 질환</th>\n",
       "      <td>9.6</td>\n",
       "      <td>9.6</td>\n",
       "      <td>9.6</td>\n",
       "      <td>10.1</td>\n",
       "      <td>10.4</td>\n",
       "      <td>9.4</td>\n",
       "      <td>10.0</td>\n",
       "      <td>9.9</td>\n",
       "      <td>10.6</td>\n",
       "      <td>11.3</td>\n",
       "    </tr>\n",
       "    <tr>\n",
       "      <th>- 심장 질환</th>\n",
       "      <td>43.4</td>\n",
       "      <td>45.0</td>\n",
       "      <td>46.9</td>\n",
       "      <td>49.8</td>\n",
       "      <td>52.5</td>\n",
       "      <td>50.2</td>\n",
       "      <td>52.4</td>\n",
       "      <td>55.6</td>\n",
       "      <td>58.2</td>\n",
       "      <td>60.2</td>\n",
       "    </tr>\n",
       "    <tr>\n",
       "      <th>- 뇌혈관 질환</th>\n",
       "      <td>56.5</td>\n",
       "      <td>52.0</td>\n",
       "      <td>53.2</td>\n",
       "      <td>50.7</td>\n",
       "      <td>51.1</td>\n",
       "      <td>50.3</td>\n",
       "      <td>48.2</td>\n",
       "      <td>48.0</td>\n",
       "      <td>45.8</td>\n",
       "      <td>44.4</td>\n",
       "    </tr>\n",
       "  </tbody>\n",
       "</table>\n",
       "</div>"
      ],
      "text/plain": [
       "            2008   2009   2010   2011   2012   2013   2014   2015   2016  \\\n",
       "순환기계통의 질환  112.3  109.2  112.5  113.5  117.1  113.1  113.9  116.9  118.1   \n",
       "- 고혈압성 질환    9.6    9.6    9.6   10.1   10.4    9.4   10.0    9.9   10.6   \n",
       "- 심장 질환     43.4   45.0   46.9   49.8   52.5   50.2   52.4   55.6   58.2   \n",
       "- 뇌혈관 질환    56.5   52.0   53.2   50.7   51.1   50.3   48.2   48.0   45.8   \n",
       "\n",
       "            2017  \n",
       "순환기계통의 질환  119.6  \n",
       "- 고혈압성 질환   11.3  \n",
       "- 심장 질환     60.2  \n",
       "- 뇌혈관 질환    44.4  "
      ]
     },
     "execution_count": 10,
     "metadata": {},
     "output_type": "execute_result"
    }
   ],
   "source": [
    "cardiovascular_df = df.iloc[8:12].copy() # 순환기 계통 질환에 대한 데이터만 추출\n",
    "cardiovascular_df"
   ]
  },
  {
   "cell_type": "code",
   "execution_count": 11,
   "metadata": {},
   "outputs": [
    {
     "data": {
      "text/plain": [
       "2008    2.8\n",
       "2009    2.6\n",
       "2010    2.8\n",
       "2011    2.9\n",
       "2012    3.1\n",
       "2013    3.2\n",
       "2014    3.3\n",
       "2015    3.4\n",
       "2016    3.5\n",
       "2017    3.7\n",
       "dtype: float64"
      ]
     },
     "execution_count": 11,
     "metadata": {},
     "output_type": "execute_result"
    }
   ],
   "source": [
    "total = cardiovascular_df.iloc[0] # 전체 순환기계통의 질환\n",
    "top3 = cardiovascular_df.iloc[1:4].sum(axis=0) # top3의 순환기계통 질환 사망률 합계(고혈압성 질환, 심장 질환, 뇌혈관 질환)\n",
    "other = total - top3 # top3 순환기계통이 아닌 사망률 ( 기타 순환기계통 질환 사망률 )\n",
    "other # 기타 사망률"
   ]
  },
  {
   "cell_type": "markdown",
   "metadata": {
    "colab_type": "text",
    "id": "uqnl-kZ7mK8v"
   },
   "source": [
    "이에 따라, \"기타 순환기계통 질환 사망률\"은 아래와 같습니다.\n",
    "\n",
    "|   |2008 | 2009 | 2010 | 2011 | 2012 | 2013 | 2014 | 2015 | 2016 | 2017 |\n",
    "|---|---|---|---|---|---|---|---|---|---|---|\n",
    "|기타 질환| 2.8 | 2.6 | 2.8 | 2.9 | 3.1 | 3.2 | 3.3 | 3.4 | 3.5 | 3.7 |"
   ]
  },
  {
   "cell_type": "markdown",
   "metadata": {
    "colab_type": "text",
    "id": "D6PdRbM_mK8w"
   },
   "source": [
    "+ \"기타 순환기계통 질환 사망률\"과 \"3대 순환기계통 질환 사망률\"의 비중을 확인해보도록 하겠습니다. (총 네가지 순환기계통 질환)\n",
    "+ 총 네가지 순환기계통 질환의 사망률이 각각 차지하는 비중을 확인하기 위해 두개의 array로 나누어져있는 데이터를 하나로 합쳐줍니다."
   ]
  },
  {
   "cell_type": "code",
   "execution_count": 12,
   "metadata": {
    "colab": {
     "base_uri": "https://localhost:8080/",
     "height": 85
    },
    "colab_type": "code",
    "executionInfo": {
     "elapsed": 698,
     "status": "ok",
     "timestamp": 1551922733940,
     "user": {
      "displayName": "최선열",
      "photoUrl": "",
      "userId": "00663027191814710813"
     },
     "user_tz": -540
    },
    "id": "Rp5MlmJrmK8w",
    "outputId": "6c6ad960-c6b2-4182-df3d-343634d4350f"
   },
   "outputs": [
    {
     "data": {
      "text/html": [
       "<div>\n",
       "<style scoped>\n",
       "    .dataframe tbody tr th:only-of-type {\n",
       "        vertical-align: middle;\n",
       "    }\n",
       "\n",
       "    .dataframe tbody tr th {\n",
       "        vertical-align: top;\n",
       "    }\n",
       "\n",
       "    .dataframe thead th {\n",
       "        text-align: right;\n",
       "    }\n",
       "</style>\n",
       "<table border=\"1\" class=\"dataframe\">\n",
       "  <thead>\n",
       "    <tr style=\"text-align: right;\">\n",
       "      <th></th>\n",
       "      <th>2008</th>\n",
       "      <th>2009</th>\n",
       "      <th>2010</th>\n",
       "      <th>2011</th>\n",
       "      <th>2012</th>\n",
       "      <th>2013</th>\n",
       "      <th>2014</th>\n",
       "      <th>2015</th>\n",
       "      <th>2016</th>\n",
       "      <th>2017</th>\n",
       "    </tr>\n",
       "  </thead>\n",
       "  <tbody>\n",
       "    <tr>\n",
       "      <th>순환기계통의 질환</th>\n",
       "      <td>112.3</td>\n",
       "      <td>109.2</td>\n",
       "      <td>112.5</td>\n",
       "      <td>113.5</td>\n",
       "      <td>117.1</td>\n",
       "      <td>113.1</td>\n",
       "      <td>113.9</td>\n",
       "      <td>116.9</td>\n",
       "      <td>118.1</td>\n",
       "      <td>119.6</td>\n",
       "    </tr>\n",
       "    <tr>\n",
       "      <th>- 고혈압성 질환</th>\n",
       "      <td>9.6</td>\n",
       "      <td>9.6</td>\n",
       "      <td>9.6</td>\n",
       "      <td>10.1</td>\n",
       "      <td>10.4</td>\n",
       "      <td>9.4</td>\n",
       "      <td>10.0</td>\n",
       "      <td>9.9</td>\n",
       "      <td>10.6</td>\n",
       "      <td>11.3</td>\n",
       "    </tr>\n",
       "    <tr>\n",
       "      <th>- 심장 질환</th>\n",
       "      <td>43.4</td>\n",
       "      <td>45.0</td>\n",
       "      <td>46.9</td>\n",
       "      <td>49.8</td>\n",
       "      <td>52.5</td>\n",
       "      <td>50.2</td>\n",
       "      <td>52.4</td>\n",
       "      <td>55.6</td>\n",
       "      <td>58.2</td>\n",
       "      <td>60.2</td>\n",
       "    </tr>\n",
       "    <tr>\n",
       "      <th>- 뇌혈관 질환</th>\n",
       "      <td>56.5</td>\n",
       "      <td>52.0</td>\n",
       "      <td>53.2</td>\n",
       "      <td>50.7</td>\n",
       "      <td>51.1</td>\n",
       "      <td>50.3</td>\n",
       "      <td>48.2</td>\n",
       "      <td>48.0</td>\n",
       "      <td>45.8</td>\n",
       "      <td>44.4</td>\n",
       "    </tr>\n",
       "    <tr>\n",
       "      <th>기타 순환기계통 질환 사망률</th>\n",
       "      <td>2.8</td>\n",
       "      <td>2.6</td>\n",
       "      <td>2.8</td>\n",
       "      <td>2.9</td>\n",
       "      <td>3.1</td>\n",
       "      <td>3.2</td>\n",
       "      <td>3.3</td>\n",
       "      <td>3.4</td>\n",
       "      <td>3.5</td>\n",
       "      <td>3.7</td>\n",
       "    </tr>\n",
       "  </tbody>\n",
       "</table>\n",
       "</div>"
      ],
      "text/plain": [
       "                  2008   2009   2010   2011   2012   2013   2014   2015  \\\n",
       "순환기계통의 질환        112.3  109.2  112.5  113.5  117.1  113.1  113.9  116.9   \n",
       "- 고혈압성 질환          9.6    9.6    9.6   10.1   10.4    9.4   10.0    9.9   \n",
       "- 심장 질환           43.4   45.0   46.9   49.8   52.5   50.2   52.4   55.6   \n",
       "- 뇌혈관 질환          56.5   52.0   53.2   50.7   51.1   50.3   48.2   48.0   \n",
       "기타 순환기계통 질환 사망률    2.8    2.6    2.8    2.9    3.1    3.2    3.3    3.4   \n",
       "\n",
       "                  2016   2017  \n",
       "순환기계통의 질환        118.1  119.6  \n",
       "- 고혈압성 질환         10.6   11.3  \n",
       "- 심장 질환           58.2   60.2  \n",
       "- 뇌혈관 질환          45.8   44.4  \n",
       "기타 순환기계통 질환 사망률    3.5    3.7  "
      ]
     },
     "execution_count": 12,
     "metadata": {},
     "output_type": "execute_result"
    }
   ],
   "source": [
    "cardiovascular_df.loc[\"기타 순환기계통 질환 사망률\"] = other\n",
    "cardiovascular_df"
   ]
  },
  {
   "cell_type": "code",
   "execution_count": 15,
   "metadata": {},
   "outputs": [
    {
     "data": {
      "text/html": [
       "<div>\n",
       "<style scoped>\n",
       "    .dataframe tbody tr th:only-of-type {\n",
       "        vertical-align: middle;\n",
       "    }\n",
       "\n",
       "    .dataframe tbody tr th {\n",
       "        vertical-align: top;\n",
       "    }\n",
       "\n",
       "    .dataframe thead th {\n",
       "        text-align: right;\n",
       "    }\n",
       "</style>\n",
       "<table border=\"1\" class=\"dataframe\">\n",
       "  <thead>\n",
       "    <tr style=\"text-align: right;\">\n",
       "      <th></th>\n",
       "      <th>2008</th>\n",
       "      <th>2009</th>\n",
       "      <th>2010</th>\n",
       "      <th>2011</th>\n",
       "      <th>2012</th>\n",
       "      <th>2013</th>\n",
       "      <th>2014</th>\n",
       "      <th>2015</th>\n",
       "      <th>2016</th>\n",
       "      <th>2017</th>\n",
       "    </tr>\n",
       "  </thead>\n",
       "  <tbody>\n",
       "    <tr>\n",
       "      <th>- 고혈압성 질환</th>\n",
       "      <td>9.6</td>\n",
       "      <td>9.6</td>\n",
       "      <td>9.6</td>\n",
       "      <td>10.1</td>\n",
       "      <td>10.4</td>\n",
       "      <td>9.4</td>\n",
       "      <td>10.0</td>\n",
       "      <td>9.9</td>\n",
       "      <td>10.6</td>\n",
       "      <td>11.3</td>\n",
       "    </tr>\n",
       "    <tr>\n",
       "      <th>- 심장 질환</th>\n",
       "      <td>43.4</td>\n",
       "      <td>45.0</td>\n",
       "      <td>46.9</td>\n",
       "      <td>49.8</td>\n",
       "      <td>52.5</td>\n",
       "      <td>50.2</td>\n",
       "      <td>52.4</td>\n",
       "      <td>55.6</td>\n",
       "      <td>58.2</td>\n",
       "      <td>60.2</td>\n",
       "    </tr>\n",
       "    <tr>\n",
       "      <th>- 뇌혈관 질환</th>\n",
       "      <td>56.5</td>\n",
       "      <td>52.0</td>\n",
       "      <td>53.2</td>\n",
       "      <td>50.7</td>\n",
       "      <td>51.1</td>\n",
       "      <td>50.3</td>\n",
       "      <td>48.2</td>\n",
       "      <td>48.0</td>\n",
       "      <td>45.8</td>\n",
       "      <td>44.4</td>\n",
       "    </tr>\n",
       "    <tr>\n",
       "      <th>기타 순환기계통 질환 사망률</th>\n",
       "      <td>2.8</td>\n",
       "      <td>2.6</td>\n",
       "      <td>2.8</td>\n",
       "      <td>2.9</td>\n",
       "      <td>3.1</td>\n",
       "      <td>3.2</td>\n",
       "      <td>3.3</td>\n",
       "      <td>3.4</td>\n",
       "      <td>3.5</td>\n",
       "      <td>3.7</td>\n",
       "    </tr>\n",
       "  </tbody>\n",
       "</table>\n",
       "</div>"
      ],
      "text/plain": [
       "                 2008  2009  2010  2011  2012  2013  2014  2015  2016  2017\n",
       "- 고혈압성 질환         9.6   9.6   9.6  10.1  10.4   9.4  10.0   9.9  10.6  11.3\n",
       "- 심장 질환          43.4  45.0  46.9  49.8  52.5  50.2  52.4  55.6  58.2  60.2\n",
       "- 뇌혈관 질환         56.5  52.0  53.2  50.7  51.1  50.3  48.2  48.0  45.8  44.4\n",
       "기타 순환기계통 질환 사망률   2.8   2.6   2.8   2.9   3.1   3.2   3.3   3.4   3.5   3.7"
      ]
     },
     "execution_count": 15,
     "metadata": {},
     "output_type": "execute_result"
    }
   ],
   "source": [
    "top3_and_other_df = cardiovascular_df.iloc[1:]\n",
    "top3_and_other_df"
   ]
  },
  {
   "cell_type": "markdown",
   "metadata": {
    "colab_type": "text",
    "id": "Uos0iu3hmK81"
   },
   "source": [
    "인덱싱을 통해, 아래처럼 표현이 가능합니다.\n",
    "\n",
    "|   |2008 | 2009 | 2010 | 2011 | 2012 | 2013 | 2014 | 2015 | 2016 | 2017 |\n",
    "|---|---|---|---|---|---|---|---|---|---|---|\n",
    "|- 고혈압성 질환| 9.6| 9.6| 9.6| 10.1| 10.4| 9.4| 10.0| 9.9| 10.6| 11.3|\n",
    "|- 심장 질환| 43.4| 45.0| 46.9| 49.8| 52.5| 50.2| 52.4| 55.6| 58.2| 60.2|\n",
    "|- 뇌혈관 질환| 56.5| 52.0| 53.2| 50.7| 51.1| 50.3| 48.2| 48.0| 45.8| 44.4|\n",
    "|- 기타 질환| 2.8 | 2.6 | 2.8 | 2.9 | 3.1 | 3.2 | 3.3 | 3.4 | 3.5 | 3.7 |\n",
    "\n",
    "<br>\n",
    "> 이와같이, 각 항목별 비중을 비교하는 데에는 원형그래프 시각화(pie chart)가 유용합니다.\n",
    "> 1. `ax.pie()의 autopct=\"%1.1f%%\"` : 각 파이조각이 차지하는 비율을 표현합니다."
   ]
  },
  {
   "cell_type": "code",
   "execution_count": 16,
   "metadata": {
    "colab": {
     "base_uri": "https://localhost:8080/",
     "height": 330
    },
    "colab_type": "code",
    "executionInfo": {
     "elapsed": 1001,
     "status": "ok",
     "timestamp": 1551922910570,
     "user": {
      "displayName": "최선열",
      "photoUrl": "",
      "userId": "00663027191814710813"
     },
     "user_tz": -540
    },
    "id": "x0n2xn7TmK82",
    "outputId": "0143d336-6d5d-4d4d-8152-085ef119613e"
   },
   "outputs": [
    {
     "data": {
      "image/png": "[encoded data removed]",
      "text/plain": [
       "<Figure size 720x360 with 2 Axes>"
      ]
     },
     "metadata": {},
     "output_type": "display_data"
    }
   ],
   "source": [
    "fig = plt.figure(figsize=(10,5))\n",
    "\n",
    "ax = fig.add_subplot(121)\n",
    "ax.set_title(\"2008년 \")\n",
    "ax.pie(top3_and_other_df[\"2008\"],labels=[\"고혈압성 질환\",\"심장 질환\",\"뇌혈관 질환\",\"기타 순환기계통 질환\"],\n",
    "       autopct=\"%1.1f%%\")  # 2008년도의 데이터를 사용한 pie chart\n",
    "\n",
    "ax = fig.add_subplot(122)\n",
    "ax.set_title(\"2017년 \")\n",
    "ax.pie(top3_and_other_df[\"2017\"],labels=[\"고혈압성 질환\",\"심장 질환\",\"뇌혈관 질환\",\"기타 순환기계통 질환\"],\n",
    "       autopct=\"%1.1f%%\")  # 2017년도의 데이터를 사용한 pie chart\n",
    "\n",
    "plt.suptitle(\"순환기계통 질환의 비율\")\n",
    "plt.show()"
   ]
  },
  {
   "cell_type": "markdown",
   "metadata": {
    "colab_type": "text",
    "id": "m-qGv_GXmK87"
   },
   "source": [
    "뇌혈관 질환이 차지하는 비중은 크게 줄고, 심장 질환이 차지하는 비율이 크게 증가하였습니다. \n",
    "\n",
    "이 외에 암에 따른 사망 추이를 한 번 살펴보겠습니다."
   ]
  },
  {
   "cell_type": "markdown",
   "metadata": {
    "colab_type": "text",
    "id": "BzCCJ_mNmK88"
   },
   "source": [
    "### 예제 3) 암에 따른 사망 추이\n",
    "암에 의한 사망 중 가장 큰 비중을 차지하는 세가지는 아래와 같이, 위암, 간암, 폐암이 있습니다.\n",
    "\n",
    "+ 세가지 암(위암, 간암, 폐암)의 사망률을 시간적 흐름에 따라 추세를 확인해 보겠습니다.<br>\n",
    "> ( 카테고리는 \\[신생물 > - 각종 암 > (\\*위암, \\*간암, \\*폐암\\)] 으로 구성되어있습니다.)\n",
    "\n",
    "\n",
    "<br>\n",
    "\n",
    "|   |2008 | 2009 | 2010 | 2011 | 2012 | 2013 | 2014 | 2015 | 2016 | 2017 |\n",
    "|---|---|---|---|---|---|---|---|---|---|---|\n",
    "|- 각종 암|139.5|140.5|144.4|142.8|146.5|149.0|150.9|150.8|153.0|153.9|\n",
    "|\\* 위암| 20.9|20.4|20.1|19.4|18.6|18.2|17.6|16.7|16.2|15.7 |\n",
    "|\\* 간암| 22.9|22.6|22.5|21.8|22.5|22.6|22.8|22.2|21.5|20.9 |\n",
    "|\\* 폐암| 29.9|30. |31.3|31.7|33.1|34. |34.4|34.1|35.1|35.1 |"
   ]
  },
  {
   "cell_type": "markdown",
   "metadata": {
    "colab_type": "text",
    "id": "KUn5K5aW3JDF"
   },
   "source": [
    "+ 가장 먼저, 위암, 간암, 폐암의 데이터만 추출해보겠습니다."
   ]
  },
  {
   "cell_type": "code",
   "execution_count": 17,
   "metadata": {},
   "outputs": [],
   "source": [
    "cancer_df = df.iloc[2:6]"
   ]
  },
  {
   "cell_type": "markdown",
   "metadata": {
    "colab_type": "text",
    "id": "kezNKH4xmK9E"
   },
   "source": [
    "+ 지금은 각 행 별로 시간에 따른 조사망률이 표현되어 있습니다. \n",
    "+ 시간에 따른 각 암의 종류별 사망률에 대해 plot을 하기 위해서는 행과 열을 바꾸어 주어야 합니다.\n",
    "\n",
    "> 행 : 암의 종류 → 각 연도 분류<br>\n",
    "> 열 : 각 연도 분류 → 암의 종류"
   ]
  },
  {
   "cell_type": "code",
   "execution_count": 18,
   "metadata": {
    "colab": {},
    "colab_type": "code",
    "id": "iZNUIc5vmK9E"
   },
   "outputs": [],
   "source": [
    "t_cancer_df = cancer_df.T "
   ]
  },
  {
   "cell_type": "markdown",
   "metadata": {
    "colab_type": "text",
    "id": "vNrim-tN4WrZ"
   },
   "source": [
    "각 암별 사망률의 비교 및 시간적 추세를 확인하기 위해서는 꺽은선 그래프가 유용합니다."
   ]
  },
  {
   "cell_type": "code",
   "execution_count": 19,
   "metadata": {
    "colab": {
     "base_uri": "https://localhost:8080/",
     "height": 335
    },
    "colab_type": "code",
    "executionInfo": {
     "elapsed": 1247,
     "status": "ok",
     "timestamp": 1551924342298,
     "user": {
      "displayName": "최선열",
      "photoUrl": "",
      "userId": "00663027191814710813"
     },
     "user_tz": -540
    },
    "id": "PGP-xZ4LmK9G",
    "outputId": "a963f43a-7acb-4194-e2f9-54a3cdf810cc"
   },
   "outputs": [
    {
     "data": {
      "image/png": "[encoded data removed]",
      "text/plain": [
       "<Figure size 1080x360 with 1 Axes>"
      ]
     },
     "metadata": {},
     "output_type": "display_data"
    }
   ],
   "source": [
    "t_cancer_df.plot(\n",
    "          title=\"연간 주요 암사망률 추세(단위 : 인구 10만명 당 명)\",\n",
    "          xticks=np.arange(len(df.columns)),\n",
    "          figsize=(15,5))\n",
    "plt.show()"
   ]
  },
  {
   "cell_type": "markdown",
   "metadata": {
    "colab_type": "text",
    "id": "ITengGIumK9K"
   },
   "source": [
    "폐암의 사망률은 꾸준히 증가하고 있지만 위암, 간암은 줄어들고 있습니다. <br>\n",
    "주요 3대 암의 질환과 그 외 암의 추세를 함께 확인해 보겠습니다.\n",
    "<br>\n",
    "+ \"암의 총 사망률\", \" 3대 암의 사망률\", \"기타 암의 사망률\"을 각 항목으로 하여 시각화해보겠습니다.\n",
    "+ 각 항목으로 데이터를 구성하기 위해 `np.stack()`을 사용합니다."
   ]
  },
  {
   "cell_type": "code",
   "execution_count": 20,
   "metadata": {},
   "outputs": [
    {
     "data": {
      "text/html": [
       "<div>\n",
       "<style scoped>\n",
       "    .dataframe tbody tr th:only-of-type {\n",
       "        vertical-align: middle;\n",
       "    }\n",
       "\n",
       "    .dataframe tbody tr th {\n",
       "        vertical-align: top;\n",
       "    }\n",
       "\n",
       "    .dataframe thead th {\n",
       "        text-align: right;\n",
       "    }\n",
       "</style>\n",
       "<table border=\"1\" class=\"dataframe\">\n",
       "  <thead>\n",
       "    <tr style=\"text-align: right;\">\n",
       "      <th></th>\n",
       "      <th>2008</th>\n",
       "      <th>2009</th>\n",
       "      <th>2010</th>\n",
       "      <th>2011</th>\n",
       "      <th>2012</th>\n",
       "      <th>2013</th>\n",
       "      <th>2014</th>\n",
       "      <th>2015</th>\n",
       "      <th>2016</th>\n",
       "      <th>2017</th>\n",
       "    </tr>\n",
       "  </thead>\n",
       "  <tbody>\n",
       "    <tr>\n",
       "      <th>- 각종 암</th>\n",
       "      <td>139.5</td>\n",
       "      <td>140.5</td>\n",
       "      <td>144.4</td>\n",
       "      <td>142.8</td>\n",
       "      <td>146.5</td>\n",
       "      <td>149.0</td>\n",
       "      <td>150.9</td>\n",
       "      <td>150.8</td>\n",
       "      <td>153.0</td>\n",
       "      <td>153.9</td>\n",
       "    </tr>\n",
       "    <tr>\n",
       "      <th>* 위암</th>\n",
       "      <td>20.9</td>\n",
       "      <td>20.4</td>\n",
       "      <td>20.1</td>\n",
       "      <td>19.4</td>\n",
       "      <td>18.6</td>\n",
       "      <td>18.2</td>\n",
       "      <td>17.6</td>\n",
       "      <td>16.7</td>\n",
       "      <td>16.2</td>\n",
       "      <td>15.7</td>\n",
       "    </tr>\n",
       "    <tr>\n",
       "      <th>* 간암</th>\n",
       "      <td>22.9</td>\n",
       "      <td>22.6</td>\n",
       "      <td>22.5</td>\n",
       "      <td>21.8</td>\n",
       "      <td>22.5</td>\n",
       "      <td>22.6</td>\n",
       "      <td>22.8</td>\n",
       "      <td>22.2</td>\n",
       "      <td>21.5</td>\n",
       "      <td>20.9</td>\n",
       "    </tr>\n",
       "    <tr>\n",
       "      <th>* 폐암</th>\n",
       "      <td>29.9</td>\n",
       "      <td>30.0</td>\n",
       "      <td>31.3</td>\n",
       "      <td>31.7</td>\n",
       "      <td>33.1</td>\n",
       "      <td>34.0</td>\n",
       "      <td>34.4</td>\n",
       "      <td>34.1</td>\n",
       "      <td>35.1</td>\n",
       "      <td>35.1</td>\n",
       "    </tr>\n",
       "  </tbody>\n",
       "</table>\n",
       "</div>"
      ],
      "text/plain": [
       "         2008   2009   2010   2011   2012   2013   2014   2015   2016   2017\n",
       "- 각종 암  139.5  140.5  144.4  142.8  146.5  149.0  150.9  150.8  153.0  153.9\n",
       "* 위암     20.9   20.4   20.1   19.4   18.6   18.2   17.6   16.7   16.2   15.7\n",
       "* 간암     22.9   22.6   22.5   21.8   22.5   22.6   22.8   22.2   21.5   20.9\n",
       "* 폐암     29.9   30.0   31.3   31.7   33.1   34.0   34.4   34.1   35.1   35.1"
      ]
     },
     "execution_count": 20,
     "metadata": {},
     "output_type": "execute_result"
    }
   ],
   "source": [
    "cancer_df"
   ]
  },
  {
   "cell_type": "code",
   "execution_count": 21,
   "metadata": {
    "colab": {},
    "colab_type": "code",
    "id": "5KBZYXxHmK9L"
   },
   "outputs": [
    {
     "data": {
      "text/html": [
       "<div>\n",
       "<style scoped>\n",
       "    .dataframe tbody tr th:only-of-type {\n",
       "        vertical-align: middle;\n",
       "    }\n",
       "\n",
       "    .dataframe tbody tr th {\n",
       "        vertical-align: top;\n",
       "    }\n",
       "\n",
       "    .dataframe thead th {\n",
       "        text-align: right;\n",
       "    }\n",
       "</style>\n",
       "<table border=\"1\" class=\"dataframe\">\n",
       "  <thead>\n",
       "    <tr style=\"text-align: right;\">\n",
       "      <th></th>\n",
       "      <th>- 각종 암</th>\n",
       "      <th>3대암</th>\n",
       "      <th>기타암</th>\n",
       "    </tr>\n",
       "  </thead>\n",
       "  <tbody>\n",
       "    <tr>\n",
       "      <th>2008</th>\n",
       "      <td>139.5</td>\n",
       "      <td>73.7</td>\n",
       "      <td>65.8</td>\n",
       "    </tr>\n",
       "    <tr>\n",
       "      <th>2009</th>\n",
       "      <td>140.5</td>\n",
       "      <td>73.0</td>\n",
       "      <td>67.5</td>\n",
       "    </tr>\n",
       "    <tr>\n",
       "      <th>2010</th>\n",
       "      <td>144.4</td>\n",
       "      <td>73.9</td>\n",
       "      <td>70.5</td>\n",
       "    </tr>\n",
       "    <tr>\n",
       "      <th>2011</th>\n",
       "      <td>142.8</td>\n",
       "      <td>72.9</td>\n",
       "      <td>69.9</td>\n",
       "    </tr>\n",
       "    <tr>\n",
       "      <th>2012</th>\n",
       "      <td>146.5</td>\n",
       "      <td>74.2</td>\n",
       "      <td>72.3</td>\n",
       "    </tr>\n",
       "    <tr>\n",
       "      <th>2013</th>\n",
       "      <td>149.0</td>\n",
       "      <td>74.8</td>\n",
       "      <td>74.2</td>\n",
       "    </tr>\n",
       "    <tr>\n",
       "      <th>2014</th>\n",
       "      <td>150.9</td>\n",
       "      <td>74.8</td>\n",
       "      <td>76.1</td>\n",
       "    </tr>\n",
       "    <tr>\n",
       "      <th>2015</th>\n",
       "      <td>150.8</td>\n",
       "      <td>73.0</td>\n",
       "      <td>77.8</td>\n",
       "    </tr>\n",
       "    <tr>\n",
       "      <th>2016</th>\n",
       "      <td>153.0</td>\n",
       "      <td>72.8</td>\n",
       "      <td>80.2</td>\n",
       "    </tr>\n",
       "    <tr>\n",
       "      <th>2017</th>\n",
       "      <td>153.9</td>\n",
       "      <td>71.7</td>\n",
       "      <td>82.2</td>\n",
       "    </tr>\n",
       "  </tbody>\n",
       "</table>\n",
       "</div>"
      ],
      "text/plain": [
       "      - 각종 암   3대암   기타암\n",
       "2008   139.5  73.7  65.8\n",
       "2009   140.5  73.0  67.5\n",
       "2010   144.4  73.9  70.5\n",
       "2011   142.8  72.9  69.9\n",
       "2012   146.5  74.2  72.3\n",
       "2013   149.0  74.8  74.2\n",
       "2014   150.9  74.8  76.1\n",
       "2015   150.8  73.0  77.8\n",
       "2016   153.0  72.8  80.2\n",
       "2017   153.9  71.7  82.2"
      ]
     },
     "execution_count": 21,
     "metadata": {},
     "output_type": "execute_result"
    }
   ],
   "source": [
    "total_cancer = cancer_df.iloc[0]                    # \"암의 총 사망률\"\n",
    "top3_cancer = cancer_df.iloc[1:].sum(axis=0)       # \"3대 암의 사망률\"\n",
    "other_cancer = total_cancer - top3_cancer # \"기타 암들의 사망률\"\n",
    "\n",
    "top3_cancer.name = \"3대암\"\n",
    "other_cancer.name = \"기타암\"\n",
    "cancers = pd.concat([total_cancer,top3_cancer,other_cancer],axis=1)\n",
    "cancers"
   ]
  },
  {
   "cell_type": "markdown",
   "metadata": {
    "colab_type": "text",
    "id": "LlEhLvvy7Lns"
   },
   "source": [
    "\n",
    "+ 각 항목의 비교 및 시간적 추세를 확인하기 위해서는 꺽은선 그래프가 유용합니다."
   ]
  },
  {
   "cell_type": "code",
   "execution_count": 22,
   "metadata": {},
   "outputs": [
    {
     "data": {
      "image/png": "[encoded data removed]",
      "text/plain": [
       "<Figure size 1080x360 with 1 Axes>"
      ]
     },
     "metadata": {},
     "output_type": "display_data"
    }
   ],
   "source": [
    "cancers.plot(\n",
    "          title=\"연간 암에 따른 조사망률 추세(단위 : 인구 10만명 당 명)\",\n",
    "          xticks=np.arange(len(df.columns)),\n",
    "          ylim=(0,200),\n",
    "          figsize=(15,5))\n",
    "plt.show()"
   ]
  },
  {
   "cell_type": "markdown",
   "metadata": {
    "colab_type": "text",
    "id": "oKrk9eQbmK9Q"
   },
   "source": [
    "+ 3대 암의 사망률은 조금씩 떨어지고 있지만, 그 외 암들은 꾸준히 증가하고 있습니다.\n",
    "+ 암으로 인한 사망자가 꾸준히 증가하는 원인에 대한 인사이트를 얻을 수 있습니다."
   ]
  },
  {
   "cell_type": "markdown",
   "metadata": {
    "colab_type": "text",
    "id": "RpmKhWmKmK9V"
   },
   "source": [
    "<br>\n",
    "\n",
    "### 예제 4) 2008년 대비 2017년 가파르게 상승한 주요 사망원인 파악"
   ]
  },
  {
   "cell_type": "markdown",
   "metadata": {
    "colab_type": "text",
    "id": "CntssxenmK9V"
   },
   "source": [
    "2008년과 2017년의 사망원인 별 조사망률은 아래와 같습니다. <br>\n",
    "\n",
    "가파르게 성장한 사망원인을 파악해 보기 위해 2008년 대비 2017년의 조사망률의 증감률을 비교해보겠습니다.\n",
    "\n",
    "|사망원인|2008년|2017년|\n",
    "|---|---|----|\n",
    "|전체|498.2|557.3|\n",
    "|신생물|141.4|156.8|\n",
    "|- 각종 암|139.5|153.9|\n",
    "|* 위암|20.9|15.7|\n",
    "|* 간암|22.9|20.9|\n",
    "|* 폐암|29.9|35.1|\n",
    "|내분비 및 대사성질환|22.4|20.6|\n",
    "|- 당뇨병|20.7|17.9|\n",
    "|순환기계통의 질환|112.3|119.6|\n",
    "|- 고혈압성 질환|9.6|11.3|\n",
    "|- 심장 질환|43.4|60.2|\n",
    "|- 뇌혈관 질환|56.5|44.4|\n",
    "|호흡기계통의 질환|32.4|63.7|\n",
    "|- 폐렴|11.1|37.8|\n",
    "|- 만성하기도 질환|14.9|13.2|\n",
    "|소화기계통의 질환|21.8|23.7|\n",
    "|- 간 질환|14.5|13.3|\n",
    "|사망의 외부요인|61.7|53.0|\n",
    "|- 운수사고|14.7|9.8|\n",
    "|- 자살|26.0|24.3|"
   ]
  },
  {
   "cell_type": "code",
   "execution_count": 23,
   "metadata": {
    "colab": {
     "base_uri": "https://localhost:8080/",
     "height": 102
    },
    "colab_type": "code",
    "executionInfo": {
     "elapsed": 635,
     "status": "ok",
     "timestamp": 1551927292835,
     "user": {
      "displayName": "최선열",
      "photoUrl": "",
      "userId": "00663027191814710813"
     },
     "user_tz": -540
    },
    "id": "aag5c2wxmK9W",
    "outputId": "64e2ee8b-7a36-4746-9826-0fc6387bc4a8"
   },
   "outputs": [
    {
     "data": {
      "text/plain": [
       "전체              11.862706\n",
       "신생물             10.891089\n",
       "- 각종 암          10.322581\n",
       "* 위암           -24.880383\n",
       "* 간암            -8.733624\n",
       "* 폐암            17.391304\n",
       "내분비 및 대사성질환     -8.035714\n",
       "- 당뇨병          -13.526570\n",
       "순환기계통의 질환        6.500445\n",
       "- 고혈압성 질환       17.708333\n",
       "- 심장 질환         38.709677\n",
       "- 뇌혈관 질환       -21.415929\n",
       "호흡기계통의 질환       96.604938\n",
       "- 폐렴           240.540541\n",
       "- 만성하기도 질환     -11.409396\n",
       "소화기계통의 질환        8.715596\n",
       "- 간 질환          -8.275862\n",
       "사망의 외부요인       -14.100486\n",
       "- 운수사고         -33.333333\n",
       "- 자살            -6.538462\n",
       "dtype: float64"
      ]
     },
     "execution_count": 23,
     "metadata": {},
     "output_type": "execute_result"
    }
   ],
   "source": [
    "diffs = (df[\"2017\"]-df[\"2008\"])/df[\"2008\"] * 100 # 2008년 사망률 대비 2017년 사망률에 대한 증감률 계산\n",
    "diffs"
   ]
  },
  {
   "cell_type": "markdown",
   "metadata": {
    "colab_type": "text",
    "id": "UodXkeFhmK9Y"
   },
   "source": [
    "* 이에 따라, 계산된 증감률 결과는 다음 표와 같습니다.\n",
    "\n"
   ]
  },
  {
   "cell_type": "markdown",
   "metadata": {
    "colab_type": "text",
    "id": "DsrU-Q_2mK9f"
   },
   "source": [
    "|사망원인|2008년|2017년| 증감률(%) |\n",
    "|---|---|----|\n",
    "|전체|498.2|557.3|11.86%|\n",
    "|신생물|141.4|156.8|10.89%|\n",
    "|- 각종 암|139.5|153.9|10.32%|\n",
    "|* 위암|20.9|15.7|-24.88%|\n",
    "|* 간암|22.9|20.9|-8.73%|\n",
    "|* 폐암|29.9|35.1|17.39%|\n",
    "|내분비 및 대사성질환|22.4|20.6|-8.04%|\n",
    "|- 당뇨병|20.7|17.9|-13.53%|\n",
    "|순환기계통의 질환|112.3|119.6|6.50%|\n",
    "|- 고혈압성 질환|9.6|11.3|17.71%|\n",
    "|- 심장 질환|43.4|60.2|38.71%|\n",
    "|- 뇌혈관 질환|56.5|44.4|-21.42%|\n",
    "|호흡기계통의 질환|32.4|63.7|96.60%|\n",
    "|- 폐렴|11.1|37.8|240.54%|\n",
    "|- 만성하기도 질환|14.9|13.2|-11.41%|\n",
    "|소화기계통의 질환|21.8|23.7|8.72%|\n",
    "|- 간 질환|14.5|13.3|-8.28%|\n",
    "|사망의 외부요인|61.7|53.0|-14.10%|\n",
    "|- 운수사고|14.7|9.8|-33.33%|\n",
    "|- 자살|26.0|24.3|-6.54%|"
   ]
  },
  {
   "cell_type": "markdown",
   "metadata": {
    "colab_type": "text",
    "id": "8lU_Jg8xFFrT"
   },
   "source": [
    "+ 증감률 비교와같이 각 항목별로 그 값의 크기를 서로 비교할때에는 막대그래프(bar chart)가 유용합니다."
   ]
  },
  {
   "cell_type": "code",
   "execution_count": 24,
   "metadata": {
    "colab": {
     "base_uri": "https://localhost:8080/",
     "height": 396
    },
    "colab_type": "code",
    "executionInfo": {
     "elapsed": 965,
     "status": "ok",
     "timestamp": 1551927416472,
     "user": {
      "displayName": "최선열",
      "photoUrl": "",
      "userId": "00663027191814710813"
     },
     "user_tz": -540
    },
    "id": "4luPHKshmK9g",
    "outputId": "7cc3b2bc-bbf1-45e6-b938-d664fc897e85"
   },
   "outputs": [
    {
     "data": {
      "image/png": "[encoded data removed]",
      "text/plain": [
       "<Figure size 720x360 with 1 Axes>"
      ]
     },
     "metadata": {},
     "output_type": "display_data"
    }
   ],
   "source": [
    "plt.figure(figsize=(10,5))\n",
    "diffs.plot(kind='bar')\n",
    "plt.show()"
   ]
  },
  {
   "cell_type": "markdown",
   "metadata": {
    "colab_type": "text",
    "id": "mMpCLWcKmK9k"
   },
   "source": [
    "위의 그래프로부터 얻을 수 있는 인사이트로는\n",
    "\n",
    "* 위암과 운수사고는 크게 떨어졌습니다.\n",
    "* 호흡기계통의 질환 및 폐렴은 역으로 크게 증가하였습니다."
   ]
  },
  {
   "cell_type": "markdown",
   "metadata": {
    "colab_type": "text",
    "id": "qTQdDUqFmK9l"
   },
   "source": [
    "#  \n",
    "\n",
    "---\n",
    "\n",
    "    Copyright(c) 2019 by Public AI. All rights reserved.\n",
    "    Writen by PAI, SangJae Kang ( rocketgrowthsj@publicai.co.kr )  last updated on 2019/03/07\n",
    "\n",
    "---"
   ]
  }
 ],
 "metadata": {
  "colab": {
   "collapsed_sections": [],
   "name": "8_Numpy와 Matplotlib을 활용한 데이터 분석 실무.ipynb",
   "provenance": [],
   "toc_visible": true,
   "version": "0.3.2"
  },
  "kernelspec": {
   "display_name": "Python 3",
   "language": "python",
   "name": "python3"
  },
  "language_info": {
   "codemirror_mode": {
    "name": "ipython",
    "version": 3
   },
   "file_extension": ".py",
   "mimetype": "text/x-python",
   "name": "python",
   "nbconvert_exporter": "python",
   "pygments_lexer": "ipython3",
   "version": "3.6.5"
  }
 },
 "nbformat": 4,
 "nbformat_minor": 1
}
