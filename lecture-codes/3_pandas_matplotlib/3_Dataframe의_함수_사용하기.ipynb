{
 "cells": [
  {
   "cell_type": "markdown",
   "metadata": {
    "colab_type": "text",
    "id": "gfmhEM-5jS5j"
   },
   "source": [
    " ╔══<i><b>Alai-DeepLearning</b></i>════════════════════════╗\n",
    "###  &nbsp;&nbsp; **✎&nbsp;&nbsp;Week 3. Pandas & Matplotlib**\n",
    "# Section 3. Dataframe의 함수 사용하기\n",
    "\n",
    "### _Objective_\n",
    "1. Pandas는 데이터를 다루기 위한 다양한 함수를 내장하고 있습니다. <br>\n",
    "2. 다양한 함수들을 이용하는 방식을 배웁니다. <br>\n",
    "3. 임의의 함수를 적용하는 방식을 배웁니다.\n",
    "\n",
    "╚═════════════════════════════════════╝"
   ]
  },
  {
   "cell_type": "code",
   "execution_count": 0,
   "metadata": {
    "colab_type": "code",
    "id": "XkK-MjMxjS5k",
    "colab": {}
   },
   "outputs": [],
   "source": [
    "import pandas as pd\n",
    "import numpy as np"
   ]
  },
  {
   "cell_type": "markdown",
   "metadata": {
    "colab_type": "text",
    "id": "P7pueSi-lge5"
   },
   "source": [
    "## 예제 데이터 ) 중간고사, 학생들의 국영수사과 성적표\n",
    "\n",
    "\n",
    "학생들의 국영수사과 성적표를 Dataframe으로 저장한 후 다양하게 활용해보겠습니다.<br>\n",
    "\n",
    "####  중간고사, 학생들의 국영수사과 성적표\n",
    "\n",
    "|반   | 학생 이름 | 국어 | 영어 | 수학 | 사회 | 과학 |\n",
    "|----|  ----   | --- |---| --- | --- | --- |\n",
    "|1반 |승기 |80 |92 |70 | 65 | 92 |\n",
    "|1반 |호동 |91 |75 |90 | 68 | 85 | \n",
    "|2반 |윤호 |86 |76 |42 | 72 | 88 |\n",
    "|2반 |성진 |77 |92 |52 | 60 | 80 |\n",
    "|3반 |서형 |75 |85 |85 | 92 | 95 |\n",
    "|3반 |대근 |96 |90 |95 | 81 | 72 |\n",
    "|4반 |준호 |91 |81 |92 | 81 | 73 |"
   ]
  },
  {
   "cell_type": "code",
   "execution_count": 55,
   "metadata": {
    "colab_type": "code",
    "id": "WP3XnugUlo6d",
    "outputId": "79b55b6a-468a-4cd3-8673-df176ef4bb51",
    "colab": {
     "base_uri": "https://localhost:8080/",
     "height": 372.0
    }
   },
   "outputs": [
    {
     "data": {
      "text/html": [
       "<div>\n",
       "<style scoped>\n",
       "    .dataframe tbody tr th:only-of-type {\n",
       "        vertical-align: middle;\n",
       "    }\n",
       "\n",
       "    .dataframe tbody tr th {\n",
       "        vertical-align: top;\n",
       "    }\n",
       "\n",
       "    .dataframe thead th {\n",
       "        text-align: right;\n",
       "    }\n",
       "</style>\n",
       "<table border=\"1\" class=\"dataframe\">\n",
       "  <thead>\n",
       "    <tr style=\"text-align: right;\">\n",
       "      <th></th>\n",
       "      <th>반</th>\n",
       "      <th>이름</th>\n",
       "      <th>국어</th>\n",
       "      <th>영어</th>\n",
       "      <th>수학</th>\n",
       "      <th>사회</th>\n",
       "      <th>과학</th>\n",
       "    </tr>\n",
       "  </thead>\n",
       "  <tbody>\n",
       "    <tr>\n",
       "      <th>0</th>\n",
       "      <td>1반</td>\n",
       "      <td>승기</td>\n",
       "      <td>80</td>\n",
       "      <td>92</td>\n",
       "      <td>70</td>\n",
       "      <td>65</td>\n",
       "      <td>92</td>\n",
       "    </tr>\n",
       "    <tr>\n",
       "      <th>1</th>\n",
       "      <td>1반</td>\n",
       "      <td>호동</td>\n",
       "      <td>91</td>\n",
       "      <td>75</td>\n",
       "      <td>90</td>\n",
       "      <td>68</td>\n",
       "      <td>85</td>\n",
       "    </tr>\n",
       "    <tr>\n",
       "      <th>2</th>\n",
       "      <td>2반</td>\n",
       "      <td>윤호</td>\n",
       "      <td>86</td>\n",
       "      <td>76</td>\n",
       "      <td>42</td>\n",
       "      <td>72</td>\n",
       "      <td>88</td>\n",
       "    </tr>\n",
       "    <tr>\n",
       "      <th>3</th>\n",
       "      <td>2반</td>\n",
       "      <td>성진</td>\n",
       "      <td>77</td>\n",
       "      <td>92</td>\n",
       "      <td>52</td>\n",
       "      <td>60</td>\n",
       "      <td>80</td>\n",
       "    </tr>\n",
       "    <tr>\n",
       "      <th>4</th>\n",
       "      <td>3반</td>\n",
       "      <td>서형</td>\n",
       "      <td>75</td>\n",
       "      <td>85</td>\n",
       "      <td>85</td>\n",
       "      <td>92</td>\n",
       "      <td>95</td>\n",
       "    </tr>\n",
       "    <tr>\n",
       "      <th>5</th>\n",
       "      <td>3반</td>\n",
       "      <td>대근</td>\n",
       "      <td>96</td>\n",
       "      <td>90</td>\n",
       "      <td>95</td>\n",
       "      <td>81</td>\n",
       "      <td>72</td>\n",
       "    </tr>\n",
       "    <tr>\n",
       "      <th>6</th>\n",
       "      <td>4반</td>\n",
       "      <td>준호</td>\n",
       "      <td>91</td>\n",
       "      <td>81</td>\n",
       "      <td>92</td>\n",
       "      <td>81</td>\n",
       "      <td>73</td>\n",
       "    </tr>\n",
       "  </tbody>\n",
       "</table>\n",
       "</div>"
      ],
      "text/plain": [
       "    반  이름  국어  영어  수학  사회  과학\n",
       "0  1반  승기  80  92  70  65  92\n",
       "1  1반  호동  91  75  90  68  85\n",
       "2  2반  윤호  86  76  42  72  88\n",
       "3  2반  성진  77  92  52  60  80\n",
       "4  3반  서형  75  85  85  92  95\n",
       "5  3반  대근  96  90  95  81  72\n",
       "6  4반  준호  91  81  92  81  73"
      ]
     },
     "execution_count": 55,
     "metadata": {
      "tags": []
     },
     "output_type": "execute_result"
    }
   ],
   "source": [
    "columns = [\"반\",\"이름\",\"국어\",\"영어\",\"수학\",\"사회\",\"과학\"]\n",
    "scores = [[\"1반\",\"승기\",80,92,70,65,92],\n",
    "         [\"1반\",\"호동\",91,75,90,68,85],\n",
    "         [\"2반\",\"윤호\",86,76,42,72,88],\n",
    "         [\"2반\",\"성진\",77,92,52,60,80],\n",
    "         [\"3반\",\"서형\",75,85,85,92,95],\n",
    "         [\"3반\",\"대근\",96,90,95,81,72],\n",
    "         [\"4반\",\"준호\",91,81,92,81,73]]\n",
    "\n",
    "df = pd.DataFrame(scores,columns=columns)\n",
    "df"
   ]
  },
  {
   "cell_type": "markdown",
   "metadata": {
    "colab_type": "text",
    "id": "Ff62m0Nn1Znx"
   },
   "source": [
    "&nbsp;&nbsp;&nbsp;&nbsp;&nbsp;&nbsp;&nbsp;&nbsp; *예제를 통해 어떤식으로 값을 가져올 수 있는지 파악해봅시다.*"
   ]
  },
  {
   "cell_type": "markdown",
   "metadata": {
    "colab_type": "text",
    "id": "Rg9TEPR8jS5o"
   },
   "source": [
    "<br><br>\n",
    "\n",
    "# \\[ 1. Dataframe의 축 연산들 \\]\n",
    "\n",
    "----\n",
    "\n",
    "----\n",
    "\n",
    "> *`Dataframe`는 축을 기준으로 집계 계산하는, sum, mean, std, max, min 등의 연산을 지원합니다.*<br>\n",
    "> *집계함수는 한 축이 갖는 여러 개의 값을 하나의 값으로 반환합니다.*"
   ]
  },
  {
   "cell_type": "markdown",
   "metadata": {
    "colab_type": "text",
    "id": "Arf8vqDqjS5x"
   },
   "source": [
    "<br>\n",
    "\n",
    "## 1. Dataframe에서의 평균 구하기\n",
    "\n",
    "---\n",
    "\n",
    "+ Dataframe에서는 간단히 축을 설정하는 것 만으로도 다양한 기준에 따른 연산 값을 구할 수 있습니다. <br>\n",
    "+ axis의 value는 행인지 열인지를 결정해 주는 parameter입니다.\n",
    "\n"
   ]
  },
  {
   "cell_type": "markdown",
   "metadata": {
    "id": "-uQQ12UbYTUn",
    "colab_type": "text"
   },
   "source": [
    "### (1) 열방향 평균 구하기 "
   ]
  },
  {
   "cell_type": "code",
   "execution_count": 88,
   "metadata": {
    "id": "1Ip8T9K_YTUo",
    "colab_type": "code",
    "colab": {
     "base_uri": "https://localhost:8080/",
     "height": 174.0
    },
    "outputId": "62cd6745-ee14-475c-93a9-3d85f3d5f37a"
   },
   "outputs": [
    {
     "data": {
      "text/plain": [
       "국어    82.142857\n",
       "영어    84.428571\n",
       "수학    75.142857\n",
       "사회    74.142857\n",
       "과학    83.571429\n",
       "dtype: float64"
      ]
     },
     "execution_count": 88,
     "metadata": {
      "tags": []
     },
     "output_type": "execute_result"
    }
   ],
   "source": [
    "df.mean() # == df.mean(axis=0)"
   ]
  },
  {
   "cell_type": "markdown",
   "metadata": {
    "id": "eiWulTmQYTUr",
    "colab_type": "text"
   },
   "source": [
    "* 평균을 구할 수 없는 반과 이름은 생략됩니다."
   ]
  },
  {
   "cell_type": "markdown",
   "metadata": {
    "id": "Vj0T-QFmYTUs",
    "colab_type": "text"
   },
   "source": [
    "### (2) 행방향 평균 구하기 \n"
   ]
  },
  {
   "cell_type": "code",
   "execution_count": 57,
   "metadata": {
    "id": "0RQnfJl7YTUt",
    "colab_type": "code",
    "colab": {
     "base_uri": "https://localhost:8080/",
     "height": 226.0
    },
    "outputId": "00eadecb-fdd1-4c4c-d203-3c05bfafd47d"
   },
   "outputs": [
    {
     "data": {
      "text/plain": [
       "0    79.8\n",
       "1    81.8\n",
       "2    72.8\n",
       "3    72.2\n",
       "4    86.4\n",
       "5    86.8\n",
       "6    83.6\n",
       "dtype: float64"
      ]
     },
     "execution_count": 57,
     "metadata": {
      "tags": []
     },
     "output_type": "execute_result"
    }
   ],
   "source": [
    "df.mean(axis=1)"
   ]
  },
  {
   "cell_type": "markdown",
   "metadata": {
    "id": "ScvYpn51YTUw",
    "colab_type": "text"
   },
   "source": [
    "### (3) 특정 행 혹은 열 방향의 평균 구하기"
   ]
  },
  {
   "cell_type": "code",
   "execution_count": 58,
   "metadata": {
    "id": "wizxyev7YTUw",
    "colab_type": "code",
    "colab": {
     "base_uri": "https://localhost:8080/",
     "height": 44.0
    },
    "outputId": "1febc304-4cd6-4fcd-cfd7-d1af687818b2"
   },
   "outputs": [
    {
     "data": {
      "text/plain": [
       "85.14285714285714"
      ]
     },
     "execution_count": 58,
     "metadata": {
      "tags": []
     },
     "output_type": "execute_result"
    }
   ],
   "source": [
    "# 특정 열에 대한 평균\n",
    "df.국어.mean()"
   ]
  },
  {
   "cell_type": "code",
   "execution_count": 59,
   "metadata": {
    "id": "PujQ8X0gYTUy",
    "colab_type": "code",
    "colab": {
     "base_uri": "https://localhost:8080/",
     "height": 44.0
    },
    "outputId": "b0641b05-3e37-4ce8-84fb-594ce915c715"
   },
   "outputs": [
    {
     "data": {
      "text/plain": [
       "79.8"
      ]
     },
     "execution_count": 59,
     "metadata": {
      "tags": []
     },
     "output_type": "execute_result"
    }
   ],
   "source": [
    "# 특정 행에 대한 평균\n",
    "df.loc[0,\"국어\":\"과학\"].mean()"
   ]
  },
  {
   "cell_type": "markdown",
   "metadata": {
    "id": "ejSu1rzkYTU1",
    "colab_type": "text"
   },
   "source": [
    "<br>\n",
    "\n",
    "## 2. 이 외의 다양한 집계 연산들\n",
    "\n",
    "---\n",
    "\n",
    "+ Dataframe에서는 간단히 축을 설정하는 것 만으로도 다양한 기준에 따른 연산 값을 구할 수 있습니다. <br>\n",
    "+ axis의 value는 행인지 열인지를 결정해 주는 parameter입니다.\n"
   ]
  },
  {
   "cell_type": "markdown",
   "metadata": {
    "id": "mYixdLOLYTU1",
    "colab_type": "text"
   },
   "source": [
    "### (1) 다양한 집계함수들"
   ]
  },
  {
   "cell_type": "code",
   "execution_count": 60,
   "metadata": {
    "id": "x3mmbPTlYTU2",
    "colab_type": "code",
    "colab": {
     "base_uri": "https://localhost:8080/",
     "height": 44.0
    },
    "outputId": "65045c43-cca5-4c89-e28d-86740bae8ddd"
   },
   "outputs": [
    {
     "data": {
      "text/plain": [
       "596"
      ]
     },
     "execution_count": 60,
     "metadata": {
      "tags": []
     },
     "output_type": "execute_result"
    }
   ],
   "source": [
    "# 국어 총합 가져오기\n",
    "df.국어.sum()"
   ]
  },
  {
   "cell_type": "code",
   "execution_count": 61,
   "metadata": {
    "id": "Q16jUk-WYTU5",
    "colab_type": "code",
    "colab": {
     "base_uri": "https://localhost:8080/",
     "height": 44.0
    },
    "outputId": "25d01a2f-a18a-422f-def5-04db0d0477d6"
   },
   "outputs": [
    {
     "data": {
      "text/plain": [
       "96"
      ]
     },
     "execution_count": 61,
     "metadata": {
      "tags": []
     },
     "output_type": "execute_result"
    }
   ],
   "source": [
    "# 국어 최댓값 가져오기\n",
    "df.국어.max()"
   ]
  },
  {
   "cell_type": "code",
   "execution_count": 62,
   "metadata": {
    "id": "O6wm3pnYYTU7",
    "colab_type": "code",
    "colab": {
     "base_uri": "https://localhost:8080/",
     "height": 44.0
    },
    "outputId": "823eb2e5-07a5-4c9c-e268-72961110a42d"
   },
   "outputs": [
    {
     "data": {
      "text/plain": [
       "75"
      ]
     },
     "execution_count": 62,
     "metadata": {
      "tags": []
     },
     "output_type": "execute_result"
    }
   ],
   "source": [
    "# 국어 최솟값 가져오기\n",
    "df.국어.min()"
   ]
  },
  {
   "cell_type": "code",
   "execution_count": 63,
   "metadata": {
    "id": "MBNL7zKJYTU9",
    "colab_type": "code",
    "colab": {
     "base_uri": "https://localhost:8080/",
     "height": 44.0
    },
    "outputId": "1bd6f892-0a0f-46a8-8575-e6758a12ebed"
   },
   "outputs": [
    {
     "data": {
      "text/plain": [
       "86.0"
      ]
     },
     "execution_count": 63,
     "metadata": {
      "tags": []
     },
     "output_type": "execute_result"
    }
   ],
   "source": [
    "# 중앙값 가져오기\n",
    "df.국어.median()"
   ]
  },
  {
   "cell_type": "code",
   "execution_count": 64,
   "metadata": {
    "id": "Bu85p6KEYTVA",
    "colab_type": "code",
    "colab": {
     "base_uri": "https://localhost:8080/",
     "height": 44.0
    },
    "outputId": "55593a35-f215-4fbb-921a-e7a02601e1cf"
   },
   "outputs": [
    {
     "data": {
      "text/plain": [
       "79.4"
      ]
     },
     "execution_count": 64,
     "metadata": {
      "tags": []
     },
     "output_type": "execute_result"
    }
   ],
   "source": [
    "# 하위 30%의 성적 가져오기\n",
    "df.국어.quantile(q=0.3)"
   ]
  },
  {
   "cell_type": "code",
   "execution_count": 65,
   "metadata": {
    "id": "0j3vUao5YTVD",
    "colab_type": "code",
    "colab": {
     "base_uri": "https://localhost:8080/",
     "height": 44.0
    },
    "outputId": "ae61d60d-2ca4-46de-bef4-06d17d1f8559"
   },
   "outputs": [
    {
     "data": {
      "text/plain": [
       "7.988086367179802"
      ]
     },
     "execution_count": 65,
     "metadata": {
      "tags": []
     },
     "output_type": "execute_result"
    }
   ],
   "source": [
    "# 표준편차 구하기\n",
    "df.국어.std()"
   ]
  },
  {
   "cell_type": "markdown",
   "metadata": {
    "id": "rFfcJ3zwYTVF",
    "colab_type": "text"
   },
   "source": [
    "### (2) 값의 갯수를 세는 함수"
   ]
  },
  {
   "cell_type": "code",
   "execution_count": 0,
   "metadata": {
    "id": "0DU8QA2OYTVG",
    "colab_type": "code",
    "colab": {}
   },
   "outputs": [],
   "source": [
    "# 각 반 별로 몇개의 행이 있는지 확인\n",
    "a = df.반.value_counts()"
   ]
  },
  {
   "cell_type": "code",
   "execution_count": 67,
   "metadata": {
    "id": "gDfvJSpEYTVJ",
    "colab_type": "code",
    "colab": {
     "base_uri": "https://localhost:8080/",
     "height": 44.0
    },
    "outputId": "12bc002f-8c80-4133-9e7f-15f54f59d94a"
   },
   "outputs": [
    {
     "data": {
      "text/plain": [
       "array(['1반', '2반', '3반', '4반'], dtype=object)"
      ]
     },
     "execution_count": 67,
     "metadata": {
      "tags": []
     },
     "output_type": "execute_result"
    }
   ],
   "source": [
    "# 현재 데이터에 어떤 반이 있는지 확인\n",
    "df.반.unique()"
   ]
  },
  {
   "cell_type": "markdown",
   "metadata": {
    "id": "sQnZQf7yYTVN",
    "colab_type": "text"
   },
   "source": [
    "<br>\n",
    "\n",
    "## 3. 데이터 프레임 정렬하기\n",
    "\n",
    "---\n",
    "\n",
    "+ Dataframe에서는 index에 따라 정렬할 수 있고, value에 따라 정렬할 수 있습니다. <br>\n",
    "+ 계층적으로 정렬할 수 있습니다."
   ]
  },
  {
   "cell_type": "markdown",
   "metadata": {
    "id": "0uP1eEwOYTVN",
    "colab_type": "text"
   },
   "source": [
    "### (1) 인덱스에 따라 정렬하기\n",
    "\n",
    "* 행의 index을 정렬할 수있고, 열의 index를 정렬할 수 있습니다."
   ]
  },
  {
   "cell_type": "code",
   "execution_count": 68,
   "metadata": {
    "id": "0fvPd0seYTVO",
    "colab_type": "code",
    "colab": {
     "base_uri": "https://localhost:8080/",
     "height": 580.0
    },
    "outputId": "dcc6a52c-69c3-491a-9dfc-6a283ff9bcd3"
   },
   "outputs": [
    {
     "name": "stdout",
     "output_type": "stream",
     "text": [
      "    반  이름  국어  영어  수학  사회  과학\n",
      "c  1반  승기  80  92  70  65  92\n",
      "b  1반  호동  91  75  90  68  85\n",
      "a  2반  윤호  86  76  42  72  88\n",
      "d  2반  성진  77  92  52  60  80\n",
      "e  3반  서형  75  85  85  92  95\n",
      "g  3반  대근  96  90  95  81  72\n",
      "f  4반  준호  91  81  92  81  73\n"
     ]
    },
    {
     "data": {
      "text/html": [
       "<div>\n",
       "<style scoped>\n",
       "    .dataframe tbody tr th:only-of-type {\n",
       "        vertical-align: middle;\n",
       "    }\n",
       "\n",
       "    .dataframe tbody tr th {\n",
       "        vertical-align: top;\n",
       "    }\n",
       "\n",
       "    .dataframe thead th {\n",
       "        text-align: right;\n",
       "    }\n",
       "</style>\n",
       "<table border=\"1\" class=\"dataframe\">\n",
       "  <thead>\n",
       "    <tr style=\"text-align: right;\">\n",
       "      <th></th>\n",
       "      <th>반</th>\n",
       "      <th>이름</th>\n",
       "      <th>국어</th>\n",
       "      <th>영어</th>\n",
       "      <th>수학</th>\n",
       "      <th>사회</th>\n",
       "      <th>과학</th>\n",
       "    </tr>\n",
       "  </thead>\n",
       "  <tbody>\n",
       "    <tr>\n",
       "      <th>a</th>\n",
       "      <td>2반</td>\n",
       "      <td>윤호</td>\n",
       "      <td>86</td>\n",
       "      <td>76</td>\n",
       "      <td>42</td>\n",
       "      <td>72</td>\n",
       "      <td>88</td>\n",
       "    </tr>\n",
       "    <tr>\n",
       "      <th>b</th>\n",
       "      <td>1반</td>\n",
       "      <td>호동</td>\n",
       "      <td>91</td>\n",
       "      <td>75</td>\n",
       "      <td>90</td>\n",
       "      <td>68</td>\n",
       "      <td>85</td>\n",
       "    </tr>\n",
       "    <tr>\n",
       "      <th>c</th>\n",
       "      <td>1반</td>\n",
       "      <td>승기</td>\n",
       "      <td>80</td>\n",
       "      <td>92</td>\n",
       "      <td>70</td>\n",
       "      <td>65</td>\n",
       "      <td>92</td>\n",
       "    </tr>\n",
       "    <tr>\n",
       "      <th>d</th>\n",
       "      <td>2반</td>\n",
       "      <td>성진</td>\n",
       "      <td>77</td>\n",
       "      <td>92</td>\n",
       "      <td>52</td>\n",
       "      <td>60</td>\n",
       "      <td>80</td>\n",
       "    </tr>\n",
       "    <tr>\n",
       "      <th>e</th>\n",
       "      <td>3반</td>\n",
       "      <td>서형</td>\n",
       "      <td>75</td>\n",
       "      <td>85</td>\n",
       "      <td>85</td>\n",
       "      <td>92</td>\n",
       "      <td>95</td>\n",
       "    </tr>\n",
       "    <tr>\n",
       "      <th>f</th>\n",
       "      <td>4반</td>\n",
       "      <td>준호</td>\n",
       "      <td>91</td>\n",
       "      <td>81</td>\n",
       "      <td>92</td>\n",
       "      <td>81</td>\n",
       "      <td>73</td>\n",
       "    </tr>\n",
       "    <tr>\n",
       "      <th>g</th>\n",
       "      <td>3반</td>\n",
       "      <td>대근</td>\n",
       "      <td>96</td>\n",
       "      <td>90</td>\n",
       "      <td>95</td>\n",
       "      <td>81</td>\n",
       "      <td>72</td>\n",
       "    </tr>\n",
       "  </tbody>\n",
       "</table>\n",
       "</div>"
      ],
      "text/plain": [
       "    반  이름  국어  영어  수학  사회  과학\n",
       "a  2반  윤호  86  76  42  72  88\n",
       "b  1반  호동  91  75  90  68  85\n",
       "c  1반  승기  80  92  70  65  92\n",
       "d  2반  성진  77  92  52  60  80\n",
       "e  3반  서형  75  85  85  92  95\n",
       "f  4반  준호  91  81  92  81  73\n",
       "g  3반  대근  96  90  95  81  72"
      ]
     },
     "execution_count": 68,
     "metadata": {
      "tags": []
     },
     "output_type": "execute_result"
    }
   ],
   "source": [
    "# 행 index 정렬하기\n",
    "df.index = ['c','b','a','d','e','g','f'] \n",
    "print(df)\n",
    "df.sort_index()"
   ]
  },
  {
   "cell_type": "code",
   "execution_count": 69,
   "metadata": {
    "id": "V4gaZxkwYTVR",
    "colab_type": "code",
    "colab": {
     "base_uri": "https://localhost:8080/",
     "height": 372.0
    },
    "outputId": "fe4a9ee9-e907-40a9-d5b7-84f01c827d8f"
   },
   "outputs": [
    {
     "data": {
      "text/html": [
       "<div>\n",
       "<style scoped>\n",
       "    .dataframe tbody tr th:only-of-type {\n",
       "        vertical-align: middle;\n",
       "    }\n",
       "\n",
       "    .dataframe tbody tr th {\n",
       "        vertical-align: top;\n",
       "    }\n",
       "\n",
       "    .dataframe thead th {\n",
       "        text-align: right;\n",
       "    }\n",
       "</style>\n",
       "<table border=\"1\" class=\"dataframe\">\n",
       "  <thead>\n",
       "    <tr style=\"text-align: right;\">\n",
       "      <th></th>\n",
       "      <th>반</th>\n",
       "      <th>이름</th>\n",
       "      <th>국어</th>\n",
       "      <th>영어</th>\n",
       "      <th>수학</th>\n",
       "      <th>사회</th>\n",
       "      <th>과학</th>\n",
       "    </tr>\n",
       "  </thead>\n",
       "  <tbody>\n",
       "    <tr>\n",
       "      <th>g</th>\n",
       "      <td>3반</td>\n",
       "      <td>대근</td>\n",
       "      <td>96</td>\n",
       "      <td>90</td>\n",
       "      <td>95</td>\n",
       "      <td>81</td>\n",
       "      <td>72</td>\n",
       "    </tr>\n",
       "    <tr>\n",
       "      <th>f</th>\n",
       "      <td>4반</td>\n",
       "      <td>준호</td>\n",
       "      <td>91</td>\n",
       "      <td>81</td>\n",
       "      <td>92</td>\n",
       "      <td>81</td>\n",
       "      <td>73</td>\n",
       "    </tr>\n",
       "    <tr>\n",
       "      <th>e</th>\n",
       "      <td>3반</td>\n",
       "      <td>서형</td>\n",
       "      <td>75</td>\n",
       "      <td>85</td>\n",
       "      <td>85</td>\n",
       "      <td>92</td>\n",
       "      <td>95</td>\n",
       "    </tr>\n",
       "    <tr>\n",
       "      <th>d</th>\n",
       "      <td>2반</td>\n",
       "      <td>성진</td>\n",
       "      <td>77</td>\n",
       "      <td>92</td>\n",
       "      <td>52</td>\n",
       "      <td>60</td>\n",
       "      <td>80</td>\n",
       "    </tr>\n",
       "    <tr>\n",
       "      <th>c</th>\n",
       "      <td>1반</td>\n",
       "      <td>승기</td>\n",
       "      <td>80</td>\n",
       "      <td>92</td>\n",
       "      <td>70</td>\n",
       "      <td>65</td>\n",
       "      <td>92</td>\n",
       "    </tr>\n",
       "    <tr>\n",
       "      <th>b</th>\n",
       "      <td>1반</td>\n",
       "      <td>호동</td>\n",
       "      <td>91</td>\n",
       "      <td>75</td>\n",
       "      <td>90</td>\n",
       "      <td>68</td>\n",
       "      <td>85</td>\n",
       "    </tr>\n",
       "    <tr>\n",
       "      <th>a</th>\n",
       "      <td>2반</td>\n",
       "      <td>윤호</td>\n",
       "      <td>86</td>\n",
       "      <td>76</td>\n",
       "      <td>42</td>\n",
       "      <td>72</td>\n",
       "      <td>88</td>\n",
       "    </tr>\n",
       "  </tbody>\n",
       "</table>\n",
       "</div>"
      ],
      "text/plain": [
       "    반  이름  국어  영어  수학  사회  과학\n",
       "g  3반  대근  96  90  95  81  72\n",
       "f  4반  준호  91  81  92  81  73\n",
       "e  3반  서형  75  85  85  92  95\n",
       "d  2반  성진  77  92  52  60  80\n",
       "c  1반  승기  80  92  70  65  92\n",
       "b  1반  호동  91  75  90  68  85\n",
       "a  2반  윤호  86  76  42  72  88"
      ]
     },
     "execution_count": 69,
     "metadata": {
      "tags": []
     },
     "output_type": "execute_result"
    }
   ],
   "source": [
    "# 역방향으로 정렬\n",
    "df.sort_index(ascending=False)"
   ]
  },
  {
   "cell_type": "code",
   "execution_count": 70,
   "metadata": {
    "id": "wCKKtGhmYTVT",
    "colab_type": "code",
    "colab": {
     "base_uri": "https://localhost:8080/",
     "height": 372.0
    },
    "outputId": "37a8c8ee-cd57-4fc1-e6b8-b699d8e8796f"
   },
   "outputs": [
    {
     "data": {
      "text/html": [
       "<div>\n",
       "<style scoped>\n",
       "    .dataframe tbody tr th:only-of-type {\n",
       "        vertical-align: middle;\n",
       "    }\n",
       "\n",
       "    .dataframe tbody tr th {\n",
       "        vertical-align: top;\n",
       "    }\n",
       "\n",
       "    .dataframe thead th {\n",
       "        text-align: right;\n",
       "    }\n",
       "</style>\n",
       "<table border=\"1\" class=\"dataframe\">\n",
       "  <thead>\n",
       "    <tr style=\"text-align: right;\">\n",
       "      <th></th>\n",
       "      <th>과학</th>\n",
       "      <th>국어</th>\n",
       "      <th>반</th>\n",
       "      <th>사회</th>\n",
       "      <th>수학</th>\n",
       "      <th>영어</th>\n",
       "      <th>이름</th>\n",
       "    </tr>\n",
       "  </thead>\n",
       "  <tbody>\n",
       "    <tr>\n",
       "      <th>c</th>\n",
       "      <td>92</td>\n",
       "      <td>80</td>\n",
       "      <td>1반</td>\n",
       "      <td>65</td>\n",
       "      <td>70</td>\n",
       "      <td>92</td>\n",
       "      <td>승기</td>\n",
       "    </tr>\n",
       "    <tr>\n",
       "      <th>b</th>\n",
       "      <td>85</td>\n",
       "      <td>91</td>\n",
       "      <td>1반</td>\n",
       "      <td>68</td>\n",
       "      <td>90</td>\n",
       "      <td>75</td>\n",
       "      <td>호동</td>\n",
       "    </tr>\n",
       "    <tr>\n",
       "      <th>a</th>\n",
       "      <td>88</td>\n",
       "      <td>86</td>\n",
       "      <td>2반</td>\n",
       "      <td>72</td>\n",
       "      <td>42</td>\n",
       "      <td>76</td>\n",
       "      <td>윤호</td>\n",
       "    </tr>\n",
       "    <tr>\n",
       "      <th>d</th>\n",
       "      <td>80</td>\n",
       "      <td>77</td>\n",
       "      <td>2반</td>\n",
       "      <td>60</td>\n",
       "      <td>52</td>\n",
       "      <td>92</td>\n",
       "      <td>성진</td>\n",
       "    </tr>\n",
       "    <tr>\n",
       "      <th>e</th>\n",
       "      <td>95</td>\n",
       "      <td>75</td>\n",
       "      <td>3반</td>\n",
       "      <td>92</td>\n",
       "      <td>85</td>\n",
       "      <td>85</td>\n",
       "      <td>서형</td>\n",
       "    </tr>\n",
       "    <tr>\n",
       "      <th>g</th>\n",
       "      <td>72</td>\n",
       "      <td>96</td>\n",
       "      <td>3반</td>\n",
       "      <td>81</td>\n",
       "      <td>95</td>\n",
       "      <td>90</td>\n",
       "      <td>대근</td>\n",
       "    </tr>\n",
       "    <tr>\n",
       "      <th>f</th>\n",
       "      <td>73</td>\n",
       "      <td>91</td>\n",
       "      <td>4반</td>\n",
       "      <td>81</td>\n",
       "      <td>92</td>\n",
       "      <td>81</td>\n",
       "      <td>준호</td>\n",
       "    </tr>\n",
       "  </tbody>\n",
       "</table>\n",
       "</div>"
      ],
      "text/plain": [
       "   과학  국어   반  사회  수학  영어  이름\n",
       "c  92  80  1반  65  70  92  승기\n",
       "b  85  91  1반  68  90  75  호동\n",
       "a  88  86  2반  72  42  76  윤호\n",
       "d  80  77  2반  60  52  92  성진\n",
       "e  95  75  3반  92  85  85  서형\n",
       "g  72  96  3반  81  95  90  대근\n",
       "f  73  91  4반  81  92  81  준호"
      ]
     },
     "execution_count": 70,
     "metadata": {
      "tags": []
     },
     "output_type": "execute_result"
    }
   ],
   "source": [
    "# 열 index 정렬하기\n",
    "df.sort_index(axis=1)"
   ]
  },
  {
   "cell_type": "markdown",
   "metadata": {
    "id": "COy5wTQzYTVV",
    "colab_type": "text"
   },
   "source": [
    "column이 가나다 순으로 정렬된 것을 확인할 수 있습니다."
   ]
  },
  {
   "cell_type": "markdown",
   "metadata": {
    "id": "HW3YwlhOYTVW",
    "colab_type": "text"
   },
   "source": [
    "### (2) 값에 따라 정렬하기\n",
    "\n",
    "* 값을 기준으로 정렬할 수 있습니다. \n",
    "* 이 때 우리는 복수개의 기준에 따라 정렬이 가능합니다."
   ]
  },
  {
   "cell_type": "code",
   "execution_count": 71,
   "metadata": {
    "id": "vPjC_5lcYTVW",
    "colab_type": "code",
    "colab": {
     "base_uri": "https://localhost:8080/",
     "height": 372.0
    },
    "outputId": "e2f58601-7e94-4bde-f398-bccb0950f8dc"
   },
   "outputs": [
    {
     "data": {
      "text/html": [
       "<div>\n",
       "<style scoped>\n",
       "    .dataframe tbody tr th:only-of-type {\n",
       "        vertical-align: middle;\n",
       "    }\n",
       "\n",
       "    .dataframe tbody tr th {\n",
       "        vertical-align: top;\n",
       "    }\n",
       "\n",
       "    .dataframe thead th {\n",
       "        text-align: right;\n",
       "    }\n",
       "</style>\n",
       "<table border=\"1\" class=\"dataframe\">\n",
       "  <thead>\n",
       "    <tr style=\"text-align: right;\">\n",
       "      <th></th>\n",
       "      <th>반</th>\n",
       "      <th>이름</th>\n",
       "      <th>국어</th>\n",
       "      <th>영어</th>\n",
       "      <th>수학</th>\n",
       "      <th>사회</th>\n",
       "      <th>과학</th>\n",
       "    </tr>\n",
       "  </thead>\n",
       "  <tbody>\n",
       "    <tr>\n",
       "      <th>e</th>\n",
       "      <td>3반</td>\n",
       "      <td>서형</td>\n",
       "      <td>75</td>\n",
       "      <td>85</td>\n",
       "      <td>85</td>\n",
       "      <td>92</td>\n",
       "      <td>95</td>\n",
       "    </tr>\n",
       "    <tr>\n",
       "      <th>d</th>\n",
       "      <td>2반</td>\n",
       "      <td>성진</td>\n",
       "      <td>77</td>\n",
       "      <td>92</td>\n",
       "      <td>52</td>\n",
       "      <td>60</td>\n",
       "      <td>80</td>\n",
       "    </tr>\n",
       "    <tr>\n",
       "      <th>c</th>\n",
       "      <td>1반</td>\n",
       "      <td>승기</td>\n",
       "      <td>80</td>\n",
       "      <td>92</td>\n",
       "      <td>70</td>\n",
       "      <td>65</td>\n",
       "      <td>92</td>\n",
       "    </tr>\n",
       "    <tr>\n",
       "      <th>a</th>\n",
       "      <td>2반</td>\n",
       "      <td>윤호</td>\n",
       "      <td>86</td>\n",
       "      <td>76</td>\n",
       "      <td>42</td>\n",
       "      <td>72</td>\n",
       "      <td>88</td>\n",
       "    </tr>\n",
       "    <tr>\n",
       "      <th>b</th>\n",
       "      <td>1반</td>\n",
       "      <td>호동</td>\n",
       "      <td>91</td>\n",
       "      <td>75</td>\n",
       "      <td>90</td>\n",
       "      <td>68</td>\n",
       "      <td>85</td>\n",
       "    </tr>\n",
       "    <tr>\n",
       "      <th>f</th>\n",
       "      <td>4반</td>\n",
       "      <td>준호</td>\n",
       "      <td>91</td>\n",
       "      <td>81</td>\n",
       "      <td>92</td>\n",
       "      <td>81</td>\n",
       "      <td>73</td>\n",
       "    </tr>\n",
       "    <tr>\n",
       "      <th>g</th>\n",
       "      <td>3반</td>\n",
       "      <td>대근</td>\n",
       "      <td>96</td>\n",
       "      <td>90</td>\n",
       "      <td>95</td>\n",
       "      <td>81</td>\n",
       "      <td>72</td>\n",
       "    </tr>\n",
       "  </tbody>\n",
       "</table>\n",
       "</div>"
      ],
      "text/plain": [
       "    반  이름  국어  영어  수학  사회  과학\n",
       "e  3반  서형  75  85  85  92  95\n",
       "d  2반  성진  77  92  52  60  80\n",
       "c  1반  승기  80  92  70  65  92\n",
       "a  2반  윤호  86  76  42  72  88\n",
       "b  1반  호동  91  75  90  68  85\n",
       "f  4반  준호  91  81  92  81  73\n",
       "g  3반  대근  96  90  95  81  72"
      ]
     },
     "execution_count": 71,
     "metadata": {
      "tags": []
     },
     "output_type": "execute_result"
    }
   ],
   "source": [
    "df.sort_values('국어')"
   ]
  },
  {
   "cell_type": "code",
   "execution_count": 92,
   "metadata": {
    "id": "NC89DqrAYTVZ",
    "colab_type": "code",
    "colab": {
     "base_uri": "https://localhost:8080/",
     "height": 502.0
    },
    "outputId": "c30292fc-c9c1-4525-d20f-ec4432fdedfd"
   },
   "outputs": [
    {
     "name": "stderr",
     "output_type": "stream",
     "text": [
      "/usr/local/lib/python3.6/dist-packages/ipykernel_launcher.py:1: SettingWithCopyWarning: \n",
      "A value is trying to be set on a copy of a slice from a DataFrame\n",
      "\n",
      "See the caveats in the documentation: http://pandas.pydata.org/pandas-docs/stable/indexing.html#indexing-view-versus-copy\n",
      "  \"\"\"Entry point for launching an IPython kernel.\n"
     ]
    },
    {
     "data": {
      "text/html": [
       "<div>\n",
       "<style scoped>\n",
       "    .dataframe tbody tr th:only-of-type {\n",
       "        vertical-align: middle;\n",
       "    }\n",
       "\n",
       "    .dataframe tbody tr th {\n",
       "        vertical-align: top;\n",
       "    }\n",
       "\n",
       "    .dataframe thead th {\n",
       "        text-align: right;\n",
       "    }\n",
       "</style>\n",
       "<table border=\"1\" class=\"dataframe\">\n",
       "  <thead>\n",
       "    <tr style=\"text-align: right;\">\n",
       "      <th></th>\n",
       "      <th>반</th>\n",
       "      <th>이름</th>\n",
       "      <th>국어</th>\n",
       "      <th>영어</th>\n",
       "      <th>수학</th>\n",
       "      <th>사회</th>\n",
       "      <th>과학</th>\n",
       "    </tr>\n",
       "  </thead>\n",
       "  <tbody>\n",
       "    <tr>\n",
       "      <th>b</th>\n",
       "      <td>1반</td>\n",
       "      <td>호동</td>\n",
       "      <td>75</td>\n",
       "      <td>75</td>\n",
       "      <td>90</td>\n",
       "      <td>68</td>\n",
       "      <td>85</td>\n",
       "    </tr>\n",
       "    <tr>\n",
       "      <th>c</th>\n",
       "      <td>1반</td>\n",
       "      <td>승기</td>\n",
       "      <td>75</td>\n",
       "      <td>92</td>\n",
       "      <td>70</td>\n",
       "      <td>65</td>\n",
       "      <td>92</td>\n",
       "    </tr>\n",
       "    <tr>\n",
       "      <th>e</th>\n",
       "      <td>3반</td>\n",
       "      <td>서형</td>\n",
       "      <td>75</td>\n",
       "      <td>85</td>\n",
       "      <td>85</td>\n",
       "      <td>92</td>\n",
       "      <td>95</td>\n",
       "    </tr>\n",
       "    <tr>\n",
       "      <th>d</th>\n",
       "      <td>2반</td>\n",
       "      <td>성진</td>\n",
       "      <td>77</td>\n",
       "      <td>92</td>\n",
       "      <td>52</td>\n",
       "      <td>60</td>\n",
       "      <td>80</td>\n",
       "    </tr>\n",
       "    <tr>\n",
       "      <th>a</th>\n",
       "      <td>2반</td>\n",
       "      <td>윤호</td>\n",
       "      <td>86</td>\n",
       "      <td>76</td>\n",
       "      <td>42</td>\n",
       "      <td>72</td>\n",
       "      <td>88</td>\n",
       "    </tr>\n",
       "    <tr>\n",
       "      <th>f</th>\n",
       "      <td>4반</td>\n",
       "      <td>준호</td>\n",
       "      <td>91</td>\n",
       "      <td>81</td>\n",
       "      <td>92</td>\n",
       "      <td>81</td>\n",
       "      <td>73</td>\n",
       "    </tr>\n",
       "    <tr>\n",
       "      <th>g</th>\n",
       "      <td>3반</td>\n",
       "      <td>대근</td>\n",
       "      <td>96</td>\n",
       "      <td>90</td>\n",
       "      <td>95</td>\n",
       "      <td>81</td>\n",
       "      <td>72</td>\n",
       "    </tr>\n",
       "  </tbody>\n",
       "</table>\n",
       "</div>"
      ],
      "text/plain": [
       "    반  이름  국어  영어  수학  사회  과학\n",
       "b  1반  호동  75  75  90  68  85\n",
       "c  1반  승기  75  92  70  65  92\n",
       "e  3반  서형  75  85  85  92  95\n",
       "d  2반  성진  77  92  52  60  80\n",
       "a  2반  윤호  86  76  42  72  88\n",
       "f  4반  준호  91  81  92  81  73\n",
       "g  3반  대근  96  90  95  81  72"
      ]
     },
     "execution_count": 92,
     "metadata": {
      "tags": []
     },
     "output_type": "execute_result"
    }
   ],
   "source": [
    "# 국어 성적이 같은 경우, 과학을 기준으로 정렬\n",
    "df.국어[0:2] = [75, 75]\n",
    "df.sort_values(['국어','과학'])"
   ]
  },
  {
   "cell_type": "markdown",
   "metadata": {
    "id": "EdF-j9dEYTVh",
    "colab_type": "text"
   },
   "source": [
    "<br>\n",
    "\n",
    "## 1. Dataframe 순회하기\n",
    "\n",
    "---\n",
    "\n",
    "+ Dataframe에서는 행 방향으로 순회할 수 있도록 `iterrows`메소드를 제공합니다.\n",
    "+ 열방향으로는 `iteritems`메소드를 제공합니다.\n"
   ]
  },
  {
   "cell_type": "markdown",
   "metadata": {
    "id": "WwKrfthKYTVi",
    "colab_type": "text"
   },
   "source": [
    "### (1) 행방향 순회하기"
   ]
  },
  {
   "cell_type": "code",
   "execution_count": 73,
   "metadata": {
    "id": "GkuCGOKRYTVj",
    "colab_type": "code",
    "colab": {
     "base_uri": "https://localhost:8080/",
     "height": 1890.0
    },
    "outputId": "12acc9c6-e28d-48ef-bd41-a0db5c938d0f"
   },
   "outputs": [
    {
     "name": "stdout",
     "output_type": "stream",
     "text": [
      "    반  이름  국어  영어  수학  사회  과학\n",
      "c  1반  승기  75  92  70  65  92\n",
      "b  1반  호동  75  75  90  68  85\n",
      "a  2반  윤호  86  76  42  72  88\n",
      "d  2반  성진  77  92  52  60  80\n",
      "e  3반  서형  75  85  85  92  95\n",
      "g  3반  대근  96  90  95  81  72\n",
      "f  4반  준호  91  81  92  81  73 \n",
      "\n",
      "행 인덱스 :  c\n",
      "반     1반\n",
      "이름    승기\n",
      "국어    75\n",
      "영어    92\n",
      "수학    70\n",
      "사회    65\n",
      "과학    92\n",
      "Name: c, dtype: object\n",
      "행 인덱스 :  b\n",
      "반     1반\n",
      "이름    호동\n",
      "국어    75\n",
      "영어    75\n",
      "수학    90\n",
      "사회    68\n",
      "과학    85\n",
      "Name: b, dtype: object\n",
      "행 인덱스 :  a\n",
      "반     2반\n",
      "이름    윤호\n",
      "국어    86\n",
      "영어    76\n",
      "수학    42\n",
      "사회    72\n",
      "과학    88\n",
      "Name: a, dtype: object\n",
      "행 인덱스 :  d\n",
      "반     2반\n",
      "이름    성진\n",
      "국어    77\n",
      "영어    92\n",
      "수학    52\n",
      "사회    60\n",
      "과학    80\n",
      "Name: d, dtype: object\n",
      "행 인덱스 :  e\n",
      "반     3반\n",
      "이름    서형\n",
      "국어    75\n",
      "영어    85\n",
      "수학    85\n",
      "사회    92\n",
      "과학    95\n",
      "Name: e, dtype: object\n",
      "행 인덱스 :  g\n",
      "반     3반\n",
      "이름    대근\n",
      "국어    96\n",
      "영어    90\n",
      "수학    95\n",
      "사회    81\n",
      "과학    72\n",
      "Name: g, dtype: object\n",
      "행 인덱스 :  f\n",
      "반     4반\n",
      "이름    준호\n",
      "국어    91\n",
      "영어    81\n",
      "수학    92\n",
      "사회    81\n",
      "과학    73\n",
      "Name: f, dtype: object\n"
     ]
    }
   ],
   "source": [
    "print(df,'\\n')\n",
    "for idx, row in df.iterrows():\n",
    "    print(\"행 인덱스 : \", idx)\n",
    "    print(row)"
   ]
  },
  {
   "cell_type": "markdown",
   "metadata": {
    "id": "8x0RXCUiYTVl",
    "colab_type": "text"
   },
   "source": [
    "국어 사회의 합이 수학 과학의 합보다 큰 학생들의 이름을 출력해보자"
   ]
  },
  {
   "cell_type": "code",
   "execution_count": 74,
   "metadata": {
    "id": "DEaNj7ASYTVm",
    "colab_type": "code",
    "colab": {
     "base_uri": "https://localhost:8080/",
     "height": 122.0
    },
    "outputId": "f21348ec-1b63-46ae-bc85-ff40dd7ed53c"
   },
   "outputs": [
    {
     "name": "stdout",
     "output_type": "stream",
     "text": [
      "윤호\n",
      "성진\n",
      "대근\n",
      "준호\n"
     ]
    }
   ],
   "source": [
    "for idx, row in df.iterrows():\n",
    "    if (row.국어 + row.사회)>(row.수학 + row.과학):\n",
    "        print(row.이름)"
   ]
  },
  {
   "cell_type": "markdown",
   "metadata": {
    "id": "G0sg-_SPYTVo",
    "colab_type": "text"
   },
   "source": [
    "하지만 iterrow구문은 대체로 boolean 인덱싱 등 pandas에 내장된 함수의 동작보다 느리다."
   ]
  },
  {
   "cell_type": "code",
   "execution_count": 75,
   "metadata": {
    "id": "ZN9P6LQKYTVo",
    "colab_type": "code",
    "colab": {
     "base_uri": "https://localhost:8080/",
     "height": 44.0
    },
    "outputId": "05c8ba5f-92e4-4d6f-96c0-583d95641037"
   },
   "outputs": [
    {
     "name": "stdout",
     "output_type": "stream",
     "text": [
      "1000 loops, best of 3: 834 µs per loop\n"
     ]
    }
   ],
   "source": [
    "%%timeit\n",
    "name_list = []\n",
    "for idx, row in df.iterrows():\n",
    "    if (row.국어 + row.사회)>(row.수학 + row.과학):\n",
    "        name_list.append(row.이름)"
   ]
  },
  {
   "cell_type": "code",
   "execution_count": 76,
   "metadata": {
    "id": "yV2c2m0GYTVq",
    "colab_type": "code",
    "colab": {
     "base_uri": "https://localhost:8080/",
     "height": 44.0
    },
    "outputId": "d005555d-6a2e-4c63-9c9a-e51c8def9b32"
   },
   "outputs": [
    {
     "name": "stdout",
     "output_type": "stream",
     "text": [
      "1000 loops, best of 3: 490 µs per loop\n"
     ]
    }
   ],
   "source": [
    "%%timeit\n",
    "df.loc[(df.국어 + df.사회)>(df.수학 + df.과학),\"이름\"]"
   ]
  },
  {
   "cell_type": "markdown",
   "metadata": {
    "id": "U0o9VeN6YTVs",
    "colab_type": "text"
   },
   "source": [
    "### (2) 열방향 순회하기"
   ]
  },
  {
   "cell_type": "code",
   "execution_count": 77,
   "metadata": {
    "id": "DrtdhXT6YTVt",
    "colab_type": "code",
    "colab": {
     "base_uri": "https://localhost:8080/",
     "height": 252.0
    },
    "outputId": "1b058ade-5c31-457e-e59c-dae867d2c0bf"
   },
   "outputs": [
    {
     "name": "stdout",
     "output_type": "stream",
     "text": [
      "열 인덱스 :  반\n",
      "c    1반\n",
      "b    1반\n",
      "a    2반\n",
      "d    2반\n",
      "e    3반\n",
      "g    3반\n",
      "f    4반\n",
      "Name: 반, dtype: object\n"
     ]
    }
   ],
   "source": [
    "for idx, col in df.iteritems():\n",
    "    print(\"열 인덱스 : \", idx)\n",
    "    print(col)\n",
    "    break"
   ]
  },
  {
   "cell_type": "markdown",
   "metadata": {
    "id": "8GhLvs4jYTVu",
    "colab_type": "text"
   },
   "source": [
    "학생 평균 성적이 80점이 넘는 과목의 이름을 출력해보자"
   ]
  },
  {
   "cell_type": "code",
   "execution_count": 78,
   "metadata": {
    "id": "OlR7XmtnYTVu",
    "colab_type": "code",
    "colab": {
     "base_uri": "https://localhost:8080/",
     "height": 96.0
    },
    "outputId": "26fd3c55-8858-4eb6-bb5f-ce09647c5eae"
   },
   "outputs": [
    {
     "name": "stdout",
     "output_type": "stream",
     "text": [
      "국어\n",
      "영어\n",
      "과학\n"
     ]
    }
   ],
   "source": [
    "lecture_df = df[['국어',\"영어\",\"수학\",\"과학\",\"사회\"]]\n",
    "for idx, col in lecture_df.iteritems():\n",
    "    if col.mean()>80:\n",
    "        print(col.name)"
   ]
  },
  {
   "cell_type": "markdown",
   "metadata": {
    "id": "aqcd2jNkYTVw",
    "colab_type": "text"
   },
   "source": [
    "<br>\n",
    "\n",
    "## 2. apply 변환하기\n",
    "\n",
    "---\n",
    "\n",
    "+ Dataframe에서는 행 방향 혹은 열 방향으로 함수를 적용하고자 할때 `apply`메소드를 이용합니다.\n",
    "+ Series에서는 원소마다 적용할 때, `apply`메소드를 이용합니다."
   ]
  },
  {
   "cell_type": "code",
   "execution_count": 79,
   "metadata": {
    "id": "IFJGBUzTYTVx",
    "colab_type": "code",
    "colab": {
     "base_uri": "https://localhost:8080/",
     "height": 580.0
    },
    "outputId": "ccb03d81-3f8f-4e10-bfd6-787bdd1eaaf2"
   },
   "outputs": [
    {
     "name": "stdout",
     "output_type": "stream",
     "text": [
      "    반  이름  국어  영어  수학  사회  과학\n",
      "c  1반  승기  75  92  70  65  92\n",
      "b  1반  호동  75  75  90  68  85\n",
      "a  2반  윤호  86  76  42  72  88\n",
      "d  2반  성진  77  92  52  60  80\n",
      "e  3반  서형  75  85  85  92  95\n",
      "g  3반  대근  96  90  95  81  72\n",
      "f  4반  준호  91  81  92  81  73\n"
     ]
    },
    {
     "data": {
      "text/html": [
       "<div>\n",
       "<style scoped>\n",
       "    .dataframe tbody tr th:only-of-type {\n",
       "        vertical-align: middle;\n",
       "    }\n",
       "\n",
       "    .dataframe tbody tr th {\n",
       "        vertical-align: top;\n",
       "    }\n",
       "\n",
       "    .dataframe thead th {\n",
       "        text-align: right;\n",
       "    }\n",
       "</style>\n",
       "<table border=\"1\" class=\"dataframe\">\n",
       "  <thead>\n",
       "    <tr style=\"text-align: right;\">\n",
       "      <th></th>\n",
       "      <th>국어</th>\n",
       "      <th>영어</th>\n",
       "      <th>수학</th>\n",
       "      <th>과학</th>\n",
       "      <th>사회</th>\n",
       "    </tr>\n",
       "  </thead>\n",
       "  <tbody>\n",
       "    <tr>\n",
       "      <th>c</th>\n",
       "      <td>75</td>\n",
       "      <td>92</td>\n",
       "      <td>70</td>\n",
       "      <td>92</td>\n",
       "      <td>65</td>\n",
       "    </tr>\n",
       "    <tr>\n",
       "      <th>b</th>\n",
       "      <td>75</td>\n",
       "      <td>75</td>\n",
       "      <td>90</td>\n",
       "      <td>85</td>\n",
       "      <td>68</td>\n",
       "    </tr>\n",
       "    <tr>\n",
       "      <th>a</th>\n",
       "      <td>86</td>\n",
       "      <td>76</td>\n",
       "      <td>42</td>\n",
       "      <td>88</td>\n",
       "      <td>72</td>\n",
       "    </tr>\n",
       "    <tr>\n",
       "      <th>d</th>\n",
       "      <td>77</td>\n",
       "      <td>92</td>\n",
       "      <td>52</td>\n",
       "      <td>80</td>\n",
       "      <td>60</td>\n",
       "    </tr>\n",
       "    <tr>\n",
       "      <th>e</th>\n",
       "      <td>75</td>\n",
       "      <td>85</td>\n",
       "      <td>85</td>\n",
       "      <td>95</td>\n",
       "      <td>92</td>\n",
       "    </tr>\n",
       "    <tr>\n",
       "      <th>g</th>\n",
       "      <td>96</td>\n",
       "      <td>90</td>\n",
       "      <td>95</td>\n",
       "      <td>72</td>\n",
       "      <td>81</td>\n",
       "    </tr>\n",
       "    <tr>\n",
       "      <th>f</th>\n",
       "      <td>91</td>\n",
       "      <td>81</td>\n",
       "      <td>92</td>\n",
       "      <td>73</td>\n",
       "      <td>81</td>\n",
       "    </tr>\n",
       "  </tbody>\n",
       "</table>\n",
       "</div>"
      ],
      "text/plain": [
       "   국어  영어  수학  과학  사회\n",
       "c  75  92  70  92  65\n",
       "b  75  75  90  85  68\n",
       "a  86  76  42  88  72\n",
       "d  77  92  52  80  60\n",
       "e  75  85  85  95  92\n",
       "g  96  90  95  72  81\n",
       "f  91  81  92  73  81"
      ]
     },
     "execution_count": 79,
     "metadata": {
      "tags": []
     },
     "output_type": "execute_result"
    }
   ],
   "source": [
    "lecture_df = df[['국어',\"영어\",\"수학\",\"과학\",\"사회\"]]\n",
    "lecture_df"
   ]
  },
  {
   "cell_type": "markdown",
   "metadata": {
    "id": "1KjiHxVsYTV0",
    "colab_type": "text"
   },
   "source": [
    "### (1) dataframe의 행방향으로 적용하기"
   ]
  },
  {
   "cell_type": "code",
   "execution_count": 82,
   "metadata": {
    "id": "KlzybZ3iYTV0",
    "colab_type": "code",
    "colab": {
     "base_uri": "https://localhost:8080/",
     "height": 226.0
    },
    "outputId": "0bfde2d5-3741-4adb-e537-e45792d3b21d"
   },
   "outputs": [
    {
     "data": {
      "text/plain": [
       "c    fail\n",
       "b    fail\n",
       "a    fail\n",
       "d    fail\n",
       "e    pass\n",
       "g    pass\n",
       "f    pass\n",
       "dtype: object"
      ]
     },
     "execution_count": 82,
     "metadata": {
      "tags": []
     },
     "output_type": "execute_result"
    }
   ],
   "source": [
    "# 성적이 80점이 넘는 학생은 pass, 아니면 fail\n",
    "lecture_df.apply(lambda x : \"pass\" if x.mean()>80 else \"fail\",\n",
    "                 axis=1)"
   ]
  },
  {
   "cell_type": "markdown",
   "metadata": {
    "id": "KeV3LAZlYTV2",
    "colab_type": "text"
   },
   "source": [
    "### (2) dataframe의 열방향으로 적용하기"
   ]
  },
  {
   "cell_type": "code",
   "execution_count": 83,
   "metadata": {
    "id": "NgEROM96YTV2",
    "colab_type": "code",
    "colab": {
     "base_uri": "https://localhost:8080/",
     "height": 174.0
    },
    "outputId": "f71e9bf3-7208-426c-babf-ebce32479241"
   },
   "outputs": [
    {
     "data": {
      "text/plain": [
       "국어    easy\n",
       "영어    easy\n",
       "수학    hard\n",
       "과학    easy\n",
       "사회    hard\n",
       "dtype: object"
      ]
     },
     "execution_count": 83,
     "metadata": {
      "tags": []
     },
     "output_type": "execute_result"
    }
   ],
   "source": [
    "# 과목 평균 성적이 80점이 넘으면 easy, 아니면 hard\n",
    "lecture_df.apply(lambda x : \"easy\" if x.mean()>80 else \"hard\",\n",
    "                 axis=0)"
   ]
  },
  {
   "cell_type": "markdown",
   "metadata": {
    "id": "VJLvK84MYTV4",
    "colab_type": "text"
   },
   "source": [
    "### (3) dataframe의 모든 원소에 적용하기"
   ]
  },
  {
   "cell_type": "code",
   "execution_count": 84,
   "metadata": {
    "id": "D08JTijaYTV4",
    "colab_type": "code",
    "colab": {
     "base_uri": "https://localhost:8080/",
     "height": 372.0
    },
    "outputId": "e8d576f5-ded7-474e-f00e-d454133626b5"
   },
   "outputs": [
    {
     "data": {
      "text/html": [
       "<div>\n",
       "<style scoped>\n",
       "    .dataframe tbody tr th:only-of-type {\n",
       "        vertical-align: middle;\n",
       "    }\n",
       "\n",
       "    .dataframe tbody tr th {\n",
       "        vertical-align: top;\n",
       "    }\n",
       "\n",
       "    .dataframe thead th {\n",
       "        text-align: right;\n",
       "    }\n",
       "</style>\n",
       "<table border=\"1\" class=\"dataframe\">\n",
       "  <thead>\n",
       "    <tr style=\"text-align: right;\">\n",
       "      <th></th>\n",
       "      <th>국어</th>\n",
       "      <th>영어</th>\n",
       "      <th>수학</th>\n",
       "      <th>과학</th>\n",
       "      <th>사회</th>\n",
       "    </tr>\n",
       "  </thead>\n",
       "  <tbody>\n",
       "    <tr>\n",
       "      <th>c</th>\n",
       "      <td>Fail</td>\n",
       "      <td>Pass</td>\n",
       "      <td>Fail</td>\n",
       "      <td>Pass</td>\n",
       "      <td>Fail</td>\n",
       "    </tr>\n",
       "    <tr>\n",
       "      <th>b</th>\n",
       "      <td>Fail</td>\n",
       "      <td>Fail</td>\n",
       "      <td>Pass</td>\n",
       "      <td>Pass</td>\n",
       "      <td>Fail</td>\n",
       "    </tr>\n",
       "    <tr>\n",
       "      <th>a</th>\n",
       "      <td>Pass</td>\n",
       "      <td>Fail</td>\n",
       "      <td>Fail</td>\n",
       "      <td>Pass</td>\n",
       "      <td>Fail</td>\n",
       "    </tr>\n",
       "    <tr>\n",
       "      <th>d</th>\n",
       "      <td>Fail</td>\n",
       "      <td>Pass</td>\n",
       "      <td>Fail</td>\n",
       "      <td>Fail</td>\n",
       "      <td>Fail</td>\n",
       "    </tr>\n",
       "    <tr>\n",
       "      <th>e</th>\n",
       "      <td>Fail</td>\n",
       "      <td>Pass</td>\n",
       "      <td>Pass</td>\n",
       "      <td>Pass</td>\n",
       "      <td>Pass</td>\n",
       "    </tr>\n",
       "    <tr>\n",
       "      <th>g</th>\n",
       "      <td>Pass</td>\n",
       "      <td>Pass</td>\n",
       "      <td>Pass</td>\n",
       "      <td>Fail</td>\n",
       "      <td>Pass</td>\n",
       "    </tr>\n",
       "    <tr>\n",
       "      <th>f</th>\n",
       "      <td>Pass</td>\n",
       "      <td>Pass</td>\n",
       "      <td>Pass</td>\n",
       "      <td>Fail</td>\n",
       "      <td>Pass</td>\n",
       "    </tr>\n",
       "  </tbody>\n",
       "</table>\n",
       "</div>"
      ],
      "text/plain": [
       "     국어    영어    수학    과학    사회\n",
       "c  Fail  Pass  Fail  Pass  Fail\n",
       "b  Fail  Fail  Pass  Pass  Fail\n",
       "a  Pass  Fail  Fail  Pass  Fail\n",
       "d  Fail  Pass  Fail  Fail  Fail\n",
       "e  Fail  Pass  Pass  Pass  Pass\n",
       "g  Pass  Pass  Pass  Fail  Pass\n",
       "f  Pass  Pass  Pass  Fail  Pass"
      ]
     },
     "execution_count": 84,
     "metadata": {
      "tags": []
     },
     "output_type": "execute_result"
    }
   ],
   "source": [
    "# 성적이 80이 넘으면 Pass, 아니면 Fail\n",
    "lecture_df.applymap(lambda x : \"Pass\" if x>80 else \"Fail\")"
   ]
  },
  {
   "cell_type": "markdown",
   "metadata": {
    "id": "XqVzynSJYTV7",
    "colab_type": "text"
   },
   "source": [
    "### (4) Series의 모든 원소에 적용하기"
   ]
  },
  {
   "cell_type": "code",
   "execution_count": 85,
   "metadata": {
    "id": "CFgZ_C2dYTV7",
    "colab_type": "code",
    "colab": {
     "base_uri": "https://localhost:8080/",
     "height": 226.0
    },
    "outputId": "d0189f67-0a95-4f55-e34b-00d2f8976ce3"
   },
   "outputs": [
    {
     "data": {
      "text/plain": [
       "c    75\n",
       "b    75\n",
       "a    86\n",
       "d    77\n",
       "e    75\n",
       "g    96\n",
       "f    91\n",
       "Name: 국어, dtype: int64"
      ]
     },
     "execution_count": 85,
     "metadata": {
      "tags": []
     },
     "output_type": "execute_result"
    }
   ],
   "source": [
    "language_score = lecture_df.국어\n",
    "language_score"
   ]
  },
  {
   "cell_type": "code",
   "execution_count": 86,
   "metadata": {
    "id": "EFCdwAPBYTV9",
    "colab_type": "code",
    "colab": {
     "base_uri": "https://localhost:8080/",
     "height": 226.0
    },
    "outputId": "76545bc6-f289-486e-f1ba-87df2d278fdf"
   },
   "outputs": [
    {
     "data": {
      "text/plain": [
       "c    Fail\n",
       "b    Fail\n",
       "a    Pass\n",
       "d    Fail\n",
       "e    Fail\n",
       "g    Pass\n",
       "f    Pass\n",
       "Name: 국어, dtype: object"
      ]
     },
     "execution_count": 86,
     "metadata": {
      "tags": []
     },
     "output_type": "execute_result"
    }
   ],
   "source": [
    "# 국어 성적이 80이 넘으면 Pass, 아니면 Fail\n",
    "language_score.apply(lambda x : \"Pass\" if x>80 else \"Fail\")"
   ]
  },
  {
   "cell_type": "markdown",
   "metadata": {
    "colab_type": "text",
    "id": "D_uQkOZvjS8v"
   },
   "source": [
    "#  \n",
    "\n",
    "---\n",
    "\n",
    "    Copyright(c) 2019 by Public AI. All rights reserved.\n",
    "    Writen by PAI, SangJae Kang ( rocketgrowthsj@publicai.co.kr )  last updated on 2019/03/04\n",
    "\n",
    "\n",
    "---"
   ]
  }
 ],
 "metadata": {
  "colab": {
   "name": "3_Dataframe의 함수 사용하기.ipynb",
   "version": "0.3.2",
   "provenance": [],
   "collapsed_sections": [],
   "toc_visible": true
  },
  "kernelspec": {
   "display_name": "Python 3",
   "language": "python",
   "name": "python3"
  }
 },
 "nbformat": 4,
 "nbformat_minor": 0
}