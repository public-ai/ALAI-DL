{
 "cells": [
  {
   "cell_type": "markdown",
   "metadata": {
    "colab_type": "text",
    "id": "dx6VQXFIJTYy"
   },
   "source": [
    " ╔══<i><b>Alai-DeepLearning</b></i>════════════════════════╗\n",
    "###  &nbsp;&nbsp; **✎&nbsp;&nbsp;Week 3. Pandas & Matplotlib**\n",
    "# Section 1. Dataframe의 구조와 생성\n",
    "\n",
    "### _Objective_\n",
    "1. Pandas의 기본 형인 Dataframe과 Series에 대해 배웁니다. <br>\n",
    "2. Dataframe을 생성하는 방식을 배웁니다. <br>\n",
    "3. TODO : 데이터프레임을 CSV로부터 읽고 쓰는 방식을 배웁니다.\n",
    "╚═════════════════════════════════════╝"
   ]
  },
  {
   "cell_type": "code",
   "execution_count": 1,
   "metadata": {
    "colab": {},
    "colab_type": "code",
    "id": "QafQCnsuJTY0"
   },
   "outputs": [],
   "source": [
    "import pandas as pd\n",
    "import numpy as np"
   ]
  },
  {
   "cell_type": "markdown",
   "metadata": {},
   "source": [
    "## 예제 데이터 ) 중간고사, 학생들의 국영수사과 성적표\n",
    "\n",
    "┌─<i> ✍︎ Example  </i>──────────────────────────────────────────────────────────────────┐ <br>\n",
    "\n",
    "학생들의 국영수사과 성적표를 Dataframe으로 저장한 후 다양하게 활용해보겠습니다.<br>\n",
    "\n",
    "####  중간고사, 학생들의 국영수사과 성적표\n",
    "\n",
    "|반   | 학생 이름 | 국어 | 영어 | 수학 | 사회 | 과학 |\n",
    "|----|  ----   | --- |---| --- | --- | --- |\n",
    "|1반 |승기 |80 |92 |70 | 65 | 92 |\n",
    "|1반 |호동 |91 |75 |90 | 68 | 85 | \n",
    "|2반 |윤호 |86 |76 |42 | 72 | 88 |\n",
    "|2반 |성진 |77 |92 |52 | 60 | 80 |\n",
    "|3반 |서형 |75 |85 |85 | 92 | 95 |\n",
    "|3반 |대근 |96 |90 |95 | 81 | 72 |\n",
    "|4반 |준호 |91 |81 |92 | 81 | 73 |"
   ]
  },
  {
   "cell_type": "markdown",
   "metadata": {},
   "source": [
    "# \\[ 1. Series의 구조와 생성 \\]\n",
    "\n",
    "----\n",
    "\n",
    "----\n",
    "\n",
    "> *Series는 Numpy의 1차원 Array와 유사합니다.*<br>\n",
    "> *Series는 같은 데이터형으로 이루어진 정보를 의미합니다.*"
   ]
  },
  {
   "cell_type": "markdown",
   "metadata": {},
   "source": [
    "## 1. Series 생성하기\n",
    "\n",
    "+ Series는 1차원으로 이루어진 데이터 행렬입니다. `np.array`, `list`,`dict`등으로 생성할 수 있습니다."
   ]
  },
  {
   "cell_type": "markdown",
   "metadata": {},
   "source": [
    "### (1) list로 생성하기\n"
   ]
  },
  {
   "cell_type": "code",
   "execution_count": 93,
   "metadata": {},
   "outputs": [
    {
     "data": {
      "text/plain": [
       "0    80\n",
       "1    91\n",
       "2    86\n",
       "3    77\n",
       "4    75\n",
       "5    96\n",
       "6    91\n",
       "dtype: int64"
      ]
     },
     "execution_count": 93,
     "metadata": {},
     "output_type": "execute_result"
    }
   ],
   "source": [
    "language_score = pd.Series([80,91,86,77,75,96,91])\n",
    "language_score"
   ]
  },
  {
   "cell_type": "markdown",
   "metadata": {},
   "source": [
    "\n",
    "*Series의 출력 중*<br>\n",
    "*왼쪽의 숫자는 각 원소에 대한 Index이고, 오른쪽의 숫자는 각 원소의 값을 의미합니다.*"
   ]
  },
  {
   "cell_type": "code",
   "execution_count": 97,
   "metadata": {},
   "outputs": [
    {
     "data": {
      "text/plain": [
       "승기    80\n",
       "호동    91\n",
       "윤호    86\n",
       "성진    77\n",
       "서형    75\n",
       "대근    96\n",
       "준호    91\n",
       "dtype: int64"
      ]
     },
     "execution_count": 97,
     "metadata": {},
     "output_type": "execute_result"
    }
   ],
   "source": [
    "language_score.index = [\"승기\",\"호동\",\"윤호\",\"성진\",\n",
    "                        \"서형\",\"대근\",\"준호\"]\n",
    "language_score"
   ]
  },
  {
   "cell_type": "markdown",
   "metadata": {},
   "source": [
    "*index를 숫자가 아닌, 값으로 지정하고 싶으면, 위와 같이 지정할 수 있습니다.*"
   ]
  },
  {
   "cell_type": "markdown",
   "metadata": {},
   "source": [
    "### (2) Numpy Array로 생성하기"
   ]
  },
  {
   "cell_type": "code",
   "execution_count": 94,
   "metadata": {},
   "outputs": [
    {
     "data": {
      "text/plain": [
       "0    80\n",
       "1    91\n",
       "2    86\n",
       "3    77\n",
       "4    75\n",
       "5    96\n",
       "6    91\n",
       "dtype: int64"
      ]
     },
     "execution_count": 94,
     "metadata": {},
     "output_type": "execute_result"
    }
   ],
   "source": [
    "# numpy Array로도 만들 수 있습니다.\n",
    "values = np.array([80,91,86,77,75,96,91])\n",
    "language_score = pd.Series(values)\n",
    "language_score"
   ]
  },
  {
   "cell_type": "markdown",
   "metadata": {},
   "source": [
    "### (3) dictionary로 생성하기\n",
    "\n",
    "* Dictionary로 Series를 만들 경우, key값은 series의 Index가 됩니다."
   ]
  },
  {
   "cell_type": "code",
   "execution_count": 98,
   "metadata": {},
   "outputs": [
    {
     "data": {
      "text/plain": [
       "승기    80\n",
       "호동    91\n",
       "윤호    86\n",
       "성진    77\n",
       "서형    75\n",
       "대근    96\n",
       "준호    91\n",
       "dtype: int64"
      ]
     },
     "execution_count": 98,
     "metadata": {},
     "output_type": "execute_result"
    }
   ],
   "source": [
    "language_score = pd.Series({\n",
    "    \"승기\":80,\n",
    "    \"호동\":91,\n",
    "    \"윤호\":86,\n",
    "    \"성진\":77,\n",
    "    \"서형\":75,\n",
    "    \"대근\":96,\n",
    "    \"준호\":91\n",
    "})\n",
    "language_score"
   ]
  },
  {
   "cell_type": "markdown",
   "metadata": {},
   "source": [
    "## 2. Series의 정보 가져오기\n",
    "\n",
    "Series은 \n",
    "* 원소 별 값인 `values`\n",
    "* 각 원소에 대한 인덱스인 `index`\n",
    "* 해당 series의 이름인 `name`\n",
    "\n",
    "으로 구성되어 있습니다."
   ]
  },
  {
   "cell_type": "markdown",
   "metadata": {},
   "source": [
    "### (1) 각 Series의 정보를 가져오기 "
   ]
  },
  {
   "cell_type": "code",
   "execution_count": 46,
   "metadata": {},
   "outputs": [
    {
     "data": {
      "text/plain": [
       "array([80, 91, 86, 77, 75, 96, 91])"
      ]
     },
     "execution_count": 46,
     "metadata": {},
     "output_type": "execute_result"
    }
   ],
   "source": [
    "# 값만을 가져오고 싶으면, values를 치면 됩니다. \n",
    "language_score.values"
   ]
  },
  {
   "cell_type": "code",
   "execution_count": 47,
   "metadata": {},
   "outputs": [
    {
     "data": {
      "text/plain": [
       "RangeIndex(start=0, stop=7, step=1)"
      ]
     },
     "execution_count": 47,
     "metadata": {},
     "output_type": "execute_result"
    }
   ],
   "source": [
    "# index만을 가져오고 싶으면, index를 치면 나타납니다.\n",
    "language_score.index"
   ]
  },
  {
   "cell_type": "code",
   "execution_count": 48,
   "metadata": {},
   "outputs": [
    {
     "data": {
      "text/plain": [
       "dtype('int64')"
      ]
     },
     "execution_count": 48,
     "metadata": {},
     "output_type": "execute_result"
    }
   ],
   "source": [
    "# 데이터 타입을 확인하고 싶으면, dtype으로 알 수 있습니다.\n",
    "language_score.dtype"
   ]
  },
  {
   "cell_type": "code",
   "execution_count": 101,
   "metadata": {},
   "outputs": [
    {
     "data": {
      "text/plain": [
       "count     7.000000\n",
       "mean     85.142857\n",
       "std       7.988086\n",
       "min      75.000000\n",
       "25%      78.500000\n",
       "50%      86.000000\n",
       "75%      91.000000\n",
       "max      96.000000\n",
       "dtype: float64"
      ]
     },
     "execution_count": 101,
     "metadata": {},
     "output_type": "execute_result"
    }
   ],
   "source": [
    "# Series의 요약 정보를 알고 싶으면 describe으로 알 수 있습니다.\n",
    "language_score.describe()"
   ]
  },
  {
   "cell_type": "markdown",
   "metadata": {},
   "source": [
    "### (2) Series의 index\n",
    "\n",
    "+ index는 각 원소의 고유한 이름을 의미합니다. 지정하지 않을 경우, 번호가 자동으로 순서대로 매겨지고, 지정할 경우, 우리는 이를 통해 데이터를 확인할 수 있습니다."
   ]
  },
  {
   "cell_type": "code",
   "execution_count": 68,
   "metadata": {},
   "outputs": [
    {
     "data": {
      "text/plain": [
       "승기    80\n",
       "호동    91\n",
       "윤호    86\n",
       "성진    77\n",
       "서형    75\n",
       "대근    96\n",
       "준호    91\n",
       "dtype: int64"
      ]
     },
     "execution_count": 68,
     "metadata": {},
     "output_type": "execute_result"
    }
   ],
   "source": [
    "language_score = pd.Series([80,91,86,77,\n",
    "                            75,96,91],\n",
    "                    index=[\"승기\",\"호동\",\"윤호\",\"성진\",\n",
    "                           \"서형\",\"대근\",\"준호\"])\n",
    "language_score"
   ]
  },
  {
   "cell_type": "code",
   "execution_count": 57,
   "metadata": {},
   "outputs": [
    {
     "data": {
      "text/plain": [
       "80"
      ]
     },
     "execution_count": 57,
     "metadata": {},
     "output_type": "execute_result"
    }
   ],
   "source": [
    "# 승기의 국어성적을 알고 싶으면, \"승기\"라고 넣으면 됩니다.\n",
    "# Python의 dictionary와 유사합니다.\n",
    "language_score[\"승기\"]"
   ]
  },
  {
   "cell_type": "code",
   "execution_count": 58,
   "metadata": {},
   "outputs": [
    {
     "data": {
      "text/plain": [
       "80"
      ]
     },
     "execution_count": 58,
     "metadata": {},
     "output_type": "execute_result"
    }
   ],
   "source": [
    "# 아래와 같이, 인자처럼 가져올 수 있습니다.\n",
    "language_score.승기"
   ]
  },
  {
   "cell_type": "markdown",
   "metadata": {},
   "source": [
    "### (3) Series의 name\n",
    "\n",
    "* Series의 이름을 지정할 수 있습니다. 이는 나중에, 복수개의 Series를 다루는 Dataframe에서 열의 이름으로서 동작합니다."
   ]
  },
  {
   "cell_type": "code",
   "execution_count": 59,
   "metadata": {},
   "outputs": [
    {
     "data": {
      "text/plain": [
       "승기    80\n",
       "호동    91\n",
       "윤호    86\n",
       "성진    77\n",
       "서형    75\n",
       "대근    96\n",
       "준호    91\n",
       "Name: 국어, dtype: int64"
      ]
     },
     "execution_count": 59,
     "metadata": {},
     "output_type": "execute_result"
    }
   ],
   "source": [
    "language_score = pd.Series([80,91,86,77,75,96,91],\n",
    "                    index=[\"승기\",\"호동\",\"윤호\",\"성진\",\"서형\",\"대근\",\"준호\"],\n",
    "                    name=\"국어\")\n",
    "language_score"
   ]
  },
  {
   "cell_type": "markdown",
   "metadata": {},
   "source": [
    "# \\[ 2. Dataframe의 구조와 생성 \\]\n",
    "\n",
    "----\n",
    "\n",
    "----\n",
    "\n",
    "> *Series는 Numpy의 1차원 Array와 유사하고, Dataframe은 Numpy의 2차원 Array와 유사합니다.*<br>\n",
    "> *Series는 같은 데이터형으로 이루어진 정보를 의미하고, Dataframe은 Series의 집합체 입니다.*"
   ]
  },
  {
   "cell_type": "markdown",
   "metadata": {},
   "source": [
    "## 1. Dataframe 생성하기\n",
    "\n",
    "+ Dataframe은 2차원으로 이루어진 데이터 행렬입니다. Series와 마찬가지로, `np.array`, `list`,`dict`등으로 생성할 수 있습니다."
   ]
  },
  {
   "cell_type": "markdown",
   "metadata": {},
   "source": [
    "### (1) list로 생성하기\n",
    "\n",
    "*Series는 1차원의 list으로 만들었다면, Dataframe은 2차원의 list로 만들 수 있습니다.*<br>\n",
    "*하나의 행이 하나의 리스트로 들어갑니다.*"
   ]
  },
  {
   "cell_type": "code",
   "execution_count": 105,
   "metadata": {},
   "outputs": [
    {
     "data": {
      "text/html": [
       "<div>\n",
       "<style scoped>\n",
       "    .dataframe tbody tr th:only-of-type {\n",
       "        vertical-align: middle;\n",
       "    }\n",
       "\n",
       "    .dataframe tbody tr th {\n",
       "        vertical-align: top;\n",
       "    }\n",
       "\n",
       "    .dataframe thead th {\n",
       "        text-align: right;\n",
       "    }\n",
       "</style>\n",
       "<table border=\"1\" class=\"dataframe\">\n",
       "  <thead>\n",
       "    <tr style=\"text-align: right;\">\n",
       "      <th></th>\n",
       "      <th>0</th>\n",
       "      <th>1</th>\n",
       "      <th>2</th>\n",
       "      <th>3</th>\n",
       "      <th>4</th>\n",
       "      <th>5</th>\n",
       "      <th>6</th>\n",
       "    </tr>\n",
       "  </thead>\n",
       "  <tbody>\n",
       "    <tr>\n",
       "      <th>0</th>\n",
       "      <td>1반</td>\n",
       "      <td>승기</td>\n",
       "      <td>80</td>\n",
       "      <td>92</td>\n",
       "      <td>70</td>\n",
       "      <td>65</td>\n",
       "      <td>92</td>\n",
       "    </tr>\n",
       "    <tr>\n",
       "      <th>1</th>\n",
       "      <td>1반</td>\n",
       "      <td>호동</td>\n",
       "      <td>91</td>\n",
       "      <td>75</td>\n",
       "      <td>90</td>\n",
       "      <td>68</td>\n",
       "      <td>85</td>\n",
       "    </tr>\n",
       "    <tr>\n",
       "      <th>2</th>\n",
       "      <td>2반</td>\n",
       "      <td>윤호</td>\n",
       "      <td>86</td>\n",
       "      <td>76</td>\n",
       "      <td>42</td>\n",
       "      <td>72</td>\n",
       "      <td>88</td>\n",
       "    </tr>\n",
       "    <tr>\n",
       "      <th>3</th>\n",
       "      <td>2반</td>\n",
       "      <td>성진</td>\n",
       "      <td>77</td>\n",
       "      <td>92</td>\n",
       "      <td>52</td>\n",
       "      <td>60</td>\n",
       "      <td>80</td>\n",
       "    </tr>\n",
       "    <tr>\n",
       "      <th>4</th>\n",
       "      <td>3반</td>\n",
       "      <td>서형</td>\n",
       "      <td>75</td>\n",
       "      <td>85</td>\n",
       "      <td>85</td>\n",
       "      <td>92</td>\n",
       "      <td>95</td>\n",
       "    </tr>\n",
       "    <tr>\n",
       "      <th>5</th>\n",
       "      <td>3반</td>\n",
       "      <td>대근</td>\n",
       "      <td>96</td>\n",
       "      <td>90</td>\n",
       "      <td>95</td>\n",
       "      <td>81</td>\n",
       "      <td>72</td>\n",
       "    </tr>\n",
       "    <tr>\n",
       "      <th>6</th>\n",
       "      <td>4반</td>\n",
       "      <td>준호</td>\n",
       "      <td>91</td>\n",
       "      <td>81</td>\n",
       "      <td>92</td>\n",
       "      <td>81</td>\n",
       "      <td>73</td>\n",
       "    </tr>\n",
       "  </tbody>\n",
       "</table>\n",
       "</div>"
      ],
      "text/plain": [
       "    0   1   2   3   4   5   6\n",
       "0  1반  승기  80  92  70  65  92\n",
       "1  1반  호동  91  75  90  68  85\n",
       "2  2반  윤호  86  76  42  72  88\n",
       "3  2반  성진  77  92  52  60  80\n",
       "4  3반  서형  75  85  85  92  95\n",
       "5  3반  대근  96  90  95  81  72\n",
       "6  4반  준호  91  81  92  81  73"
      ]
     },
     "execution_count": 105,
     "metadata": {},
     "output_type": "execute_result"
    }
   ],
   "source": [
    "scores = [[\"1반\",\"승기\",80,92,70,65,92],\n",
    "         [\"1반\",\"호동\",91,75,90,68,85],\n",
    "         [\"2반\",\"윤호\",86,76,42,72,88],\n",
    "         [\"2반\",\"성진\",77,92,52,60,80],\n",
    "         [\"3반\",\"서형\",75,85,85,92,95],\n",
    "         [\"3반\",\"대근\",96,90,95,81,72],\n",
    "         [\"4반\",\"준호\",91,81,92,81,73]]\n",
    "\n",
    "df = pd.DataFrame(scores)\n",
    "df"
   ]
  },
  {
   "cell_type": "markdown",
   "metadata": {},
   "source": [
    "\n",
    "*Dataframe의 출력 중*<br>\n",
    "*가장 왼쪽은 각 행에 대한 Index이고, 가장 위쪽은 각 열에 대한 Index입니다..*"
   ]
  },
  {
   "cell_type": "code",
   "execution_count": 109,
   "metadata": {},
   "outputs": [
    {
     "data": {
      "text/html": [
       "<div>\n",
       "<style scoped>\n",
       "    .dataframe tbody tr th:only-of-type {\n",
       "        vertical-align: middle;\n",
       "    }\n",
       "\n",
       "    .dataframe tbody tr th {\n",
       "        vertical-align: top;\n",
       "    }\n",
       "\n",
       "    .dataframe thead th {\n",
       "        text-align: right;\n",
       "    }\n",
       "</style>\n",
       "<table border=\"1\" class=\"dataframe\">\n",
       "  <thead>\n",
       "    <tr style=\"text-align: right;\">\n",
       "      <th></th>\n",
       "      <th>반</th>\n",
       "      <th>이름</th>\n",
       "      <th>국어</th>\n",
       "      <th>영어</th>\n",
       "      <th>수학</th>\n",
       "      <th>사회</th>\n",
       "      <th>과학</th>\n",
       "    </tr>\n",
       "  </thead>\n",
       "  <tbody>\n",
       "    <tr>\n",
       "      <th>A</th>\n",
       "      <td>1반</td>\n",
       "      <td>승기</td>\n",
       "      <td>80</td>\n",
       "      <td>92</td>\n",
       "      <td>70</td>\n",
       "      <td>65</td>\n",
       "      <td>92</td>\n",
       "    </tr>\n",
       "    <tr>\n",
       "      <th>B</th>\n",
       "      <td>1반</td>\n",
       "      <td>호동</td>\n",
       "      <td>91</td>\n",
       "      <td>75</td>\n",
       "      <td>90</td>\n",
       "      <td>68</td>\n",
       "      <td>85</td>\n",
       "    </tr>\n",
       "    <tr>\n",
       "      <th>C</th>\n",
       "      <td>2반</td>\n",
       "      <td>윤호</td>\n",
       "      <td>86</td>\n",
       "      <td>76</td>\n",
       "      <td>42</td>\n",
       "      <td>72</td>\n",
       "      <td>88</td>\n",
       "    </tr>\n",
       "    <tr>\n",
       "      <th>D</th>\n",
       "      <td>2반</td>\n",
       "      <td>성진</td>\n",
       "      <td>77</td>\n",
       "      <td>92</td>\n",
       "      <td>52</td>\n",
       "      <td>60</td>\n",
       "      <td>80</td>\n",
       "    </tr>\n",
       "    <tr>\n",
       "      <th>E</th>\n",
       "      <td>3반</td>\n",
       "      <td>서형</td>\n",
       "      <td>75</td>\n",
       "      <td>85</td>\n",
       "      <td>85</td>\n",
       "      <td>92</td>\n",
       "      <td>95</td>\n",
       "    </tr>\n",
       "    <tr>\n",
       "      <th>F</th>\n",
       "      <td>3반</td>\n",
       "      <td>대근</td>\n",
       "      <td>96</td>\n",
       "      <td>90</td>\n",
       "      <td>95</td>\n",
       "      <td>81</td>\n",
       "      <td>72</td>\n",
       "    </tr>\n",
       "    <tr>\n",
       "      <th>G</th>\n",
       "      <td>4반</td>\n",
       "      <td>준호</td>\n",
       "      <td>91</td>\n",
       "      <td>81</td>\n",
       "      <td>92</td>\n",
       "      <td>81</td>\n",
       "      <td>73</td>\n",
       "    </tr>\n",
       "  </tbody>\n",
       "</table>\n",
       "</div>"
      ],
      "text/plain": [
       "    반  이름  국어  영어  수학  사회  과학\n",
       "A  1반  승기  80  92  70  65  92\n",
       "B  1반  호동  91  75  90  68  85\n",
       "C  2반  윤호  86  76  42  72  88\n",
       "D  2반  성진  77  92  52  60  80\n",
       "E  3반  서형  75  85  85  92  95\n",
       "F  3반  대근  96  90  95  81  72\n",
       "G  4반  준호  91  81  92  81  73"
      ]
     },
     "execution_count": 109,
     "metadata": {},
     "output_type": "execute_result"
    }
   ],
   "source": [
    "columns = [\"반\",\"이름\",\"국어\",\"영어\",\"수학\",\"사회\",\"과학\"]\n",
    "df.columns = columns\n",
    "\n",
    "indexes = [\"A\",\"B\",\"C\",\"D\",\"E\",\"F\",\"G\"]\n",
    "df.index = indexes\n",
    "df"
   ]
  },
  {
   "cell_type": "markdown",
   "metadata": {},
   "source": [
    "열의 index는 `columns`을 통해 지정할 수 있고, 행의 index는 `index`를 통해 지정할 수 있습니다. "
   ]
  },
  {
   "cell_type": "markdown",
   "metadata": {},
   "source": [
    "### (2) np.array로 생성하기\n",
    "\n",
    "list와 유사한 방식으로, numpy.array로도 만들 수 있습니다."
   ]
  },
  {
   "cell_type": "code",
   "execution_count": 110,
   "metadata": {},
   "outputs": [
    {
     "data": {
      "text/html": [
       "<div>\n",
       "<style scoped>\n",
       "    .dataframe tbody tr th:only-of-type {\n",
       "        vertical-align: middle;\n",
       "    }\n",
       "\n",
       "    .dataframe tbody tr th {\n",
       "        vertical-align: top;\n",
       "    }\n",
       "\n",
       "    .dataframe thead th {\n",
       "        text-align: right;\n",
       "    }\n",
       "</style>\n",
       "<table border=\"1\" class=\"dataframe\">\n",
       "  <thead>\n",
       "    <tr style=\"text-align: right;\">\n",
       "      <th></th>\n",
       "      <th>반</th>\n",
       "      <th>이름</th>\n",
       "      <th>국어</th>\n",
       "      <th>영어</th>\n",
       "      <th>수학</th>\n",
       "      <th>사회</th>\n",
       "      <th>과학</th>\n",
       "    </tr>\n",
       "  </thead>\n",
       "  <tbody>\n",
       "    <tr>\n",
       "      <th>0</th>\n",
       "      <td>1반</td>\n",
       "      <td>승기</td>\n",
       "      <td>80</td>\n",
       "      <td>92</td>\n",
       "      <td>70</td>\n",
       "      <td>65</td>\n",
       "      <td>92</td>\n",
       "    </tr>\n",
       "    <tr>\n",
       "      <th>1</th>\n",
       "      <td>1반</td>\n",
       "      <td>호동</td>\n",
       "      <td>91</td>\n",
       "      <td>75</td>\n",
       "      <td>90</td>\n",
       "      <td>68</td>\n",
       "      <td>85</td>\n",
       "    </tr>\n",
       "    <tr>\n",
       "      <th>2</th>\n",
       "      <td>2반</td>\n",
       "      <td>윤호</td>\n",
       "      <td>86</td>\n",
       "      <td>76</td>\n",
       "      <td>42</td>\n",
       "      <td>72</td>\n",
       "      <td>88</td>\n",
       "    </tr>\n",
       "    <tr>\n",
       "      <th>3</th>\n",
       "      <td>2반</td>\n",
       "      <td>성진</td>\n",
       "      <td>77</td>\n",
       "      <td>92</td>\n",
       "      <td>52</td>\n",
       "      <td>60</td>\n",
       "      <td>80</td>\n",
       "    </tr>\n",
       "    <tr>\n",
       "      <th>4</th>\n",
       "      <td>3반</td>\n",
       "      <td>서형</td>\n",
       "      <td>75</td>\n",
       "      <td>85</td>\n",
       "      <td>85</td>\n",
       "      <td>92</td>\n",
       "      <td>95</td>\n",
       "    </tr>\n",
       "    <tr>\n",
       "      <th>5</th>\n",
       "      <td>3반</td>\n",
       "      <td>대근</td>\n",
       "      <td>96</td>\n",
       "      <td>90</td>\n",
       "      <td>95</td>\n",
       "      <td>81</td>\n",
       "      <td>72</td>\n",
       "    </tr>\n",
       "    <tr>\n",
       "      <th>6</th>\n",
       "      <td>4반</td>\n",
       "      <td>준호</td>\n",
       "      <td>91</td>\n",
       "      <td>81</td>\n",
       "      <td>92</td>\n",
       "      <td>81</td>\n",
       "      <td>73</td>\n",
       "    </tr>\n",
       "  </tbody>\n",
       "</table>\n",
       "</div>"
      ],
      "text/plain": [
       "    반  이름  국어  영어  수학  사회  과학\n",
       "0  1반  승기  80  92  70  65  92\n",
       "1  1반  호동  91  75  90  68  85\n",
       "2  2반  윤호  86  76  42  72  88\n",
       "3  2반  성진  77  92  52  60  80\n",
       "4  3반  서형  75  85  85  92  95\n",
       "5  3반  대근  96  90  95  81  72\n",
       "6  4반  준호  91  81  92  81  73"
      ]
     },
     "execution_count": 110,
     "metadata": {},
     "output_type": "execute_result"
    }
   ],
   "source": [
    "columns = [\"반\",\"이름\",\"국어\",\"영어\",\"수학\",\"사회\",\"과학\"]\n",
    "scores = np.array([[\"1반\",\"승기\",80,92,70,65,92],\n",
    "         [\"1반\",\"호동\",91,75,90,68,85],\n",
    "         [\"2반\",\"윤호\",86,76,42,72,88],\n",
    "         [\"2반\",\"성진\",77,92,52,60,80],\n",
    "         [\"3반\",\"서형\",75,85,85,92,95],\n",
    "         [\"3반\",\"대근\",96,90,95,81,72],\n",
    "         [\"4반\",\"준호\",91,81,92,81,73]])\n",
    "\n",
    "df = pd.DataFrame(scores,columns=columns)\n",
    "df"
   ]
  },
  {
   "cell_type": "markdown",
   "metadata": {},
   "source": [
    "### (3) dict으로 생성하기\n",
    "\n",
    "*dictionary로 만들 경우, 각 Key 값은 열의 이름으로 되고,*<br>\n",
    "*각 Value의 원소 갯수는 동일해야 합니다.*"
   ]
  },
  {
   "cell_type": "code",
   "execution_count": 136,
   "metadata": {},
   "outputs": [
    {
     "data": {
      "text/html": [
       "<div>\n",
       "<style scoped>\n",
       "    .dataframe tbody tr th:only-of-type {\n",
       "        vertical-align: middle;\n",
       "    }\n",
       "\n",
       "    .dataframe tbody tr th {\n",
       "        vertical-align: top;\n",
       "    }\n",
       "\n",
       "    .dataframe thead th {\n",
       "        text-align: right;\n",
       "    }\n",
       "</style>\n",
       "<table border=\"1\" class=\"dataframe\">\n",
       "  <thead>\n",
       "    <tr style=\"text-align: right;\">\n",
       "      <th></th>\n",
       "      <th>반</th>\n",
       "      <th>이름</th>\n",
       "      <th>국어</th>\n",
       "      <th>영어</th>\n",
       "      <th>수학</th>\n",
       "      <th>사회</th>\n",
       "      <th>과학</th>\n",
       "    </tr>\n",
       "  </thead>\n",
       "  <tbody>\n",
       "    <tr>\n",
       "      <th>0</th>\n",
       "      <td>1반</td>\n",
       "      <td>승기</td>\n",
       "      <td>80</td>\n",
       "      <td>92</td>\n",
       "      <td>70</td>\n",
       "      <td>65</td>\n",
       "      <td>92</td>\n",
       "    </tr>\n",
       "    <tr>\n",
       "      <th>1</th>\n",
       "      <td>1반</td>\n",
       "      <td>호동</td>\n",
       "      <td>91</td>\n",
       "      <td>75</td>\n",
       "      <td>90</td>\n",
       "      <td>68</td>\n",
       "      <td>85</td>\n",
       "    </tr>\n",
       "    <tr>\n",
       "      <th>2</th>\n",
       "      <td>2반</td>\n",
       "      <td>윤호</td>\n",
       "      <td>86</td>\n",
       "      <td>76</td>\n",
       "      <td>42</td>\n",
       "      <td>72</td>\n",
       "      <td>88</td>\n",
       "    </tr>\n",
       "    <tr>\n",
       "      <th>3</th>\n",
       "      <td>2반</td>\n",
       "      <td>성진</td>\n",
       "      <td>77</td>\n",
       "      <td>92</td>\n",
       "      <td>52</td>\n",
       "      <td>60</td>\n",
       "      <td>80</td>\n",
       "    </tr>\n",
       "    <tr>\n",
       "      <th>4</th>\n",
       "      <td>3반</td>\n",
       "      <td>서형</td>\n",
       "      <td>75</td>\n",
       "      <td>85</td>\n",
       "      <td>85</td>\n",
       "      <td>92</td>\n",
       "      <td>95</td>\n",
       "    </tr>\n",
       "    <tr>\n",
       "      <th>5</th>\n",
       "      <td>3반</td>\n",
       "      <td>대근</td>\n",
       "      <td>96</td>\n",
       "      <td>90</td>\n",
       "      <td>95</td>\n",
       "      <td>81</td>\n",
       "      <td>72</td>\n",
       "    </tr>\n",
       "    <tr>\n",
       "      <th>6</th>\n",
       "      <td>4반</td>\n",
       "      <td>준호</td>\n",
       "      <td>91</td>\n",
       "      <td>81</td>\n",
       "      <td>92</td>\n",
       "      <td>81</td>\n",
       "      <td>73</td>\n",
       "    </tr>\n",
       "  </tbody>\n",
       "</table>\n",
       "</div>"
      ],
      "text/plain": [
       "    반  이름  국어  영어  수학  사회  과학\n",
       "0  1반  승기  80  92  70  65  92\n",
       "1  1반  호동  91  75  90  68  85\n",
       "2  2반  윤호  86  76  42  72  88\n",
       "3  2반  성진  77  92  52  60  80\n",
       "4  3반  서형  75  85  85  92  95\n",
       "5  3반  대근  96  90  95  81  72\n",
       "6  4반  준호  91  81  92  81  73"
      ]
     },
     "execution_count": 136,
     "metadata": {},
     "output_type": "execute_result"
    }
   ],
   "source": [
    "scores = {\n",
    "    \"반\" :[\"1반\",\"1반\",\"2반\",\"2반\",\"3반\",\"3반\",\"4반\"],\n",
    "    \"이름\":[\"승기\",\"호동\",\"윤호\",\"성진\",\"서형\",\"대근\",\"준호\"],\n",
    "    \"국어\":[80,91,86,77,75,96,91],\n",
    "    \"영어\":[92,75,76,92,85,90,81],\n",
    "    \"수학\":[70,90,42,52,85,95,92],\n",
    "    \"사회\":[65,68,72,60,92,81,81],\n",
    "    \"과학\":[92,85,88,80,95,72,73]\n",
    "}\n",
    "df = pd.DataFrame(scores) \n",
    "df"
   ]
  },
  {
   "cell_type": "markdown",
   "metadata": {},
   "source": [
    "## 2. Dataframe의 정보 가져오기\n",
    "\n",
    "Dataframe은 \n",
    "* 원소 별 값인 `values`\n",
    "* 각 행에 대한 인덱스인 `index`\n",
    "* 각 열에 대한 인덱스인 `columns`\n",
    "\n",
    "으로 구성되어 있습니다."
   ]
  },
  {
   "cell_type": "markdown",
   "metadata": {},
   "source": [
    "### (1) Dataframe의 정보를 가져오기 "
   ]
  },
  {
   "cell_type": "code",
   "execution_count": 137,
   "metadata": {},
   "outputs": [
    {
     "data": {
      "text/plain": [
       "array([['1반', '승기', 80, 92, 70, 65, 92],\n",
       "       ['1반', '호동', 91, 75, 90, 68, 85],\n",
       "       ['2반', '윤호', 86, 76, 42, 72, 88],\n",
       "       ['2반', '성진', 77, 92, 52, 60, 80],\n",
       "       ['3반', '서형', 75, 85, 85, 92, 95],\n",
       "       ['3반', '대근', 96, 90, 95, 81, 72],\n",
       "       ['4반', '준호', 91, 81, 92, 81, 73]], dtype=object)"
      ]
     },
     "execution_count": 137,
     "metadata": {},
     "output_type": "execute_result"
    }
   ],
   "source": [
    "# 값만을 가져오고 싶으면, values를 치면 됩니다. \n",
    "df.values"
   ]
  },
  {
   "cell_type": "code",
   "execution_count": 138,
   "metadata": {},
   "outputs": [
    {
     "data": {
      "text/plain": [
       "RangeIndex(start=0, stop=7, step=1)"
      ]
     },
     "execution_count": 138,
     "metadata": {},
     "output_type": "execute_result"
    }
   ],
   "source": [
    "# 행방향 index만을 가져오고 싶으면, index를 치면 나타납니다.\n",
    "df.index"
   ]
  },
  {
   "cell_type": "code",
   "execution_count": 139,
   "metadata": {},
   "outputs": [
    {
     "data": {
      "text/plain": [
       "Index(['반', '이름', '국어', '영어', '수학', '사회', '과학'], dtype='object')"
      ]
     },
     "execution_count": 139,
     "metadata": {},
     "output_type": "execute_result"
    }
   ],
   "source": [
    "# 열방향 index을 가져오고 싶으면, columns을 치면 나타납니다.\n",
    "df.columns"
   ]
  },
  {
   "cell_type": "code",
   "execution_count": 140,
   "metadata": {},
   "outputs": [
    {
     "name": "stdout",
     "output_type": "stream",
     "text": [
      "<class 'pandas.core.frame.DataFrame'>\n",
      "RangeIndex: 7 entries, 0 to 6\n",
      "Data columns (total 7 columns):\n",
      "반     7 non-null object\n",
      "이름    7 non-null object\n",
      "국어    7 non-null int64\n",
      "영어    7 non-null int64\n",
      "수학    7 non-null int64\n",
      "사회    7 non-null int64\n",
      "과학    7 non-null int64\n",
      "dtypes: int64(5), object(2)\n",
      "memory usage: 472.0+ bytes\n"
     ]
    }
   ],
   "source": [
    "# 데이터 타입을 확인하고 싶으면, info으로 알 수 있습니다.\n",
    "df.info()"
   ]
  },
  {
   "cell_type": "code",
   "execution_count": 143,
   "metadata": {},
   "outputs": [
    {
     "data": {
      "text/html": [
       "<div>\n",
       "<style scoped>\n",
       "    .dataframe tbody tr th:only-of-type {\n",
       "        vertical-align: middle;\n",
       "    }\n",
       "\n",
       "    .dataframe tbody tr th {\n",
       "        vertical-align: top;\n",
       "    }\n",
       "\n",
       "    .dataframe thead th {\n",
       "        text-align: right;\n",
       "    }\n",
       "</style>\n",
       "<table border=\"1\" class=\"dataframe\">\n",
       "  <thead>\n",
       "    <tr style=\"text-align: right;\">\n",
       "      <th></th>\n",
       "      <th>국어</th>\n",
       "      <th>영어</th>\n",
       "      <th>수학</th>\n",
       "      <th>사회</th>\n",
       "      <th>과학</th>\n",
       "    </tr>\n",
       "  </thead>\n",
       "  <tbody>\n",
       "    <tr>\n",
       "      <th>count</th>\n",
       "      <td>7.000000</td>\n",
       "      <td>7.000000</td>\n",
       "      <td>7.000000</td>\n",
       "      <td>7.000000</td>\n",
       "      <td>7.000000</td>\n",
       "    </tr>\n",
       "    <tr>\n",
       "      <th>mean</th>\n",
       "      <td>85.142857</td>\n",
       "      <td>84.428571</td>\n",
       "      <td>75.142857</td>\n",
       "      <td>74.142857</td>\n",
       "      <td>83.571429</td>\n",
       "    </tr>\n",
       "    <tr>\n",
       "      <th>std</th>\n",
       "      <td>7.988086</td>\n",
       "      <td>7.276839</td>\n",
       "      <td>21.043040</td>\n",
       "      <td>11.096975</td>\n",
       "      <td>8.960230</td>\n",
       "    </tr>\n",
       "    <tr>\n",
       "      <th>min</th>\n",
       "      <td>75.000000</td>\n",
       "      <td>75.000000</td>\n",
       "      <td>42.000000</td>\n",
       "      <td>60.000000</td>\n",
       "      <td>72.000000</td>\n",
       "    </tr>\n",
       "    <tr>\n",
       "      <th>25%</th>\n",
       "      <td>78.500000</td>\n",
       "      <td>78.500000</td>\n",
       "      <td>61.000000</td>\n",
       "      <td>66.500000</td>\n",
       "      <td>76.500000</td>\n",
       "    </tr>\n",
       "    <tr>\n",
       "      <th>50%</th>\n",
       "      <td>86.000000</td>\n",
       "      <td>85.000000</td>\n",
       "      <td>85.000000</td>\n",
       "      <td>72.000000</td>\n",
       "      <td>85.000000</td>\n",
       "    </tr>\n",
       "    <tr>\n",
       "      <th>75%</th>\n",
       "      <td>91.000000</td>\n",
       "      <td>91.000000</td>\n",
       "      <td>91.000000</td>\n",
       "      <td>81.000000</td>\n",
       "      <td>90.000000</td>\n",
       "    </tr>\n",
       "    <tr>\n",
       "      <th>max</th>\n",
       "      <td>96.000000</td>\n",
       "      <td>92.000000</td>\n",
       "      <td>95.000000</td>\n",
       "      <td>92.000000</td>\n",
       "      <td>95.000000</td>\n",
       "    </tr>\n",
       "  </tbody>\n",
       "</table>\n",
       "</div>"
      ],
      "text/plain": [
       "              국어         영어         수학         사회         과학\n",
       "count   7.000000   7.000000   7.000000   7.000000   7.000000\n",
       "mean   85.142857  84.428571  75.142857  74.142857  83.571429\n",
       "std     7.988086   7.276839  21.043040  11.096975   8.960230\n",
       "min    75.000000  75.000000  42.000000  60.000000  72.000000\n",
       "25%    78.500000  78.500000  61.000000  66.500000  76.500000\n",
       "50%    86.000000  85.000000  85.000000  72.000000  85.000000\n",
       "75%    91.000000  91.000000  91.000000  81.000000  90.000000\n",
       "max    96.000000  92.000000  95.000000  92.000000  95.000000"
      ]
     },
     "execution_count": 143,
     "metadata": {},
     "output_type": "execute_result"
    }
   ],
   "source": [
    "# Datframe의 요약 정보를 알고 싶으면 describe으로 알 수 있습니다.\n",
    "# 반과 이름의 열은 문자열 정보로, 요약 정보가 생략됩니다.\n",
    "df.describe()"
   ]
  },
  {
   "cell_type": "markdown",
   "metadata": {},
   "source": [
    "### (2) Dataframe의 index\n",
    "\n",
    "+ Dataframe의 index는 열방향과 행방향이 있습니다. \n",
    "+ 이후 배울 예정으로, 각 방향으로 자유롭게 우리는 index로 값을 가져올 수 있습니다."
   ]
  },
  {
   "cell_type": "code",
   "execution_count": 145,
   "metadata": {},
   "outputs": [
    {
     "data": {
      "text/html": [
       "<div>\n",
       "<style scoped>\n",
       "    .dataframe tbody tr th:only-of-type {\n",
       "        vertical-align: middle;\n",
       "    }\n",
       "\n",
       "    .dataframe tbody tr th {\n",
       "        vertical-align: top;\n",
       "    }\n",
       "\n",
       "    .dataframe thead th {\n",
       "        text-align: right;\n",
       "    }\n",
       "</style>\n",
       "<table border=\"1\" class=\"dataframe\">\n",
       "  <thead>\n",
       "    <tr style=\"text-align: right;\">\n",
       "      <th></th>\n",
       "      <th>반</th>\n",
       "      <th>이름</th>\n",
       "      <th>국어</th>\n",
       "      <th>영어</th>\n",
       "      <th>수학</th>\n",
       "      <th>사회</th>\n",
       "      <th>과학</th>\n",
       "    </tr>\n",
       "  </thead>\n",
       "  <tbody>\n",
       "    <tr>\n",
       "      <th>0</th>\n",
       "      <td>1반</td>\n",
       "      <td>승기</td>\n",
       "      <td>80</td>\n",
       "      <td>92</td>\n",
       "      <td>70</td>\n",
       "      <td>65</td>\n",
       "      <td>92</td>\n",
       "    </tr>\n",
       "    <tr>\n",
       "      <th>1</th>\n",
       "      <td>1반</td>\n",
       "      <td>호동</td>\n",
       "      <td>91</td>\n",
       "      <td>75</td>\n",
       "      <td>90</td>\n",
       "      <td>68</td>\n",
       "      <td>85</td>\n",
       "    </tr>\n",
       "    <tr>\n",
       "      <th>2</th>\n",
       "      <td>2반</td>\n",
       "      <td>윤호</td>\n",
       "      <td>86</td>\n",
       "      <td>76</td>\n",
       "      <td>42</td>\n",
       "      <td>72</td>\n",
       "      <td>88</td>\n",
       "    </tr>\n",
       "    <tr>\n",
       "      <th>3</th>\n",
       "      <td>2반</td>\n",
       "      <td>성진</td>\n",
       "      <td>77</td>\n",
       "      <td>92</td>\n",
       "      <td>52</td>\n",
       "      <td>60</td>\n",
       "      <td>80</td>\n",
       "    </tr>\n",
       "    <tr>\n",
       "      <th>4</th>\n",
       "      <td>3반</td>\n",
       "      <td>서형</td>\n",
       "      <td>75</td>\n",
       "      <td>85</td>\n",
       "      <td>85</td>\n",
       "      <td>92</td>\n",
       "      <td>95</td>\n",
       "    </tr>\n",
       "    <tr>\n",
       "      <th>5</th>\n",
       "      <td>3반</td>\n",
       "      <td>대근</td>\n",
       "      <td>96</td>\n",
       "      <td>90</td>\n",
       "      <td>95</td>\n",
       "      <td>81</td>\n",
       "      <td>72</td>\n",
       "    </tr>\n",
       "    <tr>\n",
       "      <th>6</th>\n",
       "      <td>4반</td>\n",
       "      <td>준호</td>\n",
       "      <td>91</td>\n",
       "      <td>81</td>\n",
       "      <td>92</td>\n",
       "      <td>81</td>\n",
       "      <td>73</td>\n",
       "    </tr>\n",
       "  </tbody>\n",
       "</table>\n",
       "</div>"
      ],
      "text/plain": [
       "    반  이름  국어  영어  수학  사회  과학\n",
       "0  1반  승기  80  92  70  65  92\n",
       "1  1반  호동  91  75  90  68  85\n",
       "2  2반  윤호  86  76  42  72  88\n",
       "3  2반  성진  77  92  52  60  80\n",
       "4  3반  서형  75  85  85  92  95\n",
       "5  3반  대근  96  90  95  81  72\n",
       "6  4반  준호  91  81  92  81  73"
      ]
     },
     "execution_count": 145,
     "metadata": {},
     "output_type": "execute_result"
    }
   ],
   "source": [
    "df"
   ]
  },
  {
   "cell_type": "markdown",
   "metadata": {},
   "source": [
    "#### 1) 열방향 인덱싱"
   ]
  },
  {
   "cell_type": "code",
   "execution_count": 149,
   "metadata": {},
   "outputs": [
    {
     "data": {
      "text/plain": [
       "Index(['반', '이름', '국어', '영어', '수학', '사회', '과학'], dtype='object')"
      ]
     },
     "execution_count": 149,
     "metadata": {},
     "output_type": "execute_result"
    }
   ],
   "source": [
    "df.columns"
   ]
  },
  {
   "cell_type": "code",
   "execution_count": 152,
   "metadata": {},
   "outputs": [
    {
     "data": {
      "text/plain": [
       "0    승기\n",
       "1    호동\n",
       "2    윤호\n",
       "3    성진\n",
       "4    서형\n",
       "5    대근\n",
       "6    준호\n",
       "Name: 이름, dtype: object"
      ]
     },
     "execution_count": 152,
     "metadata": {},
     "output_type": "execute_result"
    }
   ],
   "source": [
    "df[\"이름\"] # dictionary처럼 지정할 수 있고"
   ]
  },
  {
   "cell_type": "code",
   "execution_count": 154,
   "metadata": {},
   "outputs": [
    {
     "data": {
      "text/plain": [
       "0    승기\n",
       "1    호동\n",
       "2    윤호\n",
       "3    성진\n",
       "4    서형\n",
       "5    대근\n",
       "6    준호\n",
       "Name: 이름, dtype: object"
      ]
     },
     "execution_count": 154,
     "metadata": {},
     "output_type": "execute_result"
    }
   ],
   "source": [
    "df.이름 # Series의 index로도 지정할 수 있습니다."
   ]
  },
  {
   "cell_type": "markdown",
   "metadata": {},
   "source": [
    "#### 2) 행방향 인덱싱"
   ]
  },
  {
   "cell_type": "code",
   "execution_count": 155,
   "metadata": {},
   "outputs": [
    {
     "data": {
      "text/plain": [
       "RangeIndex(start=0, stop=7, step=1)"
      ]
     },
     "execution_count": 155,
     "metadata": {},
     "output_type": "execute_result"
    }
   ],
   "source": [
    "df.index"
   ]
  },
  {
   "cell_type": "code",
   "execution_count": 156,
   "metadata": {},
   "outputs": [
    {
     "data": {
      "text/plain": [
       "반     3반\n",
       "이름    서형\n",
       "국어    75\n",
       "영어    85\n",
       "수학    85\n",
       "사회    92\n",
       "과학    95\n",
       "Name: 4, dtype: object"
      ]
     },
     "execution_count": 156,
     "metadata": {},
     "output_type": "execute_result"
    }
   ],
   "source": [
    "# 서형에 대한 성적을 알고 싶으면, 해당 행 index을 \n",
    "# 아래와 같이 입력하면 됩니다.\n",
    "df.loc[4]"
   ]
  },
  {
   "cell_type": "markdown",
   "metadata": {
    "colab_type": "text",
    "id": "0w7BbDHnJTd2"
   },
   "source": [
    "#  \n",
    "\n",
    "---\n",
    "\n",
    "    Copyright(c) 2019 by Public AI. All rights reserved.\n",
    "    Writen by PAI, SangJae Kang ( rocketgrowthsj@publicai.co.kr )  last updated on 2019/03/04\n",
    "\n",
    "\n",
    "---"
   ]
  }
 ],
 "metadata": {
  "colab": {
   "collapsed_sections": [
    "rxCrKYzVJTY4",
    "3_pFKUXOJTZJ",
    "aIgW-QwyJTZc",
    "PYNPvYTLJTZt",
    "RzCUGXkwJTaF",
    "Ot3FlsxDJTaU",
    "jkvN1lGnJTag",
    "HzIQi04rJTak",
    "DpXYaAyGJTa7",
    "hTtaYiYNJTbN",
    "gt1C9mXmJTbY",
    "0nQWNSoEJTbs",
    "dKGJATBTJTb0",
    "QyiuDMSoJTcN",
    "0hoTKsdaJTcd",
    "6SFPWskvJTdT",
    "RR8tPo1EJTdi",
    "BLH0P5TxJTds"
   ],
   "name": "2_Numpy의 구조와 생성.ipynb",
   "provenance": [],
   "toc_visible": true,
   "version": "0.3.2"
  },
  "kernelspec": {
   "display_name": "Python 3",
   "language": "python",
   "name": "python3"
  },
  "language_info": {
   "codemirror_mode": {
    "name": "ipython",
    "version": 3
   },
   "file_extension": ".py",
   "mimetype": "text/x-python",
   "name": "python",
   "nbconvert_exporter": "python",
   "pygments_lexer": "ipython3",
   "version": "3.6.5"
  }
 },
 "nbformat": 4,
 "nbformat_minor": 1
}
