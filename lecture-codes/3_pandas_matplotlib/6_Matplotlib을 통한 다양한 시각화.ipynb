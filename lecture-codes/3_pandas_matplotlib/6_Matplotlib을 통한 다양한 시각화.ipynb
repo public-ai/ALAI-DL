{
 "cells": [
  {
   "cell_type": "markdown",
   "metadata": {
    "colab_type": "text",
    "id": "jFMC-dwzW_Pz"
   },
   "source": [
    " ╔══<i><b>&nbsp;Alai-DeepLearning&nbsp;</b></i>═══════════════════════════╗\n",
    "###  &nbsp;&nbsp; **✎&nbsp;&nbsp;Week 3. Pandas & Matplotlib**\n",
    "# Section 6. Matplotlib을 통한 다양한 시각화\n",
    "Algorithm AI, last updated at 2019/03/06 (Wed) by PAI\n",
    "\n",
    "### _Objective_\n",
    "1. *전달하고자 하는 데이터와 분석 결과에 따라 더 좋은 시각화 방법들이 존재합니다.*<br>\n",
    "2. *우리는 명확하고 효율적인 의미 전달을 위해 타당한 시각화 방법을 결정해야합니다.*<br>\n",
    "2. *plot 외에 막대그래프, 원그래프, 산포도 등을 다양한 시각화 그래프를 그려봅니다. *<br>\n",
    "  \n",
    "╚════════════════════════════════════════╝"
   ]
  },
  {
   "cell_type": "code",
   "execution_count": 0,
   "metadata": {
    "colab": {},
    "colab_type": "code",
    "id": "f0nA8x_mW_QD"
   },
   "outputs": [],
   "source": [
    "%matplotlib inline\n",
    "\n",
    "import matplotlib.pyplot as plt\n",
    "import numpy as np"
   ]
  },
  {
   "cell_type": "markdown",
   "metadata": {
    "colab_type": "text",
    "id": "mFBTapP6W_QY"
   },
   "source": [
    "### [Optional. 시각화에서 한글 사용하기]\n",
    "\n",
    "---\n",
    "\n",
    "> _`matplotlib` 패키지는 기본적으로 한글을 지원하지 않습니다._<br> \n",
    "> _만약 `matplotlib`에서 폰트설정 없이 한글을 사용하려 한다면 글자가 깨져서 알수 없는 문자가 출력될 것입니다._<br>\n",
    "> _한글로 시각화를 하기 위해서는 아래와 같은 순서로 한글 폰트를 설치 후 세팅하는 작업이 필요합니다._"
   ]
  },
  {
   "cell_type": "code",
   "execution_count": 0,
   "metadata": {
    "colab": {},
    "colab_type": "code",
    "id": "1X-sGqwkW_Qd"
   },
   "outputs": [],
   "source": [
    "# 1. 나눔 폰트를 다운받기\n",
    "!apt-get update -qq\n",
    "!apt-get install fonts-nanum* -qq"
   ]
  },
  {
   "cell_type": "code",
   "execution_count": 0,
   "metadata": {
    "colab": {},
    "colab_type": "code",
    "id": "VWsfniu0W_Qo"
   },
   "outputs": [],
   "source": [
    "import matplotlib.font_manager as fm\n",
    "# 2. 나눔 폰트의 위치 가져오기 \n",
    "system_font = fm.findSystemFonts() # 현재 시스템에 설치된 폰트\n",
    "nanum_fonts = [font for font in system_font if \"NanumBarunGothic.ttf\" in font]\n",
    "font_path = nanum_fonts[0] # 설정할 폰트의 경로\n",
    "\n",
    "# 3. 나눔 폰트로 설정하기\n",
    "font_name = fm.FontProperties(fname=font_path, size=10).get_name()\n",
    "plt.rc(\"font\",family=font_name)\n",
    "\n",
    "# 4. 폰트 재설정하기\n",
    "fm._rebuild()\n",
    "\n",
    "# 5. (optional) minus 기호 깨짐 방지\n",
    "import matplotlib as mpl\n",
    "mpl.rcParams['axes.unicode_minus'] = False"
   ]
  },
  {
   "cell_type": "markdown",
   "metadata": {
    "colab_type": "text",
    "id": "Basy-rgR-3Dt"
   },
   "source": [
    "##  예제 데이터 Ⅰ )  학생들의 국영수사과 성적표\n"
   ]
  },
  {
   "cell_type": "markdown",
   "metadata": {
    "colab_type": "text",
    "id": "n0frltguW_Qw"
   },
   "source": [
    "\n",
    "#### 데이터 1) 중간고사, 학생들의 국영수사과 성적표\n",
    "\n",
    "`middle_scores`\n",
    "\n",
    "| 학생 번호 | 국어 | 영어 | 수학 | 사회 | 과학 |\n",
    "|  ----   | --- |---| --- | --- | --- |\n",
    "|0 |80 |92 |70 | 65 | 92 |\n",
    "|1 |91 |75 |90 | 68 | 85 | \n",
    "|2 |86 |76 |42 | 72 | 88 |\n",
    "|3 |77 |92 |52 | 60 | 80 |\n",
    "|4 |75 |85 |85 | 92 | 95 |\n",
    "|5 |96 |90 |95 | 81 | 72 |\n"
   ]
  },
  {
   "cell_type": "markdown",
   "metadata": {
    "colab_type": "text",
    "id": "zEvz3P5q-W0i"
   },
   "source": [
    "#### 데이터 2) 기말고사, 학생들의 국영수사과 성적표\n",
    "`final_scores`\n",
    "\n",
    "| 학생 번호 | 국어 | 영어 | 수학 | 사회 | 과학 |\n",
    "|  ----   | --- |---| --- | --- | --- |\n",
    "|0 |85 |95 |90 | 66 | 93 |\n",
    "|1 |93 |70 |80 | 60 | 81 | \n",
    "|2 |89 |78 |55 | 75 | 80 |\n",
    "|3 |80 |94 |59 | 72 | 90 |\n",
    "|4 |70 |82 |81 | 95 | 72 |\n",
    "|5 |90 |76 |93 | 82 | 89 |"
   ]
  },
  {
   "cell_type": "code",
   "execution_count": 0,
   "metadata": {
    "colab": {
     "base_uri": "https://localhost:8080/",
     "height": 238
    },
    "colab_type": "code",
    "executionInfo": {
     "elapsed": 445,
     "status": "ok",
     "timestamp": 1551851483138,
     "user": {
      "displayName": "최선열",
      "photoUrl": "",
      "userId": "00663027191814710813"
     },
     "user_tz": -540
    },
    "id": "OrPAdXNuW_Qy",
    "outputId": "b68e6d21-4659-4f5e-ede1-e34ab666f5a9"
   },
   "outputs": [
    {
     "data": {
      "text/plain": [
       "array([[[80, 92, 70, 65, 92],\n",
       "        [91, 75, 90, 68, 85],\n",
       "        [86, 76, 42, 72, 88],\n",
       "        [77, 92, 52, 60, 80],\n",
       "        [75, 85, 85, 92, 95],\n",
       "        [96, 90, 95, 81, 72]],\n",
       "\n",
       "       [[85, 95, 90, 66, 93],\n",
       "        [93, 70, 80, 60, 81],\n",
       "        [89, 78, 55, 75, 80],\n",
       "        [80, 94, 59, 72, 90],\n",
       "        [70, 82, 81, 95, 72],\n",
       "        [90, 76, 93, 82, 89]]])"
      ]
     },
     "execution_count": 7,
     "metadata": {
      "tags": []
     },
     "output_type": "execute_result"
    }
   ],
   "source": [
    "middle_scores = np.array([\n",
    "    [80,92,70,65,92],\n",
    "    [91,75,90,68,85],\n",
    "    [86,76,42,72,88],\n",
    "    [77,92,52,60,80],\n",
    "    [75,85,85,92,95],\n",
    "    [96,90,95,81,72]\n",
    "])\n",
    "\n",
    "final_scores = np.array([\n",
    "    [85,95,90,66,93],\n",
    "    [93,70,80,60,81],\n",
    "    [89,78,55,75,80],\n",
    "    [80,94,59,72,90],\n",
    "    [70,82,81,95,72],\n",
    "    [90,76,93,82,89]\n",
    "])\n",
    "\n",
    "scores = np.stack([middle_scores,final_scores])\n",
    "\n",
    "scores"
   ]
  },
  {
   "cell_type": "markdown",
   "metadata": {
    "colab_type": "text",
    "id": "K543-b9ZcOtf"
   },
   "source": [
    "## 1. 막대그래프(Bar Chart)\n",
    "\n",
    "---\n",
    "\n",
    "+ 막대차트는 분류간(계열간) 크기 비교에 유용한 시각화 방법입니다.<br>\n",
    "+ 주로 범주형자료를 기준으로 연속형 값을 가지는 데이터의 시각화에 사용됩니다.<br>\n",
    "+ 차지하고 있는 크기의 비율이나 분포를 나타내기에는 유용하지 않을 수 있습니다.<br>\n",
    "\n",
    "`plt.bar(x, height)`<br>\n",
    "`plt.barh(y, width)`"
   ]
  },
  {
   "cell_type": "markdown",
   "metadata": {
    "colab_type": "text",
    "id": "qiMC52xhW_RA"
   },
   "source": [
    "### 예제 1) 과목별 평균 점수 \n",
    "\n",
    "┌─<i> ✍︎ Example  </i>────────────────────────────────────┐ <br>\n",
    "\n",
    "&nbsp;&nbsp;&nbsp;&nbsp;중간고사 때 학생들의 평균 성적은 과목별로 얼마나 차이나는지 확인하는 시각화를 해봅시다.<br>\n",
    "\n",
    "└───────────────────────────────────────────┘<br>"
   ]
  },
  {
   "cell_type": "markdown",
   "metadata": {
    "colab_type": "text",
    "id": "q7Jl6tmMfxcu"
   },
   "source": [
    "중간고사 때의 과목 별 평균 성적은 얼마인가?"
   ]
  },
  {
   "cell_type": "code",
   "execution_count": 0,
   "metadata": {
    "colab": {},
    "colab_type": "code",
    "id": "bwwHlNOKw_sx"
   },
   "outputs": [],
   "source": [
    "middle_avg_subject = middle_scores.mean(axis=0) # 중간고사 때 과목 별 평균 성적"
   ]
  },
  {
   "cell_type": "markdown",
   "metadata": {
    "colab_type": "text",
    "id": "TcV5ymE2knWa"
   },
   "source": [
    "#### ⓵ 수직 막대그래프 그리기\n",
    "\n",
    "> 1. `plt.bar(x, height)` : 각각의 `x` 를 항목으로 `height` 높이의 수직 막대그래프를 그립니다.<br>\n",
    "\n",
    ">> `x`가 숫자로 구성된 list의 경우 : \n",
    ">> 1. 각 요소의 값들은 항목이름이자, 순서 및 위치를 의미합니다.  <br>\n",
    "\n",
    ">> `x`가 문자열로 구성된 list의 경우 :\n",
    ">> 1. 각 요소의 Value ➡︎ 항목 이름\n",
    ">> 2. 각 요소의 Index ➡︎ 막대의 순서 및 위치\n",
    ">>를 의미합니다."
   ]
  },
  {
   "cell_type": "code",
   "execution_count": 0,
   "metadata": {
    "colab": {
     "base_uri": "https://localhost:8080/",
     "height": 335
    },
    "colab_type": "code",
    "executionInfo": {
     "elapsed": 631,
     "status": "ok",
     "timestamp": 1551854996216,
     "user": {
      "displayName": "최선열",
      "photoUrl": "",
      "userId": "00663027191814710813"
     },
     "user_tz": -540
    },
    "id": "SlytrOAZp9kr",
    "outputId": "1aed6b6a-7d78-4ab2-c024-df9ec3857200"
   },
   "outputs": [
    {
     "data": {
      "image/png": "[encoded data removed]",
      "text/plain": [
       "<Figure size 576x360 with 1 Axes>"
      ]
     },
     "metadata": {
      "tags": []
     },
     "output_type": "display_data"
    }
   ],
   "source": [
    "xs = [\"국어\",\"영어\",\"수학\",\"사회\",\"과학\"] # x가 문자열로 구성된 list ⇨ Value : 항목이름, Index : 막대의 순서 및 위치\n",
    "\n",
    "plt.figure(figsize=(8,5))\n",
    "\n",
    "plt.bar(x=xs,\n",
    "        height=middle_avg_subject) # 다섯개 항목에 대한 수직 막대그래프를 그립니다.\n",
    "                                   # x : 다섯개 항목로 나누어진 데이터\n",
    "                                   # height : 막대의 높이는 각 항목별 평균 성적\n",
    "\n",
    "plt.title(\"중간고사 과목별 평균 성적\")\n",
    "plt.ylim(50,100)\n",
    "plt.show()"
   ]
  },
  {
   "cell_type": "markdown",
   "metadata": {
    "colab_type": "text",
    "id": "1BpZeLBlW_Ra"
   },
   "source": [
    "#### ⓶ 수평 막대그래프 그리기\n",
    "\n",
    "> 1. `plt.barh(y, width)` : 각각의 `y` 를 항목으로 `width` 너비의 수평 막대그래프를 그립니다.\n",
    "\n",
    "\n",
    ">> `y`가 숫자로 구성된 list의 경우 : \n",
    ">> 1. 각 요소의 값들은 항목이름이자, 순서 및 위치를 의미합니다.  <br>\n",
    "\n",
    ">> `y`가 문자열로 구성된 list의 경우 :\n",
    ">> 1. 각 요소의 Value ➡︎ 항목 이름\n",
    ">> 2. 각 요소의 Index ➡︎ 막대의 순서 및 위치\n",
    ">>를 의미합니다."
   ]
  },
  {
   "cell_type": "code",
   "execution_count": 0,
   "metadata": {
    "colab": {
     "base_uri": "https://localhost:8080/",
     "height": 335
    },
    "colab_type": "code",
    "executionInfo": {
     "elapsed": 636,
     "status": "ok",
     "timestamp": 1551855061536,
     "user": {
      "displayName": "최선열",
      "photoUrl": "",
      "userId": "00663027191814710813"
     },
     "user_tz": -540
    },
    "id": "7hpDe0F9W_Rc",
    "outputId": "5f8c252d-40a2-4cf3-bced-9c2bc6b87780"
   },
   "outputs": [
    {
     "data": {
      "image/png": "[encoded data removed]",
      "text/plain": [
       "<Figure size 720x360 with 1 Axes>"
      ]
     },
     "metadata": {
      "tags": []
     },
     "output_type": "display_data"
    }
   ],
   "source": [
    "ys = [\"국어\",\"영어\",\"수학\",\"사회\",\"과학\"] # y가 문자열로 구성된 list ⇨ Value : 항목이름, Index : 막대의 순서 및 위치\n",
    "\n",
    "plt.figure(figsize=(10,5))\n",
    "\n",
    "plt.barh(y=ys,\n",
    "         width=middle_avg_subject) # 다섯개 항목에 대한 수평 막대그래프를 그립니다.\n",
    "                                   # y : 다섯개 항목으로 나누어진 데이터\n",
    "                                   # width : 막대의 너비는 각 항목별 평균 성적\n",
    "\n",
    "plt.title(\"중간고사 과목별 평균 성적\")\n",
    "plt.xlim(50,100)\n",
    "plt.show()"
   ]
  },
  {
   "cell_type": "markdown",
   "metadata": {
    "colab_type": "text",
    "id": "tONStiNl26R9"
   },
   "source": [
    "### 예제 2) 과목별 평균 점수 \n",
    "\n",
    "┌─<i> ✍︎ Example  </i>────────────────────────────────────┐ <br>\n",
    "\n",
    "&nbsp;&nbsp;&nbsp;&nbsp;각 과목별로 중간고사와 기말고사의 평균 성적이 얼마나 차이나는지 확인하는 시각화를 해봅시다.<br>\n",
    "\n",
    "└───────────────────────────────────────────┘<br>"
   ]
  },
  {
   "cell_type": "markdown",
   "metadata": {
    "colab_type": "text",
    "id": "-3ZrqtkoW_Ro"
   },
   "source": [
    "#### ⓵ 막대그래프로 두가지 범주를 같이 비교하기\n",
    "\n",
    "범주 기준1 : 과목별 비교<br>\n",
    "범주 기준2 : 기간(중간고사및 기발고사)의 비교\n",
    "\n",
    "막대그래프에서 하나의 기준을 추가하여<br>\n",
    "중간고사 때와 기말고사 때를 같이 비교하고 싶다면, 아래와 같이 할 수 있습니다."
   ]
  },
  {
   "cell_type": "code",
   "execution_count": 0,
   "metadata": {
    "colab": {},
    "colab_type": "code",
    "id": "d1S32W6fy33o"
   },
   "outputs": [],
   "source": [
    "middle_avg_subject = middle_scores.mean(axis=0) # 중간고사 때 과목 별 평균 성적\n",
    "final_avg_subject = final_scores.mean(axis=0)   # 기말고사 때 과목 별 평균 성적"
   ]
  },
  {
   "cell_type": "code",
   "execution_count": 0,
   "metadata": {
    "colab": {
     "base_uri": "https://localhost:8080/",
     "height": 335
    },
    "colab_type": "code",
    "executionInfo": {
     "elapsed": 642,
     "status": "ok",
     "timestamp": 1551853072809,
     "user": {
      "displayName": "최선열",
      "photoUrl": "",
      "userId": "00663027191814710813"
     },
     "user_tz": -540
    },
    "id": "_95vfri4W_Rq",
    "outputId": "0531336e-4236-4de7-f560-09488d2d520d"
   },
   "outputs": [
    {
     "data": {
      "image/png": "[encoded data removed]",
      "text/plain": [
       "<Figure size 720x360 with 1 Axes>"
      ]
     },
     "metadata": {
      "tags": []
     },
     "output_type": "display_data"
    }
   ],
   "source": [
    "plt.figure(figsize=(10,5))\n",
    "\n",
    "# 중간고사에 대한 막대그래프 그리기\n",
    "plt.bar(x=np.arange(0,5)-0.1,      # 막대의 위치 : 왼쪽으로 0.1만큼 이동\n",
    "        height=middle_avg_subject, # 막대의 높이 : 중간고사의 평균\n",
    "        width=0.2)                 # 막대의 너비 : 0.2\n",
    "\n",
    "# 기말고사에 대한 막대그래프 그리기\n",
    "plt.bar(x=np.arange(0,5)+0.1,      # 막대의 위치 : 오른쪽으로 0.1만큼 이동\n",
    "        height=final_avg_subject,  # 막대의 높이 : 기말고사의 평균\n",
    "        width=0.2)                 # 막대의 너비 : 0.2\n",
    "\n",
    "plt.title(\"과목별 평균 성적\")\n",
    "plt.xticks(ticks=np.arange(0,5),\n",
    "           labels=[\"국어\",\"영어\",\"수학\",\"사회\",\"과학\"]) # 각 항목에 대한 이름 설정\n",
    "plt.ylim(50,100)\n",
    "plt.legend([\"중간고사\",\"기말고사\"])\n",
    "plt.show()"
   ]
  },
  {
   "cell_type": "markdown",
   "metadata": {
    "colab_type": "text",
    "id": "X6eMfNyJed9z"
   },
   "source": [
    "## 2. 원그래프 (Pie Chart)\n",
    "\n",
    "---\n",
    "\n",
    "+ 원그래프는 각 항목의 차지하는 비율의 비교에 유용한 시각화 방법입니다.<br>\n",
    "+ 주로 명목형분류를 기준으로 비율적인 값을 가지는 데이터의 시각화에 사용됩니다.<br>\n",
    "+ 연속형 자료를 기준으로 분류된 데이터의 시각화에는 유용하지 않을 수 있습니다.\n",
    "\n",
    "> 1. `plt.pie(x, lebels=)` : x의 각 요소 값이 차지하는 비중을 원형 그래프로 그려줍니다.\n",
    ">> 이때, 각 항목이 가지는 파이의 크기는 전체 크기의 비율에 해당하게 됩니다.( % )\n"
   ]
  },
  {
   "cell_type": "markdown",
   "metadata": {
    "colab_type": "text",
    "id": "5WFK_xMTW_Rw"
   },
   "source": [
    "### 예제 2) 학생의 오답비중\n",
    "\n",
    "┌─<i> ✍︎ Example </i>────────────────────────────────────────┐ <br>\n",
    "\n",
    "&nbsp;&nbsp;&nbsp;&nbsp;중간고사 때 0번 학생이 틀린 오답 점수는 과목 별로 비중이 어떻게 되는지 확인하는 시각화를 해봅시다.<br>\n",
    "\n",
    "└───────────────────────────────────────────────┘<br>\n",
    "\n"
   ]
  },
  {
   "cell_type": "markdown",
   "metadata": {
    "colab_type": "text",
    "id": "oxZePepG1veu"
   },
   "source": [
    "0번째 학생의 과목 별 오답점수의 비중은 얼마나 되는가?"
   ]
  },
  {
   "cell_type": "code",
   "execution_count": 0,
   "metadata": {
    "colab": {},
    "colab_type": "code",
    "id": "-AHa4nL8W_Ry"
   },
   "outputs": [],
   "source": [
    "error_score = 100 - middle_scores[0] # 0번째 학생의 오답점수를 계산하여 저장\n",
    "\n",
    "label_names = np.array([\"국어\",\"영어\",\"수학\",\"사회\",\"과학\"]) # 각 항목의 이름을 지정"
   ]
  },
  {
   "cell_type": "markdown",
   "metadata": {
    "colab_type": "text",
    "id": "1Y38Q6N540lb"
   },
   "source": [
    "#### ⓵ 파이 그래프 그리기"
   ]
  },
  {
   "cell_type": "code",
   "execution_count": 0,
   "metadata": {
    "colab": {
     "base_uri": "https://localhost:8080/",
     "height": 589
    },
    "colab_type": "code",
    "executionInfo": {
     "elapsed": 1235,
     "status": "ok",
     "timestamp": 1551859997040,
     "user": {
      "displayName": "최선열",
      "photoUrl": "",
      "userId": "00663027191814710813"
     },
     "user_tz": -540
    },
    "id": "m-EaIwBWW_R6",
    "outputId": "4c349fd0-aa89-4131-83ed-967320504a5a"
   },
   "outputs": [
    {
     "data": {
      "image/png": "[encoded data removed]",
      "text/plain": [
       "<Figure size 720x720 with 1 Axes>"
      ]
     },
     "metadata": {
      "tags": []
     },
     "output_type": "display_data"
    }
   ],
   "source": [
    "plt.figure(figsize=(10,10))\n",
    "\n",
    "plt.pie(error_score,labels=label_names) # 모든 오답점수 중 각 과목별 오답점수의 비중으로 원그래프를 그립니다.\n",
    "                                        # error_scroe : 다섯개 항목으로 나누어진 데이터\n",
    "                                        # label_names : 각 항목의 이름\n",
    "plt.title(\"0번째 학생의 오답 비중\")\n",
    "plt.legend()\n",
    "plt.show()"
   ]
  },
  {
   "cell_type": "markdown",
   "metadata": {
    "colab_type": "text",
    "id": "MMxLG6fS4q1W"
   },
   "source": [
    "#### ⓶ 파이의 순서 정해주기\n",
    "위의 원그래프는<br>\n",
    "error_score 데이터의 순서대로 우측 상단부터 반시계방향으로 표현되어있습니다.<br>\n",
    "전달력을 높이기 위해 error_score의 크기 순으로 순서를 정렬해 봅시다.\n",
    "\n",
    "> 1.`np.argsort(a)`` : a 의 요소 값의 크기를 기준으로 순서대로하여 각 요소의 위치값(Index)을 array로 반환합니다."
   ]
  },
  {
   "cell_type": "code",
   "execution_count": 0,
   "metadata": {
    "colab": {
     "base_uri": "https://localhost:8080/",
     "height": 34
    },
    "colab_type": "code",
    "executionInfo": {
     "elapsed": 891,
     "status": "ok",
     "timestamp": 1551859997042,
     "user": {
      "displayName": "최선열",
      "photoUrl": "",
      "userId": "00663027191814710813"
     },
     "user_tz": -540
    },
    "id": "Av35bbzUW_SK",
    "outputId": "d2231505-72e0-4661-d404-da800286bef6"
   },
   "outputs": [
    {
     "data": {
      "text/plain": [
       "array([1, 4, 0, 2, 3])"
      ]
     },
     "execution_count": 72,
     "metadata": {
      "tags": []
     },
     "output_type": "execute_result"
    }
   ],
   "source": [
    "asc_idx = np.argsort(error_score) # error_score의 값 중 가장 작은 값부터 가장 큰 값까지(오름차순)의 위치값(Index)을 순서대로 저장합니다.\n",
    "asc_idx"
   ]
  },
  {
   "cell_type": "code",
   "execution_count": 0,
   "metadata": {
    "colab": {},
    "colab_type": "code",
    "id": "6Wou1nCbW_TA"
   },
   "outputs": [],
   "source": [
    "# 위의 인덱스 기준으로 오답점수와 항목이름을 재정렬을 합니다.\n",
    "sorted_score = error_score[asc_idx]\n",
    "sorted_label = label_names[asc_idx]"
   ]
  },
  {
   "cell_type": "code",
   "execution_count": 0,
   "metadata": {
    "colab": {
     "base_uri": "https://localhost:8080/",
     "height": 589
    },
    "colab_type": "code",
    "executionInfo": {
     "elapsed": 965,
     "status": "ok",
     "timestamp": 1551859997733,
     "user": {
      "displayName": "최선열",
      "photoUrl": "",
      "userId": "00663027191814710813"
     },
     "user_tz": -540
    },
    "id": "kLjtezAxW_TF",
    "outputId": "c024d380-4e80-4cfe-d638-628efb0f4556"
   },
   "outputs": [
    {
     "data": {
      "image/png": "[encoded data removed]",
      "text/plain": [
       "<Figure size 720x720 with 1 Axes>"
      ]
     },
     "metadata": {
      "tags": []
     },
     "output_type": "display_data"
    }
   ],
   "source": [
    "plt.figure(figsize=(10,10))\n",
    "\n",
    "plt.pie(sorted_score, labels=sorted_label)\n",
    "\n",
    "plt.title(\"0번째 학생의 오답 비중\")\n",
    "plt.legend()\n",
    "plt.show()"
   ]
  },
  {
   "cell_type": "markdown",
   "metadata": {
    "colab_type": "text",
    "id": "8xW9EdVfW_TN"
   },
   "source": [
    "## ⌗ 예제 데이터 Ⅱ ) 학생들의 국영수사과 성적표\n",
    "\n",
    "전교생의 수학/과학 성적이 아래와 같습니다."
   ]
  },
  {
   "cell_type": "markdown",
   "metadata": {
    "colab_type": "text",
    "id": "EJk3_-QqW_TP"
   },
   "source": [
    "#### 데이터 1) 전교생의 수학 점수\n",
    "\n",
    "```\n",
    "[62, 80, 68, 61, 69, 62, 71, 84, 68, 71, 60, 72, 69, 78, 64, 73, 67,\n",
    "68, 58, 69, 64, 72, 59, 56, 60, 60, 78, 63, 68, 72, 72, 72, 70, 73,\n",
    "68, 55, 77, 73, 81, 71, 68, 63, 76, 76, 66, 70, 72, 67, 74, 66, 77,\n",
    "75, 68, 60, 71, 74, 78, 78, 69, 75, 71, 79, 75, 88, 81, 74, 85, 73,\n",
    "64, 78, 81, 68, 70, 62, 60, 69, 62, 81, 77, 85, 66, 68, 63, 81, 80,\n",
    "71, 78, 61, 70, 68, 69, 57, 64, 64, 65, 74, 69, 60, 75, 69, 66, 62,\n",
    "60, 75, 71, 63, 79, 62, 86, 86, 81, 74, 65, 71, 81, 67, 75, 77, 52,\n",
    "65, 68, 64, 60, 56, 67, 58, 83, 50, 77, 74, 76, 69, 69, 65, 64, 76,\n",
    "64, 74, 77, 66, 62, 46, 54, 69, 59, 55, 64, 71, 60, 95, 66, 76, 77,\n",
    "70, 61, 88, 55, 89, 76, 78, 68, 65, 65, 75, 79, 61, 65, 71, 81, 79,\n",
    "72, 77, 85, 58, 74, 83, 62, 77, 58, 61, 60, 74, 76, 64, 61, 63, 71,\n",
    "81, 57, 74, 75, 62, 59, 58, 53, 69, 83, 58, 58, 58, 65, 62, 73, 64,\n",
    "53, 75, 63, 64, 69, 75, 56, 61, 63, 72, 59, 54, 71, 66, 83, 72, 64]\n",
    "\n",
    "```\n"
   ]
  },
  {
   "cell_type": "code",
   "execution_count": 0,
   "metadata": {
    "colab": {},
    "colab_type": "code",
    "id": "2E-u4DTaB0wh"
   },
   "outputs": [],
   "source": [
    "math_scores = np.array([\n",
    "       62, 80, 68, 61, 69, 62, 71, 84, 68, 71, 60, 72, 69, 78, 64, 73, 67,\n",
    "       68, 58, 69, 64, 72, 59, 56, 60, 60, 78, 63, 68, 72, 72, 72, 70, 73,\n",
    "       68, 55, 77, 73, 81, 71, 68, 63, 76, 76, 66, 70, 72, 67, 74, 66, 77,\n",
    "       75, 68, 60, 71, 74, 78, 78, 69, 75, 71, 79, 75, 88, 81, 74, 85, 73,\n",
    "       64, 78, 81, 68, 70, 62, 60, 69, 62, 81, 77, 85, 66, 68, 63, 81, 80,\n",
    "       71, 78, 61, 70, 68, 69, 57, 64, 64, 65, 74, 69, 60, 75, 69, 66, 62,\n",
    "       60, 75, 71, 63, 79, 62, 86, 86, 81, 74, 65, 71, 81, 67, 75, 77, 52,\n",
    "       65, 68, 64, 60, 56, 67, 58, 83, 50, 77, 74, 76, 69, 69, 65, 64, 76,\n",
    "       64, 74, 77, 66, 62, 46, 54, 69, 59, 55, 64, 71, 60, 95, 66, 76, 77,\n",
    "       70, 61, 88, 55, 89, 76, 78, 68, 65, 65, 75, 79, 61, 65, 71, 81, 79,\n",
    "       72, 77, 85, 58, 74, 83, 62, 77, 58, 61, 60, 74, 76, 64, 61, 63, 71,\n",
    "       81, 57, 74, 75, 62, 59, 58, 53, 69, 83, 58, 58, 58, 65, 62, 73, 64,\n",
    "       53, 75, 63, 64, 69, 75, 56, 61, 63, 72, 59, 54, 71, 66, 83, 72, 64\n",
    "])\n"
   ]
  },
  {
   "cell_type": "markdown",
   "metadata": {
    "colab_type": "text",
    "id": "SDgfbnXfBu3W"
   },
   "source": [
    "\n",
    "\n",
    "#### 데이터 2) 전교생의 과학 점수\n",
    "\n",
    "````\n",
    "[71, 77, 64, 55, 60, 64, 70, 87, 69, 76, 60, 80, 60, 72, 66, 69, 60,\n",
    "64, 68, 60, 68, 66, 64, 60, 61, 66, 80, 73, 60, 69, 76, 67, 70, 78,\n",
    "71, 56, 72, 82, 80, 75, 71, 64, 80, 74, 62, 72, 74, 57, 81, 68, 70,\n",
    "85, 63, 69, 70, 82, 83, 83, 67, 72, 69, 88, 70, 90, 83, 76, 79, 72,\n",
    "65, 86, 91, 71, 73, 54, 65, 71, 54, 85, 81, 92, 67, 76, 69, 75, 83,\n",
    "80, 80, 51, 69, 60, 68, 53, 57, 57, 65, 84, 63, 62, 84, 68, 74, 60,\n",
    "53, 67, 81, 69, 72, 56, 77, 91, 74, 78, 73, 69, 84, 67, 79, 74, 43,\n",
    "59, 77, 66, 69, 59, 64, 63, 79, 44, 70, 69, 71, 63, 66, 62, 72, 68,\n",
    "74, 82, 74, 67, 57, 41, 44, 64, 66, 55, 57, 70, 61, 88, 58, 76, 76,\n",
    "64, 54, 90, 65, 80, 70, 79, 75, 70, 58, 83, 75, 60, 66, 72, 75, 88,\n",
    "66, 82, 82, 59, 69, 82, 54, 73, 62, 56, 52, 77, 72, 62, 70, 53, 77,\n",
    "87, 51, 65, 85, 55, 55, 55, 50, 74, 82, 68, 54, 48, 68, 72, 77, 60,\n",
    "52, 66, 54, 54, 68, 73, 54, 53, 63, 74, 49, 50, 81, 59, 73, 78, 55]\n",
    "\n",
    "````"
   ]
  },
  {
   "cell_type": "code",
   "execution_count": 0,
   "metadata": {
    "colab": {},
    "colab_type": "code",
    "id": "a-JL3qzQW_TQ"
   },
   "outputs": [],
   "source": [
    "science_scores =  np.array([\n",
    "       71, 77, 64, 55, 60, 64, 70, 87, 69, 76, 60, 80, 60, 72, 66, 69, 60,\n",
    "       64, 68, 60, 68, 66, 64, 60, 61, 66, 80, 73, 60, 69, 76, 67, 70, 78,\n",
    "       71, 56, 72, 82, 80, 75, 71, 64, 80, 74, 62, 72, 74, 57, 81, 68, 70,\n",
    "       85, 63, 69, 70, 82, 83, 83, 67, 72, 69, 88, 70, 90, 83, 76, 79, 72,\n",
    "       65, 86, 91, 71, 73, 54, 65, 71, 54, 85, 81, 92, 67, 76, 69, 75, 83,\n",
    "       80, 80, 51, 69, 60, 68, 53, 57, 57, 65, 84, 63, 62, 84, 68, 74, 60,\n",
    "       53, 67, 81, 69, 72, 56, 77, 91, 74, 78, 73, 69, 84, 67, 79, 74, 43,\n",
    "       59, 77, 66, 69, 59, 64, 63, 79, 44, 70, 69, 71, 63, 66, 62, 72, 68,\n",
    "       74, 82, 74, 67, 57, 41, 44, 64, 66, 55, 57, 70, 61, 88, 58, 76, 76,\n",
    "       64, 54, 90, 65, 80, 70, 79, 75, 70, 58, 83, 75, 60, 66, 72, 75, 88,\n",
    "       66, 82, 82, 59, 69, 82, 54, 73, 62, 56, 52, 77, 72, 62, 70, 53, 77,\n",
    "       87, 51, 65, 85, 55, 55, 55, 50, 74, 82, 68, 54, 48, 68, 72, 77, 60,\n",
    "       52, 66, 54, 54, 68, 73, 54, 53, 63, 74, 49, 50, 81, 59, 73, 78, 55\n",
    "])"
   ]
  },
  {
   "cell_type": "markdown",
   "metadata": {
    "colab_type": "text",
    "id": "IaZtN6dp2UBe"
   },
   "source": [
    "<br>\n",
    "\n",
    "## 3. 히스토그램(Histogram)\n",
    "\n",
    "---\n",
    "\n",
    "+ 히스토그램은 일정한 구간에서의 데이터의 빈도를 나타내는데 유용한 시각화 방법입니다.\n",
    "+ 주로 연속적인 값을 가지는 데이터의 분포를 파악할 때 사용됩니다.\n",
    "+ 막대그래프와 달리 막대의 폭이 \"데이터 값의 구간\"을, 막대의 길이가 \"해당 구간 내 데이터의 빈도\"를 의미합니다.\n",
    "\n",
    "> 1. `plt.hist(x, bins)` : 연속형 자료의 나열인 x를 bins 개의 구간으로 나누어 각 구간별 데이터들의 빈도를 그립니다."
   ]
  },
  {
   "cell_type": "markdown",
   "metadata": {
    "colab_type": "text",
    "id": "dn-kj1E8W_TZ"
   },
   "source": [
    "### 예제 3) 성적 분포도(histogram) 그리기\n",
    "\n",
    "┌─<i> ✍︎ Example </i>────────────────────────────────────────┐ <br>\n",
    "\n",
    "&nbsp;&nbsp;&nbsp;&nbsp;전교생의 수학, 과학 점수의 분포를 알아볼 수 있는 시각화를 해봅시다.<br>\n",
    "\n",
    "└───────────────────────────────────────────────┘<br>\n"
   ]
  },
  {
   "cell_type": "code",
   "execution_count": 0,
   "metadata": {
    "colab": {
     "base_uri": "https://localhost:8080/",
     "height": 356
    },
    "colab_type": "code",
    "executionInfo": {
     "elapsed": 938,
     "status": "ok",
     "timestamp": 1551860133717,
     "user": {
      "displayName": "최선열",
      "photoUrl": "",
      "userId": "00663027191814710813"
     },
     "user_tz": -540
    },
    "id": "rGvt2wPQW_Tc",
    "outputId": "1a1e7616-1dc7-4591-9b14-7c50b479d076"
   },
   "outputs": [
    {
     "data": {
      "image/png": "[encoded data removed]",
      "text/plain": [
       "<Figure size 720x360 with 2 Axes>"
      ]
     },
     "metadata": {
      "tags": []
     },
     "output_type": "display_data"
    }
   ],
   "source": [
    "fig = plt.figure(figsize=(10,5))\n",
    "\n",
    "ax = fig.add_subplot(1,2,1)\n",
    "ax.hist(math_scores, bins=20)    # 수학 점수를 최소값부터 최대값까지 20구간으로 나누어 히스토그램을 그림\n",
    "ax.set_title(\"수학 성적\")\n",
    "ax.set_xlim(40,100)\n",
    "\n",
    "ax = fig.add_subplot(1,2,2)\n",
    "ax.hist(science_scores, bins=20) # 과학 점수를 최소값부터 최대값까지 20구간으로 나누어 히스토그램을 그림\n",
    "ax.set_title(\"과학 성적\")\n",
    "ax.set_xlim(40,100)\n",
    "\n",
    "plt.suptitle(\"전교생 수학 성적 분포\")\n",
    "plt.show()"
   ]
  },
  {
   "cell_type": "markdown",
   "metadata": {
    "colab_type": "text",
    "id": "O7Pk_b0M2fge"
   },
   "source": [
    "## 4. 산포도(scatter)\n",
    "\n",
    "---\n",
    "\n",
    "\n",
    "+ 산포도는 각 계열을 축으로 하여 각각의 데이터를 해당위치 점으로 표현합니다.\n",
    "+ 주로 두 가지 연속형 자료의 상관관계를 파악할 때 사용됩니다.\n",
    "+ 빈도또는 비율 등 통계적 수치가 아닌 데이터의 위치를 모두 표현할 때 유용합니다,\n",
    "\n",
    "> 1. `plt.scatter(x,y)` : 연속형 자료인 x 와 연속형 자료인 y 를 각각의 축으로 산포도를 그립니다."
   ]
  },
  {
   "cell_type": "markdown",
   "metadata": {
    "colab_type": "text",
    "id": "gR7N6m6aW_Tn"
   },
   "source": [
    "### 예제 4) 전교생의 수학 점수와 과학 점수 관련도"
   ]
  },
  {
   "cell_type": "markdown",
   "metadata": {
    "colab_type": "text",
    "id": "tWhT-hmFW_Tp"
   },
   "source": [
    "┌─<i> ✍︎ Example </i>────────────────────────────────────────┐ <br>\n",
    "\n",
    "&nbsp;&nbsp;&nbsp;&nbsp;전교생의 수학, 과학 점수의 서로 어떠한 연관성이 있는지 산포도를 통해 알아봅시다.<br>\n",
    "\n",
    "└───────────────────────────────────────────────┘<br>"
   ]
  },
  {
   "cell_type": "code",
   "execution_count": 0,
   "metadata": {
    "colab": {},
    "colab_type": "code",
    "id": "rCT9gqxZW_Tq",
    "outputId": "17dc7720-dfc6-440a-9bab-d278abc85298"
   },
   "outputs": [
    {
     "data": {
      "image/png": "[encoded data removed]",
      "text/plain": [
       "<Figure size 432x288 with 1 Axes>"
      ]
     },
     "metadata": {
      "tags": []
     },
     "output_type": "display_data"
    }
   ],
   "source": [
    "plt.scatter(x=math_scores,    # x : 수학점수를 x 축으로\n",
    "            y=science_scores) # y : 과학점수를 y 축으로 산포도를 그림\n",
    "                             \n",
    "\n",
    "plt.title(\"수학/과학 산포도\")\n",
    "plt.xlabel(\"수학점수\")\n",
    "plt.ylabel(\"과학점수\")\n",
    "plt.xlim(40,100)\n",
    "plt.ylim(40,100)\n",
    "plt.show()"
   ]
  },
  {
   "cell_type": "markdown",
   "metadata": {
    "colab_type": "text",
    "id": "PoYm_vOV2whO"
   },
   "source": [
    "## 5. 누적 영역 그래프(Stack area plot)\n",
    "\n",
    "---\n",
    "\n",
    "\n",
    "+ 누적영역그래프는 각 시점별로 각 계열들의 분포를 색상으로 나타낸 그래프입니다.\n",
    "+ 주로 시점이 변화함에 따라 분포가 변하는 데이터를 계열별로 비교할 때 사용됩니다.\n",
    "\n",
    "> 1. `plt.stack(x,data=)` : x 를 시점으로하여  data 가 가진 값들을 축적하여 누적영역그래프를 그립니다."
   ]
  },
  {
   "cell_type": "markdown",
   "metadata": {
    "colab_type": "text",
    "id": "8q03NsOKW_Tv"
   },
   "source": [
    "### 예제 5) 학생의 국영수 변화 그래프\n",
    "\n",
    "학생의 성적이 아래와 같이 주어졌을 때, 국영수 전체의 변화 양상을 도식화해보시오.\n",
    "\n",
    "|과목| 1학기 중간 | 1학기 기말 | 2학기 중간 | 2학기 기말 | 3학기 중간 | 3학기 기말 | \n",
    "|---|---|---|---|---|---|---|---|\n",
    "|국어| 83 | 85 | 84 | 81 | 80 | 85 |\n",
    "|영어| 86 | 90 | 91 | 89 | 92 | 90 |\n",
    "|수학| 73 | 78 | 82 | 87 | 92 | 96 |"
   ]
  },
  {
   "cell_type": "code",
   "execution_count": 0,
   "metadata": {
    "colab": {},
    "colab_type": "code",
    "id": "nYz7M8EaW_Tw",
    "outputId": "a819ff46-04b7-4ae6-8078-4acf82b40ef0"
   },
   "outputs": [
    {
     "data": {
      "text/plain": [
       "array([[83, 85, 84, 81, 80, 85],\n",
       "       [86, 90, 91, 89, 92, 90],\n",
       "       [73, 78, 82, 87, 92, 96]])"
      ]
     },
     "execution_count": 16,
     "metadata": {
      "tags": []
     },
     "output_type": "execute_result"
    }
   ],
   "source": [
    "# 성적 정보\n",
    "lang_score = [83,85,84,81,80,85]\n",
    "eng_score =  [86,90,91,89,92,90]\n",
    "math_score = [73,78,82,87,92,96]\n",
    "\n",
    "scores = np.stack([lang_score, eng_score, math_score])\n",
    "scores"
   ]
  },
  {
   "cell_type": "code",
   "execution_count": 0,
   "metadata": {
    "colab": {},
    "colab_type": "code",
    "id": "-tUWPGNuW_T6",
    "outputId": "73f367cd-f187-447f-fb05-e3a51bfd663f"
   },
   "outputs": [
    {
     "data": {
      "image/png": "[encoded data removed]",
      "text/plain": [
       "<Figure size 720x360 with 1 Axes>"
      ]
     },
     "metadata": {
      "tags": []
     },
     "output_type": "display_data"
    }
   ],
   "source": [
    "plt.figure(figsize=(10, 5))\n",
    "\n",
    "plt.stackplot([\"1학기 중간\",\"1학기 기말\",\"2학기 중간\",\n",
    "                 \"2학기 기말\",\"3학기 중간\",\"3학기 기말\"], # 각 시험을 x의 label 로 나타냅니다.\n",
    "              scores)                              # 각각의 점수를 시점별로 시각화합니다.\n",
    "\n",
    "plt.title(\"국영수 총점 변화 그래프\")\n",
    "plt.legend([\"국어\",\"영어\",\"수학\"])\n",
    "plt.show()"
   ]
  },
  {
   "cell_type": "markdown",
   "metadata": {
    "colab_type": "text",
    "id": "vSZPPEazW_UA"
   },
   "source": [
    "#  \n",
    "\n",
    "---\n",
    "\n",
    "    Copyright(c) 2019 by Public AI. All rights reserved.\n",
    "    Writen by PAI, SangJae Kang ( rocketgrowthsj@publicai.co.kr )  last updated on 2019/03/07\n",
    "\n",
    "---"
   ]
  }
 ],
 "metadata": {
  "colab": {
   "collapsed_sections": [
    "Basy-rgR-3Dt",
    "zEvz3P5q-W0i",
    "TcV5ymE2knWa",
    "1BpZeLBlW_Ra",
    "-3ZrqtkoW_Ro"
   ],
   "name": "7_Matplotlib을 통한 다양한 시각화.ipynb",
   "provenance": [],
   "toc_visible": true,
   "version": "0.3.2"
  },
  "kernelspec": {
   "display_name": "Python 3",
   "language": "python",
   "name": "python3"
  },
  "language_info": {
   "codemirror_mode": {
    "name": "ipython",
    "version": 3
   },
   "file_extension": ".py",
   "mimetype": "text/x-python",
   "name": "python",
   "nbconvert_exporter": "python",
   "pygments_lexer": "ipython3",
   "version": "3.6.5"
  }
 },
 "nbformat": 4,
 "nbformat_minor": 1
}
