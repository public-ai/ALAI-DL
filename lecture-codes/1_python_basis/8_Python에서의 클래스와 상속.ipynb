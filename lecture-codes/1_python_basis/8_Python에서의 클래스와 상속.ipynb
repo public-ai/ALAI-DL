{
 "cells": [
  {
   "cell_type": "markdown",
   "metadata": {},
   "source": [
    "┏━━<i><b>Alai-DeepLearning</b></i>━━━━━━━━━━━━━━━━━━━━━━━━━━━━━━━━━━━━━━┓\n",
    "###  &nbsp;&nbsp; **✎ &nbsp;Week1. Python의 기초 문법**\n",
    "# Section 8. Python에서의 클래스와 상속\n",
    "\n",
    "### _Objective_\n",
    "1. 객체 프로그래밍의 핵심인 클래스에 대해 배워봅니다.  <br>\n",
    "2. 클래스의 중복을 제거해 주는 상속에 대해 배워봅니다. <br>\n",
    "\n",
    "  \n",
    "┗━━━━━━━━━━━━━━━━━━━━━━━━━━━━━━━━━━━━━━━━━━━━━━━━━━━━┛"
   ]
  },
  {
   "cell_type": "markdown",
   "metadata": {},
   "source": [
    "# \\[ 1. Python에서의 클래스 \\]\n",
    "\n",
    "---\n",
    "\n",
    "---\n",
    "\n",
    "> *클래스는 데이터와 데이터에 필요한 기능을 함께 묶을 수 있도록 해줍니다.* <br>\n",
    "> *클래스에는 데이터를 의미하는 Attribute와 기능을 의미하는 Method로 나눌 수 있습니다.* <br>"
   ]
  },
  {
   "cell_type": "markdown",
   "metadata": {},
   "source": [
    "## 1. 클래스 정의하기\n",
    "<hr>\n",
    "+ 파이썬에서는 클래스를 정의하기 위해서는 `class`라는 예약어를 통해 정의해주어야 합니다.\n",
    " "
   ]
  },
  {
   "cell_type": "markdown",
   "metadata": {},
   "source": [
    "### (1) 인스턴스 만들기"
   ]
  },
  {
   "cell_type": "code",
   "execution_count": null,
   "metadata": {},
   "outputs": [],
   "source": [
    "dongWook = Person(\"이동욱\",37,\"저승사자\")"
   ]
  },
  {
   "cell_type": "markdown",
   "metadata": {},
   "source": [
    "### (2) 인스턴스 함수 호출하기"
   ]
  },
  {
   "cell_type": "code",
   "execution_count": null,
   "metadata": {},
   "outputs": [],
   "source": [
    "dongWook.say_hello()"
   ]
  },
  {
   "cell_type": "markdown",
   "metadata": {},
   "source": [
    "### (3) 인스턴스 변수 호출하기"
   ]
  },
  {
   "cell_type": "code",
   "execution_count": null,
   "metadata": {},
   "outputs": [],
   "source": [
    "dongWook.age"
   ]
  },
  {
   "cell_type": "markdown",
   "metadata": {},
   "source": [
    "### (4) 클래스 변수 호출하기"
   ]
  },
  {
   "cell_type": "code",
   "execution_count": null,
   "metadata": {},
   "outputs": [],
   "source": [
    "dongWook.drama"
   ]
  },
  {
   "cell_type": "code",
   "execution_count": null,
   "metadata": {},
   "outputs": [],
   "source": [
    "# 인스턴스 변수와 달리, \n",
    "# 인스턴스를 생성하지 않아도 호출할 수 있습니다.\n",
    "Person.drama"
   ]
  },
  {
   "cell_type": "markdown",
   "metadata": {},
   "source": [
    "## 2. 클래스 변수와 인스턴스 변수 구분하기\n",
    "<hr>\n",
    "+ 파이썬 클래스의 변수에는 클래스와 인스턴스 변수로 구분할 수 있습니다.\n",
    " "
   ]
  },
  {
   "cell_type": "markdown",
   "metadata": {},
   "source": [
    "### (1) 클래스 변수인 경우"
   ]
  },
  {
   "cell_type": "code",
   "execution_count": null,
   "metadata": {},
   "outputs": [],
   "source": [
    "class Dog:\n",
    "    tricks = [] # Class Variable\n",
    "    \n",
    "    def add_trick(self, trick):\n",
    "        self.tricks.append(trick)"
   ]
  },
  {
   "cell_type": "code",
   "execution_count": null,
   "metadata": {},
   "outputs": [],
   "source": [
    "dog1 = Dog()\n",
    "dog1.add_trick('roll over')\n",
    "\n",
    "dog2 = Dog()\n",
    "dog2.add_trick('play dead')\n",
    "\n",
    "print(dog1.tricks)\n",
    "print(dog2.tricks)"
   ]
  },
  {
   "cell_type": "markdown",
   "metadata": {},
   "source": [
    "### (2) 인스턴스 변수인 경우"
   ]
  },
  {
   "cell_type": "code",
   "execution_count": null,
   "metadata": {},
   "outputs": [],
   "source": [
    "class Dog:\n",
    "    def __init__(self):\n",
    "        self.tricks = [] # Instance Variable\n",
    "    \n",
    "    def add_trick(self, trick):\n",
    "        self.tricks.append(trick)"
   ]
  },
  {
   "cell_type": "code",
   "execution_count": null,
   "metadata": {},
   "outputs": [],
   "source": [
    "dog1 = Dog()\n",
    "dog1.add_trick('roll over')\n",
    "\n",
    "dog2 = Dog()\n",
    "dog2.add_trick('play dead')\n",
    "\n",
    "print(dog1.tricks)\n",
    "print(dog2.tricks)"
   ]
  },
  {
   "cell_type": "markdown",
   "metadata": {},
   "source": [
    "## 3. 매직메소드 오버라이딩\n",
    "<hr>\n",
    "+ **Overriding**이란, 상위 클래스가 가지고 있는 메소드를 하위 클래스가 재정의하는 행위를 얘기합니다. \n",
    "\n",
    "+ 파이썬의 모든 클래스는 `object`를 상속받고 있고, `object`에 구현된 것들은 overriding하여 구현하는 것을 권장하고 있습니다. 이러한 행동을 매직메소드 오버라이딩이라 부릅니다.\n",
    " "
   ]
  },
  {
   "cell_type": "markdown",
   "metadata": {},
   "source": [
    "### 클래스 매직 메소드\n",
    "\n",
    "| 매직매소드 | 설명 |\n",
    "| ----   | --- |\n",
    "| `__init__(self[,...])` | 생성자 함수 |\n",
    "| `__repr__(self)` | 시스템이 해당객체를 인식할 수 있는 official 문자열 |\n",
    "| `__getitem__(self, key)` | `self[key]`를 구현 |\n",
    "| `__setitem__(self, key, value)` | self[key]=value |\n",
    "| `__add__(self, other)` | 더하기 연산자 오버라이딩 |\n",
    "| `__sub__(self, other)` | 빼기 연산자 오버라이딩 |\n",
    "\n",
    "이외에도 Python에서는 매우 많은 매직메소드가 존재합니다. "
   ]
  },
  {
   "cell_type": "code",
   "execution_count": null,
   "metadata": {},
   "outputs": [],
   "source": [
    "class FruitMarket(object):\n",
    "    def __init__(self, apples=0, bananas=0, pears=0):\n",
    "        self.apples = apples\n",
    "        self.bananas = bananas\n",
    "        self.pears = pears\n",
    "        \n",
    "    def __repr__(self):\n",
    "        return \"<(사과,바나나,배) : ({},{},{})>\".format(self.apples,\n",
    "                                                  self.bananas,\n",
    "                                                  self.pears)\n",
    "    \n",
    "    def __getitem__(self,key):\n",
    "        if key == \"사과\":\n",
    "            return self.apples\n",
    "        elif key == \"바나나\":\n",
    "            return self.bananas\n",
    "        elif key == \"배\":\n",
    "            return self.pears\n",
    "        else:\n",
    "            raise KeyError(\"그런 과일은 팔지 않습니다.\")\n",
    "    \n",
    "    def __add__(self, other):\n",
    "        apples = self.apples + other.apples\n",
    "        bananas = self.bananas + other.bananas\n",
    "        pears = self.pears + other.pears\n",
    "        return FruitMarket(apples, bananas, pears)\n",
    "    \n",
    "    def __sub__(self, other):\n",
    "        apples = self.apples - other.apples\n",
    "        bananas = self.bananas - other.bananas\n",
    "        pears = self.pears - other.pears\n",
    "        return FruitMarket(apples, bananas, pears)"
   ]
  },
  {
   "cell_type": "markdown",
   "metadata": {},
   "source": [
    "### (1) `__repr__`\n",
    "\n",
    "repr은 시스템이 해당 객체를 인식할 수 있는 Official 문자열로, 아래와 같이 디버깅을 위해 사용합니다."
   ]
  },
  {
   "cell_type": "code",
   "execution_count": null,
   "metadata": {},
   "outputs": [],
   "source": [
    "market1 = FruitMarket(apples=3,bananas=2,pears=5)\n",
    "market1"
   ]
  },
  {
   "cell_type": "code",
   "execution_count": null,
   "metadata": {},
   "outputs": [],
   "source": [
    "repr(market1)"
   ]
  },
  {
   "cell_type": "code",
   "execution_count": null,
   "metadata": {},
   "outputs": [],
   "source": [
    "market2 = FruitMarket(apples=3,bananas=1,pears=3)\n",
    "market2"
   ]
  },
  {
   "cell_type": "markdown",
   "metadata": {},
   "source": [
    "### (2) `__getitem__`\n",
    "\n",
    "`[<index>]`와 같은 방식으로 접근할 때 이용합니다.\n"
   ]
  },
  {
   "cell_type": "code",
   "execution_count": null,
   "metadata": {},
   "outputs": [],
   "source": [
    "market1 = FruitMarket(apples=3,bananas=2,pears=5)\n",
    "market1['사과']"
   ]
  },
  {
   "cell_type": "code",
   "execution_count": null,
   "metadata": {},
   "outputs": [],
   "source": [
    "# 위는 아래와 동일합니다.\n",
    "market1.__getitem__('사과')"
   ]
  },
  {
   "cell_type": "code",
   "execution_count": null,
   "metadata": {},
   "outputs": [],
   "source": [
    "market1['배']"
   ]
  },
  {
   "cell_type": "code",
   "execution_count": null,
   "metadata": {},
   "outputs": [],
   "source": [
    "market1['토마토']"
   ]
  },
  {
   "cell_type": "markdown",
   "metadata": {},
   "source": [
    "### (2) `__add__`\n"
   ]
  },
  {
   "cell_type": "code",
   "execution_count": null,
   "metadata": {},
   "outputs": [],
   "source": [
    "market1+market2 # 두 마켓의 과일 갯수 합"
   ]
  },
  {
   "cell_type": "code",
   "execution_count": null,
   "metadata": {},
   "outputs": [],
   "source": [
    "# 위는 아래와 동일합니다.\n",
    "market1.__add__(market2)"
   ]
  },
  {
   "cell_type": "markdown",
   "metadata": {},
   "source": [
    "### (3) `__sub__`"
   ]
  },
  {
   "cell_type": "code",
   "execution_count": null,
   "metadata": {},
   "outputs": [],
   "source": [
    "market1-market2 # 두 마켓의 과일 갯수 차이"
   ]
  },
  {
   "cell_type": "code",
   "execution_count": null,
   "metadata": {},
   "outputs": [],
   "source": [
    "# 위는 아래와 동일합니다.\n",
    "market1.__sub__(market2)"
   ]
  },
  {
   "cell_type": "markdown",
   "metadata": {},
   "source": [
    "# \\[ 2. Python에서의 상속 \\]\n",
    "\n",
    "---\n",
    "\n",
    "---\n",
    "\n",
    "> *클래스 간 코드의 중복을 방지하기 위해, 우리는 공통된 부분들을 모아, 부모 자식 간 코드를 공유할 수 있습니다. 이렇게 공유하는 방식을 상속(Inheritance)라고 부릅니다. *<br>"
   ]
  },
  {
   "cell_type": "markdown",
   "metadata": {},
   "source": [
    "## 1. 부모클래스를 상속하기\n",
    "<hr>\n",
    "+ Python에서는 클래스 상속(inheritance)를 지원합니다. \n",
    "+ Class 내 코드의 중복을 최소화하기 위해 만들어졌습니다.\n",
    "+ 파이썬 클래스는 최상위 클래스인 `Object`를 상속합니다."
   ]
  },
  {
   "cell_type": "markdown",
   "metadata": {},
   "source": [
    "### 예제) 직업 별 클래스 만들기"
   ]
  },
  {
   "cell_type": "code",
   "execution_count": null,
   "metadata": {},
   "outputs": [],
   "source": [
    "class Doctor:\n",
    "    def __init__(self, name):\n",
    "        self.name = name\n",
    "\n",
    "    def run(self): \n",
    "        print('뜁니다.')\n",
    "    \n",
    "    def eat(self, food):\n",
    "        print('{}을 먹습니다.'.format(food))\n",
    "    \n",
    "    def sleep(self): \n",
    "        print('잠을 잡니다.')\n",
    "    \n",
    "    def study(self): \n",
    "        print('열심히 공부합니다.')\n",
    "    \n",
    "    def research(self): \n",
    "        print('열심히 연구합니다.')\n",
    "        \n",
    "class Programmer:\n",
    "    def __init__(self, name):\n",
    "        self.name = name\n",
    "    \n",
    "    def run(self): \n",
    "        print('뜁니다.')\n",
    "    \n",
    "    def eat(self, food):\n",
    "        print('{}을 먹습니다.'.format(food))\n",
    "    \n",
    "    def sleep(self): \n",
    "        print('잠을 잡니다.')\n",
    "    \n",
    "    def study(self): \n",
    "        print('열심히 공부합니다.')\n",
    "    \n",
    "    def coding(self): \n",
    "        print('열심히 코딩합니다.')\n",
    "        \n",
    "class Designer:\n",
    "    def __init__(self, name):\n",
    "        self.name = name\n",
    "    \n",
    "    def run(self):\n",
    "        print('뜁니다.')\n",
    "    \n",
    "    def eat(self, food):\n",
    "        print('{}을 먹습니다.'.format(food))\n",
    "    \n",
    "    def sleep(self):\n",
    "        print('잠을 잡니다.')\n",
    "    \n",
    "    def study(self):\n",
    "        print('열심히 공부합니다.')\n",
    "    \n",
    "    def design(self):\n",
    "        print('열심히 디자인합니다.')"
   ]
  },
  {
   "cell_type": "markdown",
   "metadata": {},
   "source": [
    "* 위의 경우, 코드의 중복이 많이 발생합니다. 이를 방지하기 위해, 우리는 상속(inheritance)로 해결할 수 있습니다."
   ]
  },
  {
   "cell_type": "code",
   "execution_count": null,
   "metadata": {},
   "outputs": [],
   "source": [
    "class Person(object):\n",
    "    def __init__(self, name):\n",
    "        self.name = name\n",
    "\n",
    "    def run(self):\n",
    "        print('뜁니다.')\n",
    "    \n",
    "    def eat(self, food):\n",
    "        print('{}을 먹습니다.'.format(food))\n",
    "    \n",
    "    def sleep(self):\n",
    "        print('잠을 잡니다.')\n",
    "    \n",
    "    def study(self, target):\n",
    "        print('{}을 열심히 공부합니다.'.format(target))"
   ]
  },
  {
   "cell_type": "code",
   "execution_count": null,
   "metadata": {},
   "outputs": [],
   "source": [
    "# Person을 상속\n",
    "class Doctor(Person):\n",
    "    def research(self):\n",
    "        print(\"열심히 연구합니다.\")\n",
    "    \n",
    "\n",
    "class Programmer(Person):\n",
    "    def coding(self):\n",
    "        print(\"열심히 개발합니다.\")\n",
    "\n",
    "\n",
    "class Designer(Person):\n",
    "    def design(self):\n",
    "        print(\"열심히 디자인을 합니다.\")"
   ]
  },
  {
   "cell_type": "markdown",
   "metadata": {},
   "source": [
    "## 2. 부모클래스의 메소드를 호출하기\n",
    "<hr>\n",
    "+ Python에서는 클래스 상속(inheritance)를 지원합니다. \n",
    "+ Class 내 코드의 중복을 최소화하기 위해 만들어졌습니다.\n",
    "+ 파이썬 클래스는 최상위 클래스인 `Object`를 상속합니다."
   ]
  },
  {
   "cell_type": "code",
   "execution_count": null,
   "metadata": {},
   "outputs": [],
   "source": [
    "class Animal:\n",
    "    def __init__(self, name):\n",
    "        print(\"Animal의 __init__이 호출되었습니다.\")\n",
    "        self.name = name\n",
    "        \n",
    "    def say_hello(self):\n",
    "        print(\"{}님 안녕하세요!\".format(self.name))\n",
    "\n",
    "class Human(Animal):\n",
    "    def __init__( self, name, country):\n",
    "        print(\"Human의 __init__이 호출되었습니다.\")\n",
    "        self.country = country"
   ]
  },
  {
   "cell_type": "code",
   "execution_count": null,
   "metadata": {},
   "outputs": [],
   "source": [
    "person = Human( \"은령\", \"한국\")"
   ]
  },
  {
   "cell_type": "code",
   "execution_count": null,
   "metadata": {},
   "outputs": [],
   "source": [
    "# Animal의 __init__이 호출되지 않았기 때문에,\n",
    "# name이 정의되지 않았음\n",
    "person.say_hello() "
   ]
  },
  {
   "cell_type": "markdown",
   "metadata": {},
   "source": [
    "`super()`를 통해 Animal의 `__init__`을 호출할 수 있습니다."
   ]
  },
  {
   "cell_type": "code",
   "execution_count": null,
   "metadata": {},
   "outputs": [],
   "source": [
    "class Animal:\n",
    "    def __init__(self, name):\n",
    "        print(\"Animal의 __init__이 호출되었습니다.\")\n",
    "        self.name = name\n",
    "        \n",
    "    def say_hello(self):\n",
    "        print(\"{}님 안녕하세요!\".format(self.name))\n",
    "\n",
    "class Human(Animal):\n",
    "    def __init__( self, name, country):\n",
    "        print(\"Human의 __init__이 호출되었습니다.\")\n",
    "        super().__init__(name) # 부모클래스의 __init__ 메소드 호출\n",
    "        self.country = country\n",
    "        "
   ]
  },
  {
   "cell_type": "code",
   "execution_count": null,
   "metadata": {},
   "outputs": [],
   "source": [
    "person = Human( \"은령\", \"한국\")"
   ]
  },
  {
   "cell_type": "code",
   "execution_count": null,
   "metadata": {},
   "outputs": [],
   "source": [
    "person.say_hello()"
   ]
  },
  {
   "cell_type": "markdown",
   "metadata": {},
   "source": [
    "#  \n",
    "\n",
    "---\n",
    "\n",
    "    Copyright(c) 2019 by Public AI. All rights reserved.\n",
    "    Writen by PAI, SangJae Kang ( rocketgrowthsj@publicai.co.kr )  last updated on 2019/02/22\n",
    "---"
   ]
  }
 ],
 "metadata": {
  "kernelspec": {
   "display_name": "Python 3",
   "language": "python",
   "name": "python3"
  },
  "language_info": {
   "codemirror_mode": {
    "name": "ipython",
    "version": 3
   },
   "file_extension": ".py",
   "mimetype": "text/x-python",
   "name": "python",
   "nbconvert_exporter": "python",
   "pygments_lexer": "ipython3",
   "version": "3.6.5"
  }
 },
 "nbformat": 4,
 "nbformat_minor": 2
}
