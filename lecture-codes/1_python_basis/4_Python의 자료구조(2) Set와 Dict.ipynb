{
 "cells": [
  {
   "cell_type": "markdown",
   "metadata": {
    "colab_type": "text",
    "id": "u-pF5spyrjsr"
   },
   "source": [
    " ┏━━<i><b>Alai-DeepLearning</b></i>━━━━━━━━━━━━━━━━━━━━━━━━━━━━━━━━━━━━━━┓\n",
    "###  &nbsp;&nbsp; **✎&nbsp;&nbsp;Week1. Python의 기초 문법**\n",
    "# Section 4. Python의 자료구조 2 (Set과 Dictionary)\n",
    "\n",
    "### _Objective_\n",
    "1. 파이썬에서는 기본 변수이외에도 List, Tuple, Set, Dictionary 와 같은 다양한 자료구조를 지원합니다. <br>\n",
    "2. 이번 시간에는 그 중 순서가 따로 정해지지 않은 자료형인 Set와 Dict에 대해 다루어 보도록 하겠습니다.<br>\n",
    "  \n",
    "┗━━━━━━━━━━━━━━━━━━━━━━━━━━━━━━━━━━━━━━━━━━━━━━━━━━━━┛\n",
    "\n"
   ]
  },
  {
   "cell_type": "markdown",
   "metadata": {
    "colab_type": "text",
    "id": "-C_Pxk-1rjss"
   },
   "source": [
    "# \\[1. Set \\]\n",
    "\n",
    "---\n",
    "\n",
    "---\n",
    "\n",
    "> _set(집합)은 여러개의 객체를 담을 수 있는 리스트와 유사하지만 2가지가 다릅니다._\n",
    ">    1. 중복을 허용하지 않는다.<br>\n",
    ">    2. 순서가 없다.<br>\n",
    "\n",
    "> _중복을 허용하지 않는 set의 특징 덕분에 data의 중복을 제거하기 위한 수단으로 자주 쓰입니다._<br> \n",
    "> _대신 Set은 순서가 없기 때문에 list처럼 인덱싱으로 값을 얻을 수 없습니다._"
   ]
  },
  {
   "cell_type": "markdown",
   "metadata": {
    "colab_type": "text",
    "id": "4zvkNV4FsVkH"
   },
   "source": [
    "## 1. Set의 생성과 원소\n",
    "---"
   ]
  },
  {
   "cell_type": "markdown",
   "metadata": {
    "colab_type": "text",
    "id": "3fO0qx23rjss"
   },
   "source": [
    "### (1) Set 생성하기\n",
    "\n",
    "set 내에는 숫자 뿐 아니라 다양한 타입의 변수를 담을 수 있습니다."
   ]
  },
  {
   "cell_type": "code",
   "execution_count": 1,
   "metadata": {
    "colab": {},
    "colab_type": "code",
    "id": "8LnegsKzrjsu",
    "outputId": "f80c2f44-b7a4-45d4-97cf-7e7738506038"
   },
   "outputs": [
    {
     "data": {
      "text/plain": [
       "set()"
      ]
     },
     "execution_count": 1,
     "metadata": {},
     "output_type": "execute_result"
    }
   ],
   "source": [
    "# 비어있는 Set를 생성합니다.\n",
    "set0 = set()\n",
    "set0"
   ]
  },
  {
   "cell_type": "code",
   "execution_count": 2,
   "metadata": {
    "colab": {},
    "colab_type": "code",
    "id": "8p_Eh9Hxrjsz",
    "outputId": "5def5138-34ac-4213-a2a7-a3a9e87723e9"
   },
   "outputs": [
    {
     "data": {
      "text/plain": [
       "set()"
      ]
     },
     "execution_count": 2,
     "metadata": {},
     "output_type": "execute_result"
    }
   ],
   "source": [
    "# 비어있는 Set를 생성합니다.\n",
    "set0 = set()\n",
    "set0"
   ]
  },
  {
   "cell_type": "code",
   "execution_count": 3,
   "metadata": {
    "colab": {},
    "colab_type": "code",
    "id": "-yPx_ykMrjs2",
    "outputId": "8af04021-6716-4f62-80c6-c22e975722e0"
   },
   "outputs": [
    {
     "data": {
      "text/plain": [
       "{1, 2, '2', 3, 'text'}"
      ]
     },
     "execution_count": 3,
     "metadata": {},
     "output_type": "execute_result"
    }
   ],
   "source": [
    "# 여러 값을 저장 가능하지만, 중복은 허용하지 않습니다.\n",
    "set1 = {1,1,2,\"2\",\"text\",\"text\",3}\n",
    "set1"
   ]
  },
  {
   "cell_type": "code",
   "execution_count": 4,
   "metadata": {
    "colab": {},
    "colab_type": "code",
    "id": "xf5FnEu3rjs6",
    "outputId": "e552bb5e-fe87-4e65-bcdf-f619b4376514"
   },
   "outputs": [
    {
     "ename": "TypeError",
     "evalue": "unhashable type: 'list'",
     "output_type": "error",
     "traceback": [
      "\u001b[0;31m---------------------------------------------------------------------------\u001b[0m",
      "\u001b[0;31mTypeError\u001b[0m                                 Traceback (most recent call last)",
      "\u001b[0;32m<ipython-input-4-02bd807ef25b>\u001b[0m in \u001b[0;36m<module>\u001b[0;34m\u001b[0m\n\u001b[1;32m      1\u001b[0m \u001b[0;31m# set은 list나 tuple과 다르게, set 안에 list를 넣지 못합니다.\u001b[0m\u001b[0;34m\u001b[0m\u001b[0;34m\u001b[0m\u001b[0m\n\u001b[0;32m----> 2\u001b[0;31m \u001b[0mset2\u001b[0m \u001b[0;34m=\u001b[0m \u001b[0;34m{\u001b[0m\u001b[0;36m1\u001b[0m\u001b[0;34m,\u001b[0m\u001b[0;36m2\u001b[0m\u001b[0;34m,\u001b[0m\u001b[0;34m[\u001b[0m\u001b[0;36m1\u001b[0m\u001b[0;34m,\u001b[0m\u001b[0;36m2\u001b[0m\u001b[0;34m,\u001b[0m\u001b[0;36m3\u001b[0m\u001b[0;34m]\u001b[0m\u001b[0;34m}\u001b[0m\u001b[0;34m\u001b[0m\u001b[0m\n\u001b[0m",
      "\u001b[0;31mTypeError\u001b[0m: unhashable type: 'list'"
     ]
    }
   ],
   "source": [
    "# set은 list나 tuple과 다르게, set 안에 list를 넣지 못합니다.\n",
    "set2 = {1,2,[1,2,3]}"
   ]
  },
  {
   "cell_type": "code",
   "execution_count": 5,
   "metadata": {
    "colab": {},
    "colab_type": "code",
    "id": "9Q8VZsnyrjs8"
   },
   "outputs": [],
   "source": [
    "# 하지만 tuple은 set에 추가가 가능합니다.\n",
    "set2 = {1,2,(1,2,3)}"
   ]
  },
  {
   "cell_type": "markdown",
   "metadata": {
    "colab_type": "text",
    "id": "nSTDk8oLrjs-"
   },
   "source": [
    "### (2) Set에서 값 얻기\n",
    "set에는 순서가 없기 때문에 index를 통해 값을 가져올 수 없습니다.<br>\n",
    "하지만 값이 있는지는 확인할 수 있습니다."
   ]
  },
  {
   "cell_type": "code",
   "execution_count": 6,
   "metadata": {
    "colab": {},
    "colab_type": "code",
    "id": "cXTBAflzrjs_",
    "outputId": "2138e79b-6b72-445d-bb47-e37eb71a2668"
   },
   "outputs": [
    {
     "data": {
      "text/plain": [
       "True"
      ]
     },
     "execution_count": 6,
     "metadata": {},
     "output_type": "execute_result"
    }
   ],
   "source": [
    "set1 = {1,1,2,\"2\",\"text\",\"text\",3}\n",
    "\n",
    "1 in set1"
   ]
  },
  {
   "cell_type": "markdown",
   "metadata": {
    "colab_type": "text",
    "id": "Ocrq_mXLrjtD"
   },
   "source": [
    "### (3) Set에 값 추가하기\n",
    "Set는 `add()`와 `update()` 를 통해 값을 추가해 줍니다."
   ]
  },
  {
   "cell_type": "code",
   "execution_count": 7,
   "metadata": {
    "colab": {},
    "colab_type": "code",
    "id": "N6ypY1F7rjtD"
   },
   "outputs": [],
   "source": [
    "set1 = {1,2,3,4,5}"
   ]
  },
  {
   "cell_type": "code",
   "execution_count": 8,
   "metadata": {
    "colab": {},
    "colab_type": "code",
    "id": "dCSaYNCCrjtG",
    "outputId": "ec165b29-1b0c-47d6-ac57-d19d27500e90"
   },
   "outputs": [
    {
     "data": {
      "text/plain": [
       "{1, 2, 3, 4, 5, 6}"
      ]
     },
     "execution_count": 8,
     "metadata": {},
     "output_type": "execute_result"
    }
   ],
   "source": [
    "set1.add(6)\n",
    "set1"
   ]
  },
  {
   "cell_type": "code",
   "execution_count": 9,
   "metadata": {
    "colab": {},
    "colab_type": "code",
    "id": "ulMSGt7OrjtJ",
    "outputId": "caca8868-9c08-4a2d-9c4e-be39a4382043"
   },
   "outputs": [
    {
     "data": {
      "text/plain": [
       "{1, 2, 3, 4, 5, 6, 7, 8, 9}"
      ]
     },
     "execution_count": 9,
     "metadata": {},
     "output_type": "execute_result"
    }
   ],
   "source": [
    "set1.update({7,8,9}) # 여러 개의 값을 추가할 때에는 update를 이용합니다.\n",
    "set1"
   ]
  },
  {
   "cell_type": "markdown",
   "metadata": {
    "colab_type": "text",
    "id": "kvRNvCOXrjtL"
   },
   "source": [
    "### (4) Set의 특정 원소 제거하기\n",
    "`remove()`를 이용하여 값을 제거할 수 있습니다."
   ]
  },
  {
   "cell_type": "code",
   "execution_count": 10,
   "metadata": {
    "colab": {},
    "colab_type": "code",
    "id": "FdEZSiLLrjtM"
   },
   "outputs": [],
   "source": [
    "set1 = {1,2,3,4,5}"
   ]
  },
  {
   "cell_type": "code",
   "execution_count": 11,
   "metadata": {
    "colab": {},
    "colab_type": "code",
    "id": "jzWceUxirjtO",
    "outputId": "ebfff0c7-9f01-4856-8f0f-407974f5b6d4"
   },
   "outputs": [
    {
     "data": {
      "text/plain": [
       "{1, 2, 3, 5}"
      ]
     },
     "execution_count": 11,
     "metadata": {},
     "output_type": "execute_result"
    }
   ],
   "source": [
    "# remove를 이용하여 set내의 4 를 제거하기\n",
    "# *주의 : 만약 remove(#) : # 의 값이 set에 존재하지 않을 경우 ValueError 가 발생합니다.\n",
    "set1.remove(4)\n",
    "set1"
   ]
  },
  {
   "cell_type": "markdown",
   "metadata": {
    "colab_type": "text",
    "id": "VXy14gFVrjtS"
   },
   "source": [
    "### (5) set의 특정 원소가 있는지 찾기"
   ]
  },
  {
   "cell_type": "code",
   "execution_count": 12,
   "metadata": {
    "colab": {},
    "colab_type": "code",
    "id": "Cu1yBIk5rjtT"
   },
   "outputs": [],
   "source": [
    "set1 = {1,2,3,4,5}"
   ]
  },
  {
   "cell_type": "code",
   "execution_count": 13,
   "metadata": {
    "colab": {},
    "colab_type": "code",
    "id": "pbfl0izvrjtW",
    "outputId": "43e91a85-01a2-4b1f-a465-bcc97fe0fe35"
   },
   "outputs": [
    {
     "data": {
      "text/plain": [
       "True"
      ]
     },
     "execution_count": 13,
     "metadata": {},
     "output_type": "execute_result"
    }
   ],
   "source": [
    "1 in set1"
   ]
  },
  {
   "cell_type": "code",
   "execution_count": 14,
   "metadata": {
    "colab": {},
    "colab_type": "code",
    "id": "nEM7buy4rjta",
    "outputId": "de8e6194-c2f3-4881-9f48-72ed15ddb83b"
   },
   "outputs": [
    {
     "data": {
      "text/plain": [
       "False"
      ]
     },
     "execution_count": 14,
     "metadata": {},
     "output_type": "execute_result"
    }
   ],
   "source": [
    "6 in set1"
   ]
  },
  {
   "cell_type": "markdown",
   "metadata": {
    "colab_type": "text",
    "id": "BgGx8MUFrjtf"
   },
   "source": [
    "## 2. Set의 연산\n",
    "---\n",
    "\n",
    "+ set(집합)은 그 이름답게, 집합에 관련된 연산들이 구현되어 있습니다.\n",
    "+ 집합에 해당하는 연산들은 아래와 같습니다.\n",
    "\n",
    "| 연산 | 설명 |\n",
    "| --- | --- |\n",
    "| $&$   | 교집합(두 집합에 공통으로 포함된 원소) |\n",
    "| $|$   | 합집합(두 집합의 모든 원소) |\n",
    "| A-B   | 차집합(A와 B의 교집합을 제외한 A의 원소) |\n",
    "| $^$   | 대칭차집합(합집합에서 교집합을 뺀 모든 원소)|"
   ]
  },
  {
   "cell_type": "code",
   "execution_count": 15,
   "metadata": {
    "colab": {},
    "colab_type": "code",
    "id": "OXj-nwx1rjth"
   },
   "outputs": [],
   "source": [
    "A = {1,2,3,5}\n",
    "B = {3,5,6,8,9}"
   ]
  },
  {
   "cell_type": "markdown",
   "metadata": {
    "colab_type": "text",
    "id": "VLBp7J_qrjtl"
   },
   "source": [
    "### (1) 교집합"
   ]
  },
  {
   "cell_type": "code",
   "execution_count": 16,
   "metadata": {
    "colab": {},
    "colab_type": "code",
    "id": "aDn4E_uhrjtn",
    "outputId": "cf802065-8b10-4c8c-d65f-3030ab40011a"
   },
   "outputs": [
    {
     "data": {
      "text/plain": [
       "{3, 5}"
      ]
     },
     "execution_count": 16,
     "metadata": {},
     "output_type": "execute_result"
    }
   ],
   "source": [
    "A & B"
   ]
  },
  {
   "cell_type": "markdown",
   "metadata": {
    "colab_type": "text",
    "id": "VOlsJMK7rjtq"
   },
   "source": [
    "### (2) 합집합"
   ]
  },
  {
   "cell_type": "code",
   "execution_count": 17,
   "metadata": {
    "colab": {},
    "colab_type": "code",
    "id": "ddiZtJnzrjts",
    "outputId": "67e2009e-5d70-43bd-a569-639111fd11ea"
   },
   "outputs": [
    {
     "data": {
      "text/plain": [
       "{1, 2, 3, 5, 6, 8, 9}"
      ]
     },
     "execution_count": 17,
     "metadata": {},
     "output_type": "execute_result"
    }
   ],
   "source": [
    "A | B"
   ]
  },
  {
   "cell_type": "markdown",
   "metadata": {
    "colab_type": "text",
    "id": "KctDKtHfrjtt"
   },
   "source": [
    "### (3) 차집합"
   ]
  },
  {
   "cell_type": "code",
   "execution_count": 18,
   "metadata": {
    "colab": {},
    "colab_type": "code",
    "id": "fJ4rl-EQrjtv",
    "outputId": "bbd0b65e-f918-4e4c-e042-c05fa9f4f606"
   },
   "outputs": [
    {
     "data": {
      "text/plain": [
       "{1, 2}"
      ]
     },
     "execution_count": 18,
     "metadata": {},
     "output_type": "execute_result"
    }
   ],
   "source": [
    "A - B"
   ]
  },
  {
   "cell_type": "markdown",
   "metadata": {
    "colab_type": "text",
    "id": "qCZ4ygxErjty"
   },
   "source": [
    "### (4) 대칭차집합"
   ]
  },
  {
   "cell_type": "code",
   "execution_count": 19,
   "metadata": {
    "colab": {},
    "colab_type": "code",
    "id": "sFHlfS4Wrjtz",
    "outputId": "13a98453-f0b1-4b57-fe56-cd09b1a8d72a"
   },
   "outputs": [
    {
     "data": {
      "text/plain": [
       "{1, 2, 6, 8, 9}"
      ]
     },
     "execution_count": 19,
     "metadata": {},
     "output_type": "execute_result"
    }
   ],
   "source": [
    "A ^ B"
   ]
  },
  {
   "cell_type": "markdown",
   "metadata": {
    "colab_type": "text",
    "id": "vwbbtYVhrjt1"
   },
   "source": [
    "# \\[ 2. Dictionary \\]\n",
    "\n",
    "---\n",
    "\n",
    "---\n",
    "> _dictionary(: dict) 자료형은 키와 값을 한 쌍으로 가지는 자료형으로, `list의 index` 대신 key를 이용해서 데이터를 찾을 수 있습니다._ <br>\n",
    "> _딕셔너리에서 저장된 자료는 순서가 없고 키는 set과 같이 중복을 허용하지 않습니다._\n"
   ]
  },
  {
   "cell_type": "markdown",
   "metadata": {
    "colab_type": "text",
    "id": "YBtyyIHts96x"
   },
   "source": [
    "## 1. Dictionary의 생성과 원소\n",
    "---"
   ]
  },
  {
   "cell_type": "markdown",
   "metadata": {
    "colab_type": "text",
    "id": "LdrsWe3Trjt3"
   },
   "source": [
    "### (1) Dictionary 생성하기\n",
    "dict 내에는 숫자 뿐 아니라 다양한 타입의 변수를 담을 수 있습니다."
   ]
  },
  {
   "cell_type": "code",
   "execution_count": 20,
   "metadata": {
    "colab": {},
    "colab_type": "code",
    "id": "OqPMKt2Frjt4",
    "outputId": "ea091847-6dfb-4abc-a974-1699d8581131"
   },
   "outputs": [
    {
     "data": {
      "text/plain": [
       "{}"
      ]
     },
     "execution_count": 20,
     "metadata": {},
     "output_type": "execute_result"
    }
   ],
   "source": [
    "# 비어있는 dict를 생성합니다.\n",
    "dict0 = {} #\n",
    "dict0 = dict()\n",
    "dict0"
   ]
  },
  {
   "cell_type": "code",
   "execution_count": 21,
   "metadata": {
    "colab": {},
    "colab_type": "code",
    "id": "EQ0Uw8tUrjt6",
    "outputId": "5c5e5a9d-17d8-49b6-e534-e050fc669d20"
   },
   "outputs": [
    {
     "data": {
      "text/plain": [
       "{'1': 'a', '2': 'b', '3': 1, 'c': 'test'}"
      ]
     },
     "execution_count": 21,
     "metadata": {},
     "output_type": "execute_result"
    }
   ],
   "source": [
    "# 여러개의 key와 value들을 저장합니다.\n",
    "dict1 = {'1':'a',\n",
    "        '2':'b',\n",
    "        '3':1,\n",
    "        'c':'test'}\n",
    "dict1"
   ]
  },
  {
   "cell_type": "code",
   "execution_count": 22,
   "metadata": {
    "colab": {},
    "colab_type": "code",
    "id": "xTf6d5qJrjt9",
    "outputId": "2385eb68-e887-4576-efbd-7cda78cce4e8"
   },
   "outputs": [
    {
     "data": {
      "text/plain": [
       "{'1': 'a', '2': [1, 2, 3, 4], '3': (1, 2, 3), 'c': {1: '1', 2: '2'}}"
      ]
     },
     "execution_count": 22,
     "metadata": {},
     "output_type": "execute_result"
    }
   ],
   "source": [
    "# dict 내에 리스트나 tuple, dict로 포함할 수 있습니다.\n",
    "dict1 = {'1':'a',\n",
    "        '2':[1,2,3,4],\n",
    "        '3':(1,2,3),\n",
    "        'c':{1:'1',2:'2'}}\n",
    "dict1"
   ]
  },
  {
   "cell_type": "code",
   "execution_count": 23,
   "metadata": {
    "colab": {},
    "colab_type": "code",
    "id": "UBLfcxrArjuB",
    "outputId": "531f023b-5acc-4371-8818-6642e4419d0a"
   },
   "outputs": [
    {
     "data": {
      "text/plain": [
       "1"
      ]
     },
     "execution_count": 23,
     "metadata": {},
     "output_type": "execute_result"
    }
   ],
   "source": [
    "# dict 내의 리스트 값을 가져오고자 한다면 아래와 같이 수행할 수 있습니다.\n",
    "dict1['2'][0] # dict1의 key값이 2인 list의 0번째 인덱스 값을 가져오기 "
   ]
  },
  {
   "cell_type": "markdown",
   "metadata": {
    "colab_type": "text",
    "id": "-z70LSQrrjuD"
   },
   "source": [
    "### (2) dict에서 값 얻기\n",
    "\n",
    "Dict 뒤의 대괄호에 key값을 넣어 가져옵니다."
   ]
  },
  {
   "cell_type": "code",
   "execution_count": 24,
   "metadata": {
    "colab": {},
    "colab_type": "code",
    "id": "G5iA8FW7rjuD"
   },
   "outputs": [],
   "source": [
    "dict1 = {\"1\":\"a\",\"2\":\"b\",\"3\":4}"
   ]
  },
  {
   "cell_type": "code",
   "execution_count": 25,
   "metadata": {
    "colab": {},
    "colab_type": "code",
    "id": "Tb1EjM8urjuF",
    "outputId": "1855f6bf-1199-4f4d-c246-9a8a55d8b320"
   },
   "outputs": [
    {
     "data": {
      "text/plain": [
       "'a'"
      ]
     },
     "execution_count": 25,
     "metadata": {},
     "output_type": "execute_result"
    }
   ],
   "source": [
    "dict1['1']"
   ]
  },
  {
   "cell_type": "code",
   "execution_count": 26,
   "metadata": {
    "colab": {},
    "colab_type": "code",
    "id": "64Ot5SN6rjuH",
    "outputId": "b8b731b3-b33d-4ad7-af77-9384b1a9bbb6"
   },
   "outputs": [
    {
     "ename": "KeyError",
     "evalue": "3",
     "output_type": "error",
     "traceback": [
      "\u001b[0;31m---------------------------------------------------------------------------\u001b[0m",
      "\u001b[0;31mKeyError\u001b[0m                                  Traceback (most recent call last)",
      "\u001b[0;32m<ipython-input-26-ee374c7544d2>\u001b[0m in \u001b[0;36m<module>\u001b[0;34m\u001b[0m\n\u001b[0;32m----> 1\u001b[0;31m \u001b[0mdict1\u001b[0m\u001b[0;34m[\u001b[0m\u001b[0;36m3\u001b[0m\u001b[0;34m]\u001b[0m \u001b[0;31m# 문자열과 정수형은 구분해주어야 합니다.\u001b[0m\u001b[0;34m\u001b[0m\u001b[0m\n\u001b[0m",
      "\u001b[0;31mKeyError\u001b[0m: 3"
     ]
    }
   ],
   "source": [
    "dict1[3] # 문자열과 정수형은 구분해주어야 합니다."
   ]
  },
  {
   "cell_type": "code",
   "execution_count": 27,
   "metadata": {
    "colab": {},
    "colab_type": "code",
    "id": "lsYVTS-rrjuK",
    "outputId": "688d084a-bdb5-42cd-b12e-a4051bfda2d1"
   },
   "outputs": [
    {
     "data": {
      "text/plain": [
       "True"
      ]
     },
     "execution_count": 27,
     "metadata": {},
     "output_type": "execute_result"
    }
   ],
   "source": [
    "\"1\" in dict1 # in 연산자로 해당 값이 dict의 key 값으로 있는지 확인할 수 있습니다."
   ]
  },
  {
   "cell_type": "code",
   "execution_count": 28,
   "metadata": {
    "colab": {},
    "colab_type": "code",
    "id": "SY4SAKcjrjuN",
    "outputId": "273041d4-fe5d-4058-90c4-4142f934b00a"
   },
   "outputs": [
    {
     "data": {
      "text/plain": [
       "False"
      ]
     },
     "execution_count": 28,
     "metadata": {},
     "output_type": "execute_result"
    }
   ],
   "source": [
    "3 in dict1 "
   ]
  },
  {
   "cell_type": "markdown",
   "metadata": {
    "colab_type": "text",
    "id": "sNK1rVz7rjuQ"
   },
   "source": [
    "### (3) Dict에 값 추가 혹은 변경하기\n",
    "Dict는 key를 통한 값을 가져오는 것과 비슷한 방식으로 변경할 수 있습니다."
   ]
  },
  {
   "cell_type": "code",
   "execution_count": 29,
   "metadata": {
    "colab": {},
    "colab_type": "code",
    "id": "PUnEi2dLrjuR"
   },
   "outputs": [],
   "source": [
    "dict2 = {\"1\":\"a\",\"2\":\"b\",\"3\":\"4\"}"
   ]
  },
  {
   "cell_type": "code",
   "execution_count": 30,
   "metadata": {
    "colab": {},
    "colab_type": "code",
    "id": "6uoWdskYrjuS",
    "outputId": "13078601-4aba-49ae-85ac-54faaf82fea7"
   },
   "outputs": [
    {
     "data": {
      "text/plain": [
       "{'1': 'a', '2': 'b', '3': '4', '4': 'hello'}"
      ]
     },
     "execution_count": 30,
     "metadata": {},
     "output_type": "execute_result"
    }
   ],
   "source": [
    "# dict2의 key '4'에 'hello'를 추가\n",
    "dict2['4'] = 'hello'\n",
    "dict2"
   ]
  },
  {
   "cell_type": "code",
   "execution_count": 31,
   "metadata": {
    "colab": {},
    "colab_type": "code",
    "id": "hBHb50AMrjuV",
    "outputId": "022ba3b8-03c9-4a2c-befd-7adb51e553cd"
   },
   "outputs": [
    {
     "data": {
      "text/plain": [
       "{'1': 10, '2': 'b', '3': '4', '4': 'hello'}"
      ]
     },
     "execution_count": 31,
     "metadata": {},
     "output_type": "execute_result"
    }
   ],
   "source": [
    "# dict2의 key '1'에 'a' 대신 10으로 변경\n",
    "dict2['1'] = 10\n",
    "dict2"
   ]
  },
  {
   "cell_type": "markdown",
   "metadata": {
    "colab_type": "text",
    "id": "DG1zYzLdrjue"
   },
   "source": [
    "### (4) Dict의 특정 원소 제거하기\n",
    "`del` 을 이용한 방법과 `L.pop()`를 이용한 방법"
   ]
  },
  {
   "cell_type": "code",
   "execution_count": 32,
   "metadata": {
    "colab": {},
    "colab_type": "code",
    "id": "ivlhq3j3rjuf"
   },
   "outputs": [],
   "source": [
    "dict2 = {\"1\":\"a\",\"2\":\"b\",\"3\":\"4\"}"
   ]
  },
  {
   "cell_type": "code",
   "execution_count": 33,
   "metadata": {
    "colab": {},
    "colab_type": "code",
    "id": "J1RFPxXyrjui",
    "outputId": "1bede146-efa2-4828-95fe-9483480b9811"
   },
   "outputs": [
    {
     "data": {
      "text/plain": [
       "{'2': 'b', '3': '4'}"
      ]
     },
     "execution_count": 33,
     "metadata": {},
     "output_type": "execute_result"
    }
   ],
   "source": [
    "# del을 이용하여 '1'의 키 값을 가진 쌍 제거하기\n",
    "del dict2['1']\n",
    "dict2"
   ]
  },
  {
   "cell_type": "code",
   "execution_count": 34,
   "metadata": {
    "colab": {},
    "colab_type": "code",
    "id": "zDbBBMfDrjuo",
    "outputId": "1b0dacd5-b0d7-4ebe-825a-2a135e28766f"
   },
   "outputs": [
    {
     "data": {
      "text/plain": [
       "{'3': '4'}"
      ]
     },
     "execution_count": 34,
     "metadata": {},
     "output_type": "execute_result"
    }
   ],
   "source": [
    "# pop를 이용하여 '2'의 키 값을 가진 쌍 제거하기\n",
    "# *주의 : 만약 pop(#) : # 의 값이 dict에 존재하지 않을 경우 ValueError 가 발생합니다.\n",
    "dict2.pop('2')\n",
    "dict2"
   ]
  },
  {
   "cell_type": "markdown",
   "metadata": {
    "colab_type": "text",
    "id": "wHPlTV8Krjuq"
   },
   "source": [
    "\n",
    "# \\[ 3. 기본 자료구조를 다루기 위한 함수들 \\]\n",
    "    \n",
    "---\n",
    "\n",
    "---\n",
    "\n",
    "> _List와 Tuple처럼, set과 dict도 자료구조의 크기를 재는 `len` 함수와 자료구조를 정렬하는 `sorted` 함수로 할 수 있습니다.._\n",
    "    "
   ]
  },
  {
   "cell_type": "markdown",
   "metadata": {
    "colab_type": "text",
    "id": "7_WJAZ6WnL0d"
   },
   "source": [
    "## 1. len 함수와 sorted 함수\n",
    "---"
   ]
  },
  {
   "cell_type": "markdown",
   "metadata": {
    "colab_type": "text",
    "id": "XjCjiuJYrjur"
   },
   "source": [
    "### (1) len으로 크기 재기\n",
    "\n",
    "자료구조 내에 있는 원소들의 수를 반환합니다"
   ]
  },
  {
   "cell_type": "code",
   "execution_count": 35,
   "metadata": {
    "colab": {},
    "colab_type": "code",
    "id": "R8hLsgUTrjur",
    "outputId": "0f79441e-85b5-470d-d913-706342f77feb"
   },
   "outputs": [
    {
     "data": {
      "text/plain": [
       "5"
      ]
     },
     "execution_count": 35,
     "metadata": {},
     "output_type": "execute_result"
    }
   ],
   "source": [
    "set1 = {1,2,3,4,5}\n",
    "len(set1)"
   ]
  },
  {
   "cell_type": "code",
   "execution_count": 36,
   "metadata": {
    "colab": {},
    "colab_type": "code",
    "id": "Mr5V47xJrjut",
    "outputId": "c0debb69-7e05-46a8-aafb-a585deb3f58d"
   },
   "outputs": [
    {
     "data": {
      "text/plain": [
       "2"
      ]
     },
     "execution_count": 36,
     "metadata": {},
     "output_type": "execute_result"
    }
   ],
   "source": [
    "dict1 = {1:2,2:[3,4,5]}\n",
    "len(dict1) # 몇개의 Key가 있는지를 반환합니다"
   ]
  },
  {
   "cell_type": "markdown",
   "metadata": {
    "colab_type": "text",
    "id": "Gk-kc-whrjuy"
   },
   "source": [
    "### (2) sorted로 정렬하기\n",
    "\n",
    "모든 자료구조는 sorted를 통해 정렬할 수 있습니다."
   ]
  },
  {
   "cell_type": "code",
   "execution_count": 37,
   "metadata": {
    "colab": {},
    "colab_type": "code",
    "id": "Gj7vf3Xfrjuy",
    "outputId": "8071efdd-a6ea-4d7b-9749-6665d1c725fe"
   },
   "outputs": [
    {
     "data": {
      "text/plain": [
       "[1, 2, 3, 4, 5]"
      ]
     },
     "execution_count": 37,
     "metadata": {},
     "output_type": "execute_result"
    }
   ],
   "source": [
    "set1 = {1,2,3,4,5}\n",
    "sorted(set1) # 반환은 리스트 타입으로 나오게 됩니다."
   ]
  },
  {
   "cell_type": "code",
   "execution_count": 38,
   "metadata": {
    "colab": {},
    "colab_type": "code",
    "id": "EtZ9reMVrju3",
    "outputId": "6b85b7c0-18d5-4186-9a01-8a220a37a184"
   },
   "outputs": [
    {
     "data": {
      "text/plain": [
       "[2, 1]"
      ]
     },
     "execution_count": 38,
     "metadata": {},
     "output_type": "execute_result"
    }
   ],
   "source": [
    "dict1 = {1:2,2:[3,4,5]}\n",
    "sorted(dict1,reverse=True) # 키값만 sorting되며 반환됩니다."
   ]
  },
  {
   "cell_type": "markdown",
   "metadata": {
    "colab_type": "text",
    "id": "pdBjEeiyrju5"
   },
   "source": [
    "#  \n",
    "\n",
    "---\n",
    "\n",
    "    Copyright(c) 2019 by Public AI. All rights reserved.\n",
    "    Writen by PAI, SeonYoul Choi ( Best10@publicai.co.kr )  last updated on 2019/02/24\n",
    "---"
   ]
  }
 ],
 "metadata": {
  "colab": {
   "collapsed_sections": [
    "3fO0qx23rjss",
    "nSTDk8oLrjs-",
    "Ocrq_mXLrjtD",
    "kvRNvCOXrjtL",
    "VXy14gFVrjtS",
    "VLBp7J_qrjtl",
    "VOlsJMK7rjtq",
    "KctDKtHfrjtt",
    "LdrsWe3Trjt3",
    "-z70LSQrrjuD",
    "sNK1rVz7rjuQ",
    "DG1zYzLdrjue",
    "XjCjiuJYrjur",
    "Gk-kc-whrjuy"
   ],
   "name": "4_Python의 자료구조(2) Set와 Dict.ipynb",
   "provenance": [],
   "toc_visible": true,
   "version": "0.3.2"
  },
  "kernelspec": {
   "display_name": "Python 3",
   "language": "python",
   "name": "python3"
  },
  "language_info": {
   "codemirror_mode": {
    "name": "ipython",
    "version": 3
   },
   "file_extension": ".py",
   "mimetype": "text/x-python",
   "name": "python",
   "nbconvert_exporter": "python",
   "pygments_lexer": "ipython3",
   "version": "3.6.5"
  }
 },
 "nbformat": 4,
 "nbformat_minor": 1
}
