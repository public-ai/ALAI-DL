{
 "cells": [
  {
   "cell_type": "markdown",
   "metadata": {
    "colab_type": "text",
    "id": "LhspHc8sjh-3"
   },
   "source": [
    " ┏━━<i><b>Alai-DeepLearning</b></i>━━━━━━━━━━━━━━━━━━━━━━━━━━━━━━━━━━━━━━┓\n",
    "###  &nbsp;&nbsp; **✎&nbsp;&nbsp;Week1. Python의 기초 문법**\n",
    "# Section 3. Python의 자료구조 1(List, Tuple)\n",
    "\n",
    "\n",
    "### _Objective_\n",
    "1. 파이썬에서는 기본 변수이외에도 List, Tuple, Set, Dictionary 와 같은 다양한 자료구조를 지원합니다. <br>\n",
    "2. 이번 시간에는 그 중 순서가 있는 자료형인 List와 Tuple에 대해 다루어 보도록 하겠습니다.<br>\n",
    "  \n",
    "┗━━━━━━━━━━━━━━━━━━━━━━━━━━━━━━━━━━━━━━━━━━━━━━━━━━━━┛\n",
    "\n",
    "\n",
    "\n"
   ]
  },
  {
   "cell_type": "markdown",
   "metadata": {
    "colab_type": "text",
    "id": "4-2_P87pjh-4"
   },
   "source": [
    "# \\[ 1. List \\]\n",
    "\n",
    "---\n",
    "\n",
    "---\n",
    "\n",
    "> *1. list(리스트)는 여러개의 객체를 담을 수 있습니다.*<br>\n",
    "> *2. list는 요소들의 순서가 유의미합니다.*<br>\n",
    "> *3. list는 한번 생성된 이후 수정, 삭제, 추가가 가능합니다.*\n",
    "    "
   ]
  },
  {
   "cell_type": "markdown",
   "metadata": {
    "colab_type": "text",
    "id": "O_jKkSbOmNbb"
   },
   "source": [
    "## 1. List 의 생성과 원소\n",
    "<hr>"
   ]
  },
  {
   "cell_type": "markdown",
   "metadata": {
    "colab_type": "text",
    "id": "cfL3qccYjh-6"
   },
   "source": [
    "### (1) List의 생성\n",
    "list 내에는 숫자 뿐 아니라 다양한 타입의 변수를 담을 수 있습니다."
   ]
  },
  {
   "cell_type": "code",
   "execution_count": 1,
   "metadata": {
    "colab": {
     "base_uri": "https://localhost:8080/",
     "height": 34
    },
    "colab_type": "code",
    "executionInfo": {
     "elapsed": 722,
     "status": "ok",
     "timestamp": 1550744632159,
     "user": {
      "displayName": "최선열",
      "photoUrl": "",
      "userId": "00663027191814710813"
     },
     "user_tz": -540
    },
    "id": "ITeAnf9cjh-7",
    "outputId": "65e28c87-7b71-4196-efc6-b41373a62846"
   },
   "outputs": [
    {
     "data": {
      "text/plain": [
       "[]"
      ]
     },
     "execution_count": 1,
     "metadata": {},
     "output_type": "execute_result"
    }
   ],
   "source": [
    "# 비어있는 List를 생성합니다.\n",
    "lst0 = []\n",
    "lst0 = list()\n",
    "lst0"
   ]
  },
  {
   "cell_type": "code",
   "execution_count": 2,
   "metadata": {
    "colab": {},
    "colab_type": "code",
    "id": "1CXzvmCMjh_C",
    "outputId": "6b30f168-c9c2-4c79-f034-95a4554dcf10"
   },
   "outputs": [
    {
     "data": {
      "text/plain": [
       "[1, 2, 3, 4, 5]"
      ]
     },
     "execution_count": 2,
     "metadata": {},
     "output_type": "execute_result"
    }
   ],
   "source": [
    "# 여러개의 숫자들을 저장합니다.\n",
    "lst1 = [1,2,3,4,5]\n",
    "lst1"
   ]
  },
  {
   "cell_type": "code",
   "execution_count": 3,
   "metadata": {
    "colab": {},
    "colab_type": "code",
    "id": "YSUqEzObjh_F",
    "outputId": "fd8e817a-a91d-4a99-c950-a5ec1d7b11a5"
   },
   "outputs": [
    {
     "data": {
      "text/plain": [
       "[1, 2, 3, 5.5, 'str1']"
      ]
     },
     "execution_count": 3,
     "metadata": {},
     "output_type": "execute_result"
    }
   ],
   "source": [
    "# 정수 이외의 실수나 text도 담을 수 있습니다.\n",
    "lst2 = [1,2,3,5.5,\"str1\"]\n",
    "lst2"
   ]
  },
  {
   "cell_type": "code",
   "execution_count": 4,
   "metadata": {
    "colab": {},
    "colab_type": "code",
    "id": "NkpcTnFBjh_I",
    "outputId": "6afa62e9-ea41-4dac-88c2-e497e9df4173"
   },
   "outputs": [
    {
     "data": {
      "text/plain": [
       "[1, 2, 3, 4, [1, 2, 3, 5.5, 'str1']]"
      ]
     },
     "execution_count": 4,
     "metadata": {},
     "output_type": "execute_result"
    }
   ],
   "source": [
    "# 리스트 내에 리스트 또는 변수를 담을 수 있습니다.\n",
    "var1 = 1\n",
    "lst3 = [var1, 2,3,4, lst2]\n",
    "lst3"
   ]
  },
  {
   "cell_type": "markdown",
   "metadata": {
    "colab_type": "text",
    "id": "bqGuQhskjh_L"
   },
   "source": [
    "### (2) List에서 값 얻기\n",
    "list 뒤의 대괄호에 index를 넣어 값을 얻습니다."
   ]
  },
  {
   "cell_type": "code",
   "execution_count": 5,
   "metadata": {
    "colab": {},
    "colab_type": "code",
    "id": "2lSOEhYNjh_M"
   },
   "outputs": [],
   "source": [
    "lst = [1,2,3,4,5]"
   ]
  },
  {
   "cell_type": "code",
   "execution_count": 6,
   "metadata": {
    "colab": {},
    "colab_type": "code",
    "id": "l5G3kqpYjh_R",
    "outputId": "30f901fd-ad46-4135-e32f-e3158393813d"
   },
   "outputs": [
    {
     "data": {
      "text/plain": [
       "3"
      ]
     },
     "execution_count": 6,
     "metadata": {},
     "output_type": "execute_result"
    }
   ],
   "source": [
    "# list의 2번째 index 값 가져오기\n",
    "# *주의 : python 에서 index는 0부터 시작합니다.\n",
    "element_1 = lst[2]\n",
    "element_1"
   ]
  },
  {
   "cell_type": "code",
   "execution_count": 7,
   "metadata": {
    "colab": {},
    "colab_type": "code",
    "id": "kwVKZeCljh_V",
    "outputId": "3a148d0f-0b6e-4b07-8014-a2b5c2157de2"
   },
   "outputs": [
    {
     "data": {
      "text/plain": [
       "4"
      ]
     },
     "execution_count": 7,
     "metadata": {},
     "output_type": "execute_result"
    }
   ],
   "source": [
    "# list의 마지막 값 얻기\n",
    "# 마지막 index은 -1로, 역 순으로 -2, -3으로 진행합니다.\n",
    "element_4 = lst[-2]\n",
    "element_4"
   ]
  },
  {
   "cell_type": "code",
   "execution_count": 8,
   "metadata": {
    "colab": {},
    "colab_type": "code",
    "id": "5lB5FgLkjh_b",
    "outputId": "e00d90ce-cf91-4393-90b3-b9129d09b4e9"
   },
   "outputs": [
    {
     "data": {
      "text/plain": [
       "[2, 3, 4]"
      ]
     },
     "execution_count": 8,
     "metadata": {},
     "output_type": "execute_result"
    }
   ],
   "source": [
    "# list의 범위 지정\n",
    "# 1번째 이상 4번째 미만 값을 가져오기 위해서는 :을 이용합니다.\n",
    "element_2 = lst[1:4]\n",
    "element_2"
   ]
  },
  {
   "cell_type": "code",
   "execution_count": 9,
   "metadata": {
    "colab": {},
    "colab_type": "code",
    "id": "8OGKuieUjh_f",
    "outputId": "3bcc6229-adf3-4473-be3b-d1444f2b8015"
   },
   "outputs": [
    {
     "data": {
      "text/plain": [
       "[4, 5]"
      ]
     },
     "execution_count": 9,
     "metadata": {},
     "output_type": "execute_result"
    }
   ],
   "source": [
    "# list의 세번째 이후 값 얻기\n",
    "element_3 = lst[3:]\n",
    "element_3"
   ]
  },
  {
   "cell_type": "code",
   "execution_count": 10,
   "metadata": {
    "colab": {},
    "colab_type": "code",
    "id": "gtGF4G0Ajh_i",
    "outputId": "0458c58b-8b55-4f46-bdfc-6cf46f101b87"
   },
   "outputs": [
    {
     "data": {
      "text/plain": [
       "[1, 3, 5]"
      ]
     },
     "execution_count": 10,
     "metadata": {},
     "output_type": "execute_result"
    }
   ],
   "source": [
    "# list의 범위에서 step 값을 주어 그 값만큼 건너뛰어 가져올 수 있습니다.\n",
    "element_5 = lst[0:5:2]\n",
    "element_5"
   ]
  },
  {
   "cell_type": "code",
   "execution_count": 11,
   "metadata": {
    "colab": {},
    "colab_type": "code",
    "id": "VoCX8Gzijh_r",
    "outputId": "c1dfd2fc-5c15-4df5-da74-3fc26eccdcde"
   },
   "outputs": [
    {
     "data": {
      "text/plain": [
       "True"
      ]
     },
     "execution_count": 11,
     "metadata": {},
     "output_type": "execute_result"
    }
   ],
   "source": [
    "# list에 값이 있는지는 in 연산자를 통해 알 수 있습니다.\n",
    "1 in lst"
   ]
  },
  {
   "cell_type": "markdown",
   "metadata": {
    "colab_type": "text",
    "id": "Cv92CuJwjh_t"
   },
   "source": [
    "### (3) List에 값 추가하기\n",
    "list는 `append()` 또는 `insert()`를 통해 값을 추가 해 줍니다."
   ]
  },
  {
   "cell_type": "code",
   "execution_count": 12,
   "metadata": {
    "colab": {},
    "colab_type": "code",
    "id": "2J5fWLZ8jh_u"
   },
   "outputs": [],
   "source": [
    "lst = [1,2,3,4,5]"
   ]
  },
  {
   "cell_type": "code",
   "execution_count": 13,
   "metadata": {
    "colab": {},
    "colab_type": "code",
    "id": "iWhaAkZujh_y",
    "outputId": "f6886f30-c46e-4417-e539-ebca333ce52c"
   },
   "outputs": [
    {
     "data": {
      "text/plain": [
       "[1, 2, 3, 4, 5, 6]"
      ]
     },
     "execution_count": 13,
     "metadata": {},
     "output_type": "execute_result"
    }
   ],
   "source": [
    "# lst의 가장 뒤에 값 추가하기\n",
    "lst.append(6)\n",
    "lst"
   ]
  },
  {
   "cell_type": "code",
   "execution_count": 14,
   "metadata": {
    "colab": {},
    "colab_type": "code",
    "id": "TBNrIygQjh_2",
    "outputId": "bfdebedd-b87f-4dfe-ce1d-43ce4293386a"
   },
   "outputs": [
    {
     "data": {
      "text/plain": [
       "[1, 2, 2.5, 3, 4, 5, 6]"
      ]
     },
     "execution_count": 14,
     "metadata": {},
     "output_type": "execute_result"
    }
   ],
   "source": [
    "# lst 의 세번째에 2.5의 값 추가하기\n",
    "lst.insert(2,2.5)\n",
    "lst"
   ]
  },
  {
   "cell_type": "markdown",
   "metadata": {
    "colab_type": "text",
    "id": "9d1n-Bhfjh_5"
   },
   "source": [
    "### (4) List의 특정 원소값 수정하기\n",
    "lst 의 특정 원소를 수정하는 것은 index를 활용"
   ]
  },
  {
   "cell_type": "code",
   "execution_count": 15,
   "metadata": {
    "colab": {},
    "colab_type": "code",
    "id": "yNspDyB5jh_6",
    "outputId": "40824599-feb8-4a1a-d89f-dbf3c306a69f"
   },
   "outputs": [
    {
     "data": {
      "text/plain": [
       "[1, 2, 6, 4, 5]"
      ]
     },
     "execution_count": 15,
     "metadata": {},
     "output_type": "execute_result"
    }
   ],
   "source": [
    "# lst의 세번째 값을 6으로 바꾸기\n",
    "lst = [1,2,3,4,5]\n",
    "lst[2] = 6\n",
    "lst"
   ]
  },
  {
   "cell_type": "markdown",
   "metadata": {
    "colab_type": "text",
    "id": "yDCwVbVXjh__"
   },
   "source": [
    "list에 우리가 원하는 값의 index를 알기 위해서는 `lst.index(value)`를 활용"
   ]
  },
  {
   "cell_type": "code",
   "execution_count": 16,
   "metadata": {
    "colab": {},
    "colab_type": "code",
    "id": "QG6Q_M0njiAA",
    "outputId": "48810762-b7e7-4ffb-c998-fce4b9cd507a"
   },
   "outputs": [
    {
     "data": {
      "text/plain": [
       "3"
      ]
     },
     "execution_count": 16,
     "metadata": {},
     "output_type": "execute_result"
    }
   ],
   "source": [
    "lst = [1,2,3,4,5]\n",
    "lst.index(4) # 값이 4인 index의 값을 반환 "
   ]
  },
  {
   "cell_type": "code",
   "execution_count": 17,
   "metadata": {
    "colab": {},
    "colab_type": "code",
    "id": "67-Z5W8xjiAC",
    "outputId": "33cb87f7-f00f-46d7-8eb9-332d52afc005"
   },
   "outputs": [
    {
     "ename": "ValueError",
     "evalue": "7 is not in list",
     "output_type": "error",
     "traceback": [
      "\u001b[0;31m---------------------------------------------------------------------------\u001b[0m",
      "\u001b[0;31mValueError\u001b[0m                                Traceback (most recent call last)",
      "\u001b[0;32m<ipython-input-17-d6f33e184bea>\u001b[0m in \u001b[0;36m<module>\u001b[0;34m\u001b[0m\n\u001b[0;32m----> 1\u001b[0;31m \u001b[0mlst\u001b[0m\u001b[0;34m.\u001b[0m\u001b[0mindex\u001b[0m\u001b[0;34m(\u001b[0m\u001b[0;36m7\u001b[0m\u001b[0;34m)\u001b[0m \u001b[0;31m# 없으면 Error를 반환\u001b[0m\u001b[0;34m\u001b[0m\u001b[0m\n\u001b[0m",
      "\u001b[0;31mValueError\u001b[0m: 7 is not in list"
     ]
    }
   ],
   "source": [
    "lst.index(7) # 없으면 Error를 반환"
   ]
  },
  {
   "cell_type": "markdown",
   "metadata": {
    "colab_type": "text",
    "id": "C7RSOSW7jiAF"
   },
   "source": [
    "### (5) List의 특정 원소 제거하기\n",
    "`del` 을 이용한 방법과 `L.remove()`를 이용한 방법, `L.pop()`을 이용하는 방법이 있습니다."
   ]
  },
  {
   "cell_type": "code",
   "execution_count": 18,
   "metadata": {
    "colab": {},
    "colab_type": "code",
    "id": "o4vCsWXMjiAG",
    "outputId": "37fd97a1-c72c-4069-afb0-be7ca327781e"
   },
   "outputs": [
    {
     "data": {
      "text/plain": [
       "[2, 3, 4, 5]"
      ]
     },
     "execution_count": 18,
     "metadata": {},
     "output_type": "execute_result"
    }
   ],
   "source": [
    "lst = [1,2,3,4,5]\n",
    "del lst[0] # 0번째 인덱스를 제거\n",
    "lst"
   ]
  },
  {
   "cell_type": "code",
   "execution_count": 19,
   "metadata": {
    "colab": {},
    "colab_type": "code",
    "id": "dvliFynIjiAK",
    "outputId": "62225537-1bcf-42b1-de47-514147af77ac"
   },
   "outputs": [
    {
     "data": {
      "text/plain": [
       "[1, 2, 3, 5]"
      ]
     },
     "execution_count": 19,
     "metadata": {},
     "output_type": "execute_result"
    }
   ],
   "source": [
    "lst = [1,2,3,4,5]\n",
    "# remove를 이용하여 lst내의 4 를 제거하기\n",
    "lst.remove(4)\n",
    "lst"
   ]
  },
  {
   "cell_type": "code",
   "execution_count": 20,
   "metadata": {
    "colab": {},
    "colab_type": "code",
    "id": "SLqRsPU8jiAM",
    "outputId": "0415e903-0fc5-4ecc-bae7-0715136607d4"
   },
   "outputs": [
    {
     "ename": "ValueError",
     "evalue": "list.remove(x): x not in list",
     "output_type": "error",
     "traceback": [
      "\u001b[0;31m---------------------------------------------------------------------------\u001b[0m",
      "\u001b[0;31mValueError\u001b[0m                                Traceback (most recent call last)",
      "\u001b[0;32m<ipython-input-20-98096e036953>\u001b[0m in \u001b[0;36m<module>\u001b[0;34m\u001b[0m\n\u001b[1;32m      1\u001b[0m \u001b[0;31m# 만약 remove(#) : # 의 값이 list에 존재하지 않을 경우 ValueError 가 발생한다.\u001b[0m\u001b[0;34m\u001b[0m\u001b[0;34m\u001b[0m\u001b[0m\n\u001b[0;32m----> 2\u001b[0;31m \u001b[0mlst\u001b[0m\u001b[0;34m.\u001b[0m\u001b[0mremove\u001b[0m\u001b[0;34m(\u001b[0m\u001b[0;36m0\u001b[0m\u001b[0;34m)\u001b[0m \u001b[0;31m# lst내에 0이 없기 때문에 제거안됨\u001b[0m\u001b[0;34m\u001b[0m\u001b[0m\n\u001b[0m\u001b[1;32m      3\u001b[0m \u001b[0mlst\u001b[0m\u001b[0;34m\u001b[0m\u001b[0m\n",
      "\u001b[0;31mValueError\u001b[0m: list.remove(x): x not in list"
     ]
    }
   ],
   "source": [
    "# 만약 remove(#) : # 의 값이 list에 존재하지 않을 경우 ValueError 가 발생한다.\n",
    "lst.remove(0) # lst내에 0이 없기 때문에 제거안됨\n",
    "lst"
   ]
  },
  {
   "cell_type": "code",
   "execution_count": 21,
   "metadata": {},
   "outputs": [
    {
     "data": {
      "text/plain": [
       "5"
      ]
     },
     "execution_count": 21,
     "metadata": {},
     "output_type": "execute_result"
    }
   ],
   "source": [
    "lst = [1,2,3,4,5]\n",
    "# pop을 할 경우, 가장 마지막 원소을 반환하고, lst에서 제거됩니다.\n",
    "lst.pop()"
   ]
  },
  {
   "cell_type": "code",
   "execution_count": 22,
   "metadata": {},
   "outputs": [
    {
     "data": {
      "text/plain": [
       "[1, 2, 3, 4]"
      ]
     },
     "execution_count": 22,
     "metadata": {},
     "output_type": "execute_result"
    }
   ],
   "source": [
    "lst"
   ]
  },
  {
   "cell_type": "markdown",
   "metadata": {
    "colab_type": "text",
    "id": "3FZFW8bOmYAg"
   },
   "source": [
    "## 2. List의 연산\n",
    "---\n",
    "* List에서도 숫자와 같이 여러 연산을 적용할 수 있습니다."
   ]
  },
  {
   "cell_type": "markdown",
   "metadata": {
    "colab_type": "text",
    "id": "sFcHvi_wjiAS"
   },
   "source": [
    "### (1) List 더하기 (+)\n",
    "\n",
    "`+`, 더하기 연산을 통해 두 List를 이을 수 있습니다."
   ]
  },
  {
   "cell_type": "code",
   "execution_count": 23,
   "metadata": {
    "colab": {
     "base_uri": "https://localhost:8080/",
     "height": 34
    },
    "colab_type": "code",
    "executionInfo": {
     "elapsed": 897,
     "status": "ok",
     "timestamp": 1550745908881,
     "user": {
      "displayName": "최선열",
      "photoUrl": "",
      "userId": "00663027191814710813"
     },
     "user_tz": -540
    },
    "id": "S-Egw1fjjiAS",
    "outputId": "bcefc2e2-f0c0-458d-e814-7806da57f364"
   },
   "outputs": [
    {
     "data": {
      "text/plain": [
       "[1, 2, 3, 4, 5, 6, 7, 8, 9, 10]"
      ]
     },
     "execution_count": 23,
     "metadata": {},
     "output_type": "execute_result"
    }
   ],
   "source": [
    "lst1 = [1,2,3,4,5]\n",
    "lst2 = [6,7,8,9,10]\n",
    "lst1 + lst2 # List 합치기"
   ]
  },
  {
   "cell_type": "markdown",
   "metadata": {
    "colab_type": "text",
    "id": "JgVOLR6FjiAW"
   },
   "source": [
    "### (2) List 반복 (*)\n",
    "\n",
    "`*`, 곱하기 연산을 통해 List를 반복할 수 있습니다."
   ]
  },
  {
   "cell_type": "code",
   "execution_count": 24,
   "metadata": {
    "colab": {
     "base_uri": "https://localhost:8080/",
     "height": 34
    },
    "colab_type": "code",
    "executionInfo": {
     "elapsed": 561,
     "status": "ok",
     "timestamp": 1550745920135,
     "user": {
      "displayName": "최선열",
      "photoUrl": "",
      "userId": "00663027191814710813"
     },
     "user_tz": -540
    },
    "id": "F6Nr4xxVjiAX",
    "outputId": "e392619f-5124-4fd8-d2ee-636559fd2b08"
   },
   "outputs": [
    {
     "data": {
      "text/plain": [
       "[1, 2, 3, 4, 5, 1, 2, 3, 4, 5, 1, 2, 3, 4, 5]"
      ]
     },
     "execution_count": 24,
     "metadata": {},
     "output_type": "execute_result"
    }
   ],
   "source": [
    "lst1 * 3 # List 반복"
   ]
  },
  {
   "cell_type": "markdown",
   "metadata": {
    "colab_type": "text",
    "id": "O2TjhcJXjiAa"
   },
   "source": [
    "### (3) 두 List를 교차하기"
   ]
  },
  {
   "cell_type": "code",
   "execution_count": 25,
   "metadata": {
    "colab": {
     "base_uri": "https://localhost:8080/",
     "height": 34
    },
    "colab_type": "code",
    "executionInfo": {
     "elapsed": 639,
     "status": "ok",
     "timestamp": 1550745927966,
     "user": {
      "displayName": "최선열",
      "photoUrl": "",
      "userId": "00663027191814710813"
     },
     "user_tz": -540
    },
    "id": "GG1aTJ1ZjiAa",
    "outputId": "d3f442fa-295a-4b53-db0f-f453e1ffbcb7"
   },
   "outputs": [
    {
     "data": {
      "text/plain": [
       "[(1, 'a'), (2, 'b'), (3, 'c'), (4, 'd'), (5, 'e')]"
      ]
     },
     "execution_count": 25,
     "metadata": {},
     "output_type": "execute_result"
    }
   ],
   "source": [
    "lst1 = [1,2,3,4,5]\n",
    "lst2 = [\"a\",\"b\",\"c\",\"d\",\"e\"]\n",
    "\n",
    "# list(zip(lst1,lst2))를 하면, \n",
    "# 두 List가 교차로 들어가게 됩니다.\n",
    "list(zip(lst1,lst2)) "
   ]
  },
  {
   "cell_type": "markdown",
   "metadata": {
    "colab_type": "text",
    "id": "X5IVPTZbjiAd"
   },
   "source": [
    "\n",
    "# \\[ 2. Tuple \\]\n",
    "\n",
    "---\n",
    "\n",
    "---\n",
    "\n",
    "> *tuple(튜플)은 List와 비슷하지만, 한 번 생성하면 값을 변경할 수 없는 객체의 집합입니다.*\n",
    "    "
   ]
  },
  {
   "cell_type": "markdown",
   "metadata": {
    "colab_type": "text",
    "id": "RSwiIbB0px9u"
   },
   "source": [
    "## 1.Tuple의 생성과 원소\n",
    "---\n",
    "<i> </i>"
   ]
  },
  {
   "cell_type": "markdown",
   "metadata": {
    "colab_type": "text",
    "id": "MCMFFUZ7jiAe"
   },
   "source": [
    "### (1) Tuple의 생성\n",
    "\n",
    "list와 비슷한 방식으로 동작합니다."
   ]
  },
  {
   "cell_type": "code",
   "execution_count": 26,
   "metadata": {
    "colab": {},
    "colab_type": "code",
    "id": "sgmAIck_jiAg",
    "outputId": "0ca1395b-5704-4989-99b3-44b0c74dabee"
   },
   "outputs": [
    {
     "data": {
      "text/plain": [
       "()"
      ]
     },
     "execution_count": 26,
     "metadata": {},
     "output_type": "execute_result"
    }
   ],
   "source": [
    "# 비어있는 Tuple를 생성합니다.\n",
    "tpl = ()\n",
    "tpl = tuple()\n",
    "tpl"
   ]
  },
  {
   "cell_type": "code",
   "execution_count": 27,
   "metadata": {
    "colab": {},
    "colab_type": "code",
    "id": "NYLDQJ3ejiAj",
    "outputId": "0142eebe-2e97-423b-da06-913ba75d690d"
   },
   "outputs": [
    {
     "data": {
      "text/plain": [
       "(1, 2, 3, 4, 5)"
      ]
     },
     "execution_count": 27,
     "metadata": {},
     "output_type": "execute_result"
    }
   ],
   "source": [
    "# 여러개의 숫자들을 저장합니다.\n",
    "tpl = (1,2,3,4,5)\n",
    "tpl"
   ]
  },
  {
   "cell_type": "code",
   "execution_count": 28,
   "metadata": {
    "colab": {},
    "colab_type": "code",
    "id": "XWvSi-USjiAl",
    "outputId": "74bae380-90c2-4d2f-e0fb-3ba079d65404"
   },
   "outputs": [
    {
     "data": {
      "text/plain": [
       "(1, 2, 3, 5.5, 'str1')"
      ]
     },
     "execution_count": 28,
     "metadata": {},
     "output_type": "execute_result"
    }
   ],
   "source": [
    "# 정수 이외의 실수나 text도 담을 수 있습니다.\n",
    "tpl = (1,2,3,5.5,\"str1\")\n",
    "tpl"
   ]
  },
  {
   "cell_type": "code",
   "execution_count": 29,
   "metadata": {
    "colab": {},
    "colab_type": "code",
    "id": "N0YtV0MqjiAp",
    "outputId": "02fe86e8-7a4d-412a-bba6-8f155bbd250d"
   },
   "outputs": [
    {
     "data": {
      "text/plain": [
       "[1, 2, 3, 4, (1, 2, 3, 5.5, 'str1')]"
      ]
     },
     "execution_count": 29,
     "metadata": {},
     "output_type": "execute_result"
    }
   ],
   "source": [
    "# tuple 내에 tuple, 리스트 또는 변수를 담을 수 있습니다.\n",
    "var_1 = 1\n",
    "tpl_1 = [var_1, 2,3,4, tpl]\n",
    "tpl_1"
   ]
  },
  {
   "cell_type": "markdown",
   "metadata": {
    "colab_type": "text",
    "id": "qq0MrpV2jiAs"
   },
   "source": [
    "### (2) Tuple에서 값 얻기\n",
    "list와 동일한 형태로, Tuple 뒤의 대괄호에 index를 넣어 값을 얻습니다."
   ]
  },
  {
   "cell_type": "code",
   "execution_count": 30,
   "metadata": {
    "colab": {},
    "colab_type": "code",
    "id": "qc4_a4BDjiAt"
   },
   "outputs": [],
   "source": [
    "tpl = (1,2,3,4,5)"
   ]
  },
  {
   "cell_type": "code",
   "execution_count": 31,
   "metadata": {
    "colab": {},
    "colab_type": "code",
    "id": "Pe8AHgSkjiAv",
    "outputId": "bf6399e1-10bb-4533-8b3a-04e23a2e8e4b"
   },
   "outputs": [
    {
     "data": {
      "text/plain": [
       "3"
      ]
     },
     "execution_count": 31,
     "metadata": {},
     "output_type": "execute_result"
    }
   ],
   "source": [
    "# tuple의 2번째 index 값 가져오기\n",
    "# *주의 : python 에서 index는 0부터 시작합니다.\n",
    "element_1 = tpl[2]\n",
    "element_1"
   ]
  },
  {
   "cell_type": "code",
   "execution_count": 32,
   "metadata": {
    "colab": {},
    "colab_type": "code",
    "id": "GQX41TzxjiAy",
    "outputId": "43848bde-0e87-4a1d-b02f-4e1880199c6b"
   },
   "outputs": [
    {
     "data": {
      "text/plain": [
       "4"
      ]
     },
     "execution_count": 32,
     "metadata": {},
     "output_type": "execute_result"
    }
   ],
   "source": [
    "# tuple의 마지막 값 얻기\n",
    "# 마지막 index은 -1로, 역 순으로 -2, -3으로 진행합니다.\n",
    "element_4 = tpl[-2]\n",
    "element_4"
   ]
  },
  {
   "cell_type": "code",
   "execution_count": 33,
   "metadata": {
    "colab": {},
    "colab_type": "code",
    "id": "E6DwjyWPjiA7",
    "outputId": "fb5c20c7-cf8c-4192-d819-4633aab06429"
   },
   "outputs": [
    {
     "data": {
      "text/plain": [
       "(2, 3, 4)"
      ]
     },
     "execution_count": 33,
     "metadata": {},
     "output_type": "execute_result"
    }
   ],
   "source": [
    "# tuple의 범위 지정\n",
    "# 1번째 이상 4번째 미만 값을 가져오기 위해서는 :을 이용합니다.\n",
    "element_2 = tpl[1:4]\n",
    "element_2"
   ]
  },
  {
   "cell_type": "code",
   "execution_count": 34,
   "metadata": {
    "colab": {},
    "colab_type": "code",
    "id": "H2aPV0i_jiBC",
    "outputId": "806dd40b-6b8c-4242-bd32-caa1b784ca47"
   },
   "outputs": [
    {
     "data": {
      "text/plain": [
       "(4, 5)"
      ]
     },
     "execution_count": 34,
     "metadata": {},
     "output_type": "execute_result"
    }
   ],
   "source": [
    "# tuple의 세번째 이후 값 얻기\n",
    "element_3 = tpl[3:]\n",
    "element_3"
   ]
  },
  {
   "cell_type": "code",
   "execution_count": 35,
   "metadata": {
    "colab": {},
    "colab_type": "code",
    "id": "XvkUm5THjiBI",
    "outputId": "a01db7ed-02b2-4508-ddd7-eeb13ffedaf7"
   },
   "outputs": [
    {
     "data": {
      "text/plain": [
       "(1, 3, 5)"
      ]
     },
     "execution_count": 35,
     "metadata": {},
     "output_type": "execute_result"
    }
   ],
   "source": [
    "# tuple의 범위에서 step 값을 주어 그 값만큼 건너뛰어 가져올 수 있습니다.\n",
    "element_5 = tpl[0:5:2]\n",
    "element_5"
   ]
  },
  {
   "cell_type": "code",
   "execution_count": 36,
   "metadata": {
    "colab": {},
    "colab_type": "code",
    "id": "so4Ml0pTjiBL",
    "outputId": "740ed3cc-bd89-4876-9140-c8c9e527c401"
   },
   "outputs": [
    {
     "data": {
      "text/plain": [
       "True"
      ]
     },
     "execution_count": 36,
     "metadata": {},
     "output_type": "execute_result"
    }
   ],
   "source": [
    "# tuple에 값이 있는지는 in 연산자를 통해 알 수 있습니다.\n",
    "1 in tpl"
   ]
  },
  {
   "cell_type": "markdown",
   "metadata": {},
   "source": [
    "* Tuple에서 값을 수정하면 아래와 같이 에러 메시지가 나타납니다."
   ]
  },
  {
   "cell_type": "code",
   "execution_count": 37,
   "metadata": {},
   "outputs": [
    {
     "ename": "TypeError",
     "evalue": "'tuple' object does not support item assignment",
     "output_type": "error",
     "traceback": [
      "\u001b[0;31m---------------------------------------------------------------------------\u001b[0m",
      "\u001b[0;31mTypeError\u001b[0m                                 Traceback (most recent call last)",
      "\u001b[0;32m<ipython-input-37-7c6e54e594b4>\u001b[0m in \u001b[0;36m<module>\u001b[0;34m\u001b[0m\n\u001b[1;32m      1\u001b[0m \u001b[0;31m# tpl의 세번째 값을 6으로 바꾸기\u001b[0m\u001b[0;34m\u001b[0m\u001b[0;34m\u001b[0m\u001b[0m\n\u001b[1;32m      2\u001b[0m \u001b[0mtpl\u001b[0m\u001b[0;34m=\u001b[0m \u001b[0;34m(\u001b[0m\u001b[0;36m1\u001b[0m\u001b[0;34m,\u001b[0m\u001b[0;36m2\u001b[0m\u001b[0;34m,\u001b[0m\u001b[0;36m3\u001b[0m\u001b[0;34m,\u001b[0m\u001b[0;36m4\u001b[0m\u001b[0;34m,\u001b[0m\u001b[0;36m5\u001b[0m\u001b[0;34m)\u001b[0m\u001b[0;34m\u001b[0m\u001b[0m\n\u001b[0;32m----> 3\u001b[0;31m \u001b[0mtpl\u001b[0m\u001b[0;34m[\u001b[0m\u001b[0;36m2\u001b[0m\u001b[0;34m]\u001b[0m \u001b[0;34m=\u001b[0m \u001b[0;36m6\u001b[0m\u001b[0;34m\u001b[0m\u001b[0m\n\u001b[0m",
      "\u001b[0;31mTypeError\u001b[0m: 'tuple' object does not support item assignment"
     ]
    }
   ],
   "source": [
    "# tpl의 세번째 값을 6으로 바꾸기\n",
    "tpl= (1,2,3,4,5)\n",
    "tpl[2] = 6\n"
   ]
  },
  {
   "cell_type": "markdown",
   "metadata": {
    "colab_type": "text",
    "id": "ikuyJLfdqaCN"
   },
   "source": [
    "## 2. Tuple의 연산\n",
    "---\n",
    "\n",
    "+ 튜플에도 숫자처럼 여러 연산을 적용할 수 있습니다."
   ]
  },
  {
   "cell_type": "markdown",
   "metadata": {
    "colab_type": "text",
    "id": "jQdrBJ9kjiBN"
   },
   "source": [
    "### (1) Tuple 더하기 (+)\n",
    "\n",
    "`+`, 더하기 연산을 통해 두 Tuple을 이을 수 있습니다."
   ]
  },
  {
   "cell_type": "code",
   "execution_count": 38,
   "metadata": {
    "colab": {
     "base_uri": "https://localhost:8080/",
     "height": 34
    },
    "colab_type": "code",
    "executionInfo": {
     "elapsed": 747,
     "status": "ok",
     "timestamp": 1550995699258,
     "user": {
      "displayName": "최선열",
      "photoUrl": "",
      "userId": "00663027191814710813"
     },
     "user_tz": -540
    },
    "id": "jJFG-vxejiBO",
    "outputId": "b44d2b72-fecd-4b35-f252-7d401f025d59"
   },
   "outputs": [
    {
     "data": {
      "text/plain": [
       "(1, 2, 3, 4, 5, 6, 7, 8, 9, 10)"
      ]
     },
     "execution_count": 38,
     "metadata": {},
     "output_type": "execute_result"
    }
   ],
   "source": [
    "tpl1 = (1,2,3,4,5)\n",
    "tpl2 = (6,7,8,9,10)\n",
    "tpl1 + tpl2 # Tuple 합치기"
   ]
  },
  {
   "cell_type": "markdown",
   "metadata": {
    "colab_type": "text",
    "id": "_I_rDJdcjiBR"
   },
   "source": [
    "List와 Tuple을 합칠 수는 없습니다."
   ]
  },
  {
   "cell_type": "code",
   "execution_count": 39,
   "metadata": {
    "colab": {
     "base_uri": "https://localhost:8080/",
     "height": 198
    },
    "colab_type": "code",
    "executionInfo": {
     "elapsed": 903,
     "status": "error",
     "timestamp": 1550995700015,
     "user": {
      "displayName": "최선열",
      "photoUrl": "",
      "userId": "00663027191814710813"
     },
     "user_tz": -540
    },
    "id": "rHiJeMU8jiBR",
    "outputId": "e69c0f50-93aa-4464-9487-00a5bb237deb"
   },
   "outputs": [
    {
     "ename": "TypeError",
     "evalue": "can only concatenate list (not \"tuple\") to list",
     "output_type": "error",
     "traceback": [
      "\u001b[0;31m---------------------------------------------------------------------------\u001b[0m",
      "\u001b[0;31mTypeError\u001b[0m                                 Traceback (most recent call last)",
      "\u001b[0;32m<ipython-input-39-9eede36eb104>\u001b[0m in \u001b[0;36m<module>\u001b[0;34m\u001b[0m\n\u001b[1;32m      1\u001b[0m \u001b[0mlst1\u001b[0m \u001b[0;34m=\u001b[0m \u001b[0;34m[\u001b[0m\u001b[0;36m1\u001b[0m\u001b[0;34m,\u001b[0m\u001b[0;36m2\u001b[0m\u001b[0;34m,\u001b[0m\u001b[0;36m3\u001b[0m\u001b[0;34m,\u001b[0m\u001b[0;36m4\u001b[0m\u001b[0;34m,\u001b[0m\u001b[0;36m5\u001b[0m\u001b[0;34m]\u001b[0m\u001b[0;34m\u001b[0m\u001b[0m\n\u001b[1;32m      2\u001b[0m \u001b[0mtpl2\u001b[0m \u001b[0;34m=\u001b[0m \u001b[0;34m(\u001b[0m\u001b[0;36m6\u001b[0m\u001b[0;34m,\u001b[0m\u001b[0;36m7\u001b[0m\u001b[0;34m,\u001b[0m\u001b[0;36m8\u001b[0m\u001b[0;34m,\u001b[0m\u001b[0;36m9\u001b[0m\u001b[0;34m,\u001b[0m\u001b[0;36m10\u001b[0m\u001b[0;34m)\u001b[0m\u001b[0;34m\u001b[0m\u001b[0m\n\u001b[0;32m----> 3\u001b[0;31m \u001b[0mlst1\u001b[0m \u001b[0;34m+\u001b[0m \u001b[0mtpl2\u001b[0m \u001b[0;31m# Tuple 합치기\u001b[0m\u001b[0;34m\u001b[0m\u001b[0m\n\u001b[0m",
      "\u001b[0;31mTypeError\u001b[0m: can only concatenate list (not \"tuple\") to list"
     ]
    }
   ],
   "source": [
    "lst1 = [1,2,3,4,5]\n",
    "tpl2 = (6,7,8,9,10)\n",
    "lst1 + tpl2 # Tuple 합치기"
   ]
  },
  {
   "cell_type": "markdown",
   "metadata": {
    "colab_type": "text",
    "id": "lMXUQ3scjiBV"
   },
   "source": [
    "### (2) Tuple 곱하기 (*)\n",
    "\n",
    "`*`, 곱하기 연산을 통해 Tuple을 반복할 수 있습니다."
   ]
  },
  {
   "cell_type": "code",
   "execution_count": 40,
   "metadata": {
    "colab": {
     "base_uri": "https://localhost:8080/",
     "height": 34
    },
    "colab_type": "code",
    "executionInfo": {
     "elapsed": 483,
     "status": "ok",
     "timestamp": 1550995700309,
     "user": {
      "displayName": "최선열",
      "photoUrl": "",
      "userId": "00663027191814710813"
     },
     "user_tz": -540
    },
    "id": "DeD5EG9RjiBW",
    "outputId": "01a1391f-5a66-4875-e694-d2501451279e"
   },
   "outputs": [
    {
     "data": {
      "text/plain": [
       "(1, 2, 3, 4, 5, 1, 2, 3, 4, 5, 1, 2, 3, 4, 5)"
      ]
     },
     "execution_count": 40,
     "metadata": {},
     "output_type": "execute_result"
    }
   ],
   "source": [
    "tpl1 * 3 # Tuple 반복"
   ]
  },
  {
   "cell_type": "markdown",
   "metadata": {
    "colab_type": "text",
    "id": "ZdrjqjhajiBZ"
   },
   "source": [
    "### (3) 두 튜플을 교차하기"
   ]
  },
  {
   "cell_type": "code",
   "execution_count": 41,
   "metadata": {
    "colab": {},
    "colab_type": "code",
    "id": "3qRsqE3AjiBZ",
    "outputId": "313c8303-c267-4113-debf-505e834a5b26"
   },
   "outputs": [
    {
     "data": {
      "text/plain": [
       "[(1, 'a'), (2, 'b'), (3, 'c'), (4, 'd'), (5, 'e')]"
      ]
     },
     "execution_count": 41,
     "metadata": {},
     "output_type": "execute_result"
    }
   ],
   "source": [
    "tpl1 = (1,2,3,4,5)\n",
    "tpl2 = (\"a\",\"b\",\"c\",\"d\",\"e\")\n",
    "\n",
    "list(zip(tpl1,tpl2)) # list와 마찬가지로 교차해서 들어갑니다.\n"
   ]
  },
  {
   "cell_type": "markdown",
   "metadata": {
    "colab_type": "text",
    "id": "X2iku7rvjiBb"
   },
   "source": [
    "\n",
    "# \\[ 3. 기본 자료구조를 다루기 위한 함수들 \\]\n",
    "\n",
    "---\n",
    "\n",
    "---\n",
    "> *Python에서는 위의 자료 구조를 보다 잘 다루기 위해서 자료구조의 크기를 재는 `len` 함수와 자료구조를 정렬하는 `sorted` 함수를 제공한다.*\n",
    "    "
   ]
  },
  {
   "cell_type": "markdown",
   "metadata": {
    "colab_type": "text",
    "id": "4oU19s2agrJx"
   },
   "source": [
    "## 1. len 함수와 sorted 함수\n",
    "\n",
    "---"
   ]
  },
  {
   "cell_type": "markdown",
   "metadata": {
    "colab_type": "text",
    "id": "9K-Vzw7NjiBd"
   },
   "source": [
    "### (1) len으로 크기 재기\n",
    "\n",
    "리스트와 튜플 내에 있는 원소들의 수를 반환합니다"
   ]
  },
  {
   "cell_type": "code",
   "execution_count": 42,
   "metadata": {
    "colab": {},
    "colab_type": "code",
    "id": "9TWLamzbjiBd",
    "outputId": "380034d5-a7a0-4f67-ec6c-85954cc7618b"
   },
   "outputs": [
    {
     "data": {
      "text/plain": [
       "5"
      ]
     },
     "execution_count": 42,
     "metadata": {},
     "output_type": "execute_result"
    }
   ],
   "source": [
    "lst = [1,2,3,4,5]\n",
    "len(lst)"
   ]
  },
  {
   "cell_type": "code",
   "execution_count": 43,
   "metadata": {
    "colab": {},
    "colab_type": "code",
    "id": "Fjx7153cjiBe",
    "outputId": "d38de9f9-532f-46ea-c64b-6ca8c7042b84"
   },
   "outputs": [
    {
     "data": {
      "text/plain": [
       "5"
      ]
     },
     "execution_count": 43,
     "metadata": {},
     "output_type": "execute_result"
    }
   ],
   "source": [
    "tpl = (1,2,3,4,5)\n",
    "len(tpl)"
   ]
  },
  {
   "cell_type": "markdown",
   "metadata": {
    "colab_type": "text",
    "id": "MxdmKAgajiBh"
   },
   "source": [
    "### (2) sorted로 정렬하기\n",
    "\n",
    "List와 Tuple은 sorted를 통해 정렬할 수 있습니다."
   ]
  },
  {
   "cell_type": "code",
   "execution_count": 44,
   "metadata": {
    "colab": {},
    "colab_type": "code",
    "id": "viHkwWTHjiBi",
    "outputId": "4a7f3060-4794-46b3-fd8d-969399a0b67f"
   },
   "outputs": [
    {
     "data": {
      "text/plain": [
       "[1, 2, 3, 4, 5]"
      ]
     },
     "execution_count": 44,
     "metadata": {},
     "output_type": "execute_result"
    }
   ],
   "source": [
    "lst = [1,3,2,4,5]\n",
    "sorted(lst) # 기본적으로 오름차순으로 정렬합니다."
   ]
  },
  {
   "cell_type": "code",
   "execution_count": 45,
   "metadata": {
    "colab": {
     "base_uri": "https://localhost:8080/",
     "height": 34
    },
    "colab_type": "code",
    "executionInfo": {
     "elapsed": 596,
     "status": "ok",
     "timestamp": 1550746180193,
     "user": {
      "displayName": "최선열",
      "photoUrl": "",
      "userId": "00663027191814710813"
     },
     "user_tz": -540
    },
    "id": "crHIItjijiBk",
    "outputId": "5230d952-5d35-48f2-8a10-4424eb4bd849"
   },
   "outputs": [
    {
     "data": {
      "text/plain": [
       "[1, 2, 3, 4, 5]"
      ]
     },
     "execution_count": 45,
     "metadata": {},
     "output_type": "execute_result"
    }
   ],
   "source": [
    "tpl = (1,2,3,4,5)\n",
    "sorted(tpl) # 반환은 List 타입으로 나오게 됩니다."
   ]
  },
  {
   "cell_type": "code",
   "execution_count": 46,
   "metadata": {
    "colab": {},
    "colab_type": "code",
    "id": "V2h3lsyGjiBn",
    "outputId": "051b1050-f337-491a-ebf3-b24077342e2a"
   },
   "outputs": [
    {
     "data": {
      "text/plain": [
       "[5, 4, 3, 2, 1]"
      ]
     },
     "execution_count": 46,
     "metadata": {},
     "output_type": "execute_result"
    }
   ],
   "source": [
    "sorted(lst,reverse=True) # reverse=True하면 내림차순으로 정렬합니다."
   ]
  },
  {
   "cell_type": "markdown",
   "metadata": {
    "colab_type": "text",
    "id": "o-Pyw50JjiBp"
   },
   "source": [
    "#  \n",
    "\n",
    "---\n",
    "\n",
    "    Copyright(c) 2019 by Public AI. All rights reserved.\n",
    "    Writen by PAI, SeonYoul Choi ( Best10@publicai.co.kr )  last updated on 2019/02/24\n",
    "\n",
    "---"
   ]
  }
 ],
 "metadata": {
  "colab": {
   "collapsed_sections": [
    "cfL3qccYjh-6",
    "bqGuQhskjh_L",
    "Cv92CuJwjh_t",
    "9d1n-Bhfjh_5",
    "C7RSOSW7jiAF",
    "sFcHvi_wjiAS",
    "JgVOLR6FjiAW",
    "O2TjhcJXjiAa",
    "MCMFFUZ7jiAe",
    "qq0MrpV2jiAs",
    "jQdrBJ9kjiBN",
    "lMXUQ3scjiBV",
    "ZdrjqjhajiBZ",
    "9K-Vzw7NjiBd",
    "MxdmKAgajiBh"
   ],
   "name": "3_Python의 자료구조(1) List와 Tuple.ipynb",
   "provenance": [],
   "toc_visible": true,
   "version": "0.3.2"
  },
  "kernelspec": {
   "display_name": "Python 3",
   "language": "python",
   "name": "python3"
  },
  "language_info": {
   "codemirror_mode": {
    "name": "ipython",
    "version": 3
   },
   "file_extension": ".py",
   "mimetype": "text/x-python",
   "name": "python",
   "nbconvert_exporter": "python",
   "pygments_lexer": "ipython3",
   "version": "3.6.5"
  }
 },
 "nbformat": 4,
 "nbformat_minor": 1
}
