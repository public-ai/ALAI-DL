{
 "cells": [
  {
   "cell_type": "markdown",
   "metadata": {
    "colab_type": "text",
    "id": "7bxgJleAF7L6"
   },
   "source": [
    " ┏━━<i><b>Alai-DeepLearning</b></i>━━━━━━━━━━━━━━━━━━━━━━━━━━━━━━━━━━┓\n",
    "###  &nbsp;&nbsp; **✎&nbsp;&nbsp;Week1. Python의 기초 문법**\n",
    "# Section 2. Python의 변수와 연산\n",
    "\n",
    "### _Objective_\n",
    "1. 변수를 만들고, 저장하는 방법을 배웁니다. <br>\n",
    "2. Python으로, 숫자를 계산하는 방법을 배웁니다.<br>\n",
    "\n",
    "┗━━━━━━━━━━━━━━━━━━━━━━━━━━━━━━━━━━━━━━━━━━━━━━━━┛"
   ]
  },
  {
   "cell_type": "markdown",
   "metadata": {
    "colab_type": "text",
    "id": "nMFEI34vF7L9"
   },
   "source": [
    "\n",
    "# \\[ 1. Python의 변수 \\]\n",
    "\n",
    "---\n",
    "\n",
    "---\n",
    "> *Python에서 Data를 담는 \"변수\" 라는 개념에 대해서 배워보겠습니다.*"
   ]
  },
  {
   "cell_type": "markdown",
   "metadata": {
    "colab_type": "text",
    "id": "RURMh7c3F7L9"
   },
   "source": [
    "## 1. 변수는 무엇인가.\n",
    "<hr>\n",
    "+ 변수는 데이터를 담는 공간입니다.\n"
   ]
  },
  {
   "cell_type": "markdown",
   "metadata": {
    "colab_type": "text",
    "id": "Ogrrzdw8F7L-"
   },
   "source": [
    "### (1) 변수에 값을 저장하기\n"
   ]
  },
  {
   "cell_type": "code",
   "execution_count": 1,
   "metadata": {
    "colab": {},
    "colab_type": "code",
    "id": "eKL9Sg3eF7MA"
   },
   "outputs": [],
   "source": [
    "a = True # Boolean 형(참 거짓)\n",
    "x = 1 # 정수형\n",
    "y = 1.2 # 실수형\n",
    "z = \"string\" # 문자열형\n",
    "\n",
    "lst = [1,2,3,4,\"a\",\"b\",\"c\",\"d\"] # list 형"
   ]
  },
  {
   "cell_type": "code",
   "execution_count": 2,
   "metadata": {
    "colab": {},
    "colab_type": "code",
    "id": "cnuLAcLtF7MF"
   },
   "outputs": [],
   "source": [
    "# 1을 담았던 x에 다른 값을 덮어 씌울 수 있습니다.\n",
    "x = \"hello python\""
   ]
  },
  {
   "cell_type": "code",
   "execution_count": 3,
   "metadata": {
    "colab": {},
    "colab_type": "code",
    "id": "_xFi-9QgF7MI"
   },
   "outputs": [],
   "source": [
    "# 문자와 숫자\n",
    "hello1 = \"Hello Python\"\n",
    "\n",
    "# 띄어쓰기 대신 _로 구성할 수 있습니다. \n",
    "greet_person = \"안녕하세요 여러분!\" "
   ]
  },
  {
   "cell_type": "code",
   "execution_count": 4,
   "metadata": {
    "colab": {
     "base_uri": "https://localhost:8080/",
     "height": 130
    },
    "colab_type": "code",
    "executionInfo": {
     "elapsed": 570,
     "status": "error",
     "timestamp": 1550737156018,
     "user": {
      "displayName": "최선열",
      "photoUrl": "",
      "userId": "00663027191814710813"
     },
     "user_tz": -540
    },
    "id": "vIUbcWiKF7ML",
    "outputId": "0b984f92-29af-43f3-c513-9249013123ed"
   },
   "outputs": [
    {
     "ename": "SyntaxError",
     "evalue": "invalid syntax (<ipython-input-4-74d649411d77>, line 2)",
     "output_type": "error",
     "traceback": [
      "\u001b[0;36m  File \u001b[0;32m\"<ipython-input-4-74d649411d77>\"\u001b[0;36m, line \u001b[0;32m2\u001b[0m\n\u001b[0;31m    1hello = \"Hello Python\"\u001b[0m\n\u001b[0m         ^\u001b[0m\n\u001b[0;31mSyntaxError\u001b[0m\u001b[0;31m:\u001b[0m invalid syntax\n"
     ]
    }
   ],
   "source": [
    "# 예외적으로 변수의 이름에 숫자가 먼저 나올 수는 없습니다.\n",
    "1hello = \"Hello Python\" "
   ]
  },
  {
   "cell_type": "markdown",
   "metadata": {
    "colab_type": "text",
    "id": "oHX7y_zWF7MP"
   },
   "source": [
    "### (2) 변수에 변수를 저장하기\n",
    "변수에 변수를 대입하게 되면, 오른쪽의 변수가 지칭하고 있는 값을 왼쪽의 변수가 같이 지칭하게 됩니다."
   ]
  },
  {
   "cell_type": "code",
   "execution_count": 5,
   "metadata": {
    "colab": {},
    "colab_type": "code",
    "id": "1LS7iR23F7MR",
    "outputId": "f7cc08eb-65f8-4ac7-9863-5153fc7e15b8"
   },
   "outputs": [
    {
     "name": "stdout",
     "output_type": "stream",
     "text": [
      "Before x = y\n",
      "x :  1\n",
      "y :  1.5\n"
     ]
    }
   ],
   "source": [
    "# y에 있었던 값을 x에 담을 수 있습니다.\n",
    "x = 1\n",
    "y = 1.5\n",
    "\n",
    "print(\"Before x = y\")\n",
    "print(\"x : \", x)\n",
    "print(\"y : \", y)"
   ]
  },
  {
   "cell_type": "code",
   "execution_count": 6,
   "metadata": {
    "colab": {},
    "colab_type": "code",
    "id": "K_mcsnG1F7MW",
    "outputId": "c4db2400-ee01-4275-e59f-4b15bf62a0eb"
   },
   "outputs": [
    {
     "name": "stdout",
     "output_type": "stream",
     "text": [
      "After x = y\n",
      "x :  1.5\n",
      "y :  1.5\n"
     ]
    }
   ],
   "source": [
    "x = y\n",
    "\n",
    "print(\"After x = y\")\n",
    "print(\"x : \",x)\n",
    "print(\"y : \",y)"
   ]
  },
  {
   "cell_type": "markdown",
   "metadata": {
    "colab_type": "text",
    "id": "8SO3JN_zF7Ma"
   },
   "source": [
    "### (3) 변수에 결과를 저장하기"
   ]
  },
  {
   "cell_type": "code",
   "execution_count": 7,
   "metadata": {
    "colab": {},
    "colab_type": "code",
    "id": "Szt_qp64F7Mb",
    "outputId": "17867b2a-4a9f-41d4-f038-96053049e3a4"
   },
   "outputs": [
    {
     "data": {
      "text/plain": [
       "3"
      ]
     },
     "execution_count": 7,
     "metadata": {},
     "output_type": "execute_result"
    }
   ],
   "source": [
    "# x에 1과 2를 더한 값을 저장할 수 있습니다.\n",
    "x = 1 + 2\n",
    "x"
   ]
  },
  {
   "cell_type": "markdown",
   "metadata": {
    "colab_type": "text",
    "id": "JbzIeBo7F7Me"
   },
   "source": [
    "# \\[ 2. Python에서의 연산 \\]\n",
    "\n",
    "___\n",
    "\n",
    "___\n",
    "\n",
    "> *Python에서 나오는 다양한 연산자(+,-,*,/,//,**)에 대해 배워봅시다.*<br>\n",
    "> *숫자인지, 참거짓 형인지, 문자열인지에 따라 연산자가 따로 구현이 되어 있습니다.*<br>\n",
    "> *각각 나눠서 알아봅시다.*"
   ]
  },
  {
   "cell_type": "markdown",
   "metadata": {
    "colab_type": "text",
    "id": "8mLoBjqCF7Me"
   },
   "source": [
    "## 1. 정수/실수의 연산자들\n",
    "<hr>"
   ]
  },
  {
   "cell_type": "markdown",
   "metadata": {
    "colab_type": "text",
    "id": "xtKhM9-9F7Mg"
   },
   "source": [
    "### (1) 더하기 "
   ]
  },
  {
   "cell_type": "code",
   "execution_count": 8,
   "metadata": {
    "colab": {},
    "colab_type": "code",
    "id": "4cegFAIrF7Mg",
    "outputId": "edadd77f-2a67-40db-bd83-7733e2bdae7e"
   },
   "outputs": [
    {
     "data": {
      "text/plain": [
       "3"
      ]
     },
     "execution_count": 8,
     "metadata": {},
     "output_type": "execute_result"
    }
   ],
   "source": [
    "1 + 2"
   ]
  },
  {
   "cell_type": "code",
   "execution_count": 9,
   "metadata": {
    "colab": {},
    "colab_type": "code",
    "id": "9Ebi4deTF7Mj",
    "outputId": "c4973b6f-9bfa-410d-d7f7-6043eaca5889"
   },
   "outputs": [
    {
     "data": {
      "text/plain": [
       "2.2"
      ]
     },
     "execution_count": 9,
     "metadata": {},
     "output_type": "execute_result"
    }
   ],
   "source": [
    "# 정수형과 실수형을 연산하면, \n",
    "# 실수형으로 결과값이 나타납니다.\n",
    "1 + 1.2 "
   ]
  },
  {
   "cell_type": "code",
   "execution_count": 10,
   "metadata": {
    "colab": {},
    "colab_type": "code",
    "id": "Y-cexNCyF7Mm",
    "outputId": "655da674-65fd-4fcd-e763-0b549ff77aff"
   },
   "outputs": [
    {
     "data": {
      "text/plain": [
       "3.5999999999999996"
      ]
     },
     "execution_count": 10,
     "metadata": {},
     "output_type": "execute_result"
    }
   ],
   "source": [
    "# 실수형의 경우에는 컴퓨터의 부동소수점 방식으로 인해, \n",
    "# 약간의 오차가 발생합니다.\n",
    "1.2 + 2.4 "
   ]
  },
  {
   "cell_type": "markdown",
   "metadata": {
    "colab_type": "text",
    "id": "ok6GtGgzF7Mt"
   },
   "source": [
    "### (2)  빼기"
   ]
  },
  {
   "cell_type": "code",
   "execution_count": 11,
   "metadata": {
    "colab": {},
    "colab_type": "code",
    "id": "Hnk65HGUF7Mv",
    "outputId": "b5d29bf1-570c-4346-9642-b706b9e15f66"
   },
   "outputs": [
    {
     "data": {
      "text/plain": [
       "1"
      ]
     },
     "execution_count": 11,
     "metadata": {},
     "output_type": "execute_result"
    }
   ],
   "source": [
    "3 - 2 "
   ]
  },
  {
   "cell_type": "code",
   "execution_count": 12,
   "metadata": {
    "colab": {},
    "colab_type": "code",
    "id": "Mj9MUeU1F7M2",
    "outputId": "2761e4fc-fa7b-4c5c-e735-a11453e2c6a2"
   },
   "outputs": [
    {
     "data": {
      "text/plain": [
       "1.6"
      ]
     },
     "execution_count": 12,
     "metadata": {},
     "output_type": "execute_result"
    }
   ],
   "source": [
    "3 - 1.4"
   ]
  },
  {
   "cell_type": "code",
   "execution_count": 13,
   "metadata": {
    "colab": {},
    "colab_type": "code",
    "id": "z5LpS5rhF7M8",
    "outputId": "e65b103f-c3c0-4911-a909-f636a696beac"
   },
   "outputs": [
    {
     "data": {
      "text/plain": [
       "1.8000000000000003"
      ]
     },
     "execution_count": 13,
     "metadata": {},
     "output_type": "execute_result"
    }
   ],
   "source": [
    "3.2 - 1.4"
   ]
  },
  {
   "cell_type": "markdown",
   "metadata": {
    "colab_type": "text",
    "id": "_LYX9p_gF7NC"
   },
   "source": [
    "### (3) 곱하기"
   ]
  },
  {
   "cell_type": "code",
   "execution_count": 14,
   "metadata": {
    "colab": {},
    "colab_type": "code",
    "id": "Gz4C0HdFF7ND",
    "outputId": "6f2963de-b419-4560-8af4-1cd9f9584331"
   },
   "outputs": [
    {
     "data": {
      "text/plain": [
       "6"
      ]
     },
     "execution_count": 14,
     "metadata": {},
     "output_type": "execute_result"
    }
   ],
   "source": [
    "3 * 2"
   ]
  },
  {
   "cell_type": "code",
   "execution_count": 15,
   "metadata": {
    "colab": {},
    "colab_type": "code",
    "id": "ptZYAFp6F7NH",
    "outputId": "cca20d35-7fc4-4af8-8d27-c3f59bb869ad"
   },
   "outputs": [
    {
     "data": {
      "text/plain": [
       "6.4"
      ]
     },
     "execution_count": 15,
     "metadata": {},
     "output_type": "execute_result"
    }
   ],
   "source": [
    "3.2 * 2"
   ]
  },
  {
   "cell_type": "code",
   "execution_count": 16,
   "metadata": {
    "colab": {},
    "colab_type": "code",
    "id": "PFFhIUnxF7NK",
    "outputId": "762bba54-2075-4424-e1f0-131007a2c86f"
   },
   "outputs": [
    {
     "data": {
      "text/plain": [
       "6.720000000000001"
      ]
     },
     "execution_count": 16,
     "metadata": {},
     "output_type": "execute_result"
    }
   ],
   "source": [
    "3.2 * 2.1"
   ]
  },
  {
   "cell_type": "markdown",
   "metadata": {
    "colab_type": "text",
    "id": "zD6wCrC1F7NN"
   },
   "source": [
    "### (4) 나누기"
   ]
  },
  {
   "cell_type": "code",
   "execution_count": 17,
   "metadata": {
    "colab": {},
    "colab_type": "code",
    "id": "NqGCKgf2F7NO",
    "outputId": "a58eaf59-71d8-424d-b60a-6bb58ab7a4aa"
   },
   "outputs": [
    {
     "data": {
      "text/plain": [
       "2.0"
      ]
     },
     "execution_count": 17,
     "metadata": {},
     "output_type": "execute_result"
    }
   ],
   "source": [
    "4 / 2 # 나누기를 할 경우 자동으로 실수형으로 형 변환 됩니다."
   ]
  },
  {
   "cell_type": "code",
   "execution_count": 18,
   "metadata": {
    "colab": {},
    "colab_type": "code",
    "id": "0xBVOfP3F7NS",
    "outputId": "05ad4a2c-2b9a-44f1-d54e-9c9d8ad6ef1e"
   },
   "outputs": [
    {
     "data": {
      "text/plain": [
       "2.0"
      ]
     },
     "execution_count": 18,
     "metadata": {},
     "output_type": "execute_result"
    }
   ],
   "source": [
    "4.2 / 2.1"
   ]
  },
  {
   "cell_type": "code",
   "execution_count": 19,
   "metadata": {
    "colab": {},
    "colab_type": "code",
    "id": "Bpckh74YF7NV",
    "outputId": "6f1a7a27-a96b-4f74-d06e-c58ba050dc0d"
   },
   "outputs": [
    {
     "ename": "ZeroDivisionError",
     "evalue": "float division by zero",
     "output_type": "error",
     "traceback": [
      "\u001b[0;31m---------------------------------------------------------------------------\u001b[0m",
      "\u001b[0;31mZeroDivisionError\u001b[0m                         Traceback (most recent call last)",
      "\u001b[0;32m<ipython-input-19-660f38a51271>\u001b[0m in \u001b[0;36m<module>\u001b[0;34m\u001b[0m\n\u001b[0;32m----> 1\u001b[0;31m \u001b[0;36m4.2\u001b[0m \u001b[0;34m/\u001b[0m \u001b[0;36m0\u001b[0m \u001b[0;31m# 0으로 나누기를 시도할 경우, zeroDivisionError로 에러가 발생합니다.\u001b[0m\u001b[0;34m\u001b[0m\u001b[0m\n\u001b[0m",
      "\u001b[0;31mZeroDivisionError\u001b[0m: float division by zero"
     ]
    }
   ],
   "source": [
    "4.2 / 0 # 0으로 나누기를 시도할 경우, zeroDivisionError로 에러가 발생합니다."
   ]
  },
  {
   "cell_type": "markdown",
   "metadata": {
    "colab_type": "text",
    "id": "fMRVmGMlF7NY"
   },
   "source": [
    "### (5) 몫"
   ]
  },
  {
   "cell_type": "code",
   "execution_count": 20,
   "metadata": {
    "colab": {},
    "colab_type": "code",
    "id": "cexpcPmiF7NY",
    "outputId": "61b86700-d07d-463b-a8a5-1f37d2663b98"
   },
   "outputs": [
    {
     "data": {
      "text/plain": [
       "2"
      ]
     },
     "execution_count": 20,
     "metadata": {},
     "output_type": "execute_result"
    }
   ],
   "source": [
    "5 // 2 # 나누기의 몫 부분을 반환합니다."
   ]
  },
  {
   "cell_type": "markdown",
   "metadata": {
    "colab_type": "text",
    "id": "g7IXuy0XF7Nc"
   },
   "source": [
    "### (6) 나머지 "
   ]
  },
  {
   "cell_type": "code",
   "execution_count": 21,
   "metadata": {
    "colab": {},
    "colab_type": "code",
    "id": "SNoxYDsZF7Nc",
    "outputId": "cb3c9f2c-d5a3-4839-9e3d-78ab268d4c83"
   },
   "outputs": [
    {
     "data": {
      "text/plain": [
       "1"
      ]
     },
     "execution_count": 21,
     "metadata": {},
     "output_type": "execute_result"
    }
   ],
   "source": [
    "5 % 2"
   ]
  },
  {
   "cell_type": "markdown",
   "metadata": {
    "colab_type": "text",
    "id": "RiUBl_BGF7Ng"
   },
   "source": [
    "### (7) 지수\n",
    "\n",
    "$3**2 = 3^2$"
   ]
  },
  {
   "cell_type": "code",
   "execution_count": 22,
   "metadata": {
    "colab": {
     "base_uri": "https://localhost:8080/",
     "height": 34
    },
    "colab_type": "code",
    "executionInfo": {
     "elapsed": 701,
     "status": "ok",
     "timestamp": 1550737468521,
     "user": {
      "displayName": "최선열",
      "photoUrl": "",
      "userId": "00663027191814710813"
     },
     "user_tz": -540
    },
    "id": "Dgro0GgeF7Nh",
    "outputId": "ab77c0de-4139-47bf-ca0a-5e45ec82f24d"
   },
   "outputs": [
    {
     "data": {
      "text/plain": [
       "9"
      ]
     },
     "execution_count": 22,
     "metadata": {},
     "output_type": "execute_result"
    }
   ],
   "source": [
    "3 ** 2"
   ]
  },
  {
   "cell_type": "code",
   "execution_count": 23,
   "metadata": {
    "colab": {
     "base_uri": "https://localhost:8080/",
     "height": 34
    },
    "colab_type": "code",
    "executionInfo": {
     "elapsed": 433,
     "status": "ok",
     "timestamp": 1550737468523,
     "user": {
      "displayName": "최선열",
      "photoUrl": "",
      "userId": "00663027191814710813"
     },
     "user_tz": -540
    },
    "id": "gGjCqic5F7Nm",
    "outputId": "89c9ac61-61ec-4d26-f544-8a48c488da94"
   },
   "outputs": [
    {
     "data": {
      "text/plain": [
       "10.04510856630514"
      ]
     },
     "execution_count": 23,
     "metadata": {},
     "output_type": "execute_result"
    }
   ],
   "source": [
    "3 ** 2.1"
   ]
  },
  {
   "cell_type": "code",
   "execution_count": 24,
   "metadata": {
    "colab": {
     "base_uri": "https://localhost:8080/",
     "height": 34
    },
    "colab_type": "code",
    "executionInfo": {
     "elapsed": 1077,
     "status": "ok",
     "timestamp": 1550737469737,
     "user": {
      "displayName": "최선열",
      "photoUrl": "",
      "userId": "00663027191814710813"
     },
     "user_tz": -540
    },
    "id": "M1m5R-KOF7Np",
    "outputId": "52ebdd4d-b25b-4b35-a290-5b452447d137"
   },
   "outputs": [
    {
     "data": {
      "text/plain": [
       "9.610000000000001"
      ]
     },
     "execution_count": 24,
     "metadata": {},
     "output_type": "execute_result"
    }
   ],
   "source": [
    "3.1 ** 2"
   ]
  },
  {
   "cell_type": "markdown",
   "metadata": {
    "colab_type": "text",
    "id": "VyoVX_6rF7Nz"
   },
   "source": [
    "##  2. 비교 연산자와 참 거짓 자료형(boolean)을 위한 연산자들\n",
    "<hr>\n",
    "\n",
    "+ 파이썬에서 지원하는 비교 연산자는 아래와 같이 존재합니다.\n",
    "\n",
    "| 연산자 | 설명 |\n",
    "| ---- | ---- |\n",
    "| a==b | 같음 |\n",
    "| a!=b | 다름  |\n",
    "| a>b  | a가 b보다 큼 |\n",
    "| a>=b | a가 b보다 크거나 같음 |\n",
    "| a<b  | a가 b보다 작음 |\n",
    "| a<=b | a가 b보다 작거나 같음 |"
   ]
  },
  {
   "cell_type": "markdown",
   "metadata": {
    "colab_type": "text",
    "id": "ziETakfhF7N0"
   },
   "source": [
    "### (1) == "
   ]
  },
  {
   "cell_type": "code",
   "execution_count": 25,
   "metadata": {
    "colab": {},
    "colab_type": "code",
    "id": "c46r-eyRF7N1",
    "outputId": "ac040fa9-75b0-4587-d1e7-646c75ea6c23"
   },
   "outputs": [
    {
     "data": {
      "text/plain": [
       "True"
      ]
     },
     "execution_count": 25,
     "metadata": {},
     "output_type": "execute_result"
    }
   ],
   "source": [
    "1 == 1"
   ]
  },
  {
   "cell_type": "markdown",
   "metadata": {
    "colab_type": "text",
    "id": "5Y8QhuACF7N9"
   },
   "source": [
    "### (2) !="
   ]
  },
  {
   "cell_type": "code",
   "execution_count": 26,
   "metadata": {
    "colab": {},
    "colab_type": "code",
    "id": "KDw-wyYLF7N9",
    "outputId": "b74a5634-29af-447c-ba92-b9fadb9a1b06"
   },
   "outputs": [
    {
     "data": {
      "text/plain": [
       "True"
      ]
     },
     "execution_count": 26,
     "metadata": {},
     "output_type": "execute_result"
    }
   ],
   "source": [
    "1 != 2"
   ]
  },
  {
   "cell_type": "markdown",
   "metadata": {
    "colab_type": "text",
    "id": "KHz4hp2DF7OG"
   },
   "source": [
    "### (3) > "
   ]
  },
  {
   "cell_type": "code",
   "execution_count": 27,
   "metadata": {
    "colab": {},
    "colab_type": "code",
    "id": "-yiDH-IBF7OH",
    "outputId": "4ddf4c03-fc5b-4964-eb8f-981c650a0083"
   },
   "outputs": [
    {
     "data": {
      "text/plain": [
       "False"
      ]
     },
     "execution_count": 27,
     "metadata": {},
     "output_type": "execute_result"
    }
   ],
   "source": [
    "2 > 2"
   ]
  },
  {
   "cell_type": "markdown",
   "metadata": {
    "colab_type": "text",
    "id": "h4MX1JgTF7OQ"
   },
   "source": [
    "### (4) >="
   ]
  },
  {
   "cell_type": "code",
   "execution_count": 28,
   "metadata": {
    "colab": {},
    "colab_type": "code",
    "id": "O0yjwQQxF7OS",
    "outputId": "26589b50-5a5a-455f-a93e-973525466b79"
   },
   "outputs": [
    {
     "data": {
      "text/plain": [
       "True"
      ]
     },
     "execution_count": 28,
     "metadata": {},
     "output_type": "execute_result"
    }
   ],
   "source": [
    "2 >= 2"
   ]
  },
  {
   "cell_type": "markdown",
   "metadata": {
    "colab_type": "text",
    "id": "MUamdvetF7Oa"
   },
   "source": [
    "### (5) <"
   ]
  },
  {
   "cell_type": "code",
   "execution_count": 29,
   "metadata": {
    "colab": {},
    "colab_type": "code",
    "id": "m5OYBeH9F7Oc",
    "outputId": "790f315d-08eb-41d2-8d59-e26f397f3dc2"
   },
   "outputs": [
    {
     "data": {
      "text/plain": [
       "True"
      ]
     },
     "execution_count": 29,
     "metadata": {},
     "output_type": "execute_result"
    }
   ],
   "source": [
    "2 < 3"
   ]
  },
  {
   "cell_type": "markdown",
   "metadata": {
    "colab_type": "text",
    "id": "mu3RgvOEF7Of"
   },
   "source": [
    "### (6) <="
   ]
  },
  {
   "cell_type": "code",
   "execution_count": 30,
   "metadata": {
    "colab": {},
    "colab_type": "code",
    "id": "GgsxKrxSF7Og",
    "outputId": "8e5d6a15-3d5a-473c-ccd4-8de698314007"
   },
   "outputs": [
    {
     "data": {
      "text/plain": [
       "True"
      ]
     },
     "execution_count": 30,
     "metadata": {},
     "output_type": "execute_result"
    }
   ],
   "source": [
    "2 <= 3"
   ]
  },
  {
   "cell_type": "markdown",
   "metadata": {
    "colab_type": "text",
    "id": "dXf7tcqPF7On"
   },
   "source": [
    "### (7) and 연산\n",
    "\n",
    "and 연산은 두 개 모두 참일 때 참을 반환합니다."
   ]
  },
  {
   "cell_type": "code",
   "execution_count": 31,
   "metadata": {
    "colab": {},
    "colab_type": "code",
    "id": "NSFqsJHnF7Oo",
    "outputId": "7ab39d19-84e7-47c5-f635-6b43668a4227"
   },
   "outputs": [
    {
     "data": {
      "text/plain": [
       "True"
      ]
     },
     "execution_count": 31,
     "metadata": {},
     "output_type": "execute_result"
    }
   ],
   "source": [
    "True and True"
   ]
  },
  {
   "cell_type": "code",
   "execution_count": 32,
   "metadata": {
    "colab": {},
    "colab_type": "code",
    "id": "Hv0ZgVKAF7Ox",
    "outputId": "eae729ae-8575-4a15-ed69-5a716cdb8114"
   },
   "outputs": [
    {
     "data": {
      "text/plain": [
       "False"
      ]
     },
     "execution_count": 32,
     "metadata": {},
     "output_type": "execute_result"
    }
   ],
   "source": [
    "True and False"
   ]
  },
  {
   "cell_type": "code",
   "execution_count": 33,
   "metadata": {
    "colab": {},
    "colab_type": "code",
    "id": "1YTuyBGoF7O2",
    "outputId": "5927eb21-90f7-4971-a1e3-073bedab3975"
   },
   "outputs": [
    {
     "data": {
      "text/plain": [
       "False"
      ]
     },
     "execution_count": 33,
     "metadata": {},
     "output_type": "execute_result"
    }
   ],
   "source": [
    "False and False"
   ]
  },
  {
   "cell_type": "markdown",
   "metadata": {
    "colab_type": "text",
    "id": "LRgy96saF7O6"
   },
   "source": [
    "### (8) or 연산\n",
    "or 연산은 두 개 중 하나라도 참일 때 참을 반환합니다."
   ]
  },
  {
   "cell_type": "code",
   "execution_count": 34,
   "metadata": {
    "colab": {},
    "colab_type": "code",
    "id": "VrrYa8OpF7O9",
    "outputId": "f4a474e2-9a72-4d6c-d1ee-11ea216ec6c1"
   },
   "outputs": [
    {
     "data": {
      "text/plain": [
       "True"
      ]
     },
     "execution_count": 34,
     "metadata": {},
     "output_type": "execute_result"
    }
   ],
   "source": [
    "True or True"
   ]
  },
  {
   "cell_type": "code",
   "execution_count": 35,
   "metadata": {
    "colab": {},
    "colab_type": "code",
    "id": "BdffIs1yF7PA",
    "outputId": "d0b9dc7e-45cc-4902-9863-f6f5494c40b1"
   },
   "outputs": [
    {
     "data": {
      "text/plain": [
       "True"
      ]
     },
     "execution_count": 35,
     "metadata": {},
     "output_type": "execute_result"
    }
   ],
   "source": [
    "True or False"
   ]
  },
  {
   "cell_type": "code",
   "execution_count": 36,
   "metadata": {
    "colab": {},
    "colab_type": "code",
    "id": "5LSzkZhMF7PF",
    "outputId": "c8078092-d4cf-4492-a104-104c96666cca"
   },
   "outputs": [
    {
     "data": {
      "text/plain": [
       "False"
      ]
     },
     "execution_count": 36,
     "metadata": {},
     "output_type": "execute_result"
    }
   ],
   "source": [
    "False or False"
   ]
  },
  {
   "cell_type": "markdown",
   "metadata": {},
   "source": [
    "### (9) not 연산\n",
    "not 연산은 참 거짓을 뒤집어 반환합니다."
   ]
  },
  {
   "cell_type": "code",
   "execution_count": 37,
   "metadata": {},
   "outputs": [
    {
     "data": {
      "text/plain": [
       "False"
      ]
     },
     "execution_count": 37,
     "metadata": {},
     "output_type": "execute_result"
    }
   ],
   "source": [
    "not True"
   ]
  },
  {
   "cell_type": "code",
   "execution_count": 38,
   "metadata": {},
   "outputs": [
    {
     "data": {
      "text/plain": [
       "True"
      ]
     },
     "execution_count": 38,
     "metadata": {},
     "output_type": "execute_result"
    }
   ],
   "source": [
    "not False"
   ]
  },
  {
   "cell_type": "markdown",
   "metadata": {},
   "source": [
    "### (10) and or not 조합\n",
    "\n",
    "and or not 연산자는 아래와 같이 이용할 수 있습니다."
   ]
  },
  {
   "cell_type": "code",
   "execution_count": 39,
   "metadata": {},
   "outputs": [
    {
     "data": {
      "text/plain": [
       "True"
      ]
     },
     "execution_count": 39,
     "metadata": {},
     "output_type": "execute_result"
    }
   ],
   "source": [
    "# x,y,z가 다음처럼 주어졌을 때,\n",
    "x = 1\n",
    "y = 3\n",
    "z = 4\n",
    "\n",
    "# 비교 수식들을 조합하여 사용할 수 있습니다.\n",
    "(z > x and z > y) or not (y <= x)"
   ]
  },
  {
   "cell_type": "markdown",
   "metadata": {},
   "source": [
    "### (11) is 연산자\n",
    "\n",
    "같음을 비교하는 연산에는 `==` 외에도, `is` 연산자가 있습니다. `==`은 두 개의 **값**이 같은지를 비교하고, `is`는 두 개의 **주소값**이 같은지를 비교합니다."
   ]
  },
  {
   "cell_type": "code",
   "execution_count": 40,
   "metadata": {},
   "outputs": [],
   "source": [
    "# 다음 Chapter에서 배울, list을 잠시 가져오겠습니다.\n",
    "a = [1,2,3,4,5] # list 선언\n",
    "b = [1,2,3,4,5] # a와 동일한 값을 가져온 list 선언"
   ]
  },
  {
   "cell_type": "code",
   "execution_count": 41,
   "metadata": {},
   "outputs": [
    {
     "data": {
      "text/plain": [
       "True"
      ]
     },
     "execution_count": 41,
     "metadata": {},
     "output_type": "execute_result"
    }
   ],
   "source": [
    "a == b # 두 list의 값이 같은지를 비교"
   ]
  },
  {
   "cell_type": "code",
   "execution_count": 42,
   "metadata": {},
   "outputs": [
    {
     "data": {
      "text/plain": [
       "False"
      ]
     },
     "execution_count": 42,
     "metadata": {},
     "output_type": "execute_result"
    }
   ],
   "source": [
    "a is b # 두 list의 주소값이 같은지를 비교"
   ]
  },
  {
   "cell_type": "code",
   "execution_count": 43,
   "metadata": {},
   "outputs": [
    {
     "name": "stdout",
     "output_type": "stream",
     "text": [
      "a가 저장된 공간의 주소 위치 :  4586409480\n",
      "b가 저장된 공간의 주소 위치 :  4587719688\n"
     ]
    }
   ],
   "source": [
    "print(\"a가 저장된 공간의 주소 위치 : \", id(a))\n",
    "print(\"b가 저장된 공간의 주소 위치 : \", id(b))"
   ]
  },
  {
   "cell_type": "code",
   "execution_count": 44,
   "metadata": {},
   "outputs": [],
   "source": [
    "a = [1,2,3,4,5] \n",
    "b = a # 이경우, a의 주소값을 b에 담게 됩니다."
   ]
  },
  {
   "cell_type": "code",
   "execution_count": 45,
   "metadata": {},
   "outputs": [
    {
     "data": {
      "text/plain": [
       "True"
      ]
     },
     "execution_count": 45,
     "metadata": {},
     "output_type": "execute_result"
    }
   ],
   "source": [
    "a == b"
   ]
  },
  {
   "cell_type": "code",
   "execution_count": 46,
   "metadata": {},
   "outputs": [
    {
     "data": {
      "text/plain": [
       "True"
      ]
     },
     "execution_count": 46,
     "metadata": {},
     "output_type": "execute_result"
    }
   ],
   "source": [
    "a is b"
   ]
  },
  {
   "cell_type": "code",
   "execution_count": 47,
   "metadata": {},
   "outputs": [
    {
     "name": "stdout",
     "output_type": "stream",
     "text": [
      "a가 저장된 공간의 주소 위치 :  4587719176\n",
      "b가 저장된 공간의 주소 위치 :  4587719176\n"
     ]
    }
   ],
   "source": [
    "print(\"a가 저장된 공간의 주소 위치 : \", id(a))\n",
    "print(\"b가 저장된 공간의 주소 위치 : \", id(b))"
   ]
  },
  {
   "cell_type": "markdown",
   "metadata": {},
   "source": [
    "`True`,`False`,`None`과 같이 자주 쓰이는 값들을 Python에서는 같은 주소값에 늘 위치시킵니다. \n",
    "\n",
    "그래서 True, False의 경우에는 일반적으로 `is` 연산을 이용합니다."
   ]
  },
  {
   "cell_type": "code",
   "execution_count": 48,
   "metadata": {},
   "outputs": [],
   "source": [
    "a = True"
   ]
  },
  {
   "cell_type": "code",
   "execution_count": 49,
   "metadata": {},
   "outputs": [
    {
     "data": {
      "text/plain": [
       "True"
      ]
     },
     "execution_count": 49,
     "metadata": {},
     "output_type": "execute_result"
    }
   ],
   "source": [
    "a == True"
   ]
  },
  {
   "cell_type": "code",
   "execution_count": 50,
   "metadata": {},
   "outputs": [
    {
     "data": {
      "text/plain": [
       "True"
      ]
     },
     "execution_count": 50,
     "metadata": {},
     "output_type": "execute_result"
    }
   ],
   "source": [
    "a is True"
   ]
  },
  {
   "cell_type": "code",
   "execution_count": 51,
   "metadata": {},
   "outputs": [
    {
     "name": "stdout",
     "output_type": "stream",
     "text": [
      "32.9 ns ± 0.227 ns per loop (mean ± std. dev. of 7 runs, 10000000 loops each)\n"
     ]
    }
   ],
   "source": [
    "%%timeit\n",
    "a == True"
   ]
  },
  {
   "cell_type": "code",
   "execution_count": 52,
   "metadata": {},
   "outputs": [
    {
     "name": "stdout",
     "output_type": "stream",
     "text": [
      "25.8 ns ± 0.843 ns per loop (mean ± std. dev. of 7 runs, 10000000 loops each)\n"
     ]
    }
   ],
   "source": [
    "%%timeit\n",
    "# == 보다 is 연산이 좀 더 빠르다\n",
    "a is True"
   ]
  },
  {
   "cell_type": "markdown",
   "metadata": {
    "colab_type": "text",
    "id": "yFg3oovNdqbW"
   },
   "source": [
    "## 3. 변수간 연산자 적용하기\n",
    "<hr>\n",
    "\n"
   ]
  },
  {
   "cell_type": "markdown",
   "metadata": {
    "colab_type": "text",
    "id": "PPwIqaaGeGu9"
   },
   "source": [
    "### (1) 모든 숫자 연산은 변수에도 동일하게 적용할 수 있습니다.\n",
    "┌─<i> ✍︎ Example  </i>─────────────┐ <br>\n",
    "\n",
    "  $x=3,y=2$일 때, <br>\n",
    "  $x^2 + y^3 + 2xy+3x + 4y$를 계산하시오\n",
    "  \n",
    "   \n",
    "└────────────────────┘"
   ]
  },
  {
   "cell_type": "code",
   "execution_count": 53,
   "metadata": {
    "colab": {
     "base_uri": "https://localhost:8080/",
     "height": 34
    },
    "colab_type": "code",
    "executionInfo": {
     "elapsed": 832,
     "status": "ok",
     "timestamp": 1550743057968,
     "user": {
      "displayName": "최선열",
      "photoUrl": "",
      "userId": "00663027191814710813"
     },
     "user_tz": -540
    },
    "id": "cFnEnpn_dwJN",
    "outputId": "e3f80b43-0812-421f-d93b-24f8a137bc87"
   },
   "outputs": [
    {
     "data": {
      "text/plain": [
       "46"
      ]
     },
     "execution_count": 53,
     "metadata": {},
     "output_type": "execute_result"
    }
   ],
   "source": [
    "x = 3\n",
    "y = 2\n",
    "x**2 + y**3 + 2*x*y + 3*x + 4*y"
   ]
  },
  {
   "cell_type": "markdown",
   "metadata": {
    "colab_type": "text",
    "id": "qOhWUhQ9dzNe"
   },
   "source": [
    "### (2) 우리가 알고있는 숫자의 연산과 같이 괄호()를 통해 연산의 우선순위를 정할 수 있습니다.\n",
    "\n",
    "┌─<i> ✍︎ Example  </i>─────────────┐ <br>\n",
    " $x=3,y=2$일 때,<br>\n",
    " $x^2 + y^3 + 2xy+ 3(x + 4y)$를 계산하시오\n",
    " \n",
    "└────────────────────┘"
   ]
  },
  {
   "cell_type": "code",
   "execution_count": 54,
   "metadata": {
    "colab": {
     "base_uri": "https://localhost:8080/",
     "height": 34
    },
    "colab_type": "code",
    "executionInfo": {
     "elapsed": 618,
     "status": "ok",
     "timestamp": 1550742675657,
     "user": {
      "displayName": "최선열",
      "photoUrl": "",
      "userId": "00663027191814710813"
     },
     "user_tz": -540
    },
    "id": "ck_6GQwNd1c6",
    "outputId": "97e99782-b0c7-4eed-c255-e065eb7f3856"
   },
   "outputs": [
    {
     "data": {
      "text/plain": [
       "62"
      ]
     },
     "execution_count": 54,
     "metadata": {},
     "output_type": "execute_result"
    }
   ],
   "source": [
    "x = 3\n",
    "y = 2\n",
    "x**2 + y**3 + 2*x*y + 3*(x + 4*y)"
   ]
  },
  {
   "cell_type": "markdown",
   "metadata": {
    "colab_type": "text",
    "id": "vN9xd1sKF7PG"
   },
   "source": [
    "# \\[ 3. Python에서의 문자열 \\]\n",
    "<hr><hr>\n",
    "> *숫자 이외에도 문자열을 직접 처리하거나, 변수에 담아 사용할 수 있습니다. Python에서는 문자열을 활용하는 강력한 기능들이 있습니다.*\n"
   ]
  },
  {
   "cell_type": "markdown",
   "metadata": {
    "colab_type": "text",
    "id": "0kETL-XIhtk6"
   },
   "source": [
    "## 1. 문자열의 입력과 연산\n",
    "<hr>\n",
    "+ 파이썬에서는 문자열을 매우 쉽게 만들고 처리할 수 있습니다."
   ]
  },
  {
   "cell_type": "markdown",
   "metadata": {
    "colab_type": "text",
    "id": "odmb9Jt8F7PH"
   },
   "source": [
    "### (1) 문자열 만들기\n",
    "문자열을 만들기 위해서는, `\"안녕하세요\"`나 `'안녕하세요'`처럼, `\"` 혹은 `'`으로 감싸주면 된다."
   ]
  },
  {
   "cell_type": "code",
   "execution_count": 55,
   "metadata": {
    "colab": {},
    "colab_type": "code",
    "id": "9UwLkRZSF7PH",
    "outputId": "99231ef8-378a-4768-a3a0-c95e7e3ab63a"
   },
   "outputs": [
    {
     "name": "stdout",
     "output_type": "stream",
     "text": [
      "hello\n",
      "Python\n"
     ]
    }
   ],
   "source": [
    "str1 = \"hello\"\n",
    "str2 = 'Python'\n",
    "\n",
    "print(str1)\n",
    "print(str2)"
   ]
  },
  {
   "cell_type": "markdown",
   "metadata": {
    "colab_type": "text",
    "id": "8BezVuFLF7PO"
   },
   "source": [
    "긴 줄을 문자열로 넣고 싶다면, `\"\"\"`나 `'''`처럼 3번 연달아서 감싸 주면된다."
   ]
  },
  {
   "cell_type": "code",
   "execution_count": 56,
   "metadata": {
    "colab": {},
    "colab_type": "code",
    "id": "lcosQqxsF7PP",
    "outputId": "77d53cd4-3356-45d7-9881-f37cb62e1daa"
   },
   "outputs": [
    {
     "name": "stdout",
     "output_type": "stream",
     "text": [
      "\n",
      "5Days for Deep Learning 코스에 오신 것을\n",
      "진심으로 환영합니다!\n",
      "\n"
     ]
    }
   ],
   "source": [
    "str1 = \"\"\"\n",
    "5Days for Deep Learning 코스에 오신 것을\n",
    "진심으로 환영합니다!\n",
    "\"\"\"\n",
    "print(str1)"
   ]
  },
  {
   "cell_type": "markdown",
   "metadata": {
    "colab_type": "text",
    "id": "d_y8FZ4yF7PU"
   },
   "source": [
    "### (2) 문자열 더하기"
   ]
  },
  {
   "cell_type": "code",
   "execution_count": 57,
   "metadata": {
    "colab": {},
    "colab_type": "code",
    "id": "dZncIlgeF7PU",
    "outputId": "2d00b1bb-2d8b-4e3f-bbb1-1b170b605e26"
   },
   "outputs": [
    {
     "data": {
      "text/plain": [
       "'Hello,world!'"
      ]
     },
     "execution_count": 57,
     "metadata": {},
     "output_type": "execute_result"
    }
   ],
   "source": [
    "str1 = \"Hello,\"\n",
    "str2 = \"world!\"\n",
    "str1 + str2"
   ]
  },
  {
   "cell_type": "markdown",
   "metadata": {
    "colab_type": "text",
    "id": "UFAnpQJFF7PW"
   },
   "source": [
    "### (3) 문자열 곱하기\n",
    "\n",
    "문자열을 곱할 경우, 해당 문자열을 곱한 수만큼 반복한다."
   ]
  },
  {
   "cell_type": "code",
   "execution_count": 58,
   "metadata": {
    "colab": {},
    "colab_type": "code",
    "id": "flG0GrDVF7PW",
    "outputId": "c4900601-601f-413f-ef09-717819ce98f6"
   },
   "outputs": [
    {
     "data": {
      "text/plain": [
       "'Hello!Hello!Hello!'"
      ]
     },
     "execution_count": 58,
     "metadata": {},
     "output_type": "execute_result"
    }
   ],
   "source": [
    "str1 = \"Hello!\"\n",
    "str1 * 3"
   ]
  },
  {
   "cell_type": "markdown",
   "metadata": {
    "colab_type": "text",
    "id": "mo85CGQBF7PY"
   },
   "source": [
    "### (4) 문자열 길이 구하기"
   ]
  },
  {
   "cell_type": "code",
   "execution_count": 59,
   "metadata": {
    "colab": {},
    "colab_type": "code",
    "id": "U2hMl3WXF7PY",
    "outputId": "f85b821d-7461-4542-d54b-143696791f5b"
   },
   "outputs": [
    {
     "data": {
      "text/plain": [
       "7"
      ]
     },
     "execution_count": 59,
     "metadata": {},
     "output_type": "execute_result"
    }
   ],
   "source": [
    "str1 = \"Hello~ \"\n",
    "len(str1) # 총 6개의 글자가 존재(space도 포함)"
   ]
  },
  {
   "cell_type": "markdown",
   "metadata": {
    "colab_type": "text",
    "id": "mKwyZJF8F7Pf"
   },
   "source": [
    "### (5) 문자열 인덱싱\n",
    "\n",
    "list, tuple에서의 인덱싱과 같은 동일한 방식으로 출력할 수 있다."
   ]
  },
  {
   "cell_type": "code",
   "execution_count": 60,
   "metadata": {
    "colab": {
     "base_uri": "https://localhost:8080/",
     "height": 34
    },
    "colab_type": "code",
    "executionInfo": {
     "elapsed": 599,
     "status": "ok",
     "timestamp": 1550743417613,
     "user": {
      "displayName": "최선열",
      "photoUrl": "",
      "userId": "00663027191814710813"
     },
     "user_tz": -540
    },
    "id": "X8koC46vF7Pf",
    "outputId": "346365d6-7f6b-40a1-8541-5558c49060b6"
   },
   "outputs": [
    {
     "data": {
      "text/plain": [
       "'s'"
      ]
     },
     "execution_count": 60,
     "metadata": {},
     "output_type": "execute_result"
    }
   ],
   "source": [
    "str1 = \"This is Python World!\"\n",
    "str1[3] # Python에서 인덱싱은 0부터 시작합니다. 3은 4번째 자리를 의미합니다."
   ]
  },
  {
   "cell_type": "code",
   "execution_count": 61,
   "metadata": {
    "colab": {
     "base_uri": "https://localhost:8080/",
     "height": 34
    },
    "colab_type": "code",
    "executionInfo": {
     "elapsed": 379,
     "status": "ok",
     "timestamp": 1550743417894,
     "user": {
      "displayName": "최선열",
      "photoUrl": "",
      "userId": "00663027191814710813"
     },
     "user_tz": -540
    },
    "id": "pw6Tg1yCF7Ph",
    "outputId": "bc956ca6-dd9a-4fcc-9952-4bc44b9039ec"
   },
   "outputs": [
    {
     "data": {
      "text/plain": [
       "'This'"
      ]
     },
     "execution_count": 61,
     "metadata": {},
     "output_type": "execute_result"
    }
   ],
   "source": [
    "str1[0:4] # 0부터 4미만까지 가져올 수 있습니다."
   ]
  },
  {
   "cell_type": "code",
   "execution_count": 62,
   "metadata": {},
   "outputs": [
    {
     "data": {
      "text/plain": [
       "21"
      ]
     },
     "execution_count": 62,
     "metadata": {},
     "output_type": "execute_result"
    }
   ],
   "source": [
    "len(str1)"
   ]
  },
  {
   "cell_type": "markdown",
   "metadata": {
    "colab_type": "text",
    "id": "hwt2XQqxF7Pk"
   },
   "source": [
    "### (6) 문자열 쪼개기\n",
    "\n",
    "문자열 자료형에는 `split`이라는 내장 함수가 존재한다. 이를 기준으로 문자열을 쪼갤 수 있다."
   ]
  },
  {
   "cell_type": "code",
   "execution_count": 63,
   "metadata": {
    "colab": {},
    "colab_type": "code",
    "id": "M8QUKOVdF7Pl",
    "outputId": "fa164695-f2a3-41c2-ae12-22adccbd0d69"
   },
   "outputs": [
    {
     "data": {
      "text/plain": [
       "['This', 'is', 'Python', 'World!']"
      ]
     },
     "execution_count": 63,
     "metadata": {},
     "output_type": "execute_result"
    }
   ],
   "source": [
    "str1 = \"This is Python World!\"\n",
    "str1.split(\" \") # 공백을 기준으로 나누기"
   ]
  },
  {
   "cell_type": "code",
   "execution_count": 64,
   "metadata": {
    "colab": {},
    "colab_type": "code",
    "id": "tAn1ik1RF7Po",
    "outputId": "16cb35a4-9a8b-431c-b8c5-bc79f6322129"
   },
   "outputs": [
    {
     "data": {
      "text/plain": [
       "['Thi', ' i', ' Python World!']"
      ]
     },
     "execution_count": 64,
     "metadata": {},
     "output_type": "execute_result"
    }
   ],
   "source": [
    "str1.split('s') # 알파벳 s을 기준으로 나누기"
   ]
  },
  {
   "cell_type": "markdown",
   "metadata": {
    "colab_type": "text",
    "id": "gRVCYiPPi37y"
   },
   "source": [
    "## 2. 문자열 포멧팅\n",
    "<hr>\n",
    "+ 문자열 포맷팅이란 문자열 내에 어떤 부분을 비워두고, 원하는 값으로 채워놓을 수 있도록 만든 것이다."
   ]
  },
  {
   "cell_type": "markdown",
   "metadata": {
    "colab_type": "text",
    "id": "tkXZ_a3EF7Ps"
   },
   "source": [
    "### (1) 문자열의 반복 출력을 위한 문자열 포멧팅\n",
    "\n",
    "\n",
    "```python\n",
    "accuracy_sentence = \"현재 32번째 학습하였습니다. 테스트의 정확도는 92.3%입니다.\"\n",
    "\n",
    "```\n",
    "\n",
    "> 우리가 머신러닝을 학습할 때에는 위와 같은 문장을 반복하여 만들어야 할때가 존재한다. 위 문장을 반복적으로 출력하기 위해서는 아래처럼 할수도 있다."
   ]
  },
  {
   "cell_type": "code",
   "execution_count": 65,
   "metadata": {
    "colab": {},
    "colab_type": "code",
    "id": "c4WR4ixJF7Pu"
   },
   "outputs": [],
   "source": [
    "step = 32\n",
    "accuracy = 92.3"
   ]
  },
  {
   "cell_type": "code",
   "execution_count": 66,
   "metadata": {
    "colab": {},
    "colab_type": "code",
    "id": "SQcOfVGwF7Pv",
    "outputId": "24a574ee-3f2c-47a1-d16d-1eadd7a0a26f"
   },
   "outputs": [
    {
     "data": {
      "text/plain": [
       "'현재 32번째 학습하였습니다. 테스트의 정확도는 92.3%입니다.'"
      ]
     },
     "execution_count": 66,
     "metadata": {},
     "output_type": "execute_result"
    }
   ],
   "source": [
    "\"현재 \"+str(step)+\"번째 학습하였습니다. 테스트의 정확도는 \"+str(accuracy)+\"%입니다.\""
   ]
  },
  {
   "cell_type": "markdown",
   "metadata": {
    "colab_type": "text",
    "id": "tm-jEfu1F7Pz"
   },
   "source": [
    "위처럼 표현할 수 있지만 아래와 같이 좀 더 명확하고 간단하게 쓸 수 있다. 포맷팅은 중괄호({})로 비워두고 `.format()`에 중괄호 순서대로 대입하면 된다."
   ]
  },
  {
   "cell_type": "code",
   "execution_count": 67,
   "metadata": {
    "colab": {},
    "colab_type": "code",
    "id": "SUCzk5-eF7P0",
    "outputId": "2df63cb8-8df7-4af8-e721-5cba83dd6ce2"
   },
   "outputs": [
    {
     "data": {
      "text/plain": [
       "'현재 32번째 학습하였습니다. 테스트의 정확도는 92.3%입니다.'"
      ]
     },
     "execution_count": 67,
     "metadata": {},
     "output_type": "execute_result"
    }
   ],
   "source": [
    "# format안에 들어가는 인자는 \n",
    "# 문자열이 아니더라도, 자동으로 문자열로 바꾸어서 입력해준다.\n",
    "\"현재 {}번째 학습하였습니다. 테스트의 정확도는 {}%입니다.\".format(step, accuracy)"
   ]
  },
  {
   "cell_type": "markdown",
   "metadata": {
    "colab_type": "text",
    "id": "g_Wl32vCF7P2"
   },
   "source": [
    "아래와 같이 계속 진행될 경우, 글자의 길이가 달라져, 단이 맞지 않을 수 있다."
   ]
  },
  {
   "cell_type": "code",
   "execution_count": 68,
   "metadata": {
    "colab": {},
    "colab_type": "code",
    "id": "7shBEH1VF7P2",
    "outputId": "6e70b3c9-4eda-4b59-dd31-6a7c7b20463b"
   },
   "outputs": [
    {
     "name": "stdout",
     "output_type": "stream",
     "text": [
      "현재 1번째 학습하였습니다. 테스트의 정확도는 82.61921%입니다.\n",
      "현재 2번째 학습하였습니다. 테스트의 정확도는 85.415%입니다.\n",
      "현재 99번째 학습하였습니다. 테스트의 정확도는 92.5123%입니다.\n",
      "현재 100번째 학습하였습니다. 테스트의 정확도는 94.5%입니다.\n"
     ]
    }
   ],
   "source": [
    "step = 1\n",
    "accuracy = 82.61921\n",
    "print(\"현재 {}번째 학습하였습니다. 테스트의 정확도는 {}%입니다.\".format(step, accuracy))\n",
    "step = 2\n",
    "accuracy = 85.415\n",
    "print(\"현재 {}번째 학습하였습니다. 테스트의 정확도는 {}%입니다.\".format(step, accuracy))\n",
    "\n",
    "# .... 학습이 진행 중\n",
    "\n",
    "step = 99\n",
    "accuracy = 92.5123\n",
    "print(\"현재 {}번째 학습하였습니다. 테스트의 정확도는 {}%입니다.\".format(step, accuracy))\n",
    "step = 100\n",
    "accuracy = 94.5\n",
    "print(\"현재 {}번째 학습하였습니다. 테스트의 정확도는 {}%입니다.\".format(step, accuracy))\n"
   ]
  },
  {
   "cell_type": "markdown",
   "metadata": {
    "colab_type": "text",
    "id": "Ftm0tm-RF7P4"
   },
   "source": [
    "이런 경우를 위해, `format`함수에서는 다양한 포맷팅 기법을 제공해준다. "
   ]
  },
  {
   "cell_type": "code",
   "execution_count": 69,
   "metadata": {
    "colab": {},
    "colab_type": "code",
    "id": "wcbZrb27F7P5",
    "outputId": "7b9de401-5ac1-4bed-cc3a-a7ee07908e2b"
   },
   "outputs": [
    {
     "data": {
      "text/plain": [
       "'  123'"
      ]
     },
     "execution_count": 69,
     "metadata": {},
     "output_type": "execute_result"
    }
   ],
   "source": [
    "'{:>5}'.format('123') # 오른쪽 정렬로 총 글자 폭이 5만큼, 공백은 스페이스로 채워준다."
   ]
  },
  {
   "cell_type": "code",
   "execution_count": 70,
   "metadata": {
    "colab": {},
    "colab_type": "code",
    "id": "ePu27Ja0F7P_",
    "outputId": "5d7f47f6-4eb0-47e6-e462-4c374a74ade0"
   },
   "outputs": [
    {
     "data": {
      "text/plain": [
       "'       123'"
      ]
     },
     "execution_count": 70,
     "metadata": {},
     "output_type": "execute_result"
    }
   ],
   "source": [
    "'{:>10}'.format('123') # 오른쪽 정렬로 총 글자 폭이 10만큼, 공백은 스페이스로 채워줌"
   ]
  },
  {
   "cell_type": "code",
   "execution_count": 71,
   "metadata": {
    "colab": {},
    "colab_type": "code",
    "id": "CXBzYfm9F7QD",
    "outputId": "392d254f-ae28-4966-da61-80264dc63437"
   },
   "outputs": [
    {
     "data": {
      "text/plain": [
       "'123       '"
      ]
     },
     "execution_count": 71,
     "metadata": {},
     "output_type": "execute_result"
    }
   ],
   "source": [
    "'{:<10}'.format('123') # 왼쪽 정렬로 총 글자 폭이 10만큼, 공백은 스페이스로 채워줌"
   ]
  },
  {
   "cell_type": "code",
   "execution_count": 72,
   "metadata": {
    "colab": {},
    "colab_type": "code",
    "id": "Cvi-yUdwF7QF",
    "outputId": "6dc1ccc2-6bda-423e-9c80-69e9430f3894"
   },
   "outputs": [
    {
     "data": {
      "text/plain": [
       "'12.3      '"
      ]
     },
     "execution_count": 72,
     "metadata": {},
     "output_type": "execute_result"
    }
   ],
   "source": [
    "'{:<10}'.format(12.3) # 왼쪽 정렬로 총 글자 폭이 10만큼, 공백은 스페이스로 채워줌"
   ]
  },
  {
   "cell_type": "code",
   "execution_count": 73,
   "metadata": {
    "colab": {},
    "colab_type": "code",
    "id": "4ZRhq4juF7QG",
    "outputId": "1a62197a-e89d-494d-ab4a-7b96286514db"
   },
   "outputs": [
    {
     "data": {
      "text/plain": [
       "'12.389'"
      ]
     },
     "execution_count": 73,
     "metadata": {},
     "output_type": "execute_result"
    }
   ],
   "source": [
    "\"{:.3f}\".format(12.38898) # 소숫점 3째자리 까지 잘라서 출력"
   ]
  },
  {
   "cell_type": "markdown",
   "metadata": {
    "colab_type": "text",
    "id": "Es4JGjctF7QQ"
   },
   "source": [
    "보다 결과 값에 대한 출력을 깔끔하게 할 수 있다."
   ]
  },
  {
   "cell_type": "code",
   "execution_count": 74,
   "metadata": {
    "colab": {},
    "colab_type": "code",
    "id": "0Jdse2gZF7QQ",
    "outputId": "0ad3df24-bb3c-406c-85b2-fa238b8e410a"
   },
   "outputs": [
    {
     "name": "stdout",
     "output_type": "stream",
     "text": [
      "현재   1번째 학습하였습니다. 테스트의 정확도는 82.619%입니다.\n",
      "현재   2번째 학습하였습니다. 테스트의 정확도는 85.415%입니다.\n",
      "현재  99번째 학습하였습니다. 테스트의 정확도는 92.512%입니다.\n",
      "현재 100번째 학습하였습니다. 테스트의 정확도는 94.500%입니다.\n"
     ]
    }
   ],
   "source": [
    "step = 1\n",
    "accuracy = 82.61921\n",
    "print(\"현재 {:>3}번째 학습하였습니다. 테스트의 정확도는 {:.3f}%입니다.\".format(step, accuracy))\n",
    "step = 2\n",
    "accuracy = 85.415\n",
    "print(\"현재 {:>3}번째 학습하였습니다. 테스트의 정확도는 {:.3f}%입니다.\".format(step, accuracy))\n",
    "\n",
    "# .... 학습이 진행 중\n",
    "\n",
    "step = 99\n",
    "accuracy = 92.5123\n",
    "print(\"현재 {:>3}번째 학습하였습니다. 테스트의 정확도는 {:.3f}%입니다.\".format(step, accuracy))\n",
    "step = 100\n",
    "accuracy = 94.5\n",
    "print(\"현재 {:>3}번째 학습하였습니다. 테스트의 정확도는 {:.3f}%입니다.\".format(step, accuracy))\n"
   ]
  },
  {
   "cell_type": "markdown",
   "metadata": {
    "colab_type": "text",
    "id": "SGR4CWEdF7QT"
   },
   "source": [
    "#  \n",
    "\n",
    "---\n",
    "\n",
    "    Copyright(c) 2019 by Public AI. All rights reserved.\n",
    "    Writen by PAI, SeonYoul Choi ( Best10@publicai.co.kr )  last updated on 2019/02/24\n",
    "\n",
    "---"
   ]
  }
 ],
 "metadata": {
  "colab": {
   "collapsed_sections": [
    "Ogrrzdw8F7L-",
    "8SO3JN_zF7Ma",
    "xtKhM9-9F7Mg",
    "ok6GtGgzF7Mt",
    "_LYX9p_gF7NC",
    "zD6wCrC1F7NN",
    "fMRVmGMlF7NY",
    "g7IXuy0XF7Nc",
    "RiUBl_BGF7Ng",
    "ziETakfhF7N0",
    "5Y8QhuACF7N9",
    "KHz4hp2DF7OG",
    "h4MX1JgTF7OQ",
    "MUamdvetF7Oa",
    "mu3RgvOEF7Of",
    "dXf7tcqPF7On",
    "LRgy96saF7O6",
    "PPwIqaaGeGu9",
    "qOhWUhQ9dzNe",
    "odmb9Jt8F7PH",
    "d_y8FZ4yF7PU",
    "UFAnpQJFF7PW",
    "mo85CGQBF7PY",
    "mKwyZJF8F7Pf",
    "hwt2XQqxF7Pk",
    "tkXZ_a3EF7Ps"
   ],
   "name": "2_Python의 변수와 연산.ipynb",
   "provenance": [],
   "toc_visible": true,
   "version": "0.3.2"
  },
  "kernelspec": {
   "display_name": "Python 3",
   "language": "python",
   "name": "python3"
  },
  "language_info": {
   "codemirror_mode": {
    "name": "ipython",
    "version": 3
   },
   "file_extension": ".py",
   "mimetype": "text/x-python",
   "name": "python",
   "nbconvert_exporter": "python",
   "pygments_lexer": "ipython3",
   "version": "3.6.5"
  }
 },
 "nbformat": 4,
 "nbformat_minor": 1
}
