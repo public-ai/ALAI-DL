{
 "cells": [
  {
   "cell_type": "markdown",
   "metadata": {
    "colab_type": "text",
    "id": "gylcBRjAuJwh"
   },
   "source": [
    "┏━━<i><b>Alai-DeepLearning</b></i>━━━━━━━━━━━━━━━━━━━━━━━━━━━━━━━━━━━━━━┓\n",
    "###  &nbsp;&nbsp; **✎ &nbsp;Week1. Python의 기초 문법**\n",
    "# Section 7. Python의 함수와 패키지들\n",
    "\n",
    "### _Objective_\n",
    "1. 프로그래밍에서 여러번 반복되는 내용을 개발자가 하나의 함수로 정의하여 재사용할 수 있습니다.<br>\n",
    "2. 뿐만아니라, 다른 개발자들이 이미 만들어 놓은 \"패키지\"를 가져와 사용할수도 있습니다.<br>\n",
    "3. 이번 시간에는 함수를 직접 정의해보고, 패키지를 가져와 사용해보겠습니다.<br>\n",
    "  \n",
    "┗━━━━━━━━━━━━━━━━━━━━━━━━━━━━━━━━━━━━━━━━━━━━━━━━━━━━┛\n",
    " \n",
    "\n"
   ]
  },
  {
   "cell_type": "markdown",
   "metadata": {
    "colab_type": "text",
    "id": "PhwLa--puJwi"
   },
   "source": [
    "# \\[ 1. Python에서의 함수 \\]\n",
    "\n",
    "---\n",
    "\n",
    "---\n"
   ]
  },
  {
   "cell_type": "markdown",
   "metadata": {
    "colab_type": "text",
    "id": "GRXKxpnE4kAY"
   },
   "source": [
    "> *프로그래밍에서는 똑같은 내용을 반복하는 경우, 그 과정을 하나의 `함수`로 정의하여 반복을 피합니다. *<br>\n",
    "> *파이썬에서의 함수는 수학에서의 함수와 비슷하면서도 약간 다릅니다.*<br>\n",
    "> 특정한 `input x`를 받아 일련의 과정 `function f`를 거쳐 `output f(x)`를 반환하는 것을 함수라 합니다."
   ]
  },
  {
   "cell_type": "markdown",
   "metadata": {
    "colab_type": "text",
    "id": "2lpkoeG9uJwj"
   },
   "source": [
    "## 1. 함수 정의하기\n",
    "<hr>\n",
    "+ 파이썬에서는 함수를 정의하기 위해서는 `def`라는 예약어를 통해 정의해주어야 합니다.\n",
    " "
   ]
  },
  {
   "cell_type": "markdown",
   "metadata": {
    "colab_type": "text",
    "id": "mVFGxufsuJwj"
   },
   "source": [
    "python에서의 함수 구조는 아래와 같습니다.\n",
    "\n",
    "```python\n",
    "def add(a, b):\n",
    "    result = a + b\n",
    "    return result\n",
    "```\n",
    "\n",
    "+ `add` : 해당 함수의 이름 (**필수**) \n",
    "+ `a,b` : 함수에 들어가는 매개변수 (*옵션*)\n",
    "+  `return` : 함수의 출력값인 output (*옵션*)"
   ]
  },
  {
   "cell_type": "markdown",
   "metadata": {
    "colab_type": "text",
    "id": "FkAkLgIouJwk"
   },
   "source": [
    "### (1) 함수 정의하기\n",
    "\n",
    "아래는 모든 요소 이름, 매개변수, 출력값을 갖춘 함수입니다."
   ]
  },
  {
   "cell_type": "code",
   "execution_count": 1,
   "metadata": {
    "colab": {},
    "colab_type": "code",
    "id": "uE5Cf4B5uJwl"
   },
   "outputs": [],
   "source": [
    "def add(a, b):\n",
    "    result = a + b\n",
    "    return result"
   ]
  },
  {
   "cell_type": "code",
   "execution_count": 2,
   "metadata": {
    "colab": {
     "base_uri": "https://localhost:8080/",
     "height": 34
    },
    "colab_type": "code",
    "executionInfo": {
     "elapsed": 984,
     "status": "ok",
     "timestamp": 1550800502984,
     "user": {
      "displayName": "최선열",
      "photoUrl": "",
      "userId": "00663027191814710813"
     },
     "user_tz": -540
    },
    "id": "Y_JWvAojuJwo",
    "outputId": "a49a41f5-ecc1-4902-9352-763f57c57758"
   },
   "outputs": [
    {
     "data": {
      "text/plain": [
       "8"
      ]
     },
     "execution_count": 2,
     "metadata": {},
     "output_type": "execute_result"
    }
   ],
   "source": [
    "# 함수를 호출하기\n",
    "y = add(3,5) # 결과를 y에 담을 수 있음\n",
    "y"
   ]
  },
  {
   "cell_type": "markdown",
   "metadata": {
    "colab_type": "text",
    "id": "3HmlT-zNuJwu"
   },
   "source": [
    "### (2) 다양한 형태의 함수들\n",
    "매개변수와 출력값이 반드시 들어가야할 필수 요소는 아닙니다.<br>"
   ]
  },
  {
   "cell_type": "markdown",
   "metadata": {
    "colab_type": "text",
    "id": "2Upmg5J8uJwu"
   },
   "source": [
    "#### ⓵ 매개변수, 출력값 없는 함수"
   ]
  },
  {
   "cell_type": "code",
   "execution_count": 3,
   "metadata": {
    "colab": {},
    "colab_type": "code",
    "id": "M95YhRmBuJwv",
    "outputId": "e3a5d4b6-91c3-478b-cf57-e150732237d0"
   },
   "outputs": [
    {
     "name": "stdout",
     "output_type": "stream",
     "text": [
      "Quack\n"
     ]
    }
   ],
   "source": [
    "# 함수를 정의하기\n",
    "def make_a_sound():\n",
    "    print(\"Quack\")\n",
    "    \n",
    "# 함수를 호출하기\n",
    "y = make_a_sound()"
   ]
  },
  {
   "cell_type": "code",
   "execution_count": 4,
   "metadata": {
    "colab": {},
    "colab_type": "code",
    "id": "OYLrtnAjuJwz"
   },
   "outputs": [],
   "source": [
    "y # None, 즉 아무 값도 없음을 의미"
   ]
  },
  {
   "cell_type": "markdown",
   "metadata": {
    "colab_type": "text",
    "id": "CCTPOlXNuJw2"
   },
   "source": [
    "#### ⓶ 매개변수만 없는 함수"
   ]
  },
  {
   "cell_type": "code",
   "execution_count": 5,
   "metadata": {
    "colab": {},
    "colab_type": "code",
    "id": "zngDFR76uJw2"
   },
   "outputs": [],
   "source": [
    "# 함수를 정의하기\n",
    "def agree():\n",
    "    return True\n",
    "\n",
    "# 함수를 호출하기\n",
    "y = agree()"
   ]
  },
  {
   "cell_type": "code",
   "execution_count": 6,
   "metadata": {
    "colab": {},
    "colab_type": "code",
    "id": "KBOgEylruJw5",
    "outputId": "6ca85116-1c2d-4243-97d4-39460390a03c"
   },
   "outputs": [
    {
     "data": {
      "text/plain": [
       "True"
      ]
     },
     "execution_count": 6,
     "metadata": {},
     "output_type": "execute_result"
    }
   ],
   "source": [
    "y"
   ]
  },
  {
   "cell_type": "markdown",
   "metadata": {
    "colab_type": "text",
    "id": "qSnYnh4luJw-"
   },
   "source": [
    "#### ⓷ 반환값만 없는 함수"
   ]
  },
  {
   "cell_type": "code",
   "execution_count": 7,
   "metadata": {
    "colab": {},
    "colab_type": "code",
    "id": "FwbJQlXcuJw_",
    "outputId": "49ff3707-f828-4618-bfd0-0ab516cc8d1e"
   },
   "outputs": [
    {
     "name": "stdout",
     "output_type": "stream",
     "text": [
      "안녕하세요, 철수님\n"
     ]
    }
   ],
   "source": [
    "# 함수를 정의하기\n",
    "def hello_by(name):\n",
    "    print(\"안녕하세요, {}님\".format(name))\n",
    "    \n",
    "# 함수를 호출하기\n",
    "y = hello_by(\"철수\")"
   ]
  },
  {
   "cell_type": "markdown",
   "metadata": {
    "colab_type": "text",
    "id": "WReA62p3uJxC"
   },
   "source": [
    "## 2. 함수 호출하기\n",
    "<hr>\n",
    "\n",
    "+ 파이썬에서는 함수를 호출할 때에는 다양한 방식으로 인자를 설정할 수 있습니다. \n",
    " "
   ]
  },
  {
   "cell_type": "markdown",
   "metadata": {
    "colab_type": "text",
    "id": "xREZ5KJ8uJxC"
   },
   "source": [
    "### (1) 파이썬에 내장된 함수들을 호출하기\n",
    "\n",
    "파이썬에서는 여러가지 내장된 함수들이 존재합니다. <br>\n",
    "이전에 배운 `len`, `sorted`도 함수이고, 그 외에도 `sum`, `max`, `min`, `abs` 등 다양하게 존재합니다."
   ]
  },
  {
   "cell_type": "markdown",
   "metadata": {
    "colab_type": "text",
    "id": "z-fWdiacuJxD"
   },
   "source": [
    "#### 1. sum : 리스트의 원소들의 합을 구합니다."
   ]
  },
  {
   "cell_type": "code",
   "execution_count": 8,
   "metadata": {
    "colab": {},
    "colab_type": "code",
    "id": "2IL9m-4iuJxE",
    "outputId": "ad9721e3-b228-442f-88e8-62ea465eea61"
   },
   "outputs": [
    {
     "data": {
      "text/plain": [
       "15"
      ]
     },
     "execution_count": 8,
     "metadata": {},
     "output_type": "execute_result"
    }
   ],
   "source": [
    "lst1 = [1,2,3,4,5]\n",
    "sum(lst1)"
   ]
  },
  {
   "cell_type": "markdown",
   "metadata": {
    "colab_type": "text",
    "id": "eAU6C2JFuJxI"
   },
   "source": [
    "#### 2. max : 리스트 중 제일 큰 값을 반환합니다."
   ]
  },
  {
   "cell_type": "code",
   "execution_count": 9,
   "metadata": {
    "colab": {},
    "colab_type": "code",
    "id": "_x6OsVZOuJxI",
    "outputId": "7fadc5b9-2514-4848-8afb-c31a602392ae"
   },
   "outputs": [
    {
     "data": {
      "text/plain": [
       "5"
      ]
     },
     "execution_count": 9,
     "metadata": {},
     "output_type": "execute_result"
    }
   ],
   "source": [
    "lst1 = [1,2,3,4,5]\n",
    "max(lst1)"
   ]
  },
  {
   "cell_type": "markdown",
   "metadata": {
    "colab_type": "text",
    "id": "mlhv3F1KuJxL"
   },
   "source": [
    "#### 3. min : 리스트 중 제일 작은 값을 반환합니다."
   ]
  },
  {
   "cell_type": "code",
   "execution_count": 10,
   "metadata": {
    "colab": {},
    "colab_type": "code",
    "id": "gSDQ_0VluJxN",
    "outputId": "ba18621e-4c6e-4979-9ce2-92144b13617a"
   },
   "outputs": [
    {
     "data": {
      "text/plain": [
       "1"
      ]
     },
     "execution_count": 10,
     "metadata": {},
     "output_type": "execute_result"
    }
   ],
   "source": [
    "lst1 = [1,2,3,4,5]\n",
    "min(lst1)"
   ]
  },
  {
   "cell_type": "markdown",
   "metadata": {
    "colab_type": "text",
    "id": "WjhVLp66uJxQ"
   },
   "source": [
    "#### 4. abs : 절대값으로 바꾸어 줍니다"
   ]
  },
  {
   "cell_type": "code",
   "execution_count": 11,
   "metadata": {
    "colab": {},
    "colab_type": "code",
    "id": "h4g7CSgFuJxQ",
    "outputId": "9aee613a-9633-4cce-fbe5-cbbda043b624"
   },
   "outputs": [
    {
     "data": {
      "text/plain": [
       "1.7"
      ]
     },
     "execution_count": 11,
     "metadata": {},
     "output_type": "execute_result"
    }
   ],
   "source": [
    "abs(-1.7)"
   ]
  },
  {
   "cell_type": "markdown",
   "metadata": {},
   "source": [
    "#### 5. map : 자료구조 내 원소에 하나씩 적용하여 반환합니다."
   ]
  },
  {
   "cell_type": "code",
   "execution_count": 12,
   "metadata": {},
   "outputs": [
    {
     "data": {
      "text/plain": [
       "[2, 3, 4, 5, 6]"
      ]
     },
     "execution_count": 12,
     "metadata": {},
     "output_type": "execute_result"
    }
   ],
   "source": [
    "def add_1(x):\n",
    "    return x + 1\n",
    "\n",
    "lst1 = [1,2,3,4,5]\n",
    "list(map(add_1, lst1))"
   ]
  },
  {
   "cell_type": "markdown",
   "metadata": {},
   "source": [
    "#### 6. filter : 자료구조 내 원소에서 조건에 맞는 원소만을 모아 반환합니다."
   ]
  },
  {
   "cell_type": "code",
   "execution_count": 13,
   "metadata": {},
   "outputs": [
    {
     "data": {
      "text/plain": [
       "[2, 4]"
      ]
     },
     "execution_count": 13,
     "metadata": {},
     "output_type": "execute_result"
    }
   ],
   "source": [
    "def is_even(x):\n",
    "    return x % 2 == 0\n",
    "\n",
    "lst1 = [1,2,3,4,5]\n",
    "list(filter(is_even, lst1))"
   ]
  },
  {
   "cell_type": "markdown",
   "metadata": {
    "colab_type": "text",
    "id": "9bR9zPKjuJxZ"
   },
   "source": [
    "### (2) 다양한 형태의 함수 호출하기\n",
    "\n",
    "함수의 인자에는 디폴트 값을 지정할 수 있습니다. <br>\n",
    "함수를 정의할 때 인자 옆에 등호(=)와 함께 값을 지정할 경우, 함수 호출시 해당 인자를 입력하지 않으면 지정된 값을 기본값으로 정합니다."
   ]
  },
  {
   "cell_type": "code",
   "execution_count": 14,
   "metadata": {
    "colab": {},
    "colab_type": "code",
    "id": "KmaYHQCKuJxa"
   },
   "outputs": [],
   "source": [
    "def print_with_arguments(name=\"'미상'\", age=20):\n",
    "    print(\"당신의 이름은 {}이며, 나이는 {}입니다.\".format(name, age))"
   ]
  },
  {
   "cell_type": "code",
   "execution_count": 15,
   "metadata": {
    "colab": {},
    "colab_type": "code",
    "id": "2pcXZyXOuJxc",
    "outputId": "6ba5c74f-17ca-42de-f88d-2ea776d130e5"
   },
   "outputs": [
    {
     "name": "stdout",
     "output_type": "stream",
     "text": [
      "당신의 이름은 철수이며, 나이는 32입니다.\n"
     ]
    }
   ],
   "source": [
    "# 모든 인자가 지정되었을 때\n",
    "print_with_arguments(\"철수\", 32)"
   ]
  },
  {
   "cell_type": "code",
   "execution_count": 16,
   "metadata": {
    "colab": {},
    "colab_type": "code",
    "id": "Abuh3mt_uJxh",
    "outputId": "1b5209a3-1e64-44ac-bd83-18f78894216e"
   },
   "outputs": [
    {
     "name": "stdout",
     "output_type": "stream",
     "text": [
      "당신의 이름은 철수이며, 나이는 20입니다.\n"
     ]
    }
   ],
   "source": [
    "# 인자는 기본적으로 순서대로 채워들어갑니다.\n",
    "print_with_arguments(\"철수\")"
   ]
  },
  {
   "cell_type": "code",
   "execution_count": 17,
   "metadata": {
    "colab": {},
    "colab_type": "code",
    "id": "kJgT6supuJxk",
    "outputId": "38c32d26-1341-486c-ae1c-ab95ae8d1735"
   },
   "outputs": [
    {
     "name": "stdout",
     "output_type": "stream",
     "text": [
      "당신의 이름은 '미상'이며, 나이는 20입니다.\n"
     ]
    }
   ],
   "source": [
    "# 기본값으로 이름에는 \"\", age에는 20\n",
    "print_with_arguments()"
   ]
  },
  {
   "cell_type": "code",
   "execution_count": 18,
   "metadata": {
    "colab": {},
    "colab_type": "code",
    "id": "2I7qG3UEuJxm",
    "outputId": "fbe671b4-01dd-40a9-928b-afc52dfce4cd"
   },
   "outputs": [
    {
     "name": "stdout",
     "output_type": "stream",
     "text": [
      "당신의 이름은 철수이며, 나이는 32입니다.\n"
     ]
    }
   ],
   "source": [
    "# 인자를 넣을 때, 다음과 같이 인자를 지정할 수 있습니다.\n",
    "print_with_arguments(name='철수',age=32) "
   ]
  },
  {
   "cell_type": "code",
   "execution_count": 19,
   "metadata": {
    "colab": {},
    "colab_type": "code",
    "id": "JcTtk8Z7uJxq",
    "outputId": "b8e10500-ec9e-4457-8e07-867304603ccd"
   },
   "outputs": [
    {
     "name": "stdout",
     "output_type": "stream",
     "text": [
      "당신의 이름은 '미상'이며, 나이는 32입니다.\n"
     ]
    }
   ],
   "source": [
    "# age에만 값을 지정하고 싶은 경우 아래와 같이 지정할 수 있습니다.\n",
    "print_with_arguments(age=32) "
   ]
  },
  {
   "cell_type": "markdown",
   "metadata": {},
   "source": [
    "## 3. 익명함수 `lambda`\n",
    "<hr>\n",
    "\n",
    "+ 파이썬에서는 함수의 이름 없이도, 함수를 만들 수 있습니다. \n",
    " "
   ]
  },
  {
   "cell_type": "code",
   "execution_count": 20,
   "metadata": {},
   "outputs": [
    {
     "data": {
      "text/plain": [
       "3"
      ]
     },
     "execution_count": 20,
     "metadata": {},
     "output_type": "execute_result"
    }
   ],
   "source": [
    "def add(x, y):\n",
    "    return x + y\n",
    "\n",
    "add(1, 2)"
   ]
  },
  {
   "cell_type": "markdown",
   "metadata": {},
   "source": [
    "위와 같은 함수들은 아래처럼 간결하게 나타낼 수 있습니다."
   ]
  },
  {
   "cell_type": "code",
   "execution_count": 21,
   "metadata": {},
   "outputs": [
    {
     "data": {
      "text/plain": [
       "3"
      ]
     },
     "execution_count": 21,
     "metadata": {},
     "output_type": "execute_result"
    }
   ],
   "source": [
    "add_by_lambda = lambda x, y : x + y\n",
    "add_by_lambda(1, 2)"
   ]
  },
  {
   "cell_type": "markdown",
   "metadata": {},
   "source": [
    "`lambda` 코드는 아래와 같은 경우에서 유용하게 사용됩니다."
   ]
  },
  {
   "cell_type": "code",
   "execution_count": 22,
   "metadata": {},
   "outputs": [
    {
     "data": {
      "text/plain": [
       "[2, 3, 4, 5, 6]"
      ]
     },
     "execution_count": 22,
     "metadata": {},
     "output_type": "execute_result"
    }
   ],
   "source": [
    "def add_1(x):\n",
    "    return x + 1\n",
    "\n",
    "lst1 = [1,2,3,4,5]\n",
    "list(map(add_1, lst1))"
   ]
  },
  {
   "cell_type": "code",
   "execution_count": 23,
   "metadata": {},
   "outputs": [
    {
     "data": {
      "text/plain": [
       "[2, 3, 4, 5, 6]"
      ]
     },
     "execution_count": 23,
     "metadata": {},
     "output_type": "execute_result"
    }
   ],
   "source": [
    "# add_1과 같이 매우 단순한 함수들은 선언하지 않고 \n",
    "# lambda함수로 적용할 수 있습니다.\n",
    "lst1 = [1,2,3,4,5]\n",
    "list(map(lambda x : x + 1, lst1)) "
   ]
  },
  {
   "cell_type": "markdown",
   "metadata": {
    "colab_type": "text",
    "id": "QiLOWxDKuJxt"
   },
   "source": [
    "# \\[ 2. Python에서의 패키지 \\]\n",
    "\n",
    "---\n",
    "\n",
    "---\n",
    "\n",
    "> *파이썬에서는 다른 개발자들이 만들어 놓은 여러 코드들과 함수들을 손쉽게 쓸 수 있도록 `패키지`를 지원합니다.<br>\n",
    "> 패키지란 코드들의 집합을 디렉토리를 기준으로 모아둔 집합으로, 아래와 같이 `import` 예약어를 통해 호출할 수 있습니다.*\n"
   ]
  },
  {
   "cell_type": "markdown",
   "metadata": {},
   "source": [
    "## 0. pip 다루기\n",
    "<hr>\n",
    "+ 파이썬의 패키지들은 패키지 관리 시스템인 `pip`를 통해, 손쉽게 패키지를 설치, 제거할 수 있습니다.\n",
    "+ pip는 콘솔창에서 동작하나, jupyter 환경에서는 `!`를 통해, 콘솔에서 동작하는 것과 동일하게 동작시킬 수 있습니다."
   ]
  },
  {
   "cell_type": "markdown",
   "metadata": {},
   "source": [
    "### (1) 현재 파이썬에 설치된 패키지 리스트 확인하기\n",
    "\n",
    "   * `pip list`를 통해 현재 설치된 패키지들이 무엇인지 확인할 수 있습니다."
   ]
  },
  {
   "cell_type": "code",
   "execution_count": 24,
   "metadata": {},
   "outputs": [
    {
     "name": "stdout",
     "output_type": "stream",
     "text": [
      "Package                            Version           \r\n",
      "---------------------------------- ------------------\r\n",
      "absl-py                            0.3.0             \r\n",
      "alabaster                          0.7.10            \r\n",
      "altgraph                           0.16.1            \r\n",
      "anaconda-client                    1.6.14            \r\n",
      "anaconda-navigator                 1.8.7             \r\n",
      "anaconda-project                   0.8.2             \r\n",
      "appnope                            0.1.0             \r\n",
      "appscript                          1.0.1             \r\n",
      "asn1crypto                         0.24.0            \r\n",
      "astor                              0.7.1             \r\n",
      "astroid                            1.6.3             \r\n",
      "astropy                            3.0.2             \r\n",
      "attrs                              18.1.0            \r\n",
      "autopep8                           1.4               \r\n",
      "awscli                             1.15.81           \r\n",
      "Babel                              2.5.3             \r\n",
      "backcall                           0.1.0             \r\n",
      "backports.shutil-get-terminal-size 1.0.0             \r\n",
      "beautifulsoup4                     4.6.0             \r\n",
      "bitarray                           0.8.1             \r\n",
      "bkcharts                           0.2               \r\n",
      "blaze                              0.11.3            \r\n",
      "bleach                             1.5.0             \r\n",
      "bokeh                              0.12.16           \r\n",
      "Boruta                             0.1.5             \r\n",
      "boto                               2.48.0            \r\n",
      "boto3                              1.7.80            \r\n",
      "botocore                           1.10.80           \r\n",
      "Bottleneck                         1.2.1             \r\n",
      "bz2file                            0.98              \r\n",
      "certifi                            2018.10.15        \r\n",
      "cffi                               1.11.5            \r\n",
      "chardet                            3.0.4             \r\n",
      "click                              6.7               \r\n",
      "cloudpickle                        0.5.3             \r\n",
      "clyent                             1.2.2             \r\n",
      "colorama                           0.3.9             \r\n",
      "conda                              4.5.11            \r\n",
      "conda-build                        3.10.5            \r\n",
      "conda-verify                       2.0.0             \r\n",
      "contextlib2                        0.5.5             \r\n",
      "coremltools                        0.8               \r\n",
      "cryptography                       2.2.2             \r\n",
      "cycler                             0.10.0            \r\n",
      "Cython                             0.28.2            \r\n",
      "cytoolz                            0.9.0.1           \r\n",
      "dask                               0.17.5            \r\n",
      "datashape                          0.5.4             \r\n",
      "decorator                          4.3.0             \r\n",
      "distributed                        1.21.8            \r\n",
      "dlib                               19.15.0           \r\n",
      "docopt                             0.6.2             \r\n",
      "docutils                           0.14              \r\n",
      "entrypoints                        0.2.3             \r\n",
      "et-xmlfile                         1.0.1             \r\n",
      "fastcache                          1.0.2             \r\n",
      "filelock                           3.0.4             \r\n",
      "findspark                          1.3.0             \r\n",
      "fire                               0.1.3             \r\n",
      "Flask                              1.0.2             \r\n",
      "Flask-Cors                         3.0.4             \r\n",
      "future                             0.16.0            \r\n",
      "gast                               0.2.0             \r\n",
      "gensim                             3.6.0             \r\n",
      "gevent                             1.3.0             \r\n",
      "glob2                              0.6               \r\n",
      "gmpy2                              2.0.8             \r\n",
      "greenlet                           0.4.13            \r\n",
      "grpcio                             1.14.1            \r\n",
      "h5py                               2.8.0             \r\n",
      "heapdict                           1.0.0             \r\n",
      "hgtk                               0.1.3             \r\n",
      "html5lib                           0.9999999         \r\n",
      "idna                               2.6               \r\n",
      "ijroi                              0.4.0             \r\n",
      "imageio                            2.3.0             \r\n",
      "imagej                             0.2.0             \r\n",
      "imagesize                          1.0.0             \r\n",
      "imgaug                             0.2.6             \r\n",
      "ipykernel                          4.8.2             \r\n",
      "ipyparallel                        6.2.2             \r\n",
      "ipython                            7.1.1             \r\n",
      "ipython-genutils                   0.2.0             \r\n",
      "ipywidgets                         7.2.1             \r\n",
      "isort                              4.3.4             \r\n",
      "itsdangerous                       0.24              \r\n",
      "javaobj-py3                        0.2.4             \r\n",
      "jdcal                              1.4               \r\n",
      "jedi                               0.12.0            \r\n",
      "Jinja2                             2.10              \r\n",
      "jmespath                           0.9.3             \r\n",
      "JPype1                             0.6.3             \r\n",
      "jsonschema                         2.6.0             \r\n",
      "jupyter                            1.0.0             \r\n",
      "jupyter-client                     5.2.3             \r\n",
      "jupyter-console                    5.2.0             \r\n",
      "jupyter-core                       4.4.0             \r\n",
      "jupyterlab                         0.32.1            \r\n",
      "jupyterlab-launcher                0.10.5            \r\n",
      "Keras                              2.1.3             \r\n",
      "Keras-Applications                 1.0.6             \r\n",
      "Keras-Preprocessing                1.0.5             \r\n",
      "keras-resnet                       0.1.0             \r\n",
      "keras-tqdm                         2.0.1             \r\n",
      "khaiii                             0.1               \r\n",
      "kiwisolver                         1.0.1             \r\n",
      "konlpy                             0.5.1             \r\n",
      "lazy-object-proxy                  1.3.1             \r\n",
      "line-profiler                      2.1.2             \r\n",
      "llvmlite                           0.23.1            \r\n",
      "locket                             0.2.0             \r\n",
      "lxml                               4.2.1             \r\n",
      "macholib                           1.11              \r\n",
      "Markdown                           2.6.11            \r\n",
      "MarkupSafe                         1.0               \r\n",
      "matplotlib                         3.0.2             \r\n",
      "mccabe                             0.6.1             \r\n",
      "memory-profiler                    0.55.0            \r\n",
      "mistune                            0.8.3             \r\n",
      "mkl-fft                            1.0.0             \r\n",
      "mkl-random                         1.0.1             \r\n",
      "more-itertools                     4.1.0             \r\n",
      "mpmath                             1.0.0             \r\n",
      "msgpack                            0.5.6             \r\n",
      "msgpack-python                     0.5.6             \r\n",
      "multipledispatch                   0.5.0             \r\n",
      "navigator-updater                  0.2.1             \r\n",
      "nbconvert                          5.3.1             \r\n",
      "nbformat                           4.4.0             \r\n",
      "networkx                           2.1               \r\n",
      "nltk                               3.3               \r\n",
      "nose                               1.3.7             \r\n",
      "notebook                           5.5.0             \r\n",
      "numba                              0.38.0            \r\n",
      "numexpr                            2.6.5             \r\n",
      "numpy                              1.14.3            \r\n",
      "numpydoc                           0.8.0             \r\n",
      "odo                                0.5.1             \r\n",
      "olefile                            0.45.1            \r\n",
      "opencv-contrib-python              4.0.0.21          \r\n",
      "opencv-python                      3.4.3.18          \r\n",
      "openpyxl                           2.5.3             \r\n",
      "packaging                          17.1              \r\n",
      "pandas                             0.23.0            \r\n",
      "pandocfilters                      1.4.2             \r\n",
      "parso                              0.2.0             \r\n",
      "partd                              0.3.8             \r\n",
      "path.py                            11.0.1            \r\n",
      "pathlib2                           2.3.2             \r\n",
      "patsy                              0.5.0             \r\n",
      "pefile                             2018.8.8          \r\n",
      "pep8                               1.7.1             \r\n",
      "pexpect                            4.5.0             \r\n",
      "pickleshare                        0.7.4             \r\n",
      "Pillow                             5.1.0             \r\n",
      "pip                                18.1              \r\n",
      "pipreqs                            0.4.9             \r\n",
      "pkginfo                            1.4.2             \r\n",
      "pluggy                             0.6.0             \r\n",
      "ply                                3.11              \r\n",
      "prompt-toolkit                     2.0.7             \r\n",
      "protobuf                           3.6.1             \r\n",
      "psutil                             5.4.5             \r\n",
      "ptyprocess                         0.5.2             \r\n",
      "py                                 1.5.3             \r\n",
      "py4j                               0.10.7            \r\n",
      "pyasn1                             0.4.4             \r\n",
      "pycocotools                        2.0.0             \r\n",
      "pycodestyle                        2.4.0             \r\n",
      "pycosat                            0.6.3             \r\n",
      "pycparser                          2.18              \r\n",
      "pycrypto                           2.6.1             \r\n",
      "pycurl                             7.43.0.1          \r\n",
      "pyflakes                           1.6.0             \r\n",
      "Pygments                           2.2.0             \r\n",
      "pygount                            1.0.0             \r\n",
      "PyInstaller                        3.5.dev0+g91b480ae\r\n",
      "pylint                             1.8.4             \r\n",
      "PymageJ                            0.1               \r\n",
      "pyodbc                             4.0.23            \r\n",
      "pyOpenSSL                          18.0.0            \r\n",
      "pyparsing                          2.2.0             \r\n",
      "PySocks                            1.6.8             \r\n",
      "pyspark                            2.4.0             \r\n",
      "pytest                             3.5.1             \r\n",
      "pytest-arraydiff                   0.2               \r\n",
      "pytest-astropy                     0.3.0             \r\n",
      "pytest-doctestplus                 0.1.3             \r\n",
      "pytest-openfiles                   0.3.0             \r\n",
      "pytest-remotedata                  0.2.1             \r\n",
      "python-dateutil                    2.7.3             \r\n",
      "pytz                               2018.4            \r\n",
      "PyWavelets                         0.5.2             \r\n",
      "PyYAML                             3.12              \r\n",
      "pyzmq                              17.0.0            \r\n",
      "QtAwesome                          0.4.4             \r\n",
      "qtconsole                          4.3.1             \r\n",
      "QtPy                               1.4.1             \r\n",
      "read-roi                           1.4.2             \r\n",
      "requests                           2.18.4            \r\n",
      "rope                               0.10.7            \r\n",
      "rsa                                3.4.2             \r\n",
      "ruamel-yaml                        0.15.35           \r\n",
      "s3transfer                         0.1.13            \r\n",
      "scikit-image                       0.14.1            \r\n",
      "scikit-learn                       0.20.0            \r\n",
      "scipy                              1.1.0             \r\n",
      "seaborn                            0.9.0             \r\n",
      "Send2Trash                         1.5.0             \r\n",
      "setuptools                         39.1.0            \r\n",
      "simplegeneric                      0.8.1             \r\n",
      "singledispatch                     3.4.0.3           \r\n",
      "six                                1.10.0            \r\n",
      "slacker                            0.9.65            \r\n",
      "smart-open                         1.7.1             \r\n",
      "snakeviz                           1.0.0             \r\n",
      "snowballstemmer                    1.2.1             \r\n",
      "sortedcollections                  0.6.1             \r\n",
      "sortedcontainers                   1.5.10            \r\n",
      "Sphinx                             1.7.4             \r\n",
      "sphinxcontrib-websupport           1.0.1             \r\n",
      "spyder                             3.2.8             \r\n",
      "SQLAlchemy                         1.2.7             \r\n",
      "statsmodels                        0.9.0             \r\n",
      "sympy                              1.1.1             \r\n",
      "tables                             3.4.4             \r\n",
      "tblib                              1.3.2             \r\n",
      "tensorboard                        1.12.0            \r\n",
      "tensorflow                         1.12.0            \r\n",
      "tensorflow-hub                     0.2.0             \r\n",
      "tensorflow-tensorboard             1.5.1             \r\n",
      "termcolor                          1.1.0             \r\n",
      "terminado                          0.8.1             \r\n",
      "testpath                           0.3.1             \r\n",
      "tfcoreml                           0.2.0             \r\n",
      "tifffile                           0.15.1            \r\n",
      "toolz                              0.9.0             \r\n",
      "torch                              0.4.1             \r\n",
      "tornado                            5.0.2             \r\n",
      "tqdm                               4.24.0            \r\n",
      "traitlets                          4.3.2             \r\n",
      "typing                             3.6.4             \r\n",
      "unicodecsv                         0.14.1            \r\n",
      "urllib3                            1.22              \r\n",
      "virtualenv                         16.0.0            \r\n",
      "wcwidth                            0.1.7             \r\n",
      "webencodings                       0.5.1             \r\n",
      "webkit2png                         0.8.2             \r\n",
      "Werkzeug                           0.14.1            \r\n",
      "wheel                              0.31.1            \r\n",
      "widgetsnbextension                 3.2.1             \r\n",
      "wordcloud                          1.5.0             \r\n",
      "wrapt                              1.10.11           \r\n",
      "xlrd                               1.1.0             \r\n",
      "XlsxWriter                         1.0.4             \r\n",
      "xlwings                            0.11.8            \r\n",
      "xlwt                               1.2.0             \r\n",
      "yarg                               0.1.9             \r\n",
      "zict                               0.1.3             \r\n"
     ]
    },
    {
     "name": "stdout",
     "output_type": "stream",
     "text": [
      "\u001b[33mYou are using pip version 18.1, however version 19.0.3 is available.\r\n",
      "You should consider upgrading via the 'pip install --upgrade pip' command.\u001b[0m\r\n"
     ]
    }
   ],
   "source": [
    "# 현재 설치된 패키지 리스트 확인하기\n",
    "!pip list"
   ]
  },
  {
   "cell_type": "markdown",
   "metadata": {},
   "source": [
    "### (2) 패키지를 다운로드 하기\n",
    "\n",
    "   * `pip install <package name>`를 통해 패키지를 다운로드 할 수 있습니다.\n",
    "   "
   ]
  },
  {
   "cell_type": "code",
   "execution_count": 25,
   "metadata": {},
   "outputs": [
    {
     "name": "stdout",
     "output_type": "stream",
     "text": [
      "Collecting wget\n",
      "Installing collected packages: wget\n",
      "Successfully installed wget-3.2\n",
      "\u001b[33mYou are using pip version 18.1, however version 19.0.3 is available.\n",
      "You should consider upgrading via the 'pip install --upgrade pip' command.\u001b[0m\n"
     ]
    }
   ],
   "source": [
    "# 패키지 설치하기 (wget : 파일을 다운로드하는 것을 도와주는 패키지)\n",
    "!pip install wget"
   ]
  },
  {
   "cell_type": "code",
   "execution_count": 33,
   "metadata": {},
   "outputs": [
    {
     "data": {
      "text/plain": [
       "'400px-Ward_Cunningham_-_Commons-1.jpg'"
      ]
     },
     "execution_count": 33,
     "metadata": {},
     "output_type": "execute_result"
    }
   ],
   "source": [
    "# 설치된 패키지 이용하기\n",
    "import wget\n",
    "\n",
    "# 아래 이미지 다운로드를 현재 폴더로 다운로드 하기\n",
    "wget.download(\"https://upload.wikimedia.org/wikipedia/commons/thumb/8/88/Ward_Cunningham_-_Commons-1.jpg/400px-Ward_Cunningham_-_Commons-1.jpg\")"
   ]
  },
  {
   "cell_type": "code",
   "execution_count": 34,
   "metadata": {},
   "outputs": [
    {
     "name": "stdout",
     "output_type": "stream",
     "text": [
      "2_Python의 변수와 연산.ipynb\r\n",
      "3_Python의 자료구조(1) List와 Tuple.ipynb\r\n",
      "400px-Ward_Cunningham_-_Commons-1.jpg\r\n",
      "4_Python의 자료구조(2) Set와 Dict.ipynb\r\n",
      "5_Python의 제어문(1) 조건문과 반복문.ipynb\r\n",
      "6_Python의 제어문(2) 순회문.ipynb\r\n",
      "7_Python의 함수와 패키지들.ipynb\r\n",
      "KHkJC\r\n",
      "KHkJC2o10n5dq.tmp\r\n",
      "KHkJCgd3vb2xl.tmp\r\n",
      "Untitled.ipynb\r\n"
     ]
    }
   ],
   "source": [
    "# 현재 폴더 내 파일들 검색\n",
    "!ls"
   ]
  },
  {
   "cell_type": "markdown",
   "metadata": {},
   "source": [
    "### (3) 패키지를 지우기\n",
    "\n",
    "   * `pip uninstall -y <package name>`를 통해 설치한 패키지를 지울수 있습니다."
   ]
  },
  {
   "cell_type": "code",
   "execution_count": 35,
   "metadata": {},
   "outputs": [
    {
     "name": "stdout",
     "output_type": "stream",
     "text": [
      "Uninstalling wget-3.2:\n",
      "  Successfully uninstalled wget-3.2\n"
     ]
    }
   ],
   "source": [
    "# 설치된 패키지 지우기\n",
    "!pip uninstall -y wget "
   ]
  },
  {
   "cell_type": "markdown",
   "metadata": {
    "colab_type": "text",
    "id": "E5xyqXf2uJxt"
   },
   "source": [
    "## 1. Python의 다양한 표준패키지 알아보기\n",
    "<hr>\n",
    "+ 파이썬에서는 다양한 표준 패키지를 지원합니다.\n",
    "+ 자주 사용되는 random 패키지을 이용하며, 패키지를 어떤식으로 사용하는지 익혀봅시다."
   ]
  },
  {
   "cell_type": "markdown",
   "metadata": {
    "colab_type": "text",
    "id": "mHW0cYdCuJxt"
   },
   "source": [
    "### (1) time 패키지\n",
    "+ 시간을 측정하는 패키지입니다."
   ]
  },
  {
   "cell_type": "code",
   "execution_count": 36,
   "metadata": {
    "colab": {},
    "colab_type": "code",
    "id": "3ymqoDrruJxv"
   },
   "outputs": [],
   "source": [
    "import time"
   ]
  },
  {
   "cell_type": "code",
   "execution_count": 37,
   "metadata": {
    "colab": {
     "base_uri": "https://localhost:8080/",
     "height": 34
    },
    "colab_type": "code",
    "executionInfo": {
     "elapsed": 703,
     "status": "ok",
     "timestamp": 1550807558503,
     "user": {
      "displayName": "최선열",
      "photoUrl": "",
      "userId": "00663027191814710813"
     },
     "user_tz": -540
    },
    "id": "epveDb4HuJxw",
    "outputId": "da31f917-0fc8-40e8-a1a7-5ea5d681ec26"
   },
   "outputs": [
    {
     "data": {
      "text/plain": [
       "1552889103.213297"
      ]
     },
     "execution_count": 37,
     "metadata": {},
     "output_type": "execute_result"
    }
   ],
   "source": [
    "time.time() # 현재 초단위로 측정되고 있는 OS의 시간을 반환합니다."
   ]
  },
  {
   "cell_type": "markdown",
   "metadata": {
    "colab_type": "text",
    "id": "vBAsHxHeuJx0"
   },
   "source": [
    "+ `time` 패키지는 주로 다음과같이 프로그램이 동작하는 데 얼마나 시간이 걸리는지 측정하는 데에 많이 쓰입니다."
   ]
  },
  {
   "cell_type": "code",
   "execution_count": 38,
   "metadata": {
    "colab": {
     "base_uri": "https://localhost:8080/",
     "height": 34
    },
    "colab_type": "code",
    "executionInfo": {
     "elapsed": 633,
     "status": "ok",
     "timestamp": 1550807743477,
     "user": {
      "displayName": "최선열",
      "photoUrl": "",
      "userId": "00663027191814710813"
     },
     "user_tz": -540
    },
    "id": "0TBZEv7MuJx1",
    "outputId": "d742d163-dbf7-4657-f956-179cdf6b5c17"
   },
   "outputs": [
    {
     "name": "stdout",
     "output_type": "stream",
     "text": [
      "0.0005629062652587891\n"
     ]
    }
   ],
   "source": [
    "start = time.time()\n",
    "# \n",
    "total = 1\n",
    "for i in range(1,1000):\n",
    "    total *= i\n",
    "\n",
    "end = time.time()\n",
    "\n",
    "print(end - start)"
   ]
  },
  {
   "cell_type": "markdown",
   "metadata": {
    "colab_type": "text",
    "id": "TsE6URWluJx3"
   },
   "source": [
    "### (2) os 패키지\n",
    "\n",
    "+ OS(운영체제)내에 있는 여러 기능들을 파이썬에서 이용할 수 있도록 만든 패키지입니다."
   ]
  },
  {
   "cell_type": "code",
   "execution_count": 39,
   "metadata": {
    "colab": {},
    "colab_type": "code",
    "id": "frBlfN4buJx4"
   },
   "outputs": [],
   "source": [
    "import os"
   ]
  },
  {
   "cell_type": "markdown",
   "metadata": {
    "colab_type": "text",
    "id": "QfkEY9iquJx6"
   },
   "source": [
    "#### ⓵ 디렉토리 내 파일이름들을 가져오기"
   ]
  },
  {
   "cell_type": "code",
   "execution_count": 40,
   "metadata": {
    "colab": {
     "base_uri": "https://localhost:8080/",
     "height": 34
    },
    "colab_type": "code",
    "executionInfo": {
     "elapsed": 581,
     "status": "ok",
     "timestamp": 1550807756202,
     "user": {
      "displayName": "최선열",
      "photoUrl": "",
      "userId": "00663027191814710813"
     },
     "user_tz": -540
    },
    "id": "VXJyvlgEuJx7",
    "outputId": "3a2ff6b1-8e70-492c-861f-757d28e77674"
   },
   "outputs": [
    {
     "data": {
      "text/plain": [
       "['KHkJC2o10n5dq.tmp',\n",
       " '6_Python의 제어문(2) 순회문.ipynb',\n",
       " 'KHkJCgd3vb2xl.tmp',\n",
       " 'KHkJC',\n",
       " 'Untitled.ipynb',\n",
       " '7_Python의 함수와 패키지들.ipynb',\n",
       " '3_Python의 자료구조(1) List와 Tuple.ipynb',\n",
       " '400px-Ward_Cunningham_-_Commons-1.jpg',\n",
       " '5_Python의 제어문(1) 조건문과 반복문.ipynb',\n",
       " '2_Python의 변수와 연산.ipynb',\n",
       " '.ipynb_checkpoints',\n",
       " '4_Python의 자료구조(2) Set와 Dict.ipynb']"
      ]
     },
     "execution_count": 40,
     "metadata": {},
     "output_type": "execute_result"
    }
   ],
   "source": [
    "os.listdir(\"./\") # 현재 폴더에 있는 파일들을 가져옵니다."
   ]
  },
  {
   "cell_type": "code",
   "execution_count": 41,
   "metadata": {
    "colab": {
     "base_uri": "https://localhost:8080/",
     "height": 442
    },
    "colab_type": "code",
    "executionInfo": {
     "elapsed": 581,
     "status": "ok",
     "timestamp": 1550807760259,
     "user": {
      "displayName": "최선열",
      "photoUrl": "",
      "userId": "00663027191814710813"
     },
     "user_tz": -540
    },
    "id": "TZWI4iiyuJx8",
    "outputId": "657725de-2bcf-4479-9514-469a47260bd5"
   },
   "outputs": [
    {
     "data": {
      "text/plain": [
       "['.DS_Store', '1_python_basis']"
      ]
     },
     "execution_count": 41,
     "metadata": {},
     "output_type": "execute_result"
    }
   ],
   "source": [
    "os.listdir(\"../\") # 상위 폴더에 있는 파일들을 가져옵니다."
   ]
  },
  {
   "cell_type": "markdown",
   "metadata": {
    "colab_type": "text",
    "id": "00lKkR7auJx_"
   },
   "source": [
    "#### ⓶ 파일이름과 디렉토리 분리하기"
   ]
  },
  {
   "cell_type": "code",
   "execution_count": 42,
   "metadata": {
    "colab": {
     "base_uri": "https://localhost:8080/",
     "height": 34
    },
    "colab_type": "code",
    "executionInfo": {
     "elapsed": 600,
     "status": "ok",
     "timestamp": 1550807762651,
     "user": {
      "displayName": "최선열",
      "photoUrl": "",
      "userId": "00663027191814710813"
     },
     "user_tz": -540
    },
    "id": "aGBssGftuJx_",
    "outputId": "7e55e601-3322-4669-86a4-c8960f92e5b3"
   },
   "outputs": [
    {
     "data": {
      "text/plain": [
       "('/images', 'cat.png')"
      ]
     },
     "execution_count": 42,
     "metadata": {},
     "output_type": "execute_result"
    }
   ],
   "source": [
    "file_path = \"/images/cat.png\" \n",
    "os.path.split(file_path) # 디렉토리와 파일이름을 나누기"
   ]
  },
  {
   "cell_type": "markdown",
   "metadata": {
    "colab_type": "text",
    "id": "4R4GVuicuJyC"
   },
   "source": [
    "### (3) random\n",
    "\n",
    "+ 파이썬에서 무작위로 값을 만들어주거나, 고르거나, 섞을 때 주로 이용하는 패키지입니다."
   ]
  },
  {
   "cell_type": "code",
   "execution_count": 43,
   "metadata": {
    "colab": {},
    "colab_type": "code",
    "id": "GSH6wdLxuJyD"
   },
   "outputs": [],
   "source": [
    "import random"
   ]
  },
  {
   "cell_type": "markdown",
   "metadata": {
    "colab_type": "text",
    "id": "5UlnzoB4uJyE"
   },
   "source": [
    "#### ⓵ 무작위로 0~1 사이의 값을 반환하기"
   ]
  },
  {
   "cell_type": "code",
   "execution_count": 44,
   "metadata": {
    "colab": {
     "base_uri": "https://localhost:8080/",
     "height": 34
    },
    "colab_type": "code",
    "executionInfo": {
     "elapsed": 676,
     "status": "ok",
     "timestamp": 1550807800432,
     "user": {
      "displayName": "최선열",
      "photoUrl": "",
      "userId": "00663027191814710813"
     },
     "user_tz": -540
    },
    "id": "hGL_B_dduJyE",
    "outputId": "2fb48eff-7d8a-49aa-fd64-46e964e5fc1f"
   },
   "outputs": [
    {
     "data": {
      "text/plain": [
       "0.12584982964665037"
      ]
     },
     "execution_count": 44,
     "metadata": {},
     "output_type": "execute_result"
    }
   ],
   "source": [
    "random.random()"
   ]
  },
  {
   "cell_type": "markdown",
   "metadata": {
    "colab_type": "text",
    "id": "nhcliZtquJyH"
   },
   "source": [
    "#### ⓶ a,b 사이의 정수(a<=값<=b) 중 하나를 무작위로 반환하기"
   ]
  },
  {
   "cell_type": "code",
   "execution_count": 45,
   "metadata": {
    "colab": {
     "base_uri": "https://localhost:8080/",
     "height": 34
    },
    "colab_type": "code",
    "executionInfo": {
     "elapsed": 621,
     "status": "ok",
     "timestamp": 1550807809606,
     "user": {
      "displayName": "최선열",
      "photoUrl": "",
      "userId": "00663027191814710813"
     },
     "user_tz": -540
    },
    "id": "CvzXlkWBuJyI",
    "outputId": "328d3d90-1b4b-49ac-bf55-d2ab95f354b4"
   },
   "outputs": [
    {
     "data": {
      "text/plain": [
       "9"
      ]
     },
     "execution_count": 45,
     "metadata": {},
     "output_type": "execute_result"
    }
   ],
   "source": [
    "a = 5\n",
    "b = 10\n",
    "random.randint(a,b)"
   ]
  },
  {
   "cell_type": "markdown",
   "metadata": {
    "colab_type": "text",
    "id": "wmNkiLSduJyM"
   },
   "source": [
    "#### ⓷ 리스트 중 하나를 꺼내기"
   ]
  },
  {
   "cell_type": "code",
   "execution_count": 46,
   "metadata": {
    "colab": {},
    "colab_type": "code",
    "id": "pMymnwRhuJyQ",
    "outputId": "5499cc93-f646-4661-f381-ad1069d00dff"
   },
   "outputs": [
    {
     "data": {
      "text/plain": [
       "5"
      ]
     },
     "execution_count": 46,
     "metadata": {},
     "output_type": "execute_result"
    }
   ],
   "source": [
    "lst1 = [1,2,3,4,5]\n",
    "random.choice(lst1)"
   ]
  },
  {
   "cell_type": "markdown",
   "metadata": {
    "colab_type": "text",
    "id": "W2nod0xvuJyU"
   },
   "source": [
    "#### ⓸ 리스트의 순서를 무작위로 섞기"
   ]
  },
  {
   "cell_type": "code",
   "execution_count": 47,
   "metadata": {
    "colab": {
     "base_uri": "https://localhost:8080/",
     "height": 34
    },
    "colab_type": "code",
    "executionInfo": {
     "elapsed": 592,
     "status": "ok",
     "timestamp": 1550808005726,
     "user": {
      "displayName": "최선열",
      "photoUrl": "",
      "userId": "00663027191814710813"
     },
     "user_tz": -540
    },
    "id": "1gqhF5hEuJyW",
    "outputId": "ffdf6558-eff5-4f23-f3ac-4fe696a4e8b7"
   },
   "outputs": [
    {
     "data": {
      "text/plain": [
       "[2, 4, 3, 1, 5]"
      ]
     },
     "execution_count": 47,
     "metadata": {},
     "output_type": "execute_result"
    }
   ],
   "source": [
    "lst1 = [1,2,3,4,5]\n",
    "random.shuffle(lst1)\n",
    "lst1"
   ]
  },
  {
   "cell_type": "markdown",
   "metadata": {
    "colab_type": "text",
    "id": "MTZevRuFXG5i"
   },
   "source": [
    "## 2. Python의 패키지 호출 활용하기\n",
    "<hr>\n",
    "+  import 예약어를 통해 패키지를 호출할 때, \n",
    "+ 패키지내 에서 필요한 특정 모듈만 가져오거나 별칭을 붙여서(Aliasing) 사용할 수 있습니다."
   ]
  },
  {
   "cell_type": "markdown",
   "metadata": {
    "colab_type": "text",
    "id": "uAV_0b8KuJyb"
   },
   "source": [
    "### (1) 패키지 내 특정 모듈만 가져오기\n",
    "\n",
    "random 내 다양한 메소드 중 shuffle만 가져오고 싶을 때에는 `from`을 이용하면 됩니다."
   ]
  },
  {
   "cell_type": "code",
   "execution_count": 48,
   "metadata": {
    "colab": {},
    "colab_type": "code",
    "id": "qcQk4N9GuJyc"
   },
   "outputs": [],
   "source": [
    "from random import shuffle"
   ]
  },
  {
   "cell_type": "code",
   "execution_count": 49,
   "metadata": {
    "colab": {},
    "colab_type": "code",
    "id": "IKSu091puJye",
    "outputId": "d48b13b9-53ad-4d1c-c74b-5ddaf94b3615"
   },
   "outputs": [
    {
     "data": {
      "text/plain": [
       "[5, 1, 4, 2, 3]"
      ]
     },
     "execution_count": 49,
     "metadata": {},
     "output_type": "execute_result"
    }
   ],
   "source": [
    "lst1 = [1,2,3,4,5]\n",
    "shuffle(lst1)\n",
    "lst1"
   ]
  },
  {
   "cell_type": "markdown",
   "metadata": {
    "colab_type": "text",
    "id": "y7u0m-6rmAue"
   },
   "source": [
    "다음과 같이 특정 모듈내의 여러개 매소드를 한 번에 호출할 수도 있습니다."
   ]
  },
  {
   "cell_type": "code",
   "execution_count": 50,
   "metadata": {
    "colab": {},
    "colab_type": "code",
    "id": "BqlpaMA6mLGL"
   },
   "outputs": [],
   "source": [
    "from random import choice, randint"
   ]
  },
  {
   "cell_type": "code",
   "execution_count": 51,
   "metadata": {
    "colab": {
     "base_uri": "https://localhost:8080/",
     "height": 34
    },
    "colab_type": "code",
    "executionInfo": {
     "elapsed": 759,
     "status": "ok",
     "timestamp": 1550812111191,
     "user": {
      "displayName": "최선열",
      "photoUrl": "",
      "userId": "00663027191814710813"
     },
     "user_tz": -540
    },
    "id": "bM0jtR-rmm2G",
    "outputId": "3d239275-f485-466a-ec32-55503e191296"
   },
   "outputs": [
    {
     "data": {
      "text/plain": [
       "2"
      ]
     },
     "execution_count": 51,
     "metadata": {},
     "output_type": "execute_result"
    }
   ],
   "source": [
    "lst1 = [1,2,3,4,5]\n",
    "random.choice(lst1)"
   ]
  },
  {
   "cell_type": "markdown",
   "metadata": {
    "colab_type": "text",
    "id": "I-_A6Tzwmz-8"
   },
   "source": [
    "다음과 같이 * ( wildcard ; 와일드카드)를 사용하여 모듈 내의 모든 메소드를 한번에 가져오실 수 있습니다.<br>"
   ]
  },
  {
   "cell_type": "code",
   "execution_count": 52,
   "metadata": {
    "colab": {},
    "colab_type": "code",
    "id": "agNt4-LKmxDI"
   },
   "outputs": [],
   "source": [
    "from random import *"
   ]
  },
  {
   "cell_type": "code",
   "execution_count": 53,
   "metadata": {
    "colab": {
     "base_uri": "https://localhost:8080/",
     "height": 68
    },
    "colab_type": "code",
    "executionInfo": {
     "elapsed": 613,
     "status": "ok",
     "timestamp": 1550812727025,
     "user": {
      "displayName": "최선열",
      "photoUrl": "",
      "userId": "00663027191814710813"
     },
     "user_tz": -540
    },
    "id": "IKM4KxRYozcm",
    "outputId": "7cc4b65a-d846-4321-b2eb-4460a9f4af32"
   },
   "outputs": [
    {
     "name": "stdout",
     "output_type": "stream",
     "text": [
      "5\n",
      "[5, 2, 1, 3, 4]\n",
      "9\n"
     ]
    }
   ],
   "source": [
    "lst1 = [1,2,3,4,5]\n",
    "print(choice(lst1))\n",
    "shuffle(lst1)\n",
    "print(lst1)\n",
    "print(randint(5,10))"
   ]
  },
  {
   "cell_type": "markdown",
   "metadata": {
    "colab_type": "text",
    "id": "w6S5A-dMuJyh"
   },
   "source": [
    "### (2) 패키지의 이름을 바꾸기\n",
    "\n",
    "패키지의 이름은 다양합니다. numpy처럼 짧은 이름도 있지만, beutifulsoup 처럼 긴 이름을 가진 패키지도 있습니다. <br>\n",
    "매번 명시하기에는 긴 이름의 패키지인 경우, 파이썬에서는 다음과 같이 **`as`를 통해** 약어로 바꿀 수 있습니다."
   ]
  },
  {
   "cell_type": "code",
   "execution_count": 54,
   "metadata": {
    "colab": {
     "base_uri": "https://localhost:8080/",
     "height": 34
    },
    "colab_type": "code",
    "executionInfo": {
     "elapsed": 1462,
     "status": "ok",
     "timestamp": 1550812888958,
     "user": {
      "displayName": "최선열",
      "photoUrl": "",
      "userId": "00663027191814710813"
     },
     "user_tz": -540
    },
    "id": "haDUA_n4uJyh",
    "outputId": "002d80cc-b699-432e-90a2-12096c8c9cf7"
   },
   "outputs": [
    {
     "data": {
      "text/plain": [
       "array([2, 3, 4, 5, 6])"
      ]
     },
     "execution_count": 54,
     "metadata": {},
     "output_type": "execute_result"
    }
   ],
   "source": [
    "import numpy as np\n",
    "\n",
    "lst1 = [1,2,3,4,5]\n",
    "np.add(lst1, 1)"
   ]
  },
  {
   "cell_type": "markdown",
   "metadata": {
    "colab_type": "text",
    "id": "NKVGfRi2uJyj"
   },
   "source": [
    "#  \n",
    "\n",
    "---\n",
    "\n",
    "    Copyright(c) 2019 by Public AI. All rights reserved.\n",
    "    Writen by PAI, SangJae Kang ( rocketgrowthsj@publicai.co.kr )  last updated on 2019/02/22\n",
    "---"
   ]
  }
 ],
 "metadata": {
  "colab": {
   "collapsed_sections": [
    "FkAkLgIouJwk",
    "2Upmg5J8uJwu",
    "CCTPOlXNuJw2",
    "qSnYnh4luJw-",
    "xREZ5KJ8uJxC",
    "z-fWdiacuJxD",
    "eAU6C2JFuJxI",
    "mlhv3F1KuJxL",
    "WjhVLp66uJxQ",
    "9bR9zPKjuJxZ",
    "mHW0cYdCuJxt",
    "TsE6URWluJx3",
    "QfkEY9iquJx6",
    "00lKkR7auJx_",
    "4R4GVuicuJyC",
    "5UlnzoB4uJyE",
    "nhcliZtquJyH",
    "wmNkiLSduJyM",
    "W2nod0xvuJyU",
    "uAV_0b8KuJyb",
    "w6S5A-dMuJyh"
   ],
   "name": "7_Python의 함수와 패키지들.ipynb",
   "provenance": [],
   "toc_visible": true,
   "version": "0.3.2"
  },
  "kernelspec": {
   "display_name": "Python 3",
   "language": "python",
   "name": "python3"
  },
  "language_info": {
   "codemirror_mode": {
    "name": "ipython",
    "version": 3
   },
   "file_extension": ".py",
   "mimetype": "text/x-python",
   "name": "python",
   "nbconvert_exporter": "python",
   "pygments_lexer": "ipython3",
   "version": "3.6.5"
  }
 },
 "nbformat": 4,
 "nbformat_minor": 1
}
