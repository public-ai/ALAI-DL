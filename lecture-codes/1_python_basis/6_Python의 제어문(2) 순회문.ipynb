{
 "cells": [
  {
   "cell_type": "markdown",
   "metadata": {
    "colab_type": "text",
    "id": "KndzlbnQiwf5"
   },
   "source": [
    "┏━━<i><b>Alai-DeepLearning</b></i>━━━━━━━━━━━━━━━━━━━━━━━━━━━━━━━━━━━━━━┓\n",
    "###  &nbsp;&nbsp; **✎ &nbsp;Week1. Python의 기초 문법**\n",
    "# Section 6. Python에서의 제어문 2 ( 순회문 )\n",
    "\n",
    "### _Objective_\n",
    "1. Python에서 제공하는 제어문은 크게 3가지 조건문(if) / 반복문(while) / 순회문(for)이 존재합니다.<br>\n",
    "2. 그 중 순회문은 여러 요소를 순차적으로 가진 자료에 대해 요소별로 되풀이(iteration)하여 실행합니다. <br>\n",
    "3. 순회문에 대해서 이해하고, 실습을 통해 활용해 보겠습니다.<br>\n",
    "\n",
    "  \n",
    "┗━━━━━━━━━━━━━━━━━━━━━━━━━━━━━━━━━━━━━━━━━━━━━━━━━━━━┛\n",
    " "
   ]
  },
  {
   "cell_type": "markdown",
   "metadata": {
    "colab_type": "text",
    "id": "DWLy5TS8iwf8"
   },
   "source": [
    "# \\[ 1. 순회문(for) \\]\n",
    "\n",
    "---\n",
    "\n",
    "---\n",
    "\n",
    "> *순회문의 기본 구조는 아래와 같습니다.*\n",
    "    \n",
    "````python\n",
    "for 원소 in 순회할자료구조(list,tuple,set,dict):\n",
    "    수행할 문장1\n",
    "    수행할 문장2\n",
    "    ...\n",
    "\n",
    "````\n",
    "\n",
    "> *순회문은 <순회할자료구조>에서 값을 하나하나 꺼내와서 처리할 수 있도록 만드는 제어문입니다.*"
   ]
  },
  {
   "cell_type": "markdown",
   "metadata": {
    "colab_type": "text",
    "id": "vqHW1sitkQSL"
   },
   "source": [
    "### 예제 데이터)\n",
    "\n",
    "┌─<i> ✍︎ Example  </i>────────────────────────────┐ <br>\n",
    "\n",
    "AOA 멤버들의 정보를 순서대로 출력하는 코드를 작성해 보겠습니다. <br>\n",
    "\n",
    "└───────────────────────────────────┘\n"
   ]
  },
  {
   "cell_type": "markdown",
   "metadata": {
    "colab_type": "text",
    "id": "_xqB9pNKiwf9"
   },
   "source": [
    "**AOA 멤버 정보 리스트**\n",
    "\n",
    "| 이름 | 생년월일 | 포지션 | 천사명 |\n",
    "|----|----| ---- | ---- | \n",
    "| 지민 | 1991.1.8 | 리더, 래퍼 | 지미넬 |\n",
    "| 유나 | 1992.12.30 | 보컬, 키보드 | 유나리아 |\n",
    "| 혜정 | 1993.8.10 | 보컬, 댄서 | 혜정리너스 |\n",
    "| 민아 | 1993.9.21 | 래퍼, 보컬, 베이스 | 민아링 |\n",
    "| 설현 | 1995.1.3 | 보컬, 댄서 | 설현아리 |\n",
    "| 찬미 | 1996.6.19 | 래퍼, 보컬, 댄서 | 찬미 티티 |"
   ]
  },
  {
   "cell_type": "markdown",
   "metadata": {
    "colab_type": "text",
    "id": "3afVLCvbiwf-"
   },
   "source": [
    "## 1. 리스트(List) 순회하기\n",
    "<hr>"
   ]
  },
  {
   "cell_type": "markdown",
   "metadata": {
    "colab_type": "text",
    "id": "d1BC3veJiwf_"
   },
   "source": [
    "### 예제 1. ) AOA 멤버들의 이름 출력하기 \n",
    "* AOA의 멤버들의 이름이 리스트로 주어졌을 때, 이름을 하나씩 출력해봅시다."
   ]
  },
  {
   "cell_type": "code",
   "execution_count": 1,
   "metadata": {
    "colab": {},
    "colab_type": "code",
    "id": "7p0dNdHaiwgA",
    "outputId": "e33155b4-632a-4a98-dbd2-2a1069c21a14"
   },
   "outputs": [
    {
     "name": "stdout",
     "output_type": "stream",
     "text": [
      "지민 : AOA의 멤버입니다\n",
      "유나 : AOA의 멤버입니다\n",
      "혜정 : AOA의 멤버입니다\n",
      "민아 : AOA의 멤버입니다\n",
      "설현 : AOA의 멤버입니다\n",
      "찬미 : AOA의 멤버입니다\n"
     ]
    }
   ],
   "source": [
    "AOA = [\"지민\", \"유나\", \"혜정\", \"민아\", \"설현\", \"찬미\"]\n",
    "\n",
    "for name in AOA:\n",
    "    print(\"{} : AOA의 멤버입니다\".format(name))"
   ]
  },
  {
   "cell_type": "markdown",
   "metadata": {
    "colab_type": "text",
    "id": "BZQcSEb5iwgI"
   },
   "source": [
    "### (1) `break`로 중단하기"
   ]
  },
  {
   "cell_type": "markdown",
   "metadata": {
    "colab_type": "text",
    "id": "ho7vkNHJiwgJ"
   },
   "source": [
    "이름 출력을 민아까지만 출력한다고 해봅시다."
   ]
  },
  {
   "cell_type": "code",
   "execution_count": 2,
   "metadata": {
    "colab": {},
    "colab_type": "code",
    "id": "Z3Ic3tV0iwgK",
    "outputId": "53469d47-7dfa-402b-fdeb-b1991064b862"
   },
   "outputs": [
    {
     "name": "stdout",
     "output_type": "stream",
     "text": [
      "지민 : AOA의 멤버입니다\n",
      "유나 : AOA의 멤버입니다\n",
      "혜정 : AOA의 멤버입니다\n",
      "민아 : AOA의 멤버입니다\n"
     ]
    }
   ],
   "source": [
    "AOA = [\"지민\", \"유나\", \"혜정\", \"민아\", \"설현\", \"찬미\"]\n",
    "\n",
    "for name in AOA:\n",
    "    print(\"{} : AOA의 멤버입니다\".format(name))\n",
    "    if name == \"민아\":\n",
    "        # name이 민아면, 출력을 멈춤\n",
    "        break"
   ]
  },
  {
   "cell_type": "markdown",
   "metadata": {
    "colab_type": "text",
    "id": "sKhcabb1iwgO"
   },
   "source": [
    "민아 이후의 설현, 찬미는 출력이 되지 않습니다."
   ]
  },
  {
   "cell_type": "markdown",
   "metadata": {
    "colab_type": "text",
    "id": "QN4LcuP1iwgP"
   },
   "source": [
    "### (2) `continue`로 건너뛰기"
   ]
  },
  {
   "cell_type": "markdown",
   "metadata": {
    "colab_type": "text",
    "id": "4POY9uMciwgP"
   },
   "source": [
    "설현 이름을 제외하고 다른 이름들을 출력해봅시다."
   ]
  },
  {
   "cell_type": "code",
   "execution_count": 3,
   "metadata": {
    "colab": {},
    "colab_type": "code",
    "id": "bofhJH24iwgR",
    "outputId": "2105f490-97c5-47a4-d686-bc4c3a0acfb7"
   },
   "outputs": [
    {
     "name": "stdout",
     "output_type": "stream",
     "text": [
      "지민 : AOA의 멤버입니다\n",
      "유나 : AOA의 멤버입니다\n",
      "혜정 : AOA의 멤버입니다\n",
      "민아 : AOA의 멤버입니다\n",
      "찬미 : AOA의 멤버입니다\n"
     ]
    }
   ],
   "source": [
    "AOA = [\"지민\", \"유나\", \"혜정\", \"민아\", \"설현\", \"찬미\"]\n",
    "\n",
    "for name in AOA:\n",
    "    if name == \"설현\":\n",
    "        # name이 설현이면, 건너뛰기\n",
    "        continue\n",
    "    print(\"{} : AOA의 멤버입니다\".format(name))"
   ]
  },
  {
   "cell_type": "markdown",
   "metadata": {
    "colab_type": "text",
    "id": "IRiL8UMFiwgT"
   },
   "source": [
    "### (3) 2중 순회 구문"
   ]
  },
  {
   "cell_type": "markdown",
   "metadata": {
    "colab_type": "text",
    "id": "lHcRrP3KiwgU"
   },
   "source": [
    "멤버 별로 맡은 포지션을 출력해봅시다."
   ]
  },
  {
   "cell_type": "code",
   "execution_count": 4,
   "metadata": {
    "colab": {},
    "colab_type": "code",
    "id": "osbtyCa5iwgV"
   },
   "outputs": [],
   "source": [
    "jimin = [\"지민\", \"리더\", \"래퍼\"]\n",
    "yuna = [\"유나\", \"보컬\", \"키보드\"]\n",
    "hyejung = [\"현정\", \"보컬\", \"댄서\"]\n",
    "mina = [\"미나\", \"래퍼\", \"보컬\", \"베이스\"]\n",
    "sulhyun = [\"설현\", \"보컬\",\"댄서\"]\n",
    "chanmi = [\"찬미\", \"래퍼\", \"보컬\", \"댄서\"]\n",
    "\n",
    "members_position = [jimin, yuna, hyejung, mina, sulhyun, chanmi]\n"
   ]
  },
  {
   "cell_type": "code",
   "execution_count": 5,
   "metadata": {
    "colab": {
     "base_uri": "https://localhost:8080/",
     "height": 561
    },
    "colab_type": "code",
    "executionInfo": {
     "elapsed": 576,
     "status": "ok",
     "timestamp": 1551065322261,
     "user": {
      "displayName": "최선열",
      "photoUrl": "",
      "userId": "00663027191814710813"
     },
     "user_tz": -540
    },
    "id": "G6QXAqQsiwgX",
    "outputId": "0a10d095-1e7c-4f9d-df71-0e67a44a76a7"
   },
   "outputs": [
    {
     "name": "stdout",
     "output_type": "stream",
     "text": [
      "멤버이름 :  지민\n",
      "멤버가 맡은 포지션\n",
      " *  리더\n",
      " *  래퍼\n",
      "---------\n",
      "멤버이름 :  유나\n",
      "멤버가 맡은 포지션\n",
      " *  보컬\n",
      " *  키보드\n",
      "---------\n",
      "멤버이름 :  현정\n",
      "멤버가 맡은 포지션\n",
      " *  보컬\n",
      " *  댄서\n",
      "---------\n",
      "멤버이름 :  미나\n",
      "멤버가 맡은 포지션\n",
      " *  래퍼\n",
      " *  보컬\n",
      " *  베이스\n",
      "---------\n",
      "멤버이름 :  설현\n",
      "멤버가 맡은 포지션\n",
      " *  보컬\n",
      " *  댄서\n",
      "---------\n",
      "멤버이름 :  찬미\n",
      "멤버가 맡은 포지션\n",
      " *  래퍼\n",
      " *  보컬\n",
      " *  댄서\n",
      "---------\n"
     ]
    }
   ],
   "source": [
    "for member in members_position:\n",
    "    member_name = member[0]\n",
    "    positions = member[1:]\n",
    "    \n",
    "    print(\"멤버이름 : \",member_name)\n",
    "    print(\"멤버가 맡은 포지션\")\n",
    "    \n",
    "    for position in positions:\n",
    "        # for 구문 안에 for 구문을 쓸 수 있습니다.\n",
    "        print(\" * \", position)\n",
    "    \n",
    "    print(\"---------\")"
   ]
  },
  {
   "cell_type": "markdown",
   "metadata": {
    "colab_type": "text",
    "id": "UiRVAitPiwga"
   },
   "source": [
    "## 2. Set 순회하기\n",
    "<hr>"
   ]
  },
  {
   "cell_type": "markdown",
   "metadata": {
    "colab_type": "text",
    "id": "2joimVfgiwga"
   },
   "source": [
    "### 예제 2.) AOA에 배치되어 있는 포지션들 출력하기\n",
    "AOA의 멤버들의 포지션들은 다양합니다. AOA에 있는 포지션들을 나열해 봅시다. "
   ]
  },
  {
   "cell_type": "code",
   "execution_count": 6,
   "metadata": {
    "colab": {},
    "colab_type": "code",
    "id": "K6X54dr1iwgb",
    "outputId": "056f9b34-1f2c-4ffc-a5c3-bcb89b64f5aa"
   },
   "outputs": [
    {
     "data": {
      "text/plain": [
       "{'댄서', '래퍼', '리더', '베이스', '보컬', '키보드'}"
      ]
     },
     "execution_count": 6,
     "metadata": {},
     "output_type": "execute_result"
    }
   ],
   "source": [
    "jimin = {\"리더\", \"래퍼\"}\n",
    "yuna = {\"보컬\", \"키보드\"}\n",
    "hyejung = {\"보컬\", \"댄서\"}\n",
    "mina = {\"래퍼\", \"보컬\", \"베이스\"}\n",
    "sulhyun = {\"보컬\",\"댄서\"}\n",
    "chanmi = {\"래퍼\", \"보컬\", \"댄서\"}\n",
    "\n",
    "all_position = jimin | yuna | hyejung | mina | sulhyun | chanmi # 모든 position의 합집합\n",
    "all_position"
   ]
  },
  {
   "cell_type": "code",
   "execution_count": 7,
   "metadata": {
    "colab": {},
    "colab_type": "code",
    "id": "84Zz_e5oiwge",
    "outputId": "38721ed8-56a4-4546-f096-53e72166a561"
   },
   "outputs": [
    {
     "name": "stdout",
     "output_type": "stream",
     "text": [
      "키보드\n",
      "래퍼\n",
      "베이스\n",
      "보컬\n",
      "리더\n",
      "댄서\n"
     ]
    }
   ],
   "source": [
    "for position in all_position:\n",
    "    # 순서에 무관하게(내부에 저장된 순서대로) 출력\n",
    "    print(position)"
   ]
  },
  {
   "cell_type": "markdown",
   "metadata": {
    "colab_type": "text",
    "id": "znmKlTOOiwgh"
   },
   "source": [
    "> set은 순서가 정해지지 않은 자료구조로, **입력**했던 순서와 다르게 출력됩니다."
   ]
  },
  {
   "cell_type": "markdown",
   "metadata": {
    "colab_type": "text",
    "id": "zpdSQ5jqiwgi"
   },
   "source": [
    "## 3. Dict 순회하기\n",
    "<hr>"
   ]
  },
  {
   "cell_type": "markdown",
   "metadata": {
    "colab_type": "text",
    "id": "KM741BPBiwgj"
   },
   "source": [
    "### 예제3. ) AOA 멤버들의 이름과 생일을 같이 출력하기\n",
    "AOA의 멤버들의 이름과 생일이 dictionary로 주어졌을 때, 함께 출력해 봅시다."
   ]
  },
  {
   "cell_type": "code",
   "execution_count": 8,
   "metadata": {
    "colab": {},
    "colab_type": "code",
    "id": "1ebNPMbsiwgk"
   },
   "outputs": [],
   "source": [
    "AOA_with_birthday = {\n",
    "    \"지민\" : \"1991.1.8\",\n",
    "    \"유나\" : \"1992.12.30\",\n",
    "    \"혜정\" : \"1993.8.10\",\n",
    "    \"민아\" : \"1993.9.21\",\n",
    "    \"설현\" : \"1995.1.3\",\n",
    "    \"찬미\" : \"1996.6.19\"\n",
    "}"
   ]
  },
  {
   "cell_type": "markdown",
   "metadata": {
    "colab_type": "text",
    "id": "pDZPqFPiiwgm"
   },
   "source": [
    "### (1) 키를 기준으로 순회하기"
   ]
  },
  {
   "cell_type": "code",
   "execution_count": 9,
   "metadata": {
    "colab": {
     "base_uri": "https://localhost:8080/",
     "height": 119
    },
    "colab_type": "code",
    "executionInfo": {
     "elapsed": 406,
     "status": "ok",
     "timestamp": 1551063820173,
     "user": {
      "displayName": "최선열",
      "photoUrl": "",
      "userId": "00663027191814710813"
     },
     "user_tz": -540
    },
    "id": "66n3-K8ciwgn",
    "outputId": "eaf4e626-dc4c-4ddf-df35-7b1363082aee"
   },
   "outputs": [
    {
     "name": "stdout",
     "output_type": "stream",
     "text": [
      "지민\n",
      "유나\n",
      "혜정\n",
      "민아\n",
      "설현\n",
      "찬미\n"
     ]
    }
   ],
   "source": [
    "for member_name in AOA_with_birthday:\n",
    "    print(member_name)"
   ]
  },
  {
   "cell_type": "markdown",
   "metadata": {
    "colab_type": "text",
    "id": "yB1I_p3Hiwgr"
   },
   "source": [
    "기본적으로 순회 구문에 넣었을 때, 키를 중심으로 순회하게 됩니다."
   ]
  },
  {
   "cell_type": "markdown",
   "metadata": {
    "colab_type": "text",
    "id": "KCkiEa7-iwgs"
   },
   "source": [
    "### (2) 값을 기준으로 순회하기"
   ]
  },
  {
   "cell_type": "code",
   "execution_count": 10,
   "metadata": {
    "colab": {
     "base_uri": "https://localhost:8080/",
     "height": 119
    },
    "colab_type": "code",
    "executionInfo": {
     "elapsed": 807,
     "status": "ok",
     "timestamp": 1551063821074,
     "user": {
      "displayName": "최선열",
      "photoUrl": "",
      "userId": "00663027191814710813"
     },
     "user_tz": -540
    },
    "id": "zvn4iNf_iwgu",
    "outputId": "19a811d7-cd80-41a5-812e-02c4a9030352"
   },
   "outputs": [
    {
     "name": "stdout",
     "output_type": "stream",
     "text": [
      "1991.1.8\n",
      "1992.12.30\n",
      "1993.8.10\n",
      "1993.9.21\n",
      "1995.1.3\n",
      "1996.6.19\n"
     ]
    }
   ],
   "source": [
    "for birthday in AOA_with_birthday.values():\n",
    "    print(birthday)"
   ]
  },
  {
   "cell_type": "markdown",
   "metadata": {
    "colab_type": "text",
    "id": "WsTZ4t7oiwg0"
   },
   "source": [
    "값을 순회하고 싶으면, `values()`로 순회해야 합니다."
   ]
  },
  {
   "cell_type": "markdown",
   "metadata": {
    "colab_type": "text",
    "id": "239BSSXgiwg1"
   },
   "source": [
    "### (3) 키와 값을 같이 순회하기"
   ]
  },
  {
   "cell_type": "code",
   "execution_count": 11,
   "metadata": {
    "colab": {
     "base_uri": "https://localhost:8080/",
     "height": 119
    },
    "colab_type": "code",
    "executionInfo": {
     "elapsed": 417,
     "status": "ok",
     "timestamp": 1551063822065,
     "user": {
      "displayName": "최선열",
      "photoUrl": "",
      "userId": "00663027191814710813"
     },
     "user_tz": -540
    },
    "id": "JahlA76Giwg2",
    "outputId": "22c580ea-b6b9-46a4-f22a-6556d1c34cd8"
   },
   "outputs": [
    {
     "name": "stdout",
     "output_type": "stream",
     "text": [
      "지민 1991.1.8\n",
      "유나 1992.12.30\n",
      "혜정 1993.8.10\n",
      "민아 1993.9.21\n",
      "설현 1995.1.3\n",
      "찬미 1996.6.19\n"
     ]
    }
   ],
   "source": [
    "for member_name, birth_day in AOA_with_birthday.items():\n",
    "    print(member_name, birth_day)"
   ]
  },
  {
   "cell_type": "markdown",
   "metadata": {
    "colab_type": "text",
    "id": "Xq1cSZpAiwg4"
   },
   "source": [
    "키와 값을 같이 순회하고 싶으면,  `items()`로 순회해야 합니다. "
   ]
  },
  {
   "cell_type": "markdown",
   "metadata": {
    "colab_type": "text",
    "id": "1U0gIAS6iwg5"
   },
   "source": [
    "# \\[ 2. 순회문을 도와주는 메소드들 ( `enumerate`, `range`와 `zip` ) \\]\n",
    "\n",
    "---\n",
    "\n",
    "---"
   ]
  },
  {
   "cell_type": "markdown",
   "metadata": {
    "colab_type": "text",
    "id": "4UVehkGNiwg5"
   },
   "source": [
    "## 1. 자료구조에 인덱스를 함께 출력하기 :  `enumerate`\n",
    "<hr>"
   ]
  },
  {
   "cell_type": "markdown",
   "metadata": {
    "colab_type": "text",
    "id": "lFfP7GPQoreP"
   },
   "source": [
    "### 예제4. ) 이름과 순서를 같이 출력하기\n",
    "> 멤버들의 이름을 순번과 함께 출력해봅시다."
   ]
  },
  {
   "cell_type": "code",
   "execution_count": 12,
   "metadata": {
    "colab": {},
    "colab_type": "code",
    "id": "CKYIxNd4iwg6"
   },
   "outputs": [],
   "source": [
    "names = [\"지민\", \"유나\", \"혜정\", \"민아\", \"설현\", \"찬미\"]"
   ]
  },
  {
   "cell_type": "markdown",
   "metadata": {
    "colab_type": "text",
    "id": "82VJfucziwg8"
   },
   "source": [
    "> + `enumerate(<자료구조>,<시작값>)`는 순회할 때, index를 원소와 함께 반환해줍니다."
   ]
  },
  {
   "cell_type": "code",
   "execution_count": 13,
   "metadata": {
    "colab": {
     "base_uri": "https://localhost:8080/",
     "height": 119
    },
    "colab_type": "code",
    "executionInfo": {
     "elapsed": 404,
     "status": "ok",
     "timestamp": 1551064351250,
     "user": {
      "displayName": "최선열",
      "photoUrl": "",
      "userId": "00663027191814710813"
     },
     "user_tz": -540
    },
    "id": "ZBGFTc9miwg9",
    "outputId": "97af3899-99b5-42f9-eea5-839df05cf845"
   },
   "outputs": [
    {
     "name": "stdout",
     "output_type": "stream",
     "text": [
      "0번째 멤버 : 지민\n",
      "1번째 멤버 : 유나\n",
      "2번째 멤버 : 혜정\n",
      "3번째 멤버 : 민아\n",
      "4번째 멤버 : 설현\n",
      "5번째 멤버 : 찬미\n"
     ]
    }
   ],
   "source": [
    "for idx, name in enumerate(names):\n",
    "    print(\"{}번째 멤버 : {}\".format(idx, name))"
   ]
  },
  {
   "cell_type": "markdown",
   "metadata": {
    "colab_type": "text",
    "id": "XToIxmm1iwg_"
   },
   "source": [
    "> + `enumerate(<자료구조>,<시작값>)`으로 구성되어 있습니다. <시작값>을 지정하면, 시작값부터 1씩 인덱스가 증가합니다."
   ]
  },
  {
   "cell_type": "code",
   "execution_count": 14,
   "metadata": {
    "colab": {
     "base_uri": "https://localhost:8080/",
     "height": 119
    },
    "colab_type": "code",
    "executionInfo": {
     "elapsed": 583,
     "status": "ok",
     "timestamp": 1551064382238,
     "user": {
      "displayName": "최선열",
      "photoUrl": "",
      "userId": "00663027191814710813"
     },
     "user_tz": -540
    },
    "id": "sJscHxeUiwhA",
    "outputId": "c6b0eea2-a582-4be9-8ccb-54086236ba93"
   },
   "outputs": [
    {
     "name": "stdout",
     "output_type": "stream",
     "text": [
      "1번째 멤버 : 지민\n",
      "2번째 멤버 : 유나\n",
      "3번째 멤버 : 혜정\n",
      "4번째 멤버 : 민아\n",
      "5번째 멤버 : 설현\n",
      "6번째 멤버 : 찬미\n"
     ]
    }
   ],
   "source": [
    "for idx, name in enumerate(names,1):\n",
    "    # 1부터 출력하고 싶으면, enumerate 2번째 인자에 1로 지정해주면 됩니다.\n",
    "    print(\"{}번째 멤버 : {}\".format(idx, name))"
   ]
  },
  {
   "cell_type": "markdown",
   "metadata": {
    "colab_type": "text",
    "id": "APAw5KCYiwhD"
   },
   "source": [
    "## 2. 숫자 배열을 생성하기 :  `range`\n",
    "<hr>\n",
    " "
   ]
  },
  {
   "cell_type": "markdown",
   "metadata": {
    "colab_type": "text",
    "id": "IP58rQYZpI0y"
   },
   "source": [
    "### 예제5. ) 0부터 6까지 순회하기\n",
    "> 0부터 6까지 순서대로 출력을 해봅시다."
   ]
  },
  {
   "cell_type": "code",
   "execution_count": 15,
   "metadata": {
    "colab": {},
    "colab_type": "code",
    "id": "CTR40u1diwhE",
    "outputId": "04ed76d6-2627-46aa-91b1-9f92c0bd9c13"
   },
   "outputs": [
    {
     "name": "stdout",
     "output_type": "stream",
     "text": [
      "0\n",
      "1\n",
      "2\n",
      "3\n",
      "4\n",
      "5\n"
     ]
    }
   ],
   "source": [
    "nums = [0,1,2,3,4,5]\n",
    "\n",
    "for num in nums:\n",
    "    print(num)"
   ]
  },
  {
   "cell_type": "markdown",
   "metadata": {
    "colab_type": "text",
    "id": "tynVRTsLiwhG"
   },
   "source": [
    "> * 위와 같이 할수도 있지만, 간단히 하기 위해서 아래처럼 할 수 있습니다."
   ]
  },
  {
   "cell_type": "code",
   "execution_count": 16,
   "metadata": {
    "colab": {},
    "colab_type": "code",
    "id": "EZdaZe2-iwhI",
    "outputId": "586c2df2-a610-49d3-e8ec-5cd733b196f5"
   },
   "outputs": [
    {
     "name": "stdout",
     "output_type": "stream",
     "text": [
      "0\n",
      "1\n",
      "2\n",
      "3\n",
      "4\n",
      "5\n"
     ]
    }
   ],
   "source": [
    "for num in range(0,6):\n",
    "    print(num)"
   ]
  },
  {
   "cell_type": "markdown",
   "metadata": {
    "colab_type": "text",
    "id": "gmBtCukxiwhK"
   },
   "source": [
    "### 예제6. ) 0부터 10까지 짝수만 순회하기\n",
    "> 0부터 10까지 있는 숫자 중 짝수만 출력해 봅시다."
   ]
  },
  {
   "cell_type": "code",
   "execution_count": 17,
   "metadata": {
    "colab": {},
    "colab_type": "code",
    "id": "TUv32afZiwhL",
    "outputId": "2bae8a93-c342-4902-b874-84439b83ace6"
   },
   "outputs": [
    {
     "name": "stdout",
     "output_type": "stream",
     "text": [
      "0\n",
      "2\n",
      "4\n",
      "6\n",
      "8\n"
     ]
    }
   ],
   "source": [
    "for num in range(0,10,2):\n",
    "    print(num)"
   ]
  },
  {
   "cell_type": "markdown",
   "metadata": {
    "colab_type": "text",
    "id": "0KlWztx6iwhO"
   },
   "source": [
    "### 예제7. ) 10부터 1까지 거꾸로 순회하기\n",
    "> 10부터 1까지 거꾸로 출력해봅시다."
   ]
  },
  {
   "cell_type": "code",
   "execution_count": 18,
   "metadata": {
    "colab": {},
    "colab_type": "code",
    "id": "L3q7WHQliwhP"
   },
   "outputs": [
    {
     "name": "stdout",
     "output_type": "stream",
     "text": [
      "10\n",
      "9\n",
      "8\n",
      "7\n",
      "6\n",
      "5\n",
      "4\n",
      "3\n",
      "2\n",
      "1\n"
     ]
    }
   ],
   "source": [
    "for num in range(10,0,-1):\n",
    "    print(num)"
   ]
  },
  {
   "cell_type": "markdown",
   "metadata": {
    "colab_type": "text",
    "id": "eefc4G5yiwhT"
   },
   "source": [
    "## 3. 여러 자료구조를 함께 순회하기 :  `zip`\n",
    "<hr>"
   ]
  },
  {
   "cell_type": "markdown",
   "metadata": {
    "colab_type": "text",
    "id": "jFPlOP9tiwhT"
   },
   "source": [
    "### 예제8. ) 이름과 천사명 같이 출력하기\n",
    "\n",
    "> 이름 리스트와 천사명 리스트를 같이 받았을 때, 두 요소가 같이 순서대로 출력해보도록 해봅시다."
   ]
  },
  {
   "cell_type": "code",
   "execution_count": 19,
   "metadata": {
    "colab": {},
    "colab_type": "code",
    "id": "z1CtR4FriwhU",
    "outputId": "718e9599-3e36-45ec-fc99-494a1dc2f877"
   },
   "outputs": [
    {
     "name": "stdout",
     "output_type": "stream",
     "text": [
      "지민 - 지미넬\n",
      "유나 - 유나리아\n",
      "혜정 - 혜정리너스\n",
      "민아 - 민아링\n",
      "설현 - 설현아리\n",
      "찬미 - 찬미 티티\n"
     ]
    }
   ],
   "source": [
    "names = [\"지민\", \"유나\", \"혜정\", \"민아\", \"설현\", \"찬미\"]\n",
    "angels = [\"지미넬\",\"유나리아\",\"혜정리너스\",\"민아링\",\"설현아리\",\"찬미 티티\"]\n",
    "\n",
    "for name, angle in zip(names, angels):\n",
    "    print(name, \"-\", angle)"
   ]
  },
  {
   "cell_type": "markdown",
   "metadata": {
    "colab_type": "text",
    "id": "0Pg13vhUiwhX"
   },
   "source": [
    "* `zip`을 이용하면, 한번에 여러 개의 리스트를 같은 순서대로 순회할 수 있습니다."
   ]
  },
  {
   "cell_type": "markdown",
   "metadata": {},
   "source": [
    "# \\[ 3. list, dict을 간결하게 만드는 방법 (comprehension ) \\]\n",
    "\n",
    "---\n",
    "\n",
    "---\n",
    "\n",
    "\n",
    "> *Python에서는 list와 dict를 생성하기 위한 방법 중 하나로, `Comprehension`을 제공합니다.*"
   ]
  },
  {
   "cell_type": "markdown",
   "metadata": {},
   "source": [
    "## 1. List Comprehension\n",
    "<hr>"
   ]
  },
  {
   "cell_type": "markdown",
   "metadata": {},
   "source": [
    "### 예제 1) 20까지의 짝수를 가지고 있는 List 만들기\n",
    "> `list comprehension`을 통해 매우 간결하게 코드를 작성할 수 있습니다."
   ]
  },
  {
   "cell_type": "code",
   "execution_count": 20,
   "metadata": {},
   "outputs": [],
   "source": [
    "even_numbers = []\n",
    "for x in range(11):\n",
    "    even_numbers.append(2 * x)"
   ]
  },
  {
   "cell_type": "code",
   "execution_count": 21,
   "metadata": {},
   "outputs": [
    {
     "data": {
      "text/plain": [
       "[0, 2, 4, 6, 8, 10, 12, 14, 16, 18, 20]"
      ]
     },
     "execution_count": 21,
     "metadata": {},
     "output_type": "execute_result"
    }
   ],
   "source": [
    "# 위의 순회문은 아래와 같이 간결하게 나타낼 수 있습니다.\n",
    "even_numbers = [2 * x for x in range(11)]\n",
    "even_numbers"
   ]
  },
  {
   "cell_type": "markdown",
   "metadata": {},
   "source": [
    "### 예제 2) 보컬 역할을 가지고 있는 멤버들의 이름 리스트를 가져오기"
   ]
  },
  {
   "cell_type": "code",
   "execution_count": 22,
   "metadata": {},
   "outputs": [],
   "source": [
    "# 각 멤버의 이름과 포지션에 대한 dictionary 리스트\n",
    "jimin = {\n",
    "    \"name\" : \"지민\",\n",
    "    \"position\" : {\"리더\", \"래퍼\"}\n",
    "}\n",
    "yuna = {\n",
    "    \"name\" : \"유나\",\n",
    "    \"position\" : {\"보컬\", \"키보드\"}\n",
    "}\n",
    "hyejung = {\n",
    "    \"name\" : \"혜정\",\n",
    "    \"position\" : {\"보컬\", \"댄서\"}\n",
    "}\n",
    "mina = {\n",
    "    \"name\" : \"민아\",\n",
    "    \"position\": {\"래퍼\", \"보컬\", \"베이스\"}\n",
    "}\n",
    "sulhyun = {\n",
    "    \"name\" : \"설현\",\n",
    "    \"position\" : {\"보컬\",\"댄서\"}\n",
    "}\n",
    "chanmi = {\n",
    "    \"name\" : \"찬미\",\n",
    "    \"position\" : {\"래퍼\", \"보컬\", \"댄서\"}\n",
    "}\n",
    "\n",
    "all_members = [jimin, yuna, hyejung, mina, sulhyun, chanmi] "
   ]
  },
  {
   "cell_type": "code",
   "execution_count": 23,
   "metadata": {},
   "outputs": [
    {
     "data": {
      "text/plain": [
       "[{'name': '유나', 'position': {'보컬', '키보드'}},\n",
       " {'name': '혜정', 'position': {'댄서', '보컬'}},\n",
       " {'name': '민아', 'position': {'래퍼', '베이스', '보컬'}},\n",
       " {'name': '설현', 'position': {'댄서', '보컬'}},\n",
       " {'name': '찬미', 'position': {'댄서', '래퍼', '보컬'}}]"
      ]
     },
     "execution_count": 23,
     "metadata": {},
     "output_type": "execute_result"
    }
   ],
   "source": [
    "vocal_members = []\n",
    "\n",
    "for member in all_members:\n",
    "    if \"보컬\" in member['position']:\n",
    "        vocal_members.append(member)\n",
    "\n",
    "vocal_members"
   ]
  },
  {
   "cell_type": "code",
   "execution_count": 24,
   "metadata": {},
   "outputs": [
    {
     "data": {
      "text/plain": [
       "[{'name': '유나', 'position': {'보컬', '키보드'}},\n",
       " {'name': '혜정', 'position': {'댄서', '보컬'}},\n",
       " {'name': '민아', 'position': {'래퍼', '베이스', '보컬'}},\n",
       " {'name': '설현', 'position': {'댄서', '보컬'}},\n",
       " {'name': '찬미', 'position': {'댄서', '래퍼', '보컬'}}]"
      ]
     },
     "execution_count": 24,
     "metadata": {},
     "output_type": "execute_result"
    }
   ],
   "source": [
    "vocal_members = [member \n",
    "                 for member in all_members \n",
    "                 if \"보컬\" in member['position']]\n",
    "vocal_members"
   ]
  },
  {
   "cell_type": "markdown",
   "metadata": {},
   "source": [
    "## 2. Dict Comprehension\n",
    "<hr>\n",
    "\n",
    "> `dict comprehension`도 마찬가지로, `{<key>:<value> for key,value in <자료구조>}` 방식으로 간결하게 작성할 수 있습니다."
   ]
  },
  {
   "cell_type": "markdown",
   "metadata": {},
   "source": [
    "### 예제 1) 이름과 천사명에 대한 dict 만들기"
   ]
  },
  {
   "cell_type": "markdown",
   "metadata": {},
   "source": [
    "| 이름 | 생년월일 | 포지션 | 천사명 |\n",
    "|----|----| ---- | ---- | \n",
    "| 지민 | 1991.1.8 | 리더, 래퍼 | 지미넬 |\n",
    "| 유나 | 1992.12.30 | 보컬, 키보드 | 유나리아 |\n",
    "| 혜정 | 1993.8.10 | 보컬, 댄서 | 혜정리너스 |\n",
    "| 민아 | 1993.9.21 | 래퍼, 보컬, 베이스 | 민아링 |\n",
    "| 설현 | 1995.1.3 | 보컬, 댄서 | 설현아리 |\n",
    "| 찬미 | 1996.6.19 | 래퍼, 보컬, 댄서 | 찬미 티티 |"
   ]
  },
  {
   "cell_type": "code",
   "execution_count": 25,
   "metadata": {},
   "outputs": [],
   "source": [
    "# 각 멤버의 이름과 천사명에 대한 리스트\n",
    "member_names = [\"지민\",\"유나\",\"혜정\",\"민아\",\"설현\",\"찬미\"]\n",
    "angel_names = [\"지미넬\",\"유나리아\",\"혜정리너스\",\"민아링\",\"설현아리\",\"찬미 티티\"]"
   ]
  },
  {
   "cell_type": "code",
   "execution_count": 26,
   "metadata": {},
   "outputs": [
    {
     "data": {
      "text/plain": [
       "{'지민': '지미넬',\n",
       " '유나': '유나리아',\n",
       " '혜정': '혜정리너스',\n",
       " '민아': '민아링',\n",
       " '설현': '설현아리',\n",
       " '찬미': '찬미 티티'}"
      ]
     },
     "execution_count": 26,
     "metadata": {},
     "output_type": "execute_result"
    }
   ],
   "source": [
    "member_angel_dict = {}\n",
    "\n",
    "for name, angel in zip(member_names, angel_names):\n",
    "    member_angel_dict[name] = angel\n",
    "    \n",
    "member_angel_dict"
   ]
  },
  {
   "cell_type": "code",
   "execution_count": 27,
   "metadata": {},
   "outputs": [
    {
     "data": {
      "text/plain": [
       "{'지민': '지미넬',\n",
       " '유나': '유나리아',\n",
       " '혜정': '혜정리너스',\n",
       " '민아': '민아링',\n",
       " '설현': '설현아리',\n",
       " '찬미': '찬미 티티'}"
      ]
     },
     "execution_count": 27,
     "metadata": {},
     "output_type": "execute_result"
    }
   ],
   "source": [
    "# 위와 같은 코드를 아래와 같이 작성할 수 있습니다.\n",
    "member_angel_dict = {name : angel \n",
    "                     for name, angel in zip(member_names, angel_names)}\n",
    "member_angel_dict"
   ]
  },
  {
   "cell_type": "markdown",
   "metadata": {
    "colab_type": "text",
    "id": "p9KFYDD1iwhX"
   },
   "source": [
    "#  \n",
    "\n",
    "<hr>\n",
    "\n",
    "    Copyright(c) 2019 by Public AI. All rights reserved.\n",
    "    Writen by PAI, SangJae Kang ( rocketgrowthsj@publicai.co.kr )  last updated on 2019/02/25\n",
    "<hr>"
   ]
  }
 ],
 "metadata": {
  "colab": {
   "collapsed_sections": [
    "d1BC3veJiwf_",
    "BZQcSEb5iwgI",
    "QN4LcuP1iwgP",
    "IRiL8UMFiwgT",
    "2joimVfgiwga",
    "KM741BPBiwgj",
    "pDZPqFPiiwgm",
    "KCkiEa7-iwgs",
    "239BSSXgiwg1",
    "lFfP7GPQoreP",
    "IP58rQYZpI0y",
    "gmBtCukxiwhK",
    "0KlWztx6iwhO",
    "jFPlOP9tiwhT"
   ],
   "name": "6_Python의 제어문(2) 순회문.ipynb",
   "provenance": [],
   "toc_visible": true,
   "version": "0.3.2"
  },
  "kernelspec": {
   "display_name": "Python 3",
   "language": "python",
   "name": "python3"
  },
  "language_info": {
   "codemirror_mode": {
    "name": "ipython",
    "version": 3
   },
   "file_extension": ".py",
   "mimetype": "text/x-python",
   "name": "python",
   "nbconvert_exporter": "python",
   "pygments_lexer": "ipython3",
   "version": "3.6.5"
  }
 },
 "nbformat": 4,
 "nbformat_minor": 1
}
