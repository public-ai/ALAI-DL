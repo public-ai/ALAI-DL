{
 "cells": [
  {
   "cell_type": "markdown",
   "metadata": {},
   "source": [
    " ╔══<i><b>Alai-DeepLearning</b></i>════════════════════════════╗\n",
    "###  &nbsp;&nbsp; **✎&nbsp;&nbsp;Week 7. Neural Network Improvements**\n",
    "# Section 6. Regularization (2) Dropout\n",
    "\n",
    "### _Objective_\n",
    "1. 딥러닝에서 많이 이용하는 정규화 방법 중 하나인 Dropout에 대해 배워보도록 하겠습니다. <br>\n",
    "  \n",
    "╚═════════════════════════════════════════╝"
   ]
  },
  {
   "cell_type": "code",
   "execution_count": 2,
   "metadata": {},
   "outputs": [
    {
     "name": "stdout",
     "output_type": "stream",
     "text": [
      "Requirement already satisfied: tensorboardcolab in /Users/ksj/anaconda3/lib/python3.6/site-packages (0.0.22)\n",
      "\u001b[33mYou are using pip version 18.1, however version 19.0.3 is available.\n",
      "You should consider upgrading via the 'pip install --upgrade pip' command.\u001b[0m\n"
     ]
    },
    {
     "name": "stderr",
     "output_type": "stream",
     "text": [
      "Using TensorFlow backend.\n"
     ]
    }
   ],
   "source": [
    "%matplotlib inline\n",
    "import numpy as np\n",
    "\n",
    "import tensorflow as tf\n",
    "import matplotlib.pyplot as plt\n",
    "import shutil\n",
    "import os\n",
    "import time\n",
    "from tqdm import tqdm\n",
    "\n",
    "np.random.seed(30)\n",
    "tf.random.set_random_seed(30)\n",
    "\n",
    "# Tensorboard 추가하기\n",
    "!pip install tensorboardcolab\n",
    "import tensorboardcolab\n",
    "\n",
    "LOG_DIR = \"./logs/\" # Tensorboard 로그 폴더 위치\n",
    "if os.path.exists(LOG_DIR):\n",
    "    shutil.rmtree(LOG_DIR)\n",
    "os.makedirs(LOG_DIR,exist_ok=True)\n",
    "\n",
    "tbc = tensorboardcolab.TensorBoardColab(graph_path=LOG_DIR)"
   ]
  },
  {
   "cell_type": "markdown",
   "metadata": {},
   "source": [
    "## 예제 데이터 ) 기술투자 비율과 예상 수익률 데이터 셋\n",
    "\n",
    "기술 투자 비율과 예상 수익률에 대한 데이터셋입니다. <br>\n",
    "아래와 같이 랜덤으로 50개의 데이터셋을 만들고, Test 데이터셋은 노이즈를 주지 않았습니다.<br>\n",
    "데이터에 노이즈가 많고, 수가 적을 때 일반적으로 Overfitting이 발생하기 쉽습니다."
   ]
  },
  {
   "cell_type": "code",
   "execution_count": 3,
   "metadata": {},
   "outputs": [
    {
     "name": "stdout",
     "output_type": "stream",
     "text": [
      "train 데이터셋 크기 : 50\n",
      "test 데이터셋 크기 : 30\n"
     ]
    }
   ],
   "source": [
    "random_polynomial = lambda x : 3.5*x**3-4*x**2+x+0.5\n",
    "\n",
    "train_invests = np.random.uniform(0.05,0.9, 50)\n",
    "train_growths = np.array([random_polynomial(x)+np.random.normal(0,0.02) \n",
    "           for x in train_invests]) # 예상 수익률\n",
    "\n",
    "train_invests = train_invests.reshape(-1,1) \n",
    "train_growths = train_growths.reshape(-1,1) \n",
    "\n",
    "test_invests = np.linspace(0.05,0.9,30)\n",
    "test_growths = np.array([random_polynomial(x)\n",
    "                         for x in test_invests])\n",
    "\n",
    "test_invests = test_invests.reshape(-1,1)\n",
    "test_growths = test_growths.reshape(-1,1)\n",
    "\n",
    "print(\"train 데이터셋 크기 : {}\".format(len(train_invests)))\n",
    "print(\"test 데이터셋 크기 : {}\".format(len(test_invests)))"
   ]
  },
  {
   "cell_type": "code",
   "execution_count": 4,
   "metadata": {},
   "outputs": [
    {
     "data": {
      "image/png": "[encoded data removed]",
      "text/plain": [
       "<Figure size 720x576 with 1 Axes>"
      ]
     },
     "metadata": {},
     "output_type": "display_data"
    }
   ],
   "source": [
    "random_polynomial = lambda x : 3.5*x**3-4*x**2+x+0.5\n",
    "\n",
    "train_invests = np.random.uniform(0.05,0.9, 50)\n",
    "train_growths = np.array([random_polynomial(x)+np.random.normal(0,0.02) \n",
    "           for x in train_invests]) # 예상 수익률\n",
    "\n",
    "train_invests = train_invests.reshape(-1,1) \n",
    "train_growths = train_growths.reshape(-1,1) \n",
    "\n",
    "test_invests = np.linspace(0.05,0.9,30)\n",
    "test_growths = np.array([random_polynomial(x)\n",
    "                         for x in test_invests])\n",
    "\n",
    "test_invests = test_invests.reshape(-1,1)\n",
    "test_growths = test_growths.reshape(-1,1)\n",
    "\n",
    "print(\"train 데이터셋 크기 : {}\".format(len(train_invests)))\n",
    "print(\"test 데이터셋 크기 : {}\".format(len(test_invests)))"
   ]
  },
  {
   "cell_type": "markdown",
   "metadata": {},
   "source": [
    "<br><br>\n",
    "\n",
    "# \\[ 1. 드랍아웃이란? \\]\n",
    "\n",
    "----\n",
    "\n",
    "----\n",
    "\n",
    "> *드랍아웃은 매우 간단한 아이디어로, 정규화 효과를 가져다 주는 알고리즘입니다.* <br>"
   ]
  },
  {
   "cell_type": "markdown",
   "metadata": {},
   "source": [
    "## 1. 드랍아웃 알고리즘\n",
    "---\n",
    "\n",
    "![Imgur](https://i.imgur.com/m9diJOx.png)\n",
    "\n",
    "드랍아웃 알고리즘은 매우 간단합니다. 매 훈련 스텝에서 각 유닛들은 p%확률로 꺼버리게 됩니다.<br>그리고 테스트를 하는 단계에서는 드롭아웃을 적용하지 않습니다."
   ]
  },
  {
   "cell_type": "markdown",
   "metadata": {},
   "source": [
    "<br>\n",
    "## 2. Numpy 코드로 이해하기\n",
    "---\n",
    "\n",
    "* 놓치지 말아야할 것중 하나는 바로 훈련하는 동안에 각 뉴런의 출력을 보존 확률($1-p$)로 나누어야 합니다.<br>\n",
    "* 이를 통해, Test 때의 입력값의 크기와 Train 때의 입력값의 크기가 비슷하도록 만들어 줍니다.<br>"
   ]
  },
  {
   "cell_type": "markdown",
   "metadata": {},
   "source": [
    "### (1) dropout 레이어 구성하기 "
   ]
  },
  {
   "cell_type": "code",
   "execution_count": 5,
   "metadata": {},
   "outputs": [],
   "source": [
    "class Dropout:\n",
    "    def __init__(self, drop_ratio=0.5):\n",
    "        # Gradient Descent할 때 필요한 값\n",
    "        self.drop_ratio = drop_ratio\n",
    "        self.mask = 0\n",
    "        self.out = 0\n",
    "        \n",
    "    def forward(self, X, is_train):\n",
    "        if is_train is True:\n",
    "            self.mask = np.random.binomial([np.ones(X.shape)],\n",
    "                                              1-self.drop_ratio)[0]\n",
    "            self.out = self.mask * X * (1.0/(1-self.drop_ratio))\n",
    "        else:\n",
    "            self.out = X\n",
    "            \n",
    "        return self.out\n",
    "        \n",
    "    def backward(self, grad):\n",
    "        return grad * self.mask"
   ]
  },
  {
   "cell_type": "markdown",
   "metadata": {},
   "source": [
    "### (2) Test 때와 Train 때의 동작 비교"
   ]
  },
  {
   "cell_type": "code",
   "execution_count": 6,
   "metadata": {},
   "outputs": [],
   "source": [
    "x = np.ones([10,124])\n",
    "dropout_layer = Dropout(drop_ratio=0.6)"
   ]
  },
  {
   "cell_type": "code",
   "execution_count": 7,
   "metadata": {},
   "outputs": [
    {
     "data": {
      "text/plain": [
       "array([[2.5, 2.5, 0. , ..., 0. , 0. , 0. ],\n",
       "       [2.5, 2.5, 2.5, ..., 2.5, 0. , 2.5],\n",
       "       [0. , 0. , 0. , ..., 0. , 2.5, 2.5],\n",
       "       ...,\n",
       "       [0. , 2.5, 0. , ..., 2.5, 0. , 2.5],\n",
       "       [0. , 0. , 0. , ..., 0. , 0. , 2.5],\n",
       "       [0. , 2.5, 0. , ..., 0. , 0. , 0. ]])"
      ]
     },
     "execution_count": 7,
     "metadata": {},
     "output_type": "execute_result"
    }
   ],
   "source": [
    "dropout_layer.forward(x,True)"
   ]
  },
  {
   "cell_type": "code",
   "execution_count": 8,
   "metadata": {},
   "outputs": [
    {
     "data": {
      "text/plain": [
       "array([[1., 1., 1., ..., 1., 1., 1.],\n",
       "       [1., 1., 1., ..., 1., 1., 1.],\n",
       "       [1., 1., 1., ..., 1., 1., 1.],\n",
       "       ...,\n",
       "       [1., 1., 1., ..., 1., 1., 1.],\n",
       "       [1., 1., 1., ..., 1., 1., 1.],\n",
       "       [1., 1., 1., ..., 1., 1., 1.]])"
      ]
     },
     "execution_count": 8,
     "metadata": {},
     "output_type": "execute_result"
    }
   ],
   "source": [
    "dropout_layer.forward(x,False)"
   ]
  },
  {
   "cell_type": "markdown",
   "metadata": {},
   "source": [
    "<br>\n",
    "## 3. Tensorflow에서의 동작 확인하기\n",
    "---\n"
   ]
  },
  {
   "cell_type": "markdown",
   "metadata": {},
   "source": [
    "### (1) Training 때의 동작 확인하기"
   ]
  },
  {
   "cell_type": "code",
   "execution_count": 9,
   "metadata": {},
   "outputs": [
    {
     "name": "stdout",
     "output_type": "stream",
     "text": [
      "WARNING:tensorflow:From /Users/ksj/anaconda3/lib/python3.6/site-packages/tensorflow/python/keras/layers/core.py:143: calling dropout (from tensorflow.python.ops.nn_ops) with keep_prob is deprecated and will be removed in a future version.\n",
      "Instructions for updating:\n",
      "Please use `rate` instead of `keep_prob`. Rate should be set to `rate = 1 - keep_prob`.\n"
     ]
    }
   ],
   "source": [
    "graph = tf.Graph()\n",
    "with graph.as_default():\n",
    "    x = tf.ones([10,124],tf.float32)\n",
    "    is_train = tf.constant(True)\n",
    "    y = tf.layers.Dropout(0.6)(x,training=is_train)"
   ]
  },
  {
   "cell_type": "code",
   "execution_count": 10,
   "metadata": {},
   "outputs": [
    {
     "name": "stdout",
     "output_type": "stream",
     "text": [
      "[[0.        2.5000002 0.        ... 0.        0.        2.5000002]\n",
      " [0.        0.        0.        ... 0.        2.5000002 0.       ]\n",
      " [2.5000002 2.5000002 2.5000002 ... 0.        2.5000002 2.5000002]\n",
      " ...\n",
      " [0.        0.        0.        ... 0.        0.        0.       ]\n",
      " [0.        0.        0.        ... 2.5000002 2.5000002 2.5000002]\n",
      " [2.5000002 2.5000002 0.        ... 0.        0.        0.       ]]\n"
     ]
    }
   ],
   "source": [
    "sess = tf.Session(graph=graph)\n",
    "print(sess.run(y))"
   ]
  },
  {
   "cell_type": "markdown",
   "metadata": {},
   "source": [
    "### (2) Test 때의 동작 확인하기"
   ]
  },
  {
   "cell_type": "code",
   "execution_count": 11,
   "metadata": {},
   "outputs": [],
   "source": [
    "graph = tf.Graph()\n",
    "with graph.as_default():\n",
    "    x = tf.ones([10,124],tf.float32)\n",
    "    is_train = tf.constant(False)\n",
    "    y = tf.layers.Dropout(0.6)(x,training=is_train)"
   ]
  },
  {
   "cell_type": "code",
   "execution_count": 12,
   "metadata": {},
   "outputs": [
    {
     "name": "stdout",
     "output_type": "stream",
     "text": [
      "[[1. 1. 1. ... 1. 1. 1.]\n",
      " [1. 1. 1. ... 1. 1. 1.]\n",
      " [1. 1. 1. ... 1. 1. 1.]\n",
      " ...\n",
      " [1. 1. 1. ... 1. 1. 1.]\n",
      " [1. 1. 1. ... 1. 1. 1.]\n",
      " [1. 1. 1. ... 1. 1. 1.]]\n"
     ]
    }
   ],
   "source": [
    "sess = tf.Session(graph=graph)\n",
    "print(sess.run(y))"
   ]
  },
  {
   "cell_type": "markdown",
   "metadata": {},
   "source": [
    "<br><br>\n",
    "\n",
    "# \\[ 2. 드랍아웃 적용하기 \\]\n",
    "\n",
    "----\n",
    "\n",
    "----\n",
    "\n",
    "> *텐서플로우 내 Dropout을 이용하여 신경망에 적용해 보도록 하겠습니다.* <br>\n",
    "> *드롭아웃을 적용할 수 있는 모형이나 훈련 절차에 별 제한이 없어, 사용성이 매우 좋습니다.* <br>"
   ]
  },
  {
   "cell_type": "markdown",
   "metadata": {},
   "source": [
    "<br>\n",
    "## 1. 드랍아웃을 포함한 그래프 구성하기\n",
    "---\n",
    "\n",
    "* 텐서플로우에서는 `tf.layer.Dropout`이라는 High-API를 제공합니다.<br>\n",
    "c.f) `tf.layer.dropout`과는 사용방법이 다릅니다.<br>\n",
    "이는 이후 버전에서 Depreciated될 예정이므로,\n",
    "가급적 사용을 자제해야 합니다."
   ]
  },
  {
   "cell_type": "code",
   "execution_count": 27,
   "metadata": {},
   "outputs": [],
   "source": [
    "num_hidden1 = 100 # 1번째 은닉층 unit 수\n",
    "num_hidden2 = 100 # 2번째 은닉층 unit 수\n",
    "\n",
    "graph = tf.Graph()\n",
    "with graph.as_default():\n",
    "    X = tf.placeholder(tf.float32, shape=(None,1),name='X')\n",
    "    y = tf.placeholder(tf.float32, shape=(None,1),name='y')\n",
    "    is_train = tf.placeholder_with_default(False, (),name='is_train')\n",
    "    \n",
    "    # Weight 초기화 함수\n",
    "    he_init = tf.initializers.he_normal()\n",
    "    xavier_init = tf.initializers.glorot_normal()\n",
    "    \n",
    "    # Graph 부분\n",
    "    hidden_1 = tf.layers.Dense(num_hidden1,\n",
    "                               activation=tf.nn.relu,\n",
    "                               kernel_initializer=he_init,\n",
    "                               name=\"hidden_1\")(X)\n",
    "    dropout_1 = tf.layers.Dropout(rate=0.4,\n",
    "                                  name='dropout_1')(hidden_1,training=is_train)\n",
    "    hidden_2 = tf.layers.Dense(num_hidden2,\n",
    "                               activation=tf.nn.relu, \n",
    "                               kernel_initializer=he_init,\n",
    "                               name='hidden_2')(dropout_1)\n",
    "    dropout_2 = tf.layers.Dropout(rate=0.4,\n",
    "                                  name='dropout_2')(hidden_2,training=is_train)\n",
    "    y_pred = tf.layers.Dense(1,\n",
    "                             kernel_initializer=xavier_init,\n",
    "                             name='output')(dropout_2)\n",
    "    \n",
    "    # 손실 함수\n",
    "    loss = tf.losses.mean_squared_error(y, y_pred)\n",
    "    \n",
    "    # 성능 지표\n",
    "    with tf.variable_scope('metric'):\n",
    "        rmse = tf.sqrt(loss, name='rmse')\n",
    "\n",
    "    # Summary\n",
    "    tf.summary.scalar(\"rmse\", rmse)\n",
    "    tf.summary.scalar(\"loss\", loss)\n",
    "    \n",
    "    # training operation\n",
    "    train_op = (tf.train\n",
    "                .AdamOptimizer(learning_rate=0.01)\n",
    "                .minimize(loss))"
   ]
  },
  {
   "cell_type": "markdown",
   "metadata": {},
   "source": [
    "<br>\n",
    "## 2. 모델학습시키기\n",
    "---\n",
    "\n",
    "* dropout은 train 상태일때와 test 상태일때 동작이 다릅니다. 이를 유의해서 사용해야 합니다.<br>"
   ]
  },
  {
   "cell_type": "code",
   "execution_count": 32,
   "metadata": {},
   "outputs": [
    {
     "name": "stdout",
     "output_type": "stream",
     "text": [
      " 0th epoch RMSE : 1.565\n",
      "4000th epoch RMSE : 0.019\n",
      "8000th epoch RMSE : 0.019\n",
      "12000th epoch RMSE : 0.011\n",
      "학습 총 소요 시간 ---- 10.466s\n"
     ]
    }
   ],
   "source": [
    "# 학습\n",
    "num_step = 16000 # 학습 횟수\n",
    "\n",
    "start_time = time.time() # 현재 시간 가져오기\n",
    "with tf.Session(graph=graph) as sess:\n",
    "    # 가중치 초기화\n",
    "    init = tf.global_variables_initializer()\n",
    "    sess.run(init)\n",
    "    \n",
    "    # Summary op\n",
    "    summary_op = tf.summary.merge_all()\n",
    "    train_writer = tf.summary.FileWriter(LOG_DIR+\"dropout/train/\")\n",
    "    test_writer = tf.summary.FileWriter(LOG_DIR+\"dropout/test/\")\n",
    "    \n",
    "    for epoch in range(num_step):\n",
    "        # 학습\n",
    "        sess.run(train_op,feed_dict={X:train_invests,\n",
    "                                     y:train_growths,\n",
    "                                     is_train: True})\n",
    "        if epoch % 50 == 0:\n",
    "            summary_str = sess.run(summary_op, feed_dict={\n",
    "                X: train_invests, y:train_growths\n",
    "            })\n",
    "            train_writer.add_summary(summary_str, global_step=epoch)\n",
    "            ## Test\n",
    "            summary_str,rmse_value = sess.run([summary_op,rmse], \n",
    "                          feed_dict={X: test_invests, y:test_growths})\n",
    "            test_writer.add_summary(summary_str, global_step=epoch)            \n",
    "            if epoch % 4000 == 0:\n",
    "                print(\"{:2d}th epoch RMSE : {:2.3f}\".format(epoch, \n",
    "                                                        rmse_value))\n",
    "                \n",
    "    # 0부터 1까지 순서대로 1000개를 출력\n",
    "    test_xs = np.linspace(0.1,0.9,1000)\n",
    "    test_xs = test_xs.reshape(-1,1)\n",
    "    pred_ys = sess.run(y_pred, feed_dict={X:test_xs})\n",
    "\n",
    "consumed_time = time.time() - start_time # 학습에 총 걸린 시간\n",
    "print(\"학습 총 소요 시간 ---- {:.3f}s\".format(consumed_time))"
   ]
  },
  {
   "cell_type": "markdown",
   "metadata": {},
   "source": [
    "## 3. 결과 확인하기\n",
    "----"
   ]
  },
  {
   "cell_type": "code",
   "execution_count": 33,
   "metadata": {},
   "outputs": [
    {
     "data": {
      "image/png": "[encoded data removed]",
      "text/plain": [
       "<Figure size 432x288 with 1 Axes>"
      ]
     },
     "metadata": {},
     "output_type": "display_data"
    }
   ],
   "source": [
    "plt.plot(test_invests, test_growths,label='test')\n",
    "plt.plot(test_xs,pred_ys,'r--',label='pred')\n",
    "plt.title(\"R&D Investment ROI Prediction Plot\")\n",
    "plt.xlabel(\"R&D Invesetment Ratio\")\n",
    "plt.ylabel(\"ROI\")\n",
    "plt.legend()\n",
    "plt.show()"
   ]
  },
  {
   "cell_type": "markdown",
   "metadata": {},
   "source": [
    "<br>\n",
    "\n",
    "## 4. Dropout의 기술적 특징\n",
    "---\n",
    "\n",
    "1. Dropout은 일종의 앙상블 기법으로 설명하기도 합니다.<br>\n",
    "    앙상블이란, 복수 개의 모델을 같이 이용해 결과를 계산하는 기법을 통칭합니다.<br>\n",
    "    Dropout은 일부 뉴런들을 꺼줌으로써, 부분 신경망(SubNetwork)를 구성하는 효과를 가집니다.<br>\n",
    "    \n",
    "2. Dropout은 한 유닛이 특정 input에만 의존하지 못하도록 만듭니다.<br>\n",
    "   모든 input 유닛 값에 주의를 기울이게 되므로, 입력 값의 작은 변화에 덜 민감해집니다."
   ]
  },
  {
   "cell_type": "markdown",
   "metadata": {},
   "source": [
    "#  \n",
    "\n",
    "---\n",
    "\n",
    "    Copyright(c) 2019 by Public AI. All rights reserved.<br>\n",
    "    Writen by PAI, SangJae Kang ( rocketgrowthsj@publicai.co.kr )  last updated on 2019/04/05\n",
    "\n",
    "---"
   ]
  }
 ],
 "metadata": {
  "kernelspec": {
   "display_name": "Python 3",
   "language": "python",
   "name": "python3"
  },
  "language_info": {
   "codemirror_mode": {
    "name": "ipython",
    "version": 3
   },
   "file_extension": ".py",
   "mimetype": "text/x-python",
   "name": "python",
   "nbconvert_exporter": "python",
   "pygments_lexer": "ipython3",
   "version": "3.6.6"
  }
 },
 "nbformat": 4,
 "nbformat_minor": 2
}
