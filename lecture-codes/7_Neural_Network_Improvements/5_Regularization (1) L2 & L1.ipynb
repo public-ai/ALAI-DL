{
 "cells": [
  {
   "cell_type": "markdown",
   "metadata": {},
   "source": [
    " ╔══<i><b>Alai-DeepLearning</b></i>════════════════════════════╗\n",
    "###  &nbsp;&nbsp; **✎&nbsp;&nbsp;Week 7. Neural Network Improvements**\n",
    "# Section 5. Regularization (1) L2 & L1\n",
    "\n",
    "### _Objective_\n",
    "1. Regularization 정규화에 대해 배워보도록 하겠습니다. <br>\n",
    "2. 대표적인 Regularization 기법인 L1와 L2에 대해 배워보도록 하겠습니다. <br>\n",
    "  \n",
    "╚═════════════════════════════════════════╝"
   ]
  },
  {
   "cell_type": "code",
   "execution_count": 3,
   "metadata": {},
   "outputs": [
    {
     "name": "stdout",
     "output_type": "stream",
     "text": [
      "Requirement already satisfied: tensorboardcolab in /Users/ksj/anaconda3/lib/python3.6/site-packages (0.0.22)\n",
      "\u001b[33mYou are using pip version 18.1, however version 19.0.3 is available.\n",
      "You should consider upgrading via the 'pip install --upgrade pip' command.\u001b[0m\n"
     ]
    },
    {
     "name": "stderr",
     "output_type": "stream",
     "text": [
      "Using TensorFlow backend.\n"
     ]
    }
   ],
   "source": [
    "%matplotlib inline\n",
    "import numpy as np\n",
    "\n",
    "import tensorflow as tf\n",
    "import matplotlib.pyplot as plt\n",
    "import shutil\n",
    "import os\n",
    "import time\n",
    "from tqdm import tqdm\n",
    "\n",
    "np.random.seed(30)\n",
    "tf.random.set_random_seed(30)\n",
    "\n",
    "# Tensorboard 추가하기\n",
    "!pip install tensorboardcolab\n",
    "import tensorboardcolab\n",
    "\n",
    "LOG_DIR = \"./logs/\" # Tensorboard 로그 폴더 위치\n",
    "if os.path.exists(LOG_DIR):\n",
    "    shutil.rmtree(LOG_DIR)\n",
    "os.makedirs(LOG_DIR,exist_ok=True)\n",
    "\n",
    "tbc = tensorboardcolab.TensorBoardColab(graph_path=LOG_DIR)"
   ]
  },
  {
   "cell_type": "markdown",
   "metadata": {},
   "source": [
    "## 예제 데이터 ) 기술투자 비율과 예상 수익률 데이터 셋\n",
    "\n",
    "기술 투자 비율과 예상 수익률에 대한 데이터셋입니다. <br>\n",
    "아래와 같이 랜덤으로 50개의 데이터셋을 만들고, Test 데이터셋은 노이즈를 주지 않았습니다.<br>\n",
    "데이터에 노이즈가 많고, 수가 적을 때 일반적으로 Overfitting이 발생하기 쉽습니다."
   ]
  },
  {
   "cell_type": "code",
   "execution_count": 35,
   "metadata": {},
   "outputs": [
    {
     "name": "stdout",
     "output_type": "stream",
     "text": [
      "train 데이터셋 크기 : 50\n",
      "test 데이터셋 크기 : 30\n"
     ]
    }
   ],
   "source": [
    "random_polynomial = lambda x : 3.5*x**3-4*x**2+x+0.5\n",
    "\n",
    "train_invests = np.random.uniform(0.05,0.9, 50)\n",
    "train_growths = np.array([random_polynomial(x)+np.random.normal(0,0.02) \n",
    "           for x in train_invests]) # 예상 수익률\n",
    "\n",
    "train_invests = train_invests.reshape(-1,1) \n",
    "train_growths = train_growths.reshape(-1,1) \n",
    "\n",
    "test_invests = np.linspace(0.05,0.9,30)\n",
    "test_growths = np.array([random_polynomial(x)\n",
    "                         for x in test_invests])\n",
    "\n",
    "test_invests = test_invests.reshape(-1,1)\n",
    "test_growths = test_growths.reshape(-1,1)\n",
    "\n",
    "print(\"train 데이터셋 크기 : {}\".format(len(train_invests)))\n",
    "print(\"test 데이터셋 크기 : {}\".format(len(test_invests)))"
   ]
  },
  {
   "cell_type": "code",
   "execution_count": 36,
   "metadata": {},
   "outputs": [
    {
     "data": {
      "image/png": "[encoded data removed]",
      "text/plain": [
       "<Figure size 720x576 with 1 Axes>"
      ]
     },
     "metadata": {},
     "output_type": "display_data"
    }
   ],
   "source": [
    "plt.figure(figsize=(10,8))\n",
    "plt.scatter(train_invests, train_growths, s=3,label='train')\n",
    "plt.scatter(test_invests, test_growths, s=3,label='test')\n",
    "plt.title(\"R&D Investment ROI Plot\")\n",
    "plt.xlabel(\"R&D Investment Ratio\")\n",
    "plt.ylabel(\"growth ratio\")\n",
    "plt.legend()\n",
    "plt.show()"
   ]
  },
  {
   "cell_type": "markdown",
   "metadata": {},
   "source": [
    "<br><br>\n",
    "\n",
    "# \\[ 1. 정규화의 효과 \\]\n",
    "\n",
    "----\n",
    "\n",
    "----\n",
    "\n",
    "> *3층짜리 신경망을 구성해보도록 하겠습니다.* <br>\n",
    "> *구성한 신경망을 통해 정규화에 따라 어떤식으로 바뀌는지 확인해보도록 하겠습니다.* <br>"
   ]
  },
  {
   "cell_type": "markdown",
   "metadata": {},
   "source": [
    "<br>\n",
    "## 1. 정규화 수식이 없는 인공 신경망\n",
    "---\n",
    "\n",
    "* 데이터가 부족하거나, 노이즈가 많은 상황에서 인공 신경망은 쉽게 과적합이 될 수 있습니다.<br>"
   ]
  },
  {
   "cell_type": "markdown",
   "metadata": {},
   "source": [
    "### (1) 모델 구성하기"
   ]
  },
  {
   "cell_type": "code",
   "execution_count": 56,
   "metadata": {},
   "outputs": [],
   "source": [
    "num_hidden1 = 100 # 1번째 은닉층 unit 수\n",
    "num_hidden2 = 100 # 2번째 은닉층 unit 수\n",
    "\n",
    "graph = tf.Graph()\n",
    "with graph.as_default():\n",
    "    X = tf.placeholder(tf.float32, shape=(None,1),name='X')\n",
    "    y = tf.placeholder(tf.float32, shape=(None,1),name='y')\n",
    "    \n",
    "    # Weight 초기화 함수\n",
    "    he_init = tf.initializers.he_normal()\n",
    "    xavier_init = tf.initializers.glorot_normal()\n",
    "    \n",
    "    # Graph 부분\n",
    "    hidden_1 = tf.layers.Dense(num_hidden1, activation=tf.nn.relu,\n",
    "                               kernel_initializer=he_init, name=\"hidden_1\")(X)\n",
    "    hidden_2 = tf.layers.Dense(num_hidden2, activation=tf.nn.relu, \n",
    "                               kernel_initializer=he_init, name='hidden_2')(hidden_1)\n",
    "    y_pred = tf.layers.Dense(1,kernel_initializer=xavier_init,\n",
    "                             name='output')(hidden_2)\n",
    "    \n",
    "    # 손실 함수\n",
    "    loss = tf.losses.mean_squared_error(y, y_pred)\n",
    "    \n",
    "    # 성능 지표\n",
    "    with tf.variable_scope('metric'):\n",
    "        rmse = tf.sqrt(loss, name='rmse')\n",
    "\n",
    "    # Summary\n",
    "    tf.summary.scalar(\"rmse\", rmse)\n",
    "    tf.summary.scalar(\"loss\", loss)\n",
    "    \n",
    "    # training operation\n",
    "    train_op = (tf.train\n",
    "                .AdamOptimizer(learning_rate=0.01)\n",
    "                .minimize(loss))"
   ]
  },
  {
   "cell_type": "markdown",
   "metadata": {},
   "source": [
    "### (2) 구성한 모델 학습하기 "
   ]
  },
  {
   "cell_type": "code",
   "execution_count": 57,
   "metadata": {},
   "outputs": [
    {
     "name": "stdout",
     "output_type": "stream",
     "text": [
      " 0th epoch RMSE : 1.242\n",
      "2000th epoch RMSE : 0.013\n",
      "4000th epoch RMSE : 0.009\n",
      "6000th epoch RMSE : 0.018\n",
      "8000th epoch RMSE : 0.011\n",
      "10000th epoch RMSE : 0.011\n",
      "12000th epoch RMSE : 0.014\n",
      "14000th epoch RMSE : 0.012\n",
      "16000th epoch RMSE : 0.012\n",
      "18000th epoch RMSE : 0.014\n",
      "20000th epoch RMSE : 0.016\n",
      "22000th epoch RMSE : 0.017\n",
      "24000th epoch RMSE : 0.016\n",
      "26000th epoch RMSE : 0.016\n",
      "학습 총 소요 시간 ---- 14.566s\n"
     ]
    }
   ],
   "source": [
    "# 학습\n",
    "num_step = 28000 # 학습 횟수\n",
    "\n",
    "start_time = time.time() # 현재 시간 가져오기\n",
    "with tf.Session(graph=graph) as sess:\n",
    "    # 가중치 초기화\n",
    "    init = tf.global_variables_initializer()\n",
    "    sess.run(init)\n",
    "    \n",
    "    # Summary op\n",
    "    summary_op = tf.summary.merge_all()\n",
    "    train_writer = tf.summary.FileWriter(LOG_DIR+\"L2_Loss/train/\")\n",
    "    test_writer = tf.summary.FileWriter(LOG_DIR+\"L2_Loss/test/\")\n",
    "    \n",
    "    for epoch in range(num_step):\n",
    "        # 학습\n",
    "        sess.run(train_op,feed_dict={X:train_invests,\n",
    "                                     y:train_growths})\n",
    "        if epoch % 50 == 0:\n",
    "            summary_str = sess.run(summary_op, feed_dict={\n",
    "                X: train_invests, y:train_growths\n",
    "            })\n",
    "            train_writer.add_summary(summary_str, global_step=epoch)\n",
    "            ## Test\n",
    "            summary_str,rmse_value = sess.run([summary_op,rmse], \n",
    "                          feed_dict={X: test_invests, y:test_growths})\n",
    "            test_writer.add_summary(summary_str, global_step=epoch)            \n",
    "            if epoch % 2000 == 0:\n",
    "                print(\"{:2d}th epoch RMSE : {:2.3f}\".format(epoch, \n",
    "                                                        rmse_value))\n",
    "                \n",
    "    # 0부터 1까지 순서대로 1000개를 출력\n",
    "    test_xs = np.linspace(0.1,0.9,1000)\n",
    "    test_xs = test_xs.reshape(-1,1)\n",
    "    pred_ys = sess.run(y_pred, feed_dict={X:test_xs})\n",
    "\n",
    "consumed_time = time.time() - start_time # 학습에 총 걸린 시간\n",
    "print(\"학습 총 소요 시간 ---- {:.3f}s\".format(consumed_time))"
   ]
  },
  {
   "cell_type": "markdown",
   "metadata": {},
   "source": [
    "### (3) 결과 확인하기"
   ]
  },
  {
   "cell_type": "code",
   "execution_count": 58,
   "metadata": {},
   "outputs": [
    {
     "data": {
      "image/png": "[encoded data removed]",
      "text/plain": [
       "<Figure size 432x288 with 1 Axes>"
      ]
     },
     "metadata": {},
     "output_type": "display_data"
    }
   ],
   "source": [
    "plt.plot(test_invests, test_growths,label='test')\n",
    "plt.plot(test_xs,pred_ys,'r--',label='pred')\n",
    "plt.title(\"R&D Investment ROI Prediction Plot\")\n",
    "plt.xlabel(\"R&D Invesetment Ratio\")\n",
    "plt.ylabel(\"ROI\")\n",
    "plt.legend()\n",
    "plt.show()"
   ]
  },
  {
   "cell_type": "markdown",
   "metadata": {},
   "source": [
    "<br>\n",
    "## 2. L2 정규화\n",
    "---\n",
    "\n",
    "* 신경망이 데이터를 과대적합하는 문제가 발견되었을 때에는 보통 정규화를 적용합니다.<br>\n",
    "* 가장 대표적인 정규화에는 매개변수의 제곱항을 추가하는 L2 정규화입니다.<br>\n",
    "* 선형회귀에 L2 정규화를 취해준 모델을 보통 Ridge 선형회귀라고 부릅니다.\n"
   ]
  },
  {
   "cell_type": "markdown",
   "metadata": {},
   "source": [
    "### (1) L2 정규화 수식\n",
    "\n",
    "L2 정규화란, 손실함수에 매개변수의 제곱항을 추가한 것입니다.<br>"
   ]
  },
  {
   "cell_type": "markdown",
   "metadata": {},
   "source": [
    "$$\n",
    "\\mbox{손실함수 : } J(w,b) = \\frac{1}{m}\\sum^{m}_{i=1}L(\\hat y^{(i)},y^{(i)}) + \\frac{\\lambda}{2m}||w||^2\\\\\n",
    "$$\n",
    "추가된 항을 보통 L2 Norm, 혹은 Frobenius 노름이라고 부릅니다.<br>\n",
    "위의 항을 추가하면, 손실함수의 Gradient 식에 변화가 생깁니다.<br>\n",
    "\n",
    "$$\n",
    "dW^{[L]} = \\mbox{(기존의 역전파로 온 값)} + \\frac{\\lambda}{m}W^{[L]}\n",
    "$$\n",
    "이를 Gradient Descent 수식에 적용하면 수식이 아래와 같이 변형됩니다.<br>\n",
    "$$\n",
    "W_{new}^{[L]} = W^{[L]} - \\alpha*dW\\\\\n",
    "W_{new}^{[L]} = W^{[L]} - \\alpha*(\\mbox{(기존의 역전파로 온 값)} + \\frac{\\lambda}{m}W^{[L]})\\\\\n",
    "W_{new}^{[L]} = (1-\\frac{\\alpha \\lambda}{m})W^{[L]} - \\alpha*(\\mbox{(기존의 역전파로 온 값)}\n",
    "$$\n",
    "\n",
    "L2 정규화를 취해주게 되면 언제나 Weight값이 좀 더 줄어드는 효과가 생깁니다.<br>\n",
    "그렇기 때문에 L2 정규화는 다른 말로 Weight decay라고도 불립니다."
   ]
  },
  {
   "cell_type": "markdown",
   "metadata": {},
   "source": [
    "### (2) L2 정규화를 텐서플로우로 구현하기"
   ]
  },
  {
   "cell_type": "code",
   "execution_count": 61,
   "metadata": {},
   "outputs": [],
   "source": [
    "num_hidden1 = 100 # 1번째 은닉층 unit 수\n",
    "num_hidden2 = 100 # 2번째 은닉층 unit 수\n",
    "beta = 0.0005 # l2 parameter\n",
    "\n",
    "graph = tf.Graph()\n",
    "with graph.as_default():\n",
    "    X = tf.placeholder(tf.float32, shape=(None,1),name='X')\n",
    "    y = tf.placeholder(tf.float32, shape=(None,1),name='y')\n",
    "    \n",
    "    # Weight 초기화 함수\n",
    "    he_init = tf.initializers.he_normal()\n",
    "    xavier_init = tf.initializers.glorot_normal()\n",
    "    \n",
    "    # Graph 부분\n",
    "    hidden_1 = tf.layers.Dense(num_hidden1, activation=tf.nn.relu,\n",
    "                               kernel_initializer=he_init, name=\"hidden_1\")(X)\n",
    "    hidden_2 = tf.layers.Dense(num_hidden2, activation=tf.nn.relu, \n",
    "                               kernel_initializer=he_init, name='hidden_2')(hidden_1)\n",
    "    y_pred = tf.layers.Dense(1,kernel_initializer=xavier_init,\n",
    "                             name='output')(hidden_2)\n",
    "    \n",
    "    # 손실 함수\n",
    "    weights = graph.get_collection(tf.GraphKeys.TRAINABLE_VARIABLES)\n",
    "    l2_loss = tf.add_n([tf.nn.l2_loss(weight) for weight in weights])\n",
    "    \n",
    "    mse = tf.losses.mean_squared_error(y, y_pred)\n",
    "    loss = mse + beta * l2_loss\n",
    "    \n",
    "    # 성능 지표\n",
    "    with tf.variable_scope('metric'):\n",
    "        rmse = tf.sqrt(mse, name='rmse')\n",
    "\n",
    "    # Summary\n",
    "    tf.summary.scalar(\"rmse\", rmse)\n",
    "    tf.summary.scalar(\"loss\", loss)\n",
    "    \n",
    "    # training operation\n",
    "    train_op = (tf.train\n",
    "                .AdamOptimizer(learning_rate=0.01)\n",
    "                .minimize(loss))\n"
   ]
  },
  {
   "cell_type": "markdown",
   "metadata": {},
   "source": [
    "### (3) L2 Loss 추가한 모델 학습시키기 "
   ]
  },
  {
   "cell_type": "code",
   "execution_count": 62,
   "metadata": {},
   "outputs": [
    {
     "name": "stdout",
     "output_type": "stream",
     "text": [
      " 0th epoch RMSE : 0.507\n",
      "4000th epoch RMSE : 0.012\n",
      "8000th epoch RMSE : 0.012\n",
      "12000th epoch RMSE : 0.012\n",
      "16000th epoch RMSE : 0.012\n",
      "20000th epoch RMSE : 0.012\n",
      "24000th epoch RMSE : 0.012\n",
      "학습 총 소요 시간 ---- 14.015s\n"
     ]
    }
   ],
   "source": [
    "# 학습\n",
    "num_step = 28000 # 학습 횟수\n",
    "\n",
    "start_time = time.time() # 현재 시간 가져오기\n",
    "with tf.Session(graph=graph) as sess:\n",
    "    # 가중치 초기화\n",
    "    init = tf.global_variables_initializer()\n",
    "    sess.run(init)\n",
    "    \n",
    "    # Summary op\n",
    "    summary_op = tf.summary.merge_all()\n",
    "    train_writer = tf.summary.FileWriter(LOG_DIR+\"L1_Loss/train/\")\n",
    "    test_writer = tf.summary.FileWriter(LOG_DIR+\"L1_Loss/test/\")\n",
    "    \n",
    "    for epoch in range(num_step):\n",
    "        # 학습\n",
    "        sess.run(train_op,feed_dict={X:train_invests,\n",
    "                                     y:train_growths})\n",
    "        if epoch % 50 == 0:\n",
    "            summary_str = sess.run(summary_op, feed_dict={\n",
    "                X: train_invests, y:train_growths\n",
    "            })\n",
    "            train_writer.add_summary(summary_str, global_step=epoch)\n",
    "            ## Test\n",
    "            summary_str,rmse_value = sess.run([summary_op,rmse], \n",
    "                          feed_dict={X: test_invests, y:test_growths})\n",
    "            test_writer.add_summary(summary_str, global_step=epoch)            \n",
    "            if epoch % 4000 == 0:\n",
    "                print(\"{:2d}th epoch RMSE : {:2.3f}\".format(epoch, \n",
    "                                                        rmse_value))\n",
    "                \n",
    "    # 0부터 1까지 순서대로 1000개를 출력\n",
    "    test_xs = np.linspace(0.1,0.9,1000)\n",
    "    test_xs = test_xs.reshape(-1,1)\n",
    "    pred_ys = sess.run(y_pred, feed_dict={X:test_xs})\n",
    "\n",
    "consumed_time = time.time() - start_time # 학습에 총 걸린 시간\n",
    "print(\"학습 총 소요 시간 ---- {:.3f}s\".format(consumed_time))"
   ]
  },
  {
   "cell_type": "markdown",
   "metadata": {},
   "source": [
    "### (4) 결과 확인하기 "
   ]
  },
  {
   "cell_type": "code",
   "execution_count": 63,
   "metadata": {},
   "outputs": [
    {
     "data": {
      "image/png": "[encoded data removed]",
      "text/plain": [
       "<Figure size 432x288 with 1 Axes>"
      ]
     },
     "metadata": {},
     "output_type": "display_data"
    }
   ],
   "source": [
    "plt.plot(test_invests, test_growths,label='test')\n",
    "plt.plot(test_xs,pred_ys,'r--',label='pred')\n",
    "plt.title(\"R&D Investment ROI Prediction Plot\")\n",
    "plt.xlabel(\"R&D Invesetment Ratio\")\n",
    "plt.ylabel(\"ROI\")\n",
    "plt.legend()\n",
    "plt.show()"
   ]
  },
  {
   "cell_type": "markdown",
   "metadata": {},
   "source": [
    "<br>\n",
    "## 3. L1 정규화\n",
    "---\n",
    "\n",
    "* 매개변수의 절대값을 추가하는 L1 정규화입니다.<br>\n",
    "* L1 정규화는 수학적으로는 깔끔한 대수적 해가 존재하지 않을 수 있지만, 좀 더 모델이 Noise에 강건하게 만들어준다고 합니다.<br>\n",
    "* 선형회귀에 L1 정규화를 취해준 모델을 보통 Lasso 선형회귀라고 부릅니다.\n"
   ]
  },
  {
   "cell_type": "markdown",
   "metadata": {},
   "source": [
    "### (1) L1 정규화 수식\n",
    "\n",
    "L2 정규화란, 손실함수에 매개변수의 절대값을 추가한 것입니다.<br>"
   ]
  },
  {
   "cell_type": "markdown",
   "metadata": {},
   "source": [
    "$$\n",
    "\\mbox{손실함수 : } J(w,b) = \\frac{1}{m}\\sum^{m}_{i=1}L(\\hat y^{(i)},y^{(i)}) + \\frac{\\lambda}{2m}||w||\\\\\n",
    "$$\n",
    "추가된 항을 보통 L1 Norm이라고 부릅니다.<br>\n",
    "위의 항을 추가하면, 손실함수의 Gradient 식에 변화가 생깁니다.<br>\n",
    "\n",
    "$$\n",
    "dW^{[L]} = \\mbox{(기존의 역전파로 온 값)} + \\frac{\\lambda}{m}sign(W)\n",
    "$$\n",
    "\n",
    "L2 정규화와 달리, Weight의 크기에 비례하지 않고, 단순히 Weight의 부호에 의해 결정됩니다.<br>\n",
    "이 항의 추가로 인해, 0으로 되도 좋은 weight들을 0으로 만드는 효과를 발생합니다.<br>\n",
    "그래서 L1 정규화는 주로, 특징 선택을 위한 하나의 수단으로도 이용되어 왔습니다.\n",
    "\n"
   ]
  },
  {
   "cell_type": "markdown",
   "metadata": {},
   "source": [
    "### (2) L1 정규화를 텐서플로우로 구현하기"
   ]
  },
  {
   "cell_type": "code",
   "execution_count": 67,
   "metadata": {},
   "outputs": [],
   "source": [
    "num_hidden1 = 100 # 1번째 은닉층 unit 수\n",
    "num_hidden2 = 100 # 2번째 은닉층 unit 수\n",
    "beta = 0.0002 # l1 parameter\n",
    "\n",
    "graph = tf.Graph()\n",
    "with graph.as_default():\n",
    "    X = tf.placeholder(tf.float32, shape=(None,1),name='X')\n",
    "    y = tf.placeholder(tf.float32, shape=(None,1),name='y')\n",
    "    \n",
    "    # Weight 초기화 함수\n",
    "    he_init = tf.initializers.he_normal()\n",
    "    xavier_init = tf.initializers.glorot_normal()\n",
    "    \n",
    "    # Graph 부분\n",
    "    hidden_1 = tf.layers.Dense(num_hidden1, activation=tf.nn.relu,\n",
    "                               kernel_initializer=he_init, name=\"hidden_1\")(X)\n",
    "    hidden_2 = tf.layers.Dense(num_hidden2, activation=tf.nn.relu, \n",
    "                               kernel_initializer=he_init, name='hidden_2')(hidden_1)\n",
    "    y_pred = tf.layers.Dense(1,kernel_initializer=xavier_init,\n",
    "                             name='output')(hidden_2)\n",
    "    \n",
    "    # 손실 함수\n",
    "    weights = graph.get_collection(tf.GraphKeys.TRAINABLE_VARIABLES)\n",
    "    l1_loss = tf.add_n([tf.reduce_sum(tf.abs(weight))\n",
    "                        for weight in weights])\n",
    "    \n",
    "    mse = tf.losses.mean_squared_error(y, y_pred)\n",
    "    loss = mse + beta * l1_loss\n",
    "    \n",
    "    # 성능 지표\n",
    "    with tf.variable_scope('metric'):\n",
    "        rmse = tf.sqrt(mse, name='rmse')\n",
    "\n",
    "    # Summary\n",
    "    tf.summary.scalar(\"rmse\", rmse)\n",
    "    tf.summary.scalar(\"loss\", loss)\n",
    "    \n",
    "    # training operation\n",
    "    train_op = (tf.train\n",
    "                .AdamOptimizer(learning_rate=0.01)\n",
    "                .minimize(loss))\n"
   ]
  },
  {
   "cell_type": "markdown",
   "metadata": {},
   "source": [
    "### (3) L1 Loss 추가한 모델 학습시키기 "
   ]
  },
  {
   "cell_type": "code",
   "execution_count": 68,
   "metadata": {},
   "outputs": [
    {
     "name": "stdout",
     "output_type": "stream",
     "text": [
      " 0th epoch RMSE : 1.736\n",
      "4000th epoch RMSE : 0.011\n",
      "8000th epoch RMSE : 0.010\n",
      "12000th epoch RMSE : 0.010\n",
      "16000th epoch RMSE : 0.010\n",
      "20000th epoch RMSE : 0.010\n",
      "24000th epoch RMSE : 0.010\n",
      "학습 총 소요 시간 ---- 15.893s\n"
     ]
    }
   ],
   "source": [
    "# 학습\n",
    "num_step = 28000 # 학습 횟수\n",
    "\n",
    "start_time = time.time() # 현재 시간 가져오기\n",
    "with tf.Session(graph=graph) as sess:\n",
    "    # 가중치 초기화\n",
    "    init = tf.global_variables_initializer()\n",
    "    sess.run(init)\n",
    "    \n",
    "    # Summary op\n",
    "    summary_op = tf.summary.merge_all()\n",
    "    train_writer = tf.summary.FileWriter(LOG_DIR+\"batch_GD/train/\")\n",
    "    test_writer = tf.summary.FileWriter(LOG_DIR+\"batch_GD/test/\")\n",
    "    \n",
    "    for epoch in range(num_step):\n",
    "        # 학습\n",
    "        sess.run(train_op,feed_dict={X:train_invests,\n",
    "                                     y:train_growths})\n",
    "        if epoch % 50 == 0:\n",
    "            summary_str = sess.run(summary_op, feed_dict={\n",
    "                X: train_invests, y:train_growths\n",
    "            })\n",
    "            train_writer.add_summary(summary_str, global_step=epoch)\n",
    "            ## Test\n",
    "            summary_str,rmse_value = sess.run([summary_op,rmse], \n",
    "                          feed_dict={X: test_invests, y:test_growths})\n",
    "            test_writer.add_summary(summary_str, global_step=epoch)            \n",
    "            if epoch % 4000 == 0:\n",
    "                print(\"{:2d}th epoch RMSE : {:2.3f}\".format(epoch, \n",
    "                                                        rmse_value))\n",
    "                \n",
    "    # 0부터 1까지 순서대로 1000개를 출력\n",
    "    test_xs = np.linspace(0.1,0.9,1000)\n",
    "    test_xs = test_xs.reshape(-1,1)\n",
    "    pred_ys = sess.run(y_pred, feed_dict={X:test_xs})\n",
    "\n",
    "consumed_time = time.time() - start_time # 학습에 총 걸린 시간\n",
    "print(\"학습 총 소요 시간 ---- {:.3f}s\".format(consumed_time))"
   ]
  },
  {
   "cell_type": "markdown",
   "metadata": {},
   "source": [
    "### (4) 결과 확인하기 "
   ]
  },
  {
   "cell_type": "code",
   "execution_count": 69,
   "metadata": {},
   "outputs": [
    {
     "data": {
      "image/png": "[encoded data removed]",
      "text/plain": [
       "<Figure size 432x288 with 1 Axes>"
      ]
     },
     "metadata": {},
     "output_type": "display_data"
    }
   ],
   "source": [
    "plt.plot(test_invests, test_growths,label='test')\n",
    "plt.plot(test_xs,pred_ys,'r--',label='pred')\n",
    "plt.title(\"R&D Investment ROI Prediction Plot\")\n",
    "plt.xlabel(\"R&D Invesetment Ratio\")\n",
    "plt.ylabel(\"ROI\")\n",
    "plt.legend()\n",
    "plt.show()"
   ]
  },
  {
   "cell_type": "markdown",
   "metadata": {},
   "source": [
    "#  \n",
    "\n",
    "---\n",
    "\n",
    "    Copyright(c) 2019 by Public AI. All rights reserved.\n",
    "    Writen by PAI, SangJae Kang ( rocketgrowthsj@publicai.co.kr )  last updated on 2019/04/05\n",
    "\n",
    "---"
   ]
  }
 ],
 "metadata": {
  "kernelspec": {
   "display_name": "Python 3",
   "language": "python",
   "name": "python3"
  },
  "language_info": {
   "codemirror_mode": {
    "name": "ipython",
    "version": 3
   },
   "file_extension": ".py",
   "mimetype": "text/x-python",
   "name": "python",
   "nbconvert_exporter": "python",
   "pygments_lexer": "ipython3",
   "version": "3.6.6"
  }
 },
 "nbformat": 4,
 "nbformat_minor": 2
}
