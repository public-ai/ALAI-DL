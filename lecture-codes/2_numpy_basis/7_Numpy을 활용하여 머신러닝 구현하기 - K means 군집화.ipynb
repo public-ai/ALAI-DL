{
 "cells": [
  {
   "cell_type": "markdown",
   "metadata": {
    "colab_type": "text",
    "id": "JwXVP87OO6RW"
   },
   "source": [
    " ╔══<i><b>Alai-DeepLearning</b></i>═══════════════════════════╗\n",
    "###  &nbsp;&nbsp; **✎&nbsp;&nbsp;week 2. Numpy Basis**\n",
    "# Section 7. Numpy을 활용하여 머신러닝 구현하기 - K-Means 군집화\n",
    "\n",
    "### _Objective_\n",
    "1. 대표적인 군집화 방법론 중 하나인 K-Means에 대해서 배워보고, 이를 Numpy로 구현해 봅니다.<br>\n",
    "\n",
    "╚════════════════════════════════════════╝"
   ]
  },
  {
   "cell_type": "code",
   "execution_count": 1,
   "metadata": {
    "colab": {},
    "colab_type": "code",
    "id": "k-o8zDSkO6RZ"
   },
   "outputs": [],
   "source": [
    "%matplotlib inline\n",
    "import numpy as np\n",
    "\n",
    "import matplotlib.pyplot as plt"
   ]
  },
  {
   "cell_type": "markdown",
   "metadata": {
    "colab_type": "text",
    "id": "-xLXSgg4O6Rd"
   },
   "source": [
    "# \\[ 1. K-Means 알고리즘 개괄 \\]\n",
    "\n",
    "---\n",
    "\n",
    "---\n",
    "\n",
    "> _K-Means 알고리즘은 주어진 데이터를 K개의 클러스터로 묶는 알고리즘으로, 각 클러스터와 거리 차이의 분산을 최소화하는 방식으로 동작합니다._"
   ]
  },
  {
   "cell_type": "code",
   "execution_count": 2,
   "metadata": {},
   "outputs": [
    {
     "name": "stdout",
     "output_type": "stream",
     "text": [
      "--2019-03-19 10:44:24--  https://s3.ap-northeast-2.amazonaws.com/pai-datasets/alai-deeplearning/kmeans_dataset.txt\n",
      "Resolving s3.ap-northeast-2.amazonaws.com (s3.ap-northeast-2.amazonaws.com)... 52.219.60.77\n",
      "Connecting to s3.ap-northeast-2.amazonaws.com (s3.ap-northeast-2.amazonaws.com)|52.219.60.77|:443... connected.\n",
      "HTTP request sent, awaiting response... 200 OK\n",
      "Length: 1520 (1.5K) [text/plain]\n",
      "Saving to: ‘kmeans_dataset.txt.1’\n",
      "\n",
      "kmeans_dataset.txt. 100%[===================>]   1.48K  --.-KB/s    in 0s      \n",
      "\n",
      "2019-03-19 10:44:25 (32.9 MB/s) - ‘kmeans_dataset.txt.1’ saved [1520/1520]\n",
      "\n"
     ]
    }
   ],
   "source": [
    "# 예제 데이터셋 준비하기\n",
    "!wget https://s3.ap-northeast-2.amazonaws.com/pai-datasets/alai-deeplearning/kmeans_dataset.txt\n",
    "dataset = np.loadtxt(\"./kmeans_dataset.txt\")"
   ]
  },
  {
   "cell_type": "code",
   "execution_count": 3,
   "metadata": {
    "colab": {
     "base_uri": "https://localhost:8080/",
     "height": 33
    },
    "colab_type": "code",
    "executionInfo": {
     "elapsed": 570,
     "status": "ok",
     "timestamp": 1551671305980,
     "user": {
      "displayName": "최선열",
      "photoUrl": "",
      "userId": "00663027191814710813"
     },
     "user_tz": -540
    },
    "id": "kNGnWsIb0RBW",
    "outputId": "6a41bb2f-3c32-4c5c-f0ab-f83b7936fc19"
   },
   "outputs": [
    {
     "data": {
      "image/png": "[encoded data removed]",
      "text/plain": [
       "<Figure size 432x288 with 1 Axes>"
      ]
     },
     "metadata": {},
     "output_type": "display_data"
    }
   ],
   "source": [
    "# 예제 데이터셋 시각화\n",
    "plt.title(\"The Distribution of Point\")\n",
    "plt.scatter(dataset[:,0],dataset[:,1])\n",
    "plt.show()"
   ]
  },
  {
   "cell_type": "markdown",
   "metadata": {},
   "source": [
    "우리는 직관적으로 보았을 떄, 크게 4개의 군집이 있음을 파악할 수 있습니다. \n",
    "\n",
    "예로 들어 아래와 같은 중심을 기준으로 나누어 볼 수 있습니다."
   ]
  },
  {
   "cell_type": "code",
   "execution_count": 4,
   "metadata": {},
   "outputs": [
    {
     "data": {
      "image/png": "[encoded data removed]",
      "text/plain": [
       "<Figure size 432x288 with 1 Axes>"
      ]
     },
     "metadata": {},
     "output_type": "display_data"
    }
   ],
   "source": [
    "# 예제 데이터셋 시각화\n",
    "plt.title(\"The Distribution of Point\")\n",
    "plt.scatter(dataset[:,0],dataset[:,1],label='dataset')\n",
    "plt.scatter([-3.5,-2,2.5,2.5],[-2.3,3.5,3.8,-2],\n",
    "            s=200, label=\"centroid\", marker='+')\n",
    "plt.legend()\n",
    "plt.show()"
   ]
  },
  {
   "cell_type": "markdown",
   "metadata": {},
   "source": [
    "> 우리는 위와 같이, 4개의 군집으로 묶어 주기 위해서, 기준이 필요하다. KNN에서와 마찬가지로, **중심점과 점 간의 거리**를 구해, 그 거리가 가장 작은 중심점을 찾도록, 중심 점을 반복적으로 옮겨가는 과정을 K-Means 군집화라고 합니다."
   ]
  },
  {
   "cell_type": "markdown",
   "metadata": {
    "colab_type": "text",
    "id": "M1nhRjsbO6Rl"
   },
   "source": [
    "# \\[ 2. K-Means Numpy로 구현 \\]\n",
    "\n",
    "---\n",
    "\n",
    "---\n",
    "\n",
    "K-means의 알고리즘 순서 \n",
    "\n",
    "1. 초기 중심점을 설정하기 위해 K개의 점 생성(일반적으로 임의)\n",
    "2. 중심점과 각 데이터 사이의 거리를 계산\n",
    "3. 각 데이터를 거리가 가장 가까운 군집으로 할당\n",
    "4. 각 군집 별 점들의 평균을 계산 후, 군집의 중심점을 다시 계산\n",
    "5. 2~4의 과정을 통해 각 데이터 별 군집이 바뀌지 않았으면, 이 과정을 끝냄\n",
    "\n",
    "> K-Means의 각 단계별로 코드를 작성해 보자. "
   ]
  },
  {
   "cell_type": "markdown",
   "metadata": {
    "colab_type": "text",
    "id": "ZCgp3cyUO6TD"
   },
   "source": [
    "## 1. 각 단계별로 Numpy Code 작성하기\n"
   ]
  },
  {
   "cell_type": "markdown",
   "metadata": {
    "colab": {},
    "colab_type": "code",
    "id": "VsLP4DiJO6TE",
    "outputId": "4ed8a800-ccc2-4f19-ae8a-222e91fc50a0"
   },
   "source": [
    "### (1) 초기 중심점을 설정하기 위해 K개의 점 생성\n",
    "\n",
    "우리는 데이터셋 내의 공간에서 임의의 점 K(여기선 4개)를 랜덤하게 산출합니다. \n",
    "\n",
    "중심점이 데이터 셋 부근에 있기 위해서는 데이터셋의 범위 내에서 산출해야 합니다."
   ]
  },
  {
   "cell_type": "code",
   "execution_count": 5,
   "metadata": {},
   "outputs": [
    {
     "data": {
      "text/plain": [
       "1.258530960903589"
      ]
     },
     "execution_count": 5,
     "metadata": {},
     "output_type": "execute_result"
    }
   ],
   "source": [
    "k = 4 # K점의 수\n",
    "\n",
    "min_x = dataset[:,0].min()\n",
    "max_x = dataset[:,0].max() \n",
    "np.random.uniform(low=min_x,\n",
    "                  high=max_x)"
   ]
  },
  {
   "cell_type": "markdown",
   "metadata": {},
   "source": [
    "위와 같은 방법으로 범위 내 랜덤한 값을 산출할 수 있습니다."
   ]
  },
  {
   "cell_type": "code",
   "execution_count": 6,
   "metadata": {},
   "outputs": [],
   "source": [
    "min_x = dataset[:,0].min()\n",
    "max_x = dataset[:,0].max() \n",
    "min_y = dataset[:,1].min()\n",
    "max_y = dataset[:,1].max() \n",
    "\n",
    "centroids = []\n",
    "for _ in range(k):\n",
    "    center_x = np.random.uniform(low=min_x, high=max_x)\n",
    "    center_y = np.random.uniform(low=min_y, high=max_y)\n",
    "    centroids.append([center_x,center_y])\n",
    "centroids = np.array(centroids)"
   ]
  },
  {
   "cell_type": "markdown",
   "metadata": {},
   "source": [
    "위의 코드를 좀 더 numpy답게 작성하면 아래처럼 작성할 수 있습니다."
   ]
  },
  {
   "cell_type": "code",
   "execution_count": 7,
   "metadata": {},
   "outputs": [],
   "source": [
    "center_x = np.random.uniform(low=min_x, high=max_x, size=k)\n",
    "center_y = np.random.uniform(low=min_y, high=max_y, size=k)\n",
    "centroids = np.stack([center_x,center_y],axis=-1)"
   ]
  },
  {
   "cell_type": "markdown",
   "metadata": {},
   "source": [
    "위와 같이 랜덤으로 산출한 중심점은 아래와 같이 산재해 있습니다."
   ]
  },
  {
   "cell_type": "code",
   "execution_count": 8,
   "metadata": {},
   "outputs": [
    {
     "data": {
      "image/png": "[encoded data removed]",
      "text/plain": [
       "<Figure size 432x288 with 1 Axes>"
      ]
     },
     "metadata": {},
     "output_type": "display_data"
    }
   ],
   "source": [
    "# 예제 데이터셋 시각화\n",
    "plt.title(\"The Distribution of Point\")\n",
    "plt.scatter(dataset[:,0],dataset[:,1],label='dataset')\n",
    "plt.scatter(centroids[:,0],centroids[:,1],\n",
    "            s=200, label=\"centroid\", marker='+')\n",
    "plt.legend()\n",
    "plt.show()"
   ]
  },
  {
   "cell_type": "markdown",
   "metadata": {},
   "source": [
    "### (2) 중심점과 각 데이터 사이의 거리를 계산\n",
    "\n",
    "거리 공식은 KNN 때와 마찬가지로, 아래와 같습니다. 우리는 모든 중심점과 각 데이터 간 거리를 구해야 합니다.\n",
    "\n",
    "$$\n",
    "point1 = (x_1,y_1), point2 = (x_2,y_2)\\mbox{일 때}\\\\\n",
    "distance\\_between\\_point1\\_and\\_point2 = \\sqrt{(x_1-x_2)^2 + (y_1-y_2)^2}\n",
    "$$"
   ]
  },
  {
   "cell_type": "code",
   "execution_count": 9,
   "metadata": {},
   "outputs": [
    {
     "data": {
      "text/plain": [
       "array([[ 3.08591539,  8.26463026,  6.18805211, 13.08204501,  4.24195662,\n",
       "         8.93553822,  9.33519433, 10.57968028,  3.97015119,  8.02364712,\n",
       "         9.15517631, 11.02244079,  2.09647948,  7.09116671,  6.78132714,\n",
       "        10.31537093,  3.9097172 ,  5.69938664,  8.56312723, 10.73074049,\n",
       "         3.16620067,  6.89996124,  7.36374278, 11.22177804,  3.09717781,\n",
       "         6.93315232,  7.38131167, 11.95433263,  2.90617541,  8.47378752,\n",
       "         9.78890114, 11.07049119,  3.47513437,  8.49029136,  5.86267661,\n",
       "        11.18417034,  2.76812698,  6.15064848,  7.90379234, 11.86481298,\n",
       "         2.80188025,  7.65812899,  8.31848081, 11.47843747,  2.97226577,\n",
       "         8.13046007,  8.98564971, 11.24940857,  2.51359698,  6.43852954,\n",
       "         8.4058225 , 12.69143069,  0.86663054,  9.58669368,  8.53892783,\n",
       "        11.7991686 ,  3.75329087,  7.554912  ,  8.67062328, 11.63099254,\n",
       "         3.09311492,  7.52857874,  9.05603471, 10.08712293,  1.6869019 ,\n",
       "         6.43740567,  7.95507789, 10.93423086,  2.99412563,  6.67537654,\n",
       "         8.80462582, 11.73575768,  3.93363611,  7.05843845,  7.5964569 ,\n",
       "        10.3462175 ,  2.6625729 ,  7.92744914,  6.80071747, 12.42903179],\n",
       "       [ 2.6899224 ,  7.77073185,  4.99357972, 12.05531575,  3.45135155,\n",
       "         8.19920135,  8.09387428,  9.56158142,  2.75831065,  7.48968898,\n",
       "         7.89656281,  9.90542403,  0.83471925,  6.48925298,  5.60481715,\n",
       "         9.08710114,  2.68212722,  5.11911094,  7.29935243,  9.668456  ,\n",
       "         2.18294172,  6.22242766,  6.09902814, 10.14440584,  2.53004661,\n",
       "         6.20120474,  6.11339291, 10.88224729,  2.0933876 ,  7.61451516,\n",
       "         8.53025435, 10.03051055,  2.50505604,  7.76764399,  4.63645218,\n",
       "        10.04393394,  2.78264295,  5.35932939,  6.63730346, 10.78396865,\n",
       "         2.21176079,  7.07251865,  7.06141023, 10.29914421,  2.07686433,\n",
       "         7.61132266,  7.72525715, 10.20423895,  1.28709395,  6.05918838,\n",
       "         7.13850625, 11.60117207,  1.41885124,  9.10513948,  7.27194085,\n",
       "        10.73754361,  2.59081729,  6.92082742,  7.40463517, 10.51110463,\n",
       "         1.93683949,  6.93239027,  7.80403002,  9.00993232,  0.9889424 ,\n",
       "         5.92896799,  6.68766719,  9.81146978,  2.09229612,  6.05638621,\n",
       "         7.5427548 , 10.73907767,  2.68936046,  6.48126671,  6.38669372,\n",
       "         9.2725477 ,  1.61827075,  7.33865746,  5.58116794, 11.40612398],\n",
       "       [ 7.9196391 ,  4.06938013,  9.54992038,  2.98973499,  6.59038354,\n",
       "         2.27880609,  5.87370909,  1.74706561,  7.63503408,  3.95304062,\n",
       "         8.61533532,  3.25672474,  9.5360808 ,  4.2555878 ,  5.39052613,\n",
       "         5.54583327,  7.78664093,  5.44033523,  8.16343657,  2.36013471,\n",
       "         7.77179263,  4.17833725,  7.02802106,  2.65492144,  7.78320308,\n",
       "         4.02396354,  7.45311119,  2.83566106,  7.93574144,  2.35886496,\n",
       "         6.66272263,  2.07116804,  7.44968222,  2.68922169,  9.06639809,\n",
       "         3.70178339,  8.6656047 ,  4.69890491,  7.83918499,  2.92562565,\n",
       "         8.05254277,  3.91393626,  8.50373141,  4.56690247,  7.90095832,\n",
       "         3.98178216,  8.47294883,  2.18351312,  8.84057974,  5.54451972,\n",
       "         7.26783174,  3.5030167 , 10.15516855,  3.81376427,  7.83066963,\n",
       "         2.61341604,  7.57589902,  3.78230325,  7.09382907,  3.46710799,\n",
       "         8.13173978,  3.95660494,  8.89236235,  2.63148401,  9.16486727,\n",
       "         5.06350036,  7.27810072,  3.3406817 ,  7.88234663,  4.52988802,\n",
       "         8.34159264,  1.73409438,  9.02201996,  4.37036999,  9.58989288,\n",
       "         2.54151556,  8.33917867,  3.72300912,  9.25886487,  2.46693613],\n",
       "       [ 6.79907213,  3.02869448,  8.92591152,  4.05970939,  5.51169088,\n",
       "         1.15901353,  5.77050436,  2.20835319,  6.71503206,  2.86605758,\n",
       "         8.38101443,  3.72021028,  8.54285835,  3.09968098,  4.73892601,\n",
       "         5.65513281,  6.87207295,  4.2905342 ,  7.86411161,  2.82116166,\n",
       "         6.7389054 ,  3.02483767,  6.5673242 ,  3.2595113 ,  6.68040992,\n",
       "         2.88352919,  6.99661584,  3.64341312,  6.86970152,  1.31376726,\n",
       "         6.61433323,  2.71049606,  6.4178337 ,  1.54243462,  8.41273935,\n",
       "         4.16390108,  7.52646693,  3.60051206,  7.45458836,  3.69120766,\n",
       "         6.95786434,  2.7783612 ,  8.1597753 ,  5.01209293,  6.84874629,\n",
       "         2.91318146,  8.22128555,  2.8738725 ,  7.84557717,  4.39976228,\n",
       "         6.96915092,  4.39027072,  9.05318457,  3.04130882,  7.53814979,\n",
       "         3.41453477,  6.6178087 ,  2.63022293,  6.84120383,  4.08238015,\n",
       "         7.14126988,  2.81216552,  8.63226519,  2.81000845,  8.09684446,\n",
       "         3.90715296,  6.90912808,  3.76826132,  6.83137886,  3.37283765,\n",
       "         8.06990542,  2.7020264 ,  8.17097428,  3.21655664,  9.12133792,\n",
       "         2.83066215,  7.31047634,  2.60348546,  8.70748529,  3.48187254]])"
      ]
     },
     "execution_count": 9,
     "metadata": {},
     "output_type": "execute_result"
    }
   ],
   "source": [
    "dists = []\n",
    "for center in centroids:\n",
    "    # 각 중심점을 기준으로, 각 데이터 간 거리 계산\n",
    "    dist_from_center = []\n",
    "    for point in dataset:\n",
    "        # 거리 계산\n",
    "        dist = np.sqrt(((center - point)**2).sum())\n",
    "        dist_from_center.append(dist)\n",
    "    dists.append(dist_from_center)\n",
    "# 중심점 별 거리 계산\n",
    "dists = np.array(dists)\n",
    "dists"
   ]
  },
  {
   "cell_type": "code",
   "execution_count": 10,
   "metadata": {},
   "outputs": [
    {
     "data": {
      "text/plain": [
       "(4, 80)"
      ]
     },
     "execution_count": 10,
     "metadata": {},
     "output_type": "execute_result"
    }
   ],
   "source": [
    "dists.shape # dists 행렬의 형태"
   ]
  },
  {
   "cell_type": "code",
   "execution_count": 11,
   "metadata": {},
   "outputs": [
    {
     "data": {
      "text/plain": [
       "2.505056040735233"
      ]
     },
     "execution_count": 11,
     "metadata": {},
     "output_type": "execute_result"
    }
   ],
   "source": [
    "dists[1,32] # 1번째 중심점과 32번째 데이터 간 거리"
   ]
  },
  {
   "cell_type": "markdown",
   "metadata": {},
   "source": [
    "* Numpy Code의 reshape와 broadcasting을 활용하면 간결하게 나타낼 수 있습니다."
   ]
  },
  {
   "cell_type": "code",
   "execution_count": 12,
   "metadata": {},
   "outputs": [
    {
     "data": {
      "text/plain": [
       "(4, 80)"
      ]
     },
     "execution_count": 12,
     "metadata": {},
     "output_type": "execute_result"
    }
   ],
   "source": [
    "diff_mat = (centroids.reshape(-1,1,2) - dataset.reshape(1,-1,2))\n",
    "dists = np.sqrt((diff_mat**2).sum(axis=-1))\n",
    "dists.shape"
   ]
  },
  {
   "cell_type": "markdown",
   "metadata": {},
   "source": [
    "### (3) 각 데이터를 거리가 가장 가까운 군집으로 할당\n",
    "\n",
    "각 데이터를 거리가 가장 가까운 군집으로 할당 하기 위해서는, `argmin`을 통해 간단히 구할 수 있습니다."
   ]
  },
  {
   "cell_type": "code",
   "execution_count": 13,
   "metadata": {},
   "outputs": [
    {
     "data": {
      "text/plain": [
       "array([1, 3, 1, 2, 1, 3, 3, 2, 1, 3, 1, 2, 1, 3, 3, 2, 1, 3, 1, 2, 1, 3,\n",
       "       1, 2, 1, 3, 1, 2, 1, 3, 3, 2, 1, 3, 1, 2, 0, 3, 1, 2, 1, 3, 1, 2,\n",
       "       1, 3, 1, 2, 1, 3, 3, 2, 0, 3, 1, 2, 1, 3, 3, 2, 1, 3, 1, 2, 1, 3,\n",
       "       1, 2, 1, 3, 1, 2, 1, 3, 1, 2, 1, 3, 1, 2])"
      ]
     },
     "execution_count": 13,
     "metadata": {},
     "output_type": "execute_result"
    }
   ],
   "source": [
    "cluster_per_point = dists.argmin(axis=0)\n",
    "cluster_per_point"
   ]
  },
  {
   "cell_type": "markdown",
   "metadata": {},
   "source": [
    "각 점에서 가장 가까운 중심점의 index를 위와 같은 방식으로 산출할 수 있습니다."
   ]
  },
  {
   "cell_type": "markdown",
   "metadata": {},
   "source": [
    "### (4) 각 군집 별 점들의 평균을 계산 후, 군집의 중심점을 다시 계산"
   ]
  },
  {
   "cell_type": "code",
   "execution_count": 14,
   "metadata": {},
   "outputs": [],
   "source": [
    "# 각 군집별로 순회\n",
    "for i in range(k):\n",
    "    # 각 군집에 해당하는 점들의 집합\n",
    "    target_point = dataset[cluster_per_point==i]\n",
    "    \n",
    "    # 각 군집의 평균을 군집의 중심점으로 할당\n",
    "    centroids[i] = target_point.mean(axis=0) "
   ]
  },
  {
   "cell_type": "markdown",
   "metadata": {},
   "source": [
    "### (5) 2~4의 과정을 통해 각 데이터 별 군집이 바뀌지 않았으면, 이 과정을 끝냄"
   ]
  },
  {
   "cell_type": "code",
   "execution_count": 15,
   "metadata": {
    "scrolled": false
   },
   "outputs": [
    {
     "data": {
      "image/png": "[encoded data removed]",
      "text/plain": [
       "<Figure size 432x288 with 1 Axes>"
      ]
     },
     "metadata": {},
     "output_type": "display_data"
    },
    {
     "data": {
      "image/png": "[encoded data removed]",
      "text/plain": [
       "<Figure size 432x288 with 1 Axes>"
      ]
     },
     "metadata": {},
     "output_type": "display_data"
    }
   ],
   "source": [
    "num_data = dataset.shape[0]\n",
    "\n",
    "cluster_per_point = np.ones((num_data))\n",
    "\n",
    "counter = 0\n",
    "while True:\n",
    "    prev_cluster_per_point = cluster_per_point\n",
    "    \n",
    "    diff_mat = (centroids.reshape(-1,1,2) - dataset.reshape(1,-1,2))\n",
    "    dists = np.sqrt((diff_mat**2).sum(axis=-1))\n",
    "    cluster_per_point = dists.argmin(axis=0)\n",
    "\n",
    "    for i in range(k):\n",
    "        centroids[i] = dataset[cluster_per_point==i].mean(axis=0)\n",
    "        \n",
    "    if np.all(prev_cluster_per_point == cluster_per_point):\n",
    "        break\n",
    "        \n",
    "    counter += 1\n",
    "    plt.title(\"{}th Distribution of Dataset\".format(counter))\n",
    "    for idx, color in enumerate(['r','g','b','y']):\n",
    "        mask = (cluster_per_point==idx)\n",
    "        plt.scatter(dataset[mask,0],dataset[mask,1],\n",
    "                    label='dataset', c=color)\n",
    "        plt.scatter(centroids[:,0],centroids[:,1],\n",
    "                    s=200, label=\"centroid\", marker='+')\n",
    "    plt.show()"
   ]
  },
  {
   "cell_type": "markdown",
   "metadata": {},
   "source": [
    "## 2. 전체 Numpy Code 작성하기"
   ]
  },
  {
   "cell_type": "code",
   "execution_count": 16,
   "metadata": {},
   "outputs": [],
   "source": [
    "def cluster_kmeans(dataset, k):    \n",
    "    # (1) 중심점 초기화\n",
    "    min_x = dataset[:,0].min()\n",
    "    max_x = dataset[:,0].max() \n",
    "    min_y = dataset[:,1].min()\n",
    "    max_y = dataset[:,1].max() \n",
    "\n",
    "    center_x = np.random.uniform(low=min_x, high=max_x, size=k)\n",
    "    center_y = np.random.uniform(low=min_y, high=max_y, size=k)\n",
    "    centroids = np.stack([center_x,center_y],axis=-1)\n",
    "    \n",
    "    # (2) ~ (5) 순회\n",
    "    num_data = dataset.shape[0]\n",
    "    cluster_per_point = np.zeros((num_data)) # 각 점 별 군집\n",
    "\n",
    "    counter = 0\n",
    "    while True:\n",
    "        prev_cluster_per_point = cluster_per_point\n",
    "        \n",
    "        # (2) 거리 계산\n",
    "        diff_mat = (centroids.reshape(-1,1,2) - dataset.reshape(1,-1,2))\n",
    "        dists = np.sqrt((diff_mat**2).sum(axis=-1))\n",
    "        # (3) 각 데이터를 거리가 가장 가까운 군집으로 할당\n",
    "        cluster_per_point = dists.argmin(axis=0)\n",
    "        \n",
    "        # (4) 각 군집 별 점들의 평균을 계산 후, 군집의 중심점을 다시 계산\n",
    "        for i in range(k):\n",
    "            centroids[i] = dataset[cluster_per_point==i].mean(axis=0)\n",
    "\n",
    "        if np.all(prev_cluster_per_point == cluster_per_point):\n",
    "            break\n",
    "\n",
    "        counter += 1\n",
    "        plt.title(\"{}th Distribution of Dataset\".format(counter))\n",
    "        for idx, color in enumerate(['r','g','b','y']):\n",
    "            mask = (cluster_per_point==idx)\n",
    "            plt.scatter(dataset[mask,0],dataset[mask,1],\n",
    "                        label='dataset', c=color)\n",
    "            plt.scatter(centroids[:,0],centroids[:,1],\n",
    "                        s=200, label=\"centroid\", marker='+')\n",
    "        plt.show()\n",
    "    \n",
    "    return centroids"
   ]
  },
  {
   "cell_type": "code",
   "execution_count": 17,
   "metadata": {},
   "outputs": [
    {
     "data": {
      "image/png": "[encoded data removed]",
      "text/plain": [
       "<Figure size 432x288 with 1 Axes>"
      ]
     },
     "metadata": {},
     "output_type": "display_data"
    },
    {
     "data": {
      "image/png": "[encoded data removed]",
      "text/plain": [
       "<Figure size 432x288 with 1 Axes>"
      ]
     },
     "metadata": {},
     "output_type": "display_data"
    },
    {
     "data": {
      "image/png": "[encoded data removed]",
      "text/plain": [
       "<Figure size 432x288 with 1 Axes>"
      ]
     },
     "metadata": {},
     "output_type": "display_data"
    },
    {
     "data": {
      "text/plain": [
       "array([[-2.46154315,  2.78737555],\n",
       "       [-3.53973889, -2.89384326],\n",
       "       [ 2.6265299 ,  3.10868015],\n",
       "       [ 2.65077367, -2.79019029]])"
      ]
     },
     "execution_count": 17,
     "metadata": {},
     "output_type": "execute_result"
    }
   ],
   "source": [
    "cluster_kmeans(dataset,4)"
   ]
  },
  {
   "cell_type": "markdown",
   "metadata": {
    "colab_type": "text",
    "id": "sqE9TAC1O6UF"
   },
   "source": [
    "#  \n",
    "\n",
    "---\n",
    "\n",
    "    Copyright(c) 2019 by Public AI. All rights reserved.<br>\n",
    "    Writen by PAI, SangJae Kang ( rocketgrowthsj@publicai.co.kr )  last updated on 2019/03/04\n",
    "\n",
    "---"
   ]
  }
 ],
 "metadata": {
  "colab": {
   "collapsed_sections": [
    "34r66vr2O6Re",
    "UvPQnmcgyKzr",
    "F_ac_F0QO6Rm",
    "KVPGifrHO6Rs",
    "w0DhJX6fO6Rw",
    "GR30sa9BO6R1",
    "h3-sxdSFO6R-",
    "l2xZeidfO6SM",
    "_cqP61PsO6Sf",
    "Jji3drmvO6Sw",
    "ZCgp3cyUO6TD",
    "4swWHPVWO6Tm"
   ],
   "name": "5_Numpy의 주요함수들(2).ipynb",
   "provenance": [],
   "toc_visible": true,
   "version": "0.3.2"
  },
  "kernelspec": {
   "display_name": "Python 3",
   "language": "python",
   "name": "python3"
  },
  "language_info": {
   "codemirror_mode": {
    "name": "ipython",
    "version": 3
   },
   "file_extension": ".py",
   "mimetype": "text/x-python",
   "name": "python",
   "nbconvert_exporter": "python",
   "pygments_lexer": "ipython3",
   "version": "3.6.5"
  }
 },
 "nbformat": 4,
 "nbformat_minor": 1
}
