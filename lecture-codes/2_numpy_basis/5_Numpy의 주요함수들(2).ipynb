{
 "cells": [
  {
   "cell_type": "markdown",
   "metadata": {
    "colab_type": "text",
    "id": "JwXVP87OO6RW"
   },
   "source": [
    " ╔══<i><b>Alai-DeepLearning</b></i>═══════════════════════════╗\n",
    "###  &nbsp;&nbsp; **✎&nbsp;&nbsp;Day 2. Numpy Basis**\n",
    "# Section 4. Numpy의 주요 함수들(2)\n",
    "\n",
    "### _Objective_\n",
    "1. Numpy Array의 하나의 축으로 각 원소들의 통계적 수치가 필요할 때가 있습니다.<br>\n",
    "2. Numpy Array에서 축을 따라 연산하는 집계함수들(sum, mean 등)대해 배워봅시다.<br>\n",
    "\n",
    "╚════════════════════════════════════════╝"
   ]
  },
  {
   "cell_type": "code",
   "execution_count": 0,
   "metadata": {
    "colab": {},
    "colab_type": "code",
    "id": "k-o8zDSkO6RZ"
   },
   "outputs": [],
   "source": [
    "import numpy as np"
   ]
  },
  {
   "cell_type": "markdown",
   "metadata": {
    "colab_type": "text",
    "id": "-xLXSgg4O6Rd"
   },
   "source": [
    "# \\[ 1. Numpy array의 축 연산 \\]\n",
    "\n",
    "---\n",
    "\n",
    "---\n",
    "\n",
    "> _`np.array`는 축을 기준으로 집계 계산하는, sum, mean, std, max, min 등의 연산을 지원합니다._<br>\n",
    "> _집계함수는 한 축이 갖는 여러개의 값을  그룹당 하나의 값으로 반환합니다._"
   ]
  },
  {
   "cell_type": "markdown",
   "metadata": {
    "colab_type": "text",
    "id": "34r66vr2O6Re"
   },
   "source": [
    "## 예제 데이터 )  학생들의 국영수사과 성적표\n"
   ]
  },
  {
   "cell_type": "markdown",
   "metadata": {
    "colab_type": "text",
    "id": "UvPQnmcgyKzr"
   },
   "source": [
    "\n",
    "#### 데이터 1) 중간고사, 학생들의 국영수사과 성적표\n",
    "`middle_scores`\n",
    "\n",
    "| 학생 번호 | 국어 | 영어 | 수학 | 사회 | 과학 |\n",
    "|  ----   | --- |---| --- | --- | --- |\n",
    "|0 |80 |92 |70 | 65 | 92 |\n",
    "|1 |91 |75 |90 | 68 | 85 | \n",
    "|2 |86 |76 |42 | 72 | 88 |\n",
    "|3 |77 |92 |52 | 60 | 80 |\n",
    "|4 |75 |85 |85 | 92 | 95 |\n",
    "|5 |96 |90 |95 | 81 | 72 |\n",
    "\n",
    "#### 데이터 2) 기말고사, 학생들의 국영수사과 성적표\n",
    "`final_scores`\n",
    "\n",
    "| 학생 번호 | 국어 | 영어 | 수학 | 사회 | 과학 |\n",
    "|  ----   | --- |---| --- | --- | --- |\n",
    "|0 |85 |95 |90 | 66 | 93 |\n",
    "|1 |93 |70 |80 | 60 | 81 | \n",
    "|2 |89 |78 |55 | 75 | 80 |\n",
    "|3 |80 |94 |59 | 72 | 90 |\n",
    "|4 |70 |82 |81 | 95 | 72 |\n",
    "|5 |90 |76 |93 | 82 | 89 |"
   ]
  },
  {
   "cell_type": "code",
   "execution_count": 0,
   "metadata": {
    "colab": {
     "base_uri": "https://localhost:8080/",
     "height": 228
    },
    "colab_type": "code",
    "executionInfo": {
     "elapsed": 375,
     "status": "ok",
     "timestamp": 1551671291404,
     "user": {
      "displayName": "최선열",
      "photoUrl": "",
      "userId": "00663027191814710813"
     },
     "user_tz": -540
    },
    "id": "WrSWb4HgO6Rf",
    "outputId": "08a25e9e-2e34-4884-b203-7536c019feac"
   },
   "outputs": [
    {
     "name": "stdout",
     "output_type": "stream",
     "text": [
      "[[[80 92 70 65 92]\n",
      "  [91 75 90 68 85]\n",
      "  [86 76 42 72 88]\n",
      "  [77 92 52 60 80]\n",
      "  [75 85 85 92 95]\n",
      "  [96 90 95 81 72]]\n",
      "\n",
      " [[85 95 90 66 93]\n",
      "  [93 70 80 60 81]\n",
      "  [89 78 55 75 80]\n",
      "  [80 94 59 72 90]\n",
      "  [70 82 81 95 72]\n",
      "  [90 76 93 82 89]]]\n"
     ]
    }
   ],
   "source": [
    "middle_scores = np.array([\n",
    "    [80,92,70,65,92],\n",
    "    [91,75,90,68,85],\n",
    "    [86,76,42,72,88],\n",
    "    [77,92,52,60,80],\n",
    "    [75,85,85,92,95],\n",
    "    [96,90,95,81,72]\n",
    "])\n",
    "\n",
    "final_scores = np.array([\n",
    "    [85,95,90,66,93],\n",
    "    [93,70,80,60,81],\n",
    "    [89,78,55,75,80],\n",
    "    [80,94,59,72,90],\n",
    "    [70,82,81,95,72],\n",
    "    [90,76,93,82,89]\n",
    "])\n",
    "\n",
    "scores = np.stack([middle_scores,final_scores])\n",
    "\n",
    "scores"
   ]
  },
  {
   "cell_type": "code",
   "execution_count": 0,
   "metadata": {
    "colab": {
     "base_uri": "https://localhost:8080/",
     "height": 33
    },
    "colab_type": "code",
    "executionInfo": {
     "elapsed": 570,
     "status": "ok",
     "timestamp": 1551671305980,
     "user": {
      "displayName": "최선열",
      "photoUrl": "",
      "userId": "00663027191814710813"
     },
     "user_tz": -540
    },
    "id": "kNGnWsIb0RBW",
    "outputId": "6a41bb2f-3c32-4c5c-f0ab-f83b7936fc19"
   },
   "outputs": [
    {
     "data": {
      "text/plain": [
       "(2, 6, 5)"
      ]
     },
     "execution_count": 4,
     "metadata": {
      "tags": []
     },
     "output_type": "execute_result"
    }
   ],
   "source": [
    "scores.shape"
   ]
  },
  {
   "cell_type": "markdown",
   "metadata": {
    "colab_type": "text",
    "id": "M1nhRjsbO6Rl"
   },
   "source": [
    "## 1. Numpy Array에서 축을 중심으로 평균 구하기\n",
    "\n",
    "---\n",
    "\n",
    "+ Numpy에서는 간단히 축을 설정하는 것 만으로도 다양한 기준에 따른 연산 값을 구할 수 있습니다.<br>\n",
    "+ axis의 value는 numpy Array의 shape에서 몇번째 축인지 결정해주는 parameter입니다."
   ]
  },
  {
   "cell_type": "code",
   "execution_count": 0,
   "metadata": {
    "colab": {
     "base_uri": "https://localhost:8080/",
     "height": 33
    },
    "colab_type": "code",
    "executionInfo": {
     "elapsed": 556,
     "status": "ok",
     "timestamp": 1551672616102,
     "user": {
      "displayName": "최선열",
      "photoUrl": "",
      "userId": "00663027191814710813"
     },
     "user_tz": -540
    },
    "id": "xPZouEPM5QrB",
    "outputId": "b864aa61-fd2b-4666-be0e-f571cb297286"
   },
   "outputs": [
    {
     "data": {
      "text/plain": [
       "(2, 6, 5)"
      ]
     },
     "execution_count": 28,
     "metadata": {
      "tags": []
     },
     "output_type": "execute_result"
    }
   ],
   "source": [
    "scores.shape"
   ]
  },
  {
   "cell_type": "markdown",
   "metadata": {
    "colab_type": "text",
    "id": "KALm-dei5SbX"
   },
   "source": [
    "axis = 0 에서 2 : 각 기간(중간고사, 기말고사)를 의미<br>\n",
    "axis = 1 에서 6 : 여섯명의 학생들을 의미<br>\n",
    "axis = 2 에서 5 : 다섯개의 과목들을 의미<br>"
   ]
  },
  {
   "cell_type": "markdown",
   "metadata": {
    "colab_type": "text",
    "id": "F_ac_F0QO6Rm"
   },
   "source": [
    "### 예제 1) 전체 평균 점수 \n",
    "\n",
    "중간, 기말을 통틀어, 학생들이 받는 평균 성적은 얼마인가? "
   ]
  },
  {
   "cell_type": "code",
   "execution_count": 0,
   "metadata": {
    "colab": {},
    "colab_type": "code",
    "id": "L7YAyDE3O6Rn",
    "outputId": "314997bf-5d82-4513-f24b-fbfdba4a9439"
   },
   "outputs": [
    {
     "data": {
      "text/plain": [
       "80.23333333333333"
      ]
     },
     "execution_count": 9,
     "metadata": {
      "tags": []
     },
     "output_type": "execute_result"
    }
   ],
   "source": [
    "scores.mean()"
   ]
  },
  {
   "cell_type": "markdown",
   "metadata": {
    "colab_type": "text",
    "id": "KVPGifrHO6Rs"
   },
   "source": [
    "### 예제 2) 학생 & 과목 별 평균 점수 \n",
    "\n",
    "학생들의 최종 성적을 구하기 위해, 학생들의 과목 별 평균 성적( 중간과 기말의 평균 )을 구해보자.<br>\n",
    "(각 학생들의 각 과목별 중간, 기말의 평균)"
   ]
  },
  {
   "cell_type": "code",
   "execution_count": 0,
   "metadata": {
    "colab": {
     "base_uri": "https://localhost:8080/",
     "height": 33
    },
    "colab_type": "code",
    "executionInfo": {
     "elapsed": 558,
     "status": "ok",
     "timestamp": 1551672811479,
     "user": {
      "displayName": "최선열",
      "photoUrl": "",
      "userId": "00663027191814710813"
     },
     "user_tz": -540
    },
    "id": "ka9gWLA_08lk",
    "outputId": "c832ea89-4ab3-4c6e-99b6-5488ebb1ba00"
   },
   "outputs": [
    {
     "data": {
      "text/plain": [
       "(2, 6, 5)"
      ]
     },
     "execution_count": 32,
     "metadata": {
      "tags": []
     },
     "output_type": "execute_result"
    }
   ],
   "source": [
    "scores.shape\n",
    "# axis = 0 : 2 ( 중간고사, 기말고사 )의 값을 하나로\n",
    "# 기간의 구분 없이 각 학생, 과목별 평균 -> axis = 0에 대해 평균"
   ]
  },
  {
   "cell_type": "code",
   "execution_count": 0,
   "metadata": {
    "colab": {
     "base_uri": "https://localhost:8080/",
     "height": 115
    },
    "colab_type": "code",
    "executionInfo": {
     "elapsed": 586,
     "status": "ok",
     "timestamp": 1551672124422,
     "user": {
      "displayName": "최선열",
      "photoUrl": "",
      "userId": "00663027191814710813"
     },
     "user_tz": -540
    },
    "id": "Fofxw1b0O6Rt",
    "outputId": "e015e785-8929-42b2-e7e6-b49ca997c088"
   },
   "outputs": [
    {
     "data": {
      "text/plain": [
       "array([[82.5, 93.5, 80. , 65.5, 92.5],\n",
       "       [92. , 72.5, 85. , 64. , 83. ],\n",
       "       [87.5, 77. , 48.5, 73.5, 84. ],\n",
       "       [78.5, 93. , 55.5, 66. , 85. ],\n",
       "       [72.5, 83.5, 83. , 93.5, 83.5],\n",
       "       [93. , 83. , 94. , 81.5, 80.5]])"
      ]
     },
     "execution_count": 17,
     "metadata": {
      "tags": []
     },
     "output_type": "execute_result"
    }
   ],
   "source": [
    "scores.mean(axis=0)"
   ]
  },
  {
   "cell_type": "code",
   "execution_count": 0,
   "metadata": {
    "colab": {
     "base_uri": "https://localhost:8080/",
     "height": 33
    },
    "colab_type": "code",
    "executionInfo": {
     "elapsed": 662,
     "status": "ok",
     "timestamp": 1551672127626,
     "user": {
      "displayName": "최선열",
      "photoUrl": "",
      "userId": "00663027191814710813"
     },
     "user_tz": -540
    },
    "id": "Oe4Raong3aMq",
    "outputId": "57ab87df-eb5b-41f5-8ed4-8aab11e9c4df"
   },
   "outputs": [
    {
     "data": {
      "text/plain": [
       "(6, 5)"
      ]
     },
     "execution_count": 18,
     "metadata": {
      "tags": []
     },
     "output_type": "execute_result"
    }
   ],
   "source": [
    "scores.mean(axis=0).shape\n",
    "# axis : 0 의 값 (2 => 1)"
   ]
  },
  {
   "cell_type": "markdown",
   "metadata": {
    "colab_type": "text",
    "id": "w0DhJX6fO6Rw"
   },
   "source": [
    "### 예제 3) 기간 & 과목 별 평균 점수 \n",
    "\n",
    "과목 별로 중간 기말의 성적 차이가 어떤 식으로 나는지 확인하기 위해, 과목 별 중간 기말 평균 점수을 구해보자. <br>\n",
    "(각 기간별로 각 과목별 모든 학생들의 평균)"
   ]
  },
  {
   "cell_type": "code",
   "execution_count": 0,
   "metadata": {
    "colab": {
     "base_uri": "https://localhost:8080/",
     "height": 33
    },
    "colab_type": "code",
    "executionInfo": {
     "elapsed": 541,
     "status": "ok",
     "timestamp": 1551672805854,
     "user": {
      "displayName": "최선열",
      "photoUrl": "",
      "userId": "00663027191814710813"
     },
     "user_tz": -540
    },
    "id": "zoJC50GC1RpF",
    "outputId": "e63ee540-4400-4327-9864-79463527da73"
   },
   "outputs": [
    {
     "data": {
      "text/plain": [
       "(2, 6, 5)"
      ]
     },
     "execution_count": 31,
     "metadata": {
      "tags": []
     },
     "output_type": "execute_result"
    }
   ],
   "source": [
    "scores.shape\n",
    "# axis = 1 : 6 ( 각 학생들 )의 값을 하나로\n",
    "# 학생들의 구분 없이 각 기간, 각 과목별 평균 -> axis = 1에 대해 평균"
   ]
  },
  {
   "cell_type": "code",
   "execution_count": 0,
   "metadata": {
    "colab": {
     "base_uri": "https://localhost:8080/",
     "height": 50
    },
    "colab_type": "code",
    "executionInfo": {
     "elapsed": 369,
     "status": "ok",
     "timestamp": 1551671624239,
     "user": {
      "displayName": "최선열",
      "photoUrl": "",
      "userId": "00663027191814710813"
     },
     "user_tz": -540
    },
    "id": "r5jpB7lGO6Rx",
    "outputId": "c8c29d22-79c4-4725-d84e-6bbcc4f40a0e"
   },
   "outputs": [
    {
     "data": {
      "text/plain": [
       "array([[84.16666667, 85.        , 72.33333333, 73.        , 85.33333333],\n",
       "       [84.5       , 82.5       , 76.33333333, 75.        , 84.16666667]])"
      ]
     },
     "execution_count": 8,
     "metadata": {
      "tags": []
     },
     "output_type": "execute_result"
    }
   ],
   "source": [
    "scores.mean(axis=1)"
   ]
  },
  {
   "cell_type": "code",
   "execution_count": 0,
   "metadata": {
    "colab": {
     "base_uri": "https://localhost:8080/",
     "height": 33
    },
    "colab_type": "code",
    "executionInfo": {
     "elapsed": 545,
     "status": "ok",
     "timestamp": 1551672529986,
     "user": {
      "displayName": "최선열",
      "photoUrl": "",
      "userId": "00663027191814710813"
     },
     "user_tz": -540
    },
    "id": "NRPVLKVK3j_N",
    "outputId": "16e44ded-6c05-463e-b33b-28c865720372"
   },
   "outputs": [
    {
     "data": {
      "text/plain": [
       "(2, 5)"
      ]
     },
     "execution_count": 27,
     "metadata": {
      "tags": []
     },
     "output_type": "execute_result"
    }
   ],
   "source": [
    "scores.mean(axis=1).shape\n",
    "# axis : 1의 값 (6 => 1)"
   ]
  },
  {
   "cell_type": "markdown",
   "metadata": {
    "colab_type": "text",
    "id": "GR30sa9BO6R1"
   },
   "source": [
    "### 예제 4) 학생 & 기간 별 평균 점수\n",
    "\n",
    "학생 별로 중간 고사 대비 기말 고사가 얼마나 올라갔는지 확인하기 위해, 학생 별 중간 기말 평균 점수를 구해보자. <br>\n",
    "(각 학생, 기간별 모든 과목의 평균)"
   ]
  },
  {
   "cell_type": "code",
   "execution_count": 0,
   "metadata": {
    "colab": {
     "base_uri": "https://localhost:8080/",
     "height": 33
    },
    "colab_type": "code",
    "executionInfo": {
     "elapsed": 610,
     "status": "ok",
     "timestamp": 1551672857545,
     "user": {
      "displayName": "최선열",
      "photoUrl": "",
      "userId": "00663027191814710813"
     },
     "user_tz": -540
    },
    "id": "byUSb92G1wxM",
    "outputId": "deed6b09-b931-4027-f971-edf1a369df10"
   },
   "outputs": [
    {
     "data": {
      "text/plain": [
       "(2, 6, 5)"
      ]
     },
     "execution_count": 34,
     "metadata": {
      "tags": []
     },
     "output_type": "execute_result"
    }
   ],
   "source": [
    "scores.shape\n",
    "# axis = 2 : 5 ( 각 과목 )의 값을 하나로\n",
    "# 과목에 구분없이, 각 학생별, 각 기간별 평균 -> axis=2 에 대해 평균"
   ]
  },
  {
   "cell_type": "code",
   "execution_count": 0,
   "metadata": {
    "colab": {},
    "colab_type": "code",
    "id": "OJqm7O1DO6R2",
    "outputId": "5b4f822b-6303-4eb0-cd38-3354310bc591"
   },
   "outputs": [
    {
     "data": {
      "text/plain": [
       "array([[79.8, 81.8, 72.8, 72.2, 86.4, 86.8],\n",
       "       [85.8, 76.8, 75.4, 79. , 80. , 86. ]])"
      ]
     },
     "execution_count": 30,
     "metadata": {
      "tags": []
     },
     "output_type": "execute_result"
    }
   ],
   "source": [
    "scores.mean(axis=2)"
   ]
  },
  {
   "cell_type": "code",
   "execution_count": 0,
   "metadata": {
    "colab": {
     "base_uri": "https://localhost:8080/",
     "height": 33
    },
    "colab_type": "code",
    "executionInfo": {
     "elapsed": 703,
     "status": "ok",
     "timestamp": 1551672197525,
     "user": {
      "displayName": "최선열",
      "photoUrl": "",
      "userId": "00663027191814710813"
     },
     "user_tz": -540
    },
    "id": "XfPyrlCj3p4K",
    "outputId": "571d23c1-5f36-4397-a123-abce08779eb3"
   },
   "outputs": [
    {
     "data": {
      "text/plain": [
       "(2, 6)"
      ]
     },
     "execution_count": 20,
     "metadata": {
      "tags": []
     },
     "output_type": "execute_result"
    }
   ],
   "source": [
    "scores.mean(axis=2).shape\n",
    "# axis : 2 의 값 (5 => 1)"
   ]
  },
  {
   "cell_type": "markdown",
   "metadata": {
    "colab_type": "text",
    "id": "h3-sxdSFO6R-"
   },
   "source": [
    "### 예제 5) 학생 별 평균 점수 \n",
    "\n",
    "학생의 1학기 학업 등수를 내기 위해, 학생 별 전체 평균 성적을 구해 보자. <br>\n",
    "(각 학생들의 모든 과목, 기간의 평균)"
   ]
  },
  {
   "cell_type": "code",
   "execution_count": 0,
   "metadata": {
    "colab": {
     "base_uri": "https://localhost:8080/",
     "height": 33
    },
    "colab_type": "code",
    "executionInfo": {
     "elapsed": 714,
     "status": "ok",
     "timestamp": 1551672377488,
     "user": {
      "displayName": "최선열",
      "photoUrl": "",
      "userId": "00663027191814710813"
     },
     "user_tz": -540
    },
    "id": "pQT44qtO2hgW",
    "outputId": "9bc7f160-75cb-4ab1-c087-4fbdcbab6f81"
   },
   "outputs": [
    {
     "data": {
      "text/plain": [
       "(2, 6, 5)"
      ]
     },
     "execution_count": 24,
     "metadata": {
      "tags": []
     },
     "output_type": "execute_result"
    }
   ],
   "source": [
    "scores.shape\n",
    "# axis = 0 : 2 ( 각 기간 ), axis = 2 : 5 ( 각 과목 )의 값을 하나로 \n",
    "# shape ( 2, 6, 5 ) -> (6, ) \n",
    "# 각 학생별로 받은 모든 성적의 평균을 구하고자함"
   ]
  },
  {
   "cell_type": "code",
   "execution_count": 0,
   "metadata": {
    "colab": {
     "base_uri": "https://localhost:8080/",
     "height": 115
    },
    "colab_type": "code",
    "executionInfo": {
     "elapsed": 545,
     "status": "ok",
     "timestamp": 1551672377490,
     "user": {
      "displayName": "최선열",
      "photoUrl": "",
      "userId": "00663027191814710813"
     },
     "user_tz": -540
    },
    "id": "PJyKVEQEO6R_",
    "outputId": "4119c33f-dfce-4d2c-d130-ac2c8dd33b56"
   },
   "outputs": [
    {
     "data": {
      "text/plain": [
       "array([[82.5, 93.5, 80. , 65.5, 92.5],\n",
       "       [92. , 72.5, 85. , 64. , 83. ],\n",
       "       [87.5, 77. , 48.5, 73.5, 84. ],\n",
       "       [78.5, 93. , 55.5, 66. , 85. ],\n",
       "       [72.5, 83.5, 83. , 93.5, 83.5],\n",
       "       [93. , 83. , 94. , 81.5, 80.5]])"
      ]
     },
     "execution_count": 25,
     "metadata": {
      "tags": []
     },
     "output_type": "execute_result"
    }
   ],
   "source": [
    "average_per_period = scores.mean(axis=0) # 기간 축으로 평균\n",
    "average_per_period # 학생/과목 별 평균 성적"
   ]
  },
  {
   "cell_type": "code",
   "execution_count": 0,
   "metadata": {
    "colab": {
     "base_uri": "https://localhost:8080/",
     "height": 33
    },
    "colab_type": "code",
    "executionInfo": {
     "elapsed": 651,
     "status": "ok",
     "timestamp": 1551673343539,
     "user": {
      "displayName": "최선열",
      "photoUrl": "",
      "userId": "00663027191814710813"
     },
     "user_tz": -540
    },
    "id": "QXTljBI64S3l",
    "outputId": "307066cd-9781-4141-9449-b8fffba1294b"
   },
   "outputs": [
    {
     "data": {
      "text/plain": [
       "(6, 5)"
      ]
     },
     "execution_count": 36,
     "metadata": {
      "tags": []
     },
     "output_type": "execute_result"
    }
   ],
   "source": [
    "average_per_period.shape\n",
    "# 기간의 구분 없이 평균값이 적용됨\n",
    "# 두개의 기간 각각의 값 -> 하나의 평균값 : shape ( 2, 6, 5 ) -> (6, 5) "
   ]
  },
  {
   "cell_type": "code",
   "execution_count": 0,
   "metadata": {
    "colab": {
     "base_uri": "https://localhost:8080/",
     "height": 33
    },
    "colab_type": "code",
    "executionInfo": {
     "elapsed": 540,
     "status": "ok",
     "timestamp": 1551673494839,
     "user": {
      "displayName": "최선열",
      "photoUrl": "",
      "userId": "00663027191814710813"
     },
     "user_tz": -540
    },
    "id": "HaK0pLQzO6SE",
    "outputId": "e1eae1c9-5351-477a-c834-beb1a8ddd781"
   },
   "outputs": [
    {
     "data": {
      "text/plain": [
       "array([82.8, 79.3, 74.1, 75.6, 83.2, 86.4])"
      ]
     },
     "execution_count": 38,
     "metadata": {
      "tags": []
     },
     "output_type": "execute_result"
    }
   ],
   "source": [
    "average_per_period.mean(axis=1) # 과목 축으로 평균\n",
    "# 학생의 평균 성적"
   ]
  },
  {
   "cell_type": "code",
   "execution_count": 0,
   "metadata": {
    "colab": {
     "base_uri": "https://localhost:8080/",
     "height": 33
    },
    "colab_type": "code",
    "executionInfo": {
     "elapsed": 540,
     "status": "ok",
     "timestamp": 1551673498887,
     "user": {
      "displayName": "최선열",
      "photoUrl": "",
      "userId": "00663027191814710813"
     },
     "user_tz": -540
    },
    "id": "IXp5nw_g8Lt-",
    "outputId": "bc1bcd67-2624-4b3f-974c-71eeffd97393"
   },
   "outputs": [
    {
     "data": {
      "text/plain": [
       "(6,)"
      ]
     },
     "execution_count": 39,
     "metadata": {
      "tags": []
     },
     "output_type": "execute_result"
    }
   ],
   "source": [
    "average_per_period.mean(axis=1).shape\n",
    "# 과목의 구분 없이 평균값이 적용됨\n",
    "# 다섯개의 과목 각각의 값 -> 하나의 평균값 : shape ( 6, 5 ) -> (6, ) "
   ]
  },
  {
   "cell_type": "markdown",
   "metadata": {
    "colab_type": "text",
    "id": "hjdlGkDZO6SI"
   },
   "source": [
    "**이렇게 Chaining 방식으로 평균을 구할 수도 있습니다.**"
   ]
  },
  {
   "cell_type": "code",
   "execution_count": 0,
   "metadata": {
    "colab": {
     "base_uri": "https://localhost:8080/",
     "height": 33
    },
    "colab_type": "code",
    "executionInfo": {
     "elapsed": 564,
     "status": "ok",
     "timestamp": 1551673545265,
     "user": {
      "displayName": "최선열",
      "photoUrl": "",
      "userId": "00663027191814710813"
     },
     "user_tz": -540
    },
    "id": "8ltzf8aZ8zvr",
    "outputId": "0f2e1234-d88d-4ac4-80ac-d1b77797758f"
   },
   "outputs": [
    {
     "data": {
      "text/plain": [
       "(2, 6, 5)"
      ]
     },
     "execution_count": 40,
     "metadata": {
      "tags": []
     },
     "output_type": "execute_result"
    }
   ],
   "source": [
    "scores.shape"
   ]
  },
  {
   "cell_type": "code",
   "execution_count": 0,
   "metadata": {
    "colab": {
     "base_uri": "https://localhost:8080/",
     "height": 33
    },
    "colab_type": "code",
    "executionInfo": {
     "elapsed": 600,
     "status": "ok",
     "timestamp": 1551674190856,
     "user": {
      "displayName": "최선열",
      "photoUrl": "",
      "userId": "00663027191814710813"
     },
     "user_tz": -540
    },
    "id": "Quw5FSNdO6SJ",
    "outputId": "c23bbded-5048-4e49-c04d-ab4801626613"
   },
   "outputs": [
    {
     "data": {
      "text/plain": [
       "array([82.8, 79.3, 74.1, 75.6, 83.2, 86.4])"
      ]
     },
     "execution_count": 51,
     "metadata": {
      "tags": []
     },
     "output_type": "execute_result"
    }
   ],
   "source": [
    "scores.mean(axis=0).mean(axis=1)"
   ]
  },
  {
   "cell_type": "code",
   "execution_count": 0,
   "metadata": {
    "colab": {
     "base_uri": "https://localhost:8080/",
     "height": 33
    },
    "colab_type": "code",
    "executionInfo": {
     "elapsed": 543,
     "status": "ok",
     "timestamp": 1551673563789,
     "user": {
      "displayName": "최선열",
      "photoUrl": "",
      "userId": "00663027191814710813"
     },
     "user_tz": -540
    },
    "id": "IA8D2GTr7sqS",
    "outputId": "96da704c-920b-4a7b-b921-f41bc185ffaa"
   },
   "outputs": [
    {
     "data": {
      "text/plain": [
       "(6,)"
      ]
     },
     "execution_count": 41,
     "metadata": {
      "tags": []
     },
     "output_type": "execute_result"
    }
   ],
   "source": [
    "scores.mean(axis=0).mean(axis=1).shape\n",
    "# 각 학생들의 모든 점수 평균값"
   ]
  },
  {
   "cell_type": "markdown",
   "metadata": {
    "colab_type": "text",
    "id": "l2xZeidfO6SM"
   },
   "source": [
    "### 예제 6) 과목 별 평균 점수 \n",
    "\n",
    "1학기 과목별 난이도를 평가하기 위해, 과목별 전체 평균 성적을 구해 보자.<br>\n",
    "(각 과목들의 모든 학생, 기간의 평균)"
   ]
  },
  {
   "cell_type": "code",
   "execution_count": 0,
   "metadata": {
    "colab": {
     "base_uri": "https://localhost:8080/",
     "height": 33
    },
    "colab_type": "code",
    "executionInfo": {
     "elapsed": 589,
     "status": "ok",
     "timestamp": 1551673724401,
     "user": {
      "displayName": "최선열",
      "photoUrl": "",
      "userId": "00663027191814710813"
     },
     "user_tz": -540
    },
    "id": "zBu0glD68_H4",
    "outputId": "ca49206f-d83e-4260-a7ae-0b45b0e56f59"
   },
   "outputs": [
    {
     "data": {
      "text/plain": [
       "(2, 6, 5)"
      ]
     },
     "execution_count": 43,
     "metadata": {
      "tags": []
     },
     "output_type": "execute_result"
    }
   ],
   "source": [
    "scores.shape\n",
    "# axis = 0 : 2 ( 각 기간 ), axis = 1 : 6 ( 각 학생 )의 값을 하나로 \n",
    "# shape ( 2, 6, 5 ) -> (5, ) \n",
    "# 각 과목별로 받은 모든 성적의 평균을 구하고자함"
   ]
  },
  {
   "cell_type": "code",
   "execution_count": 0,
   "metadata": {
    "colab": {},
    "colab_type": "code",
    "id": "4Wt-JzTKO6SN",
    "outputId": "af2e1fda-33f3-4231-d334-e73319a893d6"
   },
   "outputs": [
    {
     "data": {
      "text/plain": [
       "array([[82.5, 93.5, 80. , 65.5, 92.5],\n",
       "       [92. , 72.5, 85. , 64. , 83. ],\n",
       "       [87.5, 77. , 48.5, 73.5, 84. ],\n",
       "       [78.5, 93. , 55.5, 66. , 85. ],\n",
       "       [72.5, 83.5, 83. , 93.5, 83.5],\n",
       "       [93. , 83. , 94. , 81.5, 80.5]])"
      ]
     },
     "execution_count": 90,
     "metadata": {
      "tags": []
     },
     "output_type": "execute_result"
    }
   ],
   "source": [
    "average_per_period = scores.mean(axis=0) # 기간 축으로 평균\n",
    "average_per_period # 학생/과목 별 평균 성적"
   ]
  },
  {
   "cell_type": "code",
   "execution_count": 0,
   "metadata": {
    "colab": {
     "base_uri": "https://localhost:8080/",
     "height": 33
    },
    "colab_type": "code",
    "executionInfo": {
     "elapsed": 836,
     "status": "ok",
     "timestamp": 1551673924296,
     "user": {
      "displayName": "최선열",
      "photoUrl": "",
      "userId": "00663027191814710813"
     },
     "user_tz": -540
    },
    "id": "XDY7yIa2-Icz",
    "outputId": "8d292da1-614e-4dfd-929b-672f1053a9ef"
   },
   "outputs": [
    {
     "data": {
      "text/plain": [
       "(6, 5)"
      ]
     },
     "execution_count": 44,
     "metadata": {
      "tags": []
     },
     "output_type": "execute_result"
    }
   ],
   "source": [
    "average_per_period.shape\n",
    "# 기간의 구분 없이 평균값이 적용됨\n",
    "# 두개의 기간 각각의 값 -> 하나의 평균값 : shape ( 2, 6, 5 ) -> (6, 5)"
   ]
  },
  {
   "cell_type": "code",
   "execution_count": 0,
   "metadata": {
    "colab": {},
    "colab_type": "code",
    "id": "UIXqIIGwO6SR",
    "outputId": "926d4e3d-85dd-4699-a906-57fbda8b61f6"
   },
   "outputs": [
    {
     "data": {
      "text/plain": [
       "array([84.33333333, 83.75      , 74.33333333, 74.        , 84.75      ])"
      ]
     },
     "execution_count": 92,
     "metadata": {
      "tags": []
     },
     "output_type": "execute_result"
    }
   ],
   "source": [
    "average_per_period.mean(axis=0) # 학생 축으로 평균\n",
    "# 과목의 평균 성적"
   ]
  },
  {
   "cell_type": "code",
   "execution_count": 0,
   "metadata": {
    "colab": {
     "base_uri": "https://localhost:8080/",
     "height": 33
    },
    "colab_type": "code",
    "executionInfo": {
     "elapsed": 787,
     "status": "ok",
     "timestamp": 1551673953205,
     "user": {
      "displayName": "최선열",
      "photoUrl": "",
      "userId": "00663027191814710813"
     },
     "user_tz": -540
    },
    "id": "L7t_aEq_-VKy",
    "outputId": "8bb2b329-bb16-444b-b991-31e63ce1dd8a"
   },
   "outputs": [
    {
     "data": {
      "text/plain": [
       "(5,)"
      ]
     },
     "execution_count": 46,
     "metadata": {
      "tags": []
     },
     "output_type": "execute_result"
    }
   ],
   "source": [
    "average_per_period.mean(axis=0).shape\n",
    "# 학생의 구분 없이 평균값이 적용됨\n",
    "# 여섯명의 학생 각각의 값 -> 하나의 평균값 : shape ( 6, 5 ) -> (5, ) "
   ]
  },
  {
   "cell_type": "markdown",
   "metadata": {
    "colab_type": "text",
    "id": "qfdUhrViO6SW"
   },
   "source": [
    "**이렇게 Chaining 방식으로 평균을 구할 수도 있습니다.**"
   ]
  },
  {
   "cell_type": "code",
   "execution_count": 0,
   "metadata": {
    "colab": {
     "base_uri": "https://localhost:8080/",
     "height": 33
    },
    "colab_type": "code",
    "executionInfo": {
     "elapsed": 853,
     "status": "ok",
     "timestamp": 1551674069131,
     "user": {
      "displayName": "최선열",
      "photoUrl": "",
      "userId": "00663027191814710813"
     },
     "user_tz": -540
    },
    "id": "YcHAUQCj-rYy",
    "outputId": "b32a032a-41aa-4ee9-c3ab-9241836396d3"
   },
   "outputs": [
    {
     "data": {
      "text/plain": [
       "(2, 6, 5)"
      ]
     },
     "execution_count": 49,
     "metadata": {
      "tags": []
     },
     "output_type": "execute_result"
    }
   ],
   "source": [
    "scores.shape"
   ]
  },
  {
   "cell_type": "code",
   "execution_count": 0,
   "metadata": {
    "colab": {
     "base_uri": "https://localhost:8080/",
     "height": 33
    },
    "colab_type": "code",
    "executionInfo": {
     "elapsed": 571,
     "status": "ok",
     "timestamp": 1551674046191,
     "user": {
      "displayName": "최선열",
      "photoUrl": "",
      "userId": "00663027191814710813"
     },
     "user_tz": -540
    },
    "id": "nR8TN6k9O6SX",
    "outputId": "2e4e4dce-398d-4eaf-b8d7-8cbd0fc38f5c"
   },
   "outputs": [
    {
     "data": {
      "text/plain": [
       "array([84.33333333, 83.75      , 74.33333333, 74.        , 84.75      ])"
      ]
     },
     "execution_count": 48,
     "metadata": {
      "tags": []
     },
     "output_type": "execute_result"
    }
   ],
   "source": [
    "scores.mean(axis=0).mean(axis=0)"
   ]
  },
  {
   "cell_type": "code",
   "execution_count": 0,
   "metadata": {
    "colab": {
     "base_uri": "https://localhost:8080/",
     "height": 33
    },
    "colab_type": "code",
    "executionInfo": {
     "elapsed": 1249,
     "status": "ok",
     "timestamp": 1551674075777,
     "user": {
      "displayName": "최선열",
      "photoUrl": "",
      "userId": "00663027191814710813"
     },
     "user_tz": -540
    },
    "id": "MxtEj5Jb-1pT",
    "outputId": "c9e9e67b-fd58-472d-9018-4658b57b9a82"
   },
   "outputs": [
    {
     "data": {
      "text/plain": [
       "(5,)"
      ]
     },
     "execution_count": 50,
     "metadata": {
      "tags": []
     },
     "output_type": "execute_result"
    }
   ],
   "source": [
    "scores.mean(axis=0).mean(axis=0).shape\n",
    "# 각 과목들의 모든 점수 평균값"
   ]
  },
  {
   "cell_type": "markdown",
   "metadata": {
    "colab_type": "text",
    "id": "Q97ehFf2AuJs"
   },
   "source": [
    "┌─<i> ✍︎ Example  &nbsp;&nbsp;&nbsp;</i>─────────────────────────┐ <br>\n",
    "\n",
    "│ Numpy의 집계함수를 이용하여  \"기간 별 평균 점수\"를 계산해 보세요. &nbsp;&nbsp;&nbsp;&nbsp;&nbsp;│<br>\n",
    "  \n",
    "   \n",
    "└─────────────────────────────────┘"
   ]
  },
  {
   "cell_type": "code",
   "execution_count": 0,
   "metadata": {
    "colab": {},
    "colab_type": "code",
    "id": "oSrvwRY1Bh7H"
   },
   "outputs": [],
   "source": [
    "# 실습공간\n",
    "\n"
   ]
  },
  {
   "cell_type": "markdown",
   "metadata": {
    "colab_type": "text",
    "id": "ElsyQ5ceO6Se"
   },
   "source": [
    "## 2. Numpy Array에서 다른 집계함수들의 적용\n",
    "\n",
    "---\n",
    "\n",
    "\n",
    "+ 평균 이외에도 `min`, `max`, `std`, `sum` 등의 함수가 동작합니다.\n",
    "+ 아래의 예시를 통해 다양하게 적용해 봅시다."
   ]
  },
  {
   "cell_type": "markdown",
   "metadata": {
    "colab_type": "text",
    "id": "_cqP61PsO6Sf"
   },
   "source": [
    "### 예제 1) 전체를 기준으로 적용"
   ]
  },
  {
   "cell_type": "code",
   "execution_count": 0,
   "metadata": {
    "colab": {},
    "colab_type": "code",
    "id": "kpZXxzWoO6Sg",
    "outputId": "58d35134-3e81-4ba7-e23a-2b54315f71d7"
   },
   "outputs": [
    {
     "data": {
      "text/plain": [
       "4814"
      ]
     },
     "execution_count": 40,
     "metadata": {
      "tags": []
     },
     "output_type": "execute_result"
    }
   ],
   "source": [
    "np.sum(scores) # 전체 합"
   ]
  },
  {
   "cell_type": "code",
   "execution_count": 0,
   "metadata": {
    "colab": {},
    "colab_type": "code",
    "id": "4qrZIHaRO6Sj",
    "outputId": "2e3d37fe-0a68-4925-e016-862706c74170"
   },
   "outputs": [
    {
     "data": {
      "text/plain": [
       "96"
      ]
     },
     "execution_count": 41,
     "metadata": {
      "tags": []
     },
     "output_type": "execute_result"
    }
   ],
   "source": [
    "np.max(scores) # 전체 중 최대값"
   ]
  },
  {
   "cell_type": "code",
   "execution_count": 0,
   "metadata": {
    "colab": {},
    "colab_type": "code",
    "id": "7uISZjAwO6Sn",
    "outputId": "c16952b9-31f1-4e2d-c5a3-f7576b42bc41"
   },
   "outputs": [
    {
     "data": {
      "text/plain": [
       "42"
      ]
     },
     "execution_count": 42,
     "metadata": {
      "tags": []
     },
     "output_type": "execute_result"
    }
   ],
   "source": [
    "np.min(scores) # 전체 중 최소값"
   ]
  },
  {
   "cell_type": "code",
   "execution_count": 0,
   "metadata": {
    "colab": {},
    "colab_type": "code",
    "id": "bUwSWxSbO6St",
    "outputId": "46ce3939-5ca1-4f5d-d59f-567c33f2224b"
   },
   "outputs": [
    {
     "data": {
      "text/plain": [
       "12.083551722164401"
      ]
     },
     "execution_count": 43,
     "metadata": {
      "tags": []
     },
     "output_type": "execute_result"
    }
   ],
   "source": [
    "np.std(scores) # 전체의 표준 편자"
   ]
  },
  {
   "cell_type": "markdown",
   "metadata": {
    "colab_type": "text",
    "id": "Jji3drmvO6Sw"
   },
   "source": [
    "### 예제 2) 학생 & 과목 별로 적용"
   ]
  },
  {
   "cell_type": "code",
   "execution_count": 0,
   "metadata": {
    "colab": {},
    "colab_type": "code",
    "id": "N7jOKuy8O6Sx",
    "outputId": "f379407b-63b5-4fcc-c8d9-d6c5f3d0c26d"
   },
   "outputs": [
    {
     "data": {
      "text/plain": [
       "array([[165, 187, 160, 131, 185],\n",
       "       [184, 145, 170, 128, 166],\n",
       "       [175, 154,  97, 147, 168],\n",
       "       [157, 186, 111, 132, 170],\n",
       "       [145, 167, 166, 187, 167],\n",
       "       [186, 166, 188, 163, 161]])"
      ]
     },
     "execution_count": 49,
     "metadata": {
      "tags": []
     },
     "output_type": "execute_result"
    }
   ],
   "source": [
    "np.sum(scores,axis=0) # 학생 & 과목 별 합"
   ]
  },
  {
   "cell_type": "code",
   "execution_count": 0,
   "metadata": {
    "colab": {},
    "colab_type": "code",
    "id": "KQRQXWzKO6S1",
    "outputId": "d3b6233b-60f4-4d92-d9c3-834973afab0d"
   },
   "outputs": [
    {
     "data": {
      "text/plain": [
       "array([[85, 95, 90, 66, 93],\n",
       "       [93, 75, 90, 68, 85],\n",
       "       [89, 78, 55, 75, 88],\n",
       "       [80, 94, 59, 72, 90],\n",
       "       [75, 85, 85, 95, 95],\n",
       "       [96, 90, 95, 82, 89]])"
      ]
     },
     "execution_count": 50,
     "metadata": {
      "tags": []
     },
     "output_type": "execute_result"
    }
   ],
   "source": [
    "np.max(scores,axis=0) # 학생 & 과목 별 최대값"
   ]
  },
  {
   "cell_type": "code",
   "execution_count": 0,
   "metadata": {
    "colab": {},
    "colab_type": "code",
    "id": "ZRE21300O6S4",
    "outputId": "96df8c71-0f31-42d8-96eb-a5702c28ac1e"
   },
   "outputs": [
    {
     "data": {
      "text/plain": [
       "array([[80, 92, 70, 65, 92],\n",
       "       [91, 70, 80, 60, 81],\n",
       "       [86, 76, 42, 72, 80],\n",
       "       [77, 92, 52, 60, 80],\n",
       "       [70, 82, 81, 92, 72],\n",
       "       [90, 76, 93, 81, 72]])"
      ]
     },
     "execution_count": 51,
     "metadata": {
      "tags": []
     },
     "output_type": "execute_result"
    }
   ],
   "source": [
    "np.min(scores,axis=0) # 학생 & 과목 별 최소값"
   ]
  },
  {
   "cell_type": "code",
   "execution_count": 0,
   "metadata": {
    "colab": {},
    "colab_type": "code",
    "id": "evj9PzmUO6S8",
    "outputId": "68a9eede-bd2d-4800-ae67-17cbff156352"
   },
   "outputs": [
    {
     "data": {
      "text/plain": [
       "array([[ 2.5,  1.5, 10. ,  0.5,  0.5],\n",
       "       [ 1. ,  2.5,  5. ,  4. ,  2. ],\n",
       "       [ 1.5,  1. ,  6.5,  1.5,  4. ],\n",
       "       [ 1.5,  1. ,  3.5,  6. ,  5. ],\n",
       "       [ 2.5,  1.5,  2. ,  1.5, 11.5],\n",
       "       [ 3. ,  7. ,  1. ,  0.5,  8.5]])"
      ]
     },
     "execution_count": 53,
     "metadata": {
      "tags": []
     },
     "output_type": "execute_result"
    }
   ],
   "source": [
    "np.std(scores,axis=0) # 학생 & 과목 별 표준 편자"
   ]
  },
  {
   "cell_type": "markdown",
   "metadata": {
    "colab_type": "text",
    "id": "ZCgp3cyUO6TD"
   },
   "source": [
    "### 예제 3) 기간 & 과목 별로 적용\n"
   ]
  },
  {
   "cell_type": "code",
   "execution_count": 0,
   "metadata": {
    "colab": {},
    "colab_type": "code",
    "id": "VsLP4DiJO6TE",
    "outputId": "4ed8a800-ccc2-4f19-ae8a-222e91fc50a0"
   },
   "outputs": [
    {
     "data": {
      "text/plain": [
       "array([[505, 510, 434, 438, 512],\n",
       "       [507, 495, 458, 450, 505]])"
      ]
     },
     "execution_count": 63,
     "metadata": {
      "tags": []
     },
     "output_type": "execute_result"
    }
   ],
   "source": [
    "np.sum(scores,axis=1) # 기간 & 과목 별 합"
   ]
  },
  {
   "cell_type": "code",
   "execution_count": 0,
   "metadata": {
    "colab": {},
    "colab_type": "code",
    "id": "MgajNUU6O6TH",
    "outputId": "6be724bd-d06f-433a-cf29-20f46cad066e"
   },
   "outputs": [
    {
     "data": {
      "text/plain": [
       "array([[96, 92, 95, 92, 95],\n",
       "       [93, 95, 93, 95, 93]])"
      ]
     },
     "execution_count": 64,
     "metadata": {
      "tags": []
     },
     "output_type": "execute_result"
    }
   ],
   "source": [
    "np.max(scores,axis=1) # 기간 & 과목 별 최대값"
   ]
  },
  {
   "cell_type": "code",
   "execution_count": 0,
   "metadata": {
    "colab": {},
    "colab_type": "code",
    "id": "qAr7r1McO6TM",
    "outputId": "ddfd7b23-c56f-4771-ed66-5e3539329b51"
   },
   "outputs": [
    {
     "data": {
      "text/plain": [
       "array([[75, 75, 42, 60, 72],\n",
       "       [70, 70, 55, 60, 72]])"
      ]
     },
     "execution_count": 65,
     "metadata": {
      "tags": []
     },
     "output_type": "execute_result"
    }
   ],
   "source": [
    "np.min(scores,axis=1) # 기간 & 과목 별 최소값"
   ]
  },
  {
   "cell_type": "code",
   "execution_count": 0,
   "metadata": {
    "colab": {},
    "colab_type": "code",
    "id": "zEerK_4KO6Te",
    "outputId": "6f0e3061-71af-4be7-9c9e-f9647f979d57"
   },
   "outputs": [
    {
     "data": {
      "text/plain": [
       "array([[ 7.55902698,  7.11805217, 19.68643075, 10.67707825,  7.65216019],\n",
       "       [ 7.67571929,  9.19691977, 14.46451597, 11.28420725,  7.19760763]])"
      ]
     },
     "execution_count": 66,
     "metadata": {
      "tags": []
     },
     "output_type": "execute_result"
    }
   ],
   "source": [
    "np.std(scores,axis=1) # 기간 & 과목 별 표준 편자"
   ]
  },
  {
   "cell_type": "markdown",
   "metadata": {
    "colab_type": "text",
    "id": "4swWHPVWO6Tm"
   },
   "source": [
    "### 예제 4) 학생 & 기간 별 적용\n"
   ]
  },
  {
   "cell_type": "code",
   "execution_count": 0,
   "metadata": {
    "colab": {},
    "colab_type": "code",
    "id": "X36zwYPuO6To",
    "outputId": "8b68d2cb-da26-4782-a633-9e661d5ddc44"
   },
   "outputs": [
    {
     "data": {
      "text/plain": [
       "array([[399, 409, 364, 361, 432, 434],\n",
       "       [429, 384, 377, 395, 400, 430]])"
      ]
     },
     "execution_count": 68,
     "metadata": {
      "tags": []
     },
     "output_type": "execute_result"
    }
   ],
   "source": [
    "np.sum(scores,axis=2) # 기간 & 과목 별 합"
   ]
  },
  {
   "cell_type": "code",
   "execution_count": 0,
   "metadata": {
    "colab": {},
    "colab_type": "code",
    "id": "68t_9fJGO6Ts",
    "outputId": "b3d77356-533b-4fb5-f443-4b53b9bde494"
   },
   "outputs": [
    {
     "data": {
      "text/plain": [
       "array([[92, 91, 88, 92, 95, 96],\n",
       "       [95, 93, 89, 94, 95, 93]])"
      ]
     },
     "execution_count": 69,
     "metadata": {
      "tags": []
     },
     "output_type": "execute_result"
    }
   ],
   "source": [
    "np.max(scores,axis=2) # 기간 & 과목 별 최대값"
   ]
  },
  {
   "cell_type": "code",
   "execution_count": 0,
   "metadata": {
    "colab": {},
    "colab_type": "code",
    "id": "TwO9cb8UO6T2",
    "outputId": "524ecdf8-59ea-4260-ea63-6711df70d705"
   },
   "outputs": [
    {
     "data": {
      "text/plain": [
       "array([[65, 68, 42, 52, 75, 72],\n",
       "       [66, 60, 55, 59, 70, 76]])"
      ]
     },
     "execution_count": 72,
     "metadata": {
      "tags": []
     },
     "output_type": "execute_result"
    }
   ],
   "source": [
    "np.min(scores,axis=2) # 기간 & 과목 별 최소값"
   ]
  },
  {
   "cell_type": "code",
   "execution_count": 0,
   "metadata": {
    "colab": {},
    "colab_type": "code",
    "id": "Y_qS4-QhO6T_",
    "outputId": "505a8c24-7f93-4295-ddec-a9cf03486e76"
   },
   "outputs": [
    {
     "data": {
      "text/plain": [
       "array([[11.070682  ,  8.93084542, 16.52150114, 14.37219538,  6.91664659,\n",
       "         9.10823803],\n",
       "       [10.45753317, 11.12474719, 11.21784293, 12.61744824,  8.87693641,\n",
       "         6.164414  ]])"
      ]
     },
     "execution_count": 73,
     "metadata": {
      "tags": []
     },
     "output_type": "execute_result"
    }
   ],
   "source": [
    "np.std(scores,axis=2) # 기간 & 과목 별 표준 편자"
   ]
  },
  {
   "cell_type": "markdown",
   "metadata": {
    "colab_type": "text",
    "id": "sqE9TAC1O6UF"
   },
   "source": [
    "#  \n",
    "\n",
    "---\n",
    "\n",
    "    Copyright(c) 2019 by Public AI. All rights reserved.<br>\n",
    "    Writen by PAI, SangJae Kang ( rocketgrowthsj@publicai.co.kr )  last updated on 2019/03/04\n",
    "\n",
    "---"
   ]
  }
 ],
 "metadata": {
  "colab": {
   "collapsed_sections": [
    "34r66vr2O6Re",
    "UvPQnmcgyKzr",
    "F_ac_F0QO6Rm",
    "KVPGifrHO6Rs",
    "w0DhJX6fO6Rw",
    "GR30sa9BO6R1",
    "h3-sxdSFO6R-",
    "l2xZeidfO6SM",
    "_cqP61PsO6Sf",
    "Jji3drmvO6Sw",
    "ZCgp3cyUO6TD",
    "4swWHPVWO6Tm"
   ],
   "name": "5_Numpy의 주요함수들(2).ipynb",
   "provenance": [],
   "toc_visible": true,
   "version": "0.3.2"
  },
  "kernelspec": {
   "display_name": "Python 3",
   "language": "python",
   "name": "python3"
  },
  "language_info": {
   "codemirror_mode": {
    "name": "ipython",
    "version": 3
   },
   "file_extension": ".py",
   "mimetype": "text/x-python",
   "name": "python",
   "nbconvert_exporter": "python",
   "pygments_lexer": "ipython3",
   "version": "3.6.5"
  }
 },
 "nbformat": 4,
 "nbformat_minor": 1
}
