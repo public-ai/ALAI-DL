{
 "cells": [
  {
   "cell_type": "markdown",
   "metadata": {
    "colab_type": "text",
    "id": "o_fIYu-76fZg"
   },
   "source": [
    " ╔══<i><b>Alai-DeepLearning</b></i>═══════════════════════════════╗\n",
    "###  &nbsp;&nbsp; **✎&nbsp;&nbsp;Week 2. Numpy Basis**\n",
    "# Section 4. Numpy의 주요 함수들(1)\n",
    "\n",
    "\n",
    "### _Objective_\n",
    "1. Numpy Array의 각각 원소에 대해 특정 연산을 실행해 주어야 할 때가 있습니다.<br>\n",
    "1. Numpy Array에서 원소 단위로 연산을 적용하는 범용함수(ufunc ; universal function)에 대해 배워봅시다.<br>\n",
    "  \n",
    "╚════════════════════════════════════════════╝\n"
   ]
  },
  {
   "cell_type": "code",
   "execution_count": 0,
   "metadata": {
    "colab": {},
    "colab_type": "code",
    "id": "pa-8gyc06fZi"
   },
   "outputs": [],
   "source": [
    "import numpy as np"
   ]
  },
  {
   "cell_type": "markdown",
   "metadata": {
    "colab_type": "text",
    "id": "5ZmWw6dG6fZl"
   },
   "source": [
    "# \\[ 1. Numpy array의 universal Function \\]\n",
    "\n",
    "----\n",
    "\n",
    "----\n",
    "\n",
    "> *`np.array`는 Python 기본 함수와 마찬가지로 기본적인 사칙 연산을 제공합니다.*<br>\n",
    "> _우리는 감가승제( -, +, \\*, / )를 Python 기본 함수와 비슷한 방법으로 사용할수 있습니다._"
   ]
  },
  {
   "cell_type": "markdown",
   "metadata": {
    "colab_type": "text",
    "id": "uzUThR6D6fZm"
   },
   "source": [
    "## 1. Array & Scalar 사칙연산\n",
    "\n",
    "---\n",
    "\n",
    "* Array와 하나의 값을 연산할 때에는 Array의 **모든 원소**에 적용됩니다."
   ]
  },
  {
   "cell_type": "markdown",
   "metadata": {
    "colab_type": "text",
    "id": "XzOYIly96fZn"
   },
   "source": [
    "### (1) Array에 Scalar 값 더하기 ( + )"
   ]
  },
  {
   "cell_type": "code",
   "execution_count": 0,
   "metadata": {
    "colab": {
     "base_uri": "https://localhost:8080/",
     "height": 33
    },
    "colab_type": "code",
    "executionInfo": {
     "elapsed": 362,
     "status": "ok",
     "timestamp": 1551661335384,
     "user": {
      "displayName": "최선열",
      "photoUrl": "",
      "userId": "00663027191814710813"
     },
     "user_tz": -540
    },
    "id": "njnD8c4i6fZo",
    "outputId": "fed6449b-89f1-4a75-91ff-a97405c5c8a0"
   },
   "outputs": [
    {
     "data": {
      "text/plain": [
       "array([0, 1, 2])"
      ]
     },
     "execution_count": 3,
     "metadata": {
      "tags": []
     },
     "output_type": "execute_result"
    }
   ],
   "source": [
    "A = np.arange(0,3) # 0 ~ 2 까지의 Numpy Array를 생성\n",
    "A"
   ]
  },
  {
   "cell_type": "code",
   "execution_count": 0,
   "metadata": {
    "colab": {},
    "colab_type": "code",
    "id": "bIVMq-kK6fZs",
    "outputId": "47de864e-a0ef-4b34-9f85-e60b323a9955"
   },
   "outputs": [
    {
     "data": {
      "text/plain": [
       "array([5, 6, 7])"
      ]
     },
     "execution_count": 110,
     "metadata": {
      "tags": []
     },
     "output_type": "execute_result"
    }
   ],
   "source": [
    "A + 5"
   ]
  },
  {
   "cell_type": "markdown",
   "metadata": {
    "colab_type": "text",
    "id": "iH_LbVwB6fZw"
   },
   "source": [
    "전역적으로 Numpy Array 의 모든 원소에 1씩 더해진 결과를 확인할 수 있습니다."
   ]
  },
  {
   "cell_type": "markdown",
   "metadata": {
    "colab_type": "text",
    "id": "9wctZntw6fZx"
   },
   "source": [
    "일부분만 더하고 싶다면, Indexing으로 지정하여 범위를 지정할 수도 있습니다."
   ]
  },
  {
   "cell_type": "code",
   "execution_count": 0,
   "metadata": {
    "colab": {
     "base_uri": "https://localhost:8080/",
     "height": 33
    },
    "colab_type": "code",
    "executionInfo": {
     "elapsed": 746,
     "status": "ok",
     "timestamp": 1551663437388,
     "user": {
      "displayName": "최선열",
      "photoUrl": "",
      "userId": "00663027191814710813"
     },
     "user_tz": -540
    },
    "id": "kzMY5h5Y6fZy",
    "outputId": "968d574f-e1c7-4b3a-a6d4-97c84a6ed214"
   },
   "outputs": [
    {
     "data": {
      "text/plain": [
       "array([5., 6., 2.])"
      ]
     },
     "execution_count": 17,
     "metadata": {
      "tags": []
     },
     "output_type": "execute_result"
    }
   ],
   "source": [
    "A = np.arange(0,3,dtype=np.float)\n",
    "A[:2] = A[:2] + 5 # 0~1까지의 index에만 5를 더함\n",
    "A"
   ]
  },
  {
   "cell_type": "code",
   "execution_count": 0,
   "metadata": {
    "colab": {
     "base_uri": "https://localhost:8080/",
     "height": 33
    },
    "colab_type": "code",
    "executionInfo": {
     "elapsed": 566,
     "status": "ok",
     "timestamp": 1551663456760,
     "user": {
      "displayName": "최선열",
      "photoUrl": "",
      "userId": "00663027191814710813"
     },
     "user_tz": -540
    },
    "id": "qPN4Ee-P6fZ1",
    "outputId": "74b88895-556c-4b71-c2be-ff6becf79b21"
   },
   "outputs": [
    {
     "data": {
      "text/plain": [
       "array([5., 1., 7.])"
      ]
     },
     "execution_count": 19,
     "metadata": {
      "tags": []
     },
     "output_type": "execute_result"
    }
   ],
   "source": [
    "A = np.arange(0,3,dtype=np.float)\n",
    "A[[0,2]] = A[[0,2]] + 5 # 0과 2의 index에만 5를 더함\n",
    "A"
   ]
  },
  {
   "cell_type": "markdown",
   "metadata": {
    "colab_type": "text",
    "id": "1Lb6sq6L6fZ4"
   },
   "source": [
    "### (2) Array에 Scalar 값 빼기 ( - )"
   ]
  },
  {
   "cell_type": "code",
   "execution_count": 0,
   "metadata": {
    "colab": {},
    "colab_type": "code",
    "id": "iRPEAqBw6fZ4",
    "outputId": "8c96d0fe-a036-447b-8a20-f4c0377a0cd0"
   },
   "outputs": [
    {
     "data": {
      "text/plain": [
       "array([0, 1, 2])"
      ]
     },
     "execution_count": 25,
     "metadata": {
      "tags": []
     },
     "output_type": "execute_result"
    }
   ],
   "source": [
    "A = np.arange(0,3)\n",
    "A"
   ]
  },
  {
   "cell_type": "code",
   "execution_count": 0,
   "metadata": {
    "colab": {},
    "colab_type": "code",
    "id": "If0lPqP96fZ8",
    "outputId": "18a6bf21-f3a7-4462-c980-627eb7b04fb1"
   },
   "outputs": [
    {
     "data": {
      "text/plain": [
       "array([-2, -1,  0])"
      ]
     },
     "execution_count": 26,
     "metadata": {
      "tags": []
     },
     "output_type": "execute_result"
    }
   ],
   "source": [
    "A - 2"
   ]
  },
  {
   "cell_type": "markdown",
   "metadata": {
    "colab_type": "text",
    "id": "7Qowol7x6faA"
   },
   "source": [
    "### (3) Array에 Scalar 값 곱하기 ( \\* )"
   ]
  },
  {
   "cell_type": "code",
   "execution_count": 0,
   "metadata": {
    "colab": {},
    "colab_type": "code",
    "id": "fJI7xKpM6faB",
    "outputId": "0e06af9f-e758-4108-bec1-495ed6c5f5f3"
   },
   "outputs": [
    {
     "data": {
      "text/plain": [
       "array([0, 1, 2])"
      ]
     },
     "execution_count": 27,
     "metadata": {
      "tags": []
     },
     "output_type": "execute_result"
    }
   ],
   "source": [
    "A = np.arange(0,3)\n",
    "A"
   ]
  },
  {
   "cell_type": "code",
   "execution_count": 0,
   "metadata": {
    "colab": {},
    "colab_type": "code",
    "id": "Zig-OWgr6faE",
    "outputId": "04d56c31-f0c5-4e08-9227-1029d751194c"
   },
   "outputs": [
    {
     "data": {
      "text/plain": [
       "array([0, 3, 6])"
      ]
     },
     "execution_count": 28,
     "metadata": {
      "tags": []
     },
     "output_type": "execute_result"
    }
   ],
   "source": [
    "A * 3"
   ]
  },
  {
   "cell_type": "markdown",
   "metadata": {
    "colab_type": "text",
    "id": "Hxnh5Yvg6faG"
   },
   "source": [
    "### (4) Array에 Scalar 값 나누기 ( / )"
   ]
  },
  {
   "cell_type": "code",
   "execution_count": 0,
   "metadata": {
    "colab": {},
    "colab_type": "code",
    "id": "39l1xbcR6faH",
    "outputId": "27bf0175-acdb-43b8-9775-1fc110849001"
   },
   "outputs": [
    {
     "data": {
      "text/plain": [
       "array([0, 1, 2])"
      ]
     },
     "execution_count": 29,
     "metadata": {
      "tags": []
     },
     "output_type": "execute_result"
    }
   ],
   "source": [
    "A = np.arange(0,3)\n",
    "A"
   ]
  },
  {
   "cell_type": "code",
   "execution_count": 0,
   "metadata": {
    "colab": {
     "base_uri": "https://localhost:8080/",
     "height": 33
    },
    "colab_type": "code",
    "executionInfo": {
     "elapsed": 683,
     "status": "ok",
     "timestamp": 1551663140501,
     "user": {
      "displayName": "최선열",
      "photoUrl": "",
      "userId": "00663027191814710813"
     },
     "user_tz": -540
    },
    "id": "qsqxTMUv6faK",
    "outputId": "a2c7da42-32fb-42d5-f4c4-8f7e6eb8d4ef"
   },
   "outputs": [
    {
     "data": {
      "text/plain": [
       "array([0, 1, 0])"
      ]
     },
     "execution_count": 15,
     "metadata": {
      "tags": []
     },
     "output_type": "execute_result"
    }
   ],
   "source": [
    "A / 3"
   ]
  },
  {
   "cell_type": "markdown",
   "metadata": {
    "colab_type": "text",
    "id": "o2VNasgf6faO"
   },
   "source": [
    "## 2. 같은 크기의 Array 간 사칙연산\n",
    "\n",
    "---\n",
    "\n",
    "* **같은** 크기의 Array 간 사칙연산을 할 때에는 **같은 위치의 Element끼리 연산**한 결과를 반환합니다."
   ]
  },
  {
   "cell_type": "markdown",
   "metadata": {
    "colab_type": "text",
    "id": "zvt7nCHK6faP"
   },
   "source": [
    "### (1) Array와 Array 간 더하기 ( + )"
   ]
  },
  {
   "cell_type": "code",
   "execution_count": 0,
   "metadata": {
    "colab": {},
    "colab_type": "code",
    "id": "3PNHKA4f6faQ",
    "outputId": "c4a773f4-7569-4793-b355-28ec83d28c18"
   },
   "outputs": [
    {
     "data": {
      "text/plain": [
       "(array([0, 1, 2]), array([5, 6, 7]))"
      ]
     },
     "execution_count": 60,
     "metadata": {
      "tags": []
     },
     "output_type": "execute_result"
    }
   ],
   "source": [
    "A = np.arange(0,3)\n",
    "B = np.arange(5,8)\n",
    "A, B"
   ]
  },
  {
   "cell_type": "code",
   "execution_count": 0,
   "metadata": {
    "colab": {},
    "colab_type": "code",
    "id": "PNYhXrQl6faY",
    "outputId": "e6f26fae-50d6-40d9-af52-d30813a30d27"
   },
   "outputs": [
    {
     "data": {
      "text/plain": [
       "array([5, 7, 9])"
      ]
     },
     "execution_count": 61,
     "metadata": {
      "tags": []
     },
     "output_type": "execute_result"
    }
   ],
   "source": [
    "A + B"
   ]
  },
  {
   "cell_type": "markdown",
   "metadata": {
    "colab_type": "text",
    "id": "_VcyWRIx6fab"
   },
   "source": [
    "### (2) Array와 Array간 빼기 ( - )"
   ]
  },
  {
   "cell_type": "code",
   "execution_count": 0,
   "metadata": {
    "colab": {},
    "colab_type": "code",
    "id": "bucnqwn_6fac"
   },
   "outputs": [],
   "source": [
    "A = np.arange(0,3)\n",
    "B = np.arange(5,8)\n",
    "A, B"
   ]
  },
  {
   "cell_type": "code",
   "execution_count": 0,
   "metadata": {
    "colab": {},
    "colab_type": "code",
    "id": "SnPTXKov6fae",
    "outputId": "4882434f-86ac-47be-8657-62b982053cd1"
   },
   "outputs": [
    {
     "data": {
      "text/plain": [
       "array([-5, -5, -5])"
      ]
     },
     "execution_count": 62,
     "metadata": {
      "tags": []
     },
     "output_type": "execute_result"
    }
   ],
   "source": [
    "A - B"
   ]
  },
  {
   "cell_type": "markdown",
   "metadata": {
    "colab_type": "text",
    "id": "BqcYHBNU6fah"
   },
   "source": [
    "### (3) Array와 Array간 곱하기( * )"
   ]
  },
  {
   "cell_type": "code",
   "execution_count": 0,
   "metadata": {
    "colab": {},
    "colab_type": "code",
    "id": "L50c_d226fai"
   },
   "outputs": [],
   "source": [
    "A = np.arange(0,3)\n",
    "B = np.arange(5,8)\n",
    "A, B"
   ]
  },
  {
   "cell_type": "code",
   "execution_count": 0,
   "metadata": {
    "colab": {},
    "colab_type": "code",
    "id": "bQZfUAH-6fak",
    "outputId": "8aff5d16-9051-4734-f597-b49885d9e690"
   },
   "outputs": [
    {
     "data": {
      "text/plain": [
       "array([ 0,  6, 14])"
      ]
     },
     "execution_count": 63,
     "metadata": {
      "tags": []
     },
     "output_type": "execute_result"
    }
   ],
   "source": [
    "A * B"
   ]
  },
  {
   "cell_type": "markdown",
   "metadata": {
    "colab_type": "text",
    "id": "Ks-hV83Z6fam"
   },
   "source": [
    "### (4) Array와 Array간 나누기 ( / )"
   ]
  },
  {
   "cell_type": "code",
   "execution_count": 0,
   "metadata": {
    "colab": {},
    "colab_type": "code",
    "id": "9NLTSWb26fan",
    "outputId": "35089580-15f5-4959-c0ea-e295771fc245"
   },
   "outputs": [
    {
     "data": {
      "text/plain": [
       "(array([0, 1, 2]), array([5, 6, 7]))"
      ]
     },
     "execution_count": 65,
     "metadata": {
      "tags": []
     },
     "output_type": "execute_result"
    }
   ],
   "source": [
    "A = np.arange(0,3)\n",
    "B = np.arange(5,8)\n",
    "A, B"
   ]
  },
  {
   "cell_type": "code",
   "execution_count": 0,
   "metadata": {
    "colab": {},
    "colab_type": "code",
    "id": "RPEUmAIg6fap",
    "outputId": "2c1100ea-14db-4cda-cbf6-efca88603887"
   },
   "outputs": [
    {
     "data": {
      "text/plain": [
       "array([0.        , 0.16666667, 0.28571429])"
      ]
     },
     "execution_count": 66,
     "metadata": {
      "tags": []
     },
     "output_type": "execute_result"
    }
   ],
   "source": [
    "A / B"
   ]
  },
  {
   "cell_type": "markdown",
   "metadata": {
    "colab_type": "text",
    "id": "PSaLWqQN6fat"
   },
   "source": [
    "## 3. 다른 크기의 Array 간 사칙연산\n",
    "\n",
    "---\n",
    "\n",
    "+ 서로 다른 크기를 갖는 Array 간 사칙연산을 적용할 때는 어떻게 연산되는지 확인해 봅시다."
   ]
  },
  {
   "cell_type": "markdown",
   "metadata": {
    "colab_type": "text",
    "id": "-oroqwidwX5I"
   },
   "source": [
    "### (1) 다른 크기의 Array 간 사칙연산\n",
    "\n",
    "* **다른** 크기의 Array 간 연산할 때에는 **Broadcasting의 법칙에 따라 연산**이 적용됩니다.\n",
    "* Broadcasting : 연산이 가능해지도록 배열을 자동적으로 변환\n",
    "\n",
    "![](http://www.astroml.org/_images/fig_broadcast_visual_1.png)"
   ]
  },
  {
   "cell_type": "code",
   "execution_count": 0,
   "metadata": {
    "colab": {
     "base_uri": "https://localhost:8080/",
     "height": 115
    },
    "colab_type": "code",
    "executionInfo": {
     "elapsed": 581,
     "status": "ok",
     "timestamp": 1551663935000,
     "user": {
      "displayName": "최선열",
      "photoUrl": "",
      "userId": "00663027191814710813"
     },
     "user_tz": -540
    },
    "id": "PGChatc66fau",
    "outputId": "21157110-cb81-4600-cb81-cf1087f896ee"
   },
   "outputs": [
    {
     "name": "stdout",
     "output_type": "stream",
     "text": [
      "A : \n",
      " [[1. 1. 1.]\n",
      " [1. 1. 1.]\n",
      " [1. 1. 1.]]\n",
      "B : \n",
      " [0 1 2]\n"
     ]
    }
   ],
   "source": [
    "A = np.ones((3,3))\n",
    "B = np.arange(3)\n",
    "print(\"A : \\n\", A)\n",
    "print(\"B : \\n\", B)"
   ]
  },
  {
   "cell_type": "code",
   "execution_count": 0,
   "metadata": {
    "colab": {
     "base_uri": "https://localhost:8080/",
     "height": 66
    },
    "colab_type": "code",
    "executionInfo": {
     "elapsed": 642,
     "status": "ok",
     "timestamp": 1551664059741,
     "user": {
      "displayName": "최선열",
      "photoUrl": "",
      "userId": "00663027191814710813"
     },
     "user_tz": -540
    },
    "id": "NYXZXbbC6fav",
    "outputId": "aee9a0db-17ce-4a26-84e6-f2b6a9993889"
   },
   "outputs": [
    {
     "data": {
      "text/plain": [
       "array([[1., 2., 3.],\n",
       "       [1., 2., 3.],\n",
       "       [1., 2., 3.]])"
      ]
     },
     "execution_count": 23,
     "metadata": {
      "tags": []
     },
     "output_type": "execute_result"
    }
   ],
   "source": [
    "A + B"
   ]
  },
  {
   "cell_type": "code",
   "execution_count": 0,
   "metadata": {
    "colab": {},
    "colab_type": "code",
    "id": "gZyGqYKc6fa0",
    "outputId": "a29e7947-861e-4e40-bc65-841b19c58d77"
   },
   "outputs": [
    {
     "data": {
      "text/plain": [
       "array([[0, 1, 2],\n",
       "       [1, 2, 3],\n",
       "       [2, 3, 4]])"
      ]
     },
     "execution_count": 78,
     "metadata": {
      "tags": []
     },
     "output_type": "execute_result"
    }
   ],
   "source": [
    "np.arange(3).reshape((3,1)) + np.arange(3)"
   ]
  },
  {
   "cell_type": "markdown",
   "metadata": {
    "colab_type": "text",
    "id": "QG7lgJ7E6fa4"
   },
   "source": [
    "### # Broadcasting  ───────────────────\n",
    "\n",
    "+ 모양이 서로 다른 Numpy Array를 연산이 가능하도록 자동으로 바꾸어주는 Broadcasting은 매우 편한 기능입니다. \n",
    "+ 아래의 예시를 통해 살펴봅시다.\n",
    "+ [Broadcasting 참고자료](https://jakevdp.github.io/PythonDataScienceHandbook/02.05-computation-on-arrays-broadcasting.html)"
   ]
  },
  {
   "cell_type": "markdown",
   "metadata": {
    "colab_type": "text",
    "id": "O7etXWmWc7m6"
   },
   "source": [
    "#### 데이터) 중간고사, 학생들의 국영수사과 성적표"
   ]
  },
  {
   "cell_type": "markdown",
   "metadata": {
    "colab_type": "text",
    "id": "fkdX5W7EbpQs"
   },
   "source": [
    "| 학생 번호 | 국어 | 영어 | 수학 | 사회 | 과학 |\n",
    "|  ----   | --- |---| --- | --- | --- |\n",
    "|0 |80 |92 |70 | 65 | 92 |\n",
    "|1 |91 |75 |90 | 68 | 85 | \n",
    "|2 |86 |76 |42 | 72 | 88 |\n",
    "|3 |77 |92 |52 | 60 | 80 |\n",
    "|4 |75 |85 |85 | 92 | 95 |\n",
    "|5 |96 |90 |95 | 81 | 72 |"
   ]
  },
  {
   "cell_type": "code",
   "execution_count": 0,
   "metadata": {
    "colab": {},
    "colab_type": "code",
    "id": "XLrjuVpo6fa4",
    "outputId": "55430c5a-6d47-47ee-8149-46c5e54445ed"
   },
   "outputs": [
    {
     "data": {
      "text/plain": [
       "array([[80, 92, 70, 65, 92],\n",
       "       [91, 75, 90, 68, 85],\n",
       "       [86, 76, 42, 72, 88],\n",
       "       [77, 92, 52, 60, 80],\n",
       "       [75, 85, 85, 92, 95],\n",
       "       [96, 90, 95, 81, 72]])"
      ]
     },
     "execution_count": 79,
     "metadata": {
      "tags": []
     },
     "output_type": "execute_result"
    }
   ],
   "source": [
    "scores = np.array([\n",
    "    [80,92,70,65,92],\n",
    "    [91,75,90,68,85],\n",
    "    [86,76,42,72,88],\n",
    "    [77,92,52,60,80],\n",
    "    [75,85,85,92,95],\n",
    "    [96,90,95,81,72]\n",
    "])\n",
    "scores"
   ]
  },
  {
   "cell_type": "markdown",
   "metadata": {
    "colab_type": "text",
    "id": "GLagKLvM6fa7"
   },
   "source": [
    "#### 예시)\n",
    "\n",
    "번호가 1번인 학생이 자신의 성적 대비 친구들과의 과목 별 성적 차이가 어떻게 나는지 계산하고자 합니다."
   ]
  },
  {
   "cell_type": "markdown",
   "metadata": {
    "colab_type": "text",
    "id": "p5lAsUmy6fa8"
   },
   "source": [
    "#### ⓵ broad casting 없이 코드를 짰을 때"
   ]
  },
  {
   "cell_type": "code",
   "execution_count": 0,
   "metadata": {
    "colab": {},
    "colab_type": "code",
    "id": "B6Hayqcw6fa9",
    "outputId": "95a90ec4-5e08-4c82-b468-83c2b647ee71"
   },
   "outputs": [
    {
     "data": {
      "text/plain": [
       "array([[-11,  17, -20,  -3,   7],\n",
       "       [  0,   0,   0,   0,   0],\n",
       "       [ -5,   1, -48,   4,   3],\n",
       "       [-14,  17, -38,  -8,  -5],\n",
       "       [-16,  10,  -5,  24,  10],\n",
       "       [  5,  15,   5,  13, -13]])"
      ]
     },
     "execution_count": 90,
     "metadata": {
      "tags": []
     },
     "output_type": "execute_result"
    }
   ],
   "source": [
    "my_score = scores[1] # 학생 1번의 성적\n",
    "\n",
    "diff_scores = scores.copy()\n",
    "for row_idx in range(scores.shape[0]):\n",
    "    # For구문을 통해 직접 순회하며 하나씩 연산을 적용해야 합니다.\n",
    "    diff_scores[row_idx] -= my_score\n",
    "    \n",
    "diff_scores"
   ]
  },
  {
   "cell_type": "markdown",
   "metadata": {
    "colab_type": "text",
    "id": "G_udISnL6fbA"
   },
   "source": [
    "#### ⓶ Broad Casting을 이용하여 코드를 돌린다면"
   ]
  },
  {
   "cell_type": "code",
   "execution_count": 0,
   "metadata": {
    "colab": {},
    "colab_type": "code",
    "id": "LjnYrdSU6fbA",
    "outputId": "0b72ec98-b79f-465d-a5ae-7dc1a26870c1"
   },
   "outputs": [
    {
     "data": {
      "text/plain": [
       "array([[-11,  17, -20,  -3,   7],\n",
       "       [  0,   0,   0,   0,   0],\n",
       "       [ -5,   1, -48,   4,   3],\n",
       "       [-14,  17, -38,  -8,  -5],\n",
       "       [-16,  10,  -5,  24,  10],\n",
       "       [  5,  15,   5,  13, -13]])"
      ]
     },
     "execution_count": 92,
     "metadata": {
      "tags": []
     },
     "output_type": "execute_result"
    }
   ],
   "source": [
    "my_score = scores[1] # 학생 1번의 성적\n",
    "\n",
    "scores - my_score # 자동으로 아래까지 전부 연산이 돌아갑니다."
   ]
  },
  {
   "cell_type": "markdown",
   "metadata": {
    "colab_type": "text",
    "id": "2YUBf8OU6fbD"
   },
   "source": [
    "#### **Numpy의 BroadCasting 덕분에 불필요한 For 구문을 피하며, 직관적으로 코드를 구현할 수 있게 됩니다.**<br><br>\n",
    "\n",
    "───────────────────────────────\n"
   ]
  },
  {
   "cell_type": "markdown",
   "metadata": {
    "colab_type": "text",
    "id": "uEv4X6W36fbE"
   },
   "source": [
    "## 4. 이 외에도 다양한 연산함수들\n",
    "\n",
    "---\n",
    "\n",
    "* numpy 패키지는 수학, 공학에서 필요한 매우 많은 주요 연산들을 구현되어 있습니다."
   ]
  },
  {
   "cell_type": "code",
   "execution_count": 0,
   "metadata": {
    "colab": {
     "base_uri": "https://localhost:8080/",
     "height": 33
    },
    "colab_type": "code",
    "executionInfo": {
     "elapsed": 549,
     "status": "ok",
     "timestamp": 1551670426787,
     "user": {
      "displayName": "최선열",
      "photoUrl": "",
      "userId": "00663027191814710813"
     },
     "user_tz": -540
    },
    "id": "q0Xh4wP66fbF",
    "outputId": "98f70245-1054-4076-b00b-62d88d120edc"
   },
   "outputs": [
    {
     "data": {
      "text/plain": [
       "array([1. , 1.5, 2. , 2.5, 3. , 3.5, 4. , 4.5])"
      ]
     },
     "execution_count": 24,
     "metadata": {
      "tags": []
     },
     "output_type": "execute_result"
    }
   ],
   "source": [
    "A = np.arange(1,5,0.5)\n",
    "A"
   ]
  },
  {
   "cell_type": "markdown",
   "metadata": {
    "colab_type": "text",
    "id": "FD0Ci35W6fbJ"
   },
   "source": [
    "### (1) sin 함수\n",
    "\n",
    "$y = sin(x)$을 원소 별로 적용하여 결과를 반환합니다."
   ]
  },
  {
   "cell_type": "code",
   "execution_count": 0,
   "metadata": {
    "colab": {},
    "colab_type": "code",
    "id": "Sk17n8XI6fbJ",
    "outputId": "5c2d7229-4321-41c3-c34f-cda1d8331ee2"
   },
   "outputs": [
    {
     "data": {
      "text/plain": [
       "array([ 0.84147098,  0.99749499,  0.90929743,  0.59847214,  0.14112001,\n",
       "       -0.35078323, -0.7568025 , -0.97753012])"
      ]
     },
     "execution_count": 94,
     "metadata": {
      "tags": []
     },
     "output_type": "execute_result"
    }
   ],
   "source": [
    "np.sin(A)"
   ]
  },
  {
   "cell_type": "markdown",
   "metadata": {
    "colab_type": "text",
    "id": "rIgrt0Sw6fbN"
   },
   "source": [
    "### (2) 지수 함수\n",
    "\n",
    "$y=e^x$을 원소 별로 적용하여 결과를 반환합니다."
   ]
  },
  {
   "cell_type": "code",
   "execution_count": 0,
   "metadata": {
    "colab": {},
    "colab_type": "code",
    "id": "4k8gSqJc6fbO",
    "outputId": "6d93cdfd-e6aa-47a2-e7ed-f4ba9056b063"
   },
   "outputs": [
    {
     "data": {
      "text/plain": [
       "array([ 2.71828183,  4.48168907,  7.3890561 , 12.18249396, 20.08553692,\n",
       "       33.11545196, 54.59815003, 90.0171313 ])"
      ]
     },
     "execution_count": 95,
     "metadata": {
      "tags": []
     },
     "output_type": "execute_result"
    }
   ],
   "source": [
    "np.exp(A)"
   ]
  },
  {
   "cell_type": "markdown",
   "metadata": {
    "colab_type": "text",
    "id": "0cy_BTx66fbX"
   },
   "source": [
    "### (3) 로그 함수\n",
    "\n",
    "$y = log(x)$을 원소 별로 적용하여 결과를 반환합니다."
   ]
  },
  {
   "cell_type": "code",
   "execution_count": 0,
   "metadata": {
    "colab": {},
    "colab_type": "code",
    "id": "Z4NTD9_k6fbY",
    "outputId": "7ad9ebc4-ce3e-44e0-ee9f-fd9445a16bd8"
   },
   "outputs": [
    {
     "data": {
      "text/plain": [
       "array([0.        , 0.40546511, 0.69314718, 0.91629073, 1.09861229,\n",
       "       1.25276297, 1.38629436, 1.5040774 ])"
      ]
     },
     "execution_count": 96,
     "metadata": {
      "tags": []
     },
     "output_type": "execute_result"
    }
   ],
   "source": [
    "np.log(A)"
   ]
  },
  {
   "cell_type": "markdown",
   "metadata": {
    "colab_type": "text",
    "id": "ieQ2RBV06fbb"
   },
   "source": [
    "### (4) 행렬 곱 함수\n",
    "\n",
    "딥러닝에서 가장 중요한 연산 중 하나인, 행렬곱 연산도 아래처럼 간단히 구현할 수 있습니다."
   ]
  },
  {
   "cell_type": "code",
   "execution_count": 0,
   "metadata": {
    "colab": {},
    "colab_type": "code",
    "id": "hIyHeafz6fbc"
   },
   "outputs": [],
   "source": [
    "W = np.array([\n",
    "    [1,2,3],\n",
    "    [2,3,4],\n",
    "    [3,4,5]\n",
    "])\n",
    "\n",
    "X = np.array([\n",
    "    [1],\n",
    "    [2],\n",
    "    [3],\n",
    "])"
   ]
  },
  {
   "cell_type": "code",
   "execution_count": 0,
   "metadata": {
    "colab": {},
    "colab_type": "code",
    "id": "RnrJOMJQ6fbg",
    "outputId": "b1d9831f-91f3-49de-9006-4cc070bec1b3"
   },
   "outputs": [
    {
     "data": {
      "text/plain": [
       "array([[14],\n",
       "       [20],\n",
       "       [26]])"
      ]
     },
     "execution_count": 98,
     "metadata": {
      "tags": []
     },
     "output_type": "execute_result"
    }
   ],
   "source": [
    "np.matmul(W,X)"
   ]
  },
  {
   "cell_type": "markdown",
   "metadata": {
    "colab_type": "text",
    "id": "PTR3SVfz6fbi"
   },
   "source": [
    "#  \n",
    "\n",
    "---\n",
    "\n",
    "    Copyright(c) 2019 by Public AI. All rights reserved.<br>\n",
    "    Writen by PAI, SangJae Kang ( rocketgrowthsj@publicai.co.kr )  last updated on 2019/03/04\n",
    "\n",
    "---"
   ]
  }
 ],
 "metadata": {
  "colab": {
   "collapsed_sections": [
    "XzOYIly96fZn",
    "1Lb6sq6L6fZ4",
    "7Qowol7x6faA",
    "Hxnh5Yvg6faG",
    "zvt7nCHK6faP",
    "_VcyWRIx6fab",
    "BqcYHBNU6fah",
    "Ks-hV83Z6fam",
    "-oroqwidwX5I",
    "QG7lgJ7E6fa4",
    "O7etXWmWc7m6",
    "p5lAsUmy6fa8",
    "G_udISnL6fbA",
    "FD0Ci35W6fbJ",
    "rIgrt0Sw6fbN",
    "0cy_BTx66fbX",
    "ieQ2RBV06fbb"
   ],
   "name": "4_Numpy의 주요함수들(1).ipynb",
   "provenance": [],
   "toc_visible": true,
   "version": "0.3.2"
  },
  "kernelspec": {
   "display_name": "Python 3",
   "language": "python",
   "name": "python3"
  },
  "language_info": {
   "codemirror_mode": {
    "name": "ipython",
    "version": 3
   },
   "file_extension": ".py",
   "mimetype": "text/x-python",
   "name": "python",
   "nbconvert_exporter": "python",
   "pygments_lexer": "ipython3",
   "version": "3.6.5"
  }
 },
 "nbformat": 4,
 "nbformat_minor": 1
}
