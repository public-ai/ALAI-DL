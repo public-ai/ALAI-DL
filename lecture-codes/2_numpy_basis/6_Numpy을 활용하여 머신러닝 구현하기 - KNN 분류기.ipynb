{
 "cells": [
  {
   "cell_type": "markdown",
   "metadata": {
    "colab_type": "text",
    "id": "JwXVP87OO6RW"
   },
   "source": [
    " ╔══<i><b>&nbsp;Alai-DeepLearning&nbsp;</b></i>═══════════════════════════╗\n",
    "###  &nbsp;&nbsp; **✎&nbsp;&nbsp;Week 2. Numpy Basis**\n",
    "# Section 6. Numpy을 활용하여 머신러닝 구현하기 - KNN 분류기\n",
    "\n",
    "### _Objective_\n",
    "1. 머신러닝 방법론 중 간단하면서 중요한 방법론인 KNN(K Nearest Neighborhood)에 대해서 배워보고, 이를 Numpy로 구현해 봅니다. <br>\n",
    "\n",
    "\n",
    "╚════════════════════════════════════════╝"
   ]
  },
  {
   "cell_type": "code",
   "execution_count": 1,
   "metadata": {
    "colab": {},
    "colab_type": "code",
    "id": "k-o8zDSkO6RZ"
   },
   "outputs": [],
   "source": [
    "%matplotlib inline\n",
    "import numpy as np\n",
    "\n",
    "import matplotlib.pyplot as plt"
   ]
  },
  {
   "cell_type": "markdown",
   "metadata": {
    "colab_type": "text",
    "id": "-xLXSgg4O6Rd"
   },
   "source": [
    "# \\[ 1. KNN 알고리즘 개괄 \\]\n",
    "\n",
    "---\n",
    "\n",
    "---\n",
    "\n",
    "> 분류 항목을 이미 알고 있는 데이터 집합에서 상위 K개의 가장 유사한 데이터를 살펴보고, K개의 가장 유사한 데이터들 중 다수결(majority vote)를 통해 새로운 데이터의 분류 항목을 결정하는 알고리즘입니다."
   ]
  },
  {
   "cell_type": "markdown",
   "metadata": {
    "colab_type": "text",
    "id": "34r66vr2O6Re"
   },
   "source": [
    "## 예제 데이터 )  영화 분석 결과\n"
   ]
  },
  {
   "cell_type": "markdown",
   "metadata": {
    "colab_type": "text",
    "id": "UvPQnmcgyKzr"
   },
   "source": [
    "\n",
    "#### 데이터 ) 각 영화 별 싸움 횟수와 키스 횟수\n",
    "\n",
    "| 영화 제목 | the number of Kick | The number os Kiss | Type |\n",
    "| ------  | ----| ----| --- |\n",
    "| 냉정과열정사이 | 3 | 104 | Romance|\n",
    "| 바람과함께사라지다 | 2 | 100 | Romance |\n",
    "| 아름다운 여인 | 1 | 81 | Romance |\n",
    "| 인정사정볼것없다 | 101 | 10 | Action |\n",
    "| 놈놈놈 | 99 | 5 | Action |\n",
    "| 화랑 | 98 | 2 | Action |\n",
    "| 뜨거운 가슴으로 | 25 | 87 | ? |"
   ]
  },
  {
   "cell_type": "code",
   "execution_count": 2,
   "metadata": {
    "colab": {
     "base_uri": "https://localhost:8080/",
     "height": 228
    },
    "colab_type": "code",
    "executionInfo": {
     "elapsed": 375,
     "status": "ok",
     "timestamp": 1551671291404,
     "user": {
      "displayName": "최선열",
      "photoUrl": "",
      "userId": "00663027191814710813"
     },
     "user_tz": -540
    },
    "id": "WrSWb4HgO6Rf",
    "outputId": "08a25e9e-2e34-4884-b203-7536c019feac"
   },
   "outputs": [],
   "source": [
    "# 0번째 열 : 킥 횟수, 1번째 열 : 키스 횟수\n",
    "dataset = np.array([\n",
    "    [3, 104],\n",
    "    [2, 100],\n",
    "    [1, 81],\n",
    "    [101, 10],\n",
    "    [99, 5],\n",
    "    [98, 2],\n",
    "])\n",
    "\n",
    "labels = np.array(['Romance','Romance','Romance',\n",
    "          'Action','Action','Action'])\n",
    "\n",
    "inX = np.array([25, 87])"
   ]
  },
  {
   "cell_type": "code",
   "execution_count": 3,
   "metadata": {},
   "outputs": [
    {
     "data": {
      "image/png": "[encoded data removed]",
      "text/plain": [
       "<Figure size 432x288 with 1 Axes>"
      ]
     },
     "metadata": {},
     "output_type": "display_data"
    }
   ],
   "source": [
    "plt.title(\"The Category of Movie\")\n",
    "plt.scatter(dataset[:3,0],dataset[:3,1],label='Romance',\n",
    "            c='g')\n",
    "plt.scatter(dataset[3:,0],dataset[3:,1],label='Action',\n",
    "            c='r')\n",
    "plt.scatter(25,87,label=\"?\",\n",
    "            c='b')\n",
    "\n",
    "\n",
    "plt.xlabel('The number of Kick')\n",
    "plt.ylabel('The number of Kiss')\n",
    "plt.legend()\n",
    "plt.show()"
   ]
  },
  {
   "cell_type": "markdown",
   "metadata": {},
   "source": [
    "> \"파란 색의 경우는 어느 카테고리에 속할까?\" 이 두 가지 특징 \"킥 횟수\"와 \"키스 횟수\"로 미루어 판단하건대, Romance에 가까운 작품으로 판단된다. 이를 좀더 정량적으로 판단하면, 자기의 값과 비슷한, 인근 K개(임의의 수, 보통 20개 미만)의 데이터를 뽑아오고, 그 중에서 다수결을 통해 새로운 데이터의 분류 항목을 결정하는 방법을 K-NN이라고 한다. "
   ]
  },
  {
   "cell_type": "markdown",
   "metadata": {
    "colab_type": "text",
    "id": "ElsyQ5ceO6Se"
   },
   "source": [
    "# \\[ 2. KNN Numpy로 구현 \\]\n",
    "\n",
    "---\n",
    "\n",
    "---\n",
    "\n",
    "KNN의 알고리즘 순서\n",
    "\n",
    "\n",
    "1. 우리가 분류항목을 알고자 하는 점(inX)와 알고 있는 점들(dataset)과의 모든 점 거리를 계산\n",
    "2. 오름 차순으로 거리의 길이를 정렬\n",
    "3. inX와의 거리가 가장 짧은 K개의 아이템 추출\n",
    "4. K개의 아이템에서 가장 많은 분류 항목 찾기\n",
    "5. 해당 항목 반환\n",
    "\n",
    "> KNN의 각 단계별로 코드를 작성해 보자. "
   ]
  },
  {
   "cell_type": "markdown",
   "metadata": {},
   "source": [
    "## 1. 각 단계별로 Numpy Code 작성하기"
   ]
  },
  {
   "cell_type": "markdown",
   "metadata": {},
   "source": [
    "### (1) 우리가 분류항목을 알고자 하는 점 (inX)와 알고 있는 점들(dataset)과의 모든 점 거리를 계산\n",
    "\n",
    "\n",
    "거리 공식은 아래와 같습니다. \n",
    "\n",
    "우리는 알고자 하는 점(inX)와 알고 있는 점들(dataset) 전부와의 거리를 측정해야 합니다.\n",
    "\n",
    "$$\n",
    "point1 = (x_1,y_1), point2 = (x_2,y_2)\\mbox{일 때}\\\\\n",
    "distance\\_between\\_point1\\_and\\_point2 = \\sqrt{(x_1-x_2)^2 + (y_1-y_2)^2}\n",
    "$$"
   ]
  },
  {
   "cell_type": "code",
   "execution_count": 4,
   "metadata": {},
   "outputs": [
    {
     "data": {
      "text/plain": [
       "array([ 27.80287755,  26.41968963,  24.73863375, 108.1896483 ,\n",
       "       110.45361017, 112.04463396])"
      ]
     },
     "execution_count": 4,
     "metadata": {},
     "output_type": "execute_result"
    }
   ],
   "source": [
    "dists = []\n",
    "for point2 in dataset:\n",
    "    distance = np.sqrt(np.sum((inX-point2)**2))\n",
    "    dists.append(distance)\n",
    "dists = np.array(dists)\n",
    "dists"
   ]
  },
  {
   "cell_type": "markdown",
   "metadata": {},
   "source": [
    "위는 영화 \"뜨거운 가슴으로\"와 다른 데이터 셋과의 거리 차이를 의미합니다.\n",
    "\n",
    "| 영화 제목 | the number of Kick | The number os Kiss | Type | distance from inX|\n",
    "| ------  | ----| ----| --- | --- |\n",
    "| 냉정과열정사이 | 3 | 104 | Romance| 27.8|\n",
    "| 바람과함께사라지다 | 2 | 100 | Romance | 26.4|\n",
    "| 아름다운 여인 | 1 | 81 | Romance |24.7|\n",
    "| 인정사정볼것없다 | 101 | 10 | Action |108.2|\n",
    "| 놈놈놈 | 99 | 5 | Action |110.5|\n",
    "| 화랑 | 98 | 2 | Action |112.0|\n"
   ]
  },
  {
   "cell_type": "code",
   "execution_count": 5,
   "metadata": {},
   "outputs": [
    {
     "data": {
      "text/plain": [
       "array([ 27.80287755,  26.41968963,  24.73863375, 108.1896483 ,\n",
       "       110.45361017, 112.04463396])"
      ]
     },
     "execution_count": 5,
     "metadata": {},
     "output_type": "execute_result"
    }
   ],
   "source": [
    "# broadcasting을 이용하면 보다 간결하고 빠른 코드를 작성할 수 있습니다.\n",
    "dists = np.sqrt(np.sum((inX-dataset)**2, axis=1))\n",
    "dists"
   ]
  },
  {
   "cell_type": "markdown",
   "metadata": {},
   "source": [
    "numpy로 코드를 짠다는 것은 단순히 코드의 길이가 짧아지는 것 뿐만아니라, 성능에도 지대한 영향을 미칩니다."
   ]
  },
  {
   "cell_type": "code",
   "execution_count": 6,
   "metadata": {},
   "outputs": [
    {
     "name": "stdout",
     "output_type": "stream",
     "text": [
      "36.8 µs ± 1.14 µs per loop (mean ± std. dev. of 7 runs, 10000 loops each)\n"
     ]
    }
   ],
   "source": [
    "%%timeit\n",
    "dists = []\n",
    "for point2 in dataset:\n",
    "    distance = np.sqrt(np.sum((inX-point2)**2))\n",
    "    dists.append(distance)\n",
    "dists = np.array(dists)\n",
    "dists"
   ]
  },
  {
   "cell_type": "code",
   "execution_count": 7,
   "metadata": {},
   "outputs": [
    {
     "name": "stdout",
     "output_type": "stream",
     "text": [
      "7.39 µs ± 191 ns per loop (mean ± std. dev. of 7 runs, 100000 loops each)\n"
     ]
    }
   ],
   "source": [
    "%%timeit\n",
    "dists = np.sqrt(np.sum((inX-dataset)**2, axis=1))\n",
    "dists"
   ]
  },
  {
   "cell_type": "markdown",
   "metadata": {},
   "source": [
    "같은 내용이지만, Numpy로 짠 것이 5배나 빠릅니다. 이 때문에, 파이썬에서 빠르고 가독성이 있는 코드를 작성하기 위해서는, 최대한 For구문을 지양하고, Numpy로 코드를 작성해야 합니다."
   ]
  },
  {
   "cell_type": "markdown",
   "metadata": {},
   "source": [
    "### (2) 오름 차순으로 거리의 길이를 정렬\n"
   ]
  },
  {
   "cell_type": "code",
   "execution_count": 8,
   "metadata": {},
   "outputs": [
    {
     "data": {
      "text/plain": [
       "array([2, 1, 0, 3, 4, 5])"
      ]
     },
     "execution_count": 8,
     "metadata": {},
     "output_type": "execute_result"
    }
   ],
   "source": [
    "# 오름차순으로 정렬된 인덱스 순을 반환\n",
    "sorted_index = dists.argsort()\n",
    "sorted_index"
   ]
  },
  {
   "cell_type": "markdown",
   "metadata": {},
   "source": [
    "|인덱스 | 영화 제목 | the number of Kick | The number os Kiss | Type | distance from inX|\n",
    "|---| ------  | ----| ----| --- | --- |\n",
    "|0| 냉정과열정사이 | 3 | 104 | Romance| 27.8|\n",
    "|1| 바람과함께사라지다 | 2 | 100 | Romance | 26.4|\n",
    "|2| 아름다운 여인 | 1 | 81 | Romance |24.7|\n",
    "|3| 인정사정볼것없다 | 101 | 10 | Action |108.2|\n",
    "|4| 놈놈놈 | 99 | 5 | Action |110.5|\n",
    "|5| 화랑 | 98 | 2 | Action |112.0|\n"
   ]
  },
  {
   "cell_type": "markdown",
   "metadata": {},
   "source": [
    "반환된 인덱스 순에 따르면, \n",
    "\n",
    "아름다운 여인, 바람과함께사라지다, 냉정과열정사이,인정사정볼것없다,놈놈놈,화랑\n",
    "\n",
    "순으로 정렬됩니다."
   ]
  },
  {
   "cell_type": "markdown",
   "metadata": {},
   "source": [
    "### (3) inX와의 거리가 가장 짧은 K개의 아이템 추출\n",
    "\n",
    "이번 예제에서는 제일 가까운 4개를 추출해보도록 하겠습니다."
   ]
  },
  {
   "cell_type": "code",
   "execution_count": 9,
   "metadata": {},
   "outputs": [],
   "source": [
    "sorted_labels = labels[sorted_index]\n",
    "K_nearest_labels = sorted_labels[:4]"
   ]
  },
  {
   "cell_type": "code",
   "execution_count": 10,
   "metadata": {},
   "outputs": [
    {
     "data": {
      "text/plain": [
       "array(['Romance', 'Romance', 'Romance', 'Action'], dtype='<U7')"
      ]
     },
     "execution_count": 10,
     "metadata": {},
     "output_type": "execute_result"
    }
   ],
   "source": [
    "K_nearest_labels"
   ]
  },
  {
   "cell_type": "markdown",
   "metadata": {},
   "source": [
    "### (4) K개의 아이템에서 가장 많은 분류 항목 찾기"
   ]
  },
  {
   "cell_type": "code",
   "execution_count": 11,
   "metadata": {},
   "outputs": [
    {
     "data": {
      "text/plain": [
       "{'Romance': 3, 'Action': 1}"
      ]
     },
     "execution_count": 11,
     "metadata": {},
     "output_type": "execute_result"
    }
   ],
   "source": [
    "# K 개의 아이템에서 각 항목이 몇번씩 등작했는지 count\n",
    "count_dict = {}\n",
    "for label in K_nearest_labels:\n",
    "    if label in count_dict:\n",
    "        count_dict[label] += 1\n",
    "    else:\n",
    "        count_dict[label] = 1\n",
    "\n",
    "count_dict"
   ]
  },
  {
   "cell_type": "code",
   "execution_count": 12,
   "metadata": {},
   "outputs": [
    {
     "data": {
      "text/plain": [
       "'Romance'"
      ]
     },
     "execution_count": 12,
     "metadata": {},
     "output_type": "execute_result"
    }
   ],
   "source": [
    "# 제일 많이 등장한 횟수를 \n",
    "max_count = 0\n",
    "top_label = \"\"\n",
    "for key, value in count_dict.items():\n",
    "    if value > max_count:\n",
    "        top_label = key\n",
    "        max_count = value\n",
    "top_label"
   ]
  },
  {
   "cell_type": "markdown",
   "metadata": {},
   "source": [
    "numpy를 이용해, 위를 보다 간단하게 작성하면 아래와 같이 작성할 수 있습니다."
   ]
  },
  {
   "cell_type": "code",
   "execution_count": 13,
   "metadata": {},
   "outputs": [
    {
     "data": {
      "text/plain": [
       "(array(['Action', 'Romance'], dtype='<U7'), array([1, 3]))"
      ]
     },
     "execution_count": 13,
     "metadata": {},
     "output_type": "execute_result"
    }
   ],
   "source": [
    "_labels, count_labels = np.unique(K_nearest_labels,\n",
    "          return_counts=True)\n",
    "_labels, count_labels"
   ]
  },
  {
   "cell_type": "code",
   "execution_count": 14,
   "metadata": {},
   "outputs": [
    {
     "data": {
      "text/plain": [
       "'Romance'"
      ]
     },
     "execution_count": 14,
     "metadata": {},
     "output_type": "execute_result"
    }
   ],
   "source": [
    "_labels[count_labels.argmax()]"
   ]
  },
  {
   "cell_type": "markdown",
   "metadata": {},
   "source": [
    "## 2. 전체 Numpy Code 작성하기"
   ]
  },
  {
   "cell_type": "code",
   "execution_count": 15,
   "metadata": {},
   "outputs": [],
   "source": [
    "def classify_knn(inX, dataset, labels, K):\n",
    "    # (1) 우리가 분류항목을 알고자 하는 점 (inX)와 \n",
    "    # 알고 있는 점들(dataset)과의 모든 점 거리를 계산\n",
    "    dists = np.sqrt(np.sum((inX-dataset)**2, axis=1))\n",
    "    \n",
    "    # (2) 오름 차순으로 거리의 길이를 정렬\n",
    "    sorted_index = dists.argsort()\n",
    "    \n",
    "    # (3) inX와의 거리가 가장짧은 K개의 아이템 추출\n",
    "    sorted_labels = labels[sorted_index]\n",
    "    K_nearest_labels = sorted_labels[:K]\n",
    "    \n",
    "    # (4) K개의 아이템에서 가장 많은 분류 항목 찾기\n",
    "    _labels, count_labels = np.unique(K_nearest_labels,\n",
    "          return_counts=True)\n",
    "    \n",
    "    # (5) 해당 항목 반환\n",
    "    return _labels[count_labels.argmax()]"
   ]
  },
  {
   "cell_type": "code",
   "execution_count": 16,
   "metadata": {},
   "outputs": [
    {
     "data": {
      "text/plain": [
       "'Action'"
      ]
     },
     "execution_count": 16,
     "metadata": {},
     "output_type": "execute_result"
    }
   ],
   "source": [
    "# 킥 횟수가 52번, 키스 횟수가 10번인 작품\n",
    "classify_knn([52, 10], dataset, labels, 4)"
   ]
  },
  {
   "cell_type": "code",
   "execution_count": 17,
   "metadata": {},
   "outputs": [
    {
     "data": {
      "text/plain": [
       "'Romance'"
      ]
     },
     "execution_count": 17,
     "metadata": {},
     "output_type": "execute_result"
    }
   ],
   "source": [
    "# 킥 횟수가 19번, 키스 횟수가 72번인 작품\n",
    "classify_knn([19, 72], dataset, labels, 4)"
   ]
  },
  {
   "cell_type": "markdown",
   "metadata": {
    "colab_type": "text",
    "id": "sqE9TAC1O6UF"
   },
   "source": [
    "#  \n",
    "\n",
    "---\n",
    "\n",
    "    Copyright(c) 2019 by Public AI. All rights reserved.<br>\n",
    "    Writen by PAI, SangJae Kang ( rocketgrowthsj@publicai.co.kr )  last updated on 2019/03/04\n",
    "\n",
    "---"
   ]
  }
 ],
 "metadata": {
  "colab": {
   "collapsed_sections": [
    "34r66vr2O6Re",
    "UvPQnmcgyKzr",
    "F_ac_F0QO6Rm",
    "KVPGifrHO6Rs",
    "w0DhJX6fO6Rw",
    "GR30sa9BO6R1",
    "h3-sxdSFO6R-",
    "l2xZeidfO6SM",
    "_cqP61PsO6Sf",
    "Jji3drmvO6Sw",
    "ZCgp3cyUO6TD",
    "4swWHPVWO6Tm"
   ],
   "name": "5_Numpy의 주요함수들(2).ipynb",
   "provenance": [],
   "toc_visible": true,
   "version": "0.3.2"
  },
  "kernelspec": {
   "display_name": "Python 3",
   "language": "python",
   "name": "python3"
  },
  "language_info": {
   "codemirror_mode": {
    "name": "ipython",
    "version": 3
   },
   "file_extension": ".py",
   "mimetype": "text/x-python",
   "name": "python",
   "nbconvert_exporter": "python",
   "pygments_lexer": "ipython3",
   "version": "3.6.5"
  }
 },
 "nbformat": 4,
 "nbformat_minor": 1
}
