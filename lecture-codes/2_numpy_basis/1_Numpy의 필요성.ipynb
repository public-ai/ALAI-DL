{
 "cells": [
  {
   "cell_type": "markdown",
   "metadata": {
    "colab_type": "text",
    "id": "tC2Ek5GX41JS"
   },
   "source": [
    " ╔══<i><b>Alai-DeepLearning</b></i>════════════════════════════╗\n",
    "###  &nbsp;&nbsp; **✎&nbsp;&nbsp;Week 2. Numpy Basis**\n",
    "# Section 1. Numpy의 필요성\n",
    "\n",
    "\n",
    "### _Objective_\n",
    "1. 파이썬의 Numpy를 파이썬의 List와 비교하며 Numpy만의 주요한 특징들을 익힙니다.<br>\n",
    "2. 다양한 예제를 통해 Numpy를 직접 사용해보고, 그 활용을 이해합니다.<br>\n",
    "\n",
    "  \n",
    "╚═════════════════════════════════════════╝\n"
   ]
  },
  {
   "cell_type": "code",
   "execution_count": 0,
   "metadata": {
    "colab": {},
    "colab_type": "code",
    "id": "8haRCcip41JT"
   },
   "outputs": [],
   "source": [
    "# Numpy Package를 호출합니다. (Numpy는 주로 np로 aliasing 됩니다.)\n",
    "import numpy as np"
   ]
  },
  {
   "cell_type": "markdown",
   "metadata": {
    "colab_type": "text",
    "id": "bqRb3IQJ41JX"
   },
   "source": [
    "# \\[ 1. List VS Numpy \\]\n",
    "\n",
    "----\n",
    "\n",
    "----\n",
    "\n",
    "> *Python의 list와 numpy를 비교해보면서, Numpy가 왜 보편적으로 쓰이는 지 배워봅시다.*"
   ]
  },
  {
   "cell_type": "markdown",
   "metadata": {
    "colab_type": "text",
    "id": "7t4m-iaH41JY"
   },
   "source": [
    "### 예제 데이터 ) **중간고사, 학생들의 국영수 성적표**\n",
    "\n",
    "┌─<i> ✍︎ Example  </i>──────────────────────────────┐ <br>\n",
    "\n",
    "&nbsp;&nbsp;&nbsp;&nbsp;학생들의 성적표를 List와 Numpy로 각각 저장하여 다양하게 활용해보겠습니다.<br>\n",
    "\n",
    "└─────────────────────────────────────┘<br>\n",
    "\n",
    "`scores_list`<br>\n",
    "`scores_np`\n",
    "\n",
    "| 학생 번호 | 국어 | 영어 | 수학 | \n",
    "|  ----   | --- |---| --- |\n",
    "|0 |80 |92 |70 |\n",
    "|1 |91 |75 |90|\n",
    "|2 |86 |76 |42 |\n",
    "|3 |77 |92 |52 |\n",
    "|4 |75 |85 |85 | \n",
    "|5 |96 |90 |95 |"
   ]
  },
  {
   "cell_type": "markdown",
   "metadata": {
    "colab_type": "text",
    "id": "RnsbqM5U41JZ"
   },
   "source": [
    "> ***위의 성적표는 파이썬으로 정리하면 아래와 같이 정의할 수 있습니다.***"
   ]
  },
  {
   "cell_type": "code",
   "execution_count": 0,
   "metadata": {
    "colab": {},
    "colab_type": "code",
    "id": "Y3HMTSxm41JZ"
   },
   "outputs": [],
   "source": [
    "# list로 표현된 학생들의 성적표\n",
    "scores_list = [\n",
    "    [80, 92, 70],\n",
    "    [91, 75, 90],\n",
    "    [86, 96, 42],\n",
    "    [77, 92, 52],\n",
    "    [75, 85, 85],\n",
    "    [96, 90, 95]\n",
    "]\n",
    "\n",
    "# np.array로 표현된 학생들의 성적표\n",
    "scores_np = np.array([\n",
    "    [80, 92, 70],\n",
    "    [91, 75, 90],\n",
    "    [86, 96, 42],\n",
    "    [77, 92, 52],\n",
    "    [75, 85, 85],\n",
    "    [96, 90, 95]\n",
    "])"
   ]
  },
  {
   "cell_type": "markdown",
   "metadata": {
    "colab_type": "text",
    "id": "3VYICmUI7E9c"
   },
   "source": [
    "<br>\n",
    "\n",
    "## 1. List와 Numpy의 Indexing 비교하기\n",
    "\n",
    "<hr>\n",
    "\n",
    "+ List와 Numpy를 통해 저장된 요소들을 불러오는 코드를 비교하여 그 차이를 살펴보겠습니다."
   ]
  },
  {
   "cell_type": "markdown",
   "metadata": {
    "colab_type": "text",
    "id": "XQM8v73N41Jc"
   },
   "source": [
    "┌───────────────────────────────────┐ <br>\n",
    "\n",
    "### &nbsp;&nbsp; 예제 1) 1번째 학생의 성적 가져오기"
   ]
  },
  {
   "cell_type": "markdown",
   "metadata": {
    "colab_type": "text",
    "id": "oJf4KsCV41Jd"
   },
   "source": [
    "#### &nbsp;&nbsp;&nbsp;&nbsp;&nbsp;&nbsp;&nbsp;&nbsp;⓵ `list`로 가져오기"
   ]
  },
  {
   "cell_type": "code",
   "execution_count": 0,
   "metadata": {
    "colab": {
     "base_uri": "https://localhost:8080/",
     "height": 33
    },
    "colab_type": "code",
    "executionInfo": {
     "elapsed": 607,
     "status": "ok",
     "timestamp": 1551239237409,
     "user": {
      "displayName": "최선열",
      "photoUrl": "",
      "userId": "00663027191814710813"
     },
     "user_tz": -540
    },
    "id": "wyueDBad41Je",
    "outputId": "12c030c3-9cb7-4ef5-ac3f-086574aed1ab"
   },
   "outputs": [
    {
     "data": {
      "text/plain": [
       "[91, 75, 90]"
      ]
     },
     "execution_count": 5,
     "metadata": {
      "tags": []
     },
     "output_type": "execute_result"
    }
   ],
   "source": [
    "scores_list[1]"
   ]
  },
  {
   "cell_type": "markdown",
   "metadata": {
    "colab_type": "text",
    "id": "mwMxpCpK41Jj"
   },
   "source": [
    "#### &nbsp;&nbsp;&nbsp;&nbsp;&nbsp;&nbsp;&nbsp;&nbsp; ⓶ `np.array`로 가져오기 "
   ]
  },
  {
   "cell_type": "code",
   "execution_count": 0,
   "metadata": {
    "colab": {
     "base_uri": "https://localhost:8080/",
     "height": 33
    },
    "colab_type": "code",
    "executionInfo": {
     "elapsed": 607,
     "status": "ok",
     "timestamp": 1551239240818,
     "user": {
      "displayName": "최선열",
      "photoUrl": "",
      "userId": "00663027191814710813"
     },
     "user_tz": -540
    },
    "id": "d71cywer41Jk",
    "outputId": "1017b98c-840f-4c9a-a7c5-b4ac9596009b"
   },
   "outputs": [
    {
     "data": {
      "text/plain": [
       "array([91, 75, 90])"
      ]
     },
     "execution_count": 6,
     "metadata": {
      "tags": []
     },
     "output_type": "execute_result"
    }
   ],
   "source": [
    "scores_np[1]"
   ]
  },
  {
   "cell_type": "markdown",
   "metadata": {
    "colab_type": "text",
    "id": "3ycICr8cEjJy"
   },
   "source": [
    "###  \n",
    "\n",
    "└───────────────────────────────────┘<br>"
   ]
  },
  {
   "cell_type": "markdown",
   "metadata": {
    "colab_type": "text",
    "id": "-qeQzOx941Jn"
   },
   "source": [
    "┌───────────────────────────────────┐ <br>\n",
    "###  &nbsp;&nbsp; 예제 2) 1번부터 3번까지의 학생 성적 가져오기"
   ]
  },
  {
   "cell_type": "markdown",
   "metadata": {
    "colab_type": "text",
    "id": "gaLXVhQY41Jo"
   },
   "source": [
    "#### &nbsp;&nbsp;&nbsp;&nbsp;&nbsp;&nbsp;&nbsp;&nbsp;⓵ `list`로 가져오기"
   ]
  },
  {
   "cell_type": "code",
   "execution_count": 0,
   "metadata": {
    "colab": {
     "base_uri": "https://localhost:8080/",
     "height": 33
    },
    "colab_type": "code",
    "executionInfo": {
     "elapsed": 561,
     "status": "ok",
     "timestamp": 1551679671185,
     "user": {
      "displayName": "최선열",
      "photoUrl": "",
      "userId": "00663027191814710813"
     },
     "user_tz": -540
    },
    "id": "rkO3x4ut41Jp",
    "outputId": "1c7edbd7-f5dd-4d85-c1a1-4fb67f5633cd"
   },
   "outputs": [
    {
     "data": {
      "text/plain": [
       "[[91, 75, 90], [86, 96, 42], [77, 92, 52]]"
      ]
     },
     "execution_count": 5,
     "metadata": {
      "tags": []
     },
     "output_type": "execute_result"
    }
   ],
   "source": [
    "scores_list[1:4]"
   ]
  },
  {
   "cell_type": "markdown",
   "metadata": {
    "colab_type": "text",
    "id": "Sy-RQUx541Js"
   },
   "source": [
    "#### &nbsp;&nbsp;&nbsp;&nbsp;&nbsp;&nbsp;&nbsp;&nbsp; ⓶ `np.array`로 가져오기 "
   ]
  },
  {
   "cell_type": "code",
   "execution_count": 0,
   "metadata": {
    "colab": {
     "base_uri": "https://localhost:8080/",
     "height": 66
    },
    "colab_type": "code",
    "executionInfo": {
     "elapsed": 657,
     "status": "ok",
     "timestamp": 1551240357902,
     "user": {
      "displayName": "최선열",
      "photoUrl": "",
      "userId": "00663027191814710813"
     },
     "user_tz": -540
    },
    "id": "FrcfLudV41Jt",
    "outputId": "db64737e-c9d6-458f-d45e-eb65f670aa95"
   },
   "outputs": [
    {
     "data": {
      "text/plain": [
       "array([[91, 75, 90],\n",
       "       [86, 96, 42],\n",
       "       [77, 92, 52]])"
      ]
     },
     "execution_count": 7,
     "metadata": {
      "tags": []
     },
     "output_type": "execute_result"
    }
   ],
   "source": [
    "scores_np[1:4]"
   ]
  },
  {
   "cell_type": "markdown",
   "metadata": {
    "colab_type": "text",
    "id": "Ko3Oe7XOFC9S"
   },
   "source": [
    "###  \n",
    "\n",
    "└───────────────────────────────────┘<br>"
   ]
  },
  {
   "cell_type": "markdown",
   "metadata": {
    "colab_type": "text",
    "id": "oA8PiL6w41Jw"
   },
   "source": [
    "┌───────────────────────────────────┐ <br>\n",
    "\n",
    "### &nbsp;&nbsp; 예제 3) 0번, 4번,5번의 학생 성적 가져오기"
   ]
  },
  {
   "cell_type": "markdown",
   "metadata": {
    "colab_type": "text",
    "id": "0fzk_7_Q41Jx"
   },
   "source": [
    "#### &nbsp;&nbsp;&nbsp;&nbsp;&nbsp;&nbsp;&nbsp;&nbsp;⓵ `list`로 가져오기"
   ]
  },
  {
   "cell_type": "code",
   "execution_count": 0,
   "metadata": {
    "colab": {},
    "colab_type": "code",
    "id": "Xtg2kX1W41Jx"
   },
   "outputs": [],
   "source": [
    "scores_list[[0,4,5]] # 불가능"
   ]
  },
  {
   "cell_type": "markdown",
   "metadata": {
    "colab_type": "text",
    "id": "SI8gOXuF41J2"
   },
   "source": [
    ">> *위와 같은 방식으로는 `list`에선 가져올 수 없습니다.*"
   ]
  },
  {
   "cell_type": "code",
   "execution_count": 0,
   "metadata": {
    "colab": {},
    "colab_type": "code",
    "id": "wm6TPrqx41J2",
    "outputId": "cef42149-bc76-4479-f743-ac818efbf405"
   },
   "outputs": [
    {
     "data": {
      "text/plain": [
       "[[80, 92, 70], [75, 85, 85], [96, 90, 95]]"
      ]
     },
     "execution_count": 8,
     "metadata": {
      "tags": []
     },
     "output_type": "execute_result"
    }
   ],
   "source": [
    "[scores_list[0],scores_list[4],scores_list[5]]"
   ]
  },
  {
   "cell_type": "markdown",
   "metadata": {
    "colab_type": "text",
    "id": "CeSDL1Bi41J5"
   },
   "source": [
    "#### &nbsp;&nbsp;&nbsp;&nbsp;&nbsp;&nbsp;&nbsp;&nbsp; ⓶ `np.array`로 가져오기 "
   ]
  },
  {
   "cell_type": "code",
   "execution_count": 0,
   "metadata": {
    "colab": {},
    "colab_type": "code",
    "id": "pvLsMgqY41J6",
    "outputId": "9a1dfcfe-e964-43d6-83a0-1ba638992f6c"
   },
   "outputs": [
    {
     "data": {
      "text/plain": [
       "array([[80, 92, 70],\n",
       "       [75, 85, 85],\n",
       "       [96, 90, 95]])"
      ]
     },
     "execution_count": 9,
     "metadata": {
      "tags": []
     },
     "output_type": "execute_result"
    }
   ],
   "source": [
    "scores_np[[0,4,5]] # 훨씬 더 간단하게 가져올 수 있다."
   ]
  },
  {
   "cell_type": "markdown",
   "metadata": {
    "colab_type": "text",
    "id": "bVq-ud9zFfjR"
   },
   "source": [
    "###  \n",
    "\n",
    "└───────────────────────────────────┘<br>"
   ]
  },
  {
   "cell_type": "markdown",
   "metadata": {
    "colab_type": "text",
    "id": "YjG0UpEI41J9"
   },
   "source": [
    "┌───────────────────────────────────┐ <br>\n",
    "\n",
    "### &nbsp;&nbsp; 예제 4) 모든 학생들의 국어 성적 가져오기"
   ]
  },
  {
   "cell_type": "markdown",
   "metadata": {
    "colab_type": "text",
    "id": "nhtvxKlm41J-"
   },
   "source": [
    "#### &nbsp;&nbsp;&nbsp;&nbsp;&nbsp;&nbsp;&nbsp;&nbsp;⓵ `list`로 가져오기"
   ]
  },
  {
   "cell_type": "code",
   "execution_count": 0,
   "metadata": {
    "colab": {},
    "colab_type": "code",
    "id": "rQBnNQCN41J_",
    "outputId": "d13a3cf4-9874-46c5-93c5-5cd52f64a4e9"
   },
   "outputs": [
    {
     "data": {
      "text/plain": [
       "[80, 91, 86, 77, 75, 96]"
      ]
     },
     "execution_count": 10,
     "metadata": {
      "tags": []
     },
     "output_type": "execute_result"
    }
   ],
   "source": [
    "language_scores = []\n",
    "\n",
    "for score in scores_list:\n",
    "    language_scores.append(score[0])\n",
    "\n",
    "language_scores"
   ]
  },
  {
   "cell_type": "markdown",
   "metadata": {
    "colab_type": "text",
    "id": "2h3FJIMf41KE"
   },
   "source": [
    "#### &nbsp;&nbsp;&nbsp;&nbsp;&nbsp;&nbsp;&nbsp;&nbsp; ⓶ `np.array`로 가져오기 "
   ]
  },
  {
   "cell_type": "code",
   "execution_count": 0,
   "metadata": {
    "colab": {},
    "colab_type": "code",
    "id": "V3TLDygh41KF",
    "outputId": "9997928c-90b6-4f14-bd2b-da55e57c33d0"
   },
   "outputs": [
    {
     "data": {
      "text/plain": [
       "array([80, 91, 86, 77, 75, 96])"
      ]
     },
     "execution_count": 11,
     "metadata": {
      "tags": []
     },
     "output_type": "execute_result"
    }
   ],
   "source": [
    "scores_np[:,0] "
   ]
  },
  {
   "cell_type": "markdown",
   "metadata": {
    "colab_type": "text",
    "id": "IArW9VNPFmP1"
   },
   "source": [
    "###  \n",
    "\n",
    "└───────────────────────────────────┘<br>"
   ]
  },
  {
   "cell_type": "markdown",
   "metadata": {
    "colab_type": "text",
    "id": "P6hah_RL7tsr"
   },
   "source": [
    "<br>\n",
    "\n",
    "## 2. List와 Numpy의 집계연산 비교하기\n",
    "\n",
    "<hr>\n",
    "\n",
    "+ 집계연산이란, 여러개의 값을 하나의 값으로 결과를 내는 연산을 의미합니다.\n",
    "+ 예를들어, 여러 요소들의 합을 구하거나, 평균을 구하거나, 요소의 개수를 세거나, 요소들의 그룹별 최소값을 찾는 연산이 집계연산에 해당합니다. \n",
    "+ List와 Numpy를 통해 저장된 Data들의 집계연산 코드를 비교해보겠습니다."
   ]
  },
  {
   "cell_type": "markdown",
   "metadata": {
    "colab_type": "text",
    "id": "WclA6xCo41KL"
   },
   "source": [
    "┌───────────────────────────────────┐ <br>\n",
    "\n",
    "### &nbsp;&nbsp; 예제 5) 중간고사 학생별 전과목 점수 총합"
   ]
  },
  {
   "cell_type": "markdown",
   "metadata": {
    "colab_type": "text",
    "id": "gV8RlNjy41KN"
   },
   "source": [
    "#### &nbsp;&nbsp;&nbsp;&nbsp;&nbsp;&nbsp;&nbsp;&nbsp;⓵ `list`로 가져오기"
   ]
  },
  {
   "cell_type": "code",
   "execution_count": 0,
   "metadata": {
    "colab": {
     "base_uri": "https://localhost:8080/",
     "height": 33
    },
    "colab_type": "code",
    "executionInfo": {
     "elapsed": 604,
     "status": "ok",
     "timestamp": 1551680921249,
     "user": {
      "displayName": "최선열",
      "photoUrl": "",
      "userId": "00663027191814710813"
     },
     "user_tz": -540
    },
    "id": "ZrM8ejyX41KO",
    "outputId": "0fee3abe-7754-4dce-d21f-0d3b67207394"
   },
   "outputs": [
    {
     "data": {
      "text/plain": [
       "[242, 256, 224, 221, 245, 281]"
      ]
     },
     "execution_count": 7,
     "metadata": {
      "tags": []
     },
     "output_type": "execute_result"
    }
   ],
   "source": [
    "total_scores = []\n",
    "\n",
    "for score in scores_list:\n",
    "    total_score = sum(score) # 리스트 내 원소들의 총합 더하기\n",
    "    total_scores.append(total_score) \n",
    "    \n",
    "total_scores"
   ]
  },
  {
   "cell_type": "markdown",
   "metadata": {
    "colab_type": "text",
    "id": "cuICBqHQ41KR"
   },
   "source": [
    "#### &nbsp;&nbsp;&nbsp;&nbsp;&nbsp;&nbsp;&nbsp;&nbsp; ⓶ `np.array`로 가져오기 "
   ]
  },
  {
   "cell_type": "code",
   "execution_count": 0,
   "metadata": {
    "colab": {
     "base_uri": "https://localhost:8080/",
     "height": 33
    },
    "colab_type": "code",
    "executionInfo": {
     "elapsed": 366,
     "status": "ok",
     "timestamp": 1551680921532,
     "user": {
      "displayName": "최선열",
      "photoUrl": "",
      "userId": "00663027191814710813"
     },
     "user_tz": -540
    },
    "id": "cB_spmLn41KR",
    "outputId": "2e1c7d5b-bb59-4362-cff4-ab0b311d2f9b"
   },
   "outputs": [
    {
     "data": {
      "text/plain": [
       "array([242, 256, 224, 221, 245, 281])"
      ]
     },
     "execution_count": 8,
     "metadata": {
      "tags": []
     },
     "output_type": "execute_result"
    }
   ],
   "source": [
    "scores_np.sum(axis=1)# 한줄로 작성할 수 있다."
   ]
  },
  {
   "cell_type": "markdown",
   "metadata": {
    "colab_type": "text",
    "id": "PpU2p3K5F58T"
   },
   "source": [
    "###  \n",
    "\n",
    "└───────────────────────────────────┘<br>"
   ]
  },
  {
   "cell_type": "markdown",
   "metadata": {
    "colab_type": "text",
    "id": "nZmEqP3h41KU"
   },
   "source": [
    "┌───────────────────────────────────┐ <br>\n",
    "### &nbsp;&nbsp;예제 6) 중간고사 과목별 평균 성적"
   ]
  },
  {
   "cell_type": "markdown",
   "metadata": {
    "colab_type": "text",
    "id": "Xx6FY3za41KU"
   },
   "source": [
    "#### &nbsp;&nbsp;&nbsp;&nbsp;&nbsp;&nbsp;&nbsp;&nbsp;⓵ `list`로 가져오기"
   ]
  },
  {
   "cell_type": "code",
   "execution_count": 0,
   "metadata": {
    "colab": {},
    "colab_type": "code",
    "id": "KPLO9jJ941KV",
    "outputId": "16283844-dc9e-4742-ad1c-8affae6b896d"
   },
   "outputs": [
    {
     "data": {
      "text/plain": [
       "[84.16666666666667, 88.33333333333333, 72.33333333333333]"
      ]
     },
     "execution_count": 14,
     "metadata": {
      "tags": []
     },
     "output_type": "execute_result"
    }
   ],
   "source": [
    "total_language_score = 0\n",
    "total_math_score = 0\n",
    "total_english_score = 0\n",
    "\n",
    "for score in scores_list:\n",
    "    total_language_score = total_language_score + score[0]\n",
    "    total_math_score = total_math_score + score[1]\n",
    "    total_english_score = total_english_score + score[2]\n",
    "    \n",
    "avg_language_score = total_language_score / len(scores_list)\n",
    "avg_math_score = total_math_score / len(scores_list)\n",
    "avg_english_score = total_english_score / len(scores_list)\n",
    "\n",
    "[avg_language_score, avg_math_score, avg_english_score]"
   ]
  },
  {
   "cell_type": "markdown",
   "metadata": {
    "colab_type": "text",
    "id": "ChYDn5Fe41KY"
   },
   "source": [
    "#### &nbsp;&nbsp;&nbsp;&nbsp;&nbsp;&nbsp;&nbsp;&nbsp; ⓶ `np.array`로 가져오기 \n"
   ]
  },
  {
   "cell_type": "code",
   "execution_count": 0,
   "metadata": {
    "colab": {},
    "colab_type": "code",
    "id": "foOT8gnm41KZ",
    "outputId": "64192af7-1af3-4e92-d6b8-f74c3a3e846b"
   },
   "outputs": [
    {
     "data": {
      "text/plain": [
       "array([84.16666667, 88.33333333, 72.33333333])"
      ]
     },
     "execution_count": 15,
     "metadata": {
      "tags": []
     },
     "output_type": "execute_result"
    }
   ],
   "source": [
    "scores_np.mean(axis=0)# 한줄로 작성할 수 있다."
   ]
  },
  {
   "cell_type": "markdown",
   "metadata": {
    "colab_type": "text",
    "id": "D9jnsW9GG4pC"
   },
   "source": [
    "###  \n",
    "\n",
    "└───────────────────────────────────┘<br>"
   ]
  },
  {
   "cell_type": "markdown",
   "metadata": {
    "colab_type": "text",
    "id": "SE6lfxpFHGFf"
   },
   "source": [
    "<br>\n",
    "\n",
    "## 3. 각 요소별 연산 적용하기\n",
    "\n",
    "<hr>\n",
    "\n",
    "+ List나 array를 다룰때면, 각각의 요소별로 연산을 적용해야할 때가 있습니다.\n",
    "+ List와 np.array의 경우, 각 요소별 연산 적용하는 방법을 알아보겠습니다."
   ]
  },
  {
   "cell_type": "markdown",
   "metadata": {
    "colab_type": "text",
    "id": "nPK9uNkf41Kc"
   },
   "source": [
    "┌───────────────────────────────────┐ <br>\n",
    "### &nbsp;&nbsp;예제 7) 학생들이 만점 대비 각각 몇점씩 틀렸는지 표로 만들기"
   ]
  },
  {
   "cell_type": "markdown",
   "metadata": {
    "colab_type": "text",
    "id": "rpCDFzYT41Kd"
   },
   "source": [
    "#### &nbsp;&nbsp;&nbsp;&nbsp;&nbsp;&nbsp;&nbsp;&nbsp;⓵ `list`로 가져오기"
   ]
  },
  {
   "cell_type": "code",
   "execution_count": 0,
   "metadata": {
    "colab": {},
    "colab_type": "code",
    "id": "BulmSv-U41Kd",
    "outputId": "d83c1893-bdc4-433a-b0b8-d46a880c3a87"
   },
   "outputs": [
    {
     "data": {
      "text/plain": [
       "[[20, 8, 30], [9, 25, 10], [14, 4, 58], [23, 8, 48], [25, 15, 15], [4, 10, 5]]"
      ]
     },
     "execution_count": 16,
     "metadata": {
      "tags": []
     },
     "output_type": "execute_result"
    }
   ],
   "source": [
    "miss_scores = []\n",
    "\n",
    "for scores in scores_list:\n",
    "    miss_score = []\n",
    "    for score in scores:\n",
    "        miss = 100-score # 100점 대비 몇점 틀렸는지 계산\n",
    "        miss_score.append(miss)\n",
    "    miss_scores.append(miss_score)\n",
    "miss_scores"
   ]
  },
  {
   "cell_type": "markdown",
   "metadata": {
    "colab_type": "text",
    "id": "je_PNQWT41Kh"
   },
   "source": [
    "#### &nbsp;&nbsp;&nbsp;&nbsp;&nbsp;&nbsp;&nbsp;&nbsp; ⓶ `np.array`로 가져오기 \n"
   ]
  },
  {
   "cell_type": "code",
   "execution_count": 0,
   "metadata": {
    "colab": {},
    "colab_type": "code",
    "id": "HamucM7141Kh",
    "outputId": "c0b6a0f7-27a9-4723-dbb3-ea8fe919b22e"
   },
   "outputs": [
    {
     "data": {
      "text/plain": [
       "array([[20,  8, 30],\n",
       "       [ 9, 25, 10],\n",
       "       [14,  4, 58],\n",
       "       [23,  8, 48],\n",
       "       [25, 15, 15],\n",
       "       [ 4, 10,  5]])"
      ]
     },
     "execution_count": 17,
     "metadata": {
      "tags": []
     },
     "output_type": "execute_result"
    }
   ],
   "source": [
    "100 - scores_np"
   ]
  },
  {
   "cell_type": "markdown",
   "metadata": {
    "colab_type": "text",
    "id": "ce6eoWNhH7kf"
   },
   "source": [
    "###  \n",
    "\n",
    "└───────────────────────────────────┘<br>"
   ]
  },
  {
   "cell_type": "markdown",
   "metadata": {
    "colab_type": "text",
    "id": "r3TjL9Bt41Kk"
   },
   "source": [
    "┌───────────────────────────────────┐ <br>\n",
    "### 예제 8) 중간고사 대비 기말고사 성적 변동 표 만들기"
   ]
  },
  {
   "cell_type": "code",
   "execution_count": 0,
   "metadata": {
    "colab": {},
    "colab_type": "code",
    "id": "DlAgaxZ141Kk"
   },
   "outputs": [],
   "source": [
    "# list로 표현된 학생들의 기말고사 성적표\n",
    "final_scores_list = [\n",
    "    [85, 95, 72],\n",
    "    [93, 60, 95],\n",
    "    [80, 90, 70],\n",
    "    [80, 94, 56],\n",
    "    [77, 82, 80],\n",
    "    [90, 95, 90]\n",
    "]\n",
    "\n",
    "# np.array로 표현된 학생들의 기말고사 성적표\n",
    "final_scores_np = np.array([\n",
    "    [85, 95, 72],\n",
    "    [93, 60, 95],\n",
    "    [80, 90, 70],\n",
    "    [80, 94, 56],\n",
    "    [77, 82, 80],\n",
    "    [90, 95, 90]\n",
    "])"
   ]
  },
  {
   "cell_type": "markdown",
   "metadata": {
    "colab_type": "text",
    "id": "A2y1KKmU41Km"
   },
   "source": [
    "#### &nbsp;&nbsp;&nbsp;&nbsp;&nbsp;&nbsp;&nbsp;&nbsp;⓵ `list`로 가져오기"
   ]
  },
  {
   "cell_type": "code",
   "execution_count": 0,
   "metadata": {
    "colab": {},
    "colab_type": "code",
    "id": "noLc7jU641Kn",
    "outputId": "957e51c7-88ef-4dcd-e53e-648f5ac70905"
   },
   "outputs": [
    {
     "data": {
      "text/plain": [
       "[[5, 3, 2], [2, -15, 5], [-6, -6, 28], [3, 2, 4], [2, -3, -5], [-6, 5, -5]]"
      ]
     },
     "execution_count": 19,
     "metadata": {
      "tags": []
     },
     "output_type": "execute_result"
    }
   ],
   "source": [
    "diff_scores = [] # 전체 성적 변동을 담는 리스트\n",
    "for mid_scores, final_scores in zip(scores_list, final_scores_list):\n",
    "    diff_score = [] # 학생 별 성적 변동을 담는 리스트\n",
    "    for mid_score, final_score in zip(mid_scores, final_scores):\n",
    "        diff = final_score - mid_score\n",
    "        diff_score.append(diff)\n",
    "    diff_scores.append(diff_score)\n",
    "diff_scores"
   ]
  },
  {
   "cell_type": "markdown",
   "metadata": {
    "colab_type": "text",
    "id": "Bsys2oiG41Kp"
   },
   "source": [
    "#### &nbsp;&nbsp;&nbsp;&nbsp;&nbsp;&nbsp;&nbsp;&nbsp; ⓶ `np.array`로 가져오기 \n"
   ]
  },
  {
   "cell_type": "code",
   "execution_count": 0,
   "metadata": {
    "colab": {},
    "colab_type": "code",
    "id": "hOzNp5_841Kq",
    "outputId": "cc4a61f7-b366-4fb7-d115-ede77e87ab57"
   },
   "outputs": [
    {
     "data": {
      "text/plain": [
       "array([[  5,   3,   2],\n",
       "       [  2, -15,   5],\n",
       "       [ -6,  -6,  28],\n",
       "       [  3,   2,   4],\n",
       "       [  2,  -3,  -5],\n",
       "       [ -6,   5,  -5]])"
      ]
     },
     "execution_count": 20,
     "metadata": {
      "tags": []
     },
     "output_type": "execute_result"
    }
   ],
   "source": [
    "final_scores_np - scores_np"
   ]
  },
  {
   "cell_type": "markdown",
   "metadata": {
    "colab_type": "text",
    "id": "XzIniLiEH_qs"
   },
   "source": [
    "###  \n",
    "\n",
    "└───────────────────────────────────┘<br>"
   ]
  },
  {
   "cell_type": "markdown",
   "metadata": {
    "colab_type": "text",
    "id": "_Kv9NOLt41Ky"
   },
   "source": [
    "#  \n",
    "\n",
    "---\n",
    "\n",
    "    Copyright(c) 2019 by Public AI. All rights reserved.\n",
    "    Writen by PAI, SangJae Kang ( rocketgrowthsj@publicai.co.kr )  last updated on 2019/03/04\n",
    "\n",
    "---"
   ]
  }
 ],
 "metadata": {
  "colab": {
   "collapsed_sections": [
    "7t4m-iaH41JY",
    "XQM8v73N41Jc",
    "oJf4KsCV41Jd",
    "mwMxpCpK41Jj",
    "-qeQzOx941Jn",
    "gaLXVhQY41Jo",
    "Sy-RQUx541Js",
    "oA8PiL6w41Jw",
    "0fzk_7_Q41Jx",
    "CeSDL1Bi41J5",
    "YjG0UpEI41J9",
    "nhtvxKlm41J-",
    "2h3FJIMf41KE",
    "WclA6xCo41KL",
    "gV8RlNjy41KN",
    "cuICBqHQ41KR",
    "nZmEqP3h41KU",
    "Xx6FY3za41KU",
    "ChYDn5Fe41KY",
    "nPK9uNkf41Kc",
    "rpCDFzYT41Kd",
    "je_PNQWT41Kh",
    "r3TjL9Bt41Kk",
    "A2y1KKmU41Km",
    "Bsys2oiG41Kp"
   ],
   "name": "1_Numpy의 필요성.ipynb",
   "provenance": [],
   "toc_visible": true,
   "version": "0.3.2"
  },
  "kernelspec": {
   "display_name": "Python 3",
   "language": "python",
   "name": "python3"
  },
  "language_info": {
   "codemirror_mode": {
    "name": "ipython",
    "version": 3
   },
   "file_extension": ".py",
   "mimetype": "text/x-python",
   "name": "python",
   "nbconvert_exporter": "python",
   "pygments_lexer": "ipython3",
   "version": "3.6.5"
  }
 },
 "nbformat": 4,
 "nbformat_minor": 1
}
