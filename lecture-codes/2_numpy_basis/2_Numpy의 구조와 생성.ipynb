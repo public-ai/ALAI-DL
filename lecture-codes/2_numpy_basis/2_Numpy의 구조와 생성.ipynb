{
 "cells": [
  {
   "cell_type": "markdown",
   "metadata": {
    "colab_type": "text",
    "id": "dx6VQXFIJTYy"
   },
   "source": [
    " ╔══<i><b>Alai-DeepLearning</b></i>════════════════════════╗\n",
    "###  &nbsp;&nbsp; **✎&nbsp;&nbsp;Week 2. Numpy Basis**\n",
    "# Section 2. Numpy의 구조와 생성\n",
    "\n",
    "### _Objective_\n",
    "1. numpy array의 속성인 shape, dtype에 대해 배웁니다. <br>\n",
    "2. numpy array를 만드는 다양한 방식에 대해 배웁니다. <br>\n",
    "\n",
    "╚═════════════════════════════════════╝"
   ]
  },
  {
   "cell_type": "code",
   "execution_count": 0,
   "metadata": {
    "colab": {},
    "colab_type": "code",
    "id": "QafQCnsuJTY0"
   },
   "outputs": [],
   "source": [
    "import numpy as np"
   ]
  },
  {
   "cell_type": "markdown",
   "metadata": {
    "colab_type": "text",
    "id": "o8MdmdUkJTY3"
   },
   "source": [
    "# \\[ 1. Numpy Array의 구조 \\]\n",
    "\n",
    "----\n",
    "\n",
    "----\n",
    "\n",
    "> *Numpy Array는 Value(element), Shape, Datatype으로 구성되어있습니다.*<br>\n",
    "> *Numpy Array의 중요한 특징인 shape과 datatype에 대해 배워봅시다.*"
   ]
  },
  {
   "cell_type": "markdown",
   "metadata": {
    "colab_type": "text",
    "id": "pT2GWVTsJTY4"
   },
   "source": [
    "<br>\n",
    "## 1. Shape\n",
    "\n",
    "---\n",
    "\n",
    "+ Numpy에서의 Shape은 차원 array의 모양, 즉 각 차원별 요소의 수를 의미합니다.<br>\n",
    "+ 아래 예제를 통해 \"차원\"과 \"shape\"의 개념을 익혀보겠습니다.\n"
   ]
  },
  {
   "cell_type": "markdown",
   "metadata": {
    "colab_type": "text",
    "id": "rxCrKYzVJTY4"
   },
   "source": [
    "### (1) 1차원 행렬 생성\n",
    "\n",
    "\n",
    "1차원 행렬은 주로 Vector(벡터)라 불립니다.\n",
    "<br>"
   ]
  },
  {
   "cell_type": "code",
   "execution_count": 0,
   "metadata": {
    "colab": {},
    "colab_type": "code",
    "id": "ij-aqTb9JTY5",
    "outputId": "b770b13c-2928-4f0e-944c-b6fb9f76d901"
   },
   "outputs": [
    {
     "data": {
      "text/plain": [
       "array([1, 2, 3, 4, 5])"
      ]
     },
     "execution_count": 53,
     "metadata": {
      "tags": []
     },
     "output_type": "execute_result"
    }
   ],
   "source": [
    "A = np.array([1,2,3,4,5])\n",
    "A"
   ]
  },
  {
   "cell_type": "code",
   "execution_count": 0,
   "metadata": {
    "colab": {},
    "colab_type": "code",
    "id": "Mo5SsrRdJTY_",
    "outputId": "5ffa05c2-7527-4f20-9c9d-f30b34ac3cfa"
   },
   "outputs": [
    {
     "data": {
      "text/plain": [
       "1"
      ]
     },
     "execution_count": 54,
     "metadata": {
      "tags": []
     },
     "output_type": "execute_result"
    }
   ],
   "source": [
    "A.ndim # 차원 수 "
   ]
  },
  {
   "cell_type": "code",
   "execution_count": 0,
   "metadata": {
    "colab": {},
    "colab_type": "code",
    "id": "0pTtonDxJTZD",
    "outputId": "e694f551-e0f5-4fc0-fb58-e52acae42905"
   },
   "outputs": [
    {
     "data": {
      "text/plain": [
       "(5,)"
      ]
     },
     "execution_count": 55,
     "metadata": {
      "tags": []
     },
     "output_type": "execute_result"
    }
   ],
   "source": [
    "A.shape # array의 형태"
   ]
  },
  {
   "cell_type": "code",
   "execution_count": 0,
   "metadata": {
    "colab": {},
    "colab_type": "code",
    "id": "IC85_HTxJTZG",
    "outputId": "87b4cf73-f6f2-43d4-8156-dc85ec71fbcb"
   },
   "outputs": [
    {
     "data": {
      "text/plain": [
       "5"
      ]
     },
     "execution_count": 57,
     "metadata": {
      "tags": []
     },
     "output_type": "execute_result"
    }
   ],
   "source": [
    "A.size # array 내부의 원소 수  == 5"
   ]
  },
  {
   "cell_type": "markdown",
   "metadata": {
    "colab_type": "text",
    "id": "3_pFKUXOJTZJ"
   },
   "source": [
    "### (2) 2차원 행렬 생성\n",
    "\n",
    "2차원 행렬은 수학에서 주로 Matrix(행렬)이라 불립니다.\n",
    "<br>"
   ]
  },
  {
   "cell_type": "code",
   "execution_count": 0,
   "metadata": {
    "colab": {},
    "colab_type": "code",
    "id": "IeFEV_18JTZK",
    "outputId": "6a54eef8-826d-4072-ae68-c3401f6fb434"
   },
   "outputs": [
    {
     "data": {
      "text/plain": [
       "array([[1, 2, 3, 4, 5],\n",
       "       [2, 3, 4, 5, 6],\n",
       "       [3, 4, 5, 6, 7]])"
      ]
     },
     "execution_count": 59,
     "metadata": {
      "tags": []
     },
     "output_type": "execute_result"
    }
   ],
   "source": [
    "A = np.array([\n",
    "    [1,2,3,4,5],\n",
    "    [2,3,4,5,6],\n",
    "    [3,4,5,6,7]\n",
    "],dtype=np.int64)\n",
    "A"
   ]
  },
  {
   "cell_type": "code",
   "execution_count": 0,
   "metadata": {
    "colab": {},
    "colab_type": "code",
    "id": "2QeoBad6JTZP",
    "outputId": "30f1b427-92f8-462e-b6b3-f2230bf5e207"
   },
   "outputs": [
    {
     "data": {
      "text/plain": [
       "2"
      ]
     },
     "execution_count": 60,
     "metadata": {
      "tags": []
     },
     "output_type": "execute_result"
    }
   ],
   "source": [
    "A.ndim # 차원 수 "
   ]
  },
  {
   "cell_type": "code",
   "execution_count": 0,
   "metadata": {
    "colab": {},
    "colab_type": "code",
    "id": "ezYEZJLQJTZW",
    "outputId": "38e3a8e4-5356-4a3c-97c3-572d04ab9f7f"
   },
   "outputs": [
    {
     "data": {
      "text/plain": [
       "(3, 5)"
      ]
     },
     "execution_count": 61,
     "metadata": {
      "tags": []
     },
     "output_type": "execute_result"
    }
   ],
   "source": [
    "A.shape # 행이 3개, 열이 5개"
   ]
  },
  {
   "cell_type": "code",
   "execution_count": 0,
   "metadata": {
    "colab": {},
    "colab_type": "code",
    "id": "Ke5SbKq4JTZa",
    "outputId": "459252ae-b443-450d-e227-ad6395273b54"
   },
   "outputs": [
    {
     "data": {
      "text/plain": [
       "15"
      ]
     },
     "execution_count": 62,
     "metadata": {
      "tags": []
     },
     "output_type": "execute_result"
    }
   ],
   "source": [
    "A.size # 3(행의 수) * 5(열의 수) == 15"
   ]
  },
  {
   "cell_type": "markdown",
   "metadata": {
    "colab_type": "text",
    "id": "aIgW-QwyJTZc"
   },
   "source": [
    "### ⚠︎ 주의 : Python의 `list`와 다르게, Numpy의 array는 행, 열 별로 크기가 같아야 합니다.\n",
    "╭──────────────────────────────────────────────────────────╮"
   ]
  },
  {
   "cell_type": "markdown",
   "metadata": {
    "colab_type": "text",
    "id": "n3TR8aYLJTZd"
   },
   "source": [
    "> `list`는 아래와 같이 가변적인 길이를 담을 수 있습니다."
   ]
  },
  {
   "cell_type": "code",
   "execution_count": 0,
   "metadata": {
    "colab": {},
    "colab_type": "code",
    "id": "f7aUp4i5JTZe",
    "outputId": "2d22ea80-1d49-4b6d-eba5-b3ffd30f1c44"
   },
   "outputs": [
    {
     "data": {
      "text/plain": [
       "[[1, 2, 3, 4, 5], [2, 3, 4, 5], [3, 4, 5, 6, 7]]"
      ]
     },
     "execution_count": 63,
     "metadata": {
      "tags": []
     },
     "output_type": "execute_result"
    }
   ],
   "source": [
    "# list는 아래와 같이 담을 수 있지만,\n",
    "A_ = [\n",
    "    [1,2,3,4,5], # 크기가 5\n",
    "    [2,3,4,5], # 크기가 4\n",
    "    [3,4,5,6,7] # 크기가 5\n",
    "]\n",
    "A_"
   ]
  },
  {
   "cell_type": "markdown",
   "metadata": {
    "colab_type": "text",
    "id": "2cB5-M1TJTZl"
   },
   "source": [
    "> `numpy.array`는 아래와 같이 각 행, 열별로 크기가 같지 않으면, 넣을 수 없습니다."
   ]
  },
  {
   "cell_type": "code",
   "execution_count": 0,
   "metadata": {
    "colab": {},
    "colab_type": "code",
    "id": "prgNgM_3JTZo",
    "outputId": "6249a618-013b-4ccb-c9e3-3194dc998a61"
   },
   "outputs": [
    {
     "ename": "ValueError",
     "evalue": "setting an array element with a sequence.",
     "output_type": "error",
     "traceback": [
      "\u001b[0;31m---------------------------------------------------------------------------\u001b[0m",
      "\u001b[0;31mValueError\u001b[0m                                Traceback (most recent call last)",
      "\u001b[0;32m<ipython-input-64-ca5680532f25>\u001b[0m in \u001b[0;36m<module>\u001b[0;34m\u001b[0m\n\u001b[1;32m      4\u001b[0m     \u001b[0;34m[\u001b[0m\u001b[0;36m2\u001b[0m\u001b[0;34m,\u001b[0m\u001b[0;36m3\u001b[0m\u001b[0;34m,\u001b[0m\u001b[0;36m4\u001b[0m\u001b[0;34m,\u001b[0m\u001b[0;36m5\u001b[0m\u001b[0;34m]\u001b[0m\u001b[0;34m,\u001b[0m \u001b[0;31m# 크기가 4\u001b[0m\u001b[0;34m\u001b[0m\u001b[0m\n\u001b[1;32m      5\u001b[0m     \u001b[0;34m[\u001b[0m\u001b[0;36m3\u001b[0m\u001b[0;34m,\u001b[0m\u001b[0;36m4\u001b[0m\u001b[0;34m,\u001b[0m\u001b[0;36m5\u001b[0m\u001b[0;34m,\u001b[0m\u001b[0;36m6\u001b[0m\u001b[0;34m,\u001b[0m\u001b[0;36m7\u001b[0m\u001b[0;34m]\u001b[0m \u001b[0;31m# 크기가 5\u001b[0m\u001b[0;34m\u001b[0m\u001b[0m\n\u001b[0;32m----> 6\u001b[0;31m ],dtype=np.int64)\n\u001b[0m\u001b[1;32m      7\u001b[0m \u001b[0mA\u001b[0m\u001b[0;34m\u001b[0m\u001b[0m\n",
      "\u001b[0;31mValueError\u001b[0m: setting an array element with a sequence."
     ]
    }
   ],
   "source": [
    "# array는  담을 수 없습니다.\n",
    "A = np.array([\n",
    "    [1,2,3,4,5], # 크기가 5\n",
    "    [2,3,4,5], # 크기가 4\n",
    "    [3,4,5,6,7] # 크기가 5\n",
    "],dtype=np.int64)\n",
    "A"
   ]
  },
  {
   "cell_type": "markdown",
   "metadata": {
    "colab_type": "text",
    "id": "y4tVYkkrJTZs"
   },
   "source": [
    "> `np.array`는 수학에서의 행렬과 같이, 행 별, 열 별로 같은 갯수만큼의 원소가 있어야 합니다."
   ]
  },
  {
   "cell_type": "markdown",
   "metadata": {
    "colab_type": "text",
    "id": "U6nsYuXFNjXt"
   },
   "source": [
    "###  \n",
    "╰──────────────────────────────────────────────────────────╯"
   ]
  },
  {
   "cell_type": "markdown",
   "metadata": {
    "colab_type": "text",
    "id": "PYNPvYTLJTZt"
   },
   "source": [
    "### (3) 3차원 행렬 생성\n",
    "\n",
    "3차원이상의 행렬은 수학에서 주로 Multidimensional Matrix라 불립니다.<br>\n",
    "이렇게 크기가 N차원인 모든 행렬들을 통칭해 Tensor라 부르고, <br>\n",
    "이후 배우는 `tensorflow` 라이브러리는 이러한 `tensor`을 연산하기 위해 고안된 라이브러리입니다.<br>"
   ]
  },
  {
   "cell_type": "code",
   "execution_count": 0,
   "metadata": {
    "colab": {},
    "colab_type": "code",
    "id": "olBIKFq8JTZu",
    "outputId": "14c1425d-4ffb-4703-b622-32c020728840"
   },
   "outputs": [
    {
     "data": {
      "text/plain": [
       "array([[[1, 2, 3, 4, 5],\n",
       "        [2, 3, 4, 5, 6],\n",
       "        [3, 4, 5, 6, 7]],\n",
       "\n",
       "       [[1, 2, 3, 4, 5],\n",
       "        [2, 3, 4, 5, 6],\n",
       "        [3, 4, 5, 6, 7]]])"
      ]
     },
     "execution_count": 65,
     "metadata": {
      "tags": []
     },
     "output_type": "execute_result"
    }
   ],
   "source": [
    "A = np.array([\n",
    "    [\n",
    "        [1,2,3,4,5],\n",
    "        [2,3,4,5,6],\n",
    "        [3,4,5,6,7]\n",
    "    ],\n",
    "    [\n",
    "        [1,2,3,4,5],\n",
    "        [2,3,4,5,6],\n",
    "        [3,4,5,6,7]\n",
    "    ]\n",
    "])\n",
    "A"
   ]
  },
  {
   "cell_type": "code",
   "execution_count": 0,
   "metadata": {
    "colab": {},
    "colab_type": "code",
    "id": "E9qbtxDgJTZ3",
    "outputId": "d5289b87-35ad-446f-d460-bdeb53f470c7"
   },
   "outputs": [
    {
     "data": {
      "text/plain": [
       "3"
      ]
     },
     "execution_count": 66,
     "metadata": {
      "tags": []
     },
     "output_type": "execute_result"
    }
   ],
   "source": [
    "A.ndim # 차원 수 "
   ]
  },
  {
   "cell_type": "code",
   "execution_count": 0,
   "metadata": {
    "colab": {},
    "colab_type": "code",
    "id": "DiUYWofQJTZ7",
    "outputId": "55cf0e8b-fd65-407c-c6b5-93696f185d2d"
   },
   "outputs": [
    {
     "data": {
      "text/plain": [
       "(2, 3, 5)"
      ]
     },
     "execution_count": 69,
     "metadata": {
      "tags": []
     },
     "output_type": "execute_result"
    }
   ],
   "source": [
    "A.shape # 0번째 차원이 2, 1번째 차원이 3, 2번째 차원이 5"
   ]
  },
  {
   "cell_type": "code",
   "execution_count": 0,
   "metadata": {
    "colab": {},
    "colab_type": "code",
    "id": "Vn9Pq4xbJTZ_",
    "outputId": "fff58cc3-a5be-455e-e6b7-0659c2289953"
   },
   "outputs": [
    {
     "data": {
      "text/plain": [
       "30"
      ]
     },
     "execution_count": 71,
     "metadata": {
      "tags": []
     },
     "output_type": "execute_result"
    }
   ],
   "source": [
    "A.size  # 2(0번째 차원) x 3(1번째 차원) x 5(2번째 차원)"
   ]
  },
  {
   "cell_type": "markdown",
   "metadata": {
    "colab_type": "text",
    "id": "RzCUGXkwJTaF"
   },
   "source": [
    "### (4) shape 변경하기, `reshape`\n",
    "\n",
    "원소의 수가 같은 경우, `numpy array`의 형태를 바꿀 수 있습니다.\n",
    "<br>"
   ]
  },
  {
   "cell_type": "code",
   "execution_count": 0,
   "metadata": {
    "colab": {},
    "colab_type": "code",
    "id": "NwF_nV8jJTaF",
    "outputId": "8203b10e-056d-4f46-8b2e-b5e62134ad16"
   },
   "outputs": [
    {
     "data": {
      "text/plain": [
       "array([[[1, 2, 3, 4, 5],\n",
       "        [2, 3, 4, 5, 6],\n",
       "        [3, 4, 5, 6, 7]],\n",
       "\n",
       "       [[1, 2, 3, 4, 5],\n",
       "        [2, 3, 4, 5, 6],\n",
       "        [3, 4, 5, 6, 7]]])"
      ]
     },
     "execution_count": 139,
     "metadata": {
      "tags": []
     },
     "output_type": "execute_result"
    }
   ],
   "source": [
    "A = np.array([\n",
    "    [\n",
    "        [1,2,3,4,5],\n",
    "        [2,3,4,5,6],\n",
    "        [3,4,5,6,7]\n",
    "    ],\n",
    "    [\n",
    "        [1,2,3,4,5],\n",
    "        [2,3,4,5,6],\n",
    "        [3,4,5,6,7]\n",
    "    ]\n",
    "])\n",
    "A"
   ]
  },
  {
   "cell_type": "code",
   "execution_count": 0,
   "metadata": {
    "colab": {},
    "colab_type": "code",
    "id": "SVviKTDiJTaI",
    "outputId": "2a102016-9f47-49a8-cec1-b51e276a2ea6"
   },
   "outputs": [
    {
     "data": {
      "text/plain": [
       "array([[[1, 2, 3, 4, 5],\n",
       "        [2, 3, 4, 5, 6]],\n",
       "\n",
       "       [[3, 4, 5, 6, 7],\n",
       "        [1, 2, 3, 4, 5]],\n",
       "\n",
       "       [[2, 3, 4, 5, 6],\n",
       "        [3, 4, 5, 6, 7]]])"
      ]
     },
     "execution_count": 140,
     "metadata": {
      "tags": []
     },
     "output_type": "execute_result"
    }
   ],
   "source": [
    "A.reshape((3,2,5)) "
   ]
  },
  {
   "cell_type": "markdown",
   "metadata": {
    "colab_type": "text",
    "id": "qauPyzGXJTaS"
   },
   "source": [
    "`reshape`을 통해, 행렬의 형태를 바꿀 수 있습니다.<br>\n",
    "이러한 행렬의 shape 변환은 아래의 예제에서 유용하게 사용할 수 있습니다.\n",
    "<br>"
   ]
  },
  {
   "cell_type": "markdown",
   "metadata": {
    "colab_type": "text",
    "id": "Ot3FlsxDJTaU"
   },
   "source": [
    "#### 예제 )  제품별 월 판매량 정보\n",
    "\n",
    "┌─<i> ✍︎ Example  </i>────────────────────────────┐ <br>\n",
    "\n",
    "&nbsp;&nbsp;&nbsp;&nbsp;제품별 **월 판매량** 정보데이터에서 **분기별 판매량** 정보데이터로 변환하기<br>\n",
    "\n",
    "└───────────────────────────────────┘<br>\n",
    "\n",
    "|월별 | 1 | 2 | 3 | 4 | 5 |6|7|8|9|10|11|12|\n",
    "|---|----|---|---|---|---|---|---|---|---|---|---|\n",
    "|A모델|30|33|35|31|36|32|37|39|42|37|38|39|\n",
    "|B모델|20|22|25|21|23|29|32|30|35|31|36|38|\n",
    "|C모델|10|12|11|13|10|16|12|11|15|12|13|12|"
   ]
  },
  {
   "cell_type": "markdown",
   "metadata": {
    "colab_type": "text",
    "id": "iZjnlImBJTaV"
   },
   "source": [
    "> 위의 데이터 셋이 있을 때, **분기별** 판매량을 구하고 싶다면, 어떻게 해야할까?"
   ]
  },
  {
   "cell_type": "code",
   "execution_count": 0,
   "metadata": {
    "colab": {},
    "colab_type": "code",
    "id": "tG9Ky1AOJTaV",
    "outputId": "54ea0307-839c-4e62-9369-65376514052a"
   },
   "outputs": [
    {
     "data": {
      "text/plain": [
       "(3, 12)"
      ]
     },
     "execution_count": 148,
     "metadata": {
      "tags": []
     },
     "output_type": "execute_result"
    }
   ],
   "source": [
    "sales = np.array([\n",
    "    [30,33,35,31,36,32,37,39,42,37,38,39],\n",
    "    [20,22,25,21,23,29,32,30,35,31,36,38],\n",
    "    [10,12,11,13,10,16,12,11,15,12,13,12]\n",
    "])\n",
    "sales.shape # shape = (모델 별(a,b,c), 월 별 (1~12월))"
   ]
  },
  {
   "cell_type": "markdown",
   "metadata": {
    "colab_type": "text",
    "id": "Ij1lILNZJTaY"
   },
   "source": [
    "|분기 | 1Q(1~3) | 2Q(4~6) | 3Q(7~9) | 4Q(10~12) |\n",
    "|---|----|---|---|---|\n",
    "|A모델|[30,33,35]|[31,36,32]|[37,39,42]|[37,38,39]|\n",
    "|B모델|[20,22,25]|[21,23,29]|[32,30,35]|[31,36,38]|\n",
    "|C모델|[10,12,11]|[13,10,16]|[12,11,15]|[12,13,12]|\n",
    "\n",
    "위와 같이 shape을 바꾼 후, 각 분기별로 합을 구하는 방식으로 진행하면 간편합니다.\n",
    "<br>"
   ]
  },
  {
   "cell_type": "code",
   "execution_count": 0,
   "metadata": {
    "colab": {},
    "colab_type": "code",
    "id": "qcGvXvCKJTaZ",
    "outputId": "e45b2cd5-1116-40ba-c89a-f357b2ecc9ea"
   },
   "outputs": [
    {
     "data": {
      "text/plain": [
       "array([[[30, 33, 35],\n",
       "        [31, 36, 32],\n",
       "        [37, 39, 42],\n",
       "        [37, 38, 39]],\n",
       "\n",
       "       [[20, 22, 25],\n",
       "        [21, 23, 29],\n",
       "        [32, 30, 35],\n",
       "        [31, 36, 38]],\n",
       "\n",
       "       [[10, 12, 11],\n",
       "        [13, 10, 16],\n",
       "        [12, 11, 15],\n",
       "        [12, 13, 12]]])"
      ]
     },
     "execution_count": 149,
     "metadata": {
      "tags": []
     },
     "output_type": "execute_result"
    }
   ],
   "source": [
    "sales = sales.reshape(3,4,3) # (모델 별, 분기 별, 분기 내 월 별) == (3, 4, 3)\n",
    "sales"
   ]
  },
  {
   "cell_type": "code",
   "execution_count": 0,
   "metadata": {
    "colab": {},
    "colab_type": "code",
    "id": "D5GGmWC6JTac",
    "outputId": "d6e3a2a1-6105-44d3-c63f-d2a6a7603ebd"
   },
   "outputs": [
    {
     "data": {
      "text/plain": [
       "array([[ 98,  99, 118, 114],\n",
       "       [ 67,  73,  97, 105],\n",
       "       [ 33,  39,  38,  37]])"
      ]
     },
     "execution_count": 150,
     "metadata": {
      "tags": []
     },
     "output_type": "execute_result"
    }
   ],
   "source": [
    "sales.sum(axis=2)"
   ]
  },
  {
   "cell_type": "markdown",
   "metadata": {
    "colab_type": "text",
    "id": "jkvN1lGnJTag"
   },
   "source": [
    "#### 결과) 분기별 판매량 정보\n",
    "\n",
    "|분기 | 1Q | 2Q | 3Q | 4Q |\n",
    "|---|----|---|---|---|\n",
    "|A모델|98|99|118|114|\n",
    "|B모델|67|73|97|105|\n",
    "|C모델|33|39|38|37|"
   ]
  },
  {
   "cell_type": "markdown",
   "metadata": {
    "colab_type": "text",
    "id": "8yZpFuOgJTah"
   },
   "source": [
    "> * reshape을 통해, 간단히 분기별 판매량을 구할 수 있습니다. "
   ]
  },
  {
   "cell_type": "markdown",
   "metadata": {
    "colab_type": "text",
    "id": "HjKYGaAUJTaj"
   },
   "source": [
    "<br>\n",
    "\n",
    "## 2. DataType\n",
    "\n",
    "<hr>\n",
    "\n",
    "+ Python에서는 Datatype을 데이터에 따라 자동으로 설정됩니다.\n",
    "+ 하지만 Numpy의 Numpy Array에서는 Datatype이 모두 동일해야 하기 때문에, Datatype을 확인하거나 Datatype을 변환해야 할때도 있습니다."
   ]
  },
  {
   "cell_type": "markdown",
   "metadata": {
    "colab_type": "text",
    "id": "HzIQi04rJTak"
   },
   "source": [
    "### (1) `list`와 `np.array`의 차이, datatype"
   ]
  },
  {
   "cell_type": "markdown",
   "metadata": {
    "colab_type": "text",
    "id": "_66ATY4BJTal"
   },
   "source": [
    "`np.array`는 `list`와 다르게 행렬 내 모든 타입이 같은 타입이어야만 합니다."
   ]
  },
  {
   "cell_type": "code",
   "execution_count": 0,
   "metadata": {
    "colab": {},
    "colab_type": "code",
    "id": "-4uwutzHJTan",
    "outputId": "40d23558-e9ae-41d1-dacc-4bbf4570c506"
   },
   "outputs": [
    {
     "data": {
      "text/plain": [
       "[1, 1.2, False]"
      ]
     },
     "execution_count": 105,
     "metadata": {
      "tags": []
     },
     "output_type": "execute_result"
    }
   ],
   "source": [
    "# List\n",
    "A_ = [1,1.2,False]\n",
    "A_"
   ]
  },
  {
   "cell_type": "markdown",
   "metadata": {
    "colab_type": "text",
    "id": "vy6fPm8OJTau"
   },
   "source": [
    "List는 원소 별로 Type이 달라도 됩니다."
   ]
  },
  {
   "cell_type": "code",
   "execution_count": 0,
   "metadata": {
    "colab": {},
    "colab_type": "code",
    "id": "WnusSgqxJTav",
    "outputId": "73daa6bc-13d9-4c65-d837-5beb43518483"
   },
   "outputs": [
    {
     "data": {
      "text/plain": [
       "array([1. , 1.2, 0. ])"
      ]
     },
     "execution_count": 106,
     "metadata": {
      "tags": []
     },
     "output_type": "execute_result"
    }
   ],
   "source": [
    "# numpy array\n",
    "A = np.array([1,1.2,False])\n",
    "A"
   ]
  },
  {
   "cell_type": "markdown",
   "metadata": {
    "colab_type": "text",
    "id": "lHh_MJNtJTa1"
   },
   "source": [
    "`1`과 `True`가 각각 `1.`, `0.`으로 바뀝니다. **이것을 형변환(type-casting)이라고 합니다.**"
   ]
  },
  {
   "cell_type": "markdown",
   "metadata": {
    "colab_type": "text",
    "id": "EuFX48LDJTa4"
   },
   "source": [
    "### (2) `datatype` 확인하기"
   ]
  },
  {
   "cell_type": "markdown",
   "metadata": {
    "colab_type": "text",
    "id": "DpXYaAyGJTa7"
   },
   "source": [
    "#### &nbsp;&nbsp;&nbsp;&nbsp; ⓵ boolean array"
   ]
  },
  {
   "cell_type": "code",
   "execution_count": 0,
   "metadata": {
    "colab": {},
    "colab_type": "code",
    "id": "SqBKtLIYJTa-",
    "outputId": "70a5af68-efeb-4cb3-b148-27d08ebacb0d"
   },
   "outputs": [
    {
     "data": {
      "text/plain": [
       "array([ True, False])"
      ]
     },
     "execution_count": 110,
     "metadata": {
      "tags": []
     },
     "output_type": "execute_result"
    }
   ],
   "source": [
    "A = np.array([True,False])\n",
    "A"
   ]
  },
  {
   "cell_type": "code",
   "execution_count": 0,
   "metadata": {
    "colab": {},
    "colab_type": "code",
    "id": "iypCiKgkJTbF",
    "outputId": "452e8ba2-5dc7-4bbf-bbb9-01b5293f405b"
   },
   "outputs": [
    {
     "data": {
      "text/plain": [
       "dtype('bool')"
      ]
     },
     "execution_count": 111,
     "metadata": {
      "tags": []
     },
     "output_type": "execute_result"
    }
   ],
   "source": [
    "A.dtype"
   ]
  },
  {
   "cell_type": "markdown",
   "metadata": {
    "colab_type": "text",
    "id": "szRDYrHCJTbM"
   },
   "source": [
    "> * `dtype`을 통해, 현재 `np.array`의 데이터 타입이 어떤 형태인지 알 수 있습니다."
   ]
  },
  {
   "cell_type": "markdown",
   "metadata": {
    "colab_type": "text",
    "id": "hTtaYiYNJTbN"
   },
   "source": [
    "#### &nbsp;&nbsp;&nbsp;&nbsp; ⓶ int array"
   ]
  },
  {
   "cell_type": "code",
   "execution_count": 0,
   "metadata": {
    "colab": {},
    "colab_type": "code",
    "id": "yN8EGcWUJTbO",
    "outputId": "67dec292-3222-453a-b817-9105b29f6d10"
   },
   "outputs": [
    {
     "data": {
      "text/plain": [
       "array([1, 2, 3])"
      ]
     },
     "execution_count": 117,
     "metadata": {
      "tags": []
     },
     "output_type": "execute_result"
    }
   ],
   "source": [
    "A = np.array([1,2,3])\n",
    "A"
   ]
  },
  {
   "cell_type": "code",
   "execution_count": 0,
   "metadata": {
    "colab": {},
    "colab_type": "code",
    "id": "EASeV6hAJTbT",
    "outputId": "f82e7a1c-b8c6-4edc-f046-9dc1ddce36cb"
   },
   "outputs": [
    {
     "data": {
      "text/plain": [
       "dtype('int64')"
      ]
     },
     "execution_count": 118,
     "metadata": {
      "tags": []
     },
     "output_type": "execute_result"
    }
   ],
   "source": [
    "A.dtype"
   ]
  },
  {
   "cell_type": "markdown",
   "metadata": {
    "colab_type": "text",
    "id": "gt1C9mXmJTbY"
   },
   "source": [
    "#### &nbsp;&nbsp;&nbsp;&nbsp; ⓷ float array"
   ]
  },
  {
   "cell_type": "code",
   "execution_count": 0,
   "metadata": {
    "colab": {},
    "colab_type": "code",
    "id": "Aj7qbzM1JTbb",
    "outputId": "7aa1f911-e75e-4b24-b4be-8ff5382d5086"
   },
   "outputs": [
    {
     "data": {
      "text/plain": [
       "array([1., 2., 3.])"
      ]
     },
     "execution_count": 119,
     "metadata": {
      "tags": []
     },
     "output_type": "execute_result"
    }
   ],
   "source": [
    "A = np.array([1.0,2.0,3.0])\n",
    "A"
   ]
  },
  {
   "cell_type": "code",
   "execution_count": 0,
   "metadata": {
    "colab": {},
    "colab_type": "code",
    "id": "zWaPrLlRJTbm",
    "outputId": "d6ab0de7-0249-4cc1-fefe-6758c1b85b00"
   },
   "outputs": [
    {
     "data": {
      "text/plain": [
       "dtype('float64')"
      ]
     },
     "execution_count": 120,
     "metadata": {
      "tags": []
     },
     "output_type": "execute_result"
    }
   ],
   "source": [
    "A.dtype"
   ]
  },
  {
   "cell_type": "markdown",
   "metadata": {
    "colab_type": "text",
    "id": "0nQWNSoEJTbs"
   },
   "source": [
    "#### ※ numpy의 다양한 데이터 타입들"
   ]
  },
  {
   "cell_type": "markdown",
   "metadata": {
    "colab_type": "text",
    "id": "6CJujTyUU4HU"
   },
   "source": [
    "\n",
    "|Data Type | Description |\n",
    "|----|----|\n",
    "|bool_ | Boolean (True or False) stored as a byte|\n",
    "|int_ | Default integer type (same as C long; normally either int64 or int32)|\n",
    "|intc | Identical to C int (normally int32 or int64)|\n",
    "|intp | Integer used for indexing (same as C ssize_t; normally either int32 or int64)|\n",
    "|int8 | Byte (-128 to 127)|\n",
    "|int16 | Integer (-32768 to 32767)|\n",
    "|int32 | Integer (-2147483648 to 2147483647)|\n",
    "|int64 | Integer (-9223372036854775808 to 9223372036854775807)|\n",
    "|uint8 | Unsigned integer (0 to 255)|\n",
    "|uint16 | Unsigned integer (0 to 65535)|\n",
    "|uint32 | Unsigned integer (0 to 4294967295)|\n",
    "|uint64 | Unsigned integer (0 to 18446744073709551615)|\n",
    "|float_ | Shorthand for float64.|\n",
    "|float16 | Half precision float: sign bit, 5 bits exponent, 10 bits mantissa|\n",
    "|float32 | Single precision float: sign bit, 8 bits exponent, 23 bits mantissa|\n",
    "|float64 | Double precision float: sign bit, 11 bits exponent, 52 bits mantissa|\n",
    "|complex_ | Shorthand for complex128.|\n",
    "|complex64 | Complex number, represented by two 32-bit floats (real and imaginary components)|\n",
    "|complex128 | Complex number, represented by two 64-bit floats (real and imaginary components)|"
   ]
  },
  {
   "cell_type": "markdown",
   "metadata": {
    "colab_type": "text",
    "id": "dKGJATBTJTb0"
   },
   "source": [
    "### (3) `astype`으로 형 변환하기"
   ]
  },
  {
   "cell_type": "code",
   "execution_count": 0,
   "metadata": {
    "colab": {},
    "colab_type": "code",
    "id": "8AgAyhrRJTb3",
    "outputId": "41ad63e5-6cc8-4d5a-c58b-20160fd61a1b"
   },
   "outputs": [
    {
     "data": {
      "text/plain": [
       "array([0, 1, 2, 3, 4, 5])"
      ]
     },
     "execution_count": 151,
     "metadata": {
      "tags": []
     },
     "output_type": "execute_result"
    }
   ],
   "source": [
    "A = np.array([0,1,2,3,4,5])\n",
    "A"
   ]
  },
  {
   "cell_type": "markdown",
   "metadata": {
    "colab_type": "text",
    "id": "SFbGSW_2JTcA"
   },
   "source": [
    "`astype`으로, 행렬의 datatype을 쉽게 바꿀 수 있습니다."
   ]
  },
  {
   "cell_type": "code",
   "execution_count": 0,
   "metadata": {
    "colab": {},
    "colab_type": "code",
    "id": "wrtRyX18JTcC",
    "outputId": "ea8f67ea-63c2-40fb-fd3c-d8990ecee82e"
   },
   "outputs": [
    {
     "data": {
      "text/plain": [
       "array([0., 1., 2., 3., 4., 5.])"
      ]
     },
     "execution_count": 152,
     "metadata": {
      "tags": []
     },
     "output_type": "execute_result"
    }
   ],
   "source": [
    "A.astype(np.float) # int -> float으로 바꾸기"
   ]
  },
  {
   "cell_type": "code",
   "execution_count": 0,
   "metadata": {
    "colab": {},
    "colab_type": "code",
    "id": "BE9YSFiYJTcH",
    "outputId": "46d3d1cd-c289-4c78-bdcc-275ba1933be4"
   },
   "outputs": [
    {
     "data": {
      "text/plain": [
       "array([False,  True,  True,  True,  True,  True])"
      ]
     },
     "execution_count": 153,
     "metadata": {
      "tags": []
     },
     "output_type": "execute_result"
    }
   ],
   "source": [
    "A.astype(np.bool) # int -> bool으로 바꾸기"
   ]
  },
  {
   "cell_type": "markdown",
   "metadata": {
    "colab_type": "text",
    "id": "ym0Rs3d0JTcM"
   },
   "source": [
    "<br><br>\n",
    "\n",
    "# \\[ 2. Numpy Array을 생성하기 \\]\n",
    "\n",
    "----\n",
    "\n",
    "---- \n",
    "> *Numpy Array을 만드는 다양한 방식을 배워봅시다.*"
   ]
  },
  {
   "cell_type": "markdown",
   "metadata": {
    "colab_type": "text",
    "id": "yY_HlZpXXTfT"
   },
   "source": [
    "<br>\n",
    "## 1. 다른 자료로부터 Numpy Array 생성하기\n",
    "\n",
    "---\n",
    "\n",
    "* 우리는 이미 생성된 List나 Tuple 또는 또다른 Array를 활용하여 새로운 Array를 생성할 수 있습니다.<br>\n",
    "* List, Tuple로부터 Numpy Array를 생성하는 `np.array` 와 다른 Numpy Array로부터 Numpy Array를 생성하는 `np.copy` 를 활용해봅시다."
   ]
  },
  {
   "cell_type": "markdown",
   "metadata": {
    "colab_type": "text",
    "id": "QyiuDMSoJTcN"
   },
   "source": [
    "\n",
    "### (1) 리스트를 Array로, `np.array()`\n",
    "\n",
    "가장 기본적인 array를 만드는 방식으로, 주로 리스트나 tuple을 변환하여 array로 만들어 줍니다."
   ]
  },
  {
   "cell_type": "code",
   "execution_count": 0,
   "metadata": {
    "colab": {},
    "colab_type": "code",
    "id": "QvYxjiv8JTcO",
    "outputId": "7503879a-cdfd-4454-a8e4-9c10224d650f"
   },
   "outputs": [
    {
     "data": {
      "text/plain": [
       "array([1, 2, 3, 4, 5])"
      ]
     },
     "execution_count": 174,
     "metadata": {
      "tags": []
     },
     "output_type": "execute_result"
    }
   ],
   "source": [
    "A = np.array([1,2,3,4,5])\n",
    "A"
   ]
  },
  {
   "cell_type": "markdown",
   "metadata": {
    "colab_type": "text",
    "id": "0hoTKsdaJTcd"
   },
   "source": [
    "### (2) Array을 복사하기, `np.copy()`\n",
    "\n",
    "똑같은 값을 가진 Array를 만들고자 한다면, `np.copy()`를 이용해야 합니다."
   ]
  },
  {
   "cell_type": "code",
   "execution_count": 0,
   "metadata": {
    "colab": {},
    "colab_type": "code",
    "id": "UHEBQX2hJTci",
    "outputId": "11005144-423a-4a98-b09d-215b235d8f84"
   },
   "outputs": [
    {
     "data": {
      "text/plain": [
       "array([1, 2, 3, 4, 5])"
      ]
     },
     "execution_count": 194,
     "metadata": {
      "tags": []
     },
     "output_type": "execute_result"
    }
   ],
   "source": [
    "A = np.array([1,2,3,4,5])\n",
    "A"
   ]
  },
  {
   "cell_type": "code",
   "execution_count": 0,
   "metadata": {
    "colab": {},
    "colab_type": "code",
    "id": "UFWbzHGxJTcn"
   },
   "outputs": [],
   "source": [
    "B = A # 이렇게 할 경우, A를 복사하는 것이 아닌, 똑같은 A의 값을 가르키고 있는 상태가 됩니다."
   ]
  },
  {
   "cell_type": "code",
   "execution_count": 0,
   "metadata": {
    "colab": {},
    "colab_type": "code",
    "id": "eqBJ8_qyJTcu",
    "outputId": "b5c52e8b-2949-4eaa-9fd9-a963b7be6018"
   },
   "outputs": [
    {
     "data": {
      "text/plain": [
       "array([0, 2, 3, 4, 5])"
      ]
     },
     "execution_count": 196,
     "metadata": {
      "tags": []
     },
     "output_type": "execute_result"
    }
   ],
   "source": [
    "B[0] = 0 # B의 첫번째 원소를 바꾸었을 때, A도 바뀝니다.\n",
    "B"
   ]
  },
  {
   "cell_type": "code",
   "execution_count": 0,
   "metadata": {
    "colab": {},
    "colab_type": "code",
    "id": "fF7pCX3JJTc1",
    "outputId": "32a5ee01-064f-4b26-8125-0934e34ff0a8"
   },
   "outputs": [
    {
     "data": {
      "text/plain": [
       "array([0, 2, 3, 4, 5])"
      ]
     },
     "execution_count": 197,
     "metadata": {
      "tags": []
     },
     "output_type": "execute_result"
    }
   ],
   "source": [
    "A # B와 같음"
   ]
  },
  {
   "cell_type": "markdown",
   "metadata": {
    "colab_type": "text",
    "id": "cnEqFDsJJTdB"
   },
   "source": [
    "<br>\n",
    "위와 같은 것을 방지하기 위해서는, `copy`라는 메소드를 이용해야 합니다.\n",
    "<br>"
   ]
  },
  {
   "cell_type": "code",
   "execution_count": 0,
   "metadata": {
    "colab": {},
    "colab_type": "code",
    "id": "VYIh3GJWJTdC",
    "outputId": "66598915-df61-40c0-a38b-6f83d527435f"
   },
   "outputs": [
    {
     "data": {
      "text/plain": [
       "array([1, 2, 3, 4, 5])"
      ]
     },
     "execution_count": 198,
     "metadata": {
      "tags": []
     },
     "output_type": "execute_result"
    }
   ],
   "source": [
    "A = np.array([1,2,3,4,5])\n",
    "A"
   ]
  },
  {
   "cell_type": "code",
   "execution_count": 0,
   "metadata": {
    "colab": {},
    "colab_type": "code",
    "id": "bAlULnxVJTdG"
   },
   "outputs": [],
   "source": [
    "B = A.copy() # 이렇게 할 경우, A를 복사하여 저장합니다."
   ]
  },
  {
   "cell_type": "code",
   "execution_count": 0,
   "metadata": {
    "colab": {},
    "colab_type": "code",
    "id": "6ywARThuJTdK",
    "outputId": "692cf505-f8f8-4403-f298-f03981f16e5e"
   },
   "outputs": [
    {
     "data": {
      "text/plain": [
       "array([0, 2, 3, 4, 5])"
      ]
     },
     "execution_count": 200,
     "metadata": {
      "tags": []
     },
     "output_type": "execute_result"
    }
   ],
   "source": [
    "B[0] = 0 # B의 첫번째 원소를 바꾸었을 때, A는 바뀌지 않습니다.\n",
    "B"
   ]
  },
  {
   "cell_type": "code",
   "execution_count": 0,
   "metadata": {
    "colab": {},
    "colab_type": "code",
    "id": "xP0avpKiJTdN",
    "outputId": "d41138fb-3029-4734-9cf7-bccdf0692412"
   },
   "outputs": [
    {
     "data": {
      "text/plain": [
       "array([1, 2, 3, 4, 5])"
      ]
     },
     "execution_count": 201,
     "metadata": {
      "tags": []
     },
     "output_type": "execute_result"
    }
   ],
   "source": [
    "A # B와 다름"
   ]
  },
  {
   "cell_type": "markdown",
   "metadata": {
    "colab_type": "text",
    "id": "ZETabvc0cEq0"
   },
   "source": [
    "<br>\n",
    "\n",
    "## 2. 구성을 설정하여 Numpy Array 생성하기\n",
    "\n",
    "<hr>\n",
    "\n",
    "우리는 구성(Value, Shape, Datatype)을 설정하여 Numpy Array를 직접 생성할수도 있습니다.<br>\n",
    "+ 모든 요소(Elements)가 동일한 값(Value)를 가지는 Numpy Array를 생성할 수도 있으며,<br>\n",
    "+ Shape를 지정하거나 다른 Numpy Array와 같은 Shape를 가지는 Numpy Array를 생성할 수도 있고,<br>\n",
    "+ 요소들의 값들을 등간격으로 설정하여 Numpy Array를 생성할 수도 있습니다.\n"
   ]
  },
  {
   "cell_type": "markdown",
   "metadata": {
    "colab_type": "text",
    "id": "6SFPWskvJTdT"
   },
   "source": [
    "### (1) 값이 일정한 Array&nbsp;,&nbsp; `np.zeros()`&nbsp;,&nbsp; `np.ones()`&nbsp;,&nbsp; `np.full()`\n",
    "\n",
    "우리는 Array를 지정할 때 크게 `shape`, `value`, `dtype`을 지정해야 합니다."
   ]
  },
  {
   "cell_type": "code",
   "execution_count": 0,
   "metadata": {
    "colab": {},
    "colab_type": "code",
    "id": "b5Ziq7cHJTdU",
    "outputId": "e6ad6100-f06f-471c-94e5-27c65a440100"
   },
   "outputs": [
    {
     "data": {
      "text/plain": [
       "array([[0., 0.],\n",
       "       [0., 0.],\n",
       "       [0., 0.]])"
      ]
     },
     "execution_count": 202,
     "metadata": {
      "tags": []
     },
     "output_type": "execute_result"
    }
   ],
   "source": [
    "A = np.zeros(shape=(3,2), dtype=np.float64)\n",
    "A"
   ]
  },
  {
   "cell_type": "code",
   "execution_count": 0,
   "metadata": {
    "colab": {},
    "colab_type": "code",
    "id": "j0pqN1X1JTdX",
    "outputId": "5baeb37f-cc4b-4844-d227-4c66a75c558d"
   },
   "outputs": [
    {
     "data": {
      "text/plain": [
       "array([[1., 1.],\n",
       "       [1., 1.],\n",
       "       [1., 1.]])"
      ]
     },
     "execution_count": 203,
     "metadata": {
      "tags": []
     },
     "output_type": "execute_result"
    }
   ],
   "source": [
    "A = np.ones(shape=(3,2), dtype=np.float64)\n",
    "A"
   ]
  },
  {
   "cell_type": "code",
   "execution_count": 0,
   "metadata": {
    "colab": {},
    "colab_type": "code",
    "id": "mHLCzgmGJTda",
    "outputId": "85b79c60-7467-4088-fa40-3f21366d1e92"
   },
   "outputs": [
    {
     "data": {
      "text/plain": [
       "array([[3., 3.],\n",
       "       [3., 3.],\n",
       "       [3., 3.]])"
      ]
     },
     "execution_count": 204,
     "metadata": {
      "tags": []
     },
     "output_type": "execute_result"
    }
   ],
   "source": [
    "A = np.full(shape=(3,2), fill_value=3., dtype=np.float64)\n",
    "A"
   ]
  },
  {
   "cell_type": "markdown",
   "metadata": {
    "colab_type": "text",
    "id": "RR8tPo1EJTdi"
   },
   "source": [
    "### (2) 똑같은 Shape의 Array, &nbsp; `np.zeros_like()`&nbsp;, &nbsp;`np.ones_like()`&nbsp;, &nbsp;`np.full_like`&nbsp;\n",
    "다른 Numpy Array의 Shape와 동일한 Shape를 갖는 Numpy Array를 생성할 수 있습니다."
   ]
  },
  {
   "cell_type": "code",
   "execution_count": 0,
   "metadata": {
    "colab": {
     "base_uri": "https://localhost:8080/",
     "height": 33
    },
    "colab_type": "code",
    "executionInfo": {
     "elapsed": 823,
     "status": "ok",
     "timestamp": 1551246684793,
     "user": {
      "displayName": "최선열",
      "photoUrl": "",
      "userId": "00663027191814710813"
     },
     "user_tz": -540
    },
    "id": "iJhXJer8JTdj",
    "outputId": "ee54ca08-5dcc-44f8-f139-1a6a6311b00a"
   },
   "outputs": [
    {
     "data": {
      "text/plain": [
       "array([1, 2, 3, 4, 5])"
      ]
     },
     "execution_count": 2,
     "metadata": {
      "tags": []
     },
     "output_type": "execute_result"
    }
   ],
   "source": [
    "# Shape를 본 딸 Numpy Array : A 생성\n",
    "A = np.array([1,2,3,4,5])\n",
    "A"
   ]
  },
  {
   "cell_type": "code",
   "execution_count": 0,
   "metadata": {
    "colab": {
     "base_uri": "https://localhost:8080/",
     "height": 33
    },
    "colab_type": "code",
    "executionInfo": {
     "elapsed": 692,
     "status": "ok",
     "timestamp": 1551246711813,
     "user": {
      "displayName": "최선열",
      "photoUrl": "",
      "userId": "00663027191814710813"
     },
     "user_tz": -540
    },
    "id": "lShdPcX5JTdl",
    "outputId": "a01ae018-83f8-4559-a623-ec1ecc35617d"
   },
   "outputs": [
    {
     "data": {
      "text/plain": [
       "array([0, 0, 0, 0, 0])"
      ]
     },
     "execution_count": 3,
     "metadata": {
      "tags": []
     },
     "output_type": "execute_result"
    }
   ],
   "source": [
    "np.zeros_like(A, dtype=np.int) # 1. A와 같은 Shape이면서 모든 요소의 값이 0 인 Numpy Array 생성"
   ]
  },
  {
   "cell_type": "code",
   "execution_count": 0,
   "metadata": {
    "colab": {},
    "colab_type": "code",
    "id": "haaqzV67JTdn",
    "outputId": "ba5f3ccb-f476-40ed-dd40-8d8b6b102a8b"
   },
   "outputs": [
    {
     "data": {
      "text/plain": [
       "array([1, 1, 1, 1, 1])"
      ]
     },
     "execution_count": 207,
     "metadata": {
      "tags": []
     },
     "output_type": "execute_result"
    }
   ],
   "source": [
    "np.ones_like(A, dtype=np.int) # 2. A와 같은 Shape이면서 모든 요소의 값이 1 인 Numpy Array 생성 "
   ]
  },
  {
   "cell_type": "code",
   "execution_count": 0,
   "metadata": {
    "colab": {},
    "colab_type": "code",
    "id": "5KJnr4IQJTdp",
    "outputId": "e2b51270-11c6-40ea-d419-6ed3c01c0395"
   },
   "outputs": [
    {
     "data": {
      "text/plain": [
       "array([13, 13, 13, 13, 13])"
      ]
     },
     "execution_count": 209,
     "metadata": {
      "tags": []
     },
     "output_type": "execute_result"
    }
   ],
   "source": [
    "np.full_like(A, fill_value=13, dtype=np.int) # 3. A와 같은 Shape이면서 모든 요소의 값이 13 인 Numpy Array 생성"
   ]
  },
  {
   "cell_type": "markdown",
   "metadata": {
    "colab_type": "text",
    "id": "BLH0P5TxJTds"
   },
   "source": [
    "### (3) 같은 간격의 Array, &nbsp; `np.linspace()`&nbsp; , &nbsp; `np.arange()`\n",
    "\n",
    "[1,2,3,4,5,6,7,8,9,10,...] 이런 식으로 등간격으로 배치된 Array를 만들고 싶을 때, 우리는 간단히 위의 메소드를 통해 만들 수 있습니다."
   ]
  },
  {
   "cell_type": "code",
   "execution_count": 0,
   "metadata": {
    "colab": {},
    "colab_type": "code",
    "id": "vmlAdrogJTdt",
    "outputId": "c0b9dc0a-61e2-43f4-e8fb-af7c7f717c64"
   },
   "outputs": [
    {
     "data": {
      "text/plain": [
       "array([ 1. ,  1.5,  2. ,  2.5,  3. ,  3.5,  4. ,  4.5,  5. ,  5.5,  6. ,\n",
       "        6.5,  7. ,  7.5,  8. ,  8.5,  9. ,  9.5, 10. ])"
      ]
     },
     "execution_count": 217,
     "metadata": {
      "tags": []
     },
     "output_type": "execute_result"
    }
   ],
   "source": [
    "np.linspace(start=1,stop=10, num=19) # 1부터 10까지 19개의 요소를 등간격으로 쪼개서 생성"
   ]
  },
  {
   "cell_type": "code",
   "execution_count": 0,
   "metadata": {
    "colab": {},
    "colab_type": "code",
    "id": "nt5clvfEJTdy",
    "outputId": "7591fbc0-72f9-417a-b995-e1cd32ad58d9"
   },
   "outputs": [
    {
     "data": {
      "text/plain": [
       "array([1. , 1.5, 2. , 2.5, 3. , 3.5, 4. , 4.5, 5. , 5.5, 6. , 6.5, 7. ,\n",
       "       7.5, 8. , 8.5, 9. , 9.5])"
      ]
     },
     "execution_count": 219,
     "metadata": {
      "tags": []
     },
     "output_type": "execute_result"
    }
   ],
   "source": [
    "np.arange(1,10,0.5) # 1부터 10까지 0.5 step(간격)으로 더하여 요소를 생성"
   ]
  },
  {
   "cell_type": "markdown",
   "metadata": {
    "colab_type": "text",
    "id": "QBuIVYbMJTd1"
   },
   "source": [
    "* `np.linspace`는 **<몇 개의 숫자로 등간격으로 나눌까?>를 기준**으로 array를 만들고,\n",
    "* `np.arange`는 **<간격을 얼마로 나눌까?>를 기준**으로 array를 만듭니다.**"
   ]
  },
  {
   "cell_type": "markdown",
   "metadata": {
    "colab_type": "text",
    "id": "0w7BbDHnJTd2"
   },
   "source": [
    "#  \n",
    "\n",
    "---\n",
    "\n",
    "    Copyright(c) 2019 by Public AI. All rights reserved.\n",
    "    Writen by PAI, SangJae Kang ( rocketgrowthsj@publicai.co.kr )  last updated on 2019/03/04\n",
    "\n",
    "\n",
    "---"
   ]
  }
 ],
 "metadata": {
  "colab": {
   "collapsed_sections": [
    "rxCrKYzVJTY4",
    "3_pFKUXOJTZJ",
    "aIgW-QwyJTZc",
    "PYNPvYTLJTZt",
    "RzCUGXkwJTaF",
    "Ot3FlsxDJTaU",
    "jkvN1lGnJTag",
    "HzIQi04rJTak",
    "DpXYaAyGJTa7",
    "hTtaYiYNJTbN",
    "gt1C9mXmJTbY",
    "0nQWNSoEJTbs",
    "dKGJATBTJTb0",
    "QyiuDMSoJTcN",
    "0hoTKsdaJTcd",
    "6SFPWskvJTdT",
    "RR8tPo1EJTdi",
    "BLH0P5TxJTds"
   ],
   "name": "2_Numpy의 구조와 생성.ipynb",
   "provenance": [],
   "toc_visible": true,
   "version": "0.3.2"
  },
  "kernelspec": {
   "display_name": "Python 3",
   "language": "python",
   "name": "python3"
  },
  "language_info": {
   "codemirror_mode": {
    "name": "ipython",
    "version": 3
   },
   "file_extension": ".py",
   "mimetype": "text/x-python",
   "name": "python",
   "nbconvert_exporter": "python",
   "pygments_lexer": "ipython3",
   "version": "3.6.5"
  }
 },
 "nbformat": 4,
 "nbformat_minor": 1
}
