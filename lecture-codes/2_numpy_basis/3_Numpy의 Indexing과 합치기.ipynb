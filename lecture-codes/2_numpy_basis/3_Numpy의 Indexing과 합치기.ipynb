{
 "cells": [
  {
   "cell_type": "markdown",
   "metadata": {
    "colab_type": "text",
    "id": "gfmhEM-5jS5j"
   },
   "source": [
    " ╔══<i><b>Alai-DeepLearning</b></i>═════════════════════════╗\n",
    "###  &nbsp;&nbsp; **✎&nbsp;&nbsp;Week 2. Numpy Basis**\n",
    "# Section 3. Numpy의 indexing 과 합치기\n",
    "\n",
    "\n",
    "### _Objective_\n",
    "1. numpy array에서 값에 접근하는 방식인 indexing에 대해 배워봅니다 <br>\n",
    "2. numpy array을 합치거나 쌓는 방식인 stack & concatenate에 대해 배워봅니다. <br>\n",
    "\n",
    "╚══════════════════════════════════════╝"
   ]
  },
  {
   "cell_type": "code",
   "execution_count": 1,
   "metadata": {
    "colab": {},
    "colab_type": "code",
    "id": "XkK-MjMxjS5k"
   },
   "outputs": [],
   "source": [
    "import numpy as np"
   ]
  },
  {
   "cell_type": "markdown",
   "metadata": {
    "colab_type": "text",
    "id": "P7pueSi-lge5"
   },
   "source": [
    "## 예제 데이터 ) 중간고사, 학생들의 국영수사과 성적표\n",
    "\n",
    "┌─<i> ✍︎ Example  </i>──────────────────────────────────────────────────────────────────┐ <br>\n",
    "\n",
    "&nbsp;&nbsp;&nbsp;&nbsp;학생들의 국영수사과 성적표를 Numpy Array로 저장한 후 다양하게 활용해보겠습니다.<br>\n",
    "\n",
    "\n",
    "| 학생 번호 | 국어 | 영어 | 수학 | 사회 | 과학 |\n",
    "|  ----   | --- |---| --- | --- | --- |\n",
    "|0 |80 |92 |70 | 65 | 92 |\n",
    "|1 |91 |75 |90 | 68 | 85 | \n",
    "|2 |86 |76 |42 | 72 | 88 |\n",
    "|3 |77 |92 |52 | 60 | 80 |\n",
    "|4 |75 |85 |85 | 92 | 95 |\n",
    "|5 |96 |90 |95 | 81 | 72 |"
   ]
  },
  {
   "cell_type": "code",
   "execution_count": 2,
   "metadata": {
    "colab": {
     "base_uri": "https://localhost:8080/",
     "height": 115
    },
    "colab_type": "code",
    "executionInfo": {
     "elapsed": 394,
     "status": "ok",
     "timestamp": 1551674327102,
     "user": {
      "displayName": "최선열",
      "photoUrl": "",
      "userId": "00663027191814710813"
     },
     "user_tz": -540
    },
    "id": "WP3XnugUlo6d",
    "outputId": "57af637b-8218-496a-b953-aa728e6983af"
   },
   "outputs": [
    {
     "data": {
      "text/plain": [
       "array([[80, 92, 70, 65, 92],\n",
       "       [91, 75, 90, 68, 85],\n",
       "       [86, 76, 42, 72, 88],\n",
       "       [77, 92, 52, 60, 80],\n",
       "       [75, 85, 85, 92, 95],\n",
       "       [96, 90, 95, 81, 72]])"
      ]
     },
     "execution_count": 2,
     "metadata": {},
     "output_type": "execute_result"
    }
   ],
   "source": [
    "scores = np.array([\n",
    "    [80,92,70,65,92],\n",
    "    [91,75,90,68,85],\n",
    "    [86,76,42,72,88],\n",
    "    [77,92,52,60,80],\n",
    "    [75,85,85,92,95],\n",
    "    [96,90,95,81,72]\n",
    "])\n",
    "scores"
   ]
  },
  {
   "cell_type": "markdown",
   "metadata": {
    "colab_type": "text",
    "id": "Ff62m0Nn1Znx"
   },
   "source": [
    "&nbsp;&nbsp;&nbsp;&nbsp;&nbsp;&nbsp;&nbsp;&nbsp; *예제를 통해 어떤식으로 값을 가져올 수 있는지 파악해봅시다.*"
   ]
  },
  {
   "cell_type": "markdown",
   "metadata": {
    "colab_type": "text",
    "id": "PoLJfJEwltU0"
   },
   "source": [
    "##  \n",
    "\n",
    "└─────────────────────────────────────────────────────────────────────────┘<br>"
   ]
  },
  {
   "cell_type": "markdown",
   "metadata": {
    "colab_type": "text",
    "id": "Rg9TEPR8jS5o"
   },
   "source": [
    "<br><br>\n",
    "\n",
    "# \\[ 1. Numpy의 Indexing \\]\n",
    "\n",
    "----\n",
    "\n",
    "----\n",
    "\n",
    "> *`np.array`는 다양한 방법으로 내부의 값을 가져올 수 있습니다.*<br>\n",
    "> *예제를 통해 다양한 형태를 배워봅시다.*"
   ]
  },
  {
   "cell_type": "markdown",
   "metadata": {
    "colab_type": "text",
    "id": "Z8GYFD3WlnSN"
   },
   "source": [
    "#### **데이터 ) 중간고사, 학생들의 국영수사과 성적표**"
   ]
  },
  {
   "cell_type": "markdown",
   "metadata": {
    "colab_type": "text",
    "id": "vjgIhpLlmukD"
   },
   "source": [
    "| 학생 번호 | 국어 | 영어 | 수학 | 사회 | 과학 |\n",
    "|  ----   | --- |---| --- | --- | --- |\n",
    "|0 |80 |92 |70 | 65 | 92 |\n",
    "|1 |91 |75 |90 | 68 | 85 | \n",
    "|2 |86 |76 |42 | 72 | 88 |\n",
    "|3 |77 |92 |52 | 60 | 80 |\n",
    "|4 |75 |85 |85 | 92 | 95 |\n",
    "|5 |96 |90 |95 | 81 | 72 |\n",
    "\n"
   ]
  },
  {
   "cell_type": "markdown",
   "metadata": {
    "colab_type": "text",
    "id": "Arf8vqDqjS5x"
   },
   "source": [
    "<br>\n",
    "\n",
    "## 1. 특정 위치의 원소 또는 축 가져오기\n",
    "\n",
    "---\n",
    "\n",
    "+ 우리는 원하는 위치값(Index)을 가지고 해당 위치에 있는 원소의 값을 가져오거나\n",
    "+ 축을 기준으로 원하는 위치의 행 또는 열을 Numpy Array 형태로 가져올 수 있습니다.\n",
    "\n"
   ]
  },
  {
   "cell_type": "markdown",
   "metadata": {
    "colab_type": "text",
    "id": "7o6fruwGjS5y"
   },
   "source": [
    "### (1) 특정 위치의 원소 가져오기\n",
    "\n",
    "indexing 의 \\[ , \\]에서 <br>\n",
    "&nbsp;&nbsp; \\- 첫번째 값은 \"행의 Index\"<br>\n",
    "&nbsp;&nbsp; \\- 두번째 값은 \"열의 Index\"<br>\n",
    "을 의미합니다."
   ]
  },
  {
   "cell_type": "markdown",
   "metadata": {
    "colab_type": "text",
    "id": "lHXmsCgXjS5z"
   },
   "source": [
    "⓵ 학생 번호 2번의 국어 성적을 가져오기"
   ]
  },
  {
   "cell_type": "code",
   "execution_count": 3,
   "metadata": {
    "cellView": "both",
    "colab": {
     "base_uri": "https://localhost:8080/",
     "height": 33
    },
    "colab_type": "code",
    "executionInfo": {
     "elapsed": 684,
     "status": "ok",
     "timestamp": 1551674329123,
     "user": {
      "displayName": "최선열",
      "photoUrl": "",
      "userId": "00663027191814710813"
     },
     "user_tz": -540
    },
    "id": "4VDSeR7jjS50",
    "outputId": "ec26255a-793f-4295-9617-79c62d490c10"
   },
   "outputs": [
    {
     "data": {
      "text/plain": [
       "86"
      ]
     },
     "execution_count": 3,
     "metadata": {},
     "output_type": "execute_result"
    }
   ],
   "source": [
    "scores[2,0] # 국어의 열 index = 0"
   ]
  },
  {
   "cell_type": "markdown",
   "metadata": {
    "colab_type": "text",
    "id": "0VK3VBffjS56"
   },
   "source": [
    "<br>\n",
    "⓶ 학생 번호 3번의 수학 성적을 가져오기"
   ]
  },
  {
   "cell_type": "code",
   "execution_count": 4,
   "metadata": {
    "colab": {
     "base_uri": "https://localhost:8080/",
     "height": 33
    },
    "colab_type": "code",
    "executionInfo": {
     "elapsed": 513,
     "status": "ok",
     "timestamp": 1551674329403,
     "user": {
      "displayName": "최선열",
      "photoUrl": "",
      "userId": "00663027191814710813"
     },
     "user_tz": -540
    },
    "id": "O513g6Q9jS57",
    "outputId": "1bbcdadd-b9ca-4f25-d170-28e80f496056"
   },
   "outputs": [
    {
     "data": {
      "text/plain": [
       "52"
      ]
     },
     "execution_count": 4,
     "metadata": {},
     "output_type": "execute_result"
    }
   ],
   "source": [
    "scores[3,2] # 수학의 열 index = 2"
   ]
  },
  {
   "cell_type": "markdown",
   "metadata": {
    "colab_type": "text",
    "id": "t6X3h8PMjS6B"
   },
   "source": [
    "### (2) 특정 행 가져오기 "
   ]
  },
  {
   "cell_type": "markdown",
   "metadata": {
    "colab_type": "text",
    "id": "-kaIThtMjS6C"
   },
   "source": [
    "⓵ 학생 번호 1번의 전체 성적 가져오기"
   ]
  },
  {
   "cell_type": "code",
   "execution_count": 5,
   "metadata": {
    "colab": {
     "base_uri": "https://localhost:8080/",
     "height": 33
    },
    "colab_type": "code",
    "executionInfo": {
     "elapsed": 679,
     "status": "ok",
     "timestamp": 1551674330273,
     "user": {
      "displayName": "최선열",
      "photoUrl": "",
      "userId": "00663027191814710813"
     },
     "user_tz": -540
    },
    "id": "Vzf0EHEAjS6D",
    "outputId": "9762763b-f37f-4426-a497-06a52bf3b9ac"
   },
   "outputs": [
    {
     "data": {
      "text/plain": [
       "array([91, 75, 90, 68, 85])"
      ]
     },
     "execution_count": 5,
     "metadata": {},
     "output_type": "execute_result"
    }
   ],
   "source": [
    "scores[1]"
   ]
  },
  {
   "cell_type": "code",
   "execution_count": 6,
   "metadata": {
    "colab": {
     "base_uri": "https://localhost:8080/",
     "height": 33
    },
    "colab_type": "code",
    "executionInfo": {
     "elapsed": 524,
     "status": "ok",
     "timestamp": 1551674330274,
     "user": {
      "displayName": "최선열",
      "photoUrl": "",
      "userId": "00663027191814710813"
     },
     "user_tz": -540
    },
    "id": "5OKss3pVjS6H",
    "outputId": "f7ad2277-99a3-4f06-91ce-56cfcac0aa33"
   },
   "outputs": [
    {
     "data": {
      "text/plain": [
       "array([91, 75, 90, 68, 85])"
      ]
     },
     "execution_count": 6,
     "metadata": {},
     "output_type": "execute_result"
    }
   ],
   "source": [
    "scores[1,:] # 위는 아래와 동일합니다. "
   ]
  },
  {
   "cell_type": "markdown",
   "metadata": {
    "colab_type": "text",
    "id": "O9A1alQoq1pY"
   },
   "source": [
    "여기서, : 는 \"전부\"를 의미합니다. "
   ]
  },
  {
   "cell_type": "markdown",
   "metadata": {
    "colab_type": "text",
    "id": "SDHNSIFjjS6M"
   },
   "source": [
    "### (3) 특정 열 가져오기 "
   ]
  },
  {
   "cell_type": "markdown",
   "metadata": {
    "colab_type": "text",
    "id": "8bhgrD5kjS6N"
   },
   "source": [
    "⓵ 전체 국어 성적 가져오기"
   ]
  },
  {
   "cell_type": "code",
   "execution_count": 7,
   "metadata": {
    "colab": {
     "base_uri": "https://localhost:8080/",
     "height": 33
    },
    "colab_type": "code",
    "executionInfo": {
     "elapsed": 894,
     "status": "ok",
     "timestamp": 1551674331439,
     "user": {
      "displayName": "최선열",
      "photoUrl": "",
      "userId": "00663027191814710813"
     },
     "user_tz": -540
    },
    "id": "RaUVY69ijS6O",
    "outputId": "a7e33813-12f9-495f-a500-82d0eb9c8f60"
   },
   "outputs": [
    {
     "data": {
      "text/plain": [
       "array([80, 91, 86, 77, 75, 96])"
      ]
     },
     "execution_count": 7,
     "metadata": {},
     "output_type": "execute_result"
    }
   ],
   "source": [
    "scores[:,0] # 전체 국어 성적.  "
   ]
  },
  {
   "cell_type": "markdown",
   "metadata": {
    "colab_type": "text",
    "id": "YUTyJ6ijjS6S"
   },
   "source": [
    "<br>\n",
    "\n",
    "## 2. 특정 범위만 가져오기\n",
    "\n",
    "---\n",
    "\n",
    "* `np.array`는 특정 부분을 범위로 지정해서 가져올 수 있습니다."
   ]
  },
  {
   "cell_type": "markdown",
   "metadata": {
    "colab_type": "text",
    "id": "FRd1gBC_jS6T"
   },
   "source": [
    "### (1) slice 방식으로 가져오기"
   ]
  },
  {
   "cell_type": "markdown",
   "metadata": {
    "colab_type": "text",
    "id": "MbW28JW2jS6U"
   },
   "source": [
    " ⓵ 학생 번호 1번부터 4번까지의 전 과목 성적 가져오기"
   ]
  },
  {
   "cell_type": "code",
   "execution_count": 8,
   "metadata": {
    "colab": {
     "base_uri": "https://localhost:8080/",
     "height": 82
    },
    "colab_type": "code",
    "executionInfo": {
     "elapsed": 410,
     "status": "ok",
     "timestamp": 1551674331733,
     "user": {
      "displayName": "최선열",
      "photoUrl": "",
      "userId": "00663027191814710813"
     },
     "user_tz": -540
    },
    "id": "G5z85owojS6U",
    "outputId": "6881718f-6080-4979-b10f-e8d1e35d0c64"
   },
   "outputs": [
    {
     "data": {
      "text/plain": [
       "array([[91, 75, 90, 68, 85],\n",
       "       [86, 76, 42, 72, 88],\n",
       "       [77, 92, 52, 60, 80],\n",
       "       [75, 85, 85, 92, 95]])"
      ]
     },
     "execution_count": 8,
     "metadata": {},
     "output_type": "execute_result"
    }
   ],
   "source": [
    "scores[1:5] # 1<=학생번호<4 까지의 값을 가져올 수 있음"
   ]
  },
  {
   "cell_type": "markdown",
   "metadata": {
    "colab_type": "text",
    "id": "n_vEBYiKjS6Y"
   },
   "source": [
    "<br><br>\n",
    "⓶  홀수 번째 학생의 전 과목 성적 가져오기"
   ]
  },
  {
   "cell_type": "code",
   "execution_count": 9,
   "metadata": {
    "colab": {
     "base_uri": "https://localhost:8080/",
     "height": 66
    },
    "colab_type": "code",
    "executionInfo": {
     "elapsed": 434,
     "status": "ok",
     "timestamp": 1551674332126,
     "user": {
      "displayName": "최선열",
      "photoUrl": "",
      "userId": "00663027191814710813"
     },
     "user_tz": -540
    },
    "id": "Ewj3J2awjS6a",
    "outputId": "905244b3-f5dd-4f7b-bf7f-be5c7c23aeac"
   },
   "outputs": [
    {
     "data": {
      "text/plain": [
       "array([[91, 75, 90, 68, 85],\n",
       "       [77, 92, 52, 60, 80],\n",
       "       [96, 90, 95, 81, 72]])"
      ]
     },
     "execution_count": 9,
     "metadata": {},
     "output_type": "execute_result"
    }
   ],
   "source": [
    "scores[1:6:2] # 1,3,5 식으로 학생 번호를 지칭"
   ]
  },
  {
   "cell_type": "code",
   "execution_count": 10,
   "metadata": {
    "colab": {
     "base_uri": "https://localhost:8080/",
     "height": 66
    },
    "colab_type": "code",
    "executionInfo": {
     "elapsed": 469,
     "status": "ok",
     "timestamp": 1551674332381,
     "user": {
      "displayName": "최선열",
      "photoUrl": "",
      "userId": "00663027191814710813"
     },
     "user_tz": -540
    },
    "id": "u5Azd6bjjS6d",
    "outputId": "5a657cc2-89cc-4ac9-8d3d-41b11f5f5312"
   },
   "outputs": [
    {
     "data": {
      "text/plain": [
       "array([[91, 75, 90, 68, 85],\n",
       "       [77, 92, 52, 60, 80],\n",
       "       [96, 90, 95, 81, 72]])"
      ]
     },
     "execution_count": 10,
     "metadata": {},
     "output_type": "execute_result"
    }
   ],
   "source": [
    "scores[1::2] # 끝까지 지칭하는 경우, 끝값(6)은 생략 가능"
   ]
  },
  {
   "cell_type": "markdown",
   "metadata": {
    "colab_type": "text",
    "id": "Y0HRVpFVjS6l"
   },
   "source": [
    "<br><br>\n",
    "⓷ 전체 학생의 국영수 성적만 가져오기"
   ]
  },
  {
   "cell_type": "code",
   "execution_count": 11,
   "metadata": {
    "colab": {
     "base_uri": "https://localhost:8080/",
     "height": 115
    },
    "colab_type": "code",
    "executionInfo": {
     "elapsed": 383,
     "status": "ok",
     "timestamp": 1551674332681,
     "user": {
      "displayName": "최선열",
      "photoUrl": "",
      "userId": "00663027191814710813"
     },
     "user_tz": -540
    },
    "id": "8dv_f1RtjS6m",
    "outputId": "fbfbc8cf-c383-49d7-d84d-cad564a16b40"
   },
   "outputs": [
    {
     "data": {
      "text/plain": [
       "array([[80, 92, 70],\n",
       "       [91, 75, 90],\n",
       "       [86, 76, 42],\n",
       "       [77, 92, 52],\n",
       "       [75, 85, 85],\n",
       "       [96, 90, 95]])"
      ]
     },
     "execution_count": 11,
     "metadata": {},
     "output_type": "execute_result"
    }
   ],
   "source": [
    "scores[:,0:3] # 열 방향도 동일한 방식으로 지정할 수 있음"
   ]
  },
  {
   "cell_type": "code",
   "execution_count": 12,
   "metadata": {
    "colab": {
     "base_uri": "https://localhost:8080/",
     "height": 115
    },
    "colab_type": "code",
    "executionInfo": {
     "elapsed": 478,
     "status": "ok",
     "timestamp": 1551674332982,
     "user": {
      "displayName": "최선열",
      "photoUrl": "",
      "userId": "00663027191814710813"
     },
     "user_tz": -540
    },
    "id": "UP5WE7F4jS6q",
    "outputId": "42d89c3f-b1d0-4b5d-9801-71a35b620a51"
   },
   "outputs": [
    {
     "data": {
      "text/plain": [
       "array([[80, 92, 70],\n",
       "       [91, 75, 90],\n",
       "       [86, 76, 42],\n",
       "       [77, 92, 52],\n",
       "       [75, 85, 85],\n",
       "       [96, 90, 95]])"
      ]
     },
     "execution_count": 12,
     "metadata": {},
     "output_type": "execute_result"
    }
   ],
   "source": [
    "scores[:,:3] # 시작이 0인 경우 생략 가능"
   ]
  },
  {
   "cell_type": "markdown",
   "metadata": {
    "colab_type": "text",
    "id": "FnMnGRbLtvAM"
   },
   "source": [
    "<br><br>"
   ]
  },
  {
   "cell_type": "markdown",
   "metadata": {
    "colab_type": "text",
    "id": "3lmxcJ9pjS6s"
   },
   "source": [
    "### (2) list 방식으로 가져오기"
   ]
  },
  {
   "cell_type": "markdown",
   "metadata": {
    "colab_type": "text",
    "id": "Y7wgx6aLjS6t"
   },
   "source": [
    "⓵ 학생 번호 1번, 3번, 4번의  전 과목 성적 가져오기"
   ]
  },
  {
   "cell_type": "code",
   "execution_count": 13,
   "metadata": {
    "colab": {
     "base_uri": "https://localhost:8080/",
     "height": 66
    },
    "colab_type": "code",
    "executionInfo": {
     "elapsed": 541,
     "status": "ok",
     "timestamp": 1551674333851,
     "user": {
      "displayName": "최선열",
      "photoUrl": "",
      "userId": "00663027191814710813"
     },
     "user_tz": -540
    },
    "id": "0Z_E7n5vjS6u",
    "outputId": "d0349dd5-59a5-4d19-b7b8-8b4c6f4b274e"
   },
   "outputs": [
    {
     "data": {
      "text/plain": [
       "array([[91, 75, 90, 68, 85],\n",
       "       [77, 92, 52, 60, 80],\n",
       "       [75, 85, 85, 92, 95]])"
      ]
     },
     "execution_count": 13,
     "metadata": {},
     "output_type": "execute_result"
    }
   ],
   "source": [
    "scores[[1,3,4]] # 직접 학생 번호들을 list에 담아서 지칭할 수 있음"
   ]
  },
  {
   "cell_type": "markdown",
   "metadata": {
    "colab_type": "text",
    "id": "dEUKlFVUjS6z"
   },
   "source": [
    "<br><br>\n",
    "⓶ 수학과 과학의 전 과목 성적 가져오기"
   ]
  },
  {
   "cell_type": "code",
   "execution_count": 14,
   "metadata": {
    "colab": {
     "base_uri": "https://localhost:8080/",
     "height": 115
    },
    "colab_type": "code",
    "executionInfo": {
     "elapsed": 480,
     "status": "ok",
     "timestamp": 1551674334228,
     "user": {
      "displayName": "최선열",
      "photoUrl": "",
      "userId": "00663027191814710813"
     },
     "user_tz": -540
    },
    "id": "xMC6oEQ8jS60",
    "outputId": "38832aa9-e567-448b-b8d2-94f383f662dc"
   },
   "outputs": [
    {
     "data": {
      "text/plain": [
       "array([[70, 92],\n",
       "       [90, 85],\n",
       "       [42, 88],\n",
       "       [52, 80],\n",
       "       [85, 95],\n",
       "       [95, 72]])"
      ]
     },
     "execution_count": 14,
     "metadata": {},
     "output_type": "execute_result"
    }
   ],
   "source": [
    "scores[:,[2,4]] "
   ]
  },
  {
   "cell_type": "code",
   "execution_count": 15,
   "metadata": {
    "colab": {
     "base_uri": "https://localhost:8080/",
     "height": 115
    },
    "colab_type": "code",
    "executionInfo": {
     "elapsed": 507,
     "status": "ok",
     "timestamp": 1551674334464,
     "user": {
      "displayName": "최선열",
      "photoUrl": "",
      "userId": "00663027191814710813"
     },
     "user_tz": -540
    },
    "id": "O1MS_8FzjS63",
    "outputId": "d36a1383-0134-4033-9cd3-239d06d795cb"
   },
   "outputs": [
    {
     "data": {
      "text/plain": [
       "array([[92, 70],\n",
       "       [85, 90],\n",
       "       [88, 42],\n",
       "       [80, 52],\n",
       "       [95, 85],\n",
       "       [72, 95]])"
      ]
     },
     "execution_count": 15,
     "metadata": {},
     "output_type": "execute_result"
    }
   ],
   "source": [
    "scores[:,[4,2]] # 꼭 오름차순으로 가져올 필요 없이, 순서를 바꿀 수 있다. "
   ]
  },
  {
   "cell_type": "markdown",
   "metadata": {
    "colab_type": "text",
    "id": "ndOiTdLQjS65"
   },
   "source": [
    "### (3) 조건문으로 가져오기\n",
    "\n",
    "`np.array`는 조건문으로 특정값을 만족하는 index만 가져올 수 있습니다."
   ]
  },
  {
   "cell_type": "markdown",
   "metadata": {},
   "source": [
    "#### Numpy에서의 비교 연산자\n",
    "\n",
    "> np.array에 비교 연산자를 지정하면 모든 원소 별로 True, False 값을 반환합니다."
   ]
  },
  {
   "cell_type": "code",
   "execution_count": 16,
   "metadata": {},
   "outputs": [
    {
     "data": {
      "text/plain": [
       "array([80, 91, 86, 77, 75, 96])"
      ]
     },
     "execution_count": 16,
     "metadata": {},
     "output_type": "execute_result"
    }
   ],
   "source": [
    "language_score = scores[:,0]\n",
    "language_score"
   ]
  },
  {
   "cell_type": "code",
   "execution_count": 17,
   "metadata": {},
   "outputs": [
    {
     "data": {
      "text/plain": [
       "array([False,  True,  True, False, False,  True])"
      ]
     },
     "execution_count": 17,
     "metadata": {},
     "output_type": "execute_result"
    }
   ],
   "source": [
    "language_score > 80 # 각 원소별로 80보다 큰지 비교를 합니다."
   ]
  },
  {
   "cell_type": "code",
   "execution_count": 18,
   "metadata": {},
   "outputs": [
    {
     "data": {
      "text/plain": [
       "array([ True,  True,  True,  True,  True, False])"
      ]
     },
     "execution_count": 18,
     "metadata": {},
     "output_type": "execute_result"
    }
   ],
   "source": [
    "language_score < 95 # 각 원소별로 95보다 작은지 비교를 합니다."
   ]
  },
  {
   "cell_type": "code",
   "execution_count": 19,
   "metadata": {},
   "outputs": [
    {
     "data": {
      "text/plain": [
       "array([False,  True,  True, False, False, False])"
      ]
     },
     "execution_count": 19,
     "metadata": {},
     "output_type": "execute_result"
    }
   ],
   "source": [
    "# 두 조건문을 둘다 만족하는 경우는 & 연산자로 표현할 수 있습니다.\n",
    "(language_score > 80) & (language_score < 95) "
   ]
  },
  {
   "cell_type": "code",
   "execution_count": 20,
   "metadata": {},
   "outputs": [
    {
     "data": {
      "text/plain": [
       "array([ True,  True,  True,  True,  True,  True])"
      ]
     },
     "execution_count": 20,
     "metadata": {},
     "output_type": "execute_result"
    }
   ],
   "source": [
    "# 두 조건문 중 하나라도 만족하는 경우는 | 연산자로 표현할 수 있습니다.\n",
    "(language_score > 80) | (language_score < 95)"
   ]
  },
  {
   "cell_type": "markdown",
   "metadata": {},
   "source": [
    "#### Numpy에서의 Where 연산자\n",
    "\n",
    "> np.array에서 조건에 맞는 원소의 위치를 알고 싶으면 where을 이용하면 됩니다."
   ]
  },
  {
   "cell_type": "code",
   "execution_count": 21,
   "metadata": {},
   "outputs": [
    {
     "data": {
      "text/plain": [
       "(array([1, 2, 5]),)"
      ]
     },
     "execution_count": 21,
     "metadata": {},
     "output_type": "execute_result"
    }
   ],
   "source": [
    "np.where(language_score > 80)"
   ]
  },
  {
   "cell_type": "markdown",
   "metadata": {},
   "source": [
    "where 메소드는 조건에 따라 값을 치환할 수 있습니다. `np.where(condition, [x, y])`로, 2번째 인자와 3번째 인자에 값이 입력되면, 조건에 맞는 경우 2번째 인자의 값으로, 조건에 안맞으면 3번째 인자의 값으로 대체됩니다."
   ]
  },
  {
   "cell_type": "code",
   "execution_count": 22,
   "metadata": {},
   "outputs": [
    {
     "data": {
      "text/plain": [
       "array(['불합격', '합격', '합격', '불합격', '불합격', '합격'], dtype='<U3')"
      ]
     },
     "execution_count": 22,
     "metadata": {},
     "output_type": "execute_result"
    }
   ],
   "source": [
    "np.where(language_score > 80, \"합격\",\"불합격\")"
   ]
  },
  {
   "cell_type": "markdown",
   "metadata": {
    "colab_type": "text",
    "id": "o5huO6pzjS66"
   },
   "source": [
    "<br>\n",
    "⓵ 국어 성적이 80점이 넘는 학생들의 성적을 가져오기\n",
    "\n"
   ]
  },
  {
   "cell_type": "code",
   "execution_count": 23,
   "metadata": {
    "colab": {
     "base_uri": "https://localhost:8080/",
     "height": 66
    },
    "colab_type": "code",
    "executionInfo": {
     "elapsed": 428,
     "status": "ok",
     "timestamp": 1551674335401,
     "user": {
      "displayName": "최선열",
      "photoUrl": "",
      "userId": "00663027191814710813"
     },
     "user_tz": -540
    },
    "id": "aAmYS0lpjS66",
    "outputId": "7ff5827e-d3fb-4315-81d7-cce2859bd9ec"
   },
   "outputs": [
    {
     "data": {
      "text/plain": [
       "array([[91, 75, 90, 68, 85],\n",
       "       [86, 76, 42, 72, 88],\n",
       "       [96, 90, 95, 81, 72]])"
      ]
     },
     "execution_count": 23,
     "metadata": {},
     "output_type": "execute_result"
    }
   ],
   "source": [
    "language_score = scores[:,0]\n",
    "scores[language_score > 80]"
   ]
  },
  {
   "cell_type": "markdown",
   "metadata": {
    "colab_type": "text",
    "id": "x0Cs-yyAjS7A"
   },
   "source": [
    "<br><br>\n",
    "⓶ 수학 및 과학 성적 모두 80점이 넘는 학생들의 성적 가져오기"
   ]
  },
  {
   "cell_type": "code",
   "execution_count": 24,
   "metadata": {
    "colab": {},
    "colab_type": "code",
    "id": "AoZ0QOJCjS7B"
   },
   "outputs": [],
   "source": [
    "math_score = scores[:,2]\n",
    "science_score = scores[:,4]"
   ]
  },
  {
   "cell_type": "code",
   "execution_count": 25,
   "metadata": {
    "colab": {
     "base_uri": "https://localhost:8080/",
     "height": 50
    },
    "colab_type": "code",
    "executionInfo": {
     "elapsed": 473,
     "status": "ok",
     "timestamp": 1551674336075,
     "user": {
      "displayName": "최선열",
      "photoUrl": "",
      "userId": "00663027191814710813"
     },
     "user_tz": -540
    },
    "id": "eNItC10ZjS7E",
    "outputId": "d064c0ff-0787-4fa3-b4fe-52edaef9f34b"
   },
   "outputs": [
    {
     "data": {
      "text/plain": [
       "array([[91, 75, 90, 68, 85],\n",
       "       [75, 85, 85, 92, 95]])"
      ]
     },
     "execution_count": 25,
     "metadata": {},
     "output_type": "execute_result"
    }
   ],
   "source": [
    "scores[(math_score>80) & (science_score>80)]"
   ]
  },
  {
   "cell_type": "markdown",
   "metadata": {
    "colab_type": "text",
    "id": "1Ehe2PixjS7H"
   },
   "source": [
    "# \\[ 2. Numpy의 Array를 합치는 방식(concatenate,stack) \\]\n",
    "\n",
    "----\n",
    "\n",
    "----\n",
    "\n",
    "> *`np.array`에 데이터를 추가하고, 합치고, 쌓는 방식인 concatenate, stack에 대해 배워봅니다. *"
   ]
  },
  {
   "cell_type": "markdown",
   "metadata": {
    "colab_type": "text",
    "id": "0rNUKnyijS7J"
   },
   "source": [
    "<br>\n",
    "## 1. np.concatenate()\n",
    "\n",
    "---\n",
    "\n",
    "* np.concatenate()는 특정 축 방향으로 데이터를 추가할 때 쓰입니다."
   ]
  },
  {
   "cell_type": "markdown",
   "metadata": {
    "colab_type": "text",
    "id": "Faj3mzS-2LlR"
   },
   "source": [
    "#### **데이터 ) 중간고사, 학생들의 국영수사과 성적표**"
   ]
  },
  {
   "cell_type": "markdown",
   "metadata": {
    "colab_type": "text",
    "id": "BU5LigJ82NDs"
   },
   "source": [
    "| 학생 번호 | 국어 | 영어 | 수학 | 사회 | 과학 |\n",
    "|  ----   | --- |---| --- | --- | --- |\n",
    "|0 |80 |92 |70 | 65 | 92 |\n",
    "|1 |91 |75 |90 | 68 | 85 | \n",
    "|2 |86 |76 |42 | 72 | 88 |\n",
    "|3 |77 |92 |52 | 60 | 80 |\n",
    "|4 |75 |85 |85 | 92 | 95 |\n",
    "|5 |96 |90 |95 | 81 | 72 |\n",
    "\n"
   ]
  },
  {
   "cell_type": "markdown",
   "metadata": {
    "colab_type": "text",
    "id": "M5lg56WYjS7J"
   },
   "source": [
    "### (1) 행방향으로 추가하기\n",
    "<br>\n",
    "\n",
    "✎ 6번 학생 성적이 아래와 같을 때, 성적표에 추가하기\n",
    "\n",
    "<br>\n",
    "\n",
    "|학생번호|국어|영어|수학|사회|과학|\n",
    "|---|---|---|---|---|---|\n",
    "|6|90|82|85|83|81|\n",
    "\n",
    "<br>"
   ]
  },
  {
   "cell_type": "code",
   "execution_count": 26,
   "metadata": {
    "colab": {},
    "colab_type": "code",
    "id": "RMTM_HUYjS7K"
   },
   "outputs": [],
   "source": [
    "new_score = np.array([90,82,85,83,81]) # 6번 학생의 성적"
   ]
  },
  {
   "cell_type": "code",
   "execution_count": 27,
   "metadata": {
    "colab": {
     "base_uri": "https://localhost:8080/",
     "height": 161
    },
    "colab_type": "code",
    "executionInfo": {
     "elapsed": 503,
     "status": "error",
     "timestamp": 1551674337931,
     "user": {
      "displayName": "최선열",
      "photoUrl": "",
      "userId": "00663027191814710813"
     },
     "user_tz": -540
    },
    "id": "HX1LMNNfjS7N",
    "outputId": "533030e6-021a-4637-c872-90467ff7d859"
   },
   "outputs": [
    {
     "ename": "ValueError",
     "evalue": "all the input arrays must have same number of dimensions",
     "output_type": "error",
     "traceback": [
      "\u001b[0;31m---------------------------------------------------------------------------\u001b[0m",
      "\u001b[0;31mValueError\u001b[0m                                Traceback (most recent call last)",
      "\u001b[0;32m<ipython-input-27-cd5117857245>\u001b[0m in \u001b[0;36m<module>\u001b[0;34m\u001b[0m\n\u001b[0;32m----> 1\u001b[0;31m \u001b[0mnp\u001b[0m\u001b[0;34m.\u001b[0m\u001b[0mconcatenate\u001b[0m\u001b[0;34m(\u001b[0m\u001b[0;34m[\u001b[0m\u001b[0mscores\u001b[0m\u001b[0;34m,\u001b[0m\u001b[0mnew_score\u001b[0m\u001b[0;34m]\u001b[0m\u001b[0;34m,\u001b[0m\u001b[0maxis\u001b[0m\u001b[0;34m=\u001b[0m\u001b[0;36m0\u001b[0m\u001b[0;34m)\u001b[0m\u001b[0;34m\u001b[0m\u001b[0m\n\u001b[0m",
      "\u001b[0;31mValueError\u001b[0m: all the input arrays must have same number of dimensions"
     ]
    }
   ],
   "source": [
    "np.concatenate([scores,new_score],axis=0)"
   ]
  },
  {
   "cell_type": "markdown",
   "metadata": {
    "colab_type": "text",
    "id": "L902RHaEjS7S"
   },
   "source": [
    "&nbsp;&nbsp;&nbsp;&nbsp;&nbsp;&nbsp;&nbsp;&nbsp;&nbsp;&nbsp;&nbsp;&nbsp;&nbsp;&nbsp;&nbsp;&nbsp;\n",
    "╔══════════════════════════════╗<br>\n",
    "&nbsp;&nbsp;&nbsp;&nbsp;&nbsp;&nbsp;&nbsp;&nbsp;&nbsp;&nbsp;&nbsp;&nbsp;&nbsp;&nbsp;&nbsp;&nbsp;\n",
    "║**&nbsp;&nbsp;\n",
    "⚠︎  붙이고자 하는 축방향 (0)을 제외하고, shape는 모두 같아야 합니다.** \n",
    "&nbsp;&nbsp;&nbsp;&nbsp;&nbsp;&nbsp;║<br>\n",
    "&nbsp;&nbsp;&nbsp;&nbsp;&nbsp;&nbsp;&nbsp;&nbsp;&nbsp;&nbsp;&nbsp;&nbsp;&nbsp;&nbsp;&nbsp;&nbsp;\n",
    "╚══════════════════════════════╝\n"
   ]
  },
  {
   "cell_type": "code",
   "execution_count": 28,
   "metadata": {
    "colab": {
     "base_uri": "https://localhost:8080/",
     "height": 50
    },
    "colab_type": "code",
    "executionInfo": {
     "elapsed": 374,
     "status": "ok",
     "timestamp": 1551674338260,
     "user": {
      "displayName": "최선열",
      "photoUrl": "",
      "userId": "00663027191814710813"
     },
     "user_tz": -540
    },
    "id": "4g_QCq6KjS7V",
    "outputId": "da791b50-dfac-4637-d82c-db7f5fdb0533"
   },
   "outputs": [
    {
     "name": "stdout",
     "output_type": "stream",
     "text": [
      "score 의 shape :  (6, 5)\n",
      "new score의 shape :  (5,)\n"
     ]
    }
   ],
   "source": [
    "print(\"score 의 shape : \", scores.shape)         # 기존 데이터 : 6명의 5개 과목에 대한 성적표 -> shape : (6,5)\n",
    "print(\"new score의 shape : \", new_score.shape) # 추가할 데이터 : 5개 과목에 대한 성적 나열    -> shape : (5,)"
   ]
  },
  {
   "cell_type": "code",
   "execution_count": 29,
   "metadata": {
    "colab": {
     "base_uri": "https://localhost:8080/",
     "height": 33
    },
    "colab_type": "code",
    "executionInfo": {
     "elapsed": 456,
     "status": "ok",
     "timestamp": 1551674338568,
     "user": {
      "displayName": "최선열",
      "photoUrl": "",
      "userId": "00663027191814710813"
     },
     "user_tz": -540
    },
    "id": "gDNN-gg1jS7Z",
    "outputId": "54066ec1-ed9a-4660-f6bc-1b07c481afff"
   },
   "outputs": [
    {
     "data": {
      "text/plain": [
       "array([[90, 82, 85, 83, 81]])"
      ]
     },
     "execution_count": 29,
     "metadata": {},
     "output_type": "execute_result"
    }
   ],
   "source": [
    "new_score = new_score.reshape(1,5)\n",
    "new_score # 추가할 데이터에서 각 행에 있던 성적 데이터를 각 열로 이동"
   ]
  },
  {
   "cell_type": "code",
   "execution_count": 30,
   "metadata": {
    "colab": {},
    "colab_type": "code",
    "id": "l5ZiI_kWjS7b",
    "outputId": "1910c3ea-4b6d-4f58-acc9-8b88a778d08e"
   },
   "outputs": [
    {
     "name": "stdout",
     "output_type": "stream",
     "text": [
      "score 의 shape :  (6, 5)\n",
      "new score의 shape :  (1, 5)\n"
     ]
    }
   ],
   "source": [
    "print(\"score 의 shape : \", scores.shape)         # 기존 데이터 : 6명의 5개 과목에 대한 성적표 -> shape : (6,5)\n",
    "print(\"new score의 shape : \", new_score.shape) # 추가할 데이터 : 1명의 5개 과목에 대한 성적  -> shape : (1,5)"
   ]
  },
  {
   "cell_type": "code",
   "execution_count": 31,
   "metadata": {
    "colab": {},
    "colab_type": "code",
    "id": "-SZZArUAjS7e",
    "outputId": "c42e5f7b-6a61-46a6-e7e1-6f7fc733ef93"
   },
   "outputs": [
    {
     "data": {
      "text/plain": [
       "array([[80, 92, 70, 65, 92],\n",
       "       [91, 75, 90, 68, 85],\n",
       "       [86, 76, 42, 72, 88],\n",
       "       [77, 92, 52, 60, 80],\n",
       "       [75, 85, 85, 92, 95],\n",
       "       [96, 90, 95, 81, 72],\n",
       "       [90, 82, 85, 83, 81]])"
      ]
     },
     "execution_count": 31,
     "metadata": {},
     "output_type": "execute_result"
    }
   ],
   "source": [
    "np.concatenate([scores,new_score],axis=0)"
   ]
  },
  {
   "cell_type": "markdown",
   "metadata": {
    "colab_type": "text",
    "id": "WCAeh_DDjS7h"
   },
   "source": [
    "### (2) 열방향으로 추가하기\n",
    "\n",
    "<br>\n",
    "\n",
    "✎ 코딩 수업의 성적이 아래와 같을 때, 성적표에 추가하기\n",
    "\n",
    "<br>\n",
    "\n",
    "| 학생 번호 | 0 | 1 | 2 | 3 | 4 | 5 |\n",
    "| ---| ---| ---| ---| ---| ---|\n",
    "| 코딩 성적 | 82 | 85 |91 | 65 | 72 | 55 |\n",
    "\n",
    "<br>"
   ]
  },
  {
   "cell_type": "code",
   "execution_count": 32,
   "metadata": {
    "colab": {},
    "colab_type": "code",
    "id": "AyF89I3-jS7h"
   },
   "outputs": [],
   "source": [
    "coding_scores = np.array([82,85,91,65,72,55])"
   ]
  },
  {
   "cell_type": "code",
   "execution_count": 33,
   "metadata": {
    "colab": {},
    "colab_type": "code",
    "id": "1pyB7uO5jS7l",
    "outputId": "609442fb-8fc2-4c87-f513-a083998f08c4"
   },
   "outputs": [
    {
     "name": "stdout",
     "output_type": "stream",
     "text": [
      "score 의 shape :  (6, 5)\n",
      "coding_scores shape :  (6,)\n"
     ]
    }
   ],
   "source": [
    "print(\"score 의 shape : \", scores.shape)               # 기존 데이터 : 6명의 5개 과목에 대한 성적표   -> shape : (6,5)\n",
    "print(\"coding_scores shape : \", coding_scores.shape) # 추가할 데이터 : 1개 과목에 대한 6명의 성적 나열 -> shape : (6,)"
   ]
  },
  {
   "cell_type": "code",
   "execution_count": 34,
   "metadata": {
    "colab": {},
    "colab_type": "code",
    "id": "YrXZUSiqjS7r"
   },
   "outputs": [],
   "source": [
    "coding_scores = coding_scores.reshape(6,1)"
   ]
  },
  {
   "cell_type": "code",
   "execution_count": 35,
   "metadata": {
    "colab": {},
    "colab_type": "code",
    "id": "6b5G63lUjS7u",
    "outputId": "03b8a8e1-1119-4b3a-860b-47822f2e808f"
   },
   "outputs": [
    {
     "name": "stdout",
     "output_type": "stream",
     "text": [
      "score 의 shape :  (6, 5)\n",
      "coding_scores shape :  (6, 1)\n"
     ]
    }
   ],
   "source": [
    "print(\"score 의 shape : \", scores.shape)               # 기존 데이터 : 6명의 5개 과목에 대한 성적표   -> shape : (6,5)\n",
    "print(\"coding_scores shape : \", coding_scores.shape) # 추가할 데이터 : 6명의 1개 과목에 대한 성적 나열 -> shape : (6,1)"
   ]
  },
  {
   "cell_type": "code",
   "execution_count": 36,
   "metadata": {
    "colab": {},
    "colab_type": "code",
    "id": "z7ht21Y5jS7y",
    "outputId": "6e4e6189-2d03-453c-eae2-f75334c95f54"
   },
   "outputs": [
    {
     "data": {
      "text/plain": [
       "array([[80, 92, 70, 65, 92, 82],\n",
       "       [91, 75, 90, 68, 85, 85],\n",
       "       [86, 76, 42, 72, 88, 91],\n",
       "       [77, 92, 52, 60, 80, 65],\n",
       "       [75, 85, 85, 92, 95, 72],\n",
       "       [96, 90, 95, 81, 72, 55]])"
      ]
     },
     "execution_count": 36,
     "metadata": {},
     "output_type": "execute_result"
    }
   ],
   "source": [
    "new_scores = np.concatenate([scores, coding_scores],axis=1)\n",
    "new_scores"
   ]
  },
  {
   "cell_type": "markdown",
   "metadata": {
    "colab_type": "text",
    "id": "Dx6QNt5ZjS76"
   },
   "source": [
    "<br>\n",
    "\n",
    "## 2. np.stack()\n",
    "\n",
    "---\n",
    "\n",
    "+ np.concatenate() 를 통해서 같은 차원 내에서 데이터를 덧붙이는 방법을 배웠습니다.<br>\n",
    "+ 이와 유사하지만, np.stack()은 특정 축 방향으로 데이터를 쌓을 때 쓰입니다.<br>\n",
    "+ 즉, np.stack()은 상위 차원을 하나 만들고, 각 Array를 요소로 가지게 됩니다."
   ]
  },
  {
   "cell_type": "markdown",
   "metadata": {
    "colab_type": "text",
    "id": "gTxVcqvt07py"
   },
   "source": [
    "#### **데이터 1) 중간고사, 학생들의 국영수사과 성적표**"
   ]
  },
  {
   "cell_type": "markdown",
   "metadata": {
    "colab_type": "text",
    "id": "eHBl-rLV1J4T"
   },
   "source": [
    "#####  \n",
    "\n",
    "| 학생 번호 | 국어 | 영어 | 수학 | 사회 | 과학 |\n",
    "|  ----   | --- |---| --- | --- | --- |\n",
    "|0 |80 |92 |70 | 65 | 92 |\n",
    "|1 |91 |75 |90 | 68 | 85 | \n",
    "|2 |86 |76 |42 | 72 | 88 |\n",
    "|3 |77 |92 |52 | 60 | 80 |\n",
    "|4 |75 |85 |85 | 92 | 95 |\n",
    "|5 |96 |90 |95 | 81 | 72 |\n",
    "\n"
   ]
  },
  {
   "cell_type": "markdown",
   "metadata": {
    "colab_type": "text",
    "id": "QqKuFJnMjS77"
   },
   "source": [
    "#### 데이터 2) 기말고사, 학생들의 국영수사과 성적표\n"
   ]
  },
  {
   "cell_type": "markdown",
   "metadata": {
    "colab_type": "text",
    "id": "TPXybu9J1uxs"
   },
   "source": [
    "| 학생 번호 | 국어 | 영어 | 수학 | 사회 | 과학 |\n",
    "|  ----   | --- |---| --- | --- | --- |\n",
    "|0 |85 |95 |90 | 66 | 93 |\n",
    "|1 |93 |70 |80 | 60 | 81 | \n",
    "|2 |89 |78 |55 | 75 | 80 |\n",
    "|3 |80 |94 |59 | 72 | 90 |\n",
    "|4 |70 |82 |81 | 95 | 72 |\n",
    "|5 |90 |76 |93 | 82 | 89 |"
   ]
  },
  {
   "cell_type": "code",
   "execution_count": 37,
   "metadata": {
    "colab": {},
    "colab_type": "code",
    "id": "XsKpLgJ7jS77"
   },
   "outputs": [],
   "source": [
    "final_scores = np.array([\n",
    "    [85,95,90,66,93],\n",
    "    [93,70,80,60,81],\n",
    "    [89,78,55,75,80],\n",
    "    [80,94,59,72,90],\n",
    "    [70,82,81,95,72],\n",
    "    [90,76,93,82,89]\n",
    "])"
   ]
  },
  {
   "cell_type": "markdown",
   "metadata": {
    "colab_type": "text",
    "id": "3Cggo6--jS7-"
   },
   "source": [
    "### (1) 첫번째 축으로 중간 고사와 기말 고사 성적을 쌓기"
   ]
  },
  {
   "cell_type": "code",
   "execution_count": 38,
   "metadata": {
    "colab": {
     "base_uri": "https://localhost:8080/",
     "height": 51
    },
    "colab_type": "code",
    "executionInfo": {
     "elapsed": 565,
     "status": "ok",
     "timestamp": 1551253256574,
     "user": {
      "displayName": "최선열",
      "photoUrl": "",
      "userId": "00663027191814710813"
     },
     "user_tz": -540
    },
    "id": "MdhciLep4zVX",
    "outputId": "39c74db0-03a2-4e50-bad3-0e146992d40c"
   },
   "outputs": [
    {
     "name": "stdout",
     "output_type": "stream",
     "text": [
      "scores의 shape :  (6, 5)\n",
      "final_scores의 shape :  (6, 5)\n"
     ]
    }
   ],
   "source": [
    "print(\"scores의 shape : \",scores.shape)\n",
    "print(\"final_scores의 shape : \",final_scores.shape)"
   ]
  },
  {
   "cell_type": "code",
   "execution_count": 39,
   "metadata": {
    "colab": {},
    "colab_type": "code",
    "id": "7xrDc28cjS7_"
   },
   "outputs": [],
   "source": [
    "all_scores = np.stack([scores, final_scores])"
   ]
  },
  {
   "cell_type": "code",
   "execution_count": 40,
   "metadata": {
    "colab": {
     "base_uri": "https://localhost:8080/",
     "height": 238
    },
    "colab_type": "code",
    "executionInfo": {
     "elapsed": 515,
     "status": "ok",
     "timestamp": 1551253227607,
     "user": {
      "displayName": "최선열",
      "photoUrl": "",
      "userId": "00663027191814710813"
     },
     "user_tz": -540
    },
    "id": "N3RrILhnjS8B",
    "outputId": "f4799896-14b4-4977-a340-72eb57ced939"
   },
   "outputs": [
    {
     "data": {
      "text/plain": [
       "array([[[80, 92, 70, 65, 92],\n",
       "        [91, 75, 90, 68, 85],\n",
       "        [86, 76, 42, 72, 88],\n",
       "        [77, 92, 52, 60, 80],\n",
       "        [75, 85, 85, 92, 95],\n",
       "        [96, 90, 95, 81, 72]],\n",
       "\n",
       "       [[85, 95, 90, 66, 93],\n",
       "        [93, 70, 80, 60, 81],\n",
       "        [89, 78, 55, 75, 80],\n",
       "        [80, 94, 59, 72, 90],\n",
       "        [70, 82, 81, 95, 72],\n",
       "        [90, 76, 93, 82, 89]]])"
      ]
     },
     "execution_count": 40,
     "metadata": {},
     "output_type": "execute_result"
    }
   ],
   "source": [
    "all_scores"
   ]
  },
  {
   "cell_type": "code",
   "execution_count": 41,
   "metadata": {
    "colab": {},
    "colab_type": "code",
    "id": "VLmpAhF6jS8H",
    "outputId": "9a26fb48-382c-447a-a2fa-4a74b239df61"
   },
   "outputs": [
    {
     "data": {
      "text/plain": [
       "array([[80, 92, 70, 65, 92],\n",
       "       [91, 75, 90, 68, 85],\n",
       "       [86, 76, 42, 72, 88],\n",
       "       [77, 92, 52, 60, 80],\n",
       "       [75, 85, 85, 92, 95],\n",
       "       [96, 90, 95, 81, 72]])"
      ]
     },
     "execution_count": 41,
     "metadata": {},
     "output_type": "execute_result"
    }
   ],
   "source": [
    "all_scores[0] # 중간 고사"
   ]
  },
  {
   "cell_type": "code",
   "execution_count": 42,
   "metadata": {
    "colab": {},
    "colab_type": "code",
    "id": "pxyQQ8ZEjS8Q",
    "outputId": "c7143c0c-e7d5-48e2-b31d-038ba0e9d335"
   },
   "outputs": [
    {
     "data": {
      "text/plain": [
       "array([[85, 95, 90, 66, 93],\n",
       "       [93, 70, 80, 60, 81],\n",
       "       [89, 78, 55, 75, 80],\n",
       "       [80, 94, 59, 72, 90],\n",
       "       [70, 82, 81, 95, 72],\n",
       "       [90, 76, 93, 82, 89]])"
      ]
     },
     "execution_count": 42,
     "metadata": {},
     "output_type": "execute_result"
    }
   ],
   "source": [
    "all_scores[1] # 기말 고사"
   ]
  },
  {
   "cell_type": "code",
   "execution_count": 43,
   "metadata": {
    "colab": {},
    "colab_type": "code",
    "id": "WBWrZLWbjS8U",
    "outputId": "3fc7b8a1-0225-429a-e85c-40c58d480900"
   },
   "outputs": [
    {
     "name": "stdout",
     "output_type": "stream",
     "text": [
      "all_scores의 shape :  (2, 6, 5)\n"
     ]
    }
   ],
   "source": [
    "print(\"all_scores의 shape : \",all_scores.shape)  # (시험 실시기준(중간|기말), 학생 번호(0~5), 과목 수(국영수사과))\n",
    "# 상위 차원을 하나 만들고, 각 Array(scores, final_scores)를 요소고 갖기 때문에, (2, 6, 5)가 됩니다."
   ]
  },
  {
   "cell_type": "markdown",
   "metadata": {
    "colab_type": "text",
    "id": "qnMcrczHjS8Z"
   },
   "source": [
    "### (2) 쌓는 축 방향을 다르게 설정하기\n",
    "쌓는 축의 방향은 다양하게 설정하여 원하는 형태의 Numpy Array로 쌓을 수 있습니다."
   ]
  },
  {
   "cell_type": "code",
   "execution_count": 44,
   "metadata": {
    "colab": {},
    "colab_type": "code",
    "id": "8aWjc8DbjS8a"
   },
   "outputs": [],
   "source": [
    "all_scores = np.stack([scores, final_scores],axis=2)"
   ]
  },
  {
   "cell_type": "code",
   "execution_count": 45,
   "metadata": {
    "colab": {},
    "colab_type": "code",
    "id": "vhli38g2jS8e",
    "outputId": "63ba32e2-4394-4785-9515-55997daf2ebe"
   },
   "outputs": [
    {
     "data": {
      "text/plain": [
       "array([[[80, 85],\n",
       "        [92, 95],\n",
       "        [70, 90],\n",
       "        [65, 66],\n",
       "        [92, 93]],\n",
       "\n",
       "       [[91, 93],\n",
       "        [75, 70],\n",
       "        [90, 80],\n",
       "        [68, 60],\n",
       "        [85, 81]],\n",
       "\n",
       "       [[86, 89],\n",
       "        [76, 78],\n",
       "        [42, 55],\n",
       "        [72, 75],\n",
       "        [88, 80]],\n",
       "\n",
       "       [[77, 80],\n",
       "        [92, 94],\n",
       "        [52, 59],\n",
       "        [60, 72],\n",
       "        [80, 90]],\n",
       "\n",
       "       [[75, 70],\n",
       "        [85, 82],\n",
       "        [85, 81],\n",
       "        [92, 95],\n",
       "        [95, 72]],\n",
       "\n",
       "       [[96, 90],\n",
       "        [90, 76],\n",
       "        [95, 93],\n",
       "        [81, 82],\n",
       "        [72, 89]]])"
      ]
     },
     "execution_count": 45,
     "metadata": {},
     "output_type": "execute_result"
    }
   ],
   "source": [
    "all_scores # 중간고사 성적, 기말고사 성적을 교차해서 보고 싶다면, 이런 방식도 있음"
   ]
  },
  {
   "cell_type": "code",
   "execution_count": 46,
   "metadata": {
    "colab": {},
    "colab_type": "code",
    "id": "BJnFXnNPjS8l",
    "outputId": "948c2f18-5a77-4683-e0a1-e52d913f5be3"
   },
   "outputs": [
    {
     "data": {
      "text/plain": [
       "array([[80, 92, 70, 65, 92],\n",
       "       [91, 75, 90, 68, 85],\n",
       "       [86, 76, 42, 72, 88],\n",
       "       [77, 92, 52, 60, 80],\n",
       "       [75, 85, 85, 92, 95],\n",
       "       [96, 90, 95, 81, 72]])"
      ]
     },
     "execution_count": 46,
     "metadata": {},
     "output_type": "execute_result"
    }
   ],
   "source": [
    "all_scores[:,:,0] # 중간 고사 성적"
   ]
  },
  {
   "cell_type": "code",
   "execution_count": 47,
   "metadata": {
    "colab": {},
    "colab_type": "code",
    "id": "2Bmeck6NjS8r",
    "outputId": "5d518ffa-e35b-4473-c565-470906a4db2e"
   },
   "outputs": [
    {
     "data": {
      "text/plain": [
       "array([[85, 95, 90, 66, 93],\n",
       "       [93, 70, 80, 60, 81],\n",
       "       [89, 78, 55, 75, 80],\n",
       "       [80, 94, 59, 72, 90],\n",
       "       [70, 82, 81, 95, 72],\n",
       "       [90, 76, 93, 82, 89]])"
      ]
     },
     "execution_count": 47,
     "metadata": {},
     "output_type": "execute_result"
    }
   ],
   "source": [
    "all_scores[:,:,1] # 기말 고사 성적"
   ]
  },
  {
   "cell_type": "markdown",
   "metadata": {
    "colab_type": "text",
    "id": "D_uQkOZvjS8v"
   },
   "source": [
    "#  \n",
    "\n",
    "---\n",
    "\n",
    "    Copyright(c) 2019 by Public AI. All rights reserved.\n",
    "    Writen by PAI, SangJae Kang ( rocketgrowthsj@publicai.co.kr )  last updated on 2019/03/04\n",
    "\n",
    "\n",
    "---"
   ]
  }
 ],
 "metadata": {
  "colab": {
   "collapsed_sections": [
    "P7pueSi-lge5",
    "Z8GYFD3WlnSN",
    "7o6fruwGjS5y",
    "t6X3h8PMjS6B",
    "SDHNSIFjjS6M",
    "FRd1gBC_jS6T",
    "3lmxcJ9pjS6s",
    "ndOiTdLQjS65",
    "Faj3mzS-2LlR",
    "M5lg56WYjS7J",
    "WCAeh_DDjS7h",
    "gTxVcqvt07py",
    "QqKuFJnMjS77",
    "3Cggo6--jS7-",
    "qnMcrczHjS8Z"
   ],
   "name": "3_Numpy의 Indexing과 합치기.ipynb",
   "provenance": [],
   "toc_visible": true,
   "version": "0.3.2"
  },
  "kernelspec": {
   "display_name": "Python 3",
   "language": "python",
   "name": "python3"
  },
  "language_info": {
   "codemirror_mode": {
    "name": "ipython",
    "version": 3
   },
   "file_extension": ".py",
   "mimetype": "text/x-python",
   "name": "python",
   "nbconvert_exporter": "python",
   "pygments_lexer": "ipython3",
   "version": "3.6.5"
  }
 },
 "nbformat": 4,
 "nbformat_minor": 1
}
