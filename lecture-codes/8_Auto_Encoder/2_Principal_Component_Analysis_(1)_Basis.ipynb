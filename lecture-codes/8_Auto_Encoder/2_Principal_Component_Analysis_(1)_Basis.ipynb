{
  "nbformat": 4,
  "nbformat_minor": 0,
  "metadata": {
    "colab": {
      "name": "2_Principal_Component_Analysis (1) Basis.ipynb",
      "version": "0.3.2",
      "provenance": [],
      "collapsed_sections": []
    },
    "language_info": {
      "codemirror_mode": {
        "name": "ipython",
        "version": 3
      },
      "file_extension": ".py",
      "mimetype": "text/x-python",
      "name": "python",
      "nbconvert_exporter": "python",
      "pygments_lexer": "ipython3",
      "version": "3.6.5"
    },
    "kernelspec": {
      "display_name": "Python 3",
      "language": "python",
      "name": "python3"
    }
  },
  "cells": [
    {
      "cell_type": "markdown",
      "metadata": {
        "id": "Haufrm4xwFMP",
        "colab_type": "text"
      },
      "source": [
        " ╔══<i><b>Alai-DeepLearning</b></i>════════════════════════════╗\n",
        "###  &nbsp;&nbsp; **✎&nbsp;&nbsp;Week 8. Auto Encoder**\n",
        "# Section 2. Principal Component Analysis (1) Basis\n",
        "\n",
        "### _Objective_\n",
        "1. 가장 기본적인 차원축소방법인 Principal Component Analysis에 대해 배워보도록 하겠습니다. <br>\n",
        "  \n",
        "╚═════════════════════════════════════════╝"
      ]
    },
    {
      "cell_type": "code",
      "metadata": {
        "id": "zv9Hi_5_wFMQ",
        "colab_type": "code",
        "colab": {}
      },
      "source": [
        "%matplotlib inline\n",
        "\n",
        "import tensorflow as tf\n",
        "import math\n",
        "from sklearn import datasets\n",
        "import numpy as np\n",
        "import matplotlib.pyplot as plt\n",
        "from matplotlib import cm\n",
        "from mpl_toolkits.mplot3d import Axes3D\n",
        "import seaborn as sns\n",
        "import os\n",
        "\n",
        "import pandas as pd"
      ],
      "execution_count": 0,
      "outputs": []
    },
    {
      "cell_type": "markdown",
      "metadata": {
        "id": "WR1g92dRwFMS",
        "colab_type": "text"
      },
      "source": [
        "## 예제 데이터 ) IRIS 데이터 셋\n",
        "\n",
        "IRIS 데이터셋은 붓꽃에 대한 정보를 가진 데이터로, 총 4개의 Feature로 이루어져 있습니다.<br>\n",
        "이 4개의 Feature는 서로 강한 상관관계를 가지고 있습니다."
      ]
    },
    {
      "cell_type": "code",
      "metadata": {
        "id": "mL4mzzYFwFMT",
        "colab_type": "code",
        "colab": {}
      },
      "source": [
        "iris_dataset = datasets.load_iris()\n",
        "\n",
        "data = iris_dataset.data\n",
        "target = iris_dataset.target"
      ],
      "execution_count": 0,
      "outputs": []
    },
    {
      "cell_type": "code",
      "metadata": {
        "id": "7Zsk_QMhwFMV",
        "colab_type": "code",
        "colab": {
          "base_uri": "https://localhost:8080/",
          "height": 204
        },
        "outputId": "6a1beffb-3412-4c6a-fa25-4397e64f7dea"
      },
      "source": [
        "df = pd.DataFrame(data,columns=iris_dataset.feature_names)\n",
        "df.head()"
      ],
      "execution_count": 4,
      "outputs": [
        {
          "output_type": "execute_result",
          "data": {
            "text/html": [
              "<div>\n",
              "<style scoped>\n",
              "    .dataframe tbody tr th:only-of-type {\n",
              "        vertical-align: middle;\n",
              "    }\n",
              "\n",
              "    .dataframe tbody tr th {\n",
              "        vertical-align: top;\n",
              "    }\n",
              "\n",
              "    .dataframe thead th {\n",
              "        text-align: right;\n",
              "    }\n",
              "</style>\n",
              "<table border=\"1\" class=\"dataframe\">\n",
              "  <thead>\n",
              "    <tr style=\"text-align: right;\">\n",
              "      <th></th>\n",
              "      <th>sepal length (cm)</th>\n",
              "      <th>sepal width (cm)</th>\n",
              "      <th>petal length (cm)</th>\n",
              "      <th>petal width (cm)</th>\n",
              "    </tr>\n",
              "  </thead>\n",
              "  <tbody>\n",
              "    <tr>\n",
              "      <th>0</th>\n",
              "      <td>5.1</td>\n",
              "      <td>3.5</td>\n",
              "      <td>1.4</td>\n",
              "      <td>0.2</td>\n",
              "    </tr>\n",
              "    <tr>\n",
              "      <th>1</th>\n",
              "      <td>4.9</td>\n",
              "      <td>3.0</td>\n",
              "      <td>1.4</td>\n",
              "      <td>0.2</td>\n",
              "    </tr>\n",
              "    <tr>\n",
              "      <th>2</th>\n",
              "      <td>4.7</td>\n",
              "      <td>3.2</td>\n",
              "      <td>1.3</td>\n",
              "      <td>0.2</td>\n",
              "    </tr>\n",
              "    <tr>\n",
              "      <th>3</th>\n",
              "      <td>4.6</td>\n",
              "      <td>3.1</td>\n",
              "      <td>1.5</td>\n",
              "      <td>0.2</td>\n",
              "    </tr>\n",
              "    <tr>\n",
              "      <th>4</th>\n",
              "      <td>5.0</td>\n",
              "      <td>3.6</td>\n",
              "      <td>1.4</td>\n",
              "      <td>0.2</td>\n",
              "    </tr>\n",
              "  </tbody>\n",
              "</table>\n",
              "</div>"
            ],
            "text/plain": [
              "   sepal length (cm)  sepal width (cm)  petal length (cm)  petal width (cm)\n",
              "0                5.1               3.5                1.4               0.2\n",
              "1                4.9               3.0                1.4               0.2\n",
              "2                4.7               3.2                1.3               0.2\n",
              "3                4.6               3.1                1.5               0.2\n",
              "4                5.0               3.6                1.4               0.2"
            ]
          },
          "metadata": {
            "tags": []
          },
          "execution_count": 4
        }
      ]
    },
    {
      "cell_type": "code",
      "metadata": {
        "id": "RlB5v08WxICU",
        "colab_type": "code",
        "colab": {
          "base_uri": "https://localhost:8080/",
          "height": 68
        },
        "outputId": "add02c32-40f0-42a3-f39b-4c9890440f2f"
      },
      "source": [
        "df.columns"
      ],
      "execution_count": 5,
      "outputs": [
        {
          "output_type": "execute_result",
          "data": {
            "text/plain": [
              "Index(['sepal length (cm)', 'sepal width (cm)', 'petal length (cm)',\n",
              "       'petal width (cm)'],\n",
              "      dtype='object')"
            ]
          },
          "metadata": {
            "tags": []
          },
          "execution_count": 5
        }
      ]
    },
    {
      "cell_type": "code",
      "metadata": {
        "id": "eCFGDJ2rwFMY",
        "colab_type": "code",
        "colab": {
          "base_uri": "https://localhost:8080/",
          "height": 446
        },
        "outputId": "fab7de77-f197-4d8b-d7dc-f0094c053d18"
      },
      "source": [
        "fig = plt.figure(figsize=(13,7))\n",
        "\n",
        "c = 1\n",
        "for idx, x_col in enumerate(df.columns):\n",
        "    for y_col in df.columns[idx+1:]:\n",
        "        ax = fig.add_subplot(2, 3, c)\n",
        "        c+=1\n",
        "        df.plot(x=x_col,\n",
        "                y=y_col,\n",
        "                ax=ax,\n",
        "                kind='scatter')\n",
        "plt.show()        "
      ],
      "execution_count": 6,
      "outputs": [
        {
          "output_type": "display_data",
          "data": {
            "image/png": "[encoded data removed]",
            "text/plain": [
              "<Figure size 936x504 with 6 Axes>"
            ]
          },
          "metadata": {
            "tags": []
          }
        }
      ]
    },
    {
      "cell_type": "code",
      "metadata": {
        "id": "iPiLIEJWwFMb",
        "colab_type": "code",
        "colab": {
          "base_uri": "https://localhost:8080/",
          "height": 446
        },
        "outputId": "ce57bd5a-5254-4447-ed52-ffbd50a37334"
      },
      "source": [
        "df.plot(x='petal length (cm)',\n",
        "        y='petal width (cm)',\n",
        "        kind='scatter',\n",
        "        figsize=(7,7))\n",
        "plt.show()"
      ],
      "execution_count": 7,
      "outputs": [
        {
          "output_type": "display_data",
          "data": {
            "image/png": "[encoded data removed]",
            "text/plain": [
              "<Figure size 504x504 with 1 Axes>"
            ]
          },
          "metadata": {
            "tags": []
          }
        }
      ]
    },
    {
      "cell_type": "markdown",
      "metadata": {
        "id": "SwQ_Kk_QwFMd",
        "colab_type": "text"
      },
      "source": [
        "<br><br>\n",
        "\n",
        "# \\[ 1. Principal Component Anaylsis의 기본 원리 \\]\n",
        "\n",
        "----\n",
        "\n",
        "----\n",
        "\n",
        "> *PCA은 M개의 특징들을 독립적인 N개의 주성분들로 나누어 표현하는 방법입니다.*<br>\n",
        "*이 때 주성분은 분산이 큰 방향을 기준으로 결정됩니다. 분산이 클수록, 보다 많은 정보를 가지고 있기 때문입니다.*<br>\n"
      ]
    },
    {
      "cell_type": "markdown",
      "metadata": {
        "id": "Wt1GbEkXwFMd",
        "colab_type": "text"
      },
      "source": [
        "<br>\n",
        "## 1. 알고리즘 순서\n",
        "---\n",
        "\n",
        "알고리즘 순서는 아래와 같습니다.\n",
        "\n",
        "1. 특징 정보에 대한 공분산 행렬을 구합니다.(Covariance Matrix)\n",
        "   * $COV(X) = \\frac{1}{n-1} X^TX$\n",
        "\n",
        "2. 공분산 행렬에서 고유값분해를 수행합니다. \n",
        "   이를 통해, 우리는 공분산을 기준으로, M개의 독립적인 축을 구할 수 있습니다.\n",
        "   * $Xu = \\lambda u$\n",
        "3. 독립적인 M개의 축 중에서, 분산이 큰 순서대로 K개의 축(principal Component)를 추출합니다. (EigenValue)\n",
        "   * $W_d = \n",
        "\\begin{bmatrix}\n",
        "\\vdots & \\vdots & \\vdots &  & \\vdots \\\\\n",
        "PC_1    & PC_2    & PC_3    & \\cdots & PC_k \\\\\n",
        "\\vdots & \\vdots & \\vdots &  & \\vdots\\\\\n",
        "\\end{bmatrix}\n",
        "$\n",
        "4. 위의 PC로 mapping Matrix를 구해서, 원래 이미지에 적용합니다.\n",
        "   * $X_{d-proj} = X \\cdot W_d$"
      ]
    },
    {
      "cell_type": "markdown",
      "metadata": {
        "id": "3W-o-7YHwFMe",
        "colab_type": "text"
      },
      "source": [
        "<br>\n",
        "## 2. 공분산이란?\n",
        "---\n"
      ]
    },
    {
      "cell_type": "markdown",
      "metadata": {
        "id": "ww8CWGOxwFMe",
        "colab_type": "text"
      },
      "source": [
        "2 개의 확률 변수 X와 Y에 대한 공분산은 아래와 같습니다.<br>\n",
        "$\n",
        "cov(X,Y) = \\frac{\\sum^{n}_{i=1} (X_i-\\bar X)(Y_i-\\bar X)}{n-1}\\\\\n",
        "= E[XY]-\\bar Y E[X] - \\bar X E[Y] + \\bar X \\bar Y \\\\\n",
        "= E[XY]-\\bar Y \\bar X - \\bar X \\bar Y + \\bar X \\bar Y\\\\\n",
        "= E[XY] - \\bar X \\bar Y\n",
        "$<br>\n",
        "일반적으로 공분산을 구할 때, 수식의 간결성을 위해<br>\n",
        "확률 변수의 기댓값을 0으로 맞춰줍니다. <br>\n",
        "확률 변수의 기댓값($\\bar X,\\bar Y$)을 0이라 하고 수식을 전개하면<br>\n",
        "$\n",
        "= E[XY] \\\\\n",
        "= \\frac{1}{n-1} X^T \\cdot Y\n",
        "$<br>\n",
        "위와 같이 두 확률 변수의 행렬곱의 평균으로 나오게 됩니다.<br>\n",
        "\n",
        "공분산은 두 확률 변수 간 상관 관계를 알려줍니다. 이 값의 크기와 부호에 따라<br>\n",
        "두 변수가 어떤 관계인지 알 수 있습니다."
      ]
    },
    {
      "cell_type": "markdown",
      "metadata": {
        "id": "ZI25P4KuwFMf",
        "colab_type": "text"
      },
      "source": [
        "### (1) 양의 선형 관계일 때의 공분산"
      ]
    },
    {
      "cell_type": "code",
      "metadata": {
        "id": "qyE8HwWwwFMf",
        "colab_type": "code",
        "colab": {
          "base_uri": "https://localhost:8080/",
          "height": 312
        },
        "outputId": "7b0fa57d-7c1f-4ebd-b25b-0f4030408bf2"
      },
      "source": [
        "X = np.array([1,2,3,4,5,6])\n",
        "Y = np.array([1,2,3,4,5,6])\n",
        "\n",
        "\n",
        "# numpy 을 이용해 공분산을 구합니다. \n",
        "norm_X = #fix me# \n",
        "norm_Y = #fix me# \n",
        "\n",
        "cov_XY = #fix me# \n",
        "print(\"공분산 : {:2.3f}\".format(#fix me# ))\n",
        "\n",
        "plt.title(\"Covariance \")\n",
        "plt.scatter(X,Y)\n",
        "plt.xlabel('x')\n",
        "plt.ylabel('y')\n",
        "plt.show()"
      ],
      "execution_count": 8,
      "outputs": [
        {
          "output_type": "stream",
          "text": [
            "공분산 : 3.500\n"
          ],
          "name": "stdout"
        },
        {
          "output_type": "display_data",
          "data": {
            "image/png": "[encoded data removed]",
            "text/plain": [
              "<Figure size 432x288 with 1 Axes>"
            ]
          },
          "metadata": {
            "tags": []
          }
        }
      ]
    },
    {
      "cell_type": "markdown",
      "metadata": {
        "id": "5EXtgLZ9wFMh",
        "colab_type": "text"
      },
      "source": [
        "### (2) 서로 관계 없었을 때의 공분산"
      ]
    },
    {
      "cell_type": "code",
      "metadata": {
        "id": "P7j7Nb9WwFMi",
        "colab_type": "code",
        "colab": {
          "base_uri": "https://localhost:8080/",
          "height": 312
        },
        "outputId": "2d85915e-d03f-4bb7-f129-a959218779ca"
      },
      "source": [
        "X = np.array([5,2,1,6,2,4])\n",
        "Y = np.array([1,2,3,4,5,6])\n",
        "\n",
        "norm_X = #fix me# \n",
        "norm_Y = #fix me#\n",
        "\n",
        "cov_XY = #fix me#\n",
        "print(\"공분산 : {:2.3f}\".format(#fix me#))\n",
        "\n",
        "plt.title(\"Covariance \")\n",
        "plt.scatter(X,Y)\n",
        "plt.xlabel('x')\n",
        "plt.ylabel('y')\n",
        "plt.show()"
      ],
      "execution_count": 9,
      "outputs": [
        {
          "output_type": "stream",
          "text": [
            "공분산 : 0.000\n"
          ],
          "name": "stdout"
        },
        {
          "output_type": "display_data",
          "data": {
            "image/png": "[encoded data removed]",
            "text/plain": [
              "<Figure size 432x288 with 1 Axes>"
            ]
          },
          "metadata": {
            "tags": []
          }
        }
      ]
    },
    {
      "cell_type": "markdown",
      "metadata": {
        "id": "hVqXEsvxwFMk",
        "colab_type": "text"
      },
      "source": [
        "<br>\n",
        "## 3. 고유값과 고유벡터\n",
        "---\n",
        "\n",
        "\n",
        "* 고유값과 고유벡터의 정의는 아래와 같습니다.<br>\n",
        "\n",
        "   > 정방 행렬 A의 고유벡터($\\upsilon$)와 고유값($\\lambda$)는 아래의 조건을 만족합니다.<br>\n",
        "$$\n",
        "A\\upsilon = \\lambda \\upsilon\n",
        "$$\n",
        "\n",
        "* 어떤 벡터를 행렬에 곱한 결과로 나타난 벡터가 원래의 벡터와 같은 방향을 향하고 있다면, 이를 **고유벡터**라 하고, 그 때 달라진 비율을 **고유값**이라고 합니다. <br>"
      ]
    },
    {
      "cell_type": "markdown",
      "metadata": {
        "id": "4NxyE02HwFMl",
        "colab_type": "text"
      },
      "source": [
        "<br>\n",
        "## 4. 고유 벡터와 기저벡터\n",
        "---\n",
        "* 고유 벡터는 해당 행렬의 기저(basis) 벡터로서 동작합니다.<br>\n",
        "* 하나의 행렬을 고유값과 고유벡터로 나누는 것은 행렬을 독립적인 M개의 축(기저벡터)로 나누는 것과 동일합니다. \n",
        "\n",
        "* 공분산 행렬에 고유값과 고유벡터를 구하게 되면,<br>\n",
        "우리는 공분산의 크기(고유값)에 따라, 정렬된 방향(고유벡터)를 얻을 수 있게 됩니다."
      ]
    },
    {
      "cell_type": "markdown",
      "metadata": {
        "id": "VrrGl9-LwFMl",
        "colab_type": "text"
      },
      "source": [
        "<br><br>\n",
        "\n",
        "# \\[ 2. Numpy를 이용하여 PCA 구현하기 \\]\n",
        "\n",
        "----\n",
        "\n",
        "----\n",
        "\n",
        "> *Numpy를 통해 우리는 PCA를 구현할 수 있습니다.* <br>\n",
        "> *이중 고유값분해는 알고리즘으로 매우 중요한 이슈이지만, 이 수업의 범위를 넘어서기 때문에 구체적으로 다루지 않겠습니다.*"
      ]
    },
    {
      "cell_type": "markdown",
      "metadata": {
        "id": "ifiUxcyVwFMl",
        "colab_type": "text"
      },
      "source": [
        "<br>\n",
        "## 1. 공분산 행렬 구하기 \n",
        "----\n",
        "\n",
        "데이터는 각각 d개의 특징을 가진, 총 N개의 케이스로 구성됩니다.<br>\n",
        "현재 IRIS 데이터셋에서는 N=150, d=4개입니다.<br>\n",
        "$\n",
        "X = \\begin{bmatrix}\n",
        "\\vdots & \\vdots & \\vdots &  & \\vdots \\\\\n",
        "X_1    & X_2    & X_3    & \\cdots & X_d \\\\\n",
        "\\vdots & \\vdots & \\vdots &  & \\vdots\n",
        "\\end{bmatrix}\n",
        "$<br>\n",
        "\n",
        "위와 같은 데이터셋의 공분산은 아래와 같이 구할 수 있습니다.<br>\n",
        "공분산 행렬을 구하기 전, X는 각 열의 평균값을 빼주어야 합니다.\n",
        "\n",
        "$\n",
        "COV(X) = \\frac{1}{n-1} X^TX \\\\\n",
        "= \\frac{1}{n-1} \\begin{bmatrix}\n",
        "\\cdots & X_1    & \\cdots & \\cdots  \\\\\n",
        "\\cdots & X_2    & \\cdots & \\cdots \\\\\n",
        "       & \\cdots &        &  \\\\\n",
        "\\cdots & X_d & \\cdots & \\cdots \n",
        "\\end{bmatrix} \\cdot \\begin{bmatrix}\n",
        "\\vdots & \\vdots & \\vdots &  & \\vdots \\\\\n",
        "X_1    & X_2    & X_3    & \\cdots & X_d \\\\\n",
        "\\vdots & \\vdots & \\vdots &  & \\vdots\n",
        "\\end{bmatrix}\n",
        "= \\frac{1}{n-1} \\begin{bmatrix}\n",
        "X_1\\cdot X_1 & X_1\\cdot X_2 & \\cdots & X_1\\cdot X_d \\\\\n",
        "X_2\\cdot X_1 & X_2\\cdot X_2 & \\cdots & X_2\\cdot X_d \\\\\n",
        "\\vdots & \\vdots  & \\cdots & \\vdots \\\\\n",
        "X_d\\cdot X_1 & X_d\\cdot X_2 & \\cdots & X_d\\cdot X_d \\\\\n",
        "\\end{bmatrix}\n",
        "= \\begin{bmatrix}\n",
        "cov(X_1,X_1) & cov(X_1,X_2) & \\cdots & cov(X_1,X_d) \\\\\n",
        "cov(X_2,X_1) & cov(X_2,X_2) & \\cdots & cov(X_2,X_d) \\\\\n",
        "\\vdots & \\vdots  & \\cdots & \\vdots \\\\\n",
        "cov(X_d,X_1) & cov(X_d,X_2) & \\cdots & cov(X_d,X_d) \\\\\n",
        "\\end{bmatrix}\n",
        "$\n",
        "\n",
        "공분산 행렬의 각 원소들은 각 특징 간 **공분산** 정도를 나타나게 됩니다.<br>"
      ]
    },
    {
      "cell_type": "code",
      "metadata": {
        "id": "KoBWs3sdwFMm",
        "colab_type": "code",
        "colab": {
          "base_uri": "https://localhost:8080/",
          "height": 85
        },
        "outputId": "06cda1a8-d058-49fe-ee8d-83f737594b35"
      },
      "source": [
        "# Covariance Matrix 구하기 위해 아래와 같은 작업을 수행합니다.\n",
        "# 1. normalization \n",
        "# 2. (X.T * X )/ n-1 \n"
      ],
      "execution_count": 10,
      "outputs": [
        {
          "output_type": "execute_result",
          "data": {
            "text/plain": [
              "array([[ 6.38252039, -1.01751619,  1.97718884, -4.9083474 ],\n",
              "       [-1.01751619,  0.35687676, -0.44996183,  0.80685092],\n",
              "       [ 1.97718884, -0.44996183,  3.20299824,  0.62632106],\n",
              "       [-4.9083474 ,  0.80685092,  0.62632106,  5.7464224 ]])"
            ]
          },
          "metadata": {
            "tags": []
          },
          "execution_count": 10
        }
      ]
    },
    {
      "cell_type": "code",
      "metadata": {
        "id": "mt5NLcpnwFMo",
        "colab_type": "code",
        "colab": {
          "base_uri": "https://localhost:8080/",
          "height": 238
        },
        "outputId": "bbe46cfe-b2b2-4f8c-d898-7e59d561abc8"
      },
      "source": [
        "# numpy에서는 covariance Matrix를 바로 구할 수 있도록 메소드를 지원합니다.\n",
        "# np.cov 을 사용합니다."
      ],
      "execution_count": 35,
      "outputs": [
        {
          "output_type": "execute_result",
          "data": {
            "text/plain": [
              "array([[4.75      , 4.42166667, 4.35333333, ..., 2.915     , 2.475     ,\n",
              "        2.6       ],\n",
              "       [4.42166667, 4.14916667, 4.055     , ..., 2.95583333, 2.50416667,\n",
              "        2.62833333],\n",
              "       [4.35333333, 4.055     , 3.99      , ..., 2.68833333, 2.28166667,\n",
              "        2.39666667],\n",
              "       ...,\n",
              "       [2.915     , 2.95583333, 2.68833333, ..., 4.18916667, 3.65083333,\n",
              "        3.835     ],\n",
              "       [2.475     , 2.50416667, 2.28166667, ..., 3.65083333, 3.20916667,\n",
              "        3.375     ],\n",
              "       [2.6       , 2.62833333, 2.39666667, ..., 3.835     , 3.375     ,\n",
              "        3.55      ]])"
            ]
          },
          "metadata": {
            "tags": []
          },
          "execution_count": 35
        }
      ]
    },
    {
      "cell_type": "code",
      "metadata": {
        "id": "aFXbqlvwwFMq",
        "colab_type": "code",
        "colab": {
          "base_uri": "https://localhost:8080/",
          "height": 286
        },
        "outputId": "cd0aa1c0-dbc5-4b8c-e3fd-fb9382233eb9"
      },
      "source": [
        "# 시각화 합니다.\n",
        "sns.heatmap(cov_x)"
      ],
      "execution_count": 12,
      "outputs": [
        {
          "output_type": "execute_result",
          "data": {
            "text/plain": [
              "<matplotlib.axes._subplots.AxesSubplot at 0x7f1649037128>"
            ]
          },
          "metadata": {
            "tags": []
          },
          "execution_count": 12
        },
        {
          "output_type": "display_data",
          "data": {
            "image/png": "[encoded data removed]",
            "text/plain": [
              "<Figure size 432x288 with 2 Axes>"
            ]
          },
          "metadata": {
            "tags": []
          }
        }
      ]
    },
    {
      "cell_type": "markdown",
      "metadata": {
        "id": "q7lI1jbJwFMt",
        "colab_type": "text"
      },
      "source": [
        "<br>\n",
        "## 2. 고유값 분해\n",
        "----\n",
        "\n",
        "고유값 분해는 LU 분해, QR 분해법 등 다양한 알고리즘이 존재합니다<br>\n",
        "이러한 내용들은 중요하나, 이번 강의에서의 범위를 벗어나 다루지 않습니다.<br>\n",
        "텐서플로우나 넘파이와 같은 수치연산 프레임워크에서는 보통 제공합니다."
      ]
    },
    {
      "cell_type": "code",
      "metadata": {
        "id": "2PG8ydOSwFMt",
        "colab_type": "code",
        "colab": {
          "base_uri": "https://localhost:8080/",
          "height": 34
        },
        "outputId": "6942fa91-1f8c-4a70-dc87-ad812c55ae8a"
      },
      "source": [
        "eigen_value, eigen_vector = #fix me# \n",
        "eigen_value"
      ],
      "execution_count": 13,
      "outputs": [
        {
          "output_type": "execute_result",
          "data": {
            "text/plain": [
              "array([4.22824171, 0.24267075, 0.0782095 , 0.02383509])"
            ]
          },
          "metadata": {
            "tags": []
          },
          "execution_count": 13
        }
      ]
    },
    {
      "cell_type": "markdown",
      "metadata": {
        "id": "uXzd0BzBwFMw",
        "colab_type": "text"
      },
      "source": [
        "eigen_vector는 eigen_value에 따라 정렬된 상태입니다.<br>\n",
        "첫번째 열 벡터가 가장 분산이 큰 주성분 방향 벡터가 됩니다.<br>"
      ]
    },
    {
      "cell_type": "code",
      "metadata": {
        "id": "DE4cOYK6wFMx",
        "colab_type": "code",
        "colab": {
          "base_uri": "https://localhost:8080/",
          "height": 85
        },
        "outputId": "fa632c9b-207a-42a6-b5b3-0485607226f4"
      },
      "source": [
        "eigen_vector"
      ],
      "execution_count": 14,
      "outputs": [
        {
          "output_type": "execute_result",
          "data": {
            "text/plain": [
              "array([[ 0.36138659, -0.65658877, -0.58202985,  0.31548719],\n",
              "       [-0.08452251, -0.73016143,  0.59791083, -0.3197231 ],\n",
              "       [ 0.85667061,  0.17337266,  0.07623608, -0.47983899],\n",
              "       [ 0.3582892 ,  0.07548102,  0.54583143,  0.75365743]])"
            ]
          },
          "metadata": {
            "tags": []
          },
          "execution_count": 14
        }
      ]
    },
    {
      "cell_type": "markdown",
      "metadata": {
        "id": "shlul6nzwFM3",
        "colab_type": "text"
      },
      "source": [
        "<br>\n",
        "## 3. D차원으로 투영하기\n",
        "----\n",
        "\n",
        "가장 분산이 큰 d개의 주 성분으로 정의한 평면에 데이터를 투영하여 데이터의 차원을 <br>\n",
        "D차원으로 축소시킬 수 있습니다.<br>\n",
        "$\n",
        "X_{proj} = X \\cdot W_d\n",
        "$"
      ]
    },
    {
      "cell_type": "code",
      "metadata": {
        "id": "-2s_jdYuwFM8",
        "colab_type": "code",
        "colab": {
          "base_uri": "https://localhost:8080/",
          "height": 417
        },
        "outputId": "ecfe496a-248b-4cd1-a22a-582996e159e1"
      },
      "source": [
        "# 2개의 주성분을 가져옵니다.\n",
        "W2 = eigen_vector[:, :#fix me#] \n",
        "\n",
        "# Eigen vector 에 x 데이터를 projection 합니다.                  \n",
        "X_proj = #fix me # \n",
        "                  \n",
        "# projection 된 vector 을 시각화 합니다.\n",
        "plt.title(\"iris Dataset\")\n",
        "plt.scatter(X_proj[:,0],X_proj[:,1],c=target)\n",
        "plt.show()\n",
        "norm_x.T[:, :5]"
      ],
      "execution_count": 33,
      "outputs": [
        {
          "output_type": "stream",
          "text": [
            "[[ 0.36138659 -0.65658877]\n",
            " [-0.08452251 -0.73016143]\n",
            " [ 0.85667061  0.17337266]\n",
            " [ 0.3582892   0.07548102]]\n"
          ],
          "name": "stdout"
        },
        {
          "output_type": "display_data",
          "data": {
            "image/png": "[encoded data removed]",
            "text/plain": [
              "<Figure size 432x288 with 1 Axes>"
            ]
          },
          "metadata": {
            "tags": []
          }
        },
        {
          "output_type": "execute_result",
          "data": {
            "text/plain": [
              "array([[ 1.6355,  1.4355,  1.2355,  1.1355,  1.5355],\n",
              "       [ 0.0355, -0.4645, -0.2645, -0.3645,  0.1355],\n",
              "       [-2.0645, -2.0645, -2.1645, -1.9645, -2.0645],\n",
              "       [-3.2645, -3.2645, -3.2645, -3.2645, -3.2645]])"
            ]
          },
          "metadata": {
            "tags": []
          },
          "execution_count": 33
        }
      ]
    },
    {
      "cell_type": "markdown",
      "metadata": {
        "id": "tBubE4IawFM_",
        "colab_type": "text"
      },
      "source": [
        "우리는 4차원의 데이터를 2차원의 공간에 투영시켰습니다. <br>\n",
        "이와 같은 방식으로 4차원의 데이터를 3차원의 공간에 투영시키면 아래와 같습니다.<br>"
      ]
    },
    {
      "cell_type": "code",
      "metadata": {
        "id": "LA23t-bjwFM_",
        "colab_type": "code",
        "colab": {},
        "outputId": "dcbe3009-4e5e-48c6-eb7b-999332c413dc"
      },
      "source": [
        "# 3개의 주성분만 가져옴\n",
        "W3 = eigen_vector[:,:3] \n",
        "\n",
        "# Eigen vector 에 x 데이터를 projection 합니다.\n",
        "X_proj = np.matmul(norm_x, W3)\n",
        "\n",
        "# projection 된 vector 을 3차원에 plot 합니다.\n",
        "fig = plt.figure()\n",
        "ax = Axes3D(fig)\n",
        "ax.scatter(X_proj[:,0],\n",
        "           X_proj[:,1],\n",
        "           X_proj[:,2],\n",
        "           c=target)\n",
        "plt.show()"
      ],
      "execution_count": 0,
      "outputs": [
        {
          "output_type": "display_data",
          "data": {
            "image/png": "[encoded data removed]",
            "text/plain": [
              "<Figure size 432x288 with 1 Axes>"
            ]
          },
          "metadata": {
            "tags": []
          }
        }
      ]
    },
    {
      "cell_type": "markdown",
      "metadata": {
        "id": "-kPKp9O7wFNB",
        "colab_type": "text"
      },
      "source": [
        "<br>\n",
        "## 4. 분산의 비율\n",
        "---\n",
        "\n",
        "PCA에서 분산은 일종의 정보량(information)의 개념입니다.<br>\n",
        "PCA를 통해, 얼마나 분산이 보존되었는가에 따라<br>\n",
        "얼마나 원본의 정보를 담고 있는지를 알 수 있습니다."
      ]
    },
    {
      "cell_type": "code",
      "metadata": {
        "id": "SnvUvoxywFNB",
        "colab_type": "code",
        "colab": {
          "base_uri": "https://localhost:8080/",
          "height": 317
        },
        "outputId": "6bdf32c1-8bb6-4272-b39f-9df192b04c34"
      },
      "source": [
        "cumsum = np.cumsum(eigen_value)/np.sum(eigen_value)\n",
        "plt.plot([1,2,3,4],cumsum)\n",
        "plt.xlabel(\"the number of Principal Component\")\n",
        "plt.xlabel(\"Variance Ratio\")\n",
        "plt.show()"
      ],
      "execution_count": 38,
      "outputs": [
        {
          "output_type": "stream",
          "text": [
            "[4.22824171 0.24267075 0.0782095  0.02383509]\n",
            "[0.92461872 0.97768521 0.99478782 1.        ]\n"
          ],
          "name": "stdout"
        },
        {
          "output_type": "display_data",
          "data": {
            "image/png": "[encoded data removed]",
            "text/plain": [
              "<Figure size 432x288 with 1 Axes>"
            ]
          },
          "metadata": {
            "tags": []
          }
        }
      ]
    },
    {
      "cell_type": "markdown",
      "metadata": {
        "id": "iSvv-xjlwFND",
        "colab_type": "text"
      },
      "source": [
        "<br>\n",
        "## 5. 원본으로 복원하기\n",
        "---\n",
        "\n",
        "PCA는 일종의 압축(Compression)으로도 볼 수 있습니다.<br>\n",
        "분산의 비율에 따라, 얼마나 정보를 가지고 있는지를 알 수 있습니다.<br>\n",
        "\n",
        "압축된 정보를 다시 원본의 차원으로 복원하려면 아래와 같습니다<br>\n",
        "$\n",
        "X_{recovered} = X_{proj} \\cdot W_d^T\n",
        "$\n",
        "\n",
        "이 때, 평균을 이동한 경우에는 평균만큼 더해주면 됩니다."
      ]
    },
    {
      "cell_type": "code",
      "metadata": {
        "id": "A5AU8ebGwFND",
        "colab_type": "code",
        "colab": {}
      },
      "source": [
        "W3 = eigen_vector[:,:3] # 3개의 주성분만 가져옴\n",
        "X_proj = np.matmul(#fix me#)\n",
        "\n",
        "X_recovered = #fix me#\n",
        "\n",
        "# mse 로 손실 수준을 계산합니다.\n",
        "print(\"3개로 압축했을때의 손실 수준 : \",#fix me#)"
      ],
      "execution_count": 0,
      "outputs": []
    },
    {
      "cell_type": "code",
      "metadata": {
        "id": "bUTZLxPhwFNE",
        "colab_type": "code",
        "colab": {},
        "outputId": "41609bee-154c-4992-eb99-7d9dcdeb6166"
      },
      "source": [
        "W2 = eigen_vector[:,:2] # 2개의 주성분만 가져옴\n",
        "X_proj = np.matmul(norm_x, W2)\n",
        "\n",
        "X_recovered = #fix me#\n",
        "\n",
        "# mse 로 손실 수준을 계산합니다.\n",
        "print(\"2개로 압축했을때의 손실 수준 : \",#fix me#)"
      ],
      "execution_count": 0,
      "outputs": [
        {
          "output_type": "stream",
          "text": [
            "2개로 압축했을때의 손실 수준 :  2.2785451307546927\n"
          ],
          "name": "stdout"
        }
      ]
    },
    {
      "cell_type": "code",
      "metadata": {
        "id": "ADRgWElYwFNG",
        "colab_type": "code",
        "colab": {},
        "outputId": "2d112c99-abda-439a-b41e-1516b9b6df74"
      },
      "source": [
        "W1 = eigen_vector[:,:1] # 1개의 주성분만 가져옴\n",
        "X_proj = #fix me#\n",
        "\n",
        "X_recovered = #fix me#\n",
        "print(\"1개로 압축했을때의 손실 수준 : \",#fix me#"
      ],
      "execution_count": 0,
      "outputs": [
        {
          "output_type": "stream",
          "text": [
            "1개로 압축했을때의 손실 수준 :  2.8181638621239227\n"
          ],
          "name": "stdout"
        }
      ]
    },
    {
      "cell_type": "markdown",
      "metadata": {
        "id": "dqNw3nPRwFNI",
        "colab_type": "text"
      },
      "source": [
        "#  \n",
        "\n",
        "---\n",
        "\n",
        "    Copyright(c) 2019 by Public AI. All rights reserved.<br>\n",
        "    Writen by PAI, SangJae Kang ( rocketgrowthsj@publicai.co.kr )  last updated on 2019/04/14\n",
        "\n",
        "---"
      ]
    },
    {
      "cell_type": "code",
      "metadata": {
        "id": "jG5Hs68C0GeM",
        "colab_type": "code",
        "colab": {
          "base_uri": "https://localhost:8080/",
          "height": 85
        },
        "outputId": "6d08ea4f-b4d1-4e50-a019-a55925990c73"
      },
      "source": [
        "eigen_vector"
      ],
      "execution_count": 34,
      "outputs": [
        {
          "output_type": "execute_result",
          "data": {
            "text/plain": [
              "array([[ 0.36138659, -0.65658877, -0.58202985,  0.31548719],\n",
              "       [-0.08452251, -0.73016143,  0.59791083, -0.3197231 ],\n",
              "       [ 0.85667061,  0.17337266,  0.07623608, -0.47983899],\n",
              "       [ 0.3582892 ,  0.07548102,  0.54583143,  0.75365743]])"
            ]
          },
          "metadata": {
            "tags": []
          },
          "execution_count": 34
        }
      ]
    },
    {
      "cell_type": "code",
      "metadata": {
        "id": "WnrxKULM0HFm",
        "colab_type": "code",
        "colab": {}
      },
      "source": [
        ""
      ],
      "execution_count": 0,
      "outputs": []
    }
  ]
}