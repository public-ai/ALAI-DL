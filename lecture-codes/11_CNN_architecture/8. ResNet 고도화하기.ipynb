{
 "cells": [
  {
   "cell_type": "markdown",
   "metadata": {},
   "source": [
    "╔══<i><b>Alai-DeepLearning</b></i>════════════════════════════╗\n",
    "###  &nbsp;&nbsp; **✎&nbsp;&nbsp;Week 11. CNN Architectures**\n",
    "# Section 8. ResNet 고도화하기\n",
    "\n",
    "### _Objective_\n",
    "\n",
    "1. GoogLeNet을 개발한 팀은 후속 연구를 계속 거듭해, Inception-V2, V3, V4 식으로 개량되었습니다.<br>\n",
    "2. 이번 Section에서는 GoogLeNet을 개량한 Inception-V2에 대해 배워보도록 하겠습니다.\n",
    "  \n",
    "╚═════════════════════════════════════════╝"
   ]
  },
  {
   "cell_type": "markdown",
   "metadata": {},
   "source": [
    "<br><br>\n",
    "\n",
    "# \\[ Identity Mappings in Deep Residual Networks \\]\n",
    "---\n",
    "---\n",
    "\n",
    "> *Residual Networks의 Skip Connection 아이디어는 엄청난 성공을 거두었고, 곧바로 후속 연구가 진행되었습니다.* <br>\n",
    "> *`어떤 형태의 Skip Connection`이 최적의 Skip Connection인가를 살펴보고자, 여러 형태의 Skip Connection을 설계하고 비교하였습니다.* <br>\n",
    "\n",
    "reference : [Identity Mappings in Deep Residual Networks](https://arxiv.org/pdf/1603.05027.pdf)"
   ]
  },
  {
   "cell_type": "markdown",
   "metadata": {},
   "source": [
    "<br>\n",
    "\n",
    "## 1. 다양한 형태의 Skip Connection들\n",
    "---\n",
    "\n",
    "* ResNet의 후속 연구로 어떤 식의 Skip Connection이 좋을 것인가에 대한 여러 제안들이 있었습니다.<br>\n",
    "\n",
    "![Imgur](https://i.imgur.com/QFc6cuy.png)\n",
    "\n"
   ]
  },
  {
   "cell_type": "markdown",
   "metadata": {},
   "source": [
    "* 특히 Gating에 대한 아이디어는 Highway Network에서 제안된 것으로, <br> 각 Residual Function이 identity Function의 움직임을 제어할 수 있는 형태로 설계되어 있습니다.<br>\n",
    "\n",
    "![Imgur](https://i.imgur.com/b0vRjKm.png)\n",
    "\n",
    "* 하지만 비교실험을 통한 결과, 그 어느것도 Original Skip Connection보다 성능이 더 낫지 못했습니다."
   ]
  },
  {
   "cell_type": "markdown",
   "metadata": {},
   "source": [
    "<br>\n",
    "\n",
    "## 2. 다른 형태의 Skip Connection이 잘 동작하지 않는 이유\n",
    "---\n",
    "\n",
    "\n",
    "* Original의 Residual Block은 아래의 구조를 가집니다.\n",
    "![Imgur](https://i.imgur.com/75XpZhm.png)"
   ]
  },
  {
   "cell_type": "markdown",
   "metadata": {},
   "source": [
    "ResNet 팀에서는 간단한 변환을 통해, 왜 Identity Skip Connection이 아니면 학습이 안되는지를 설명합니다.<br>\n",
    "\n",
    "![Imgur](https://i.imgur.com/eq9WojK.png)\n",
    "\n",
    "\n",
    "----\n"
   ]
  },
  {
   "cell_type": "markdown",
   "metadata": {},
   "source": [
    "결국 Gating Function이나, Constant, Dropout은 이전 입력값의 크기를 줄이는 효과를 가지게 됩니다.<br>\n",
    "이를 단순화시켜, 하나의 상수로 표기하자면 아래와 같습니다."
   ]
  },
  {
   "cell_type": "markdown",
   "metadata": {},
   "source": [
    "$$\n",
    "x_{l+1} = \\lambda_l x_l + F(x_l,W_l)\n",
    "$$\n",
    "\n",
    "의 형태가 됩니다. 이러한 블록들이 L번 반복이 되면 결국, 상수인 $\\lambda_l$는 L번 곱해지게 됩니다.<br>\n",
    "이 상수값이 1보다 작은 경우, 엄청나게 작아지게 되면서 사실상 Identity Function으로서의 기능을 사라지게 만들어 버립니다.<br>\n",
    "그렇기 때문에, Identity Skip Connection외의 다른 방법들은 Residual Learning의 기능을 못하게 되면서, Degradation 문제가 다시금 발생하게 됩니다."
   ]
  },
  {
   "cell_type": "markdown",
   "metadata": {},
   "source": [
    "<br>\n",
    "\n",
    "## 3. Full pre-activation Skip Connection\n",
    "---\n",
    "\n",
    "* 다양한 형태의 Identity Skip Connection이 있었고, 그 핵심은 바로 Batch Normalization과 RELU의 위치변화에 있었습니다. \n",
    "\n",
    "![Imgur](https://i.imgur.com/d1Wt5qZ.png)\n",
    "\n"
   ]
  },
  {
   "cell_type": "markdown",
   "metadata": {},
   "source": [
    "성능이 개선된 이유로는 크게 2가지가 있다고 추정됩니다.\n",
    "1. Ease of Optimization \n",
    "\n",
    "> Skip Connection 사이에 Relu가 사라짐으로써, Loss Signal이 아무런 제약 없이 끝까지 가게 됩니다.\n",
    "\n",
    "2. Reducing overfitting\n",
    "\n",
    "> Batch Normalization이 앞에 붙게 됨으로써, Conv layer 거치기 전 입력값이 정규화가 올바르게 적용됩니다. original version에서는 Input과 정규화된 Batch Normalization이 합쳐지면서, 정규화된 분포가 약간 비틀리게 됩니다. \n",
    "\n",
    "이후 모든 ResNet 구현체는 Full pre-activation 형태를 따르게 됩니다."
   ]
  },
  {
   "cell_type": "markdown",
   "metadata": {},
   "source": [
    "#  \n",
    "\n",
    "---\n",
    "\n",
    "    Copyright(c) 2019 by Public AI. All rights reserved.<br>\n",
    "    Writen by PAI, SangJae Kang ( rocketgrowthsj@publicai.co.kr )  last updated on 2019/05/14\n",
    "\n",
    "---"
   ]
  }
 ],
 "metadata": {
  "kernelspec": {
   "display_name": "Python 3",
   "language": "python",
   "name": "python3"
  },
  "language_info": {
   "codemirror_mode": {
    "name": "ipython",
    "version": 3
   },
   "file_extension": ".py",
   "mimetype": "text/x-python",
   "name": "python",
   "nbconvert_exporter": "python",
   "pygments_lexer": "ipython3",
   "version": "3.6.6"
  }
 },
 "nbformat": 4,
 "nbformat_minor": 2
}
