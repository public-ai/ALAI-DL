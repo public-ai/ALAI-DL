{
 "cells": [
  {
   "cell_type": "markdown",
   "metadata": {
    "id": "IuNyenvxmvGD",
    "colab_type": "text"
   },
   "source": [
    "╔══<i><b>Alai-DeepLearning</b></i>════════════════════════════╗\n",
    "###  &nbsp;&nbsp; **✎&nbsp;&nbsp;Week 10. CNN Architectures**\n",
    "# Section 6. Batch Normalization 구현하기\n",
    "\n",
    "### _Objective_\n",
    "\n",
    "* Batch Normalization은 Tensorflow로 구현할 시 몇가지 주의해야 할 점들이 존재합니다.<br>\n",
    "* Low-API로 어떻게 구현하는지를 살펴보고 High-API를 어떻게 이용하는지 배워보도록 하겠습니다.\n",
    "  \n",
    "╚═════════════════════════════════════════╝"
   ]
  },
  {
   "cell_type": "code",
   "execution_count": 0,
   "metadata": {
    "id": "43lV-3SimvGE",
    "colab_type": "code",
    "colab": {}
   },
   "outputs": [],
   "source": [
    "%matplotlib inline\n",
    "import numpy as np\n",
    "import matplotlib.pyplot as plt\n",
    "\n",
    "from tqdm import tqdm\n",
    "import tensorflow as tf\n",
    "import cv2"
   ]
  },
  {
   "cell_type": "markdown",
   "metadata": {
    "id": "0rZPmxy9mvGH",
    "colab_type": "text"
   },
   "source": [
    "## Graph Visualization"
   ]
  },
  {
   "cell_type": "code",
   "execution_count": 0,
   "metadata": {
    "id": "JaoKC19omvGH",
    "colab_type": "code",
    "colab": {}
   },
   "outputs": [],
   "source": [
    "from IPython.display import clear_output, Image, display, HTML\n",
    "import numpy as np    \n",
    "\n",
    "def strip_consts(graph_def, max_const_size=32):\n",
    "    \"\"\"Strip large constant values from graph_def.\"\"\"\n",
    "    strip_def = tf.GraphDef()\n",
    "    for n0 in graph_def.node:\n",
    "        n = strip_def.node.add() \n",
    "        n.MergeFrom(n0)\n",
    "        if n.op == 'Const':\n",
    "            tensor = n.attr['value'].tensor\n",
    "            size = len(tensor.tensor_content)\n",
    "            if size > max_const_size:\n",
    "                tensor.tensor_content = \"<stripped %d bytes>\"%size\n",
    "    return strip_def\n",
    "\n",
    "def show_graph(graph_def, max_const_size=32):\n",
    "    \"\"\"Visualize TensorFlow graph.\"\"\"\n",
    "    if hasattr(graph_def, 'as_graph_def'):\n",
    "        graph_def = graph_def.as_graph_def()\n",
    "    strip_def = strip_consts(graph_def, max_const_size=max_const_size)\n",
    "    code = \"\"\"\n",
    "        <script>\n",
    "          function load() {{\n",
    "            document.getElementById(\"{id}\").pbtxt = {data};\n",
    "          }}\n",
    "        </script>\n",
    "        <link rel=\"import\" href=\"https://tensorboard.appspot.com/tf-graph-basic.build.html\" onload=load()>\n",
    "        <div style=\"height:600px\">\n",
    "          <tf-graph-basic id=\"{id}\"></tf-graph-basic>\n",
    "        </div>\n",
    "    \"\"\".format(data=repr(str(strip_def)), id='graph'+str(np.random.rand()))\n",
    "\n",
    "    iframe = \"\"\"\n",
    "        <iframe seamless style=\"width:1200px;height:620px;border:0\" srcdoc=\"{}\"></iframe>\n",
    "    \"\"\".format(code.replace('\"', '&quot;'))\n",
    "    display(HTML(iframe))"
   ]
  },
  {
   "cell_type": "markdown",
   "metadata": {
    "id": "m6TOgnCbmvGJ",
    "colab_type": "text"
   },
   "source": [
    "<br>\n",
    "<br>\n",
    "\n",
    "# \\[ 1. Batch Normalization 구현 \\]\n",
    "---\n",
    "---"
   ]
  },
  {
   "cell_type": "markdown",
   "metadata": {
    "id": "C7E9E5kgmvGK",
    "colab_type": "text"
   },
   "source": [
    "<br>\n",
    "\n",
    "## 1. Batch Normalization Layer 구성하기\n",
    "----\n",
    "\n"
   ]
  },
  {
   "cell_type": "markdown",
   "metadata": {
    "id": "hr8qkt7lmvGK",
    "colab_type": "text"
   },
   "source": [
    "### (1) Mini-Batch 정규화 수행하기\n",
    "\n",
    "평균과 분산을 구하는 메소드로 Tensorflow에서는 `tf.nn.moments`를 제공합니다.<br>\n",
    "````python\n",
    "tf.nn.moments(\n",
    "    x,\n",
    "    axes,\n",
    "    shift=None,\n",
    "    name=None,\n",
    "    keep_dims=False\n",
    ")\n",
    "````\n",
    "\n",
    "으로, `axes`으로 주어진 축방향에 따라, 평균과 분산을 구하게 됩니다.<br>\n",
    "미니 배치 단위로 구해야 하기 때문에, 0번째 축으로 계산합니다.<br>\n",
    "\n",
    "Variance가 0인 경우, NaN값이 나오는 것을 방지하기 위해 작은 숫자인 epsilon을 더해줍니다.<br>"
   ]
  },
  {
   "cell_type": "code",
   "execution_count": 0,
   "metadata": {
    "id": "6FbnRyb9mvGL",
    "colab_type": "code",
    "colab": {}
   },
   "outputs": [],
   "source": [
    "graph = tf.Graph()\n",
    "with graph.as_default():\n",
    "    x = tf.placeholder(tf.float32,(None,32),name='inputs')\n",
    "    epsilon = 1e-3 \n",
    "    with tf.variable_scope('normalization'):\n",
    "        batch_mean, batch_var = tf.nn.moments(x,[0])\n",
    "        x_norm = (x-batch_mean)/tf.sqrt(batch_var+epsilon)"
   ]
  },
  {
   "cell_type": "markdown",
   "metadata": {
    "id": "T4UoonK7mvGN",
    "colab_type": "text"
   },
   "source": [
    "### (2) Scale Factor($\\gamma$)와 Shift Factor($\\beta$) 구성하기\n",
    "\n",
    "Scale Factor와 Shift Factor의 초기화는 논문에 명시되어 있지 않지만<br>\n",
    "원저자의 코드에 따르면, Scale Factor은 1로, Shift Factor는 0으로 초기화해줍니다."
   ]
  },
  {
   "cell_type": "code",
   "execution_count": 0,
   "metadata": {
    "id": "SgIuohhSmvGN",
    "colab_type": "code",
    "colab": {}
   },
   "outputs": [],
   "source": [
    "with graph.as_default():\n",
    "    input_size = x.get_shape()[-1]\n",
    "    gamma = tf.Variable(tf.ones(input_size), name='scale_factor')\n",
    "    beta = tf.Variable(tf.zeros(input_size), name='shift_factor')\n",
    "    \n",
    "    with tf.variable_scope('transformation'):\n",
    "        y = gamma * x_norm + beta"
   ]
  },
  {
   "cell_type": "markdown",
   "metadata": {
    "id": "L6iln6rkmvGP",
    "colab_type": "text"
   },
   "source": [
    "### (3) Test 과정에서의 평균과 분산 구하기\n",
    "\n",
    "Test 과정에서는 보통 Sample 한개씩 처리하기 때문에, 학습할 때처럼 <br>\n",
    "배치 단위의 평균과 분산이 계산되지 않습니다.<br>\n",
    "\n",
    "그렇기 때문에, 우리는 평균과 분산의 **추정치**를 계산해야 합니다.<br>\n",
    "논문에서는 간략히 아래와 같이 표현되어 있습니다.\n",
    "\n",
    "![Imgur](https://i.imgur.com/LecVZnA.png)\n",
    "\n",
    "Moving Average는 대표적으로 Optimizer 때 배웠던,<br>\n",
    "**지수이동평균(Exponential Moving Average)** 을 주로 이용합니다.\n",
    "\n",
    "지수이동평균의 수식은 아래와 같습니다.<br>\n",
    "$\n",
    "s_{n+1} = (1-\\beta) x_n + \\beta s_n\\\\\n",
    "x_n: \\mbox{최신 정보} \\\\\n",
    "s_n: \\mbox{과거 종합 정보} \\\\\n",
    "\\beta : \\mbox{계수},0<\\beta<1\n",
    "$"
   ]
  },
  {
   "cell_type": "code",
   "execution_count": 0,
   "metadata": {
    "id": "iOBRGCPam-o6",
    "colab_type": "code",
    "colab": {}
   },
   "outputs": [],
   "source": [
    "decay = 0.999\n",
    "graph = tf.Graph()\n",
    "with graph.as_default():\n",
    "   #fix me#"
   ]
  },
  {
   "cell_type": "markdown",
   "metadata": {
    "id": "XeWW8gCzmvGR",
    "colab_type": "text"
   },
   "source": [
    "위와 같이 Train 과정일 때에는 배치의 평균과 분산을 이용해 구하고, <br>\n",
    "Test 과정일 때에는 지수이동평균으로 추정된 평균과 분산을 이용해 구하게 됩니다.<br>\n",
    "\n"
   ]
  },
  {
   "cell_type": "markdown",
   "metadata": {
    "id": "qEUSwzMTmvGR",
    "colab_type": "text"
   },
   "source": [
    "### (4) `tf.nn.batch_normalization`을 이용\n",
    "\n",
    "````python\n",
    "x_norm = (x-batch_mean) / tf.sqrt(batch_var+epsilon)\n",
    "y = gamma * x_norm + beta\n",
    "````\n",
    "대신 우리는 `tf.nn.batch_normalization`을 통해 한 줄로 작성할 수 있습니다."
   ]
  },
  {
   "cell_type": "code",
   "execution_count": 0,
   "metadata": {
    "id": "uRCEecxHmvGS",
    "colab_type": "code",
    "colab": {}
   },
   "outputs": [],
   "source": [
    "decay = 0.999\n",
    "graph = tf.Graph()\n",
    "with graph.as_default():\n",
    "    #fix me#"
   ]
  },
  {
   "cell_type": "markdown",
   "metadata": {
    "id": "iyXCOQQJmvGT",
    "colab_type": "text"
   },
   "source": [
    "### (5) batch normalization wrapper 메소드로 정리하기\n",
    "\n",
    "High-API가 나오기 전에, 많은 사람들이 아래와 같은 방식으로,<br>\n",
    "Wrapper 메소드를 구현해 Batch Normalization 코드를 이용하였습니다."
   ]
  },
  {
   "cell_type": "code",
   "execution_count": 0,
   "metadata": {
    "id": "0Kso-gMKmvGU",
    "colab_type": "code",
    "colab": {}
   },
   "outputs": [],
   "source": [
    "def batch_normalization(inputs, is_train, decay=0.999, epsilon=1e-5):    \n",
    "    #fix me#\n",
    "    return y"
   ]
  },
  {
   "cell_type": "markdown",
   "metadata": {
    "id": "uZ4-EybTmvGW",
    "colab_type": "text"
   },
   "source": [
    "## 2. MNIST 데이터셋을 통한 Batch Normalization의 유무 비교\n",
    "----\n",
    "* Mnist를 학습시키는 모델을 통해, Batch Normalization의 유무가 어떤 차이를 보이는지 확인해보도록 하겠습니다."
   ]
  },
  {
   "cell_type": "markdown",
   "metadata": {
    "id": "Ms8dPcRFmvGW",
    "colab_type": "text"
   },
   "source": [
    "### (1) MNIST 불러오기"
   ]
  },
  {
   "cell_type": "code",
   "execution_count": 10,
   "metadata": {
    "id": "iFtiVFg0mvGX",
    "colab_type": "code",
    "colab": {
     "base_uri": "https://localhost:8080/",
     "height": 486.0
    },
    "outputId": "cc13e937-0c88-4bde-b6bf-9eb5dce97aed"
   },
   "outputs": [
    {
     "name": "stderr",
     "output_type": "stream",
     "text": [
      "WARNING: Logging before flag parsing goes to stderr.\n",
      "W0619 07:46:46.669321 140500557862784 deprecation.py:323] From <ipython-input-10-219623c18e16>:2: read_data_sets (from tensorflow.contrib.learn.python.learn.datasets.mnist) is deprecated and will be removed in a future version.\n",
      "Instructions for updating:\n",
      "Please use alternatives such as official/mnist/dataset.py from tensorflow/models.\n",
      "W0619 07:46:46.671215 140500557862784 deprecation.py:323] From /usr/local/lib/python3.6/dist-packages/tensorflow/contrib/learn/python/learn/datasets/mnist.py:260: maybe_download (from tensorflow.contrib.learn.python.learn.datasets.base) is deprecated and will be removed in a future version.\n",
      "Instructions for updating:\n",
      "Please write your own downloading logic.\n",
      "W0619 07:46:46.679584 140500557862784 deprecation.py:323] From /usr/local/lib/python3.6/dist-packages/tensorflow/contrib/learn/python/learn/datasets/base.py:252: _internal_retry.<locals>.wrap.<locals>.wrapped_fn (from tensorflow.contrib.learn.python.learn.datasets.base) is deprecated and will be removed in a future version.\n",
      "Instructions for updating:\n",
      "Please use urllib or similar directly.\n",
      "W0619 07:46:46.775971 140500557862784 deprecation.py:323] From /usr/local/lib/python3.6/dist-packages/tensorflow/contrib/learn/python/learn/datasets/mnist.py:262: extract_images (from tensorflow.contrib.learn.python.learn.datasets.mnist) is deprecated and will be removed in a future version.\n",
      "Instructions for updating:\n",
      "Please use tf.data to implement this functionality.\n"
     ]
    },
    {
     "name": "stdout",
     "output_type": "stream",
     "text": [
      "Successfully downloaded train-images-idx3-ubyte.gz 9912422 bytes.\n",
      "Extracting mnist/train-images-idx3-ubyte.gz\n"
     ]
    },
    {
     "name": "stderr",
     "output_type": "stream",
     "text": [
      "W0619 07:46:47.085227 140500557862784 deprecation.py:323] From /usr/local/lib/python3.6/dist-packages/tensorflow/contrib/learn/python/learn/datasets/mnist.py:267: extract_labels (from tensorflow.contrib.learn.python.learn.datasets.mnist) is deprecated and will be removed in a future version.\n",
      "Instructions for updating:\n",
      "Please use tf.data to implement this functionality.\n",
      "W0619 07:46:47.177082 140500557862784 deprecation.py:323] From /usr/local/lib/python3.6/dist-packages/tensorflow/contrib/learn/python/learn/datasets/mnist.py:290: DataSet.__init__ (from tensorflow.contrib.learn.python.learn.datasets.mnist) is deprecated and will be removed in a future version.\n",
      "Instructions for updating:\n",
      "Please use alternatives such as official/mnist/dataset.py from tensorflow/models.\n"
     ]
    },
    {
     "name": "stdout",
     "output_type": "stream",
     "text": [
      "Successfully downloaded train-labels-idx1-ubyte.gz 28881 bytes.\n",
      "Extracting mnist/train-labels-idx1-ubyte.gz\n",
      "Successfully downloaded t10k-images-idx3-ubyte.gz 1648877 bytes.\n",
      "Extracting mnist/t10k-images-idx3-ubyte.gz\n",
      "Successfully downloaded t10k-labels-idx1-ubyte.gz 4542 bytes.\n",
      "Extracting mnist/t10k-labels-idx1-ubyte.gz\n"
     ]
    }
   ],
   "source": [
    "from tensorflow.examples.tutorials.mnist import input_data\n",
    "mnist = input_data.read_data_sets('mnist/',one_hot=False)"
   ]
  },
  {
   "cell_type": "code",
   "execution_count": 0,
   "metadata": {
    "id": "PiYdEsyVmvGa",
    "colab_type": "code",
    "colab": {}
   },
   "outputs": [],
   "source": [
    "train_set = mnist.train\n",
    "valid_set = mnist.validation\n",
    "test_set = mnist.test"
   ]
  },
  {
   "cell_type": "markdown",
   "metadata": {
    "id": "mKKI4DTNmvGc",
    "colab_type": "text"
   },
   "source": [
    "### (2) Batch Normalization 없는 모델 학습시키기"
   ]
  },
  {
   "cell_type": "code",
   "execution_count": 0,
   "metadata": {
    "id": "ptP5MYdjmvGc",
    "colab_type": "code",
    "colab": {}
   },
   "outputs": [],
   "source": [
    "graph = tf.Graph()\n",
    "with graph.as_default():\n",
    "    #fix me #"
   ]
  },
  {
   "cell_type": "code",
   "execution_count": 0,
   "metadata": {
    "id": "iv9cB9JrmvGe",
    "colab_type": "code",
    "colab": {},
    "outputId": "9d36df8f-48fb-4943-81da-29798882d821"
   },
   "outputs": [
    {
     "name": "stderr",
     "output_type": "stream",
     "text": [
      "100%|██████████| 916/916 [00:00<00:00, 937.90it/s] \n",
      "100%|██████████| 916/916 [00:00<00:00, 946.13it/s] \n",
      "100%|██████████| 916/916 [00:00<00:00, 969.77it/s] \n",
      "100%|██████████| 916/916 [00:00<00:00, 977.75it/s] \n",
      "100%|██████████| 916/916 [00:01<00:00, 854.74it/s]\n",
      "100%|██████████| 916/916 [00:01<00:00, 800.92it/s]\n",
      "100%|██████████| 916/916 [00:01<00:00, 775.15it/s] \n",
      "100%|██████████| 916/916 [00:01<00:00, 747.95it/s] \n",
      "100%|██████████| 916/916 [00:00<00:00, 960.77it/s] \n",
      "100%|██████████| 916/916 [00:00<00:00, 949.79it/s] \n"
     ]
    }
   ],
   "source": [
    "num_epoch = 10\n",
    "num_batch = 60\n",
    "num_step = train_set.num_examples // num_batch\n",
    "\n",
    "acc_history_without_bn = []\n",
    "\n",
    "with graph.as_default():\n",
    "    sess = tf.Session(graph=graph)\n",
    "    sess.run([tf.global_variables_initializer()])\n",
    "    \n",
    "    for epoch in range(num_epoch):\n",
    "        #fix me #"
   ]
  },
  {
   "cell_type": "markdown",
   "metadata": {
    "id": "HkASFKB6mvGg",
    "colab_type": "text"
   },
   "source": [
    "### (3) Batch Normalization을 포함한 모델 구성하기"
   ]
  },
  {
   "cell_type": "code",
   "execution_count": 0,
   "metadata": {
    "id": "s1on8qQcmvGg",
    "colab_type": "code",
    "colab": {}
   },
   "outputs": [],
   "source": [
    "def dense_bn_relu(inputs, is_train, filters, name='dense'):\n",
    "    # (1) Logit 계산 -> (2) Batch Normalization 적용 -> (3) 활성화함수 \n",
    "    # 순으로 연산하는 메소드\n",
    "        #fix me#\n",
    "        return tf.nn.relu(bn)"
   ]
  },
  {
   "cell_type": "code",
   "execution_count": 0,
   "metadata": {
    "id": "GsHOvlUPmvGi",
    "colab_type": "code",
    "colab": {}
   },
   "outputs": [],
   "source": [
    "graph = tf.Graph()\n",
    "with graph.as_default():\n",
    "    #fix me #"
   ]
  },
  {
   "cell_type": "code",
   "execution_count": 0,
   "metadata": {
    "id": "5t0-OyZlmvGj",
    "colab_type": "code",
    "colab": {},
    "outputId": "8311b8c9-7314-42ad-c3b5-7fa6f11008ec"
   },
   "outputs": [
    {
     "name": "stderr",
     "output_type": "stream",
     "text": [
      "100%|██████████| 916/916 [00:01<00:00, 474.95it/s]\n",
      "100%|██████████| 916/916 [00:01<00:00, 593.29it/s]\n",
      "100%|██████████| 916/916 [00:01<00:00, 470.11it/s]\n",
      "100%|██████████| 916/916 [00:01<00:00, 550.22it/s]\n",
      "100%|██████████| 916/916 [00:01<00:00, 505.83it/s]\n",
      "100%|██████████| 916/916 [00:01<00:00, 570.45it/s]\n",
      "100%|██████████| 916/916 [00:01<00:00, 533.74it/s]\n",
      "100%|██████████| 916/916 [00:01<00:00, 514.88it/s]\n",
      "100%|██████████| 916/916 [00:01<00:00, 528.48it/s]\n",
      "100%|██████████| 916/916 [00:01<00:00, 512.16it/s]\n"
     ]
    }
   ],
   "source": [
    "num_epoch = 10\n",
    "num_batch = 60\n",
    "num_step = train_set.num_examples // num_batch\n",
    "\n",
    "acc_history_with_bn = []\n",
    "\n",
    "with graph.as_default():\n",
    "    #fix me#"
   ]
  },
  {
   "cell_type": "code",
   "execution_count": 0,
   "metadata": {
    "id": "-g2vvigPmvGl",
    "colab_type": "code",
    "colab": {},
    "outputId": "c0648a68-bd9d-4446-b052-ff518ac44491"
   },
   "outputs": [
    {
     "data": {
      "image/png": "[encoded data removed]",
      "text/plain": [
       "<Figure size 432x288 with 1 Axes>"
      ]
     },
     "metadata": {
      "tags": []
     },
     "output_type": "display_data"
    }
   ],
   "source": [
    "plt.plot(acc_history_with_bn, label='with_bn')\n",
    "plt.plot(acc_history_without_bn, label='without_bn')\n",
    "plt.legend()\n",
    "plt.show()"
   ]
  },
  {
   "cell_type": "markdown",
   "metadata": {
    "id": "ASEbM2kbmvGq",
    "colab_type": "text"
   },
   "source": [
    "배치노말 레이어가 있었을 때, 훨씬 더 빠르게 수렴함을 알 수 있습니다."
   ]
  },
  {
   "cell_type": "markdown",
   "metadata": {
    "id": "5gZk_SIJmvGr",
    "colab_type": "text"
   },
   "source": [
    "#  \n",
    "\n",
    "---\n",
    "\n",
    "    Copyright(c) 2019 by Public AI. All rights reserved.<br>\n",
    "    Writen by PAI, SangJae Kang ( rocketgrowthsj@publicai.co.kr )  last updated on 2019/05/07\n",
    "\n",
    "---"
   ]
  }
 ],
 "metadata": {
  "colab": {
   "name": "배포_6. Batch Normalization 구현하기.ipynb",
   "version": "0.3.2",
   "provenance": [],
   "collapsed_sections": []
  },
  "language_info": {
   "codemirror_mode": {
    "name": "ipython",
    "version": 3.0
   },
   "file_extension": ".py",
   "mimetype": "text/x-python",
   "name": "python",
   "nbconvert_exporter": "python",
   "pygments_lexer": "ipython3",
   "version": "3.6.5"
  },
  "kernelspec": {
   "display_name": "Python 3",
   "language": "python",
   "name": "python3"
  }
 },
 "nbformat": 4,
 "nbformat_minor": 0
}