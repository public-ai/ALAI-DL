{
 "cells": [
  {
   "cell_type": "markdown",
   "metadata": {
    "id": "mxdI7uQKyWio",
    "colab_type": "text"
   },
   "source": [
    "╔══<i><b>Alai-DeepLearning</b></i>════════════════════════════╗\n",
    "###  &nbsp;&nbsp; **✎&nbsp;&nbsp;Week 10. CNN Architectures**\n",
    "# Section 7. Batch Normalization을 통한 VGG19 학습하기\n",
    "\n",
    "### _Objective_\n",
    "\n",
    "1. Batch Normalization을 VGG19에 포함시킨 후, 어떤식으로 학습하는지 배워보도록 하겠습니다.<br>\n",
    "  \n",
    "╚═════════════════════════════════════════╝"
   ]
  },
  {
   "cell_type": "code",
   "execution_count": 0,
   "metadata": {
    "id": "acJLz9yLyWip",
    "colab_type": "code",
    "colab": {},
    "outputId": "504e89d2-c4f5-4530-a29a-cff0a6ea19b2"
   },
   "outputs": [
    {
     "name": "stdout",
     "output_type": "stream",
     "text": [
      "Requirement already satisfied: tensorboardcolab in /Users/ksj/anaconda3/lib/python3.6/site-packages (0.0.22)\n",
      "\u001b[33mYou are using pip version 18.1, however version 19.1.1 is available.\n",
      "You should consider upgrading via the 'pip install --upgrade pip' command.\u001b[0m\n"
     ]
    },
    {
     "name": "stderr",
     "output_type": "stream",
     "text": [
      "Using TensorFlow backend.\n"
     ]
    }
   ],
   "source": [
    "%matplotlib inline\n",
    "import numpy as np\n",
    "import matplotlib.pyplot as plt\n",
    "import cv2\n",
    "import tensorflow as tf\n",
    "from tqdm import tqdm\n",
    "import os\n",
    "import shutil\n",
    "\n",
    "!pip install tensorboardcolab\n",
    "import tensorboardcolab"
   ]
  },
  {
   "cell_type": "markdown",
   "metadata": {
    "id": "nUqy_7aEyWit",
    "colab_type": "text"
   },
   "source": [
    "## Graph Visualization"
   ]
  },
  {
   "cell_type": "code",
   "execution_count": 0,
   "metadata": {
    "id": "qirrsbLcyWit",
    "colab_type": "code",
    "colab": {}
   },
   "outputs": [],
   "source": [
    "from IPython.display import clear_output, Image, display, HTML\n",
    "import numpy as np    \n",
    "\n",
    "def strip_consts(graph_def, max_const_size=32):\n",
    "    \"\"\"Strip large constant values from graph_def.\"\"\"\n",
    "    strip_def = tf.GraphDef()\n",
    "    for n0 in graph_def.node:\n",
    "        n = strip_def.node.add() \n",
    "        n.MergeFrom(n0)\n",
    "        if n.op == 'Const':\n",
    "            tensor = n.attr['value'].tensor\n",
    "            size = len(tensor.tensor_content)\n",
    "            if size > max_const_size:\n",
    "                tensor.tensor_content = \"<stripped %d bytes>\"%size\n",
    "    return strip_def\n",
    "\n",
    "def show_graph(graph_def, max_const_size=32):\n",
    "    \"\"\"Visualize TensorFlow graph.\"\"\"\n",
    "    if hasattr(graph_def, 'as_graph_def'):\n",
    "        graph_def = graph_def.as_graph_def()\n",
    "    strip_def = strip_consts(graph_def, max_const_size=max_const_size)\n",
    "    code = \"\"\"\n",
    "        <script>\n",
    "          function load() {{\n",
    "            document.getElementById(\"{id}\").pbtxt = {data};\n",
    "          }}\n",
    "        </script>\n",
    "        <link rel=\"import\" href=\"https://tensorboard.appspot.com/tf-graph-basic.build.html\" onload=load()>\n",
    "        <div style=\"height:600px\">\n",
    "          <tf-graph-basic id=\"{id}\"></tf-graph-basic>\n",
    "        </div>\n",
    "    \"\"\".format(data=repr(str(strip_def)), id='graph'+str(np.random.rand()))\n",
    "\n",
    "    iframe = \"\"\"\n",
    "        <iframe seamless style=\"width:1200px;height:620px;border:0\" srcdoc=\"{}\"></iframe>\n",
    "    \"\"\".format(code.replace('\"', '&quot;'))\n",
    "    display(HTML(iframe))"
   ]
  },
  {
   "cell_type": "markdown",
   "metadata": {
    "id": "VfvMaQAKyWiv",
    "colab_type": "text"
   },
   "source": [
    "## 예제 데이터셋) CIFAR-100"
   ]
  },
  {
   "cell_type": "code",
   "execution_count": 0,
   "metadata": {
    "id": "DOEnxsisyWiw",
    "colab_type": "code",
    "colab": {}
   },
   "outputs": [],
   "source": [
    "from tensorflow.keras.datasets.cifar100 import load_data\n",
    "(train_x, train_y), (test_x, test_y) = load_data()"
   ]
  },
  {
   "cell_type": "code",
   "execution_count": 0,
   "metadata": {
    "id": "4DxKglueyWix",
    "colab_type": "code",
    "colab": {}
   },
   "outputs": [],
   "source": [
    "class Dataset:\n",
    "    # fix me #"
   ]
  },
  {
   "cell_type": "code",
   "execution_count": 0,
   "metadata": {
    "id": "u26n_DK7yWiz",
    "colab_type": "code",
    "colab": {},
    "outputId": "e03322d0-e99a-4985-cc43-7385bc7ff961"
   },
   "outputs": [
    {
     "data": {
      "image/png": "[encoded data removed]",
      "text/plain": [
       "<Figure size 720x216 with 5 Axes>"
      ]
     },
     "metadata": {
      "tags": []
     },
     "output_type": "display_data"
    }
   ],
   "source": [
    "# 이미지 시각화하기\n",
    "train_set = Dataset(train_x,train_y)\n",
    "num_sample = 5\n",
    "\n",
    "sample_x, sample_y = train_set.next_batch(num_sample)\n",
    "\n",
    "fig = plt.figure(figsize=(10,3))\n",
    "axes = fig.subplots(1,num_sample)\n",
    "\n",
    "for ax, image, label in zip(axes, sample_x, sample_y):\n",
    "    ax.set_title(label)\n",
    "    ax.imshow(image)\n",
    "plt.show()"
   ]
  },
  {
   "cell_type": "markdown",
   "metadata": {
    "id": "z3VdPG3QyWi1",
    "colab_type": "text"
   },
   "source": [
    "<br>\n",
    "\n",
    "# \\[ 1. BatchNormalization을 포함한 VGG 19 구성하기 \\]\n",
    "\n",
    "---\n",
    "---\n",
    "\n",
    "> *Batch Normalization이 나온 후, 많은 인공 신경망에서는 Fully Connected Layer 혹은  Convolution Layer 이후에 추가하였습니다.* <br>\n",
    "> *Batch Normalization을 통해, 복잡한 Transfer Learning 없이도 VGG 19를 한번에 학습시킬 수 있게 되었습니다.* <br>"
   ]
  },
  {
   "cell_type": "markdown",
   "metadata": {
    "id": "tQflgBhTyWi2",
    "colab_type": "text"
   },
   "source": [
    "<br>\n",
    "\n",
    "## 1. Batch Normalization Layer을 추가시키기\n",
    "----\n",
    "\n",
    "* 논문에서는 Activation Function 이전에 Batch Normalization Layer을 포함시켰습니다.<br>\n",
    "* 하지만, Activation Function 이후에 Batch Normalization Layer을 포함시켜야, Activation Function으로 인한 분포의 변화가 발생하지 않기 때문입니다.<br>\n",
    "* 심지어 실험을 했을 때, Activation Function 이후에 Batch Normalization Layer을 포함시켰을 때, 성능 향상이 더 좋았다는 보고도 있습니다.<br>\n",
    "\n",
    "참고 : [reddit - Batch Normalization before or after ReLU](https://www.reddit.com/r/MachineLearning/comments/67gonq/d_batch_normalization_before_or_after_relu/)"
   ]
  },
  {
   "cell_type": "markdown",
   "metadata": {
    "id": "4srcqRXgyWi2",
    "colab_type": "text"
   },
   "source": [
    "### (1) Convolution Network 구성하기\n",
    "\n",
    "![Imgur](https://i.imgur.com/YeoF2AE.png)\n",
    "\n",
    "* 이전과 동일하되, Convolution Layer와 Fully Connected 이후에 Batch Normalization을 포함시키도록 하겠습니다. \n",
    "* Batch Normalization은 약간의 정규화 효과가 있기 때문에, Dropout의 Rate을 50%에서 40%로 줄이겠습니다."
   ]
  },
  {
   "cell_type": "markdown",
   "metadata": {
    "id": "7gvrlKMHyWi3",
    "colab_type": "text"
   },
   "source": [
    "\n",
    "> 텐서플로우에서는 Batch Normalization에 대한 High-API를 제공하고 있습니다.<br>\n",
    "````python\n",
    "tf.layers.BatchNormalization()(inputs, training=is_train)\n",
    "````\n",
    "inputs에는 입력할 텐서, training에는 Train/Test를 결정하는 Boolean Tensor가 들어갑니다."
   ]
  },
  {
   "cell_type": "code",
   "execution_count": 0,
   "metadata": {
    "id": "L34XpBImyWi3",
    "colab_type": "code",
    "colab": {}
   },
   "outputs": [],
   "source": [
    "input_shape = (None,32,32,3) # Cifar-100 이미지 크기\n",
    "num_classes = 100 # cifar-100 클래스 수\n",
    "\n",
    "graph = tf.Graph()\n",
    "with graph.as_default():\n",
    "    #fix me #"
   ]
  },
  {
   "cell_type": "markdown",
   "metadata": {
    "id": "KCaNgiC5yWi5",
    "colab_type": "text"
   },
   "source": [
    "### (2) Dense Network 구성하기"
   ]
  },
  {
   "cell_type": "code",
   "execution_count": 0,
   "metadata": {
    "id": "FF-DGWZ4yWi5",
    "colab_type": "code",
    "colab": {}
   },
   "outputs": [],
   "source": [
    "dropout_ratio = 0.4\n",
    "with graph.as_default():\n",
    "    with tf.variable_scope('FC'):\n",
    "        #fix me#\n",
    "\n",
    "        \n",
    "    logits = tf.identity(logits,name='logits')\n",
    "    pred = tf.nn.softmax(logits,name='predictions')"
   ]
  },
  {
   "cell_type": "markdown",
   "metadata": {
    "id": "KxJfQ6SzyWi9",
    "colab_type": "text"
   },
   "source": [
    "### (3) Loss 함수 구성하기\n",
    "\n",
    "![Imgur](https://i.imgur.com/N9VrGkE.png)\n",
    "\n",
    "Batch Normalization을 적용하면, Weight Decay 값을 이전보다 줄여도 되고, 줄이는 것이 보다 성능 향상을 가져온다고 합니다.<Br>\n"
   ]
  },
  {
   "cell_type": "code",
   "execution_count": 0,
   "metadata": {
    "id": "ueHMVpwtyWi9",
    "colab_type": "code",
    "colab": {},
    "outputId": "b4402ec5-de51-4739-8101-64eec1aae234"
   },
   "outputs": [
    {
     "name": "stdout",
     "output_type": "stream",
     "text": [
      "WARNING:tensorflow:From /Users/ksj/anaconda3/lib/python3.6/site-packages/tensorflow/python/ops/losses/losses_impl.py:209: to_float (from tensorflow.python.ops.math_ops) is deprecated and will be removed in a future version.\n",
      "Instructions for updating:\n",
      "Use tf.cast instead.\n"
     ]
    }
   ],
   "source": [
    "weight_decay = 1e-4 # 5e-4 -> 1e-4로 줄임\n",
    "with graph.as_default():\n",
    "    with tf.variable_scope(\"losses\"):\n",
    "        #fix me#\n",
    "    loss = tf.identity(loss, name='loss')"
   ]
  },
  {
   "cell_type": "markdown",
   "metadata": {
    "id": "Ox2B2SgGyWjA",
    "colab_type": "text"
   },
   "source": [
    "### (4) Optimizer 구성하기\n",
    "\n",
    "````python\n",
    "tf.layers.BatchNormalization()(inputs, training=is_train)\n",
    "````\n",
    "으로 Batch Normalization을 구성하였을 때, 잊지 않고 구성해야하는 것이 있습니다.<br>\n",
    "위의 High-API를 이용하면, Batch Normalization 내부의 변수인 `mean`과 `variance`를 학습때마다 갱신해주어야 합니다.<br>\n",
    "\n",
    "train_op를 실행할 때마다 `mean`과 `variance`를 갱신하려면, 아래와 같이 `tf.control_dependencies`를 이용하면 됩니다. <br>\n"
   ]
  },
  {
   "cell_type": "code",
   "execution_count": 0,
   "metadata": {
    "id": "bJb-vmrGyWjA",
    "colab_type": "code",
    "colab": {},
    "outputId": "8aa1fe63-4b43-4820-f711-60142a63ce4d"
   },
   "outputs": [
    {
     "data": {
      "text/plain": [
       "[<tf.Operation 'VGGBlock-1/batch_normalization/AssignMovingAvg' type=AssignSub>,\n",
       " <tf.Operation 'VGGBlock-1/batch_normalization/AssignMovingAvg_1' type=AssignSub>,\n",
       " <tf.Operation 'VGGBlock-1/batch_normalization_1/AssignMovingAvg' type=AssignSub>,\n",
       " <tf.Operation 'VGGBlock-1/batch_normalization_1/AssignMovingAvg_1' type=AssignSub>,\n",
       " <tf.Operation 'VGGBlock-2/batch_normalization/AssignMovingAvg' type=AssignSub>,\n",
       " <tf.Operation 'VGGBlock-2/batch_normalization/AssignMovingAvg_1' type=AssignSub>,\n",
       " <tf.Operation 'VGGBlock-2/batch_normalization_1/AssignMovingAvg' type=AssignSub>,\n",
       " <tf.Operation 'VGGBlock-2/batch_normalization_1/AssignMovingAvg_1' type=AssignSub>,\n",
       " <tf.Operation 'VGGBlock-3/batch_normalization/AssignMovingAvg' type=AssignSub>,\n",
       " <tf.Operation 'VGGBlock-3/batch_normalization/AssignMovingAvg_1' type=AssignSub>]"
      ]
     },
     "execution_count": 21,
     "metadata": {
      "tags": []
     },
     "output_type": "execute_result"
    }
   ],
   "source": [
    "# 평균값과 분산에 대한 지수이동평균해주는 코드들\n",
    "update_ops = graph.get_collection(tf.GraphKeys.UPDATE_OPS)\n",
    "update_ops[:10]"
   ]
  },
  {
   "cell_type": "code",
   "execution_count": 0,
   "metadata": {
    "id": "Y5yHXpmvyWjC",
    "colab_type": "code",
    "colab": {}
   },
   "outputs": [],
   "source": [
    "momentum = 0.9\n",
    "with graph.as_default():\n",
    "    lr = tf.placeholder_with_default(1e-2,(),name='learning_rate')    \n",
    "    global_step = tf.train.get_or_create_global_step()\n",
    "    with tf.variable_scope(\"optimizer\"):\n",
    "        update_ops = #fix me #\n",
    "        with tf.control_dependencies(update_ops):\n",
    "            #fix me #"
   ]
  },
  {
   "cell_type": "markdown",
   "metadata": {
    "id": "aie6vWwByWjE",
    "colab_type": "text"
   },
   "source": [
    "### (4) Metric 구성하기"
   ]
  },
  {
   "cell_type": "code",
   "execution_count": 0,
   "metadata": {
    "id": "8y9eZ1adyWjF",
    "colab_type": "code",
    "colab": {}
   },
   "outputs": [],
   "source": [
    "with graph.as_default():\n",
    "    with tf.variable_scope('metrics'):\n",
    "        #fix me #"
   ]
  },
  {
   "cell_type": "markdown",
   "metadata": {
    "id": "Cc-yG0toyWjG",
    "colab_type": "text"
   },
   "source": [
    "<br>\n",
    "\n",
    "## 2. 모델 학습시키기\n",
    "----\n",
    "\n"
   ]
  },
  {
   "cell_type": "markdown",
   "metadata": {
    "id": "ErLQSvhmyWjH",
    "colab_type": "text"
   },
   "source": [
    "### (1) 데이터 셋 구성하기\n"
   ]
  },
  {
   "cell_type": "code",
   "execution_count": 0,
   "metadata": {
    "id": "wsOC88OFyWjI",
    "colab_type": "code",
    "colab": {}
   },
   "outputs": [],
   "source": [
    "(train_x, train_y), (test_x, test_y) = load_data()\n",
    "train_y = train_y.reshape((-1,)) # (None, 1) -> (None, )\n",
    "test_y = test_y.reshape((-1,)) # (None, 1) -> (None, )\n",
    "\n",
    "train_set = Dataset(train_x,train_y)\n",
    "test_set = Dataset(test_x,test_y)"
   ]
  },
  {
   "cell_type": "markdown",
   "metadata": {
    "id": "FsVTdcUfyWjJ",
    "colab_type": "text"
   },
   "source": [
    "### (2) Data Augmentation 적용하기\n",
    "\n",
    "이전 Section에서 배웠던 몇 가지 Data Augmentation 기법을 활용해 보도록 하겠습니다.<br>"
   ]
  },
  {
   "cell_type": "code",
   "execution_count": 0,
   "metadata": {
    "id": "7YZyapi8yWjK",
    "colab_type": "code",
    "colab": {}
   },
   "outputs": [],
   "source": [
    "#fix me#"
   ]
  },
  {
   "cell_type": "code",
   "execution_count": 0,
   "metadata": {
    "id": "Szio4TWNyWjM",
    "colab_type": "code",
    "colab": {}
   },
   "outputs": [],
   "source": [
    ""
   ]
  },
  {
   "cell_type": "code",
   "execution_count": 0,
   "metadata": {
    "id": "_vIoAtcryWjO",
    "colab_type": "code",
    "colab": {}
   },
   "outputs": [],
   "source": [
    ""
   ]
  },
  {
   "cell_type": "markdown",
   "metadata": {
    "id": "mIeACc6TyWjS",
    "colab_type": "text"
   },
   "source": [
    "### (2) 학습과정을 기록할 Tensorboard 구성하기"
   ]
  },
  {
   "cell_type": "code",
   "execution_count": 0,
   "metadata": {
    "id": "Ybubq-DlyWjT",
    "colab_type": "code",
    "colab": {}
   },
   "outputs": [],
   "source": [
    "# LOG PATH Setting\n",
    "LOG_DIR = \"./log\"\n",
    "if os.path.exists(LOG_DIR):\n",
    "    shutil.rmtree(LOG_DIR)\n",
    "os.makedirs(LOG_DIR,exist_ok=True)\n",
    "\n",
    "tbc = tensorboardcolab.TensorBoardColab(graph_path=LOG_DIR)\n",
    "\n",
    "train_writer = tf.summary.FileWriter(LOG_DIR+\"/train\", graph)\n",
    "test_writer = tf.summary.FileWriter(LOG_DIR+\"/test\")"
   ]
  },
  {
   "cell_type": "markdown",
   "metadata": {
    "id": "XJh8AUkSyWjV",
    "colab_type": "text"
   },
   "source": [
    "### (3) 세션 초기화하기"
   ]
  },
  {
   "cell_type": "code",
   "execution_count": 0,
   "metadata": {
    "id": "BbLCfXfByWjW",
    "colab_type": "code",
    "colab": {}
   },
   "outputs": [],
   "source": [
    "# 변수 초기화 및 Operation 가져오기\n",
    "sess = tf.Session(graph=graph)\n",
    "with graph.as_default():\n",
    "    sess.run(#fix me#)"
   ]
  },
  {
   "cell_type": "markdown",
   "metadata": {
    "id": "ZA3S_drlyWjY",
    "colab_type": "text"
   },
   "source": [
    "### (4) 모델 학습하기 "
   ]
  },
  {
   "cell_type": "code",
   "execution_count": 0,
   "metadata": {
    "id": "4HgZl_jTyWjY",
    "colab_type": "code",
    "colab": {}
   },
   "outputs": [],
   "source": [
    "num_epoch = 50\n",
    "num_batch = 128\n",
    "num_data = len(train_set)\n",
    "\n",
    "for epoch in range(num_epoch):\n",
    "    # Fitting Model  \n",
    "    for step in tqdm(range(num_data//num_batch)):\n",
    "       #fix me#"
   ]
  },
  {
   "cell_type": "markdown",
   "metadata": {
    "id": "BUi83-NYyWja",
    "colab_type": "text"
   },
   "source": [
    "#  \n",
    "\n",
    "---\n",
    "\n",
    "    Copyright(c) 2019 by Public AI. All rights reserved.<br>\n",
    "    Writen by PAI, SangJae Kang ( rocketgrowthsj@publicai.co.kr )  last updated on 2019/05/07\n",
    "\n",
    "---"
   ]
  }
 ],
 "metadata": {
  "colab": {
   "name": "7. Batch Normalization을 통한 VGG19 학습하기.ipynb",
   "version": "0.3.2",
   "provenance": [],
   "collapsed_sections": []
  },
  "language_info": {
   "codemirror_mode": {
    "name": "ipython",
    "version": 3.0
   },
   "file_extension": ".py",
   "mimetype": "text/x-python",
   "name": "python",
   "nbconvert_exporter": "python",
   "pygments_lexer": "ipython3",
   "version": "3.6.5"
  },
  "kernelspec": {
   "display_name": "Python 3",
   "language": "python",
   "name": "python3"
  }
 },
 "nbformat": 4,
 "nbformat_minor": 0
}