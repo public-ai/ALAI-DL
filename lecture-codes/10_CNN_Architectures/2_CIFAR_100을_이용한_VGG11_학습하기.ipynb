{
 "cells": [
  {
   "cell_type": "markdown",
   "metadata": {
    "id": "iC7Gp5asbhRU",
    "colab_type": "text"
   },
   "source": [
    "╔══<i><b>Alai-DeepLearning</b></i>════════════════════════════╗\n",
    "###  &nbsp;&nbsp; **✎&nbsp;&nbsp;Week 10. CNN Architectures**\n",
    "# Section 2. CIFAR-100을 이용한 VGG11 학습하기\n",
    "\n",
    "### _Objective_\n",
    "\n",
    "1. CIFAR-100 데이터셋을 바탕으로, VGG Network를 학습시켜 보도록 하겠습니다. <br>\n",
    "  \n",
    "╚═════════════════════════════════════════╝"
   ]
  },
  {
   "cell_type": "code",
   "execution_count": 1,
   "metadata": {
    "id": "-KBUnFjtbhRV",
    "colab_type": "code",
    "colab": {
     "base_uri": "https://localhost:8080/",
     "height": 70.0
    },
    "outputId": "3f5aba09-b1f7-46e7-8e0f-04e5c3c8d250"
   },
   "outputs": [
    {
     "name": "stdout",
     "output_type": "stream",
     "text": [
      "Requirement already satisfied: tensorboardcolab in /usr/local/lib/python3.6/dist-packages (0.0.22)\n"
     ]
    },
    {
     "name": "stderr",
     "output_type": "stream",
     "text": [
      "Using TensorFlow backend.\n"
     ]
    }
   ],
   "source": [
    "%matplotlib inline\n",
    "import numpy as np\n",
    "import matplotlib.pyplot as plt\n",
    "import cv2\n",
    "import tensorflow as tf\n",
    "from tqdm import tqdm\n",
    "import os\n",
    "import shutil\n",
    "\n",
    "!pip install tensorboardcolab\n",
    "import tensorboardcolab"
   ]
  },
  {
   "cell_type": "markdown",
   "metadata": {
    "id": "zBs-f0d7bhRY",
    "colab_type": "text"
   },
   "source": [
    "## Graph Visualization"
   ]
  },
  {
   "cell_type": "code",
   "execution_count": 0,
   "metadata": {
    "id": "t1bk4lvYbhRY",
    "colab_type": "code",
    "colab": {}
   },
   "outputs": [],
   "source": [
    "from IPython.display import clear_output, Image, display, HTML\n",
    "import numpy as np    \n",
    "\n",
    "def strip_consts(graph_def, max_const_size=32):\n",
    "    \"\"\"Strip large constant values from graph_def.\"\"\"\n",
    "    strip_def = tf.GraphDef()\n",
    "    for n0 in graph_def.node:\n",
    "        n = strip_def.node.add() \n",
    "        n.MergeFrom(n0)\n",
    "        if n.op == 'Const':\n",
    "            tensor = n.attr['value'].tensor\n",
    "            size = len(tensor.tensor_content)\n",
    "            if size > max_const_size:\n",
    "                tensor.tensor_content = \"<stripped %d bytes>\"%size\n",
    "    return strip_def\n",
    "\n",
    "def show_graph(graph_def, max_const_size=32):\n",
    "    \"\"\"Visualize TensorFlow graph.\"\"\"\n",
    "    if hasattr(graph_def, 'as_graph_def'):\n",
    "        graph_def = graph_def.as_graph_def()\n",
    "    strip_def = strip_consts(graph_def, max_const_size=max_const_size)\n",
    "    code = \"\"\"\n",
    "        <script>\n",
    "          function load() {{\n",
    "            document.getElementById(\"{id}\").pbtxt = {data};\n",
    "          }}\n",
    "        </script>\n",
    "        <link rel=\"import\" href=\"https://tensorboard.appspot.com/tf-graph-basic.build.html\" onload=load()>\n",
    "        <div style=\"height:600px\">\n",
    "          <tf-graph-basic id=\"{id}\"></tf-graph-basic>\n",
    "        </div>\n",
    "    \"\"\".format(data=repr(str(strip_def)), id='graph'+str(np.random.rand()))\n",
    "\n",
    "    iframe = \"\"\"\n",
    "        <iframe seamless style=\"width:1200px;height:620px;border:0\" srcdoc=\"{}\"></iframe>\n",
    "    \"\"\".format(code.replace('\"', '&quot;'))\n",
    "    display(HTML(iframe))"
   ]
  },
  {
   "cell_type": "markdown",
   "metadata": {
    "id": "5K1IMGRJbhRa",
    "colab_type": "text"
   },
   "source": [
    "### 예제 데이터셋) CIFAR-100\n",
    "\n",
    "* `CIFAR-100`은 (32,32,3)의 크기로 구성된 데이터셋으로, 클래스의 수가 100개에 달합니다. 학습데이터 셋은 50000장이고, 평가데이터 셋은 10000장입니다. 각 클래스별로 학습할 데이터가 500장에 불과하고, 클래스가 다양해, 학습이 어려운 데이터셋에 속합니다. 2015년전까지는 최고 성능이 65.4%에 불과하였습니다\n",
    "\n",
    "![Imgur](https://i.imgur.com/lUo0jQs.png)\n",
    "\n",
    "링크 : [Image Classification on CIFAR-100](https://paperswithcode.com/sota/image-classification-on-cifar-100)"
   ]
  },
  {
   "cell_type": "code",
   "execution_count": 3,
   "metadata": {
    "id": "uCH8TVrqbhRb",
    "colab_type": "code",
    "colab": {
     "base_uri": "https://localhost:8080/",
     "height": 50.0
    },
    "outputId": "1a56edb9-b797-4700-af54-45fcdf285693"
   },
   "outputs": [
    {
     "name": "stdout",
     "output_type": "stream",
     "text": [
      "Downloading data from https://www.cs.toronto.edu/~kriz/cifar-100-python.tar.gz\n",
      "169009152/169001437 [==============================] - 4s 0us/step\n"
     ]
    }
   ],
   "source": [
    "from tensorflow.keras.datasets.cifar100 import load_data\n",
    "(train_x, train_y), (test_x, test_y) = load_data()"
   ]
  },
  {
   "cell_type": "code",
   "execution_count": 0,
   "metadata": {
    "id": "Wm4RM1xfbhRc",
    "colab_type": "code",
    "colab": {}
   },
   "outputs": [],
   "source": [
    "class Dataset:\n",
    "    # 데이터셋을 배치 단위로 처리할 수 있도록 도와주는 Class\n",
    "    def __init__(self, images, labels):\n",
    "        \n",
    "    def __len__(self):\n",
    "\n",
    "    def next_batch(self, batch_size=32):\n",
    "        if self.counter + batch_size > len(self.images):\n",
    "        return batch_images.copy(), batch_labels.copy()\n",
    "    \n",
    "    def shuffle(self):\n",
    "        # 데이터 셋을 섞어주는 함수"
   ]
  },
  {
   "cell_type": "code",
   "execution_count": 0,
   "metadata": {
    "id": "XyLm_IrsbhRf",
    "colab_type": "code",
    "colab": {}
   },
   "outputs": [],
   "source": [
    "# 이미지 시각화하기\n",
    "train_set = Dataset(train_x,train_y)\n",
    "num_sample = 5\n",
    "\n",
    "sample_x, sample_y = train_set.next_batch(num_sample)\n",
    "\n",
    "fig = plt.figure(figsize=(10,3))\n",
    "axes = fig.subplots(1,num_sample)\n",
    "\n",
    "for ax, image, label in zip(axes, sample_x, sample_y):\n",
    "    ax.set_title(label)\n",
    "    ax.imshow(image)\n",
    "plt.show()"
   ]
  },
  {
   "cell_type": "markdown",
   "metadata": {
    "id": "7xgFsk6QbhRh",
    "colab_type": "text"
   },
   "source": [
    "<br>\n",
    "\n",
    "# \\[ 1. VGG 11 구성하기 \\]\n",
    "---\n",
    "---\n",
    "\n",
    "> *VGG Network가 당시에 최고의 성능을 낼 수 있었던 이유는 바로 Layer의 깊이에 있습니다.*<br>\n",
    "> *VGG Network는 Scratch부터 학습하는 방식이 아닌, 우선 적은 층으로 학습한 후, Transfer Learning을 통해, 깊게 학습시키는 방식으로 진행되었습니다*<br>\n",
    "![Imgur](https://i.imgur.com/SThj0UX.png)"
   ]
  },
  {
   "cell_type": "markdown",
   "metadata": {
    "id": "aF3-kdW9bhRh",
    "colab_type": "text"
   },
   "source": [
    "## 1. Inference Network 구성하기\n",
    "----\n",
    "\n",
    "![Imgur](https://i.imgur.com/1VZF2ZO.png)\n",
    "\n",
    "* ImageNet에서의 Hyper-Parameter를 바로 적용하기에 몇가지 수정이 필요합니다.<br>\n",
    "* 이미지의 크기가 imagenet에 비해 8배정도 작기 때문에, 첫 두개의 max-pooling layer를 생략하였습니다.<br>\n",
    "* Class 수가 1000개에서 100개로 줄었기 때문에, Fully Connected Layer의 노드 수를 4096에서 1024로 줄였습니다.\n",
    "* 이미지의 복잡도도 좀 더 작다고 판단되기 때문에, Convolution Filter의 갯수들을 모두 1/2로 줄였습니다."
   ]
  },
  {
   "cell_type": "code",
   "execution_count": 0,
   "metadata": {
    "id": "szqcGGH2bhRi",
    "colab_type": "code",
    "colab": {}
   },
   "outputs": [],
   "source": [
    "input_shape = (None,32,32,3) # Cifar-100 이미지 크기\n",
    "num_classes = 100 # cifar-100 클래스 수\n",
    "\n",
    "graph = tf.Graph()\n",
    "with graph.as_default():\n",
    "    images = #fix me #\n",
    "    labels = #fix me #\n",
    "    is_train = #fix me #\n",
    "    \n",
    "    with tf.variable_scope(\"preprocess\"):\n",
    "        vgg_mean = #fix me #\n",
    "        x = #fix me #\n",
    "    \n",
    "    with tf.variable_scope('VGGBlock-1'):\n",
    "    # 이미지가 224에 비해 매우 작기 때문에, maxpooling Layer를 생략하였습니다.\n",
    "        #fix me #\n",
    "    with tf.variable_scope('VGGBlock-2'):\n",
    "    # 이미지가 224에 비해 매우 작기 때문에, maxpooling Layer를 생략하였습니다.            \n",
    "        #fix me #\n",
    "    with tf.variable_scope('VGGBlock-3'):\n",
    "        #fix me #\n",
    "    with tf.variable_scope('VGGBlock-4'):\n",
    "        #fix me #\n",
    "    with tf.variable_scope('VGGBlock-5'):\n",
    "        #fix me #\n",
    "    with tf.variable_scope('FC'):\n",
    "        #fix me #\n",
    "    logits = tf.identity(logits,name='logits')\n",
    "    pred = tf.nn.softmax(logits,name='predictions')"
   ]
  },
  {
   "cell_type": "code",
   "execution_count": 0,
   "metadata": {
    "id": "2Hau9g6obhRj",
    "colab_type": "code",
    "colab": {}
   },
   "outputs": [],
   "source": [
    "show_graph(graph)"
   ]
  },
  {
   "cell_type": "markdown",
   "metadata": {
    "id": "z5RyxCRTbhRl",
    "colab_type": "text"
   },
   "source": [
    "<br>\n",
    "\n",
    "## 2. 학습에 관련된 부분들 구성하기\n",
    "---\n",
    "\n",
    "* 논문과 동일하게 구현하도록 하겠습니다."
   ]
  },
  {
   "cell_type": "markdown",
   "metadata": {
    "id": "IRFz3WLQbhRm",
    "colab_type": "text"
   },
   "source": [
    "### (1) Loss Function 설정하기"
   ]
  },
  {
   "cell_type": "code",
   "execution_count": 0,
   "metadata": {
    "id": "GeLDUiHPbhRm",
    "colab_type": "code",
    "colab": {}
   },
   "outputs": [],
   "source": [
    "weight_decay = 5e-4\n",
    "\n",
    "with graph.as_default():\n",
    "    with tf.variable_scope(\"losses\"):\n",
    "        sce = #fix me #\n",
    "        l2_loss = #fix me #\n",
    "        loss = #fix me #\n",
    "    loss = tf.identity(loss, name='loss')"
   ]
  },
  {
   "cell_type": "code",
   "execution_count": 0,
   "metadata": {
    "id": "3XacFlHGbhRo",
    "colab_type": "code",
    "colab": {}
   },
   "outputs": [],
   "source": [
    "show_graph(graph)"
   ]
  },
  {
   "cell_type": "markdown",
   "metadata": {
    "id": "AldazmcQbhRq",
    "colab_type": "text"
   },
   "source": [
    "### (2) Optimizer 구성하기\n",
    "\n",
    "텐서플로우에서는 해당 모델이 **몇 번이나 학습했는지**를 추적하기 위해, <br>\n",
    "내부 변수로 `global_step`을 선언할 수 있습니다.<br>\n",
    "해당 모델의 Optimizer가 호출될 때마다, global_step의 값이 하나씩 커지게 됩니다."
   ]
  },
  {
   "cell_type": "code",
   "execution_count": 0,
   "metadata": {
    "id": "vslupbypbhRq",
    "colab_type": "code",
    "colab": {}
   },
   "outputs": [],
   "source": [
    "momentum = 0.9\n",
    "with graph.as_default():\n",
    "    lr = #fix me #\n",
    "    global_step = #fix me #\n",
    "    with tf.variable_scope(\"optimizer\"):\n",
    "        train_op = #fix me #"
   ]
  },
  {
   "cell_type": "code",
   "execution_count": 0,
   "metadata": {
    "id": "5_VWWBdKbhRs",
    "colab_type": "code",
    "colab": {}
   },
   "outputs": [],
   "source": [
    "show_graph(graph)"
   ]
  },
  {
   "cell_type": "markdown",
   "metadata": {
    "id": "AUYVmtKybhRt",
    "colab_type": "text"
   },
   "source": [
    "### (3) Metric 구성하기\n",
    "\n",
    "Cifar-100처럼 클래스 수가 많은 경우 Top-K Accuracy를 구하는 경우가 많습니다.<br>\n",
    "예측값이 높은 순으로 K개 안에, 해당 라벨이 존재하는 지로 Accuracy를 계산합니다.<br>\n",
    "<br>"
   ]
  },
  {
   "cell_type": "markdown",
   "metadata": {
    "id": "whhjhj_IbhRw",
    "colab_type": "text"
   },
   "source": [
    "#### c.f) Tensorflow Metric 이용하기\n",
    "\n",
    "모델의 크기가 큰 경우, 한번에 전체 데이터 셋에 대한 정확도나 Loss값을 계산하기 어려울 수 있습니다.<br> \n",
    "이럴 경우, 데이터를 나누어서 Metric을 연산해야 합니다.<br>\n",
    "Tensorflow에서는 이렇게 계산할 수 있도록 `tf.metrics` 메소드를 지원합니다.<br>\n",
    "\n",
    "해당 메소드에 대한 Tensorflow의 설명은 아래와 같습니다.<br>\n",
    "\n",
    "![Imgur](https://i.imgur.com/Cd62ymp.png)"
   ]
  },
  {
   "cell_type": "code",
   "execution_count": 0,
   "metadata": {
    "id": "UFCUQVlCbhRw",
    "colab_type": "code",
    "colab": {},
    "outputId": "9fe1b3ef-884d-49d0-e8f4-1b85b98bcb7e"
   },
   "outputs": [
    {
     "data": {
      "text/html": [
       "\n",
       "        <iframe seamless style=\"width:1200px;height:620px;border:0\" srcdoc=\"\n",
       "        <script>\n",
       "          function load() {\n",
       "            document.getElementById(&quot;graph0.6865741209893012&quot;).pbtxt = 'node {\\n  name: &quot;acc&quot;\\n  op: &quot;Placeholder&quot;\\n  attr {\\n    key: &quot;dtype&quot;\\n    value {\\n      type: DT_FLOAT\\n    }\\n  }\\n  attr {\\n    key: &quot;shape&quot;\\n    value {\\n      shape {\\n      }\\n    }\\n  }\\n}\\nnode {\\n  name: &quot;mean/total/Initializer/zeros&quot;\\n  op: &quot;Const&quot;\\n  attr {\\n    key: &quot;_class&quot;\\n    value {\\n      list {\\n        s: &quot;loc:@mean/total&quot;\\n      }\\n    }\\n  }\\n  attr {\\n    key: &quot;dtype&quot;\\n    value {\\n      type: DT_FLOAT\\n    }\\n  }\\n  attr {\\n    key: &quot;value&quot;\\n    value {\\n      tensor {\\n        dtype: DT_FLOAT\\n        tensor_shape {\\n        }\\n        float_val: 0.0\\n      }\\n    }\\n  }\\n}\\nnode {\\n  name: &quot;mean/total&quot;\\n  op: &quot;VariableV2&quot;\\n  attr {\\n    key: &quot;_class&quot;\\n    value {\\n      list {\\n        s: &quot;loc:@mean/total&quot;\\n      }\\n    }\\n  }\\n  attr {\\n    key: &quot;container&quot;\\n    value {\\n      s: &quot;&quot;\\n    }\\n  }\\n  attr {\\n    key: &quot;dtype&quot;\\n    value {\\n      type: DT_FLOAT\\n    }\\n  }\\n  attr {\\n    key: &quot;shape&quot;\\n    value {\\n      shape {\\n      }\\n    }\\n  }\\n  attr {\\n    key: &quot;shared_name&quot;\\n    value {\\n      s: &quot;&quot;\\n    }\\n  }\\n}\\nnode {\\n  name: &quot;mean/total/Assign&quot;\\n  op: &quot;Assign&quot;\\n  input: &quot;mean/total&quot;\\n  input: &quot;mean/total/Initializer/zeros&quot;\\n  attr {\\n    key: &quot;T&quot;\\n    value {\\n      type: DT_FLOAT\\n    }\\n  }\\n  attr {\\n    key: &quot;_class&quot;\\n    value {\\n      list {\\n        s: &quot;loc:@mean/total&quot;\\n      }\\n    }\\n  }\\n  attr {\\n    key: &quot;use_locking&quot;\\n    value {\\n      b: true\\n    }\\n  }\\n  attr {\\n    key: &quot;validate_shape&quot;\\n    value {\\n      b: true\\n    }\\n  }\\n}\\nnode {\\n  name: &quot;mean/total/read&quot;\\n  op: &quot;Identity&quot;\\n  input: &quot;mean/total&quot;\\n  attr {\\n    key: &quot;T&quot;\\n    value {\\n      type: DT_FLOAT\\n    }\\n  }\\n  attr {\\n    key: &quot;_class&quot;\\n    value {\\n      list {\\n        s: &quot;loc:@mean/total&quot;\\n      }\\n    }\\n  }\\n}\\nnode {\\n  name: &quot;mean/count/Initializer/zeros&quot;\\n  op: &quot;Const&quot;\\n  attr {\\n    key: &quot;_class&quot;\\n    value {\\n      list {\\n        s: &quot;loc:@mean/count&quot;\\n      }\\n    }\\n  }\\n  attr {\\n    key: &quot;dtype&quot;\\n    value {\\n      type: DT_FLOAT\\n    }\\n  }\\n  attr {\\n    key: &quot;value&quot;\\n    value {\\n      tensor {\\n        dtype: DT_FLOAT\\n        tensor_shape {\\n        }\\n        float_val: 0.0\\n      }\\n    }\\n  }\\n}\\nnode {\\n  name: &quot;mean/count&quot;\\n  op: &quot;VariableV2&quot;\\n  attr {\\n    key: &quot;_class&quot;\\n    value {\\n      list {\\n        s: &quot;loc:@mean/count&quot;\\n      }\\n    }\\n  }\\n  attr {\\n    key: &quot;container&quot;\\n    value {\\n      s: &quot;&quot;\\n    }\\n  }\\n  attr {\\n    key: &quot;dtype&quot;\\n    value {\\n      type: DT_FLOAT\\n    }\\n  }\\n  attr {\\n    key: &quot;shape&quot;\\n    value {\\n      shape {\\n      }\\n    }\\n  }\\n  attr {\\n    key: &quot;shared_name&quot;\\n    value {\\n      s: &quot;&quot;\\n    }\\n  }\\n}\\nnode {\\n  name: &quot;mean/count/Assign&quot;\\n  op: &quot;Assign&quot;\\n  input: &quot;mean/count&quot;\\n  input: &quot;mean/count/Initializer/zeros&quot;\\n  attr {\\n    key: &quot;T&quot;\\n    value {\\n      type: DT_FLOAT\\n    }\\n  }\\n  attr {\\n    key: &quot;_class&quot;\\n    value {\\n      list {\\n        s: &quot;loc:@mean/count&quot;\\n      }\\n    }\\n  }\\n  attr {\\n    key: &quot;use_locking&quot;\\n    value {\\n      b: true\\n    }\\n  }\\n  attr {\\n    key: &quot;validate_shape&quot;\\n    value {\\n      b: true\\n    }\\n  }\\n}\\nnode {\\n  name: &quot;mean/count/read&quot;\\n  op: &quot;Identity&quot;\\n  input: &quot;mean/count&quot;\\n  attr {\\n    key: &quot;T&quot;\\n    value {\\n      type: DT_FLOAT\\n    }\\n  }\\n  attr {\\n    key: &quot;_class&quot;\\n    value {\\n      list {\\n        s: &quot;loc:@mean/count&quot;\\n      }\\n    }\\n  }\\n}\\nnode {\\n  name: &quot;mean/Size&quot;\\n  op: &quot;Const&quot;\\n  attr {\\n    key: &quot;dtype&quot;\\n    value {\\n      type: DT_INT32\\n    }\\n  }\\n  attr {\\n    key: &quot;value&quot;\\n    value {\\n      tensor {\\n        dtype: DT_INT32\\n        tensor_shape {\\n        }\\n        int_val: 1\\n      }\\n    }\\n  }\\n}\\nnode {\\n  name: &quot;mean/ToFloat&quot;\\n  op: &quot;Cast&quot;\\n  input: &quot;mean/Size&quot;\\n  attr {\\n    key: &quot;DstT&quot;\\n    value {\\n      type: DT_FLOAT\\n    }\\n  }\\n  attr {\\n    key: &quot;SrcT&quot;\\n    value {\\n      type: DT_INT32\\n    }\\n  }\\n  attr {\\n    key: &quot;Truncate&quot;\\n    value {\\n      b: false\\n    }\\n  }\\n}\\nnode {\\n  name: &quot;mean/Const&quot;\\n  op: &quot;Const&quot;\\n  attr {\\n    key: &quot;dtype&quot;\\n    value {\\n      type: DT_INT32\\n    }\\n  }\\n  attr {\\n    key: &quot;value&quot;\\n    value {\\n      tensor {\\n        dtype: DT_INT32\\n        tensor_shape {\\n          dim {\\n          }\\n        }\\n      }\\n    }\\n  }\\n}\\nnode {\\n  name: &quot;mean/Sum&quot;\\n  op: &quot;Sum&quot;\\n  input: &quot;acc&quot;\\n  input: &quot;mean/Const&quot;\\n  attr {\\n    key: &quot;T&quot;\\n    value {\\n      type: DT_FLOAT\\n    }\\n  }\\n  attr {\\n    key: &quot;Tidx&quot;\\n    value {\\n      type: DT_INT32\\n    }\\n  }\\n  attr {\\n    key: &quot;keep_dims&quot;\\n    value {\\n      b: false\\n    }\\n  }\\n}\\nnode {\\n  name: &quot;mean/AssignAdd&quot;\\n  op: &quot;AssignAdd&quot;\\n  input: &quot;mean/total&quot;\\n  input: &quot;mean/Sum&quot;\\n  attr {\\n    key: &quot;T&quot;\\n    value {\\n      type: DT_FLOAT\\n    }\\n  }\\n  attr {\\n    key: &quot;_class&quot;\\n    value {\\n      list {\\n        s: &quot;loc:@mean/total&quot;\\n      }\\n    }\\n  }\\n  attr {\\n    key: &quot;use_locking&quot;\\n    value {\\n      b: false\\n    }\\n  }\\n}\\nnode {\\n  name: &quot;mean/AssignAdd_1&quot;\\n  op: &quot;AssignAdd&quot;\\n  input: &quot;mean/count&quot;\\n  input: &quot;mean/ToFloat&quot;\\n  input: &quot;^acc&quot;\\n  attr {\\n    key: &quot;T&quot;\\n    value {\\n      type: DT_FLOAT\\n    }\\n  }\\n  attr {\\n    key: &quot;_class&quot;\\n    value {\\n      list {\\n        s: &quot;loc:@mean/count&quot;\\n      }\\n    }\\n  }\\n  attr {\\n    key: &quot;use_locking&quot;\\n    value {\\n      b: false\\n    }\\n  }\\n}\\nnode {\\n  name: &quot;mean/Maximum/y&quot;\\n  op: &quot;Const&quot;\\n  attr {\\n    key: &quot;dtype&quot;\\n    value {\\n      type: DT_FLOAT\\n    }\\n  }\\n  attr {\\n    key: &quot;value&quot;\\n    value {\\n      tensor {\\n        dtype: DT_FLOAT\\n        tensor_shape {\\n        }\\n        float_val: 0.0\\n      }\\n    }\\n  }\\n}\\nnode {\\n  name: &quot;mean/Maximum&quot;\\n  op: &quot;Maximum&quot;\\n  input: &quot;mean/count/read&quot;\\n  input: &quot;mean/Maximum/y&quot;\\n  attr {\\n    key: &quot;T&quot;\\n    value {\\n      type: DT_FLOAT\\n    }\\n  }\\n}\\nnode {\\n  name: &quot;mean/value&quot;\\n  op: &quot;DivNoNan&quot;\\n  input: &quot;mean/total/read&quot;\\n  input: &quot;mean/Maximum&quot;\\n  attr {\\n    key: &quot;T&quot;\\n    value {\\n      type: DT_FLOAT\\n    }\\n  }\\n}\\nnode {\\n  name: &quot;mean/Maximum_1/y&quot;\\n  op: &quot;Const&quot;\\n  attr {\\n    key: &quot;dtype&quot;\\n    value {\\n      type: DT_FLOAT\\n    }\\n  }\\n  attr {\\n    key: &quot;value&quot;\\n    value {\\n      tensor {\\n        dtype: DT_FLOAT\\n        tensor_shape {\\n        }\\n        float_val: 0.0\\n      }\\n    }\\n  }\\n}\\nnode {\\n  name: &quot;mean/Maximum_1&quot;\\n  op: &quot;Maximum&quot;\\n  input: &quot;mean/AssignAdd_1&quot;\\n  input: &quot;mean/Maximum_1/y&quot;\\n  attr {\\n    key: &quot;T&quot;\\n    value {\\n      type: DT_FLOAT\\n    }\\n  }\\n}\\nnode {\\n  name: &quot;mean/update_op&quot;\\n  op: &quot;DivNoNan&quot;\\n  input: &quot;mean/AssignAdd&quot;\\n  input: &quot;mean/Maximum_1&quot;\\n  attr {\\n    key: &quot;T&quot;\\n    value {\\n      type: DT_FLOAT\\n    }\\n  }\\n}\\n';\n",
       "          }\n",
       "        </script>\n",
       "        <link rel=&quot;import&quot; href=&quot;https://tensorboard.appspot.com/tf-graph-basic.build.html&quot; onload=load()>\n",
       "        <div style=&quot;height:600px&quot;>\n",
       "          <tf-graph-basic id=&quot;graph0.6865741209893012&quot;></tf-graph-basic>\n",
       "        </div>\n",
       "    \"></iframe>\n",
       "    "
      ],
      "text/plain": [
       "<IPython.core.display.HTML object>"
      ]
     },
     "metadata": {
      "tags": []
     },
     "output_type": "execute_result"
    }
   ],
   "source": [
    "graph2 = tf.Graph()\n",
    "with graph2.as_default():\n",
    "    accuracy = tf.placeholder(tf.float32,(),name='acc')\n",
    "    \n",
    "    mean_acc, acc_op = tf.metrics.mean(accuracy)\n",
    "show_graph(graph2)"
   ]
  },
  {
   "cell_type": "markdown",
   "metadata": {
    "id": "96tkoPAWbhR1",
    "colab_type": "text"
   },
   "source": [
    "----"
   ]
  },
  {
   "cell_type": "markdown",
   "metadata": {
    "id": "numEMS8CifJ3",
    "colab_type": "text"
   },
   "source": [
    "### example :  tf.metric.mean  "
   ]
  },
  {
   "cell_type": "code",
   "execution_count": 0,
   "metadata": {
    "id": "jCde3iBJbhR1",
    "colab_type": "code",
    "colab": {},
    "outputId": "f40101a0-1189-4321-e23c-acf6633d9736"
   },
   "outputs": [
    {
     "name": "stdout",
     "output_type": "stream",
     "text": [
      "init  mean_Acc :  0.0\n",
      "1번째 갱신 시 mean_Acc :  0.5\n",
      "2번째 갱신 시 mean_Acc :  0.6\n",
      "3번째 갱신 시 mean_Acc :  0.53333336\n",
      "reset mean_Acc :  0.0\n"
     ]
    }
   ],
   "source": [
    "with tf.Session(graph=graph2) as sess:\n",
    "    sess.run(tf.local_variables_initializer())\n",
    "    print(\"init  mean_Acc : \",sess.run(mean_acc))\n",
    "    \n",
    "    sess.run(acc_op,feed_dict={accuracy:.5})       \n",
    "    print(\"1번째 갱신 시 mean_Acc : \",sess.run(mean_acc))\n",
    "    sess.run(acc_op,feed_dict={accuracy:.7})     \n",
    "    print(\"2번째 갱신 시 mean_Acc : \",sess.run(mean_acc))    \n",
    "    sess.run(acc_op,feed_dict={accuracy:.4})     \n",
    "    print(\"3번째 갱신 시 mean_Acc : \",sess.run(mean_acc))    \n",
    "    \n",
    "    sess.run(tf.local_variables_initializer())\n",
    "    print(\"reset mean_Acc : \",sess.run(mean_acc))"
   ]
  },
  {
   "cell_type": "code",
   "execution_count": 4,
   "metadata": {
    "id": "KtpJ-z20bhR3",
    "colab_type": "code",
    "colab": {
     "base_uri": "https://localhost:8080/",
     "height": 228.0
    },
    "outputId": "8df57f25-7cc2-4cbe-b962-870278c4e61b"
   },
   "outputs": [
    {
     "ename": "NameError",
     "evalue": "ignored",
     "traceback": [
      "\u001b[0;31m---------------------------------------------------------------------------\u001b[0m",
      "\u001b[0;31mNameError\u001b[0m                                 Traceback (most recent call last)",
      "\u001b[0;32m<ipython-input-4-ed5ea48528e6>\u001b[0m in \u001b[0;36m<module>\u001b[0;34m()\u001b[0m\n\u001b[0;32m----> 1\u001b[0;31m \u001b[0;32mwith\u001b[0m \u001b[0mgraph\u001b[0m\u001b[0;34m.\u001b[0m\u001b[0mas_default\u001b[0m\u001b[0;34m(\u001b[0m\u001b[0;34m)\u001b[0m\u001b[0;34m:\u001b[0m\u001b[0;34m\u001b[0m\u001b[0;34m\u001b[0m\u001b[0m\n\u001b[0m\u001b[1;32m      2\u001b[0m     \u001b[0;32mwith\u001b[0m \u001b[0mtf\u001b[0m\u001b[0;34m.\u001b[0m\u001b[0mvariable_scope\u001b[0m\u001b[0;34m(\u001b[0m\u001b[0;34m'metrics'\u001b[0m\u001b[0;34m)\u001b[0m\u001b[0;34m:\u001b[0m\u001b[0;34m\u001b[0m\u001b[0;34m\u001b[0m\u001b[0m\n\u001b[1;32m      3\u001b[0m         top_5, top_5_op = tf.metrics.mean(\n\u001b[1;32m      4\u001b[0m             tf.cast(tf.nn.in_top_k(logits, labels, k=5), tf.float32) * 100)\n\u001b[1;32m      5\u001b[0m         top_1, top_1_op = tf.metrics.mean(\n",
      "\u001b[0;31mNameError\u001b[0m: name 'graph' is not defined"
     ],
     "output_type": "error"
    }
   ],
   "source": [
    "with graph.as_default():\n",
    "    with tf.variable_scope('metrics'):\n",
    "        top_5, top_5_op = # fix me #\n",
    "        top_1, top_1_op = # fix me #\n",
    "        metric_loss, loss_op = # fix me #\n",
    "    \n",
    "    # Total과 Count를 reset하는 연산자\n",
    "    metric_init_op = # fix me #\n",
    "    # Total과 Count를 갱신하는 연산자\n",
    "    metric_update_op = # fix me #\n",
    "\n",
    "    top_5 = # fix me #\n",
    "    top_1 = # fix me #\n",
    "    metric_loss = # fix me #\n",
    "    \n",
    "    # Tensorboard에 기록할 정보 구성\n",
    "    tf.summary.scalar('top5_accuracy', top_5)\n",
    "    tf.summary.scalar('top1_accuracy', top_1)\n",
    "    tf.summary.scalar('losses', metric_loss)    \n",
    "    merged = # fix me #"
   ]
  },
  {
   "cell_type": "code",
   "execution_count": 0,
   "metadata": {
    "id": "vPEOuycubhR5",
    "colab_type": "code",
    "colab": {}
   },
   "outputs": [],
   "source": [
    "show_graph(graph)"
   ]
  },
  {
   "cell_type": "markdown",
   "metadata": {
    "id": "__ue2vuWbhR8",
    "colab_type": "text"
   },
   "source": [
    "<br>\n",
    "\n",
    "# \\[ 2. VGG 11 학습하기 \\]\n",
    "---\n",
    "---\n",
    "\n",
    "> *CIFAR-100을 통해 모델을 학습시키도록 하겠습니다.*<br>"
   ]
  },
  {
   "cell_type": "markdown",
   "metadata": {
    "id": "oLEzKTx0bhR8",
    "colab_type": "text"
   },
   "source": [
    "<br>\n",
    "\n",
    "## 1. 모델 학습시키기\n",
    "---\n"
   ]
  },
  {
   "cell_type": "markdown",
   "metadata": {
    "id": "a7DSyqmIbhR-",
    "colab_type": "text"
   },
   "source": [
    "### (1) 데이터 셋 구성하기\n"
   ]
  },
  {
   "cell_type": "code",
   "execution_count": 0,
   "metadata": {
    "id": "Dq4htuXfbhR_",
    "colab_type": "code",
    "colab": {}
   },
   "outputs": [],
   "source": [
    "(train_x, train_y), (test_x, test_y) = load_data()\n",
    "train_y = train_y.reshape((-1,)) # (None, 1) -> (None, )\n",
    "test_y = test_y.reshape((-1,)) # (None, 1) -> (None, )\n",
    "\n",
    "train_set = Dataset(train_x,train_y)\n",
    "test_set = Dataset(test_x,test_y)"
   ]
  },
  {
   "cell_type": "markdown",
   "metadata": {
    "id": "2ec8M8eHbhSE",
    "colab_type": "text"
   },
   "source": [
    "### (2) 학습과정을 기록할 Tensorboard 구성하기"
   ]
  },
  {
   "cell_type": "code",
   "execution_count": 0,
   "metadata": {
    "id": "DUttvdD0bhSF",
    "colab_type": "code",
    "colab": {}
   },
   "outputs": [],
   "source": [
    "# LOG PATH Setting\n",
    "LOG_DIR = \"./log\"\n",
    "if os.path.exists(LOG_DIR):\n",
    "    shutil.rmtree(LOG_DIR)\n",
    "os.makedirs(LOG_DIR,exist_ok=True)\n",
    "\n",
    "tbc = tensorboardcolab.TensorBoardColab(graph_path=LOG_DIR)\n",
    "\n",
    "train_writer = tf.summary.FileWriter(LOG_DIR+\"/train\", graph)\n",
    "test_writer = tf.summary.FileWriter(LOG_DIR+\"/test\")"
   ]
  },
  {
   "cell_type": "markdown",
   "metadata": {
    "id": "CNsdh9tjbhSH",
    "colab_type": "text"
   },
   "source": [
    "### (3) 세션 초기화하기"
   ]
  },
  {
   "cell_type": "code",
   "execution_count": 0,
   "metadata": {
    "id": "PK0UDw_abhSH",
    "colab_type": "code",
    "colab": {}
   },
   "outputs": [],
   "source": [
    "# 변수 초기화 및 Operation 가져오기\n",
    "sess = tf.Session(graph=graph)\n",
    "with graph.as_default():\n",
    "    sess.run(# fix me #) # initalize global , local"
   ]
  },
  {
   "cell_type": "markdown",
   "metadata": {
    "id": "DcTt4MRTbhSJ",
    "colab_type": "text"
   },
   "source": [
    "### (4) 모델 학습하기 "
   ]
  },
  {
   "cell_type": "code",
   "execution_count": 0,
   "metadata": {
    "id": "fb671zkTbhSJ",
    "colab_type": "code",
    "colab": {}
   },
   "outputs": [],
   "source": [
    "num_epoch = 20\n",
    "num_batch = 128\n",
    "num_data = len(train_set)\n",
    "\n",
    "for epoch in range(num_epoch):\n",
    "    # Fitting Model  \n",
    "    for step in tqdm(range(num_data//num_batch)):\n",
    "        batch_x, batch_y = train_set.next_batch(num_batch)\n",
    "        sess.run(train_op,feed_dict={ #fix me #})\n",
    "\n",
    "    # Shuffle Dataset\n",
    "    train_set.shuffle()\n",
    "    \n",
    "    # Summarize training process\n",
    "    sess.run(metric_init_op)\n",
    "    for step in range(#fix me#):\n",
    "        # 1000개씩 나누어서 metric을 계산합니다.\n",
    "        batch_x = train_x[#fix me #]\n",
    "        batch_y = train_y[#fix me#].ravel()\n",
    "        sess.run(#fix me #})\n",
    "    \n",
    "    summary, top_1_value,top_5_value, loss_value = sess.run(#fix me#)\n",
    "    \n",
    "    print(\"[{:3d} epoch] TRAIN TOP-1 ACC : {:2.2f}% | TOP-5 ACC : {:2.2f}% | LOSS : {:.3f}\"\n",
    "          .format(epoch, top_1_value,top_5_value,loss_value))\n",
    "    train_writer.add_summary(#fix me#)\n",
    "\n",
    "    sess.run(metric_init_op)\n",
    "    for step in range(len(test_set)//1000):\n",
    "        batch_x = test_x[#fix me#]\n",
    "        batch_y = test_y[#fix me#].ravel()\n",
    "        sess.run(#fix me#)\n",
    "        \n",
    "    summary, top_1_value,top_5_value, loss_value = sess.run(#fixme#)\n",
    "        t(\"[{:3d} epoch] TEST TOP-1 ACC : {:2.2f}% | TOP-5 ACC : {:2.2f}% | LOSS : {:.3f}\"\n",
    "          .format(epoch, top_1_value,top_5_value,loss_value))\n",
    "    test_writer.add_summary(#fix me#)"
   ]
  },
  {
   "cell_type": "markdown",
   "metadata": {
    "id": "rY1ick3YbhSL",
    "colab_type": "text"
   },
   "source": [
    "<br>\n",
    "\n",
    "## 2. 모델 저장하기\n",
    "---\n",
    "\n",
    "* COLAB 환경에서는 Google Drive와의 연결을 통해 모델을 저장할 수 있습니다.<br>"
   ]
  },
  {
   "cell_type": "markdown",
   "metadata": {
    "id": "wbTcqM6gbhSM",
    "colab_type": "text"
   },
   "source": [
    "### (1) Google Drive와 연동하기\n",
    "\n",
    "아래를 실행시키면, Goto this URL in a browser을 통해, <br>\n",
    "자신의 구글 아이디로 드라이브와 연동할 수 있습니다."
   ]
  },
  {
   "cell_type": "code",
   "execution_count": 0,
   "metadata": {
    "id": "Gedy-VQ5bhSM",
    "colab_type": "code",
    "colab": {}
   },
   "outputs": [],
   "source": [
    "!ls ./"
   ]
  },
  {
   "cell_type": "code",
   "execution_count": 0,
   "metadata": {
    "id": "LgSaE3DTbhSO",
    "colab_type": "code",
    "colab": {}
   },
   "outputs": [],
   "source": [
    "from google.colab import drive\n",
    "drive.mount('/content/gdrive')"
   ]
  },
  {
   "cell_type": "code",
   "execution_count": 0,
   "metadata": {
    "id": "MTxxoe5TbhSP",
    "colab_type": "code",
    "colab": {}
   },
   "outputs": [],
   "source": [
    "!ls ./"
   ]
  },
  {
   "cell_type": "markdown",
   "metadata": {
    "id": "Xz7qjMXObhSQ",
    "colab_type": "text"
   },
   "source": [
    "### (2) 모델 저장하기 \n",
    "이전에 배웠다시피, `tf.train.Saver`을 통해, 우리는 모델을 저장할 수 있습니다.<br>"
   ]
  },
  {
   "cell_type": "code",
   "execution_count": 0,
   "metadata": {
    "id": "BV_XRUB1bhSR",
    "colab_type": "code",
    "colab": {}
   },
   "outputs": [],
   "source": [
    "with graph.as_default():\n",
    "    saver = tf.train.Saver()\n",
    "    saver.save(sess, \"vgg11\")"
   ]
  },
  {
   "cell_type": "markdown",
   "metadata": {
    "id": "TPHk8vB2bhSS",
    "colab_type": "text"
   },
   "source": [
    "### (3) 모델을 구글 드라이브로 옮기기\n",
    "\n",
    "아래를 실행시킨 후, 구글 드라이브에 들어가면,<br>\n",
    "vgg 폴더 내에\n",
    "* `checkpoint`\n",
    "* `vgg11.data-00000-of-00001`\n",
    "* `vgg11.index`\n",
    "* `vgg11.meta`\n",
    "파일들이 생성되어 있음을 확인할 수 있습니다."
   ]
  },
  {
   "cell_type": "code",
   "execution_count": 0,
   "metadata": {
    "id": "e_kBRojCbhSS",
    "colab_type": "code",
    "colab": {}
   },
   "outputs": [],
   "source": [
    "!mkdir /content/gdrive/My\\ Drive/vgg\n",
    "!mv vgg11* gdrive/My\\ Drive/vgg/ \n",
    "!mv checkpoint gdrive/My\\ Drive/vgg/"
   ]
  },
  {
   "cell_type": "markdown",
   "metadata": {
    "id": "g-gb2GwFbhSU",
    "colab_type": "text"
   },
   "source": [
    "#  \n",
    "\n",
    "---\n",
    "\n",
    "    Copyright(c) 2019 by Public AI. All rights reserved.<br>\n",
    "    Writen by PAI, SangJae Kang ( rocketgrowthsj@publicai.co.kr )  last updated on 2019/05/07\n",
    "\n",
    "---"
   ]
  }
 ],
 "metadata": {
  "colab": {
   "name": "2. CIFAR-100을 이용한 VGG11 학습하기.ipynb",
   "version": "0.3.2",
   "provenance": [],
   "collapsed_sections": []
  },
  "language_info": {
   "codemirror_mode": {
    "name": "ipython",
    "version": 3.0
   },
   "file_extension": ".py",
   "mimetype": "text/x-python",
   "name": "python",
   "nbconvert_exporter": "python",
   "pygments_lexer": "ipython3",
   "version": "3.6.5"
  },
  "kernelspec": {
   "display_name": "Python 3",
   "language": "python",
   "name": "python3"
  }
 },
 "nbformat": 4,
 "nbformat_minor": 0
}