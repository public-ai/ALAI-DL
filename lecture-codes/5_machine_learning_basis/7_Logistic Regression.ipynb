{
 "cells": [
  {
   "cell_type": "markdown",
   "metadata": {},
   "source": [
    " ╔══<i><b>Alai-DeepLearning</b></i>════════════════════════════╗\n",
    "###  &nbsp;&nbsp; **✎&nbsp;&nbsp;Week 5. Machine Learning Basis**\n",
    "# Section 7. Logistic Regression\n",
    "\n",
    "### _Objective_\n",
    "1. 분류 문제를 푸는 기본적인 머신러닝인 Logistic Regression에 대해 알아봅니다. <br>\n",
    "2. 실제로 구현하여 그 결과를 확인합니다.<br>\n",
    "\n",
    "╚═════════════════════════════════════════╝"
   ]
  },
  {
   "cell_type": "code",
   "execution_count": 3,
   "metadata": {},
   "outputs": [],
   "source": [
    "%matplotlib inline\n",
    "\n",
    "import numpy as np\n",
    "import pandas as pd\n",
    "\n",
    "import matplotlib.pyplot as plt"
   ]
  },
  {
   "cell_type": "markdown",
   "metadata": {},
   "source": [
    "## 예제 데이터 ) 암 환자 데이터 셋"
   ]
  },
  {
   "cell_type": "code",
   "execution_count": 4,
   "metadata": {},
   "outputs": [
    {
     "name": "stdout",
     "output_type": "stream",
     "text": [
      "--2019-03-28 14:44:38--  https://s3.ap-northeast-2.amazonaws.com/pai-datasets/alai-deeplearning/cancer_dataset.csv\n",
      "Resolving s3.ap-northeast-2.amazonaws.com (s3.ap-northeast-2.amazonaws.com)... 52.219.58.89\n",
      "Connecting to s3.ap-northeast-2.amazonaws.com (s3.ap-northeast-2.amazonaws.com)|52.219.58.89|:443... connected.\n",
      "HTTP request sent, awaiting response... 200 OK\n",
      "Length: 2958 (2.9K) [text/csv]\n",
      "Saving to: ‘cancer_dataset.csv.4’\n",
      "\n",
      "cancer_dataset.csv. 100%[===================>]   2.89K  --.-KB/s    in 0s      \n",
      "\n",
      "2019-03-28 14:44:38 (30.0 MB/s) - ‘cancer_dataset.csv.4’ saved [2958/2958]\n",
      "\n"
     ]
    }
   ],
   "source": [
    "!wget https://s3.ap-northeast-2.amazonaws.com/pai-datasets/alai-deeplearning/cancer_dataset.csv\n",
    "cancer_df = pd.read_csv('cancer_dataset.csv')"
   ]
  },
  {
   "cell_type": "code",
   "execution_count": 5,
   "metadata": {},
   "outputs": [
    {
     "data": {
      "text/html": [
       "<div>\n",
       "<style scoped>\n",
       "    .dataframe tbody tr th:only-of-type {\n",
       "        vertical-align: middle;\n",
       "    }\n",
       "\n",
       "    .dataframe tbody tr th {\n",
       "        vertical-align: top;\n",
       "    }\n",
       "\n",
       "    .dataframe thead th {\n",
       "        text-align: right;\n",
       "    }\n",
       "</style>\n",
       "<table border=\"1\" class=\"dataframe\">\n",
       "  <thead>\n",
       "    <tr style=\"text-align: right;\">\n",
       "      <th></th>\n",
       "      <th>age</th>\n",
       "      <th>tumor_size</th>\n",
       "      <th>label</th>\n",
       "    </tr>\n",
       "  </thead>\n",
       "  <tbody>\n",
       "    <tr>\n",
       "      <th>count</th>\n",
       "      <td>100.000000</td>\n",
       "      <td>100.000000</td>\n",
       "      <td>100.00</td>\n",
       "    </tr>\n",
       "    <tr>\n",
       "      <th>mean</th>\n",
       "      <td>4.218584</td>\n",
       "      <td>4.463655</td>\n",
       "      <td>0.45</td>\n",
       "    </tr>\n",
       "    <tr>\n",
       "      <th>std</th>\n",
       "      <td>1.949688</td>\n",
       "      <td>2.264897</td>\n",
       "      <td>0.50</td>\n",
       "    </tr>\n",
       "    <tr>\n",
       "      <th>min</th>\n",
       "      <td>0.494542</td>\n",
       "      <td>0.656397</td>\n",
       "      <td>0.00</td>\n",
       "    </tr>\n",
       "    <tr>\n",
       "      <th>25%</th>\n",
       "      <td>2.750747</td>\n",
       "      <td>2.832193</td>\n",
       "      <td>0.00</td>\n",
       "    </tr>\n",
       "    <tr>\n",
       "      <th>50%</th>\n",
       "      <td>3.849528</td>\n",
       "      <td>3.766226</td>\n",
       "      <td>0.00</td>\n",
       "    </tr>\n",
       "    <tr>\n",
       "      <th>75%</th>\n",
       "      <td>5.405780</td>\n",
       "      <td>5.921538</td>\n",
       "      <td>1.00</td>\n",
       "    </tr>\n",
       "    <tr>\n",
       "      <th>max</th>\n",
       "      <td>9.670666</td>\n",
       "      <td>11.170589</td>\n",
       "      <td>1.00</td>\n",
       "    </tr>\n",
       "  </tbody>\n",
       "</table>\n",
       "</div>"
      ],
      "text/plain": [
       "              age  tumor_size   label\n",
       "count  100.000000  100.000000  100.00\n",
       "mean     4.218584    4.463655    0.45\n",
       "std      1.949688    2.264897    0.50\n",
       "min      0.494542    0.656397    0.00\n",
       "25%      2.750747    2.832193    0.00\n",
       "50%      3.849528    3.766226    0.00\n",
       "75%      5.405780    5.921538    1.00\n",
       "max      9.670666   11.170589    1.00"
      ]
     },
     "execution_count": 5,
     "metadata": {},
     "output_type": "execute_result"
    }
   ],
   "source": [
    "cancer_df.describe()"
   ]
  },
  {
   "cell_type": "markdown",
   "metadata": {},
   "source": [
    "### 데이터 시각화"
   ]
  },
  {
   "cell_type": "code",
   "execution_count": 6,
   "metadata": {},
   "outputs": [
    {
     "data": {
      "image/png": "[encoded data removed]",
      "text/plain": [
       "<Figure size 504x504 with 1 Axes>"
      ]
     },
     "metadata": {},
     "output_type": "display_data"
    }
   ],
   "source": [
    "fig = plt.figure(figsize=(7,7))\n",
    "ax = fig.add_subplot(1,1,1)\n",
    "\n",
    "# 0: 정상\n",
    "cancer_df[cancer_df.label==0].plot('age','tumor_size',ax=ax,legend=True,\n",
    "                                   kind='scatter',color='red')\n",
    "# 1: 암환자\n",
    "cancer_df[cancer_df.label==1].plot('age','tumor_size',ax=ax,legend=True,\n",
    "                                   kind='scatter',color='green')\n",
    "plt.legend(['Normal','Cancer'])\n",
    "plt.title(\"Cancer Or Not\")\n",
    "plt.show()"
   ]
  },
  {
   "cell_type": "markdown",
   "metadata": {},
   "source": [
    "<br><br>\n",
    "\n",
    "# \\[ 1. 로지스틱 회귀 \\]\n",
    "\n",
    "----\n",
    "\n",
    "----\n",
    "\n",
    "> *Logistic 회귀는 특징 정보 간의 관계를 선형적으로 조합한 후,<br>그 값을 확률값으로 바꾸어주는 머신러닝 모델입니다.*<br>\n",
    "> *선형 회귀와 로지스틱 함수의 조합으로 구성되어 있습니다.*"
   ]
  },
  {
   "cell_type": "markdown",
   "metadata": {},
   "source": [
    "## 1. 로지스틱 회귀식 설정하기\n",
    "\n",
    "----\n",
    "\n",
    "* 현재 암환자 데이터셋의 독립변수로는 tumor_size($x_1$)와 age($x_2$)가 있습니다.\n",
    "* 종속변수로는 label이 있습니다."
   ]
  },
  {
   "cell_type": "code",
   "execution_count": 7,
   "metadata": {},
   "outputs": [],
   "source": [
    "# MinMax Normalization 적용\n",
    "cancer_df = (cancer_df-cancer_df.min())/(cancer_df.max()-cancer_df.min())\n",
    "\n",
    "x_1 = cancer_df.tumor_size\n",
    "x_2 = cancer_df.age\n",
    "y = cancer_df.label\n",
    "\n",
    "# weight 모두 0.1로 초기화\n",
    "w_0,w_1,w_2 = np.random.random(3)"
   ]
  },
  {
   "cell_type": "markdown",
   "metadata": {},
   "source": [
    "로지스틱 회귀 모델은 아래의 두 단계로 이루어져 있습니다.<br>\n",
    "$\n",
    "z = w_0 + w_1x_1 + w_2x_2 \\\\\n",
    "y = \\frac{1}{1+e^{-z}}\n",
    "$"
   ]
  },
  {
   "cell_type": "code",
   "execution_count": 8,
   "metadata": {},
   "outputs": [],
   "source": [
    "z = w_0 + w_1*x_1 + w_2*x_2\n",
    "prob = 1/(1+np.exp(-z))"
   ]
  },
  {
   "cell_type": "code",
   "execution_count": 9,
   "metadata": {},
   "outputs": [
    {
     "data": {
      "image/png": "[encoded data removed]",
      "text/plain": [
       "<Figure size 432x288 with 1 Axes>"
      ]
     },
     "metadata": {},
     "output_type": "display_data"
    }
   ],
   "source": [
    "plt.hist(prob)\n",
    "plt.show()"
   ]
  },
  {
   "cell_type": "markdown",
   "metadata": {},
   "source": [
    "prob의 값의 범위는 0과 1사이에 위치합니다."
   ]
  },
  {
   "cell_type": "markdown",
   "metadata": {},
   "source": [
    "## 2. 손실함수, 미분함수 정의하기\n",
    "\n",
    "----\n"
   ]
  },
  {
   "cell_type": "markdown",
   "metadata": {},
   "source": [
    "### (1) 손실함수 정의하기\n",
    "\n",
    "이전 시간에 배운 손실함수의 식은 아래와 같이 정의할 수 있습니다.\n",
    "$$\n",
    "Loss(W) = \\frac{1}{m}\\sum_{i=1}^{m}CrossEntropy(y_{true},y_{pred})\\\\\n",
    "=- \\frac{1}{m}\\sum_{i=1}^{m}y_{true}log(y_{pred}) + (1-y_{true})(log(1-y_{pred}))\n",
    "$$"
   ]
  },
  {
   "cell_type": "code",
   "execution_count": 10,
   "metadata": {},
   "outputs": [
    {
     "data": {
      "text/plain": [
       "0.6702287380616555"
      ]
     },
     "execution_count": 10,
     "metadata": {},
     "output_type": "execute_result"
    }
   ],
   "source": [
    "crossentropy = -np.mean(y*np.log(prob) + (1-y)*np.log(1-prob))\n",
    "crossentropy"
   ]
  },
  {
   "cell_type": "markdown",
   "metadata": {},
   "source": [
    "### (2) 미분함수 정의하기\n",
    "\n",
    "위의 손실함수를 각 Weight 별로 미분해주면, 아래의 수식이 나타나게 됩니다.\n",
    "\n",
    "$$\n",
    "\\frac{\\partial Loss}{\\partial W_j} = \\frac{1}{m}\\sum_{i=1}^{m}(y_{pred}^i - y_{true}^i)x_j^i\n",
    "$$\n",
    "\n",
    "*수식을 도출하는 과정은 매우 중요합니다. 따로 과제물로 제공하겠습니다.*"
   ]
  },
  {
   "cell_type": "code",
   "execution_count": 11,
   "metadata": {},
   "outputs": [],
   "source": [
    "z = w_0 + (w_1*x_1) + (w_2*x_2)\n",
    "prob = 1/(1+np.exp(-z))\n",
    "\n",
    "dw0 = np.mean(prob-y)\n",
    "dw1 = np.mean((prob-y)*x_1)\n",
    "dw2 = np.mean((prob-y)*x_2)"
   ]
  },
  {
   "cell_type": "markdown",
   "metadata": {},
   "source": [
    "## 3. Gradient Descent로 학습하기\n",
    "\n",
    "----\n",
    "\n",
    "\n",
    "선형 회귀에서 적용했던 방식과 마찬가지로 아래의 수식을 적용하면 됩니다.\n",
    "\n",
    "$$\n",
    "W_{new} = W_{old} - \\alpha * \\frac{\\partial loss}{\\partial W} \n",
    "$$\n",
    "\n",
    "학습률과 학습횟수는 아래와 같이 결정하겠습니다.\n",
    "\n",
    "1. learning Rate : 0.01\n",
    "2. Epoch : 1000"
   ]
  },
  {
   "cell_type": "code",
   "execution_count": 12,
   "metadata": {},
   "outputs": [],
   "source": [
    "# 갱신된 weight와 mse 저장\n",
    "w_0_history = [w_0]\n",
    "w_1_history = [w_1]\n",
    "w_2_history = [w_2]\n",
    "loss_history = [crossentropy]\n",
    "\n",
    "alpha = 1e-1 # 학습률\n",
    "epoch = 500\n",
    "\n",
    "for i in range(epoch):\n",
    "    # 이전 가중치 가져오기\n",
    "    old_w_0 = w_0_history[-1]\n",
    "    old_w_1 = w_1_history[-1]\n",
    "    old_w_2 = w_2_history[-1]    \n",
    "    \n",
    "    # 미분값 갱신\n",
    "    z = old_w_0 + (old_w_1*x_1) + (old_w_2*x_2)\n",
    "    prob = 1/(1+np.exp(-z))\n",
    "    \n",
    "    dw0 = np.mean(prob-y)\n",
    "    dw1 = np.mean((prob-y)*x_1)\n",
    "    dw2 = np.mean((prob-y)*x_2)\n",
    "    \n",
    "    # 경사_하강법을 통한 가중치 갱신\n",
    "    new_w_0 = old_w_0 - alpha * dw0\n",
    "    new_w_1 = old_w_1 - alpha * dw1\n",
    "    new_w_2 = old_w_2 - alpha * dw2\n",
    "    \n",
    "\n",
    "    crossentropy = -np.mean(y*np.log(prob) + (1-y)*np.log(1-prob))\n",
    "\n",
    "    # 결과 저장\n",
    "    w_0_history.append(new_w_0)\n",
    "    w_1_history.append(new_w_1)\n",
    "    w_2_history.append(new_w_2)\n",
    "    loss_history.append(crossentropy)"
   ]
  },
  {
   "cell_type": "markdown",
   "metadata": {},
   "source": [
    "## 4. 결과 확인하기\n",
    "\n",
    "----"
   ]
  },
  {
   "cell_type": "markdown",
   "metadata": {},
   "source": [
    "### (1) 손실함수의 그래프 결과"
   ]
  },
  {
   "cell_type": "code",
   "execution_count": 16,
   "metadata": {},
   "outputs": [
    {
     "data": {
      "image/png": "[encoded data removed]",
      "text/plain": [
       "<Figure size 432x288 with 1 Axes>"
      ]
     },
     "metadata": {},
     "output_type": "display_data"
    }
   ],
   "source": [
    "plt.title(\"Loss Function\")\n",
    "plt.plot(loss_history)\n",
    "plt.show()"
   ]
  },
  {
   "cell_type": "markdown",
   "metadata": {},
   "source": [
    "### (2) 정답값과 예측값의 비교\n",
    "\n",
    "$$\n",
    "z = w_0 + w_1x_1 + w_2x_2 \\\\\n",
    "y = \\frac{1}{1+e^{-z}}\n",
    "$$\n",
    "\n",
    "$y = 0.5$일 때, $z=0$이 됩니다.<br>\n",
    "즉 암을 판별하는 경계선은<br>\n",
    "$$\n",
    "0 = w_0 + w_1x_1 + w_2x_2\n",
    "$$\n",
    "가 됩니다."
   ]
  },
  {
   "cell_type": "code",
   "execution_count": 17,
   "metadata": {},
   "outputs": [],
   "source": [
    "new_w0 = w_0_history[-1]\n",
    "new_w1 = w_1_history[-1]\n",
    "new_w2 = w_2_history[-1]\n",
    "\n",
    "x_0 = [-new_w0/new_w1,0] # x_1 절편\n",
    "y_0 = [0,-new_w0/new_w2] # x_2 절편"
   ]
  },
  {
   "cell_type": "code",
   "execution_count": 20,
   "metadata": {},
   "outputs": [
    {
     "data": {
      "image/png": "[encoded data removed]",
      "text/plain": [
       "<Figure size 504x504 with 1 Axes>"
      ]
     },
     "metadata": {},
     "output_type": "display_data"
    }
   ],
   "source": [
    "fig = plt.figure(figsize=(7,7))\n",
    "ax = fig.add_subplot(1,1,1)\n",
    "ax.plot(x_0,y_0) # Decision boundary 그리기\n",
    "\n",
    "# 0: 정상\n",
    "cancer_df[cancer_df.label==0].plot('age','tumor_size',ax=ax,legend=True,\n",
    "                                   kind='scatter',color='red')\n",
    "# 1: 암환자\n",
    "cancer_df[cancer_df.label==1].plot('age','tumor_size',ax=ax,legend=True,\n",
    "                                   kind='scatter',color='green')\n",
    "plt.legend([\"decision\",'Normal','Cancer'])\n",
    "plt.title(\"Cancer Or Not\")\n",
    "plt.show()"
   ]
  },
  {
   "cell_type": "markdown",
   "metadata": {},
   "source": [
    "#  \n",
    "\n",
    "---\n",
    "\n",
    "    Copyright(c) 2019 by Public AI. All rights reserved.<br>\n",
    "    Writen by PAI, SangJae Kang ( rocketgrowthsj@publicai.co.kr )  last updated on 2019/03/22\n",
    "\n",
    "---"
   ]
  }
 ],
 "metadata": {
  "kernelspec": {
   "display_name": "Python 3",
   "language": "python",
   "name": "python3"
  },
  "language_info": {
   "codemirror_mode": {
    "name": "ipython",
    "version": 3
   },
   "file_extension": ".py",
   "mimetype": "text/x-python",
   "name": "python",
   "nbconvert_exporter": "python",
   "pygments_lexer": "ipython3",
   "version": "3.6.5"
  }
 },
 "nbformat": 4,
 "nbformat_minor": 2
}
