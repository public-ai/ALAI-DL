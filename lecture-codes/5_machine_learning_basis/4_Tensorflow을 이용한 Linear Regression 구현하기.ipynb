{
 "cells": [
  {
   "cell_type": "markdown",
   "metadata": {},
   "source": [
    " ╔══<i><b>Alai-DeepLearning</b></i>════════════════════════════╗\n",
    "###  &nbsp;&nbsp; **✎&nbsp;&nbsp;Week 5. Machine Learning Basis**\n",
    "# Section 4. Tensorflow을 이용한 Linear Regression 구현\n",
    "\n",
    "### _Objective_\n",
    "1. Tensorflow을 통해 우리는 선형회귀를 구현합니다. <br>\n",
    "  \n",
    "╚═════════════════════════════════════════╝"
   ]
  },
  {
   "cell_type": "code",
   "execution_count": 3,
   "metadata": {},
   "outputs": [
    {
     "name": "stdout",
     "output_type": "stream",
     "text": [
      "Requirement already satisfied: tensorboardcolab in /Users/ksj/anaconda3/lib/python3.6/site-packages (0.0.22)\n",
      "\u001b[33mYou are using pip version 18.1, however version 19.0.3 is available.\n",
      "You should consider upgrading via the 'pip install --upgrade pip' command.\u001b[0m\n"
     ]
    },
    {
     "name": "stderr",
     "output_type": "stream",
     "text": [
      "Using TensorFlow backend.\n"
     ]
    }
   ],
   "source": [
    "%matplotlib inline\n",
    "!pip install tensorboardcolab\n",
    "\n",
    "import tensorboardcolab\n",
    "import numpy as np\n",
    "import pandas as pd\n",
    "import tensorflow as tf \n",
    "import matplotlib.pyplot as plt"
   ]
  },
  {
   "cell_type": "markdown",
   "metadata": {},
   "source": [
    "### [Optional.  Tensorflow Graph Visualization ]\n",
    "\n",
    "---\n",
    "\n",
    "> _Jupyter에서 Tensorflow에서 구성되는 Graph를 시각적으로 보여주기 위한 helper 메소드입니다._<br>\n"
   ]
  },
  {
   "cell_type": "code",
   "execution_count": 4,
   "metadata": {},
   "outputs": [],
   "source": [
    "from IPython.display import clear_output, Image, display, HTML\n",
    "import numpy as np    \n",
    "\n",
    "def strip_consts(graph_def, max_const_size=32):\n",
    "    \"\"\"Strip large constant values from graph_def.\"\"\"\n",
    "    strip_def = tf.GraphDef()\n",
    "    for n0 in graph_def.node:\n",
    "        n = strip_def.node.add() \n",
    "        n.MergeFrom(n0)\n",
    "        if n.op == 'Const':\n",
    "            tensor = n.attr['value'].tensor\n",
    "            size = len(tensor.tensor_content)\n",
    "            if size > max_const_size:\n",
    "                tensor.tensor_content = \"<stripped %d bytes>\"%size\n",
    "    return strip_def\n",
    "\n",
    "def show_graph(graph_def, max_const_size=32):\n",
    "    \"\"\"Visualize TensorFlow graph.\"\"\"\n",
    "    if hasattr(graph_def, 'as_graph_def'):\n",
    "        graph_def = graph_def.as_graph_def()\n",
    "    strip_def = strip_consts(graph_def, max_const_size=max_const_size)\n",
    "    code = \"\"\"\n",
    "        <script>\n",
    "          function load() {{\n",
    "            document.getElementById(\"{id}\").pbtxt = {data};\n",
    "          }}\n",
    "        </script>\n",
    "        <link rel=\"import\" href=\"https://tensorboard.appspot.com/tf-graph-basic.build.html\" onload=load()>\n",
    "        <div style=\"height:600px\">\n",
    "          <tf-graph-basic id=\"{id}\"></tf-graph-basic>\n",
    "        </div>\n",
    "    \"\"\".format(data=repr(str(strip_def)), id='graph'+str(np.random.rand()))\n",
    "\n",
    "    iframe = \"\"\"\n",
    "        <iframe seamless style=\"width:1200px;height:620px;border:0\" srcdoc=\"{}\"></iframe>\n",
    "    \"\"\".format(code.replace('\"', '&quot;'))\n",
    "    display(HTML(iframe))"
   ]
  },
  {
   "cell_type": "markdown",
   "metadata": {},
   "source": [
    "## 예제 데이터 ) 빅데이터로 예측한 '옥자' 관객 수\n",
    "\n",
    "\"이전까지 개봉했던 영화의 보고싶어요 수와 관객 수를 바탕으로, 옥자의 예상 관객 수 예측하기\"\n",
    "\n",
    "reference : [빅데이터로 예측한 옥자 관객 수 727만 명](http://platum.kr/wp-content/uploads/2017/06/unnamed-12.png)\n",
    "![](http://platum.kr/wp-content/uploads/2017/06/unnamed-12.png)"
   ]
  },
  {
   "cell_type": "code",
   "execution_count": 5,
   "metadata": {},
   "outputs": [
    {
     "data": {
      "text/html": [
       "<div>\n",
       "<style scoped>\n",
       "    .dataframe tbody tr th:only-of-type {\n",
       "        vertical-align: middle;\n",
       "    }\n",
       "\n",
       "    .dataframe tbody tr th {\n",
       "        vertical-align: top;\n",
       "    }\n",
       "\n",
       "    .dataframe thead th {\n",
       "        text-align: right;\n",
       "    }\n",
       "</style>\n",
       "<table border=\"1\" class=\"dataframe\">\n",
       "  <thead>\n",
       "    <tr style=\"text-align: right;\">\n",
       "      <th></th>\n",
       "      <th>nums_want_to_see</th>\n",
       "      <th>nums_audience</th>\n",
       "    </tr>\n",
       "  </thead>\n",
       "  <tbody>\n",
       "    <tr>\n",
       "      <th>마션</th>\n",
       "      <td>8759</td>\n",
       "      <td>487</td>\n",
       "    </tr>\n",
       "    <tr>\n",
       "      <th>킹스맨</th>\n",
       "      <td>10132</td>\n",
       "      <td>612</td>\n",
       "    </tr>\n",
       "    <tr>\n",
       "      <th>캡틴아메리카</th>\n",
       "      <td>12078</td>\n",
       "      <td>866</td>\n",
       "    </tr>\n",
       "    <tr>\n",
       "      <th>인터스텔라</th>\n",
       "      <td>16430</td>\n",
       "      <td>1030</td>\n",
       "    </tr>\n",
       "  </tbody>\n",
       "</table>\n",
       "</div>"
      ],
      "text/plain": [
       "        nums_want_to_see  nums_audience\n",
       "마션                  8759            487\n",
       "킹스맨                10132            612\n",
       "캡틴아메리카             12078            866\n",
       "인터스텔라              16430           1030"
      ]
     },
     "execution_count": 5,
     "metadata": {},
     "output_type": "execute_result"
    }
   ],
   "source": [
    "movie_df = pd.DataFrame([\n",
    "    [8759, 487],\n",
    "    [10132,612],\n",
    "    [12078,866],\n",
    "    [16430,1030]],\n",
    "    columns=[\"nums_want_to_see\",\"nums_audience\"])\n",
    "movie_df.index = [\"마션\",\"킹스맨\",\"캡틴아메리카\",\"인터스텔라\"]\n",
    "movie_df"
   ]
  },
  {
   "cell_type": "markdown",
   "metadata": {},
   "source": [
    "<br><br>\n",
    "\n",
    "# \\[ 1. 학습이 잘 되지 않는 이유 \\]\n",
    "\n",
    "----\n",
    "\n",
    "----\n",
    "\n",
    "> *선형 회귀 모델을 그래프로 구현해보도록 하겠습니다.*<br>"
   ]
  },
  {
   "cell_type": "markdown",
   "metadata": {},
   "source": [
    "## 1. 이전 코드 재학습 시키기\n",
    "---\n"
   ]
  },
  {
   "cell_type": "code",
   "execution_count": 20,
   "metadata": {},
   "outputs": [],
   "source": [
    "# 손실 함수값 계산하기\n",
    "def calculate_MSE(W0, W1):\n",
    "    X = movie_df.nums_want_to_see # 독립 변수, 보고싶어요 수\n",
    "    y_true = movie_df.nums_audience # 실제값\n",
    "\n",
    "    y_pred = W1*X+W0 # 가중치 조합을 통한 예측값\n",
    "    return ((y_true - y_pred)**2).mean() # MSE\n",
    "\n",
    "# W0에 대한 미분식\n",
    "def calculate_wo_derivative(w0,w1):\n",
    "    x = movie_df.nums_want_to_see # 독립 변수, 보고싶어요 수\n",
    "    y_true = movie_df.nums_audience # 실제값\n",
    "    return (w1*x + w0 - y_true).mean()\n",
    "\n",
    "# W1에 대한 미분식\n",
    "def calculate_w1_derivative(w0,w1):\n",
    "    x = movie_df.nums_want_to_see # 독립 변수, 보고싶어요 수\n",
    "    y_true = movie_df.nums_audience # 실제값\n",
    "    return ((w1*x + w0 - y_true)*x).mean()"
   ]
  },
  {
   "cell_type": "code",
   "execution_count": 21,
   "metadata": {},
   "outputs": [],
   "source": [
    "w0 = -500\n",
    "w1 = -0.75\n",
    "mse = calculate_MSE(w0,w1)"
   ]
  },
  {
   "cell_type": "code",
   "execution_count": 47,
   "metadata": {},
   "outputs": [],
   "source": [
    "# 갱신된 weight와 mse 저장\n",
    "w0_history = [w0]\n",
    "w1_history = [w1]\n",
    "mse_history = [mse]\n",
    "dw0_history = []\n",
    "dw1_history = []\n",
    "\n",
    "alpha = 2e-10 # 학습률\n",
    "epoch = 100 # 몇 번 학습할지 결정\n",
    "\n",
    "for i in range(epoch):\n",
    "    # 이전 가중치 가져오기\n",
    "    old_w0 = w0_history[-1]\n",
    "    old_w1 = w1_history[-1]\n",
    "    \n",
    "    # 미분값 갱신\n",
    "    dw0 = calculate_wo_derivative(old_w0,old_w1)\n",
    "    dw1 = calculate_w1_derivative(old_w0,old_w1)\n",
    "    \n",
    "    # 경사하강법을 통한 가중치 갱신\n",
    "    new_w0 = old_w0 - alpha * dw0\n",
    "    new_w1 = old_w1 - alpha * dw1\n",
    "    new_mse = calculate_MSE(new_w0,new_w1)\n",
    "    \n",
    "    # 결과 저장\n",
    "    w0_history.append(new_w0)\n",
    "    w1_history.append(new_w1)\n",
    "    dw0_history.append(dw0)\n",
    "    dw1_history.append(dw1)    \n",
    "    mse_history.append(new_mse)"
   ]
  },
  {
   "cell_type": "markdown",
   "metadata": {},
   "source": [
    "## 2. 결과 확인하기\n",
    "---"
   ]
  },
  {
   "cell_type": "code",
   "execution_count": 48,
   "metadata": {},
   "outputs": [],
   "source": [
    "hist_df = pd.DataFrame({\n",
    "    \"W0\":w0_history[:-1],\n",
    "    \"W1\":w1_history[:-1],\n",
    "    \"dw0\":dw0_history,\n",
    "    \"dw1\":dw1_history,    \n",
    "    \"Loss\":mse_history[:-1]\n",
    "})"
   ]
  },
  {
   "cell_type": "markdown",
   "metadata": {},
   "source": [
    "### (1) 손실함수 값 확인하기"
   ]
  },
  {
   "cell_type": "code",
   "execution_count": 49,
   "metadata": {},
   "outputs": [
    {
     "data": {
      "image/png": "[encoded data removed]",
      "text/plain": [
       "<Figure size 432x288 with 1 Axes>"
      ]
     },
     "metadata": {},
     "output_type": "display_data"
    }
   ],
   "source": [
    "hist_df.plot(y='Loss')\n",
    "plt.title(\"Loss Function\")\n",
    "plt.show()"
   ]
  },
  {
   "cell_type": "markdown",
   "metadata": {},
   "source": [
    "### (2) Weight 값 추이 확인하기"
   ]
  },
  {
   "cell_type": "code",
   "execution_count": 60,
   "metadata": {},
   "outputs": [
    {
     "data": {
      "image/png": "[encoded data removed]",
      "text/plain": [
       "<Figure size 720x720 with 2 Axes>"
      ]
     },
     "metadata": {},
     "output_type": "display_data"
    }
   ],
   "source": [
    "# W1은 어느정도 바뀌었지만, W0은 전혀 변하지 않았다.\n",
    "hist_df.plot(y=['W0','W1'],subplots=True,figsize=(10,10))\n",
    "plt.show()"
   ]
  },
  {
   "cell_type": "markdown",
   "metadata": {},
   "source": [
    "### (3) 기울기 값 추이 확인하기"
   ]
  },
  {
   "cell_type": "code",
   "execution_count": 59,
   "metadata": {},
   "outputs": [
    {
     "data": {
      "image/png": "[encoded data removed]",
      "text/plain": [
       "<Figure size 720x720 with 2 Axes>"
      ]
     },
     "metadata": {},
     "output_type": "display_data"
    }
   ],
   "source": [
    "# Delta 값의 변화가 너무 큽니다.\n",
    "# dw0은 10^4의 크기를 보이고 있는데, dw1은 10^8의 크기를 보이고 있습니다.\n",
    "hist_df.plot(y=['dw0','dw1'],subplots=True,figsize=(10,10))\n",
    "plt.show()"
   ]
  },
  {
   "cell_type": "markdown",
   "metadata": {},
   "source": [
    "위의 문제를 방지해주기 위해, 우리는 기본적으로 **Feature Scaling**을 적용합니다."
   ]
  },
  {
   "cell_type": "markdown",
   "metadata": {},
   "source": [
    "## 3. Feature Scale 적용 후, 학습 시키기\n",
    "---\n",
    "* Featrue Scale에 관한 구체적인 설명은 다음 시간에 하겠습니다.\n",
    "* 간단하게 여기서는 Min-Max Normalization을 적용하겠습니다."
   ]
  },
  {
   "cell_type": "code",
   "execution_count": 69,
   "metadata": {},
   "outputs": [
    {
     "data": {
      "text/html": [
       "<div>\n",
       "<style scoped>\n",
       "    .dataframe tbody tr th:only-of-type {\n",
       "        vertical-align: middle;\n",
       "    }\n",
       "\n",
       "    .dataframe tbody tr th {\n",
       "        vertical-align: top;\n",
       "    }\n",
       "\n",
       "    .dataframe thead th {\n",
       "        text-align: right;\n",
       "    }\n",
       "</style>\n",
       "<table border=\"1\" class=\"dataframe\">\n",
       "  <thead>\n",
       "    <tr style=\"text-align: right;\">\n",
       "      <th></th>\n",
       "      <th>nums_want_to_see</th>\n",
       "      <th>nums_audience</th>\n",
       "    </tr>\n",
       "  </thead>\n",
       "  <tbody>\n",
       "    <tr>\n",
       "      <th>count</th>\n",
       "      <td>4.000000</td>\n",
       "      <td>4.000000</td>\n",
       "    </tr>\n",
       "    <tr>\n",
       "      <th>mean</th>\n",
       "      <td>0.402914</td>\n",
       "      <td>0.482044</td>\n",
       "    </tr>\n",
       "    <tr>\n",
       "      <th>std</th>\n",
       "      <td>0.435844</td>\n",
       "      <td>0.451182</td>\n",
       "    </tr>\n",
       "    <tr>\n",
       "      <th>min</th>\n",
       "      <td>0.000000</td>\n",
       "      <td>0.000000</td>\n",
       "    </tr>\n",
       "    <tr>\n",
       "      <th>25%</th>\n",
       "      <td>0.134239</td>\n",
       "      <td>0.172652</td>\n",
       "    </tr>\n",
       "    <tr>\n",
       "      <th>50%</th>\n",
       "      <td>0.305827</td>\n",
       "      <td>0.464088</td>\n",
       "    </tr>\n",
       "    <tr>\n",
       "      <th>75%</th>\n",
       "      <td>0.574501</td>\n",
       "      <td>0.773481</td>\n",
       "    </tr>\n",
       "    <tr>\n",
       "      <th>max</th>\n",
       "      <td>1.000000</td>\n",
       "      <td>1.000000</td>\n",
       "    </tr>\n",
       "  </tbody>\n",
       "</table>\n",
       "</div>"
      ],
      "text/plain": [
       "       nums_want_to_see  nums_audience\n",
       "count          4.000000       4.000000\n",
       "mean           0.402914       0.482044\n",
       "std            0.435844       0.451182\n",
       "min            0.000000       0.000000\n",
       "25%            0.134239       0.172652\n",
       "50%            0.305827       0.464088\n",
       "75%            0.574501       0.773481\n",
       "max            1.000000       1.000000"
      ]
     },
     "execution_count": 69,
     "metadata": {},
     "output_type": "execute_result"
    }
   ],
   "source": [
    "# Min-Max Normalization 적용\n",
    "movie_df = (movie_df - movie_df.min())/(movie_df.max()-movie_df.min())\n",
    "movie_df.describe()"
   ]
  },
  {
   "cell_type": "code",
   "execution_count": 70,
   "metadata": {},
   "outputs": [],
   "source": [
    "w0 = -0.1\n",
    "w1 = -0.1\n",
    "mse = calculate_MSE(w0,w1)"
   ]
  },
  {
   "cell_type": "markdown",
   "metadata": {},
   "source": [
    "* 학습률을 보다 올려서 동작시키겠습니다."
   ]
  },
  {
   "cell_type": "code",
   "execution_count": 93,
   "metadata": {},
   "outputs": [],
   "source": [
    "# 갱신된 weight와 mse 저장\n",
    "w0_history = [w0]\n",
    "w1_history = [w1]\n",
    "mse_history = [mse]\n",
    "dw0_history = []\n",
    "dw1_history = []\n",
    "\n",
    "alpha = 2e-1 # 학습률\n",
    "epoch = 100 # 몇 번 학습할지 결정\n",
    "\n",
    "for i in range(epoch):\n",
    "    # 이전 가중치 가져오기\n",
    "    old_w0 = w0_history[-1]\n",
    "    old_w1 = w1_history[-1]\n",
    "    \n",
    "    # 미분값 갱신\n",
    "    dw0 = calculate_wo_derivative(old_w0,old_w1)\n",
    "    dw1 = calculate_w1_derivative(old_w0,old_w1)\n",
    "    \n",
    "    # 경사하강법을 통한 가중치 갱신\n",
    "    new_w0 = old_w0 - alpha * dw0\n",
    "    new_w1 = old_w1 - alpha * dw1\n",
    "    new_mse = calculate_MSE(new_w0,new_w1)\n",
    "    \n",
    "    # 결과 저장\n",
    "    w0_history.append(new_w0)\n",
    "    w1_history.append(new_w1)\n",
    "    dw0_history.append(dw0)\n",
    "    dw1_history.append(dw1)    \n",
    "    mse_history.append(new_mse)"
   ]
  },
  {
   "cell_type": "markdown",
   "metadata": {},
   "source": [
    "## 4. Feature Scale 적용 후, 결과 확인하기\n",
    "---\n",
    "* Feature Scaling을 적용한 후, 결과의 변화는 극적으로 안정적으로 됩니다."
   ]
  },
  {
   "cell_type": "code",
   "execution_count": 94,
   "metadata": {},
   "outputs": [],
   "source": [
    "hist_df = pd.DataFrame({\n",
    "    \"W0\":w0_history[:-1],\n",
    "    \"W1\":w1_history[:-1],\n",
    "    \"dw0\":dw0_history,\n",
    "    \"dw1\":dw1_history,    \n",
    "    \"Loss\":mse_history[:-1]\n",
    "})"
   ]
  },
  {
   "cell_type": "code",
   "execution_count": 95,
   "metadata": {},
   "outputs": [
    {
     "data": {
      "image/png": "[encoded data removed]",
      "text/plain": [
       "<Figure size 432x288 with 1 Axes>"
      ]
     },
     "metadata": {},
     "output_type": "display_data"
    }
   ],
   "source": [
    "hist_df.plot(y='Loss')\n",
    "plt.title(\"Loss Function\")\n",
    "plt.show()"
   ]
  },
  {
   "cell_type": "code",
   "execution_count": 96,
   "metadata": {},
   "outputs": [
    {
     "data": {
      "image/png": "[encoded data removed]",
      "text/plain": [
       "<Figure size 720x720 with 2 Axes>"
      ]
     },
     "metadata": {},
     "output_type": "display_data"
    }
   ],
   "source": [
    "# W0, W1모두 비슷한 수준으로 변화하였습니다.\n",
    "hist_df.plot(y=['W0','W1'],subplots=True,figsize=(10,10))\n",
    "plt.show()"
   ]
  },
  {
   "cell_type": "code",
   "execution_count": 97,
   "metadata": {},
   "outputs": [
    {
     "data": {
      "image/png": "[encoded data removed]",
      "text/plain": [
       "<Figure size 720x720 with 2 Axes>"
      ]
     },
     "metadata": {},
     "output_type": "display_data"
    }
   ],
   "source": [
    "# Delta 값 또한 비슷한 수준의 차이를 보이고 있습니다.\n",
    "hist_df.plot(y=['dw0','dw1'],subplots=True,figsize=(10,10))\n",
    "plt.show()"
   ]
  },
  {
   "cell_type": "markdown",
   "metadata": {},
   "source": [
    "* 위와 같이 안정적으로 학습을 시키기 위해서는 Feature Scaling이 필수적입니다."
   ]
  },
  {
   "cell_type": "markdown",
   "metadata": {},
   "source": [
    "<br><br>\n",
    "\n",
    "# \\[ 2. TensorFlow Graph 그리기 \\]\n",
    "\n",
    "----\n",
    "\n",
    "----\n",
    "\n",
    "> *선형 회귀 모델을 그래프로 구현해보도록 하겠습니다.*<br>"
   ]
  },
  {
   "cell_type": "markdown",
   "metadata": {},
   "source": [
    "<br>\n",
    "\n",
    "## 1.  placeholder 생성\n",
    "\n",
    "----\n",
    "\n",
    "* 선형 회귀 모델을 학습시키고, 예측하기 위해서는<br>\n",
    "  독립 변수(X), 종속 변수(Y), 학습률(learning rate)을 받아오는 placeholder가 필요합니다."
   ]
  },
  {
   "cell_type": "code",
   "execution_count": 98,
   "metadata": {},
   "outputs": [],
   "source": [
    "tf.reset_default_graph()\n",
    "\n",
    "# Data를 받아오는 placeholder\n",
    "x = tf.placeholder(tf.float32, shape=(None,), name='x')\n",
    "y_true = tf.placeholder(tf.float32, shape=(None,), name=\"y_true\")\n",
    "learning_rate = tf.placeholder(tf.float32, name=\"learning_rate\")"
   ]
  },
  {
   "cell_type": "markdown",
   "metadata": {},
   "source": [
    "## 2.  weight 생성\n",
    "\n",
    "----\n",
    "\n",
    "\n",
    "* 우리는 학습해야 하는 두개의 가중치 ($W_0$,$W_1$)가 있습니다.<br>\n",
    "  이전과 동일하게 초깃값을 (-0.1,-0.1)로 두겠습니다."
   ]
  },
  {
   "cell_type": "code",
   "execution_count": 112,
   "metadata": {},
   "outputs": [],
   "source": [
    "# Weight 초기화\n",
    "with tf.variable_scope('weights'):\n",
    "    w0 = tf.Variable(-0.1,name='W0')\n",
    "    w1 = tf.Variable(-0.1,name='W1')"
   ]
  },
  {
   "cell_type": "markdown",
   "metadata": {},
   "source": [
    "## 3. 예측 모델 $\\hat y$ 구현\n",
    "\n",
    "---\n",
    "\n",
    "* 선형회귀 예측 모델인 아래의 수식을 구현해야 합니다.\n",
    "$$\n",
    "\\hat y = w_1 * x + w_0\n",
    "$$"
   ]
  },
  {
   "cell_type": "code",
   "execution_count": 100,
   "metadata": {},
   "outputs": [],
   "source": [
    "# Y_hat 구하기\n",
    "with tf.variable_scope('linear_regression'):\n",
    "    y_pred = w1*x + w0"
   ]
  },
  {
   "cell_type": "code",
   "execution_count": 101,
   "metadata": {
    "scrolled": false
   },
   "outputs": [
    {
     "data": {
      "text/html": [
       "\n",
       "        <iframe seamless style=\"width:1200px;height:620px;border:0\" srcdoc=\"\n",
       "        <script>\n",
       "          function load() {\n",
       "            document.getElementById(&quot;graph0.8065856193361768&quot;).pbtxt = 'node {\\n  name: &quot;x&quot;\\n  op: &quot;Placeholder&quot;\\n  attr {\\n    key: &quot;dtype&quot;\\n    value {\\n      type: DT_FLOAT\\n    }\\n  }\\n  attr {\\n    key: &quot;shape&quot;\\n    value {\\n      shape {\\n        dim {\\n          size: -1\\n        }\\n      }\\n    }\\n  }\\n}\\nnode {\\n  name: &quot;y_true&quot;\\n  op: &quot;Placeholder&quot;\\n  attr {\\n    key: &quot;dtype&quot;\\n    value {\\n      type: DT_FLOAT\\n    }\\n  }\\n  attr {\\n    key: &quot;shape&quot;\\n    value {\\n      shape {\\n        dim {\\n          size: -1\\n        }\\n      }\\n    }\\n  }\\n}\\nnode {\\n  name: &quot;learning_rate&quot;\\n  op: &quot;Placeholder&quot;\\n  attr {\\n    key: &quot;dtype&quot;\\n    value {\\n      type: DT_FLOAT\\n    }\\n  }\\n  attr {\\n    key: &quot;shape&quot;\\n    value {\\n      shape {\\n        unknown_rank: true\\n      }\\n    }\\n  }\\n}\\nnode {\\n  name: &quot;weights/W0/initial_value&quot;\\n  op: &quot;Const&quot;\\n  attr {\\n    key: &quot;dtype&quot;\\n    value {\\n      type: DT_FLOAT\\n    }\\n  }\\n  attr {\\n    key: &quot;value&quot;\\n    value {\\n      tensor {\\n        dtype: DT_FLOAT\\n        tensor_shape {\\n        }\\n        float_val: -500.0\\n      }\\n    }\\n  }\\n}\\nnode {\\n  name: &quot;weights/W0&quot;\\n  op: &quot;VariableV2&quot;\\n  attr {\\n    key: &quot;container&quot;\\n    value {\\n      s: &quot;&quot;\\n    }\\n  }\\n  attr {\\n    key: &quot;dtype&quot;\\n    value {\\n      type: DT_FLOAT\\n    }\\n  }\\n  attr {\\n    key: &quot;shape&quot;\\n    value {\\n      shape {\\n      }\\n    }\\n  }\\n  attr {\\n    key: &quot;shared_name&quot;\\n    value {\\n      s: &quot;&quot;\\n    }\\n  }\\n}\\nnode {\\n  name: &quot;weights/W0/Assign&quot;\\n  op: &quot;Assign&quot;\\n  input: &quot;weights/W0&quot;\\n  input: &quot;weights/W0/initial_value&quot;\\n  attr {\\n    key: &quot;T&quot;\\n    value {\\n      type: DT_FLOAT\\n    }\\n  }\\n  attr {\\n    key: &quot;_class&quot;\\n    value {\\n      list {\\n        s: &quot;loc:@weights/W0&quot;\\n      }\\n    }\\n  }\\n  attr {\\n    key: &quot;use_locking&quot;\\n    value {\\n      b: true\\n    }\\n  }\\n  attr {\\n    key: &quot;validate_shape&quot;\\n    value {\\n      b: true\\n    }\\n  }\\n}\\nnode {\\n  name: &quot;weights/W0/read&quot;\\n  op: &quot;Identity&quot;\\n  input: &quot;weights/W0&quot;\\n  attr {\\n    key: &quot;T&quot;\\n    value {\\n      type: DT_FLOAT\\n    }\\n  }\\n  attr {\\n    key: &quot;_class&quot;\\n    value {\\n      list {\\n        s: &quot;loc:@weights/W0&quot;\\n      }\\n    }\\n  }\\n}\\nnode {\\n  name: &quot;weights/W1/initial_value&quot;\\n  op: &quot;Const&quot;\\n  attr {\\n    key: &quot;dtype&quot;\\n    value {\\n      type: DT_FLOAT\\n    }\\n  }\\n  attr {\\n    key: &quot;value&quot;\\n    value {\\n      tensor {\\n        dtype: DT_FLOAT\\n        tensor_shape {\\n        }\\n        float_val: -0.75\\n      }\\n    }\\n  }\\n}\\nnode {\\n  name: &quot;weights/W1&quot;\\n  op: &quot;VariableV2&quot;\\n  attr {\\n    key: &quot;container&quot;\\n    value {\\n      s: &quot;&quot;\\n    }\\n  }\\n  attr {\\n    key: &quot;dtype&quot;\\n    value {\\n      type: DT_FLOAT\\n    }\\n  }\\n  attr {\\n    key: &quot;shape&quot;\\n    value {\\n      shape {\\n      }\\n    }\\n  }\\n  attr {\\n    key: &quot;shared_name&quot;\\n    value {\\n      s: &quot;&quot;\\n    }\\n  }\\n}\\nnode {\\n  name: &quot;weights/W1/Assign&quot;\\n  op: &quot;Assign&quot;\\n  input: &quot;weights/W1&quot;\\n  input: &quot;weights/W1/initial_value&quot;\\n  attr {\\n    key: &quot;T&quot;\\n    value {\\n      type: DT_FLOAT\\n    }\\n  }\\n  attr {\\n    key: &quot;_class&quot;\\n    value {\\n      list {\\n        s: &quot;loc:@weights/W1&quot;\\n      }\\n    }\\n  }\\n  attr {\\n    key: &quot;use_locking&quot;\\n    value {\\n      b: true\\n    }\\n  }\\n  attr {\\n    key: &quot;validate_shape&quot;\\n    value {\\n      b: true\\n    }\\n  }\\n}\\nnode {\\n  name: &quot;weights/W1/read&quot;\\n  op: &quot;Identity&quot;\\n  input: &quot;weights/W1&quot;\\n  attr {\\n    key: &quot;T&quot;\\n    value {\\n      type: DT_FLOAT\\n    }\\n  }\\n  attr {\\n    key: &quot;_class&quot;\\n    value {\\n      list {\\n        s: &quot;loc:@weights/W1&quot;\\n      }\\n    }\\n  }\\n}\\nnode {\\n  name: &quot;linear_regression/mul&quot;\\n  op: &quot;Mul&quot;\\n  input: &quot;weights/W1/read&quot;\\n  input: &quot;x&quot;\\n  attr {\\n    key: &quot;T&quot;\\n    value {\\n      type: DT_FLOAT\\n    }\\n  }\\n}\\nnode {\\n  name: &quot;linear_regression/add&quot;\\n  op: &quot;Add&quot;\\n  input: &quot;linear_regression/mul&quot;\\n  input: &quot;weights/W0/read&quot;\\n  attr {\\n    key: &quot;T&quot;\\n    value {\\n      type: DT_FLOAT\\n    }\\n  }\\n}\\n';\n",
       "          }\n",
       "        </script>\n",
       "        <link rel=&quot;import&quot; href=&quot;https://tensorboard.appspot.com/tf-graph-basic.build.html&quot; onload=load()>\n",
       "        <div style=&quot;height:600px&quot;>\n",
       "          <tf-graph-basic id=&quot;graph0.8065856193361768&quot;></tf-graph-basic>\n",
       "        </div>\n",
       "    \"></iframe>\n",
       "    "
      ],
      "text/plain": [
       "<IPython.core.display.HTML object>"
      ]
     },
     "metadata": {},
     "output_type": "display_data"
    }
   ],
   "source": [
    "show_graph(tf.get_default_graph())"
   ]
  },
  {
   "cell_type": "markdown",
   "metadata": {},
   "source": [
    "선형회귀로 예측하기 위해서는 weight와 x만 있으면 됩니다."
   ]
  },
  {
   "cell_type": "markdown",
   "metadata": {},
   "source": [
    "## 4. 손실함수 구현\n",
    "\n",
    "---\n",
    "\n",
    "\n",
    "$$\n",
    "\\mbox{손실함수 : } Loss(W_0,W_1) = \\frac{1}{2m}\\sum_{i=1}^{m}(\\hat y - y)^2 = \\frac{1}{2m}\\sum_{i=1}^{m}(w_1x^{(i)}+w_0-y^{(i)})^2\n",
    "$$"
   ]
  },
  {
   "cell_type": "code",
   "execution_count": 102,
   "metadata": {},
   "outputs": [],
   "source": [
    "# MSE_loss\n",
    "with tf.variable_scope('loss'):\n",
    "    mse_loss = tf.reduce_mean(tf.square(y_pred-y_true))\n",
    "    tf.add_to_collection(tf.GraphKeys.LOSSES,mse_loss)"
   ]
  },
  {
   "cell_type": "code",
   "execution_count": 103,
   "metadata": {},
   "outputs": [
    {
     "data": {
      "text/html": [
       "\n",
       "        <iframe seamless style=\"width:1200px;height:620px;border:0\" srcdoc=\"\n",
       "        <script>\n",
       "          function load() {\n",
       "            document.getElementById(&quot;graph0.5902518776337519&quot;).pbtxt = 'node {\\n  name: &quot;x&quot;\\n  op: &quot;Placeholder&quot;\\n  attr {\\n    key: &quot;dtype&quot;\\n    value {\\n      type: DT_FLOAT\\n    }\\n  }\\n  attr {\\n    key: &quot;shape&quot;\\n    value {\\n      shape {\\n        dim {\\n          size: -1\\n        }\\n      }\\n    }\\n  }\\n}\\nnode {\\n  name: &quot;y_true&quot;\\n  op: &quot;Placeholder&quot;\\n  attr {\\n    key: &quot;dtype&quot;\\n    value {\\n      type: DT_FLOAT\\n    }\\n  }\\n  attr {\\n    key: &quot;shape&quot;\\n    value {\\n      shape {\\n        dim {\\n          size: -1\\n        }\\n      }\\n    }\\n  }\\n}\\nnode {\\n  name: &quot;learning_rate&quot;\\n  op: &quot;Placeholder&quot;\\n  attr {\\n    key: &quot;dtype&quot;\\n    value {\\n      type: DT_FLOAT\\n    }\\n  }\\n  attr {\\n    key: &quot;shape&quot;\\n    value {\\n      shape {\\n        unknown_rank: true\\n      }\\n    }\\n  }\\n}\\nnode {\\n  name: &quot;weights/W0/initial_value&quot;\\n  op: &quot;Const&quot;\\n  attr {\\n    key: &quot;dtype&quot;\\n    value {\\n      type: DT_FLOAT\\n    }\\n  }\\n  attr {\\n    key: &quot;value&quot;\\n    value {\\n      tensor {\\n        dtype: DT_FLOAT\\n        tensor_shape {\\n        }\\n        float_val: -500.0\\n      }\\n    }\\n  }\\n}\\nnode {\\n  name: &quot;weights/W0&quot;\\n  op: &quot;VariableV2&quot;\\n  attr {\\n    key: &quot;container&quot;\\n    value {\\n      s: &quot;&quot;\\n    }\\n  }\\n  attr {\\n    key: &quot;dtype&quot;\\n    value {\\n      type: DT_FLOAT\\n    }\\n  }\\n  attr {\\n    key: &quot;shape&quot;\\n    value {\\n      shape {\\n      }\\n    }\\n  }\\n  attr {\\n    key: &quot;shared_name&quot;\\n    value {\\n      s: &quot;&quot;\\n    }\\n  }\\n}\\nnode {\\n  name: &quot;weights/W0/Assign&quot;\\n  op: &quot;Assign&quot;\\n  input: &quot;weights/W0&quot;\\n  input: &quot;weights/W0/initial_value&quot;\\n  attr {\\n    key: &quot;T&quot;\\n    value {\\n      type: DT_FLOAT\\n    }\\n  }\\n  attr {\\n    key: &quot;_class&quot;\\n    value {\\n      list {\\n        s: &quot;loc:@weights/W0&quot;\\n      }\\n    }\\n  }\\n  attr {\\n    key: &quot;use_locking&quot;\\n    value {\\n      b: true\\n    }\\n  }\\n  attr {\\n    key: &quot;validate_shape&quot;\\n    value {\\n      b: true\\n    }\\n  }\\n}\\nnode {\\n  name: &quot;weights/W0/read&quot;\\n  op: &quot;Identity&quot;\\n  input: &quot;weights/W0&quot;\\n  attr {\\n    key: &quot;T&quot;\\n    value {\\n      type: DT_FLOAT\\n    }\\n  }\\n  attr {\\n    key: &quot;_class&quot;\\n    value {\\n      list {\\n        s: &quot;loc:@weights/W0&quot;\\n      }\\n    }\\n  }\\n}\\nnode {\\n  name: &quot;weights/W1/initial_value&quot;\\n  op: &quot;Const&quot;\\n  attr {\\n    key: &quot;dtype&quot;\\n    value {\\n      type: DT_FLOAT\\n    }\\n  }\\n  attr {\\n    key: &quot;value&quot;\\n    value {\\n      tensor {\\n        dtype: DT_FLOAT\\n        tensor_shape {\\n        }\\n        float_val: -0.75\\n      }\\n    }\\n  }\\n}\\nnode {\\n  name: &quot;weights/W1&quot;\\n  op: &quot;VariableV2&quot;\\n  attr {\\n    key: &quot;container&quot;\\n    value {\\n      s: &quot;&quot;\\n    }\\n  }\\n  attr {\\n    key: &quot;dtype&quot;\\n    value {\\n      type: DT_FLOAT\\n    }\\n  }\\n  attr {\\n    key: &quot;shape&quot;\\n    value {\\n      shape {\\n      }\\n    }\\n  }\\n  attr {\\n    key: &quot;shared_name&quot;\\n    value {\\n      s: &quot;&quot;\\n    }\\n  }\\n}\\nnode {\\n  name: &quot;weights/W1/Assign&quot;\\n  op: &quot;Assign&quot;\\n  input: &quot;weights/W1&quot;\\n  input: &quot;weights/W1/initial_value&quot;\\n  attr {\\n    key: &quot;T&quot;\\n    value {\\n      type: DT_FLOAT\\n    }\\n  }\\n  attr {\\n    key: &quot;_class&quot;\\n    value {\\n      list {\\n        s: &quot;loc:@weights/W1&quot;\\n      }\\n    }\\n  }\\n  attr {\\n    key: &quot;use_locking&quot;\\n    value {\\n      b: true\\n    }\\n  }\\n  attr {\\n    key: &quot;validate_shape&quot;\\n    value {\\n      b: true\\n    }\\n  }\\n}\\nnode {\\n  name: &quot;weights/W1/read&quot;\\n  op: &quot;Identity&quot;\\n  input: &quot;weights/W1&quot;\\n  attr {\\n    key: &quot;T&quot;\\n    value {\\n      type: DT_FLOAT\\n    }\\n  }\\n  attr {\\n    key: &quot;_class&quot;\\n    value {\\n      list {\\n        s: &quot;loc:@weights/W1&quot;\\n      }\\n    }\\n  }\\n}\\nnode {\\n  name: &quot;linear_regression/mul&quot;\\n  op: &quot;Mul&quot;\\n  input: &quot;weights/W1/read&quot;\\n  input: &quot;x&quot;\\n  attr {\\n    key: &quot;T&quot;\\n    value {\\n      type: DT_FLOAT\\n    }\\n  }\\n}\\nnode {\\n  name: &quot;linear_regression/add&quot;\\n  op: &quot;Add&quot;\\n  input: &quot;linear_regression/mul&quot;\\n  input: &quot;weights/W0/read&quot;\\n  attr {\\n    key: &quot;T&quot;\\n    value {\\n      type: DT_FLOAT\\n    }\\n  }\\n}\\nnode {\\n  name: &quot;loss/sub&quot;\\n  op: &quot;Sub&quot;\\n  input: &quot;linear_regression/add&quot;\\n  input: &quot;y_true&quot;\\n  attr {\\n    key: &quot;T&quot;\\n    value {\\n      type: DT_FLOAT\\n    }\\n  }\\n}\\nnode {\\n  name: &quot;loss/Square&quot;\\n  op: &quot;Square&quot;\\n  input: &quot;loss/sub&quot;\\n  attr {\\n    key: &quot;T&quot;\\n    value {\\n      type: DT_FLOAT\\n    }\\n  }\\n}\\nnode {\\n  name: &quot;loss/Const&quot;\\n  op: &quot;Const&quot;\\n  attr {\\n    key: &quot;dtype&quot;\\n    value {\\n      type: DT_INT32\\n    }\\n  }\\n  attr {\\n    key: &quot;value&quot;\\n    value {\\n      tensor {\\n        dtype: DT_INT32\\n        tensor_shape {\\n          dim {\\n            size: 1\\n          }\\n        }\\n        int_val: 0\\n      }\\n    }\\n  }\\n}\\nnode {\\n  name: &quot;loss/Mean&quot;\\n  op: &quot;Mean&quot;\\n  input: &quot;loss/Square&quot;\\n  input: &quot;loss/Const&quot;\\n  attr {\\n    key: &quot;T&quot;\\n    value {\\n      type: DT_FLOAT\\n    }\\n  }\\n  attr {\\n    key: &quot;Tidx&quot;\\n    value {\\n      type: DT_INT32\\n    }\\n  }\\n  attr {\\n    key: &quot;keep_dims&quot;\\n    value {\\n      b: false\\n    }\\n  }\\n}\\n';\n",
       "          }\n",
       "        </script>\n",
       "        <link rel=&quot;import&quot; href=&quot;https://tensorboard.appspot.com/tf-graph-basic.build.html&quot; onload=load()>\n",
       "        <div style=&quot;height:600px&quot;>\n",
       "          <tf-graph-basic id=&quot;graph0.5902518776337519&quot;></tf-graph-basic>\n",
       "        </div>\n",
       "    \"></iframe>\n",
       "    "
      ],
      "text/plain": [
       "<IPython.core.display.HTML object>"
      ]
     },
     "metadata": {},
     "output_type": "display_data"
    }
   ],
   "source": [
    "show_graph(tf.get_default_graph())"
   ]
  },
  {
   "cell_type": "markdown",
   "metadata": {},
   "source": [
    "## 5. Gradient Descent 알고리즘 구현하기\n",
    "\n",
    "---\n",
    "\n",
    "\n",
    "각 Weight들의 기울기는 아래와 같습니다.\n",
    "\n",
    "$$\n",
    "\\frac{\\partial Loss}{\\partial W_0} = \\frac{1}{m}\\sum_{i=1}^{m}(w_1x^{(i)}+w_0 - y^{(i)})\\\\\n",
    "\\frac{\\partial Loss}{\\partial W_1} = \\frac{1}{m}\\sum_{i=1}^{m}(w_1x^{(i)}+w_0 - y^{(i)})x^{(i)}\\\\\n",
    "$$\n",
    "\n",
    "Gradient Descent 알고리즘의 수식은 아래와 같습니다.\n",
    "$$\n",
    "W_{new} = W_{old} - \\alpha * \\frac{\\partial loss}{\\partial W} \n",
    "$$\n"
   ]
  },
  {
   "cell_type": "code",
   "execution_count": 104,
   "metadata": {},
   "outputs": [],
   "source": [
    "# weight 별 gradient 구하기\n",
    "with tf.variable_scope('gradient_descent'):\n",
    "    grad_w0 = tf.reduce_mean(w1*x + w0 - y_true, \n",
    "                             name=\"gradient_w0\")\n",
    "    grad_w1 = tf.reduce_mean((w1*x + w0 - y_true)*x,\n",
    "                             name='gradient_w1')\n",
    "\n",
    "    update_w0 = tf.assign_sub(w0, learning_rate*grad_w0,\n",
    "                              name=\"update_w0\")\n",
    "    update_w1 = tf.assign_sub(w1, learning_rate*grad_w1,\n",
    "                              name='update_w1')\n",
    "\n",
    "    train_op = tf.group([update_w0,update_w1],\n",
    "                        name='train_op')\n",
    "    tf.add_to_collection(tf.GraphKeys.TRAIN_OP,train_op)"
   ]
  },
  {
   "cell_type": "code",
   "execution_count": 105,
   "metadata": {},
   "outputs": [
    {
     "data": {
      "text/html": [
       "\n",
       "        <iframe seamless style=\"width:1200px;height:620px;border:0\" srcdoc=\"\n",
       "        <script>\n",
       "          function load() {\n",
       "            document.getElementById(&quot;graph0.04877055033206512&quot;).pbtxt = 'node {\\n  name: &quot;x&quot;\\n  op: &quot;Placeholder&quot;\\n  attr {\\n    key: &quot;dtype&quot;\\n    value {\\n      type: DT_FLOAT\\n    }\\n  }\\n  attr {\\n    key: &quot;shape&quot;\\n    value {\\n      shape {\\n        dim {\\n          size: -1\\n        }\\n      }\\n    }\\n  }\\n}\\nnode {\\n  name: &quot;y_true&quot;\\n  op: &quot;Placeholder&quot;\\n  attr {\\n    key: &quot;dtype&quot;\\n    value {\\n      type: DT_FLOAT\\n    }\\n  }\\n  attr {\\n    key: &quot;shape&quot;\\n    value {\\n      shape {\\n        dim {\\n          size: -1\\n        }\\n      }\\n    }\\n  }\\n}\\nnode {\\n  name: &quot;learning_rate&quot;\\n  op: &quot;Placeholder&quot;\\n  attr {\\n    key: &quot;dtype&quot;\\n    value {\\n      type: DT_FLOAT\\n    }\\n  }\\n  attr {\\n    key: &quot;shape&quot;\\n    value {\\n      shape {\\n        unknown_rank: true\\n      }\\n    }\\n  }\\n}\\nnode {\\n  name: &quot;weights/W0/initial_value&quot;\\n  op: &quot;Const&quot;\\n  attr {\\n    key: &quot;dtype&quot;\\n    value {\\n      type: DT_FLOAT\\n    }\\n  }\\n  attr {\\n    key: &quot;value&quot;\\n    value {\\n      tensor {\\n        dtype: DT_FLOAT\\n        tensor_shape {\\n        }\\n        float_val: -500.0\\n      }\\n    }\\n  }\\n}\\nnode {\\n  name: &quot;weights/W0&quot;\\n  op: &quot;VariableV2&quot;\\n  attr {\\n    key: &quot;container&quot;\\n    value {\\n      s: &quot;&quot;\\n    }\\n  }\\n  attr {\\n    key: &quot;dtype&quot;\\n    value {\\n      type: DT_FLOAT\\n    }\\n  }\\n  attr {\\n    key: &quot;shape&quot;\\n    value {\\n      shape {\\n      }\\n    }\\n  }\\n  attr {\\n    key: &quot;shared_name&quot;\\n    value {\\n      s: &quot;&quot;\\n    }\\n  }\\n}\\nnode {\\n  name: &quot;weights/W0/Assign&quot;\\n  op: &quot;Assign&quot;\\n  input: &quot;weights/W0&quot;\\n  input: &quot;weights/W0/initial_value&quot;\\n  attr {\\n    key: &quot;T&quot;\\n    value {\\n      type: DT_FLOAT\\n    }\\n  }\\n  attr {\\n    key: &quot;_class&quot;\\n    value {\\n      list {\\n        s: &quot;loc:@weights/W0&quot;\\n      }\\n    }\\n  }\\n  attr {\\n    key: &quot;use_locking&quot;\\n    value {\\n      b: true\\n    }\\n  }\\n  attr {\\n    key: &quot;validate_shape&quot;\\n    value {\\n      b: true\\n    }\\n  }\\n}\\nnode {\\n  name: &quot;weights/W0/read&quot;\\n  op: &quot;Identity&quot;\\n  input: &quot;weights/W0&quot;\\n  attr {\\n    key: &quot;T&quot;\\n    value {\\n      type: DT_FLOAT\\n    }\\n  }\\n  attr {\\n    key: &quot;_class&quot;\\n    value {\\n      list {\\n        s: &quot;loc:@weights/W0&quot;\\n      }\\n    }\\n  }\\n}\\nnode {\\n  name: &quot;weights/W1/initial_value&quot;\\n  op: &quot;Const&quot;\\n  attr {\\n    key: &quot;dtype&quot;\\n    value {\\n      type: DT_FLOAT\\n    }\\n  }\\n  attr {\\n    key: &quot;value&quot;\\n    value {\\n      tensor {\\n        dtype: DT_FLOAT\\n        tensor_shape {\\n        }\\n        float_val: -0.75\\n      }\\n    }\\n  }\\n}\\nnode {\\n  name: &quot;weights/W1&quot;\\n  op: &quot;VariableV2&quot;\\n  attr {\\n    key: &quot;container&quot;\\n    value {\\n      s: &quot;&quot;\\n    }\\n  }\\n  attr {\\n    key: &quot;dtype&quot;\\n    value {\\n      type: DT_FLOAT\\n    }\\n  }\\n  attr {\\n    key: &quot;shape&quot;\\n    value {\\n      shape {\\n      }\\n    }\\n  }\\n  attr {\\n    key: &quot;shared_name&quot;\\n    value {\\n      s: &quot;&quot;\\n    }\\n  }\\n}\\nnode {\\n  name: &quot;weights/W1/Assign&quot;\\n  op: &quot;Assign&quot;\\n  input: &quot;weights/W1&quot;\\n  input: &quot;weights/W1/initial_value&quot;\\n  attr {\\n    key: &quot;T&quot;\\n    value {\\n      type: DT_FLOAT\\n    }\\n  }\\n  attr {\\n    key: &quot;_class&quot;\\n    value {\\n      list {\\n        s: &quot;loc:@weights/W1&quot;\\n      }\\n    }\\n  }\\n  attr {\\n    key: &quot;use_locking&quot;\\n    value {\\n      b: true\\n    }\\n  }\\n  attr {\\n    key: &quot;validate_shape&quot;\\n    value {\\n      b: true\\n    }\\n  }\\n}\\nnode {\\n  name: &quot;weights/W1/read&quot;\\n  op: &quot;Identity&quot;\\n  input: &quot;weights/W1&quot;\\n  attr {\\n    key: &quot;T&quot;\\n    value {\\n      type: DT_FLOAT\\n    }\\n  }\\n  attr {\\n    key: &quot;_class&quot;\\n    value {\\n      list {\\n        s: &quot;loc:@weights/W1&quot;\\n      }\\n    }\\n  }\\n}\\nnode {\\n  name: &quot;linear_regression/mul&quot;\\n  op: &quot;Mul&quot;\\n  input: &quot;weights/W1/read&quot;\\n  input: &quot;x&quot;\\n  attr {\\n    key: &quot;T&quot;\\n    value {\\n      type: DT_FLOAT\\n    }\\n  }\\n}\\nnode {\\n  name: &quot;linear_regression/add&quot;\\n  op: &quot;Add&quot;\\n  input: &quot;linear_regression/mul&quot;\\n  input: &quot;weights/W0/read&quot;\\n  attr {\\n    key: &quot;T&quot;\\n    value {\\n      type: DT_FLOAT\\n    }\\n  }\\n}\\nnode {\\n  name: &quot;loss/sub&quot;\\n  op: &quot;Sub&quot;\\n  input: &quot;linear_regression/add&quot;\\n  input: &quot;y_true&quot;\\n  attr {\\n    key: &quot;T&quot;\\n    value {\\n      type: DT_FLOAT\\n    }\\n  }\\n}\\nnode {\\n  name: &quot;loss/Square&quot;\\n  op: &quot;Square&quot;\\n  input: &quot;loss/sub&quot;\\n  attr {\\n    key: &quot;T&quot;\\n    value {\\n      type: DT_FLOAT\\n    }\\n  }\\n}\\nnode {\\n  name: &quot;loss/Const&quot;\\n  op: &quot;Const&quot;\\n  attr {\\n    key: &quot;dtype&quot;\\n    value {\\n      type: DT_INT32\\n    }\\n  }\\n  attr {\\n    key: &quot;value&quot;\\n    value {\\n      tensor {\\n        dtype: DT_INT32\\n        tensor_shape {\\n          dim {\\n            size: 1\\n          }\\n        }\\n        int_val: 0\\n      }\\n    }\\n  }\\n}\\nnode {\\n  name: &quot;loss/Mean&quot;\\n  op: &quot;Mean&quot;\\n  input: &quot;loss/Square&quot;\\n  input: &quot;loss/Const&quot;\\n  attr {\\n    key: &quot;T&quot;\\n    value {\\n      type: DT_FLOAT\\n    }\\n  }\\n  attr {\\n    key: &quot;Tidx&quot;\\n    value {\\n      type: DT_INT32\\n    }\\n  }\\n  attr {\\n    key: &quot;keep_dims&quot;\\n    value {\\n      b: false\\n    }\\n  }\\n}\\nnode {\\n  name: &quot;gradient_descent/mul&quot;\\n  op: &quot;Mul&quot;\\n  input: &quot;weights/W1/read&quot;\\n  input: &quot;x&quot;\\n  attr {\\n    key: &quot;T&quot;\\n    value {\\n      type: DT_FLOAT\\n    }\\n  }\\n}\\nnode {\\n  name: &quot;gradient_descent/add&quot;\\n  op: &quot;Add&quot;\\n  input: &quot;gradient_descent/mul&quot;\\n  input: &quot;weights/W0/read&quot;\\n  attr {\\n    key: &quot;T&quot;\\n    value {\\n      type: DT_FLOAT\\n    }\\n  }\\n}\\nnode {\\n  name: &quot;gradient_descent/sub&quot;\\n  op: &quot;Sub&quot;\\n  input: &quot;gradient_descent/add&quot;\\n  input: &quot;y_true&quot;\\n  attr {\\n    key: &quot;T&quot;\\n    value {\\n      type: DT_FLOAT\\n    }\\n  }\\n}\\nnode {\\n  name: &quot;gradient_descent/Const&quot;\\n  op: &quot;Const&quot;\\n  attr {\\n    key: &quot;dtype&quot;\\n    value {\\n      type: DT_INT32\\n    }\\n  }\\n  attr {\\n    key: &quot;value&quot;\\n    value {\\n      tensor {\\n        dtype: DT_INT32\\n        tensor_shape {\\n          dim {\\n            size: 1\\n          }\\n        }\\n        int_val: 0\\n      }\\n    }\\n  }\\n}\\nnode {\\n  name: &quot;gradient_descent/gradient_w0&quot;\\n  op: &quot;Mean&quot;\\n  input: &quot;gradient_descent/sub&quot;\\n  input: &quot;gradient_descent/Const&quot;\\n  attr {\\n    key: &quot;T&quot;\\n    value {\\n      type: DT_FLOAT\\n    }\\n  }\\n  attr {\\n    key: &quot;Tidx&quot;\\n    value {\\n      type: DT_INT32\\n    }\\n  }\\n  attr {\\n    key: &quot;keep_dims&quot;\\n    value {\\n      b: false\\n    }\\n  }\\n}\\nnode {\\n  name: &quot;gradient_descent/mul_1&quot;\\n  op: &quot;Mul&quot;\\n  input: &quot;weights/W1/read&quot;\\n  input: &quot;x&quot;\\n  attr {\\n    key: &quot;T&quot;\\n    value {\\n      type: DT_FLOAT\\n    }\\n  }\\n}\\nnode {\\n  name: &quot;gradient_descent/add_1&quot;\\n  op: &quot;Add&quot;\\n  input: &quot;gradient_descent/mul_1&quot;\\n  input: &quot;weights/W0/read&quot;\\n  attr {\\n    key: &quot;T&quot;\\n    value {\\n      type: DT_FLOAT\\n    }\\n  }\\n}\\nnode {\\n  name: &quot;gradient_descent/sub_1&quot;\\n  op: &quot;Sub&quot;\\n  input: &quot;gradient_descent/add_1&quot;\\n  input: &quot;y_true&quot;\\n  attr {\\n    key: &quot;T&quot;\\n    value {\\n      type: DT_FLOAT\\n    }\\n  }\\n}\\nnode {\\n  name: &quot;gradient_descent/mul_2&quot;\\n  op: &quot;Mul&quot;\\n  input: &quot;gradient_descent/sub_1&quot;\\n  input: &quot;x&quot;\\n  attr {\\n    key: &quot;T&quot;\\n    value {\\n      type: DT_FLOAT\\n    }\\n  }\\n}\\nnode {\\n  name: &quot;gradient_descent/Const_1&quot;\\n  op: &quot;Const&quot;\\n  attr {\\n    key: &quot;dtype&quot;\\n    value {\\n      type: DT_INT32\\n    }\\n  }\\n  attr {\\n    key: &quot;value&quot;\\n    value {\\n      tensor {\\n        dtype: DT_INT32\\n        tensor_shape {\\n          dim {\\n            size: 1\\n          }\\n        }\\n        int_val: 0\\n      }\\n    }\\n  }\\n}\\nnode {\\n  name: &quot;gradient_descent/gradient_w1&quot;\\n  op: &quot;Mean&quot;\\n  input: &quot;gradient_descent/mul_2&quot;\\n  input: &quot;gradient_descent/Const_1&quot;\\n  attr {\\n    key: &quot;T&quot;\\n    value {\\n      type: DT_FLOAT\\n    }\\n  }\\n  attr {\\n    key: &quot;Tidx&quot;\\n    value {\\n      type: DT_INT32\\n    }\\n  }\\n  attr {\\n    key: &quot;keep_dims&quot;\\n    value {\\n      b: false\\n    }\\n  }\\n}\\nnode {\\n  name: &quot;gradient_descent/mul_3&quot;\\n  op: &quot;Mul&quot;\\n  input: &quot;learning_rate&quot;\\n  input: &quot;gradient_descent/gradient_w0&quot;\\n  attr {\\n    key: &quot;T&quot;\\n    value {\\n      type: DT_FLOAT\\n    }\\n  }\\n}\\nnode {\\n  name: &quot;gradient_descent/update_w0&quot;\\n  op: &quot;AssignSub&quot;\\n  input: &quot;weights/W0&quot;\\n  input: &quot;gradient_descent/mul_3&quot;\\n  attr {\\n    key: &quot;T&quot;\\n    value {\\n      type: DT_FLOAT\\n    }\\n  }\\n  attr {\\n    key: &quot;_class&quot;\\n    value {\\n      list {\\n        s: &quot;loc:@weights/W0&quot;\\n      }\\n    }\\n  }\\n  attr {\\n    key: &quot;use_locking&quot;\\n    value {\\n      b: false\\n    }\\n  }\\n}\\nnode {\\n  name: &quot;gradient_descent/mul_4&quot;\\n  op: &quot;Mul&quot;\\n  input: &quot;learning_rate&quot;\\n  input: &quot;gradient_descent/gradient_w1&quot;\\n  attr {\\n    key: &quot;T&quot;\\n    value {\\n      type: DT_FLOAT\\n    }\\n  }\\n}\\nnode {\\n  name: &quot;gradient_descent/update_w1&quot;\\n  op: &quot;AssignSub&quot;\\n  input: &quot;weights/W1&quot;\\n  input: &quot;gradient_descent/mul_4&quot;\\n  attr {\\n    key: &quot;T&quot;\\n    value {\\n      type: DT_FLOAT\\n    }\\n  }\\n  attr {\\n    key: &quot;_class&quot;\\n    value {\\n      list {\\n        s: &quot;loc:@weights/W1&quot;\\n      }\\n    }\\n  }\\n  attr {\\n    key: &quot;use_locking&quot;\\n    value {\\n      b: false\\n    }\\n  }\\n}\\nnode {\\n  name: &quot;gradient_descent/train_op&quot;\\n  op: &quot;NoOp&quot;\\n  input: &quot;^gradient_descent/update_w0&quot;\\n  input: &quot;^gradient_descent/update_w1&quot;\\n}\\n';\n",
       "          }\n",
       "        </script>\n",
       "        <link rel=&quot;import&quot; href=&quot;https://tensorboard.appspot.com/tf-graph-basic.build.html&quot; onload=load()>\n",
       "        <div style=&quot;height:600px&quot;>\n",
       "          <tf-graph-basic id=&quot;graph0.04877055033206512&quot;></tf-graph-basic>\n",
       "        </div>\n",
       "    \"></iframe>\n",
       "    "
      ],
      "text/plain": [
       "<IPython.core.display.HTML object>"
      ]
     },
     "metadata": {},
     "output_type": "display_data"
    }
   ],
   "source": [
    "show_graph(tf.get_default_graph())"
   ]
  },
  {
   "cell_type": "markdown",
   "metadata": {},
   "source": [
    "<br><br>\n",
    "\n",
    "# \\[ 3. TensorFlow로 학습시키기 \\]\n",
    "\n",
    "----\n",
    "\n",
    "----\n",
    "\n",
    "> *Tensorflow로 만든 graph을 Session으로 학습시켜보겠습니다. *<br>"
   ]
  },
  {
   "cell_type": "markdown",
   "metadata": {},
   "source": [
    "<br>\n",
    "\n",
    "## 1. Tensor와 Operation 가져오기 \n",
    "\n",
    "---\n",
    "\n",
    "* training에서 필요한 Tensor와 Operation들을 가져옵니다."
   ]
  },
  {
   "cell_type": "code",
   "execution_count": 106,
   "metadata": {},
   "outputs": [],
   "source": [
    "graph = tf.get_default_graph()\n",
    "\n",
    "x = graph.get_tensor_by_name('x:0')\n",
    "y = graph.get_tensor_by_name('y_true:0')\n",
    "learning_rate = graph.get_tensor_by_name('learning_rate:0')\n",
    "\n",
    "w1 = graph.get_tensor_by_name('weights/W1:0')\n",
    "w0 = graph.get_tensor_by_name('weights/W0:0')\n",
    "\n",
    "mse_loss = graph.get_collection(tf.GraphKeys.LOSSES)[0]\n",
    "train_op = graph.get_collection(tf.GraphKeys.TRAIN_OP)[0]"
   ]
  },
  {
   "cell_type": "code",
   "execution_count": 107,
   "metadata": {},
   "outputs": [
    {
     "data": {
      "text/html": [
       "\n",
       "        <iframe seamless style=\"width:1200px;height:620px;border:0\" srcdoc=\"\n",
       "        <script>\n",
       "          function load() {\n",
       "            document.getElementById(&quot;graph0.285043714295652&quot;).pbtxt = 'node {\\n  name: &quot;x&quot;\\n  op: &quot;Placeholder&quot;\\n  attr {\\n    key: &quot;dtype&quot;\\n    value {\\n      type: DT_FLOAT\\n    }\\n  }\\n  attr {\\n    key: &quot;shape&quot;\\n    value {\\n      shape {\\n        dim {\\n          size: -1\\n        }\\n      }\\n    }\\n  }\\n}\\nnode {\\n  name: &quot;y_true&quot;\\n  op: &quot;Placeholder&quot;\\n  attr {\\n    key: &quot;dtype&quot;\\n    value {\\n      type: DT_FLOAT\\n    }\\n  }\\n  attr {\\n    key: &quot;shape&quot;\\n    value {\\n      shape {\\n        dim {\\n          size: -1\\n        }\\n      }\\n    }\\n  }\\n}\\nnode {\\n  name: &quot;learning_rate&quot;\\n  op: &quot;Placeholder&quot;\\n  attr {\\n    key: &quot;dtype&quot;\\n    value {\\n      type: DT_FLOAT\\n    }\\n  }\\n  attr {\\n    key: &quot;shape&quot;\\n    value {\\n      shape {\\n        unknown_rank: true\\n      }\\n    }\\n  }\\n}\\nnode {\\n  name: &quot;weights/W0/initial_value&quot;\\n  op: &quot;Const&quot;\\n  attr {\\n    key: &quot;dtype&quot;\\n    value {\\n      type: DT_FLOAT\\n    }\\n  }\\n  attr {\\n    key: &quot;value&quot;\\n    value {\\n      tensor {\\n        dtype: DT_FLOAT\\n        tensor_shape {\\n        }\\n        float_val: -500.0\\n      }\\n    }\\n  }\\n}\\nnode {\\n  name: &quot;weights/W0&quot;\\n  op: &quot;VariableV2&quot;\\n  attr {\\n    key: &quot;container&quot;\\n    value {\\n      s: &quot;&quot;\\n    }\\n  }\\n  attr {\\n    key: &quot;dtype&quot;\\n    value {\\n      type: DT_FLOAT\\n    }\\n  }\\n  attr {\\n    key: &quot;shape&quot;\\n    value {\\n      shape {\\n      }\\n    }\\n  }\\n  attr {\\n    key: &quot;shared_name&quot;\\n    value {\\n      s: &quot;&quot;\\n    }\\n  }\\n}\\nnode {\\n  name: &quot;weights/W0/Assign&quot;\\n  op: &quot;Assign&quot;\\n  input: &quot;weights/W0&quot;\\n  input: &quot;weights/W0/initial_value&quot;\\n  attr {\\n    key: &quot;T&quot;\\n    value {\\n      type: DT_FLOAT\\n    }\\n  }\\n  attr {\\n    key: &quot;_class&quot;\\n    value {\\n      list {\\n        s: &quot;loc:@weights/W0&quot;\\n      }\\n    }\\n  }\\n  attr {\\n    key: &quot;use_locking&quot;\\n    value {\\n      b: true\\n    }\\n  }\\n  attr {\\n    key: &quot;validate_shape&quot;\\n    value {\\n      b: true\\n    }\\n  }\\n}\\nnode {\\n  name: &quot;weights/W0/read&quot;\\n  op: &quot;Identity&quot;\\n  input: &quot;weights/W0&quot;\\n  attr {\\n    key: &quot;T&quot;\\n    value {\\n      type: DT_FLOAT\\n    }\\n  }\\n  attr {\\n    key: &quot;_class&quot;\\n    value {\\n      list {\\n        s: &quot;loc:@weights/W0&quot;\\n      }\\n    }\\n  }\\n}\\nnode {\\n  name: &quot;weights/W1/initial_value&quot;\\n  op: &quot;Const&quot;\\n  attr {\\n    key: &quot;dtype&quot;\\n    value {\\n      type: DT_FLOAT\\n    }\\n  }\\n  attr {\\n    key: &quot;value&quot;\\n    value {\\n      tensor {\\n        dtype: DT_FLOAT\\n        tensor_shape {\\n        }\\n        float_val: -0.75\\n      }\\n    }\\n  }\\n}\\nnode {\\n  name: &quot;weights/W1&quot;\\n  op: &quot;VariableV2&quot;\\n  attr {\\n    key: &quot;container&quot;\\n    value {\\n      s: &quot;&quot;\\n    }\\n  }\\n  attr {\\n    key: &quot;dtype&quot;\\n    value {\\n      type: DT_FLOAT\\n    }\\n  }\\n  attr {\\n    key: &quot;shape&quot;\\n    value {\\n      shape {\\n      }\\n    }\\n  }\\n  attr {\\n    key: &quot;shared_name&quot;\\n    value {\\n      s: &quot;&quot;\\n    }\\n  }\\n}\\nnode {\\n  name: &quot;weights/W1/Assign&quot;\\n  op: &quot;Assign&quot;\\n  input: &quot;weights/W1&quot;\\n  input: &quot;weights/W1/initial_value&quot;\\n  attr {\\n    key: &quot;T&quot;\\n    value {\\n      type: DT_FLOAT\\n    }\\n  }\\n  attr {\\n    key: &quot;_class&quot;\\n    value {\\n      list {\\n        s: &quot;loc:@weights/W1&quot;\\n      }\\n    }\\n  }\\n  attr {\\n    key: &quot;use_locking&quot;\\n    value {\\n      b: true\\n    }\\n  }\\n  attr {\\n    key: &quot;validate_shape&quot;\\n    value {\\n      b: true\\n    }\\n  }\\n}\\nnode {\\n  name: &quot;weights/W1/read&quot;\\n  op: &quot;Identity&quot;\\n  input: &quot;weights/W1&quot;\\n  attr {\\n    key: &quot;T&quot;\\n    value {\\n      type: DT_FLOAT\\n    }\\n  }\\n  attr {\\n    key: &quot;_class&quot;\\n    value {\\n      list {\\n        s: &quot;loc:@weights/W1&quot;\\n      }\\n    }\\n  }\\n}\\nnode {\\n  name: &quot;linear_regression/mul&quot;\\n  op: &quot;Mul&quot;\\n  input: &quot;weights/W1/read&quot;\\n  input: &quot;x&quot;\\n  attr {\\n    key: &quot;T&quot;\\n    value {\\n      type: DT_FLOAT\\n    }\\n  }\\n}\\nnode {\\n  name: &quot;linear_regression/add&quot;\\n  op: &quot;Add&quot;\\n  input: &quot;linear_regression/mul&quot;\\n  input: &quot;weights/W0/read&quot;\\n  attr {\\n    key: &quot;T&quot;\\n    value {\\n      type: DT_FLOAT\\n    }\\n  }\\n}\\nnode {\\n  name: &quot;loss/sub&quot;\\n  op: &quot;Sub&quot;\\n  input: &quot;linear_regression/add&quot;\\n  input: &quot;y_true&quot;\\n  attr {\\n    key: &quot;T&quot;\\n    value {\\n      type: DT_FLOAT\\n    }\\n  }\\n}\\nnode {\\n  name: &quot;loss/Square&quot;\\n  op: &quot;Square&quot;\\n  input: &quot;loss/sub&quot;\\n  attr {\\n    key: &quot;T&quot;\\n    value {\\n      type: DT_FLOAT\\n    }\\n  }\\n}\\nnode {\\n  name: &quot;loss/Const&quot;\\n  op: &quot;Const&quot;\\n  attr {\\n    key: &quot;dtype&quot;\\n    value {\\n      type: DT_INT32\\n    }\\n  }\\n  attr {\\n    key: &quot;value&quot;\\n    value {\\n      tensor {\\n        dtype: DT_INT32\\n        tensor_shape {\\n          dim {\\n            size: 1\\n          }\\n        }\\n        int_val: 0\\n      }\\n    }\\n  }\\n}\\nnode {\\n  name: &quot;loss/Mean&quot;\\n  op: &quot;Mean&quot;\\n  input: &quot;loss/Square&quot;\\n  input: &quot;loss/Const&quot;\\n  attr {\\n    key: &quot;T&quot;\\n    value {\\n      type: DT_FLOAT\\n    }\\n  }\\n  attr {\\n    key: &quot;Tidx&quot;\\n    value {\\n      type: DT_INT32\\n    }\\n  }\\n  attr {\\n    key: &quot;keep_dims&quot;\\n    value {\\n      b: false\\n    }\\n  }\\n}\\nnode {\\n  name: &quot;gradient_descent/mul&quot;\\n  op: &quot;Mul&quot;\\n  input: &quot;weights/W1/read&quot;\\n  input: &quot;x&quot;\\n  attr {\\n    key: &quot;T&quot;\\n    value {\\n      type: DT_FLOAT\\n    }\\n  }\\n}\\nnode {\\n  name: &quot;gradient_descent/add&quot;\\n  op: &quot;Add&quot;\\n  input: &quot;gradient_descent/mul&quot;\\n  input: &quot;weights/W0/read&quot;\\n  attr {\\n    key: &quot;T&quot;\\n    value {\\n      type: DT_FLOAT\\n    }\\n  }\\n}\\nnode {\\n  name: &quot;gradient_descent/sub&quot;\\n  op: &quot;Sub&quot;\\n  input: &quot;gradient_descent/add&quot;\\n  input: &quot;y_true&quot;\\n  attr {\\n    key: &quot;T&quot;\\n    value {\\n      type: DT_FLOAT\\n    }\\n  }\\n}\\nnode {\\n  name: &quot;gradient_descent/Const&quot;\\n  op: &quot;Const&quot;\\n  attr {\\n    key: &quot;dtype&quot;\\n    value {\\n      type: DT_INT32\\n    }\\n  }\\n  attr {\\n    key: &quot;value&quot;\\n    value {\\n      tensor {\\n        dtype: DT_INT32\\n        tensor_shape {\\n          dim {\\n            size: 1\\n          }\\n        }\\n        int_val: 0\\n      }\\n    }\\n  }\\n}\\nnode {\\n  name: &quot;gradient_descent/gradient_w0&quot;\\n  op: &quot;Mean&quot;\\n  input: &quot;gradient_descent/sub&quot;\\n  input: &quot;gradient_descent/Const&quot;\\n  attr {\\n    key: &quot;T&quot;\\n    value {\\n      type: DT_FLOAT\\n    }\\n  }\\n  attr {\\n    key: &quot;Tidx&quot;\\n    value {\\n      type: DT_INT32\\n    }\\n  }\\n  attr {\\n    key: &quot;keep_dims&quot;\\n    value {\\n      b: false\\n    }\\n  }\\n}\\nnode {\\n  name: &quot;gradient_descent/mul_1&quot;\\n  op: &quot;Mul&quot;\\n  input: &quot;weights/W1/read&quot;\\n  input: &quot;x&quot;\\n  attr {\\n    key: &quot;T&quot;\\n    value {\\n      type: DT_FLOAT\\n    }\\n  }\\n}\\nnode {\\n  name: &quot;gradient_descent/add_1&quot;\\n  op: &quot;Add&quot;\\n  input: &quot;gradient_descent/mul_1&quot;\\n  input: &quot;weights/W0/read&quot;\\n  attr {\\n    key: &quot;T&quot;\\n    value {\\n      type: DT_FLOAT\\n    }\\n  }\\n}\\nnode {\\n  name: &quot;gradient_descent/sub_1&quot;\\n  op: &quot;Sub&quot;\\n  input: &quot;gradient_descent/add_1&quot;\\n  input: &quot;y_true&quot;\\n  attr {\\n    key: &quot;T&quot;\\n    value {\\n      type: DT_FLOAT\\n    }\\n  }\\n}\\nnode {\\n  name: &quot;gradient_descent/mul_2&quot;\\n  op: &quot;Mul&quot;\\n  input: &quot;gradient_descent/sub_1&quot;\\n  input: &quot;x&quot;\\n  attr {\\n    key: &quot;T&quot;\\n    value {\\n      type: DT_FLOAT\\n    }\\n  }\\n}\\nnode {\\n  name: &quot;gradient_descent/Const_1&quot;\\n  op: &quot;Const&quot;\\n  attr {\\n    key: &quot;dtype&quot;\\n    value {\\n      type: DT_INT32\\n    }\\n  }\\n  attr {\\n    key: &quot;value&quot;\\n    value {\\n      tensor {\\n        dtype: DT_INT32\\n        tensor_shape {\\n          dim {\\n            size: 1\\n          }\\n        }\\n        int_val: 0\\n      }\\n    }\\n  }\\n}\\nnode {\\n  name: &quot;gradient_descent/gradient_w1&quot;\\n  op: &quot;Mean&quot;\\n  input: &quot;gradient_descent/mul_2&quot;\\n  input: &quot;gradient_descent/Const_1&quot;\\n  attr {\\n    key: &quot;T&quot;\\n    value {\\n      type: DT_FLOAT\\n    }\\n  }\\n  attr {\\n    key: &quot;Tidx&quot;\\n    value {\\n      type: DT_INT32\\n    }\\n  }\\n  attr {\\n    key: &quot;keep_dims&quot;\\n    value {\\n      b: false\\n    }\\n  }\\n}\\nnode {\\n  name: &quot;gradient_descent/mul_3&quot;\\n  op: &quot;Mul&quot;\\n  input: &quot;learning_rate&quot;\\n  input: &quot;gradient_descent/gradient_w0&quot;\\n  attr {\\n    key: &quot;T&quot;\\n    value {\\n      type: DT_FLOAT\\n    }\\n  }\\n}\\nnode {\\n  name: &quot;gradient_descent/update_w0&quot;\\n  op: &quot;AssignSub&quot;\\n  input: &quot;weights/W0&quot;\\n  input: &quot;gradient_descent/mul_3&quot;\\n  attr {\\n    key: &quot;T&quot;\\n    value {\\n      type: DT_FLOAT\\n    }\\n  }\\n  attr {\\n    key: &quot;_class&quot;\\n    value {\\n      list {\\n        s: &quot;loc:@weights/W0&quot;\\n      }\\n    }\\n  }\\n  attr {\\n    key: &quot;use_locking&quot;\\n    value {\\n      b: false\\n    }\\n  }\\n}\\nnode {\\n  name: &quot;gradient_descent/mul_4&quot;\\n  op: &quot;Mul&quot;\\n  input: &quot;learning_rate&quot;\\n  input: &quot;gradient_descent/gradient_w1&quot;\\n  attr {\\n    key: &quot;T&quot;\\n    value {\\n      type: DT_FLOAT\\n    }\\n  }\\n}\\nnode {\\n  name: &quot;gradient_descent/update_w1&quot;\\n  op: &quot;AssignSub&quot;\\n  input: &quot;weights/W1&quot;\\n  input: &quot;gradient_descent/mul_4&quot;\\n  attr {\\n    key: &quot;T&quot;\\n    value {\\n      type: DT_FLOAT\\n    }\\n  }\\n  attr {\\n    key: &quot;_class&quot;\\n    value {\\n      list {\\n        s: &quot;loc:@weights/W1&quot;\\n      }\\n    }\\n  }\\n  attr {\\n    key: &quot;use_locking&quot;\\n    value {\\n      b: false\\n    }\\n  }\\n}\\nnode {\\n  name: &quot;gradient_descent/train_op&quot;\\n  op: &quot;NoOp&quot;\\n  input: &quot;^gradient_descent/update_w0&quot;\\n  input: &quot;^gradient_descent/update_w1&quot;\\n}\\n';\n",
       "          }\n",
       "        </script>\n",
       "        <link rel=&quot;import&quot; href=&quot;https://tensorboard.appspot.com/tf-graph-basic.build.html&quot; onload=load()>\n",
       "        <div style=&quot;height:600px&quot;>\n",
       "          <tf-graph-basic id=&quot;graph0.285043714295652&quot;></tf-graph-basic>\n",
       "        </div>\n",
       "    \"></iframe>\n",
       "    "
      ],
      "text/plain": [
       "<IPython.core.display.HTML object>"
      ]
     },
     "metadata": {},
     "output_type": "display_data"
    }
   ],
   "source": [
    "show_graph(graph)"
   ]
  },
  {
   "cell_type": "markdown",
   "metadata": {},
   "source": [
    "<br>\n",
    "## 2. Tensorboard에서 Tracking할 summary 추가\n",
    "\n",
    "---\n"
   ]
  },
  {
   "cell_type": "code",
   "execution_count": 108,
   "metadata": {},
   "outputs": [],
   "source": [
    "tf.summary.scalar('Mean_Squared_Error',mse_loss)\n",
    "tf.summary.scalar('weight_1',w1)\n",
    "tf.summary.scalar('weight_0',w0)\n",
    "\n",
    "merged_summary = tf.summary.merge_all()"
   ]
  },
  {
   "cell_type": "markdown",
   "metadata": {},
   "source": [
    "<br>\n",
    "## 3. Session을 만들어 학습시키기\n",
    "\n",
    "---\n"
   ]
  },
  {
   "cell_type": "code",
   "execution_count": 109,
   "metadata": {
    "scrolled": false
   },
   "outputs": [],
   "source": [
    "sess = tf.Session(graph=graph)\n",
    "\n",
    "# 변수 초기화하기\n",
    "sess.run(tf.global_variables_initializer())\n",
    "\n",
    "# tensorboard에 기록할 writer 객체 만들기\n",
    "writer = tf.summary.FileWriter(logdir='./linear_regression',\n",
    "                               graph=graph)\n",
    "\n",
    "for epoch in range(100):\n",
    "    # nums_epoch : 100    \n",
    "    _,merged_ = sess.run([train_op,merged_summary],\n",
    "             feed_dict={\n",
    "                 x:movie_df.nums_want_to_see.values,\n",
    "                 y:movie_df.nums_audience.values,\n",
    "                 learning_rate:2e-1\n",
    "             })\n",
    "    \n",
    "    # summary 기록하기\n",
    "    writer.add_summary(merged_, epoch)\n",
    "writer.flush()"
   ]
  },
  {
   "cell_type": "code",
   "execution_count": 110,
   "metadata": {},
   "outputs": [
    {
     "data": {
      "text/plain": [
       "[-0.74999404, -500.0]"
      ]
     },
     "execution_count": 110,
     "metadata": {},
     "output_type": "execute_result"
    }
   ],
   "source": [
    "# Weight1 과 Weight2 확인하기\n",
    "sess.run([w1,w0])"
   ]
  },
  {
   "cell_type": "markdown",
   "metadata": {},
   "source": [
    "<br>\n",
    "## 4. tensorboard로 결과 확인하기\n",
    "---\n"
   ]
  },
  {
   "cell_type": "code",
   "execution_count": 111,
   "metadata": {},
   "outputs": [
    {
     "name": "stdout",
     "output_type": "stream",
     "text": [
      "Wait for 8 seconds...\n",
      "Initialization failed, retry again (1)\n",
      "\n",
      "\n",
      "Wait for 8 seconds...\n",
      "Initialization failed, retry again (2)\n",
      "\n",
      "\n",
      "Wait for 8 seconds...\n",
      "Initialization failed, retry again (3)\n",
      "\n",
      "\n",
      "Wait for 8 seconds...\n",
      "Initialization failed, retry again (4)\n",
      "\n",
      "\n",
      "Wait for 8 seconds...\n",
      "Initialization failed, retry again (5)\n",
      "\n",
      "\n",
      "Wait for 8 seconds...\n",
      "Initialization failed, retry again (6)\n",
      "\n",
      "\n",
      "Wait for 8 seconds...\n",
      "Initialization failed, retry again (7)\n",
      "\n",
      "\n",
      "Wait for 8 seconds...\n",
      "Initialization failed, retry again (8)\n",
      "\n",
      "\n",
      "Wait for 8 seconds...\n",
      "Initialization failed, retry again (9)\n",
      "\n",
      "\n",
      "Wait for 8 seconds...\n",
      "Initialization failed, retry again (10)\n",
      "\n",
      "\n",
      "Wait for 8 seconds...\n",
      "Initialization failed, retry again (11)\n",
      "\n",
      "\n",
      "Wait for 8 seconds...\n",
      "Initialization failed, retry again (12)\n",
      "\n",
      "\n",
      "Wait for 8 seconds...\n",
      "Initialization failed, retry again (13)\n",
      "\n",
      "\n",
      "Wait for 8 seconds...\n",
      "Initialization failed, retry again (14)\n",
      "\n",
      "\n",
      "Wait for 8 seconds...\n",
      "Initialization failed, retry again (15)\n",
      "\n",
      "\n",
      "Wait for 8 seconds...\n",
      "Initialization failed, retry again (16)\n",
      "\n",
      "\n",
      "Wait for 8 seconds...\n",
      "Initialization failed, retry again (17)\n",
      "\n",
      "\n",
      "Wait for 8 seconds...\n",
      "Initialization failed, retry again (18)\n",
      "\n",
      "\n",
      "Wait for 8 seconds...\n",
      "Initialization failed, retry again (19)\n",
      "\n",
      "\n",
      "Wait for 8 seconds...\n",
      "Initialization failed, retry again (20)\n",
      "\n",
      "\n",
      "Wait for 8 seconds...\n",
      "Initialization failed, retry again (21)\n",
      "\n",
      "\n",
      "Wait for 8 seconds...\n",
      "Initialization failed, retry again (22)\n",
      "\n",
      "\n",
      "Wait for 8 seconds...\n",
      "Initialization failed, retry again (23)\n",
      "\n",
      "\n",
      "Wait for 8 seconds...\n",
      "Initialization failed, retry again (24)\n",
      "\n",
      "\n",
      "Wait for 8 seconds...\n",
      "Initialization failed, retry again (25)\n",
      "\n",
      "\n",
      "Wait for 8 seconds...\n",
      "Initialization failed, retry again (26)\n",
      "\n",
      "\n",
      "Wait for 8 seconds...\n",
      "Initialization failed, retry again (27)\n",
      "\n",
      "\n",
      "Wait for 8 seconds...\n",
      "Initialization failed, retry again (28)\n",
      "\n",
      "\n",
      "Wait for 8 seconds...\n",
      "Initialization failed, retry again (29)\n",
      "\n",
      "\n",
      "Wait for 8 seconds...\n",
      "Initialization failed, retry again (30)\n",
      "\n",
      "\n",
      "Wait for 8 seconds...\n",
      "Initialization failed, retry again (31)\n",
      "\n",
      "\n",
      "Wait for 8 seconds...\n",
      "Initialization failed, retry again (32)\n",
      "\n",
      "\n",
      "Wait for 8 seconds...\n",
      "Initialization failed, retry again (33)\n",
      "\n",
      "\n",
      "Wait for 8 seconds...\n",
      "Initialization failed, retry again (34)\n",
      "\n",
      "\n",
      "Wait for 8 seconds...\n",
      "Initialization failed, retry again (35)\n",
      "\n",
      "\n",
      "Wait for 8 seconds...\n",
      "Initialization failed, retry again (36)\n",
      "\n",
      "\n",
      "Wait for 8 seconds...\n",
      "Initialization failed, retry again (37)\n",
      "\n",
      "\n",
      "Wait for 8 seconds...\n",
      "Initialization failed, retry again (38)\n",
      "\n",
      "\n",
      "Wait for 8 seconds...\n",
      "Initialization failed, retry again (39)\n",
      "\n",
      "\n",
      "Wait for 8 seconds...\n",
      "Initialization failed, retry again (40)\n",
      "\n",
      "\n",
      "Wait for 8 seconds...\n",
      "Initialization failed, retry again (41)\n",
      "\n",
      "\n",
      "Wait for 8 seconds...\n",
      "Initialization failed, retry again (42)\n",
      "\n",
      "\n",
      "Wait for 8 seconds...\n",
      "Initialization failed, retry again (43)\n",
      "\n",
      "\n",
      "Wait for 8 seconds...\n",
      "Initialization failed, retry again (44)\n",
      "\n",
      "\n",
      "Wait for 8 seconds...\n",
      "Initialization failed, retry again (45)\n",
      "\n",
      "\n",
      "Wait for 8 seconds...\n",
      "Initialization failed, retry again (46)\n",
      "\n",
      "\n",
      "Wait for 8 seconds...\n",
      "Initialization failed, retry again (47)\n",
      "\n",
      "\n",
      "Wait for 8 seconds...\n",
      "Initialization failed, retry again (48)\n",
      "\n",
      "\n",
      "Wait for 8 seconds...\n",
      "Initialization failed, retry again (49)\n",
      "\n",
      "\n",
      "Wait for 8 seconds...\n",
      "Initialization failed, retry again (50)\n",
      "\n",
      "\n",
      "Wait for 8 seconds...\n",
      "Initialization failed, retry again (51)\n",
      "\n",
      "\n",
      "Wait for 8 seconds...\n",
      "Initialization failed, retry again (52)\n",
      "\n",
      "\n",
      "Wait for 8 seconds...\n",
      "Initialization failed, retry again (53)\n",
      "\n",
      "\n",
      "Wait for 8 seconds...\n",
      "Initialization failed, retry again (54)\n",
      "\n",
      "\n",
      "Wait for 8 seconds...\n",
      "Initialization failed, retry again (55)\n",
      "\n",
      "\n",
      "Wait for 8 seconds...\n",
      "Initialization failed, retry again (56)\n",
      "\n",
      "\n",
      "Wait for 8 seconds...\n",
      "Initialization failed, retry again (57)\n",
      "\n",
      "\n",
      "Wait for 8 seconds...\n",
      "Initialization failed, retry again (58)\n",
      "\n",
      "\n",
      "Wait for 8 seconds...\n",
      "Initialization failed, retry again (59)\n",
      "\n",
      "\n",
      "Wait for 8 seconds...\n",
      "Initialization failed, retry again (60)\n",
      "\n",
      "\n",
      "Wait for 8 seconds...\n",
      "Initialization failed, retry again (61)\n",
      "\n",
      "\n",
      "Wait for 8 seconds...\n",
      "Initialization failed, retry again (62)\n",
      "\n",
      "\n",
      "Wait for 8 seconds...\n",
      "Initialization failed, retry again (63)\n",
      "\n",
      "\n",
      "Wait for 8 seconds...\n",
      "Initialization failed, retry again (64)\n",
      "\n",
      "\n",
      "Wait for 8 seconds...\n",
      "Initialization failed, retry again (65)\n",
      "\n",
      "\n",
      "Wait for 8 seconds...\n",
      "Initialization failed, retry again (66)\n",
      "\n",
      "\n",
      "Wait for 8 seconds...\n",
      "Initialization failed, retry again (67)\n",
      "\n",
      "\n",
      "Wait for 8 seconds...\n",
      "Initialization failed, retry again (68)\n",
      "\n",
      "\n",
      "Wait for 8 seconds...\n",
      "Initialization failed, retry again (69)\n",
      "\n",
      "\n",
      "Wait for 8 seconds...\n",
      "Initialization failed, retry again (70)\n",
      "\n",
      "\n",
      "Wait for 8 seconds...\n",
      "Initialization failed, retry again (71)\n",
      "\n",
      "\n",
      "Wait for 8 seconds...\n"
     ]
    },
    {
     "ename": "KeyboardInterrupt",
     "evalue": "",
     "output_type": "error",
     "traceback": [
      "\u001b[0;31m---------------------------------------------------------------------------\u001b[0m",
      "\u001b[0;31mKeyboardInterrupt\u001b[0m                         Traceback (most recent call last)",
      "\u001b[0;32m<ipython-input-111-d24ee1cae29a>\u001b[0m in \u001b[0;36m<module>\u001b[0;34m\u001b[0m\n\u001b[1;32m      1\u001b[0m \u001b[0;31m# 텐서보드 가져오기\u001b[0m\u001b[0;34m\u001b[0m\u001b[0;34m\u001b[0m\u001b[0m\n\u001b[0;32m----> 2\u001b[0;31m \u001b[0mtbc\u001b[0m \u001b[0;34m=\u001b[0m \u001b[0mtensorboardcolab\u001b[0m\u001b[0;34m.\u001b[0m\u001b[0mTensorBoardColab\u001b[0m\u001b[0;34m(\u001b[0m\u001b[0mgraph_path\u001b[0m\u001b[0;34m=\u001b[0m\u001b[0;34m'./linear_regression'\u001b[0m\u001b[0;34m)\u001b[0m\u001b[0;34m\u001b[0m\u001b[0m\n\u001b[0m",
      "\u001b[0;32m~/anaconda3/lib/python3.6/site-packages/tensorboardcolab/core.py\u001b[0m in \u001b[0;36m__init__\u001b[0;34m(self, port, graph_path, startup_waiting_time)\u001b[0m\n\u001b[1;32m     23\u001b[0m             \u001b[0mtime\u001b[0m\u001b[0;34m.\u001b[0m\u001b[0msleep\u001b[0m\u001b[0;34m(\u001b[0m\u001b[0msleep_time\u001b[0m\u001b[0;34m)\u001b[0m\u001b[0;34m\u001b[0m\u001b[0m\n\u001b[1;32m     24\u001b[0m             \u001b[0mget_ipython\u001b[0m\u001b[0;34m(\u001b[0m\u001b[0;34m)\u001b[0m\u001b[0;34m.\u001b[0m\u001b[0msystem_raw\u001b[0m\u001b[0;34m(\u001b[0m\u001b[0;34m'tensorboard --logdir %s --host 0.0.0.0 --port %d &'\u001b[0m \u001b[0;34m%\u001b[0m \u001b[0;34m(\u001b[0m\u001b[0mgraph_path\u001b[0m\u001b[0;34m,\u001b[0m \u001b[0mport\u001b[0m\u001b[0;34m)\u001b[0m\u001b[0;34m)\u001b[0m\u001b[0;34m\u001b[0m\u001b[0m\n\u001b[0;32m---> 25\u001b[0;31m             \u001b[0mtime\u001b[0m\u001b[0;34m.\u001b[0m\u001b[0msleep\u001b[0m\u001b[0;34m(\u001b[0m\u001b[0msleep_time\u001b[0m\u001b[0;34m)\u001b[0m\u001b[0;34m\u001b[0m\u001b[0m\n\u001b[0m\u001b[1;32m     26\u001b[0m             \u001b[0mget_ipython\u001b[0m\u001b[0;34m(\u001b[0m\u001b[0;34m)\u001b[0m\u001b[0;34m.\u001b[0m\u001b[0msystem_raw\u001b[0m\u001b[0;34m(\u001b[0m\u001b[0;34m'ngrok http %d &'\u001b[0m \u001b[0;34m%\u001b[0m \u001b[0mport\u001b[0m\u001b[0;34m)\u001b[0m\u001b[0;34m\u001b[0m\u001b[0m\n\u001b[1;32m     27\u001b[0m             \u001b[0mtime\u001b[0m\u001b[0;34m.\u001b[0m\u001b[0msleep\u001b[0m\u001b[0;34m(\u001b[0m\u001b[0msleep_time\u001b[0m\u001b[0;34m)\u001b[0m\u001b[0;34m\u001b[0m\u001b[0m\n",
      "\u001b[0;31mKeyboardInterrupt\u001b[0m: "
     ]
    }
   ],
   "source": [
    "# 텐서보드 가져오기\n",
    "tbc = tensorboardcolab.TensorBoardColab(graph_path='./linear_regression')"
   ]
  },
  {
   "cell_type": "markdown",
   "metadata": {},
   "source": [
    "#  \n",
    "\n",
    "---\n",
    "\n",
    "    Copyright(c) 2019 by Public AI. All rights reserved.<br>\n",
    "    Writen by PAI, SangJae Kang ( rocketgrowthsj@publicai.co.kr )  last updated on 2019/03/22\n",
    "\n",
    "---"
   ]
  }
 ],
 "metadata": {
  "kernelspec": {
   "display_name": "Python 3",
   "language": "python",
   "name": "python3"
  },
  "language_info": {
   "codemirror_mode": {
    "name": "ipython",
    "version": 3
   },
   "file_extension": ".py",
   "mimetype": "text/x-python",
   "name": "python",
   "nbconvert_exporter": "python",
   "pygments_lexer": "ipython3",
   "version": "3.6.5"
  }
 },
 "nbformat": 4,
 "nbformat_minor": 2
}
