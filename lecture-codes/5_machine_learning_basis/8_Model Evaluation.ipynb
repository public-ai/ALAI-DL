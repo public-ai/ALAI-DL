{
 "cells": [
  {
   "cell_type": "markdown",
   "metadata": {},
   "source": [
    " ╔══<i><b>Alai-DeepLearning</b></i>════════════════════════════╗\n",
    "###  &nbsp;&nbsp; **✎&nbsp;&nbsp;Week 5. Machine Learning Basis**\n",
    "# Section 8. Model Evaluation\n",
    "\n",
    "### _Objective_\n",
    "1. 모델을 평가하기 위해, Test Set과 Train Set을 나누는 방식에 대해 배워봅니다. <br>\n",
    "2. 모델을 평가하는 여러 지표에 대해 배워봅니다.\n",
    "╚═════════════════════════════════════════╝"
   ]
  },
  {
   "cell_type": "code",
   "execution_count": 1,
   "metadata": {},
   "outputs": [],
   "source": [
    "%matplotlib inline\n",
    "\n",
    "import numpy as np\n",
    "import pandas as pd\n",
    "\n",
    "import matplotlib.pyplot as plt"
   ]
  },
  {
   "cell_type": "markdown",
   "metadata": {},
   "source": [
    "## 예제 데이터 ) 암 환자 데이터 셋"
   ]
  },
  {
   "cell_type": "code",
   "execution_count": 2,
   "metadata": {},
   "outputs": [
    {
     "name": "stdout",
     "output_type": "stream",
     "text": [
      "--2019-03-28 16:41:34--  https://s3.ap-northeast-2.amazonaws.com/pai-datasets/alai-deeplearning/cancer_dataset.csv\n",
      "Resolving s3.ap-northeast-2.amazonaws.com (s3.ap-northeast-2.amazonaws.com)... 52.219.56.101\n",
      "Connecting to s3.ap-northeast-2.amazonaws.com (s3.ap-northeast-2.amazonaws.com)|52.219.56.101|:443... connected.\n",
      "HTTP request sent, awaiting response... 200 OK\n",
      "Length: 2958 (2.9K) [text/csv]\n",
      "Saving to: ‘cancer_dataset.csv.3’\n",
      "\n",
      "cancer_dataset.csv. 100%[===================>]   2.89K  --.-KB/s    in 0s      \n",
      "\n",
      "2019-03-28 16:41:34 (10.9 MB/s) - ‘cancer_dataset.csv.3’ saved [2958/2958]\n",
      "\n"
     ]
    }
   ],
   "source": [
    "!wget https://s3.ap-northeast-2.amazonaws.com/pai-datasets/alai-deeplearning/cancer_dataset.csv\n",
    "cancer_df = pd.read_csv('cancer_dataset.csv')"
   ]
  },
  {
   "cell_type": "code",
   "execution_count": 3,
   "metadata": {},
   "outputs": [
    {
     "data": {
      "text/html": [
       "<div>\n",
       "<style scoped>\n",
       "    .dataframe tbody tr th:only-of-type {\n",
       "        vertical-align: middle;\n",
       "    }\n",
       "\n",
       "    .dataframe tbody tr th {\n",
       "        vertical-align: top;\n",
       "    }\n",
       "\n",
       "    .dataframe thead th {\n",
       "        text-align: right;\n",
       "    }\n",
       "</style>\n",
       "<table border=\"1\" class=\"dataframe\">\n",
       "  <thead>\n",
       "    <tr style=\"text-align: right;\">\n",
       "      <th></th>\n",
       "      <th>age</th>\n",
       "      <th>tumor_size</th>\n",
       "      <th>label</th>\n",
       "    </tr>\n",
       "  </thead>\n",
       "  <tbody>\n",
       "    <tr>\n",
       "      <th>count</th>\n",
       "      <td>100.000000</td>\n",
       "      <td>100.000000</td>\n",
       "      <td>100.00</td>\n",
       "    </tr>\n",
       "    <tr>\n",
       "      <th>mean</th>\n",
       "      <td>4.218584</td>\n",
       "      <td>4.463655</td>\n",
       "      <td>0.45</td>\n",
       "    </tr>\n",
       "    <tr>\n",
       "      <th>std</th>\n",
       "      <td>1.949688</td>\n",
       "      <td>2.264897</td>\n",
       "      <td>0.50</td>\n",
       "    </tr>\n",
       "    <tr>\n",
       "      <th>min</th>\n",
       "      <td>0.494542</td>\n",
       "      <td>0.656397</td>\n",
       "      <td>0.00</td>\n",
       "    </tr>\n",
       "    <tr>\n",
       "      <th>25%</th>\n",
       "      <td>2.750747</td>\n",
       "      <td>2.832193</td>\n",
       "      <td>0.00</td>\n",
       "    </tr>\n",
       "    <tr>\n",
       "      <th>50%</th>\n",
       "      <td>3.849528</td>\n",
       "      <td>3.766226</td>\n",
       "      <td>0.00</td>\n",
       "    </tr>\n",
       "    <tr>\n",
       "      <th>75%</th>\n",
       "      <td>5.405780</td>\n",
       "      <td>5.921538</td>\n",
       "      <td>1.00</td>\n",
       "    </tr>\n",
       "    <tr>\n",
       "      <th>max</th>\n",
       "      <td>9.670666</td>\n",
       "      <td>11.170589</td>\n",
       "      <td>1.00</td>\n",
       "    </tr>\n",
       "  </tbody>\n",
       "</table>\n",
       "</div>"
      ],
      "text/plain": [
       "              age  tumor_size   label\n",
       "count  100.000000  100.000000  100.00\n",
       "mean     4.218584    4.463655    0.45\n",
       "std      1.949688    2.264897    0.50\n",
       "min      0.494542    0.656397    0.00\n",
       "25%      2.750747    2.832193    0.00\n",
       "50%      3.849528    3.766226    0.00\n",
       "75%      5.405780    5.921538    1.00\n",
       "max      9.670666   11.170589    1.00"
      ]
     },
     "execution_count": 3,
     "metadata": {},
     "output_type": "execute_result"
    }
   ],
   "source": [
    "cancer_df.describe()"
   ]
  },
  {
   "cell_type": "markdown",
   "metadata": {},
   "source": [
    "### 데이터 시각화"
   ]
  },
  {
   "cell_type": "code",
   "execution_count": 4,
   "metadata": {},
   "outputs": [
    {
     "data": {
      "image/png": "[encoded data removed]",
      "text/plain": [
       "<Figure size 504x504 with 1 Axes>"
      ]
     },
     "metadata": {},
     "output_type": "display_data"
    }
   ],
   "source": [
    "fig = plt.figure(figsize=(7,7))\n",
    "ax = fig.add_subplot(1,1,1)\n",
    "\n",
    "# 0: 정상\n",
    "cancer_df[cancer_df.label==0].plot('age','tumor_size',ax=ax,legend=True,\n",
    "                                   kind='scatter',color='red')\n",
    "# 1: 암환자\n",
    "cancer_df[cancer_df.label==1].plot('age','tumor_size',ax=ax,legend=True,\n",
    "                                   kind='scatter',color='green')\n",
    "plt.legend(['Normal','Cancer'])\n",
    "plt.title(\"Cancer Or Not\")\n",
    "plt.show()"
   ]
  },
  {
   "cell_type": "markdown",
   "metadata": {},
   "source": [
    "<br><br>\n",
    "\n",
    "# \\[ 1. Train-Test Set 분리 \\]\n",
    "\n",
    "----\n",
    "\n",
    "----\n",
    "\n",
    "> *우리가 만들 모델의 성능을 평가하기 위해서, 우리는 테스트 데이터셋이 필요합니다.*<br>\n",
    "> *테스트 데이터셋은 학습 과정에 이용되지 않아야만 합니다.*"
   ]
  },
  {
   "cell_type": "markdown",
   "metadata": {},
   "source": [
    "## 1. Random Split\n",
    "\n",
    "----\n",
    "\n",
    "* 일반적으로 많이 적용하는 방식의 train/test 분리입니다.\n",
    "* 보통 학습 데이터셋과 평가 데이터셋은 8:2정도로 많이 합니다."
   ]
  },
  {
   "cell_type": "code",
   "execution_count": 5,
   "metadata": {},
   "outputs": [],
   "source": [
    "train_df = cancer_df.sample(frac=0.8,random_state=10) # 80%\n",
    "test_df = cancer_df.drop(train_df.index) # test 데이터셋 이외 20%"
   ]
  },
  {
   "cell_type": "code",
   "execution_count": 6,
   "metadata": {},
   "outputs": [
    {
     "data": {
      "text/plain": [
       "0.0    43\n",
       "1.0    37\n",
       "Name: label, dtype: int64"
      ]
     },
     "execution_count": 6,
     "metadata": {},
     "output_type": "execute_result"
    }
   ],
   "source": [
    "train_df.label.value_counts()"
   ]
  },
  {
   "cell_type": "code",
   "execution_count": 7,
   "metadata": {},
   "outputs": [
    {
     "data": {
      "text/plain": [
       "0.0    12\n",
       "1.0     8\n",
       "Name: label, dtype: int64"
      ]
     },
     "execution_count": 7,
     "metadata": {},
     "output_type": "execute_result"
    }
   ],
   "source": [
    "test_df.label.value_counts()"
   ]
  },
  {
   "cell_type": "markdown",
   "metadata": {},
   "source": [
    "<br>\n",
    "## 2. stratified Random Split\n",
    "---\n",
    "\n",
    "* 난수로 분리하게 될 경우에는, 위와 같이 데이터 셋 내 라벨의 비율이 달라질 수 있습니다.<br>\n",
    "* 라벨의 비율에 따라서 성능 결과가 다르게 나올 수 있습니다.<br>\n",
    "* 라벨의 비율을 맞춰 난수추출하는 메소드는 아래처럼 하면 쉽게 할 수 있습니다."
   ]
  },
  {
   "cell_type": "code",
   "execution_count": 8,
   "metadata": {},
   "outputs": [],
   "source": [
    "from sklearn.model_selection import train_test_split"
   ]
  },
  {
   "cell_type": "code",
   "execution_count": 9,
   "metadata": {},
   "outputs": [],
   "source": [
    "train_df,test_df = train_test_split(cancer_df,\n",
    "                                    stratify=cancer_df.label,\n",
    "                                    test_size=0.8)"
   ]
  },
  {
   "cell_type": "code",
   "execution_count": 10,
   "metadata": {},
   "outputs": [
    {
     "data": {
      "text/plain": [
       "0.0    11\n",
       "1.0     9\n",
       "Name: label, dtype: int64"
      ]
     },
     "execution_count": 10,
     "metadata": {},
     "output_type": "execute_result"
    }
   ],
   "source": [
    "train_df.label.value_counts()"
   ]
  },
  {
   "cell_type": "code",
   "execution_count": 11,
   "metadata": {},
   "outputs": [
    {
     "data": {
      "text/plain": [
       "0.0    44\n",
       "1.0    36\n",
       "Name: label, dtype: int64"
      ]
     },
     "execution_count": 11,
     "metadata": {},
     "output_type": "execute_result"
    }
   ],
   "source": [
    "test_df.label.value_counts()"
   ]
  },
  {
   "cell_type": "markdown",
   "metadata": {},
   "source": [
    "## 3. K-Fold 교차검증\n",
    "---\n",
    "\n",
    "* 위와 데이터의 수가 적은 경우에는 이 데이터 중의 일부인 |평가 데이터의 수도 적기 때문에<br>\n",
    "* 평가의 신뢰도가 낮아집니다. 이렇다고 평가 데이터 수를 늘리면 학습이 잘 되지 않습니다. <br>\n",
    "* 위와 같은 경우를 위해 만들어진 방식이 K-Fold 교차검증 방법입니다.\n",
    "\n",
    "\n",
    "![Imgur](https://i.imgur.com/ZBRaany.png)"
   ]
  },
  {
   "cell_type": "markdown",
   "metadata": {},
   "source": [
    "K-Fold 교차검증도 아래와 같은 메소드를 이용하면 간단히 이용할 수 있습니다."
   ]
  },
  {
   "cell_type": "code",
   "execution_count": 12,
   "metadata": {},
   "outputs": [],
   "source": [
    "from sklearn.model_selection import KFold\n",
    "\n",
    "cv = KFold(5, shuffle=True)\n",
    "\n",
    "for i, (train_index, test_index) in enumerate(cv.split(cancer_df)):\n",
    "    train_df = cancer_df.iloc[train_index]\n",
    "    test_df = cancer_df.iloc[test_index]\n",
    "    \n",
    "    # 이후 학습을 한 후 평가\n",
    "    # 학습\n",
    "    # 평가\n",
    "    # 5번 반복"
   ]
  },
  {
   "cell_type": "markdown",
   "metadata": {},
   "source": [
    "<br><br>\n",
    "\n",
    "# \\[ 2. 모델을 평가하는 지표들 \\]\n",
    "\n",
    "----\n",
    "\n",
    "----\n",
    "\n",
    "> *모델의 성능을 평가하는 여러가지 지표들이 존재합니다. *<br>"
   ]
  },
  {
   "cell_type": "markdown",
   "metadata": {},
   "source": [
    "## 1. 모델 결과 산출하기\n",
    "---\n",
    "\n",
    "* 학습데이터셋 만으로 우선 모델을 학습합니다.\n",
    "* 테스트셋에 학습된 모델을 적용하여 결과를 얻습니다.\n"
   ]
  },
  {
   "cell_type": "markdown",
   "metadata": {},
   "source": [
    "### (1) 모델 학습하기"
   ]
  },
  {
   "cell_type": "code",
   "execution_count": 13,
   "metadata": {},
   "outputs": [],
   "source": [
    "# MinMax Normalization 적용\n",
    "cancer_df = (cancer_df-cancer_df.min())/(cancer_df.max()-cancer_df.min())\n",
    "\n",
    "# Train / test split\n",
    "train_df,test_df = train_test_split(cancer_df,\n",
    "                                    stratify=cancer_df.label,\n",
    "                                    test_size=0.2)\n",
    "\n",
    "x_1 = train_df.tumor_size\n",
    "x_2 = train_df.age\n",
    "y = train_df.label"
   ]
  },
  {
   "cell_type": "code",
   "execution_count": 14,
   "metadata": {},
   "outputs": [],
   "source": [
    "# weight 모두 0.1로 초기화\n",
    "w_0,w_1,w_2 = np.random.random(3)\n",
    "\n",
    "# 갱신된 weight와 mse 저장\n",
    "w_0_history = [w_0]\n",
    "w_1_history = [w_1]\n",
    "w_2_history = [w_2]\n",
    "loss_history = []\n",
    "\n",
    "alpha = 3e-1 # 학습률\n",
    "epoch = 1000\n",
    "\n",
    "for i in range(epoch):\n",
    "    # 이전 가중치 가져오기\n",
    "    old_w_0 = w_0_history[-1]\n",
    "    old_w_1 = w_1_history[-1]\n",
    "    old_w_2 = w_2_history[-1]    \n",
    "    \n",
    "    # 미분값 갱신\n",
    "    z = old_w_0 + (old_w_1*x_1) + (old_w_2*x_2)\n",
    "    prob = 1/(1+np.exp(-z))\n",
    "    \n",
    "    dw0 = np.mean(prob-y)\n",
    "    dw1 = np.mean((prob-y)*x_1)\n",
    "    dw2 = np.mean((prob-y)*x_2)\n",
    "    \n",
    "    # 경사_하강법을 통한 가중치 갱신\n",
    "    new_w_0 = old_w_0 - alpha * dw0\n",
    "    new_w_1 = old_w_1 - alpha * dw1\n",
    "    new_w_2 = old_w_2 - alpha * dw2\n",
    "    \n",
    "    crossentropy = -np.mean(y*np.log(prob) + (1-y)*np.log(1-prob))\n",
    "\n",
    "    # 결과 저장\n",
    "    w_0_history.append(new_w_0)\n",
    "    w_1_history.append(new_w_1)\n",
    "    w_2_history.append(new_w_2)\n",
    "    loss_history.append(crossentropy)"
   ]
  },
  {
   "cell_type": "markdown",
   "metadata": {},
   "source": [
    "### (2) 모델 학습 결과 확인하기"
   ]
  },
  {
   "cell_type": "code",
   "execution_count": 15,
   "metadata": {},
   "outputs": [
    {
     "data": {
      "image/png": "[encoded data removed]",
      "text/plain": [
       "<Figure size 432x288 with 1 Axes>"
      ]
     },
     "metadata": {},
     "output_type": "display_data"
    }
   ],
   "source": [
    "plt.title(\"Loss Function\")\n",
    "plt.plot(loss_history)\n",
    "plt.show()"
   ]
  },
  {
   "cell_type": "markdown",
   "metadata": {},
   "source": [
    "### (3) 테스트셋에 적용하기"
   ]
  },
  {
   "cell_type": "code",
   "execution_count": null,
   "metadata": {},
   "outputs": [],
   "source": [
    "def predict_model(x_1,x_2,w_0,w_1,w_2):\n",
    "    z = w_0 + (w_1*x_1) + (w_2*x_2)\n",
    "    prob = 1/(1+np.exp(-z))\n",
    "    return prob"
   ]
  },
  {
   "cell_type": "code",
   "execution_count": 17,
   "metadata": {},
   "outputs": [],
   "source": [
    "test_x_1 = test_df.tumor_size\n",
    "test_x_2 = test_df.age\n",
    "test_y = test_df.label"
   ]
  },
  {
   "cell_type": "code",
   "execution_count": 18,
   "metadata": {},
   "outputs": [],
   "source": [
    "test_y_pred = predict_model(test_x_1,test_x_2,\n",
    "                            new_w_0,new_w_1,new_w_2)"
   ]
  },
  {
   "cell_type": "markdown",
   "metadata": {},
   "source": [
    "## 2. 다양한 종류의 평가 지표들\n",
    "---\n",
    "\n",
    "학습한 모델의 성능을 평가하는 기준들은 다양합니다.<br>\n",
    "주어진 문제 상황에 맞게, 모델을 어떤 기준으로 평가할 수 있을지<br>\n",
    "설계할 수 있어야 합니다."
   ]
  },
  {
   "cell_type": "code",
   "execution_count": 19,
   "metadata": {},
   "outputs": [
    {
     "data": {
      "text/html": [
       "<div>\n",
       "<style scoped>\n",
       "    .dataframe tbody tr th:only-of-type {\n",
       "        vertical-align: middle;\n",
       "    }\n",
       "\n",
       "    .dataframe tbody tr th {\n",
       "        vertical-align: top;\n",
       "    }\n",
       "\n",
       "    .dataframe thead th {\n",
       "        text-align: right;\n",
       "    }\n",
       "</style>\n",
       "<table border=\"1\" class=\"dataframe\">\n",
       "  <thead>\n",
       "    <tr style=\"text-align: right;\">\n",
       "      <th></th>\n",
       "      <th>label</th>\n",
       "      <th>prediction</th>\n",
       "    </tr>\n",
       "  </thead>\n",
       "  <tbody>\n",
       "    <tr>\n",
       "      <th>52</th>\n",
       "      <td>0.0</td>\n",
       "      <td>0.037086</td>\n",
       "    </tr>\n",
       "    <tr>\n",
       "      <th>91</th>\n",
       "      <td>0.0</td>\n",
       "      <td>0.297727</td>\n",
       "    </tr>\n",
       "    <tr>\n",
       "      <th>26</th>\n",
       "      <td>0.0</td>\n",
       "      <td>0.305803</td>\n",
       "    </tr>\n",
       "    <tr>\n",
       "      <th>85</th>\n",
       "      <td>0.0</td>\n",
       "      <td>0.120379</td>\n",
       "    </tr>\n",
       "    <tr>\n",
       "      <th>25</th>\n",
       "      <td>0.0</td>\n",
       "      <td>0.065967</td>\n",
       "    </tr>\n",
       "  </tbody>\n",
       "</table>\n",
       "</div>"
      ],
      "text/plain": [
       "    label  prediction\n",
       "52    0.0    0.037086\n",
       "91    0.0    0.297727\n",
       "26    0.0    0.305803\n",
       "85    0.0    0.120379\n",
       "25    0.0    0.065967"
      ]
     },
     "execution_count": 19,
     "metadata": {},
     "output_type": "execute_result"
    }
   ],
   "source": [
    "# 평가 결과에 대한 데이터 프레임 만들기\n",
    "result_df = pd.DataFrame({\n",
    "    \"label\" : test_y,\n",
    "    \"prediction\" : test_y_pred}\n",
    ")\n",
    "result_df.head()"
   ]
  },
  {
   "cell_type": "code",
   "execution_count": 20,
   "metadata": {},
   "outputs": [
    {
     "data": {
      "text/html": [
       "<div>\n",
       "<style scoped>\n",
       "    .dataframe tbody tr th:only-of-type {\n",
       "        vertical-align: middle;\n",
       "    }\n",
       "\n",
       "    .dataframe tbody tr th {\n",
       "        vertical-align: top;\n",
       "    }\n",
       "\n",
       "    .dataframe thead th {\n",
       "        text-align: right;\n",
       "    }\n",
       "</style>\n",
       "<table border=\"1\" class=\"dataframe\">\n",
       "  <thead>\n",
       "    <tr style=\"text-align: right;\">\n",
       "      <th></th>\n",
       "      <th>label</th>\n",
       "      <th>prediction</th>\n",
       "    </tr>\n",
       "  </thead>\n",
       "  <tbody>\n",
       "    <tr>\n",
       "      <th>52</th>\n",
       "      <td>False</td>\n",
       "      <td>False</td>\n",
       "    </tr>\n",
       "    <tr>\n",
       "      <th>91</th>\n",
       "      <td>False</td>\n",
       "      <td>False</td>\n",
       "    </tr>\n",
       "    <tr>\n",
       "      <th>26</th>\n",
       "      <td>False</td>\n",
       "      <td>False</td>\n",
       "    </tr>\n",
       "    <tr>\n",
       "      <th>85</th>\n",
       "      <td>False</td>\n",
       "      <td>False</td>\n",
       "    </tr>\n",
       "    <tr>\n",
       "      <th>25</th>\n",
       "      <td>False</td>\n",
       "      <td>False</td>\n",
       "    </tr>\n",
       "  </tbody>\n",
       "</table>\n",
       "</div>"
      ],
      "text/plain": [
       "    label  prediction\n",
       "52  False       False\n",
       "91  False       False\n",
       "26  False       False\n",
       "85  False       False\n",
       "25  False       False"
      ]
     },
     "execution_count": 20,
     "metadata": {},
     "output_type": "execute_result"
    }
   ],
   "source": [
    "# cut-value를 0.5라 지정했을 때 결과\n",
    "labels = (result_df\n",
    "          .label\n",
    "          .apply(lambda x: True if x>0.5 else False))\n",
    "predictions = (result_df\n",
    "               .prediction\n",
    "               .apply(lambda x: True if x>0.5 else False))\n",
    "\n",
    "pd.concat([labels,predictions],axis=1).head(5)"
   ]
  },
  {
   "cell_type": "markdown",
   "metadata": {},
   "source": [
    "### (1) Confusion Matrix\n",
    "----\n",
    "\n",
    "Confusion Matrix란 분류 모델의 성능을 평가하기 위한 가장 기본이 되는 행렬입니다.\n",
    "\n",
    "![Imgur](https://i.imgur.com/9uGE2UL.png)"
   ]
  },
  {
   "cell_type": "code",
   "execution_count": 21,
   "metadata": {},
   "outputs": [],
   "source": [
    "TP = np.sum(labels & predictions)\n",
    "FN = np.sum(labels & (~predictions))\n",
    "FP = np.sum((~labels) & predictions)\n",
    "TN = np.sum((~labels) & (~predictions))"
   ]
  },
  {
   "cell_type": "code",
   "execution_count": 22,
   "metadata": {},
   "outputs": [
    {
     "name": "stdout",
     "output_type": "stream",
     "text": [
      "(TP,FN,FP,TN) : (7,2,1,10)\n"
     ]
    }
   ],
   "source": [
    "print(\"(TP,FN,FP,TN) : ({},{},{},{})\".format(TP,FN,FP,TN))"
   ]
  },
  {
   "cell_type": "markdown",
   "metadata": {},
   "source": [
    "위의 정보가 있으면 우리는 여러가지 기준으로 모델을 평가할 수 있습니다."
   ]
  },
  {
   "cell_type": "markdown",
   "metadata": {},
   "source": [
    "### (2) Accuracy \n",
    "\n",
    "전체적으로 이 분류기가 얼마나 잘 맞추었는지를 평가할 때 쓰입니다.\n",
    "\n",
    "$$\n",
    "accuracy = \\frac{TP+TN}{TP+FN+FP+TN}\n",
    "$$"
   ]
  },
  {
   "cell_type": "code",
   "execution_count": 23,
   "metadata": {},
   "outputs": [
    {
     "name": "stdout",
     "output_type": "stream",
     "text": [
      "정확도 : 85.000%\n"
     ]
    }
   ],
   "source": [
    "accuracy = (TP+TN)/(TP+FN+FP+TN)\n",
    "print(\"정확도 : {:2.3f}%\".format(accuracy*100))"
   ]
  },
  {
   "cell_type": "markdown",
   "metadata": {},
   "source": [
    "### (3) Error Rate\n",
    "\n",
    "얼마나 자주 틀렸는지를 평가할 때 쓰입니다.<br>\n",
    "주로 \"Error가 20% 감소하였습니다.\"와 같이 이야기할 때 쓰이는 수치입니다.\n",
    "$$\n",
    "error\\ rate = \\frac{FP+FN}{TP+FN+FP+TN} = 1 - accuracy\n",
    "$$"
   ]
  },
  {
   "cell_type": "code",
   "execution_count": 24,
   "metadata": {},
   "outputs": [
    {
     "name": "stdout",
     "output_type": "stream",
     "text": [
      "에러율 : 15.000%\n"
     ]
    }
   ],
   "source": [
    "error_rate = (FP+FN)/(TP+FN+FP+TN)\n",
    "print(\"에러율 : {:2.3f}%\".format(error_rate*100))"
   ]
  },
  {
   "cell_type": "markdown",
   "metadata": {},
   "source": [
    "### (4) Recall(Sensitivity, 재현율)\n",
    "실제 정답 중 모델에서 올바르게 분류한 비율을 의미합니다.<br>\n",
    "암세포 검출 등 놓치면 안되는 분류 문제에 있어서는 <br>\n",
    "Recall을 매우 높게 설정해야 합니다.\n",
    "\n",
    "$$\n",
    "recall = \\frac{TP}{TP+FN}\n",
    "$$"
   ]
  },
  {
   "cell_type": "code",
   "execution_count": 25,
   "metadata": {},
   "outputs": [
    {
     "name": "stdout",
     "output_type": "stream",
     "text": [
      "재현율 : 77.778%\n"
     ]
    }
   ],
   "source": [
    "recall = TP/(TP+FN)\n",
    "print(\"재현율 : {:2.3f}%\".format(recall*100))"
   ]
  },
  {
   "cell_type": "markdown",
   "metadata": {},
   "source": [
    "### (5) Precision(정밀도)\n",
    "모델이 예측한 정답 중 실제 정답의 비율을 의미합니다.<br>\n",
    "정밀도가 높을수록, False Alarm 문제가 적게 발생합니다.\n",
    "\n",
    "$$\n",
    "precision = \\frac{TP}{TP+FP}\n",
    "$$"
   ]
  },
  {
   "cell_type": "code",
   "execution_count": 26,
   "metadata": {},
   "outputs": [
    {
     "name": "stdout",
     "output_type": "stream",
     "text": [
      "정밀도 : 87.500%\n"
     ]
    }
   ],
   "source": [
    "precision = TP/(TP+FP)\n",
    "print(\"정밀도 : {:2.3f}%\".format(precision*100))"
   ]
  },
  {
   "cell_type": "markdown",
   "metadata": {},
   "source": [
    "### (6) F1-Score\n",
    "\n",
    "재현율과 정밀도는 trade-off관계에 있습니다.<br>\n",
    "이를 평균내어 단일한 값으로 평가하는 방식이 바로 F-score입니다.\n",
    "\n",
    "$$\n",
    "F = \\frac{recall * precision}{recall + precision}\n",
    "$$"
   ]
  },
  {
   "cell_type": "code",
   "execution_count": 27,
   "metadata": {},
   "outputs": [
    {
     "name": "stdout",
     "output_type": "stream",
     "text": [
      "F1-score : 0.412\n"
     ]
    }
   ],
   "source": [
    "F = (recall*precision)/(recall+precision)\n",
    "print(\"F1-score : {:.3f}\".format(F))"
   ]
  },
  {
   "cell_type": "markdown",
   "metadata": {},
   "source": [
    "### (7) ROC Curve\n",
    "\n",
    "cut value에 따라서 정밀도와 재현율의 결과는 달라지게 됩니다. <br>\n",
    "우리는 cut value에 따른 모델의 성능을 보여주는 그래프로 주로 **ROC Curve**를 이용합니다."
   ]
  },
  {
   "cell_type": "code",
   "execution_count": 37,
   "metadata": {},
   "outputs": [],
   "source": [
    "def calculate_tpr_and_fpr(cut_value):\n",
    "    predictions = (result_df\n",
    "                   .prediction\n",
    "                   .apply(lambda x: True if x>=cut_value else False))\n",
    "    \n",
    "    TP = np.sum(labels & predictions)\n",
    "    FN = np.sum(labels & (~predictions))\n",
    "    FP = np.sum((~labels) & predictions)\n",
    "    TN = np.sum((~labels) & (~predictions))\n",
    "    \n",
    "    tpr = TP/(TP+FN) # 참 양성 비율(재현율과 동일)\n",
    "    fpr = FP/(FP+TN) # 허위 양성 비율\n",
    "    \n",
    "    return tpr, fpr"
   ]
  },
  {
   "cell_type": "code",
   "execution_count": 38,
   "metadata": {},
   "outputs": [
    {
     "name": "stdout",
     "output_type": "stream",
     "text": [
      "cutvalue:0.1 -> tpr : 1.000/fpr : 0.636\n",
      "cutvalue:0.3 -> tpr : 1.000/fpr : 0.182\n",
      "cutvalue:0.5 -> tpr : 0.778/fpr : 0.091\n"
     ]
    }
   ],
   "source": [
    "tpr, fpr = calculate_tpr_and_fpr(0.1)\n",
    "print(\"cutvalue:0.1 -> tpr : {:.3f}/fpr : {:.3f}\".format(tpr, fpr))\n",
    "\n",
    "tpr, fpr = calculate_tpr_and_fpr(0.3)\n",
    "print(\"cutvalue:0.3 -> tpr : {:.3f}/fpr : {:.3f}\".format(tpr, fpr))\n",
    "\n",
    "tpr, fpr = calculate_tpr_and_fpr(0.5)\n",
    "print(\"cutvalue:0.5 -> tpr : {:.3f}/fpr : {:.3f}\".format(tpr, fpr))\n"
   ]
  },
  {
   "cell_type": "code",
   "execution_count": 39,
   "metadata": {},
   "outputs": [],
   "source": [
    "cut_values = np.linspace(0.0,1.,100)\n",
    "\n",
    "tpr_list = []\n",
    "fpr_list = []\n",
    "for cut_value in cut_values:\n",
    "    tpr, fpr = calculate_tpr_and_fpr(cut_value)\n",
    "    tpr_list.append(tpr)\n",
    "    fpr_list.append(fpr)    "
   ]
  },
  {
   "cell_type": "code",
   "execution_count": 40,
   "metadata": {},
   "outputs": [
    {
     "data": {
      "image/png": "[encoded data removed]",
      "text/plain": [
       "<Figure size 432x288 with 1 Axes>"
      ]
     },
     "metadata": {},
     "output_type": "display_data"
    }
   ],
   "source": [
    "plt.title(\"ROC Curve\")\n",
    "plt.plot(fpr_list,tpr_list)\n",
    "plt.xlabel(\"FPR\")\n",
    "plt.ylabel(\"TPR\")\n",
    "plt.show()"
   ]
  },
  {
   "cell_type": "markdown",
   "metadata": {},
   "source": [
    "### (8) AUC\n",
    "\n",
    "AUC는 \"ROC 곡선 아래 영역\"을 의미합니다.<br>\n",
    "예측이 100% 잘못된 모델의 AUC는 0.0이고 <br>\n",
    "예측이 100% 정확한 모델의 AUC는 1.0입니다. <br>"
   ]
  },
  {
   "cell_type": "code",
   "execution_count": 49,
   "metadata": {},
   "outputs": [
    {
     "name": "stdout",
     "output_type": "stream",
     "text": [
      "0.9797979797979798\n"
     ]
    }
   ],
   "source": [
    "prev_fpr = fpr_list[0]\n",
    "prev_tpr = tpr_list[0]\n",
    "\n",
    "AUC = 0\n",
    "for curr_fpr, curr_tpr in zip(fpr_list[1:],tpr_list[1:]):\n",
    "    segment = (prev_fpr-curr_fpr)*(curr_tpr + prev_tpr)/2\n",
    "    AUC += segment\n",
    "    prev_fpr, prev_tpr = curr_fpr, curr_tpr\n",
    "print(AUC)"
   ]
  },
  {
   "cell_type": "markdown",
   "metadata": {},
   "source": [
    "#  \n",
    "\n",
    "---\n",
    "\n",
    "    Copyright(c) 2019 by Public AI. All rights reserved.<br>\n",
    "    Writen by PAI, SangJae Kang ( rocketgrowthsj@publicai.co.kr )  last updated on 2019/03/22\n",
    "\n",
    "---"
   ]
  }
 ],
 "metadata": {
  "kernelspec": {
   "display_name": "Python 3",
   "language": "python",
   "name": "python3"
  },
  "language_info": {
   "codemirror_mode": {
    "name": "ipython",
    "version": 3
   },
   "file_extension": ".py",
   "mimetype": "text/x-python",
   "name": "python",
   "nbconvert_exporter": "python",
   "pygments_lexer": "ipython3",
   "version": "3.6.5"
  }
 },
 "nbformat": 4,
 "nbformat_minor": 2
}
