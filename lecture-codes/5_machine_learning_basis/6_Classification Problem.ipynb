{
 "cells": [
  {
   "cell_type": "markdown",
   "metadata": {},
   "source": [
    " ╔══<i><b>Alai-DeepLearning</b></i>════════════════════════════╗\n",
    "###  &nbsp;&nbsp; **✎&nbsp;&nbsp;Week 5. Machine Learning Basis**\n",
    "# Section 6. Classification Problem\n",
    "\n",
    "### _Objective_\n",
    "1. 분류 문제를 풀기 위해서, 기본적인 확률에 대해서 배워봅니다. <br>\n",
    "2. Logistic 함수에 대해 배워봅니다. <br>\n",
    "3. 확률 분포의 차이를 구하는 Cross-Entropy에 대해 배워봅니다.\n",
    "  \n",
    "╚═════════════════════════════════════════╝"
   ]
  },
  {
   "cell_type": "code",
   "execution_count": 25,
   "metadata": {},
   "outputs": [],
   "source": [
    "%matplotlib inline\n",
    "\n",
    "import numpy as np\n",
    "import pandas as pd\n",
    "\n",
    "import matplotlib.pyplot as plt"
   ]
  },
  {
   "cell_type": "markdown",
   "metadata": {},
   "source": [
    "## 예제 데이터 ) 암 환자 데이터 셋"
   ]
  },
  {
   "cell_type": "code",
   "execution_count": 26,
   "metadata": {},
   "outputs": [
    {
     "name": "stdout",
     "output_type": "stream",
     "text": [
      "--2019-03-28 13:55:09--  https://s3.ap-northeast-2.amazonaws.com/pai-datasets/alai-deeplearning/cancer_dataset.csv\n",
      "Resolving s3.ap-northeast-2.amazonaws.com (s3.ap-northeast-2.amazonaws.com)... 52.219.58.0\n",
      "Connecting to s3.ap-northeast-2.amazonaws.com (s3.ap-northeast-2.amazonaws.com)|52.219.58.0|:443... connected.\n",
      "HTTP request sent, awaiting response... 200 OK\n",
      "Length: 2958 (2.9K) [text/csv]\n",
      "Saving to: ‘cancer_dataset.csv.3’\n",
      "\n",
      "cancer_dataset.csv. 100%[===================>]   2.89K  --.-KB/s    in 0s      \n",
      "\n",
      "2019-03-28 13:55:09 (47.8 MB/s) - ‘cancer_dataset.csv.3’ saved [2958/2958]\n",
      "\n"
     ]
    }
   ],
   "source": [
    "!wget https://s3.ap-northeast-2.amazonaws.com/pai-datasets/alai-deeplearning/cancer_dataset.csv\n",
    "cancer_df = pd.read_csv('cancer_dataset.csv')"
   ]
  },
  {
   "cell_type": "markdown",
   "metadata": {},
   "source": [
    "### 데이터 시각화"
   ]
  },
  {
   "cell_type": "code",
   "execution_count": 27,
   "metadata": {},
   "outputs": [
    {
     "data": {
      "image/png": "[encoded data removed]",
      "text/plain": [
       "<Figure size 504x504 with 1 Axes>"
      ]
     },
     "metadata": {},
     "output_type": "display_data"
    }
   ],
   "source": [
    "fig = plt.figure(figsize=(7,7))\n",
    "ax = fig.add_subplot(1,1,1)\n",
    "\n",
    "# 0: 정상\n",
    "cancer_df[cancer_df.label==0].plot('age','tumor_size',ax=ax,legend=True,\n",
    "                                   kind='scatter',color='red')\n",
    "# 1: 암환자\n",
    "cancer_df[cancer_df.label==1].plot('age','tumor_size',ax=ax,legend=True,\n",
    "                                   kind='scatter',color='green')\n",
    "plt.legend(['Normal','Cancer'])\n",
    "plt.title(\"Cancer Or Not\")\n",
    "plt.show()"
   ]
  },
  {
   "cell_type": "markdown",
   "metadata": {},
   "source": [
    "<br><br>\n",
    "\n",
    "# \\[ 1. Logistic 함수 유도하기 \\]\n",
    "\n",
    "----\n",
    "\n",
    "----\n",
    "\n",
    "> *분류 문제는 회귀 문제와 달리, 확률로 결과값을 표현해야 합니다. *<br>\n",
    "> *실수의 값을 확률의 값으로 바꾸어주는 함수로 Logistic이 존재합니다.*"
   ]
  },
  {
   "cell_type": "markdown",
   "metadata": {},
   "source": [
    "## 1. 확률의 정의\n",
    "\n",
    "----\n",
    "\n",
    "분류 문제를 풀기 위해서는, 결과 값의 형태가 **확률(Probability)** 로 나타나야 합니다. <br>\n",
    "확률은 사건(부분집합)을 입력하면 숫자(확률값)으로 출력되는 함수입니다.<br>\n",
    "\n",
    "확률의 세가지 공리 (콜모고로프의 공리)\n",
    "1. 모든 사건에 대해 확률은 실수이고 0 또는 양수이다. \n",
    "$$\n",
    "P(A) >= 0\n",
    "$$\n",
    "2. 표본공간(전체집합)이라는 사건(부분집합)에 대한 확률은 1이다.\n",
    "$$\n",
    "P(\\Omega) = 1\n",
    "$$\n",
    "3. 공통 원소가 없는 두 사건의 합집합의 확률은 각각의 사건의 확률의 합이다.\n",
    "$$\n",
    "A \\cap B = \\emptyset \\rightarrow P(A\\cup B) = P(A) + P(B)\n",
    "$$\n",
    "\n",
    "\n",
    "확률로 하게 되면, 우리는 결과를 **해석**할 수 있게 됩니다.<br>"
   ]
  },
  {
   "cell_type": "markdown",
   "metadata": {},
   "source": [
    "## 2. Odds Ratio\n",
    "\n",
    "----\n",
    "Odds Ratio란, 해당 사건이 일어날 확률과 일어나지 않을 확률의 비율입니다.\n",
    "$$\n",
    "\\mbox{일어날 확률} = P(x) \\\\\n",
    "\\mbox{일어나지 않을 확률} = 1-P(x) \\\\\n",
    "\\mbox{Odds Ratio} = \\frac{\\mbox{일어날 확률}}{\\mbox{일어나지 않을 확률}} = \\frac{P(x)}{1-P(x)}\n",
    "$$\n"
   ]
  },
  {
   "cell_type": "code",
   "execution_count": 28,
   "metadata": {},
   "outputs": [
    {
     "data": {
      "image/png": "[encoded data removed]",
      "text/plain": [
       "<Figure size 432x288 with 1 Axes>"
      ]
     },
     "metadata": {},
     "output_type": "display_data"
    }
   ],
   "source": [
    "probs = np.arange(0,1,0.01)\n",
    "odds = np.array([prob/(1-prob) for prob in probs])\n",
    "\n",
    "plt.plot(probs, odds)\n",
    "plt.title(\"Odds Ratio\")\n",
    "plt.xlabel('Prob')\n",
    "plt.ylabel('Odd')\n",
    "plt.show()"
   ]
  },
  {
   "cell_type": "markdown",
   "metadata": {},
   "source": [
    "Odds Ratio도 확률의 의미를 가지고 있습니다. <br>\n",
    "Odds의 값이 클수록, 확률이 커지는 관계에 있습니다.<br>\n",
    "하지만 확률과 달리<br>\n",
    "그 값의 범위가 $(0,\\infty )$입니다."
   ]
  },
  {
   "cell_type": "markdown",
   "metadata": {},
   "source": [
    "## 3. Logit Function\n",
    "\n",
    "----\n",
    "Logit Function은 Odds Ratio에 Log를 씌운 함수입니다.\n",
    "$$\n",
    "\\mbox{logit(x)} = Z = log_e(\\frac{P(x)}{1-P(x)})\n",
    "$$\n"
   ]
  },
  {
   "cell_type": "code",
   "execution_count": 29,
   "metadata": {},
   "outputs": [
    {
     "name": "stderr",
     "output_type": "stream",
     "text": [
      "/Users/ksj/anaconda3/lib/python3.6/site-packages/ipykernel_launcher.py:2: RuntimeWarning: divide by zero encountered in log\n",
      "  \n"
     ]
    }
   ],
   "source": [
    "probs = np.arange(0,1,0.001)\n",
    "logits = np.array([np.log(prob/(1-prob)) for prob in probs])"
   ]
  },
  {
   "cell_type": "code",
   "execution_count": 30,
   "metadata": {},
   "outputs": [
    {
     "data": {
      "image/png": "[encoded data removed]",
      "text/plain": [
       "<Figure size 432x288 with 1 Axes>"
      ]
     },
     "metadata": {},
     "output_type": "display_data"
    }
   ],
   "source": [
    "plt.plot(probs, logits)\n",
    "plt.title(\"logit Function\")\n",
    "plt.xlabel('Prob')\n",
    "plt.ylabel('logits')\n",
    "plt.show()"
   ]
  },
  {
   "cell_type": "markdown",
   "metadata": {},
   "source": [
    "Logit 함수는 출력 값의 범위가 실수 전체를 지칭하게 됩니다. <br>\n",
    "Logit 함수는 확률 공간 $(0,1)$의 공간을 입력 공간으로 받고 <br>\n",
    "실수 공간$(-\\infty,\\infty)$의 공간을 출력 공간으로 가집니다."
   ]
  },
  {
   "cell_type": "markdown",
   "metadata": {},
   "source": [
    "## 4. Logistic(Sigmoid) Function\n",
    "\n",
    "----\n",
    "Logistic 함수는 Logit 함수의 역함수 입니다.<br>\n",
    "아래는 유도과정입니다.<br>\n",
    "\n",
    "$\n",
    "\\begin{align}\n",
    "\\mbox{z} = log_e(\\frac{y}{1-y}) \\\\\n",
    "\\mbox{z} = - log_e(\\frac{1}{y}-1) \\\\\n",
    "\\mbox{z} = - log_e(\\frac{1}{y}-1) \\\\\n",
    "e^{-z} = \\frac{1}{y}-1  \\\\\n",
    "y(e^{-z}+1) = 1 \\\\\n",
    "y = \\frac{1}{1+e^{-z}} \\\\\n",
    "logistic(z) = \\frac{1}{1+e^{-z}}\n",
    "\\end{align}\n",
    "$\n"
   ]
  },
  {
   "cell_type": "markdown",
   "metadata": {},
   "source": [
    "이렇게 유도된 Logistic 함수는 입력 값으로 실수 전체의 공간을 받아<br>\n",
    "확률 공간(0,1)로 매칭시키는 함수입니다."
   ]
  },
  {
   "cell_type": "code",
   "execution_count": 31,
   "metadata": {},
   "outputs": [],
   "source": [
    "real_values = np.linspace(-10,10,100)\n",
    "logistics = np.array([1/(1+np.exp(-value)) for value in real_values])"
   ]
  },
  {
   "cell_type": "code",
   "execution_count": 32,
   "metadata": {},
   "outputs": [
    {
     "data": {
      "image/png": "[encoded data removed]",
      "text/plain": [
       "<Figure size 432x288 with 1 Axes>"
      ]
     },
     "metadata": {},
     "output_type": "display_data"
    }
   ],
   "source": [
    "plt.plot(real_values, logistics)\n",
    "plt.title(\"logistic Function\")\n",
    "plt.xlabel('Real Value')\n",
    "plt.ylabel('Probs')\n",
    "plt.show()"
   ]
  },
  {
   "cell_type": "markdown",
   "metadata": {},
   "source": [
    "로지스틱 함수는 수학적으로 도출된 함수로, 실수 값 공간을 확률공간으로 변환할 때<br>\n",
    "주로 쓰입니다."
   ]
  },
  {
   "cell_type": "markdown",
   "metadata": {},
   "source": [
    "<br><br>\n",
    "\n",
    "# \\[ 2. Cross Entropy 유도하기 \\]\n",
    "\n",
    "----\n",
    "\n",
    "----\n",
    "\n",
    "> *분류 문제의 오차는 실제값의 확률(0,1)과 예측값의 확률(0,1)의 차이입니다.*<br>\n",
    "> *확률 간의 차이를 구하는 Cross Entropy에 대해 배워봅니다.*\n",
    "\n",
    "\n",
    "reference :\n",
    "1. [wiki - 정보 엔트로피](https://ko.wikipedia.org/wiki/%EC%A0%95%EB%B3%B4_%EC%97%94%ED%8A%B8%EB%A1%9C%ED%94%BC)\n",
    "2. [A short Introduction to Entropy, Cross-Entropy and KL-Divergence](https://www.youtube.com/watch?v=ErfnhcEV1O8)"
   ]
  },
  {
   "cell_type": "markdown",
   "metadata": {},
   "source": [
    "## 1. Entropy\n",
    "\n",
    "----\n",
    "\n",
    "정보 이론에서는 모든 정보를 **확률(P)**로서 표현합니다.<br>"
   ]
  },
  {
   "cell_type": "markdown",
   "metadata": {},
   "source": [
    "### (1) 정보의 크기\n",
    "\n",
    "단일 정보의 중요도는 확률(P)이 낮을수록, 커지게 됩니다. <br>\n",
    "정보의 중요도는 $-log(P)$로 나타내게 됩니다.\n",
    "\n",
    "$$\n",
    "\\mbox{정보의 중요도} : h(x) = -logp(x) \n",
    "$$"
   ]
  },
  {
   "cell_type": "code",
   "execution_count": 33,
   "metadata": {},
   "outputs": [
    {
     "data": {
      "image/png": "[encoded data removed]",
      "text/plain": [
       "<Figure size 432x288 with 1 Axes>"
      ]
     },
     "metadata": {},
     "output_type": "display_data"
    }
   ],
   "source": [
    "real_values = np.arange(1e-9,1,0.01)\n",
    "informations = -np.log(real_values)\n",
    "plt.plot(real_values,informations)\n",
    "plt.show()"
   ]
  },
  {
   "cell_type": "markdown",
   "metadata": {},
   "source": [
    "예를 들어 날씨가 자주 나빠지는 영국을 기준으로 바라보면\n",
    "\n",
    "|    | 오늘 아침 맑음 | 오늘 아침 흐림 | \n",
    "|----|----|----|\n",
    "|확률 | 0.1 | 0.9 |\n",
    "|중요도|$$-log(0.1)$$|$$-log(0.9)$$|"
   ]
  },
  {
   "cell_type": "code",
   "execution_count": 34,
   "metadata": {},
   "outputs": [
    {
     "name": "stdout",
     "output_type": "stream",
     "text": [
      "오늘 아침 맑다는 정보의 가치  :  2.3025850929940455\n",
      "오늘 아침 흐리다는 정보의 가치 :  0.10536051565782628\n"
     ]
    }
   ],
   "source": [
    "print(\"오늘 아침 맑다는 정보의 가치  : \",-np.log(0.1))\n",
    "print(\"오늘 아침 흐리다는 정보의 가치 : \",-np.log(0.9))"
   ]
  },
  {
   "cell_type": "markdown",
   "metadata": {},
   "source": [
    "가 됩니다. 즉 희소하게 발생하는 정보일수록, 그 정보의 중요도는 커집니다."
   ]
  },
  {
   "cell_type": "markdown",
   "metadata": {},
   "source": [
    "정보의 중요도를 아래와 같이 구성하면 3가지 성질이 생깁니다.\n",
    "$$\n",
    "\\mbox{정보의 중요도} : h(x) = -logp(x) \n",
    "$$\n",
    "\n",
    "1. 발생 가능성이 큰 사건은 정보량이 적어야 한다. 극단적인 경우, 반드시 발생하는 사건에는 아무런 정보도 없어야 한다.\n",
    "2. 발생 가능성이 낮은 사건은 정보량이 많아야 한다.\n",
    "3. 개별 사건들의 정보량은 더할 수 있어야 한다. 예를 들어, 동전을 두 번 던져서 두 번 다 앞면이 나온 사건의 정보량은 동전을 한 번 던져서 앞면이 나온 사건의 정보량의 두 배이어야 한다."
   ]
  },
  {
   "cell_type": "markdown",
   "metadata": {},
   "source": [
    "### (2) 엔트로피\n",
    "\n",
    "해당 사건들을 모아서 영국의 날씨 데이터라는 데이터가 얼마나 중요한지를 계산해볼 수 있습니다.<br>\n",
    "Entropy란, 정보의 기댓값을 의미합니다.<br>\n",
    "기댓값이란, 발생 확률과 그 크기의 곱의 평균으로 아래와 같이 정의됩니다.\n",
    "\n",
    "$$\n",
    "\\mbox{entropy} : H[x] = -\\sum_{x}p(x)logp(x)\n",
    "$$"
   ]
  },
  {
   "cell_type": "markdown",
   "metadata": {},
   "source": [
    "위의 영국 날씨를 기준으로 엔트로피를 계산 해보면, \n",
    "\n",
    "|    | 오늘 아침 맑음 | 오늘 아침 흐림 | \n",
    "|----|----|----|\n",
    "|확률 | 0.1 | 0.9 |\n",
    "|중요도|$$-log(0.1)$$|$$-log(0.9)$$|"
   ]
  },
  {
   "cell_type": "code",
   "execution_count": 35,
   "metadata": {},
   "outputs": [
    {
     "name": "stdout",
     "output_type": "stream",
     "text": [
      "영국 날씨의 엔트로피 : 0.325\n"
     ]
    }
   ],
   "source": [
    "entropy = (-0.1*np.log(0.1)) + (-0.9*np.log(0.9))\n",
    "print(\"영국 날씨의 엔트로피 : {:.3f}\".format(entropy))"
   ]
  },
  {
   "cell_type": "markdown",
   "metadata": {},
   "source": [
    "태국 날씨는 영국 날씨보다 더 기상천회하게 바뀝니다.<br>\n",
    "거의 확률상 반반으로 날씨가 맑거나, 흐립니다.<br>\n",
    "태국 날씨의 엔트로피는 어떻게 될까요?\n",
    "\n",
    "|    | 오늘 아침 맑음 | 오늘 아침 흐림 | \n",
    "|----|----|----|\n",
    "|확률 | 0.5 | 0.5 |\n",
    "|중요도|$$-log(0.5)$$|$$-log(0.5)$$|"
   ]
  },
  {
   "cell_type": "code",
   "execution_count": 36,
   "metadata": {},
   "outputs": [
    {
     "name": "stdout",
     "output_type": "stream",
     "text": [
      "태국 날씨의 엔트로피 : 0.693\n"
     ]
    }
   ],
   "source": [
    "entropy = (-0.5*np.log(0.5)) + (-0.5*np.log(0.5))\n",
    "print(\"태국 날씨의 엔트로피 : {:.3f}\".format(entropy))"
   ]
  },
  {
   "cell_type": "markdown",
   "metadata": {},
   "source": [
    "태국 날씨의 엔트로피가 영국 날씨의 엔트로피보다 훨씬 크다.<br>\n",
    "엔트로피를 보통 **무질서의 정도**라고 설명하기도 하는데, <br>\n",
    "이는 태국의 날씨와 같이 예측하기 어려울수록 <br>\n",
    "엔트로피의 성질이 커지는 것을 뜻합니다."
   ]
  },
  {
   "cell_type": "markdown",
   "metadata": {},
   "source": [
    "### (2) Cross-Entropy\n",
    "\n",
    "환자에게 암이 발병했는지에 대한 확률 분포($p(x)$)가 있다고 생각해봅시다.<br>\n",
    "환자가 실제로 암이 있었다면, 실제 확률은 $p(x)=1$가 될 것이고,<br>\n",
    "환자에게 암이 없었다면, 실제 확률은 $p(x)=0$이 될 것입니다."
   ]
  },
  {
   "cell_type": "code",
   "execution_count": 37,
   "metadata": {},
   "outputs": [
    {
     "data": {
      "text/html": [
       "<div>\n",
       "<style scoped>\n",
       "    .dataframe tbody tr th:only-of-type {\n",
       "        vertical-align: middle;\n",
       "    }\n",
       "\n",
       "    .dataframe tbody tr th {\n",
       "        vertical-align: top;\n",
       "    }\n",
       "\n",
       "    .dataframe thead th {\n",
       "        text-align: right;\n",
       "    }\n",
       "</style>\n",
       "<table border=\"1\" class=\"dataframe\">\n",
       "  <thead>\n",
       "    <tr style=\"text-align: right;\">\n",
       "      <th></th>\n",
       "      <th>age</th>\n",
       "      <th>tumor_size</th>\n",
       "      <th>label</th>\n",
       "      <th>p(x)</th>\n",
       "    </tr>\n",
       "  </thead>\n",
       "  <tbody>\n",
       "    <tr>\n",
       "      <th>0</th>\n",
       "      <td>2.170865</td>\n",
       "      <td>3.087710</td>\n",
       "      <td>0.0</td>\n",
       "      <td>0.0</td>\n",
       "    </tr>\n",
       "    <tr>\n",
       "      <th>1</th>\n",
       "      <td>8.000731</td>\n",
       "      <td>5.237815</td>\n",
       "      <td>1.0</td>\n",
       "      <td>1.0</td>\n",
       "    </tr>\n",
       "    <tr>\n",
       "      <th>2</th>\n",
       "      <td>5.248661</td>\n",
       "      <td>5.851058</td>\n",
       "      <td>1.0</td>\n",
       "      <td>1.0</td>\n",
       "    </tr>\n",
       "    <tr>\n",
       "      <th>3</th>\n",
       "      <td>3.433496</td>\n",
       "      <td>4.278379</td>\n",
       "      <td>0.0</td>\n",
       "      <td>0.0</td>\n",
       "    </tr>\n",
       "    <tr>\n",
       "      <th>4</th>\n",
       "      <td>2.365321</td>\n",
       "      <td>3.508396</td>\n",
       "      <td>0.0</td>\n",
       "      <td>0.0</td>\n",
       "    </tr>\n",
       "  </tbody>\n",
       "</table>\n",
       "</div>"
      ],
      "text/plain": [
       "        age  tumor_size  label  p(x)\n",
       "0  2.170865    3.087710    0.0   0.0\n",
       "1  8.000731    5.237815    1.0   1.0\n",
       "2  5.248661    5.851058    1.0   1.0\n",
       "3  3.433496    4.278379    0.0   0.0\n",
       "4  2.365321    3.508396    0.0   0.0"
      ]
     },
     "execution_count": 37,
     "metadata": {},
     "output_type": "execute_result"
    }
   ],
   "source": [
    "sample_df = cancer_df.head(5).copy()\n",
    "sample_df['p(x)'] = sample_df.label\n",
    "sample_df"
   ]
  },
  {
   "cell_type": "markdown",
   "metadata": {},
   "source": [
    "age와 tumor_size로 암 유무를 예측한 확률 분포($q(x)$)가 있다고 생각해봅시다.<br>\n",
    "그 결과가 아래에 제공되고 있습니다."
   ]
  },
  {
   "cell_type": "code",
   "execution_count": 38,
   "metadata": {},
   "outputs": [
    {
     "data": {
      "text/html": [
       "<div>\n",
       "<style scoped>\n",
       "    .dataframe tbody tr th:only-of-type {\n",
       "        vertical-align: middle;\n",
       "    }\n",
       "\n",
       "    .dataframe tbody tr th {\n",
       "        vertical-align: top;\n",
       "    }\n",
       "\n",
       "    .dataframe thead th {\n",
       "        text-align: right;\n",
       "    }\n",
       "</style>\n",
       "<table border=\"1\" class=\"dataframe\">\n",
       "  <thead>\n",
       "    <tr style=\"text-align: right;\">\n",
       "      <th></th>\n",
       "      <th>age</th>\n",
       "      <th>tumor_size</th>\n",
       "      <th>label</th>\n",
       "      <th>p(x)</th>\n",
       "      <th>q(x)</th>\n",
       "    </tr>\n",
       "  </thead>\n",
       "  <tbody>\n",
       "    <tr>\n",
       "      <th>0</th>\n",
       "      <td>2.170865</td>\n",
       "      <td>3.087710</td>\n",
       "      <td>0.0</td>\n",
       "      <td>0.0</td>\n",
       "      <td>0.8</td>\n",
       "    </tr>\n",
       "    <tr>\n",
       "      <th>1</th>\n",
       "      <td>8.000731</td>\n",
       "      <td>5.237815</td>\n",
       "      <td>1.0</td>\n",
       "      <td>1.0</td>\n",
       "      <td>0.2</td>\n",
       "    </tr>\n",
       "    <tr>\n",
       "      <th>2</th>\n",
       "      <td>5.248661</td>\n",
       "      <td>5.851058</td>\n",
       "      <td>1.0</td>\n",
       "      <td>1.0</td>\n",
       "      <td>0.2</td>\n",
       "    </tr>\n",
       "    <tr>\n",
       "      <th>3</th>\n",
       "      <td>3.433496</td>\n",
       "      <td>4.278379</td>\n",
       "      <td>0.0</td>\n",
       "      <td>0.0</td>\n",
       "      <td>0.8</td>\n",
       "    </tr>\n",
       "    <tr>\n",
       "      <th>4</th>\n",
       "      <td>2.365321</td>\n",
       "      <td>3.508396</td>\n",
       "      <td>0.0</td>\n",
       "      <td>0.0</td>\n",
       "      <td>0.9</td>\n",
       "    </tr>\n",
       "  </tbody>\n",
       "</table>\n",
       "</div>"
      ],
      "text/plain": [
       "        age  tumor_size  label  p(x)  q(x)\n",
       "0  2.170865    3.087710    0.0   0.0   0.8\n",
       "1  8.000731    5.237815    1.0   1.0   0.2\n",
       "2  5.248661    5.851058    1.0   1.0   0.2\n",
       "3  3.433496    4.278379    0.0   0.0   0.8\n",
       "4  2.365321    3.508396    0.0   0.0   0.9"
      ]
     },
     "execution_count": 38,
     "metadata": {},
     "output_type": "execute_result"
    }
   ],
   "source": [
    "sample_df['q(x)'] = [0.8,0.2,0.2,0.8,0.9]\n",
    "sample_df"
   ]
  },
  {
   "cell_type": "markdown",
   "metadata": {},
   "source": [
    "두 p(x)와 q(x)의 Entropy 차이는 어떻게 구해야 할까요?<br>\n",
    "그 차이는 KL-Divergence 식으로 구할 수 있습니다.\n",
    "\n",
    "$$\n",
    "KL(p||q) = \\sum p(x)logp(x) - p(x)logq(x)\n",
    "$$\n",
    "\n",
    "위의 경우에서 $p(x)$가 가지는 값은 0과 1뿐이므로,<br>\n",
    "$p(x)logp(x)$는 항상 0이 됩니다.<br>\n",
    "\n",
    "이것을 생략하면, 바로 Cross-Entropy의 식이 나타나게 됩니다.<br>\n",
    "\n",
    "$$\n",
    "crossentropy(p,q) = \\sum -p(x)logq(x)\n",
    "$$\n",
    "\n",
    "이제 p의 값이 1일 때와 0일 때를 각각 구분지어서 보면,\n",
    "\n",
    "$$\n",
    "crossentropy(p,q) = -plogq-(1-p)log(1-q)\n",
    "$$"
   ]
  },
  {
   "cell_type": "code",
   "execution_count": 39,
   "metadata": {},
   "outputs": [
    {
     "name": "stdout",
     "output_type": "stream",
     "text": [
      "cross entropy 값 : 0.998\n"
     ]
    }
   ],
   "source": [
    "cross_entropy = -(\n",
    "1*np.log(0.8) + (1-0)*np.log(1-0.2) + (1-0)*np.log(1-0.2)\n",
    "+ 1*np.log(0.8) + 1*np.log(0.9))\n",
    "print(\"cross entropy 값 : {:.3f}\".format(cross_entropy))"
   ]
  },
  {
   "cell_type": "markdown",
   "metadata": {},
   "source": [
    "좀 더 성능이 좋아진 분류기를 통해, 예측을 해보았다고 하자."
   ]
  },
  {
   "cell_type": "code",
   "execution_count": 40,
   "metadata": {},
   "outputs": [
    {
     "data": {
      "text/html": [
       "<div>\n",
       "<style scoped>\n",
       "    .dataframe tbody tr th:only-of-type {\n",
       "        vertical-align: middle;\n",
       "    }\n",
       "\n",
       "    .dataframe tbody tr th {\n",
       "        vertical-align: top;\n",
       "    }\n",
       "\n",
       "    .dataframe thead th {\n",
       "        text-align: right;\n",
       "    }\n",
       "</style>\n",
       "<table border=\"1\" class=\"dataframe\">\n",
       "  <thead>\n",
       "    <tr style=\"text-align: right;\">\n",
       "      <th></th>\n",
       "      <th>age</th>\n",
       "      <th>tumor_size</th>\n",
       "      <th>label</th>\n",
       "      <th>p(x)</th>\n",
       "      <th>q(x)</th>\n",
       "      <th>q2(x)</th>\n",
       "    </tr>\n",
       "  </thead>\n",
       "  <tbody>\n",
       "    <tr>\n",
       "      <th>0</th>\n",
       "      <td>2.170865</td>\n",
       "      <td>3.087710</td>\n",
       "      <td>0.0</td>\n",
       "      <td>0.0</td>\n",
       "      <td>0.8</td>\n",
       "      <td>0.99</td>\n",
       "    </tr>\n",
       "    <tr>\n",
       "      <th>1</th>\n",
       "      <td>8.000731</td>\n",
       "      <td>5.237815</td>\n",
       "      <td>1.0</td>\n",
       "      <td>1.0</td>\n",
       "      <td>0.2</td>\n",
       "      <td>0.01</td>\n",
       "    </tr>\n",
       "    <tr>\n",
       "      <th>2</th>\n",
       "      <td>5.248661</td>\n",
       "      <td>5.851058</td>\n",
       "      <td>1.0</td>\n",
       "      <td>1.0</td>\n",
       "      <td>0.2</td>\n",
       "      <td>0.01</td>\n",
       "    </tr>\n",
       "    <tr>\n",
       "      <th>3</th>\n",
       "      <td>3.433496</td>\n",
       "      <td>4.278379</td>\n",
       "      <td>0.0</td>\n",
       "      <td>0.0</td>\n",
       "      <td>0.8</td>\n",
       "      <td>0.99</td>\n",
       "    </tr>\n",
       "    <tr>\n",
       "      <th>4</th>\n",
       "      <td>2.365321</td>\n",
       "      <td>3.508396</td>\n",
       "      <td>0.0</td>\n",
       "      <td>0.0</td>\n",
       "      <td>0.9</td>\n",
       "      <td>0.99</td>\n",
       "    </tr>\n",
       "  </tbody>\n",
       "</table>\n",
       "</div>"
      ],
      "text/plain": [
       "        age  tumor_size  label  p(x)  q(x)  q2(x)\n",
       "0  2.170865    3.087710    0.0   0.0   0.8   0.99\n",
       "1  8.000731    5.237815    1.0   1.0   0.2   0.01\n",
       "2  5.248661    5.851058    1.0   1.0   0.2   0.01\n",
       "3  3.433496    4.278379    0.0   0.0   0.8   0.99\n",
       "4  2.365321    3.508396    0.0   0.0   0.9   0.99"
      ]
     },
     "execution_count": 40,
     "metadata": {},
     "output_type": "execute_result"
    }
   ],
   "source": [
    "sample_df['q2(x)'] = [0.99,0.01,0.01,0.99,0.99]\n",
    "sample_df"
   ]
  },
  {
   "cell_type": "code",
   "execution_count": 41,
   "metadata": {},
   "outputs": [
    {
     "name": "stdout",
     "output_type": "stream",
     "text": [
      "cross entropy 값 : 0.050\n"
     ]
    }
   ],
   "source": [
    "cross_entropy = -(\n",
    "1*np.log(0.99) + (1-0)*np.log(1-0.01) + (1-0)*np.log(1-0.01)\n",
    "+ 1*np.log(0.99) + 1*np.log(0.99))\n",
    "print(\"cross entropy 값 : {:.3f}\".format(cross_entropy))"
   ]
  },
  {
   "cell_type": "markdown",
   "metadata": {},
   "source": [
    "cross entropy의 값은 크게 줄어든 것을 확인할 수 있습니다.<br>\n",
    "분류기의 학습은 이 Cross entropy가 줄어드는 방향으로 학습을 시키면 됩니다."
   ]
  },
  {
   "cell_type": "markdown",
   "metadata": {},
   "source": [
    "#  \n",
    "\n",
    "---\n",
    "\n",
    "    Copyright(c) 2019 by Public AI. All rights reserved.<br>\n",
    "    Writen by PAI, SangJae Kang ( rocketgrowthsj@publicai.co.kr )  last updated on 2019/03/22\n",
    "\n",
    "---"
   ]
  }
 ],
 "metadata": {
  "kernelspec": {
   "display_name": "Python 3",
   "language": "python",
   "name": "python3"
  },
  "language_info": {
   "codemirror_mode": {
    "name": "ipython",
    "version": 3
   },
   "file_extension": ".py",
   "mimetype": "text/x-python",
   "name": "python",
   "nbconvert_exporter": "python",
   "pygments_lexer": "ipython3",
   "version": "3.6.5"
  }
 },
 "nbformat": 4,
 "nbformat_minor": 2
}
