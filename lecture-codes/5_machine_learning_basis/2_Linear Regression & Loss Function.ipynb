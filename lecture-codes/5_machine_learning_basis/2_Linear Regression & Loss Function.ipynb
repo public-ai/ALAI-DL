{
 "cells": [
  {
   "cell_type": "markdown",
   "metadata": {},
   "source": [
    " ╔══<i><b>Alai-DeepLearning</b></i>════════════════════════════╗\n",
    "###  &nbsp;&nbsp; **✎&nbsp;&nbsp;Week 5. Machine Learning Basis**\n",
    "# Section 2. Linear Regression & Loss Function\n",
    "\n",
    "### _Objective_\n",
    "1. 머신러닝의 알고리즘 중 가장 기본이 되는 선형 회귀에 대해 알아봅니다.<br>\n",
    "2. 선형 회귀를 최적화하기 위한 식인 Loss Function에 대해 알아봅니다.<br>\n",
    "  \n",
    "╚═════════════════════════════════════════╝"
   ]
  },
  {
   "cell_type": "code",
   "execution_count": 1,
   "metadata": {},
   "outputs": [],
   "source": [
    "%matplotlib inline\n",
    "import numpy as np\n",
    "import pandas as pd\n",
    "import tensorflow as tf \n",
    "import matplotlib.pyplot as plt"
   ]
  },
  {
   "cell_type": "markdown",
   "metadata": {},
   "source": [
    "## 예제 데이터 ) 빅데이터로 예측한 '옥자' 관객 수\n",
    "\n",
    "\"이전까지 개봉했던 영화의 보고싶어요 수와 관객 수를 바탕으로, 옥자의 예상 관객 수 예측하기\"\n",
    "\n",
    "reference : [빅데이터로 예측한 옥자 관객 수 727만 명](http://platum.kr/wp-content/uploads/2017/06/unnamed-12.png)\n",
    "![](http://platum.kr/wp-content/uploads/2017/06/unnamed-12.png)"
   ]
  },
  {
   "cell_type": "markdown",
   "metadata": {},
   "source": [
    "| 영화 제목 | 왓챠'보고싶어요' 수 | 총 관객 수(만명) | \n",
    "| ------  | -------        | -----    |\n",
    "| 마션     | 8759           | 487      |\n",
    "| 킹스맨   | 10132           | 612     |\n",
    "| 캡틴아메리카 | 12078         | 866     |\n",
    "| 인터스텔라 | 16430          | 1030    |\n",
    "| 옥자     | 12008          | ?       |"
   ]
  },
  {
   "cell_type": "code",
   "execution_count": 2,
   "metadata": {},
   "outputs": [
    {
     "data": {
      "text/html": [
       "<div>\n",
       "<style scoped>\n",
       "    .dataframe tbody tr th:only-of-type {\n",
       "        vertical-align: middle;\n",
       "    }\n",
       "\n",
       "    .dataframe tbody tr th {\n",
       "        vertical-align: top;\n",
       "    }\n",
       "\n",
       "    .dataframe thead th {\n",
       "        text-align: right;\n",
       "    }\n",
       "</style>\n",
       "<table border=\"1\" class=\"dataframe\">\n",
       "  <thead>\n",
       "    <tr style=\"text-align: right;\">\n",
       "      <th></th>\n",
       "      <th>nums_want_to_see</th>\n",
       "      <th>nums_audience</th>\n",
       "    </tr>\n",
       "  </thead>\n",
       "  <tbody>\n",
       "    <tr>\n",
       "      <th>마션</th>\n",
       "      <td>8759</td>\n",
       "      <td>487</td>\n",
       "    </tr>\n",
       "    <tr>\n",
       "      <th>킹스맨</th>\n",
       "      <td>10132</td>\n",
       "      <td>612</td>\n",
       "    </tr>\n",
       "    <tr>\n",
       "      <th>캡틴아메리카</th>\n",
       "      <td>12078</td>\n",
       "      <td>866</td>\n",
       "    </tr>\n",
       "    <tr>\n",
       "      <th>인터스텔라</th>\n",
       "      <td>16430</td>\n",
       "      <td>1030</td>\n",
       "    </tr>\n",
       "  </tbody>\n",
       "</table>\n",
       "</div>"
      ],
      "text/plain": [
       "        nums_want_to_see  nums_audience\n",
       "마션                  8759            487\n",
       "킹스맨                10132            612\n",
       "캡틴아메리카             12078            866\n",
       "인터스텔라              16430           1030"
      ]
     },
     "execution_count": 2,
     "metadata": {},
     "output_type": "execute_result"
    }
   ],
   "source": [
    "movie_df = pd.DataFrame([\n",
    "    [8759, 487],\n",
    "    [10132,612],\n",
    "    [12078,866],\n",
    "    [16430,1030]],\n",
    "    columns=[\"nums_want_to_see\",\"nums_audience\"])\n",
    "movie_df.index = [\"마션\",\"킹스맨\",\"캡틴아메리카\",\"인터스텔라\"]\n",
    "movie_df"
   ]
  },
  {
   "cell_type": "markdown",
   "metadata": {},
   "source": [
    "<br><br>\n",
    "\n",
    "# \\[ 1. 선형회귀 \\]\n",
    "\n",
    "----\n",
    "\n",
    "----\n",
    "\n",
    "> *선형 회귀는 특징 정보 간의 관계를 **선형**적이라고 가정한 머신러닝 모델입니다.  *<br>\n",
    "> *선형 회귀는 다수의 독립 변수(X)을 바탕으로 종속 변수(Y)와의 상관 관계를 모델링합니다. *"
   ]
  },
  {
   "cell_type": "markdown",
   "metadata": {},
   "source": [
    "<br>\n",
    "\n",
    "## 1. 데이터 확인하기\n",
    "\n",
    "---\n",
    "\n",
    "+ 우리는 데이터를 시각화하여, 우선 독립 변수인 \"보고싶어요\" 수와 종속 변수인 \"총 관객 수\"의 관계를 볼 수 있다.\n"
   ]
  },
  {
   "cell_type": "markdown",
   "metadata": {},
   "source": [
    "### (1) 데이터 산포도 그리기"
   ]
  },
  {
   "cell_type": "code",
   "execution_count": 3,
   "metadata": {},
   "outputs": [
    {
     "data": {
      "image/png": "[encoded data removed]",
      "text/plain": [
       "<Figure size 576x576 with 1 Axes>"
      ]
     },
     "metadata": {},
     "output_type": "display_data"
    }
   ],
   "source": [
    "fig = plt.figure(figsize=(8,8))\n",
    "ax = fig.add_subplot(1,1,1)\n",
    "\n",
    "movie_df.plot(x='nums_want_to_see',y='nums_audience',\n",
    "              kind='scatter', ax=ax, title=\"Movie\")\n",
    "plt.show()"
   ]
  },
  {
   "cell_type": "markdown",
   "metadata": {},
   "source": [
    "우리는 위의 산포도를 통해, 대략적으로 보고싶어요 수 와 총관객수가 선형적인 관계임을 볼 수 있습니다."
   ]
  },
  {
   "cell_type": "markdown",
   "metadata": {},
   "source": [
    "### (2) 대략적인 추세선 그려보기\n",
    "\n",
    "선형 함수의 추세 함수는 아래의 식입니다.<br>\n",
    "우리는 \"보고싶어요\" 수($X$)를 통해 얼마나 많은 고객들이 볼지($\\hat y$)를 예측합니다.\n",
    "\n",
    "$$\n",
    "\\hat y = w_1 x + w_0\n",
    "$$\n",
    "\n",
    "우리는 아래와 같이 추세선을 예상할 수 있습니다."
   ]
  },
  {
   "cell_type": "code",
   "execution_count": 4,
   "metadata": {},
   "outputs": [
    {
     "data": {
      "image/png": "[encoded data removed]",
      "text/plain": [
       "<Figure size 576x576 with 1 Axes>"
      ]
     },
     "metadata": {},
     "output_type": "display_data"
    }
   ],
   "source": [
    "fig = plt.figure(figsize=(8,8))\n",
    "ax = fig.add_subplot(1,1,1)\n",
    "\n",
    "movie_df.plot(x='nums_want_to_see',y='nums_audience',\n",
    "              kind='scatter', ax=ax, title=\"Movie\")\n",
    "\n",
    "plt.plot([8000,18000],[500,1000],'r--')\n",
    "plt.plot([8000,18000],[400,1200],'g--')\n",
    "plt.plot([8000,18000],[300,1500],'b--')\n",
    "\n",
    "plt.show()"
   ]
  },
  {
   "cell_type": "markdown",
   "metadata": {},
   "source": [
    "위의 추세선 별로 예측 함수는 아래와 같습니다."
   ]
  },
  {
   "cell_type": "markdown",
   "metadata": {},
   "source": [
    "\n",
    "* 붉은 색 예측 함수 : $\\hat y_{red} = 0.05x+100$\n",
    "* 초록 색 예측 함수 : $\\hat y_{green} = 0.08x-240$\n",
    "* 파란 색 예측 함수 : $\\hat y_{blue} = 0.12x-600$"
   ]
  },
  {
   "cell_type": "markdown",
   "metadata": {},
   "source": [
    "옥자의 현재 보고싶어요 수는 12,008인데, 각 예측 함수별로 유추한 예상 총 관객수 는"
   ]
  },
  {
   "cell_type": "code",
   "execution_count": 5,
   "metadata": {},
   "outputs": [
    {
     "name": "stdout",
     "output_type": "stream",
     "text": [
      "붉은 색 예측 함수로 보았을 때 총 관객 수 : 700.4만명\n",
      "초록 색 예측 함수로 보았을 때 총 관객 수 : 720.64만명\n",
      "파란 색 예측 함수로 보았을 때 총 관객 수 : 840.96만명\n"
     ]
    }
   ],
   "source": [
    "nums_by_red = 0.05 * 12008 + 100\n",
    "print(\"붉은 색 예측 함수로 보았을 때 총 관객 수 : {}만명\".format(nums_by_red))\n",
    "nums_by_green = 0.08 * 12008 - 240\n",
    "print(\"초록 색 예측 함수로 보았을 때 총 관객 수 : {}만명\".format(nums_by_green))\n",
    "nums_by_red = 0.12 * 12008 - 600\n",
    "print(\"파란 색 예측 함수로 보았을 때 총 관객 수 : {}만명\".format(nums_by_red))"
   ]
  },
  {
   "cell_type": "markdown",
   "metadata": {},
   "source": [
    "이 중에서 어떤 예측이 더 정확한지를 말하기 위해서는<br>\n",
    "어떤 추세선이 더 올바른 추세선인지를 파악할 수 있는 기준이 필요합니다.<br>\n",
    "이러한 기준을 제시하는 것이 바로 손실 함수, 즉 `Loss Function`입니다."
   ]
  },
  {
   "cell_type": "markdown",
   "metadata": {},
   "source": [
    "<br><br>\n",
    "\n",
    "# \\[ 2. 손실 함수 \\]\n",
    "\n",
    "----\n",
    "\n",
    "----\n",
    "\n",
    "> *손실함수는 모델의 가중치를 결정하는 함수로, 실제 값과 가설함수의 차이를 뜻합니다. *<br>"
   ]
  },
  {
   "cell_type": "markdown",
   "metadata": {},
   "source": [
    "<br>\n",
    "\n",
    "## 1. 손실함수 정의\n",
    "\n",
    "---\n",
    "\n",
    "+ 우리는 각 추세선(red,green,blue)이 실제 값과 얼마나 오차가 나오는지를 손실 함수를 통해 계산해보도록 하겠습니다\n",
    "\n",
    "| 추세선(색) | $W_1$ |  $W_0$ |\n",
    "| ----- | ---- | ---- |\n",
    "| Red   | 0.05 | 100  |\n",
    "| Green  | 0.08 | -240 |\n",
    "| Blue | 0.12 | -600 |"
   ]
  },
  {
   "cell_type": "code",
   "execution_count": 6,
   "metadata": {},
   "outputs": [],
   "source": [
    "# 예측 함수 설정하기\n",
    "predict_by_red = lambda x : 0.05*x + 100\n",
    "predict_by_green = lambda x : 0.08*x - 240\n",
    "predict_by_blue = lambda x : 0.12*x - 600"
   ]
  },
  {
   "cell_type": "code",
   "execution_count": 7,
   "metadata": {},
   "outputs": [
    {
     "data": {
      "text/html": [
       "<div>\n",
       "<style scoped>\n",
       "    .dataframe tbody tr th:only-of-type {\n",
       "        vertical-align: middle;\n",
       "    }\n",
       "\n",
       "    .dataframe tbody tr th {\n",
       "        vertical-align: top;\n",
       "    }\n",
       "\n",
       "    .dataframe thead th {\n",
       "        text-align: right;\n",
       "    }\n",
       "</style>\n",
       "<table border=\"1\" class=\"dataframe\">\n",
       "  <thead>\n",
       "    <tr style=\"text-align: right;\">\n",
       "      <th></th>\n",
       "      <th>nums_want_to_see</th>\n",
       "      <th>nums_audience</th>\n",
       "      <th>red 예측 결과</th>\n",
       "      <th>green 예측 결과</th>\n",
       "      <th>blue 예측 결과</th>\n",
       "    </tr>\n",
       "  </thead>\n",
       "  <tbody>\n",
       "    <tr>\n",
       "      <th>마션</th>\n",
       "      <td>8759</td>\n",
       "      <td>487</td>\n",
       "      <td>537.95</td>\n",
       "      <td>460.72</td>\n",
       "      <td>451.08</td>\n",
       "    </tr>\n",
       "    <tr>\n",
       "      <th>킹스맨</th>\n",
       "      <td>10132</td>\n",
       "      <td>612</td>\n",
       "      <td>606.60</td>\n",
       "      <td>570.56</td>\n",
       "      <td>615.84</td>\n",
       "    </tr>\n",
       "    <tr>\n",
       "      <th>캡틴아메리카</th>\n",
       "      <td>12078</td>\n",
       "      <td>866</td>\n",
       "      <td>703.90</td>\n",
       "      <td>726.24</td>\n",
       "      <td>849.36</td>\n",
       "    </tr>\n",
       "    <tr>\n",
       "      <th>인터스텔라</th>\n",
       "      <td>16430</td>\n",
       "      <td>1030</td>\n",
       "      <td>921.50</td>\n",
       "      <td>1074.40</td>\n",
       "      <td>1371.60</td>\n",
       "    </tr>\n",
       "  </tbody>\n",
       "</table>\n",
       "</div>"
      ],
      "text/plain": [
       "        nums_want_to_see  nums_audience  red 예측 결과  green 예측 결과  blue 예측 결과\n",
       "마션                  8759            487     537.95       460.72      451.08\n",
       "킹스맨                10132            612     606.60       570.56      615.84\n",
       "캡틴아메리카             12078            866     703.90       726.24      849.36\n",
       "인터스텔라              16430           1030     921.50      1074.40     1371.60"
      ]
     },
     "execution_count": 7,
     "metadata": {},
     "output_type": "execute_result"
    }
   ],
   "source": [
    "# 예측 함수 적용하기\n",
    "movie_df['red 예측 결과'] = movie_df.nums_want_to_see.apply(predict_by_red)\n",
    "movie_df['green 예측 결과'] = movie_df.nums_want_to_see.apply(predict_by_green)\n",
    "movie_df['blue 예측 결과'] = movie_df.nums_want_to_see.apply(predict_by_blue)\n",
    "movie_df"
   ]
  },
  {
   "cell_type": "markdown",
   "metadata": {},
   "source": [
    "예측한 값과 실제 값이 작을수록 우리는 좋은 예측이라고 말할 수 있습니다.<br>\n",
    "이를 위해 우리는 예측값과 실제 값의 차이를 예측 함수 별로 구해보도록 하겠습니다."
   ]
  },
  {
   "cell_type": "code",
   "execution_count": 8,
   "metadata": {},
   "outputs": [
    {
     "data": {
      "text/html": [
       "<div>\n",
       "<style scoped>\n",
       "    .dataframe tbody tr th:only-of-type {\n",
       "        vertical-align: middle;\n",
       "    }\n",
       "\n",
       "    .dataframe tbody tr th {\n",
       "        vertical-align: top;\n",
       "    }\n",
       "\n",
       "    .dataframe thead th {\n",
       "        text-align: right;\n",
       "    }\n",
       "</style>\n",
       "<table border=\"1\" class=\"dataframe\">\n",
       "  <thead>\n",
       "    <tr style=\"text-align: right;\">\n",
       "      <th></th>\n",
       "      <th>nums_want_to_see</th>\n",
       "      <th>nums_audience</th>\n",
       "      <th>red 예측 결과</th>\n",
       "      <th>green 예측 결과</th>\n",
       "      <th>blue 예측 결과</th>\n",
       "      <th>red error</th>\n",
       "      <th>green error</th>\n",
       "      <th>blue error</th>\n",
       "    </tr>\n",
       "  </thead>\n",
       "  <tbody>\n",
       "    <tr>\n",
       "      <th>마션</th>\n",
       "      <td>8759</td>\n",
       "      <td>487</td>\n",
       "      <td>537.95</td>\n",
       "      <td>460.72</td>\n",
       "      <td>451.08</td>\n",
       "      <td>-50.95</td>\n",
       "      <td>26.28</td>\n",
       "      <td>35.92</td>\n",
       "    </tr>\n",
       "    <tr>\n",
       "      <th>킹스맨</th>\n",
       "      <td>10132</td>\n",
       "      <td>612</td>\n",
       "      <td>606.60</td>\n",
       "      <td>570.56</td>\n",
       "      <td>615.84</td>\n",
       "      <td>5.40</td>\n",
       "      <td>41.44</td>\n",
       "      <td>-3.84</td>\n",
       "    </tr>\n",
       "    <tr>\n",
       "      <th>캡틴아메리카</th>\n",
       "      <td>12078</td>\n",
       "      <td>866</td>\n",
       "      <td>703.90</td>\n",
       "      <td>726.24</td>\n",
       "      <td>849.36</td>\n",
       "      <td>162.10</td>\n",
       "      <td>139.76</td>\n",
       "      <td>16.64</td>\n",
       "    </tr>\n",
       "    <tr>\n",
       "      <th>인터스텔라</th>\n",
       "      <td>16430</td>\n",
       "      <td>1030</td>\n",
       "      <td>921.50</td>\n",
       "      <td>1074.40</td>\n",
       "      <td>1371.60</td>\n",
       "      <td>108.50</td>\n",
       "      <td>-44.40</td>\n",
       "      <td>-341.60</td>\n",
       "    </tr>\n",
       "  </tbody>\n",
       "</table>\n",
       "</div>"
      ],
      "text/plain": [
       "        nums_want_to_see  nums_audience  red 예측 결과  green 예측 결과  blue 예측 결과  \\\n",
       "마션                  8759            487     537.95       460.72      451.08   \n",
       "킹스맨                10132            612     606.60       570.56      615.84   \n",
       "캡틴아메리카             12078            866     703.90       726.24      849.36   \n",
       "인터스텔라              16430           1030     921.50      1074.40     1371.60   \n",
       "\n",
       "        red error  green error  blue error  \n",
       "마션         -50.95        26.28       35.92  \n",
       "킹스맨          5.40        41.44       -3.84  \n",
       "캡틴아메리카     162.10       139.76       16.64  \n",
       "인터스텔라      108.50       -44.40     -341.60  "
      ]
     },
     "execution_count": 8,
     "metadata": {},
     "output_type": "execute_result"
    }
   ],
   "source": [
    "movie_df['red error'] = movie_df.nums_audience - movie_df['red 예측 결과']\n",
    "movie_df['green error'] = movie_df.nums_audience - movie_df['green 예측 결과']\n",
    "movie_df['blue error'] = movie_df.nums_audience - movie_df['blue 예측 결과']\n",
    "movie_df"
   ]
  },
  {
   "cell_type": "markdown",
   "metadata": {},
   "source": [
    "위와 같이 각 예측함수의 예측값과 실제값의 차이를 오차(error)라고 부릅니다.<br>\n",
    "우리는 모델의 성능을 평가하기 위해, 오차를 이용해 기준을 세워야 합니다."
   ]
  },
  {
   "cell_type": "markdown",
   "metadata": {},
   "source": [
    "### (1) 오차의 평균 적용\n",
    "\n",
    "$$\n",
    "\\mbox{오차의 평균} = \\frac{1}{4}\\sum_{movie={\\mbox{4개 영화}}} (\\hat y^{movie} - y^{movie})\n",
    "$$"
   ]
  },
  {
   "cell_type": "code",
   "execution_count": 9,
   "metadata": {},
   "outputs": [
    {
     "data": {
      "text/plain": [
       "red error      56.2625\n",
       "green error    40.7700\n",
       "blue error    -73.2200\n",
       "dtype: float64"
      ]
     },
     "execution_count": 9,
     "metadata": {},
     "output_type": "execute_result"
    }
   ],
   "source": [
    "# 오차의 평균을 적용\n",
    "movie_df[['red error','green error','blue error']].mean()"
   ]
  },
  {
   "cell_type": "markdown",
   "metadata": {},
   "source": [
    "단순히 오차의 평균을 적용하면 아래처럼, 파란 색 선이 가장 오차가 작다고 나타나게 됩니다. <br>\n",
    "이는 오차의 부등호가 +,-가 동시에 존재해, 상쇄되기 때문입니다."
   ]
  },
  {
   "cell_type": "markdown",
   "metadata": {},
   "source": [
    "### (2) 오차 제곱평균 적용\n",
    "\n",
    "$$\n",
    "\\mbox{오차의 제곱평균} = \\frac{1}{4}\\sum_{movie={\\mbox{4개 영화}}} (\\hat y^{movie} - y^{movie})^{2}\n",
    "$$"
   ]
  },
  {
   "cell_type": "code",
   "execution_count": 10,
   "metadata": {},
   "outputs": [
    {
     "data": {
      "text/plain": [
       "red error      10168.430625\n",
       "green error     5978.032400\n",
       "blue error     29568.110400\n",
       "dtype: float64"
      ]
     },
     "execution_count": 10,
     "metadata": {},
     "output_type": "execute_result"
    }
   ],
   "source": [
    "# 오차의 제곱 평균을 적용\n",
    "(movie_df[['red error','green error','blue error']] ** 2).mean()"
   ]
  },
  {
   "cell_type": "markdown",
   "metadata": {},
   "source": [
    "이 경우 우리는 초록 색선이 가장 오차가 작다고 나타나게 됩니다. <br>\n",
    "직관적으로 바라보았을 때에도 초록색선이 가장 오차가 적게 보입니다. <br>\n",
    "MSE(Mean-Squared-Error)라 불리는 위의 수식은 이후에도 자주 쓰이는 손실 함수 중 하나입니다."
   ]
  },
  {
   "cell_type": "markdown",
   "metadata": {},
   "source": [
    "<br>\n",
    "\n",
    "## 2. Grid Search로 최적의 가중치 찾기\n",
    "\n",
    "---\n",
    "\n",
    "+ 손실함수를 가장 적게 하는 최적의 weight는 무엇일까요? 이를 구하는 가장 간단한 방법은 모든 조합의 weight들을 넣어보는 것입니다."
   ]
  },
  {
   "cell_type": "markdown",
   "metadata": {},
   "source": [
    "### (0) 수식으로 해석하기\n",
    "\n",
    "우리가 목표로 하는 것은 \n",
    "$$\n",
    "Loss =\\frac{1}{2m}\\sum^{m}_{i=1}(\\hat y^{(i)}-y^{(i)})^2\n",
    "$$\n",
    "를 최소화하는 Weight를 찾는 것입니다.<br>"
   ]
  },
  {
   "cell_type": "markdown",
   "metadata": {},
   "source": [
    "### (1) 가중치 조합 만들기\n",
    "\n",
    "우리는 가능한 가중치의 조합을 만들어보고자 합니다."
   ]
  },
  {
   "cell_type": "code",
   "execution_count": 11,
   "metadata": {},
   "outputs": [
    {
     "data": {
      "text/plain": [
       "array([[-1000.       ,    -1.       ],\n",
       "       [ -979.7979798,    -1.       ],\n",
       "       [ -959.5959596,    -1.       ],\n",
       "       ...,\n",
       "       [  959.5959596,     1.       ],\n",
       "       [  979.7979798,     1.       ],\n",
       "       [ 1000.       ,     1.       ]])"
      ]
     },
     "execution_count": 11,
     "metadata": {},
     "output_type": "execute_result"
    }
   ],
   "source": [
    "W0s = np.linspace(-1000,1000,100)\n",
    "W1s = np.linspace(-1,1,100)\n",
    "\n",
    "points = np.stack(np.meshgrid(W0s,W1s),axis=-1) # 가중치 조합 만들기\n",
    "points = points.reshape(-1,2)\n",
    "points"
   ]
  },
  {
   "cell_type": "markdown",
   "metadata": {},
   "source": [
    "### (2) 손실함수값 계산하기\n",
    "\n",
    "$$\n",
    "Loss =\\frac{1}{2m}\\sum^{m}_{i=1}(\\hat y^{(i)}-y^{(i)})^2\n",
    "$$"
   ]
  },
  {
   "cell_type": "code",
   "execution_count": 22,
   "metadata": {},
   "outputs": [],
   "source": [
    "def calculate_MSE(W0, W1):\n",
    "    X = movie_df.nums_want_to_see # 독립 변수, 보고싶어요 수\n",
    "    y_true = movie_df.nums_audience # 실제값\n",
    "\n",
    "    y_pred = W1*X+W0 # 가중치 조합을 통한 예측값\n",
    "    return ((y_true - y_pred)**2).mean() # MSE"
   ]
  },
  {
   "cell_type": "code",
   "execution_count": 23,
   "metadata": {},
   "outputs": [],
   "source": [
    "losses = []\n",
    "for W0, W1 in points:\n",
    "    loss = calculate_MSE(W0, W1)\n",
    "    losses.append(loss)\n",
    "losses = np.array(losses)"
   ]
  },
  {
   "cell_type": "markdown",
   "metadata": {},
   "source": [
    "### (3) 가중치 별 손실값 확인하기"
   ]
  },
  {
   "cell_type": "code",
   "execution_count": 24,
   "metadata": {},
   "outputs": [
    {
     "data": {
      "text/html": [
       "<div>\n",
       "<style scoped>\n",
       "    .dataframe tbody tr th:only-of-type {\n",
       "        vertical-align: middle;\n",
       "    }\n",
       "\n",
       "    .dataframe tbody tr th {\n",
       "        vertical-align: top;\n",
       "    }\n",
       "\n",
       "    .dataframe thead th {\n",
       "        text-align: right;\n",
       "    }\n",
       "</style>\n",
       "<table border=\"1\" class=\"dataframe\">\n",
       "  <thead>\n",
       "    <tr style=\"text-align: right;\">\n",
       "      <th></th>\n",
       "      <th>W0</th>\n",
       "      <th>W1</th>\n",
       "      <th>Loss</th>\n",
       "    </tr>\n",
       "  </thead>\n",
       "  <tbody>\n",
       "    <tr>\n",
       "      <th>10</th>\n",
       "      <td>-797.979798</td>\n",
       "      <td>-1.000000</td>\n",
       "      <td>1.890737e+08</td>\n",
       "    </tr>\n",
       "    <tr>\n",
       "      <th>7518</th>\n",
       "      <td>-636.363636</td>\n",
       "      <td>0.515152</td>\n",
       "      <td>2.393409e+07</td>\n",
       "    </tr>\n",
       "    <tr>\n",
       "      <th>31</th>\n",
       "      <td>-373.737374</td>\n",
       "      <td>-1.000000</td>\n",
       "      <td>1.778869e+08</td>\n",
       "    </tr>\n",
       "    <tr>\n",
       "      <th>2231</th>\n",
       "      <td>-373.737374</td>\n",
       "      <td>-0.555556</td>\n",
       "      <td>6.266530e+07</td>\n",
       "    </tr>\n",
       "    <tr>\n",
       "      <th>7741</th>\n",
       "      <td>-171.717172</td>\n",
       "      <td>0.555556</td>\n",
       "      <td>3.404377e+07</td>\n",
       "    </tr>\n",
       "    <tr>\n",
       "      <th>7377</th>\n",
       "      <td>555.555556</td>\n",
       "      <td>0.474747</td>\n",
       "      <td>3.088606e+07</td>\n",
       "    </tr>\n",
       "    <tr>\n",
       "      <th>4856</th>\n",
       "      <td>131.313131</td>\n",
       "      <td>-0.030303</td>\n",
       "      <td>1.042046e+06</td>\n",
       "    </tr>\n",
       "    <tr>\n",
       "      <th>1509</th>\n",
       "      <td>-818.181818</td>\n",
       "      <td>-0.696970</td>\n",
       "      <td>1.014868e+08</td>\n",
       "    </tr>\n",
       "    <tr>\n",
       "      <th>5294</th>\n",
       "      <td>898.989899</td>\n",
       "      <td>0.050505</td>\n",
       "      <td>5.674027e+05</td>\n",
       "    </tr>\n",
       "    <tr>\n",
       "      <th>1133</th>\n",
       "      <td>-333.333333</td>\n",
       "      <td>-0.777778</td>\n",
       "      <td>1.120941e+08</td>\n",
       "    </tr>\n",
       "  </tbody>\n",
       "</table>\n",
       "</div>"
      ],
      "text/plain": [
       "              W0        W1          Loss\n",
       "10   -797.979798 -1.000000  1.890737e+08\n",
       "7518 -636.363636  0.515152  2.393409e+07\n",
       "31   -373.737374 -1.000000  1.778869e+08\n",
       "2231 -373.737374 -0.555556  6.266530e+07\n",
       "7741 -171.717172  0.555556  3.404377e+07\n",
       "7377  555.555556  0.474747  3.088606e+07\n",
       "4856  131.313131 -0.030303  1.042046e+06\n",
       "1509 -818.181818 -0.696970  1.014868e+08\n",
       "5294  898.989899  0.050505  5.674027e+05\n",
       "1133 -333.333333 -0.777778  1.120941e+08"
      ]
     },
     "execution_count": 24,
     "metadata": {},
     "output_type": "execute_result"
    }
   ],
   "source": [
    "points_with_loss = np.concatenate([points,\n",
    "                                   losses.reshape(-1,1)],\n",
    "                                  axis=1)\n",
    "\n",
    "loss_df = pd.DataFrame(points_with_loss,columns=['W0','W1','Loss'])\n",
    "loss_df.sample(10)"
   ]
  },
  {
   "cell_type": "markdown",
   "metadata": {},
   "source": [
    "### (4) 최적의 조합 찾기"
   ]
  },
  {
   "cell_type": "code",
   "execution_count": 25,
   "metadata": {},
   "outputs": [
    {
     "data": {
      "text/plain": [
       "W0       -90.909091\n",
       "W1         0.070707\n",
       "Loss    3538.206305\n",
       "Name: 5345, dtype: float64"
      ]
     },
     "execution_count": 25,
     "metadata": {},
     "output_type": "execute_result"
    }
   ],
   "source": [
    "loss_df.sort_values('Loss').iloc[0] # Loss가 가장적은 weight"
   ]
  },
  {
   "cell_type": "markdown",
   "metadata": {},
   "source": [
    "이것으로 우리는 Loss가 가장 적은 가중치 조합이 $(W_0,W_1)=(-90.9,0.07)$임을 알 수 있다."
   ]
  },
  {
   "cell_type": "markdown",
   "metadata": {},
   "source": [
    "### (5) 가중치 시각화\n",
    "\n",
    "모든 가중치에 대한 Loss 값을 시각화해 보겠습니다."
   ]
  },
  {
   "cell_type": "code",
   "execution_count": 26,
   "metadata": {},
   "outputs": [
    {
     "data": {
      "image/png": "[encoded data removed]",
      "text/plain": [
       "<Figure size 720x720 with 1 Axes>"
      ]
     },
     "metadata": {},
     "output_type": "display_data"
    }
   ],
   "source": [
    "from mpl_toolkits.mplot3d import Axes3D\n",
    "from matplotlib import cm\n",
    "\n",
    "surf_value = loss_df.values.reshape(100,100,3)\n",
    "\n",
    "fig = plt.figure(figsize=(10,10))\n",
    "ax = fig.gca(projection='3d')\n",
    "surf = ax.plot_surface(X=surf_value[:,:,0],\n",
    "                       Y=surf_value[:,:,1],\n",
    "                       Z=surf_value[:,:,2],\n",
    "                       cmap=cm.coolwarm,\n",
    "                       linewidth=0,\n",
    "                       antialiased=False)\n",
    "ax.view_init(azim=60)\n",
    "ax.set_xlabel('W0')\n",
    "ax.set_ylabel('W1')\n",
    "ax.set_zlabel('Loss')\n",
    "plt.show()"
   ]
  },
  {
   "cell_type": "markdown",
   "metadata": {},
   "source": [
    "우리는 위의 함수를 통해, 손실함수가 볼록한 형태(Convex)임을 알 수 있다.<br>\n",
    "위와 같이 Grid Search을 할 경우, 수만번의 연산이 필요하다.<br>\n",
    "우리는 보다 적은 횟수로 손실함수의 최솟값을 찾아낼 수 있는<br>\n",
    "Gradient Descent 방법을 다음 시간에 배워보도록 한다."
   ]
  },
  {
   "cell_type": "markdown",
   "metadata": {},
   "source": [
    "#  \n",
    "\n",
    "---\n",
    "\n",
    "    Copyright(c) 2019 by Public AI. All rights reserved.<br>\n",
    "    Writen by PAI, SangJae Kang ( rocketgrowthsj@publicai.co.kr )  last updated on 2019/03/22\n",
    "\n",
    "---"
   ]
  }
 ],
 "metadata": {
  "kernelspec": {
   "display_name": "Python 3",
   "language": "python",
   "name": "python3"
  },
  "language_info": {
   "codemirror_mode": {
    "name": "ipython",
    "version": 3
   },
   "file_extension": ".py",
   "mimetype": "text/x-python",
   "name": "python",
   "nbconvert_exporter": "python",
   "pygments_lexer": "ipython3",
   "version": "3.6.5"
  }
 },
 "nbformat": 4,
 "nbformat_minor": 2
}
