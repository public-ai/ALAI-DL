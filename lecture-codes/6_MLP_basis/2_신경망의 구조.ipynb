{
 "cells": [
  {
   "cell_type": "markdown",
   "metadata": {},
   "source": [
    " ╔══<i><b>Alai-DeepLearning</b></i>════════════════════════════╗\n",
    "###  &nbsp;&nbsp; **✎&nbsp;&nbsp;Week 6. MLP Basis**\n",
    "# Section 2. 신경망의 구조\n",
    "\n",
    "### _Objective_\n",
    "1. 신경망의 기본적인 구조들에 대해 배워보도록 하겠습니다.<br>\n",
    "2. 활성화 함수에 대해 배워보도록 하겠습니다. <br>\n",
    "3. 순전파의 과정에 대해 배워보도록 하겠습니다.\n",
    "  \n",
    "╚═════════════════════════════════════════╝"
   ]
  },
  {
   "cell_type": "code",
   "execution_count": 1,
   "metadata": {},
   "outputs": [],
   "source": [
    "%matplotlib inline\n",
    "import numpy as np\n",
    "import matplotlib.pyplot as plt"
   ]
  },
  {
   "cell_type": "markdown",
   "metadata": {},
   "source": [
    "<br><br>\n",
    "\n",
    "# \\[ 1. 신경망의 구조 \\]\n",
    "\n",
    "----\n",
    "\n",
    "----\n",
    "\n",
    "> *신경망은 기본적으로 입력층, 은닉층, 출력층으로 구성되어 있습니다. *<br>"
   ]
  },
  {
   "cell_type": "markdown",
   "metadata": {},
   "source": [
    "## 1. 입력층, 은닉층, 출력층\n",
    "---\n",
    "\n",
    "![Imgur](https://i.imgur.com/kg4JBzd.png)\n",
    "\n",
    "* 모든 신경망에는 3가지 종류의 층을 가지고 있습니다. <br>\n",
    "    * 입력 신호를 받는 Input Layer\n",
    "    * 출력 값을 반환하는 Output Layer($\\hat y$)\n",
    "    * 중간 층인 Hidden Layer\n"
   ]
  },
  {
   "cell_type": "markdown",
   "metadata": {},
   "source": [
    "XOR 문제에서 바라보면\n",
    "\n",
    "![](https://upload.wikimedia.org/wikipedia/commons/a/a2/254px_3gate_XOR.jpg)\n",
    "\n",
    "* 입력 신호인 A,B는 Input Layer\n",
    "* XOR 출력값은 Output Layer\n",
    "* 중간 AND, OR 연산 출력값은 Hidden Layer로 구성되어 있습니다."
   ]
  },
  {
   "cell_type": "markdown",
   "metadata": {},
   "source": [
    "## 2. 신경망의 표기법\n",
    "---\n",
    "\n",
    "![Imgur](https://i.imgur.com/6JPsDg3.png)\n",
    "\n",
    "신경망을 우리가 표시할 때에는 몇 가지 관례(Convention)이 존재합니다.<br>\n",
    "논문이나 책의 저자 마다 약간씩 표기방법(Notation)이 다르지만,<br>\n",
    "대체로 사용되고 있는 표기에 대해 논의하겠습니다."
   ]
  },
  {
   "cell_type": "markdown",
   "metadata": {},
   "source": [
    "### (1) Unit와 Layer\n",
    "우리는 각 뉴런들 하나하나를 신경망에서는 Unit라고 부르고,<br>\n",
    "각 층마다의 뉴런들의 집합을 Layer라고 부릅니다.\n",
    "\n",
    "위의 신경망은 모두 3층으로 구성되어있지만, 가중치를 갖는 층은 2개 뿐이기 때문에<br>\n",
    "보통 \"2층 신경망\"이라고 부릅니다.<br>\n",
    "\n",
    "관례상 입력층은 0번째 층으로 표기하고, 입력층을 제외한 나머지 층의 갯수를 헤아립니다."
   ]
  },
  {
   "cell_type": "markdown",
   "metadata": {},
   "source": [
    "### (2) Node와 Layer의 표기법\n",
    "\n",
    "각 Unit에는 \n",
    "* \"몇번째 층에서의\", \n",
    "* \"몇 번째의 Unit\"\n",
    "\n",
    "인지를 표기해야 합니다.\n",
    "\n",
    "이를 위해 위첨자는 주로 \"층의 번호\"를 기록하고,<br>\n",
    "아랫첨자는 주로 원소의 index를 입력합니다.\n",
    "\n"
   ]
  },
  {
   "cell_type": "markdown",
   "metadata": {},
   "source": [
    "### (3) Weight(가중치)와 Bias(편향)의 표기법\n",
    "\n",
    "각 Unit에서는 가중치와 편향이 존재합니다. \n",
    "\n",
    "![Imgur](https://i.imgur.com/nAN8Nkm.png)\n",
    "\n",
    "Unit 별로 가중치와 편향이 존재하기 때문에, Node의 Notation처럼 표기하게 됩니다."
   ]
  },
  {
   "cell_type": "markdown",
   "metadata": {},
   "source": [
    "이 떄 주의해야 하는 것 중 하나는 유닛의 Weight는 단일 값이 아닌 벡터라는 것입니다.<br>\n",
    "한 유닛의 Weight는 이전 층의 유닛들에 각각 존재하기 때문에,<br>\n",
    "Weight 중 한 원소는 다음처럼 구성됩니다.\n",
    "\n",
    "![Imgur](https://i.imgur.com/xSBmlUZ.png)"
   ]
  },
  {
   "cell_type": "markdown",
   "metadata": {},
   "source": [
    "각 Weight의 원소 별 표기는 아래처럼 되어 있습니다.\n",
    "\n",
    "![Imgur](https://i.imgur.com/f0BQTzh.png)"
   ]
  },
  {
   "cell_type": "markdown",
   "metadata": {},
   "source": [
    "### (4) 각 Layer의 차원\n",
    "\n",
    "위의 신경망에서 차원 수를 헤아려보면,\n",
    "\n",
    "* 입력층 : $(x_1,x_2,x_3)$으로 3차원\n",
    "* 은닉층 : $(a_1^{[1]},a_2^{[1]},a_3^{[1]},a_4^{[1]})$으로 4차원\n",
    "* 출력층 : $a^{[2]}$으로 1차원\n"
   ]
  },
  {
   "cell_type": "markdown",
   "metadata": {},
   "source": [
    "### (5) 각 Weight의 차원\n",
    "\n",
    "각 유닛 별 가중치는 연결되어 있는 이전 층의 유닛수만큼 존재해야 합니다.\n",
    "\n",
    "* $w^{[1]}$의 shape : (은닉층의 unit 수,입력층의 unit 수) = (4,3)\n",
    "* $w^{[2]}$의 shape : (출력층의 unit 수,은닉층의 unit 수) = (1,4)"
   ]
  },
  {
   "cell_type": "markdown",
   "metadata": {},
   "source": [
    "### (6) 각 bias의 차원\n",
    "\n",
    "각 유닛 별 Bias는 하나씩 존재합니다.\n",
    "\n",
    "* $b^{[1]}$의 shape : (은닉층의 unit 수) = (4)\n",
    "* $b^{[2]}$의 shape : (출력층의 unit 수) = (1)"
   ]
  },
  {
   "cell_type": "markdown",
   "metadata": {},
   "source": [
    "<br><br>\n",
    "\n",
    "# \\[ 2. 순전파 \\]\n",
    "\n",
    "----\n",
    "\n",
    "----\n",
    "\n",
    "> *순전파란 입력층부터 출력층까지 각 층을 거쳐가며 신호가 타고넘어가는 일련의 과정을 뜻합니다*<br>\n",
    "> *모델이 가지고 있는 가중치를 가지고, 우리가 원하는 형태의 결과값을 반환하기 위한 과정입니다.*<br>\n"
   ]
  },
  {
   "cell_type": "markdown",
   "metadata": {},
   "source": [
    "## 1. 유닛의 연산\n",
    "---\n",
    "* 유닛의 연산은 기본적으로 이전 Chapter에서 다룬 Logistic Classification과 매우 닮아 있습니다.<br>\n",
    "* 로지스틱 회귀 모델은 아래의 두 단계로 이루어져 있습니다.<br>\n",
    "$\n",
    "z = w_0 + w_1x_1 + w_2x_2 + w_3x_3\\\\\n",
    "a = \\sigma(z) = \\frac{1}{1+e^{-z}}\n",
    "$"
   ]
  },
  {
   "cell_type": "markdown",
   "metadata": {},
   "source": [
    "![Imgur](https://i.imgur.com/26G8oSL.png)"
   ]
  },
  {
   "cell_type": "markdown",
   "metadata": {},
   "source": [
    "유닛의 연산도 로지스틱 회귀와 동일하게 두단계로 이루어집니다.\n",
    "\n",
    "1. 로짓(z)를 계산하는 왼쪽 부분\n",
    "2. 활성화함수($\\sigma$)를 거치는 오른쪽 부분"
   ]
  },
  {
   "cell_type": "markdown",
   "metadata": {},
   "source": [
    "### (1) 유닛의 로짓 값 구하기\n",
    "\n",
    "은닉층의 유닛($z^{[1]}_1$)을 계산하기 위해서 <br>\n",
    "우리는 가중치인 $W^{[1]}_1$과 bias인 $b^{[1]}_1$이 필요합니다.\n",
    "\n",
    "$$\n",
    "z^{[1]}_1 = W^{[1]}_1X + b^{[1]}_1\n",
    "$$\n",
    "이를 원소 별로 풀어서 본다면 아래와 같습니다.\n",
    "\n",
    "$$\n",
    "z^{[1]}_1 = \\left[ w^{[1]}_{1,1}, w^{[1]}_{1,2},w^{[1]}_{1,3} \\right]\\cdot \\left[x_1,x_2,x_3 \\right]^T + b^{[1]}_1\n",
    "$$"
   ]
  },
  {
   "cell_type": "markdown",
   "metadata": {},
   "source": [
    "은닉층 모든 유닛을 원소 별로 풀어서 본다면 아래와 같습니다."
   ]
  },
  {
   "cell_type": "markdown",
   "metadata": {},
   "source": [
    "$$\n",
    "z^{[1]}_1 = \\left[ w^{[1]}_{1,1}, w^{[1]}_{1,2},w^{[1]}_{1,3} \\right]\\cdot \\left[x_1,x_2,x_3 \\right]^T + b^{[1]}_1\\\\\n",
    "z^{[1]}_2 = \\left[ w^{[1]}_{2,1}, w^{[1]}_{2,2},w^{[1]}_{2,3} \\right]\\cdot \\left[x_1,x_2,x_3 \\right]^T + b^{[1]}_2\\\\\n",
    "z^{[1]}_3 = \\left[ w^{[1]}_{3,1}, w^{[1]}_{3,2},w^{[1]}_{3,3} \\right]\\cdot \\left[x_1,x_2,x_3 \\right]^T + b^{[1]}_3\\\\\n",
    "z^{[1]}_4 = \\left[ w^{[1]}_{4,1}, w^{[1]}_{4,2},w^{[1]}_{4,3} \\right]\\cdot \\left[x_1,x_2,x_3 \\right]^T + b^{[1]}_4\\\\\n",
    "$$"
   ]
  },
  {
   "cell_type": "markdown",
   "metadata": {},
   "source": [
    "노드 수가 더 늘어나게 되면, 우리는 위와같이 표기하는 것이 어려워집니다.\n",
    "\n",
    "그래서 주로 우리는 아래와 같이 Matrix로 표기하게 됩니다.\n",
    "$$\n",
    "\\begin{bmatrix}\n",
    "z^{[1]}_1\\\\\n",
    "z^{[1]}_2\\\\\n",
    "z^{[1]}_3\\\\\n",
    "z^{[1]}_4\n",
    "\\end{bmatrix} = \\begin{bmatrix}\n",
    "w^{[1]}_{1,1}, w^{[1]}_{1,2},w^{[1]}_{1,3} \\\\\n",
    "w^{[1]}_{2,1}, w^{[1]}_{2,2},w^{[1]}_{2,3} \\\\\n",
    "w^{[1]}_{3,1}, w^{[1]}_{3,2},w^{[1]}_{3,3} \\\\\n",
    "w^{[1]}_{4,1}, w^{[1]}_{4,2},w^{[1]}_{4,3} \\\\\n",
    "\\end{bmatrix} \\cdot \\begin{bmatrix}\n",
    "x^{[1]}_1\\\\\n",
    "x^{[1]}_2\\\\\n",
    "x^{[1]}_3\n",
    "\\end{bmatrix} + \\begin{bmatrix}\n",
    "b^{[1]}_1\\\\\n",
    "b^{[1]}_2\\\\\n",
    "b^{[1]}_3\\\\\n",
    "b^{[1]}_4\n",
    "\\end{bmatrix}\n",
    "$$\n",
    "----\n",
    "\n",
    "---\n",
    "$\n",
    "z^{[1]} = \\begin{bmatrix}\n",
    "z^{[1]}_1\\\\\n",
    "z^{[1]}_2\\\\\n",
    "z^{[1]}_3\\\\\n",
    "z^{[1]}_4\n",
    "\\end{bmatrix}\n",
    "$\n",
    "$\n",
    "W^{[1]} = \\begin{bmatrix}\n",
    "w^{[1]}_{1,1}, w^{[1]}_{1,2},w^{[1]}_{1,3} \\\\\n",
    "w^{[1]}_{2,1}, w^{[1]}_{2,2},w^{[1]}_{2,3} \\\\\n",
    "w^{[1]}_{3,1}, w^{[1]}_{3,2},w^{[1]}_{3,3} \\\\\n",
    "w^{[1]}_{4,1}, w^{[1]}_{4,2},w^{[1]}_{4,3} \\\\\n",
    "\\end{bmatrix}\n",
    "$, \n",
    "$\n",
    "X^{[1]} = \\begin{bmatrix}\n",
    "x^{[1]}_1\\\\\n",
    "x^{[1]}_2\\\\\n",
    "x^{[1]}_3\n",
    "\\end{bmatrix}\n",
    "$, \n",
    "$\n",
    "b^{[1]} = \\begin{bmatrix}\n",
    "b^{[1]}_1\\\\\n",
    "b^{[1]}_2\\\\\n",
    "b^{[1]}_3\\\\\n",
    "b^{[1]}_4\n",
    "\\end{bmatrix}\n",
    "$\n",
    "\n",
    "---\n",
    "$\n",
    "z^{[1]}_1 = W^{[1]}_1X + b^{[1]}_1\n",
    "$\n",
    "\n",
    "와 같이 식이 정리되게 됩니다."
   ]
  },
  {
   "cell_type": "markdown",
   "metadata": {},
   "source": [
    "### (2) 활성화함수(Activation)를 통한 활성화값 구하기\n",
    "\n",
    "딥러닝에서 가장 핵심이 되는 함수 중 하나가 바로 활성화함수입니다.<br>\n",
    "활성화함수의 존재로 우리는 선형 함수 외, 비선형 모델을 적용할 수 있게 되었습니다.\n",
    "\n",
    "로지스틱회귀에서의 비선형 함수는 로지스틱(sigmoid) 함수입니다.\n",
    "$$\n",
    "logistic(z) = \\frac{1}{1+e^{-z}}\n",
    "$$"
   ]
  },
  {
   "cell_type": "code",
   "execution_count": 2,
   "metadata": {},
   "outputs": [],
   "source": [
    "real_values = np.linspace(-10,10,100)\n",
    "logistics = np.array([1/(1+np.exp(-value)) for value in real_values])"
   ]
  },
  {
   "cell_type": "code",
   "execution_count": 3,
   "metadata": {},
   "outputs": [
    {
     "data": {
      "image/png": "[encoded data removed]",
      "text/plain": [
       "<Figure size 432x288 with 1 Axes>"
      ]
     },
     "metadata": {},
     "output_type": "display_data"
    }
   ],
   "source": [
    "plt.plot(real_values, logistics)\n",
    "plt.title(\"logistic Function\")\n",
    "plt.xlabel('Real Value')\n",
    "plt.ylabel('Probs')\n",
    "plt.show()"
   ]
  },
  {
   "cell_type": "markdown",
   "metadata": {},
   "source": [
    "각 유닛의 출력값은 로짓값($z$)을 받아 활성화 함수를 거쳐 나오게 됩니다.\n",
    "$$\n",
    "a^{[1]}_1= \\sigma(z^{[1]}_1)\n",
    "$$\n",
    "\n",
    "각 층은 유닛 별로 활성화 함수를 거치게 됩니다.\n",
    "\n",
    "$\n",
    "\\begin{bmatrix}\n",
    "a^{[1]}_1\\\\\n",
    "a^{[1]}_2\\\\\n",
    "a^{[1]}_3\\\\\n",
    "a^{[1]}_4\n",
    "\\end{bmatrix} = \\begin{bmatrix}\n",
    "\\sigma(z^{[1]}_1)\\\\\n",
    "\\sigma(z^{[1]}_2)\\\\\n",
    "\\sigma(z^{[1]}_3)\\\\\n",
    "\\sigma(z^{[1]}_4)\n",
    "\\end{bmatrix}\n",
    "$\n",
    "\n",
    "위의 수식도 행렬로 표현하면 아래처럼 요약할 수 있습니다.\n",
    "\n",
    "$a^{[1]}=\\sigma(z^{[1]})$"
   ]
  },
  {
   "cell_type": "markdown",
   "metadata": {},
   "source": [
    "## 2. 순전파 연산\n",
    "---\n",
    "* 입력값은 각층의 유닛을 타고 로짓과 활성화함수를 거쳐 출력값으로 나오게 됩니다.<br>\n",
    "* 예제를 풀면서 값이 어떻게 전파되어 가는지 배워보도록 하겠습니다.\n",
    "\n",
    "![Imgur](https://i.imgur.com/nyrGvdv.png)"
   ]
  },
  {
   "cell_type": "markdown",
   "metadata": {},
   "source": [
    "### (1) 값 정의하기\n",
    "신경망 내 모든 값들은 기본적으로 행렬로 처리합니다."
   ]
  },
  {
   "cell_type": "code",
   "execution_count": 4,
   "metadata": {},
   "outputs": [
    {
     "name": "stdout",
     "output_type": "stream",
     "text": [
      "x의 shape  : (2, 1)\n",
      "w1의 shape : (2, 2)\n",
      "b1의 shape : (2, 1)\n",
      "w2의 shape : (1, 2)\n",
      "b2의 shape : (1, 1)\n"
     ]
    }
   ],
   "source": [
    "x = np.array([[0.3],\n",
    "              [0.7]])\n",
    "\n",
    "# 은닉층의 weight와 bias\n",
    "w1 = np.array([[0.2,-0.3],\n",
    "              [-0.4,0.6]])\n",
    "b1 = np.array([[0.4],\n",
    "               [0.1]])\n",
    "\n",
    "# 출력층의 weight와 bias\n",
    "w2 = np.array([[0.8,0.5]])\n",
    "b2 = np.array([[0.3]])\n",
    "\n",
    "print(\"x의 shape  : {}\".format(x.shape))\n",
    "print(\"w1의 shape : {}\".format(w1.shape))\n",
    "print(\"b1의 shape : {}\".format(b1.shape))\n",
    "print(\"w2의 shape : {}\".format(w2.shape))\n",
    "print(\"b2의 shape : {}\".format(b2.shape))"
   ]
  },
  {
   "cell_type": "markdown",
   "metadata": {},
   "source": [
    "### (2) 은닉층 계산하기 "
   ]
  },
  {
   "cell_type": "code",
   "execution_count": 5,
   "metadata": {},
   "outputs": [
    {
     "data": {
      "text/plain": [
       "array([[0.25],\n",
       "       [0.4 ]])"
      ]
     },
     "execution_count": 5,
     "metadata": {},
     "output_type": "execute_result"
    }
   ],
   "source": [
    "z1 = np.matmul(w1,x) + b1 # logit 계산하기\n",
    "z1"
   ]
  },
  {
   "cell_type": "code",
   "execution_count": 6,
   "metadata": {},
   "outputs": [
    {
     "data": {
      "text/plain": [
       "array([[0.5621765 ],\n",
       "       [0.59868766]])"
      ]
     },
     "execution_count": 6,
     "metadata": {},
     "output_type": "execute_result"
    }
   ],
   "source": [
    "a1 = 1 / (1+np.exp(-z1)) # sigmoid 적용하기\n",
    "a1"
   ]
  },
  {
   "cell_type": "markdown",
   "metadata": {},
   "source": [
    "### (3) 출력층 계산하기"
   ]
  },
  {
   "cell_type": "code",
   "execution_count": 7,
   "metadata": {},
   "outputs": [
    {
     "data": {
      "text/plain": [
       "array([[1.04908503]])"
      ]
     },
     "execution_count": 7,
     "metadata": {},
     "output_type": "execute_result"
    }
   ],
   "source": [
    "z2 = np.matmul(w2,a1) + b2 # Logit 계산하기\n",
    "z2"
   ]
  },
  {
   "cell_type": "code",
   "execution_count": 8,
   "metadata": {},
   "outputs": [
    {
     "data": {
      "text/plain": [
       "array([[0.74059916]])"
      ]
     },
     "execution_count": 8,
     "metadata": {},
     "output_type": "execute_result"
    }
   ],
   "source": [
    "a2 = 1/(1+np.exp(-z2)) # 최종 출력값 산출하기\n",
    "a2"
   ]
  },
  {
   "cell_type": "markdown",
   "metadata": {},
   "source": [
    "#  \n",
    "\n",
    "---\n",
    "\n",
    "    Copyright(c) 2019 by Public AI. All rights reserved.<br>\n",
    "    Writen by PAI, SangJae Kang ( rocketgrowthsj@publicai.co.kr )  last updated on 2019/03/29\n",
    "\n",
    "---"
   ]
  }
 ],
 "metadata": {
  "kernelspec": {
   "display_name": "Python 3",
   "language": "python",
   "name": "python3"
  },
  "language_info": {
   "codemirror_mode": {
    "name": "ipython",
    "version": 3
   },
   "file_extension": ".py",
   "mimetype": "text/x-python",
   "name": "python",
   "nbconvert_exporter": "python",
   "pygments_lexer": "ipython3",
   "version": "3.6.5"
  }
 },
 "nbformat": 4,
 "nbformat_minor": 2
}
