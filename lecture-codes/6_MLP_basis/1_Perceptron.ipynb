{
 "cells": [
  {
   "cell_type": "markdown",
   "metadata": {},
   "source": [
    " ╔══<i><b>Alai-DeepLearning</b></i>════════════════════════════╗\n",
    "###  &nbsp;&nbsp; **✎&nbsp;&nbsp;Week 6. MLP Basis**\n",
    "# Section 1. Perceptron\n",
    "\n",
    "### _Objective_\n",
    "1. 인공신경망의 기본이 되는 퍼셉트론의 구조에 대해 알아보도록 하겠습니다. <br>\n",
    "2. 핵심 난제였던 XOR 문제에 대해 배워보도록 하겠습니다. <br>\n",
    "  \n",
    "╚═════════════════════════════════════════╝"
   ]
  },
  {
   "cell_type": "code",
   "execution_count": 3,
   "metadata": {},
   "outputs": [],
   "source": [
    "%matplotlib inline\n",
    "import numpy as np\n",
    "import matplotlib.pyplot as plt"
   ]
  },
  {
   "cell_type": "markdown",
   "metadata": {},
   "source": [
    "<br><br>\n",
    "\n",
    "# \\[ 1. 퍼셉트론이란? \\]\n",
    "\n",
    "----\n",
    "\n",
    "----\n",
    "\n",
    "> *퍼셉트론은 신경계 내 뉴런을 모방하여, 수학적으로 정의한 모델입니다.*<br>"
   ]
  },
  {
   "cell_type": "markdown",
   "metadata": {},
   "source": [
    "## 1. 생물학적 뉴런의 모습\n",
    "---\n",
    "* 동물의 대뇌 피질은 뉴런으로 구성되어 있습니다.\n",
    "\n",
    "![](https://upload.wikimedia.org/wikipedia/commons/thumb/b/b5/Neuron.svg/1920px-Neuron.svg.png)\n",
    "\n",
    "* 수상돌기(dentrite) : 신호를 받아들이는 부분\n",
    "* 세포체(Nucueus) : 신호를 받아 다음 신호의 출력을 결정하는 부분\n",
    "* 축색돌기(Axon Terminal) : 출력 신호를 전달하는 부분\n",
    "\n",
    "---\n",
    "* 개개의 생물학적 뉴런은 아주 단순하게 동작하지만, 두뇌는 이러한 생물학적 뉴런이 수십억개가 모여 구성되어 있습니다.\n",
    "\n",
    "* 과학자들은 이러한 뉴런처럼, 단순한 Neuron으로 네트워크를 구성하면, 기능을 수행할 수 있지 않을까라는 가설로 Neural Network의 연구가 시작되었습니다."
   ]
  },
  {
   "cell_type": "markdown",
   "metadata": {},
   "source": [
    "## 2. 퍼셉트론\n",
    "---\n",
    "* 퍼셉트론은 뉴런의 형태를 수학적으로 단순화한 모델입니다.\n",
    "* 퍼셉트론은 다수의 신호를 입력받아 하나의 신호로 출력합니다.\n",
    "\n",
    "$$\n",
    "y = \\begin{cases}\n",
    "0, & (w_1x_1+w_2x_2\\le \\theta) \\\\\n",
    "1, & (w_1x_1+w_2x_2> \\theta)\n",
    "\\end{cases}\n",
    "$$"
   ]
  },
  {
   "cell_type": "markdown",
   "metadata": {},
   "source": [
    "### (1) 임의의 퍼셉트론 만들기\n",
    "\n",
    "* 가중치가 아래인 퍼셉트론이 존재한다고 해 봅시다. "
   ]
  },
  {
   "cell_type": "code",
   "execution_count": 40,
   "metadata": {},
   "outputs": [],
   "source": [
    "def perceptron(x1,x2):\n",
    "    w1, w2, theta = 0.5, -0.1, 0.2\n",
    "    if w1*x1 + w2*x2 <= theta:\n",
    "        return 0\n",
    "    else:\n",
    "        return 1"
   ]
  },
  {
   "cell_type": "code",
   "execution_count": 41,
   "metadata": {},
   "outputs": [],
   "source": [
    "# [0,0.01,0.02,...,1]의 grid point 만들기\n",
    "x1s, x2s = np.mgrid[0:1:0.01,\n",
    "                    0:1:0.01]\n",
    "x1s = x1s.flatten()\n",
    "x2s = x2s.flatten()\n",
    "\n",
    "outs = []\n",
    "for x1,x2 in zip(x1s, x2s):\n",
    "    # 각 grid 별로 perceptron 결과 출력\n",
    "    out = perceptron(x1,x2)\n",
    "    outs.append(out)"
   ]
  },
  {
   "cell_type": "code",
   "execution_count": 42,
   "metadata": {},
   "outputs": [
    {
     "data": {
      "image/png": "[encoded data removed]",
      "text/plain": [
       "<Figure size 360x360 with 1 Axes>"
      ]
     },
     "metadata": {},
     "output_type": "display_data"
    }
   ],
   "source": [
    "plt.figure(figsize=(5,5))\n",
    "plt.title(\"(w1,w2,theta)=(0.5,-0.1,0.2)\")\n",
    "plt.scatter(x1s,x2s,c=outs)\n",
    "plt.xlim(0,1)\n",
    "plt.ylim(0,1)\n",
    "plt.show()"
   ]
  },
  {
   "cell_type": "markdown",
   "metadata": {},
   "source": [
    "* 퍼셉트론의 weight들의 조합에 따라, 양분하는 선이 다르게 그어집니다."
   ]
  },
  {
   "cell_type": "code",
   "execution_count": 52,
   "metadata": {},
   "outputs": [],
   "source": [
    "def perceptron(x1,x2):\n",
    "    w1, w2, theta = -0.2, 0.5, 0.1\n",
    "    if w1*x1 + w2*x2 <= theta:\n",
    "        return 0\n",
    "    else:\n",
    "        return 1"
   ]
  },
  {
   "cell_type": "code",
   "execution_count": 53,
   "metadata": {},
   "outputs": [],
   "source": [
    "# [0,0.01,0.02,...,1]의 grid point 만들기\n",
    "x1s, x2s = np.mgrid[0:1:0.01,\n",
    "                    0:1:0.01]\n",
    "x1s = x1s.flatten()\n",
    "x2s = x2s.flatten()\n",
    "\n",
    "outs = []\n",
    "for x1,x2 in zip(x1s, x2s):\n",
    "    # 각 grid 별로 perceptron 결과 출력\n",
    "    out = perceptron(x1,x2)\n",
    "    outs.append(out)"
   ]
  },
  {
   "cell_type": "code",
   "execution_count": 54,
   "metadata": {},
   "outputs": [
    {
     "data": {
      "image/png": "[encoded data removed]",
      "text/plain": [
       "<Figure size 360x360 with 1 Axes>"
      ]
     },
     "metadata": {},
     "output_type": "display_data"
    }
   ],
   "source": [
    "plt.figure(figsize=(5,5))\n",
    "plt.title(\"(w1,w2,theta)=(0.5,-0.1,0.2)\")\n",
    "plt.scatter(x1s,x2s,c=outs)\n",
    "plt.xlim(0,1)\n",
    "plt.ylim(0,1)\n",
    "plt.show()"
   ]
  },
  {
   "cell_type": "markdown",
   "metadata": {},
   "source": [
    "* 퍼셉트론은 X1,X2 평면 위에 무수히 많은 Decision Boundary를 만들 수 있습니다."
   ]
  },
  {
   "cell_type": "markdown",
   "metadata": {},
   "source": [
    "## 3. 퍼셉트론으로 논리회로 구현하기\n",
    "---\n",
    "\n",
    "* 퍼셉트론 연구에서 가장 먼저 시도했던 것은 바로, 논리 회로 구현입니다.<br>\n",
    "* 논리 회로는 컴퓨터의 가장 기본이 되는 것으로, AND, OR, NOT 등의 연산으로 이루어져 있습니다."
   ]
  },
  {
   "cell_type": "markdown",
   "metadata": {},
   "source": [
    "### (1) AND Gate 만들기\n",
    "\n",
    "AND gate는 아래와 같이 동작합니다.\n",
    "\n",
    "|x1|x2|y|\n",
    "|---|---|---|\n",
    "|0|0|0|\n",
    "|0|1|0|\n",
    "|1|0|0|\n",
    "|1|1|1|\n"
   ]
  },
  {
   "cell_type": "code",
   "execution_count": 76,
   "metadata": {},
   "outputs": [],
   "source": [
    "def AND_gate(x1, x2):\n",
    "    w1, w2, theta = 0.5,0.5,0.6\n",
    "    if w1*x1 + w2*x2 <= theta:\n",
    "        return 0\n",
    "    else:\n",
    "        return 1"
   ]
  },
  {
   "cell_type": "code",
   "execution_count": 77,
   "metadata": {},
   "outputs": [
    {
     "name": "stdout",
     "output_type": "stream",
     "text": [
      "AND(0,0) -> 0\n",
      "AND(0,1) -> 0\n",
      "AND(1,0) -> 0\n",
      "AND(1,1) -> 1\n"
     ]
    }
   ],
   "source": [
    "print(\"AND(0,0) -> {}\".format(AND_gate(0,0)))\n",
    "print(\"AND(0,1) -> {}\".format(AND_gate(0,1)))\n",
    "print(\"AND(1,0) -> {}\".format(AND_gate(1,0)))\n",
    "print(\"AND(1,1) -> {}\".format(AND_gate(1,1)))"
   ]
  },
  {
   "cell_type": "code",
   "execution_count": 80,
   "metadata": {},
   "outputs": [
    {
     "data": {
      "image/png": "[encoded data removed]",
      "text/plain": [
       "<Figure size 360x360 with 1 Axes>"
      ]
     },
     "metadata": {},
     "output_type": "display_data"
    }
   ],
   "source": [
    "# AND Gate 시각화하기\n",
    "\n",
    "# [0,0.01,0.02,...,1]의 grid point 만들기\n",
    "x1s, x2s = np.mgrid[0:1:0.01,\n",
    "                    0:1:0.01]\n",
    "x1s = x1s.flatten()\n",
    "x2s = x2s.flatten()\n",
    "\n",
    "outs = []\n",
    "for x1,x2 in zip(x1s, x2s):\n",
    "    # 각 grid 별로 perceptron 결과 출력\n",
    "    out = AND_gate(x1,x2)\n",
    "    outs.append(out)\n",
    "    \n",
    "plt.figure(figsize=(5,5))\n",
    "plt.title(\"AND GATE\")\n",
    "plt.scatter(x1s,x2s,c=outs)\n",
    "plt.xlim(0,1)\n",
    "plt.ylim(0,1)\n",
    "plt.show()"
   ]
  },
  {
   "cell_type": "markdown",
   "metadata": {},
   "source": [
    "### (2) OR Gate 만들기\n",
    "\n",
    "OR Gate는 아래와 같이 동작합니다.\n",
    "\n",
    "|x1|x2|y|\n",
    "|---|---|---|\n",
    "|0|0|0|\n",
    "|0|1|1|\n",
    "|1|0|1|\n",
    "|1|1|1|\n"
   ]
  },
  {
   "cell_type": "code",
   "execution_count": 89,
   "metadata": {},
   "outputs": [],
   "source": [
    "def OR_gate(x1, x2):\n",
    "    w1, w2, theta = 0.5,0.5,0.3\n",
    "    if w1*x1 + w2*x2 <= theta:\n",
    "        return 0\n",
    "    else:\n",
    "        return 1"
   ]
  },
  {
   "cell_type": "code",
   "execution_count": 90,
   "metadata": {},
   "outputs": [
    {
     "name": "stdout",
     "output_type": "stream",
     "text": [
      "OR(0,0) -> 0\n",
      "OR(0,1) -> 1\n",
      "OR(1,0) -> 1\n",
      "OR(1,1) -> 1\n"
     ]
    }
   ],
   "source": [
    "print(\"OR(0,0) -> {}\".format(OR_gate(0,0)))\n",
    "print(\"OR(0,1) -> {}\".format(OR_gate(0,1)))\n",
    "print(\"OR(1,0) -> {}\".format(OR_gate(1,0)))\n",
    "print(\"OR(1,1) -> {}\".format(OR_gate(1,1)))"
   ]
  },
  {
   "cell_type": "code",
   "execution_count": 91,
   "metadata": {},
   "outputs": [
    {
     "data": {
      "image/png": "[encoded data removed]",
      "text/plain": [
       "<Figure size 360x360 with 1 Axes>"
      ]
     },
     "metadata": {},
     "output_type": "display_data"
    }
   ],
   "source": [
    "# OR Gate 시각화하기\n",
    "\n",
    "# [0,0.01,0.02,...,1]의 grid point 만들기\n",
    "x1s, x2s = np.mgrid[0:1:0.01,\n",
    "                    0:1:0.01]\n",
    "x1s = x1s.flatten()\n",
    "x2s = x2s.flatten()\n",
    "\n",
    "outs = []\n",
    "for x1,x2 in zip(x1s, x2s):\n",
    "    # 각 grid 별로 perceptron 결과 출력\n",
    "    out = OR_gate(x1,x2)\n",
    "    outs.append(out)\n",
    "    \n",
    "plt.figure(figsize=(5,5))\n",
    "plt.title(\"OR GATE\")\n",
    "plt.scatter(x1s,x2s,c=outs)\n",
    "plt.xlim(0,1)\n",
    "plt.ylim(0,1)\n",
    "plt.show()"
   ]
  },
  {
   "cell_type": "markdown",
   "metadata": {},
   "source": [
    "### (3) NAND Gate 만들기\n",
    "\n",
    "NAND는 아래와 같이 동작합니다.\n",
    "\n",
    "|x1|x2|y|\n",
    "|---|---|---|\n",
    "|0|0|1|\n",
    "|0|1|1|\n",
    "|1|0|1|\n",
    "|1|1|0|\n"
   ]
  },
  {
   "cell_type": "code",
   "execution_count": 95,
   "metadata": {},
   "outputs": [],
   "source": [
    "def NAND_gate(x1, x2):\n",
    "    w1, w2, theta = -0.5,-0.5,-0.7\n",
    "    if w1*x1 + w2*x2 <= theta:\n",
    "        return 0\n",
    "    else:\n",
    "        return 1"
   ]
  },
  {
   "cell_type": "code",
   "execution_count": 96,
   "metadata": {},
   "outputs": [
    {
     "name": "stdout",
     "output_type": "stream",
     "text": [
      "NAND(0,0) -> 1\n",
      "NAND(0,1) -> 1\n",
      "NAND(1,0) -> 1\n",
      "NAND(1,1) -> 0\n"
     ]
    }
   ],
   "source": [
    "print(\"NAND(0,0) -> {}\".format(NAND_gate(0,0)))\n",
    "print(\"NAND(0,1) -> {}\".format(NAND_gate(0,1)))\n",
    "print(\"NAND(1,0) -> {}\".format(NAND_gate(1,0)))\n",
    "print(\"NAND(1,1) -> {}\".format(NAND_gate(1,1)))"
   ]
  },
  {
   "cell_type": "code",
   "execution_count": 98,
   "metadata": {},
   "outputs": [
    {
     "data": {
      "image/png": "[encoded data removed]",
      "text/plain": [
       "<Figure size 360x360 with 1 Axes>"
      ]
     },
     "metadata": {},
     "output_type": "display_data"
    }
   ],
   "source": [
    "# OR Gate 시각화하기\n",
    "\n",
    "# [0,0.01,0.02,...,1]의 grid point 만들기\n",
    "x1s, x2s = np.mgrid[0:1:0.01,\n",
    "                    0:1:0.01]\n",
    "x1s = x1s.flatten()\n",
    "x2s = x2s.flatten()\n",
    "\n",
    "outs = []\n",
    "for x1,x2 in zip(x1s, x2s):\n",
    "    # 각 grid 별로 perceptron 결과 출력\n",
    "    out = NAND_gate(x1,x2)\n",
    "    outs.append(out)\n",
    "    \n",
    "plt.figure(figsize=(5,5))\n",
    "plt.title(\"NAND GATE\")\n",
    "plt.scatter(x1s,x2s,c=outs)\n",
    "plt.xlim(0,1)\n",
    "plt.ylim(0,1)\n",
    "plt.show()"
   ]
  },
  {
   "cell_type": "markdown",
   "metadata": {},
   "source": [
    "### (3) XOR Gate 만들기\n",
    "XOR은 아래와 같이 동작합니다.\n",
    "\n",
    "|x1|x2|y|\n",
    "|---|---|---|\n",
    "|0|0|0|\n",
    "|0|1|1|\n",
    "|1|0|1|\n",
    "|1|1|0|"
   ]
  },
  {
   "cell_type": "markdown",
   "metadata": {},
   "source": [
    "XOR 문제의 핵심은 **단일한 직선**으로 양분할 수 없다는 점에 있습니다."
   ]
  },
  {
   "cell_type": "markdown",
   "metadata": {},
   "source": [
    "![Imgur](https://i.imgur.com/ClTEi41.png)"
   ]
  },
  {
   "cell_type": "markdown",
   "metadata": {},
   "source": [
    "> 한 개의 직선으로 붉은 점과 검은점을 나눌 수 있을까요? 불가능합니다.<br>\n",
    "단일한 퍼셉트론으로는 할 수 없는 문제입니다."
   ]
  },
  {
   "cell_type": "markdown",
   "metadata": {},
   "source": [
    "## 3. 다층 퍼셉트론\n",
    "---\n",
    "* 위의 퍼셉트론으로는 해결할 수 없었던 XOR문제는 다층 퍼셉트론으로 해결할 수 있습니다."
   ]
  },
  {
   "cell_type": "markdown",
   "metadata": {},
   "source": [
    "### (1) XOR 게이트의 구조\n",
    "\n",
    "\n",
    "\n",
    "실제로 논리 연산을 구현할 때, XOR 게이트는 단일한 게이트로 이루어져 있지 않고,<br>\n",
    "AND, OR, NAND gate의 집합으로 이루어져 있습니다.\n",
    "\n",
    "![](https://upload.wikimedia.org/wikipedia/commons/a/a2/254px_3gate_XOR.jpg)\n",
    "\n",
    "|x1|x2|s1|s2|y|\n",
    "|---|---|---|---|---|\n",
    "|0|0|1|0|0|\n",
    "|1|0|1|1|1|\n",
    "|0|1|1|1|1|\n",
    "|1|1|0|1|0|"
   ]
  },
  {
   "cell_type": "code",
   "execution_count": 99,
   "metadata": {},
   "outputs": [],
   "source": [
    "def XOR_gate(x1,x2):\n",
    "    s1 = NAND_gate(x1,x2)\n",
    "    s2 = OR_gate(x1,x2)\n",
    "    y = AND_gate(s1,s2)\n",
    "    return y"
   ]
  },
  {
   "cell_type": "code",
   "execution_count": 101,
   "metadata": {},
   "outputs": [
    {
     "name": "stdout",
     "output_type": "stream",
     "text": [
      "XOR(0,0) -> 0\n",
      "XOR(0,1) -> 1\n",
      "XOR(1,0) -> 1\n",
      "XOR(1,1) -> 0\n"
     ]
    }
   ],
   "source": [
    "print(\"XOR(0,0) -> {}\".format(XOR_gate(0,0)))\n",
    "print(\"XOR(0,1) -> {}\".format(XOR_gate(0,1)))\n",
    "print(\"XOR(1,0) -> {}\".format(XOR_gate(1,0)))\n",
    "print(\"XOR(1,1) -> {}\".format(XOR_gate(1,1)))"
   ]
  },
  {
   "cell_type": "code",
   "execution_count": 102,
   "metadata": {},
   "outputs": [
    {
     "data": {
      "image/png": "[encoded data removed]",
      "text/plain": [
       "<Figure size 360x360 with 1 Axes>"
      ]
     },
     "metadata": {},
     "output_type": "display_data"
    }
   ],
   "source": [
    "# XOR Gate 시각화하기\n",
    "\n",
    "# [0,0.01,0.02,...,1]의 grid point 만들기\n",
    "x1s, x2s = np.mgrid[0:1:0.01,\n",
    "                    0:1:0.01]\n",
    "x1s = x1s.flatten()\n",
    "x2s = x2s.flatten()\n",
    "\n",
    "outs = []\n",
    "for x1,x2 in zip(x1s, x2s):\n",
    "    # 각 grid 별로 perceptron 결과 출력\n",
    "    out = XOR_gate(x1,x2)\n",
    "    outs.append(out)\n",
    "    \n",
    "plt.figure(figsize=(5,5))\n",
    "plt.title(\"XOR GATE\")\n",
    "plt.scatter(x1s,x2s,c=outs)\n",
    "plt.xlim(0,1)\n",
    "plt.ylim(0,1)\n",
    "plt.show()"
   ]
  },
  {
   "cell_type": "markdown",
   "metadata": {},
   "source": [
    "<br><br>\n",
    "\n",
    "# \\[ 2. MLP(Multi Layer Perceptron)이란? \\]\n",
    "\n",
    "----\n",
    "\n",
    "----\n",
    "\n",
    "> *MLP란, 위의 XOR 문제에서 해결한 모델과 같이, 여러 Perceptron이 Layer를 형성해, 연결되어 있는 구조를 의미합니다.*<br>"
   ]
  },
  {
   "cell_type": "markdown",
   "metadata": {},
   "source": [
    "<br> \n",
    "## 1. MLP와 DNN의 관계\n",
    "---\n",
    "\n",
    "![Imgur](https://i.imgur.com/qRf0a3W.jpg)\n",
    "\n",
    "* 일반적으로 MLP는 은닉층이 하나인 Neural Network를 의미하고, <br>\n",
    "  DNN은 은닉층이 깊게 쌓여있는 Neural Network을 의미합니다."
   ]
  },
  {
   "cell_type": "markdown",
   "metadata": {},
   "source": [
    "<br> \n",
    "## 2. 퍼셉트론을 기호로 나타내기\n",
    "---\n",
    "\n",
    "![Imgur](https://i.imgur.com/S29XQaW.png)\n",
    "\n",
    "* 퍼셉트론을 위와 같이 기호로 나타낼 수 있습니다. <br>\n",
    "* 수식으로 풀어내면 아래와 같습니다.<br>\n",
    "$\n",
    "z = b + w_1x_1 + w_2x_2 \\\\\n",
    "y = h(z)\n",
    "$"
   ]
  },
  {
   "cell_type": "markdown",
   "metadata": {},
   "source": [
    "### (1) 가중치 `weight`\n",
    "\n",
    "$w_1$과 $w_2$는 각 신호의 가중치를 나타내는 매개변수로, 각 신호의 영향력을 제어합니다."
   ]
  },
  {
   "cell_type": "markdown",
   "metadata": {},
   "source": [
    "### (2) 편향, `bias`\n",
    "\n",
    "$b$는 해당 퍼셉트론이 얼마나 쉽게 활성화되느냐를 제어합니다."
   ]
  },
  {
   "cell_type": "markdown",
   "metadata": {},
   "source": [
    "### (3) 활성화함수, Activation Function\n",
    "$h(a)$는 활성화 함수로, 입력 신호의 총합을 출력 신호로 변환하는 함수를 의미합니다.<br>\n",
    "위의 퍼셉트론에서 구성된 활성화 함수는 아래와 같습니다."
   ]
  },
  {
   "cell_type": "code",
   "execution_count": 12,
   "metadata": {},
   "outputs": [
    {
     "data": {
      "image/png": "[encoded data removed]",
      "text/plain": [
       "<Figure size 432x288 with 1 Axes>"
      ]
     },
     "metadata": {},
     "output_type": "display_data"
    }
   ],
   "source": [
    "def step_func(x):\n",
    "    return np.array(x > 0, dtype=np.int)\n",
    "\n",
    "x = np.linspace(-1.0,1.0,101)\n",
    "y = step_func(x)\n",
    "\n",
    "plt.title(\"step Function\")\n",
    "plt.plot(x,y)\n",
    "plt.show()"
   ]
  },
  {
   "cell_type": "markdown",
   "metadata": {},
   "source": [
    "로지스틱 회귀분석에서 이용했던 Logistic function도 일종의 활성화함수입니다."
   ]
  },
  {
   "cell_type": "code",
   "execution_count": 14,
   "metadata": {},
   "outputs": [
    {
     "data": {
      "image/png": "[encoded data removed]",
      "text/plain": [
       "<Figure size 432x288 with 1 Axes>"
      ]
     },
     "metadata": {},
     "output_type": "display_data"
    }
   ],
   "source": [
    "def logistic_func(x):\n",
    "    return 1/(1+np.exp(-x))\n",
    "\n",
    "x = np.linspace(-20.0,20.0,101)\n",
    "y = logistic_func(x)\n",
    "\n",
    "plt.title(\"Logtistic Function\")\n",
    "plt.plot(x,y)\n",
    "plt.show()"
   ]
  },
  {
   "cell_type": "markdown",
   "metadata": {},
   "source": [
    "### (4) 비선형 함수의 이점"
   ]
  },
  {
   "cell_type": "markdown",
   "metadata": {},
   "source": [
    "우리는 활성화 함수를 통해, 퍼셉트론의 출력값을 제한합니다.<br>\n",
    "Step Function과 Logistic Function은 출력값을 제한하는 것 외에도, <br>\n",
    "**비선형 함수**라는 공통점이 있습니다. 신경망에서는 활성화 함수로 비선형 함수가 필수입니다.<br>\n",
    "\n",
    "왜냐하면, 선형 함수로는 층을 깊게 쌓을 수 없기 때문입니다."
   ]
  },
  {
   "cell_type": "code",
   "execution_count": 23,
   "metadata": {},
   "outputs": [
    {
     "data": {
      "image/png": "[encoded data removed]",
      "text/plain": [
       "<Figure size 432x288 with 1 Axes>"
      ]
     },
     "metadata": {},
     "output_type": "display_data"
    }
   ],
   "source": [
    "def linear_func(x):\n",
    "    W = 2\n",
    "    B = 3\n",
    "    return x*W + B\n",
    "\n",
    "x = np.linspace(-20.0,20.0,101)\n",
    "ff_x = linear_func(linear_func(x))\n",
    "g_x = x*4 + 9\n",
    "\n",
    "plt.title(\"linear Function\")\n",
    "plt.plot(x,ff_x,\"b-\")\n",
    "plt.plot(x,g_x,\"r--\")\n",
    "plt.legend(['two layers','one layer'])\n",
    "plt.show()"
   ]
  },
  {
   "cell_type": "markdown",
   "metadata": {},
   "source": [
    "층을 깊게 쌓으려고 해도, 아래와 같이 결국 하나의 층이 있는 것과<br>\n",
    "동일해지기 때문입니다.\n",
    "\n",
    "$\n",
    "f(x) = 2x+3 \\\\\n",
    "g(x) = f(f(x)) \\\\\n",
    "\\ \\ \\ \\ = 2(2x+3)+3 \\\\\n",
    "\\ \\ \\ \\ = 4x + 9\n",
    "$"
   ]
  },
  {
   "cell_type": "markdown",
   "metadata": {},
   "source": [
    "비선형 함수는 위와 같이 선형 조합으로 풀 수 없기 때문에<br>\n",
    "층을 쌓으면, 한층으로 해결할 수 없는 모형을 만들 수 있습니다.<br>\n",
    "\n",
    "이는 한층으로는 XOR 문제를 풀지 못하다가, 2층으로 XOR 문제를 풀 수 있다는 사실을<br>\n",
    "떠올리면 됩니다."
   ]
  },
  {
   "cell_type": "markdown",
   "metadata": {},
   "source": [
    "#  \n",
    "\n",
    "---\n",
    "\n",
    "    Copyright(c) 2019 by Public AI. All rights reserved.<br>\n",
    "    Writen by PAI, SangJae Kang ( rocketgrowthsj@publicai.co.kr )  last updated on 2019/03/29\n",
    "\n",
    "---"
   ]
  }
 ],
 "metadata": {
  "kernelspec": {
   "display_name": "Python 3",
   "language": "python",
   "name": "python3"
  },
  "language_info": {
   "codemirror_mode": {
    "name": "ipython",
    "version": 3
   },
   "file_extension": ".py",
   "mimetype": "text/x-python",
   "name": "python",
   "nbconvert_exporter": "python",
   "pygments_lexer": "ipython3",
   "version": "3.6.5"
  }
 },
 "nbformat": 4,
 "nbformat_minor": 2
}
