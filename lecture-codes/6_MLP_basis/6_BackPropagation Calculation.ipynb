{
 "cells": [
  {
   "cell_type": "markdown",
   "metadata": {},
   "source": [
    " ╔══<i><b>Alai-DeepLearning</b></i>════════════════════════════╗\n",
    "###  &nbsp;&nbsp; **✎&nbsp;&nbsp;Week 6. MLP Basis**\n",
    "# Section 6. BackPropagation Calculation\n",
    "\n",
    "### _Objective_\n",
    "1. 오차역전파법을 계산하는 방법 중 하나인 Computational Graph(계산 그래프)로 BackPropagation을 배워보도록 하겠습니다. <br>\n",
    "  \n",
    "╚═════════════════════════════════════════╝"
   ]
  },
  {
   "cell_type": "code",
   "execution_count": 4,
   "metadata": {},
   "outputs": [],
   "source": [
    "%matplotlib inline\n",
    "\n",
    "import numpy as np\n",
    "import pandas as pd\n",
    "\n",
    "import matplotlib.pyplot as plt"
   ]
  },
  {
   "cell_type": "markdown",
   "metadata": {},
   "source": [
    "<br><br>\n",
    "\n",
    "# \\[ 1. 계산그래프란? \\]\n",
    "\n",
    "----\n",
    "\n",
    "----\n",
    "\n",
    "> *.**계산 그래프**란, 텐서플로우의 그래프(graph)와 같이 Node와 Edge로 수식을 정의하는 방법을 의미합니다.*"
   ]
  },
  {
   "cell_type": "markdown",
   "metadata": {},
   "source": [
    "<br>\n",
    "\n",
    "## 1. 계산그래프로 수식 정의 하기\n",
    "\n",
    "* 단순한 수식을 통해, 계산그래프를 정의하도록 하겠습니다.\n",
    "\n",
    "$$\n",
    "f(x,y,z) = (x + y)*z\n",
    "$$"
   ]
  },
  {
   "cell_type": "markdown",
   "metadata": {},
   "source": [
    "### (1) 수식을 그래프로 나타내기\n",
    "\n",
    "![Imgur](https://i.imgur.com/5BcvlA3.png)"
   ]
  },
  {
   "cell_type": "markdown",
   "metadata": {},
   "source": [
    "### (2) 계산 그래프로 순전파(FeedForward) 적용하기\n",
    "$ x=-2, y=5, z=-4 $일 때, $f(x,y,z)$의 결과를 구해주세요.\n",
    "\n",
    "![Imgur](https://i.imgur.com/tT7d1wr.png)"
   ]
  },
  {
   "cell_type": "markdown",
   "metadata": {},
   "source": [
    "위와 같이 순서 대로 하나씩 계산을 적용하면 됩니다."
   ]
  },
  {
   "cell_type": "markdown",
   "metadata": {},
   "source": [
    "<br><br>\n",
    "\n",
    "# \\[ 2. 계산 그래프로 기울기 계산하기 \\]\n",
    "\n",
    "----\n",
    "\n",
    "----\n",
    "\n",
    "> *계산 그래프로 기울기를 계산하기 위해서는 몇 가지 주요 미분 법칙을 알아야 합니다.*<br>\n",
    "> *가장 기본이 되는 수식을 위주로 파악하겠습니다.*<br>"
   ]
  },
  {
   "cell_type": "markdown",
   "metadata": {},
   "source": [
    "## 1. 연쇄 법칙\n",
    "\n",
    "---\n"
   ]
  },
  {
   "cell_type": "markdown",
   "metadata": {},
   "source": [
    "### (1) 연쇄 법칙 정의\n",
    "\n",
    "연쇄 법칙은 합성 함수의 미분에 대한 성질이며, 다음과 같이 정의됩니다.\n",
    "\n",
    "> 합성 함수의 미분은 합성 함수를 구성하는 각 함수의 미분의 곱으로 구성된다.\n",
    "\n",
    "$$\n",
    "\\frac{\\partial z}{\\partial x} = \\frac{\\partial z}{\\partial t} * \\frac{\\partial t}{\\partial x} \n",
    "$$"
   ]
  },
  {
   "cell_type": "markdown",
   "metadata": {},
   "source": [
    "### (2) 연쇄 법칙으로 수식 풀어보기\n",
    "\n",
    "$z = (x+y)^2$라는 수식을 연쇄법칙으로 풀어보도록 하겠습니다."
   ]
  },
  {
   "cell_type": "markdown",
   "metadata": {},
   "source": [
    "$$\n",
    "t = x+y \\\\\n",
    "z = t^2\n",
    "$$\n",
    "\n",
    "으로 나눌 수 있습니다."
   ]
  },
  {
   "cell_type": "markdown",
   "metadata": {},
   "source": [
    "연쇄법칙을 적용하면\n",
    "$$\n",
    "\\frac{\\partial z}{\\partial x} = \\frac{\\partial z}{\\partial t}*\\frac{\\partial t}{\\partial x}\n",
    "$$"
   ]
  },
  {
   "cell_type": "markdown",
   "metadata": {},
   "source": [
    "각각의 편미분($\\frac{\\partial z}{\\partial t}$,$\\frac{\\partial t}{\\partial x}$)은 아래와 같이 구할 수 있습니다."
   ]
  },
  {
   "cell_type": "markdown",
   "metadata": {},
   "source": [
    "$$\n",
    "\\frac{\\partial z}{\\partial t} = 2t, \\\\\n",
    "\\frac{\\partial t}{\\partial x} = 1,\n",
    "$$\n",
    "위에서 구한 편미분을 통해 우리는 아래와 같이 구할 수 있습니다.\n",
    "\n",
    "$$\n",
    "\\frac{\\partial z}{\\partial x} = \\frac{\\partial z}{\\partial t}*\\frac{\\partial t}{\\partial x} = 2t * 1 = 2(x+y)\n",
    "$$"
   ]
  },
  {
   "cell_type": "markdown",
   "metadata": {},
   "source": [
    "### (3) 계산 그래프로 수식 풀어보기\n",
    "\n",
    "![Imgur](https://i.imgur.com/C04Pzi8.png)"
   ]
  },
  {
   "cell_type": "markdown",
   "metadata": {},
   "source": [
    "연쇄법칙에 따라 하나씩 풀어 쓰면 아래와 같습니다.\n",
    "\n",
    "![Imgur](https://i.imgur.com/xfuWFnF.png)\n",
    "\n",
    "각 부분의 편미분 수식을 적용하면 아래와 같습니다.\n",
    "\n",
    "![Imgur](https://i.imgur.com/jNfHwx3.png)"
   ]
  },
  {
   "cell_type": "markdown",
   "metadata": {},
   "source": [
    "### (4) 연쇄 법칙과 역전파 \n",
    "\n",
    "연쇄 법칙을 일반화해서 계산 그래프에서 본다면, 아래와 같습니다. \n",
    "\n",
    "![Imgur](https://i.imgur.com/lotK0Ag.png)"
   ]
  },
  {
   "cell_type": "markdown",
   "metadata": {},
   "source": [
    "순차적으로 역방향으로 연쇄법칙을 먹인다면 아래와 같습니다.\n",
    "\n",
    "![Imgur](https://i.imgur.com/P8E5eYg.png)"
   ]
  },
  {
   "cell_type": "markdown",
   "metadata": {},
   "source": [
    "## 2. 덧셈/곱셈/행렬곱 역전파\n",
    "\n",
    "---\n",
    "\n"
   ]
  },
  {
   "cell_type": "markdown",
   "metadata": {},
   "source": [
    "### (1) 덧셈 노드 역전파\n",
    "\n",
    "더하기의 미분은 아래와 같습니다.\n",
    "\n",
    "$$\n",
    "z = x + y \\mbox{일 때,}\\\\\n",
    "\\frac{\\partial z}{\\partial x} = 1 \\\\\n",
    "\\frac{\\partial z}{\\partial y} = 1 \\\\\n",
    "$$"
   ]
  },
  {
   "cell_type": "markdown",
   "metadata": {},
   "source": [
    "위를 계산그래프로 표현하면 아래와 같습니다.\n",
    "\n",
    "![Imgur](https://i.imgur.com/Fxm5QF7.png)"
   ]
  },
  {
   "cell_type": "markdown",
   "metadata": {},
   "source": [
    "### (2) 곱셈 노드 역전파\n",
    "\n",
    "곱하기의 미분은 아래와 같습니다.\n",
    "\n",
    "$$\n",
    "z = x * y \\mbox{일 때,}\\\\\n",
    "\\frac{\\partial z}{\\partial x} = y \\\\\n",
    "\\frac{\\partial z}{\\partial y} = x \\\\\n",
    "$$"
   ]
  },
  {
   "cell_type": "markdown",
   "metadata": {},
   "source": [
    "위를 계산그래프로 표현하면 아래와 같습니다.\n",
    "\n",
    "![Imgur](https://i.imgur.com/lIyHMvh.png)"
   ]
  },
  {
   "cell_type": "markdown",
   "metadata": {},
   "source": [
    "### (3) 행렬곱 노드 역전파\n",
    "\n",
    "Deep Learning에서 연산의 다수를 차지하는 것은 바로 행렬곱 연산 부분입니다.<br>\n",
    "행렬곱은 $*$와 $+$로 이루어져 있습니다.\n",
    "\n",
    "행렬곱의 미분은 아래와 같습니다.\n",
    "$$\n",
    "Z = X \\cdot W \\mbox{일 때,}\\\\\n",
    "\\frac{\\partial Z}{\\partial X} = W^T \\\\\n",
    "\\frac{\\partial Z}{\\partial W} = X^T \\\\\n",
    "$$\n",
    "\n",
    "여기서 주의해야 하는 것은 전치관계입니다. 행과 열이 바뀌어야만 합니다.\n",
    "\n",
    "![Imgur](https://i.imgur.com/Rd4jCLE.png)"
   ]
  },
  {
   "cell_type": "markdown",
   "metadata": {},
   "source": [
    "## 3. 활성화 함수 역전파\n",
    "\n",
    "---\n"
   ]
  },
  {
   "cell_type": "markdown",
   "metadata": {},
   "source": [
    "### (1) Sigmoid 역전파\n",
    "\n",
    "시그모이드 함수 차례입니다. 시그모이드 함수는 아래와 같습니다.\n",
    "\n",
    "$$\n",
    "y = \\frac{1}{1+exp(-x)}\n",
    "$$\n",
    "\n",
    "계산그래프로 구성한다면 아래와 같습니다."
   ]
  },
  {
   "cell_type": "markdown",
   "metadata": {},
   "source": [
    "![Imgur](https://i.imgur.com/cfhdqNy.png)"
   ]
  },
  {
   "cell_type": "markdown",
   "metadata": {},
   "source": [
    "역전파는 아래와 같은 순서대로 진행됩니다."
   ]
  },
  {
   "cell_type": "markdown",
   "metadata": {},
   "source": [
    "#### 1 단계"
   ]
  },
  {
   "cell_type": "markdown",
   "metadata": {},
   "source": [
    "![Imgur](https://i.imgur.com/vXy8ohM.png)"
   ]
  },
  {
   "cell_type": "markdown",
   "metadata": {},
   "source": [
    "#### 2 단계"
   ]
  },
  {
   "cell_type": "markdown",
   "metadata": {},
   "source": [
    "![Imgur](https://i.imgur.com/Wp2vUeY.png)"
   ]
  },
  {
   "cell_type": "markdown",
   "metadata": {},
   "source": [
    "#### 3 단계"
   ]
  },
  {
   "cell_type": "markdown",
   "metadata": {},
   "source": [
    "![Imgur](https://i.imgur.com/4C8msYE.png)"
   ]
  },
  {
   "cell_type": "markdown",
   "metadata": {},
   "source": [
    "#### 4 단계"
   ]
  },
  {
   "cell_type": "markdown",
   "metadata": {},
   "source": [
    "![Imgur](https://i.imgur.com/EjuUNat.png)"
   ]
  },
  {
   "cell_type": "markdown",
   "metadata": {},
   "source": [
    "#### 수식 정리"
   ]
  },
  {
   "cell_type": "markdown",
   "metadata": {},
   "source": [
    "Sigmoid의 수식은 아래와 같이 정리됩니다.\n",
    "\n",
    "$$\n",
    "\\frac{\\partial L}{\\partial y} * (-y^2) * e^{(-x)} * (-1) = \\frac{\\partial L}{\\partial y} * y^2 * e^{(-x)}\\\\\n",
    "= \\frac{\\partial L}{\\partial y}\\frac{1}{(1+e^{-x})^2}*e^{(-x)}\\\\\n",
    "= \\frac{\\partial L}{\\partial y}\\frac{1}{(1+e^{-x})}*\\frac{e^{(-x)}}{1+e^{(-x)}}\\\\\n",
    "= \\frac{\\partial L}{\\partial y}\\frac{1}{(1+e^{-x})}*(1 - \\frac{1}{1+e^{(-x)}})\\\\\n",
    "= \\frac{\\partial L}{\\partial y}y(1-y)\n",
    "$$"
   ]
  },
  {
   "cell_type": "markdown",
   "metadata": {},
   "source": [
    "### (2) Relu 역전파\n",
    "\n",
    "ReLU는 앞서 몇 번 등장했는데, 활성화 함수로 현재 가장 많이 쓰이는 함수 중 하나입니다.<br>"
   ]
  },
  {
   "cell_type": "markdown",
   "metadata": {},
   "source": [
    "$$\n",
    "relu(x) = \\begin{cases}\n",
    "x, & \\mbox{if x > 0} \\\\\n",
    "0, & \\mbox{if x <= 0}\n",
    "\\end{cases}\n",
    "$$"
   ]
  },
  {
   "cell_type": "code",
   "execution_count": 9,
   "metadata": {},
   "outputs": [
    {
     "data": {
      "image/png": "[encoded data removed]",
      "text/plain": [
       "<Figure size 432x288 with 1 Axes>"
      ]
     },
     "metadata": {},
     "output_type": "display_data"
    }
   ],
   "source": [
    "relu = lambda x : np.maximum(x,0)\n",
    "xs = np.linspace(-1,1,11)\n",
    "ys = relu(xs)\n",
    "\n",
    "plt.title('RELU function')\n",
    "plt.plot(xs,ys)\n",
    "plt.show()"
   ]
  },
  {
   "cell_type": "markdown",
   "metadata": {},
   "source": [
    "$$\n",
    "\\frac{\\partial relu}{\\partial x} = \\begin{cases}\n",
    "1, & \\mbox{if x > 0} \\\\\n",
    "0, & \\mbox{if x <= 0}\n",
    "\\end{cases}\n",
    "$$\n",
    "\n",
    "계산그래프로 구성한다면 아래와 같습니다.\n",
    "\n",
    "![Imgur](https://i.imgur.com/I4eBaJT.png)"
   ]
  },
  {
   "cell_type": "markdown",
   "metadata": {},
   "source": [
    "## 4. 손실 함수 역전파\n",
    "\n",
    "---\n"
   ]
  },
  {
   "cell_type": "markdown",
   "metadata": {},
   "source": [
    "### (1) Sigmoid-with-Loss 역전파\n",
    "\n",
    "시그모이드 함수와 binary-Cross-Entropy는 일반적으로 함께 쓰입니다.<br>\n",
    "나중에 배울 텐서플로우에서도 `tf.losses.sigmoid_cross_entropy`으로 함께 <br>\n",
    "구현되어 있습니다. 이는 수학적으로도 Gradient 계산이 매우 깔끔하게 떨어지기 때문입니다.\n",
    "\n",
    "$$\n",
    "\\mbox{sigmoid 함수 : }y = \\frac{1}{1+exp(-x)} \\\\\n",
    "\\mbox{Cross Entropy 함수 : } Loss = -(y_{true}log(y_{pred}) + (1-y_{true})(log(1-y_{pred}))\n",
    "$$\n",
    "\n",
    "계산 그래프로 표현하면 아래와 같습니다.\n",
    "\n",
    "![Imgur](https://i.imgur.com/BtI1Srd.png)"
   ]
  },
  {
   "cell_type": "markdown",
   "metadata": {},
   "source": [
    "수식으로 미분과정을 계산하면 아래와 같습니다.\n",
    "\n",
    "$\n",
    "\\frac{\\partial L}{\\partial z} = \\frac{\\partial L}{\\partial a}\\frac{\\partial a}{\\partial z} \\\\\n",
    "= \\frac{\\partial}{\\partial a}\\{-ylog(a)+(1-y)log(1-a)\\}\\frac{\\partial a}{\\partial z}\\\\\n",
    "= \\{\\frac{-y}{a}+(1-y)\\frac{-1}{1-a}\\}\\frac{\\partial a}{\\partial z}\\\\\n",
    "= \\{\\frac{-(1-a)y+(1-y)a}{(1-a)a} \\}\\frac{\\partial a}{\\partial z}\\\\\n",
    "= \\frac{(a-y)}{(1-a)a}\\frac{\\partial a}{\\partial z}\\\\\n",
    "= a-y\\\\\n",
    "\\therefore \\frac{\\partial L}{\\partial z} = a-y\n",
    "$"
   ]
  },
  {
   "cell_type": "markdown",
   "metadata": {},
   "source": [
    "![Imgur](https://i.imgur.com/3no6oJi.png)"
   ]
  },
  {
   "cell_type": "markdown",
   "metadata": {},
   "source": [
    "### (1) Mean-Squared-Error 역전파\n",
    "\n",
    "Linear Regression 등 회귀 문제에서는 주로 MSE 손실함수를 많이 이용합니다.<br>\n",
    "보통 MSE를 손실함수로 이용할 때, 앞에 $\\frac{1}{2}$을 붙이는데,<br>\n",
    "이는 미분하였을 때 발생하는 2라는 상수를 상쇄시키기 위함입니다.\n",
    "\n",
    "$$\n",
    "MSE  = \\frac{1}{2}(y_{pred}-y_{true})^2\n",
    "$$\n"
   ]
  },
  {
   "cell_type": "markdown",
   "metadata": {},
   "source": [
    "미분 식은 아래와 같습니다.\n",
    "\n",
    "$\n",
    "\\frac{\\partial MSE}{\\partial y_{pred}} = {y_{pred}-y_{true}}\\\\\n",
    "$\n",
    "\n",
    "![Imgur](https://i.imgur.com/nlmliEf.png)"
   ]
  },
  {
   "cell_type": "markdown",
   "metadata": {},
   "source": [
    "#  \n",
    "\n",
    "---\n",
    "\n",
    "    Copyright(c) 2019 by Public AI. All rights reserved.<br>\n",
    "    Writen by PAI, SangJae Kang ( rocketgrowthsj@publicai.co.kr )  last updated on 2019/04/01\n",
    "\n",
    "---"
   ]
  }
 ],
 "metadata": {
  "kernelspec": {
   "display_name": "Python 3",
   "language": "python",
   "name": "python3"
  },
  "language_info": {
   "codemirror_mode": {
    "name": "ipython",
    "version": 3
   },
   "file_extension": ".py",
   "mimetype": "text/x-python",
   "name": "python",
   "nbconvert_exporter": "python",
   "pygments_lexer": "ipython3",
   "version": "3.6.5"
  }
 },
 "nbformat": 4,
 "nbformat_minor": 2
}
