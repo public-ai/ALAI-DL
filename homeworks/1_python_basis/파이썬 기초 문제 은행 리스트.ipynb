{
 "cells": [
  {
   "cell_type": "markdown",
   "metadata": {},
   "source": [
    " ╔══<i><b>Alai-DeepLearning</b></i>════════════════════════╗\n",
    "###  &nbsp;&nbsp; **✎&nbsp;&nbsp;Week 1. Python Basis**\n",
    "# Homework. 파이썬 기초 문제 은행 리스트\n",
    "\n",
    "### _Objective_\n",
    "1. 문제 은행 내 여러가지 파이썬 문제들을 풀어보면서, 파이썬 문법에 대해 친숙해지도록 합니다. <br>\n",
    "\n",
    "╚═════════════════════════════════════╝"
   ]
  },
  {
   "cell_type": "markdown",
   "metadata": {},
   "source": [
    "## 이번 주 과제 : 코딩 문제 은행 풀기\n",
    "\n",
    "이번 Homework는 코딩 관련 문제 은행 사이트인 [백준](https://www.acmicpc.net/)를 풀어보는 것을 목표로 합니다. 백준 사이트는 아래와 같은 절차로 진행됩니다."
   ]
  },
  {
   "cell_type": "markdown",
   "metadata": {},
   "source": [
    "# \\[ 예제 1. A-B \\]\n",
    "\n",
    "문제 링크 : [1001번문제](https://www.acmicpc.net/problem/1001)"
   ]
  },
  {
   "cell_type": "code",
   "execution_count": null,
   "metadata": {},
   "outputs": [],
   "source": [
    "# 정답 코드를 아래에 작성해주세요\n",
    "\n",
    "input_sentence = input() # 입력 받아오기\n",
    "A, B = input_sentence.split(\" \") # 공백으로 구분\n",
    "A = int(A) # 정수형으로 형 변환\n",
    "B = int(B) # 정수형으로 형 변환\n",
    "print(A-B) # 결과 출력"
   ]
  },
  {
   "cell_type": "markdown",
   "metadata": {},
   "source": [
    "# \\[ 문제 1. We Love Kriii \\]\n",
    "\n",
    "문제 링크 : [7287번문제](https://www.acmicpc.net/problem/10718)"
   ]
  },
  {
   "cell_type": "code",
   "execution_count": 15,
   "metadata": {},
   "outputs": [],
   "source": [
    "# 정답 코드를 아래에 작성해 주세요"
   ]
  },
  {
   "cell_type": "markdown",
   "metadata": {},
   "source": [
    "# \\[ 문제 2. 사칙연산 \\]\n",
    "\n",
    "문제 링크 : [10869번문제](https://www.acmicpc.net/problem/10869)"
   ]
  },
  {
   "cell_type": "code",
   "execution_count": 16,
   "metadata": {},
   "outputs": [],
   "source": [
    "# 정답 코드를 아래에 작성해 주세요"
   ]
  },
  {
   "cell_type": "markdown",
   "metadata": {},
   "source": [
    "# \\[ 문제 3. 구구단 \\]\n",
    "\n",
    "문제 링크 : [2739번문제](https://www.acmicpc.net/problem/2739)"
   ]
  },
  {
   "cell_type": "code",
   "execution_count": 17,
   "metadata": {},
   "outputs": [],
   "source": [
    "# 정답 코드를 아래에 작성해 주세요"
   ]
  },
  {
   "cell_type": "markdown",
   "metadata": {},
   "source": [
    "# \\[ 문제 4. 단어의 개수 \\]\n",
    "\n",
    "문제 링크 : [1152번문제](https://www.acmicpc.net/problem/1152)"
   ]
  },
  {
   "cell_type": "code",
   "execution_count": 25,
   "metadata": {},
   "outputs": [],
   "source": [
    "# 정답 코드를 아래에 작성해 주세요"
   ]
  },
  {
   "cell_type": "markdown",
   "metadata": {},
   "source": [
    "# \\[ 문제 5. OX 퀴즈 \\]\n",
    "\n",
    "문제 링크 : [8958번문제](https://www.acmicpc.net/problem/8958)"
   ]
  },
  {
   "cell_type": "code",
   "execution_count": null,
   "metadata": {},
   "outputs": [],
   "source": [
    "# 정답 코드를 아래에 작성해 주세요"
   ]
  },
  {
   "cell_type": "markdown",
   "metadata": {},
   "source": [
    "# \\[ 문제 6. 소수찾기 \\]\n",
    "\n",
    "문제 링크 : [7287번문제](https://www.acmicpc.net/problem/7287)"
   ]
  },
  {
   "cell_type": "code",
   "execution_count": 26,
   "metadata": {},
   "outputs": [],
   "source": [
    "# 정답 코드를 아래에 작성해 주세요"
   ]
  },
  {
   "cell_type": "markdown",
   "metadata": {},
   "source": [
    "# \\[ 문제 7. 2007년 \\]\n",
    "\n",
    "문제 링크 : [1924번문제](https://www.acmicpc.net/problem/1924)"
   ]
  },
  {
   "cell_type": "code",
   "execution_count": 19,
   "metadata": {},
   "outputs": [],
   "source": [
    "# 정답 코드를 아래에 작성해 주세요"
   ]
  },
  {
   "cell_type": "markdown",
   "metadata": {},
   "source": [
    "# \\[ 문제 8. X보다 작은 수 \\]\n",
    "\n",
    "문제 링크 : [10871번문제](https://www.acmicpc.net/problem/10871)"
   ]
  },
  {
   "cell_type": "code",
   "execution_count": 20,
   "metadata": {},
   "outputs": [],
   "source": [
    "# 정답 코드를 아래에 작성해 주세요"
   ]
  },
  {
   "cell_type": "markdown",
   "metadata": {},
   "source": [
    "# \\[ 문제 9. 소트인사이드 \\]\n",
    "\n",
    "문제 링크 : [1427번문제](https://www.acmicpc.net/problem/1427)"
   ]
  },
  {
   "cell_type": "code",
   "execution_count": null,
   "metadata": {},
   "outputs": [],
   "source": [
    "# 정답 코드를 아래에 작성해 주세요"
   ]
  },
  {
   "cell_type": "markdown",
   "metadata": {},
   "source": [
    "# \\[ 문제 10. 한수 \\]\n",
    "\n",
    "문제 링크 : [1065번문제](https://www.acmicpc.net/problem/1065)"
   ]
  },
  {
   "cell_type": "code",
   "execution_count": null,
   "metadata": {},
   "outputs": [],
   "source": [
    "# 정답 코드를 아래에 작성해 주세요"
   ]
  }
 ],
 "metadata": {
  "kernelspec": {
   "display_name": "Python 3",
   "language": "python",
   "name": "python3"
  },
  "language_info": {
   "codemirror_mode": {
    "name": "ipython",
    "version": 3
   },
   "file_extension": ".py",
   "mimetype": "text/x-python",
   "name": "python",
   "nbconvert_exporter": "python",
   "pygments_lexer": "ipython3",
   "version": "3.6.5"
  }
 },
 "nbformat": 4,
 "nbformat_minor": 2
}
